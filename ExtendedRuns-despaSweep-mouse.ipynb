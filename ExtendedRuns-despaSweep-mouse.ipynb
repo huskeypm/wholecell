{
 "metadata": {
  "name": "",
  "signature": "sha256:16af772db750fb57b0f8c7b4d41cc58b7029ef8cce1a0adbcef961d748126a10"
 },
 "nbformat": 3,
 "nbformat_minor": 0,
 "worksheets": [
  {
   "cells": [
    {
     "cell_type": "code",
     "collapsed": false,
     "input": [
      "%load_ext autoreload\n",
      "%autoreload 2"
     ],
     "language": "python",
     "metadata": {},
     "outputs": [],
     "prompt_number": 3
    },
    {
     "cell_type": "markdown",
     "metadata": {},
     "source": [
      "## Extended runs \n",
      "Here we will 'daisy-chain' the simulations "
     ]
    },
    {
     "cell_type": "code",
     "collapsed": false,
     "input": [
      "import gotranJIT\n",
      "from gotran.model.loadmodel import load_ode"
     ],
     "language": "python",
     "metadata": {},
     "outputs": [],
     "prompt_number": 4
    },
    {
     "cell_type": "markdown",
     "metadata": {},
     "source": [
      "#### Print all states/values"
     ]
    },
    {
     "cell_type": "code",
     "collapsed": false,
     "input": [
      "import gotranUtil as gU\n",
      "gU.PrintStates()\n",
      "gU.PrintParams()"
     ],
     "language": "python",
     "metadata": {},
     "outputs": [
      {
       "output_type": "stream",
       "stream": "stdout",
       "text": [
        "Loaded ODE model 'shannon_2004' with:\n"
       ]
      },
      {
       "output_type": "stream",
       "stream": "stderr",
       "text": [
        "INFO:ModelParameters:Loaded ODE model 'shannon_2004' with:\n"
       ]
      },
      {
       "output_type": "stream",
       "stream": "stdout",
       "text": [
        "     Num full states: 39\n"
       ]
      },
      {
       "output_type": "stream",
       "stream": "stderr",
       "text": [
        "INFO:ModelParameters:     Num full states: 39\n"
       ]
      },
      {
       "output_type": "stream",
       "stream": "stdout",
       "text": [
        "      Num parameters: 124\n"
       ]
      },
      {
       "output_type": "stream",
       "stream": "stderr",
       "text": [
        "INFO:ModelParameters:      Num parameters: 124\n"
       ]
      },
      {
       "output_type": "stream",
       "stream": "stdout",
       "text": [
        "h 0.9867005\n",
        "j 0.991562\n",
        "m 0.001405627\n",
        "Xr 0.008641386\n",
        "Xs 0.005412034\n",
        "X_tos 0.004051574\n",
        "Y_tos 0.9945511\n",
        "R_tos 0.9946\n",
        "X_tof 0.004051574\n",
        "Y_tof 0.9945511\n",
        "d 7.175662e-06\n",
        "f 1.000681\n",
        "fCaB_SL 0.01452605\n",
        "fCaB_jct1 0.02421991\n",
        "R 0.8884332\n",
        "O 8.156628e-07\n",
        "I 1.024274e-07\n",
        "Ca_TroponinC 0.008773191\n",
        "Ca_TroponinC_Ca_Mg 0.1078283\n",
        "Mg_TroponinC_Ca_Mg 0.01524002\n",
        "Ca_Calmodulin 0.0002911916\n",
        "Ca_Myosin 0.001298754\n",
        "Mg_Myosin 0.1381982\n",
        "Ca_SRB 0.002143165\n",
        "Na_jct1_buf 3.539892\n",
        "Na_SL_buf 0.7720854\n",
        "Na_jct1 8.80329\n",
        "Na_SL 8.80733\n",
        "Nai 8.80853\n",
        "Ca_Calsequestrin 1.242988\n",
        "Ca_SLB_SL 0.1110363\n",
        "Ca_SLB_jct1 0.009566355\n",
        "Ca_SLHigh_SL 0.07297378\n",
        "Ca_SLHigh_jct1 0.007347888\n",
        "Ca_SR 0.5545201\n",
        "Ca_jct1 0.0001737475\n",
        "Ca_SL 0.0001031812\n",
        "Cai 8.597401e-05\n",
        "V -85.56885\n",
        "Loaded ODE model 'shannon_2004' with:\n"
       ]
      },
      {
       "output_type": "stream",
       "stream": "stderr",
       "text": [
        "INFO:ModelParameters:Loaded ODE model 'shannon_2004' with:\n"
       ]
      },
      {
       "output_type": "stream",
       "stream": "stdout",
       "text": [
        "     Num full states: 39\n"
       ]
      },
      {
       "output_type": "stream",
       "stream": "stderr",
       "text": [
        "INFO:ModelParameters:     Num full states: 39\n"
       ]
      },
      {
       "output_type": "stream",
       "stream": "stdout",
       "text": [
        "      Num parameters: 124\n"
       ]
      },
      {
       "output_type": "stream",
       "stream": "stderr",
       "text": [
        "INFO:ModelParameters:      Num parameters: 124\n"
       ]
      },
      {
       "output_type": "stream",
       "stream": "stdout",
       "text": [
        "Cao 1.8\n",
        "Cli 15\n",
        "Clo 150\n",
        "Cm 1.381e-10\n",
        "F 96485\n",
        "Ki 135\n",
        "Ko 5.4\n",
        "Mgi 1\n",
        "Nao 140\n",
        "Rgas 8314.3\n",
        "T 310\n",
        "cell_length 100\n",
        "cell_radius 10.25\n",
        "Fx_Na_SL 0.89\n",
        "Fx_Na_jct1 0.11\n",
        "G_INa 16\n",
        "Fx_NaBk_SL 0.89\n",
        "Fx_NaBk_jct1 0.11\n",
        "G_NaBk 0.000297\n",
        "Fx_NaK_SL 0.89\n",
        "Fx_NaK_jct1 0.11\n",
        "H_NaK 4\n",
        "I_NaK_max 1.90719\n",
        "Km_Ko 1.5\n",
        "Km_Nai 11\n",
        "Fx_Ks_SL 0.89\n",
        "Fx_Ks_jct1 0.11\n",
        "pKNa 0.01833\n",
        "g_Kp 0.001\n",
        "G_tos 0.06\n",
        "G_tof 0.02\n",
        "Fx_Cl_SL 0.89\n",
        "Fx_Cl_jct1 0.11\n",
        "G_Cl 0.109625\n",
        "Kd_ClCa 0.1\n",
        "G_ClBk 0.009\n",
        "Fx_ICaL_SL 0.1\n",
        "Fx_ICaL_jct1 0.9\n",
        "PCa 0.00054\n",
        "PK 2.7e-07\n",
        "PNa 1.5e-08\n",
        "Q10_CaL 1.8\n",
        "gamma_Cai 0.341\n",
        "gamma_Cao 0.341\n",
        "gamma_Ki 0.75\n",
        "gamma_Ko 0.75\n",
        "gamma_Nai 0.75\n",
        "gamma_Nao 0.75\n",
        "lccCaInact 1.7\n",
        "Fx_NCX_SL 0.89\n",
        "Fx_NCX_jct1 0.11\n",
        "HNa 3\n",
        "K_mCai 0.00359\n",
        "K_mCao 1.3\n",
        "K_mNai 12.29\n",
        "K_mNao 87.5\n",
        "Kd_act 0.000256\n",
        "Q10_NCX 1.57\n",
        "V_max_INaCa 9\n",
        "eta 0.35\n",
        "ksat 0.27\n",
        "Fx_SLCaP_SL 0.89\n",
        "Fx_SLCaP_jct1 0.11\n",
        "H_ICap 1.6\n",
        "Km 0.0005\n",
        "Q10_SLCaP 2.35\n",
        "V_maxAF 0.0673\n",
        "Fx_CaBk_SL 0.89\n",
        "Fx_CaBk_jct1 0.11\n",
        "G_CaBk 0.0002513\n",
        "EC50_SR 0.45\n",
        "HSR 2.5\n",
        "Max_SR 15\n",
        "Min_SR 1\n",
        "kiCa 0.5\n",
        "kim 0.005\n",
        "koCa 10\n",
        "kom 0.06\n",
        "ks 25\n",
        "KSRleak 5.348e-06\n",
        "H_Jpump 1.787\n",
        "Kmf 0.000246\n",
        "Kmr 1.7\n",
        "Q10_SRCaP 2.6\n",
        "V_max_Jpump 0.0053114\n",
        "Bmax_Calsequestrin 0.14\n",
        "Bmax_SLB_SL 0.0374\n",
        "Bmax_SLB_jct1 0.0046\n",
        "Bmax_SLHigh_SL 0.0134\n",
        "Bmax_SLHigh_jct1 0.00165\n",
        "koff_Calsequestrin 65\n",
        "koff_SLB 1.3\n",
        "koff_SLHigh 0.03\n",
        "kon_Calsequestrin 100\n",
        "kon_SL 100\n",
        "Bmax_Calmodulin 0.024\n",
        "Bmax_Myosin_Ca 0.14\n",
        "Bmax_Myosin_Mg 0.14\n",
        "Bmax_SRB 0.0171\n",
        "Bmax_TroponinC 0.07\n",
        "Bmax_TroponinC_Ca_Mg_Ca 0.14\n",
        "Bmax_TroponinC_Ca_Mg_Mg 0.14\n",
        "koff_Calmodulin 0.238\n",
        "koff_Myosin_Ca 0.00046\n",
        "koff_Myosin_Mg 5.7e-05\n",
        "koff_SRB 0.06\n",
        "koff_TroponinC 0.0196\n",
        "koff_TroponinC_Ca_Mg_Ca 3.2e-05\n",
        "koff_TroponinC_Ca_Mg_Mg 0.00333\n",
        "kon_Calmodulin 34\n",
        "kon_Myosin_Ca 13.8\n",
        "kon_Myosin_Mg 0.0157\n",
        "kon_SRB 100\n",
        "kon_TroponinC 32.7\n",
        "kon_TroponinC_Ca_Mg_Ca 2.37\n",
        "kon_TroponinC_Ca_Mg_Mg 0.003\n",
        "Bmax_SL 1.65\n",
        "Bmax_jct1 7.561\n",
        "koff 0.001\n",
        "kon 0.0001\n",
        "stim_amplitude 9.5\n",
        "stim_duration 5\n",
        "stim_period 1000\n",
        "stim_start 100\n"
       ]
      }
     ],
     "prompt_number": 5
    },
    {
     "cell_type": "code",
     "collapsed": false,
     "input": [
      "def PrintStates2(odeName=\"shannon_2004_mouse.ode\"):\n",
      "  ode = load_ode(odeName)\n",
      "\n",
      "  for state in ode.full_states:\n",
      "    print state.name,state.value\n",
      "\n",
      "def PrintParams2(odeName=\"shannon_2004_mouse.ode\"):\n",
      "  ode = load_ode(odeName)\n",
      "\n",
      "  for param in ode.parameters:\n",
      "    print param.name,param.value\n",
      "\n",
      "PrintStates2()\n",
      "PrintParams2()"
     ],
     "language": "python",
     "metadata": {},
     "outputs": [
      {
       "output_type": "stream",
       "stream": "stdout",
       "text": [
        "Loaded ODE model 'shannon_2004_mouse' with:\n"
       ]
      },
      {
       "output_type": "stream",
       "stream": "stderr",
       "text": [
        "INFO:ModelParameters:Loaded ODE model 'shannon_2004_mouse' with:\n"
       ]
      },
      {
       "output_type": "stream",
       "stream": "stdout",
       "text": [
        "     Num full states: 39\n"
       ]
      },
      {
       "output_type": "stream",
       "stream": "stderr",
       "text": [
        "INFO:ModelParameters:     Num full states: 39\n"
       ]
      },
      {
       "output_type": "stream",
       "stream": "stdout",
       "text": [
        "      Num parameters: 124\n"
       ]
      },
      {
       "output_type": "stream",
       "stream": "stderr",
       "text": [
        "INFO:ModelParameters:      Num parameters: 124\n"
       ]
      },
      {
       "output_type": "stream",
       "stream": "stdout",
       "text": [
        "h 0.9867005\n",
        "j 0.991562\n",
        "m 0.001405627\n",
        "Xr 0.008641386\n",
        "Xs 0.005412034\n",
        "X_tos 0.004051574\n",
        "Y_tos 0.9945511\n",
        "R_tos 0.9946\n",
        "X_tof 0.004051574\n",
        "Y_tof 0.9945511\n",
        "d 7.175662e-06\n",
        "f 1.000681\n",
        "fCaB_SL 0.01452605\n",
        "fCaB_jct1 0.02421991\n",
        "R 0.8884332\n",
        "O 8.156628e-07\n",
        "I 1.024274e-07\n",
        "Ca_TroponinC 0.008773191\n",
        "Ca_TroponinC_Ca_Mg 0.1078283\n",
        "Mg_TroponinC_Ca_Mg 0.01524002\n",
        "Ca_Calmodulin 0.0002911916\n",
        "Ca_Myosin 0.001298754\n",
        "Mg_Myosin 0.1381982\n",
        "Ca_SRB 0.002143165\n",
        "Na_jct1_buf 3.539892\n",
        "Na_SL_buf 0.7720854\n",
        "Na_jct1 8.80329\n",
        "Na_SL 8.80733\n",
        "Nai 8.80853\n",
        "Ca_Calsequestrin 1.242988\n",
        "Ca_SLB_SL 0.1110363\n",
        "Ca_SLB_jct1 0.009566355\n",
        "Ca_SLHigh_SL 0.07297378\n",
        "Ca_SLHigh_jct1 0.007347888\n",
        "Ca_SR 0.5545201\n",
        "Ca_jct1 0.0001737475\n",
        "Ca_SL 0.0001031812\n",
        "Cai 8.597401e-05\n",
        "V -85.56885\n",
        "Loaded ODE model 'shannon_2004_mouse' with:\n"
       ]
      },
      {
       "output_type": "stream",
       "stream": "stderr",
       "text": [
        "INFO:ModelParameters:Loaded ODE model 'shannon_2004_mouse' with:\n"
       ]
      },
      {
       "output_type": "stream",
       "stream": "stdout",
       "text": [
        "     Num full states: 39\n"
       ]
      },
      {
       "output_type": "stream",
       "stream": "stderr",
       "text": [
        "INFO:ModelParameters:     Num full states: 39\n"
       ]
      },
      {
       "output_type": "stream",
       "stream": "stdout",
       "text": [
        "      Num parameters: 124\n"
       ]
      },
      {
       "output_type": "stream",
       "stream": "stderr",
       "text": [
        "INFO:ModelParameters:      Num parameters: 124\n"
       ]
      },
      {
       "output_type": "stream",
       "stream": "stdout",
       "text": [
        "Cao 1.8\n",
        "Cli 15\n",
        "Clo 150\n",
        "Cm 2e-10\n",
        "F 96485\n",
        "Ki 135\n",
        "Ko 5.4\n",
        "Mgi 1\n",
        "Nao 140\n",
        "Rgas 8314.3\n",
        "T 310\n",
        "cell_length 100\n",
        "cell_radius 10.25\n",
        "Fx_Na_SL 0.89\n",
        "Fx_Na_jct1 0.11\n",
        "G_INa 10\n",
        "Fx_NaBk_SL 0.89\n",
        "Fx_NaBk_jct1 0.11\n",
        "G_NaBk 0.0013365\n",
        "Fx_NaK_SL 0.89\n",
        "Fx_NaK_jct1 0.11\n",
        "H_NaK 4\n",
        "I_NaK_max 5\n",
        "Km_Ko 1.5\n",
        "Km_Nai 19\n",
        "Fx_Ks_SL 0.89\n",
        "Fx_Ks_jct1 0.11\n",
        "pKNa 0.01833\n",
        "g_Kp 0.001\n",
        "G_tos 0.0\n",
        "G_tof 0.44\n",
        "Fx_Cl_SL 0.89\n",
        "Fx_Cl_jct1 0.11\n",
        "G_Cl 0.109625\n",
        "Kd_ClCa 0.1\n",
        "G_ClBk 0.009\n",
        "Fx_ICaL_SL 0.1\n",
        "Fx_ICaL_jct1 0.9\n",
        "PCa 0.00054\n",
        "PK 2.7e-07\n",
        "PNa 1.5e-08\n",
        "Q10_CaL 1.8\n",
        "gamma_Cai 0.341\n",
        "gamma_Cao 0.341\n",
        "gamma_Ki 0.75\n",
        "gamma_Ko 0.75\n",
        "gamma_Nai 0.75\n",
        "gamma_Nao 0.75\n",
        "lccCaInact 1.7\n",
        "Fx_NCX_SL 0.89\n",
        "Fx_NCX_jct1 0.3\n",
        "HNa 3\n",
        "K_mCai 0.00359\n",
        "K_mCao 1.3\n",
        "K_mNai 12.29\n",
        "K_mNao 87.5\n",
        "Kd_act 0.000256\n",
        "Q10_NCX 1.57\n",
        "V_max_INaCa 9\n",
        "eta 0.35\n",
        "ksat 0.27\n",
        "Fx_SLCaP_SL 0.89\n",
        "Fx_SLCaP_jct1 0.11\n",
        "H_ICap 1.6\n",
        "Km 0.0005\n",
        "Q10_SLCaP 2.35\n",
        "V_maxAF 0.0673\n",
        "Fx_CaBk_SL 0.89\n",
        "Fx_CaBk_jct1 0.11\n",
        "G_CaBk 0.0007539\n",
        "EC50_SR 0.45\n",
        "HSR 2.5\n",
        "Max_SR 15\n",
        "Min_SR 1\n",
        "kiCa 0.5\n",
        "kim 0.005\n",
        "koCa 10\n",
        "kom 0.06\n",
        "ks 25\n",
        "KSRleak 1.0696e-05\n",
        "H_Jpump 1.787\n",
        "Kmf 0.0003\n",
        "Kmr 2.1\n",
        "Q10_SRCaP 2.6\n",
        "V_max_Jpump 0.0053114\n",
        "Bmax_Calsequestrin 0.14\n",
        "Bmax_SLB_SL 0.0374\n",
        "Bmax_SLB_jct1 0.0046\n",
        "Bmax_SLHigh_SL 0.0134\n",
        "Bmax_SLHigh_jct1 0.00165\n",
        "koff_Calsequestrin 65\n",
        "koff_SLB 1.3\n",
        "koff_SLHigh 0.03\n",
        "kon_Calsequestrin 100\n",
        "kon_SL 100\n",
        "Bmax_Calmodulin 0.024\n",
        "Bmax_Myosin_Ca 0.14\n",
        "Bmax_Myosin_Mg 0.14\n",
        "Bmax_SRB 0.0171\n",
        "Bmax_TroponinC 0.07\n",
        "Bmax_TroponinC_Ca_Mg_Ca 0.14\n",
        "Bmax_TroponinC_Ca_Mg_Mg 0.14\n",
        "koff_Calmodulin 0.238\n",
        "koff_Myosin_Ca 0.00046\n",
        "koff_Myosin_Mg 5.7e-05\n",
        "koff_SRB 0.06\n",
        "koff_TroponinC 0.0196\n",
        "koff_TroponinC_Ca_Mg_Ca 3.2e-05\n",
        "koff_TroponinC_Ca_Mg_Mg 0.00333\n",
        "kon_Calmodulin 34\n",
        "kon_Myosin_Ca 13.8\n",
        "kon_Myosin_Mg 0.0157\n",
        "kon_SRB 100\n",
        "kon_TroponinC 32.7\n",
        "kon_TroponinC_Ca_Mg_Ca 2.37\n",
        "kon_TroponinC_Ca_Mg_Mg 0.003\n",
        "Bmax_SL 1.65\n",
        "Bmax_jct1 7.561\n",
        "koff 0.001\n",
        "kon 0.0001\n",
        "stim_amplitude 9.5\n",
        "stim_duration 5\n",
        "stim_period 1000\n",
        "stim_start 100\n"
       ]
      }
     ],
     "prompt_number": 95
    },
    {
     "cell_type": "markdown",
     "metadata": {},
     "source": [
      "### Example 1: Run several in sequence\n",
      "\n",
      "#### Run 'em"
     ]
    },
    {
     "cell_type": "code",
     "collapsed": false,
     "input": [
      "import daisychain as dc\n",
      "dorun=True\n",
      "if dorun:\n",
      "    pickleNames = dc.daisychain(odeName=\"shannon_2004_mouse.ode\",outBase = \"run\",dtn=100e3, iters=3)\n",
      "else:\n",
      "    pickleNames = dc.daisychain(odeName=\"shannon_2004_mouse.ode\",outBase = \"run\",dtn=100e3, iters=3, namesOnly=True)"
     ],
     "language": "python",
     "metadata": {},
     "outputs": [
      {
       "output_type": "stream",
       "stream": "stdout",
       "text": [
        "Loaded ODE model 'shannon_2004_mouse' with:\n"
       ]
      },
      {
       "output_type": "stream",
       "stream": "stderr",
       "text": [
        "INFO:ModelParameters:Loaded ODE model 'shannon_2004_mouse' with:\n"
       ]
      },
      {
       "output_type": "stream",
       "stream": "stdout",
       "text": [
        "     Num full states: 39\n"
       ]
      },
      {
       "output_type": "stream",
       "stream": "stderr",
       "text": [
        "INFO:ModelParameters:     Num full states: 39\n"
       ]
      },
      {
       "output_type": "stream",
       "stream": "stdout",
       "text": [
        "      Num parameters: 124\n"
       ]
      },
      {
       "output_type": "stream",
       "stream": "stderr",
       "text": [
        "INFO:ModelParameters:      Num parameters: 124\n"
       ]
      },
      {
       "output_type": "stream",
       "stream": "stdout",
       "text": [
        "Calling GOTRAN just-in-time (JIT) compiler, this may take some time..."
       ]
      },
      {
       "output_type": "stream",
       "stream": "stderr",
       "text": [
        "INFO:ModelParameters:Calling GOTRAN just-in-time (JIT) compiler, this may take some time...\n"
       ]
      },
      {
       "output_type": "stream",
       "stream": "stdout",
       "text": [
        " done\n"
       ]
      },
      {
       "output_type": "stream",
       "stream": "stderr",
       "text": [
        "INFO:ModelParameters: done\n"
       ]
      },
      {
       "output_type": "stream",
       "stream": "stdout",
       "text": [
        "Using revised params from runner.py\n",
        "SUCCESS! Wrote output to "
       ]
      },
      {
       "output_type": "stream",
       "stream": "stdout",
       "text": [
        " run_1.pickle\n",
        "Reading run_1.pickle\n",
        "Loaded ODE model 'shannon_2004_mouse' with:\n"
       ]
      },
      {
       "output_type": "stream",
       "stream": "stderr",
       "text": [
        "INFO:ModelParameters:Loaded ODE model 'shannon_2004_mouse' with:\n"
       ]
      },
      {
       "output_type": "stream",
       "stream": "stdout",
       "text": [
        "     Num full states: 39\n"
       ]
      },
      {
       "output_type": "stream",
       "stream": "stderr",
       "text": [
        "INFO:ModelParameters:     Num full states: 39\n"
       ]
      },
      {
       "output_type": "stream",
       "stream": "stdout",
       "text": [
        "      Num parameters: 124\n"
       ]
      },
      {
       "output_type": "stream",
       "stream": "stderr",
       "text": [
        "INFO:ModelParameters:      Num parameters: 124\n"
       ]
      },
      {
       "output_type": "stream",
       "stream": "stdout",
       "text": [
        "Using revised params from runner.py\n",
        "SUCCESS! Wrote output to "
       ]
      },
      {
       "output_type": "stream",
       "stream": "stdout",
       "text": [
        " run_2.pickle\n",
        "Reading run_2.pickle\n",
        "Loaded ODE model 'shannon_2004_mouse' with:\n"
       ]
      },
      {
       "output_type": "stream",
       "stream": "stderr",
       "text": [
        "INFO:ModelParameters:Loaded ODE model 'shannon_2004_mouse' with:\n"
       ]
      },
      {
       "output_type": "stream",
       "stream": "stdout",
       "text": [
        "     Num full states: 39\n"
       ]
      },
      {
       "output_type": "stream",
       "stream": "stderr",
       "text": [
        "INFO:ModelParameters:     Num full states: 39\n"
       ]
      },
      {
       "output_type": "stream",
       "stream": "stdout",
       "text": [
        "      Num parameters: 124\n"
       ]
      },
      {
       "output_type": "stream",
       "stream": "stderr",
       "text": [
        "INFO:ModelParameters:      Num parameters: 124\n"
       ]
      },
      {
       "output_type": "stream",
       "stream": "stdout",
       "text": [
        "Using revised params from runner.py\n",
        "SUCCESS! Wrote output to "
       ]
      },
      {
       "output_type": "stream",
       "stream": "stdout",
       "text": [
        " run_3.pickle\n"
       ]
      }
     ],
     "prompt_number": 12
    },
    {
     "cell_type": "markdown",
     "metadata": {},
     "source": [
      "### Analyze entire trajectory \n",
      "\n",
      "Can use this to review results from entire 'daisy-chained' simulation. However, generally analyses only need to be performed for 'last' iteration "
     ]
    },
    {
     "cell_type": "code",
     "collapsed": false,
     "input": [
      "ts, allsisi, s_idx = dc.concatenateTrajs(pickleNames)"
     ],
     "language": "python",
     "metadata": {},
     "outputs": [
      {
       "output_type": "stream",
       "stream": "stdout",
       "text": [
        "Reading run_1.pickle\n",
        "t "
       ]
      },
      {
       "output_type": "stream",
       "stream": "stdout",
       "text": [
        " 100000.0\n",
        "Reading run_2.pickle\n",
        "t "
       ]
      },
      {
       "output_type": "stream",
       "stream": "stdout",
       "text": [
        " 200000.0\n",
        "Reading run_3.pickle\n",
        "t "
       ]
      },
      {
       "output_type": "stream",
       "stream": "stdout",
       "text": [
        " 300000.0\n"
       ]
      }
     ],
     "prompt_number": 13
    },
    {
     "cell_type": "code",
     "collapsed": false,
     "input": [
      "label = \"Cai\"\n",
      "idx = s_idx.index(label)\n",
      "plt.plot(ts,allsisi[:,idx])\n",
      "#plt.xlim([250e3,300e3])"
     ],
     "language": "python",
     "metadata": {},
     "outputs": [
      {
       "metadata": {},
       "output_type": "pyout",
       "prompt_number": 14,
       "text": [
        "[<matplotlib.lines.Line2D at 0x7f12ee987790>]"
       ]
      },
      {
       "metadata": {},
       "output_type": "display_data",
       "png": "[encoded data removed]",
       "text": [
        "<matplotlib.figure.Figure at 0x7f1390c23890>"
       ]
      }
     ],
     "prompt_number": 14
    },
    {
     "cell_type": "markdown",
     "metadata": {},
     "source": [
      "### Example 2: use 'Case' objects to streamline case identifucation"
     ]
    },
    {
     "cell_type": "markdown",
     "metadata": {},
     "source": [
      "#### Case Initialization"
     ]
    },
    {
     "cell_type": "code",
     "collapsed": false,
     "input": [
      "import Case\n",
      "T = 300e3             # total simulation time [ms]\n",
      "nIntervals = 5       # number of intervals (s.t. each pickle contains T/nInterval of data )\n",
      "\n",
      "def init(freq_Hz=1.,\n",
      "         T=300e3, # total simulation time [ms]\n",
      "         nIntervals=6 # number of intervals (s.t. each pickle contains T/nInterval of data )\n",
      "\n",
      "         ):\n",
      "    #### Define common parameters    \n",
      "    root = \"./\"\n",
      "    stim_period = 1000./freq_Hz  # ms\n",
      "    leak = 3.0\n",
      "    # for storing data \n",
      "    caseDict = dict()\n",
      "\n",
      "    #### Define cases \n",
      "    # case 1\n",
      "    tag=\"baseline_freq%3.1f\"%freq_Hz\n",
      "    label=\"Baseline (%3.1f Hz)\"%freq_Hz\n",
      "    name = root+\"mouse-despa_%s.pickle\"%(tag) # filename \n",
      "    args = [ # pass in cellml/gotran arguments (eg. in shannon_2004.ode)\n",
      "      \"-odeName shannon_2004_mouse.ode\",\n",
      "      \"-var stim_period %f\" % stim_period,\n",
      "      \"-var G_CaBk %f \" % (0.0002513), # baseline\n",
      "      \"-var G_NaBk %f \" % (0.000297) # baseline\n",
      "      ]\n",
      "    case = Case.Case(tag=tag,label=label,args=args,nIntervals=nIntervals,T=T, name = name)\n",
      "    caseDict[tag] = case\n",
      "\n",
      "\n",
      "    tag=\"incrleak%3.1f_freq%3.1f\"%(leak,freq_Hz)\n",
      "    label=\"+HIP (%3.1fx)\"%leak\n",
      "    name = root+\"mouse-despa_%s.pickle\"%(tag) # filename \n",
      "    args = [ # pass in cellml/gotran arguments (eg. in shannon_2004.ode)\n",
      "      \"-odeName shannon_2004_mouse.ode\",\n",
      "      \"-var stim_period %f\" % stim_period,\n",
      "      \"-var G_CaBk %f \" % (0.0002513*leak), # baseline times 3.0\n",
      "      \"-var G_NaBk %f \" % (0.000297*leak) # baseline times 3.0\n",
      "      ]\n",
      "    case = Case.Case(tag=tag,label=label,args=args,nIntervals=nIntervals,T=T, name = name)\n",
      "    caseDict[tag] = case\n",
      "  \n",
      "    return caseDict\n"
     ],
     "language": "python",
     "metadata": {},
     "outputs": [],
     "prompt_number": 96
    },
    {
     "cell_type": "markdown",
     "metadata": {},
     "source": [
      "#### Initialize for several freq. "
     ]
    },
    {
     "cell_type": "code",
     "collapsed": false,
     "input": [
      "freqs = [0.1,0.5,1.0,1.5,2.0]\n",
      "\n",
      "caseDict = dict()\n",
      "for i,freq in enumerate(freqs):\n",
      "  caseDicti = init(freq_Hz=freq, T=T,nIntervals=nIntervals)   \n",
      "  caseDict.update(caseDicti)  \n"
     ],
     "language": "python",
     "metadata": {},
     "outputs": [],
     "prompt_number": 97
    },
    {
     "cell_type": "markdown",
     "metadata": {},
     "source": [
      "#### Generate command line inputs "
     ]
    },
    {
     "cell_type": "code",
     "collapsed": false,
     "input": [
      "for key,case in caseDict.iteritems():\n",
      "      print \"# \", key\n",
      "      print case.cmdLine\n",
      "  #print \"python runShannonTest.py \"+\" \".join(healthyArgs)+\" -name \"+healthyName+\" &\"\n",
      "\n"
     ],
     "language": "python",
     "metadata": {},
     "outputs": [
      {
       "output_type": "stream",
       "stream": "stdout",
       "text": [
        "#  baseline_freq1.5\n",
        "python daisychain.py  -odeName shannon_2004_mouse.ode -var stim_period 666.666667 -var G_CaBk 0.000251  -var G_NaBk 0.000297  -iters 5 -T 60000.000000 -name ./mouse-despa_baseline_freq1.5.pickle  &\n",
        "#  incrleak3.0_freq0.5\n",
        "python daisychain.py  -odeName shannon_2004_mouse.ode -var stim_period 2000.000000 -var G_CaBk 0.000754  -var G_NaBk 0.000891  -iters 5 -T 60000.000000 -name ./mouse-despa_incrleak3.0_freq0.5.pickle  &\n",
        "#  incrleak3.0_freq2.0\n",
        "python daisychain.py  -odeName shannon_2004_mouse.ode -var stim_period 500.000000 -var G_CaBk 0.000754  -var G_NaBk 0.000891  -iters 5 -T 60000.000000 -name ./mouse-despa_incrleak3.0_freq2.0.pickle  &\n",
        "#  baseline_freq1.0\n",
        "python daisychain.py  -odeName shannon_2004_mouse.ode -var stim_period 1000.000000 -var G_CaBk 0.000251  -var G_NaBk 0.000297  -iters 5 -T 60000.000000 -name ./mouse-despa_baseline_freq1.0.pickle  &\n",
        "#  incrleak3.0_freq0.1\n",
        "python daisychain.py  -odeName shannon_2004_mouse.ode -var stim_period 10000.000000 -var G_CaBk 0.000754  -var G_NaBk 0.000891  -iters 5 -T 60000.000000 -name ./mouse-despa_incrleak3.0_freq0.1.pickle  &\n",
        "#  baseline_freq0.1\n",
        "python daisychain.py  -odeName shannon_2004_mouse.ode -var stim_period 10000.000000 -var G_CaBk 0.000251  -var G_NaBk 0.000297  -iters 5 -T 60000.000000 -name ./mouse-despa_baseline_freq0.1.pickle  &\n",
        "#  baseline_freq2.0\n",
        "python daisychain.py  -odeName shannon_2004_mouse.ode -var stim_period 500.000000 -var G_CaBk 0.000251  -var G_NaBk 0.000297  -iters 5 -T 60000.000000 -name ./mouse-despa_baseline_freq2.0.pickle  &\n",
        "#  incrleak3.0_freq1.0\n",
        "python daisychain.py  -odeName shannon_2004_mouse.ode -var stim_period 1000.000000 -var G_CaBk 0.000754  -var G_NaBk 0.000891  -iters 5 -T 60000.000000 -name ./mouse-despa_incrleak3.0_freq1.0.pickle  &\n",
        "#  baseline_freq0.5\n",
        "python daisychain.py  -odeName shannon_2004_mouse.ode -var stim_period 2000.000000 -var G_CaBk 0.000251  -var G_NaBk 0.000297  -iters 5 -T 60000.000000 -name ./mouse-despa_baseline_freq0.5.pickle  &\n",
        "#  incrleak3.0_freq1.5\n",
        "python daisychain.py  -odeName shannon_2004_mouse.ode -var stim_period 666.666667 -var G_CaBk 0.000754  -var G_NaBk 0.000891  -iters 5 -T 60000.000000 -name ./mouse-despa_incrleak3.0_freq1.5.pickle  &\n"
       ]
      }
     ],
     "prompt_number": 98
    },
    {
     "cell_type": "markdown",
     "metadata": {},
     "source": [
      "#### Plot data \n",
      "(Note that this comes from the last iteration, since we assume first 'n-1' intervals used for equilibration)"
     ]
    },
    {
     "cell_type": "markdown",
     "metadata": {},
     "source": [
      "##### Store data into objects (last run )"
     ]
    },
    {
     "cell_type": "code",
     "collapsed": false,
     "input": [
      "import analyzeODE as ao\n",
      "\n",
      "for key,case in caseDict.iteritems():\n",
      "      print \"# \", key, case.name\n",
      "      case.data = ao.readPickle(case.name)"
     ],
     "language": "python",
     "metadata": {},
     "outputs": [
      {
       "output_type": "stream",
       "stream": "stdout",
       "text": [
        "#  baseline_freq1.5 ./mouse-despa_baseline_freq1.5_5.pickle\n",
        "Reading ./mouse-despa_baseline_freq1.5_5.pickle\n",
        "# "
       ]
      },
      {
       "output_type": "stream",
       "stream": "stdout",
       "text": [
        " incrleak3.0_freq0.5 ./mouse-despa_incrleak3.0_freq0.5_5.pickle\n",
        "Reading ./mouse-despa_incrleak3.0_freq0.5_5.pickle\n",
        "# "
       ]
      },
      {
       "output_type": "stream",
       "stream": "stdout",
       "text": [
        " incrleak3.0_freq2.0 ./mouse-despa_incrleak3.0_freq2.0_5.pickle\n",
        "Reading ./mouse-despa_incrleak3.0_freq2.0_5.pickle\n",
        "# "
       ]
      },
      {
       "output_type": "stream",
       "stream": "stdout",
       "text": [
        " baseline_freq1.0 ./mouse-despa_baseline_freq1.0_5.pickle\n",
        "Reading ./mouse-despa_baseline_freq1.0_5.pickle\n",
        "# "
       ]
      },
      {
       "output_type": "stream",
       "stream": "stdout",
       "text": [
        " incrleak3.0_freq0.1 ./mouse-despa_incrleak3.0_freq0.1_5.pickle\n",
        "Reading ./mouse-despa_incrleak3.0_freq0.1_5.pickle\n",
        "# "
       ]
      },
      {
       "output_type": "stream",
       "stream": "stdout",
       "text": [
        " baseline_freq0.1 ./mouse-despa_baseline_freq0.1_5.pickle\n",
        "Reading ./mouse-despa_baseline_freq0.1_5.pickle\n",
        "# "
       ]
      },
      {
       "output_type": "stream",
       "stream": "stdout",
       "text": [
        " baseline_freq2.0 ./mouse-despa_baseline_freq2.0_5.pickle\n",
        "Reading ./mouse-despa_baseline_freq2.0_5.pickle\n",
        "# "
       ]
      },
      {
       "output_type": "stream",
       "stream": "stdout",
       "text": [
        " incrleak3.0_freq1.0 ./mouse-despa_incrleak3.0_freq1.0_5.pickle\n",
        "Reading ./mouse-despa_incrleak3.0_freq1.0_5.pickle\n",
        "# "
       ]
      },
      {
       "output_type": "stream",
       "stream": "stdout",
       "text": [
        " baseline_freq0.5 ./mouse-despa_baseline_freq0.5_5.pickle\n",
        "Reading ./mouse-despa_baseline_freq0.5_5.pickle\n",
        "# "
       ]
      },
      {
       "output_type": "stream",
       "stream": "stdout",
       "text": [
        " incrleak3.0_freq1.5 ./mouse-despa_incrleak3.0_freq1.5_5.pickle\n",
        "Reading ./mouse-despa_incrleak3.0_freq1.5_5.pickle\n"
       ]
      }
     ],
     "prompt_number": 99
    },
    {
     "cell_type": "markdown",
     "metadata": {},
     "source": [
      "##### Plot cool stuff (first case) \n",
      "\n",
      "(Grab cases of interest)"
     ]
    },
    {
     "cell_type": "code",
     "collapsed": false,
     "input": [
      "freqi = \"%3.1f\"%0.1\n",
      "caseDicti = dict()\n",
      "for key,case in caseDict.iteritems():\n",
      "    if freqi in key:\n",
      "        print case.name\n",
      "        print case.label \n",
      "        caseDicti[case.tag]=case"
     ],
     "language": "python",
     "metadata": {},
     "outputs": [
      {
       "output_type": "stream",
       "stream": "stdout",
       "text": [
        "./mouse-despa_incrleak3.0_freq0.1_5.pickle\n",
        "+HIP (3.0x)\n",
        "./mouse-despa_baseline_freq0.1_5.pickle\n",
        "Baseline (0.1 Hz)\n"
       ]
      }
     ],
     "prompt_number": 118
    },
    {
     "cell_type": "markdown",
     "metadata": {},
     "source": [
      "Plot cases of interest"
     ]
    },
    {
     "cell_type": "code",
     "collapsed": false,
     "input": [
      "plt.figure()\n",
      "for key, case in caseDicti.iteritems():\n",
      "  print case.name\n",
      "  print case.tag\n",
      "  print case.label\n",
      "  t = case.data['t'] \n",
      "  #t-= np.min(t)  \n",
      "  ti= t + T*(1-1/np.float(nIntervals)) # should define this elsewhere (dbl check) \n",
      "  s = case.data['s']\n",
      "  s_idx = case.data['s_idx']\n",
      "\n",
      "\n",
      "  idx = s_idx.index(\"Cai\")\n",
      "  plt.plot(ti,s[:,idx],label=case.label)\n",
      "\n",
      "#plt.figure()\n",
      "#idx = s_idx.index(\"Nai\")\n",
      "#plt.plot(t,s[:,idx],label=case.label)\n",
      "plt.xlim([290e3,300e3])\n",
      "plt.legend()\n",
      "outFile=\"mouse-despa_baseline_freq0.1.png\"\n",
      "plt.gcf().savefig(outFile)"
     ],
     "language": "python",
     "metadata": {},
     "outputs": [
      {
       "output_type": "stream",
       "stream": "stdout",
       "text": [
        "./mouse-despa_baseline_freq0.1_5.pickle\n",
        "baseline_freq0.1\n",
        "Baseline (0.1 Hz)\n",
        "./mouse-despa_incrleak3.0_freq0.1_5.pickle"
       ]
      },
      {
       "output_type": "stream",
       "stream": "stdout",
       "text": [
        "\n",
        "incrleak3.0_freq0.1\n",
        "+HIP (3.0x)\n"
       ]
      },
      {
       "metadata": {},
       "output_type": "display_data",
       "png": "[encoded data removed]",
       "text": [
        "<matplotlib.figure.Figure at 0x7f1353b34b10>"
       ]
      }
     ],
     "prompt_number": 119
    },
    {
     "cell_type": "code",
     "collapsed": false,
     "input": [
      "freqi = \"%3.1f\"%0.1\n",
      "caseDicti = dict()\n",
      "for key,case in caseDict.iteritems():\n",
      "    if freqi in key:\n",
      "        print case.name\n",
      "        print case.label \n",
      "        caseDicti[case.tag]=case"
     ],
     "language": "python",
     "metadata": {},
     "outputs": [
      {
       "output_type": "stream",
       "stream": "stdout",
       "text": [
        "./mouse-despa_incrleak3.0_freq0.1_5.pickle\n",
        "+HIP (3.0x)\n",
        "./mouse-despa_baseline_freq0.1_5.pickle\n",
        "Baseline (0.1 Hz)\n"
       ]
      }
     ],
     "prompt_number": 120
    },
    {
     "cell_type": "code",
     "collapsed": false,
     "input": [
      "plt.figure()\n",
      "i=0\n",
      "max0_1=np.zeros(2)\n",
      "min0_1=np.zeros(2)\n",
      "diff0_1=np.zeros(2)\n",
      "for key, case in caseDicti.iteritems():\n",
      "  print case.name\n",
      "  print case.tag\n",
      "  print case.label\n",
      "  t = case.data['t'] \n",
      "  #t-= np.min(t)  \n",
      "  ti= t + T*(1-1/np.float(nIntervals)) # should define this elsewhere (dbl check) \n",
      "  s = case.data['s']\n",
      "  s_idx = case.data['s_idx']\n",
      "\n",
      "\n",
      "  idx = s_idx.index(\"Cai\")\n",
      "  plt.plot(ti,s[:,idx],label=case.label)\n",
      " # print s[298e03:,idx]\n",
      "  max0_1[i] = np.amax(s[500e3:,idx])\n",
      "  min0_1[i] = np.amin(s[500e3:,idx])\n",
      "  diff0_1[i] = max0_1[i] - min0_1[i]\n",
      "  print max0_1, min0_1, diff0_1\n",
      "  i=i+1\n",
      "    \n",
      "#plt.figure()\n",
      "#idx = s_idx.index(\"Nai\")\n",
      "#plt.plot(t,s[:,idx],label=case.label)\n",
      "plt.xlim([290e3,300e3])\n",
      "plt.legend()\n",
      "outFile=\"mouse-despa_baseline_freq0.1.png\"\n",
      "plt.gcf().savefig(outFile)\n",
      "\n",
      "diff0_1b=diff0_1[0]\n",
      "diff0_1x=diff0_1[1]\n",
      "\n",
      "print \"Baseline: \", diff0_1b\n",
      "print \"Extended: \", diff0_1x"
     ],
     "language": "python",
     "metadata": {},
     "outputs": [
      {
       "output_type": "stream",
       "stream": "stdout",
       "text": [
        "./mouse-despa_baseline_freq0.1_5.pickle\n",
        "baseline_freq0.1\n",
        "Baseline (0.1 Hz)\n",
        "[ 0.00019266  0.        ]"
       ]
      },
      {
       "output_type": "stream",
       "stream": "stdout",
       "text": [
        " [  6.28499210e-05   0.00000000e+00] [ 0.00012981  0.        ]\n",
        "./mouse-despa_incrleak3.0_freq0.1_5.pickle\n",
        "incrleak3.0_freq0.1\n",
        "+HIP (3.0x)\n",
        "[ 0.00019266  0.00043807] [  6.28499210e-05   8.22681475e-05] [ 0.00012981  0.0003558 ]\n",
        "Baseline: "
       ]
      },
      {
       "output_type": "stream",
       "stream": "stdout",
       "text": [
        " 0.000129807382989\n",
        "Extended:  0.00035579950367\n"
       ]
      },
      {
       "metadata": {},
       "output_type": "display_data",
       "png": "[encoded data removed]",
       "text": [
        "<matplotlib.figure.Figure at 0x7f12ee90fb10>"
       ]
      }
     ],
     "prompt_number": 121
    },
    {
     "cell_type": "code",
     "collapsed": false,
     "input": [
      "freqi = \"%3.1f\"%0.5\n",
      "caseDicti = dict()\n",
      "for key,case in caseDict.iteritems():\n",
      "    if freqi in key:\n",
      "        print case.label \n",
      "        caseDicti[case.tag]=case"
     ],
     "language": "python",
     "metadata": {},
     "outputs": [
      {
       "output_type": "stream",
       "stream": "stdout",
       "text": [
        "+HIP (3.0x)\n",
        "Baseline (0.5 Hz)\n"
       ]
      }
     ],
     "prompt_number": 122
    },
    {
     "cell_type": "code",
     "collapsed": false,
     "input": [
      "plt.figure()\n",
      "i=0\n",
      "max0_5=np.zeros(2)\n",
      "min0_5=np.zeros(2)\n",
      "diff0_5=np.zeros(2)\n",
      "for key, case in caseDicti.iteritems():\n",
      "  print case.tag\n",
      "  print case.label\n",
      "  t = case.data['t'] \n",
      "  #t-= np.min(t)  \n",
      "  ti= t + T*(1-1/np.float(nIntervals)) # should define this elsewhere (dbl check) \n",
      "  print \"time!\", t\n",
      "  print \"TIme!\", ti\n",
      "  s = case.data['s']\n",
      "  s_idx = case.data['s_idx']\n",
      "\n",
      "\n",
      "  idx = s_idx.index(\"Cai\")\n",
      "  plt.plot(ti,s[:,idx],label=case.label)\n",
      " # print s[298e03:,idx]\n",
      "  max0_5[i] = np.amax(s[578e3:,idx])\n",
      "  min0_5[i] = np.amin(s[578e3:,idx])\n",
      "  diff0_5[i] = max0_5[i] - min0_5[i]\n",
      "  print max0_5, min0_5, diff0_5\n",
      "  i=i+1\n",
      "  print np.shape(s[:,idx])\n",
      "    \n",
      "#plt.figure()\n",
      "#idx = s_idx.index(\"Nai\")\n",
      "#plt.plot(t,s[:,idx],label=case.label)\n",
      "plt.xlim([298e3,300e3])\n",
      "plt.legend()\n",
      "outFile=\"mouse-despa_baseline_freq0.5.png\"\n",
      "plt.gcf().savefig(outFile)\n",
      "\n",
      "diff0_5b=diff0_5[1]\n",
      "diff0_5x=diff0_5[0]\n",
      "\n",
      "print \"Baseline: \", diff0_5b\n",
      "print \"Extended: \", diff0_5x"
     ],
     "language": "python",
     "metadata": {},
     "outputs": [
      {
       "output_type": "stream",
       "stream": "stdout",
       "text": [
        "incrleak3.0_freq0.5\n",
        "+HIP (3.0x)\n",
        "time! [  0.00000000e+00   1.00000000e-01   2.00000000e-01 ...,   5.99998000e+04\n",
        "   5.99999000e+04   6.00000000e+04]\n",
        "TIme! [ 240000.   240000.1  240000.2 ...,  299999.8  299999.9  300000. ]\n",
        "[ 0.00038406  0.        ]"
       ]
      },
      {
       "output_type": "stream",
       "stream": "stdout",
       "text": [
        " [  8.45448446e-05   0.00000000e+00] [ 0.00029952  0.        ]\n",
        "(600001,)\n",
        "baseline_freq0.5\n",
        "Baseline (0.5 Hz)\n",
        "time! [  0.00000000e+00   1.00000000e-01   2.00000000e-01 ...,   5.99998000e+04\n",
        "   5.99999000e+04   6.00000000e+04]\n",
        "TIme! [ 240000.   240000.1  240000.2 ...,  299999.8  299999.9  300000. ]\n",
        "[ 0.00038406  0.00027766]"
       ]
      },
      {
       "output_type": "stream",
       "stream": "stdout",
       "text": [
        " [  8.45448446e-05   7.28285306e-05] [ 0.00029952  0.00020483]\n",
        "(600001,)\n",
        "Baseline: "
       ]
      },
      {
       "output_type": "stream",
       "stream": "stdout",
       "text": [
        " 0.000204829433725\n",
        "Extended:  0.000299518545731\n"
       ]
      },
      {
       "metadata": {},
       "output_type": "display_data",
       "png": "[encoded data removed]",
       "text": [
        "<matplotlib.figure.Figure at 0x7f12ee90f410>"
       ]
      }
     ],
     "prompt_number": 123
    },
    {
     "cell_type": "code",
     "collapsed": false,
     "input": [
      "plt.figure()\n",
      "i=0\n",
      "max0_5=np.zeros(2)\n",
      "min0_5=np.zeros(2)\n",
      "diff0_5=np.zeros(2)\n",
      "for key, case in caseDicti.iteritems():\n",
      "#  print case.tag\n",
      "  print case.label\n",
      "  t = case.data['t'] \n",
      "  #t-= np.min(t)  \n",
      "  ti= t + T*(1-1/np.float(nIntervals)) # should define this elsewhere (dbl check) \n",
      "#  print \"time!\", t\n",
      "#  print \"TIme!\", np.shape(ti)\n",
      "  s = case.data['s']\n",
      "  s_idx = case.data['s_idx']\n",
      "\n",
      "\n",
      "  idx = s_idx.index(\"Cai\")\n",
      " # plt.plot(ti,s[:,idx],label=case.label)\n",
      " # print s[298e03:,idx]\n",
      "  max0_5 = np.amax(s[578e3:,idx])\n",
      "  min0_5 = np.amin(s[578e3:,idx])\n",
      "  print max0_5\n",
      "  \n",
      "  s_shift = s[578e3:,idx]-min0_5\n",
      "  max0_5 = np.amax(s_shift)\n",
      "  s_shift/=max0_5\n",
      "  print s[578e3:,idx]\n",
      "  print np.amax(s_shift)\n",
      "#  print np.shape(ti[598e3:])\n",
      "    \n",
      "  plt.plot(ti[578e3:],s_shift,label=case.label)\n",
      "    \n",
      "#plt.figure()\n",
      "#idx = s_idx.index(\"Nai\")\n",
      "#plt.plot(t,s[:,idx],label=case.label)\n",
      "plt.xlim([298e3,300e3])\n",
      "plt.legend()\n",
      "outFile=\"mouse-figure5C.png\"\n",
      "plt.gcf().savefig(outFile)"
     ],
     "language": "python",
     "metadata": {},
     "outputs": [
      {
       "output_type": "stream",
       "stream": "stdout",
       "text": [
        "+HIP (3.0x)\n",
        "0.000384063390331\n",
        "[  8.46751170e-05   8.46752087e-05   8.46753004e-05 ...,   8.48898770e-05\n",
        "   8.48899955e-05   8.48901141e-05]\n",
        "1.0\n",
        "Baseline (0.5 Hz)\n",
        "0.000277657964354\n",
        "[  7.31855615e-05   7.31854091e-05   7.31852567e-05 ...,   7.29307955e-05\n",
        "   7.29306872e-05   7.29305790e-05]\n",
        "1.0\n"
       ]
      },
      {
       "metadata": {},
       "output_type": "display_data",
       "png": "[encoded data removed]",
       "text": [
        "<matplotlib.figure.Figure at 0x7f12ee90f8d0>"
       ]
      }
     ],
     "prompt_number": 124
    },
    {
     "cell_type": "code",
     "collapsed": false,
     "input": [
      "freqi = \"%3.1f\"%1.0\n",
      "caseDicti = dict()\n",
      "for key,case in caseDict.iteritems():\n",
      "    if freqi in key:\n",
      "        print case.label \n",
      "        caseDicti[case.tag]=case"
     ],
     "language": "python",
     "metadata": {},
     "outputs": [
      {
       "output_type": "stream",
       "stream": "stdout",
       "text": [
        "Baseline (1.0 Hz)\n",
        "+HIP (3.0x)\n"
       ]
      }
     ],
     "prompt_number": 125
    },
    {
     "cell_type": "code",
     "collapsed": false,
     "input": [
      "plt.figure()\n",
      "i=0\n",
      "max1=np.zeros(2)\n",
      "min1=np.zeros(2)\n",
      "diff1=np.zeros(2)\n",
      "for key, case in caseDicti.iteritems():\n",
      "  print case.tag\n",
      "  print case.label\n",
      "  t = case.data['t'] \n",
      "  #t-= np.min(t)  \n",
      "  ti= t + T*(1-1/np.float(nIntervals)) # should define this elsewhere (dbl check) \n",
      "  s = case.data['s']\n",
      "  s_idx = case.data['s_idx']\n",
      "\n",
      "\n",
      "  idx = s_idx.index(\"Cai\")\n",
      "  plt.plot(ti,s[:,idx],label=case.label)\n",
      " # print s[298e03:,idx]\n",
      "  max1[i] = np.amax(s[580e3:,idx])\n",
      "  min1[i] = np.amin(s[580e3:,idx])\n",
      "  diff1[i] = max1[i] - min1[i]\n",
      "  print max1, min1, diff1\n",
      "  i=i+1\n",
      "    \n",
      "#plt.figure()\n",
      "#idx = s_idx.index(\"Nai\")\n",
      "#plt.plot(t,s[:,idx],label=case.label)\n",
      "plt.xlim([299e3,300e3])\n",
      "plt.legend()\n",
      "outFile=\"mouse-despa_baseline_freq1.png\"\n",
      "plt.gcf().savefig(outFile)\n",
      "\n",
      "diff1b=diff1[1]\n",
      "diff1x=diff1[0]\n",
      "\n",
      "print \"Baseline: \", diff1b\n",
      "print \"Extended: \", diff1x"
     ],
     "language": "python",
     "metadata": {},
     "outputs": [
      {
       "output_type": "stream",
       "stream": "stdout",
       "text": [
        "incrleak3.0_freq1.0\n",
        "+HIP (3.0x)\n",
        "[ 0.00038435  0.        ]"
       ]
      },
      {
       "output_type": "stream",
       "stream": "stdout",
       "text": [
        " [  8.83064436e-05   0.00000000e+00] [ 0.00029604  0.        ]\n",
        "baseline_freq1.0\n",
        "Baseline (1.0 Hz)\n",
        "[ 0.00038435  0.00031929] [  8.83064436e-05   7.96676230e-05] [ 0.00029604  0.00023962]\n",
        "Baseline: "
       ]
      },
      {
       "output_type": "stream",
       "stream": "stdout",
       "text": [
        " 0.000239618861134\n",
        "Extended:  0.000296043173192\n"
       ]
      },
      {
       "metadata": {},
       "output_type": "display_data",
       "png": "[encoded data removed]",
       "text": [
        "<matplotlib.figure.Figure at 0x7f1353ad3490>"
       ]
      }
     ],
     "prompt_number": 126
    },
    {
     "cell_type": "code",
     "collapsed": false,
     "input": [
      "freqi = \"%3.1f\"%1.5\n",
      "caseDicti = dict()\n",
      "for key,case in caseDict.iteritems():\n",
      "    if freqi in key:\n",
      "        print case.label \n",
      "        caseDicti[case.tag]=case"
     ],
     "language": "python",
     "metadata": {},
     "outputs": [
      {
       "output_type": "stream",
       "stream": "stdout",
       "text": [
        "Baseline (1.5 Hz)\n",
        "+HIP (3.0x)\n"
       ]
      }
     ],
     "prompt_number": 127
    },
    {
     "cell_type": "code",
     "collapsed": false,
     "input": [
      "plt.figure()\n",
      "i=0\n",
      "max1_5=np.zeros(2)\n",
      "min1_5=np.zeros(2)\n",
      "diff1_5=np.zeros(2)\n",
      "for key, case in caseDicti.iteritems():\n",
      "  print case.tag\n",
      "  print case.label\n",
      "  t = case.data['t'] \n",
      "  #t-= np.min(t)  \n",
      "  ti= t + T*(1-1/np.float(nIntervals)) # should define this elsewhere (dbl check) \n",
      "  s = case.data['s']\n",
      "  s_idx = case.data['s_idx']\n",
      "\n",
      "\n",
      "  idx = s_idx.index(\"Cai\")\n",
      "  plt.plot(ti,s[:,idx],label=case.label)\n",
      " # print s[298e03:,idx]\n",
      "  max1_5[i] = np.amax(s[585e3:,idx])\n",
      "  min1_5[i] = np.amin(s[585e3:,idx])\n",
      "  diff1_5[i] = max1_5[i] - min1_5[i]\n",
      "  print max1_5, min1_5, diff1_5\n",
      "  i=i+1\n",
      "    \n",
      "#plt.figure()\n",
      "#idx = s_idx.index(\"Nai\")\n",
      "#plt.plot(t,s[:,idx],label=case.label)\n",
      "plt.xlim([299e3,300e3])\n",
      "plt.legend()\n",
      "outFile=\"mouse-despa_baseline_freq1.5.png\"\n",
      "plt.gcf().savefig(outFile)\n",
      "\n",
      "diff1_5b=diff1_5[0]\n",
      "diff1_5x=diff1_5[1]\n",
      "\n",
      "print \"Baseline: \", diff1_5b\n",
      "print \"Extended: \", diff1_5x"
     ],
     "language": "python",
     "metadata": {},
     "outputs": [
      {
       "output_type": "stream",
       "stream": "stdout",
       "text": [
        "baseline_freq1.5\n",
        "Baseline (1.5 Hz)\n",
        "[ 0.0003516  0.       ]"
       ]
      },
      {
       "output_type": "stream",
       "stream": "stdout",
       "text": [
        " [  9.07205555e-05   0.00000000e+00] [ 0.00026088  0.        ]\n",
        "incrleak3.0_freq1.5\n",
        "+HIP (3.0x)\n",
        "[ 0.0003516   0.00040006]"
       ]
      },
      {
       "output_type": "stream",
       "stream": "stdout",
       "text": [
        " [  9.07205555e-05   9.77643876e-05] [ 0.00026088  0.0003023 ]\n",
        "Baseline: "
       ]
      },
      {
       "output_type": "stream",
       "stream": "stdout",
       "text": [
        " 0.000260882518529\n",
        "Extended:  0.00030229720862\n"
       ]
      },
      {
       "metadata": {},
       "output_type": "display_data",
       "png": "[encoded data removed]",
       "text": [
        "<matplotlib.figure.Figure at 0x7f1353ad3c90>"
       ]
      }
     ],
     "prompt_number": 128
    },
    {
     "cell_type": "code",
     "collapsed": false,
     "input": [
      "freqi = \"%3.1f\"%2.0\n",
      "caseDicti = dict()\n",
      "for key,case in caseDict.iteritems():\n",
      "    if freqi in key:\n",
      "        print case.label \n",
      "        caseDicti[case.tag]=case"
     ],
     "language": "python",
     "metadata": {},
     "outputs": [
      {
       "output_type": "stream",
       "stream": "stdout",
       "text": [
        "+HIP (3.0x)\n",
        "Baseline (2.0 Hz)\n"
       ]
      }
     ],
     "prompt_number": 129
    },
    {
     "cell_type": "code",
     "collapsed": false,
     "input": [
      "plt.figure()\n",
      "i=0\n",
      "max2=np.zeros(2)\n",
      "min2=np.zeros(2)\n",
      "diff2=np.zeros(2)\n",
      "for key, case in caseDicti.iteritems():\n",
      "  print case.tag\n",
      "  print case.label\n",
      "  t = case.data['t'] \n",
      "  #t-= np.min(t)  \n",
      "  ti= t + T*(1-1/np.float(nIntervals)) # should define this elsewhere (dbl check) \n",
      "  s = case.data['s']\n",
      "  s_idx = case.data['s_idx']\n",
      "\n",
      "\n",
      "  idx = s_idx.index(\"Cai\")\n",
      "  plt.plot(ti,s[:,idx],label=case.label)\n",
      " # print s[298e03:,idx]\n",
      "  max2[i] = np.amax(s[590e3:,idx])\n",
      "  min2[i] = np.amin(s[590e3:,idx])\n",
      "  diff2[i] = max2[i] - min2[i]\n",
      "  print max2, min2, diff2\n",
      "  i=i+1\n",
      "    \n",
      "#plt.figure()\n",
      "#idx = s_idx.index(\"Nai\")\n",
      "#plt.plot(t,s[:,idx],label=case.label)\n",
      "plt.xlim([299.5e3,300e3])\n",
      "plt.legend()\n",
      "outFile=\"mouse-despa_baseline_freq2.png\"\n",
      "plt.gcf().savefig(outFile)\n",
      "\n",
      "diff2b=diff2[0]\n",
      "diff2x=diff2[1]\n",
      "\n",
      "print \"Baseline: \", diff2b\n",
      "print \"Extended: \", diff2x"
     ],
     "language": "python",
     "metadata": {},
     "outputs": [
      {
       "output_type": "stream",
       "stream": "stdout",
       "text": [
        "baseline_freq2.0\n",
        "Baseline (2.0 Hz)\n",
        "[ 0.00038326  0.        ]"
       ]
      },
      {
       "output_type": "stream",
       "stream": "stdout",
       "text": [
        " [ 0.00010518  0.        ] [ 0.00027808  0.        ]\n",
        "incrleak3.0_freq2.0\n",
        "+HIP (3.0x)\n",
        "[ 0.00038326  0.00042364]"
       ]
      },
      {
       "output_type": "stream",
       "stream": "stdout",
       "text": [
        " [ 0.00010518  0.00011161] [ 0.00027808  0.00031204]\n",
        "Baseline: "
       ]
      },
      {
       "output_type": "stream",
       "stream": "stdout",
       "text": [
        " 0.000278082605542\n",
        "Extended:  0.000312036904459\n"
       ]
      },
      {
       "metadata": {},
       "output_type": "display_data",
       "png": "[encoded data removed]",
       "text": [
        "<matplotlib.figure.Figure at 0x7f135368d6d0>"
       ]
      }
     ],
     "prompt_number": 130
    },
    {
     "cell_type": "code",
     "collapsed": false,
     "input": [
      "ctl_y=np.array([diff0_1b, diff0_5b, diff1b, diff1_5b, diff2b])\n",
      "pd_y=np.array([diff0_1x, diff0_5x, diff1x, diff1_5x, diff2x])\n",
      "freq=(0.1,0.5,1.0,1.5,2.0)"
     ],
     "language": "python",
     "metadata": {},
     "outputs": [],
     "prompt_number": 131
    },
    {
     "cell_type": "code",
     "collapsed": false,
     "input": [
      "ax1 = plt.subplot(1,1,1)\n",
      "\n",
      "#############\n",
      "\n",
      "ax1.plot(freq,ctl_y,label=\"Baseline\")\n",
      "\n",
      "ax1.plot(freq,pd_y,label=\"+HIP (3x Leak)\")\n",
      "\n",
      "ax1.set_xlim([0,2.5])\n",
      "ax1.set_ylabel(\"Difference in Cai [mM]\")\n",
      "ax1.set_xlabel(\"Frequency [Hz]\")\n",
      "ax1.set_title(\"Cai\")\n",
      "\n",
      "plt.legend(loc=0, ncol=3)\n",
      "plt.tight_layout()\n",
      "\n",
      "plt.gcf().savefig('mouse-figure5D.png',dpi=300)"
     ],
     "language": "python",
     "metadata": {},
     "outputs": [
      {
       "metadata": {},
       "output_type": "display_data",
       "png": "[encoded data removed]",
       "text": [
        "<matplotlib.figure.Figure at 0x7f138fc6f350>"
       ]
      }
     ],
     "prompt_number": 132
    },
    {
     "cell_type": "markdown",
     "metadata": {},
     "source": [
      "#### Double checking results by looking at entire sequence of runs"
     ]
    },
    {
     "cell_type": "code",
     "collapsed": true,
     "input": [
      "import daisychain as dc\n",
      "#name = root+\"despa_baseline_1000.pickle\"\n",
      "pickleNames = dc.daisychain(outBase=case.prefix,iters=nIntervals,namesOnly=True)\n",
      "print pickleNames"
     ],
     "language": "python",
     "metadata": {},
     "outputs": [
      {
       "output_type": "stream",
       "stream": "stdout",
       "text": [
        "['./mouse-despa_incrleak3.0_freq2.0_1.pickle', './mouse-despa_incrleak3.0_freq2.0_2.pickle', './mouse-despa_incrleak3.0_freq2.0_3.pickle', './mouse-despa_incrleak3.0_freq2.0_4.pickle', './mouse-despa_incrleak3.0_freq2.0_5.pickle']\n"
       ]
      }
     ],
     "prompt_number": 116
    },
    {
     "cell_type": "code",
     "collapsed": false,
     "input": [
      "ts, allsisi, s_idx = dc.concatenateTrajs(pickleNames)\n",
      "label = \"Cai\"\n",
      "idx = s_idx.index(label)\n",
      "plt.plot(ts,allsisi[:,idx])\n",
      "#plt.xlim([250e3,300e3])"
     ],
     "language": "python",
     "metadata": {},
     "outputs": [
      {
       "output_type": "stream",
       "stream": "stdout",
       "text": [
        "Reading ./mouse-despa_incrleak3.0_freq2.0_1.pickle\n",
        "t "
       ]
      },
      {
       "output_type": "stream",
       "stream": "stdout",
       "text": [
        " 60000.0\n",
        "Reading ./mouse-despa_incrleak3.0_freq2.0_2.pickle\n",
        "t "
       ]
      },
      {
       "output_type": "stream",
       "stream": "stdout",
       "text": [
        " 120000.0\n",
        "Reading ./mouse-despa_incrleak3.0_freq2.0_3.pickle\n",
        "t "
       ]
      },
      {
       "output_type": "stream",
       "stream": "stdout",
       "text": [
        " 180000.0\n",
        "Reading ./mouse-despa_incrleak3.0_freq2.0_4.pickle\n",
        "t "
       ]
      },
      {
       "output_type": "stream",
       "stream": "stdout",
       "text": [
        " 240000.0\n",
        "Reading ./mouse-despa_incrleak3.0_freq2.0_5.pickle\n",
        "t "
       ]
      },
      {
       "output_type": "stream",
       "stream": "stdout",
       "text": [
        " 300000.0\n"
       ]
      },
      {
       "metadata": {},
       "output_type": "pyout",
       "prompt_number": 117,
       "text": [
        "[<matplotlib.lines.Line2D at 0x7f135369a190>]"
       ]
      },
      {
       "metadata": {},
       "output_type": "display_data",
       "png": "[encoded data removed]",
       "text": [
        "<matplotlib.figure.Figure at 0x7f135d73be90>"
       ]
      }
     ],
     "prompt_number": 117
    },
    {
     "cell_type": "code",
     "collapsed": false,
     "input": [],
     "language": "python",
     "metadata": {},
     "outputs": []
    }
   ],
   "metadata": {}
  }
 ]
}