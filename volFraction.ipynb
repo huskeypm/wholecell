{
 "metadata": {
  "name": "",
  "signature": "sha256:addcf2be43470472eba5ff4b9d0505ec90d5244e2869eb4bb3f0f19ec11217d3"
 },
 "nbformat": 3,
 "nbformat_minor": 0,
 "worksheets": [
  {
   "cells": [
    {
     "cell_type": "heading",
     "level": 1,
     "metadata": {},
     "source": [
      "X. Zhang, et al., J.E. DeRouchey 2015 Biophys J, 108:530-539."
     ]
    },
    {
     "cell_type": "heading",
     "level": 2,
     "metadata": {},
     "source": [
      "Objective:  Find volume fractions and corresponding diffusivities."
     ]
    },
    {
     "cell_type": "heading",
     "level": 5,
     "metadata": {},
     "source": [
      "p=0.1*b=2.3 nm; b=23 nm"
     ]
    },
    {
     "cell_type": "code",
     "collapsed": false,
     "input": [
      "p_radius=2.3/2\n",
      "p_radius"
     ],
     "language": "python",
     "metadata": {},
     "outputs": [
      {
       "metadata": {},
       "output_type": "pyout",
       "prompt_number": 10,
       "text": [
        "1.15"
       ]
      }
     ],
     "prompt_number": 10
    },
    {
     "cell_type": "heading",
     "level": 5,
     "metadata": {},
     "source": [
      "p=particle diameter;\n",
      "b=box size."
     ]
    },
    {
     "cell_type": "code",
     "collapsed": false,
     "input": [
      "b=2.3/0.1\n",
      "b"
     ],
     "language": "python",
     "metadata": {},
     "outputs": [
      {
       "metadata": {},
       "output_type": "pyout",
       "prompt_number": 8,
       "text": [
        "22.999999999999996"
       ]
      }
     ],
     "prompt_number": 8
    },
    {
     "cell_type": "markdown",
     "metadata": {},
     "source": [
      "Volume of a sphere = 4/3*(pi)*r**3"
     ]
    },
    {
     "cell_type": "markdown",
     "metadata": {},
     "source": [
      "How many particles are in a given volume?"
     ]
    },
    {
     "cell_type": "markdown",
     "metadata": {},
     "source": [
      "%w/v = (weight of solute in grams)/(volume of solution in ml) * 100"
     ]
    },
    {
     "cell_type": "markdown",
     "metadata": {},
     "source": [
      "Find weight of solute, divide by weight of particle to get number of particles"
     ]
    },
    {
     "cell_type": "markdown",
     "metadata": {},
     "source": [
      "Dextran20 (15-25 kDa mol wt)"
     ]
    },
    {
     "cell_type": "markdown",
     "metadata": {},
     "source": [
      "Dextran500 (500 kDa mol wt)"
     ]
    },
    {
     "cell_type": "markdown",
     "metadata": {},
     "source": [
      "CM-dextran(-) (15-20 kDa mol wt)"
     ]
    },
    {
     "cell_type": "markdown",
     "metadata": {},
     "source": [
      "DEAE-dextran(+) (500 kDa mol wt)"
     ]
    },
    {
     "cell_type": "code",
     "collapsed": false,
     "input": [
      "x=(.01/(500*10**-9*10**3))\n",
      "x"
     ],
     "language": "python",
     "metadata": {},
     "outputs": [
      {
       "metadata": {},
       "output_type": "pyout",
       "prompt_number": 7,
       "text": [
        "19.999999999999996"
       ]
      }
     ],
     "prompt_number": 7
    },
    {
     "cell_type": "code",
     "collapsed": false,
     "input": [],
     "language": "python",
     "metadata": {},
     "outputs": []
    }
   ],
   "metadata": {}
  }
 ]
}