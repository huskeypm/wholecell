{
 "metadata": {
  "name": "",
  "signature": "sha256:413471fdcd7a04b4c8bae3cf6bbd35b0f6d23ddacabb95502b1604d7de46395b"
 },
 "nbformat": 3,
 "nbformat_minor": 0,
 "worksheets": [
  {
   "cells": [
    {
     "cell_type": "markdown",
     "metadata": {},
     "source": [
      "## MPI with notebook. \n",
      "Before running, within the same terminal window, run \n",
      "<code>\n",
      "source dolfin.bash\n",
      "</code>\n",
      "and \n",
      "<code>\n",
      "ipcluster start --engines=MPI --n 4\n",
      "</code>\n",
      "and \n",
      "\n",
      "Thereafter, load notebook as usual"
     ]
    },
    {
     "cell_type": "code",
     "collapsed": false,
     "input": [
      "%load_ext autoreload\n",
      "%autoreload 2"
     ],
     "language": "python",
     "metadata": {},
     "outputs": [],
     "prompt_number": 1
    },
    {
     "cell_type": "markdown",
     "metadata": {},
     "source": [
      "### Hello world test "
     ]
    },
    {
     "cell_type": "code",
     "collapsed": false,
     "input": [
      "from IPython.parallel import Client\n",
      "c = Client()\n",
      "c.ids"
     ],
     "language": "python",
     "metadata": {},
     "outputs": [
      {
       "metadata": {},
       "output_type": "pyout",
       "prompt_number": 2,
       "text": [
        "[0, 1, 2, 3]"
       ]
      }
     ],
     "prompt_number": 2
    },
    {
     "cell_type": "markdown",
     "metadata": {},
     "source": [
      "### MPI calls"
     ]
    },
    {
     "cell_type": "code",
     "collapsed": false,
     "input": [
      "%autopx"
     ],
     "language": "python",
     "metadata": {},
     "outputs": [
      {
       "output_type": "stream",
       "stream": "stdout",
       "text": [
        "%autopx enabled\n"
       ]
      }
     ],
     "prompt_number": 3
    },
    {
     "cell_type": "markdown",
     "metadata": {},
     "source": [
      "### Dolfin calls (in parallel)"
     ]
    },
    {
     "cell_type": "code",
     "collapsed": false,
     "input": [
      "from dolfin import *"
     ],
     "language": "python",
     "metadata": {},
     "outputs": [],
     "prompt_number": 4
    },
    {
     "cell_type": "code",
     "collapsed": false,
     "input": [
      "import sachse \n",
      "sachse.useMPI = False\n",
      "sachse.whosalive()"
     ],
     "language": "python",
     "metadata": {},
     "outputs": [
      {
       "output_type": "stream",
       "stream": "stdout",
       "text": [
        "[stdout:0] I'm alive!\n",
        "[stdout:1] I'm alive!\n",
        "[stdout:2] I'm alive!\n",
        "[stdout:3] I'm alive!\n"
       ]
      }
     ],
     "prompt_number": 5
    },
    {
     "cell_type": "code",
     "collapsed": false,
     "input": [
      "params = sachse.Params()\n",
      "params.useMPI = True\n",
      "useMPI = True\n",
      "params.T = 2\n",
      "results= sachse.tsolve(mode=\"sachse\", params=params)\n"
     ],
     "language": "python",
     "metadata": {},
     "outputs": [
      {
       "ename": "CompositeError",
       "evalue": "one or more exceptions from call to method: execute\n[0:execute]: RuntimeError: index must belong to this process, cannot index off-process entries in a GenericVector\n[1:execute]: RuntimeError: index must belong to this process, cannot index off-process entries in a GenericVector\n[2:execute]: RuntimeError: index must belong to this process, cannot index off-process entries in a GenericVector\n[3:execute]: RuntimeError: index must belong to this process, cannot index off-process entries in a GenericVector",
       "output_type": "pyerr",
       "traceback": [
        "[0:execute]: ",
        "\u001b[0;31m---------------------------------------------------------------------------\u001b[0m",
        "\u001b[0;31mRuntimeError\u001b[0m                              Traceback (most recent call last)\u001b[0;32m<ipython-input-16-82484e670cd7>\u001b[0m in \u001b[0;36m<module>\u001b[0;34m()\u001b[0m",
        "\u001b[1;32m      2\u001b[0m \u001b[0mparams\u001b[0m\u001b[0;34m.\u001b[0m\u001b[0museMPI\u001b[0m \u001b[0;34m=\u001b[0m \u001b[0mTrue\u001b[0m\u001b[0;34m\u001b[0m\u001b[0m",
        "\u001b[1;32m      3\u001b[0m \u001b[0mparams\u001b[0m\u001b[0;34m.\u001b[0m\u001b[0mT\u001b[0m \u001b[0;34m=\u001b[0m \u001b[0;36m2\u001b[0m\u001b[0;34m\u001b[0m\u001b[0m",
        "\u001b[0;32m----> 4\u001b[0;31m \u001b[0mresults\u001b[0m\u001b[0;34m=\u001b[0m \u001b[0msachse\u001b[0m\u001b[0;34m.\u001b[0m\u001b[0mtsolve\u001b[0m\u001b[0;34m(\u001b[0m\u001b[0mmode\u001b[0m\u001b[0;34m=\u001b[0m\u001b[0;34m\"sachse\"\u001b[0m\u001b[0;34m,\u001b[0m \u001b[0mparams\u001b[0m\u001b[0;34m=\u001b[0m\u001b[0mparams\u001b[0m\u001b[0;34m)\u001b[0m\u001b[0;34m\u001b[0m\u001b[0m",
        "\u001b[0m\u001b[0;32m/u1/huskeypm/srcs/wholecell/sachse.py\u001b[0m in \u001b[0;36mtsolve\u001b[0;34m(fileName, outName, mode, params, debug)\u001b[0m",
        "\u001b[1;32m    518\u001b[0m       \u001b[0;31m# doesn't work w mpi\u001b[0m\u001b[0;34m\u001b[0m\u001b[0;34m\u001b[0m\u001b[0m",
        "\u001b[1;32m    519\u001b[0m       \u001b[0;32mprint\u001b[0m \u001b[0;34m\"MPI mode\"\u001b[0m\u001b[0;34m,\u001b[0m \u001b[0mparams\u001b[0m\u001b[0;34m.\u001b[0m\u001b[0museMPI\u001b[0m\u001b[0;34m\u001b[0m\u001b[0m",
        "\u001b[0;32m--> 520\u001b[0;31m       \u001b[0;32mreturn\u001b[0m\u001b[0;34m\u001b[0m\u001b[0m",
        "\u001b[0m\u001b[1;32m    521\u001b[0m       \u001b[0;32mif\u001b[0m \u001b[0mparams\u001b[0m\u001b[0;34m.\u001b[0m\u001b[0museMPI\u001b[0m\u001b[0;34m==\u001b[0m\u001b[0mFalse\u001b[0m\u001b[0;34m:\u001b[0m\u001b[0;34m\u001b[0m\u001b[0m",
        "\u001b[1;32m    522\u001b[0m         \u001b[0;32mprint\u001b[0m \u001b[0;34m\"SDF\"\u001b[0m\u001b[0;34m\u001b[0m\u001b[0m",
        "\u001b[0;32m/u1/huskeypm/srcs/wholecell/sachse.py\u001b[0m in \u001b[0;36mInterpolateData\u001b[0;34m(mesh, u, dims, mode, doplot)\u001b[0m",
        "\u001b[1;32m    208\u001b[0m                             \u001b[0myMid\u001b[0m\u001b[0;34m:\u001b[0m\u001b[0myMid\u001b[0m\u001b[0;34m:\u001b[0m\u001b[0;36m1j\u001b[0m\u001b[0;34m,\u001b[0m\u001b[0;34m\u001b[0m\u001b[0m",
        "\u001b[1;32m    209\u001b[0m                             0:0:1j]",
        "\u001b[0;32m--> 210\u001b[0;31m       \u001b[0mline\u001b[0m \u001b[0;34m=\u001b[0m \u001b[0mgriddata\u001b[0m\u001b[0;34m(\u001b[0m\u001b[0mmesh\u001b[0m\u001b[0;34m.\u001b[0m\u001b[0mcoordinates\u001b[0m\u001b[0;34m(\u001b[0m\u001b[0;34m)\u001b[0m\u001b[0;34m,\u001b[0m\u001b[0mup\u001b[0m\u001b[0;34m.\u001b[0m\u001b[0mvector\u001b[0m\u001b[0;34m(\u001b[0m\u001b[0;34m)\u001b[0m\u001b[0;34m,\u001b[0m\u001b[0;34m(\u001b[0m\u001b[0mgx\u001b[0m\u001b[0;34m,\u001b[0m\u001b[0mgy\u001b[0m\u001b[0;34m,\u001b[0m\u001b[0mgz\u001b[0m\u001b[0;34m)\u001b[0m\u001b[0;34m)\u001b[0m\u001b[0;34m\u001b[0m\u001b[0m",
        "\u001b[0m\u001b[1;32m    211\u001b[0m       \u001b[0;31m#print np.shape(line)\u001b[0m\u001b[0;34m\u001b[0m\u001b[0;34m\u001b[0m\u001b[0m",
        "\u001b[1;32m    212\u001b[0m       \u001b[0;31m#img0 = np.reshape(line[:,0,0],[res])\u001b[0m\u001b[0;34m\u001b[0m\u001b[0;34m\u001b[0m\u001b[0m",
        "\u001b[0;32m/usr/lib/python2.7/dist-packages/scipy/interpolate/ndgriddata.pyc\u001b[0m in \u001b[0;36mgriddata\u001b[0;34m(points, values, xi, method, fill_value, rescale)\u001b[0m",
        "\u001b[1;32m    204\u001b[0m     \u001b[0;32melif\u001b[0m \u001b[0mmethod\u001b[0m \u001b[0;34m==\u001b[0m \u001b[0;34m'linear'\u001b[0m\u001b[0;34m:\u001b[0m\u001b[0;34m\u001b[0m\u001b[0m",
        "\u001b[1;32m    205\u001b[0m         ip = LinearNDInterpolator(points, values, fill_value=fill_value,",
        "\u001b[0;32m--> 206\u001b[0;31m                                   rescale=rescale)",
        "\u001b[0m\u001b[1;32m    207\u001b[0m         \u001b[0;32mreturn\u001b[0m \u001b[0mip\u001b[0m\u001b[0;34m(\u001b[0m\u001b[0mxi\u001b[0m\u001b[0;34m)\u001b[0m\u001b[0;34m\u001b[0m\u001b[0m",
        "\u001b[1;32m    208\u001b[0m     \u001b[0;32melif\u001b[0m \u001b[0mmethod\u001b[0m \u001b[0;34m==\u001b[0m \u001b[0;34m'cubic'\u001b[0m \u001b[0;32mand\u001b[0m \u001b[0mndim\u001b[0m \u001b[0;34m==\u001b[0m \u001b[0;36m2\u001b[0m\u001b[0;34m:\u001b[0m\u001b[0;34m\u001b[0m\u001b[0m",
        "\u001b[0;32m/usr/lib/python2.7/dist-packages/scipy/interpolate/interpnd.so\u001b[0m in \u001b[0;36mscipy.interpolate.interpnd.LinearNDInterpolator.__init__ (scipy/interpolate/interpnd.c:4509)\u001b[0;34m()\u001b[0m",
        "\u001b[0;32m/usr/lib/python2.7/dist-packages/scipy/interpolate/interpnd.so\u001b[0m in \u001b[0;36mscipy.interpolate.interpnd.NDInterpolatorBase.__init__ (scipy/interpolate/interpnd.c:2274)\u001b[0;34m()\u001b[0m",
        "\u001b[0;32m/usr/lib/python2.7/dist-packages/numpy/core/numeric.pyc\u001b[0m in \u001b[0;36masarray\u001b[0;34m(a, dtype, order)\u001b[0m",
        "\u001b[1;32m    458\u001b[0m \u001b[0;34m\u001b[0m\u001b[0m",
        "\u001b[1;32m    459\u001b[0m     \"\"\"",
        "\u001b[0;32m--> 460\u001b[0;31m     \u001b[0;32mreturn\u001b[0m \u001b[0marray\u001b[0m\u001b[0;34m(\u001b[0m\u001b[0ma\u001b[0m\u001b[0;34m,\u001b[0m \u001b[0mdtype\u001b[0m\u001b[0;34m,\u001b[0m \u001b[0mcopy\u001b[0m\u001b[0;34m=\u001b[0m\u001b[0mFalse\u001b[0m\u001b[0;34m,\u001b[0m \u001b[0morder\u001b[0m\u001b[0;34m=\u001b[0m\u001b[0morder\u001b[0m\u001b[0;34m)\u001b[0m\u001b[0;34m\u001b[0m\u001b[0m",
        "\u001b[0m\u001b[1;32m    461\u001b[0m \u001b[0;34m\u001b[0m\u001b[0m",
        "\u001b[1;32m    462\u001b[0m \u001b[0;32mdef\u001b[0m \u001b[0masanyarray\u001b[0m\u001b[0;34m(\u001b[0m\u001b[0ma\u001b[0m\u001b[0;34m,\u001b[0m \u001b[0mdtype\u001b[0m\u001b[0;34m=\u001b[0m\u001b[0mNone\u001b[0m\u001b[0;34m,\u001b[0m \u001b[0morder\u001b[0m\u001b[0;34m=\u001b[0m\u001b[0mNone\u001b[0m\u001b[0;34m)\u001b[0m\u001b[0;34m:\u001b[0m\u001b[0;34m\u001b[0m\u001b[0m",
        "\u001b[0;32m/home/AD/pmke226/sources/FEniCS/lib/python2.7/site-packages/dolfin/cpp/la.pyc\u001b[0m in \u001b[0;36m__getitem__\u001b[0;34m(self, indices)\u001b[0m",
        "\u001b[1;32m   1235\u001b[0m         \u001b[0;32mfrom\u001b[0m \u001b[0mtypes\u001b[0m \u001b[0;32mimport\u001b[0m \u001b[0mSliceType\u001b[0m\u001b[0;34m\u001b[0m\u001b[0m",
        "\u001b[1;32m   1236\u001b[0m         \u001b[0;32mif\u001b[0m \u001b[0misinstance\u001b[0m\u001b[0;34m(\u001b[0m\u001b[0mindices\u001b[0m\u001b[0;34m,\u001b[0m \u001b[0;34m(\u001b[0m\u001b[0mint\u001b[0m\u001b[0;34m,\u001b[0m \u001b[0minteger\u001b[0m\u001b[0;34m,\u001b[0m \u001b[0mlong\u001b[0m\u001b[0;34m)\u001b[0m\u001b[0;34m)\u001b[0m\u001b[0;34m:\u001b[0m\u001b[0;34m\u001b[0m\u001b[0m",
        "\u001b[0;32m-> 1237\u001b[0;31m             \u001b[0;32mreturn\u001b[0m \u001b[0m_get_vector_single_item\u001b[0m\u001b[0;34m(\u001b[0m\u001b[0mself\u001b[0m\u001b[0;34m,\u001b[0m \u001b[0mindices\u001b[0m\u001b[0;34m)\u001b[0m\u001b[0;34m\u001b[0m\u001b[0m",
        "\u001b[0m\u001b[1;32m   1238\u001b[0m         \u001b[0;32melif\u001b[0m \u001b[0misinstance\u001b[0m\u001b[0;34m(\u001b[0m\u001b[0mindices\u001b[0m\u001b[0;34m,\u001b[0m \u001b[0;34m(\u001b[0m\u001b[0mSliceType\u001b[0m\u001b[0;34m,\u001b[0m \u001b[0mndarray\u001b[0m\u001b[0;34m,\u001b[0m \u001b[0mlist\u001b[0m\u001b[0;34m)\u001b[0m \u001b[0;34m)\u001b[0m\u001b[0;34m:\u001b[0m\u001b[0;34m\u001b[0m\u001b[0m",
        "\u001b[1;32m   1239\u001b[0m             \u001b[0;32mreturn\u001b[0m \u001b[0mas_backend_type\u001b[0m\u001b[0;34m(\u001b[0m\u001b[0m_get_vector_sub_vector\u001b[0m\u001b[0;34m(\u001b[0m\u001b[0mself\u001b[0m\u001b[0;34m,\u001b[0m \u001b[0mindices\u001b[0m\u001b[0;34m)\u001b[0m\u001b[0;34m)\u001b[0m\u001b[0;34m\u001b[0m\u001b[0m",
        "\u001b[0;31mRuntimeError\u001b[0m: index must belong to this process, cannot index off-process entries in a GenericVector",
        "",
        "[1:execute]: ",
        "\u001b[0;31m---------------------------------------------------------------------------\u001b[0m",
        "\u001b[0;31mRuntimeError\u001b[0m                              Traceback (most recent call last)\u001b[0;32m<ipython-input-16-82484e670cd7>\u001b[0m in \u001b[0;36m<module>\u001b[0;34m()\u001b[0m",
        "\u001b[1;32m      2\u001b[0m \u001b[0mparams\u001b[0m\u001b[0;34m.\u001b[0m\u001b[0museMPI\u001b[0m \u001b[0;34m=\u001b[0m \u001b[0mTrue\u001b[0m\u001b[0;34m\u001b[0m\u001b[0m",
        "\u001b[1;32m      3\u001b[0m \u001b[0mparams\u001b[0m\u001b[0;34m.\u001b[0m\u001b[0mT\u001b[0m \u001b[0;34m=\u001b[0m \u001b[0;36m2\u001b[0m\u001b[0;34m\u001b[0m\u001b[0m",
        "\u001b[0;32m----> 4\u001b[0;31m \u001b[0mresults\u001b[0m\u001b[0;34m=\u001b[0m \u001b[0msachse\u001b[0m\u001b[0;34m.\u001b[0m\u001b[0mtsolve\u001b[0m\u001b[0;34m(\u001b[0m\u001b[0mmode\u001b[0m\u001b[0;34m=\u001b[0m\u001b[0;34m\"sachse\"\u001b[0m\u001b[0;34m,\u001b[0m \u001b[0mparams\u001b[0m\u001b[0;34m=\u001b[0m\u001b[0mparams\u001b[0m\u001b[0;34m)\u001b[0m\u001b[0;34m\u001b[0m\u001b[0m",
        "\u001b[0m\u001b[0;32m/u1/huskeypm/srcs/wholecell/sachse.py\u001b[0m in \u001b[0;36mtsolve\u001b[0;34m(fileName, outName, mode, params, debug)\u001b[0m",
        "\u001b[1;32m    518\u001b[0m       \u001b[0;31m# doesn't work w mpi\u001b[0m\u001b[0;34m\u001b[0m\u001b[0;34m\u001b[0m\u001b[0m",
        "\u001b[1;32m    519\u001b[0m       \u001b[0;32mprint\u001b[0m \u001b[0;34m\"MPI mode\"\u001b[0m\u001b[0;34m,\u001b[0m \u001b[0mparams\u001b[0m\u001b[0;34m.\u001b[0m\u001b[0museMPI\u001b[0m\u001b[0;34m\u001b[0m\u001b[0m",
        "\u001b[0;32m--> 520\u001b[0;31m       \u001b[0;32mreturn\u001b[0m\u001b[0;34m\u001b[0m\u001b[0m",
        "\u001b[0m\u001b[1;32m    521\u001b[0m       \u001b[0;32mif\u001b[0m \u001b[0mparams\u001b[0m\u001b[0;34m.\u001b[0m\u001b[0museMPI\u001b[0m\u001b[0;34m==\u001b[0m\u001b[0mFalse\u001b[0m\u001b[0;34m:\u001b[0m\u001b[0;34m\u001b[0m\u001b[0m",
        "\u001b[1;32m    522\u001b[0m         \u001b[0;32mprint\u001b[0m \u001b[0;34m\"SDF\"\u001b[0m\u001b[0;34m\u001b[0m\u001b[0m",
        "\u001b[0;32m/u1/huskeypm/srcs/wholecell/sachse.py\u001b[0m in \u001b[0;36mInterpolateData\u001b[0;34m(mesh, u, dims, mode, doplot)\u001b[0m",
        "\u001b[1;32m    208\u001b[0m                             \u001b[0myMid\u001b[0m\u001b[0;34m:\u001b[0m\u001b[0myMid\u001b[0m\u001b[0;34m:\u001b[0m\u001b[0;36m1j\u001b[0m\u001b[0;34m,\u001b[0m\u001b[0;34m\u001b[0m\u001b[0m",
        "\u001b[1;32m    209\u001b[0m                             0:0:1j]",
        "\u001b[0;32m--> 210\u001b[0;31m       \u001b[0mline\u001b[0m \u001b[0;34m=\u001b[0m \u001b[0mgriddata\u001b[0m\u001b[0;34m(\u001b[0m\u001b[0mmesh\u001b[0m\u001b[0;34m.\u001b[0m\u001b[0mcoordinates\u001b[0m\u001b[0;34m(\u001b[0m\u001b[0;34m)\u001b[0m\u001b[0;34m,\u001b[0m\u001b[0mup\u001b[0m\u001b[0;34m.\u001b[0m\u001b[0mvector\u001b[0m\u001b[0;34m(\u001b[0m\u001b[0;34m)\u001b[0m\u001b[0;34m,\u001b[0m\u001b[0;34m(\u001b[0m\u001b[0mgx\u001b[0m\u001b[0;34m,\u001b[0m\u001b[0mgy\u001b[0m\u001b[0;34m,\u001b[0m\u001b[0mgz\u001b[0m\u001b[0;34m)\u001b[0m\u001b[0;34m)\u001b[0m\u001b[0;34m\u001b[0m\u001b[0m",
        "\u001b[0m\u001b[1;32m    211\u001b[0m       \u001b[0;31m#print np.shape(line)\u001b[0m\u001b[0;34m\u001b[0m\u001b[0;34m\u001b[0m\u001b[0m",
        "\u001b[1;32m    212\u001b[0m       \u001b[0;31m#img0 = np.reshape(line[:,0,0],[res])\u001b[0m\u001b[0;34m\u001b[0m\u001b[0;34m\u001b[0m\u001b[0m",
        "\u001b[0;32m/usr/lib/python2.7/dist-packages/scipy/interpolate/ndgriddata.pyc\u001b[0m in \u001b[0;36mgriddata\u001b[0;34m(points, values, xi, method, fill_value, rescale)\u001b[0m",
        "\u001b[1;32m    204\u001b[0m     \u001b[0;32melif\u001b[0m \u001b[0mmethod\u001b[0m \u001b[0;34m==\u001b[0m \u001b[0;34m'linear'\u001b[0m\u001b[0;34m:\u001b[0m\u001b[0;34m\u001b[0m\u001b[0m",
        "\u001b[1;32m    205\u001b[0m         ip = LinearNDInterpolator(points, values, fill_value=fill_value,",
        "\u001b[0;32m--> 206\u001b[0;31m                                   rescale=rescale)",
        "\u001b[0m\u001b[1;32m    207\u001b[0m         \u001b[0;32mreturn\u001b[0m \u001b[0mip\u001b[0m\u001b[0;34m(\u001b[0m\u001b[0mxi\u001b[0m\u001b[0;34m)\u001b[0m\u001b[0;34m\u001b[0m\u001b[0m",
        "\u001b[1;32m    208\u001b[0m     \u001b[0;32melif\u001b[0m \u001b[0mmethod\u001b[0m \u001b[0;34m==\u001b[0m \u001b[0;34m'cubic'\u001b[0m \u001b[0;32mand\u001b[0m \u001b[0mndim\u001b[0m \u001b[0;34m==\u001b[0m \u001b[0;36m2\u001b[0m\u001b[0;34m:\u001b[0m\u001b[0;34m\u001b[0m\u001b[0m",
        "\u001b[0;32m/usr/lib/python2.7/dist-packages/scipy/interpolate/interpnd.so\u001b[0m in \u001b[0;36mscipy.interpolate.interpnd.LinearNDInterpolator.__init__ (scipy/interpolate/interpnd.c:4509)\u001b[0;34m()\u001b[0m",
        "\u001b[0;32m/usr/lib/python2.7/dist-packages/scipy/interpolate/interpnd.so\u001b[0m in \u001b[0;36mscipy.interpolate.interpnd.NDInterpolatorBase.__init__ (scipy/interpolate/interpnd.c:2274)\u001b[0;34m()\u001b[0m",
        "\u001b[0;32m/usr/lib/python2.7/dist-packages/numpy/core/numeric.pyc\u001b[0m in \u001b[0;36masarray\u001b[0;34m(a, dtype, order)\u001b[0m",
        "\u001b[1;32m    458\u001b[0m \u001b[0;34m\u001b[0m\u001b[0m",
        "\u001b[1;32m    459\u001b[0m     \"\"\"",
        "\u001b[0;32m--> 460\u001b[0;31m     \u001b[0;32mreturn\u001b[0m \u001b[0marray\u001b[0m\u001b[0;34m(\u001b[0m\u001b[0ma\u001b[0m\u001b[0;34m,\u001b[0m \u001b[0mdtype\u001b[0m\u001b[0;34m,\u001b[0m \u001b[0mcopy\u001b[0m\u001b[0;34m=\u001b[0m\u001b[0mFalse\u001b[0m\u001b[0;34m,\u001b[0m \u001b[0morder\u001b[0m\u001b[0;34m=\u001b[0m\u001b[0morder\u001b[0m\u001b[0;34m)\u001b[0m\u001b[0;34m\u001b[0m\u001b[0m",
        "\u001b[0m\u001b[1;32m    461\u001b[0m \u001b[0;34m\u001b[0m\u001b[0m",
        "\u001b[1;32m    462\u001b[0m \u001b[0;32mdef\u001b[0m \u001b[0masanyarray\u001b[0m\u001b[0;34m(\u001b[0m\u001b[0ma\u001b[0m\u001b[0;34m,\u001b[0m \u001b[0mdtype\u001b[0m\u001b[0;34m=\u001b[0m\u001b[0mNone\u001b[0m\u001b[0;34m,\u001b[0m \u001b[0morder\u001b[0m\u001b[0;34m=\u001b[0m\u001b[0mNone\u001b[0m\u001b[0;34m)\u001b[0m\u001b[0;34m:\u001b[0m\u001b[0;34m\u001b[0m\u001b[0m",
        "\u001b[0;32m/home/AD/pmke226/sources/FEniCS/lib/python2.7/site-packages/dolfin/cpp/la.pyc\u001b[0m in \u001b[0;36m__getitem__\u001b[0;34m(self, indices)\u001b[0m",
        "\u001b[1;32m   1235\u001b[0m         \u001b[0;32mfrom\u001b[0m \u001b[0mtypes\u001b[0m \u001b[0;32mimport\u001b[0m \u001b[0mSliceType\u001b[0m\u001b[0;34m\u001b[0m\u001b[0m",
        "\u001b[1;32m   1236\u001b[0m         \u001b[0;32mif\u001b[0m \u001b[0misinstance\u001b[0m\u001b[0;34m(\u001b[0m\u001b[0mindices\u001b[0m\u001b[0;34m,\u001b[0m \u001b[0;34m(\u001b[0m\u001b[0mint\u001b[0m\u001b[0;34m,\u001b[0m \u001b[0minteger\u001b[0m\u001b[0;34m,\u001b[0m \u001b[0mlong\u001b[0m\u001b[0;34m)\u001b[0m\u001b[0;34m)\u001b[0m\u001b[0;34m:\u001b[0m\u001b[0;34m\u001b[0m\u001b[0m",
        "\u001b[0;32m-> 1237\u001b[0;31m             \u001b[0;32mreturn\u001b[0m \u001b[0m_get_vector_single_item\u001b[0m\u001b[0;34m(\u001b[0m\u001b[0mself\u001b[0m\u001b[0;34m,\u001b[0m \u001b[0mindices\u001b[0m\u001b[0;34m)\u001b[0m\u001b[0;34m\u001b[0m\u001b[0m",
        "\u001b[0m\u001b[1;32m   1238\u001b[0m         \u001b[0;32melif\u001b[0m \u001b[0misinstance\u001b[0m\u001b[0;34m(\u001b[0m\u001b[0mindices\u001b[0m\u001b[0;34m,\u001b[0m \u001b[0;34m(\u001b[0m\u001b[0mSliceType\u001b[0m\u001b[0;34m,\u001b[0m \u001b[0mndarray\u001b[0m\u001b[0;34m,\u001b[0m \u001b[0mlist\u001b[0m\u001b[0;34m)\u001b[0m \u001b[0;34m)\u001b[0m\u001b[0;34m:\u001b[0m\u001b[0;34m\u001b[0m\u001b[0m",
        "\u001b[1;32m   1239\u001b[0m             \u001b[0;32mreturn\u001b[0m \u001b[0mas_backend_type\u001b[0m\u001b[0;34m(\u001b[0m\u001b[0m_get_vector_sub_vector\u001b[0m\u001b[0;34m(\u001b[0m\u001b[0mself\u001b[0m\u001b[0;34m,\u001b[0m \u001b[0mindices\u001b[0m\u001b[0;34m)\u001b[0m\u001b[0;34m)\u001b[0m\u001b[0;34m\u001b[0m\u001b[0m",
        "\u001b[0;31mRuntimeError\u001b[0m: index must belong to this process, cannot index off-process entries in a GenericVector",
        "",
        "[2:execute]: ",
        "\u001b[0;31m---------------------------------------------------------------------------\u001b[0m",
        "\u001b[0;31mRuntimeError\u001b[0m                              Traceback (most recent call last)\u001b[0;32m<ipython-input-16-82484e670cd7>\u001b[0m in \u001b[0;36m<module>\u001b[0;34m()\u001b[0m",
        "\u001b[1;32m      2\u001b[0m \u001b[0mparams\u001b[0m\u001b[0;34m.\u001b[0m\u001b[0museMPI\u001b[0m \u001b[0;34m=\u001b[0m \u001b[0mTrue\u001b[0m\u001b[0;34m\u001b[0m\u001b[0m",
        "\u001b[1;32m      3\u001b[0m \u001b[0mparams\u001b[0m\u001b[0;34m.\u001b[0m\u001b[0mT\u001b[0m \u001b[0;34m=\u001b[0m \u001b[0;36m2\u001b[0m\u001b[0;34m\u001b[0m\u001b[0m",
        "\u001b[0;32m----> 4\u001b[0;31m \u001b[0mresults\u001b[0m\u001b[0;34m=\u001b[0m \u001b[0msachse\u001b[0m\u001b[0;34m.\u001b[0m\u001b[0mtsolve\u001b[0m\u001b[0;34m(\u001b[0m\u001b[0mmode\u001b[0m\u001b[0;34m=\u001b[0m\u001b[0;34m\"sachse\"\u001b[0m\u001b[0;34m,\u001b[0m \u001b[0mparams\u001b[0m\u001b[0;34m=\u001b[0m\u001b[0mparams\u001b[0m\u001b[0;34m)\u001b[0m\u001b[0;34m\u001b[0m\u001b[0m",
        "\u001b[0m\u001b[0;32m/u1/huskeypm/srcs/wholecell/sachse.py\u001b[0m in \u001b[0;36mtsolve\u001b[0;34m(fileName, outName, mode, params, debug)\u001b[0m",
        "\u001b[1;32m    518\u001b[0m       \u001b[0;31m# doesn't work w mpi\u001b[0m\u001b[0;34m\u001b[0m\u001b[0;34m\u001b[0m\u001b[0m",
        "\u001b[1;32m    519\u001b[0m       \u001b[0;32mprint\u001b[0m \u001b[0;34m\"MPI mode\"\u001b[0m\u001b[0;34m,\u001b[0m \u001b[0mparams\u001b[0m\u001b[0;34m.\u001b[0m\u001b[0museMPI\u001b[0m\u001b[0;34m\u001b[0m\u001b[0m",
        "\u001b[0;32m--> 520\u001b[0;31m       \u001b[0;32mreturn\u001b[0m\u001b[0;34m\u001b[0m\u001b[0m",
        "\u001b[0m\u001b[1;32m    521\u001b[0m       \u001b[0;32mif\u001b[0m \u001b[0mparams\u001b[0m\u001b[0;34m.\u001b[0m\u001b[0museMPI\u001b[0m\u001b[0;34m==\u001b[0m\u001b[0mFalse\u001b[0m\u001b[0;34m:\u001b[0m\u001b[0;34m\u001b[0m\u001b[0m",
        "\u001b[1;32m    522\u001b[0m         \u001b[0;32mprint\u001b[0m \u001b[0;34m\"SDF\"\u001b[0m\u001b[0;34m\u001b[0m\u001b[0m",
        "\u001b[0;32m/u1/huskeypm/srcs/wholecell/sachse.py\u001b[0m in \u001b[0;36mInterpolateData\u001b[0;34m(mesh, u, dims, mode, doplot)\u001b[0m",
        "\u001b[1;32m    208\u001b[0m                             \u001b[0myMid\u001b[0m\u001b[0;34m:\u001b[0m\u001b[0myMid\u001b[0m\u001b[0;34m:\u001b[0m\u001b[0;36m1j\u001b[0m\u001b[0;34m,\u001b[0m\u001b[0;34m\u001b[0m\u001b[0m",
        "\u001b[1;32m    209\u001b[0m                             0:0:1j]",
        "\u001b[0;32m--> 210\u001b[0;31m       \u001b[0mline\u001b[0m \u001b[0;34m=\u001b[0m \u001b[0mgriddata\u001b[0m\u001b[0;34m(\u001b[0m\u001b[0mmesh\u001b[0m\u001b[0;34m.\u001b[0m\u001b[0mcoordinates\u001b[0m\u001b[0;34m(\u001b[0m\u001b[0;34m)\u001b[0m\u001b[0;34m,\u001b[0m\u001b[0mup\u001b[0m\u001b[0;34m.\u001b[0m\u001b[0mvector\u001b[0m\u001b[0;34m(\u001b[0m\u001b[0;34m)\u001b[0m\u001b[0;34m,\u001b[0m\u001b[0;34m(\u001b[0m\u001b[0mgx\u001b[0m\u001b[0;34m,\u001b[0m\u001b[0mgy\u001b[0m\u001b[0;34m,\u001b[0m\u001b[0mgz\u001b[0m\u001b[0;34m)\u001b[0m\u001b[0;34m)\u001b[0m\u001b[0;34m\u001b[0m\u001b[0m",
        "\u001b[0m\u001b[1;32m    211\u001b[0m       \u001b[0;31m#print np.shape(line)\u001b[0m\u001b[0;34m\u001b[0m\u001b[0;34m\u001b[0m\u001b[0m",
        "\u001b[1;32m    212\u001b[0m       \u001b[0;31m#img0 = np.reshape(line[:,0,0],[res])\u001b[0m\u001b[0;34m\u001b[0m\u001b[0;34m\u001b[0m\u001b[0m",
        "\u001b[0;32m/usr/lib/python2.7/dist-packages/scipy/interpolate/ndgriddata.pyc\u001b[0m in \u001b[0;36mgriddata\u001b[0;34m(points, values, xi, method, fill_value, rescale)\u001b[0m",
        "\u001b[1;32m    204\u001b[0m     \u001b[0;32melif\u001b[0m \u001b[0mmethod\u001b[0m \u001b[0;34m==\u001b[0m \u001b[0;34m'linear'\u001b[0m\u001b[0;34m:\u001b[0m\u001b[0;34m\u001b[0m\u001b[0m",
        "\u001b[1;32m    205\u001b[0m         ip = LinearNDInterpolator(points, values, fill_value=fill_value,",
        "\u001b[0;32m--> 206\u001b[0;31m                                   rescale=rescale)",
        "\u001b[0m\u001b[1;32m    207\u001b[0m         \u001b[0;32mreturn\u001b[0m \u001b[0mip\u001b[0m\u001b[0;34m(\u001b[0m\u001b[0mxi\u001b[0m\u001b[0;34m)\u001b[0m\u001b[0;34m\u001b[0m\u001b[0m",
        "\u001b[1;32m    208\u001b[0m     \u001b[0;32melif\u001b[0m \u001b[0mmethod\u001b[0m \u001b[0;34m==\u001b[0m \u001b[0;34m'cubic'\u001b[0m \u001b[0;32mand\u001b[0m \u001b[0mndim\u001b[0m \u001b[0;34m==\u001b[0m \u001b[0;36m2\u001b[0m\u001b[0;34m:\u001b[0m\u001b[0;34m\u001b[0m\u001b[0m",
        "\u001b[0;32m/usr/lib/python2.7/dist-packages/scipy/interpolate/interpnd.so\u001b[0m in \u001b[0;36mscipy.interpolate.interpnd.LinearNDInterpolator.__init__ (scipy/interpolate/interpnd.c:4509)\u001b[0;34m()\u001b[0m",
        "\u001b[0;32m/usr/lib/python2.7/dist-packages/scipy/interpolate/interpnd.so\u001b[0m in \u001b[0;36mscipy.interpolate.interpnd.NDInterpolatorBase.__init__ (scipy/interpolate/interpnd.c:2274)\u001b[0;34m()\u001b[0m",
        "\u001b[0;32m/usr/lib/python2.7/dist-packages/numpy/core/numeric.pyc\u001b[0m in \u001b[0;36masarray\u001b[0;34m(a, dtype, order)\u001b[0m",
        "\u001b[1;32m    458\u001b[0m \u001b[0;34m\u001b[0m\u001b[0m",
        "\u001b[1;32m    459\u001b[0m     \"\"\"",
        "\u001b[0;32m--> 460\u001b[0;31m     \u001b[0;32mreturn\u001b[0m \u001b[0marray\u001b[0m\u001b[0;34m(\u001b[0m\u001b[0ma\u001b[0m\u001b[0;34m,\u001b[0m \u001b[0mdtype\u001b[0m\u001b[0;34m,\u001b[0m \u001b[0mcopy\u001b[0m\u001b[0;34m=\u001b[0m\u001b[0mFalse\u001b[0m\u001b[0;34m,\u001b[0m \u001b[0morder\u001b[0m\u001b[0;34m=\u001b[0m\u001b[0morder\u001b[0m\u001b[0;34m)\u001b[0m\u001b[0;34m\u001b[0m\u001b[0m",
        "\u001b[0m\u001b[1;32m    461\u001b[0m \u001b[0;34m\u001b[0m\u001b[0m",
        "\u001b[1;32m    462\u001b[0m \u001b[0;32mdef\u001b[0m \u001b[0masanyarray\u001b[0m\u001b[0;34m(\u001b[0m\u001b[0ma\u001b[0m\u001b[0;34m,\u001b[0m \u001b[0mdtype\u001b[0m\u001b[0;34m=\u001b[0m\u001b[0mNone\u001b[0m\u001b[0;34m,\u001b[0m \u001b[0morder\u001b[0m\u001b[0;34m=\u001b[0m\u001b[0mNone\u001b[0m\u001b[0;34m)\u001b[0m\u001b[0;34m:\u001b[0m\u001b[0;34m\u001b[0m\u001b[0m",
        "\u001b[0;32m/home/AD/pmke226/sources/FEniCS/lib/python2.7/site-packages/dolfin/cpp/la.pyc\u001b[0m in \u001b[0;36m__getitem__\u001b[0;34m(self, indices)\u001b[0m",
        "\u001b[1;32m   1235\u001b[0m         \u001b[0;32mfrom\u001b[0m \u001b[0mtypes\u001b[0m \u001b[0;32mimport\u001b[0m \u001b[0mSliceType\u001b[0m\u001b[0;34m\u001b[0m\u001b[0m",
        "\u001b[1;32m   1236\u001b[0m         \u001b[0;32mif\u001b[0m \u001b[0misinstance\u001b[0m\u001b[0;34m(\u001b[0m\u001b[0mindices\u001b[0m\u001b[0;34m,\u001b[0m \u001b[0;34m(\u001b[0m\u001b[0mint\u001b[0m\u001b[0;34m,\u001b[0m \u001b[0minteger\u001b[0m\u001b[0;34m,\u001b[0m \u001b[0mlong\u001b[0m\u001b[0;34m)\u001b[0m\u001b[0;34m)\u001b[0m\u001b[0;34m:\u001b[0m\u001b[0;34m\u001b[0m\u001b[0m",
        "\u001b[0;32m-> 1237\u001b[0;31m             \u001b[0;32mreturn\u001b[0m \u001b[0m_get_vector_single_item\u001b[0m\u001b[0;34m(\u001b[0m\u001b[0mself\u001b[0m\u001b[0;34m,\u001b[0m \u001b[0mindices\u001b[0m\u001b[0;34m)\u001b[0m\u001b[0;34m\u001b[0m\u001b[0m",
        "\u001b[0m\u001b[1;32m   1238\u001b[0m         \u001b[0;32melif\u001b[0m \u001b[0misinstance\u001b[0m\u001b[0;34m(\u001b[0m\u001b[0mindices\u001b[0m\u001b[0;34m,\u001b[0m \u001b[0;34m(\u001b[0m\u001b[0mSliceType\u001b[0m\u001b[0;34m,\u001b[0m \u001b[0mndarray\u001b[0m\u001b[0;34m,\u001b[0m \u001b[0mlist\u001b[0m\u001b[0;34m)\u001b[0m \u001b[0;34m)\u001b[0m\u001b[0;34m:\u001b[0m\u001b[0;34m\u001b[0m\u001b[0m",
        "\u001b[1;32m   1239\u001b[0m             \u001b[0;32mreturn\u001b[0m \u001b[0mas_backend_type\u001b[0m\u001b[0;34m(\u001b[0m\u001b[0m_get_vector_sub_vector\u001b[0m\u001b[0;34m(\u001b[0m\u001b[0mself\u001b[0m\u001b[0;34m,\u001b[0m \u001b[0mindices\u001b[0m\u001b[0;34m)\u001b[0m\u001b[0;34m)\u001b[0m\u001b[0;34m\u001b[0m\u001b[0m",
        "\u001b[0;31mRuntimeError\u001b[0m: index must belong to this process, cannot index off-process entries in a GenericVector",
        "",
        "[3:execute]: ",
        "\u001b[0;31m---------------------------------------------------------------------------\u001b[0m",
        "\u001b[0;31mRuntimeError\u001b[0m                              Traceback (most recent call last)\u001b[0;32m<ipython-input-16-82484e670cd7>\u001b[0m in \u001b[0;36m<module>\u001b[0;34m()\u001b[0m",
        "\u001b[1;32m      2\u001b[0m \u001b[0mparams\u001b[0m\u001b[0;34m.\u001b[0m\u001b[0museMPI\u001b[0m \u001b[0;34m=\u001b[0m \u001b[0mTrue\u001b[0m\u001b[0;34m\u001b[0m\u001b[0m",
        "\u001b[1;32m      3\u001b[0m \u001b[0mparams\u001b[0m\u001b[0;34m.\u001b[0m\u001b[0mT\u001b[0m \u001b[0;34m=\u001b[0m \u001b[0;36m2\u001b[0m\u001b[0;34m\u001b[0m\u001b[0m",
        "\u001b[0;32m----> 4\u001b[0;31m \u001b[0mresults\u001b[0m\u001b[0;34m=\u001b[0m \u001b[0msachse\u001b[0m\u001b[0;34m.\u001b[0m\u001b[0mtsolve\u001b[0m\u001b[0;34m(\u001b[0m\u001b[0mmode\u001b[0m\u001b[0;34m=\u001b[0m\u001b[0;34m\"sachse\"\u001b[0m\u001b[0;34m,\u001b[0m \u001b[0mparams\u001b[0m\u001b[0;34m=\u001b[0m\u001b[0mparams\u001b[0m\u001b[0;34m)\u001b[0m\u001b[0;34m\u001b[0m\u001b[0m",
        "\u001b[0m\u001b[0;32m/u1/huskeypm/srcs/wholecell/sachse.py\u001b[0m in \u001b[0;36mtsolve\u001b[0;34m(fileName, outName, mode, params, debug)\u001b[0m",
        "\u001b[1;32m    518\u001b[0m       \u001b[0;31m# doesn't work w mpi\u001b[0m\u001b[0;34m\u001b[0m\u001b[0;34m\u001b[0m\u001b[0m",
        "\u001b[1;32m    519\u001b[0m       \u001b[0;32mprint\u001b[0m \u001b[0;34m\"MPI mode\"\u001b[0m\u001b[0;34m,\u001b[0m \u001b[0mparams\u001b[0m\u001b[0;34m.\u001b[0m\u001b[0museMPI\u001b[0m\u001b[0;34m\u001b[0m\u001b[0m",
        "\u001b[0;32m--> 520\u001b[0;31m       \u001b[0;32mreturn\u001b[0m\u001b[0;34m\u001b[0m\u001b[0m",
        "\u001b[0m\u001b[1;32m    521\u001b[0m       \u001b[0;32mif\u001b[0m \u001b[0mparams\u001b[0m\u001b[0;34m.\u001b[0m\u001b[0museMPI\u001b[0m\u001b[0;34m==\u001b[0m\u001b[0mFalse\u001b[0m\u001b[0;34m:\u001b[0m\u001b[0;34m\u001b[0m\u001b[0m",
        "\u001b[1;32m    522\u001b[0m         \u001b[0;32mprint\u001b[0m \u001b[0;34m\"SDF\"\u001b[0m\u001b[0;34m\u001b[0m\u001b[0m",
        "\u001b[0;32m/u1/huskeypm/srcs/wholecell/sachse.py\u001b[0m in \u001b[0;36mInterpolateData\u001b[0;34m(mesh, u, dims, mode, doplot)\u001b[0m",
        "\u001b[1;32m    208\u001b[0m                             \u001b[0myMid\u001b[0m\u001b[0;34m:\u001b[0m\u001b[0myMid\u001b[0m\u001b[0;34m:\u001b[0m\u001b[0;36m1j\u001b[0m\u001b[0;34m,\u001b[0m\u001b[0;34m\u001b[0m\u001b[0m",
        "\u001b[1;32m    209\u001b[0m                             0:0:1j]",
        "\u001b[0;32m--> 210\u001b[0;31m       \u001b[0mline\u001b[0m \u001b[0;34m=\u001b[0m \u001b[0mgriddata\u001b[0m\u001b[0;34m(\u001b[0m\u001b[0mmesh\u001b[0m\u001b[0;34m.\u001b[0m\u001b[0mcoordinates\u001b[0m\u001b[0;34m(\u001b[0m\u001b[0;34m)\u001b[0m\u001b[0;34m,\u001b[0m\u001b[0mup\u001b[0m\u001b[0;34m.\u001b[0m\u001b[0mvector\u001b[0m\u001b[0;34m(\u001b[0m\u001b[0;34m)\u001b[0m\u001b[0;34m,\u001b[0m\u001b[0;34m(\u001b[0m\u001b[0mgx\u001b[0m\u001b[0;34m,\u001b[0m\u001b[0mgy\u001b[0m\u001b[0;34m,\u001b[0m\u001b[0mgz\u001b[0m\u001b[0;34m)\u001b[0m\u001b[0;34m)\u001b[0m\u001b[0;34m\u001b[0m\u001b[0m",
        "\u001b[0m\u001b[1;32m    211\u001b[0m       \u001b[0;31m#print np.shape(line)\u001b[0m\u001b[0;34m\u001b[0m\u001b[0;34m\u001b[0m\u001b[0m",
        "\u001b[1;32m    212\u001b[0m       \u001b[0;31m#img0 = np.reshape(line[:,0,0],[res])\u001b[0m\u001b[0;34m\u001b[0m\u001b[0;34m\u001b[0m\u001b[0m",
        "\u001b[0;32m/usr/lib/python2.7/dist-packages/scipy/interpolate/ndgriddata.pyc\u001b[0m in \u001b[0;36mgriddata\u001b[0;34m(points, values, xi, method, fill_value, rescale)\u001b[0m",
        "\u001b[1;32m    204\u001b[0m     \u001b[0;32melif\u001b[0m \u001b[0mmethod\u001b[0m \u001b[0;34m==\u001b[0m \u001b[0;34m'linear'\u001b[0m\u001b[0;34m:\u001b[0m\u001b[0;34m\u001b[0m\u001b[0m",
        "\u001b[1;32m    205\u001b[0m         ip = LinearNDInterpolator(points, values, fill_value=fill_value,",
        "\u001b[0;32m--> 206\u001b[0;31m                                   rescale=rescale)",
        "\u001b[0m\u001b[1;32m    207\u001b[0m         \u001b[0;32mreturn\u001b[0m \u001b[0mip\u001b[0m\u001b[0;34m(\u001b[0m\u001b[0mxi\u001b[0m\u001b[0;34m)\u001b[0m\u001b[0;34m\u001b[0m\u001b[0m",
        "\u001b[1;32m    208\u001b[0m     \u001b[0;32melif\u001b[0m \u001b[0mmethod\u001b[0m \u001b[0;34m==\u001b[0m \u001b[0;34m'cubic'\u001b[0m \u001b[0;32mand\u001b[0m \u001b[0mndim\u001b[0m \u001b[0;34m==\u001b[0m \u001b[0;36m2\u001b[0m\u001b[0;34m:\u001b[0m\u001b[0;34m\u001b[0m\u001b[0m",
        "\u001b[0;32m/usr/lib/python2.7/dist-packages/scipy/interpolate/interpnd.so\u001b[0m in \u001b[0;36mscipy.interpolate.interpnd.LinearNDInterpolator.__init__ (scipy/interpolate/interpnd.c:4509)\u001b[0;34m()\u001b[0m",
        "\u001b[0;32m/usr/lib/python2.7/dist-packages/scipy/interpolate/interpnd.so\u001b[0m in \u001b[0;36mscipy.interpolate.interpnd.NDInterpolatorBase.__init__ (scipy/interpolate/interpnd.c:2274)\u001b[0;34m()\u001b[0m",
        "\u001b[0;32m/usr/lib/python2.7/dist-packages/numpy/core/numeric.pyc\u001b[0m in \u001b[0;36masarray\u001b[0;34m(a, dtype, order)\u001b[0m",
        "\u001b[1;32m    458\u001b[0m \u001b[0;34m\u001b[0m\u001b[0m",
        "\u001b[1;32m    459\u001b[0m     \"\"\"",
        "\u001b[0;32m--> 460\u001b[0;31m     \u001b[0;32mreturn\u001b[0m \u001b[0marray\u001b[0m\u001b[0;34m(\u001b[0m\u001b[0ma\u001b[0m\u001b[0;34m,\u001b[0m \u001b[0mdtype\u001b[0m\u001b[0;34m,\u001b[0m \u001b[0mcopy\u001b[0m\u001b[0;34m=\u001b[0m\u001b[0mFalse\u001b[0m\u001b[0;34m,\u001b[0m \u001b[0morder\u001b[0m\u001b[0;34m=\u001b[0m\u001b[0morder\u001b[0m\u001b[0;34m)\u001b[0m\u001b[0;34m\u001b[0m\u001b[0m",
        "\u001b[0m\u001b[1;32m    461\u001b[0m \u001b[0;34m\u001b[0m\u001b[0m",
        "\u001b[1;32m    462\u001b[0m \u001b[0;32mdef\u001b[0m \u001b[0masanyarray\u001b[0m\u001b[0;34m(\u001b[0m\u001b[0ma\u001b[0m\u001b[0;34m,\u001b[0m \u001b[0mdtype\u001b[0m\u001b[0;34m=\u001b[0m\u001b[0mNone\u001b[0m\u001b[0;34m,\u001b[0m \u001b[0morder\u001b[0m\u001b[0;34m=\u001b[0m\u001b[0mNone\u001b[0m\u001b[0;34m)\u001b[0m\u001b[0;34m:\u001b[0m\u001b[0;34m\u001b[0m\u001b[0m",
        "\u001b[0;32m/home/AD/pmke226/sources/FEniCS/lib/python2.7/site-packages/dolfin/cpp/la.pyc\u001b[0m in \u001b[0;36m__getitem__\u001b[0;34m(self, indices)\u001b[0m",
        "\u001b[1;32m   1235\u001b[0m         \u001b[0;32mfrom\u001b[0m \u001b[0mtypes\u001b[0m \u001b[0;32mimport\u001b[0m \u001b[0mSliceType\u001b[0m\u001b[0;34m\u001b[0m\u001b[0m",
        "\u001b[1;32m   1236\u001b[0m         \u001b[0;32mif\u001b[0m \u001b[0misinstance\u001b[0m\u001b[0;34m(\u001b[0m\u001b[0mindices\u001b[0m\u001b[0;34m,\u001b[0m \u001b[0;34m(\u001b[0m\u001b[0mint\u001b[0m\u001b[0;34m,\u001b[0m \u001b[0minteger\u001b[0m\u001b[0;34m,\u001b[0m \u001b[0mlong\u001b[0m\u001b[0;34m)\u001b[0m\u001b[0;34m)\u001b[0m\u001b[0;34m:\u001b[0m\u001b[0;34m\u001b[0m\u001b[0m",
        "\u001b[0;32m-> 1237\u001b[0;31m             \u001b[0;32mreturn\u001b[0m \u001b[0m_get_vector_single_item\u001b[0m\u001b[0;34m(\u001b[0m\u001b[0mself\u001b[0m\u001b[0;34m,\u001b[0m \u001b[0mindices\u001b[0m\u001b[0;34m)\u001b[0m\u001b[0;34m\u001b[0m\u001b[0m",
        "\u001b[0m\u001b[1;32m   1238\u001b[0m         \u001b[0;32melif\u001b[0m \u001b[0misinstance\u001b[0m\u001b[0;34m(\u001b[0m\u001b[0mindices\u001b[0m\u001b[0;34m,\u001b[0m \u001b[0;34m(\u001b[0m\u001b[0mSliceType\u001b[0m\u001b[0;34m,\u001b[0m \u001b[0mndarray\u001b[0m\u001b[0;34m,\u001b[0m \u001b[0mlist\u001b[0m\u001b[0;34m)\u001b[0m \u001b[0;34m)\u001b[0m\u001b[0;34m:\u001b[0m\u001b[0;34m\u001b[0m\u001b[0m",
        "\u001b[1;32m   1239\u001b[0m             \u001b[0;32mreturn\u001b[0m \u001b[0mas_backend_type\u001b[0m\u001b[0;34m(\u001b[0m\u001b[0m_get_vector_sub_vector\u001b[0m\u001b[0;34m(\u001b[0m\u001b[0mself\u001b[0m\u001b[0;34m,\u001b[0m \u001b[0mindices\u001b[0m\u001b[0;34m)\u001b[0m\u001b[0;34m)\u001b[0m\u001b[0;34m\u001b[0m\u001b[0m",
        "\u001b[0;31mRuntimeError\u001b[0m: index must belong to this process, cannot index off-process entries in a GenericVector",
        ""
       ]
      }
     ],
     "prompt_number": 6
    },
    {
     "cell_type": "markdown",
     "metadata": {},
     "source": [
      "### Analysis (Disable px)"
     ]
    },
    {
     "cell_type": "code",
     "collapsed": true,
     "input": [
      "%autopx\n"
     ],
     "language": "python",
     "metadata": {},
     "outputs": [
      {
       "output_type": "stream",
       "stream": "stdout",
       "text": [
        "%autopx disabled\n"
       ]
      }
     ],
     "prompt_number": 14
    },
    {
     "cell_type": "code",
     "collapsed": false,
     "input": [
      "uCa = results.u_n[ sachse.idxCa ]\n",
      "#uCa([0,0,0])\n",
      "concProf = sachse.InterpolateData(results.mesh,l)"
     ],
     "language": "python",
     "metadata": {},
     "outputs": [
      {
       "output_type": "stream",
       "stream": "stderr",
       "text": [
        "DEBUG:UFL:No integrals left after transformation, returning empty form.\n"
       ]
      },
      {
       "output_type": "stream",
       "stream": "stderr",
       "text": [
        "DEBUG:FFC:Reusing form from cache.\n"
       ]
      },
      {
       "output_type": "stream",
       "stream": "stderr",
       "text": [
        "DEBUG:UFL:No integrals left after transformation, returning empty form.\n"
       ]
      },
      {
       "output_type": "stream",
       "stream": "stderr",
       "text": [
        "DEBUG:UFL:No integrals left after transformation, returning empty form.\n"
       ]
      },
      {
       "output_type": "stream",
       "stream": "stderr",
       "text": [
        "DEBUG:FFC:Reusing form from cache.\n"
       ]
      },
      {
       "output_type": "stream",
       "stream": "stderr",
       "text": [
        "DEBUG:UFL:No integrals left after transformation, returning empty form.\n"
       ]
      },
      {
       "output_type": "stream",
       "stream": "stderr",
       "text": [
        "DEBUG:FFC:Reusing form from cache.\n"
       ]
      }
     ],
     "prompt_number": 44
    },
    {
     "cell_type": "code",
     "collapsed": false,
     "input": [
      "plt.plot(concProf)"
     ],
     "language": "python",
     "metadata": {},
     "outputs": [
      {
       "metadata": {},
       "output_type": "pyout",
       "prompt_number": 45,
       "text": [
        "[<matplotlib.lines.Line2D at 0x7fdc72555290>]"
       ]
      },
      {
       "metadata": {},
       "output_type": "display_data",
       "png": "[encoded data removed]",
       "text": [
        "<matplotlib.figure.Figure at 0x7fdcbcf0cc90>"
       ]
      }
     ],
     "prompt_number": 45
    },
    {
     "cell_type": "code",
     "collapsed": false,
     "input": [
      "np.shape(results.us)"
     ],
     "language": "python",
     "metadata": {},
     "outputs": [
      {
       "metadata": {},
       "output_type": "pyout",
       "prompt_number": 46,
       "text": [
        "(10, 100)"
       ]
      }
     ],
     "prompt_number": 46
    },
    {
     "cell_type": "code",
     "collapsed": false,
     "input": [
      "v = np.asarray(results.us)"
     ],
     "language": "python",
     "metadata": {},
     "outputs": [],
     "prompt_number": 47
    },
    {
     "cell_type": "code",
     "collapsed": false,
     "input": [
      "plt.plot(v[0,:])\n",
      "plt.plot(v[9,:])"
     ],
     "language": "python",
     "metadata": {},
     "outputs": [
      {
       "metadata": {},
       "output_type": "pyout",
       "prompt_number": 50,
       "text": [
        "[<matplotlib.lines.Line2D at 0x7fdc72569110>]"
       ]
      },
      {
       "metadata": {},
       "output_type": "display_data",
       "png": "[encoded data removed]",
       "text": [
        "<matplotlib.figure.Figure at 0x7fdc725e1fd0>"
       ]
      }
     ],
     "prompt_number": 50
    },
    {
     "cell_type": "code",
     "collapsed": false,
     "input": [],
     "language": "python",
     "metadata": {},
     "outputs": []
    }
   ],
   "metadata": {}
  }
 ]
}