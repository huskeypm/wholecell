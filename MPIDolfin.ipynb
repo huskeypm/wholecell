{
 "metadata": {
  "name": "",
  "signature": "sha256:e067b7e6ecc27ceb32dd403ea272c97dc5ce563ecf79798129c559d9c9a68377"
 },
 "nbformat": 3,
 "nbformat_minor": 0,
 "worksheets": [
  {
   "cells": [
    {
     "cell_type": "markdown",
     "metadata": {},
     "source": [
      "## MPI with notebook. \n",
      "Before running, do \n",
      "<code>\n",
      "ipcluster start --engines=MPI --n 4\n",
      "</code>\n",
      "and \n",
      "<code>\n",
      "source dolfin.bash\n",
      "</code>\n",
      "\n",
      "Therefore, load notebook as usual"
     ]
    },
    {
     "cell_type": "code",
     "collapsed": false,
     "input": [
      "%load_ext autoreload\n",
      "%autoreload 2"
     ],
     "language": "python",
     "metadata": {},
     "outputs": [],
     "prompt_number": 1
    },
    {
     "cell_type": "markdown",
     "metadata": {},
     "source": [
      "### Hello world test "
     ]
    },
    {
     "cell_type": "code",
     "collapsed": false,
     "input": [
      "from IPython.parallel import Client\n",
      "c = Client()\n",
      "c.ids"
     ],
     "language": "python",
     "metadata": {},
     "outputs": [
      {
       "metadata": {},
       "output_type": "pyout",
       "prompt_number": 2,
       "text": [
        "[0, 1, 2, 3, 4, 5, 6, 7]"
       ]
      }
     ],
     "prompt_number": 2
    },
    {
     "cell_type": "markdown",
     "metadata": {},
     "source": [
      "### MPI calls"
     ]
    },
    {
     "cell_type": "code",
     "collapsed": false,
     "input": [
      "%autopx"
     ],
     "language": "python",
     "metadata": {},
     "outputs": [
      {
       "output_type": "stream",
       "stream": "stdout",
       "text": [
        "%autopx enabled\n"
       ]
      }
     ],
     "prompt_number": 3
    },
    {
     "cell_type": "markdown",
     "metadata": {},
     "source": [
      "### Dolfin calls"
     ]
    },
    {
     "cell_type": "code",
     "collapsed": false,
     "input": [
      "from dolfin import *"
     ],
     "language": "python",
     "metadata": {},
     "outputs": [],
     "prompt_number": 4
    },
    {
     "cell_type": "code",
     "collapsed": false,
     "input": [
      "import sachse \n",
      "sachse.whosalive()"
     ],
     "language": "python",
     "metadata": {},
     "outputs": [
      {
       "output_type": "stream",
       "stream": "stdout",
       "text": [
        "[stdout:0] I'm alive\n",
        "[stdout:1] I'm alive\n",
        "[stdout:2] I'm alive\n",
        "[stdout:3] I'm alive\n",
        "[stdout:4] I'm alive\n",
        "[stdout:5] I'm alive\n",
        "[stdout:6] I'm alive\n",
        "[stdout:7] I'm alive\n"
       ]
      }
     ],
     "prompt_number": 5
    },
    {
     "cell_type": "code",
     "collapsed": false,
     "input": [
      "sachse.tsolve()\n"
     ],
     "language": "python",
     "metadata": {},
     "outputs": [
      {
       "output_type": "stream",
       "stream": "stdout",
       "text": [
        "[stdout:0] WARNING: not sure how to generalize\n",
        "[stdout:1] WARNING: not sure how to generalize\n",
        "[stdout:2] WARNING: not sure how to generalize\n",
        "[stdout:3] WARNING: not sure how to generalize\n",
        "[stdout:4] WARNING: not sure how to generalize\n",
        "[stdout:5] WARNING: not sure how to generalize\n",
        "[stdout:6] WARNING: not sure how to generalize\n",
        "[stdout:7] WARNING: not sure how to generalize\n"
       ]
      }
     ],
     "prompt_number": 9
    },
    {
     "cell_type": "code",
     "collapsed": false,
     "input": [],
     "language": "python",
     "metadata": {},
     "outputs": []
    }
   ],
   "metadata": {}
  }
 ]
}