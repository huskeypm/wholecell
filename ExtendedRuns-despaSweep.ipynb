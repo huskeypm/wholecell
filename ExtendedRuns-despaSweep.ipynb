{
 "metadata": {
  "name": "",
  "signature": "sha256:0d7b854bd2c923129a92518cfb390d529461970402e59d255532f1576d28a0b3"
 },
 "nbformat": 3,
 "nbformat_minor": 0,
 "worksheets": [
  {
   "cells": [
    {
     "cell_type": "code",
     "collapsed": false,
     "input": [
      "%load_ext autoreload\n",
      "%autoreload 2"
     ],
     "language": "python",
     "metadata": {},
     "outputs": [],
     "prompt_number": 1
    },
    {
     "cell_type": "markdown",
     "metadata": {},
     "source": [
      "## Extended runs \n",
      "Here we will 'daisy-chain' the simulations "
     ]
    },
    {
     "cell_type": "code",
     "collapsed": false,
     "input": [
      "import gotranJIT\n",
      "from gotran.model.loadmodel import load_ode"
     ],
     "language": "python",
     "metadata": {},
     "outputs": [],
     "prompt_number": 2
    },
    {
     "cell_type": "markdown",
     "metadata": {},
     "source": [
      "#### Print all states/values"
     ]
    },
    {
     "cell_type": "code",
     "collapsed": false,
     "input": [
      "import gotranUtil as gU\n",
      "gU.PrintStates()\n",
      "gU.PrintParams()"
     ],
     "language": "python",
     "metadata": {},
     "outputs": [
      {
       "output_type": "stream",
       "stream": "stdout",
       "text": [
        "Loaded ODE model 'shannon_2004' with:\n"
       ]
      },
      {
       "output_type": "stream",
       "stream": "stderr",
       "text": [
        "INFO:ModelParameters:Loaded ODE model 'shannon_2004' with:\n"
       ]
      },
      {
       "output_type": "stream",
       "stream": "stdout",
       "text": [
        "     Num full states: 39\n"
       ]
      },
      {
       "output_type": "stream",
       "stream": "stderr",
       "text": [
        "INFO:ModelParameters:     Num full states: 39\n"
       ]
      },
      {
       "output_type": "stream",
       "stream": "stdout",
       "text": [
        "      Num parameters: 124\n"
       ]
      },
      {
       "output_type": "stream",
       "stream": "stderr",
       "text": [
        "INFO:ModelParameters:      Num parameters: 124\n"
       ]
      },
      {
       "output_type": "stream",
       "stream": "stdout",
       "text": [
        "h 0.9867005\n",
        "j 0.991562\n",
        "m 0.001405627\n",
        "Xr 0.008641386\n",
        "Xs 0.005412034\n",
        "X_tos 0.004051574\n",
        "Y_tos 0.9945511\n",
        "R_tos 0.9946\n",
        "X_tof 0.004051574\n",
        "Y_tof 0.9945511\n",
        "d 7.175662e-06\n",
        "f 1.000681\n",
        "fCaB_SL 0.01452605\n",
        "fCaB_jct1 0.02421991\n",
        "R 0.8884332\n",
        "O 8.156628e-07\n",
        "I 1.024274e-07\n",
        "Ca_TroponinC 0.008773191\n",
        "Ca_TroponinC_Ca_Mg 0.1078283\n",
        "Mg_TroponinC_Ca_Mg 0.01524002\n",
        "Ca_Calmodulin 0.0002911916\n",
        "Ca_Myosin 0.001298754\n",
        "Mg_Myosin 0.1381982\n",
        "Ca_SRB 0.002143165\n",
        "Na_jct1_buf 3.539892\n",
        "Na_SL_buf 0.7720854\n",
        "Na_jct1 8.80329\n",
        "Na_SL 8.80733\n",
        "Nai 8.80853\n",
        "Ca_Calsequestrin 1.242988\n",
        "Ca_SLB_SL 0.1110363\n",
        "Ca_SLB_jct1 0.009566355\n",
        "Ca_SLHigh_SL 0.07297378\n",
        "Ca_SLHigh_jct1 0.007347888\n",
        "Ca_SR 0.5545201\n",
        "Ca_jct1 0.0001737475\n",
        "Ca_SL 0.0001031812\n",
        "Cai 8.597401e-05\n",
        "V -85.56885\n",
        "Loaded ODE model 'shannon_2004' with:\n"
       ]
      },
      {
       "output_type": "stream",
       "stream": "stderr",
       "text": [
        "INFO:ModelParameters:Loaded ODE model 'shannon_2004' with:\n"
       ]
      },
      {
       "output_type": "stream",
       "stream": "stdout",
       "text": [
        "     Num full states: 39\n"
       ]
      },
      {
       "output_type": "stream",
       "stream": "stderr",
       "text": [
        "INFO:ModelParameters:     Num full states: 39\n"
       ]
      },
      {
       "output_type": "stream",
       "stream": "stdout",
       "text": [
        "      Num parameters: 124\n"
       ]
      },
      {
       "output_type": "stream",
       "stream": "stderr",
       "text": [
        "INFO:ModelParameters:      Num parameters: 124\n"
       ]
      },
      {
       "output_type": "stream",
       "stream": "stdout",
       "text": [
        "Cao 1.8\n",
        "Cli 15\n",
        "Clo 150\n",
        "Cm 1.381e-10\n",
        "F 96485\n",
        "Ki 135\n",
        "Ko 5.4\n",
        "Mgi 1\n",
        "Nao 140\n",
        "Rgas 8314.3\n",
        "T 310\n",
        "cell_length 100\n",
        "cell_radius 10.25\n",
        "Fx_Na_SL 0.89\n",
        "Fx_Na_jct1 0.11\n",
        "G_INa 16\n",
        "Fx_NaBk_SL 0.89\n",
        "Fx_NaBk_jct1 0.11\n",
        "G_NaBk 0.000297\n",
        "Fx_NaK_SL 0.89\n",
        "Fx_NaK_jct1 0.11\n",
        "H_NaK 4\n",
        "I_NaK_max 1.90719\n",
        "Km_Ko 1.5\n",
        "Km_Nai 11\n",
        "Fx_Ks_SL 0.89\n",
        "Fx_Ks_jct1 0.11\n",
        "pKNa 0.01833\n",
        "g_Kp 0.001\n",
        "G_tos 0.06\n",
        "G_tof 0.02\n",
        "Fx_Cl_SL 0.89\n",
        "Fx_Cl_jct1 0.11\n",
        "G_Cl 0.109625\n",
        "Kd_ClCa 0.1\n",
        "G_ClBk 0.009\n",
        "Fx_ICaL_SL 0.1\n",
        "Fx_ICaL_jct1 0.9\n",
        "PCa 0.00054\n",
        "PK 2.7e-07\n",
        "PNa 1.5e-08\n",
        "Q10_CaL 1.8\n",
        "gamma_Cai 0.341\n",
        "gamma_Cao 0.341\n",
        "gamma_Ki 0.75\n",
        "gamma_Ko 0.75\n",
        "gamma_Nai 0.75\n",
        "gamma_Nao 0.75\n",
        "lccCaInact 1.7\n",
        "Fx_NCX_SL 0.89\n",
        "Fx_NCX_jct1 0.11\n",
        "HNa 3\n",
        "K_mCai 0.00359\n",
        "K_mCao 1.3\n",
        "K_mNai 12.29\n",
        "K_mNao 87.5\n",
        "Kd_act 0.000256\n",
        "Q10_NCX 1.57\n",
        "V_max_INaCa 9\n",
        "eta 0.35\n",
        "ksat 0.27\n",
        "Fx_SLCaP_SL 0.89\n",
        "Fx_SLCaP_jct1 0.11\n",
        "H_ICap 1.6\n",
        "Km 0.0005\n",
        "Q10_SLCaP 2.35\n",
        "V_maxAF 0.0673\n",
        "Fx_CaBk_SL 0.89\n",
        "Fx_CaBk_jct1 0.11\n",
        "G_CaBk 0.0002513\n",
        "EC50_SR 0.45\n",
        "HSR 2.5\n",
        "Max_SR 15\n",
        "Min_SR 1\n",
        "kiCa 0.5\n",
        "kim 0.005\n",
        "koCa 10\n",
        "kom 0.06\n",
        "ks 25\n",
        "KSRleak 5.348e-06\n",
        "H_Jpump 1.787\n",
        "Kmf 0.000246\n",
        "Kmr 1.7\n",
        "Q10_SRCaP 2.6\n",
        "V_max_Jpump 0.0053114\n",
        "Bmax_Calsequestrin 0.14\n",
        "Bmax_SLB_SL 0.0374\n",
        "Bmax_SLB_jct1 0.0046\n",
        "Bmax_SLHigh_SL 0.0134\n",
        "Bmax_SLHigh_jct1 0.00165\n",
        "koff_Calsequestrin 65\n",
        "koff_SLB 1.3\n",
        "koff_SLHigh 0.03\n",
        "kon_Calsequestrin 100\n",
        "kon_SL 100\n",
        "Bmax_Calmodulin 0.024\n",
        "Bmax_Myosin_Ca 0.14\n",
        "Bmax_Myosin_Mg 0.14\n",
        "Bmax_SRB 0.0171\n",
        "Bmax_TroponinC 0.07\n",
        "Bmax_TroponinC_Ca_Mg_Ca 0.14\n",
        "Bmax_TroponinC_Ca_Mg_Mg 0.14\n",
        "koff_Calmodulin 0.238\n",
        "koff_Myosin_Ca 0.00046\n",
        "koff_Myosin_Mg 5.7e-05\n",
        "koff_SRB 0.06\n",
        "koff_TroponinC 0.0196\n",
        "koff_TroponinC_Ca_Mg_Ca 3.2e-05\n",
        "koff_TroponinC_Ca_Mg_Mg 0.00333\n",
        "kon_Calmodulin 34\n",
        "kon_Myosin_Ca 13.8\n",
        "kon_Myosin_Mg 0.0157\n",
        "kon_SRB 100\n",
        "kon_TroponinC 32.7\n",
        "kon_TroponinC_Ca_Mg_Ca 2.37\n",
        "kon_TroponinC_Ca_Mg_Mg 0.003\n",
        "Bmax_SL 1.65\n",
        "Bmax_jct1 7.561\n",
        "koff 0.001\n",
        "kon 0.0001\n",
        "stim_amplitude 9.5\n",
        "stim_duration 5\n",
        "stim_period 1000\n",
        "stim_start 100\n"
       ]
      }
     ],
     "prompt_number": 3
    },
    {
     "cell_type": "markdown",
     "metadata": {},
     "source": [
      "### Example 1: Run several in sequence\n",
      "\n",
      "#### Run 'em"
     ]
    },
    {
     "cell_type": "code",
     "collapsed": false,
     "input": [
      "import daisychain as dc\n",
      "dorun=True\n",
      "if dorun:\n",
      "    pickleNames = dc.daisychain(outBase = \"run\",dtn=100e3, iters=3)\n",
      "else:\n",
      "    pickleNames = dc.daisychain(outBase = \"run\",dtn=100e3, iters=3, namesOnly=True)"
     ],
     "language": "python",
     "metadata": {},
     "outputs": [
      {
       "output_type": "stream",
       "stream": "stdout",
       "text": [
        "WARNING: ode idx is hardcoded\n",
        "Loaded ODE model 'shannon_2004' with:\n"
       ]
      },
      {
       "output_type": "stream",
       "stream": "stderr",
       "text": [
        "INFO:ModelParameters:Loaded ODE model 'shannon_2004' with:\n"
       ]
      },
      {
       "output_type": "stream",
       "stream": "stdout",
       "text": [
        "     Num full states: 39\n"
       ]
      },
      {
       "output_type": "stream",
       "stream": "stderr",
       "text": [
        "INFO:ModelParameters:     Num full states: 39\n"
       ]
      },
      {
       "output_type": "stream",
       "stream": "stdout",
       "text": [
        "      Num parameters: 124\n"
       ]
      },
      {
       "output_type": "stream",
       "stream": "stderr",
       "text": [
        "INFO:ModelParameters:      Num parameters: 124\n"
       ]
      },
      {
       "output_type": "stream",
       "stream": "stdout",
       "text": [
        "Using revised params from runner.py\n",
        "SUCCESS! Wrote output to "
       ]
      },
      {
       "output_type": "stream",
       "stream": "stdout",
       "text": [
        " run_1.pickle\n",
        "Reading run_1.pickle"
       ]
      },
      {
       "output_type": "stream",
       "stream": "stdout",
       "text": [
        "\n",
        "Loaded ODE model 'shannon_2004' with:\n"
       ]
      },
      {
       "output_type": "stream",
       "stream": "stderr",
       "text": [
        "INFO:ModelParameters:Loaded ODE model 'shannon_2004' with:\n"
       ]
      },
      {
       "output_type": "stream",
       "stream": "stdout",
       "text": [
        "     Num full states: 39\n"
       ]
      },
      {
       "output_type": "stream",
       "stream": "stderr",
       "text": [
        "INFO:ModelParameters:     Num full states: 39\n"
       ]
      },
      {
       "output_type": "stream",
       "stream": "stdout",
       "text": [
        "      Num parameters: 124\n"
       ]
      },
      {
       "output_type": "stream",
       "stream": "stderr",
       "text": [
        "INFO:ModelParameters:      Num parameters: 124\n"
       ]
      },
      {
       "output_type": "stream",
       "stream": "stdout",
       "text": [
        "Using revised params from runner.py\n",
        "SUCCESS! Wrote output to "
       ]
      },
      {
       "output_type": "stream",
       "stream": "stdout",
       "text": [
        " run_2.pickle\n",
        "Reading run_2.pickle\n",
        "Loaded ODE model 'shannon_2004' with:\n"
       ]
      },
      {
       "output_type": "stream",
       "stream": "stderr",
       "text": [
        "INFO:ModelParameters:Loaded ODE model 'shannon_2004' with:\n"
       ]
      },
      {
       "output_type": "stream",
       "stream": "stdout",
       "text": [
        "     Num full states: 39\n"
       ]
      },
      {
       "output_type": "stream",
       "stream": "stderr",
       "text": [
        "INFO:ModelParameters:     Num full states: 39\n"
       ]
      },
      {
       "output_type": "stream",
       "stream": "stdout",
       "text": [
        "      Num parameters: 124\n"
       ]
      },
      {
       "output_type": "stream",
       "stream": "stderr",
       "text": [
        "INFO:ModelParameters:      Num parameters: 124\n"
       ]
      },
      {
       "output_type": "stream",
       "stream": "stdout",
       "text": [
        "Using revised params from runner.py\n",
        "SUCCESS! Wrote output to "
       ]
      },
      {
       "output_type": "stream",
       "stream": "stdout",
       "text": [
        " run_3.pickle\n"
       ]
      }
     ],
     "prompt_number": 4
    },
    {
     "cell_type": "markdown",
     "metadata": {},
     "source": [
      "### Analyze entire trajectory \n",
      "\n",
      "Can use this to review results from entire 'daisy-chained' simulation. However, generally analyses only need to be performed for 'last' iteration "
     ]
    },
    {
     "cell_type": "code",
     "collapsed": false,
     "input": [
      "ts, allsisi, s_idx = dc.concatenateTrajs(pickleNames)"
     ],
     "language": "python",
     "metadata": {},
     "outputs": [
      {
       "output_type": "stream",
       "stream": "stdout",
       "text": [
        "Reading run_1.pickle\n",
        "t "
       ]
      },
      {
       "output_type": "stream",
       "stream": "stdout",
       "text": [
        " 100000.0\n",
        "Reading run_2.pickle\n",
        "t "
       ]
      },
      {
       "output_type": "stream",
       "stream": "stdout",
       "text": [
        " 200000.0\n",
        "Reading run_3.pickle\n",
        "t "
       ]
      },
      {
       "output_type": "stream",
       "stream": "stdout",
       "text": [
        " 300000.0\n"
       ]
      }
     ],
     "prompt_number": 5
    },
    {
     "cell_type": "code",
     "collapsed": false,
     "input": [
      "label = \"Cai\"\n",
      "idx = s_idx.index(label)\n",
      "plt.plot(ts,allsisi[:,idx])\n",
      "#plt.xlim([250e3,300e3])"
     ],
     "language": "python",
     "metadata": {},
     "outputs": [
      {
       "metadata": {},
       "output_type": "pyout",
       "prompt_number": 6,
       "text": [
        "[<matplotlib.lines.Line2D at 0x7f02e22f4910>]"
       ]
      },
      {
       "metadata": {},
       "output_type": "display_data",
       "png": "[encoded data removed]",
       "text": [
        "<matplotlib.figure.Figure at 0x7f02e22e28d0>"
       ]
      }
     ],
     "prompt_number": 6
    },
    {
     "cell_type": "code",
     "collapsed": false,
     "input": [
      "label = \"V\"\n",
      "idx = s_idx.index(label)\n",
      "plt.plot(ts,allsisi[:,idx])\n",
      "plt.xlim([259e3,261e3])"
     ],
     "language": "python",
     "metadata": {},
     "outputs": [
      {
       "metadata": {},
       "output_type": "pyout",
       "prompt_number": 12,
       "text": [
        "(259000.0, 261000.0)"
       ]
      },
      {
       "metadata": {},
       "output_type": "display_data",
       "png": "[encoded data removed]",
       "text": [
        "<matplotlib.figure.Figure at 0x7f02e10b9810>"
       ]
      }
     ],
     "prompt_number": 12
    },
    {
     "cell_type": "markdown",
     "metadata": {},
     "source": [
      "### Example 2: use 'Case' objects to streamline case identifucation"
     ]
    },
    {
     "cell_type": "markdown",
     "metadata": {},
     "source": [
      "#### Case Initialization"
     ]
    },
    {
     "cell_type": "code",
     "collapsed": false,
     "input": [
      "import Case\n",
      "T = 300e3             # total simulation time [ms]\n",
      "nIntervals = 5       # number of intervals (s.t. each pickle contains T/nInterval of data )\n",
      "\n",
      "def init(freq_Hz=1.,\n",
      "         T=300e3, # total simulation time [ms]\n",
      "         nIntervals=6 # number of intervals (s.t. each pickle contains T/nInterval of data )\n",
      "\n",
      "         ):\n",
      "    #### Define common parameters    \n",
      "    root = \"./\"\n",
      "    stim_period = 1000./freq_Hz  # ms\n",
      "    leak = 3.0\n",
      "    # for storing data \n",
      "    caseDict = dict()\n",
      "\n",
      "    #### Define cases \n",
      "    # case 1\n",
      "    tag=\"baseline_freq%3.1f\"%freq_Hz\n",
      "    label=\"Baseline (%3.1f Hz)\"%freq_Hz\n",
      "    name = root+\"despa_%s.pickle\"%(tag) # filename \n",
      "    args = [ # pass in cellml/gotran arguments (eg. in shannon_2004.ode)\n",
      "      \"-var stim_period %f\" % stim_period,\n",
      "      \"-var G_CaBk %f \" % (0.0002513), # baseline\n",
      "      \"-var G_NaBk %f \" % (0.000297) # baseline\n",
      "      ]\n",
      "    case = Case.Case(tag=tag,label=label,args=args,nIntervals=nIntervals,T=T, name = name)\n",
      "    caseDict[tag] = case\n",
      "\n",
      "\n",
      "    tag=\"incrleak%3.1f_freq%3.1f\"%(leak,freq_Hz)\n",
      "    label=\"+HIP (%3.1fx)\"%leak\n",
      "    name = root+\"despa_%s.pickle\"%(tag) # filename \n",
      "    args = [ # pass in cellml/gotran arguments (eg. in shannon_2004.ode)\n",
      "      \"-var stim_period %f\" % stim_period,\n",
      "      \"-var G_CaBk %f \" % (0.0002513*leak), # baseline times 3.0\n",
      "      \"-var G_NaBk %f \" % (0.000297*leak) # baseline times 3.0\n",
      "      ]\n",
      "    case = Case.Case(tag=tag,label=label,args=args,nIntervals=nIntervals,T=T, name = name)\n",
      "    caseDict[tag] = case\n",
      "  \n",
      "    return caseDict\n"
     ],
     "language": "python",
     "metadata": {},
     "outputs": [],
     "prompt_number": 348
    },
    {
     "cell_type": "markdown",
     "metadata": {},
     "source": [
      "#### Initialize for several freq. "
     ]
    },
    {
     "cell_type": "code",
     "collapsed": false,
     "input": [
      "freqs = [0.1,0.5,1.0,1.5,2.0]\n",
      "\n",
      "caseDict = dict()\n",
      "for i,freq in enumerate(freqs):\n",
      "  caseDicti = init(freq_Hz=freq, T=T,nIntervals=nIntervals)   \n",
      "  caseDict.update(caseDicti)  \n"
     ],
     "language": "python",
     "metadata": {},
     "outputs": [],
     "prompt_number": 349
    },
    {
     "cell_type": "markdown",
     "metadata": {},
     "source": [
      "#### Generate command line inputs "
     ]
    },
    {
     "cell_type": "code",
     "collapsed": false,
     "input": [
      "for key,case in caseDict.iteritems():\n",
      "      print \"# \", key\n",
      "      print case.cmdLine\n",
      "  #print \"python runShannonTest.py \"+\" \".join(healthyArgs)+\" -name \"+healthyName+\" &\"\n",
      "\n"
     ],
     "language": "python",
     "metadata": {},
     "outputs": [
      {
       "output_type": "stream",
       "stream": "stdout",
       "text": [
        "#  baseline_freq1.5\n",
        "python daisychain.py  -var stim_period 666.666667 -var G_CaBk 0.000251  -var G_NaBk 0.000297  -iters 5 -T 60000.000000 -name ./despa_baseline_freq1.5.pickle  &\n",
        "#  incrleak3.0_freq0.5\n",
        "python daisychain.py  -var stim_period 2000.000000 -var G_CaBk 0.000754  -var G_NaBk 0.000891  -iters 5 -T 60000.000000 -name ./despa_incrleak3.0_freq0.5.pickle  &\n",
        "#  incrleak3.0_freq2.0\n",
        "python daisychain.py  -var stim_period 500.000000 -var G_CaBk 0.000754  -var G_NaBk 0.000891  -iters 5 -T 60000.000000 -name ./despa_incrleak3.0_freq2.0.pickle  &\n",
        "#  baseline_freq1.0\n",
        "python daisychain.py  -var stim_period 1000.000000 -var G_CaBk 0.000251  -var G_NaBk 0.000297  -iters 5 -T 60000.000000 -name ./despa_baseline_freq1.0.pickle  &\n",
        "#  incrleak3.0_freq0.1\n",
        "python daisychain.py  -var stim_period 10000.000000 -var G_CaBk 0.000754  -var G_NaBk 0.000891  -iters 5 -T 60000.000000 -name ./despa_incrleak3.0_freq0.1.pickle  &\n",
        "#  baseline_freq0.1\n",
        "python daisychain.py  -var stim_period 10000.000000 -var G_CaBk 0.000251  -var G_NaBk 0.000297  -iters 5 -T 60000.000000 -name ./despa_baseline_freq0.1.pickle  &\n",
        "#  baseline_freq2.0\n",
        "python daisychain.py  -var stim_period 500.000000 -var G_CaBk 0.000251  -var G_NaBk 0.000297  -iters 5 -T 60000.000000 -name ./despa_baseline_freq2.0.pickle  &\n",
        "#  incrleak3.0_freq1.0\n",
        "python daisychain.py  -var stim_period 1000.000000 -var G_CaBk 0.000754  -var G_NaBk 0.000891  -iters 5 -T 60000.000000 -name ./despa_incrleak3.0_freq1.0.pickle  &\n",
        "#  baseline_freq0.5\n",
        "python daisychain.py  -var stim_period 2000.000000 -var G_CaBk 0.000251  -var G_NaBk 0.000297  -iters 5 -T 60000.000000 -name ./despa_baseline_freq0.5.pickle  &\n",
        "#  incrleak3.0_freq1.5\n",
        "python daisychain.py  -var stim_period 666.666667 -var G_CaBk 0.000754  -var G_NaBk 0.000891  -iters 5 -T 60000.000000 -name ./despa_incrleak3.0_freq1.5.pickle  &\n"
       ]
      }
     ],
     "prompt_number": 51
    },
    {
     "cell_type": "markdown",
     "metadata": {},
     "source": [
      "#### Plot data \n",
      "(Note that this comes from the last iteration, since we assume first 'n-1' intervals used for equilibration)"
     ]
    },
    {
     "cell_type": "markdown",
     "metadata": {},
     "source": [
      "##### Store data into objects (last run )"
     ]
    },
    {
     "cell_type": "code",
     "collapsed": false,
     "input": [
      "import analyzeODE as ao\n",
      "\n",
      "for key,case in caseDict.iteritems():\n",
      "      print \"# \", key, case.name\n",
      "      case.data = ao.readPickle(case.name)"
     ],
     "language": "python",
     "metadata": {},
     "outputs": [
      {
       "output_type": "stream",
       "stream": "stdout",
       "text": [
        "#  baseline_freq1.5 ./despa_baseline_freq1.5_5.pickle\n",
        "Reading ./despa_baseline_freq1.5_5.pickle\n",
        "# "
       ]
      },
      {
       "output_type": "stream",
       "stream": "stdout",
       "text": [
        " incrleak3.0_freq0.5 ./despa_incrleak3.0_freq0.5_5.pickle\n",
        "Reading ./despa_incrleak3.0_freq0.5_5.pickle\n",
        "# "
       ]
      },
      {
       "output_type": "stream",
       "stream": "stdout",
       "text": [
        " incrleak3.0_freq2.0 ./despa_incrleak3.0_freq2.0_5.pickle\n",
        "Reading ./despa_incrleak3.0_freq2.0_5.pickle\n",
        "# "
       ]
      },
      {
       "output_type": "stream",
       "stream": "stdout",
       "text": [
        " baseline_freq1.0 ./despa_baseline_freq1.0_5.pickle\n",
        "Reading ./despa_baseline_freq1.0_5.pickle\n",
        "# "
       ]
      },
      {
       "output_type": "stream",
       "stream": "stdout",
       "text": [
        " incrleak3.0_freq0.1 ./despa_incrleak3.0_freq0.1_5.pickle\n",
        "Reading ./despa_incrleak3.0_freq0.1_5.pickle\n",
        "# "
       ]
      },
      {
       "output_type": "stream",
       "stream": "stdout",
       "text": [
        " baseline_freq0.1 ./despa_baseline_freq0.1_5.pickle\n",
        "Reading ./despa_baseline_freq0.1_5.pickle\n",
        "# "
       ]
      },
      {
       "output_type": "stream",
       "stream": "stdout",
       "text": [
        " baseline_freq2.0 ./despa_baseline_freq2.0_5.pickle\n",
        "Reading ./despa_baseline_freq2.0_5.pickle\n",
        "# "
       ]
      },
      {
       "output_type": "stream",
       "stream": "stdout",
       "text": [
        " incrleak3.0_freq1.0 ./despa_incrleak3.0_freq1.0_5.pickle\n",
        "Reading ./despa_incrleak3.0_freq1.0_5.pickle\n",
        "# "
       ]
      },
      {
       "output_type": "stream",
       "stream": "stdout",
       "text": [
        " baseline_freq0.5 ./despa_baseline_freq0.5_5.pickle\n",
        "Reading ./despa_baseline_freq0.5_5.pickle\n",
        "# "
       ]
      },
      {
       "output_type": "stream",
       "stream": "stdout",
       "text": [
        " incrleak3.0_freq1.5 ./despa_incrleak3.0_freq1.5_5.pickle\n",
        "Reading ./despa_incrleak3.0_freq1.5_5.pickle\n"
       ]
      }
     ],
     "prompt_number": 369
    },
    {
     "cell_type": "markdown",
     "metadata": {},
     "source": [
      "##### Plot cool stuff (first case) \n",
      "\n",
      "(Grab cases of interest)"
     ]
    },
    {
     "cell_type": "code",
     "collapsed": false,
     "input": [
      "freqi = \"%3.1f\"%0.1\n",
      "caseDicti = dict()\n",
      "for key,case in caseDict.iteritems():\n",
      "    if freqi in key:\n",
      "        print case.label \n",
      "        caseDicti[case.tag]=case"
     ],
     "language": "python",
     "metadata": {},
     "outputs": [
      {
       "ename": "NameError",
       "evalue": "name 'caseDict' is not defined",
       "output_type": "pyerr",
       "traceback": [
        "\u001b[0;31m---------------------------------------------------------------------------\u001b[0m\n\u001b[0;31mNameError\u001b[0m                                 Traceback (most recent call last)",
        "\u001b[0;32m<ipython-input-11-7afc6a054038>\u001b[0m in \u001b[0;36m<module>\u001b[0;34m()\u001b[0m\n\u001b[1;32m      1\u001b[0m \u001b[0mfreqi\u001b[0m \u001b[0;34m=\u001b[0m \u001b[0;34m\"%3.1f\"\u001b[0m\u001b[0;34m%\u001b[0m\u001b[0;36m0.1\u001b[0m\u001b[0;34m\u001b[0m\u001b[0m\n\u001b[1;32m      2\u001b[0m \u001b[0mcaseDicti\u001b[0m \u001b[0;34m=\u001b[0m \u001b[0mdict\u001b[0m\u001b[0;34m(\u001b[0m\u001b[0;34m)\u001b[0m\u001b[0;34m\u001b[0m\u001b[0m\n\u001b[0;32m----> 3\u001b[0;31m \u001b[0;32mfor\u001b[0m \u001b[0mkey\u001b[0m\u001b[0;34m,\u001b[0m\u001b[0mcase\u001b[0m \u001b[0;32min\u001b[0m \u001b[0mcaseDict\u001b[0m\u001b[0;34m.\u001b[0m\u001b[0miteritems\u001b[0m\u001b[0;34m(\u001b[0m\u001b[0;34m)\u001b[0m\u001b[0;34m:\u001b[0m\u001b[0;34m\u001b[0m\u001b[0m\n\u001b[0m\u001b[1;32m      4\u001b[0m     \u001b[0;32mif\u001b[0m \u001b[0mfreqi\u001b[0m \u001b[0;32min\u001b[0m \u001b[0mkey\u001b[0m\u001b[0;34m:\u001b[0m\u001b[0;34m\u001b[0m\u001b[0m\n\u001b[1;32m      5\u001b[0m         \u001b[0;32mprint\u001b[0m \u001b[0mcase\u001b[0m\u001b[0;34m.\u001b[0m\u001b[0mlabel\u001b[0m\u001b[0;34m\u001b[0m\u001b[0m\n",
        "\u001b[0;31mNameError\u001b[0m: name 'caseDict' is not defined"
       ]
      }
     ],
     "prompt_number": 11
    },
    {
     "cell_type": "markdown",
     "metadata": {},
     "source": [
      "Plot cases of interest"
     ]
    },
    {
     "cell_type": "code",
     "collapsed": false,
     "input": [
      "plt.figure()\n",
      "for key, case in caseDicti.iteritems():\n",
      "  print case.tag\n",
      "  print case.label\n",
      "  t = case.data['t'] \n",
      "  #t-= np.min(t)  \n",
      "  ti= t + T*(1-1/np.float(nIntervals)) # should define this elsewhere (dbl check) \n",
      "  s = case.data['s']\n",
      "  s_idx = case.data['s_idx']\n",
      "\n",
      "\n",
      "  idx = s_idx.index(\"Cai\")\n",
      "  plt.plot(ti,s[:,idx],label=case.label)\n",
      "\n",
      "#plt.figure()\n",
      "#idx = s_idx.index(\"Nai\")\n",
      "#plt.plot(t,s[:,idx],label=case.label)\n",
      "plt.xlim([290e3,300e3])\n",
      "plt.legend()\n",
      "outFile=\"despaCa_incrleak3.0_freq0.1.png\"\n",
      "plt.gcf().savefig(outFile)"
     ],
     "language": "python",
     "metadata": {},
     "outputs": [
      {
       "output_type": "stream",
       "stream": "stdout",
       "text": [
        "baseline_freq0.1\n",
        "Baseline (0.1 Hz)\n",
        "incrleak3.0_freq0.1"
       ]
      },
      {
       "output_type": "stream",
       "stream": "stdout",
       "text": [
        "\n",
        "+HIP (3.0x)\n"
       ]
      },
      {
       "metadata": {},
       "output_type": "display_data",
       "png": "[encoded data removed]",
       "text": [
        "<matplotlib.figure.Figure at 0x7f73bd6d5450>"
       ]
      }
     ],
     "prompt_number": 372
    },
    {
     "cell_type": "code",
     "collapsed": false,
     "input": [
      "plt.figure()\n",
      "for key, case in caseDicti.iteritems():\n",
      "  print case.tag\n",
      "  print case.label\n",
      "  t = case.data['t'] \n",
      "  #t-= np.min(t)  \n",
      "  ti= t + T*(1-1/np.float(nIntervals)) # should define this elsewhere (dbl check) \n",
      "  s = case.data['s']\n",
      "  s_idx = case.data['s_idx']\n",
      "\n",
      "\n",
      "  idx = s_idx.index(\"Nai\")\n",
      "  plt.plot(ti,s[:,idx],label=case.label)\n",
      "\n",
      "#plt.figure()\n",
      "#idx = s_idx.index(\"Nai\")\n",
      "#plt.plot(t,s[:,idx],label=case.label)\n",
      "plt.xlim([290e3,300e3])\n",
      "plt.legend(loc=0)\n",
      "outFile=\"despaNa_incrleak3.0_freq0.1.png\"\n",
      "plt.gcf().savefig(outFile)"
     ],
     "language": "python",
     "metadata": {},
     "outputs": [
      {
       "output_type": "stream",
       "stream": "stdout",
       "text": [
        "baseline_freq0.1\n",
        "Baseline (0.1 Hz)\n",
        "incrleak3.0_freq0.1"
       ]
      },
      {
       "output_type": "stream",
       "stream": "stdout",
       "text": [
        "\n",
        "+HIP (3.0x)\n"
       ]
      },
      {
       "metadata": {},
       "output_type": "display_data",
       "png": "[encoded data removed]",
       "text": [
        "<matplotlib.figure.Figure at 0x7f73bd7aa890>"
       ]
      }
     ],
     "prompt_number": 376
    },
    {
     "cell_type": "code",
     "collapsed": false,
     "input": [
      "freqi = \"%3.1f\"%0.1\n",
      "caseDicti = dict()\n",
      "for key,case in caseDict.iteritems():\n",
      "    if freqi in key:\n",
      "        print case.label \n",
      "        caseDicti[case.tag]=case"
     ],
     "language": "python",
     "metadata": {},
     "outputs": [
      {
       "output_type": "stream",
       "stream": "stdout",
       "text": [
        "+HIP (3.0x)\n",
        "Baseline (0.1 Hz)\n"
       ]
      }
     ],
     "prompt_number": 353
    },
    {
     "cell_type": "code",
     "collapsed": false,
     "input": [
      "plt.figure()\n",
      "i=0\n",
      "max0_1=np.zeros(2)\n",
      "min0_1=np.zeros(2)\n",
      "diff0_1=np.zeros(2)\n",
      "for key, case in caseDicti.iteritems():\n",
      "  print case.tag\n",
      "  print case.label\n",
      "  t = case.data['t'] \n",
      "  #t-= np.min(t)  \n",
      "  ti= t + T*(1-1/np.float(nIntervals)) # should define this elsewhere (dbl check) \n",
      "  s = case.data['s']\n",
      "  s_idx = case.data['s_idx']\n",
      "\n",
      "\n",
      "  idx = s_idx.index(\"Cai\")\n",
      "  plt.plot(ti,s[:,idx],label=case.label)\n",
      " # print s[298e03:,idx]\n",
      "  max0_1[i] = np.amax(s[500e3:,idx])\n",
      "  min0_1[i] = np.amin(s[500e3:,idx])\n",
      "  diff0_1[i] = max0_1[i] - min0_1[i]\n",
      "  print max0_1, min0_1, diff0_1\n",
      "  i=i+1\n",
      "    \n",
      "#plt.figure()\n",
      "#idx = s_idx.index(\"Nai\")\n",
      "#plt.plot(t,s[:,idx],label=case.label)\n",
      "plt.xlim([290e3,300e3])\n",
      "plt.legend()\n",
      "outFile=\"%s.png\"%case.name\n",
      "plt.gcf().savefig(outFile)\n",
      "\n",
      "diff0_1b=diff0_1[0]\n",
      "diff0_1x=diff0_1[1]\n",
      "\n",
      "print \"Baseline: \", diff0_1b\n",
      "print \"Extended: \", diff0_1x"
     ],
     "language": "python",
     "metadata": {},
     "outputs": [
      {
       "output_type": "stream",
       "stream": "stdout",
       "text": [
        "baseline_freq0.1\n",
        "Baseline (0.1 Hz)\n",
        "[ 0.00022597  0.        ]"
       ]
      },
      {
       "output_type": "stream",
       "stream": "stdout",
       "text": [
        " [  7.37043019e-05   0.00000000e+00] [ 0.00015227  0.        ]\n",
        "incrleak3.0_freq0.1\n",
        "+HIP (3.0x)\n",
        "[ 0.00022597  0.00067457] [  7.37043019e-05   8.71153419e-05] [ 0.00015227  0.00058746]\n",
        "Baseline: "
       ]
      },
      {
       "output_type": "stream",
       "stream": "stdout",
       "text": [
        " 0.000152270213626\n",
        "Extended:  0.000587457926402\n"
       ]
      },
      {
       "metadata": {},
       "output_type": "display_data",
       "png": "[encoded data removed]",
       "text": [
        "<matplotlib.figure.Figure at 0x7f73bdec7f50>"
       ]
      }
     ],
     "prompt_number": 354
    },
    {
     "cell_type": "code",
     "collapsed": false,
     "input": [
      "freqi = \"%3.1f\"%0.5\n",
      "caseDicti = dict()\n",
      "for key,case in caseDict.iteritems():\n",
      "    if freqi in key:\n",
      "        print case.label \n",
      "        caseDicti[case.tag]=case"
     ],
     "language": "python",
     "metadata": {},
     "outputs": [
      {
       "output_type": "stream",
       "stream": "stdout",
       "text": [
        "+HIP (3.0x)\n",
        "Baseline (0.5 Hz)\n"
       ]
      }
     ],
     "prompt_number": 379
    },
    {
     "cell_type": "code",
     "collapsed": false,
     "input": [
      "plt.figure()\n",
      "i=0\n",
      "max0_5=np.zeros(2)\n",
      "min0_5=np.zeros(2)\n",
      "diff0_5=np.zeros(2)\n",
      "for key, case in caseDicti.iteritems():\n",
      "  print case.tag\n",
      "  print case.label\n",
      "  t = case.data['t'] \n",
      "  #t-= np.min(t)  \n",
      "  ti= t + T*(1-1/np.float(nIntervals)) # should define this elsewhere (dbl check) \n",
      "  print \"time!\", t\n",
      "  print \"TIme!\", ti\n",
      "  s = case.data['s']\n",
      "  s_idx = case.data['s_idx']\n",
      "\n",
      "\n",
      "  idx = s_idx.index(\"Cai\")\n",
      "  plt.plot(ti,s[:,idx],label=case.label)\n",
      " # print s[298e03:,idx]\n",
      "  max0_5[i] = np.amax(s[578e3:,idx])\n",
      "  min0_5[i] = np.amin(s[578e3:,idx])\n",
      "  diff0_5[i] = max0_5[i] - min0_5[i]\n",
      "  print max0_5, min0_5, diff0_5\n",
      "  i=i+1\n",
      "  print np.shape(s[:,idx])\n",
      "    \n",
      "#plt.figure()\n",
      "#idx = s_idx.index(\"Nai\")\n",
      "#plt.plot(t,s[:,idx],label=case.label)\n",
      "plt.xlim([298e3,300e3])\n",
      "plt.legend()\n",
      "outFile=\"%s.png\"%case.name\n",
      "plt.gcf().savefig(outFile)\n",
      "\n",
      "diff0_5b=diff0_5[1]\n",
      "diff0_5x=diff0_5[0]\n",
      "\n",
      "print \"Baseline: \", diff0_5b\n",
      "print \"Extended: \", diff0_5x"
     ],
     "language": "python",
     "metadata": {},
     "outputs": [
      {
       "output_type": "stream",
       "stream": "stdout",
       "text": [
        "incrleak3.0_freq0.5\n",
        "+HIP (3.0x)\n",
        "time! [  0.00000000e+00   1.00000000e-01   2.00000000e-01 ...,   5.99998000e+04\n",
        "   5.99999000e+04   6.00000000e+04]\n",
        "TIme! [ 240000.   240000.1  240000.2 ...,  299999.8  299999.9  300000. ]\n",
        "[ 0.00047003  0.        ]"
       ]
      },
      {
       "output_type": "stream",
       "stream": "stdout",
       "text": [
        " [  8.88886156e-05   0.00000000e+00] [ 0.00038114  0.        ]\n",
        "(600001,)\n",
        "baseline_freq0.5\n",
        "Baseline (0.5 Hz)\n",
        "time! [  0.00000000e+00   1.00000000e-01   2.00000000e-01 ...,   5.99998000e+04\n",
        "   5.99999000e+04   6.00000000e+04]\n",
        "TIme! [ 240000.   240000.1  240000.2 ...,  299999.8  299999.9  300000. ]\n",
        "[ 0.00047003  0.0003048 ]"
       ]
      },
      {
       "output_type": "stream",
       "stream": "stdout",
       "text": [
        " [  8.88886156e-05   8.03741761e-05] [ 0.00038114  0.00022443]\n",
        "(600001,)\n",
        "Baseline: "
       ]
      },
      {
       "output_type": "stream",
       "stream": "stdout",
       "text": [
        " 0.00022442949253\n",
        "Extended:  0.000381144617211\n"
       ]
      },
      {
       "metadata": {},
       "output_type": "display_data",
       "png": "[encoded data removed]",
       "text": [
        "<matplotlib.figure.Figure at 0x7f73bd965110>"
       ]
      }
     ],
     "prompt_number": 378
    },
    {
     "cell_type": "code",
     "collapsed": false,
     "input": [
      "plt.figure()\n",
      "i=0\n",
      "max0_5=np.zeros(2)\n",
      "min0_5=np.zeros(2)\n",
      "diff0_5=np.zeros(2)\n",
      "for key, case in caseDicti.iteritems():\n",
      "#  print case.tag\n",
      "  print case.label\n",
      "  t = case.data['t'] \n",
      "  #t-= np.min(t)  \n",
      "  ti= t + T*(1-1/np.float(nIntervals)) # should define this elsewhere (dbl check) \n",
      "#  print \"time!\", t\n",
      "#  print \"TIme!\", np.shape(ti)\n",
      "  s = case.data['s']\n",
      "  s_idx = case.data['s_idx']\n",
      "\n",
      "\n",
      "  idx = s_idx.index(\"Cai\")\n",
      " # plt.plot(ti,s[:,idx],label=case.label)\n",
      " # print s[298e03:,idx]\n",
      "  max0_5 = np.amax(s[578e3:,idx])\n",
      "  min0_5 = np.amin(s[578e3:,idx])\n",
      "  print max0_5\n",
      "  \n",
      "  s_shift = s[578e3:,idx]-min0_5\n",
      "  max0_5 = np.amax(s_shift)\n",
      "  s_shift/=max0_5\n",
      "  print s[578e3:,idx]\n",
      "  print np.amax(s_shift)\n",
      "#  print np.shape(ti[598e3:])\n",
      "    \n",
      "  plt.plot(ti[578e3:],s_shift,label=case.label)\n",
      "    \n",
      "#plt.figure()\n",
      "#idx = s_idx.index(\"Nai\")\n",
      "#plt.plot(t,s[:,idx],label=case.label)\n",
      "plt.xlim([298e3,300e3])\n",
      "plt.legend()\n",
      "outFile=\"figure5C.png\"\n",
      "plt.gcf().savefig(outFile)"
     ],
     "language": "python",
     "metadata": {},
     "outputs": [
      {
       "output_type": "stream",
       "stream": "stdout",
       "text": [
        "+HIP (3.0x)\n",
        "0.000470033232831\n",
        "[  8.94379939e-05   8.94381644e-05   8.94383349e-05 ...,   8.97874212e-05\n",
        "   8.97875985e-05   8.97877759e-05]\n",
        "1.0\n",
        "Baseline (0.5 Hz)"
       ]
      },
      {
       "output_type": "stream",
       "stream": "stdout",
       "text": [
        "\n",
        "0.000304803668614\n",
        "[  8.04371737e-05   8.04371410e-05   8.04371083e-05 ...,   8.03893872e-05\n",
        "   8.03893698e-05   8.03893525e-05]\n",
        "1.0\n"
       ]
      },
      {
       "metadata": {},
       "output_type": "display_data",
       "png": "[encoded data removed]",
       "text": [
        "<matplotlib.figure.Figure at 0x7f73f5e8b650>"
       ]
      }
     ],
     "prompt_number": 357
    },
    {
     "cell_type": "code",
     "collapsed": false,
     "input": [
      "plt.figure()\n",
      "for key, case in caseDicti.iteritems():\n",
      "  print case.tag\n",
      "  print case.label\n",
      "  t = case.data['t'] \n",
      "  #t-= np.min(t)  \n",
      "  ti= t + T*(1-1/np.float(nIntervals)) # should define this elsewhere (dbl check) \n",
      "  s = case.data['s']\n",
      "  s_idx = case.data['s_idx']\n",
      "\n",
      "\n",
      "  idx = s_idx.index(\"Nai\")\n",
      "  plt.plot(ti,s[:,idx],label=case.label)\n",
      "\n",
      "#plt.figure()\n",
      "#idx = s_idx.index(\"Nai\")\n",
      "#plt.plot(t,s[:,idx],label=case.label)\n",
      "plt.xlim([298e3,300e3])\n",
      "plt.legend(loc=0)\n",
      "outFile=\"despaNa_incrleak3.0_freq0.5.png\"\n",
      "plt.gcf().savefig(outFile)"
     ],
     "language": "python",
     "metadata": {},
     "outputs": [
      {
       "output_type": "stream",
       "stream": "stdout",
       "text": [
        "incrleak3.0_freq0.5\n",
        "+HIP (3.0x)\n",
        "baseline_freq0.5"
       ]
      },
      {
       "output_type": "stream",
       "stream": "stdout",
       "text": [
        "\n",
        "Baseline (0.5 Hz)\n"
       ]
      },
      {
       "metadata": {},
       "output_type": "display_data",
       "png": "[encoded data removed]",
       "text": [
        "<matplotlib.figure.Figure at 0x7f73bd7aa190>"
       ]
      }
     ],
     "prompt_number": 380
    },
    {
     "cell_type": "code",
     "collapsed": false,
     "input": [
      "freqi = \"%3.1f\"%1.0\n",
      "caseDicti = dict()\n",
      "for key,case in caseDict.iteritems():\n",
      "    if freqi in key:\n",
      "        print case.label \n",
      "        caseDicti[case.tag]=case"
     ],
     "language": "python",
     "metadata": {},
     "outputs": [
      {
       "output_type": "stream",
       "stream": "stdout",
       "text": [
        "Baseline (1.0 Hz)\n",
        "+HIP (3.0x)\n"
       ]
      }
     ],
     "prompt_number": 358
    },
    {
     "cell_type": "code",
     "collapsed": false,
     "input": [
      "plt.figure()\n",
      "i=0\n",
      "max1=np.zeros(2)\n",
      "min1=np.zeros(2)\n",
      "diff1=np.zeros(2)\n",
      "for key, case in caseDicti.iteritems():\n",
      "  print case.tag\n",
      "  print case.label\n",
      "  t = case.data['t'] \n",
      "  #t-= np.min(t)  \n",
      "  ti= t + T*(1-1/np.float(nIntervals)) # should define this elsewhere (dbl check) \n",
      "  s = case.data['s']\n",
      "  s_idx = case.data['s_idx']\n",
      "\n",
      "\n",
      "  idx = s_idx.index(\"Cai\")\n",
      "  plt.plot(ti,s[:,idx],label=case.label)\n",
      " # print s[298e03:,idx]\n",
      "  max1[i] = np.amax(s[580e3:,idx])\n",
      "  min1[i] = np.amin(s[580e3:,idx])\n",
      "  diff1[i] = max1[i] - min1[i]\n",
      "  print max1, min1, diff1\n",
      "  i=i+1\n",
      "    \n",
      "#plt.figure()\n",
      "#idx = s_idx.index(\"Nai\")\n",
      "#plt.plot(t,s[:,idx],label=case.label)\n",
      "plt.xlim([299e3,300e3])\n",
      "plt.legend()\n",
      "outFile=\"%s.png\"%case.name\n",
      "plt.gcf().savefig(outFile)\n",
      "\n",
      "diff1b=diff1[1]\n",
      "diff1x=diff1[0]\n",
      "\n",
      "print \"Baseline: \", diff1b\n",
      "print \"Extended: \", diff1x"
     ],
     "language": "python",
     "metadata": {},
     "outputs": [
      {
       "output_type": "stream",
       "stream": "stdout",
       "text": [
        "incrleak3.0_freq1.0\n",
        "+HIP (3.0x)\n",
        "[ 0.00048676  0.        ]"
       ]
      },
      {
       "output_type": "stream",
       "stream": "stdout",
       "text": [
        " [  9.30665988e-05   0.00000000e+00] [ 0.00039369  0.        ]\n",
        "baseline_freq1.0\n",
        "Baseline (1.0 Hz)\n",
        "[ 0.00048676  0.00037939] [  9.30665988e-05   8.66265918e-05] [ 0.00039369  0.00029277]\n",
        "Baseline: "
       ]
      },
      {
       "output_type": "stream",
       "stream": "stdout",
       "text": [
        " 0.000292766063808\n",
        "Extended:  0.000393689733076\n"
       ]
      },
      {
       "metadata": {},
       "output_type": "display_data",
       "png": "[encoded data removed]",
       "text": [
        "<matplotlib.figure.Figure at 0x7f73f63c3990>"
       ]
      }
     ],
     "prompt_number": 359
    },
    {
     "cell_type": "code",
     "collapsed": false,
     "input": [
      "freqi = \"%3.1f\"%1.5\n",
      "caseDicti = dict()\n",
      "for key,case in caseDict.iteritems():\n",
      "    if freqi in key:\n",
      "        print case.label \n",
      "        caseDicti[case.tag]=case"
     ],
     "language": "python",
     "metadata": {},
     "outputs": [
      {
       "output_type": "stream",
       "stream": "stdout",
       "text": [
        "Baseline (1.5 Hz)\n",
        "+HIP (3.0x)\n"
       ]
      }
     ],
     "prompt_number": 360
    },
    {
     "cell_type": "code",
     "collapsed": false,
     "input": [
      "plt.figure()\n",
      "i=0\n",
      "max1_5=np.zeros(2)\n",
      "min1_5=np.zeros(2)\n",
      "diff1_5=np.zeros(2)\n",
      "for key, case in caseDicti.iteritems():\n",
      "  print case.tag\n",
      "  print case.label\n",
      "  t = case.data['t'] \n",
      "  #t-= np.min(t)  \n",
      "  ti= t + T*(1-1/np.float(nIntervals)) # should define this elsewhere (dbl check) \n",
      "  s = case.data['s']\n",
      "  s_idx = case.data['s_idx']\n",
      "\n",
      "\n",
      "  idx = s_idx.index(\"Cai\")\n",
      "  plt.plot(ti,s[:,idx],label=case.label)\n",
      " # print s[298e03:,idx]\n",
      "  max1_5[i] = np.amax(s[585e3:,idx])\n",
      "  min1_5[i] = np.amin(s[585e3:,idx])\n",
      "  diff1_5[i] = max1_5[i] - min1_5[i]\n",
      "  print max1_5, min1_5, diff1_5\n",
      "  i=i+1\n",
      "    \n",
      "#plt.figure()\n",
      "#idx = s_idx.index(\"Nai\")\n",
      "#plt.plot(t,s[:,idx],label=case.label)\n",
      "plt.xlim([299e3,300e3])\n",
      "plt.legend()\n",
      "outFile=\"%s.png\"%case.name\n",
      "plt.gcf().savefig(outFile)\n",
      "\n",
      "diff1_5b=diff1_5[0]\n",
      "diff1_5x=diff1_5[1]\n",
      "\n",
      "print \"Baseline: \", diff1_5b\n",
      "print \"Extended: \", diff1_5x"
     ],
     "language": "python",
     "metadata": {},
     "outputs": [
      {
       "output_type": "stream",
       "stream": "stdout",
       "text": [
        "baseline_freq1.5\n",
        "Baseline (1.5 Hz)\n",
        "[ 0.00043769  0.        ]"
       ]
      },
      {
       "output_type": "stream",
       "stream": "stdout",
       "text": [
        " [  9.70629210e-05   0.00000000e+00] [ 0.00034063  0.        ]\n",
        "incrleak3.0_freq1.5\n",
        "+HIP (3.0x)\n",
        "[ 0.00043769  0.00052418]"
       ]
      },
      {
       "output_type": "stream",
       "stream": "stdout",
       "text": [
        " [  9.70629210e-05   1.02408656e-04] [ 0.00034063  0.00042178]\n",
        "Baseline: "
       ]
      },
      {
       "output_type": "stream",
       "stream": "stdout",
       "text": [
        " 0.000340629134672\n",
        "Extended:  0.000421775086538\n"
       ]
      },
      {
       "metadata": {},
       "output_type": "display_data",
       "png": "[encoded data removed]",
       "text": [
        "<matplotlib.figure.Figure at 0x7f73bd972f10>"
       ]
      }
     ],
     "prompt_number": 361
    },
    {
     "cell_type": "code",
     "collapsed": false,
     "input": [
      "freqi = \"%3.1f\"%2.0\n",
      "caseDicti = dict()\n",
      "for key,case in caseDict.iteritems():\n",
      "    if freqi in key:\n",
      "        print case.label \n",
      "        caseDicti[case.tag]=case"
     ],
     "language": "python",
     "metadata": {},
     "outputs": [
      {
       "output_type": "stream",
       "stream": "stdout",
       "text": [
        "+HIP (3.0x)\n",
        "Baseline (2.0 Hz)\n"
       ]
      }
     ],
     "prompt_number": 381
    },
    {
     "cell_type": "code",
     "collapsed": false,
     "input": [
      "plt.figure()\n",
      "i=0\n",
      "max2=np.zeros(2)\n",
      "min2=np.zeros(2)\n",
      "diff2=np.zeros(2)\n",
      "for key, case in caseDicti.iteritems():\n",
      "  print case.tag\n",
      "  print case.label\n",
      "  t = case.data['t'] \n",
      "  #t-= np.min(t)  \n",
      "  ti= t + T*(1-1/np.float(nIntervals)) # should define this elsewhere (dbl check) \n",
      "  s = case.data['s']\n",
      "  s_idx = case.data['s_idx']\n",
      "\n",
      "\n",
      "  idx = s_idx.index(\"Cai\")\n",
      "  plt.plot(ti,s[:,idx],label=case.label)\n",
      " # print s[298e03:,idx]\n",
      "  max2[i] = np.amax(s[590e3:,idx])\n",
      "  min2[i] = np.amin(s[590e3:,idx])\n",
      "  diff2[i] = max2[i] - min2[i]\n",
      "  print max2, min2, diff2\n",
      "  i=i+1\n",
      "    \n",
      "#plt.figure()\n",
      "#idx = s_idx.index(\"Nai\")\n",
      "#plt.plot(t,s[:,idx],label=case.label)\n",
      "plt.xlim([299.5e3,300e3])\n",
      "plt.legend()\n",
      "outFile=\"%s.png\"%case.name\n",
      "plt.gcf().savefig(outFile)\n",
      "\n",
      "diff2b=diff2[0]\n",
      "diff2x=diff2[1]\n",
      "\n",
      "print \"Baseline: \", diff2b\n",
      "print \"Extended: \", diff2x"
     ],
     "language": "python",
     "metadata": {},
     "outputs": [
      {
       "output_type": "stream",
       "stream": "stdout",
       "text": [
        "baseline_freq2.0\n",
        "Baseline (2.0 Hz)\n",
        "[ 0.00049548  0.        ]"
       ]
      },
      {
       "output_type": "stream",
       "stream": "stdout",
       "text": [
        " [ 0.00011369  0.        ] [ 0.00038179  0.        ]\n",
        "incrleak3.0_freq2.0\n",
        "+HIP (3.0x)\n",
        "[ 0.00049548  0.00057439] [ 0.00011369  0.00011916] [ 0.00038179  0.00045523]\n",
        "Baseline: "
       ]
      },
      {
       "output_type": "stream",
       "stream": "stdout",
       "text": [
        " 0.000381791692071\n",
        "Extended:  0.000455225467\n"
       ]
      },
      {
       "metadata": {},
       "output_type": "display_data",
       "png": "[encoded data removed]",
       "text": [
        "<matplotlib.figure.Figure at 0x7f73bd972bd0>"
       ]
      }
     ],
     "prompt_number": 363
    },
    {
     "cell_type": "code",
     "collapsed": false,
     "input": [
      "plt.figure()\n",
      "for key, case in caseDicti.iteritems():\n",
      "  print case.tag\n",
      "  print case.label\n",
      "  print case.name\n",
      "  t = case.data['t'] \n",
      "  #t-= np.min(t)  \n",
      "  ti= t + T*(1-1/np.float(nIntervals)) # should define this elsewhere (dbl check) \n",
      "  s = case.data['s']\n",
      "  s_idx = case.data['s_idx']\n",
      "\n",
      "\n",
      "  idx = s_idx.index(\"Nai\")\n",
      "  plt.plot(ti,s[:,idx],label=case.label)\n",
      "\n",
      "#plt.figure()\n",
      "#idx = s_idx.index(\"Nai\")\n",
      "#plt.plot(t,s[:,idx],label=case.label)\n",
      "plt.xlim([299.5e3,300e3])\n",
      "plt.legend(loc=0)\n",
      "outFile=\"despaNa_incrleak3.0_freq2.png\"\n",
      "plt.gcf().savefig(outFile)"
     ],
     "language": "python",
     "metadata": {},
     "outputs": [
      {
       "output_type": "stream",
       "stream": "stdout",
       "text": [
        "baseline_freq2.0\n",
        "Baseline (2.0 Hz)\n",
        "./despa_baseline_freq2.0_5.pickle\n",
        "incrleak3.0_freq2.0"
       ]
      },
      {
       "output_type": "stream",
       "stream": "stdout",
       "text": [
        "\n",
        "+HIP (3.0x)\n",
        "./despa_incrleak3.0_freq2.0_5.pickle\n"
       ]
      },
      {
       "metadata": {},
       "output_type": "display_data",
       "png": "[encoded data removed]",
       "text": [
        "<matplotlib.figure.Figure at 0x7f73bd65a8d0>"
       ]
      }
     ],
     "prompt_number": 383
    },
    {
     "cell_type": "code",
     "collapsed": false,
     "input": [
      "ctl_y=np.array([diff0_1b, diff0_5b, diff1b, diff1_5b, diff2b])\n",
      "pd_y=np.array([diff0_1x, diff0_5x, diff1x, diff1_5x, diff2x])\n",
      "freq=(0.1,0.5,1.0,1.5,2.0)"
     ],
     "language": "python",
     "metadata": {},
     "outputs": [],
     "prompt_number": 364
    },
    {
     "cell_type": "code",
     "collapsed": false,
     "input": [
      "ax1 = plt.subplot(1,1,1)\n",
      "\n",
      "#############\n",
      "\n",
      "ax1.plot(freq,ctl_y,label=\"Baseline\")\n",
      "\n",
      "ax1.plot(freq,pd_y,label=\"+HIP (3x Leak)\")\n",
      "\n",
      "ax1.set_xlim([0,2.5])\n",
      "ax1.set_ylabel(\"Difference in Cai [mM]\")\n",
      "ax1.set_xlabel(\"Frequency [Hz]\")\n",
      "ax1.set_title(\"Cai\")\n",
      "\n",
      "plt.legend(loc=0, ncol=3)\n",
      "plt.tight_layout()\n",
      "\n",
      "plt.gcf().savefig('figure5D.png',dpi=300)"
     ],
     "language": "python",
     "metadata": {},
     "outputs": [
      {
       "metadata": {},
       "output_type": "display_data",
       "png": "[encoded data removed]",
       "text": [
        "<matplotlib.figure.Figure at 0x7f73bd972f90>"
       ]
      }
     ],
     "prompt_number": 365
    },
    {
     "cell_type": "markdown",
     "metadata": {},
     "source": [
      "#### Double checking results by looking at entire sequence of runs"
     ]
    },
    {
     "cell_type": "code",
     "collapsed": true,
     "input": [
      "import daisychain as dc\n",
      "#name = root+\"despa_baseline_1000.pickle\"\n",
      "pickleNames = dc.daisychain(outBase=case.prefix,iters=nIntervals,namesOnly=True)\n",
      "print pickleNames"
     ],
     "language": "python",
     "metadata": {},
     "outputs": [
      {
       "output_type": "stream",
       "stream": "stdout",
       "text": [
        "['./despa_incrleak3.0_freq2.0_1.pickle', './despa_incrleak3.0_freq2.0_2.pickle', './despa_incrleak3.0_freq2.0_3.pickle', './despa_incrleak3.0_freq2.0_4.pickle', './despa_incrleak3.0_freq2.0_5.pickle']\n"
       ]
      }
     ],
     "prompt_number": 366
    },
    {
     "cell_type": "code",
     "collapsed": false,
     "input": [
      "ts, allsisi, s_idx = dc.concatenateTrajs(pickleNames)\n",
      "label = \"Cai\"\n",
      "idx = s_idx.index(label)\n",
      "plt.plot(ts,allsisi[:,idx])\n",
      "#plt.xlim([250e3,300e3])"
     ],
     "language": "python",
     "metadata": {},
     "outputs": [
      {
       "output_type": "stream",
       "stream": "stdout",
       "text": [
        "Reading ./despa_incrleak3.0_freq2.0_1.pickle\n",
        "t "
       ]
      },
      {
       "output_type": "stream",
       "stream": "stdout",
       "text": [
        " 60000.0\n",
        "Reading ./despa_incrleak3.0_freq2.0_2.pickle\n",
        "t "
       ]
      },
      {
       "output_type": "stream",
       "stream": "stdout",
       "text": [
        " 120000.0\n",
        "Reading ./despa_incrleak3.0_freq2.0_3.pickle\n",
        "t "
       ]
      },
      {
       "output_type": "stream",
       "stream": "stdout",
       "text": [
        " 180000.0\n",
        "Reading ./despa_incrleak3.0_freq2.0_4.pickle\n",
        "t "
       ]
      },
      {
       "output_type": "stream",
       "stream": "stdout",
       "text": [
        " 240000.0\n",
        "Reading ./despa_incrleak3.0_freq2.0_5.pickle\n",
        "t "
       ]
      },
      {
       "output_type": "stream",
       "stream": "stdout",
       "text": [
        " 300000.0\n"
       ]
      },
      {
       "metadata": {},
       "output_type": "pyout",
       "prompt_number": 367,
       "text": [
        "[<matplotlib.lines.Line2D at 0x7f73bd88d590>]"
       ]
      },
      {
       "metadata": {},
       "output_type": "display_data",
       "png": "[encoded data removed]",
       "text": [
        "<matplotlib.figure.Figure at 0x7f73bd972310>"
       ]
      }
     ],
     "prompt_number": 367
    },
    {
     "cell_type": "heading",
     "level": 6,
     "metadata": {},
     "source": [
      "Example 3: Baseline Na, Increase Ca leak"
     ]
    },
    {
     "cell_type": "code",
     "collapsed": false,
     "input": [
      "import Case\n",
      "T = 300e3             # total simulation time [ms]\n",
      "nIntervals = 5       # number of intervals (s.t. each pickle contains T/nInterval of data )\n",
      "\n",
      "def init(freq_Hz=1.,\n",
      "         T=300e3, # total simulation time [ms]\n",
      "         nIntervals=6 # number of intervals (s.t. each pickle contains T/nInterval of data )\n",
      "\n",
      "         ):\n",
      "    #### Define common parameters    \n",
      "    root = \"./\"\n",
      "    stim_period = 1000./freq_Hz  # ms\n",
      "    leak = 3.0\n",
      "    # for storing data \n",
      "    caseDict = dict()\n",
      "\n",
      "    #### Define cases \n",
      "    # case 1\n",
      "    tag=\"baseline_freq%3.1f\"%freq_Hz\n",
      "    label=\"Baseline (%3.1f Hz)\"%freq_Hz\n",
      "    name = root+\"despa_%s.pickle\"%(tag) # filename \n",
      "    args = [ # pass in cellml/gotran arguments (eg. in shannon_2004.ode)\n",
      "      \"-var stim_period %f\" % stim_period,\n",
      "      \"-var G_CaBk %f \" % (0.0002513), # baseline\n",
      "      \"-var G_NaBk %f \" % (0.000297) # baseline\n",
      "      ]\n",
      "    case = Case.Case(tag=tag,label=label,args=args,nIntervals=nIntervals,T=T, name = name)\n",
      "    caseDict[tag] = case\n",
      "\n",
      "\n",
      "    tag=\"incrCaleak%3.1f_freq%3.1f\"%(leak,freq_Hz)\n",
      "    label=\"+HIP (%3.1fx)\"%leak\n",
      "    name = root+\"despa_%s.pickle\"%(tag) # filename \n",
      "    args = [ # pass in cellml/gotran arguments (eg. in shannon_2004.ode)\n",
      "      \"-var stim_period %f\" % stim_period,\n",
      "      \"-var G_CaBk %f \" % (0.0002513*leak), # baseline times 3.0\n",
      "      \"-var G_NaBk %f \" % (0.000297) # baseline \n",
      "      ]\n",
      "    case = Case.Case(tag=tag,label=label,args=args,nIntervals=nIntervals,T=T, name = name)\n",
      "    caseDict[tag] = case\n",
      "  \n",
      "    return caseDict"
     ],
     "language": "python",
     "metadata": {},
     "outputs": [],
     "prompt_number": 44
    },
    {
     "cell_type": "code",
     "collapsed": false,
     "input": [
      "freqs = [0.1,0.5,1.0,1.5,2.0]\n",
      "\n",
      "caseDict = dict()\n",
      "for i,freq in enumerate(freqs):\n",
      "  caseDicti = init(freq_Hz=freq, T=T,nIntervals=nIntervals)   \n",
      "  caseDict.update(caseDicti)  "
     ],
     "language": "python",
     "metadata": {},
     "outputs": [],
     "prompt_number": 45
    },
    {
     "cell_type": "code",
     "collapsed": false,
     "input": [
      "import analyzeODE as ao\n",
      "\n",
      "for key,case in caseDict.iteritems():\n",
      "      print \"# \", key, case.name\n",
      "      case.data = ao.readPickle(case.name)"
     ],
     "language": "python",
     "metadata": {},
     "outputs": [
      {
       "output_type": "stream",
       "stream": "stdout",
       "text": [
        "#  baseline_freq1.5 ./despa_baseline_freq1.5_5.pickle\n",
        "Reading ./despa_baseline_freq1.5_5.pickle\n",
        "# "
       ]
      },
      {
       "output_type": "stream",
       "stream": "stdout",
       "text": [
        " incrCaleak3.0_freq0.5 ./despa_incrCaleak3.0_freq0.5_5.pickle\n",
        "Reading ./despa_incrCaleak3.0_freq0.5_5.pickle\n",
        "# "
       ]
      },
      {
       "output_type": "stream",
       "stream": "stdout",
       "text": [
        " incrCaleak3.0_freq1.5 ./despa_incrCaleak3.0_freq1.5_5.pickle\n",
        "Reading ./despa_incrCaleak3.0_freq1.5_5.pickle\n",
        "# "
       ]
      },
      {
       "output_type": "stream",
       "stream": "stdout",
       "text": [
        " incrCaleak3.0_freq0.1 ./despa_incrCaleak3.0_freq0.1_5.pickle\n",
        "Reading ./despa_incrCaleak3.0_freq0.1_5.pickle\n",
        "# "
       ]
      },
      {
       "output_type": "stream",
       "stream": "stdout",
       "text": [
        " incrCaleak3.0_freq2.0 ./despa_incrCaleak3.0_freq2.0_5.pickle\n",
        "Reading ./despa_incrCaleak3.0_freq2.0_5.pickle\n",
        "# "
       ]
      },
      {
       "output_type": "stream",
       "stream": "stdout",
       "text": [
        " incrCaleak3.0_freq1.0 ./despa_incrCaleak3.0_freq1.0_5.pickle\n",
        "Reading ./despa_incrCaleak3.0_freq1.0_5.pickle\n",
        "# "
       ]
      },
      {
       "output_type": "stream",
       "stream": "stdout",
       "text": [
        " baseline_freq0.1 ./despa_baseline_freq0.1_5.pickle\n",
        "Reading ./despa_baseline_freq0.1_5.pickle\n",
        "# "
       ]
      },
      {
       "output_type": "stream",
       "stream": "stdout",
       "text": [
        " baseline_freq2.0 ./despa_baseline_freq2.0_5.pickle\n",
        "Reading ./despa_baseline_freq2.0_5.pickle\n",
        "# "
       ]
      },
      {
       "output_type": "stream",
       "stream": "stdout",
       "text": [
        " baseline_freq0.5 ./despa_baseline_freq0.5_5.pickle\n",
        "Reading ./despa_baseline_freq0.5_5.pickle\n",
        "# "
       ]
      },
      {
       "output_type": "stream",
       "stream": "stdout",
       "text": [
        " baseline_freq1.0 ./despa_baseline_freq1.0_5.pickle\n",
        "Reading ./despa_baseline_freq1.0_5.pickle\n"
       ]
      }
     ],
     "prompt_number": 46
    },
    {
     "cell_type": "code",
     "collapsed": false,
     "input": [
      "freqi = \"%3.1f\"%0.1\n",
      "caseDicti = dict()\n",
      "for key,case in caseDict.iteritems():\n",
      "    if freqi in key:\n",
      "        print case.label \n",
      "        caseDicti[case.tag]=case"
     ],
     "language": "python",
     "metadata": {},
     "outputs": [
      {
       "output_type": "stream",
       "stream": "stdout",
       "text": [
        "+HIP (3.0x)\n",
        "Baseline (0.1 Hz)\n"
       ]
      }
     ],
     "prompt_number": 9
    },
    {
     "cell_type": "code",
     "collapsed": false,
     "input": [
      "plt.figure()\n",
      "i=0\n",
      "max0_1=np.zeros(2)\n",
      "min0_1=np.zeros(2)\n",
      "diff0_1=np.zeros(2)\n",
      "for key, case in caseDicti.iteritems():\n",
      "  print case.tag\n",
      "  print case.label\n",
      "  t = case.data['t'] \n",
      "  #t-= np.min(t)  \n",
      "  ti= t + T*(1-1/np.float(nIntervals)) # should define this elsewhere (dbl check) \n",
      "  s = case.data['s']\n",
      "  s_idx = case.data['s_idx']\n",
      "\n",
      "\n",
      "  idx = s_idx.index(\"Cai\")\n",
      "  plt.plot(ti,s[:,idx],label=case.label)\n",
      " # print s[298e03:,idx]\n",
      "  max0_1[i] = np.amax(s[500e3:,idx])\n",
      "  min0_1[i] = np.amin(s[500e3:,idx])\n",
      "  diff0_1[i] = max0_1[i] - min0_1[i]\n",
      "  print max0_1, min0_1, diff0_1\n",
      "  i=i+1\n",
      "    \n",
      "#plt.figure()\n",
      "#idx = s_idx.index(\"Nai\")\n",
      "#plt.plot(t,s[:,idx],label=case.label)\n",
      "plt.xlim([290e3,300e3])\n",
      "plt.legend()\n",
      "outFile=\"%s.png\"%case.name\n",
      "plt.gcf().savefig(outFile)\n",
      "\n",
      "diff0_1b=diff0_1[0]\n",
      "diff0_1x=diff0_1[1]\n",
      "\n",
      "print \"Baseline: \", diff0_1b\n",
      "print \"Extended: \", diff0_1x"
     ],
     "language": "python",
     "metadata": {},
     "outputs": [
      {
       "output_type": "stream",
       "stream": "stdout",
       "text": [
        "baseline_freq0.1\n",
        "Baseline (0.1 Hz)\n",
        "[ 0.00022597  0.        ]"
       ]
      },
      {
       "output_type": "stream",
       "stream": "stdout",
       "text": [
        " [  7.37043019e-05   0.00000000e+00] [ 0.00015227  0.        ]\n",
        "incrCaleak3.0_freq0.1\n",
        "+HIP (3.0x)\n",
        "[ 0.00022597  0.00063449]"
       ]
      },
      {
       "output_type": "stream",
       "stream": "stdout",
       "text": [
        " [  7.37043019e-05   8.60828295e-05] [ 0.00015227  0.00054841]\n",
        "Baseline: "
       ]
      },
      {
       "output_type": "stream",
       "stream": "stdout",
       "text": [
        " 0.000152270213626\n",
        "Extended:  0.000548410988142\n"
       ]
      },
      {
       "metadata": {},
       "output_type": "display_data",
       "png": "[encoded data removed]",
       "text": [
        "<matplotlib.figure.Figure at 0x7fa8d5e2c710>"
       ]
      }
     ],
     "prompt_number": 10
    },
    {
     "cell_type": "code",
     "collapsed": false,
     "input": [
      "freqi = \"%3.1f\"%0.5\n",
      "caseDicti = dict()\n",
      "for key,case in caseDict.iteritems():\n",
      "    if freqi in key:\n",
      "        print case.label \n",
      "        caseDicti[case.tag]=case"
     ],
     "language": "python",
     "metadata": {},
     "outputs": [
      {
       "output_type": "stream",
       "stream": "stdout",
       "text": [
        "+HIP (3.0x)\n",
        "Baseline (0.5 Hz)\n"
       ]
      }
     ],
     "prompt_number": 47
    },
    {
     "cell_type": "code",
     "collapsed": false,
     "input": [
      "plt.figure()\n",
      "i=0\n",
      "max0_5=np.zeros(2)\n",
      "min0_5=np.zeros(2)\n",
      "diff0_5=np.zeros(2)\n",
      "for key, case in caseDicti.iteritems():\n",
      "  print case.tag\n",
      "  print case.label\n",
      "  t = case.data['t'] \n",
      "  #t-= np.min(t)  \n",
      "  ti= t + T*(1-1/np.float(nIntervals)) # should define this elsewhere (dbl check) \n",
      "  print \"time!\", t\n",
      "  print \"TIme!\", ti\n",
      "  s = case.data['s']\n",
      "  s_idx = case.data['s_idx']\n",
      "\n",
      "\n",
      "  idx = s_idx.index(\"Cai\")\n",
      "  plt.plot(ti,s[:,idx],label=case.label)\n",
      " # print s[298e03:,idx]\n",
      "  max0_5[i] = np.amax(s[578e3:,idx])\n",
      "  min0_5[i] = np.amin(s[578e3:,idx])\n",
      "  diff0_5[i] = max0_5[i] - min0_5[i]\n",
      "  print max0_5, min0_5, diff0_5\n",
      "  i=i+1\n",
      "  print np.shape(s[:,idx])\n",
      "    \n",
      "#plt.figure()\n",
      "#idx = s_idx.index(\"Nai\")\n",
      "#plt.plot(t,s[:,idx],label=case.label)\n",
      "plt.xlim([298e3,300e3])\n",
      "plt.legend()\n",
      "outFile=\"incrCaleak3.0_freq0.5.png\"\n",
      "plt.gcf().savefig(outFile, dpi=300)\n",
      "\n",
      "diff0_5b=diff0_5[1]\n",
      "diff0_5x=diff0_5[0]\n",
      "\n",
      "print \"Baseline: \", diff0_5b\n",
      "print \"Extended: \", diff0_5x"
     ],
     "language": "python",
     "metadata": {},
     "outputs": [
      {
       "output_type": "stream",
       "stream": "stdout",
       "text": [
        "incrCaleak3.0_freq0.5\n",
        "+HIP (3.0x)\n",
        "time! [  0.00000000e+00   1.00000000e-01   2.00000000e-01 ...,   5.99998000e+04\n",
        "   5.99999000e+04   6.00000000e+04]\n",
        "TIme! [ 240000.   240000.1  240000.2 ...,  299999.8  299999.9  300000. ]\n",
        "[ 0.00045093  0.        ]"
       ]
      },
      {
       "output_type": "stream",
       "stream": "stdout",
       "text": [
        " [  8.82108805e-05   0.00000000e+00] [ 0.00036272  0.        ]\n",
        "(600001,)\n",
        "baseline_freq0.5\n",
        "Baseline (0.5 Hz)\n",
        "time! [  0.00000000e+00   1.00000000e-01   2.00000000e-01 ...,   5.99998000e+04\n",
        "   5.99999000e+04   6.00000000e+04]\n",
        "TIme! [ 240000.   240000.1  240000.2 ...,  299999.8  299999.9  300000. ]\n",
        "[ 0.00045093  0.0003048 ]"
       ]
      },
      {
       "output_type": "stream",
       "stream": "stdout",
       "text": [
        " [  8.82108805e-05   8.03741761e-05] [ 0.00036272  0.00022443]\n",
        "(600001,)\n",
        "Baseline: "
       ]
      },
      {
       "output_type": "stream",
       "stream": "stdout",
       "text": [
        " 0.00022442949253\n",
        "Extended:  0.000362715186038\n"
       ]
      },
      {
       "metadata": {},
       "output_type": "display_data",
       "png": "[encoded data removed]",
       "text": [
        "<matplotlib.figure.Figure at 0x7fa8b3120590>"
       ]
      }
     ],
     "prompt_number": 48
    },
    {
     "cell_type": "code",
     "collapsed": false,
     "input": [
      "freqi = \"%3.1f\"%1.0\n",
      "caseDicti = dict()\n",
      "for key,case in caseDict.iteritems():\n",
      "    if freqi in key:\n",
      "        print case.label \n",
      "        caseDicti[case.tag]=case"
     ],
     "language": "python",
     "metadata": {},
     "outputs": [
      {
       "output_type": "stream",
       "stream": "stdout",
       "text": [
        "+HIP (3.0x)\n",
        "Baseline (1.0 Hz)\n"
       ]
      }
     ],
     "prompt_number": 14
    },
    {
     "cell_type": "code",
     "collapsed": false,
     "input": [
      "plt.figure()\n",
      "i=0\n",
      "max1=np.zeros(2)\n",
      "min1=np.zeros(2)\n",
      "diff1=np.zeros(2)\n",
      "for key, case in caseDicti.iteritems():\n",
      "  print case.tag\n",
      "  print case.label\n",
      "  t = case.data['t'] \n",
      "  #t-= np.min(t)  \n",
      "  ti= t + T*(1-1/np.float(nIntervals)) # should define this elsewhere (dbl check) \n",
      "  s = case.data['s']\n",
      "  s_idx = case.data['s_idx']\n",
      "\n",
      "\n",
      "  idx = s_idx.index(\"Cai\")\n",
      "  plt.plot(ti,s[:,idx],label=case.label)\n",
      " # print s[298e03:,idx]\n",
      "  max1[i] = np.amax(s[580e3:,idx])\n",
      "  min1[i] = np.amin(s[580e3:,idx])\n",
      "  diff1[i] = max1[i] - min1[i]\n",
      "  print max1, min1, diff1\n",
      "  i=i+1\n",
      "    \n",
      "#plt.figure()\n",
      "#idx = s_idx.index(\"Nai\")\n",
      "#plt.plot(t,s[:,idx],label=case.label)\n",
      "plt.xlim([299e3,300e3])\n",
      "plt.legend()\n",
      "outFile=\"%s.png\"%case.name\n",
      "plt.gcf().savefig(outFile)\n",
      "\n",
      "diff1b=diff1[1]\n",
      "diff1x=diff1[0]\n",
      "\n",
      "print \"Baseline: \", diff1b\n",
      "print \"Extended: \", diff1x"
     ],
     "language": "python",
     "metadata": {},
     "outputs": [
      {
       "output_type": "stream",
       "stream": "stdout",
       "text": [
        "incrCaleak3.0_freq1.0\n",
        "+HIP (3.0x)\n",
        "[ 0.0004713  0.       ]"
       ]
      },
      {
       "output_type": "stream",
       "stream": "stdout",
       "text": [
        " [  9.24782947e-05   0.00000000e+00] [ 0.00037882  0.        ]\n",
        "baseline_freq1.0\n",
        "Baseline (1.0 Hz)\n",
        "[ 0.0004713   0.00037939]"
       ]
      },
      {
       "output_type": "stream",
       "stream": "stdout",
       "text": [
        " [  9.24782947e-05   8.66265918e-05] [ 0.00037882  0.00029277]\n",
        "Baseline: "
       ]
      },
      {
       "output_type": "stream",
       "stream": "stdout",
       "text": [
        " 0.000292766063808\n",
        "Extended:  0.000378822096504\n"
       ]
      },
      {
       "metadata": {},
       "output_type": "display_data",
       "png": "[encoded data removed]",
       "text": [
        "<matplotlib.figure.Figure at 0x7fa8d543e390>"
       ]
      }
     ],
     "prompt_number": 15
    },
    {
     "cell_type": "code",
     "collapsed": false,
     "input": [
      "freqi = \"%3.1f\"%1.5\n",
      "caseDicti = dict()\n",
      "for key,case in caseDict.iteritems():\n",
      "    if freqi in key:\n",
      "        print case.label \n",
      "        caseDicti[case.tag]=case"
     ],
     "language": "python",
     "metadata": {},
     "outputs": [
      {
       "output_type": "stream",
       "stream": "stdout",
       "text": [
        "Baseline (1.5 Hz)\n",
        "+HIP (3.0x)\n"
       ]
      }
     ],
     "prompt_number": 16
    },
    {
     "cell_type": "code",
     "collapsed": false,
     "input": [
      "plt.figure()\n",
      "i=0\n",
      "max1_5=np.zeros(2)\n",
      "min1_5=np.zeros(2)\n",
      "diff1_5=np.zeros(2)\n",
      "for key, case in caseDicti.iteritems():\n",
      "  print case.tag\n",
      "  print case.label\n",
      "  t = case.data['t'] \n",
      "  #t-= np.min(t)  \n",
      "  ti= t + T*(1-1/np.float(nIntervals)) # should define this elsewhere (dbl check) \n",
      "  s = case.data['s']\n",
      "  s_idx = case.data['s_idx']\n",
      "\n",
      "\n",
      "  idx = s_idx.index(\"Cai\")\n",
      "  plt.plot(ti,s[:,idx],label=case.label)\n",
      " # print s[298e03:,idx]\n",
      "  max1_5[i] = np.amax(s[585e3:,idx])\n",
      "  min1_5[i] = np.amin(s[585e3:,idx])\n",
      "  diff1_5[i] = max1_5[i] - min1_5[i]\n",
      "  print max1_5, min1_5, diff1_5\n",
      "  i=i+1\n",
      "    \n",
      "#plt.figure()\n",
      "#idx = s_idx.index(\"Nai\")\n",
      "#plt.plot(t,s[:,idx],label=case.label)\n",
      "plt.xlim([299e3,300e3])\n",
      "plt.legend()\n",
      "outFile=\"%s.png\"%case.name\n",
      "plt.gcf().savefig(outFile)\n",
      "\n",
      "diff1_5b=diff1_5[0]\n",
      "diff1_5x=diff1_5[1]\n",
      "\n",
      "print \"Baseline: \", diff1_5b\n",
      "print \"Extended: \", diff1_5x"
     ],
     "language": "python",
     "metadata": {},
     "outputs": [
      {
       "output_type": "stream",
       "stream": "stdout",
       "text": [
        "baseline_freq1.5\n",
        "Baseline (1.5 Hz)\n",
        "[ 0.00043769  0.        ]"
       ]
      },
      {
       "output_type": "stream",
       "stream": "stdout",
       "text": [
        " [  9.70629210e-05   0.00000000e+00] [ 0.00034063  0.        ]\n",
        "incrCaleak3.0_freq1.5\n",
        "+HIP (3.0x)\n",
        "[ 0.00043769  0.00050871]"
       ]
      },
      {
       "output_type": "stream",
       "stream": "stdout",
       "text": [
        " [  9.70629210e-05   1.01762794e-04] [ 0.00034063  0.00040694]\n",
        "Baseline: "
       ]
      },
      {
       "output_type": "stream",
       "stream": "stdout",
       "text": [
        " 0.000340629134672\n",
        "Extended:  0.000406942222028\n"
       ]
      },
      {
       "metadata": {},
       "output_type": "display_data",
       "png": "[encoded data removed]",
       "text": [
        "<matplotlib.figure.Figure at 0x7fa8d543e490>"
       ]
      }
     ],
     "prompt_number": 17
    },
    {
     "cell_type": "code",
     "collapsed": false,
     "input": [
      "freqi = \"%3.1f\"%2.0\n",
      "caseDicti = dict()\n",
      "for key,case in caseDict.iteritems():\n",
      "    if freqi in key:\n",
      "        print case.label \n",
      "        caseDicti[case.tag]=case"
     ],
     "language": "python",
     "metadata": {},
     "outputs": [
      {
       "output_type": "stream",
       "stream": "stdout",
       "text": [
        "+HIP (3.0x)\n",
        "Baseline (2.0 Hz)\n"
       ]
      }
     ],
     "prompt_number": 49
    },
    {
     "cell_type": "code",
     "collapsed": false,
     "input": [
      "plt.figure()\n",
      "i=0\n",
      "max2=np.zeros(2)\n",
      "min2=np.zeros(2)\n",
      "diff2=np.zeros(2)\n",
      "for key, case in caseDicti.iteritems():\n",
      "  print case.tag\n",
      "  print case.label\n",
      "  t = case.data['t'] \n",
      "  #t-= np.min(t)  \n",
      "  ti= t + T*(1-1/np.float(nIntervals)) # should define this elsewhere (dbl check) \n",
      "  s = case.data['s']\n",
      "  s_idx = case.data['s_idx']\n",
      "\n",
      "\n",
      "  idx = s_idx.index(\"Cai\")\n",
      "  plt.plot(ti,s[:,idx],label=case.label)\n",
      " # print s[298e03:,idx]\n",
      "  max2[i] = np.amax(s[590e3:,idx])\n",
      "  min2[i] = np.amin(s[590e3:,idx])\n",
      "  diff2[i] = max2[i] - min2[i]\n",
      "  print max2, min2, diff2\n",
      "  i=i+1\n",
      "    \n",
      "#plt.figure()\n",
      "#idx = s_idx.index(\"Nai\")\n",
      "#plt.plot(t,s[:,idx],label=case.label)\n",
      "plt.xlim([299.5e3,300e3])\n",
      "plt.legend()\n",
      "outFile=\"despa_incrCaleak3.0_freq2.png\"\n",
      "plt.gcf().savefig(outFile, dpi=300)\n",
      "\n",
      "diff2b=diff2[0]\n",
      "diff2x=diff2[1]\n",
      "\n",
      "print \"Baseline: \", diff2b\n",
      "print \"Extended: \", diff2x"
     ],
     "language": "python",
     "metadata": {},
     "outputs": [
      {
       "output_type": "stream",
       "stream": "stdout",
       "text": [
        "baseline_freq2.0\n",
        "Baseline (2.0 Hz)\n",
        "[ 0.00049548  0.        ]"
       ]
      },
      {
       "output_type": "stream",
       "stream": "stdout",
       "text": [
        " [ 0.00011369  0.        ] [ 0.00038179  0.        ]\n",
        "incrCaleak3.0_freq2.0\n",
        "+HIP (3.0x)\n",
        "[ 0.00049548  0.00055743]"
       ]
      },
      {
       "output_type": "stream",
       "stream": "stdout",
       "text": [
        " [ 0.00011369  0.00011827] [ 0.00038179  0.00043917]\n",
        "Baseline: "
       ]
      },
      {
       "output_type": "stream",
       "stream": "stdout",
       "text": [
        " 0.000381791692071\n",
        "Extended:  0.000439167218044\n"
       ]
      },
      {
       "metadata": {},
       "output_type": "display_data",
       "png": "[encoded data removed]",
       "text": [
        "<matplotlib.figure.Figure at 0x7fa8b31203d0>"
       ]
      }
     ],
     "prompt_number": 50
    },
    {
     "cell_type": "code",
     "collapsed": false,
     "input": [
      "freqi = \"%3.1f\"%0.5\n",
      "caseDicti = dict()\n",
      "for key,case in caseDict.iteritems():\n",
      "    if freqi in key:\n",
      "        print case.label \n",
      "        caseDicti[case.tag]=case"
     ],
     "language": "python",
     "metadata": {},
     "outputs": [
      {
       "output_type": "stream",
       "stream": "stdout",
       "text": [
        "+HIP (3.0x)\n",
        "Baseline (0.5 Hz)\n"
       ]
      }
     ],
     "prompt_number": 20
    },
    {
     "cell_type": "code",
     "collapsed": false,
     "input": [
      "plt.figure()\n",
      "i=0\n",
      "max0_5=np.zeros(2)\n",
      "min0_5=np.zeros(2)\n",
      "diff0_5=np.zeros(2)\n",
      "for key, case in caseDicti.iteritems():\n",
      "#  print case.tag\n",
      "  print case.label\n",
      "  t = case.data['t'] \n",
      "  #t-= np.min(t)  \n",
      "  ti= t + T*(1-1/np.float(nIntervals)) # should define this elsewhere (dbl check) \n",
      "#  print \"time!\", t\n",
      "#  print \"TIme!\", np.shape(ti)\n",
      "  s = case.data['s']\n",
      "  s_idx = case.data['s_idx']\n",
      "\n",
      "\n",
      "  idx = s_idx.index(\"Cai\")\n",
      " # plt.plot(ti,s[:,idx],label=case.label)\n",
      " # print s[298e03:,idx]\n",
      "  max0_5 = np.amax(s[578e3:,idx])\n",
      "  min0_5 = np.amin(s[578e3:,idx])\n",
      "  print max0_5\n",
      "  \n",
      "  s_shift = s[578e3:,idx]-min0_5\n",
      "  max0_5 = np.amax(s_shift)\n",
      "  s_shift/=max0_5\n",
      "  print s[578e3:,idx]\n",
      "  print np.amax(s_shift)\n",
      "#  print np.shape(ti[598e3:])\n",
      "    \n",
      "  plt.plot(ti[578e3:],s_shift,label=case.label)\n",
      "    \n",
      "#plt.figure()\n",
      "#idx = s_idx.index(\"Nai\")\n",
      "#plt.plot(t,s[:,idx],label=case.label)\n",
      "plt.xlim([298e3,300e3])\n",
      "plt.legend()\n",
      "outFile=\"figure5C-Ca.png\"\n",
      "plt.gcf().savefig(outFile, dpi=300)"
     ],
     "language": "python",
     "metadata": {},
     "outputs": [
      {
       "output_type": "stream",
       "stream": "stdout",
       "text": [
        "+HIP (3.0x)\n",
        "0.000450926066558\n",
        "[  8.87270206e-05   8.87271834e-05   8.87273463e-05 ...,   8.90611079e-05\n",
        "   8.90612776e-05   8.90614474e-05]\n",
        "1.0\n",
        "Baseline (0.5 Hz)"
       ]
      },
      {
       "output_type": "stream",
       "stream": "stdout",
       "text": [
        "\n",
        "0.000304803668614\n",
        "[  8.04371737e-05   8.04371410e-05   8.04371083e-05 ...,   8.03893872e-05\n",
        "   8.03893698e-05   8.03893525e-05]\n",
        "1.0\n"
       ]
      },
      {
       "metadata": {},
       "output_type": "display_data",
       "png": "[encoded data removed]",
       "text": [
        "<matplotlib.figure.Figure at 0x7fa8d529f710>"
       ]
      }
     ],
     "prompt_number": 23
    },
    {
     "cell_type": "code",
     "collapsed": false,
     "input": [
      "ctl_y=np.array([diff0_1b, diff0_5b, diff1b, diff1_5b, diff2b])\n",
      "pd_y=np.array([diff0_1x, diff0_5x, diff1x, diff1_5x, diff2x])\n",
      "freq=(0.1,0.5,1.0,1.5,2.0)"
     ],
     "language": "python",
     "metadata": {},
     "outputs": [],
     "prompt_number": 24
    },
    {
     "cell_type": "code",
     "collapsed": false,
     "input": [
      "ax1 = plt.subplot(1,1,1)\n",
      "\n",
      "#############\n",
      "\n",
      "ax1.plot(freq,ctl_y,label=\"Baseline\")\n",
      "\n",
      "ax1.plot(freq,pd_y,label=\"+HIP (3x Leak)\")\n",
      "\n",
      "ax1.set_xlim([0,2.5])\n",
      "ax1.set_ylabel(\"Difference in Cai [mM]\")\n",
      "ax1.set_xlabel(\"Frequency [Hz]\")\n",
      "ax1.set_title(\"Cai\")\n",
      "\n",
      "plt.legend(loc=0, ncol=3)\n",
      "plt.tight_layout()\n",
      "\n",
      "plt.gcf().savefig('figure5D-Ca.png',dpi=300)"
     ],
     "language": "python",
     "metadata": {},
     "outputs": [
      {
       "metadata": {},
       "output_type": "display_data",
       "png": "[encoded data removed]",
       "text": [
        "<matplotlib.figure.Figure at 0x7fa8d518a210>"
       ]
      }
     ],
     "prompt_number": 25
    },
    {
     "cell_type": "heading",
     "level": 6,
     "metadata": {},
     "source": [
      "Example 4: Baseline Ca, Increase Na leak\u00b6"
     ]
    },
    {
     "cell_type": "code",
     "collapsed": false,
     "input": [
      "import Case\n",
      "T = 300e3             # total simulation time [ms]\n",
      "nIntervals = 5       # number of intervals (s.t. each pickle contains T/nInterval of data )\n",
      "\n",
      "def init(freq_Hz=1.,\n",
      "         T=300e3, # total simulation time [ms]\n",
      "         nIntervals=6 # number of intervals (s.t. each pickle contains T/nInterval of data )\n",
      "\n",
      "         ):\n",
      "    #### Define common parameters    \n",
      "    root = \"./\"\n",
      "    stim_period = 1000./freq_Hz  # ms\n",
      "    leak = 3.0\n",
      "    # for storing data \n",
      "    caseDict = dict()\n",
      "\n",
      "    #### Define cases \n",
      "    # case 1\n",
      "    tag=\"baseline_freq%3.1f\"%freq_Hz\n",
      "    label=\"Baseline (%3.1f Hz)\"%freq_Hz\n",
      "    name = root+\"despa_%s.pickle\"%(tag) # filename \n",
      "    args = [ # pass in cellml/gotran arguments (eg. in shannon_2004.ode)\n",
      "      \"-var stim_period %f\" % stim_period,\n",
      "      \"-var G_CaBk %f \" % (0.0002513), # baseline\n",
      "      \"-var G_NaBk %f \" % (0.000297) # baseline\n",
      "      ]\n",
      "    case = Case.Case(tag=tag,label=label,args=args,nIntervals=nIntervals,T=T, name = name)\n",
      "    caseDict[tag] = case\n",
      "\n",
      "\n",
      "    tag=\"incrNaleak%3.1f_freq%3.1f\"%(leak,freq_Hz)\n",
      "    label=\"+HIP (%3.1fx)\"%leak\n",
      "    name = root+\"despa_%s.pickle\"%(tag) # filename \n",
      "    args = [ # pass in cellml/gotran arguments (eg. in shannon_2004.ode)\n",
      "      \"-var stim_period %f\" % stim_period,\n",
      "      \"-var G_CaBk %f \" % (0.0002513*leak), # baseline \n",
      "      \"-var G_NaBk %f \" % (0.000297) # baseline times 3.0\n",
      "      ]\n",
      "    case = Case.Case(tag=tag,label=label,args=args,nIntervals=nIntervals,T=T, name = name)\n",
      "    caseDict[tag] = case\n",
      "  \n",
      "    return caseDict"
     ],
     "language": "python",
     "metadata": {},
     "outputs": [],
     "prompt_number": 27
    },
    {
     "cell_type": "code",
     "collapsed": false,
     "input": [
      "freqs = [0.1,0.5,1.0,1.5,2.0]\n",
      "\n",
      "caseDict = dict()\n",
      "for i,freq in enumerate(freqs):\n",
      "  caseDicti = init(freq_Hz=freq, T=T,nIntervals=nIntervals)   \n",
      "  caseDict.update(caseDicti)  "
     ],
     "language": "python",
     "metadata": {},
     "outputs": [],
     "prompt_number": 28
    },
    {
     "cell_type": "code",
     "collapsed": false,
     "input": [
      "import analyzeODE as ao\n",
      "\n",
      "for key,case in caseDict.iteritems():\n",
      "      print \"# \", key, case.name\n",
      "      case.data = ao.readPickle(case.name)"
     ],
     "language": "python",
     "metadata": {},
     "outputs": [
      {
       "output_type": "stream",
       "stream": "stdout",
       "text": [
        "#  incrNaleak3.0_freq0.1 ./despa_incrNaleak3.0_freq0.1_5.pickle\n",
        "Reading ./despa_incrNaleak3.0_freq0.1_5.pickle\n",
        "# "
       ]
      },
      {
       "output_type": "stream",
       "stream": "stdout",
       "text": [
        " baseline_freq1.5 ./despa_baseline_freq1.5_5.pickle\n",
        "Reading ./despa_baseline_freq1.5_5.pickle\n",
        "# "
       ]
      },
      {
       "output_type": "stream",
       "stream": "stdout",
       "text": [
        " incrNaleak3.0_freq2.0 ./despa_incrNaleak3.0_freq2.0_5.pickle\n",
        "Reading ./despa_incrNaleak3.0_freq2.0_5.pickle\n",
        "# "
       ]
      },
      {
       "output_type": "stream",
       "stream": "stdout",
       "text": [
        " incrNaleak3.0_freq0.5 ./despa_incrNaleak3.0_freq0.5_5.pickle\n",
        "Reading ./despa_incrNaleak3.0_freq0.5_5.pickle\n",
        "# "
       ]
      },
      {
       "output_type": "stream",
       "stream": "stdout",
       "text": [
        " baseline_freq1.0 ./despa_baseline_freq1.0_5.pickle\n",
        "Reading ./despa_baseline_freq1.0_5.pickle\n",
        "# "
       ]
      },
      {
       "output_type": "stream",
       "stream": "stdout",
       "text": [
        " incrNaleak3.0_freq1.0 ./despa_incrNaleak3.0_freq1.0_5.pickle\n",
        "Reading ./despa_incrNaleak3.0_freq1.0_5.pickle\n",
        "# "
       ]
      },
      {
       "output_type": "stream",
       "stream": "stdout",
       "text": [
        " incrNaleak3.0_freq1.5 ./despa_incrNaleak3.0_freq1.5_5.pickle\n",
        "Reading ./despa_incrNaleak3.0_freq1.5_5.pickle\n",
        "# "
       ]
      },
      {
       "output_type": "stream",
       "stream": "stdout",
       "text": [
        " baseline_freq0.1 ./despa_baseline_freq0.1_5.pickle\n",
        "Reading ./despa_baseline_freq0.1_5.pickle\n",
        "# "
       ]
      },
      {
       "output_type": "stream",
       "stream": "stdout",
       "text": [
        " baseline_freq2.0 ./despa_baseline_freq2.0_5.pickle\n",
        "Reading ./despa_baseline_freq2.0_5.pickle\n",
        "# "
       ]
      },
      {
       "output_type": "stream",
       "stream": "stdout",
       "text": [
        " baseline_freq0.5 ./despa_baseline_freq0.5_5.pickle\n",
        "Reading ./despa_baseline_freq0.5_5.pickle\n"
       ]
      }
     ],
     "prompt_number": 29
    },
    {
     "cell_type": "code",
     "collapsed": false,
     "input": [
      "freqi = \"%3.1f\"%0.1\n",
      "caseDicti = dict()\n",
      "for key,case in caseDict.iteritems():\n",
      "    if freqi in key:\n",
      "        print case.label \n",
      "        caseDicti[case.tag]=case"
     ],
     "language": "python",
     "metadata": {},
     "outputs": [
      {
       "output_type": "stream",
       "stream": "stdout",
       "text": [
        "+HIP (3.0x)\n",
        "Baseline (0.1 Hz)\n"
       ]
      }
     ],
     "prompt_number": 30
    },
    {
     "cell_type": "code",
     "collapsed": false,
     "input": [
      "plt.figure()\n",
      "i=0\n",
      "max0_1=np.zeros(2)\n",
      "min0_1=np.zeros(2)\n",
      "diff0_1=np.zeros(2)\n",
      "for key, case in caseDicti.iteritems():\n",
      "  print case.tag\n",
      "  print case.label\n",
      "  t = case.data['t'] \n",
      "  #t-= np.min(t)  \n",
      "  ti= t + T*(1-1/np.float(nIntervals)) # should define this elsewhere (dbl check) \n",
      "  s = case.data['s']\n",
      "  s_idx = case.data['s_idx']\n",
      "\n",
      "\n",
      "  idx = s_idx.index(\"Cai\")\n",
      "  plt.plot(ti,s[:,idx],label=case.label)\n",
      " # print s[298e03:,idx]\n",
      "  max0_1[i] = np.amax(s[500e3:,idx])\n",
      "  min0_1[i] = np.amin(s[500e3:,idx])\n",
      "  diff0_1[i] = max0_1[i] - min0_1[i]\n",
      "  print max0_1, min0_1, diff0_1\n",
      "  i=i+1\n",
      "    \n",
      "#plt.figure()\n",
      "#idx = s_idx.index(\"Nai\")\n",
      "#plt.plot(t,s[:,idx],label=case.label)\n",
      "plt.xlim([290e3,300e3])\n",
      "plt.legend()\n",
      "outFile=\"%s.png\"%case.name\n",
      "plt.gcf().savefig(outFile)\n",
      "\n",
      "diff0_1b=diff0_1[0]\n",
      "diff0_1x=diff0_1[1]\n",
      "\n",
      "print \"Baseline: \", diff0_1b\n",
      "print \"Extended: \", diff0_1x"
     ],
     "language": "python",
     "metadata": {},
     "outputs": [
      {
       "output_type": "stream",
       "stream": "stdout",
       "text": [
        "incrNaleak3.0_freq0.1\n",
        "+HIP (3.0x)\n",
        "[ 0.00024138  0.        ]"
       ]
      },
      {
       "output_type": "stream",
       "stream": "stdout",
       "text": [
        " [  7.47549058e-05   0.00000000e+00] [ 0.00016663  0.        ]\n",
        "baseline_freq0.1\n",
        "Baseline (0.1 Hz)\n",
        "[ 0.00024138  0.00022597] [  7.47549058e-05   7.37043019e-05] [ 0.00016663  0.00015227]\n",
        "Baseline: "
       ]
      },
      {
       "output_type": "stream",
       "stream": "stdout",
       "text": [
        " 0.000166625095904\n",
        "Extended:  0.000152270213626\n"
       ]
      },
      {
       "metadata": {},
       "output_type": "display_data",
       "png": "[encoded data removed]",
       "text": [
        "<matplotlib.figure.Figure at 0x7fa88410eb50>"
       ]
      }
     ],
     "prompt_number": 33
    },
    {
     "cell_type": "code",
     "collapsed": false,
     "input": [
      "freqi = \"%3.1f\"%0.5\n",
      "caseDicti = dict()\n",
      "for key,case in caseDict.iteritems():\n",
      "    if freqi in key:\n",
      "        print case.label \n",
      "        caseDicti[case.tag]=case"
     ],
     "language": "python",
     "metadata": {},
     "outputs": [
      {
       "output_type": "stream",
       "stream": "stdout",
       "text": [
        "+HIP (3.0x)\n",
        "Baseline (0.5 Hz)\n"
       ]
      }
     ],
     "prompt_number": 34
    },
    {
     "cell_type": "code",
     "collapsed": false,
     "input": [
      "plt.figure()\n",
      "i=0\n",
      "max0_5=np.zeros(2)\n",
      "min0_5=np.zeros(2)\n",
      "diff0_5=np.zeros(2)\n",
      "for key, case in caseDicti.iteritems():\n",
      "  print case.tag\n",
      "  print case.label\n",
      "  t = case.data['t'] \n",
      "  #t-= np.min(t)  \n",
      "  ti= t + T*(1-1/np.float(nIntervals)) # should define this elsewhere (dbl check) \n",
      "  print \"time!\", t\n",
      "  print \"TIme!\", ti\n",
      "  s = case.data['s']\n",
      "  s_idx = case.data['s_idx']\n",
      "\n",
      "\n",
      "  idx = s_idx.index(\"Cai\")\n",
      "  plt.plot(ti,s[:,idx],label=case.label)\n",
      " # print s[298e03:,idx]\n",
      "  max0_5[i] = np.amax(s[578e3:,idx])\n",
      "  min0_5[i] = np.amin(s[578e3:,idx])\n",
      "  diff0_5[i] = max0_5[i] - min0_5[i]\n",
      "  print max0_5, min0_5, diff0_5\n",
      "  i=i+1\n",
      "  print np.shape(s[:,idx])\n",
      "    \n",
      "#plt.figure()\n",
      "#idx = s_idx.index(\"Nai\")\n",
      "#plt.plot(t,s[:,idx],label=case.label)\n",
      "plt.xlim([298e3,300e3])\n",
      "plt.legend()\n",
      "outFile=\"incrNaleak3.0_freq0.5.png\"\n",
      "plt.gcf().savefig(outFile, dpi=300)\n",
      "\n",
      "diff0_5b=diff0_5[1]\n",
      "diff0_5x=diff0_5[0]\n",
      "\n",
      "print \"Baseline: \", diff0_5b\n",
      "print \"Extended: \", diff0_5x"
     ],
     "language": "python",
     "metadata": {},
     "outputs": [
      {
       "output_type": "stream",
       "stream": "stdout",
       "text": [
        "incrNaleak3.0_freq0.5\n",
        "+HIP (3.0x)\n",
        "time! [  0.00000000e+00   1.00000000e-01   2.00000000e-01 ...,   5.99998000e+04\n",
        "   5.99999000e+04   6.00000000e+04]\n",
        "TIme! [ 240000.   240000.1  240000.2 ...,  299999.8  299999.9  300000. ]\n",
        "[ 0.00031802  0.        ]"
       ]
      },
      {
       "output_type": "stream",
       "stream": "stdout",
       "text": [
        " [  8.09876305e-05   0.00000000e+00] [ 0.00023704  0.        ]\n",
        "(600001,)\n",
        "baseline_freq0.5\n",
        "Baseline (0.5 Hz)\n",
        "time! [  0.00000000e+00   1.00000000e-01   2.00000000e-01 ...,   5.99998000e+04\n",
        "   5.99999000e+04   6.00000000e+04]\n",
        "TIme! [ 240000.   240000.1  240000.2 ...,  299999.8  299999.9  300000. ]\n",
        "[ 0.00031802  0.0003048 ]"
       ]
      },
      {
       "output_type": "stream",
       "stream": "stdout",
       "text": [
        " [  8.09876305e-05   8.03741761e-05] [ 0.00023704  0.00022443]\n",
        "(600001,)\n",
        "Baseline: "
       ]
      },
      {
       "output_type": "stream",
       "stream": "stdout",
       "text": [
        " 0.00022442949253\n",
        "Extended:  0.000237036747178\n"
       ]
      },
      {
       "metadata": {},
       "output_type": "display_data",
       "png": "[encoded data removed]",
       "text": [
        "<matplotlib.figure.Figure at 0x7fa88410ec10>"
       ]
      }
     ],
     "prompt_number": 35
    },
    {
     "cell_type": "code",
     "collapsed": false,
     "input": [
      "freqi = \"%3.1f\"%1.0\n",
      "caseDicti = dict()\n",
      "for key,case in caseDict.iteritems():\n",
      "    if freqi in key:\n",
      "        print case.label \n",
      "        caseDicti[case.tag]=case"
     ],
     "language": "python",
     "metadata": {},
     "outputs": [
      {
       "output_type": "stream",
       "stream": "stdout",
       "text": [
        "Baseline (1.0 Hz)\n",
        "+HIP (3.0x)\n"
       ]
      }
     ],
     "prompt_number": 36
    },
    {
     "cell_type": "code",
     "collapsed": false,
     "input": [
      "plt.figure()\n",
      "i=0\n",
      "max1=np.zeros(2)\n",
      "min1=np.zeros(2)\n",
      "diff1=np.zeros(2)\n",
      "for key, case in caseDicti.iteritems():\n",
      "  print case.tag\n",
      "  print case.label\n",
      "  t = case.data['t'] \n",
      "  #t-= np.min(t)  \n",
      "  ti= t + T*(1-1/np.float(nIntervals)) # should define this elsewhere (dbl check) \n",
      "  s = case.data['s']\n",
      "  s_idx = case.data['s_idx']\n",
      "\n",
      "\n",
      "  idx = s_idx.index(\"Cai\")\n",
      "  plt.plot(ti,s[:,idx],label=case.label)\n",
      " # print s[298e03:,idx]\n",
      "  max1[i] = np.amax(s[580e3:,idx])\n",
      "  min1[i] = np.amin(s[580e3:,idx])\n",
      "  diff1[i] = max1[i] - min1[i]\n",
      "  print max1, min1, diff1\n",
      "  i=i+1\n",
      "    \n",
      "#plt.figure()\n",
      "#idx = s_idx.index(\"Nai\")\n",
      "#plt.plot(t,s[:,idx],label=case.label)\n",
      "plt.xlim([299e3,300e3])\n",
      "plt.legend()\n",
      "outFile=\"%s.png\"%case.name\n",
      "plt.gcf().savefig(outFile)\n",
      "\n",
      "diff1b=diff1[1]\n",
      "diff1x=diff1[0]\n",
      "\n",
      "print \"Baseline: \", diff1b\n",
      "print \"Extended: \", diff1x"
     ],
     "language": "python",
     "metadata": {},
     "outputs": [
      {
       "output_type": "stream",
       "stream": "stdout",
       "text": [
        "incrNaleak3.0_freq1.0\n",
        "+HIP (3.0x)\n",
        "[ 0.00039172  0.        ]"
       ]
      },
      {
       "output_type": "stream",
       "stream": "stdout",
       "text": [
        " [  8.71207809e-05   0.00000000e+00] [ 0.0003046  0.       ]\n",
        "baseline_freq1.0\n",
        "Baseline (1.0 Hz)\n",
        "[ 0.00039172  0.00037939]"
       ]
      },
      {
       "output_type": "stream",
       "stream": "stdout",
       "text": [
        " [  8.71207809e-05   8.66265918e-05] [ 0.0003046   0.00029277]\n",
        "Baseline: "
       ]
      },
      {
       "output_type": "stream",
       "stream": "stdout",
       "text": [
        " 0.000292766063808\n",
        "Extended:  0.000304597513781\n"
       ]
      },
      {
       "metadata": {},
       "output_type": "display_data",
       "png": "[encoded data removed]",
       "text": [
        "<matplotlib.figure.Figure at 0x7fa88410e1d0>"
       ]
      }
     ],
     "prompt_number": 37
    },
    {
     "cell_type": "code",
     "collapsed": false,
     "input": [
      "freqi = \"%3.1f\"%1.5\n",
      "caseDicti = dict()\n",
      "for key,case in caseDict.iteritems():\n",
      "    if freqi in key:\n",
      "        print case.label \n",
      "        caseDicti[case.tag]=case"
     ],
     "language": "python",
     "metadata": {},
     "outputs": [
      {
       "output_type": "stream",
       "stream": "stdout",
       "text": [
        "Baseline (1.5 Hz)\n",
        "+HIP (3.0x)\n"
       ]
      }
     ],
     "prompt_number": 38
    },
    {
     "cell_type": "code",
     "collapsed": false,
     "input": [
      "plt.figure()\n",
      "i=0\n",
      "max1_5=np.zeros(2)\n",
      "min1_5=np.zeros(2)\n",
      "diff1_5=np.zeros(2)\n",
      "for key, case in caseDicti.iteritems():\n",
      "  print case.tag\n",
      "  print case.label\n",
      "  t = case.data['t'] \n",
      "  #t-= np.min(t)  \n",
      "  ti= t + T*(1-1/np.float(nIntervals)) # should define this elsewhere (dbl check) \n",
      "  s = case.data['s']\n",
      "  s_idx = case.data['s_idx']\n",
      "\n",
      "\n",
      "  idx = s_idx.index(\"Cai\")\n",
      "  plt.plot(ti,s[:,idx],label=case.label)\n",
      " # print s[298e03:,idx]\n",
      "  max1_5[i] = np.amax(s[585e3:,idx])\n",
      "  min1_5[i] = np.amin(s[585e3:,idx])\n",
      "  diff1_5[i] = max1_5[i] - min1_5[i]\n",
      "  print max1_5, min1_5, diff1_5\n",
      "  i=i+1\n",
      "    \n",
      "#plt.figure()\n",
      "#idx = s_idx.index(\"Nai\")\n",
      "#plt.plot(t,s[:,idx],label=case.label)\n",
      "plt.xlim([299e3,300e3])\n",
      "plt.legend()\n",
      "outFile=\"%s.png\"%case.name\n",
      "plt.gcf().savefig(outFile)\n",
      "\n",
      "diff1_5b=diff1_5[0]\n",
      "diff1_5x=diff1_5[1]\n",
      "\n",
      "print \"Baseline: \", diff1_5b\n",
      "print \"Extended: \", diff1_5x"
     ],
     "language": "python",
     "metadata": {},
     "outputs": [
      {
       "output_type": "stream",
       "stream": "stdout",
       "text": [
        "baseline_freq1.5\n",
        "Baseline (1.5 Hz)\n",
        "[ 0.00043769  0.        ]"
       ]
      },
      {
       "output_type": "stream",
       "stream": "stdout",
       "text": [
        " [  9.70629210e-05   0.00000000e+00] [ 0.00034063  0.        ]\n",
        "incrNaleak3.0_freq1.5\n",
        "+HIP (3.0x)\n",
        "[ 0.00043769  0.00045077]"
       ]
      },
      {
       "output_type": "stream",
       "stream": "stdout",
       "text": [
        " [  9.70629210e-05   9.76236115e-05] [ 0.00034063  0.00035315]\n",
        "Baseline: "
       ]
      },
      {
       "output_type": "stream",
       "stream": "stdout",
       "text": [
        " 0.000340629134672\n",
        "Extended:  0.000353151341233\n"
       ]
      },
      {
       "metadata": {},
       "output_type": "display_data",
       "png": "[encoded data removed]",
       "text": [
        "<matplotlib.figure.Figure at 0x7fa8840fc750>"
       ]
      }
     ],
     "prompt_number": 39
    },
    {
     "cell_type": "code",
     "collapsed": false,
     "input": [
      "freqi = \"%3.1f\"%2.0\n",
      "caseDicti = dict()\n",
      "for key,case in caseDict.iteritems():\n",
      "    if freqi in key:\n",
      "        print case.label \n",
      "        caseDicti[case.tag]=case"
     ],
     "language": "python",
     "metadata": {},
     "outputs": [
      {
       "output_type": "stream",
       "stream": "stdout",
       "text": [
        "+HIP (3.0x)\n",
        "Baseline (2.0 Hz)\n"
       ]
      }
     ],
     "prompt_number": 40
    },
    {
     "cell_type": "code",
     "collapsed": false,
     "input": [
      "plt.figure()\n",
      "i=0\n",
      "max2=np.zeros(2)\n",
      "min2=np.zeros(2)\n",
      "diff2=np.zeros(2)\n",
      "for key, case in caseDicti.iteritems():\n",
      "  print case.tag\n",
      "  print case.label\n",
      "  t = case.data['t'] \n",
      "  #t-= np.min(t)  \n",
      "  ti= t + T*(1-1/np.float(nIntervals)) # should define this elsewhere (dbl check) \n",
      "  s = case.data['s']\n",
      "  s_idx = case.data['s_idx']\n",
      "\n",
      "\n",
      "  idx = s_idx.index(\"Cai\")\n",
      "  plt.plot(ti,s[:,idx],label=case.label)\n",
      " # print s[298e03:,idx]\n",
      "  max2[i] = np.amax(s[590e3:,idx])\n",
      "  min2[i] = np.amin(s[590e3:,idx])\n",
      "  diff2[i] = max2[i] - min2[i]\n",
      "  print max2, min2, diff2\n",
      "  i=i+1\n",
      "    \n",
      "#plt.figure()\n",
      "#idx = s_idx.index(\"Nai\")\n",
      "#plt.plot(t,s[:,idx],label=case.label)\n",
      "plt.xlim([299.5e3,300e3])\n",
      "plt.legend()\n",
      "outFile=\"despa_incrNaleak3.0_freq2.png\"\n",
      "plt.gcf().savefig(outFile, dpi=300)\n",
      "\n",
      "diff2b=diff2[0]\n",
      "diff2x=diff2[1]\n",
      "\n",
      "print \"Baseline: \", diff2b\n",
      "print \"Extended: \", diff2x"
     ],
     "language": "python",
     "metadata": {},
     "outputs": [
      {
       "output_type": "stream",
       "stream": "stdout",
       "text": [
        "baseline_freq2.0\n",
        "Baseline (2.0 Hz)\n",
        "[ 0.00049548  0.        ]"
       ]
      },
      {
       "output_type": "stream",
       "stream": "stdout",
       "text": [
        " [ 0.00011369  0.        ] [ 0.00038179  0.        ]\n",
        "incrNaleak3.0_freq2.0\n",
        "+HIP (3.0x)\n",
        "[ 0.00049548  0.00051013] [ 0.00011369  0.00011448] [ 0.00038179  0.00039565]\n",
        "Baseline: "
       ]
      },
      {
       "output_type": "stream",
       "stream": "stdout",
       "text": [
        " 0.000381791692071\n",
        "Extended:  0.000395648821238\n"
       ]
      },
      {
       "metadata": {},
       "output_type": "display_data",
       "png": "[encoded data removed]",
       "text": [
        "<matplotlib.figure.Figure at 0x7fa8840fc1d0>"
       ]
      }
     ],
     "prompt_number": 42
    },
    {
     "cell_type": "code",
     "collapsed": false,
     "input": [],
     "language": "python",
     "metadata": {},
     "outputs": []
    }
   ],
   "metadata": {}
  }
 ]
}