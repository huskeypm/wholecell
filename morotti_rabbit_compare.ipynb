{
 "metadata": {
  "name": "",
  "signature": "sha256:24521289518e3323de8c32e261e8668a9a28c447c65dbf5f0441502657cfc45a"
 },
 "nbformat": 3,
 "nbformat_minor": 0,
 "worksheets": [
  {
   "cells": [
    {
     "cell_type": "markdown",
     "metadata": {},
     "source": [
      "## Testing 5s runs vs morotti supplement "
     ]
    },
    {
     "cell_type": "markdown",
     "metadata": {},
     "source": [
      "\n",
      "Mouse\n",
      "<code>\n",
      "python runShannonTest.py -dt 0.1 -stim 999 -jit -T 5000 -odeName shannon_2004_mouse.ode -name mouse_5.pickle\n",
      "</code>\n",
      "\n",
      "Rabbit\n",
      "<code>\n",
      "python runShannonTest.py -dt 0.1 -stim 999 -jit -T 5000 -odeName shannon_2004.ode -name rabbit_5.pickle\n",
      "</code>"
     ]
    },
    {
     "cell_type": "code",
     "collapsed": false,
     "input": [
      "%load_ext autoreload\n",
      "%autoreload 2"
     ],
     "language": "python",
     "metadata": {},
     "outputs": [
      {
       "output_type": "stream",
       "stream": "stdout",
       "text": [
        "The autoreload extension is already loaded. To reload it, use:\n",
        "  %reload_ext autoreload\n"
       ]
      }
     ],
     "prompt_number": 9
    },
    {
     "cell_type": "code",
     "collapsed": false,
     "input": [
      "import gotranJIT\n",
      "from gotran.model.loadmodel import load_ode"
     ],
     "language": "python",
     "metadata": {},
     "outputs": [],
     "prompt_number": 10
    },
    {
     "cell_type": "code",
     "collapsed": false,
     "input": [
      "import analyzeODE as ao\n",
      "import numpy as np"
     ],
     "language": "python",
     "metadata": {},
     "outputs": [],
     "prompt_number": 11
    },
    {
     "cell_type": "markdown",
     "metadata": {},
     "source": [
      "<font color=red>I believe i have tools for this already</font>"
     ]
    },
    {
     "cell_type": "code",
     "collapsed": false,
     "input": [
      "cases = dict()\n",
      "\n",
      "class empty:pass\n",
      "\n",
      "case = empty()\n",
      "case.caseName = \"mouse_5\"\n",
      "case.fileName = case.caseName+\".pickle\"\n",
      "case.data = ao.readPickle(case.fileName) \n",
      "cases[case.caseName] = case\n",
      "\n",
      "\n",
      "case = empty()\n",
      "case.caseName = \"rabbit_5\"\n",
      "case.fileName = case.caseName+\".pickle\"\n",
      "case.data = ao.readPickle(case.fileName) \n",
      "cases[case.caseName] = case"
     ],
     "language": "python",
     "metadata": {},
     "outputs": [
      {
       "output_type": "stream",
       "stream": "stdout",
       "text": [
        "Reading mouse_5.pickle\n",
        "Reading rabbit_5.pickle"
       ]
      },
      {
       "output_type": "stream",
       "stream": "stdout",
       "text": [
        "\n"
       ]
      }
     ],
     "prompt_number": 12
    },
    {
     "cell_type": "markdown",
     "metadata": {},
     "source": [
      "Print currents "
     ]
    },
    {
     "cell_type": "code",
     "collapsed": false,
     "input": [
      "case = cases['mouse_5']\n",
      "j_idx = case.data['j_idx']\n",
      "for i, stringer in enumerate(j_idx):\n",
      "    if \"i_\" in stringer:\n",
      "        1\n",
      "        #print stringer"
     ],
     "language": "python",
     "metadata": {},
     "outputs": [],
     "prompt_number": 13
    },
    {
     "cell_type": "markdown",
     "metadata": {},
     "source": [
      "### Currents "
     ]
    },
    {
     "cell_type": "code",
     "collapsed": false,
     "input": [
      "from analyzeODE import PlotMorotti\n"
     ],
     "language": "python",
     "metadata": {},
     "outputs": [],
     "prompt_number": 14
    },
    {
     "cell_type": "markdown",
     "metadata": {},
     "source": [
      "<code>\n",
      "montage *g -tile 3x -geometry '+2+2+2+2>' /net/share/shared/papers/despa/current_compare.png\n",
      "\n",
      "montage mouse_rabbit_compare_00_V.png mouse_rabbit_compare_01* mouse_rabbit_compare_02* -tile 3x -geometry '+2+2+2+2>' /net/share/shared/papers/despa/VCaiNai.png\n",
      "\n",
      "montage \\\n",
      " mouse_rabbit_compare_14_i_Kp.png \\\n",
      " mouse_rabbit_compare_13_i_NaK.png\\\n",
      " mouse_rabbit_compare_11_i_K1.png \\\n",
      " mouse_rabbit_compare_10_i_Kr.png \\\n",
      " mouse_rabbit_compare_09_i_Ks.png \\\n",
      " mouse_rabbit_compare_08_i_tos.png\\\n",
      " mouse_rabbit_compare_07_i_tof.png\\\n",
      " mouse_rabbit_compare_06_i_ss.png \\\n",
      " mouse_rabbit_compare_05_i_kur.png\\\n",
      " -tile 3x -geometry '+2+2+2+2>' /net/share/shared/papers/despa/Kcurrents.png\n",
      "\n",
      "montage \\\n",
      " mouse_rabbit_compare_04_i_CaL.png \\\n",
      " mouse_rabbit_compare_03_i_Na.png \\\n",
      " mouse_rabbit_compare_12_i_NaCa.png \\\n",
      "-tile 3x -geometry '+2+2+2+2>' /net/share/shared/papers/despa/other_currents.png\n",
      "\n",
      "</code>\n",
      "\n"
     ]
    },
    {
     "cell_type": "markdown",
     "metadata": {},
     "source": [
      "<code>\n",
      "python runShannonTest.py -dt 0.1 -stim 999 -var PCa 0.0011583  -jit -T 60000 -odeName shannon_2004_mouse.ode -name mouse_PCa_60.pickle\n",
      "</code>"
     ]
    },
    {
     "cell_type": "markdown",
     "metadata": {},
     "source": [
      "<code>\n",
      "montage baseline*g -tile 2x -geometry '+2+2+2+2>' /net/share/shared/papers/despa/baseline_incrPCa_comp.png\n",
      "</code>"
     ]
    },
    {
     "cell_type": "heading",
     "level": 3,
     "metadata": {},
     "source": [
      "Paper Figures"
     ]
    },
    {
     "cell_type": "markdown",
     "metadata": {},
     "source": [
      "Figure 1"
     ]
    },
    {
     "cell_type": "heading",
     "level": 2,
     "metadata": {},
     "source": [
      "Baseline"
     ]
    },
    {
     "cell_type": "code",
     "collapsed": false,
     "input": [
      "root=\"/net/share/shared/papers/despa/\"\n",
      "caseExtended1Hz = empty()\n",
      "caseExtended1Hz.caseName = root+\"mouse_freq1p0_60\" \n",
      "caseExtended1Hz.fileName = caseExtended1Hz.caseName+\".pickle\"\n",
      "caseExtended1Hz.data = ao.readPickle(caseExtended1Hz.fileName) "
     ],
     "language": "python",
     "metadata": {},
     "outputs": [
      {
       "output_type": "stream",
       "stream": "stdout",
       "text": [
        "Reading /net/share/shared/papers/despa/mouse_freq1p0_60.pickle\n"
       ]
      }
     ],
     "prompt_number": 15
    },
    {
     "cell_type": "code",
     "collapsed": false,
     "input": [
      "s = caseExtended1Hz.data['s']\n",
      "s_idx = caseExtended1Hz.data['s_idx']\n",
      "idx = s_idx.index(\"Ca_SR\")\n",
      "\n",
      "maxBaseline_CaSR = np.amax(s[200e3:205e3,idx])\n",
      "print maxBaseline_CaSR\n",
      "minBaseline_CaSR = np.amin(s[200e3:205e3,idx])\n",
      "print minBaseline_CaSR\n",
      "diffBaseline_CaSR=maxBaseline_CaSR-minBaseline_CaSR\n",
      "print diffBaseline_CaSR"
     ],
     "language": "python",
     "metadata": {},
     "outputs": [
      {
       "output_type": "stream",
       "stream": "stdout",
       "text": [
        "0.593064263418\n",
        "0.303185301413\n",
        "0.289878962005\n"
       ]
      }
     ],
     "prompt_number": 16
    },
    {
     "cell_type": "code",
     "collapsed": false,
     "input": [
      "s = caseExtended1Hz.data['s']\n",
      "s_idx = caseExtended1Hz.data['s_idx']\n",
      "idx = s_idx.index(\"Cai\")\n",
      "\n",
      "maxBaseline_Cai = np.amax(s[200e3:205e3,idx])\n",
      "print maxBaseline_Cai\n",
      "minBaseline_Cai = np.amin(s[200e3:205e3,idx])\n",
      "print minBaseline_Cai\n",
      "diffBaseline_Cai=maxBaseline_Cai-minBaseline_Cai\n",
      "print diffBaseline_Cai"
     ],
     "language": "python",
     "metadata": {},
     "outputs": [
      {
       "output_type": "stream",
       "stream": "stdout",
       "text": [
        "0.000569281273533\n",
        "0.00010165257428\n",
        "0.000467628699253\n"
       ]
      }
     ],
     "prompt_number": 17
    },
    {
     "cell_type": "code",
     "collapsed": false,
     "input": [
      "root=\"/net/share/shared/papers/despa/\"\n",
      "states = [\"Cai\",\"V\",\"Ca_SR\"]\n",
      "for i,state in enumerate(states):\n",
      "        ao.PlotPickleData(caseExtended1Hz.data,idxName=state, \n",
      "                          ylabel=state,trange=[20e3,20.5e3],\n",
      "                          case1legend='Baseline')\n",
      "        plt.tight_layout()\n",
      "        outFile=\"/net/share/cesc235/pkh-lab-papers/150817_despa/figs/mouse/Baseline_%s.png\"%state\n",
      "        plt.gcf().savefig(outFile,bbox_extra_Artists=(),bbox_inches='tight',dpi=300)\n",
      "        #plt.gcf().savefig(root+\"baseline_vs_IncrPCa_\"+\"_%s\"%state+\".png\")"
     ],
     "language": "python",
     "metadata": {},
     "outputs": [
      {
       "metadata": {},
       "output_type": "display_data",
       "png": "[encoded data removed]",
       "text": [
        "<matplotlib.figure.Figure at 0x7f637c0d3710>"
       ]
      },
      {
       "metadata": {},
       "output_type": "display_data",
       "png": "[encoded data removed]",
       "text": [
        "<matplotlib.figure.Figure at 0x7f633205f090>"
       ]
      },
      {
       "metadata": {},
       "output_type": "display_data",
       "png": "[encoded data removed]",
       "text": [
        "<matplotlib.figure.Figure at 0x7f636d6ffe50>"
       ]
      }
     ],
     "prompt_number": 18
    },
    {
     "cell_type": "code",
     "collapsed": false,
     "input": [
      "p_idx = caseExtended1Hz.data['p_idx']\n",
      "print p_idx.keys"
     ],
     "language": "python",
     "metadata": {},
     "outputs": [
      {
       "ename": "AttributeError",
       "evalue": "'list' object has no attribute 'keys'",
       "output_type": "pyerr",
       "traceback": [
        "\u001b[0;31m---------------------------------------------------------------------------\u001b[0m\n\u001b[0;31mAttributeError\u001b[0m                            Traceback (most recent call last)",
        "\u001b[0;32m<ipython-input-19-67a915213446>\u001b[0m in \u001b[0;36m<module>\u001b[0;34m()\u001b[0m\n\u001b[1;32m      1\u001b[0m \u001b[0mp_idx\u001b[0m \u001b[0;34m=\u001b[0m \u001b[0mcaseExtended1Hz\u001b[0m\u001b[0;34m.\u001b[0m\u001b[0mdata\u001b[0m\u001b[0;34m[\u001b[0m\u001b[0;34m'p_idx'\u001b[0m\u001b[0;34m]\u001b[0m\u001b[0;34m\u001b[0m\u001b[0m\n\u001b[0;32m----> 2\u001b[0;31m \u001b[0;32mprint\u001b[0m \u001b[0mp_idx\u001b[0m\u001b[0;34m.\u001b[0m\u001b[0mkeys\u001b[0m\u001b[0;34m\u001b[0m\u001b[0m\n\u001b[0m",
        "\u001b[0;31mAttributeError\u001b[0m: 'list' object has no attribute 'keys'"
       ]
      }
     ],
     "prompt_number": 19
    },
    {
     "cell_type": "code",
     "collapsed": false,
     "input": [
      "nnprint p_idx"
     ],
     "language": "python",
     "metadata": {},
     "outputs": [
      {
       "ename": "SyntaxError",
       "evalue": "invalid syntax (<ipython-input-20-a26710e9967e>, line 1)",
       "output_type": "pyerr",
       "traceback": [
        "\u001b[0;36m  File \u001b[0;32m\"<ipython-input-20-a26710e9967e>\"\u001b[0;36m, line \u001b[0;32m1\u001b[0m\n\u001b[0;31m    nnprint p_idx\u001b[0m\n\u001b[0m                ^\u001b[0m\n\u001b[0;31mSyntaxError\u001b[0m\u001b[0;31m:\u001b[0m invalid syntax\n"
       ]
      }
     ],
     "prompt_number": 20
    },
    {
     "cell_type": "code",
     "collapsed": false,
     "input": [
      "p_idx = caseExtended1Hz.data['p_idx']\n",
      "p = caseExtended1Hz.data['p']\n",
      "print p[p_idx.index('G_CaBk')]\n",
      "print p[p_idx.index('G_CaBk')]*1.075"
     ],
     "language": "python",
     "metadata": {},
     "outputs": [
      {
       "output_type": "stream",
       "stream": "stdout",
       "text": [
        "0.0007539\n",
        "0.0008104425\n"
       ]
      }
     ],
     "prompt_number": 21
    },
    {
     "cell_type": "code",
     "collapsed": false,
     "input": [
      "p_idx = caseExtended1Hz.data['p_idx']\n",
      "p = caseExtended1Hz.data['p']\n",
      "print p[p_idx.index('G_NaBk')]\n",
      "print p[p_idx.index('G_NaBk')]*1.075"
     ],
     "language": "python",
     "metadata": {},
     "outputs": [
      {
       "output_type": "stream",
       "stream": "stdout",
       "text": [
        "0.001337\n",
        "0.001437275\n"
       ]
      }
     ],
     "prompt_number": 22
    },
    {
     "cell_type": "code",
     "collapsed": false,
     "input": [
      "p_idx = caseExtended1Hz.data['p_idx']\n",
      "p = caseExtended1Hz.data['p']\n",
      "print p[p_idx.index('V_max_Jpump')]\n",
      "print p[p_idx.index('V_max_Jpump')]*2"
     ],
     "language": "python",
     "metadata": {},
     "outputs": [
      {
       "output_type": "stream",
       "stream": "stdout",
       "text": [
        "0.00702\n",
        "0.01404\n"
       ]
      }
     ],
     "prompt_number": 23
    },
    {
     "cell_type": "code",
     "collapsed": false,
     "input": [
      "p_idx = caseExtended1Hz.data['p_idx']\n",
      "p = caseExtended1Hz.data['p']\n",
      "print p[p_idx.index('PCa')]\n",
      "print p[p_idx.index('PCa')]*1.25"
     ],
     "language": "python",
     "metadata": {},
     "outputs": [
      {
       "output_type": "stream",
       "stream": "stdout",
       "text": [
        "0.000891\n",
        "0.00111375\n"
       ]
      }
     ],
     "prompt_number": 24
    },
    {
     "cell_type": "code",
     "collapsed": false,
     "input": [
      "1.875+0.125"
     ],
     "language": "python",
     "metadata": {},
     "outputs": [
      {
       "metadata": {},
       "output_type": "pyout",
       "prompt_number": 25,
       "text": [
        "2.0"
       ]
      }
     ],
     "prompt_number": 25
    },
    {
     "cell_type": "code",
     "collapsed": false,
     "input": [
      "p_idx = caseExtended1Hz.data['p_idx']\n",
      "p = caseExtended1Hz.data['p']\n",
      "print p[p_idx.index('V_max_INaCa')]\n",
      "print p[p_idx.index('V_max_INaCa')]*1.25"
     ],
     "language": "python",
     "metadata": {},
     "outputs": [
      {
       "output_type": "stream",
       "stream": "stdout",
       "text": [
        "1.0\n",
        "1.25\n"
       ]
      }
     ],
     "prompt_number": 26
    },
    {
     "cell_type": "heading",
     "level": 2,
     "metadata": {},
     "source": [
      "Increase Ca2+/Na+ Leak (Amylin)"
     ]
    },
    {
     "cell_type": "code",
     "collapsed": false,
     "input": [
      "caseAmylin1p25 = empty()\n",
      "caseAmylin1p25.caseName = root+\"mouse_leak1p25x_freq1p0_60\" \n",
      "caseAmylin1p25.fileName = caseAmylin1p25.caseName+\".pickle\"\n",
      "caseAmylin1p25.data = ao.readPickle(caseAmylin1p25.fileName) "
     ],
     "language": "python",
     "metadata": {},
     "outputs": [
      {
       "output_type": "stream",
       "stream": "stdout",
       "text": [
        "Reading /net/share/shared/papers/despa/mouse_leak1p25x_freq1p0_60.pickle\n"
       ]
      }
     ],
     "prompt_number": 27
    },
    {
     "cell_type": "code",
     "collapsed": false,
     "input": [
      "s = caseAmylin1p25.data['s']\n",
      "s_idx = caseAmylin1p25.data['s_idx']\n",
      "idx = s_idx.index(\"Ca_SR\")\n",
      "\n",
      "maxAmylin_CaSR = np.amax(s[200e3:205e3,idx])\n",
      "print maxAmylin_CaSR\n",
      "minAmylin_CaSR = np.amin(s[200e3:205e3,idx])\n",
      "print minAmylin_CaSR\n",
      "diffAmylin_CaSR=maxAmylin_CaSR-minAmylin_CaSR\n",
      "print diffAmylin_CaSR"
     ],
     "language": "python",
     "metadata": {},
     "outputs": [
      {
       "output_type": "stream",
       "stream": "stdout",
       "text": [
        "0.628225629516\n",
        "0.289236417419\n",
        "0.338989212096\n"
       ]
      }
     ],
     "prompt_number": 28
    },
    {
     "cell_type": "code",
     "collapsed": false,
     "input": [
      "s = caseAmylin1p25.data['s']\n",
      "s_idx = caseAmylin1p25.data['s_idx']\n",
      "idx = s_idx.index(\"Cai\")\n",
      "\n",
      "maxAmylin_Cai = np.amax(s[200e3:205e3,idx])\n",
      "print maxAmylin_Cai\n",
      "minAmylin_Cai = np.amin(s[200e3:205e3,idx])\n",
      "print minAmylin_Cai\n",
      "diffAmylin_Cai=maxAmylin_Cai-minAmylin_Cai\n",
      "print diffAmylin_Cai"
     ],
     "language": "python",
     "metadata": {},
     "outputs": [
      {
       "output_type": "stream",
       "stream": "stdout",
       "text": [
        "0.000706216626104\n",
        "0.000109040099006\n",
        "0.000597176527098\n"
       ]
      }
     ],
     "prompt_number": 29
    },
    {
     "cell_type": "code",
     "collapsed": false,
     "input": [
      "(diffBaseline_Cai-diffAmylin_Cai)/diffAmylin_Cai"
     ],
     "language": "python",
     "metadata": {},
     "outputs": [
      {
       "metadata": {},
       "output_type": "pyout",
       "prompt_number": 30,
       "text": [
        "-0.21693389134722263"
       ]
      }
     ],
     "prompt_number": 30
    },
    {
     "cell_type": "code",
     "collapsed": false,
     "input": [
      "root=\"/net/share/shared/papers/despa/\"\n",
      "states = [\"Cai\",\"V\",\"Ca_SR\"]\n",
      "for i,state in enumerate(states):\n",
      "        ao.PlotPickleData(caseExtended1Hz.data,data2=caseAmylin1p25.data,idxName=state, \n",
      "                          ylabel=state,trange=[20e3,20.5e3],\n",
      "                          case1legend=caseExtended1Hz.caseName,\n",
      "                          case2legend=caseAmylin1p25.caseName)\n",
      "        plt.tight_layout()\n",
      "        #plt.gcf().savefig(root+\"baseline_vs_IncrPCa_\"+\"_%s\"%state+\".png\") "
     ],
     "language": "python",
     "metadata": {},
     "outputs": [
      {
       "metadata": {},
       "output_type": "display_data",
       "png": "[encoded data removed]",
       "text": [
        "<matplotlib.figure.Figure at 0x7f636e4288d0>"
       ]
      },
      {
       "metadata": {},
       "output_type": "display_data",
       "png": "[encoded data removed]",
       "text": [
        "<matplotlib.figure.Figure at 0x7f6331de9e10>"
       ]
      },
      {
       "metadata": {},
       "output_type": "display_data",
       "png": "[encoded data removed]",
       "text": [
        "<matplotlib.figure.Figure at 0x7f6331da4890>"
       ]
      }
     ],
     "prompt_number": 31
    },
    {
     "cell_type": "heading",
     "level": 2,
     "metadata": {},
     "source": [
      "Increase Ca2+ leak"
     ]
    },
    {
     "cell_type": "code",
     "collapsed": false,
     "input": [
      "root=\"/home/AD/cesc235/wholecell_new3/asdf/wholecell/\"\n",
      "caseCa1p125 = empty()\n",
      "caseCa1p125.caseName = root+\"mouse_CaLeak1p125x_freq1p0_60\" \n",
      "caseCa1p125.fileName = caseCa1p125.caseName+\".pickle\"\n",
      "caseCa1p125.data = ao.readPickle(caseCa1p125.fileName) "
     ],
     "language": "python",
     "metadata": {},
     "outputs": [
      {
       "output_type": "stream",
       "stream": "stdout",
       "text": [
        "Reading /home/AD/cesc235/wholecell_new3/asdf/wholecell/mouse_CaLeak1p125x_freq1p0_60.pickle\n"
       ]
      }
     ],
     "prompt_number": 32
    },
    {
     "cell_type": "code",
     "collapsed": false,
     "input": [
      "s = caseCa1p125.data['s']\n",
      "s_idx = caseCa1p125.data['s_idx']\n",
      "idx = s_idx.index(\"Ca_SR\")\n",
      "\n",
      "max1p125_CaSR = np.amax(s[200e3:205e3,idx])\n",
      "print max1p125_CaSR\n",
      "min1p125_CaSR = np.amin(s[200e3:205e3,idx])\n",
      "print min1p125_CaSR\n",
      "diff1p125_CaSR=max1p125_CaSR-min1p125_CaSR\n",
      "print diff1p125_CaSR"
     ],
     "language": "python",
     "metadata": {},
     "outputs": [
      {
       "output_type": "stream",
       "stream": "stdout",
       "text": [
        "0.609577914724\n",
        "0.296729571697\n",
        "0.312848343027\n"
       ]
      }
     ],
     "prompt_number": 33
    },
    {
     "cell_type": "code",
     "collapsed": false,
     "input": [
      "caseCa1p25 = empty()\n",
      "caseCa1p25.caseName = root+\"mouse_CaLeak1p25x_freq1p0_60\" \n",
      "caseCa1p25.fileName = caseCa1p25.caseName+\".pickle\"\n",
      "caseCa1p25.data = ao.readPickle(caseCa1p25.fileName) "
     ],
     "language": "python",
     "metadata": {},
     "outputs": [
      {
       "output_type": "stream",
       "stream": "stdout",
       "text": [
        "Reading /home/AD/cesc235/wholecell_new3/asdf/wholecell/mouse_CaLeak1p25x_freq1p0_60.pickle\n"
       ]
      }
     ],
     "prompt_number": 34
    },
    {
     "cell_type": "code",
     "collapsed": false,
     "input": [
      "s = caseCa1p25.data['s']\n",
      "s_idx = caseCa1p25.data['s_idx']\n",
      "idx = s_idx.index(\"Ca_SR\")\n",
      "\n",
      "max1p25_CaSR = np.amax(s[200e3:205e3,idx])\n",
      "print max1p25_CaSR\n",
      "min1p25_CaSR = np.amin(s[200e3:205e3,idx])\n",
      "print min1p25_CaSR\n",
      "diff1p25_CaSR=max1p25_CaSR-min1p25_CaSR\n",
      "print diff1p25_CaSR"
     ],
     "language": "python",
     "metadata": {},
     "outputs": [
      {
       "output_type": "stream",
       "stream": "stdout",
       "text": [
        "0.626199656519\n",
        "0.290051687523\n",
        "0.336147968996\n"
       ]
      }
     ],
     "prompt_number": 35
    },
    {
     "cell_type": "code",
     "collapsed": false,
     "input": [
      "caseCa1p375 = empty()\n",
      "caseCa1p375.caseName = root+\"mouse_CaLeak1p375x_freq1p0_60\" \n",
      "caseCa1p375.fileName = caseCa1p375.caseName+\".pickle\"\n",
      "caseCa1p375.data = ao.readPickle(caseCa1p375.fileName) "
     ],
     "language": "python",
     "metadata": {},
     "outputs": [
      {
       "output_type": "stream",
       "stream": "stdout",
       "text": [
        "Reading /home/AD/cesc235/wholecell_new3/asdf/wholecell/mouse_CaLeak1p375x_freq1p0_60.pickle\n"
       ]
      }
     ],
     "prompt_number": 36
    },
    {
     "cell_type": "code",
     "collapsed": false,
     "input": [
      "s = caseCa1p375.data['s']\n",
      "s_idx = caseCa1p375.data['s_idx']\n",
      "idx = s_idx.index(\"Ca_SR\")\n",
      "\n",
      "max1p375_CaSR = np.amax(s[200e3:205e3,idx])\n",
      "print max1p375_CaSR\n",
      "min1p375_CaSR = np.amin(s[200e3:205e3,idx])\n",
      "print min1p375_CaSR\n",
      "diff1p375_CaSR=max1p375_CaSR-min1p375_CaSR\n",
      "print diff1p375_CaSR"
     ],
     "language": "python",
     "metadata": {},
     "outputs": [
      {
       "output_type": "stream",
       "stream": "stdout",
       "text": [
        "0.642819748014\n",
        "0.2833835522\n",
        "0.359436195814\n"
       ]
      }
     ],
     "prompt_number": 37
    },
    {
     "cell_type": "code",
     "collapsed": false,
     "input": [
      "caseCa1p5 = empty()\n",
      "caseCa1p5.caseName = root+\"mouse_CaLeak1p5x_freq1p0_60\" \n",
      "caseCa1p5.fileName = caseCa1p5.caseName+\".pickle\"\n",
      "caseCa1p5.data = ao.readPickle(caseCa1p5.fileName) "
     ],
     "language": "python",
     "metadata": {},
     "outputs": [
      {
       "output_type": "stream",
       "stream": "stdout",
       "text": [
        "Reading /home/AD/cesc235/wholecell_new3/asdf/wholecell/mouse_CaLeak1p5x_freq1p0_60.pickle\n"
       ]
      }
     ],
     "prompt_number": 38
    },
    {
     "cell_type": "code",
     "collapsed": false,
     "input": [
      "s = caseCa1p5.data['s']\n",
      "s_idx = caseCa1p5.data['s_idx']\n",
      "idx = s_idx.index(\"Ca_SR\")\n",
      "\n",
      "max1p5_CaSR = np.amax(s[200e3:205e3,idx])\n",
      "print max1p5_CaSR\n",
      "min1p5_CaSR = np.amin(s[200e3:205e3,idx])\n",
      "print min1p5_CaSR\n",
      "diff1p5_CaSR=max1p5_CaSR-min1p5_CaSR\n",
      "print diff1p5_CaSR"
     ],
     "language": "python",
     "metadata": {},
     "outputs": [
      {
       "output_type": "stream",
       "stream": "stdout",
       "text": [
        "0.659249698234\n",
        "0.276971730508\n",
        "0.382277967726\n"
       ]
      }
     ],
     "prompt_number": 94
    },
    {
     "cell_type": "code",
     "collapsed": false,
     "input": [
      "caseCa1p625 = empty()\n",
      "caseCa1p625.caseName = root+\"mouse_CaLeak1p625x_freq1p0_60\" \n",
      "caseCa1p625.fileName = caseCa1p625.caseName+\".pickle\"\n",
      "caseCa1p625.data = ao.readPickle(caseCa1p625.fileName) "
     ],
     "language": "python",
     "metadata": {},
     "outputs": [
      {
       "output_type": "stream",
       "stream": "stdout",
       "text": [
        "Reading /home/AD/cesc235/wholecell_new3/asdf/wholecell/mouse_CaLeak1p625x_freq1p0_60.pickle\n"
       ]
      }
     ],
     "prompt_number": 95
    },
    {
     "cell_type": "code",
     "collapsed": false,
     "input": [
      "s = caseCa1p625.data['s']\n",
      "s_idx = caseCa1p625.data['s_idx']\n",
      "idx = s_idx.index(\"Ca_SR\")\n",
      "\n",
      "max1p625_CaSR = np.amax(s[200e3:205e3,idx])\n",
      "print max1p625_CaSR\n",
      "min1p625_CaSR = np.amin(s[200e3:205e3,idx])\n",
      "print min1p625_CaSR\n",
      "diff1p625_CaSR=max1p625_CaSR-min1p625_CaSR\n",
      "print diff1p625_CaSR"
     ],
     "language": "python",
     "metadata": {},
     "outputs": [
      {
       "output_type": "stream",
       "stream": "stdout",
       "text": [
        "0.675201265538\n",
        "0.271075934951\n",
        "0.404125330587\n"
       ]
      }
     ],
     "prompt_number": 96
    },
    {
     "cell_type": "code",
     "collapsed": false,
     "input": [
      "caseCa1p75 = empty()\n",
      "caseCa1p75.caseName = root+\"mouse_CaLeak1p75x_freq1p0_60\" \n",
      "caseCa1p75.fileName = caseCa1p75.caseName+\".pickle\"\n",
      "caseCa1p75.data = ao.readPickle(caseCa1p75.fileName) "
     ],
     "language": "python",
     "metadata": {},
     "outputs": [
      {
       "output_type": "stream",
       "stream": "stdout",
       "text": [
        "Reading /home/AD/cesc235/wholecell_new3/asdf/wholecell/mouse_CaLeak1p75x_freq1p0_60.pickle\n"
       ]
      }
     ],
     "prompt_number": 97
    },
    {
     "cell_type": "code",
     "collapsed": false,
     "input": [
      "s = caseCa1p75.data['s']\n",
      "s_idx = caseCa1p75.data['s_idx']\n",
      "idx = s_idx.index(\"Ca_SR\")\n",
      "\n",
      "max1p75_CaSR = np.amax(s[200e3:205e3,idx])\n",
      "print max1p75_CaSR\n",
      "min1p75_CaSR = np.amin(s[200e3:205e3,idx])\n",
      "print min1p75_CaSR\n",
      "diff1p75_CaSR=max1p75_CaSR-min1p75_CaSR\n",
      "print diff1p75_CaSR"
     ],
     "language": "python",
     "metadata": {},
     "outputs": []
    },
    {
     "cell_type": "code",
     "collapsed": false,
     "input": [
      "caseCa1p875 = empty()\n",
      "caseCa1p875.caseName = root+\"mouse_CaLeak1p875x_freq1p0_60\" \n",
      "caseCa1p875.fileName = caseCa1p875.caseName+\".pickle\"\n",
      "caseCa1p875.data = ao.readPickle(caseCa1p875.fileName) "
     ],
     "language": "python",
     "metadata": {},
     "outputs": []
    },
    {
     "cell_type": "code",
     "collapsed": false,
     "input": [
      "s = caseCa1p875.data['s']\n",
      "s_idx = caseCa1p875.data['s_idx']\n",
      "idx = s_idx.index(\"Ca_SR\")\n",
      "\n",
      "max1p875_CaSR = np.amax(s[200e3:205e3,idx])\n",
      "print max1p875_CaSR\n",
      "min1p875_CaSR = np.amin(s[200e3:205e3,idx])\n",
      "print min1p875_CaSR\n",
      "diff1p875_CaSR=max1p875_CaSR-min1p875_CaSR\n",
      "print diff1p875_CaSR"
     ],
     "language": "python",
     "metadata": {},
     "outputs": []
    },
    {
     "cell_type": "heading",
     "level": 2,
     "metadata": {},
     "source": [
      "Decrease SERCA uptake"
     ]
    },
    {
     "cell_type": "code",
     "collapsed": false,
     "input": [
      "caseSERCA0p5 = empty()\n",
      "caseSERCA0p5.caseName = \"mouse_decrSERCAuptake0p50_freq1p0_60\" \n",
      "caseSERCA0p5.fileName = caseSERCA0p5.caseName+\".pickle\"\n",
      "caseSERCA0p5.data = ao.readPickle(caseSERCA0p5.fileName) "
     ],
     "language": "python",
     "metadata": {},
     "outputs": []
    },
    {
     "cell_type": "code",
     "collapsed": false,
     "input": [
      "root=\"/net/share/cesc235/pkh-lab-papers/150817_despa/figs/mouse/\"\n",
      "states = [\"Cai\",\"V\",\"Ca_SR\",\"Nai\"]\n",
      "for i,state in enumerate(states):\n",
      "        ao.PlotPickleData(caseExtended1Hz.data,data2=caseSERCA0p5.data,idxName=state, \n",
      "                          ylabel=state,trange=[50e3,50.5e3],\n",
      "                          case1legend=\"Baseline\",\n",
      "                          case2legend=\"SERCA uptake -50%\")\n",
      "        plt.legend(bbox_to_anchor=(1.20,0.25),fancybox=True, shadow=True)\n",
      "        plt.tight_layout()\n",
      "        outFile=root+\"baseline_vs_SERCA50_\"+\"%s\"%state+\".png\"\n",
      "        plt.gcf().savefig(outFile)\n",
      "        "
     ],
     "language": "python",
     "metadata": {},
     "outputs": []
    },
    {
     "cell_type": "code",
     "collapsed": false,
     "input": [
      "s = caseSERCA0p5.data['s']\n",
      "s_idx = caseSERCA0p5.data['s_idx']\n",
      "idx = s_idx.index(\"Cai\")\n",
      "\n",
      "maxUCD_Cai = np.amax(s[200e3:205e3,idx])\n",
      "print maxUCD_Cai\n",
      "minUCD_Cai = np.amin(s[200e3:205e3,idx])\n",
      "print minUCD_Cai\n",
      "diffUCD_Cai=maxUCD_Cai-minUCD_Cai\n",
      "print diffUCD_Cai\n",
      "\n",
      "print (diffUCD_Cai-diffBaseline_Cai)/diffBaseline_Cai"
     ],
     "language": "python",
     "metadata": {},
     "outputs": []
    },
    {
     "cell_type": "code",
     "collapsed": false,
     "input": [
      "s = caseSERCA0p5.data['s']\n",
      "s_idx = caseSERCA0p5.data['s_idx']\n",
      "idx = s_idx.index(\"Ca_SR\")\n",
      "\n",
      "maxUCD_CaSR = np.amax(s[200e3:205e3,idx])\n",
      "print maxUCD_CaSR\n",
      "minUCD_CaSR = np.amin(s[200e3:205e3,idx])\n",
      "print minUCD_CaSR\n",
      "diffUCD_CaSR=maxUCD_CaSR-minUCD_CaSR\n",
      "print diffUCD_CaSR\n",
      "\n",
      "print (diffUCD_CaSR-diffBaseline_CaSR)/diffBaseline_CaSR"
     ],
     "language": "python",
     "metadata": {},
     "outputs": []
    },
    {
     "cell_type": "heading",
     "level": 2,
     "metadata": {},
     "source": [
      "HIP case"
     ]
    },
    {
     "cell_type": "code",
     "collapsed": false,
     "input": [
      "root=\"/home/AD/cesc235/wholecell_new3/asdf/wholecell/\"\n",
      "caseHIP = empty()\n",
      "caseHIP.caseName = root+\"mouse_decrSERCAuptake0p50_leak1p25x_freq1p0_60\" \n",
      "caseHIP.fileName = caseHIP.caseName+\".pickle\"\n",
      "caseHIP.data = ao.readPickle(caseHIP.fileName) "
     ],
     "language": "python",
     "metadata": {},
     "outputs": []
    },
    {
     "cell_type": "code",
     "collapsed": false,
     "input": [
      "s = caseHIP.data['s']\n",
      "s_idx = caseHIP.data['s_idx']\n",
      "idx = s_idx.index(\"Ca_SR\")\n",
      "\n",
      "maxHIP_CaSR = np.amax(s[200e3:205e3,idx])\n",
      "print maxHIP_CaSR\n",
      "minHIP_CaSR = np.amin(s[200e3:205e3,idx])\n",
      "print minHIP_CaSR\n",
      "diffHIP_CaSR=maxHIP_CaSR-minHIP_CaSR\n",
      "print diffHIP_CaSR"
     ],
     "language": "python",
     "metadata": {},
     "outputs": []
    },
    {
     "cell_type": "code",
     "collapsed": false,
     "input": [
      "s = caseHIP.data['s']\n",
      "s_idx = caseHIP.data['s_idx']\n",
      "idx = s_idx.index(\"Cai\")\n",
      "\n",
      "maxHIP_Cai = np.amax(s[200e3:205e3,idx])\n",
      "print maxHIP_Cai\n",
      "minHIP_Cai = np.amin(s[200e3:205e3,idx])\n",
      "print minHIP_Cai\n",
      "diffHIP_Cai=maxHIP_Cai-minHIP_Cai\n",
      "print diffHIP_Cai\n",
      "\n",
      "(diffBaseline_Cai-diffHIP_Cai)/diffBaseline_Cai"
     ],
     "language": "python",
     "metadata": {},
     "outputs": []
    },
    {
     "cell_type": "code",
     "collapsed": false,
     "input": [
      "root=\"/net/share/shared/papers/despa/\"\n",
      "states = [\"Cai\",\"V\",\"Ca_SR\"]\n",
      "for i,state in enumerate(states):\n",
      "        ao.PlotPickleData(caseExtended1Hz.data,data2=caseHIP.data,idxName=state, \n",
      "                          ylabel=state,trange=[20e3,20.9e3],\n",
      "                          case1legend=\"Baseline\",\n",
      "                          case2legend=\"+HIP\")\n",
      "        plt.legend(bbox_to_anchor=(3.2,1.0),fancybox=True, shadow=True)\n",
      "        plt.tight_layout()\n",
      "        outFile=\"/net/share/cesc235/pkh-lab-papers/150817_despa/figs/mouse/HIP_%s.png\"%state\n",
      "        plt.gcf().savefig(outFile,bbox_extra_Artists=(),bbox_inches='tight',dpi=300) \n",
      "\n",
      "        \n",
      "     #   print caseExtended1Hz.data"
     ],
     "language": "python",
     "metadata": {},
     "outputs": []
    },
    {
     "cell_type": "heading",
     "level": 2,
     "metadata": {},
     "source": [
      "Increase LCC"
     ]
    },
    {
     "cell_type": "code",
     "collapsed": false,
     "input": [
      "caseLCC = empty()\n",
      "caseLCC.caseName = \"mouse_lcc1p25x_freq1p0_60\" \n",
      "caseLCC.fileName = caseLCC.caseName+\".pickle\"\n",
      "caseLCC.data = ao.readPickle(caseLCC.fileName) "
     ],
     "language": "python",
     "metadata": {},
     "outputs": []
    },
    {
     "cell_type": "code",
     "collapsed": false,
     "input": [
      "s = caseLCC.data['s']\n",
      "s_idx = caseLCC.data['s_idx']\n",
      "idx = s_idx.index(\"Ca_SR\")\n",
      "\n",
      "maxLCC_CaSR = np.amax(s[200e3:205e3,idx])\n",
      "print maxLCC_CaSR\n",
      "minLCC_CaSR = np.amin(s[200e3:205e3,idx])\n",
      "print minLCC_CaSR\n",
      "diffLCC_CaSR=maxLCC_CaSR-minLCC_CaSR\n",
      "print diffLCC_CaSR"
     ],
     "language": "python",
     "metadata": {},
     "outputs": []
    },
    {
     "cell_type": "code",
     "collapsed": false,
     "input": [
      "root=\"/net/share/shared/papers/despa/\"\n",
      "states = [\"Cai\",\"V\",\"Ca_SR\",\"Nai\"]\n",
      "for i,state in enumerate(states):\n",
      "        ao.PlotPickleData(caseExtended1Hz.data,data2=caseLCC.data,idxName=state, \n",
      "                          ylabel=state,trange=[20e3,20.9e3],\n",
      "                          case1legend=\"Baseline\",\n",
      "                          case2legend=\"+LCC\")\n",
      "        plt.legend(bbox_to_anchor=(3.2,1.0),fancybox=True, shadow=True)\n",
      "        plt.tight_layout()\n",
      "        #plt.gcf().savefig(root+\"baseline_vs_IncrPCa_\"+\"_%s\"%state+\".png\")\n",
      "        outFile=\"/net/share/cesc235/pkh-lab-papers/150817_despa/figs/mouse/LCC_%s.png\"%i\n",
      "        plt.gcf().savefig(outFile,bbox_extra_Artists=(),bbox_inches='tight',dpi=300)        \n",
      "     #   print caseExtended1Hz.data"
     ],
     "language": "python",
     "metadata": {},
     "outputs": []
    },
    {
     "cell_type": "heading",
     "level": 2,
     "metadata": {},
     "source": [
      "Increase NCX"
     ]
    },
    {
     "cell_type": "code",
     "collapsed": false,
     "input": [
      "caseNCX = empty()\n",
      "caseNCX.caseName = \"mouse_ncx1p25x_freq1p0_60\" \n",
      "caseNCX.fileName = caseNCX.caseName+\".pickle\"\n",
      "caseNCX.data = ao.readPickle(caseNCX.fileName) "
     ],
     "language": "python",
     "metadata": {},
     "outputs": []
    },
    {
     "cell_type": "code",
     "collapsed": false,
     "input": [
      "root=\"/net/share/shared/papers/despa/\"\n",
      "states = [\"Cai\",\"V\",\"Ca_SR\",\"Nai\"]\n",
      "for i,state in enumerate(states):\n",
      "        ao.PlotPickleData(caseExtended1Hz.data,data2=caseNCX.data,idxName=state, \n",
      "                          ylabel=state,trange=[20e3,20.9e3],\n",
      "                          case1legend=\"Baseline\",\n",
      "                          case2legend=\"+NCX\")\n",
      "        plt.legend(bbox_to_anchor=(3.2,1.0),fancybox=True, shadow=True)\n",
      "        plt.tight_layout()\n",
      "        outFile=\"/net/share/cesc235/pkh-lab-papers/150817_despa/figs/mouse/NCX_%s.png\"%state\n",
      "        plt.gcf().savefig(outFile,bbox_extra_Artists=(),bbox_inches='tight',dpi=300) \n"
     ],
     "language": "python",
     "metadata": {},
     "outputs": []
    },
    {
     "cell_type": "heading",
     "level": 2,
     "metadata": {},
     "source": [
      "Plot diff_CaSR"
     ]
    },
    {
     "cell_type": "code",
     "collapsed": false,
     "input": [
      "names=['Baseline','+Amylin','+HIP','UCD']\n",
      "\n",
      "diff_CaSR=np.array([diffBaseline_CaSR, diffAmylin_CaSR, diffHIP_CaSR, diffUCD_CaSR])\n",
      "print diff_CaSR\n",
      "\n",
      "min_CaSR=np.array([minBaseline_CaSR, minAmylin_CaSR, minHIP_CaSR, minUCD_CaSR])\n",
      "print min_CaSR\n",
      "\n",
      "print (diffAmylin_CaSR-diffBaseline_CaSR)/diffBaseline_CaSR\n",
      "print (diffUCD_CaSR-diffBaseline_CaSR)/diffBaseline_CaSR\n",
      "print (diffHIP_CaSR-diffBaseline_CaSR)/diffBaseline_CaSR\n",
      "\n",
      "print (minAmylin_CaSR-minBaseline_CaSR)/minBaseline_CaSR\n",
      "print (minUCD_CaSR-minBaseline_CaSR)/minBaseline_CaSR\n",
      "print (minHIP_CaSR-minBaseline_CaSR)/minBaseline_CaSR"
     ],
     "language": "python",
     "metadata": {},
     "outputs": []
    },
    {
     "cell_type": "code",
     "collapsed": false,
     "input": [
      "N = 1.\n",
      "\n",
      "ind = np.arange(N)  # the x locations for the groups\n",
      "width = 0.15  \n",
      "width = 0.3\n",
      "\n",
      "class empty:pass\n",
      "baseline=empty()\n",
      "baseline.names = names[::4]\n",
      "baseline.diff = diff_CaSR[::4]\n",
      "baseline.minima = min_CaSR[::4]\n",
      "\n",
      "amylin=empty()\n",
      "amylin.names = names[1::4]\n",
      "amylin.diff = diff_CaSR[1::4]\n",
      "amylin.minima = min_CaSR[1::4]\n",
      "\n",
      "hip=empty()\n",
      "hip.names = names[2::4]\n",
      "hip.diff = diff_CaSR[2::4]\n",
      "hip.minima = min_CaSR[2::4]\n",
      "\n",
      "ucd=empty()\n",
      "ucd.names = names[3::4]\n",
      "ucd.diff = diff_CaSR[3::4]\n",
      "ucd.minima = min_CaSR[3::4]"
     ],
     "language": "python",
     "metadata": {},
     "outputs": []
    },
    {
     "cell_type": "code",
     "collapsed": false,
     "input": [
      "#fig, ax = plt.subplots(dpi=300,figsize=(15,6))\n",
      "fig, ax = plt.subplots(dpi=600)\n",
      "rects1a = ax.bar(ind, baseline.minima, width, color='b')\n",
      "rects1b = ax.bar(ind, baseline.diff, width, color='r',bottom=baseline.minima)\n",
      "rects2a = ax.bar(ind+width+0.2, amylin.minima, width, color='b')\n",
      "rects2b = ax.bar(ind+width+0.2, amylin.diff, width, color='r',bottom=amylin.minima)\n",
      "rects3a = ax.bar(ind+2*width+0.4, hip.minima, width, color='b')\n",
      "rects3b = ax.bar(ind+2*width+0.4, hip.diff, width, color='r',bottom=hip.minima)\n",
      "rects4a = ax.bar(ind+3*width+0.6, ucd.minima, width, color='b')\n",
      "rects4b = ax.bar(ind+3*width+0.6, ucd.diff, width, color='r',bottom=ucd.minima)\n",
      "#plt.plot((0.95, 0.95), (0, -620), 'k--')\n",
      "         \n",
      "ax.set_ylabel('Ca_SR [mM]',fontsize=20,weight=\"bold\")\n",
      "ax.legend( (rects1a[0],rects1b[0]),('$\\Delta$ Ca_SR','Sytosolic Ca2+'),loc=5, fontsize=14) \n",
      "\n",
      "ax.set_xticks([ind,ind+width+0.2,ind+2*width+0.5,ind+3*width+0.7])\n",
      "#ax.set_xticklabels( ('Baseline', 'SL Leak', '-SERCA/+Leak', '+LCC'), rotation=45,weight=\"bold\" ,fontsize=12)\n",
      "ax.set_xticklabels( ('Baseline', 'Amylin Incubation', '+HIP', '+UCD'), rotation=45,weight=\"bold\" ,fontsize=12)\n",
      "ax.set_ylim([0.25,0.65])\n",
      "plt.tight_layout()\n",
      "outFile=\"/net/share/cesc235/pkh-lab-papers/150817_despa/figs/mouse/CaSR_state.png\"\n",
      "plt.gcf().savefig(outFile,bbox_extra_Artists=(),bbox_inches='tight',dpi=300)\n",
      "#plt.gcf().savefig(\"/net/share/cesc235/pkh-lab-papers/150817_despa/figs/CaSR_MinMax.png\")"
     ],
     "language": "python",
     "metadata": {},
     "outputs": []
    },
    {
     "cell_type": "code",
     "collapsed": false,
     "input": [
      "max_y=np.array([maxBaseline_CaSR, max1p125_CaSR, max1p25_CaSR, max1p375_CaSR, max1p5_CaSR, max1p625_CaSR, max1p75_CaSR])\n",
      "min_y=np.array([minBaseline_CaSR, min1p125_CaSR, min1p25_CaSR, min1p375_CaSR, min1p5_CaSR, min1p625_CaSR, min1p75_CaSR])\n",
      "diff_y=np.array([diffBaseline_CaSR, diff1p125_CaSR, diff1p25_CaSR, diff1p375_CaSR, diff1p5_CaSR, diff1p625_CaSR, diff1p75_CaSR])\n",
      "leak=np.linspace(1.0, 1.75, 7)\n",
      "print leak"
     ],
     "language": "python",
     "metadata": {},
     "outputs": []
    },
    {
     "cell_type": "code",
     "collapsed": false,
     "input": [
      "font = {'weight' : 'bold',\n",
      "        'size'   : 10}\n",
      "matplotlib.rc('font', **font)\n"
     ],
     "language": "python",
     "metadata": {},
     "outputs": []
    },
    {
     "cell_type": "code",
     "collapsed": false,
     "input": [
      "print diff_y[2], diffAmylin_CaSR, diffUCD_CaSR"
     ],
     "language": "python",
     "metadata": {},
     "outputs": []
    },
    {
     "cell_type": "code",
     "collapsed": false,
     "input": [
      "ax1 = plt.subplot(1,1,1)\n",
      "ax1.plot(leak,min_y,'m',label='Minima')\n",
      "ax1.plot(leak,max_y,'c',label='Maxima')\n",
      "#ax1.legend(bbox_to_anchor=(1.75,1.0),fancybox=True, shadow=True)\n",
      "ax1.legend(loc=2)\n",
      "\n",
      "ax2 = ax1.twinx()\n",
      "\n",
      "\n",
      "ax2.plot(leak[0],diff_y[0],'ks',ms=10,label='Baseline')\n",
      "#ax2.legend(loc=3)\n",
      "\n",
      "ax2.plot(leak[2],diffAmylin_CaSR,'bs',ms=10,label='+Amy')\n",
      "#ax2.legend(loc=3)\n",
      "\n",
      "ax2.plot(leak[2],diffHIP_CaSR,'rs',ms=10,label='+HIP')\n",
      "#ax2.legend(loc=3)\n",
      "\n",
      "ax2.plot(leak[0],diffUCD_CaSR,'gs',ms=10,label='UCD')\n",
      "#ax2.legend(loc=3)\n",
      "\n",
      "ax2.plot(leak,diff_y,'yo',label='$\\Delta$(Ca_SR)')\n",
      "ax2.legend(loc=5)\n",
      "#ax2.legend(bbox_to_anchor=(1.9,0.75),fancybox=True, shadow=True)\n",
      "\n",
      "ax1.set_xlim([0.75,2.0])\n",
      "ax1.set_ylim([0.2,0.85])\n",
      "ax2.set_ylim([0.2,0.45])\n",
      "ax1.set_ylabel(\"Ca_SR [mM]\",fontsize=16,weight=\"bold\")\n",
      "ax1.set_xlabel(\"Ca2+ Leak Rate\",fontsize=16,weight=\"bold\")\n",
      "#ax1.set_title(\"Ca_SR\")\n",
      "ax2.set_ylabel(\"$\\Delta$(Ca_SR) [mM]\",fontsize=16,weight=\"bold\")\n",
      "\n",
      "outFile='/net/share/cesc235/pkh-lab-papers/150817_despa/figs/mouse/diff_CaSRConc.png'\n",
      "plt.tight_layout()\n",
      "plt.gcf().savefig(outFile,bbox_extra_Artists=(),bbox_inches='tight',dpi=300)"
     ],
     "language": "python",
     "metadata": {},
     "outputs": []
    },
    {
     "cell_type": "heading",
     "level": 2,
     "metadata": {},
     "source": [
      "Plot 4 Data"
     ]
    },
    {
     "cell_type": "code",
     "collapsed": false,
     "input": [
      "def Plot4PickleData(data1,data2=None,data3=None,data4=None,idxName=\"V\",ylabel=\"V (mV)\",trange=None,\n",
      "    case1legend = None, case2legend=None, case3legend=None, case4legend=None,\n",
      "    ):\n",
      "\n",
      "  #  idx1=runner.model.state_indices(idxName)     \n",
      "  # fluxes\n",
      "  ms_to_s = 1e-3\n",
      "  mM_to_uM = 1e-3\n",
      "  class empty:pass\n",
      "\n",
      "  def mycont(data):\n",
      "    datac = empty()\n",
      "    datac.t = data['t'] * ms_to_s\n",
      "    datac.s = data['s'] #/ mM_to_uM\n",
      "    datac.s_idx = data['s_idx']\n",
      "    datac.j = data['j']\n",
      "    datac.j_idx = data['j_idx']\n",
      "\n",
      "    if idxName in datac.j_idx:\n",
      "      datac.v = datac.j\n",
      "      datac.v_idx = datac.j_idx\n",
      "    # states \n",
      "    elif idxName in datac.s_idx:\n",
      "      datac.v = datac.s\n",
      "      datac.v_idx = datac.s_idx\n",
      "    else:\n",
      "      print idxName, \" not found\"\n",
      "      datac.v =None\n",
      "\n",
      "    return datac\n",
      "\n",
      "  datac1 = mycont(data1)\n",
      "  if data2!=None:\n",
      "    datac2 = mycont(data2)\n",
      "  if data3!=None:\n",
      "    datac3 = mycont(data3)\n",
      "  if data4!=None:\n",
      "    datac4 = mycont(data4)\n",
      "\n",
      "\n",
      "  fig = plt.figure()\n",
      "\n",
      "  if trange==None:\n",
      "    fig.add_subplot(111)\n",
      "\n",
      "  else:\n",
      "    trange = np.asarray(trange)\n",
      "    plt.subplot(1,2,2)\n",
      "    if datac1.v !=None:\n",
      "      idx1 = datac1.v_idx.index(idxName)\n",
      "      plt.plot(datac1.t,datac1.v[:,idx1],'k',label=case1legend)\n",
      "    if data2!=None and datac2.v !=None:\n",
      "      idx2 = datac2.v_idx.index(idxName)\n",
      "      plt.plot(datac2.t,datac2.v[:,idx2],'r',label=case2legend)\n",
      "    if data3!=None and datac3.v !=None:\n",
      "      idx3 = datac3.v_idx.index(idxName)\n",
      "      plt.plot(datac3.t,datac3.v[:,idx3],'b',label=case3legend)\n",
      "    if data4!=None and datac4.v !=None:\n",
      "      idx4 = datac4.v_idx.index(idxName)\n",
      "    plt.plot(datac4.t,datac4.v[:,idx4],'g',label=case4legend)\n",
      "    plt.xlim(trange*ms_to_s)\n",
      "    pyplot.locator_params(nbins=5)\n",
      "    plt.legend(loc=0)\n",
      "#    plt.ylim(30,34)\n",
      "#    plt.ylim(0.0,0.16)\n",
      "#    plt.subplot(1,2,1)\n",
      "\n",
      "#  if datac1.v !=None:\n",
      "#    idx1 = datac1.v_idx.index(idxName)\n",
      "#    plt.plot(datac1.t,datac1.v[:,idx1],'k',label=case1legend)\n",
      "#  if data2!=None and datac2.v !=None:\n",
      "#    idx2 = datac2.v_idx.index(idxName)\n",
      "#    plt.plot(datac2.t,datac2.v[:,idx2],'r',label=case2legend)\n",
      "#  if data3!=None and datac3.v !=None:\n",
      "#    idx3 = datac3.v_idx.index(idxName)\n",
      "#    plt.plot(datac3.t,datac3.v[:,idx3],'b',label=case3legend)\n",
      "  plt.xlabel('time [s]', weight=\"bold\",fontsize=14)\n",
      "  plt.ylabel(ylabel+\" (V)\", weight=\"bold\",fontsize=14)\n",
      "#  plt.legend(loc=3)\n",
      "  plt.tight_layout()"
     ],
     "language": "python",
     "metadata": {},
     "outputs": []
    },
    {
     "cell_type": "code",
     "collapsed": false,
     "input": [
      "\n",
      "root=\"/net/share/shared/papers/despa/\"\n",
      "states = [\"i_Cab\",\"i_NaCa\"]\n",
      "for i,state in enumerate(states):\n",
      "        Plot4PickleData(caseExtended1Hz.data,data2=caseHIP.data,data3=caseAmylin1p25.data,data4=caseSERCA0p5.data,\\\n",
      "                        idxName=state, \n",
      "                          ylabel=state,trange=[20.0e3,20.8e3],\n",
      "                          case1legend=\"Baseline\",\n",
      "                          case2legend=\"+HIP\",\n",
      "                          case3legend=\"+Amylin\",\n",
      "                          case4legend=\"UCD\")\n",
      "       # plt.legend(bbox_to_anchor=(1.2,1.0),fancybox=True, shadow=True)\n",
      "        plt.tight_layout()\n",
      "        outFile=\"/net/share/shared/papers/despa/comp_%s.png\"%state\n",
      "        plt.gcf().savefig(outFile,bbox_extra_Artists=(),bbox_inches='tight',dpi=300)"
     ],
     "language": "python",
     "metadata": {},
     "outputs": []
    },
    {
     "cell_type": "code",
     "collapsed": false,
     "input": [
      "\n",
      "root=\"/net/share/shared/papers/despa/\"\n",
      "states = [\"Cai\",\"Ca_SR\"]\n",
      "for i,state in enumerate(states):\n",
      "        Plot4PickleData(caseExtended1Hz.data,data2=caseHIP.data,data3=caseAmylin1p25.data,data4=caseSERCA0p5.data,\n",
      "                          idxName=state, \n",
      "                          ylabel=state,trange=[20.0e3,20.8e3],\n",
      "                          case1legend=\"Baseline\",\n",
      "                          case2legend=\"+HIP\",\n",
      "                          case3legend=\"+Amylin\",\n",
      "                          case4legend=\"UCD\")\n",
      "       # plt.legend(bbox_to_anchor=(1.5,1.0),fancybox=True, shadow=True)\n",
      "        plt.tight_layout()\n",
      "        outFile=\"/net/share/shared/papers/despa/compare_%s.png\"%state\n",
      "        plt.gcf().savefig(outFile,bbox_extra_Artists=(),bbox_inches='tight',dpi=300)"
     ],
     "language": "python",
     "metadata": {},
     "outputs": []
    },
    {
     "cell_type": "code",
     "collapsed": false,
     "input": [
      "root=\"/net/share/shared/papers/despa/\"\n",
      "states = [\"j_rel_SR\"]\n",
      "for i,state in enumerate(states):\n",
      "        Plot4PickleData(caseExtended1Hz.data,data2=caseHIP.data,data3=caseAmylin1p25.data,data4=caseSERCA0p5.data,\\\n",
      "                        idxName=state, \n",
      "                          ylabel=state,trange=[20.10e3,20.15e3],\n",
      "                          case1legend=\"Baseline\",\n",
      "                          case2legend=\"+HIP\",\n",
      "                          case3legend=\"+Amylin\",\n",
      "                          case4legend=\"UCD\")\n",
      "       # plt.legend(bbox_to_anchor=(1.2,1.0),fancybox=True, shadow=True)\n",
      "        plt.tight_layout()\n",
      "        outFile=\"/net/share/shared/papers/despa/comp_%s.png\"%state\n",
      "        plt.gcf().savefig(outFile,bbox_extra_Artists=(),bbox_inches='tight',dpi=300)"
     ],
     "language": "python",
     "metadata": {},
     "outputs": []
    },
    {
     "cell_type": "code",
     "collapsed": false,
     "input": [
      "root=\"/net/share/shared/papers/despa/\"\n",
      "states = [\"V\"]\n",
      "for i,state in enumerate(states):\n",
      "        Plot4PickleData(caseExtended1Hz.data,data2=caseHIP.data,data3=caseAmylin1p25.data,data4=caseSERCA0p5.data,\\\n",
      "                        idxName=state, \n",
      "                          ylabel=state,trange=[20.10e3,20.15e3],\n",
      "                          case1legend=\"Baseline\",\n",
      "                          case2legend=\"+HIP\",\n",
      "                          case3legend=\"+Amylin\",\n",
      "                          case4legend=\"UCD\")\n",
      "       # plt.legend(bbox_to_anchor=(1.2,1.0),fancybox=True, shadow=True)\n",
      "        plt.tight_layout()\n",
      "        outFile=\"/net/share/shared/papers/despa/comp_%s.png\"%state\n",
      "        plt.gcf().savefig(outFile,bbox_extra_Artists=(),bbox_inches='tight',dpi=300)"
     ],
     "language": "python",
     "metadata": {},
     "outputs": []
    },
    {
     "cell_type": "heading",
     "level": 2,
     "metadata": {},
     "source": [
      "Computational"
     ]
    },
    {
     "cell_type": "code",
     "collapsed": false,
     "input": [
      "case0p5Hz = empty()\n",
      "case0p5Hz.caseName = \"mouse_freq0p5_60\" \n",
      "case0p5Hz.fileName = case0p5Hz.caseName+\".pickle\"\n",
      "case0p5Hz.data = ao.readPickle(case0p5Hz.fileName) "
     ],
     "language": "python",
     "metadata": {},
     "outputs": []
    },
    {
     "cell_type": "code",
     "collapsed": false,
     "input": [
      "s = case0p5Hz.data['s']\n",
      "s_idx = case0p5Hz.data['s_idx']\n",
      "idx = s_idx.index(\"Cai\")\n",
      "\n",
      "max0p5_Cai = np.amax(s[200e3:205e3,idx])\n",
      "print max0p5_Cai\n",
      "min0p5_Cai = np.amin(s[200e3:205e3,idx])\n",
      "print min0p5_Cai\n",
      "diff0p5_Cai=max0p5_Cai-min0p5_Cai\n",
      "print diff0p5_Cai"
     ],
     "language": "python",
     "metadata": {},
     "outputs": []
    },
    {
     "cell_type": "code",
     "collapsed": false,
     "input": [
      "root=\"/net/share/shared/papers/despa/\"\n",
      "states = [\"Cai\"]\n",
      "for i,state in enumerate(states):\n",
      "        ao.PlotPickleData(caseExtended1Hz.data,data2=case0p5Hz.data,idxName=state, \n",
      "                          ylabel=state,trange=[20e3,20.5e3],\n",
      "                          case1legend=caseExtended1Hz.caseName,\n",
      "                          case2legend=case0p5Hz.caseName)\n",
      "                \n",
      "        plt.tight_layout()    \n",
      " #       outFile=\"/net/share/cesc235/pkh-lab-papers/150817_despa/figs/mouse/Baseline0p5__%s.png\"%state\n",
      " #       plt.gcf().savefig(outFile,bbox_extra_Artists=(),bbox_inches='tight',dpi=300)"
     ],
     "language": "python",
     "metadata": {},
     "outputs": []
    },
    {
     "cell_type": "code",
     "collapsed": false,
     "input": [
      "root=\"/home/AD/cesc235/wholecell_new3/asdf/wholecell/\"\n",
      "caseHIP_0p5Hz = empty()\n",
      "caseHIP_0p5Hz.caseName = root+\"mouse_decrSERCAuptake0p50_leak1p25x_freq0p5_60\" \n",
      "caseHIP_0p5Hz.fileName = caseHIP_0p5Hz.caseName+\".pickle\"\n",
      "caseHIP_0p5Hz.data = ao.readPickle(caseHIP_0p5Hz.fileName) "
     ],
     "language": "python",
     "metadata": {},
     "outputs": []
    },
    {
     "cell_type": "code",
     "collapsed": false,
     "input": [
      "s = caseHIP_0p5Hz.data['s']\n",
      "s_idx = caseHIP_0p5Hz.data['s_idx']\n",
      "idx = s_idx.index(\"Cai\")\n",
      "\n",
      "maxHIP_0p5Hz_Cai = np.amax(s[200e3:205e3,idx])\n",
      "print maxHIP_0p5Hz_Cai\n",
      "minHIP_0p5Hz_Cai = np.amin(s[200e3:205e3,idx])\n",
      "print minHIP_0p5Hz_Cai\n",
      "diffHIP_0p5Hz_Cai=maxHIP_0p5Hz_Cai-minHIP_0p5Hz_Cai\n",
      "print diffHIP_0p5Hz_Cai"
     ],
     "language": "python",
     "metadata": {},
     "outputs": []
    },
    {
     "cell_type": "code",
     "collapsed": false,
     "input": [
      "case2p0Hz = empty()\n",
      "case2p0Hz.caseName = \"mouse_freq2p0_60\" \n",
      "case2p0Hz.fileName = case2p0Hz.caseName+\".pickle\"\n",
      "case2p0Hz.data = ao.readPickle(case2p0Hz.fileName) "
     ],
     "language": "python",
     "metadata": {},
     "outputs": []
    },
    {
     "cell_type": "code",
     "collapsed": false,
     "input": [
      "s = case2p0Hz.data['s']\n",
      "s_idx = case2p0Hz.data['s_idx']\n",
      "idx = s_idx.index(\"Cai\")\n",
      "\n",
      "max2p0Hz_Cai = np.amax(s[200e3:205e3,idx])\n",
      "print max2p0Hz_Cai\n",
      "min2p0Hz_Cai = np.amin(s[200e3:205e3,idx])\n",
      "print min2p0Hz_Cai\n",
      "diff2p0Hz_Cai=max2p0Hz_Cai-min2p0Hz_Cai\n",
      "print diff2p0Hz_Cai"
     ],
     "language": "python",
     "metadata": {},
     "outputs": []
    },
    {
     "cell_type": "code",
     "collapsed": false,
     "input": [
      "root=\"/home/AD/cesc235/wholecell_new3/asdf/wholecell/\"\n",
      "caseHIP_2p0Hz = empty()\n",
      "caseHIP_2p0Hz.caseName = root+\"mouse_decrSERCAuptake0p50_leak1p25x_freq2p0_60\" \n",
      "caseHIP_2p0Hz.fileName = caseHIP_2p0Hz.caseName+\".pickle\"\n",
      "caseHIP_2p0Hz.data = ao.readPickle(caseHIP_2p0Hz.fileName) "
     ],
     "language": "python",
     "metadata": {},
     "outputs": []
    },
    {
     "cell_type": "code",
     "collapsed": false,
     "input": [
      "s = caseHIP_2p0Hz.data['s']\n",
      "s_idx = caseHIP_2p0Hz.data['s_idx']\n",
      "idx = s_idx.index(\"Cai\")\n",
      "\n",
      "maxHIP_2p0Hz_Cai = np.amax(s[200e3:205e3,idx])\n",
      "print maxHIP_2p0Hz_Cai\n",
      "minHIP_2p0Hz_Cai = np.amin(s[200e3:205e3,idx])\n",
      "print minHIP_2p0Hz_Cai\n",
      "diffHIP_2p0Hz_Cai=maxHIP_2p0Hz_Cai-minHIP_2p0Hz_Cai\n",
      "print diffHIP_2p0Hz_Cai"
     ],
     "language": "python",
     "metadata": {},
     "outputs": []
    },
    {
     "cell_type": "heading",
     "level": 2,
     "metadata": {},
     "source": [
      "Experimental"
     ]
    },
    {
     "cell_type": "heading",
     "level": 2,
     "metadata": {},
     "source": [
      "Control"
     ]
    },
    {
     "cell_type": "code",
     "collapsed": false,
     "input": [
      "data = np.loadtxt(\"/home/AD/cesc235/wholecell_new3/asdf/wholecell/dogsanfcats.txt\",skiprows=1)"
     ],
     "language": "python",
     "metadata": {},
     "outputs": []
    },
    {
     "cell_type": "heading",
     "level": 2,
     "metadata": {},
     "source": [
      "0.5 Hz"
     ]
    },
    {
     "cell_type": "code",
     "collapsed": false,
     "input": [
      "plt.plot(data[:,0],data[:,1],'k.-')\n",
      "t_ctl_0p5Hz=data[:,0]\n",
      "ctl_0p5Hz=data[:,1]\n",
      "print t_ctl_0p5Hz[0]\n",
      "\n",
      "print np.shape(ctl_0p5Hz)"
     ],
     "language": "python",
     "metadata": {},
     "outputs": []
    },
    {
     "cell_type": "code",
     "collapsed": false,
     "input": [
      "minCtl_Cai_exp = np.amin(ctl_0p5Hz)\n",
      "print minCtl_Cai_exp\n"
     ],
     "language": "python",
     "metadata": {},
     "outputs": []
    },
    {
     "cell_type": "code",
     "collapsed": false,
     "input": [
      "###Experimental\n",
      "\n",
      "Ctl_Cai_shift =  ctl_0p5Hz -  minCtl_Cai_exp\n",
      "maxCtl_Cai_exp = np.amax(Ctl_Cai_shift)\n",
      "print maxCtl_Cai_exp\n",
      "Ctl_Cai_shift/=maxCtl_Cai_exp\n",
      "plt.plot(t_ctl_0p5Hz,Ctl_Cai_shift,'r.-')\n",
      "#plt.plot(caseExtended1Hz.t,caseExtended1Hz.v[:,idx1],'k')\n",
      "\n",
      "#HIP_Cai_shift =  hip_0p5Hz - minHIP_Cai \n",
      "#HIP_Cai_shift/=maxHIP_Cai_exp\n",
      "#plt.plot(HIP_Cai_shift,'r.-')"
     ],
     "language": "python",
     "metadata": {},
     "outputs": []
    },
    {
     "cell_type": "code",
     "collapsed": false,
     "input": [
      "###Simulation\n",
      "s = case0p5Hz.data['s']\n",
      "s_idx = case0p5Hz.data['s_idx']\n",
      "idx = s_idx.index(\"Cai\")\n",
      "t = case0p5Hz.data['t']\n",
      "\n",
      "min0p5Hz_Cai = np.amin(s[200e3:210e3,idx])\n",
      "print min0p5Hz_Cai\n",
      "\n",
      "Comp_Cai_shift = s[200e3:210e3,idx] - min0p5Hz_Cai\n",
      "print Comp_Cai_shift\n",
      "maxComp_Cai_shift = np.amax(Comp_Cai_shift)\n",
      "Comp_Cai_shift/=maxComp_Cai_shift\n",
      "print Comp_Cai_shift\n",
      "\n",
      "ms_to_s = 1e-3\n",
      "time=t[200e3:210e3]*ms_to_s\n",
      "plt.plot(time,Comp_Cai_shift,'r.-')\n"
     ],
     "language": "python",
     "metadata": {},
     "outputs": []
    },
    {
     "cell_type": "code",
     "collapsed": false,
     "input": [
      "t_exp = t_ctl_0p5Hz+19.91-t_ctl_0p5Hz[0]\n",
      "\n",
      "plt.plot(t_exp,Ctl_Cai_shift,'r.-',label = \"Experiment, Despa 2012\")\n",
      "plt.plot(time,Comp_Cai_shift,'k.-', label = \"Computational\")\n",
      "plt.legend()\n",
      "plt.xlabel('Time [s]')\n",
      "plt.ylabel('Normalized Cai')\n",
      "plt.tight_layout()\n",
      "outFile=\"/net/share/cesc235/pkh-lab-papers/150817_despa/figs/mouse/Baseline0p5Hz_normalized.png\"\n",
      "plt.gcf().savefig(outFile,bbox_extra_Artists=(),bbox_inches='tight',dpi=300)"
     ],
     "language": "python",
     "metadata": {},
     "outputs": []
    },
    {
     "cell_type": "heading",
     "level": 2,
     "metadata": {},
     "source": [
      "HIP"
     ]
    },
    {
     "cell_type": "code",
     "collapsed": false,
     "input": [
      "plt.plot(data[:,2],data[:,3],'r.-')\n",
      "t_hip_0p5Hz=data[:,2]\n",
      "hip_0p5Hz=data[:,3]\n",
      "print t_hip_0p5Hz[0]"
     ],
     "language": "python",
     "metadata": {},
     "outputs": []
    },
    {
     "cell_type": "code",
     "collapsed": false,
     "input": [
      "minHIP_Cai_exp = np.amin(hip_0p5Hz)\n",
      "print minHIP_Cai_exp\n"
     ],
     "language": "python",
     "metadata": {},
     "outputs": []
    },
    {
     "cell_type": "code",
     "collapsed": false,
     "input": [
      "maxHIP_Cai_exp = np.amax(hip_0p5Hz)\n",
      "print maxHIP_Cai_exp\n",
      "minHIP_Cai_exp = np.amin(hip_0p5Hz)\n",
      "print minHIP_Cai_exp\n",
      "diffHIP_Cai_exp=maxHIP_Cai_exp-minHIP_Cai_exp\n",
      "print diffHIP_Cai_exp"
     ],
     "language": "python",
     "metadata": {},
     "outputs": []
    },
    {
     "cell_type": "code",
     "collapsed": false,
     "input": [
      "HIP_Cai_shift =  hip_0p5Hz -  minHIP_Cai_exp\n",
      "maxHIP_Cai_exp = np.amax(HIP_Cai_shift)\n",
      "print maxHIP_Cai_exp\n",
      "HIP_Cai_shift/=maxHIP_Cai_exp\n",
      "plt.plot(t_hip_0p5Hz,HIP_Cai_shift,'r.-')"
     ],
     "language": "python",
     "metadata": {},
     "outputs": []
    },
    {
     "cell_type": "code",
     "collapsed": false,
     "input": [
      "###Simulation\n",
      "s = caseHIP_0p5Hz.data['s']\n",
      "s_idx = caseHIP_0p5Hz.data['s_idx']\n",
      "idx = s_idx.index(\"Cai\")\n",
      "t = caseHIP_0p5Hz.data['t']\n",
      "\n",
      "minHIP0p5Hz_Cai = np.amin(s[200e3:210e3,idx])\n",
      "print minHIP0p5Hz_Cai\n",
      "\n",
      "CompHIP_Cai_shift = s[200e3:210e3,idx] - minHIP0p5Hz_Cai\n",
      "print CompHIP_Cai_shift\n",
      "maxCompHIP_Cai_shift = np.amax(CompHIP_Cai_shift)\n",
      "CompHIP_Cai_shift/=maxCompHIP_Cai_shift\n",
      "print CompHIP_Cai_shift\n",
      "\n",
      "time=t[200e3:210e3]*ms_to_s\n",
      "plt.plot(time,CompHIP_Cai_shift,'r.-')"
     ],
     "language": "python",
     "metadata": {},
     "outputs": []
    },
    {
     "cell_type": "code",
     "collapsed": false,
     "input": [
      "t_HIPexp = t_hip_0p5Hz+19.9+t_hip_0p5Hz[0]\n",
      "\n",
      "plt.plot(t_HIPexp,HIP_Cai_shift,'r.-',label = \"Experiment, Despa 2012\")\n",
      "plt.plot(time,CompHIP_Cai_shift,'k.-', label = \"Computational\")\n",
      "plt.legend()\n",
      "plt.xlabel('Time [s]')\n",
      "plt.ylabel('Normalized Cai')\n",
      "plt.tight_layout()\n",
      "outFile=\"/net/share/cesc235/pkh-lab-papers/150817_despa/figs/mouse/HIP0p5Hz_normalized.png\"\n",
      "plt.gcf().savefig(outFile,bbox_extra_Artists=(),bbox_inches='tight',dpi=300)"
     ],
     "language": "python",
     "metadata": {},
     "outputs": []
    },
    {
     "cell_type": "heading",
     "level": 2,
     "metadata": {},
     "source": [
      "2.0 Hz"
     ]
    },
    {
     "cell_type": "heading",
     "level": 2,
     "metadata": {},
     "source": [
      "Baseline"
     ]
    },
    {
     "cell_type": "code",
     "collapsed": false,
     "input": [
      "plt.plot(data[:,4],data[:,5],'b.-')\n",
      "plt.plot(data[:,6],data[:,7],'r.-')"
     ],
     "language": "python",
     "metadata": {},
     "outputs": []
    },
    {
     "cell_type": "code",
     "collapsed": false,
     "input": [
      "minCtl2p0Hz_Cai_exp = np.amin(ctl_2p0Hz)\n",
      "print minCtl2p0Hz_Cai_exp\n",
      "\n",
      "plt.plot(data[:,4],data[:,5],'k.-')\n",
      "t_ctl_2p0Hz=data[:,4]\n",
      "ctl_2p0Hz=data[:,5]\n",
      "print t_ctl_2p0Hz[0]"
     ],
     "language": "python",
     "metadata": {},
     "outputs": []
    },
    {
     "cell_type": "code",
     "collapsed": false,
     "input": [
      "###Experimental\n",
      "\n",
      "Ctl2p0Hz_Cai_shift =  ctl_2p0Hz - minCtl2p0Hz_Cai_exp\n",
      "maxCtl2p0Hz_Cai_exp = np.amax(Ctl2p0Hz_Cai_shift)\n",
      "print maxCtl2p0Hz_Cai_exp\n",
      "Ctl2p0Hz_Cai_shift/=maxCtl2p0Hz_Cai_exp\n",
      "plt.plot(t_ctl_2p0Hz,Ctl2p0Hz_Cai_shift,'r.-')"
     ],
     "language": "python",
     "metadata": {},
     "outputs": []
    },
    {
     "cell_type": "code",
     "collapsed": false,
     "input": [
      "###Simulation\n",
      "s = case2p0Hz.data['s']\n",
      "s_idx = case2p0Hz.data['s_idx']\n",
      "idx = s_idx.index(\"Cai\")\n",
      "t = case2p0Hz.data['t']\n",
      "\n",
      "min2p0Hz_Cai = np.amin(s[200e3:205e3,idx])\n",
      "print min2p0Hz_Cai\n",
      "\n",
      "Comp2p0Hz_Cai_shift = s[200e3:205e3,idx] - min2p0Hz_Cai\n",
      "print Comp2p0Hz_Cai_shift\n",
      "maxComp2p0Hz_Cai_shift = np.amax(Comp2p0Hz_Cai_shift)\n",
      "Comp2p0Hz_Cai_shift/=maxComp2p0Hz_Cai_shift\n",
      "print Comp2p0Hz_Cai_shift\n",
      "\n",
      "time=t[200e3:205e3]*ms_to_s\n",
      "plt.plot(time,Comp2p0Hz_Cai_shift,'r.-')\n"
     ],
     "language": "python",
     "metadata": {},
     "outputs": []
    },
    {
     "cell_type": "code",
     "collapsed": false,
     "input": [
      "t_exp = t_ctl_2p0Hz+20.03+t_ctl_2p0Hz[0]\n",
      "\n",
      "plt.plot(t_exp,Ctl2p0Hz_Cai_shift,'r.-',label = \"Experiment, Despa 2012\")\n",
      "plt.plot(time,Comp2p0Hz_Cai_shift,'k.-', label = \"Computational\")\n",
      "plt.legend()\n",
      "plt.xlabel('Time [s]')\n",
      "plt.ylabel('Normalized Cai')\n",
      "plt.tight_layout()\n",
      "outFile=\"/net/share/cesc235/pkh-lab-papers/150817_despa/figs/mouse/Baseline2p0Hz_normalized.png\"\n",
      "plt.gcf().savefig(outFile,bbox_extra_Artists=(),bbox_inches='tight',dpi=300)"
     ],
     "language": "python",
     "metadata": {},
     "outputs": []
    },
    {
     "cell_type": "heading",
     "level": 2,
     "metadata": {},
     "source": [
      "HIP"
     ]
    },
    {
     "cell_type": "code",
     "collapsed": false,
     "input": [
      "plt.plot(data[:,6],data[:,7],'r.-')\n",
      "t_hip_2p0Hz=data[:,6]\n",
      "hip_2p0Hz=data[:,7]\n",
      "print t_hip_2p0Hz[0]"
     ],
     "language": "python",
     "metadata": {},
     "outputs": []
    },
    {
     "cell_type": "code",
     "collapsed": false,
     "input": [
      "minHIP2p0Hz_Cai_exp = np.amin(hip_2p0Hz)\n",
      "print minHIP2p0Hz_Cai_exp\n"
     ],
     "language": "python",
     "metadata": {},
     "outputs": []
    },
    {
     "cell_type": "code",
     "collapsed": false,
     "input": [
      "maxHIP2p0Hz_Cai_exp = np.amax(hip_2p0Hz)\n",
      "ind_maxHIP2p0Hz_Cai_exp=np.argmax(hip_2p0Hz)\n",
      "print ind_maxHIP2p0Hz_Cai_exp, maxHIP2p0Hz_Cai_exp\n",
      "t_maxHIP2p0Hz_Cai_exp = t_hip_2p0Hz[ind_maxHIP2p0Hz_Cai_exp]\n",
      "print t_maxHIP2p0Hz_Cai_exp\n",
      "minHIP2p0Hz_Cai_exp = np.amin(hip_2p0Hz)\n",
      "print minHIP2p0Hz_Cai_exp\n",
      "diffHIP2p0Hz_Cai_exp=maxHIP2p0Hz_Cai_exp-minHIP2p0Hz_Cai_exp\n",
      "print diffHIP2p0Hz_Cai_exp"
     ],
     "language": "python",
     "metadata": {},
     "outputs": []
    },
    {
     "cell_type": "code",
     "collapsed": false,
     "input": [
      "HIP2p0Hz_Cai_shift =  hip_2p0Hz -  minHIP2p0Hz_Cai_exp\n",
      "maxHIP2p0Hz_Cai_exp = np.amax(HIP2p0Hz_Cai_shift)\n",
      "print maxHIP2p0Hz_Cai_exp\n",
      "HIP2p0Hz_Cai_shift/=maxHIP2p0Hz_Cai_exp\n",
      "plt.plot(t_hip_2p0Hz,HIP2p0Hz_Cai_shift,'r.-')"
     ],
     "language": "python",
     "metadata": {},
     "outputs": []
    },
    {
     "cell_type": "code",
     "collapsed": false,
     "input": [
      "###Simulation\n",
      "s = caseHIP_2p0Hz.data['s']\n",
      "s_idx = caseHIP_2p0Hz.data['s_idx']\n",
      "idx = s_idx.index(\"Cai\")\n",
      "t = caseHIP_2p0Hz.data['t']\n",
      "\n",
      "minHIP2p0Hz_Cai = np.amin(s[200e3:205e3,idx])\n",
      "print minHIP2p0Hz_Cai\n",
      "\n",
      "CompHIP2p0Hz_Cai_shift = s[200e3:205e3,idx] - minHIP2p0Hz_Cai\n",
      "print CompHIP2p0Hz_Cai_shift\n",
      "maxCompHIP2p0Hz_Cai_shift = np.amax(CompHIP2p0Hz_Cai_shift)\n",
      "CompHIP2p0Hz_Cai_shift/=maxCompHIP2p0Hz_Cai_shift\n",
      "print CompHIP2p0Hz_Cai_shift\n",
      "\n",
      "time=t[200e3:205e3]*ms_to_s\n",
      "plt.plot(time,CompHIP2p0Hz_Cai_shift,'r.-')"
     ],
     "language": "python",
     "metadata": {},
     "outputs": []
    },
    {
     "cell_type": "code",
     "collapsed": false,
     "input": [
      "t_HIP2p0Hzexp = t_hip_2p0Hz+20.05+t_hip_2p0Hz[0]\n",
      "\n",
      "plt.plot(t_HIP2p0Hzexp,HIP2p0Hz_Cai_shift,'r.-',label = \"Experiment, Despa 2012\")\n",
      "plt.plot(time,CompHIP2p0Hz_Cai_shift,'k.-', label = \"Computational\")\n",
      "plt.legend()\n",
      "plt.xlabel('Time [s]')\n",
      "plt.ylabel('Normalized Cai')\n",
      "plt.tight_layout()\n",
      "outFile=\"/net/share/cesc235/pkh-lab-papers/150817_despa/figs/mouse/HIP2p0Hz_normalized.png\"\n",
      "plt.gcf().savefig(outFile,bbox_extra_Artists=(),bbox_inches='tight',dpi=300)"
     ],
     "language": "python",
     "metadata": {},
     "outputs": []
    },
    {
     "cell_type": "heading",
     "level": 2,
     "metadata": {},
     "source": [
      "Na leak"
     ]
    },
    {
     "cell_type": "code",
     "collapsed": false,
     "input": [
      "caseNaLeak = empty()\n",
      "caseNaLeak.caseName = \"mouse_NaLeak1p25x_freq1p0_60\" \n",
      "caseNaLeak.fileName = caseNaLeak.caseName+\".pickle\"\n",
      "caseNaLeak.data = ao.readPickle(caseNaLeak.fileName) \n",
      "#cases[case.caseName] = case"
     ],
     "language": "python",
     "metadata": {},
     "outputs": []
    },
    {
     "cell_type": "code",
     "collapsed": false,
     "input": [
      "root=\"/home/AD/cesc235/wholecell_new3/asdf/wholecell/\"\n",
      "caseCaLeak = empty()\n",
      "caseCaLeak.caseName = root+\"mouse_CaLeak1p25x_freq1p0_60\" \n",
      "caseCaLeak.fileName = caseCaLeak.caseName+\".pickle\"\n",
      "caseCaLeak.data = ao.readPickle(caseCaLeak.fileName) \n",
      "#cases[case.caseName] = case"
     ],
     "language": "python",
     "metadata": {},
     "outputs": []
    },
    {
     "cell_type": "code",
     "collapsed": false,
     "input": [
      "def Plot3PickleData(data1,data2=None,data3=None,idxName=\"V\",ylabel=\"V (mV)\",trange=None,\n",
      "    case1legend = None, case2legend=None, case3legend=None, case4legend=None,\n",
      "    ):\n",
      "\n",
      "  #  idx1=runner.model.state_indices(idxName)     \n",
      "  # fluxes\n",
      "  ms_to_s = 1e-3\n",
      "  class empty:pass\n",
      "\n",
      "  def mycont(data):\n",
      "    datac = empty()\n",
      "    datac.t = data['t'] * ms_to_s\n",
      "    datac.s = data['s']\n",
      "    datac.s_idx = data['s_idx']\n",
      "    datac.j = data['j']\n",
      "    datac.j_idx = data['j_idx']\n",
      "\n",
      "    if idxName in datac.j_idx:\n",
      "      datac.v = datac.j\n",
      "      datac.v_idx = datac.j_idx\n",
      "    # states \n",
      "    elif idxName in datac.s_idx:\n",
      "      datac.v = datac.s\n",
      "      datac.v_idx = datac.s_idx\n",
      "    else:\n",
      "      print idxName, \" not found\"\n",
      "      datac.v =None\n",
      "\n",
      "    return datac\n",
      "\n",
      "  datac1 = mycont(data1)\n",
      "  if data2!=None:\n",
      "    datac2 = mycont(data2)\n",
      "  if data3!=None:\n",
      "    datac3 = mycont(data3)\n",
      "\n",
      "  fig = plt.figure()\n",
      "\n",
      "  if trange==None:\n",
      "    fig.add_subplot(111)\n",
      "\n",
      "  else:\n",
      "    trange = np.asarray(trange)\n",
      "    plt.subplot(1,2,2)\n",
      "    if datac1.v !=None:\n",
      "      idx1 = datac1.v_idx.index(idxName)\n",
      "      plt.plot(datac1.t,datac1.v[:,idx1],'k',label=case1legend)\n",
      "    if data2!=None and datac2.v !=None:\n",
      "      idx2 = datac2.v_idx.index(idxName)\n",
      "      plt.plot(datac2.t,datac2.v[:,idx2],'r',label=case2legend)\n",
      "    if data3!=None and datac3.v !=None:\n",
      "      idx3 = datac3.v_idx.index(idxName)\n",
      "      plt.plot(datac3.t,datac3.v[:,idx3],'b',label=case3legend)\n",
      "\n",
      "    plt.xlim(trange*ms_to_s)\n",
      "\n",
      "#    plt.subplot(1,2,1)\n",
      "\n",
      "#  if datac1.v !=None:\n",
      "#    idx1 = datac1.v_idx.index(idxName)\n",
      "#    plt.plot(datac1.t,datac1.v[:,idx1],'k',label=case1legend)\n",
      "#  if data2!=None and datac2.v !=None:\n",
      "#    idx2 = datac2.v_idx.index(idxName)\n",
      "#    plt.plot(datac2.t,datac2.v[:,idx2],'r',label=case2legend)\n",
      "#  if data3!=None and datac3.v !=None:\n",
      "#    idx3 = datac3.v_idx.index(idxName)\n",
      "#    plt.plot(datac3.t,datac3.v[:,idx3],'b',label=case3legend)\n",
      "\n",
      "  plt.xlabel('time [s]')\n",
      "  plt.ylabel(ylabel)\n",
      "  plt.legend(loc=3)\n",
      "  plt.tight_layout()"
     ],
     "language": "python",
     "metadata": {},
     "outputs": []
    },
    {
     "cell_type": "code",
     "collapsed": false,
     "input": [
      "\n",
      "root=\"/net/share/shared/papers/despa/\"\n",
      "states = [\"Nai\"]\n",
      "for i,state in enumerate(states):\n",
      "        Plot4PickleData(caseExtended1Hz.data,data2=caseAmylin1p25.data,data3=caseNaLeak.data,data4=caseCaLeak.data,\n",
      "                          idxName=state, \n",
      "                          ylabel=state,trange=[20.0e3,20.75e3],\n",
      "                          case1legend=\"Baseline\",\n",
      "                          case2legend=\"+Amylin\",\n",
      "                          case3legend=\"+Na\",\n",
      "                          case4legend=\"+Ca\")\n",
      "        plt.legend(bbox_to_anchor=(1.5,1.0),fancybox=True, shadow=True)\n",
      "        plt.tight_layout()\n",
      "        outFile=\"/net/share/shared/papers/despa/leak_%s.png\"%state\n",
      "        plt.gcf().savefig(outFile,bbox_extra_Artists=(),bbox_inches='tight',dpi=300)"
     ],
     "language": "python",
     "metadata": {},
     "outputs": []
    },
    {
     "cell_type": "code",
     "collapsed": false,
     "input": [],
     "language": "python",
     "metadata": {},
     "outputs": []
    }
   ],
   "metadata": {}
  }
 ]
}