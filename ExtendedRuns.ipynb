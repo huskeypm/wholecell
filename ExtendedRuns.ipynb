{
 "metadata": {
  "name": "",
  "signature": "sha256:f2cb82cd6af79298b950cf76b9777e97cd8075031c75b11ed663d22ec17f17c8"
 },
 "nbformat": 3,
 "nbformat_minor": 0,
 "worksheets": [
  {
   "cells": [
    {
     "cell_type": "code",
     "collapsed": false,
     "input": [
      "%load_ext autoreload\n",
      "%autoreload 2"
     ],
     "language": "python",
     "metadata": {},
     "outputs": [],
     "prompt_number": 1
    },
    {
     "cell_type": "markdown",
     "metadata": {},
     "source": [
      "### Extended runs \n",
      "Here we will 'daisy-chain' the simulations "
     ]
    },
    {
     "cell_type": "code",
     "collapsed": false,
     "input": [
      "import gotranJIT\n",
      "from gotran.model.loadmodel import load_ode"
     ],
     "language": "python",
     "metadata": {},
     "outputs": [],
     "prompt_number": 43
    },
    {
     "cell_type": "markdown",
     "metadata": {},
     "source": [
      "#### Print all states/values"
     ]
    },
    {
     "cell_type": "code",
     "collapsed": false,
     "input": [
      "import gotranUtil as gU\n",
      "gU.PrintStates()\n",
      "gU.PrintParams()"
     ],
     "language": "python",
     "metadata": {},
     "outputs": [
      {
       "output_type": "stream",
       "stream": "stdout",
       "text": [
        "Loaded ODE model 'shannon_2004' with:\n"
       ]
      },
      {
       "output_type": "stream",
       "stream": "stderr",
       "text": [
        "INFO:ModelParameters:Loaded ODE model 'shannon_2004' with:\n"
       ]
      },
      {
       "output_type": "stream",
       "stream": "stdout",
       "text": [
        "     Num full states: 39\n"
       ]
      },
      {
       "output_type": "stream",
       "stream": "stderr",
       "text": [
        "INFO:ModelParameters:     Num full states: 39\n"
       ]
      },
      {
       "output_type": "stream",
       "stream": "stdout",
       "text": [
        "      Num parameters: 124\n"
       ]
      },
      {
       "output_type": "stream",
       "stream": "stderr",
       "text": [
        "INFO:ModelParameters:      Num parameters: 124\n"
       ]
      },
      {
       "output_type": "stream",
       "stream": "stdout",
       "text": [
        "h 0.9867005\n",
        "j 0.991562\n",
        "m 0.001405627\n",
        "Xr 0.008641386\n",
        "Xs 0.005412034\n",
        "X_tos 0.004051574\n",
        "Y_tos 0.9945511\n",
        "R_tos 0.9946\n",
        "X_tof 0.004051574\n",
        "Y_tof 0.9945511\n",
        "d 7.175662e-06\n",
        "f 1.000681\n",
        "fCaB_SL 0.01452605\n",
        "fCaB_jct1 0.02421991\n",
        "R 0.8884332\n",
        "O 8.156628e-07\n",
        "I 1.024274e-07\n",
        "Ca_TroponinC 0.008773191\n",
        "Ca_TroponinC_Ca_Mg 0.1078283\n",
        "Mg_TroponinC_Ca_Mg 0.01524002\n",
        "Ca_Calmodulin 0.0002911916\n",
        "Ca_Myosin 0.001298754\n",
        "Mg_Myosin 0.1381982\n",
        "Ca_SRB 0.002143165\n",
        "Na_jct1_buf 3.539892\n",
        "Na_SL_buf 0.7720854\n",
        "Na_jct1 8.80329\n",
        "Na_SL 8.80733\n",
        "Nai 8.80853\n",
        "Ca_Calsequestrin 1.242988\n",
        "Ca_SLB_SL 0.1110363\n",
        "Ca_SLB_jct1 0.009566355\n",
        "Ca_SLHigh_SL 0.07297378\n",
        "Ca_SLHigh_jct1 0.007347888\n",
        "Ca_SR 0.5545201\n",
        "Ca_jct1 0.0001737475\n",
        "Ca_SL 0.0001031812\n",
        "Cai 8.597401e-05\n",
        "V -85.56885\n",
        "Loaded ODE model 'shannon_2004' with:\n"
       ]
      },
      {
       "output_type": "stream",
       "stream": "stderr",
       "text": [
        "INFO:ModelParameters:Loaded ODE model 'shannon_2004' with:\n"
       ]
      },
      {
       "output_type": "stream",
       "stream": "stdout",
       "text": [
        "     Num full states: 39\n"
       ]
      },
      {
       "output_type": "stream",
       "stream": "stderr",
       "text": [
        "INFO:ModelParameters:     Num full states: 39\n"
       ]
      },
      {
       "output_type": "stream",
       "stream": "stdout",
       "text": [
        "      Num parameters: 124\n"
       ]
      },
      {
       "output_type": "stream",
       "stream": "stderr",
       "text": [
        "INFO:ModelParameters:      Num parameters: 124\n"
       ]
      },
      {
       "output_type": "stream",
       "stream": "stdout",
       "text": [
        "Cao 1.8\n",
        "Cli 15\n",
        "Clo 150\n",
        "Cm 1.381e-10\n",
        "F 96485\n",
        "Ki 135\n",
        "Ko 5.4\n",
        "Mgi 1\n",
        "Nao 140\n",
        "Rgas 8314.3\n",
        "T 310\n",
        "cell_length 100\n",
        "cell_radius 10.25\n",
        "Fx_Na_SL 0.89\n",
        "Fx_Na_jct1 0.11\n",
        "G_INa 16\n",
        "Fx_NaBk_SL 0.89\n",
        "Fx_NaBk_jct1 0.11\n",
        "G_NaBk 0.000297\n",
        "Fx_NaK_SL 0.89\n",
        "Fx_NaK_jct1 0.11\n",
        "H_NaK 4\n",
        "I_NaK_max 1.90719\n",
        "Km_Ko 1.5\n",
        "Km_Nai 11\n",
        "Fx_Ks_SL 0.89\n",
        "Fx_Ks_jct1 0.11\n",
        "pKNa 0.01833\n",
        "g_Kp 0.001\n",
        "G_tos 0.06\n",
        "G_tof 0.02\n",
        "Fx_Cl_SL 0.89\n",
        "Fx_Cl_jct1 0.11\n",
        "G_Cl 0.109625\n",
        "Kd_ClCa 0.1\n",
        "G_ClBk 0.009\n",
        "Fx_ICaL_SL 0.1\n",
        "Fx_ICaL_jct1 0.9\n",
        "PCa 0.00054\n",
        "PK 2.7e-07\n",
        "PNa 1.5e-08\n",
        "Q10_CaL 1.8\n",
        "gamma_Cai 0.341\n",
        "gamma_Cao 0.341\n",
        "gamma_Ki 0.75\n",
        "gamma_Ko 0.75\n",
        "gamma_Nai 0.75\n",
        "gamma_Nao 0.75\n",
        "lccCaInact 1.7\n",
        "Fx_NCX_SL 0.89\n",
        "Fx_NCX_jct1 0.11\n",
        "HNa 3\n",
        "K_mCai 0.00359\n",
        "K_mCao 1.3\n",
        "K_mNai 12.29\n",
        "K_mNao 87.5\n",
        "Kd_act 0.000256\n",
        "Q10_NCX 1.57\n",
        "V_max_INaCa 9\n",
        "eta 0.35\n",
        "ksat 0.27\n",
        "Fx_SLCaP_SL 0.89\n",
        "Fx_SLCaP_jct1 0.11\n",
        "H_ICap 1.6\n",
        "Km 0.0005\n",
        "Q10_SLCaP 2.35\n",
        "V_maxAF 0.0673\n",
        "Fx_CaBk_SL 0.89\n",
        "Fx_CaBk_jct1 0.11\n",
        "G_CaBk 0.0002513\n",
        "EC50_SR 0.45\n",
        "HSR 2.5\n",
        "Max_SR 15\n",
        "Min_SR 1\n",
        "kiCa 0.5\n",
        "kim 0.005\n",
        "koCa 10\n",
        "kom 0.06\n",
        "ks 25\n",
        "KSRleak 5.348e-06\n",
        "H_Jpump 1.787\n",
        "Kmf 0.000246\n",
        "Kmr 1.7\n",
        "Q10_SRCaP 2.6\n",
        "V_max_Jpump 0.0053114\n",
        "Bmax_Calsequestrin 0.14\n",
        "Bmax_SLB_SL 0.0374\n",
        "Bmax_SLB_jct1 0.0046\n",
        "Bmax_SLHigh_SL 0.0134\n",
        "Bmax_SLHigh_jct1 0.00165\n",
        "koff_Calsequestrin 65\n",
        "koff_SLB 1.3\n",
        "koff_SLHigh 0.03\n",
        "kon_Calsequestrin 100\n",
        "kon_SL 100\n",
        "Bmax_Calmodulin 0.024\n",
        "Bmax_Myosin_Ca 0.14\n",
        "Bmax_Myosin_Mg 0.14\n",
        "Bmax_SRB 0.0171\n",
        "Bmax_TroponinC 0.07\n",
        "Bmax_TroponinC_Ca_Mg_Ca 0.14\n",
        "Bmax_TroponinC_Ca_Mg_Mg 0.14\n",
        "koff_Calmodulin 0.238\n",
        "koff_Myosin_Ca 0.00046\n",
        "koff_Myosin_Mg 5.7e-05\n",
        "koff_SRB 0.06\n",
        "koff_TroponinC 0.0196\n",
        "koff_TroponinC_Ca_Mg_Ca 3.2e-05\n",
        "koff_TroponinC_Ca_Mg_Mg 0.00333\n",
        "kon_Calmodulin 34\n",
        "kon_Myosin_Ca 13.8\n",
        "kon_Myosin_Mg 0.0157\n",
        "kon_SRB 100\n",
        "kon_TroponinC 32.7\n",
        "kon_TroponinC_Ca_Mg_Ca 2.37\n",
        "kon_TroponinC_Ca_Mg_Mg 0.003\n",
        "Bmax_SL 1.65\n",
        "Bmax_jct1 7.561\n",
        "koff 0.001\n",
        "kon 0.0001\n",
        "stim_amplitude 9.5\n",
        "stim_duration 5\n",
        "stim_period 1000\n",
        "stim_start 100\n"
       ]
      }
     ],
     "prompt_number": 3
    },
    {
     "cell_type": "markdown",
     "metadata": {},
     "source": [
      "### Run several in sequence\n",
      "\n",
      "#### Run 'em"
     ]
    },
    {
     "cell_type": "code",
     "collapsed": false,
     "input": [
      "import daisychain as dc\n",
      "dorun=True\n",
      "if dorun:\n",
      "    pickleNames = dc.daisychain(outBase = \"run\",dtn=10e3, iters=3)\n",
      "else:\n",
      "    pickleNames = dc.daisychain(outBase = \"run\",dtn=10e3, iters=3, namesOnly=True)"
     ],
     "language": "python",
     "metadata": {},
     "outputs": [
      {
       "output_type": "stream",
       "stream": "stdout",
       "text": [
        "Loaded ODE model 'shannon_2004' with:\n"
       ]
      },
      {
       "output_type": "stream",
       "stream": "stderr",
       "text": [
        "INFO:ModelParameters:Loaded ODE model 'shannon_2004' with:\n"
       ]
      },
      {
       "output_type": "stream",
       "stream": "stdout",
       "text": [
        "     Num full states: 39\n"
       ]
      },
      {
       "output_type": "stream",
       "stream": "stderr",
       "text": [
        "INFO:ModelParameters:     Num full states: 39\n"
       ]
      },
      {
       "output_type": "stream",
       "stream": "stdout",
       "text": [
        "      Num parameters: 124\n"
       ]
      },
      {
       "output_type": "stream",
       "stream": "stderr",
       "text": [
        "INFO:ModelParameters:      Num parameters: 124\n"
       ]
      },
      {
       "output_type": "stream",
       "stream": "stdout",
       "text": [
        "Using revised params from runner.py\n",
        "SUCCESS! Wrote output to "
       ]
      },
      {
       "output_type": "stream",
       "stream": "stdout",
       "text": [
        " run_1.pickle\n",
        "Reading run_1.pickle\n",
        "Loaded ODE model 'shannon_2004' with:\n"
       ]
      },
      {
       "output_type": "stream",
       "stream": "stderr",
       "text": [
        "INFO:ModelParameters:Loaded ODE model 'shannon_2004' with:\n"
       ]
      },
      {
       "output_type": "stream",
       "stream": "stdout",
       "text": [
        "     Num full states: 39\n"
       ]
      },
      {
       "output_type": "stream",
       "stream": "stderr",
       "text": [
        "INFO:ModelParameters:     Num full states: 39\n"
       ]
      },
      {
       "output_type": "stream",
       "stream": "stdout",
       "text": [
        "      Num parameters: 124\n"
       ]
      },
      {
       "output_type": "stream",
       "stream": "stderr",
       "text": [
        "INFO:ModelParameters:      Num parameters: 124\n"
       ]
      },
      {
       "output_type": "stream",
       "stream": "stdout",
       "text": [
        "Using revised params from runner.py\n",
        "SUCCESS! Wrote output to "
       ]
      },
      {
       "output_type": "stream",
       "stream": "stdout",
       "text": [
        " run_2.pickle\n",
        "Reading run_2.pickle\n",
        "Loaded ODE model 'shannon_2004' with:\n"
       ]
      },
      {
       "output_type": "stream",
       "stream": "stderr",
       "text": [
        "INFO:ModelParameters:Loaded ODE model 'shannon_2004' with:\n"
       ]
      },
      {
       "output_type": "stream",
       "stream": "stdout",
       "text": [
        "     Num full states: 39\n"
       ]
      },
      {
       "output_type": "stream",
       "stream": "stderr",
       "text": [
        "INFO:ModelParameters:     Num full states: 39\n"
       ]
      },
      {
       "output_type": "stream",
       "stream": "stdout",
       "text": [
        "      Num parameters: 124\n"
       ]
      },
      {
       "output_type": "stream",
       "stream": "stderr",
       "text": [
        "INFO:ModelParameters:      Num parameters: 124\n"
       ]
      },
      {
       "output_type": "stream",
       "stream": "stdout",
       "text": [
        "Using revised params from runner.py\n",
        "SUCCESS! Wrote output to "
       ]
      },
      {
       "output_type": "stream",
       "stream": "stdout",
       "text": [
        " run_3.pickle\n"
       ]
      }
     ],
     "prompt_number": 7
    },
    {
     "cell_type": "markdown",
     "metadata": {},
     "source": [
      "### Analyze entire trajectory \n",
      "\n",
      "Can use this to review results from entire 'daisy-chained' simulation. However, generally analyses only need to be performed for 'last' iteration "
     ]
    },
    {
     "cell_type": "code",
     "collapsed": false,
     "input": [
      "ts, allsisi, s_idx = dc.concatenateTrajs(pickleNames)"
     ],
     "language": "python",
     "metadata": {},
     "outputs": [
      {
       "output_type": "stream",
       "stream": "stdout",
       "text": [
        "Reading run_1.pickle\n",
        "t "
       ]
      },
      {
       "output_type": "stream",
       "stream": "stdout",
       "text": [
        " 10000.0\n",
        "Reading run_2.pickle\n",
        "t "
       ]
      },
      {
       "output_type": "stream",
       "stream": "stdout",
       "text": [
        " 20000.0\n",
        "Reading run_3.pickle\n",
        "t "
       ]
      },
      {
       "output_type": "stream",
       "stream": "stdout",
       "text": [
        " 30000.0\n"
       ]
      }
     ],
     "prompt_number": 11
    },
    {
     "cell_type": "code",
     "collapsed": false,
     "input": [
      "label = \"Cai\"\n",
      "idx = s_idx.index(label)\n",
      "plt.plot(ts,allsisi[:,idx])\n",
      "#plt.xlim([250e3,300e3])"
     ],
     "language": "python",
     "metadata": {},
     "outputs": [
      {
       "metadata": {},
       "output_type": "pyout",
       "prompt_number": 12,
       "text": [
        "[<matplotlib.lines.Line2D at 0x7efe9e7f60d0>]"
       ]
      },
      {
       "metadata": {},
       "output_type": "display_data",
       "png": "[encoded data removed]",
       "text": [
        "<matplotlib.figure.Figure at 0x7efe9f08e8d0>"
       ]
      }
     ],
     "prompt_number": 12
    },
    {
     "cell_type": "code",
     "collapsed": false,
     "input": [
      "import Case"
     ],
     "language": "python",
     "metadata": {},
     "outputs": [],
     "prompt_number": 3
    },
    {
     "cell_type": "code",
     "collapsed": false,
     "input": [
      "root = \"./\"\n",
      "stim_period = 1000.  # ms\n",
      "T = 300e3             # total simulation time [ms]\n",
      "nIntervals = 6       # number of intervals (s.t. each pickle contains T/nInterval of data )\n",
      "\n",
      "# for storing data \n",
      "caseDict = dict()\n",
      "\n",
      "# case 1\n",
      "tag=\"baseline\"\n",
      "label=\"Baseline\"\n",
      "name = root+\"despa_%s_%d.pickle\"%(tag,stim_period) # filename \n",
      "args = [ # pass in cellml/gotran arguments (eg. in shannon_2004.ode)\n",
      "  \"-var stim_period %f\" % stim_period\n",
      "  ]\n",
      "case = Case.Case(tag=tag,label=label,args=args,nIntervals=nIntervals,T=T, name = name)\n",
      "caseDict[tag] = case"
     ],
     "language": "python",
     "metadata": {},
     "outputs": [],
     "prompt_number": 77
    },
    {
     "cell_type": "markdown",
     "metadata": {},
     "source": [
      "### Generate command line inputs "
     ]
    },
    {
     "cell_type": "code",
     "collapsed": false,
     "input": [
      "for key,case in caseDict.iteritems():\n",
      "      print \"# \", key\n",
      "      print case.cmdLine\n",
      "  #print \"python runShannonTest.py \"+\" \".join(healthyArgs)+\" -name \"+healthyName+\" &\"\n",
      "\n"
     ],
     "language": "python",
     "metadata": {},
     "outputs": [
      {
       "output_type": "stream",
       "stream": "stdout",
       "text": [
        "#  baseline\n",
        "python daisychain.py  -var stim_period 1000.000000 -iters 6 -T 50000.000000 -name ./despa_baseline_1000.pickle  &\n"
       ]
      }
     ],
     "prompt_number": 78
    },
    {
     "cell_type": "code",
     "collapsed": false,
     "input": [
      "print case.name"
     ],
     "language": "python",
     "metadata": {},
     "outputs": [
      {
       "output_type": "stream",
       "stream": "stdout",
       "text": [
        "./despa_baseline_1000_6.pickle\n"
       ]
      }
     ],
     "prompt_number": 79
    },
    {
     "cell_type": "markdown",
     "metadata": {},
     "source": [
      "### Plot data \n",
      "(Note that this comes from the last iteration, since we assume first 'n-1' intervals used for equilibration)"
     ]
    },
    {
     "cell_type": "code",
     "collapsed": false,
     "input": [
      "import analyzeODE as ao\n",
      "\n",
      "for key,case in caseDict.iteritems():\n",
      "      print \"# \", key\n",
      "      case.data = ao.readPickle(case.name)"
     ],
     "language": "python",
     "metadata": {},
     "outputs": [
      {
       "output_type": "stream",
       "stream": "stdout",
       "text": [
        "#  baseline\n",
        "Reading ./despa_baseline_1000_6.pickle\n"
       ]
      }
     ],
     "prompt_number": 80
    },
    {
     "cell_type": "code",
     "collapsed": false,
     "input": [
      "t = case.data['t']\n",
      "t+= (nIntervals-1)*(T/nIntervals) # should define this elsewhere \n",
      "s = case.data['s']\n",
      "s_idx = case.data['s_idx']\n",
      "\n",
      "plt.figure()\n",
      "idx = s_idx.index(\"Cai\")\n",
      "plt.plot(t,s[:,idx])\n",
      "\n",
      "plt.figure()\n",
      "idx = s_idx.index(\"Nai\")\n",
      "plt.plot(t,s[:,idx])\n",
      "\n"
     ],
     "language": "python",
     "metadata": {},
     "outputs": [
      {
       "metadata": {},
       "output_type": "pyout",
       "prompt_number": 84,
       "text": [
        "[<matplotlib.lines.Line2D at 0x7f56041bc410>]"
       ]
      },
      {
       "metadata": {},
       "output_type": "display_data",
       "png": "[encoded data removed]",
       "text": [
        "<matplotlib.figure.Figure at 0x7f562d57b310>"
       ]
      },
      {
       "metadata": {},
       "output_type": "display_data",
       "png": "[encoded data removed]",
       "text": [
        "<matplotlib.figure.Figure at 0x7f56042d4d10>"
       ]
      }
     ],
     "prompt_number": 84
    },
    {
     "cell_type": "markdown",
     "metadata": {},
     "source": [
      "### Double checking results "
     ]
    },
    {
     "cell_type": "code",
     "collapsed": true,
     "input": [
      "import daisychain as dc\n",
      "pickleNames = dc.daisychain(outBase=case.name,iters=nIntervals,namesOnly=True)\n",
      "print pickleNames"
     ],
     "language": "python",
     "metadata": {},
     "outputs": [
      {
       "output_type": "stream",
       "stream": "stdout",
       "text": [
        "['./despa_baseline_1000_6_1.pickle', './despa_baseline_1000_6_2.pickle', './despa_baseline_1000_6_3.pickle', './despa_baseline_1000_6_4.pickle', './despa_baseline_1000_6_5.pickle', './despa_baseline_1000_6_6.pickle']\n"
       ]
      }
     ],
     "prompt_number": 90
    },
    {
     "cell_type": "code",
     "collapsed": false,
     "input": [
      "ts, allsisi, s_idx = dc.concatenateTrajs(pickleNames)\n",
      "label = \"Cai\"\n",
      "idx = s_idx.index(label)\n",
      "plt.plot(ts,allsisi[:,idx])\n",
      "#plt.xlim([250e3,300e3])"
     ],
     "language": "python",
     "metadata": {},
     "outputs": [
      {
       "output_type": "stream",
       "stream": "stdout",
       "text": [
        "Reading test_1.pickle\n",
        "t "
       ]
      },
      {
       "output_type": "stream",
       "stream": "stdout",
       "text": [
        " 50000.0\n",
        "Reading test_2.pickle\n",
        "t "
       ]
      },
      {
       "output_type": "stream",
       "stream": "stdout",
       "text": [
        " 100000.0\n",
        "Reading test_3.pickle\n",
        "t "
       ]
      },
      {
       "output_type": "stream",
       "stream": "stdout",
       "text": [
        " 150000.0\n",
        "Reading test_4.pickle\n",
        "t "
       ]
      },
      {
       "output_type": "stream",
       "stream": "stdout",
       "text": [
        " 200000.0\n"
       ]
      },
      {
       "metadata": {},
       "output_type": "pyout",
       "prompt_number": 69,
       "text": [
        "[<matplotlib.lines.Line2D at 0x7f562d506190>]"
       ]
      },
      {
       "metadata": {},
       "output_type": "display_data",
       "png": "[encoded data removed]",
       "text": [
        "<matplotlib.figure.Figure at 0x7f562d804310>"
       ]
      }
     ],
     "prompt_number": 69
    },
    {
     "cell_type": "code",
     "collapsed": false,
     "input": [
      "label = \"Cai\"\n",
      "idx = s_idx.index(label)\n",
      "plt.plot(ts,allsisi[:,idx])"
     ],
     "language": "python",
     "metadata": {},
     "outputs": []
    }
   ],
   "metadata": {}
  }
 ]
}