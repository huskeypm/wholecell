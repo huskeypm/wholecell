{
 "metadata": {
  "name": "",
  "signature": "sha256:16a28031279309002bdbe35e6beb6aac86520aaee90e80adf853c3d113c1fc95"
 },
 "nbformat": 3,
 "nbformat_minor": 0,
 "worksheets": [
  {
   "cells": [
    {
     "cell_type": "code",
     "collapsed": false,
     "input": [
      "%load_ext autoreload\n",
      "%autoreload 2"
     ],
     "language": "python",
     "metadata": {},
     "outputs": [],
     "prompt_number": 1
    },
    {
     "cell_type": "markdown",
     "metadata": {},
     "source": [
      "### Extended runs \n",
      "\n",
      "Here we will 'daisy-chain' the simulations "
     ]
    },
    {
     "cell_type": "code",
     "collapsed": false,
     "input": [
      "import gotranJIT\n",
      "from gotran.model.loadmodel import load_ode"
     ],
     "language": "python",
     "metadata": {},
     "outputs": [],
     "prompt_number": 3
    },
    {
     "cell_type": "markdown",
     "metadata": {},
     "source": [
      "#### Print all states/values"
     ]
    },
    {
     "cell_type": "code",
     "collapsed": false,
     "input": [
      "odeName = \"shannon_2004.ode\"\n",
      "ode = load_ode(odeName)\n",
      "\n",
      "for state in ode.full_states:\n",
      "    print state.name,state.value\n",
      "\n",
      "    \n",
      "for param in ode.parameters:\n",
      "    print param.name,param.value\n",
      "    \n",
      "#ode.states"
     ],
     "language": "python",
     "metadata": {},
     "outputs": [
      {
       "output_type": "stream",
       "stream": "stdout",
       "text": [
        "Loaded ODE model 'shannon_2004' with:\n"
       ]
      },
      {
       "output_type": "stream",
       "stream": "stderr",
       "text": [
        "INFO:ModelParameters:Loaded ODE model 'shannon_2004' with:\n"
       ]
      },
      {
       "output_type": "stream",
       "stream": "stdout",
       "text": [
        "     Num full states: 39\n"
       ]
      },
      {
       "output_type": "stream",
       "stream": "stderr",
       "text": [
        "INFO:ModelParameters:     Num full states: 39\n"
       ]
      },
      {
       "output_type": "stream",
       "stream": "stdout",
       "text": [
        "      Num parameters: 124\n"
       ]
      },
      {
       "output_type": "stream",
       "stream": "stderr",
       "text": [
        "INFO:ModelParameters:      Num parameters: 124\n"
       ]
      },
      {
       "output_type": "stream",
       "stream": "stdout",
       "text": [
        "h 0.9867005\n",
        "j 0.991562\n",
        "m 0.001405627\n",
        "Xr 0.008641386\n",
        "Xs 0.005412034\n",
        "X_tos 0.004051574\n",
        "Y_tos 0.9945511\n",
        "R_tos 0.9946\n",
        "X_tof 0.004051574\n",
        "Y_tof 0.9945511\n",
        "d 7.175662e-06\n",
        "f 1.000681\n",
        "fCaB_SL 0.01452605\n",
        "fCaB_jct1 0.02421991\n",
        "R 0.8884332\n",
        "O 8.156628e-07\n",
        "I 1.024274e-07\n",
        "Ca_TroponinC 0.008773191\n",
        "Ca_TroponinC_Ca_Mg 0.1078283\n",
        "Mg_TroponinC_Ca_Mg 0.01524002\n",
        "Ca_Calmodulin 0.0002911916\n",
        "Ca_Myosin 0.001298754\n",
        "Mg_Myosin 0.1381982\n",
        "Ca_SRB 0.002143165\n",
        "Na_jct1_buf 3.539892\n",
        "Na_SL_buf 0.7720854\n",
        "Na_jct1 8.80329\n",
        "Na_SL 8.80733\n",
        "Nai 8.80853\n",
        "Ca_Calsequestrin 1.242988\n",
        "Ca_SLB_SL 0.1110363\n",
        "Ca_SLB_jct1 0.009566355\n",
        "Ca_SLHigh_SL 0.07297378\n",
        "Ca_SLHigh_jct1 0.007347888\n",
        "Ca_SR 0.5545201\n",
        "Ca_jct1 0.0001737475\n",
        "Ca_SL 0.0001031812\n",
        "Cai 8.597401e-05\n",
        "V -85.56885\n",
        "Cao 1.8\n",
        "Cli 15\n",
        "Clo 150\n",
        "Cm 1.381e-10\n",
        "F 96485\n",
        "Ki 135\n",
        "Ko 5.4\n",
        "Mgi 1\n",
        "Nao 140\n",
        "Rgas 8314.3\n",
        "T 310\n",
        "cell_length 100\n",
        "cell_radius 10.25\n",
        "Fx_Na_SL 0.89\n",
        "Fx_Na_jct1 0.11\n",
        "G_INa 16\n",
        "Fx_NaBk_SL 0.89\n",
        "Fx_NaBk_jct1 0.11\n",
        "G_NaBk 0.000297\n",
        "Fx_NaK_SL 0.89\n",
        "Fx_NaK_jct1 0.11\n",
        "H_NaK 4\n",
        "I_NaK_max 1.90719\n",
        "Km_Ko 1.5\n",
        "Km_Nai 11\n",
        "Fx_Ks_SL 0.89\n",
        "Fx_Ks_jct1 0.11\n",
        "pKNa 0.01833\n",
        "g_Kp 0.001\n",
        "G_tos 0.06\n",
        "G_tof 0.02\n",
        "Fx_Cl_SL 0.89\n",
        "Fx_Cl_jct1 0.11\n",
        "G_Cl 0.109625\n",
        "Kd_ClCa 0.1\n",
        "G_ClBk 0.009\n",
        "Fx_ICaL_SL 0.1\n",
        "Fx_ICaL_jct1 0.9\n",
        "PCa 0.00054\n",
        "PK 2.7e-07\n",
        "PNa 1.5e-08\n",
        "Q10_CaL 1.8\n",
        "gamma_Cai 0.341\n",
        "gamma_Cao 0.341\n",
        "gamma_Ki 0.75\n",
        "gamma_Ko 0.75\n",
        "gamma_Nai 0.75\n",
        "gamma_Nao 0.75\n",
        "lccCaInact 1.7\n",
        "Fx_NCX_SL 0.89\n",
        "Fx_NCX_jct1 0.11\n",
        "HNa 3\n",
        "K_mCai 0.00359\n",
        "K_mCao 1.3\n",
        "K_mNai 12.29\n",
        "K_mNao 87.5\n",
        "Kd_act 0.000256\n",
        "Q10_NCX 1.57\n",
        "V_max_INaCa 9\n",
        "eta 0.35\n",
        "ksat 0.27\n",
        "Fx_SLCaP_SL 0.89\n",
        "Fx_SLCaP_jct1 0.11\n",
        "H_ICap 1.6\n",
        "Km 0.0005\n",
        "Q10_SLCaP 2.35\n",
        "V_maxAF 0.0673\n",
        "Fx_CaBk_SL 0.89\n",
        "Fx_CaBk_jct1 0.11\n",
        "G_CaBk 0.0002513\n",
        "EC50_SR 0.45\n",
        "HSR 2.5\n",
        "Max_SR 15\n",
        "Min_SR 1\n",
        "kiCa 0.5\n",
        "kim 0.005\n",
        "koCa 10\n",
        "kom 0.06\n",
        "ks 25\n",
        "KSRleak 5.348e-06\n",
        "H_Jpump 1.787\n",
        "Kmf 0.000246\n",
        "Kmr 1.7\n",
        "Q10_SRCaP 2.6\n",
        "V_max_Jpump 0.0053114\n",
        "Bmax_Calsequestrin 0.14\n",
        "Bmax_SLB_SL 0.0374\n",
        "Bmax_SLB_jct1 0.0046\n",
        "Bmax_SLHigh_SL 0.0134\n",
        "Bmax_SLHigh_jct1 0.00165\n",
        "koff_Calsequestrin 65\n",
        "koff_SLB 1.3\n",
        "koff_SLHigh 0.03\n",
        "kon_Calsequestrin 100\n",
        "kon_SL 100\n",
        "Bmax_Calmodulin 0.024\n",
        "Bmax_Myosin_Ca 0.14\n",
        "Bmax_Myosin_Mg 0.14\n",
        "Bmax_SRB 0.0171\n",
        "Bmax_TroponinC 0.07\n",
        "Bmax_TroponinC_Ca_Mg_Ca 0.14\n",
        "Bmax_TroponinC_Ca_Mg_Mg 0.14\n",
        "koff_Calmodulin 0.238\n",
        "koff_Myosin_Ca 0.00046\n",
        "koff_Myosin_Mg 5.7e-05\n",
        "koff_SRB 0.06\n",
        "koff_TroponinC 0.0196\n",
        "koff_TroponinC_Ca_Mg_Ca 3.2e-05\n",
        "koff_TroponinC_Ca_Mg_Mg 0.00333\n",
        "kon_Calmodulin 34\n",
        "kon_Myosin_Ca 13.8\n",
        "kon_Myosin_Mg 0.0157\n",
        "kon_SRB 100\n",
        "kon_TroponinC 32.7\n",
        "kon_TroponinC_Ca_Mg_Ca 2.37\n",
        "kon_TroponinC_Ca_Mg_Mg 0.003\n",
        "Bmax_SL 1.65\n",
        "Bmax_jct1 7.561\n",
        "koff 0.001\n",
        "kon 0.0001\n",
        "stim_amplitude 9.5\n",
        "stim_duration 5\n",
        "stim_period 1000\n",
        "stim_start 100\n"
       ]
      }
     ],
     "prompt_number": 16
    },
    {
     "cell_type": "markdown",
     "metadata": {},
     "source": [
      "#### Find the value of a specific parameter"
     ]
    },
    {
     "cell_type": "code",
     "collapsed": false,
     "input": [
      "ode = load_ode(filename)\n",
      "\n",
      "myparam = \"stim_period\"\n",
      "\n",
      "for param in ode.parameters:\n",
      "    #print param.name\n",
      "    if param.name ==myparam:\n",
      "      print param.name,param.value\n",
      "    \n",
      "#ode.states"
     ],
     "language": "python",
     "metadata": {},
     "outputs": [
      {
       "output_type": "stream",
       "stream": "stdout",
       "text": [
        "Loaded ODE model 'shannon_2004' with:\n"
       ]
      },
      {
       "output_type": "stream",
       "stream": "stderr",
       "text": [
        "INFO:ModelParameters:Loaded ODE model 'shannon_2004' with:\n"
       ]
      },
      {
       "output_type": "stream",
       "stream": "stdout",
       "text": [
        "     Num full states: 39\n"
       ]
      },
      {
       "output_type": "stream",
       "stream": "stderr",
       "text": [
        "INFO:ModelParameters:     Num full states: 39\n"
       ]
      },
      {
       "output_type": "stream",
       "stream": "stdout",
       "text": [
        "      Num parameters: 124\n"
       ]
      },
      {
       "output_type": "stream",
       "stream": "stderr",
       "text": [
        "INFO:ModelParameters:      Num parameters: 124\n"
       ]
      },
      {
       "output_type": "stream",
       "stream": "stdout",
       "text": [
        "stim_period 1000\n"
       ]
      }
     ],
     "prompt_number": 17
    },
    {
     "cell_type": "code",
     "collapsed": false,
     "input": [
      "if 0:\n",
      "    for state in ode.full_states:\n",
      "      print state.name,state.value"
     ],
     "language": "python",
     "metadata": {},
     "outputs": [],
     "prompt_number": 18
    },
    {
     "cell_type": "markdown",
     "metadata": {},
     "source": [
      "#### Util"
     ]
    },
    {
     "cell_type": "code",
     "collapsed": false,
     "input": [
      "import analyzeODE as ao\n",
      "# Grabs stuff from previous run \n",
      "#prevOut = \"run_G_CaBk1.00_G_NaBk1.00_stim2000_1.pickle\"\n",
      "#prevNum=1 # could probably grab this from pickleName\n",
      "def InitializeNextInSequence(prevOut,prevNum):\n",
      "  # Determine new pickleoutName \n",
      "  nextNum=prevNum+1\n",
      "  nextOut = prevOut.replace(\"_%d.pickle\"%prevNum,\"_%d.pickle\"%nextNum)\n",
      "\n",
      "  # Load in prev data \n",
      "  data = ao.readPickle(prevOut) \n",
      "  si = data['s']\n",
      "  s_idx = data['s_idx']\n",
      "  p = data['p']\n",
      "  p_idx = data['p_idx']\n",
      "\n",
      "\n",
      "  # create new dict with states/values\n",
      "  stateDict = dict()\n",
      "  v = zip(s_idx,si[-1,:]) # grabs  state values from last iteration \n",
      "  for i,g in enumerate(v):\n",
      "    #print g[0]    \n",
      "    stateDict[g[0]]=g[1]  \n",
      "\n",
      "  # create new dict with params/values   \n",
      "  paramDict = dict()\n",
      "  v = zip(p_idx,p) # grabs  state values from last iteration \n",
      "  for i,g in enumerate(v):\n",
      "    #print g[0]    \n",
      "    paramDict[g[0]]=g[1]  \n",
      "    \n",
      "  return nextOut,nextNum,stateDict,paramDict   \n",
      "#s_idx\n"
     ],
     "language": "python",
     "metadata": {},
     "outputs": [],
     "prompt_number": 81
    },
    {
     "cell_type": "markdown",
     "metadata": {},
     "source": [
      "## Run several in sequence\n",
      "\n",
      "### Run 'em"
     ]
    },
    {
     "cell_type": "code",
     "collapsed": false,
     "input": [
      "import runShannonTest as rs\n",
      "odeName = \"shannon_2004.ode\"\n",
      "\n",
      "dt=0.1;\n",
      "dtn=2000;\n",
      "stim_period=2000.;\n",
      "mxsteps=None\n",
      "iters = 3 \n",
      "\n",
      "outBase = \"run_G_CaBk1.00_G_NaBk1.00_stim2000\"\n",
      "\n",
      "\n",
      "### sample param dictionary, can add specific parameters here\n",
      "paramDict = dict() \n",
      "paramDict[\"stim_period\"] = stim_period\n",
      "\n",
      "# stateDict\n",
      "stateDict = None # use defaults for first iter \n",
      "#if 1:\n",
      "#  rs.runParamsFast(odeName=odeName,name=nextName,\n",
      "#                 paramDict=None,stateDict=stateDict,dt=dt,dtn=dtn,stim_period=stim_period,mxsteps=mxsteps)\n",
      "\n",
      "# subsequent runs     \n",
      "for i in range(iters):\n",
      "    # initialize\n",
      "    if i==0:\n",
      "      # first run \n",
      "      nextNum = 1\n",
      "      nextName = outBase+\"_%d.pickle\"%nextNum\n",
      "    # second run         \n",
      "    else:    \n",
      "      prevName = nextName\n",
      "      prevNum = nextNum\n",
      "      nextName,nextNum,stateDict,paramDict = InitializeNextInSequence(prevName,prevNum)\n",
      "    \n",
      "    \n",
      "    # hack\n",
      "    #stateDict[\"V\"]=50 works \n",
      "    rs.runParamsFast(odeName=odeName,name=nextName,\n",
      "                     varDict=paramDict,stateDict=stateDict,dt=dt,dtn=dtn,stim_period=stim_period,mxsteps=mxsteps)\n"
     ],
     "language": "python",
     "metadata": {},
     "outputs": [
      {
       "output_type": "stream",
       "stream": "stdout",
       "text": [
        "Loaded ODE model 'shannon_2004' with:\n"
       ]
      },
      {
       "output_type": "stream",
       "stream": "stderr",
       "text": [
        "INFO:ModelParameters:Loaded ODE model 'shannon_2004' with:\n"
       ]
      },
      {
       "output_type": "stream",
       "stream": "stdout",
       "text": [
        "     Num full states: 39\n"
       ]
      },
      {
       "output_type": "stream",
       "stream": "stderr",
       "text": [
        "INFO:ModelParameters:     Num full states: 39\n"
       ]
      },
      {
       "output_type": "stream",
       "stream": "stdout",
       "text": [
        "      Num parameters: 124\n"
       ]
      },
      {
       "output_type": "stream",
       "stream": "stderr",
       "text": [
        "INFO:ModelParameters:      Num parameters: 124\n"
       ]
      },
      {
       "output_type": "stream",
       "stream": "stdout",
       "text": [
        "Using revised params from runner.py\n",
        "SUCCESS! Wrote output to "
       ]
      },
      {
       "output_type": "stream",
       "stream": "stdout",
       "text": [
        " run_G_CaBk1.00_G_NaBk1.00_stim2000_1.pickle\n",
        "Reading run_G_CaBk1.00_G_NaBk1.00_stim2000_1.pickle\n",
        "Loaded ODE model 'shannon_2004' with:\n"
       ]
      },
      {
       "output_type": "stream",
       "stream": "stderr",
       "text": [
        "INFO:ModelParameters:Loaded ODE model 'shannon_2004' with:\n"
       ]
      },
      {
       "output_type": "stream",
       "stream": "stdout",
       "text": [
        "     Num full states: 39\n"
       ]
      },
      {
       "output_type": "stream",
       "stream": "stderr",
       "text": [
        "INFO:ModelParameters:     Num full states: 39\n"
       ]
      },
      {
       "output_type": "stream",
       "stream": "stdout",
       "text": [
        "      Num parameters: 124\n"
       ]
      },
      {
       "output_type": "stream",
       "stream": "stderr",
       "text": [
        "INFO:ModelParameters:      Num parameters: 124\n"
       ]
      },
      {
       "output_type": "stream",
       "stream": "stdout",
       "text": [
        "Using revised params from runner.py\n",
        "SUCCESS! Wrote output to "
       ]
      },
      {
       "output_type": "stream",
       "stream": "stdout",
       "text": [
        " run_G_CaBk1.00_G_NaBk1.00_stim2000_2.pickle\n",
        "Reading run_G_CaBk1.00_G_NaBk1.00_stim2000_2.pickle\n",
        "Loaded ODE model 'shannon_2004' with:\n"
       ]
      },
      {
       "output_type": "stream",
       "stream": "stderr",
       "text": [
        "INFO:ModelParameters:Loaded ODE model 'shannon_2004' with:\n"
       ]
      },
      {
       "output_type": "stream",
       "stream": "stdout",
       "text": [
        "     Num full states: 39\n"
       ]
      },
      {
       "output_type": "stream",
       "stream": "stderr",
       "text": [
        "INFO:ModelParameters:     Num full states: 39\n"
       ]
      },
      {
       "output_type": "stream",
       "stream": "stdout",
       "text": [
        "      Num parameters: 124\n"
       ]
      },
      {
       "output_type": "stream",
       "stream": "stderr",
       "text": [
        "INFO:ModelParameters:      Num parameters: 124\n"
       ]
      },
      {
       "output_type": "stream",
       "stream": "stdout",
       "text": [
        "Using revised params from runner.py\n",
        "SUCCESS! Wrote output to "
       ]
      },
      {
       "output_type": "stream",
       "stream": "stdout",
       "text": [
        " run_G_CaBk1.00_G_NaBk1.00_stim2000_3.pickle\n"
       ]
      }
     ],
     "prompt_number": 95
    },
    {
     "cell_type": "markdown",
     "metadata": {},
     "source": [
      "### Concatenate trajectories "
     ]
    },
    {
     "cell_type": "code",
     "collapsed": false,
     "input": [
      "# create list of pickle names \n",
      "daiters = range(iters) \n",
      "pickleNames = [ outBase+\"_%d.pickle\"%(i+1) for i in daiters ]\n",
      "print pickleNames"
     ],
     "language": "python",
     "metadata": {},
     "outputs": [
      {
       "output_type": "stream",
       "stream": "stdout",
       "text": [
        "['run_G_CaBk1.00_G_NaBk1.00_stim2000_1.pickle', 'run_G_CaBk1.00_G_NaBk1.00_stim2000_2.pickle', 'run_G_CaBk1.00_G_NaBk1.00_stim2000_3.pickle']\n"
       ]
      }
     ],
     "prompt_number": 101
    },
    {
     "cell_type": "code",
     "collapsed": false,
     "input": [
      "pickleNames\n",
      "pickleName = pickleNames[0]\n",
      "\n",
      "allsi = []\n",
      "allt = []\n",
      "tprev=0\n",
      "for i,pickleName in enumerate(pickleNames):\n",
      "  data = ao.readPickle(pickleName) \n",
      "  si = data['s']\n",
      "  s_idx = data['s_idx']\n",
      "  t = data['t']\n",
      "\n",
      "  allsi.append(si)  # probably should pre-allocate \n",
      "  allt.append(t+tprev)    \n",
      "\n",
      "  # update offset  \n",
      "  tprev += t[-1]  \n",
      "  print \"t \",tprev  \n",
      "    \n"
     ],
     "language": "python",
     "metadata": {},
     "outputs": [
      {
       "output_type": "stream",
       "stream": "stdout",
       "text": [
        "Reading run_G_CaBk1.00_G_NaBk1.00_stim2000_1.pickle\n",
        "t "
       ]
      },
      {
       "output_type": "stream",
       "stream": "stdout",
       "text": [
        " 2000.0\n",
        "Reading run_G_CaBk1.00_G_NaBk1.00_stim2000_2.pickle\n",
        "t "
       ]
      },
      {
       "output_type": "stream",
       "stream": "stdout",
       "text": [
        " 4000.0\n",
        "Reading run_G_CaBk1.00_G_NaBk1.00_stim2000_3.pickle\n",
        "t "
       ]
      },
      {
       "output_type": "stream",
       "stream": "stdout",
       "text": [
        " 6000.0\n"
       ]
      }
     ],
     "prompt_number": 102
    },
    {
     "cell_type": "code",
     "collapsed": false,
     "input": [
      "# test \n",
      "#v = [np.arange(5),np.arange(5)+4, np.arange(5)+9]\n",
      "#v= np.array(v)\n",
      "#print np.ndarray.flatten(v)\n",
      "\n",
      "# concatenate times \n",
      "ts = np.array(allt)\n",
      "ts = np.array(ts)\n",
      "# not general....\n",
      "ts = np.ndarray.flatten(ts)\n",
      "print np.shape(ts)\n",
      "\n",
      "# concatenate state values \n",
      "sis = np.array(allsi)\n",
      "sis = np.array(sis)\n",
      "# not general....\n",
      "label = \"Cai\"\n",
      "idx = s_idx.index(label)\n",
      "sisi = sis[:,:,idx]\n",
      "sisi = np.ndarray.flatten(sisi)\n",
      "np.shape(sisi)"
     ],
     "language": "python",
     "metadata": {},
     "outputs": [
      {
       "output_type": "stream",
       "stream": "stdout",
       "text": [
        "(60003,)\n"
       ]
      },
      {
       "metadata": {},
       "output_type": "pyout",
       "prompt_number": 104,
       "text": [
        "(60003,)"
       ]
      }
     ],
     "prompt_number": 104
    },
    {
     "cell_type": "code",
     "collapsed": false,
     "input": [
      "plt.plot(ts,sisi)"
     ],
     "language": "python",
     "metadata": {},
     "outputs": [
      {
       "metadata": {},
       "output_type": "pyout",
       "prompt_number": 105,
       "text": [
        "[<matplotlib.lines.Line2D at 0x7f022f5b5bd0>]"
       ]
      },
      {
       "metadata": {},
       "output_type": "display_data",
       "png": "[encoded data removed]",
       "text": [
        "<matplotlib.figure.Figure at 0x7f0230e2c590>"
       ]
      }
     ],
     "prompt_number": 105
    },
    {
     "cell_type": "code",
     "collapsed": false,
     "input": [],
     "language": "python",
     "metadata": {},
     "outputs": [],
     "prompt_number": 94
    },
    {
     "cell_type": "code",
     "collapsed": false,
     "input": [],
     "language": "python",
     "metadata": {},
     "outputs": []
    }
   ],
   "metadata": {}
  }
 ]
}