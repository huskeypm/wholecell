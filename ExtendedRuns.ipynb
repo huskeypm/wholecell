{
 "metadata": {
  "name": "",
  "signature": "sha256:11d249b8a07445d9ff67deffe04bdc603d6fd57050c8f9d86ff8ce0710e0a692"
 },
 "nbformat": 3,
 "nbformat_minor": 0,
 "worksheets": [
  {
   "cells": [
    {
     "cell_type": "code",
     "collapsed": false,
     "input": [
      "%load_ext autoreload\n",
      "%autoreload 2"
     ],
     "language": "python",
     "metadata": {},
     "outputs": [
      {
       "output_type": "stream",
       "stream": "stdout",
       "text": [
        "The autoreload extension is already loaded. To reload it, use:\n",
        "  %reload_ext autoreload\n"
       ]
      }
     ],
     "prompt_number": 95
    },
    {
     "cell_type": "markdown",
     "metadata": {},
     "source": [
      "## Extended runs \n",
      "Here we will 'daisy-chain' the simulations "
     ]
    },
    {
     "cell_type": "code",
     "collapsed": false,
     "input": [
      "import gotranJIT\n",
      "from gotran.model.loadmodel import load_ode"
     ],
     "language": "python",
     "metadata": {},
     "outputs": [],
     "prompt_number": 96
    },
    {
     "cell_type": "markdown",
     "metadata": {},
     "source": [
      "#### Print all states/values"
     ]
    },
    {
     "cell_type": "code",
     "collapsed": false,
     "input": [
      "import gotranUtil as gU\n",
      "gU.PrintStates()\n",
      "gU.PrintParams()"
     ],
     "language": "python",
     "metadata": {},
     "outputs": [
      {
       "output_type": "stream",
       "stream": "stdout",
       "text": [
        "Loaded ODE model 'shannon_2004' with:\n"
       ]
      },
      {
       "output_type": "stream",
       "stream": "stderr",
       "text": [
        "INFO:ModelParameters:Loaded ODE model 'shannon_2004' with:\n"
       ]
      },
      {
       "output_type": "stream",
       "stream": "stdout",
       "text": [
        "     Num full states: 39\n"
       ]
      },
      {
       "output_type": "stream",
       "stream": "stderr",
       "text": [
        "INFO:ModelParameters:     Num full states: 39\n"
       ]
      },
      {
       "output_type": "stream",
       "stream": "stdout",
       "text": [
        "      Num parameters: 124\n"
       ]
      },
      {
       "output_type": "stream",
       "stream": "stderr",
       "text": [
        "INFO:ModelParameters:      Num parameters: 124\n"
       ]
      },
      {
       "output_type": "stream",
       "stream": "stdout",
       "text": [
        "h 0.9867005\n",
        "j 0.991562\n",
        "m 0.001405627\n",
        "Xr 0.008641386\n",
        "Xs 0.005412034\n",
        "X_tos 0.004051574\n",
        "Y_tos 0.9945511\n",
        "R_tos 0.9946\n",
        "X_tof 0.004051574\n",
        "Y_tof 0.9945511\n",
        "d 7.175662e-06\n",
        "f 1.000681\n",
        "fCaB_SL 0.01452605\n",
        "fCaB_jct1 0.02421991\n",
        "R 0.8884332\n",
        "O 8.156628e-07\n",
        "I 1.024274e-07\n",
        "Ca_TroponinC 0.008773191\n",
        "Ca_TroponinC_Ca_Mg 0.1078283\n",
        "Mg_TroponinC_Ca_Mg 0.01524002\n",
        "Ca_Calmodulin 0.0002911916\n",
        "Ca_Myosin 0.001298754\n",
        "Mg_Myosin 0.1381982\n",
        "Ca_SRB 0.002143165\n",
        "Na_jct1_buf 3.539892\n",
        "Na_SL_buf 0.7720854\n",
        "Na_jct1 8.80329\n",
        "Na_SL 8.80733\n",
        "Nai 8.80853\n",
        "Ca_Calsequestrin 1.242988\n",
        "Ca_SLB_SL 0.1110363\n",
        "Ca_SLB_jct1 0.009566355\n",
        "Ca_SLHigh_SL 0.07297378\n",
        "Ca_SLHigh_jct1 0.007347888\n",
        "Ca_SR 0.5545201\n",
        "Ca_jct1 0.0001737475\n",
        "Ca_SL 0.0001031812\n",
        "Cai 8.597401e-05\n",
        "V -85.56885\n",
        "Loaded ODE model 'shannon_2004' with:\n"
       ]
      },
      {
       "output_type": "stream",
       "stream": "stderr",
       "text": [
        "INFO:ModelParameters:Loaded ODE model 'shannon_2004' with:\n"
       ]
      },
      {
       "output_type": "stream",
       "stream": "stdout",
       "text": [
        "     Num full states: 39\n"
       ]
      },
      {
       "output_type": "stream",
       "stream": "stderr",
       "text": [
        "INFO:ModelParameters:     Num full states: 39\n"
       ]
      },
      {
       "output_type": "stream",
       "stream": "stdout",
       "text": [
        "      Num parameters: 124\n"
       ]
      },
      {
       "output_type": "stream",
       "stream": "stderr",
       "text": [
        "INFO:ModelParameters:      Num parameters: 124\n"
       ]
      },
      {
       "output_type": "stream",
       "stream": "stdout",
       "text": [
        "Cao 1.8\n",
        "Cli 15\n",
        "Clo 150\n",
        "Cm 1.381e-10\n",
        "F 96485\n",
        "Ki 135\n",
        "Ko 5.4\n",
        "Mgi 1\n",
        "Nao 140\n",
        "Rgas 8314.3\n",
        "T 310\n",
        "cell_length 100\n",
        "cell_radius 10.25\n",
        "Fx_Na_SL 0.89\n",
        "Fx_Na_jct1 0.11\n",
        "G_INa 16\n",
        "Fx_NaBk_SL 0.89\n",
        "Fx_NaBk_jct1 0.11\n",
        "G_NaBk 0.000297\n",
        "Fx_NaK_SL 0.89\n",
        "Fx_NaK_jct1 0.11\n",
        "H_NaK 4\n",
        "I_NaK_max 1.90719\n",
        "Km_Ko 1.5\n",
        "Km_Nai 11\n",
        "Fx_Ks_SL 0.89\n",
        "Fx_Ks_jct1 0.11\n",
        "pKNa 0.01833\n",
        "g_Kp 0.001\n",
        "G_tos 0.06\n",
        "G_tof 0.02\n",
        "Fx_Cl_SL 0.89\n",
        "Fx_Cl_jct1 0.11\n",
        "G_Cl 0.109625\n",
        "Kd_ClCa 0.1\n",
        "G_ClBk 0.009\n",
        "Fx_ICaL_SL 0.1\n",
        "Fx_ICaL_jct1 0.9\n",
        "PCa 0.00054\n",
        "PK 2.7e-07\n",
        "PNa 1.5e-08\n",
        "Q10_CaL 1.8\n",
        "gamma_Cai 0.341\n",
        "gamma_Cao 0.341\n",
        "gamma_Ki 0.75\n",
        "gamma_Ko 0.75\n",
        "gamma_Nai 0.75\n",
        "gamma_Nao 0.75\n",
        "lccCaInact 1.7\n",
        "Fx_NCX_SL 0.89\n",
        "Fx_NCX_jct1 0.11\n",
        "HNa 3\n",
        "K_mCai 0.00359\n",
        "K_mCao 1.3\n",
        "K_mNai 12.29\n",
        "K_mNao 87.5\n",
        "Kd_act 0.000256\n",
        "Q10_NCX 1.57\n",
        "V_max_INaCa 9\n",
        "eta 0.35\n",
        "ksat 0.27\n",
        "Fx_SLCaP_SL 0.89\n",
        "Fx_SLCaP_jct1 0.11\n",
        "H_ICap 1.6\n",
        "Km 0.0005\n",
        "Q10_SLCaP 2.35\n",
        "V_maxAF 0.0673\n",
        "Fx_CaBk_SL 0.89\n",
        "Fx_CaBk_jct1 0.11\n",
        "G_CaBk 0.0002513\n",
        "EC50_SR 0.45\n",
        "HSR 2.5\n",
        "Max_SR 15\n",
        "Min_SR 1\n",
        "kiCa 0.5\n",
        "kim 0.005\n",
        "koCa 10\n",
        "kom 0.06\n",
        "ks 25\n",
        "KSRleak 5.348e-06\n",
        "H_Jpump 1.787\n",
        "Kmf 0.000246\n",
        "Kmr 1.7\n",
        "Q10_SRCaP 2.6\n",
        "V_max_Jpump 0.0053114\n",
        "Bmax_Calsequestrin 0.14\n",
        "Bmax_SLB_SL 0.0374\n",
        "Bmax_SLB_jct1 0.0046\n",
        "Bmax_SLHigh_SL 0.0134\n",
        "Bmax_SLHigh_jct1 0.00165\n",
        "koff_Calsequestrin 65\n",
        "koff_SLB 1.3\n",
        "koff_SLHigh 0.03\n",
        "kon_Calsequestrin 100\n",
        "kon_SL 100\n",
        "Bmax_Calmodulin 0.024\n",
        "Bmax_Myosin_Ca 0.14\n",
        "Bmax_Myosin_Mg 0.14\n",
        "Bmax_SRB 0.0171\n",
        "Bmax_TroponinC 0.07\n",
        "Bmax_TroponinC_Ca_Mg_Ca 0.14\n",
        "Bmax_TroponinC_Ca_Mg_Mg 0.14\n",
        "koff_Calmodulin 0.238\n",
        "koff_Myosin_Ca 0.00046\n",
        "koff_Myosin_Mg 5.7e-05\n",
        "koff_SRB 0.06\n",
        "koff_TroponinC 0.0196\n",
        "koff_TroponinC_Ca_Mg_Ca 3.2e-05\n",
        "koff_TroponinC_Ca_Mg_Mg 0.00333\n",
        "kon_Calmodulin 34\n",
        "kon_Myosin_Ca 13.8\n",
        "kon_Myosin_Mg 0.0157\n",
        "kon_SRB 100\n",
        "kon_TroponinC 32.7\n",
        "kon_TroponinC_Ca_Mg_Ca 2.37\n",
        "kon_TroponinC_Ca_Mg_Mg 0.003\n",
        "Bmax_SL 1.65\n",
        "Bmax_jct1 7.561\n",
        "koff 0.001\n",
        "kon 0.0001\n",
        "stim_amplitude 9.5\n",
        "stim_duration 5\n",
        "stim_period 1000\n",
        "stim_start 100\n"
       ]
      }
     ],
     "prompt_number": 97
    },
    {
     "cell_type": "markdown",
     "metadata": {},
     "source": [
      "### Example 1: Run several in sequence\n",
      "\n",
      "#### Run 'em"
     ]
    },
    {
     "cell_type": "code",
     "collapsed": false,
     "input": [
      "import daisychain as dc\n",
      "dorun=True\n",
      "if dorun:\n",
      "    pickleNames = dc.daisychain(outBase = \"run\",dtn=10e3, iters=3)\n",
      "else:\n",
      "    pickleNames = dc.daisychain(outBase = \"run\",dtn=10e3, iters=3, namesOnly=True)"
     ],
     "language": "python",
     "metadata": {},
     "outputs": [
      {
       "output_type": "stream",
       "stream": "stdout",
       "text": [
        "Loaded ODE model 'shannon_2004' with:\n"
       ]
      },
      {
       "output_type": "stream",
       "stream": "stderr",
       "text": [
        "INFO:ModelParameters:Loaded ODE model 'shannon_2004' with:\n"
       ]
      },
      {
       "output_type": "stream",
       "stream": "stdout",
       "text": [
        "     Num full states: 39\n"
       ]
      },
      {
       "output_type": "stream",
       "stream": "stderr",
       "text": [
        "INFO:ModelParameters:     Num full states: 39\n"
       ]
      },
      {
       "output_type": "stream",
       "stream": "stdout",
       "text": [
        "      Num parameters: 124\n"
       ]
      },
      {
       "output_type": "stream",
       "stream": "stderr",
       "text": [
        "INFO:ModelParameters:      Num parameters: 124\n"
       ]
      },
      {
       "output_type": "stream",
       "stream": "stdout",
       "text": [
        "Using revised params from runner.py\n",
        "SUCCESS! Wrote output to "
       ]
      },
      {
       "output_type": "stream",
       "stream": "stdout",
       "text": [
        " run_1.pickle\n",
        "Reading run_1.pickle\n",
        "Loaded ODE model 'shannon_2004' with:\n"
       ]
      },
      {
       "output_type": "stream",
       "stream": "stderr",
       "text": [
        "INFO:ModelParameters:Loaded ODE model 'shannon_2004' with:\n"
       ]
      },
      {
       "output_type": "stream",
       "stream": "stdout",
       "text": [
        "     Num full states: 39\n"
       ]
      },
      {
       "output_type": "stream",
       "stream": "stderr",
       "text": [
        "INFO:ModelParameters:     Num full states: 39\n"
       ]
      },
      {
       "output_type": "stream",
       "stream": "stdout",
       "text": [
        "      Num parameters: 124\n"
       ]
      },
      {
       "output_type": "stream",
       "stream": "stderr",
       "text": [
        "INFO:ModelParameters:      Num parameters: 124\n"
       ]
      },
      {
       "output_type": "stream",
       "stream": "stdout",
       "text": [
        "Using revised params from runner.py\n",
        "SUCCESS! Wrote output to "
       ]
      },
      {
       "output_type": "stream",
       "stream": "stdout",
       "text": [
        " run_2.pickle\n",
        "Reading run_2.pickle\n",
        "Loaded ODE model 'shannon_2004' with:\n"
       ]
      },
      {
       "output_type": "stream",
       "stream": "stderr",
       "text": [
        "INFO:ModelParameters:Loaded ODE model 'shannon_2004' with:\n"
       ]
      },
      {
       "output_type": "stream",
       "stream": "stdout",
       "text": [
        "     Num full states: 39\n"
       ]
      },
      {
       "output_type": "stream",
       "stream": "stderr",
       "text": [
        "INFO:ModelParameters:     Num full states: 39\n"
       ]
      },
      {
       "output_type": "stream",
       "stream": "stdout",
       "text": [
        "      Num parameters: 124\n"
       ]
      },
      {
       "output_type": "stream",
       "stream": "stderr",
       "text": [
        "INFO:ModelParameters:      Num parameters: 124\n"
       ]
      },
      {
       "output_type": "stream",
       "stream": "stdout",
       "text": [
        "Using revised params from runner.py\n",
        "SUCCESS! Wrote output to "
       ]
      },
      {
       "output_type": "stream",
       "stream": "stdout",
       "text": [
        " run_3.pickle\n"
       ]
      }
     ],
     "prompt_number": 7
    },
    {
     "cell_type": "markdown",
     "metadata": {},
     "source": [
      "### Analyze entire trajectory \n",
      "\n",
      "Can use this to review results from entire 'daisy-chained' simulation. However, generally analyses only need to be performed for 'last' iteration "
     ]
    },
    {
     "cell_type": "code",
     "collapsed": false,
     "input": [
      "ts, allsisi, s_idx = dc.concatenateTrajs(pickleNames)"
     ],
     "language": "python",
     "metadata": {},
     "outputs": [
      {
       "output_type": "stream",
       "stream": "stdout",
       "text": [
        "Reading run_1.pickle\n",
        "t "
       ]
      },
      {
       "output_type": "stream",
       "stream": "stdout",
       "text": [
        " 10000.0\n",
        "Reading run_2.pickle\n",
        "t "
       ]
      },
      {
       "output_type": "stream",
       "stream": "stdout",
       "text": [
        " 20000.0\n",
        "Reading run_3.pickle\n",
        "t "
       ]
      },
      {
       "output_type": "stream",
       "stream": "stdout",
       "text": [
        " 30000.0\n"
       ]
      }
     ],
     "prompt_number": 11
    },
    {
     "cell_type": "code",
     "collapsed": false,
     "input": [
      "label = \"Cai\"\n",
      "idx = s_idx.index(label)\n",
      "plt.plot(ts,allsisi[:,idx])\n",
      "#plt.xlim([250e3,300e3])"
     ],
     "language": "python",
     "metadata": {},
     "outputs": [
      {
       "metadata": {},
       "output_type": "pyout",
       "prompt_number": 12,
       "text": [
        "[<matplotlib.lines.Line2D at 0x7efe9e7f60d0>]"
       ]
      },
      {
       "metadata": {},
       "output_type": "display_data",
       "png": "[encoded data removed]",
       "text": [
        "<matplotlib.figure.Figure at 0x7efe9f08e8d0>"
       ]
      }
     ],
     "prompt_number": 12
    },
    {
     "cell_type": "markdown",
     "metadata": {},
     "source": [
      "### Example 2: use 'Case' objects to streamline case identifucation"
     ]
    },
    {
     "cell_type": "code",
     "collapsed": false,
     "input": [
      "import Case"
     ],
     "language": "python",
     "metadata": {},
     "outputs": [],
     "prompt_number": 3
    },
    {
     "cell_type": "markdown",
     "metadata": {},
     "source": [
      "#### Define common parameters"
     ]
    },
    {
     "cell_type": "code",
     "collapsed": false,
     "input": [
      "root = \"./\"\n",
      "stim_period = 1000.  # ms\n",
      "T = 300e3             # total simulation time [ms]\n",
      "nIntervals = 6       # number of intervals (s.t. each pickle contains T/nInterval of data )\n",
      "\n",
      "# for storing data \n",
      "caseDict = dict()\n"
     ],
     "language": "python",
     "metadata": {},
     "outputs": [],
     "prompt_number": 91
    },
    {
     "cell_type": "markdown",
     "metadata": {},
     "source": [
      "#### Define cases "
     ]
    },
    {
     "cell_type": "code",
     "collapsed": false,
     "input": [
      "# case 1\n",
      "tag=\"baseline\"\n",
      "label=\"Baseline\"\n",
      "name = root+\"despa_%s_%d.pickle\"%(tag,stim_period) # filename \n",
      "args = [ # pass in cellml/gotran arguments (eg. in shannon_2004.ode)\n",
      "  \"-var stim_period %f\" % stim_period\n",
      "  ]\n",
      "case = Case.Case(tag=tag,label=label,args=args,nIntervals=nIntervals,T=T, name = name)\n",
      "caseDict[tag] = case\n",
      "\n",
      "\n",
      "tag=\"incrleak\"\n",
      "label=\"+HIP\"\n",
      "name = root+\"despa_%s_%d.pickle\"%(tag,stim_period) # filename \n",
      "args = [ # pass in cellml/gotran arguments (eg. in shannon_2004.ode)\n",
      "  \"-var stim_period %f\" % stim_period,\n",
      "  \"-var G_NaBk %f \" % (0.000297*1.5) # baseline times 1.5\n",
      "  ]\n",
      "case = Case.Case(tag=tag,label=label,args=args,nIntervals=nIntervals,T=T, name = name)\n",
      "caseDict[tag] = case\n",
      "\n"
     ],
     "language": "python",
     "metadata": {},
     "outputs": [],
     "prompt_number": 100
    },
    {
     "cell_type": "markdown",
     "metadata": {},
     "source": [
      "#### Generate command line inputs "
     ]
    },
    {
     "cell_type": "code",
     "collapsed": false,
     "input": [
      "for key,case in caseDict.iteritems():\n",
      "      print \"# \", key\n",
      "      print case.cmdLine\n",
      "  #print \"python runShannonTest.py \"+\" \".join(healthyArgs)+\" -name \"+healthyName+\" &\"\n",
      "\n"
     ],
     "language": "python",
     "metadata": {},
     "outputs": [
      {
       "output_type": "stream",
       "stream": "stdout",
       "text": [
        "#  baseline\n",
        "python daisychain.py  -var stim_period 1000.000000 -iters 6 -T 50000.000000 -name ./despa_baseline_1000.pickle  &\n",
        "#  incrleak\n",
        "python daisychain.py  -var stim_period 1000.000000 -var G_NaBk 0.000446  -iters 6 -T 50000.000000 -name ./despa_incrleak_1000.pickle  &\n"
       ]
      }
     ],
     "prompt_number": 101
    },
    {
     "cell_type": "markdown",
     "metadata": {},
     "source": [
      "#### Plot data \n",
      "(Note that this comes from the last iteration, since we assume first 'n-1' intervals used for equilibration)"
     ]
    },
    {
     "cell_type": "markdown",
     "metadata": {},
     "source": [
      "##### Store data into objects (last run )"
     ]
    },
    {
     "cell_type": "code",
     "collapsed": false,
     "input": [
      "import analyzeODE as ao\n",
      "\n",
      "for key,case in caseDict.iteritems():\n",
      "      print \"# \", key, case.name\n",
      "      case.data = ao.readPickle(case.name)"
     ],
     "language": "python",
     "metadata": {},
     "outputs": [
      {
       "output_type": "stream",
       "stream": "stdout",
       "text": [
        "#  baseline ./despa_baseline_1000_6.pickle\n",
        "Reading ./despa_baseline_1000_6.pickle\n",
        "# "
       ]
      },
      {
       "output_type": "stream",
       "stream": "stdout",
       "text": [
        " incrleak ./despa_incrleak_1000_6.pickle\n",
        "Reading ./despa_incrleak_1000_6.pickle\n"
       ]
      },
      {
       "ename": "IOError",
       "evalue": "[Errno 2] No such file or directory: './despa_incrleak_1000_6.pickle'",
       "output_type": "pyerr",
       "traceback": [
        "\u001b[0;31m---------------------------------------------------------------------------\u001b[0m\n\u001b[0;31mIOError\u001b[0m                                   Traceback (most recent call last)",
        "\u001b[0;32m<ipython-input-108-9e1853ec7322>\u001b[0m in \u001b[0;36m<module>\u001b[0;34m()\u001b[0m\n\u001b[1;32m      3\u001b[0m \u001b[0;32mfor\u001b[0m \u001b[0mkey\u001b[0m\u001b[0;34m,\u001b[0m\u001b[0mcase\u001b[0m \u001b[0;32min\u001b[0m \u001b[0mcaseDict\u001b[0m\u001b[0;34m.\u001b[0m\u001b[0miteritems\u001b[0m\u001b[0;34m(\u001b[0m\u001b[0;34m)\u001b[0m\u001b[0;34m:\u001b[0m\u001b[0;34m\u001b[0m\u001b[0m\n\u001b[1;32m      4\u001b[0m       \u001b[0;32mprint\u001b[0m \u001b[0;34m\"# \"\u001b[0m\u001b[0;34m,\u001b[0m \u001b[0mkey\u001b[0m\u001b[0;34m,\u001b[0m \u001b[0mcase\u001b[0m\u001b[0;34m.\u001b[0m\u001b[0mname\u001b[0m\u001b[0;34m\u001b[0m\u001b[0m\n\u001b[0;32m----> 5\u001b[0;31m       \u001b[0mcase\u001b[0m\u001b[0;34m.\u001b[0m\u001b[0mdata\u001b[0m \u001b[0;34m=\u001b[0m \u001b[0mao\u001b[0m\u001b[0;34m.\u001b[0m\u001b[0mreadPickle\u001b[0m\u001b[0;34m(\u001b[0m\u001b[0mcase\u001b[0m\u001b[0;34m.\u001b[0m\u001b[0mname\u001b[0m\u001b[0;34m)\u001b[0m\u001b[0;34m\u001b[0m\u001b[0m\n\u001b[0m",
        "\u001b[0;32m/u1/huskeypm/srcs/wholecell/analyzeODE.pyc\u001b[0m in \u001b[0;36mreadPickle\u001b[0;34m(name)\u001b[0m\n\u001b[1;32m     19\u001b[0m \u001b[0;32mdef\u001b[0m \u001b[0mreadPickle\u001b[0m\u001b[0;34m(\u001b[0m\u001b[0mname\u001b[0m \u001b[0;34m=\u001b[0m \u001b[0;34m\"PCa0.75kss0.25.pickle\"\u001b[0m\u001b[0;34m)\u001b[0m\u001b[0;34m:\u001b[0m\u001b[0;34m\u001b[0m\u001b[0m\n\u001b[1;32m     20\u001b[0m   \u001b[0;32mprint\u001b[0m \u001b[0;34m\"Reading \"\u001b[0m \u001b[0;34m+\u001b[0m \u001b[0mname\u001b[0m\u001b[0;34m\u001b[0m\u001b[0m\n\u001b[0;32m---> 21\u001b[0;31m   \u001b[0mpkl_file\u001b[0m \u001b[0;34m=\u001b[0m \u001b[0mopen\u001b[0m\u001b[0;34m(\u001b[0m\u001b[0mname\u001b[0m\u001b[0;34m,\u001b[0m \u001b[0;34m'rb'\u001b[0m\u001b[0;34m)\u001b[0m\u001b[0;34m\u001b[0m\u001b[0m\n\u001b[0m\u001b[1;32m     22\u001b[0m   \u001b[0mdata1\u001b[0m \u001b[0;34m=\u001b[0m \u001b[0mpickle\u001b[0m\u001b[0;34m.\u001b[0m\u001b[0mload\u001b[0m\u001b[0;34m(\u001b[0m\u001b[0mpkl_file\u001b[0m\u001b[0;34m)\u001b[0m\u001b[0;34m\u001b[0m\u001b[0m\n\u001b[1;32m     23\u001b[0m   \u001b[0mpkl_file\u001b[0m\u001b[0;34m.\u001b[0m\u001b[0mclose\u001b[0m\u001b[0;34m(\u001b[0m\u001b[0;34m)\u001b[0m\u001b[0;34m\u001b[0m\u001b[0m\n",
        "\u001b[0;31mIOError\u001b[0m: [Errno 2] No such file or directory: './despa_incrleak_1000_6.pickle'"
       ]
      }
     ],
     "prompt_number": 108
    },
    {
     "cell_type": "markdown",
     "metadata": {},
     "source": [
      "##### Plot cool stuff (first case) "
     ]
    },
    {
     "cell_type": "code",
     "collapsed": false,
     "input": [
      "# first case\n",
      "case = caseDict[\"baseline\"]\n",
      "\n",
      "t = case.data['t']\n",
      "t+= (nIntervals-1)*(T/nIntervals) # should define this elsewhere (dbl check) \n",
      "s = case.data['s']\n",
      "s_idx = case.data['s_idx']\n",
      "\n",
      "plt.figure()\n",
      "idx = s_idx.index(\"Cai\")\n",
      "plt.plot(t,s[:,idx])\n",
      "\n",
      "plt.figure()\n",
      "idx = s_idx.index(\"Nai\")\n",
      "plt.plot(t,s[:,idx])\n",
      "\n"
     ],
     "language": "python",
     "metadata": {},
     "outputs": [
      {
       "metadata": {},
       "output_type": "pyout",
       "prompt_number": 110,
       "text": [
        "[<matplotlib.lines.Line2D at 0x7f562b55eed0>]"
       ]
      },
      {
       "metadata": {},
       "output_type": "display_data",
       "png": "[encoded data removed]",
       "text": [
        "<matplotlib.figure.Figure at 0x7f5604122dd0>"
       ]
      },
      {
       "metadata": {},
       "output_type": "display_data",
       "png": "[encoded data removed]",
       "text": [
        "<matplotlib.figure.Figure at 0x7f5604384cd0>"
       ]
      }
     ],
     "prompt_number": 110
    },
    {
     "cell_type": "markdown",
     "metadata": {},
     "source": [
      "#### Double checking results by looking at entire sequence of runs"
     ]
    },
    {
     "cell_type": "code",
     "collapsed": true,
     "input": [
      "import daisychain as dc\n",
      "name = root+\"despa_baseline_1000.pickle\"\n",
      "pickleNames = dc.daisychain(outBase=case.name,iters=nIntervals,namesOnly=True)\n",
      "print pickleNames"
     ],
     "language": "python",
     "metadata": {},
     "outputs": [
      {
       "output_type": "stream",
       "stream": "stdout",
       "text": [
        "['./despa_baseline_1000_6_1.pickle', './despa_baseline_1000_6_2.pickle', './despa_baseline_1000_6_3.pickle', './despa_baseline_1000_6_4.pickle', './despa_baseline_1000_6_5.pickle', './despa_baseline_1000_6_6.pickle']\n"
       ]
      }
     ],
     "prompt_number": 113
    },
    {
     "cell_type": "code",
     "collapsed": false,
     "input": [
      "ts, allsisi, s_idx = dc.concatenateTrajs(pickleNames)\n",
      "label = \"Cai\"\n",
      "idx = s_idx.index(label)\n",
      "plt.plot(ts,allsisi[:,idx])\n",
      "#plt.xlim([250e3,300e3])"
     ],
     "language": "python",
     "metadata": {},
     "outputs": [
      {
       "output_type": "stream",
       "stream": "stdout",
       "text": [
        "Reading ./despa_baseline_1000_6_1.pickle\n"
       ]
      },
      {
       "ename": "IOError",
       "evalue": "[Errno 2] No such file or directory: './despa_baseline_1000_6_1.pickle'",
       "output_type": "pyerr",
       "traceback": [
        "\u001b[0;31m---------------------------------------------------------------------------\u001b[0m\n\u001b[0;31mIOError\u001b[0m                                   Traceback (most recent call last)",
        "\u001b[0;32m<ipython-input-114-7a871545aa50>\u001b[0m in \u001b[0;36m<module>\u001b[0;34m()\u001b[0m\n\u001b[0;32m----> 1\u001b[0;31m \u001b[0mts\u001b[0m\u001b[0;34m,\u001b[0m \u001b[0mallsisi\u001b[0m\u001b[0;34m,\u001b[0m \u001b[0ms_idx\u001b[0m \u001b[0;34m=\u001b[0m \u001b[0mdc\u001b[0m\u001b[0;34m.\u001b[0m\u001b[0mconcatenateTrajs\u001b[0m\u001b[0;34m(\u001b[0m\u001b[0mpickleNames\u001b[0m\u001b[0;34m)\u001b[0m\u001b[0;34m\u001b[0m\u001b[0m\n\u001b[0m\u001b[1;32m      2\u001b[0m \u001b[0mlabel\u001b[0m \u001b[0;34m=\u001b[0m \u001b[0;34m\"Cai\"\u001b[0m\u001b[0;34m\u001b[0m\u001b[0m\n\u001b[1;32m      3\u001b[0m \u001b[0midx\u001b[0m \u001b[0;34m=\u001b[0m \u001b[0ms_idx\u001b[0m\u001b[0;34m.\u001b[0m\u001b[0mindex\u001b[0m\u001b[0;34m(\u001b[0m\u001b[0mlabel\u001b[0m\u001b[0;34m)\u001b[0m\u001b[0;34m\u001b[0m\u001b[0m\n\u001b[1;32m      4\u001b[0m \u001b[0mplt\u001b[0m\u001b[0;34m.\u001b[0m\u001b[0mplot\u001b[0m\u001b[0;34m(\u001b[0m\u001b[0mts\u001b[0m\u001b[0;34m,\u001b[0m\u001b[0mallsisi\u001b[0m\u001b[0;34m[\u001b[0m\u001b[0;34m:\u001b[0m\u001b[0;34m,\u001b[0m\u001b[0midx\u001b[0m\u001b[0;34m]\u001b[0m\u001b[0;34m)\u001b[0m\u001b[0;34m\u001b[0m\u001b[0m\n\u001b[1;32m      5\u001b[0m \u001b[0;31m#plt.xlim([250e3,300e3])\u001b[0m\u001b[0;34m\u001b[0m\u001b[0;34m\u001b[0m\u001b[0m\n",
        "\u001b[0;32m/u1/huskeypm/srcs/wholecell/daisychain.py\u001b[0m in \u001b[0;36mconcatenateTrajs\u001b[0;34m(pickleNames)\u001b[0m\n\u001b[1;32m     99\u001b[0m   \u001b[0mtprev\u001b[0m\u001b[0;34m=\u001b[0m\u001b[0;36m0\u001b[0m\u001b[0;34m\u001b[0m\u001b[0m\n\u001b[1;32m    100\u001b[0m   \u001b[0;32mfor\u001b[0m \u001b[0mi\u001b[0m\u001b[0;34m,\u001b[0m\u001b[0mpickleName\u001b[0m \u001b[0;32min\u001b[0m \u001b[0menumerate\u001b[0m\u001b[0;34m(\u001b[0m\u001b[0mpickleNames\u001b[0m\u001b[0;34m)\u001b[0m\u001b[0;34m:\u001b[0m\u001b[0;34m\u001b[0m\u001b[0m\n\u001b[0;32m--> 101\u001b[0;31m     \u001b[0mdata\u001b[0m \u001b[0;34m=\u001b[0m \u001b[0mao\u001b[0m\u001b[0;34m.\u001b[0m\u001b[0mreadPickle\u001b[0m\u001b[0;34m(\u001b[0m\u001b[0mpickleName\u001b[0m\u001b[0;34m)\u001b[0m\u001b[0;34m\u001b[0m\u001b[0m\n\u001b[0m\u001b[1;32m    102\u001b[0m     \u001b[0msi\u001b[0m \u001b[0;34m=\u001b[0m \u001b[0mdata\u001b[0m\u001b[0;34m[\u001b[0m\u001b[0;34m's'\u001b[0m\u001b[0;34m]\u001b[0m\u001b[0;34m\u001b[0m\u001b[0m\n\u001b[1;32m    103\u001b[0m     \u001b[0ms_idx\u001b[0m \u001b[0;34m=\u001b[0m \u001b[0mdata\u001b[0m\u001b[0;34m[\u001b[0m\u001b[0;34m's_idx'\u001b[0m\u001b[0;34m]\u001b[0m\u001b[0;34m\u001b[0m\u001b[0m\n",
        "\u001b[0;32m/u1/huskeypm/srcs/wholecell/analyzeODE.pyc\u001b[0m in \u001b[0;36mreadPickle\u001b[0;34m(name)\u001b[0m\n\u001b[1;32m     19\u001b[0m \u001b[0;32mdef\u001b[0m \u001b[0mreadPickle\u001b[0m\u001b[0;34m(\u001b[0m\u001b[0mname\u001b[0m \u001b[0;34m=\u001b[0m \u001b[0;34m\"PCa0.75kss0.25.pickle\"\u001b[0m\u001b[0;34m)\u001b[0m\u001b[0;34m:\u001b[0m\u001b[0;34m\u001b[0m\u001b[0m\n\u001b[1;32m     20\u001b[0m   \u001b[0;32mprint\u001b[0m \u001b[0;34m\"Reading \"\u001b[0m \u001b[0;34m+\u001b[0m \u001b[0mname\u001b[0m\u001b[0;34m\u001b[0m\u001b[0m\n\u001b[0;32m---> 21\u001b[0;31m   \u001b[0mpkl_file\u001b[0m \u001b[0;34m=\u001b[0m \u001b[0mopen\u001b[0m\u001b[0;34m(\u001b[0m\u001b[0mname\u001b[0m\u001b[0;34m,\u001b[0m \u001b[0;34m'rb'\u001b[0m\u001b[0;34m)\u001b[0m\u001b[0;34m\u001b[0m\u001b[0m\n\u001b[0m\u001b[1;32m     22\u001b[0m   \u001b[0mdata1\u001b[0m \u001b[0;34m=\u001b[0m \u001b[0mpickle\u001b[0m\u001b[0;34m.\u001b[0m\u001b[0mload\u001b[0m\u001b[0;34m(\u001b[0m\u001b[0mpkl_file\u001b[0m\u001b[0;34m)\u001b[0m\u001b[0;34m\u001b[0m\u001b[0m\n\u001b[1;32m     23\u001b[0m   \u001b[0mpkl_file\u001b[0m\u001b[0;34m.\u001b[0m\u001b[0mclose\u001b[0m\u001b[0;34m(\u001b[0m\u001b[0;34m)\u001b[0m\u001b[0;34m\u001b[0m\u001b[0m\n",
        "\u001b[0;31mIOError\u001b[0m: [Errno 2] No such file or directory: './despa_baseline_1000_6_1.pickle'"
       ]
      }
     ],
     "prompt_number": 114
    },
    {
     "cell_type": "code",
     "collapsed": false,
     "input": [],
     "language": "python",
     "metadata": {},
     "outputs": []
    }
   ],
   "metadata": {}
  }
 ]
}