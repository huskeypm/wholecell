{
 "metadata": {
  "kernelspec": {
   "display_name": "Python 2",
   "language": "python",
   "name": "python2"
  },
  "language_info": {
   "codemirror_mode": {
    "name": "ipython",
    "version": 2
   },
   "file_extension": ".py",
   "mimetype": "text/x-python",
   "name": "python",
   "nbconvert_exporter": "python",
   "pygments_lexer": "ipython2",
   "version": "2.7.8"
  },
  "name": "",
  "signature": "sha256:e5d7d9d8d5eaa40ab5d1684013e7c28ce2c30f212a76f3d014f3f041f12b554e"
 },
 "nbformat": 3,
 "nbformat_minor": 0,
 "worksheets": [
  {
   "cells": [
    {
     "cell_type": "code",
     "collapsed": false,
     "input": [
      "%load_ext autoreload\n",
      "%autoreload 2"
     ],
     "language": "python",
     "metadata": {},
     "outputs": [],
     "prompt_number": 1
    },
    {
     "cell_type": "code",
     "collapsed": true,
     "input": [
      "import math\n",
      "import cPickle as pickle\n",
      "import gotranJIT\n",
      "from gotran.model.loadmodel import load_ode\n",
      "import analyzeODE as ao\n",
      "import numpy as np\n",
      "import matplotlib.pylab as plt\n",
      "import downSamplePickles as dsp\n",
      "import json\n",
      "import Case \n",
      "import os.path\n",
      "cases = dict()\n",
      "class empty:pass\n",
      "\n",
      "ms_to_s = 1.0e-3\n",
      "mM_to_uM = 1.0e-3"
     ],
     "language": "python",
     "metadata": {},
     "outputs": [
      {
       "output_type": "stream",
       "stream": "stdout",
       "text": [
        "WARNING: ode idx is hardcoded\n"
       ]
      }
     ],
     "prompt_number": 2
    },
    {
     "cell_type": "code",
     "collapsed": false,
     "input": [
      "\n",
      "### out put to directory for despa paper\n",
      "rootOutput = \"/net/share/shared/papers/despa/Brad/\"\n"
     ],
     "language": "python",
     "metadata": {},
     "outputs": [],
     "prompt_number": 3
    },
    {
     "cell_type": "markdown",
     "metadata": {},
     "source": [
      "### Load specific cases "
     ]
    },
    {
     "cell_type": "code",
     "collapsed": false,
     "input": [
      "root = \"/net/share/bdst227/Despa/Despa_Simulations_Data/rat_Simulations/\"\n",
      "\n",
      "cases['baseline'] = Case.Case(tag=\"Control\",label=\"Control\")\n",
      "cases['baseline'].name = root+\"rat_BASELINE_Temp_310p00_leak100p00pct_nka77p00pct_SERCA284p27pct_freq1p0Hz_cat.pkl\"\n",
      "\n",
      "cases['amy'] = Case.Case(tag=\"Amy\",label=\"Amy\")\n",
      "cases['amy'].name = root+\"rat_AMY_Temp_310p00_leak168p00pct_nka88p00pct_SERCA284p27pct_freq1p0Hz_cat.pkl\"\n",
      "\n",
      "cases['hip'] = Case.Case(tag=\"HIP\",label=\"HIP\")\n",
      "cases['hip'].name = root+\"rat_HIP_Temp_310p00_leak168p00pct_nka88p00pct_SERCA151p00pct_freq1p0Hz_cat.pkl\"\n",
      "\n",
      "cases['lcc'] = Case.Case(tag=\"LCC\",label=\"LCC\")\n",
      "cases['lcc'].name = root+\"rat_LCC_Temp_310p00_lcc180p00_leak100p00pct_nka77p00pct_SERCA284p27pct_freq1p0Hz_cat.pkl\"\n",
      "\n",
      "ao.LoadPickles(cases,noOverwrite=True)"
     ],
     "language": "python",
     "metadata": {},
     "outputs": [
      {
       "output_type": "stream",
       "stream": "stdout",
       "text": [
        "#  amy\n",
        "Loading /net/share/bdst227/Despa/Despa_Simulations_Data/rat_Simulations/rat_AMY_Temp_310p00_leak168p00pct_nka88p00pct_SERCA284p27pct_freq1p0Hz_cat.pkl\n",
        "Reading /net/share/bdst227/Despa/Despa_Simulations_Data/rat_Simulations/rat_AMY_Temp_310p00_leak168p00pct_nka88p00pct_SERCA284p27pct_freq1p0Hz_cat.pkl\n",
        "# "
       ]
      },
      {
       "output_type": "stream",
       "stream": "stdout",
       "text": [
        " hip\n",
        "Loading /net/share/bdst227/Despa/Despa_Simulations_Data/rat_Simulations/rat_HIP_Temp_310p00_leak168p00pct_nka88p00pct_SERCA151p00pct_freq1p0Hz_cat.pkl\n",
        "Reading /net/share/bdst227/Despa/Despa_Simulations_Data/rat_Simulations/rat_HIP_Temp_310p00_leak168p00pct_nka88p00pct_SERCA151p00pct_freq1p0Hz_cat.pkl\n",
        "# "
       ]
      },
      {
       "output_type": "stream",
       "stream": "stdout",
       "text": [
        " baseline\n",
        "Loading /net/share/bdst227/Despa/Despa_Simulations_Data/rat_Simulations/rat_BASELINE_Temp_310p00_leak100p00pct_nka77p00pct_SERCA284p27pct_freq1p0Hz_cat.pkl\n",
        "Reading /net/share/bdst227/Despa/Despa_Simulations_Data/rat_Simulations/rat_BASELINE_Temp_310p00_leak100p00pct_nka77p00pct_SERCA284p27pct_freq1p0Hz_cat.pkl\n",
        "# "
       ]
      },
      {
       "output_type": "stream",
       "stream": "stdout",
       "text": [
        " lcc\n",
        "Loading /net/share/bdst227/Despa/Despa_Simulations_Data/rat_Simulations/rat_LCC_Temp_310p00_lcc180p00_leak100p00pct_nka77p00pct_SERCA284p27pct_freq1p0Hz_cat.pkl\n",
        "Reading /net/share/bdst227/Despa/Despa_Simulations_Data/rat_Simulations/rat_LCC_Temp_310p00_lcc180p00_leak100p00pct_nka77p00pct_SERCA284p27pct_freq1p0Hz_cat.pkl\n"
       ]
      }
     ],
     "prompt_number": 9
    },
    {
     "cell_type": "heading",
     "level": 2,
     "metadata": {},
     "source": [
      "SDA\n",
      "\n",
      "PKH - revise to use loaded cases"
     ]
    },
    {
     "cell_type": "code",
     "collapsed": false,
     "input": [
      "ignoreList = ['Vol_Cell', 'Vol_SR', 'Vol_SL', 'Vol_jct1', 'Vol_myo', 'E_Na_jct1', 'E_Na_SL', 'E_Ca_jct1', 'E_Ca_SL', 'E_K', 'E_Cl',\\\n",
      "              'openProb', 'alpha_h', 'beta_h', 'alpha_j', 'beta_j', 'alpha_m', 'beta_m', 'sigma', 'f_NaK', 'Xr_infinity', 'tau_Xr',\\\n",
      "              'Rr', 'pCa_jct1', 'pCa_SL', 'G_Ks_jct1', 'G_Ks_SL', 'E_Ks', 'Xs_infinity', 'tau_Xs', 'X_Kur_slowss', 'tau_Xkur',\\\n",
      "              'Y_Kur_slowss', 'tau_Ykur1', 'tau_Ykur2', 'a_Kur', 'fIKuravail', 'xssss', 'tauxss', 'X_tos_infinity', 'tau_X_tos',\\\n",
      "              'Y_tos_infinity', 'tau_Y_tos', 'R_tos_infinity', 'tau_R_tos', 'X_tof_infinity', 'tau_X_tof', 'Y_tof_infinity',\\\n",
      "              'tau_Y_tof', 'alpha_K1', 'beta_K1', 'K1_infinity', 'd_infinity', 'tau_d', 'f_infinity', 'tau_f', 'fCa_SL', 'fCa_jct1',\\\n",
      "              'temp_jct1', 'temp_SL', 'Q_NCX', 'Ka_SL', 'Ka_jct1', 'Q_SLCaP', 'kCaSR', 'koSRCa', 'kiSRCa', 'RI', 'Q_SRCaP',\\\n",
      "              'J_Na_jct1_SL', 'J_Na_SL_myo', 'J_Ca_jct1_SL', 'J_Ca_SL_myo', 'dCa_TroponinC', 'dCa_TroponinC_Ca_Mg',\\\n",
      "              'dMg_TroponinC_Ca_Mg', 'dCa_Calmodulin', 'dCa_Myosin', 'dMg_Myosin', 'dCa_SRB', 'dCa_cytosol_tot_bound', 'G_IKr', 'G_K1',\\\n",
      "              'Q_CaL', 'temp', 'dNa_jct1_buf', 'dNa_SL_buf', 'dCalsequestrin', 'dCa_SLB_SL', 'dCa_SLB_jct1', 'dCa_SLHigh_SL',\\\n",
      "              'dCa_SLHigh_jct1', 'dCa_jct1_tot_bound', 'dCa_SL_tot_bound', 'i_Na_SL', 'i_Na_jct1','i_Nab_SL', 'i_Nab_jct1','i_Cab_SL',\\\n",
      "              'i_Cab_jct1','i_Cap_SL', 'i_Cap_jct1', 'i_NaCa_SL', 'i_NaCa_jct1','i_Ca_SL_tot','i_Ca_jct1_tot','i_NaK_SL', 'i_NaK_jct1',\\\n",
      "              'i_CaL_Ca_SL', 'i_CaL_Ca_jct1','i_CaL_Na_SL', 'i_CaL_Na_jct1','Ca_SL','Ca_jct1','fCaB_SL','Ca_SLB_SL','Ca_SLB_jct1','fCaB_jct1',\\\n",
      "              'Ca_SLHigh_SL','Ca_SLHigh_jct1']"
     ],
     "language": "python",
     "metadata": {},
     "outputs": [],
     "prompt_number": 10
    },
    {
     "cell_type": "code",
     "collapsed": false,
     "input": [
      "rootOutput=\"/net/share/shared/papers/despa/Brad/\"\n",
      "wanted = [\"baseline\", \"amy\", \"hip\", \"lcc\"]\n",
      "indSS = [45e3,59e3]\n",
      "xlim = indSS\n",
      "ao.StateDecompositionAnalysisBetter(rootOutput,cases,wanted,indSS,xlim=xlim,\n",
      "                              mode=\"states\",ranked=20,ignoreList=ignoreList,Title=\"Predicted State Modulations T310 Means\",\n",
      "                              sortby=\"mean\",legendMover1=1.275,legendMover2=1.04,\n",
      "                              j_to_i=None,autolabel=False)"
     ],
     "language": "python",
     "metadata": {},
     "outputs": [
      {
       "output_type": "stream",
       "stream": "stdout",
       "text": [
        "Pulling states\n",
        "Selecting:  baseline\n",
        "Selecting: "
       ]
      },
      {
       "output_type": "stream",
       "stream": "stdout",
       "text": [
        " amy\n",
        "Selecting: "
       ]
      },
      {
       "output_type": "stream",
       "stream": "stdout",
       "text": [
        " hip\n",
        "Selecting: "
       ]
      },
      {
       "output_type": "stream",
       "stream": "stdout",
       "text": [
        " lcc\n",
        "idx(0/20): "
       ]
      },
      {
       "output_type": "stream",
       "stream": "stdout",
       "text": [
        " I pct 0.89  0 1.3e-01 3.1e-03/1.0e+00 1 2.5e-01 5.8e-03/1.9e+00\n",
        "idx(1/19):  O pct 0.43  0 1.8e-02 1.6e-04/1.0e+00 1 3.8e-02 2.3e-04/1.4e+00\n",
        "idx(2/41):  Cai pct 0.38  0 6.2e-04 1.6e-04/1.0e+00 1 1.0e-03 2.2e-04/1.4e+00\n",
        "idx(4/24):  Ca_Calmodulin pct 0.35  0 1.9e-03 5.4e-04/1.0e+00 1 3.0e-03 7.2e-04/1.3e+00\n",
        "idx(6/25):  Ca_Myosin pct 0.31  0 2.4e-03 2.3e-03/1.0e+00 1 3.2e-03 3.1e-03/1.3e+00\n",
        "idx(10/23):  Mg_TroponinC_Ca_Mg pct -0.24  0 9.3e-03 9.1e-03/1.0e+00 1 7.1e-03 6.9e-03/7.6e-01\n",
        "idx(11/21):  Ca_TroponinC pct 0.21  0 3.1e-02 1.4e-02/1.0e+00 1 4.1e-02 1.7e-02/1.2e+00\n",
        "idx(12/27):  Ca_SRB pct 0.20  0 8.4e-03 3.4e-03/1.0e+00 1 1.1e-02 4.1e-03/1.2e+00\n",
        "idx(16/14):  d pct -0.13  0 8.1e-01 4.5e-03/1.0e+00 1 8.0e-01 3.9e-03/8.7e-01\n",
        "idx(17/38):  Ca_SR pct 0.12  0 6.3e-01 5.5e-01/1.0e+00 1 7.2e-01 6.2e-01/1.1e+00\n",
        "idx(18/2):  m pct -0.07  0 1.0e+00 1.3e-02/1.0e+00 1 1.0e+00 1.2e-02/9.3e-01\n",
        "idx(19/33):  Ca_Calsequestrin pct 0.06  0 1.3e+00 1.2e+00/1.0e+00 1 1.4e+00 1.3e+00/1.1e+00\n",
        "idx(20/18):  R pct -0.05  0 8.0e-01 6.0e-01/1.0e+00 1 7.4e-01 5.7e-01/9.5e-01\n",
        "idx(21/12):  X_tof pct -0.05  0 8.7e-01 5.2e-03/1.0e+00 1 8.4e-01 4.9e-03/9.5e-01\n",
        "idx(22/13):  Y_tof pct 0.05  0 8.3e-01 7.2e-01/1.0e+00 1 8.6e-01 7.5e-01/1.1e+00\n",
        "idx(23/22):  Ca_TroponinC_Ca_Mg pct 0.04  0 1.2e-01 1.2e-01/1.0e+00 1 1.3e-01 1.3e-01/1.0e+00\n",
        "idx(24/3):  Xr pct 0.02  0 2.1e-01 2.0e-02/1.0e+00 1 2.0e-01 2.0e-02/1.0e+00\n",
        "idx(25/5):  X_Kur_slow pct -0.02  0 6.8e-01 1.5e-02/1.0e+00 1 6.8e-01 1.4e-02/9.8e-01\n",
        "idx(26/4):  Xs pct 0.02  0 1.5e-02 7.6e-03/1.0e+00 1 1.4e-02 7.7e-03/1.0e+00\n",
        "idx(27/8):  Xss pct -0.01  0 1.3e-01 1.4e-02/1.0e+00 1 1.2e-01 1.3e-02/9.9e-01\n",
        "Pulling the rip cord!!!!!\n"
       ]
      },
      {
       "metadata": {},
       "output_type": "pyout",
       "prompt_number": 17,
       "text": [
        "[<Case.Case instance at 0x7fcb1a289d40>,\n",
        " <Case.Case instance at 0x7fcb1a13e518>,\n",
        " <Case.Case instance at 0x7fcb1a13e5f0>,\n",
        " <Case.Case instance at 0x7fcb1a2c9440>]"
       ]
      },
      {
       "metadata": {},
       "output_type": "display_data",
       "text": [
        "<matplotlib.figure.Figure at 0x7fcb829859d0>"
       ]
      },
      {
       "metadata": {},
       "output_type": "display_data",
       "png": "[encoded data removed]",
       "text": [
        "<matplotlib.figure.Figure at 0x7fcb1a241f10>"
       ]
      }
     ],
     "prompt_number": 17
    },
    {
     "cell_type": "code",
     "collapsed": false,
     "input": [
      "rootOutput=\"/net/share/shared/papers/despa/Brad/\"\n",
      "wanted = [\"baseline\", \"amy\", \"hip\", \"lcc\"]\n",
      "#indSS = [5e3,15e3]\n",
      "indSS = [45e3,59e3]\n",
      "xlim = indSS\n",
      "\n",
      "# Do first for SL currents only \n",
      "ignoreEvenMore = ignoreList[:]\n",
      "refList = cases['baseline'].data['j_idx']\n",
      "[ignoreEvenMore.append(a) for a in refList if \"j_\" in a] # Add 'j's to ignore list\n",
      "tag = \"_currentsOnly\"\n",
      "#print ignoreEvenMore\n",
      "if 1:\n",
      "  ao.StateDecompositionAnalysisBetter(rootOutput,cases,wanted,indSS,xlim=xlim,tag=tag,\n",
      "                              mode=\"fluxes\",ranked=20,ignoreList=ignoreEvenMore,Title=\"Predicted Current Modulations T310 by Amplitude\",\n",
      "                              sortby=\"amp\",legendMover1=1.275,legendMover2=1.03,\n",
      "                              j_to_i=26.923, # j_to_i is equal to mouse conversion, pA/pF * ms/um based on i = 1/2F Cp/V j, where Cp=200 pF and V = 28 pL\n",
      "                              autolabel=True)\n"
     ],
     "language": "python",
     "metadata": {},
     "outputs": [
      {
       "output_type": "stream",
       "stream": "stdout",
       "text": [
        "Pulling fluxes\n",
        "Selecting:  baseline\n",
        "Selecting: "
       ]
      },
      {
       "output_type": "stream",
       "stream": "stdout",
       "text": [
        " amy\n",
        "Selecting: "
       ]
      },
      {
       "output_type": "stream",
       "stream": "stdout",
       "text": [
        " hip\n",
        "Selecting: "
       ]
      },
      {
       "output_type": "stream",
       "stream": "stdout",
       "text": [
        " lcc\n",
        "idx(4/14): "
       ]
      },
      {
       "output_type": "stream",
       "stream": "stdout",
       "text": [
        " AMP  i_Na                 0 1.4e+02 1 2.5e+02 [105.02,pctdiff 74.5] \n",
        "idx(16/64):  AMP  i_tof                0 3.0e+01 1 2.9e+01 [-1.17,pctdiff -3.8] \n",
        "idx(30/72):  AMP  i_Cl_Ca              0 8.2e-01 1 1.0e+00 [0.18,pctdiff 22.1] \n",
        "idx(32/52):  AMP  i_kur                0 1.9e+01 1 1.9e+01 [0.15,pctdiff 0.8] \n",
        "idx(34/125):  AMP  i_CaL_K              0 1.7e+00 1 1.6e+00 [-0.11,pctdiff -6.8] \n",
        "idx(35/94):  AMP  i_Cab                0 1.5e-01 1 2.4e-01 [0.09,pctdiff 63.7] \n",
        "idx(36/50):  AMP  i_kur1               0 1.1e+01 1 1.1e+01 [0.09,pctdiff 0.8] \n",
        "idx(39/55):  AMP  i_ss                 0 1.3e+00 1 1.2e+00 [-0.08,pctdiff -6.1] \n",
        "idx(41/51):  AMP  i_kur2               0 8.5e+00 1 8.6e+00 [0.07,pctdiff 0.8] \n",
        "idx(42/28):  AMP  i_NaK                0 3.8e-01 1 4.3e-01 [0.05,pctdiff 13.2] \n",
        "idx(46/126):  AMP  i_CaL                0 2.3e+01 1 2.3e+01 [-0.04,pctdiff -0.2] \n",
        "idx(50/87):  AMP  i_NaCa               0 7.4e-01 1 7.7e-01 [0.03,pctdiff 4.6] \n",
        "idx(51/73):  AMP  i_Clb                0 7.1e-01 1 6.8e-01 [-0.03,pctdiff -4.5] \n",
        "idx(62/116):  AMP  i_Kr                 0 1.4e-01 1 1.3e-01 [-0.01,pctdiff -7.4] \n",
        "idx(78/118):  AMP  i_K1                 0 1.3e+00 1 1.3e+00 [0.00,pctdiff 0.1] \n",
        "idx(81/23):  AMP  i_Nab                0 2.0e-01 1 2.0e-01 [-0.00,pctdiff -0.4] \n",
        "idx(84/56):  AMP  i_Kp                 0 1.0e-03 1 5.4e-04 [-0.00,pctdiff -46.0] \n",
        "idx(91/91):  AMP  i_Cap                0 6.7e-02 1 6.7e-02 [0.00,pctdiff 0.3] \n",
        "idx(121/138):  AMP  i_Stim               0 9.5e+00 1 9.5e+00 [0.00,pctdiff 0.0] \n",
        "idx(123/57):  AMP  i_tos                0 0.0e+00 1 0.0e+00 [0.00,pctdiff nan] \n",
        "Pulling the rip cord!!!!!\n"
       ]
      },
      {
       "output_type": "stream",
       "stream": "stderr",
       "text": [
        "analyzeODE.py:1134: RuntimeWarning: invalid value encountered in double_scalars\n",
        "  100*wanted[1].amp[idx]/wanted[0].amp[idx]-100)\n"
       ]
      },
      {
       "metadata": {},
       "output_type": "display_data",
       "text": [
        "<matplotlib.figure.Figure at 0x7fcb19b788d0>"
       ]
      },
      {
       "metadata": {},
       "output_type": "display_data",
       "png": "[encoded data removed]",
       "text": [
        "<matplotlib.figure.Figure at 0x7fcb1a3cd050>"
       ]
      }
     ],
     "prompt_number": 18
    },
    {
     "cell_type": "code",
     "collapsed": false,
     "input": [
      "rootOutput=\"/net/share/shared/papers/despa/Brad/\"\n",
      "wanted = [\"baseline\", \"amy\", \"hip\", \"lcc\"]\n",
      "#indSS = [5e3,15e3]\n",
      "indSS = [45e3,59e3]\n",
      "xlim = indSS\n",
      "   \n",
      "# Do first for fluxes only \n",
      "ignoreEvenMore = ignoreList[:]\n",
      "refList = cases['baseline'].data['j_idx']\n",
      "[ignoreEvenMore.append(a) for a in refList if \"i_\" in a] # Add 'i's to ignore list\n",
      "tag = \"_fluxesOnly\"\n",
      "#print ignoreEvenMore\n",
      "if 1:\n",
      "  ao.StateDecompositionAnalysisBetter(rootOutput,cases,wanted,indSS,xlim=xlim,tag=tag,\n",
      "                              mode=\"fluxes\",ranked=20,ignoreList=ignoreEvenMore,Title=\"Predicted Current Modulations T310 by Amplitude\",\n",
      "                              sortby=\"amp\",legendMover1=1.275,legendMover2=1.03,\n",
      "                              j_to_i=26.923, # j_to_i is equal to mouse conversion, pA/pF * ms/um based on i = 1/2F Cp/V j, where Cp=200 pF and V = 28 pL\n",
      "                              autolabel=False)    "
     ],
     "language": "python",
     "metadata": {},
     "outputs": [
      {
       "output_type": "stream",
       "stream": "stdout",
       "text": [
        "Pulling fluxes\n",
        "Selecting:  baseline\n",
        "Selecting: "
       ]
      },
      {
       "output_type": "stream",
       "stream": "stdout",
       "text": [
        " amy\n",
        "Selecting: "
       ]
      },
      {
       "output_type": "stream",
       "stream": "stdout",
       "text": [
        " hip\n",
        "Selecting: "
       ]
      },
      {
       "output_type": "stream",
       "stream": "stdout",
       "text": [
        " lcc\n",
        "idx(37/99): "
       ]
      },
      {
       "output_type": "stream",
       "stream": "stdout",
       "text": [
        " AMP  j_rel_SR             0 1.4e-01 1 2.3e-01 [0.09,pctdiff 60.0] \n",
        "idx(76/102):  AMP  j_pump_SR            0 7.7e-03 1 8.9e-03 [0.00,pctdiff 15.8] \n",
        "idx(105/100):  AMP  j_leak_SR            0 6.7e-06 1 7.7e-06 [0.00,pctdiff 14.4] \n"
       ]
      },
      {
       "metadata": {},
       "output_type": "display_data",
       "text": [
        "<matplotlib.figure.Figure at 0x7fcb8295e6d0>"
       ]
      },
      {
       "metadata": {},
       "output_type": "display_data",
       "png": "[encoded data removed]",
       "text": [
        "<matplotlib.figure.Figure at 0x7fcb8298f890>"
       ]
      }
     ],
     "prompt_number": 19
    },
    {
     "cell_type": "code",
     "collapsed": false,
     "input": [],
     "language": "python",
     "metadata": {},
     "outputs": []
    }
   ],
   "metadata": {}
  }
 ]
}