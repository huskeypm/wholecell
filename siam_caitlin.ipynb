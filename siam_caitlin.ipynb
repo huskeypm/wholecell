{
 "metadata": {
  "name": "",
  "signature": "sha256:9dc3a46ad385f51c244343d505c76de72cc564e98f9e3c63c0d96fbec69b45d6"
 },
 "nbformat": 3,
 "nbformat_minor": 0,
 "worksheets": [
  {
   "cells": [
    {
     "cell_type": "markdown",
     "metadata": {},
     "source": [
      "## Notebook for analyzing myocyte results \n",
      "\n",
      "Below are examples for running single (mpi-based) jobs or performing a loop over some parameter (like the diffusion constant). I will be interested in knowing, for instance, how the cleft and cytosol calcium concentrations vary (e.g. peak amplitude or time-to-peak amplitude) as a function of various parameters. \n"
     ]
    },
    {
     "cell_type": "code",
     "collapsed": false,
     "input": [
      "%load_ext autoreload\n",
      "%autoreload 2"
     ],
     "language": "python",
     "metadata": {},
     "outputs": [],
     "prompt_number": 1
    },
    {
     "cell_type": "code",
     "collapsed": false,
     "input": [
      "import analyze\n",
      "class empty:pass"
     ],
     "language": "python",
     "metadata": {},
     "outputs": [],
     "prompt_number": 2
    },
    {
     "cell_type": "markdown",
     "metadata": {},
     "source": [
      "### for jobs with SSL\n",
      "Ex. 2D wSSL\n",
      "<code>\n",
      "mpirun -np 8 python sachse.py -test2D\n",
      "</code>"
     ]
    },
    {
     "cell_type": "code",
     "collapsed": false,
     "input": [
      "job1 = empty() # create container\n",
      "job1.hdfName = \"2D_SSL.h5\"\n",
      "job1.ts,job1.concsCaCleft,job1.concsCaSSL,job1.concsCa = analyze.ReadHdf(job1.hdfName,ssl=True)"
     ],
     "language": "python",
     "metadata": {},
     "outputs": [
      {
       "output_type": "stream",
       "stream": "stderr",
       "text": [
        "DEBUG:FFC:Reusing form from cache.\n"
       ]
      },
      {
       "output_type": "stream",
       "stream": "stderr",
       "text": [
        "DEBUG:FFC:Reusing form from cache.\n"
       ]
      },
      {
       "output_type": "stream",
       "stream": "stderr",
       "text": [
        "DEBUG:FFC:Reusing form from cache.\n"
       ]
      },
      {
       "output_type": "stream",
       "stream": "stderr",
       "text": [
        "DEBUG:FFC:Reusing form from cache.\n"
       ]
      },
      {
       "output_type": "stream",
       "stream": "stderr",
       "text": [
        "DEBUG:FFC:Reusing form from cache.\n"
       ]
      },
      {
       "output_type": "stream",
       "stream": "stderr",
       "text": [
        "DEBUG:FFC:Reusing form from cache.\n"
       ]
      },
      {
       "output_type": "stream",
       "stream": "stderr",
       "text": [
        "DEBUG:FFC:Reusing form from cache.\n"
       ]
      },
      {
       "output_type": "stream",
       "stream": "stderr",
       "text": [
        "DEBUG:FFC:Reusing form from cache.\n"
       ]
      },
      {
       "output_type": "stream",
       "stream": "stderr",
       "text": [
        "DEBUG:FFC:Reusing form from cache.\n"
       ]
      },
      {
       "output_type": "stream",
       "stream": "stderr",
       "text": [
        "DEBUG:FFC:Reusing form from cache.\n"
       ]
      },
      {
       "output_type": "stream",
       "stream": "stderr",
       "text": [
        "DEBUG:FFC:Reusing form from cache.\n"
       ]
      },
      {
       "output_type": "stream",
       "stream": "stderr",
       "text": [
        "DEBUG:FFC:Reusing form from cache.\n"
       ]
      },
      {
       "output_type": "stream",
       "stream": "stderr",
       "text": [
        "DEBUG:FFC:Reusing form from cache.\n"
       ]
      },
      {
       "output_type": "stream",
       "stream": "stderr",
       "text": [
        "DEBUG:FFC:Reusing form from cache.\n"
       ]
      },
      {
       "output_type": "stream",
       "stream": "stderr",
       "text": [
        "DEBUG:FFC:Reusing form from cache.\n"
       ]
      },
      {
       "output_type": "stream",
       "stream": "stderr",
       "text": [
        "DEBUG:FFC:Reusing form from cache.\n"
       ]
      },
      {
       "output_type": "stream",
       "stream": "stderr",
       "text": [
        "DEBUG:FFC:Reusing form from cache.\n"
       ]
      },
      {
       "output_type": "stream",
       "stream": "stderr",
       "text": [
        "DEBUG:FFC:Reusing form from cache.\n"
       ]
      },
      {
       "output_type": "stream",
       "stream": "stderr",
       "text": [
        "DEBUG:FFC:Reusing form from cache.\n"
       ]
      },
      {
       "output_type": "stream",
       "stream": "stderr",
       "text": [
        "DEBUG:FFC:Reusing form from cache.\n"
       ]
      },
      {
       "output_type": "stream",
       "stream": "stderr",
       "text": [
        "DEBUG:FFC:Reusing form from cache.\n"
       ]
      },
      {
       "output_type": "stream",
       "stream": "stderr",
       "text": [
        "DEBUG:FFC:Reusing form from cache.\n"
       ]
      },
      {
       "output_type": "stream",
       "stream": "stderr",
       "text": [
        "DEBUG:FFC:Reusing form from cache.\n"
       ]
      },
      {
       "output_type": "stream",
       "stream": "stderr",
       "text": [
        "DEBUG:FFC:Reusing form from cache.\n"
       ]
      },
      {
       "output_type": "stream",
       "stream": "stderr",
       "text": [
        "DEBUG:FFC:Reusing form from cache.\n"
       ]
      },
      {
       "output_type": "stream",
       "stream": "stderr",
       "text": [
        "DEBUG:FFC:Reusing form from cache.\n"
       ]
      },
      {
       "output_type": "stream",
       "stream": "stderr",
       "text": [
        "DEBUG:FFC:Reusing form from cache.\n"
       ]
      },
      {
       "output_type": "stream",
       "stream": "stderr",
       "text": [
        "DEBUG:FFC:Reusing form from cache.\n"
       ]
      },
      {
       "output_type": "stream",
       "stream": "stderr",
       "text": [
        "DEBUG:FFC:Reusing form from cache.\n"
       ]
      },
      {
       "output_type": "stream",
       "stream": "stderr",
       "text": [
        "DEBUG:FFC:Reusing form from cache.\n"
       ]
      },
      {
       "output_type": "stream",
       "stream": "stderr",
       "text": [
        "DEBUG:FFC:Reusing form from cache.\n"
       ]
      },
      {
       "output_type": "stream",
       "stream": "stdout",
       "text": [
        "[ 0.] [ 0.] [ 0.]\n",
        "Assemble 0/6.123196\n",
        "Assemble 1/3.962104\n",
        "Assemble 2/2.729129\n",
        "Assemble 3/2.023662\n",
        "Assemble 4/1.619874\n",
        "Assemble 5/1.388752\n",
        "Assemble 6/1.256463\n",
        "Assemble 7/1.180746"
       ]
      },
      {
       "output_type": "stream",
       "stream": "stderr",
       "text": [
        "DEBUG:FFC:Reusing form from cache.\n"
       ]
      },
      {
       "output_type": "stream",
       "stream": "stderr",
       "text": [
        "DEBUG:FFC:Reusing form from cache.\n"
       ]
      },
      {
       "output_type": "stream",
       "stream": "stderr",
       "text": [
        "DEBUG:FFC:Reusing form from cache.\n"
       ]
      },
      {
       "output_type": "stream",
       "stream": "stderr",
       "text": [
        "DEBUG:FFC:Reusing form from cache.\n"
       ]
      },
      {
       "output_type": "stream",
       "stream": "stderr",
       "text": [
        "DEBUG:FFC:Reusing form from cache.\n"
       ]
      },
      {
       "output_type": "stream",
       "stream": "stderr",
       "text": [
        "DEBUG:FFC:Reusing form from cache.\n"
       ]
      },
      {
       "output_type": "stream",
       "stream": "stderr",
       "text": [
        "DEBUG:FFC:Reusing form from cache.\n"
       ]
      },
      {
       "output_type": "stream",
       "stream": "stderr",
       "text": [
        "DEBUG:FFC:Reusing form from cache.\n"
       ]
      },
      {
       "output_type": "stream",
       "stream": "stderr",
       "text": [
        "DEBUG:FFC:Reusing form from cache.\n"
       ]
      },
      {
       "output_type": "stream",
       "stream": "stderr",
       "text": [
        "DEBUG:FFC:Reusing form from cache.\n"
       ]
      },
      {
       "output_type": "stream",
       "stream": "stderr",
       "text": [
        "DEBUG:FFC:Reusing form from cache.\n"
       ]
      },
      {
       "output_type": "stream",
       "stream": "stdout",
       "text": [
        "\n",
        "Assemble 8/1.137409\n",
        "Assemble 9/1.112605\n"
       ]
      }
     ],
     "prompt_number": 8
    },
    {
     "cell_type": "code",
     "collapsed": false,
     "input": [
      "plt.plot(job1.ts,job1.concsCaCleft,label=\"CaCleft\")\n",
      "plt.plot(job1.ts,job1.concsCaSSL,label=\"CaSSL\")\n",
      "plt.plot(job1.ts,job1.concsCa,label=\"Ca\") \n",
      "plt.legend()"
     ],
     "language": "python",
     "metadata": {},
     "outputs": [
      {
       "metadata": {},
       "output_type": "pyout",
       "prompt_number": 9,
       "text": [
        "<matplotlib.legend.Legend at 0x7f89e03c4410>"
       ]
      },
      {
       "metadata": {},
       "output_type": "display_data",
       "png": "[encoded data removed]",
       "text": [
        "<matplotlib.figure.Figure at 0x7f89e0423310>"
       ]
      }
     ],
     "prompt_number": 9
    },
    {
     "cell_type": "markdown",
     "metadata": {},
     "source": [
      "### for jobs w/o SSL\n",
      "For ex.\n",
      "<code>\n",
      "mpirun -np 8 python sachse.py -test2Dno\n",
      "</code>"
     ]
    },
    {
     "cell_type": "code",
     "collapsed": false,
     "input": [
      "job2 = empty()\n",
      "job2.hdfName = \"2D_noSSL.h5\"\n",
      "job2.ts,job2.concsCaCleft,job2.concsCaSSL,job2.concsCa = analyze.ReadHdf(job2.hdfName,ssl=False)"
     ],
     "language": "python",
     "metadata": {},
     "outputs": [
      {
       "output_type": "stream",
       "stream": "stderr",
       "text": [
        "DEBUG:FFC:Reusing form from cache.\n"
       ]
      },
      {
       "output_type": "stream",
       "stream": "stderr",
       "text": [
        "DEBUG:FFC:Reusing form from cache.\n"
       ]
      },
      {
       "output_type": "stream",
       "stream": "stderr",
       "text": [
        "DEBUG:FFC:Reusing form from cache.\n"
       ]
      },
      {
       "output_type": "stream",
       "stream": "stderr",
       "text": [
        "DEBUG:FFC:Reusing form from cache.\n"
       ]
      },
      {
       "output_type": "stream",
       "stream": "stderr",
       "text": [
        "DEBUG:FFC:Reusing form from cache.\n"
       ]
      },
      {
       "output_type": "stream",
       "stream": "stderr",
       "text": [
        "DEBUG:FFC:Reusing form from cache.\n"
       ]
      },
      {
       "output_type": "stream",
       "stream": "stderr",
       "text": [
        "DEBUG:FFC:Reusing form from cache.\n"
       ]
      },
      {
       "output_type": "stream",
       "stream": "stderr",
       "text": [
        "DEBUG:FFC:Reusing form from cache.\n"
       ]
      },
      {
       "output_type": "stream",
       "stream": "stderr",
       "text": [
        "DEBUG:FFC:Reusing form from cache.\n"
       ]
      },
      {
       "output_type": "stream",
       "stream": "stderr",
       "text": [
        "DEBUG:FFC:Reusing form from cache.\n"
       ]
      },
      {
       "output_type": "stream",
       "stream": "stderr",
       "text": [
        "DEBUG:FFC:Reusing form from cache.\n"
       ]
      },
      {
       "output_type": "stream",
       "stream": "stderr",
       "text": [
        "DEBUG:FFC:Reusing form from cache.\n"
       ]
      },
      {
       "output_type": "stream",
       "stream": "stderr",
       "text": [
        "DEBUG:FFC:Reusing form from cache.\n"
       ]
      },
      {
       "output_type": "stream",
       "stream": "stderr",
       "text": [
        "DEBUG:FFC:Reusing form from cache.\n"
       ]
      },
      {
       "output_type": "stream",
       "stream": "stderr",
       "text": [
        "DEBUG:FFC:Reusing form from cache.\n"
       ]
      },
      {
       "output_type": "stream",
       "stream": "stderr",
       "text": [
        "DEBUG:FFC:Reusing form from cache.\n"
       ]
      },
      {
       "output_type": "stream",
       "stream": "stderr",
       "text": [
        "DEBUG:FFC:Reusing form from cache.\n"
       ]
      },
      {
       "output_type": "stream",
       "stream": "stderr",
       "text": [
        "DEBUG:FFC:Reusing form from cache.\n"
       ]
      },
      {
       "output_type": "stream",
       "stream": "stderr",
       "text": [
        "DEBUG:FFC:Reusing form from cache.\n"
       ]
      },
      {
       "output_type": "stream",
       "stream": "stderr",
       "text": [
        "DEBUG:FFC:Reusing form from cache.\n"
       ]
      },
      {
       "output_type": "stream",
       "stream": "stderr",
       "text": [
        "DEBUG:FFC:Reusing form from cache.\n"
       ]
      },
      {
       "output_type": "stream",
       "stream": "stderr",
       "text": [
        "DEBUG:FFC:Reusing form from cache.\n"
       ]
      },
      {
       "output_type": "stream",
       "stream": "stderr",
       "text": [
        "DEBUG:FFC:Reusing form from cache.\n"
       ]
      },
      {
       "output_type": "stream",
       "stream": "stderr",
       "text": [
        "DEBUG:FFC:Reusing form from cache.\n"
       ]
      },
      {
       "output_type": "stream",
       "stream": "stderr",
       "text": [
        "DEBUG:FFC:Reusing form from cache.\n"
       ]
      },
      {
       "output_type": "stream",
       "stream": "stderr",
       "text": [
        "DEBUG:FFC:Reusing form from cache.\n"
       ]
      },
      {
       "output_type": "stream",
       "stream": "stderr",
       "text": [
        "DEBUG:FFC:Reusing form from cache.\n"
       ]
      },
      {
       "output_type": "stream",
       "stream": "stderr",
       "text": [
        "DEBUG:FFC:Reusing form from cache.\n"
       ]
      },
      {
       "output_type": "stream",
       "stream": "stderr",
       "text": [
        "DEBUG:FFC:Reusing form from cache.\n"
       ]
      },
      {
       "output_type": "stream",
       "stream": "stderr",
       "text": [
        "DEBUG:FFC:Reusing form from cache.\n"
       ]
      },
      {
       "output_type": "stream",
       "stream": "stdout",
       "text": [
        "[ 0.] [ 0.] [ 0.]\n",
        "Assemble 0/7.011506\n",
        "Assemble 1/5.844016\n",
        "Assemble 2/5.372612\n",
        "Assemble 3/5.181169\n",
        "Assemble 4/5.103338\n",
        "Assemble 5/5.071690\n",
        "Assemble 6/5.058820\n",
        "Assemble 7/5.053587\n",
        "Assemble 8/5.051459\n",
        "Assemble 9/5.050593"
       ]
      },
      {
       "output_type": "stream",
       "stream": "stderr",
       "text": [
        "DEBUG:FFC:Reusing form from cache.\n"
       ]
      },
      {
       "output_type": "stream",
       "stream": "stderr",
       "text": [
        "DEBUG:FFC:Reusing form from cache.\n"
       ]
      },
      {
       "output_type": "stream",
       "stream": "stdout",
       "text": [
        "\n"
       ]
      }
     ],
     "prompt_number": 10
    },
    {
     "cell_type": "code",
     "collapsed": false,
     "input": [
      "plt.plot(job2.ts,job2.concsCaCleft,label=\"CaCleft\")\n",
      "plt.plot(job2.ts,job2.concsCa,label=\"Ca\") \n",
      "plt.legend()"
     ],
     "language": "python",
     "metadata": {},
     "outputs": [
      {
       "metadata": {},
       "output_type": "pyout",
       "prompt_number": 11,
       "text": [
        "<matplotlib.legend.Legend at 0x7f89e0315c10>"
       ]
      },
      {
       "metadata": {},
       "output_type": "display_data",
       "png": "[encoded data removed]",
       "text": [
        "<matplotlib.figure.Figure at 0x7f89e51580d0>"
       ]
      }
     ],
     "prompt_number": 11
    },
    {
     "cell_type": "markdown",
     "metadata": {},
     "source": [
      "### Looping over runs (single proc)\n",
      "Below is an example where we change the diffusion constant (although we'lll want to vary other params later) \n",
      "Technically you can do a loop within the notebook. However, you're probably better off putting the loop in an external python script, saving the results (e.g via savetxt) and loading the results into the notebook."
     ]
    },
    {
     "cell_type": "code",
     "collapsed": false,
     "input": [
      "import sachse\n",
      "hdfName = \"i.h5\" # where data will be stored\n",
      "params = sachse.Params() # where parameters can be modified\n",
      "params.T = 10.\n",
      "mode=\"2D_SSL\"; ssl = True;\n",
      "#mode =\"noSSL\"; ssl = False;\n",
      "\n",
      "concsCaClefts=[]\n",
      "concsCas=[]\n",
      "\n",
      "import copy\n",
      "  \n",
      "\n",
      "\n",
      "# range of diffusion constants we want to consider\n",
      "iters = 4\n",
      "vs = np.linspace(-2,1,4)\n",
      "#print vs\n",
      "Ds = 10.**vs\n",
      "#print Ds    \n",
      "\n",
      "\n"
     ],
     "language": "python",
     "metadata": {},
     "outputs": [],
     "prompt_number": 47
    },
    {
     "cell_type": "code",
     "collapsed": false,
     "input": [
      "\n",
      "\n",
      "\n",
      "\n",
      "for i,Di in enumerate(Ds):\n",
      "  parms = copy.deepcopy(params)  \n",
      "\n",
      "  # apply diff const   \n",
      "  parms.D_CleftCyto = Di\n",
      "  parms.D_CleftSSL = Di \n",
      "  parms.D_SSLCyto = Di \n",
      "\n",
      "  if 1: # set to 0 to not run, but still read hdf\n",
      "    sachse.tsolve(mode=mode,hdfName=hdfName,params=parms) \n",
      "  \n",
      "  # load data from hdf\n",
      "  tsi,concsCaClefti,concsCaSSLi,concsCai = analyze.ReadHdf(hdfFile=hdfName,ssl=ssl)\n",
      "  # store \n",
      "  concsCaClefts.append(concsCaClefti)\n",
      "  concsCas.append(concsCai)\n",
      "  \n",
      "# put into numpy array\n",
      "concsCaClefts = np.array(concsCaClefts)\n",
      "concsCas = np.array(concsCas)\n"
     ],
     "language": "python",
     "metadata": {},
     "outputs": [
      {
       "output_type": "stream",
       "stream": "stderr",
       "text": [
        "DEBUG:FFC:Reusing form from cache.\n"
       ]
      },
      {
       "output_type": "stream",
       "stream": "stderr",
       "text": [
        "DEBUG:FFC:Reusing form from cache.\n"
       ]
      },
      {
       "output_type": "stream",
       "stream": "stderr",
       "text": [
        "DEBUG:FFC:Reusing form from cache.\n"
       ]
      },
      {
       "output_type": "stream",
       "stream": "stderr",
       "text": [
        "DEBUG:FFC:Reusing form from cache.\n"
       ]
      },
      {
       "output_type": "stream",
       "stream": "stderr",
       "text": [
        "DEBUG:FFC:Reusing form from cache.\n"
       ]
      },
      {
       "output_type": "stream",
       "stream": "stderr",
       "text": [
        "DEBUG:FFC:Reusing form from cache.\n"
       ]
      },
      {
       "output_type": "stream",
       "stream": "stderr",
       "text": [
        "DEBUG:FFC:Reusing form from cache.\n"
       ]
      },
      {
       "output_type": "stream",
       "stream": "stderr",
       "text": [
        "DEBUG:FFC:Reusing form from cache.\n"
       ]
      },
      {
       "output_type": "stream",
       "stream": "stderr",
       "text": [
        "DEBUG:FFC:Reusing form from cache.\n"
       ]
      },
      {
       "output_type": "stream",
       "stream": "stderr",
       "text": [
        "DEBUG:FFC:Reusing form from cache.\n"
       ]
      },
      {
       "output_type": "stream",
       "stream": "stderr",
       "text": [
        "DEBUG:FFC:Reusing form from cache.\n"
       ]
      },
      {
       "output_type": "stream",
       "stream": "stderr",
       "text": [
        "DEBUG:FFC:Reusing form from cache.\n"
       ]
      },
      {
       "output_type": "stream",
       "stream": "stderr",
       "text": [
        "DEBUG:FFC:Reusing form from cache.\n"
       ]
      },
      {
       "output_type": "stream",
       "stream": "stderr",
       "text": [
        "DEBUG:FFC:Reusing form from cache.\n"
       ]
      },
      {
       "output_type": "stream",
       "stream": "stdout",
       "text": [
        "WARNING: will need to updated these\n",
        "PUT INTO BASE CLASS\n",
        "###############  0\n",
        "cCa_n  10.0 conc  10.0\n",
        "cCaSSL_n  100.0 conc  1.0\n",
        "cCaCleft_n  0.1 conc  0.1\n",
        "CONSERVATION: 110.1\n",
        "Calling FFC just-in-time (JIT) compiler, this may take some time.\n"
       ]
      },
      {
       "output_type": "stream",
       "stream": "stderr",
       "text": [
        "Level 25:FFC:Calling FFC just-in-time (JIT) compiler, this may take some time.\n"
       ]
      },
      {
       "output_type": "stream",
       "stream": "stderr",
       "text": [
        "INFO:FFC:Compiling form ffc_form_b4c0a7d6f484a730e710f05d43e9b8624635eb4f\n",
        "\n"
       ]
      },
      {
       "output_type": "stream",
       "stream": "stderr",
       "text": [
        "INFO:FFC:Compiler stage 1: Analyzing form(s)\n"
       ]
      },
      {
       "output_type": "stream",
       "stream": "stderr",
       "text": [
        "INFO:FFC:-----------------------------------\n"
       ]
      },
      {
       "output_type": "stream",
       "stream": "stderr",
       "text": [
        "INFO:UFL:Adjusting missing element domain to <Domain built from <triangle cell in 2D> with label dolfin_mesh_with_id_2890>.\n"
       ]
      },
      {
       "output_type": "stream",
       "stream": "stderr",
       "text": [
        "INFO:UFL:Adjusting missing element domain to <Domain built from <triangle cell in 2D> with label dolfin_mesh_with_id_2890>.\n"
       ]
      },
      {
       "output_type": "stream",
       "stream": "stderr",
       "text": [
        "INFO:FFC:  \n"
       ]
      },
      {
       "output_type": "stream",
       "stream": "stderr",
       "text": [
        "INFO:FFC:  Geometric dimension:                 2\n",
        "  Number of cell subdomains:           0\n",
        "  Number of exterior_facet subdomains: 11\n",
        "  Rank:                                1\n",
        "  Arguments:                           '(v_0)'\n",
        "  Number of coefficients:              4\n",
        "  Coefficients:                        '[f_387, f_2905, f_2907, f_2909]'\n",
        "  Unique elements:                     'Mixed<CG1(?), R0(?), R0(?)>, R0(?)'\n",
        "  Unique sub elements:                 'Mixed<CG1(?), R0(?), R0(?)>, R0(?), CG1(?)'\n",
        "  \n"
       ]
      },
      {
       "output_type": "stream",
       "stream": "stderr",
       "text": [
        "INFO:FFC:  Extracting monomial form representation from UFL form\n"
       ]
      },
      {
       "output_type": "stream",
       "stream": "stderr",
       "text": [
        "DEBUG:FFC:  Monomial extraction failed: No handler defined for expression Division.\n"
       ]
      },
      {
       "output_type": "stream",
       "stream": "stderr",
       "text": [
        "DEBUG:FFC:  Estimated cost of tensor representation: -1\n"
       ]
      },
      {
       "output_type": "stream",
       "stream": "stderr",
       "text": [
        "INFO:FFC:  representation:    auto --> quadrature\n"
       ]
      },
      {
       "output_type": "stream",
       "stream": "stderr",
       "text": [
        "DEBUG:FFC:  Selecting quadrature degree based on total polynomial degree of integrand: 2\n"
       ]
      },
      {
       "output_type": "stream",
       "stream": "stderr",
       "text": [
        "INFO:FFC:  quadrature_degree: auto --> 2\n"
       ]
      },
      {
       "output_type": "stream",
       "stream": "stderr",
       "text": [
        "INFO:FFC:  quadrature_rule:   auto --> default\n"
       ]
      },
      {
       "output_type": "stream",
       "stream": "stderr",
       "text": [
        "INFO:FFC:  Extracting monomial form representation from UFL form\n"
       ]
      },
      {
       "output_type": "stream",
       "stream": "stderr",
       "text": [
        "DEBUG:FFC:  Monomial extraction failed: No handler defined for expression Division.\n"
       ]
      },
      {
       "output_type": "stream",
       "stream": "stderr",
       "text": [
        "DEBUG:FFC:  Estimated cost of tensor representation: -1\n"
       ]
      },
      {
       "output_type": "stream",
       "stream": "stderr",
       "text": [
        "INFO:FFC:  representation:    auto --> quadrature\n"
       ]
      },
      {
       "output_type": "stream",
       "stream": "stderr",
       "text": [
        "DEBUG:FFC:  Selecting quadrature degree based on total polynomial degree of integrand: 2\n"
       ]
      },
      {
       "output_type": "stream",
       "stream": "stderr",
       "text": [
        "INFO:FFC:  quadrature_degree: auto --> 2\n"
       ]
      },
      {
       "output_type": "stream",
       "stream": "stderr",
       "text": [
        "INFO:FFC:  quadrature_rule:   auto --> default\n"
       ]
      },
      {
       "output_type": "stream",
       "stream": "stderr",
       "text": [
        "INFO:FFC:  \n"
       ]
      },
      {
       "output_type": "stream",
       "stream": "stderr",
       "text": [
        "INFO:FFC:Compiler stage 1 finished in 0.0268109 seconds.\n",
        "\n"
       ]
      },
      {
       "output_type": "stream",
       "stream": "stderr",
       "text": [
        "INFO:FFC:Compiler stage 2: Computing intermediate representation\n"
       ]
      },
      {
       "output_type": "stream",
       "stream": "stderr",
       "text": [
        "INFO:FFC:-------------------------------------------------------\n"
       ]
      },
      {
       "output_type": "stream",
       "stream": "stderr",
       "text": [
        "INFO:FFC:  Computing representation of 3 elements\n"
       ]
      },
      {
       "output_type": "stream",
       "stream": "stderr",
       "text": [
        "DEBUG:FFC:  Reusing element from cache\n"
       ]
      },
      {
       "output_type": "stream",
       "stream": "stderr",
       "text": [
        "DEBUG:FFC:  Reusing element from cache\n"
       ]
      },
      {
       "output_type": "stream",
       "stream": "stderr",
       "text": [
        "DEBUG:FFC:  Reusing element from cache\n"
       ]
      },
      {
       "output_type": "stream",
       "stream": "stderr",
       "text": [
        "DEBUG:FFC:  Reusing element from cache\n"
       ]
      },
      {
       "output_type": "stream",
       "stream": "stderr",
       "text": [
        "DEBUG:FFC:  Reusing element from cache\n"
       ]
      },
      {
       "output_type": "stream",
       "stream": "stderr",
       "text": [
        "DEBUG:FFC:  Reusing element from cache\n"
       ]
      },
      {
       "output_type": "stream",
       "stream": "stderr",
       "text": [
        "INFO:FFC:  Computing representation of 3 dofmaps\n"
       ]
      },
      {
       "output_type": "stream",
       "stream": "stderr",
       "text": [
        "DEBUG:FFC:  Reusing element from cache\n"
       ]
      },
      {
       "output_type": "stream",
       "stream": "stderr",
       "text": [
        "DEBUG:FFC:  Reusing element from cache\n"
       ]
      },
      {
       "output_type": "stream",
       "stream": "stderr",
       "text": [
        "DEBUG:FFC:  Reusing element from cache\n"
       ]
      },
      {
       "output_type": "stream",
       "stream": "stderr",
       "text": [
        "INFO:FFC:  Computing representation of integrals\n"
       ]
      },
      {
       "output_type": "stream",
       "stream": "stderr",
       "text": [
        "INFO:FFC:  Computing quadrature representation\n"
       ]
      },
      {
       "output_type": "stream",
       "stream": "stderr",
       "text": [
        "DEBUG:FFC:  Reusing element from cache\n"
       ]
      },
      {
       "output_type": "stream",
       "stream": "stderr",
       "text": [
        "DEBUG:FFC:  Reusing element from cache\n"
       ]
      },
      {
       "output_type": "stream",
       "stream": "stderr",
       "text": [
        "DEBUG:FFC:  Reusing element from cache\n"
       ]
      },
      {
       "output_type": "stream",
       "stream": "stderr",
       "text": [
        "DEBUG:FFC:  Reusing element from cache\n"
       ]
      },
      {
       "output_type": "stream",
       "stream": "stderr",
       "text": [
        "DEBUG:FFC:  Reusing element from cache\n"
       ]
      },
      {
       "output_type": "stream",
       "stream": "stderr",
       "text": [
        "DEBUG:FFC:  Reusing element from cache\n"
       ]
      },
      {
       "output_type": "stream",
       "stream": "stderr",
       "text": [
        "DEBUG:FFC:  Reusing element from cache\n"
       ]
      },
      {
       "output_type": "stream",
       "stream": "stderr",
       "text": [
        "DEBUG:FFC:  \n",
        "  QG-utils, psi_tables:\n",
        "  {3: {FiniteElement('Real', Domain(Cell('triangle', 2), label='dolfin_mesh_with_id_2890', data='<data with id 2890>'), 0, quad_scheme=None): {None: {None: {(0, 0): array([[ 1.,  1.,  1.]])}}}, MixedElement(*[FiniteElement('Lagrange', Domain(Cell('triangle', 2), label='dolfin_mesh_with_id_2890', data='<data with id 2890>'), 1, quad_scheme=None), FiniteElement('Real', Domain(Cell('triangle', 2), label='dolfin_mesh_with_id_2890', data='<data with id 2890>'), 0, quad_scheme=None), FiniteElement('Real', Domain(Cell('triangle', 2), label='dolfin_mesh_with_id_2890', data='<data with id 2890>'), 0, quad_scheme=None)], **{'value_shape': (3,) }): {None: {None: {(0, 1): array([[[ -1.00000000e+00,  -1.00000000e+00,  -1.00000000e+00],\n",
        "          [  0.00000000e+00,   0.00000000e+00,   0.00000000e+00],\n",
        "          [  0.00000000e+00,   0.00000000e+00,   0.00000000e+00]],\n",
        "  \n",
        "         [[  8.88178420e-16,   8.88178420e-16,   8.88178420e-16],\n",
        "          [  0.00000000e+00,   0.00000000e+00,   0.00000000e+00],\n",
        "          [  0.00000000e+00,   0.00000000e+00,   0.00000000e+00]],\n",
        "  \n",
        "         [[  1.00000000e+00,   1.00000000e+00,   1.00000000e+00],\n",
        "          [  0.00000000e+00,   0.00000000e+00,   0.00000000e+00],\n",
        "          [  0.00000000e+00,   0.00000000e+00,   0.00000000e+00]],\n",
        "  \n",
        "         [[  0.00000000e+00,   0.00000000e+00,   0.00000000e+00],\n",
        "          [  0.00000000e+00,   0.00000000e+00,   0.00000000e+00],\n",
        "          [  0.00000000e+00,   0.00000000e+00,   0.00000000e+00]],\n",
        "  \n",
        "         [[  0.00000000e+00,   0.00000000e+00,   0.00000000e+00],\n",
        "          [  0.00000000e+00,   0.00000000e+00,   0.00000000e+00],\n",
        "          [  0.00000000e+00,   0.00000000e+00,   0.00000000e+00]]]), (1, 0): array([[[-1., -1., -1.],\n",
        "          [ 0.,  0.,  0.],\n",
        "          [ 0.,  0.,  0.]],\n",
        "  \n",
        "         [[ 1.,  1.,  1.],\n",
        "          [ 0.,  0.,  0.],\n",
        "          [ 0.,  0.,  0.]],\n",
        "  \n",
        "         [[ 0.,  0.,  0.],\n",
        "          [ 0.,  0.,  0.],\n",
        "          [ 0.,  0.,  0.]],\n",
        "  \n",
        "         [[ 0.,  0.,  0.],\n",
        "          [ 0.,  0.,  0.],\n",
        "          [ 0.,  0.,  0.]],\n",
        "  \n",
        "         [[ 0.,  0.,  0.],\n",
        "          [ 0.,  0.,  0.],\n",
        "          [ 0.,  0.,  0.]]]), (0, 0): array([[[ 0.66666667,  0.16666667,  0.16666667],\n",
        "          [ 0.        ,  0.        ,  0.        ],\n",
        "          [ 0.        ,  0.        ,  0.        ]],\n",
        "  \n",
        "         [[ 0.16666667,  0.16666667,  0.66666667],\n",
        "          [ 0.        ,  0.        ,  0.        ],\n",
        "          [ 0.        ,  0.        ,  0.        ]],\n",
        "  \n",
        "         [[ 0.16666667,  0.66666667,  0.16666667],\n",
        "          [ 0.        ,  0.        ,  0.        ],\n",
        "          [ 0.        ,  0.        ,  0.        ]],\n",
        "  \n",
        "         [[ 0.        ,  0.        ,  0.        ],\n",
        "          [ 1.        ,  1.        ,  1.        ],\n",
        "          [ 0.        ,  0.        ,  0.        ]],\n",
        "  \n",
        "         [[ 0.        ,  0.        ,  0.        ],\n",
        "          [ 0.        ,  0.        ,  0.        ],\n",
        "          [ 1.        ,  1.        ,  1.        ]]])}}}, VectorElement('Lagrange', Domain(Cell('triangle', 2), label='dolfin_mesh_with_id_2890', data='<data with id 2890>'), 1, dim=2, quad_scheme=None): {None: {None: {(0, 1): array([[[ -1.00000000e+00,  -1.00000000e+00,  -1.00000000e+00],\n",
        "          [  0.00000000e+00,   0.00000000e+00,   0.00000000e+00]],\n",
        "  \n",
        "         [[  8.88178420e-16,   8.88178420e-16,   8.88178420e-16],\n",
        "          [  0.00000000e+00,   0.00000000e+00,   0.00000000e+00]],\n",
        "  \n",
        "         [[  1.00000000e+00,   1.00000000e+00,   1.00000000e+00],\n",
        "          [  0.00000000e+00,   0.00000000e+00,   0.00000000e+00]],\n",
        "  \n",
        "         [[  0.00000000e+00,   0.00000000e+00,   0.00000000e+00],\n",
        "          [ -1.00000000e+00,  -1.00000000e+00,  -1.00000000e+00]],\n",
        "  \n",
        "         [[  0.00000000e+00,   0.00000000e+00,   0.00000000e+00],\n",
        "          [  8.88178420e-16,   8.88178420e-16,   8.88178420e-16]],\n",
        "  \n",
        "         [[  0.00000000e+00,   0.00000000e+00,   0.00000000e+00],\n",
        "          [  1.00000000e+00,   1.00000000e+00,   1.00000000e+00]]]), (1, 0): array([[[-1., -1., -1.],\n",
        "          [ 0.,  0.,  0.]],\n",
        "  \n",
        "         [[ 1.,  1.,  1.],\n",
        "          [ 0.,  0.,  0.]],\n",
        "  \n",
        "         [[ 0.,  0.,  0.],\n",
        "          [ 0.,  0.,  0.]],\n",
        "  \n",
        "         [[ 0.,  0.,  0.],\n",
        "          [-1., -1., -1.]],\n",
        "  \n",
        "         [[ 0.,  0.,  0.],\n",
        "          [ 1.,  1.,  1.]],\n",
        "  \n",
        "         [[ 0.,  0.,  0.],\n",
        "          [ 0.,  0.,  0.]]]), (0, 0): array([[[ 0.66666667,  0.16666667,  0.16666667],\n",
        "          [ 0.        ,  0.        ,  0.        ]],\n",
        "  \n",
        "         [[ 0.16666667,  0.16666667,  0.66666667],\n",
        "          [ 0.        ,  0.        ,  0.        ]],\n",
        "  \n",
        "         [[ 0.16666667,  0.66666667,  0.16666667],\n",
        "          [ 0.        ,  0.        ,  0.        ]],\n",
        "  \n",
        "         [[ 0.        ,  0.        ,  0.        ],\n",
        "          [ 0.66666667,  0.16666667,  0.16666667]],\n",
        "  \n",
        "         [[ 0.        ,  0.        ,  0.        ],\n",
        "          [ 0.16666667,  0.16666667,  0.66666667]],\n",
        "  \n",
        "         [[ 0.        ,  0.        ,  0.        ],\n",
        "          [ 0.16666667,  0.66666667,  0.16666667]]])}}}}}\n"
       ]
      },
      {
       "output_type": "stream",
       "stream": "stderr",
       "text": [
        "DEBUG:FFC:  \n",
        "  QG-utils, psi_tables, flat_tables:\n",
        "  {'FE0_C1_D01': array([[  0.00000000e+00,   0.00000000e+00,   0.00000000e+00,\n",
        "           -1.00000000e+00,   8.88178420e-16,   1.00000000e+00],\n",
        "         [  0.00000000e+00,   0.00000000e+00,   0.00000000e+00,\n",
        "           -1.00000000e+00,   8.88178420e-16,   1.00000000e+00],\n",
        "         [  0.00000000e+00,   0.00000000e+00,   0.00000000e+00,\n",
        "           -1.00000000e+00,   8.88178420e-16,   1.00000000e+00]]), 'FE1_C0': array([[ 0.66666667,  0.16666667,  0.16666667,  0.        ,  0.        ],\n",
        "         [ 0.16666667,  0.16666667,  0.66666667,  0.        ,  0.        ],\n",
        "         [ 0.16666667,  0.66666667,  0.16666667,  0.        ,  0.        ]]), 'FE1_C1': array([[ 0.,  0.,  0.,  1.,  0.],\n",
        "         [ 0.,  0.,  0.,  1.,  0.],\n",
        "         [ 0.,  0.,  0.,  1.,  0.]]), 'FE1_C2': array([[ 0.,  0.,  0.,  0.,  1.],\n",
        "         [ 0.,  0.,  0.,  0.,  1.],\n",
        "         [ 0.,  0.,  0.,  0.,  1.]]), 'FE0_C1_D10': array([[ 0.,  0.,  0., -1.,  1.,  0.],\n",
        "         [ 0.,  0.,  0., -1.,  1.,  0.],\n",
        "         [ 0.,  0.,  0., -1.,  1.,  0.]]), 'FE1_C1_D10': array([[ 0.,  0.,  0.,  0.,  0.],\n",
        "         [ 0.,  0.,  0.,  0.,  0.],\n",
        "         [ 0.,  0.,  0.,  0.,  0.]]), 'FE1_C2_D10': array([[ 0.,  0.,  0.,  0.,  0.],\n",
        "         [ 0.,  0.,  0.,  0.,  0.],\n",
        "         [ 0.,  0.,  0.,  0.,  0.]]), 'FE0_C0_D10': array([[-1.,  1.,  0.,  0.,  0.,  0.],\n",
        "         [-1.,  1.,  0.,  0.,  0.,  0.],\n",
        "         [-1.,  1.,  0.,  0.,  0.,  0.]]), 'FE0_C0_D01': array([[ -1.00000000e+00,   8.88178420e-16,   1.00000000e+00,\n",
        "            0.00000000e+00,   0.00000000e+00,   0.00000000e+00],\n",
        "         [ -1.00000000e+00,   8.88178420e-16,   1.00000000e+00,\n",
        "            0.00000000e+00,   0.00000000e+00,   0.00000000e+00],\n",
        "         [ -1.00000000e+00,   8.88178420e-16,   1.00000000e+00,\n",
        "            0.00000000e+00,   0.00000000e+00,   0.00000000e+00]]), 'FE2': array([[ 1.],\n",
        "         [ 1.],\n",
        "         [ 1.]]), 'FE1_C2_D01': array([[ 0.,  0.,  0.,  0.,  0.],\n",
        "         [ 0.,  0.,  0.,  0.,  0.],\n",
        "         [ 0.,  0.,  0.,  0.,  0.]]), 'FE1_C1_D01': array([[ 0.,  0.,  0.,  0.,  0.],\n",
        "         [ 0.,  0.,  0.,  0.,  0.],\n",
        "         [ 0.,  0.,  0.,  0.,  0.]]), 'FE1_C0_D01': array([[ -1.00000000e+00,   8.88178420e-16,   1.00000000e+00,\n",
        "            0.00000000e+00,   0.00000000e+00],\n",
        "         [ -1.00000000e+00,   8.88178420e-16,   1.00000000e+00,\n",
        "            0.00000000e+00,   0.00000000e+00],\n",
        "         [ -1.00000000e+00,   8.88178420e-16,   1.00000000e+00,\n",
        "            0.00000000e+00,   0.00000000e+00]]), 'FE1_C0_D10': array([[-1.,  1.,  0.,  0.,  0.],\n",
        "         [-1.,  1.,  0.,  0.,  0.],\n",
        "         [-1.,  1.,  0.,  0.,  0.]]), 'FE0_C1': array([[ 0.        ,  0.        ,  0.        ,  0.66666667,  0.16666667,\n",
        "           0.16666667],\n",
        "         [ 0.        ,  0.        ,  0.        ,  0.16666667,  0.16666667,\n",
        "           0.66666667],\n",
        "         [ 0.        ,  0.        ,  0.        ,  0.16666667,  0.66666667,\n",
        "           0.16666667]]), 'FE0_C0': array([[ 0.66666667,  0.16666667,  0.16666667,  0.        ,  0.        ,\n",
        "           0.        ],\n",
        "         [ 0.16666667,  0.16666667,  0.66666667,  0.        ,  0.        ,\n",
        "           0.        ],\n",
        "         [ 0.16666667,  0.66666667,  0.16666667,  0.        ,  0.        ,\n",
        "           0.        ]])}\n"
       ]
      },
      {
       "output_type": "stream",
       "stream": "stderr",
       "text": [
        "DEBUG:FFC:  \n",
        "  tables: {'FE0_C1_D01': array([[  0.00000000e+00,   0.00000000e+00,   0.00000000e+00,\n",
        "           -1.00000000e+00,   8.88178420e-16,   1.00000000e+00],\n",
        "         [  0.00000000e+00,   0.00000000e+00,   0.00000000e+00,\n",
        "           -1.00000000e+00,   8.88178420e-16,   1.00000000e+00],\n",
        "         [  0.00000000e+00,   0.00000000e+00,   0.00000000e+00,\n",
        "           -1.00000000e+00,   8.88178420e-16,   1.00000000e+00]]), 'FE1_C0': array([[ 0.66666667,  0.16666667,  0.16666667,  0.        ,  0.        ],\n",
        "         [ 0.16666667,  0.16666667,  0.66666667,  0.        ,  0.        ],\n",
        "         [ 0.16666667,  0.66666667,  0.16666667,  0.        ,  0.        ]]), 'FE1_C1': array([[ 0.,  0.,  0.,  1.,  0.],\n",
        "         [ 0.,  0.,  0.,  1.,  0.],\n",
        "         [ 0.,  0.,  0.,  1.,  0.]]), 'FE1_C2': array([[ 0.,  0.,  0.,  0.,  1.],\n",
        "         [ 0.,  0.,  0.,  0.,  1.],\n",
        "         [ 0.,  0.,  0.,  0.,  1.]]), 'FE0_C1_D10': array([[ 0.,  0.,  0., -1.,  1.,  0.],\n",
        "         [ 0.,  0.,  0., -1.,  1.,  0.],\n",
        "         [ 0.,  0.,  0., -1.,  1.,  0.]]), 'FE0_C0_D10': array([[-1.,  1.,  0.,  0.,  0.,  0.],\n",
        "         [-1.,  1.,  0.,  0.,  0.,  0.],\n",
        "         [-1.,  1.,  0.,  0.,  0.,  0.]]), 'FE0_C0_D01': array([[ -1.00000000e+00,   8.88178420e-16,   1.00000000e+00,\n",
        "            0.00000000e+00,   0.00000000e+00,   0.00000000e+00],\n",
        "         [ -1.00000000e+00,   8.88178420e-16,   1.00000000e+00,\n",
        "            0.00000000e+00,   0.00000000e+00,   0.00000000e+00],\n",
        "         [ -1.00000000e+00,   8.88178420e-16,   1.00000000e+00,\n",
        "            0.00000000e+00,   0.00000000e+00,   0.00000000e+00]]), 'FE2': array([[ 1.],\n",
        "         [ 1.],\n",
        "         [ 1.]]), 'FE1_C1_D01': array([[ 0.,  0.,  0.,  0.,  0.],\n",
        "         [ 0.,  0.,  0.,  0.,  0.],\n",
        "         [ 0.,  0.,  0.,  0.,  0.]]), 'FE1_C0_D01': array([[ -1.00000000e+00,   8.88178420e-16,   1.00000000e+00,\n",
        "            0.00000000e+00,   0.00000000e+00],\n",
        "         [ -1.00000000e+00,   8.88178420e-16,   1.00000000e+00,\n",
        "            0.00000000e+00,   0.00000000e+00],\n",
        "         [ -1.00000000e+00,   8.88178420e-16,   1.00000000e+00,\n",
        "            0.00000000e+00,   0.00000000e+00]]), 'FE1_C0_D10': array([[-1.,  1.,  0.,  0.,  0.],\n",
        "         [-1.,  1.,  0.,  0.,  0.],\n",
        "         [-1.,  1.,  0.,  0.,  0.]]), 'FE0_C1': array([[ 0.        ,  0.        ,  0.        ,  0.66666667,  0.16666667,\n",
        "           0.16666667],\n",
        "         [ 0.        ,  0.        ,  0.        ,  0.16666667,  0.16666667,\n",
        "           0.66666667],\n",
        "         [ 0.        ,  0.        ,  0.        ,  0.16666667,  0.66666667,\n",
        "           0.16666667]]), 'FE0_C0': array([[ 0.66666667,  0.16666667,  0.16666667,  0.        ,  0.        ,\n",
        "           0.        ],\n",
        "         [ 0.16666667,  0.16666667,  0.66666667,  0.        ,  0.        ,\n",
        "           0.        ],\n",
        "         [ 0.16666667,  0.66666667,  0.16666667,  0.        ,  0.        ,\n",
        "           0.        ]])}\n"
       ]
      },
      {
       "output_type": "stream",
       "stream": "stderr",
       "text": [
        "DEBUG:FFC:  \n",
        "  name_map: {'FE1_C1_D01': ['FE1_C1_D10', 'FE1_C2_D01', 'FE1_C2_D10']}\n"
       ]
      },
      {
       "output_type": "stream",
       "stream": "stderr",
       "text": [
        "DEBUG:FFC:  \n",
        "  inv_name_map: {'FE0_C1_D01': 'FE0_C1_D01', 'FE1_C0': 'FE1_C0', 'FE1_C1': 'FE1_C1', 'FE1_C2': 'FE1_C2', 'FE0_C1_D10': 'FE0_C1_D10', 'FE1_C1_D10': 'FE1_C1_D01', 'FE1_C2_D10': 'FE1_C1_D01', 'FE0_C0_D10': 'FE0_C0_D10', 'FE0_C0_D01': 'FE0_C0_D01', 'FE2': 'FE2', 'FE1_C2_D01': 'FE1_C1_D01', 'FE1_C1_D01': 'FE1_C1_D01', 'FE1_C0_D01': 'FE1_C0_D01', 'FE1_C0_D10': 'FE1_C0_D10', 'FE0_C1': 'FE0_C1', 'FE0_C0': 'FE0_C0'}\n"
       ]
      },
      {
       "output_type": "stream",
       "stream": "stderr",
       "text": [
        "DEBUG:FFC:  \n",
        "  QG-utils, psi_tables, unique_tables:\n",
        "  {'FE0_C1_D01': array([[ 0.,  0.,  0., -1.,  0.,  1.],\n",
        "         [ 0.,  0.,  0., -1.,  0.,  1.],\n",
        "         [ 0.,  0.,  0., -1.,  0.,  1.]]), 'FE1_C0': array([[ 0.66666667,  0.16666667,  0.16666667,  0.        ,  0.        ],\n",
        "         [ 0.16666667,  0.16666667,  0.66666667,  0.        ,  0.        ],\n",
        "         [ 0.16666667,  0.66666667,  0.16666667,  0.        ,  0.        ]]), 'FE1_C1': array([[ 0.,  0.,  0.,  1.,  0.],\n",
        "         [ 0.,  0.,  0.,  1.,  0.],\n",
        "         [ 0.,  0.,  0.,  1.,  0.]]), 'FE1_C2': array([[ 0.,  0.,  0.,  0.,  1.],\n",
        "         [ 0.,  0.,  0.,  0.,  1.],\n",
        "         [ 0.,  0.,  0.,  0.,  1.]]), 'FE0_C1_D10': array([[ 0.,  0.,  0., -1.,  1.,  0.],\n",
        "         [ 0.,  0.,  0., -1.,  1.,  0.],\n",
        "         [ 0.,  0.,  0., -1.,  1.,  0.]]), 'FE0_C0_D10': array([[-1.,  1.,  0.,  0.,  0.,  0.],\n",
        "         [-1.,  1.,  0.,  0.,  0.,  0.],\n",
        "         [-1.,  1.,  0.,  0.,  0.,  0.]]), 'FE0_C0_D01': array([[-1.,  0.,  1.,  0.,  0.,  0.],\n",
        "         [-1.,  0.,  1.,  0.,  0.,  0.],\n",
        "         [-1.,  0.,  1.,  0.,  0.,  0.]]), 'FE2': array([[ 1.],\n",
        "         [ 1.],\n",
        "         [ 1.]]), 'FE1_C1_D01': array([[ 0.,  0.,  0.,  0.,  0.],\n",
        "         [ 0.,  0.,  0.,  0.,  0.],\n",
        "         [ 0.,  0.,  0.,  0.,  0.]]), 'FE1_C0_D01': array([[-1.,  0.,  1.,  0.,  0.],\n",
        "         [-1.,  0.,  1.,  0.,  0.],\n",
        "         [-1.,  0.,  1.,  0.,  0.]]), 'FE1_C0_D10': array([[-1.,  1.,  0.,  0.,  0.],\n",
        "         [-1.,  1.,  0.,  0.,  0.],\n",
        "         [-1.,  1.,  0.,  0.,  0.]]), 'FE0_C1': array([[ 0.        ,  0.        ,  0.        ,  0.66666667,  0.16666667,\n",
        "           0.16666667],\n",
        "         [ 0.        ,  0.        ,  0.        ,  0.16666667,  0.16666667,\n",
        "           0.66666667],\n",
        "         [ 0.        ,  0.        ,  0.        ,  0.16666667,  0.66666667,\n",
        "           0.16666667]]), 'FE0_C0': array([[ 0.66666667,  0.16666667,  0.16666667,  0.        ,  0.        ,\n",
        "           0.        ],\n",
        "         [ 0.16666667,  0.16666667,  0.66666667,  0.        ,  0.        ,\n",
        "           0.        ],\n",
        "         [ 0.16666667,  0.66666667,  0.16666667,  0.        ,  0.        ,\n",
        "           0.        ]])}\n"
       ]
      },
      {
       "output_type": "stream",
       "stream": "stderr",
       "text": [
        "DEBUG:FFC:  \n",
        "  QG-utils, psi_tables, name_map:\n",
        "  {'FE0_C1_D01': ('FE0_C1_D01', (), False, False), 'FE1_C0': ('FE1_C0', (), False, False), 'FE1_C1': ('FE1_C1', (), False, False), 'FE1_C2': ('FE1_C2', (), False, False), 'FE0_C1_D10': ('FE0_C1_D10', (), False, False), 'FE1_C1_D10': ('FE1_C1_D01', (), True, False), 'FE1_C2_D10': ('FE1_C1_D01', (), True, False), 'FE0_C0_D10': ('FE0_C0_D10', (), False, False), 'FE0_C0_D01': ('FE0_C0_D01', (), False, False), 'FE2': ('FE2', (), False, True), 'FE1_C2_D01': ('FE1_C1_D01', (), True, False), 'FE1_C1_D01': ('FE1_C1_D01', (), True, False), 'FE1_C0_D01': ('FE1_C0_D01', (), False, False), 'FE1_C0_D10': ('FE1_C0_D10', (), False, False), 'FE0_C1': ('FE0_C1', (), False, False), 'FE0_C0': ('FE0_C0', (), False, False)}\n"
       ]
      },
      {
       "output_type": "stream",
       "stream": "stderr",
       "text": [
        "INFO:FFC:  Transforming cell integral\n"
       ]
      },
      {
       "output_type": "stream",
       "stream": "stderr",
       "text": [
        "DEBUG:FFC:  Reusing element from cache\n"
       ]
      },
      {
       "output_type": "stream",
       "stream": "stderr",
       "text": [
        "DEBUG:FFC:  Reusing element from cache\n"
       ]
      },
      {
       "output_type": "stream",
       "stream": "stderr",
       "text": [
        "DEBUG:FFC:  Reusing element from cache\n"
       ]
      },
      {
       "output_type": "stream",
       "stream": "stderr",
       "text": [
        "DEBUG:FFC:  Reusing element from cache\n"
       ]
      },
      {
       "output_type": "stream",
       "stream": "stderr",
       "text": [
        "DEBUG:FFC:  Reusing element from cache\n"
       ]
      },
      {
       "output_type": "stream",
       "stream": "stderr",
       "text": [
        "DEBUG:FFC:  Reusing element from cache\n"
       ]
      },
      {
       "output_type": "stream",
       "stream": "stderr",
       "text": [
        "DEBUG:FFC:  Reusing element from cache\n"
       ]
      },
      {
       "output_type": "stream",
       "stream": "stderr",
       "text": [
        "DEBUG:FFC:  Reusing element from cache\n"
       ]
      },
      {
       "output_type": "stream",
       "stream": "stderr",
       "text": [
        "DEBUG:FFC:  Reusing element from cache\n"
       ]
      },
      {
       "output_type": "stream",
       "stream": "stderr",
       "text": [
        "DEBUG:FFC:  Reusing element from cache\n"
       ]
      },
      {
       "output_type": "stream",
       "stream": "stderr",
       "text": [
        "DEBUG:FFC:  Reusing element from cache\n"
       ]
      },
      {
       "output_type": "stream",
       "stream": "stderr",
       "text": [
        "DEBUG:FFC:  Reusing element from cache\n"
       ]
      },
      {
       "output_type": "stream",
       "stream": "stderr",
       "text": [
        "DEBUG:FFC:  Reusing element from cache\n"
       ]
      },
      {
       "output_type": "stream",
       "stream": "stderr",
       "text": [
        "DEBUG:FFC:  Reusing element from cache\n"
       ]
      },
      {
       "output_type": "stream",
       "stream": "stderr",
       "text": [
        "DEBUG:FFC:  Reusing element from cache\n"
       ]
      },
      {
       "output_type": "stream",
       "stream": "stderr",
       "text": [
        "DEBUG:FFC:  Reusing element from cache\n"
       ]
      },
      {
       "output_type": "stream",
       "stream": "stderr",
       "text": [
        "DEBUG:FFC:  Reusing element from cache\n"
       ]
      },
      {
       "output_type": "stream",
       "stream": "stderr",
       "text": [
        "DEBUG:FFC:  Reusing element from cache\n"
       ]
      },
      {
       "output_type": "stream",
       "stream": "stderr",
       "text": [
        "DEBUG:FFC:  Reusing element from cache\n"
       ]
      },
      {
       "output_type": "stream",
       "stream": "stderr",
       "text": [
        "DEBUG:FFC:  Reusing element from cache\n"
       ]
      },
      {
       "output_type": "stream",
       "stream": "stderr",
       "text": [
        "DEBUG:FFC:  Reusing element from cache\n"
       ]
      },
      {
       "output_type": "stream",
       "stream": "stderr",
       "text": [
        "DEBUG:FFC:  Reusing element from cache\n"
       ]
      },
      {
       "output_type": "stream",
       "stream": "stderr",
       "text": [
        "DEBUG:FFC:  Reusing element from cache\n"
       ]
      },
      {
       "output_type": "stream",
       "stream": "stderr",
       "text": [
        "DEBUG:FFC:  Reusing element from cache\n"
       ]
      },
      {
       "output_type": "stream",
       "stream": "stderr",
       "text": [
        "DEBUG:FFC:  Reusing element from cache\n"
       ]
      },
      {
       "output_type": "stream",
       "stream": "stderr",
       "text": [
        "DEBUG:FFC:  Reusing element from cache\n"
       ]
      },
      {
       "output_type": "stream",
       "stream": "stderr",
       "text": [
        "DEBUG:FFC:  Reusing element from cache\n"
       ]
      },
      {
       "output_type": "stream",
       "stream": "stderr",
       "text": [
        "DEBUG:FFC:  Reusing element from cache\n"
       ]
      },
      {
       "output_type": "stream",
       "stream": "stderr",
       "text": [
        "DEBUG:FFC:  Reusing element from cache\n"
       ]
      },
      {
       "output_type": "stream",
       "stream": "stderr",
       "text": [
        "DEBUG:FFC:  Reusing element from cache\n"
       ]
      },
      {
       "output_type": "stream",
       "stream": "stderr",
       "text": [
        "DEBUG:FFC:  Reusing element from cache\n"
       ]
      },
      {
       "output_type": "stream",
       "stream": "stderr",
       "text": [
        "DEBUG:FFC:  Reusing element from cache\n"
       ]
      },
      {
       "output_type": "stream",
       "stream": "stderr",
       "text": [
        "DEBUG:FFC:  Reusing element from cache\n"
       ]
      },
      {
       "output_type": "stream",
       "stream": "stderr",
       "text": [
        "INFO:FFC:  Computing quadrature representation\n"
       ]
      },
      {
       "output_type": "stream",
       "stream": "stderr",
       "text": [
        "DEBUG:FFC:  Reusing element from cache\n"
       ]
      },
      {
       "output_type": "stream",
       "stream": "stderr",
       "text": [
        "DEBUG:FFC:  Reusing element from cache\n"
       ]
      },
      {
       "output_type": "stream",
       "stream": "stderr",
       "text": [
        "DEBUG:FFC:  Reusing element from cache\n"
       ]
      },
      {
       "output_type": "stream",
       "stream": "stderr",
       "text": [
        "DEBUG:FFC:  Reusing element from cache\n"
       ]
      },
      {
       "output_type": "stream",
       "stream": "stderr",
       "text": [
        "DEBUG:FFC:  Reusing element from cache\n"
       ]
      },
      {
       "output_type": "stream",
       "stream": "stderr",
       "text": [
        "DEBUG:FFC:  Reusing element from cache\n"
       ]
      },
      {
       "output_type": "stream",
       "stream": "stderr",
       "text": [
        "DEBUG:FFC:  \n",
        "  QG-utils, psi_tables:\n",
        "  {2: {FiniteElement('Real', Domain(Cell('triangle', 2), label='dolfin_mesh_with_id_2890', data='<data with id 2890>'), 0, quad_scheme=None): {None: {0: {(0, 0): array([[ 1.,  1.]])}, 1: {(0, 0): array([[ 1.,  1.]])}, 2: {(0, 0): array([[ 1.,  1.]])}}}, MixedElement(*[FiniteElement('Lagrange', Domain(Cell('triangle', 2), label='dolfin_mesh_with_id_2890', data='<data with id 2890>'), 1, quad_scheme=None), FiniteElement('Real', Domain(Cell('triangle', 2), label='dolfin_mesh_with_id_2890', data='<data with id 2890>'), 0, quad_scheme=None), FiniteElement('Real', Domain(Cell('triangle', 2), label='dolfin_mesh_with_id_2890', data='<data with id 2890>'), 0, quad_scheme=None)], **{'value_shape': (3,) }): {None: {0: {(0, 0): array([[[ -2.08166817e-17,   5.55111512e-17],\n",
        "          [  0.00000000e+00,   0.00000000e+00],\n",
        "          [  0.00000000e+00,   0.00000000e+00]],\n",
        "  \n",
        "         [[  7.88675135e-01,   2.11324865e-01],\n",
        "          [  0.00000000e+00,   0.00000000e+00],\n",
        "          [  0.00000000e+00,   0.00000000e+00]],\n",
        "  \n",
        "         [[  2.11324865e-01,   7.88675135e-01],\n",
        "          [  0.00000000e+00,   0.00000000e+00],\n",
        "          [  0.00000000e+00,   0.00000000e+00]],\n",
        "  \n",
        "         [[  0.00000000e+00,   0.00000000e+00],\n",
        "          [  1.00000000e+00,   1.00000000e+00],\n",
        "          [  0.00000000e+00,   0.00000000e+00]],\n",
        "  \n",
        "         [[  0.00000000e+00,   0.00000000e+00],\n",
        "          [  0.00000000e+00,   0.00000000e+00],\n",
        "          [  1.00000000e+00,   1.00000000e+00]]])}, 1: {(0, 0): array([[[  7.88675135e-01,   2.11324865e-01],\n",
        "          [  0.00000000e+00,   0.00000000e+00],\n",
        "          [  0.00000000e+00,   0.00000000e+00]],\n",
        "  \n",
        "         [[ -2.08166817e-17,   5.55111512e-17],\n",
        "          [  0.00000000e+00,   0.00000000e+00],\n",
        "          [  0.00000000e+00,   0.00000000e+00]],\n",
        "  \n",
        "         [[  2.11324865e-01,   7.88675135e-01],\n",
        "          [  0.00000000e+00,   0.00000000e+00],\n",
        "          [  0.00000000e+00,   0.00000000e+00]],\n",
        "  \n",
        "         [[  0.00000000e+00,   0.00000000e+00],\n",
        "          [  1.00000000e+00,   1.00000000e+00],\n",
        "          [  0.00000000e+00,   0.00000000e+00]],\n",
        "  \n",
        "         [[  0.00000000e+00,   0.00000000e+00],\n",
        "          [  0.00000000e+00,   0.00000000e+00],\n",
        "          [  1.00000000e+00,   1.00000000e+00]]])}, 2: {(0, 0): array([[[ 0.78867513,  0.21132487],\n",
        "          [ 0.        ,  0.        ],\n",
        "          [ 0.        ,  0.        ]],\n",
        "  \n",
        "         [[ 0.21132487,  0.78867513],\n",
        "          [ 0.        ,  0.        ],\n",
        "          [ 0.        ,  0.        ]],\n",
        "  \n",
        "         [[ 0.        ,  0.        ],\n",
        "          [ 0.        ,  0.        ],\n",
        "          [ 0.        ,  0.        ]],\n",
        "  \n",
        "         [[ 0.        ,  0.        ],\n",
        "          [ 1.        ,  1.        ],\n",
        "          [ 0.        ,  0.        ]],\n",
        "  \n",
        "         [[ 0.        ,  0.        ],\n",
        "          [ 0.        ,  0.        ],\n",
        "          [ 1.        ,  1.        ]]])}}}, VectorElement('Lagrange', Domain(Cell('triangle', 2), label='dolfin_mesh_with_id_2890', data='<data with id 2890>'), 1, dim=2, quad_scheme=None): {None: {0: {(0, 1): array([[[ -1.00000000e+00,  -1.00000000e+00],\n",
        "          [  0.00000000e+00,   0.00000000e+00]],\n",
        "  \n",
        "         [[  8.88178420e-16,   8.88178420e-16],\n",
        "          [  0.00000000e+00,   0.00000000e+00]],\n",
        "  \n",
        "         [[  1.00000000e+00,   1.00000000e+00],\n",
        "          [  0.00000000e+00,   0.00000000e+00]],\n",
        "  \n",
        "         [[  0.00000000e+00,   0.00000000e+00],\n",
        "          [ -1.00000000e+00,  -1.00000000e+00]],\n",
        "  \n",
        "         [[  0.00000000e+00,   0.00000000e+00],\n",
        "          [  8.88178420e-16,   8.88178420e-16]],\n",
        "  \n",
        "         [[  0.00000000e+00,   0.00000000e+00],\n",
        "          [  1.00000000e+00,   1.00000000e+00]]]), (1, 0): array([[[-1., -1.],\n",
        "          [ 0.,  0.]],\n",
        "  \n",
        "         [[ 1.,  1.],\n",
        "          [ 0.,  0.]],\n",
        "  \n",
        "         [[ 0.,  0.],\n",
        "          [ 0.,  0.]],\n",
        "  \n",
        "         [[ 0.,  0.],\n",
        "          [-1., -1.]],\n",
        "  \n",
        "         [[ 0.,  0.],\n",
        "          [ 1.,  1.]],\n",
        "  \n",
        "         [[ 0.,  0.],\n",
        "          [ 0.,  0.]]]), (0, 0): array([[[ -2.08166817e-17,   5.55111512e-17],\n",
        "          [  0.00000000e+00,   0.00000000e+00]],\n",
        "  \n",
        "         [[  7.88675135e-01,   2.11324865e-01],\n",
        "          [  0.00000000e+00,   0.00000000e+00]],\n",
        "  \n",
        "         [[  2.11324865e-01,   7.88675135e-01],\n",
        "          [  0.00000000e+00,   0.00000000e+00]],\n",
        "  \n",
        "         [[  0.00000000e+00,   0.00000000e+00],\n",
        "          [ -2.08166817e-17,   5.55111512e-17]],\n",
        "  \n",
        "         [[  0.00000000e+00,   0.00000000e+00],\n",
        "          [  7.88675135e-01,   2.11324865e-01]],\n",
        "  \n",
        "         [[  0.00000000e+00,   0.00000000e+00],\n",
        "          [  2.11324865e-01,   7.88675135e-01]]])}, 1: {(0, 1): array([[[ -1.00000000e+00,  -1.00000000e+00],\n",
        "          [  0.00000000e+00,   0.00000000e+00]],\n",
        "  \n",
        "         [[  8.88178420e-16,   8.88178420e-16],\n",
        "          [  0.00000000e+00,   0.00000000e+00]],\n",
        "  \n",
        "         [[  1.00000000e+00,   1.00000000e+00],\n",
        "          [  0.00000000e+00,   0.00000000e+00]],\n",
        "  \n",
        "         [[  0.00000000e+00,   0.00000000e+00],\n",
        "          [ -1.00000000e+00,  -1.00000000e+00]],\n",
        "  \n",
        "         [[  0.00000000e+00,   0.00000000e+00],\n",
        "          [  8.88178420e-16,   8.88178420e-16]],\n",
        "  \n",
        "         [[  0.00000000e+00,   0.00000000e+00],\n",
        "          [  1.00000000e+00,   1.00000000e+00]]]), (1, 0): array([[[-1., -1.],\n",
        "          [ 0.,  0.]],\n",
        "  \n",
        "         [[ 1.,  1.],\n",
        "          [ 0.,  0.]],\n",
        "  \n",
        "         [[ 0.,  0.],\n",
        "          [ 0.,  0.]],\n",
        "  \n",
        "         [[ 0.,  0.],\n",
        "          [-1., -1.]],\n",
        "  \n",
        "         [[ 0.,  0.],\n",
        "          [ 1.,  1.]],\n",
        "  \n",
        "         [[ 0.,  0.],\n",
        "          [ 0.,  0.]]]), (0, 0): array([[[  7.88675135e-01,   2.11324865e-01],\n",
        "          [  0.00000000e+00,   0.00000000e+00]],\n",
        "  \n",
        "         [[ -2.08166817e-17,   5.55111512e-17],\n",
        "          [  0.00000000e+00,   0.00000000e+00]],\n",
        "  \n",
        "         [[  2.11324865e-01,   7.88675135e-01],\n",
        "          [  0.00000000e+00,   0.00000000e+00]],\n",
        "  \n",
        "         [[  0.00000000e+00,   0.00000000e+00],\n",
        "          [  7.88675135e-01,   2.11324865e-01]],\n",
        "  \n",
        "         [[  0.00000000e+00,   0.00000000e+00],\n",
        "          [ -2.08166817e-17,   5.55111512e-17]],\n",
        "  \n",
        "         [[  0.00000000e+00,   0.00000000e+00],\n",
        "          [  2.11324865e-01,   7.88675135e-01]]])}, 2: {(0, 1): array([[[ -1.00000000e+00,  -1.00000000e+00],\n",
        "          [  0.00000000e+00,   0.00000000e+00]],\n",
        "  \n",
        "         [[  8.88178420e-16,   8.88178420e-16],\n",
        "          [  0.00000000e+00,   0.00000000e+00]],\n",
        "  \n",
        "         [[  1.00000000e+00,   1.00000000e+00],\n",
        "          [  0.00000000e+00,   0.00000000e+00]],\n",
        "  \n",
        "         [[  0.00000000e+00,   0.00000000e+00],\n",
        "          [ -1.00000000e+00,  -1.00000000e+00]],\n",
        "  \n",
        "         [[  0.00000000e+00,   0.00000000e+00],\n",
        "          [  8.88178420e-16,   8.88178420e-16]],\n",
        "  \n",
        "         [[  0.00000000e+00,   0.00000000e+00],\n",
        "          [  1.00000000e+00,   1.00000000e+00]]]), (1, 0): array([[[-1., -1.],\n",
        "          [ 0.,  0.]],\n",
        "  \n",
        "         [[ 1.,  1.],\n",
        "          [ 0.,  0.]],\n",
        "  \n",
        "         [[ 0.,  0.],\n",
        "          [ 0.,  0.]],\n",
        "  \n",
        "         [[ 0.,  0.],\n",
        "          [-1., -1.]],\n",
        "  \n",
        "         [[ 0.,  0.],\n",
        "          [ 1.,  1.]],\n",
        "  \n",
        "         [[ 0.,  0.],\n",
        "          [ 0.,  0.]]]), (0, 0): array([[[ 0.78867513,  0.21132487],\n",
        "          [ 0.        ,  0.        ]],\n",
        "  \n",
        "         [[ 0.21132487,  0.78867513],\n",
        "          [ 0.        ,  0.        ]],\n",
        "  \n",
        "         [[ 0.        ,  0.        ],\n",
        "          [ 0.        ,  0.        ]],\n",
        "  \n",
        "         [[ 0.        ,  0.        ],\n",
        "          [ 0.78867513,  0.21132487]],\n",
        "  \n",
        "         [[ 0.        ,  0.        ],\n",
        "          [ 0.21132487,  0.78867513]],\n",
        "  \n",
        "         [[ 0.        ,  0.        ],\n",
        "          [ 0.        ,  0.        ]]])}}}}}\n"
       ]
      },
      {
       "output_type": "stream",
       "stream": "stderr",
       "text": [
        "DEBUG:FFC:  \n",
        "  QG-utils, psi_tables, flat_tables:\n",
        "  {'FE1_f2_C2': array([[ 0.,  0.,  0.,  0.,  1.],\n",
        "         [ 0.,  0.,  0.,  0.,  1.]]), 'FE0_f0_C0_D01': array([[ -1.00000000e+00,   8.88178420e-16,   1.00000000e+00,\n",
        "            0.00000000e+00,   0.00000000e+00,   0.00000000e+00],\n",
        "         [ -1.00000000e+00,   8.88178420e-16,   1.00000000e+00,\n",
        "            0.00000000e+00,   0.00000000e+00,   0.00000000e+00]]), 'FE1_f2_C0': array([[ 0.78867513,  0.21132487,  0.        ,  0.        ,  0.        ],\n",
        "         [ 0.21132487,  0.78867513,  0.        ,  0.        ,  0.        ]]), 'FE1_f2_C1': array([[ 0.,  0.,  0.,  1.,  0.],\n",
        "         [ 0.,  0.,  0.,  1.,  0.]]), 'FE0_f0_C1': array([[  0.00000000e+00,   0.00000000e+00,   0.00000000e+00,\n",
        "           -2.08166817e-17,   7.88675135e-01,   2.11324865e-01],\n",
        "         [  0.00000000e+00,   0.00000000e+00,   0.00000000e+00,\n",
        "            5.55111512e-17,   2.11324865e-01,   7.88675135e-01]]), 'FE0_f0_C0': array([[ -2.08166817e-17,   7.88675135e-01,   2.11324865e-01,\n",
        "            0.00000000e+00,   0.00000000e+00,   0.00000000e+00],\n",
        "         [  5.55111512e-17,   2.11324865e-01,   7.88675135e-01,\n",
        "            0.00000000e+00,   0.00000000e+00,   0.00000000e+00]]), 'FE0_f0_C1_D01': array([[  0.00000000e+00,   0.00000000e+00,   0.00000000e+00,\n",
        "           -1.00000000e+00,   8.88178420e-16,   1.00000000e+00],\n",
        "         [  0.00000000e+00,   0.00000000e+00,   0.00000000e+00,\n",
        "           -1.00000000e+00,   8.88178420e-16,   1.00000000e+00]]), 'FE0_f2_C0_D10': array([[-1.,  1.,  0.,  0.,  0.,  0.],\n",
        "         [-1.,  1.,  0.,  0.,  0.,  0.]]), 'FE0_f1_C1_D10': array([[ 0.,  0.,  0., -1.,  1.,  0.],\n",
        "         [ 0.,  0.,  0., -1.,  1.,  0.]]), 'FE0_f2_C1_D01': array([[  0.00000000e+00,   0.00000000e+00,   0.00000000e+00,\n",
        "           -1.00000000e+00,   8.88178420e-16,   1.00000000e+00],\n",
        "         [  0.00000000e+00,   0.00000000e+00,   0.00000000e+00,\n",
        "           -1.00000000e+00,   8.88178420e-16,   1.00000000e+00]]), 'FE0_f1_C1_D01': array([[  0.00000000e+00,   0.00000000e+00,   0.00000000e+00,\n",
        "           -1.00000000e+00,   8.88178420e-16,   1.00000000e+00],\n",
        "         [  0.00000000e+00,   0.00000000e+00,   0.00000000e+00,\n",
        "           -1.00000000e+00,   8.88178420e-16,   1.00000000e+00]]), 'FE1_f0_C0': array([[ -2.08166817e-17,   7.88675135e-01,   2.11324865e-01,\n",
        "            0.00000000e+00,   0.00000000e+00],\n",
        "         [  5.55111512e-17,   2.11324865e-01,   7.88675135e-01,\n",
        "            0.00000000e+00,   0.00000000e+00]]), 'FE1_f0_C1': array([[ 0.,  0.,  0.,  1.,  0.],\n",
        "         [ 0.,  0.,  0.,  1.,  0.]]), 'FE1_f0_C2': array([[ 0.,  0.,  0.,  0.,  1.],\n",
        "         [ 0.,  0.,  0.,  0.,  1.]]), 'FE0_f1_C0_D10': array([[-1.,  1.,  0.,  0.,  0.,  0.],\n",
        "         [-1.,  1.,  0.,  0.,  0.,  0.]]), 'FE0_f0_C0_D10': array([[-1.,  1.,  0.,  0.,  0.,  0.],\n",
        "         [-1.,  1.,  0.,  0.,  0.,  0.]]), 'FE0_f2_C1': array([[ 0.        ,  0.        ,  0.        ,  0.78867513,  0.21132487,\n",
        "           0.        ],\n",
        "         [ 0.        ,  0.        ,  0.        ,  0.21132487,  0.78867513,\n",
        "           0.        ]]), 'FE0_f2_C0': array([[ 0.78867513,  0.21132487,  0.        ,  0.        ,  0.        ,\n",
        "           0.        ],\n",
        "         [ 0.21132487,  0.78867513,  0.        ,  0.        ,  0.        ,\n",
        "           0.        ]]), 'FE0_f0_C1_D10': array([[ 0.,  0.,  0., -1.,  1.,  0.],\n",
        "         [ 0.,  0.,  0., -1.,  1.,  0.]]), 'FE0_f1_C0_D01': array([[ -1.00000000e+00,   8.88178420e-16,   1.00000000e+00,\n",
        "            0.00000000e+00,   0.00000000e+00,   0.00000000e+00],\n",
        "         [ -1.00000000e+00,   8.88178420e-16,   1.00000000e+00,\n",
        "            0.00000000e+00,   0.00000000e+00,   0.00000000e+00]]), 'FE2_f2': array([[ 1.],\n",
        "         [ 1.]]), 'FE2_f0': array([[ 1.],\n",
        "         [ 1.]]), 'FE2_f1': array([[ 1.],\n",
        "         [ 1.]]), 'FE0_f2_C0_D01': array([[ -1.00000000e+00,   8.88178420e-16,   1.00000000e+00,\n",
        "            0.00000000e+00,   0.00000000e+00,   0.00000000e+00],\n",
        "         [ -1.00000000e+00,   8.88178420e-16,   1.00000000e+00,\n",
        "            0.00000000e+00,   0.00000000e+00,   0.00000000e+00]]), 'FE0_f1_C0': array([[  7.88675135e-01,  -2.08166817e-17,   2.11324865e-01,\n",
        "            0.00000000e+00,   0.00000000e+00,   0.00000000e+00],\n",
        "         [  2.11324865e-01,   5.55111512e-17,   7.88675135e-01,\n",
        "            0.00000000e+00,   0.00000000e+00,   0.00000000e+00]]), 'FE0_f1_C1': array([[  0.00000000e+00,   0.00000000e+00,   0.00000000e+00,\n",
        "            7.88675135e-01,  -2.08166817e-17,   2.11324865e-01],\n",
        "         [  0.00000000e+00,   0.00000000e+00,   0.00000000e+00,\n",
        "            2.11324865e-01,   5.55111512e-17,   7.88675135e-01]]), 'FE0_f2_C1_D10': array([[ 0.,  0.,  0., -1.,  1.,  0.],\n",
        "         [ 0.,  0.,  0., -1.,  1.,  0.]]), 'FE1_f1_C2': array([[ 0.,  0.,  0.,  0.,  1.],\n",
        "         [ 0.,  0.,  0.,  0.,  1.]]), 'FE1_f1_C1': array([[ 0.,  0.,  0.,  1.,  0.],\n",
        "         [ 0.,  0.,  0.,  1.,  0.]]), 'FE1_f1_C0': array([[  7.88675135e-01,  -2.08166817e-17,   2.11324865e-01,\n",
        "            0.00000000e+00,   0.00000000e+00],\n",
        "         [  2.11324865e-01,   5.55111512e-17,   7.88675135e-01,\n",
        "            0.00000000e+00,   0.00000000e+00]])}\n"
       ]
      },
      {
       "output_type": "stream",
       "stream": "stderr",
       "text": [
        "DEBUG:FFC:  \n",
        "  tables: {'FE0_f0_C0_D01': array([[ -1.00000000e+00,   8.88178420e-16,   1.00000000e+00,\n",
        "            0.00000000e+00,   0.00000000e+00,   0.00000000e+00],\n",
        "         [ -1.00000000e+00,   8.88178420e-16,   1.00000000e+00,\n",
        "            0.00000000e+00,   0.00000000e+00,   0.00000000e+00]]), 'FE1_f2_C0': array([[ 0.78867513,  0.21132487,  0.        ,  0.        ,  0.        ],\n",
        "         [ 0.21132487,  0.78867513,  0.        ,  0.        ,  0.        ]]), 'FE0_f0_C1': array([[  0.00000000e+00,   0.00000000e+00,   0.00000000e+00,\n",
        "           -2.08166817e-17,   7.88675135e-01,   2.11324865e-01],\n",
        "         [  0.00000000e+00,   0.00000000e+00,   0.00000000e+00,\n",
        "            5.55111512e-17,   2.11324865e-01,   7.88675135e-01]]), 'FE0_f0_C0': array([[ -2.08166817e-17,   7.88675135e-01,   2.11324865e-01,\n",
        "            0.00000000e+00,   0.00000000e+00,   0.00000000e+00],\n",
        "         [  5.55111512e-17,   2.11324865e-01,   7.88675135e-01,\n",
        "            0.00000000e+00,   0.00000000e+00,   0.00000000e+00]]), 'FE0_f0_C1_D01': array([[  0.00000000e+00,   0.00000000e+00,   0.00000000e+00,\n",
        "           -1.00000000e+00,   8.88178420e-16,   1.00000000e+00],\n",
        "         [  0.00000000e+00,   0.00000000e+00,   0.00000000e+00,\n",
        "           -1.00000000e+00,   8.88178420e-16,   1.00000000e+00]]), 'FE1_f0_C0': array([[ -2.08166817e-17,   7.88675135e-01,   2.11324865e-01,\n",
        "            0.00000000e+00,   0.00000000e+00],\n",
        "         [  5.55111512e-17,   2.11324865e-01,   7.88675135e-01,\n",
        "            0.00000000e+00,   0.00000000e+00]]), 'FE1_f0_C1': array([[ 0.,  0.,  0.,  1.,  0.],\n",
        "         [ 0.,  0.,  0.,  1.,  0.]]), 'FE1_f0_C2': array([[ 0.,  0.,  0.,  0.,  1.],\n",
        "         [ 0.,  0.,  0.,  0.,  1.]]), 'FE0_f0_C0_D10': array([[-1.,  1.,  0.,  0.,  0.,  0.],\n",
        "         [-1.,  1.,  0.,  0.,  0.,  0.]]), 'FE0_f2_C1': array([[ 0.        ,  0.        ,  0.        ,  0.78867513,  0.21132487,\n",
        "           0.        ],\n",
        "         [ 0.        ,  0.        ,  0.        ,  0.21132487,  0.78867513,\n",
        "           0.        ]]), 'FE0_f2_C0': array([[ 0.78867513,  0.21132487,  0.        ,  0.        ,  0.        ,\n",
        "           0.        ],\n",
        "         [ 0.21132487,  0.78867513,  0.        ,  0.        ,  0.        ,\n",
        "           0.        ]]), 'FE0_f0_C1_D10': array([[ 0.,  0.,  0., -1.,  1.,  0.],\n",
        "         [ 0.,  0.,  0., -1.,  1.,  0.]]), 'FE2_f0': array([[ 1.],\n",
        "         [ 1.]]), 'FE0_f1_C0': array([[  7.88675135e-01,  -2.08166817e-17,   2.11324865e-01,\n",
        "            0.00000000e+00,   0.00000000e+00,   0.00000000e+00],\n",
        "         [  2.11324865e-01,   5.55111512e-17,   7.88675135e-01,\n",
        "            0.00000000e+00,   0.00000000e+00,   0.00000000e+00]]), 'FE0_f1_C1': array([[  0.00000000e+00,   0.00000000e+00,   0.00000000e+00,\n",
        "            7.88675135e-01,  -2.08166817e-17,   2.11324865e-01],\n",
        "         [  0.00000000e+00,   0.00000000e+00,   0.00000000e+00,\n",
        "            2.11324865e-01,   5.55111512e-17,   7.88675135e-01]]), 'FE1_f1_C0': array([[  7.88675135e-01,  -2.08166817e-17,   2.11324865e-01,\n",
        "            0.00000000e+00,   0.00000000e+00],\n",
        "         [  2.11324865e-01,   5.55111512e-17,   7.88675135e-01,\n",
        "            0.00000000e+00,   0.00000000e+00]])}\n"
       ]
      },
      {
       "output_type": "stream",
       "stream": "stderr",
       "text": [
        "DEBUG:FFC:  \n",
        "  name_map: {'FE0_f0_C1_D01': ['FE0_f1_C1_D01', 'FE0_f2_C1_D01'], 'FE0_f0_C1_D10': ['FE0_f1_C1_D10', 'FE0_f2_C1_D10'], 'FE1_f0_C1': ['FE1_f1_C1', 'FE1_f2_C1'], 'FE1_f0_C2': ['FE1_f1_C2', 'FE1_f2_C2'], 'FE2_f0': ['FE2_f1', 'FE2_f2'], 'FE0_f0_C0_D01': ['FE0_f1_C0_D01', 'FE0_f2_C0_D01'], 'FE0_f0_C0_D10': ['FE0_f1_C0_D10', 'FE0_f2_C0_D10']}\n"
       ]
      },
      {
       "output_type": "stream",
       "stream": "stderr",
       "text": [
        "DEBUG:FFC:  \n",
        "  inv_name_map: {'FE1_f2_C2': 'FE1_f0_C2', 'FE0_f0_C0_D01': 'FE0_f0_C0_D01', 'FE1_f2_C0': 'FE1_f2_C0', 'FE1_f2_C1': 'FE1_f0_C1', 'FE0_f0_C1': 'FE0_f0_C1', 'FE0_f0_C0': 'FE0_f0_C0', 'FE0_f1_C1': 'FE0_f1_C1', 'FE0_f1_C0_D10': 'FE0_f0_C0_D10', 'FE0_f2_C0_D10': 'FE0_f0_C0_D10', 'FE0_f1_C1_D10': 'FE0_f0_C1_D10', 'FE0_f2_C1_D01': 'FE0_f0_C1_D01', 'FE1_f0_C0': 'FE1_f0_C0', 'FE1_f0_C1': 'FE1_f0_C1', 'FE1_f0_C2': 'FE1_f0_C2', 'FE0_f0_C1_D01': 'FE0_f0_C1_D01', 'FE0_f0_C0_D10': 'FE0_f0_C0_D10', 'FE0_f2_C1': 'FE0_f2_C1', 'FE0_f2_C0': 'FE0_f2_C0', 'FE0_f0_C1_D10': 'FE0_f0_C1_D10', 'FE0_f1_C0_D01': 'FE0_f0_C0_D01', 'FE2_f2': 'FE2_f0', 'FE2_f0': 'FE2_f0', 'FE2_f1': 'FE2_f0', 'FE0_f2_C0_D01': 'FE0_f0_C0_D01', 'FE0_f1_C0': 'FE0_f1_C0', 'FE0_f1_C1_D01': 'FE0_f0_C1_D01', 'FE0_f2_C1_D10': 'FE0_f0_C1_D10', 'FE1_f1_C2': 'FE1_f0_C2', 'FE1_f1_C1': 'FE1_f0_C1', 'FE1_f1_C0': 'FE1_f1_C0'}\n"
       ]
      },
      {
       "output_type": "stream",
       "stream": "stderr",
       "text": [
        "DEBUG:FFC:  \n",
        "  QG-utils, psi_tables, unique_tables:\n",
        "  {'FE0_f0_C0_D01': array([[-1.,  0.,  1.,  0.,  0.,  0.],\n",
        "         [-1.,  0.,  1.,  0.,  0.,  0.]]), 'FE1_f2_C0': array([[ 0.78867513,  0.21132487,  0.        ,  0.        ,  0.        ],\n",
        "         [ 0.21132487,  0.78867513,  0.        ,  0.        ,  0.        ]]), 'FE0_f0_C1': array([[ 0.        ,  0.        ,  0.        ,  0.        ,  0.78867513,\n",
        "           0.21132487],\n",
        "         [ 0.        ,  0.        ,  0.        ,  0.        ,  0.21132487,\n",
        "           0.78867513]]), 'FE0_f0_C0': array([[ 0.        ,  0.78867513,  0.21132487,  0.        ,  0.        ,\n",
        "           0.        ],\n",
        "         [ 0.        ,  0.21132487,  0.78867513,  0.        ,  0.        ,\n",
        "           0.        ]]), 'FE0_f0_C1_D01': array([[ 0.,  0.,  0., -1.,  0.,  1.],\n",
        "         [ 0.,  0.,  0., -1.,  0.,  1.]]), 'FE1_f0_C0': array([[ 0.        ,  0.78867513,  0.21132487,  0.        ,  0.        ],\n",
        "         [ 0.        ,  0.21132487,  0.78867513,  0.        ,  0.        ]]), 'FE1_f0_C1': array([[ 0.,  0.,  0.,  1.,  0.],\n",
        "         [ 0.,  0.,  0.,  1.,  0.]]), 'FE1_f0_C2': array([[ 0.,  0.,  0.,  0.,  1.],\n",
        "         [ 0.,  0.,  0.,  0.,  1.]]), 'FE0_f0_C0_D10': array([[-1.,  1.,  0.,  0.,  0.,  0.],\n",
        "         [-1.,  1.,  0.,  0.,  0.,  0.]]), 'FE0_f2_C1': array([[ 0.        ,  0.        ,  0.        ,  0.78867513,  0.21132487,\n",
        "           0.        ],\n",
        "         [ 0.        ,  0.        ,  0.        ,  0.21132487,  0.78867513,\n",
        "           0.        ]]), 'FE0_f2_C0': array([[ 0.78867513,  0.21132487,  0.        ,  0.        ,  0.        ,\n",
        "           0.        ],\n",
        "         [ 0.21132487,  0.78867513,  0.        ,  0.        ,  0.        ,\n",
        "           0.        ]]), 'FE0_f0_C1_D10': array([[ 0.,  0.,  0., -1.,  1.,  0.],\n",
        "         [ 0.,  0.,  0., -1.,  1.,  0.]]), 'FE2_f0': array([[ 1.],\n",
        "         [ 1.]]), 'FE0_f1_C0': array([[ 0.78867513,  0.        ,  0.21132487,  0.        ,  0.        ,\n",
        "           0.        ],\n",
        "         [ 0.21132487,  0.        ,  0.78867513,  0.        ,  0.        ,\n",
        "           0.        ]]), 'FE0_f1_C1': array([[ 0.        ,  0.        ,  0.        ,  0.78867513,  0.        ,\n",
        "           0.21132487],\n",
        "         [ 0.        ,  0.        ,  0.        ,  0.21132487,  0.        ,\n",
        "           0.78867513]]), 'FE1_f1_C0': array([[ 0.78867513,  0.        ,  0.21132487,  0.        ,  0.        ],\n",
        "         [ 0.21132487,  0.        ,  0.78867513,  0.        ,  0.        ]])}\n"
       ]
      },
      {
       "output_type": "stream",
       "stream": "stderr",
       "text": [
        "DEBUG:FFC:  \n",
        "  QG-utils, psi_tables, name_map:\n",
        "  {'FE1_f2_C2': ('FE1_f0_C2', (), False, False), 'FE0_f0_C0_D01': ('FE0_f0_C0_D01', (), False, False), 'FE1_f2_C0': ('FE1_f2_C0', (), False, False), 'FE1_f2_C1': ('FE1_f0_C1', (), False, False), 'FE0_f0_C1': ('FE0_f0_C1', (), False, False), 'FE0_f0_C0': ('FE0_f0_C0', (), False, False), 'FE0_f1_C1': ('FE0_f1_C1', (), False, False), 'FE0_f1_C0_D10': ('FE0_f0_C0_D10', (), False, False), 'FE0_f2_C0_D10': ('FE0_f0_C0_D10', (), False, False), 'FE0_f1_C1_D10': ('FE0_f0_C1_D10', (), False, False), 'FE0_f2_C1_D01': ('FE0_f0_C1_D01', (), False, False), 'FE1_f0_C0': ('FE1_f0_C0', (), False, False), 'FE1_f0_C1': ('FE1_f0_C1', (), False, False), 'FE1_f0_C2': ('FE1_f0_C2', (), False, False), 'FE0_f0_C1_D01': ('FE0_f0_C1_D01', (), False, False), 'FE0_f0_C0_D10': ('FE0_f0_C0_D10', (), False, False), 'FE0_f2_C1': ('FE0_f2_C1', (), False, False), 'FE0_f2_C0': ('FE0_f2_C0', (), False, False), 'FE0_f0_C1_D10': ('FE0_f0_C1_D10', (), False, False), 'FE0_f1_C0_D01': ('FE0_f0_C0_D01', (), False, False), 'FE2_f2': ('FE2_f0', (), False, True), 'FE2_f0': ('FE2_f0', (), False, True), 'FE2_f1': ('FE2_f0', (), False, True), 'FE0_f2_C0_D01': ('FE0_f0_C0_D01', (), False, False), 'FE0_f1_C0': ('FE0_f1_C0', (), False, False), 'FE0_f1_C1_D01': ('FE0_f0_C1_D01', (), False, False), 'FE0_f2_C1_D10': ('FE0_f0_C1_D10', (), False, False), 'FE1_f1_C2': ('FE1_f0_C2', (), False, False), 'FE1_f1_C1': ('FE1_f0_C1', (), False, False), 'FE1_f1_C0': ('FE1_f1_C0', (), False, False)}\n"
       ]
      },
      {
       "output_type": "stream",
       "stream": "stderr",
       "text": [
        "INFO:FFC:  Transforming exterior facet integral 0\n"
       ]
      },
      {
       "output_type": "stream",
       "stream": "stderr",
       "text": [
        "DEBUG:FFC:  Reusing element from cache\n"
       ]
      },
      {
       "output_type": "stream",
       "stream": "stderr",
       "text": [
        "DEBUG:FFC:  Reusing element from cache\n"
       ]
      },
      {
       "output_type": "stream",
       "stream": "stderr",
       "text": [
        "DEBUG:FFC:  Reusing element from cache\n"
       ]
      },
      {
       "output_type": "stream",
       "stream": "stderr",
       "text": [
        "DEBUG:FFC:  Reusing element from cache\n"
       ]
      },
      {
       "output_type": "stream",
       "stream": "stderr",
       "text": [
        "DEBUG:FFC:  Reusing element from cache\n"
       ]
      },
      {
       "output_type": "stream",
       "stream": "stderr",
       "text": [
        "DEBUG:FFC:  Reusing element from cache\n"
       ]
      },
      {
       "output_type": "stream",
       "stream": "stderr",
       "text": [
        "DEBUG:FFC:  Reusing element from cache\n"
       ]
      },
      {
       "output_type": "stream",
       "stream": "stderr",
       "text": [
        "DEBUG:FFC:  Reusing element from cache\n"
       ]
      },
      {
       "output_type": "stream",
       "stream": "stderr",
       "text": [
        "DEBUG:FFC:  Reusing element from cache\n"
       ]
      },
      {
       "output_type": "stream",
       "stream": "stderr",
       "text": [
        "DEBUG:FFC:  Reusing element from cache\n"
       ]
      },
      {
       "output_type": "stream",
       "stream": "stderr",
       "text": [
        "INFO:FFC:  Transforming exterior facet integral 1\n"
       ]
      },
      {
       "output_type": "stream",
       "stream": "stderr",
       "text": [
        "DEBUG:FFC:  Reusing element from cache\n"
       ]
      },
      {
       "output_type": "stream",
       "stream": "stderr",
       "text": [
        "DEBUG:FFC:  Reusing element from cache\n"
       ]
      },
      {
       "output_type": "stream",
       "stream": "stderr",
       "text": [
        "DEBUG:FFC:  Reusing element from cache\n"
       ]
      },
      {
       "output_type": "stream",
       "stream": "stderr",
       "text": [
        "DEBUG:FFC:  Reusing element from cache\n"
       ]
      },
      {
       "output_type": "stream",
       "stream": "stderr",
       "text": [
        "DEBUG:FFC:  Reusing element from cache\n"
       ]
      },
      {
       "output_type": "stream",
       "stream": "stderr",
       "text": [
        "DEBUG:FFC:  Reusing element from cache\n"
       ]
      },
      {
       "output_type": "stream",
       "stream": "stderr",
       "text": [
        "DEBUG:FFC:  Reusing element from cache\n"
       ]
      },
      {
       "output_type": "stream",
       "stream": "stderr",
       "text": [
        "DEBUG:FFC:  Reusing element from cache\n"
       ]
      },
      {
       "output_type": "stream",
       "stream": "stderr",
       "text": [
        "DEBUG:FFC:  Reusing element from cache\n"
       ]
      },
      {
       "output_type": "stream",
       "stream": "stderr",
       "text": [
        "DEBUG:FFC:  Reusing element from cache\n"
       ]
      },
      {
       "output_type": "stream",
       "stream": "stderr",
       "text": [
        "INFO:FFC:  Transforming exterior facet integral 2\n"
       ]
      },
      {
       "output_type": "stream",
       "stream": "stderr",
       "text": [
        "DEBUG:FFC:  Reusing element from cache\n"
       ]
      },
      {
       "output_type": "stream",
       "stream": "stderr",
       "text": [
        "DEBUG:FFC:  Reusing element from cache\n"
       ]
      },
      {
       "output_type": "stream",
       "stream": "stderr",
       "text": [
        "DEBUG:FFC:  Reusing element from cache\n"
       ]
      },
      {
       "output_type": "stream",
       "stream": "stderr",
       "text": [
        "DEBUG:FFC:  Reusing element from cache\n"
       ]
      },
      {
       "output_type": "stream",
       "stream": "stderr",
       "text": [
        "DEBUG:FFC:  Reusing element from cache\n"
       ]
      },
      {
       "output_type": "stream",
       "stream": "stderr",
       "text": [
        "DEBUG:FFC:  Reusing element from cache\n"
       ]
      },
      {
       "output_type": "stream",
       "stream": "stderr",
       "text": [
        "DEBUG:FFC:  Reusing element from cache\n"
       ]
      },
      {
       "output_type": "stream",
       "stream": "stderr",
       "text": [
        "DEBUG:FFC:  Reusing element from cache\n"
       ]
      },
      {
       "output_type": "stream",
       "stream": "stderr",
       "text": [
        "DEBUG:FFC:  Reusing element from cache\n"
       ]
      },
      {
       "output_type": "stream",
       "stream": "stderr",
       "text": [
        "DEBUG:FFC:  Reusing element from cache\n"
       ]
      },
      {
       "output_type": "stream",
       "stream": "stderr",
       "text": [
        "DEBUG:FFC:  Reusing element from cache\n"
       ]
      },
      {
       "output_type": "stream",
       "stream": "stderr",
       "text": [
        "DEBUG:FFC:  Reusing element from cache\n"
       ]
      },
      {
       "output_type": "stream",
       "stream": "stderr",
       "text": [
        "DEBUG:FFC:  Reusing element from cache\n"
       ]
      },
      {
       "output_type": "stream",
       "stream": "stderr",
       "text": [
        "INFO:FFC:  Computing representation of forms\n"
       ]
      },
      {
       "output_type": "stream",
       "stream": "stderr",
       "text": [
        "INFO:FFC:  \n"
       ]
      },
      {
       "output_type": "stream",
       "stream": "stderr",
       "text": [
        "INFO:FFC:Compiler stage 2 finished in 0.168016 seconds.\n",
        "\n"
       ]
      },
      {
       "output_type": "stream",
       "stream": "stderr",
       "text": [
        "INFO:FFC:Compiler stage 3: Optimizing intermediate representation\n"
       ]
      },
      {
       "output_type": "stream",
       "stream": "stderr",
       "text": [
        "INFO:FFC:--------------------------------------------------------\n"
       ]
      },
      {
       "output_type": "stream",
       "stream": "stderr",
       "text": [
        "INFO:FFC:  Skipping optimizations, add -O to optimize\n"
       ]
      },
      {
       "output_type": "stream",
       "stream": "stderr",
       "text": [
        "INFO:FFC:  \n"
       ]
      },
      {
       "output_type": "stream",
       "stream": "stderr",
       "text": [
        "INFO:FFC:Compiler stage 3 finished in 0.00131202 seconds.\n",
        "\n"
       ]
      },
      {
       "output_type": "stream",
       "stream": "stderr",
       "text": [
        "INFO:FFC:Compiler stage 4: Generating code\n"
       ]
      },
      {
       "output_type": "stream",
       "stream": "stderr",
       "text": [
        "INFO:FFC:---------------------------------\n"
       ]
      },
      {
       "output_type": "stream",
       "stream": "stderr",
       "text": [
        "INFO:FFC:  Generating code for 3 element(s)\n"
       ]
      },
      {
       "output_type": "stream",
       "stream": "stderr",
       "text": [
        "DEBUG:FFC:  Removing unused variable: tmp2\n"
       ]
      },
      {
       "output_type": "stream",
       "stream": "stderr",
       "text": [
        "DEBUG:FFC:  Removing unused variable: tmp1\n"
       ]
      },
      {
       "output_type": "stream",
       "stream": "stderr",
       "text": [
        "DEBUG:FFC:  Removing unused variable: tmp7\n"
       ]
      },
      {
       "output_type": "stream",
       "stream": "stderr",
       "text": [
        "DEBUG:FFC:  Removing unused variable: tmp6\n"
       ]
      },
      {
       "output_type": "stream",
       "stream": "stderr",
       "text": [
        "DEBUG:FFC:  Removing unused variable: tmp5\n"
       ]
      },
      {
       "output_type": "stream",
       "stream": "stderr",
       "text": [
        "DEBUG:FFC:  Removing unused variable: tt\n"
       ]
      },
      {
       "output_type": "stream",
       "stream": "stderr",
       "text": [
        "DEBUG:FFC:  Removing unused variable: ss\n"
       ]
      },
      {
       "output_type": "stream",
       "stream": "stderr",
       "text": [
        "DEBUG:FFC:  Removing unused variable: rr\n"
       ]
      },
      {
       "output_type": "stream",
       "stream": "stderr",
       "text": [
        "DEBUG:FFC:  Removing unused variable: tmp2\n"
       ]
      },
      {
       "output_type": "stream",
       "stream": "stderr",
       "text": [
        "DEBUG:FFC:  Removing unused variable: tmp1\n"
       ]
      },
      {
       "output_type": "stream",
       "stream": "stderr",
       "text": [
        "DEBUG:FFC:  Removing unused variable: tmp7\n"
       ]
      },
      {
       "output_type": "stream",
       "stream": "stderr",
       "text": [
        "DEBUG:FFC:  Removing unused variable: tmp6\n"
       ]
      },
      {
       "output_type": "stream",
       "stream": "stderr",
       "text": [
        "DEBUG:FFC:  Removing unused variable: tmp5\n"
       ]
      },
      {
       "output_type": "stream",
       "stream": "stderr",
       "text": [
        "DEBUG:FFC:  Removing unused variable: tt\n"
       ]
      },
      {
       "output_type": "stream",
       "stream": "stderr",
       "text": [
        "DEBUG:FFC:  Removing unused variable: ss\n"
       ]
      },
      {
       "output_type": "stream",
       "stream": "stderr",
       "text": [
        "DEBUG:FFC:  Removing unused variable: rr\n"
       ]
      },
      {
       "output_type": "stream",
       "stream": "stderr",
       "text": [
        "DEBUG:FFC:  Removing unused variable: tmp2\n"
       ]
      },
      {
       "output_type": "stream",
       "stream": "stderr",
       "text": [
        "DEBUG:FFC:  Removing unused variable: tmp1\n"
       ]
      },
      {
       "output_type": "stream",
       "stream": "stderr",
       "text": [
        "DEBUG:FFC:  Removing unused variable: tmp7\n"
       ]
      },
      {
       "output_type": "stream",
       "stream": "stderr",
       "text": [
        "DEBUG:FFC:  Removing unused variable: tmp6\n"
       ]
      },
      {
       "output_type": "stream",
       "stream": "stderr",
       "text": [
        "DEBUG:FFC:  Removing unused variable: tmp5\n"
       ]
      },
      {
       "output_type": "stream",
       "stream": "stderr",
       "text": [
        "DEBUG:FFC:  Removing unused variable: tt\n"
       ]
      },
      {
       "output_type": "stream",
       "stream": "stderr",
       "text": [
        "DEBUG:FFC:  Removing unused variable: ss\n"
       ]
      },
      {
       "output_type": "stream",
       "stream": "stderr",
       "text": [
        "DEBUG:FFC:  Removing unused variable: rr\n"
       ]
      },
      {
       "output_type": "stream",
       "stream": "stderr",
       "text": [
        "DEBUG:FFC:  Removing unused variable: tmp2\n"
       ]
      },
      {
       "output_type": "stream",
       "stream": "stderr",
       "text": [
        "DEBUG:FFC:  Removing unused variable: tmp1\n"
       ]
      },
      {
       "output_type": "stream",
       "stream": "stderr",
       "text": [
        "DEBUG:FFC:  Removing unused variable: tmp7\n"
       ]
      },
      {
       "output_type": "stream",
       "stream": "stderr",
       "text": [
        "DEBUG:FFC:  Removing unused variable: tmp6\n"
       ]
      },
      {
       "output_type": "stream",
       "stream": "stderr",
       "text": [
        "DEBUG:FFC:  Removing unused variable: tmp5\n"
       ]
      },
      {
       "output_type": "stream",
       "stream": "stderr",
       "text": [
        "DEBUG:FFC:  Removing unused variable: tt\n"
       ]
      },
      {
       "output_type": "stream",
       "stream": "stderr",
       "text": [
        "DEBUG:FFC:  Removing unused variable: ss\n"
       ]
      },
      {
       "output_type": "stream",
       "stream": "stderr",
       "text": [
        "DEBUG:FFC:  Removing unused variable: rr\n"
       ]
      },
      {
       "output_type": "stream",
       "stream": "stderr",
       "text": [
        "DEBUG:FFC:  Removing unused variable: tmp2\n"
       ]
      },
      {
       "output_type": "stream",
       "stream": "stderr",
       "text": [
        "DEBUG:FFC:  Removing unused variable: tmp1\n"
       ]
      },
      {
       "output_type": "stream",
       "stream": "stderr",
       "text": [
        "DEBUG:FFC:  Removing unused variable: tmp7\n"
       ]
      },
      {
       "output_type": "stream",
       "stream": "stderr",
       "text": [
        "DEBUG:FFC:  Removing unused variable: tmp6\n"
       ]
      },
      {
       "output_type": "stream",
       "stream": "stderr",
       "text": [
        "DEBUG:FFC:  Removing unused variable: tmp5\n"
       ]
      },
      {
       "output_type": "stream",
       "stream": "stderr",
       "text": [
        "DEBUG:FFC:  Removing unused variable: tt\n"
       ]
      },
      {
       "output_type": "stream",
       "stream": "stderr",
       "text": [
        "DEBUG:FFC:  Removing unused variable: ss\n"
       ]
      },
      {
       "output_type": "stream",
       "stream": "stderr",
       "text": [
        "DEBUG:FFC:  Removing unused variable: rr\n"
       ]
      },
      {
       "output_type": "stream",
       "stream": "stderr",
       "text": [
        "DEBUG:FFC:  Removing unused variable: tmp2\n"
       ]
      },
      {
       "output_type": "stream",
       "stream": "stderr",
       "text": [
        "DEBUG:FFC:  Removing unused variable: tmp1\n"
       ]
      },
      {
       "output_type": "stream",
       "stream": "stderr",
       "text": [
        "DEBUG:FFC:  Removing unused variable: tmp7\n"
       ]
      },
      {
       "output_type": "stream",
       "stream": "stderr",
       "text": [
        "DEBUG:FFC:  Removing unused variable: tmp6\n"
       ]
      },
      {
       "output_type": "stream",
       "stream": "stderr",
       "text": [
        "DEBUG:FFC:  Removing unused variable: tmp5\n"
       ]
      },
      {
       "output_type": "stream",
       "stream": "stderr",
       "text": [
        "DEBUG:FFC:  Removing unused variable: tt\n"
       ]
      },
      {
       "output_type": "stream",
       "stream": "stderr",
       "text": [
        "DEBUG:FFC:  Removing unused variable: ss\n"
       ]
      },
      {
       "output_type": "stream",
       "stream": "stderr",
       "text": [
        "DEBUG:FFC:  Removing unused variable: rr\n"
       ]
      },
      {
       "output_type": "stream",
       "stream": "stderr",
       "text": [
        "DEBUG:FFC:  Removing unused variable: tmp2\n"
       ]
      },
      {
       "output_type": "stream",
       "stream": "stderr",
       "text": [
        "DEBUG:FFC:  Removing unused variable: tmp1\n"
       ]
      },
      {
       "output_type": "stream",
       "stream": "stderr",
       "text": [
        "DEBUG:FFC:  Removing unused variable: tmp0\n"
       ]
      },
      {
       "output_type": "stream",
       "stream": "stderr",
       "text": [
        "DEBUG:FFC:  Removing unused variable: tmp7\n"
       ]
      },
      {
       "output_type": "stream",
       "stream": "stderr",
       "text": [
        "DEBUG:FFC:  Removing unused variable: tmp6\n"
       ]
      },
      {
       "output_type": "stream",
       "stream": "stderr",
       "text": [
        "DEBUG:FFC:  Removing unused variable: tmp5\n"
       ]
      },
      {
       "output_type": "stream",
       "stream": "stderr",
       "text": [
        "DEBUG:FFC:  Removing unused variable: tt\n"
       ]
      },
      {
       "output_type": "stream",
       "stream": "stderr",
       "text": [
        "DEBUG:FFC:  Removing unused variable: ss\n"
       ]
      },
      {
       "output_type": "stream",
       "stream": "stderr",
       "text": [
        "DEBUG:FFC:  Removing unused variable: rr\n"
       ]
      },
      {
       "output_type": "stream",
       "stream": "stderr",
       "text": [
        "DEBUG:FFC:  Removing unused variable: Y\n"
       ]
      },
      {
       "output_type": "stream",
       "stream": "stderr",
       "text": [
        "DEBUG:FFC:  Removing unused variable: X\n"
       ]
      },
      {
       "output_type": "stream",
       "stream": "stderr",
       "text": [
        "DEBUG:FFC:  Removing unused variable: C1\n"
       ]
      },
      {
       "output_type": "stream",
       "stream": "stderr",
       "text": [
        "DEBUG:FFC:  Removing unused variable: C0\n"
       ]
      },
      {
       "output_type": "stream",
       "stream": "stderr",
       "text": [
        "DEBUG:FFC:  Removing unused variable: tmp2\n"
       ]
      },
      {
       "output_type": "stream",
       "stream": "stderr",
       "text": [
        "DEBUG:FFC:  Removing unused variable: tmp1\n"
       ]
      },
      {
       "output_type": "stream",
       "stream": "stderr",
       "text": [
        "DEBUG:FFC:  Removing unused variable: tmp7\n"
       ]
      },
      {
       "output_type": "stream",
       "stream": "stderr",
       "text": [
        "DEBUG:FFC:  Removing unused variable: tmp6\n"
       ]
      },
      {
       "output_type": "stream",
       "stream": "stderr",
       "text": [
        "DEBUG:FFC:  Removing unused variable: tmp5\n"
       ]
      },
      {
       "output_type": "stream",
       "stream": "stderr",
       "text": [
        "DEBUG:FFC:  Removing unused variable: tt\n"
       ]
      },
      {
       "output_type": "stream",
       "stream": "stderr",
       "text": [
        "DEBUG:FFC:  Removing unused variable: ss\n"
       ]
      },
      {
       "output_type": "stream",
       "stream": "stderr",
       "text": [
        "DEBUG:FFC:  Removing unused variable: rr\n"
       ]
      },
      {
       "output_type": "stream",
       "stream": "stderr",
       "text": [
        "DEBUG:FFC:  Removing unused variable: tmp2\n"
       ]
      },
      {
       "output_type": "stream",
       "stream": "stderr",
       "text": [
        "DEBUG:FFC:  Removing unused variable: tmp1\n"
       ]
      },
      {
       "output_type": "stream",
       "stream": "stderr",
       "text": [
        "DEBUG:FFC:  Removing unused variable: tmp7\n"
       ]
      },
      {
       "output_type": "stream",
       "stream": "stderr",
       "text": [
        "DEBUG:FFC:  Removing unused variable: tmp6\n"
       ]
      },
      {
       "output_type": "stream",
       "stream": "stderr",
       "text": [
        "DEBUG:FFC:  Removing unused variable: tmp5\n"
       ]
      },
      {
       "output_type": "stream",
       "stream": "stderr",
       "text": [
        "DEBUG:FFC:  Removing unused variable: tt\n"
       ]
      },
      {
       "output_type": "stream",
       "stream": "stderr",
       "text": [
        "DEBUG:FFC:  Removing unused variable: ss\n"
       ]
      },
      {
       "output_type": "stream",
       "stream": "stderr",
       "text": [
        "DEBUG:FFC:  Removing unused variable: rr\n"
       ]
      },
      {
       "output_type": "stream",
       "stream": "stderr",
       "text": [
        "DEBUG:FFC:  Removing unused variable: tmp2\n"
       ]
      },
      {
       "output_type": "stream",
       "stream": "stderr",
       "text": [
        "DEBUG:FFC:  Removing unused variable: tmp1\n"
       ]
      },
      {
       "output_type": "stream",
       "stream": "stderr",
       "text": [
        "DEBUG:FFC:  Removing unused variable: tmp7\n"
       ]
      },
      {
       "output_type": "stream",
       "stream": "stderr",
       "text": [
        "DEBUG:FFC:  Removing unused variable: tmp6\n"
       ]
      },
      {
       "output_type": "stream",
       "stream": "stderr",
       "text": [
        "DEBUG:FFC:  Removing unused variable: tmp5\n"
       ]
      },
      {
       "output_type": "stream",
       "stream": "stderr",
       "text": [
        "DEBUG:FFC:  Removing unused variable: tt\n"
       ]
      },
      {
       "output_type": "stream",
       "stream": "stderr",
       "text": [
        "DEBUG:FFC:  Removing unused variable: ss\n"
       ]
      },
      {
       "output_type": "stream",
       "stream": "stderr",
       "text": [
        "DEBUG:FFC:  Removing unused variable: rr\n"
       ]
      },
      {
       "output_type": "stream",
       "stream": "stderr",
       "text": [
        "DEBUG:FFC:  Removing unused variable: tmp2\n"
       ]
      },
      {
       "output_type": "stream",
       "stream": "stderr",
       "text": [
        "DEBUG:FFC:  Removing unused variable: tmp1\n"
       ]
      },
      {
       "output_type": "stream",
       "stream": "stderr",
       "text": [
        "DEBUG:FFC:  Removing unused variable: tmp0\n"
       ]
      },
      {
       "output_type": "stream",
       "stream": "stderr",
       "text": [
        "DEBUG:FFC:  Removing unused variable: tmp7\n"
       ]
      },
      {
       "output_type": "stream",
       "stream": "stderr",
       "text": [
        "DEBUG:FFC:  Removing unused variable: tmp6\n"
       ]
      },
      {
       "output_type": "stream",
       "stream": "stderr",
       "text": [
        "DEBUG:FFC:  Removing unused variable: tmp5\n"
       ]
      },
      {
       "output_type": "stream",
       "stream": "stderr",
       "text": [
        "DEBUG:FFC:  Removing unused variable: tt\n"
       ]
      },
      {
       "output_type": "stream",
       "stream": "stderr",
       "text": [
        "DEBUG:FFC:  Removing unused variable: ss\n"
       ]
      },
      {
       "output_type": "stream",
       "stream": "stderr",
       "text": [
        "DEBUG:FFC:  Removing unused variable: rr\n"
       ]
      },
      {
       "output_type": "stream",
       "stream": "stderr",
       "text": [
        "DEBUG:FFC:  Removing unused variable: tmp2\n"
       ]
      },
      {
       "output_type": "stream",
       "stream": "stderr",
       "text": [
        "DEBUG:FFC:  Removing unused variable: tmp1\n"
       ]
      },
      {
       "output_type": "stream",
       "stream": "stderr",
       "text": [
        "DEBUG:FFC:  Removing unused variable: tmp0\n"
       ]
      },
      {
       "output_type": "stream",
       "stream": "stderr",
       "text": [
        "DEBUG:FFC:  Removing unused variable: tmp7\n"
       ]
      },
      {
       "output_type": "stream",
       "stream": "stderr",
       "text": [
        "DEBUG:FFC:  Removing unused variable: tmp6\n"
       ]
      },
      {
       "output_type": "stream",
       "stream": "stderr",
       "text": [
        "DEBUG:FFC:  Removing unused variable: tmp5\n"
       ]
      },
      {
       "output_type": "stream",
       "stream": "stderr",
       "text": [
        "DEBUG:FFC:  Removing unused variable: tt\n"
       ]
      },
      {
       "output_type": "stream",
       "stream": "stderr",
       "text": [
        "DEBUG:FFC:  Removing unused variable: ss\n"
       ]
      },
      {
       "output_type": "stream",
       "stream": "stderr",
       "text": [
        "DEBUG:FFC:  Removing unused variable: rr\n"
       ]
      },
      {
       "output_type": "stream",
       "stream": "stderr",
       "text": [
        "DEBUG:FFC:  Removing unused variable: tmp2\n"
       ]
      },
      {
       "output_type": "stream",
       "stream": "stderr",
       "text": [
        "DEBUG:FFC:  Removing unused variable: tmp1\n"
       ]
      },
      {
       "output_type": "stream",
       "stream": "stderr",
       "text": [
        "DEBUG:FFC:  Removing unused variable: tmp7\n"
       ]
      },
      {
       "output_type": "stream",
       "stream": "stderr",
       "text": [
        "DEBUG:FFC:  Removing unused variable: tmp6\n"
       ]
      },
      {
       "output_type": "stream",
       "stream": "stderr",
       "text": [
        "DEBUG:FFC:  Removing unused variable: tmp5\n"
       ]
      },
      {
       "output_type": "stream",
       "stream": "stderr",
       "text": [
        "DEBUG:FFC:  Removing unused variable: tt\n"
       ]
      },
      {
       "output_type": "stream",
       "stream": "stderr",
       "text": [
        "DEBUG:FFC:  Removing unused variable: ss\n"
       ]
      },
      {
       "output_type": "stream",
       "stream": "stderr",
       "text": [
        "DEBUG:FFC:  Removing unused variable: rr\n"
       ]
      },
      {
       "output_type": "stream",
       "stream": "stderr",
       "text": [
        "DEBUG:FFC:  Removing unused variable: tmp2\n"
       ]
      },
      {
       "output_type": "stream",
       "stream": "stderr",
       "text": [
        "DEBUG:FFC:  Removing unused variable: tmp1\n"
       ]
      },
      {
       "output_type": "stream",
       "stream": "stderr",
       "text": [
        "DEBUG:FFC:  Removing unused variable: tmp7\n"
       ]
      },
      {
       "output_type": "stream",
       "stream": "stderr",
       "text": [
        "DEBUG:FFC:  Removing unused variable: tmp6\n"
       ]
      },
      {
       "output_type": "stream",
       "stream": "stderr",
       "text": [
        "DEBUG:FFC:  Removing unused variable: tmp5\n"
       ]
      },
      {
       "output_type": "stream",
       "stream": "stderr",
       "text": [
        "DEBUG:FFC:  Removing unused variable: tt\n"
       ]
      },
      {
       "output_type": "stream",
       "stream": "stderr",
       "text": [
        "DEBUG:FFC:  Removing unused variable: ss\n"
       ]
      },
      {
       "output_type": "stream",
       "stream": "stderr",
       "text": [
        "DEBUG:FFC:  Removing unused variable: rr\n"
       ]
      },
      {
       "output_type": "stream",
       "stream": "stderr",
       "text": [
        "DEBUG:FFC:  Removing unused variable: tmp2\n"
       ]
      },
      {
       "output_type": "stream",
       "stream": "stderr",
       "text": [
        "DEBUG:FFC:  Removing unused variable: tmp1\n"
       ]
      },
      {
       "output_type": "stream",
       "stream": "stderr",
       "text": [
        "DEBUG:FFC:  Removing unused variable: tmp7\n"
       ]
      },
      {
       "output_type": "stream",
       "stream": "stderr",
       "text": [
        "DEBUG:FFC:  Removing unused variable: tmp6\n"
       ]
      },
      {
       "output_type": "stream",
       "stream": "stderr",
       "text": [
        "DEBUG:FFC:  Removing unused variable: tmp5\n"
       ]
      },
      {
       "output_type": "stream",
       "stream": "stderr",
       "text": [
        "DEBUG:FFC:  Removing unused variable: tt\n"
       ]
      },
      {
       "output_type": "stream",
       "stream": "stderr",
       "text": [
        "DEBUG:FFC:  Removing unused variable: ss\n"
       ]
      },
      {
       "output_type": "stream",
       "stream": "stderr",
       "text": [
        "DEBUG:FFC:  Removing unused variable: rr\n"
       ]
      },
      {
       "output_type": "stream",
       "stream": "stderr",
       "text": [
        "DEBUG:FFC:  Removing unused variable: tmp2\n"
       ]
      },
      {
       "output_type": "stream",
       "stream": "stderr",
       "text": [
        "DEBUG:FFC:  Removing unused variable: tmp1\n"
       ]
      },
      {
       "output_type": "stream",
       "stream": "stderr",
       "text": [
        "DEBUG:FFC:  Removing unused variable: tmp0\n"
       ]
      },
      {
       "output_type": "stream",
       "stream": "stderr",
       "text": [
        "DEBUG:FFC:  Removing unused variable: tmp7\n"
       ]
      },
      {
       "output_type": "stream",
       "stream": "stderr",
       "text": [
        "DEBUG:FFC:  Removing unused variable: tmp6\n"
       ]
      },
      {
       "output_type": "stream",
       "stream": "stderr",
       "text": [
        "DEBUG:FFC:  Removing unused variable: tmp5\n"
       ]
      },
      {
       "output_type": "stream",
       "stream": "stderr",
       "text": [
        "DEBUG:FFC:  Removing unused variable: tt\n"
       ]
      },
      {
       "output_type": "stream",
       "stream": "stderr",
       "text": [
        "DEBUG:FFC:  Removing unused variable: ss\n"
       ]
      },
      {
       "output_type": "stream",
       "stream": "stderr",
       "text": [
        "DEBUG:FFC:  Removing unused variable: rr\n"
       ]
      },
      {
       "output_type": "stream",
       "stream": "stderr",
       "text": [
        "DEBUG:FFC:  Removing unused variable: tmp2\n"
       ]
      },
      {
       "output_type": "stream",
       "stream": "stderr",
       "text": [
        "DEBUG:FFC:  Removing unused variable: tmp1\n"
       ]
      },
      {
       "output_type": "stream",
       "stream": "stderr",
       "text": [
        "DEBUG:FFC:  Removing unused variable: tmp0\n"
       ]
      },
      {
       "output_type": "stream",
       "stream": "stderr",
       "text": [
        "DEBUG:FFC:  Removing unused variable: tmp7\n"
       ]
      },
      {
       "output_type": "stream",
       "stream": "stderr",
       "text": [
        "DEBUG:FFC:  Removing unused variable: tmp6\n"
       ]
      },
      {
       "output_type": "stream",
       "stream": "stderr",
       "text": [
        "DEBUG:FFC:  Removing unused variable: tmp5\n"
       ]
      },
      {
       "output_type": "stream",
       "stream": "stderr",
       "text": [
        "DEBUG:FFC:  Removing unused variable: tt\n"
       ]
      },
      {
       "output_type": "stream",
       "stream": "stderr",
       "text": [
        "DEBUG:FFC:  Removing unused variable: ss\n"
       ]
      },
      {
       "output_type": "stream",
       "stream": "stderr",
       "text": [
        "DEBUG:FFC:  Removing unused variable: rr\n"
       ]
      },
      {
       "output_type": "stream",
       "stream": "stderr",
       "text": [
        "INFO:FFC:  Generating code for 3 dofmap(s)\n"
       ]
      },
      {
       "output_type": "stream",
       "stream": "stderr",
       "text": [
        "INFO:FFC:  Generating code for integrals\n"
       ]
      },
      {
       "output_type": "stream",
       "stream": "stderr",
       "text": [
        "DEBUG:FFC:  Removing unused variable: circumradius\n"
       ]
      },
      {
       "output_type": "stream",
       "stream": "stderr",
       "text": [
        "DEBUG:FFC:  Removing unused variable: v0v1\n"
       ]
      },
      {
       "output_type": "stream",
       "stream": "stderr",
       "text": [
        "DEBUG:FFC:  Removing unused variable: v0v2\n"
       ]
      },
      {
       "output_type": "stream",
       "stream": "stderr",
       "text": [
        "DEBUG:FFC:  Removing unused variable: v1v2\n"
       ]
      },
      {
       "output_type": "stream",
       "stream": "stderr",
       "text": [
        "DEBUG:FFC:  Removing unused variable: volume\n"
       ]
      },
      {
       "output_type": "stream",
       "stream": "stderr",
       "text": [
        "DEBUG:FFC:  Removing unused variable: circumradius\n"
       ]
      },
      {
       "output_type": "stream",
       "stream": "stderr",
       "text": [
        "DEBUG:FFC:  Removing unused variable: v0v1\n"
       ]
      },
      {
       "output_type": "stream",
       "stream": "stderr",
       "text": [
        "DEBUG:FFC:  Removing unused variable: v0v2\n"
       ]
      },
      {
       "output_type": "stream",
       "stream": "stderr",
       "text": [
        "DEBUG:FFC:  Removing unused variable: v1v2\n"
       ]
      },
      {
       "output_type": "stream",
       "stream": "stderr",
       "text": [
        "DEBUG:FFC:  Removing unused variable: volume\n"
       ]
      },
      {
       "output_type": "stream",
       "stream": "stderr",
       "text": [
        "DEBUG:FFC:  Removing unused variable: facet_area\n"
       ]
      },
      {
       "output_type": "stream",
       "stream": "stderr",
       "text": [
        "DEBUG:FFC:  Removing unused variable: n1\n"
       ]
      },
      {
       "output_type": "stream",
       "stream": "stderr",
       "text": [
        "DEBUG:FFC:  Removing unused variable: n0\n"
       ]
      },
      {
       "output_type": "stream",
       "stream": "stderr",
       "text": [
        "DEBUG:FFC:  Removing unused variable: direction\n"
       ]
      },
      {
       "output_type": "stream",
       "stream": "stderr",
       "text": [
        "INFO:FFC:  Generating code for forms\n"
       ]
      },
      {
       "output_type": "stream",
       "stream": "stderr",
       "text": [
        "INFO:FFC:  \n"
       ]
      },
      {
       "output_type": "stream",
       "stream": "stderr",
       "text": [
        "INFO:FFC:Compiler stage 4 finished in 0.137365 seconds.\n",
        "\n"
       ]
      },
      {
       "output_type": "stream",
       "stream": "stderr",
       "text": [
        "INFO:FFC:Compiler stage 4.1 finished in 1.90735e-06 seconds.\n",
        "\n"
       ]
      },
      {
       "output_type": "stream",
       "stream": "stderr",
       "text": [
        "INFO:FFC:Compiler stage 5: Formatting code\n"
       ]
      },
      {
       "output_type": "stream",
       "stream": "stderr",
       "text": [
        "INFO:FFC:---------------------------------\n"
       ]
      },
      {
       "output_type": "stream",
       "stream": "stderr",
       "text": [
        "INFO:FFC:  Output written to ./ffc_form_b4c0a7d6f484a730e710f05d43e9b8624635eb4f.h.\n"
       ]
      },
      {
       "output_type": "stream",
       "stream": "stderr",
       "text": [
        "INFO:FFC:  \n"
       ]
      },
      {
       "output_type": "stream",
       "stream": "stderr",
       "text": [
        "INFO:FFC:Compiler stage 5 finished in 0.00204992 seconds.\n",
        "\n"
       ]
      },
      {
       "output_type": "stream",
       "stream": "stderr",
       "text": [
        "INFO:FFC:\u001b[1;37;32mFFC finished in 0.337561 seconds.\u001b[0m\n"
       ]
      },
      {
       "output_type": "stream",
       "stream": "stderr",
       "text": [
        "DEBUG:FFC:Compiling and linking Python extension module, this may take some time.\n"
       ]
      },
      {
       "output_type": "stream",
       "stream": "stdout",
       "text": [
        "Calling FFC just-in-time (JIT) compiler, this may take some time.\n"
       ]
      },
      {
       "output_type": "stream",
       "stream": "stderr",
       "text": [
        "Level 25:FFC:Calling FFC just-in-time (JIT) compiler, this may take some time.\n"
       ]
      },
      {
       "output_type": "stream",
       "stream": "stderr",
       "text": [
        "INFO:FFC:Compiling form ffc_form_990b36e08f1a0e31d0b38235470b3bd061ebc641\n",
        "\n"
       ]
      },
      {
       "output_type": "stream",
       "stream": "stderr",
       "text": [
        "INFO:FFC:Compiler stage 1: Analyzing form(s)\n"
       ]
      },
      {
       "output_type": "stream",
       "stream": "stderr",
       "text": [
        "INFO:FFC:-----------------------------------\n"
       ]
      },
      {
       "output_type": "stream",
       "stream": "stderr",
       "text": [
        "INFO:UFL:Adjusting missing element domain to <Domain built from <triangle cell in 2D> with label dolfin_mesh_with_id_2890>.\n"
       ]
      },
      {
       "output_type": "stream",
       "stream": "stderr",
       "text": [
        "INFO:UFL:Adjusting missing element domain to <Domain built from <triangle cell in 2D> with label dolfin_mesh_with_id_2890>.\n"
       ]
      },
      {
       "output_type": "stream",
       "stream": "stderr",
       "text": [
        "INFO:FFC:  \n"
       ]
      },
      {
       "output_type": "stream",
       "stream": "stderr",
       "text": [
        "INFO:FFC:  Geometric dimension:                 2\n",
        "  Number of cell subdomains:           0\n",
        "  Number of exterior_facet subdomains: 11\n",
        "  Rank:                                2\n",
        "  Arguments:                           '(v_0, v_1)'\n",
        "  Number of coefficients:              2\n",
        "  Coefficients:                        '[f_387, f_2909]'\n",
        "  Unique elements:                     'Mixed<CG1(?), R0(?), R0(?)>, R0(?)'\n",
        "  Unique sub elements:                 'Mixed<CG1(?), R0(?), R0(?)>, R0(?), CG1(?)'\n",
        "  \n"
       ]
      },
      {
       "output_type": "stream",
       "stream": "stderr",
       "text": [
        "INFO:FFC:  Extracting monomial form representation from UFL form\n"
       ]
      },
      {
       "output_type": "stream",
       "stream": "stderr",
       "text": [
        "DEBUG:FFC:  Monomial extraction failed: No handler defined for expression Division.\n"
       ]
      },
      {
       "output_type": "stream",
       "stream": "stderr",
       "text": [
        "DEBUG:FFC:  Estimated cost of tensor representation: -1\n"
       ]
      },
      {
       "output_type": "stream",
       "stream": "stderr",
       "text": [
        "INFO:FFC:  representation:    auto --> quadrature\n"
       ]
      },
      {
       "output_type": "stream",
       "stream": "stderr",
       "text": [
        "DEBUG:FFC:  Selecting quadrature degree based on total polynomial degree of integrand: 2\n"
       ]
      },
      {
       "output_type": "stream",
       "stream": "stderr",
       "text": [
        "INFO:FFC:  quadrature_degree: auto --> 2\n"
       ]
      },
      {
       "output_type": "stream",
       "stream": "stderr",
       "text": [
        "INFO:FFC:  quadrature_rule:   auto --> default\n"
       ]
      },
      {
       "output_type": "stream",
       "stream": "stderr",
       "text": [
        "INFO:FFC:  Extracting monomial form representation from UFL form\n"
       ]
      },
      {
       "output_type": "stream",
       "stream": "stderr",
       "text": [
        "DEBUG:FFC:  Monomial extraction failed: No handler defined for expression Division.\n"
       ]
      },
      {
       "output_type": "stream",
       "stream": "stderr",
       "text": [
        "DEBUG:FFC:  Estimated cost of tensor representation: -1\n"
       ]
      },
      {
       "output_type": "stream",
       "stream": "stderr",
       "text": [
        "INFO:FFC:  representation:    auto --> quadrature\n"
       ]
      },
      {
       "output_type": "stream",
       "stream": "stderr",
       "text": [
        "DEBUG:FFC:  Selecting quadrature degree based on total polynomial degree of integrand: 2\n"
       ]
      },
      {
       "output_type": "stream",
       "stream": "stderr",
       "text": [
        "INFO:FFC:  quadrature_degree: auto --> 2\n"
       ]
      },
      {
       "output_type": "stream",
       "stream": "stderr",
       "text": [
        "INFO:FFC:  quadrature_rule:   auto --> default\n"
       ]
      },
      {
       "output_type": "stream",
       "stream": "stderr",
       "text": [
        "INFO:FFC:  \n"
       ]
      },
      {
       "output_type": "stream",
       "stream": "stderr",
       "text": [
        "INFO:FFC:Compiler stage 1 finished in 0.0544741 seconds.\n",
        "\n"
       ]
      },
      {
       "output_type": "stream",
       "stream": "stderr",
       "text": [
        "INFO:FFC:Compiler stage 2: Computing intermediate representation\n"
       ]
      },
      {
       "output_type": "stream",
       "stream": "stderr",
       "text": [
        "INFO:FFC:-------------------------------------------------------\n"
       ]
      },
      {
       "output_type": "stream",
       "stream": "stderr",
       "text": [
        "INFO:FFC:  Computing representation of 3 elements\n"
       ]
      },
      {
       "output_type": "stream",
       "stream": "stderr",
       "text": [
        "DEBUG:FFC:  Reusing element from cache\n"
       ]
      },
      {
       "output_type": "stream",
       "stream": "stderr",
       "text": [
        "DEBUG:FFC:  Reusing element from cache\n"
       ]
      },
      {
       "output_type": "stream",
       "stream": "stderr",
       "text": [
        "DEBUG:FFC:  Reusing element from cache\n"
       ]
      },
      {
       "output_type": "stream",
       "stream": "stderr",
       "text": [
        "DEBUG:FFC:  Reusing element from cache\n"
       ]
      },
      {
       "output_type": "stream",
       "stream": "stderr",
       "text": [
        "DEBUG:FFC:  Reusing element from cache\n"
       ]
      },
      {
       "output_type": "stream",
       "stream": "stderr",
       "text": [
        "DEBUG:FFC:  Reusing element from cache\n"
       ]
      },
      {
       "output_type": "stream",
       "stream": "stderr",
       "text": [
        "INFO:FFC:  Computing representation of 3 dofmaps\n"
       ]
      },
      {
       "output_type": "stream",
       "stream": "stderr",
       "text": [
        "DEBUG:FFC:  Reusing element from cache\n"
       ]
      },
      {
       "output_type": "stream",
       "stream": "stderr",
       "text": [
        "DEBUG:FFC:  Reusing element from cache\n"
       ]
      },
      {
       "output_type": "stream",
       "stream": "stderr",
       "text": [
        "DEBUG:FFC:  Reusing element from cache\n"
       ]
      },
      {
       "output_type": "stream",
       "stream": "stderr",
       "text": [
        "INFO:FFC:  Computing representation of integrals\n"
       ]
      },
      {
       "output_type": "stream",
       "stream": "stderr",
       "text": [
        "INFO:FFC:  Computing quadrature representation\n"
       ]
      },
      {
       "output_type": "stream",
       "stream": "stderr",
       "text": [
        "DEBUG:FFC:  Reusing element from cache\n"
       ]
      },
      {
       "output_type": "stream",
       "stream": "stderr",
       "text": [
        "DEBUG:FFC:  Reusing element from cache\n"
       ]
      },
      {
       "output_type": "stream",
       "stream": "stderr",
       "text": [
        "DEBUG:FFC:  Reusing element from cache\n"
       ]
      },
      {
       "output_type": "stream",
       "stream": "stderr",
       "text": [
        "DEBUG:FFC:  Reusing element from cache\n"
       ]
      },
      {
       "output_type": "stream",
       "stream": "stderr",
       "text": [
        "DEBUG:FFC:  Reusing element from cache\n"
       ]
      },
      {
       "output_type": "stream",
       "stream": "stderr",
       "text": [
        "DEBUG:FFC:  Reusing element from cache\n"
       ]
      },
      {
       "output_type": "stream",
       "stream": "stderr",
       "text": [
        "DEBUG:FFC:  Reusing element from cache\n"
       ]
      },
      {
       "output_type": "stream",
       "stream": "stderr",
       "text": [
        "DEBUG:FFC:  \n",
        "  QG-utils, psi_tables:\n",
        "  {3: {FiniteElement('Real', Domain(Cell('triangle', 2), label='dolfin_mesh_with_id_2890', data='<data with id 2890>'), 0, quad_scheme=None): {None: {None: {(0, 0): array([[ 1.,  1.,  1.]])}}}, MixedElement(*[FiniteElement('Lagrange', Domain(Cell('triangle', 2), label='dolfin_mesh_with_id_2890', data='<data with id 2890>'), 1, quad_scheme=None), FiniteElement('Real', Domain(Cell('triangle', 2), label='dolfin_mesh_with_id_2890', data='<data with id 2890>'), 0, quad_scheme=None), FiniteElement('Real', Domain(Cell('triangle', 2), label='dolfin_mesh_with_id_2890', data='<data with id 2890>'), 0, quad_scheme=None)], **{'value_shape': (3,) }): {None: {None: {(0, 1): array([[[ -1.00000000e+00,  -1.00000000e+00,  -1.00000000e+00],\n",
        "          [  0.00000000e+00,   0.00000000e+00,   0.00000000e+00],\n",
        "          [  0.00000000e+00,   0.00000000e+00,   0.00000000e+00]],\n",
        "  \n",
        "         [[  8.88178420e-16,   8.88178420e-16,   8.88178420e-16],\n",
        "          [  0.00000000e+00,   0.00000000e+00,   0.00000000e+00],\n",
        "          [  0.00000000e+00,   0.00000000e+00,   0.00000000e+00]],\n",
        "  \n",
        "         [[  1.00000000e+00,   1.00000000e+00,   1.00000000e+00],\n",
        "          [  0.00000000e+00,   0.00000000e+00,   0.00000000e+00],\n",
        "          [  0.00000000e+00,   0.00000000e+00,   0.00000000e+00]],\n",
        "  \n",
        "         [[  0.00000000e+00,   0.00000000e+00,   0.00000000e+00],\n",
        "          [  0.00000000e+00,   0.00000000e+00,   0.00000000e+00],\n",
        "          [  0.00000000e+00,   0.00000000e+00,   0.00000000e+00]],\n",
        "  \n",
        "         [[  0.00000000e+00,   0.00000000e+00,   0.00000000e+00],\n",
        "          [  0.00000000e+00,   0.00000000e+00,   0.00000000e+00],\n",
        "          [  0.00000000e+00,   0.00000000e+00,   0.00000000e+00]]]), (1, 0): array([[[-1., -1., -1.],\n",
        "          [ 0.,  0.,  0.],\n",
        "          [ 0.,  0.,  0.]],\n",
        "  \n",
        "         [[ 1.,  1.,  1.],\n",
        "          [ 0.,  0.,  0.],\n",
        "          [ 0.,  0.,  0.]],\n",
        "  \n",
        "         [[ 0.,  0.,  0.],\n",
        "          [ 0.,  0.,  0.],\n",
        "          [ 0.,  0.,  0.]],\n",
        "  \n",
        "         [[ 0.,  0.,  0.],\n",
        "          [ 0.,  0.,  0.],\n",
        "          [ 0.,  0.,  0.]],\n",
        "  \n",
        "         [[ 0.,  0.,  0.],\n",
        "          [ 0.,  0.,  0.],\n",
        "          [ 0.,  0.,  0.]]]), (0, 0): array([[[ 0.66666667,  0.16666667,  0.16666667],\n",
        "          [ 0.        ,  0.        ,  0.        ],\n",
        "          [ 0.        ,  0.        ,  0.        ]],\n",
        "  \n",
        "         [[ 0.16666667,  0.16666667,  0.66666667],\n",
        "          [ 0.        ,  0.        ,  0.        ],\n",
        "          [ 0.        ,  0.        ,  0.        ]],\n",
        "  \n",
        "         [[ 0.16666667,  0.66666667,  0.16666667],\n",
        "          [ 0.        ,  0.        ,  0.        ],\n",
        "          [ 0.        ,  0.        ,  0.        ]],\n",
        "  \n",
        "         [[ 0.        ,  0.        ,  0.        ],\n",
        "          [ 1.        ,  1.        ,  1.        ],\n",
        "          [ 0.        ,  0.        ,  0.        ]],\n",
        "  \n",
        "         [[ 0.        ,  0.        ,  0.        ],\n",
        "          [ 0.        ,  0.        ,  0.        ],\n",
        "          [ 1.        ,  1.        ,  1.        ]]])}}}, VectorElement('Lagrange', Domain(Cell('triangle', 2), label='dolfin_mesh_with_id_2890', data='<data with id 2890>'), 1, dim=2, quad_scheme=None): {None: {None: {(0, 1): array([[[ -1.00000000e+00,  -1.00000000e+00,  -1.00000000e+00],\n",
        "          [  0.00000000e+00,   0.00000000e+00,   0.00000000e+00]],\n",
        "  \n",
        "         [[  8.88178420e-16,   8.88178420e-16,   8.88178420e-16],\n",
        "          [  0.00000000e+00,   0.00000000e+00,   0.00000000e+00]],\n",
        "  \n",
        "         [[  1.00000000e+00,   1.00000000e+00,   1.00000000e+00],\n",
        "          [  0.00000000e+00,   0.00000000e+00,   0.00000000e+00]],\n",
        "  \n",
        "         [[  0.00000000e+00,   0.00000000e+00,   0.00000000e+00],\n",
        "          [ -1.00000000e+00,  -1.00000000e+00,  -1.00000000e+00]],\n",
        "  \n",
        "         [[  0.00000000e+00,   0.00000000e+00,   0.00000000e+00],\n",
        "          [  8.88178420e-16,   8.88178420e-16,   8.88178420e-16]],\n",
        "  \n",
        "         [[  0.00000000e+00,   0.00000000e+00,   0.00000000e+00],\n",
        "          [  1.00000000e+00,   1.00000000e+00,   1.00000000e+00]]]), (1, 0): array([[[-1., -1., -1.],\n",
        "          [ 0.,  0.,  0.]],\n",
        "  \n",
        "         [[ 1.,  1.,  1.],\n",
        "          [ 0.,  0.,  0.]],\n",
        "  \n",
        "         [[ 0.,  0.,  0.],\n",
        "          [ 0.,  0.,  0.]],\n",
        "  \n",
        "         [[ 0.,  0.,  0.],\n",
        "          [-1., -1., -1.]],\n",
        "  \n",
        "         [[ 0.,  0.,  0.],\n",
        "          [ 1.,  1.,  1.]],\n",
        "  \n",
        "         [[ 0.,  0.,  0.],\n",
        "          [ 0.,  0.,  0.]]]), (0, 0): array([[[ 0.66666667,  0.16666667,  0.16666667],\n",
        "          [ 0.        ,  0.        ,  0.        ]],\n",
        "  \n",
        "         [[ 0.16666667,  0.16666667,  0.66666667],\n",
        "          [ 0.        ,  0.        ,  0.        ]],\n",
        "  \n",
        "         [[ 0.16666667,  0.66666667,  0.16666667],\n",
        "          [ 0.        ,  0.        ,  0.        ]],\n",
        "  \n",
        "         [[ 0.        ,  0.        ,  0.        ],\n",
        "          [ 0.66666667,  0.16666667,  0.16666667]],\n",
        "  \n",
        "         [[ 0.        ,  0.        ,  0.        ],\n",
        "          [ 0.16666667,  0.16666667,  0.66666667]],\n",
        "  \n",
        "         [[ 0.        ,  0.        ,  0.        ],\n",
        "          [ 0.16666667,  0.66666667,  0.16666667]]])}}}}}\n"
       ]
      },
      {
       "output_type": "stream",
       "stream": "stderr",
       "text": [
        "DEBUG:FFC:  \n",
        "  QG-utils, psi_tables, flat_tables:\n",
        "  {'FE0_C1_D01': array([[  0.00000000e+00,   0.00000000e+00,   0.00000000e+00,\n",
        "           -1.00000000e+00,   8.88178420e-16,   1.00000000e+00],\n",
        "         [  0.00000000e+00,   0.00000000e+00,   0.00000000e+00,\n",
        "           -1.00000000e+00,   8.88178420e-16,   1.00000000e+00],\n",
        "         [  0.00000000e+00,   0.00000000e+00,   0.00000000e+00,\n",
        "           -1.00000000e+00,   8.88178420e-16,   1.00000000e+00]]), 'FE1_C0': array([[ 0.66666667,  0.16666667,  0.16666667,  0.        ,  0.        ],\n",
        "         [ 0.16666667,  0.16666667,  0.66666667,  0.        ,  0.        ],\n",
        "         [ 0.16666667,  0.66666667,  0.16666667,  0.        ,  0.        ]]), 'FE1_C1': array([[ 0.,  0.,  0.,  1.,  0.],\n",
        "         [ 0.,  0.,  0.,  1.,  0.],\n",
        "         [ 0.,  0.,  0.,  1.,  0.]]), 'FE1_C2': array([[ 0.,  0.,  0.,  0.,  1.],\n",
        "         [ 0.,  0.,  0.,  0.,  1.],\n",
        "         [ 0.,  0.,  0.,  0.,  1.]]), 'FE0_C1_D10': array([[ 0.,  0.,  0., -1.,  1.,  0.],\n",
        "         [ 0.,  0.,  0., -1.,  1.,  0.],\n",
        "         [ 0.,  0.,  0., -1.,  1.,  0.]]), 'FE1_C1_D10': array([[ 0.,  0.,  0.,  0.,  0.],\n",
        "         [ 0.,  0.,  0.,  0.,  0.],\n",
        "         [ 0.,  0.,  0.,  0.,  0.]]), 'FE1_C2_D10': array([[ 0.,  0.,  0.,  0.,  0.],\n",
        "         [ 0.,  0.,  0.,  0.,  0.],\n",
        "         [ 0.,  0.,  0.,  0.,  0.]]), 'FE0_C0_D10': array([[-1.,  1.,  0.,  0.,  0.,  0.],\n",
        "         [-1.,  1.,  0.,  0.,  0.,  0.],\n",
        "         [-1.,  1.,  0.,  0.,  0.,  0.]]), 'FE0_C0_D01': array([[ -1.00000000e+00,   8.88178420e-16,   1.00000000e+00,\n",
        "            0.00000000e+00,   0.00000000e+00,   0.00000000e+00],\n",
        "         [ -1.00000000e+00,   8.88178420e-16,   1.00000000e+00,\n",
        "            0.00000000e+00,   0.00000000e+00,   0.00000000e+00],\n",
        "         [ -1.00000000e+00,   8.88178420e-16,   1.00000000e+00,\n",
        "            0.00000000e+00,   0.00000000e+00,   0.00000000e+00]]), 'FE2': array([[ 1.],\n",
        "         [ 1.],\n",
        "         [ 1.]]), 'FE1_C2_D01': array([[ 0.,  0.,  0.,  0.,  0.],\n",
        "         [ 0.,  0.,  0.,  0.,  0.],\n",
        "         [ 0.,  0.,  0.,  0.,  0.]]), 'FE1_C1_D01': array([[ 0.,  0.,  0.,  0.,  0.],\n",
        "         [ 0.,  0.,  0.,  0.,  0.],\n",
        "         [ 0.,  0.,  0.,  0.,  0.]]), 'FE1_C0_D01': array([[ -1.00000000e+00,   8.88178420e-16,   1.00000000e+00,\n",
        "            0.00000000e+00,   0.00000000e+00],\n",
        "         [ -1.00000000e+00,   8.88178420e-16,   1.00000000e+00,\n",
        "            0.00000000e+00,   0.00000000e+00],\n",
        "         [ -1.00000000e+00,   8.88178420e-16,   1.00000000e+00,\n",
        "            0.00000000e+00,   0.00000000e+00]]), 'FE1_C0_D10': array([[-1.,  1.,  0.,  0.,  0.],\n",
        "         [-1.,  1.,  0.,  0.,  0.],\n",
        "         [-1.,  1.,  0.,  0.,  0.]]), 'FE0_C1': array([[ 0.        ,  0.        ,  0.        ,  0.66666667,  0.16666667,\n",
        "           0.16666667],\n",
        "         [ 0.        ,  0.        ,  0.        ,  0.16666667,  0.16666667,\n",
        "           0.66666667],\n",
        "         [ 0.        ,  0.        ,  0.        ,  0.16666667,  0.66666667,\n",
        "           0.16666667]]), 'FE0_C0': array([[ 0.66666667,  0.16666667,  0.16666667,  0.        ,  0.        ,\n",
        "           0.        ],\n",
        "         [ 0.16666667,  0.16666667,  0.66666667,  0.        ,  0.        ,\n",
        "           0.        ],\n",
        "         [ 0.16666667,  0.66666667,  0.16666667,  0.        ,  0.        ,\n",
        "           0.        ]])}\n"
       ]
      },
      {
       "output_type": "stream",
       "stream": "stderr",
       "text": [
        "DEBUG:FFC:  \n",
        "  tables: {'FE0_C1_D01': array([[  0.00000000e+00,   0.00000000e+00,   0.00000000e+00,\n",
        "           -1.00000000e+00,   8.88178420e-16,   1.00000000e+00],\n",
        "         [  0.00000000e+00,   0.00000000e+00,   0.00000000e+00,\n",
        "           -1.00000000e+00,   8.88178420e-16,   1.00000000e+00],\n",
        "         [  0.00000000e+00,   0.00000000e+00,   0.00000000e+00,\n",
        "           -1.00000000e+00,   8.88178420e-16,   1.00000000e+00]]), 'FE1_C0': array([[ 0.66666667,  0.16666667,  0.16666667,  0.        ,  0.        ],\n",
        "         [ 0.16666667,  0.16666667,  0.66666667,  0.        ,  0.        ],\n",
        "         [ 0.16666667,  0.66666667,  0.16666667,  0.        ,  0.        ]]), 'FE1_C1': array([[ 0.,  0.,  0.,  1.,  0.],\n",
        "         [ 0.,  0.,  0.,  1.,  0.],\n",
        "         [ 0.,  0.,  0.,  1.,  0.]]), 'FE1_C2': array([[ 0.,  0.,  0.,  0.,  1.],\n",
        "         [ 0.,  0.,  0.,  0.,  1.],\n",
        "         [ 0.,  0.,  0.,  0.,  1.]]), 'FE0_C1_D10': array([[ 0.,  0.,  0., -1.,  1.,  0.],\n",
        "         [ 0.,  0.,  0., -1.,  1.,  0.],\n",
        "         [ 0.,  0.,  0., -1.,  1.,  0.]]), 'FE0_C0_D10': array([[-1.,  1.,  0.,  0.,  0.,  0.],\n",
        "         [-1.,  1.,  0.,  0.,  0.,  0.],\n",
        "         [-1.,  1.,  0.,  0.,  0.,  0.]]), 'FE0_C0_D01': array([[ -1.00000000e+00,   8.88178420e-16,   1.00000000e+00,\n",
        "            0.00000000e+00,   0.00000000e+00,   0.00000000e+00],\n",
        "         [ -1.00000000e+00,   8.88178420e-16,   1.00000000e+00,\n",
        "            0.00000000e+00,   0.00000000e+00,   0.00000000e+00],\n",
        "         [ -1.00000000e+00,   8.88178420e-16,   1.00000000e+00,\n",
        "            0.00000000e+00,   0.00000000e+00,   0.00000000e+00]]), 'FE2': array([[ 1.],\n",
        "         [ 1.],\n",
        "         [ 1.]]), 'FE1_C1_D01': array([[ 0.,  0.,  0.,  0.,  0.],\n",
        "         [ 0.,  0.,  0.,  0.,  0.],\n",
        "         [ 0.,  0.,  0.,  0.,  0.]]), 'FE1_C0_D01': array([[ -1.00000000e+00,   8.88178420e-16,   1.00000000e+00,\n",
        "            0.00000000e+00,   0.00000000e+00],\n",
        "         [ -1.00000000e+00,   8.88178420e-16,   1.00000000e+00,\n",
        "            0.00000000e+00,   0.00000000e+00],\n",
        "         [ -1.00000000e+00,   8.88178420e-16,   1.00000000e+00,\n",
        "            0.00000000e+00,   0.00000000e+00]]), 'FE1_C0_D10': array([[-1.,  1.,  0.,  0.,  0.],\n",
        "         [-1.,  1.,  0.,  0.,  0.],\n",
        "         [-1.,  1.,  0.,  0.,  0.]]), 'FE0_C1': array([[ 0.        ,  0.        ,  0.        ,  0.66666667,  0.16666667,\n",
        "           0.16666667],\n",
        "         [ 0.        ,  0.        ,  0.        ,  0.16666667,  0.16666667,\n",
        "           0.66666667],\n",
        "         [ 0.        ,  0.        ,  0.        ,  0.16666667,  0.66666667,\n",
        "           0.16666667]]), 'FE0_C0': array([[ 0.66666667,  0.16666667,  0.16666667,  0.        ,  0.        ,\n",
        "           0.        ],\n",
        "         [ 0.16666667,  0.16666667,  0.66666667,  0.        ,  0.        ,\n",
        "           0.        ],\n",
        "         [ 0.16666667,  0.66666667,  0.16666667,  0.        ,  0.        ,\n",
        "           0.        ]])}\n"
       ]
      },
      {
       "output_type": "stream",
       "stream": "stderr",
       "text": [
        "DEBUG:FFC:  \n",
        "  name_map: {'FE1_C1_D01': ['FE1_C1_D10', 'FE1_C2_D01', 'FE1_C2_D10']}\n"
       ]
      },
      {
       "output_type": "stream",
       "stream": "stderr",
       "text": [
        "DEBUG:FFC:  \n",
        "  inv_name_map: {'FE0_C1_D01': 'FE0_C1_D01', 'FE1_C0': 'FE1_C0', 'FE1_C1': 'FE1_C1', 'FE1_C2': 'FE1_C2', 'FE0_C1_D10': 'FE0_C1_D10', 'FE1_C1_D10': 'FE1_C1_D01', 'FE1_C2_D10': 'FE1_C1_D01', 'FE0_C0_D10': 'FE0_C0_D10', 'FE0_C0_D01': 'FE0_C0_D01', 'FE2': 'FE2', 'FE1_C2_D01': 'FE1_C1_D01', 'FE1_C1_D01': 'FE1_C1_D01', 'FE1_C0_D01': 'FE1_C0_D01', 'FE1_C0_D10': 'FE1_C0_D10', 'FE0_C1': 'FE0_C1', 'FE0_C0': 'FE0_C0'}\n"
       ]
      },
      {
       "output_type": "stream",
       "stream": "stderr",
       "text": [
        "DEBUG:FFC:  \n",
        "  QG-utils, psi_tables, unique_tables:\n",
        "  {'FE0_C1_D01': array([[ 0.,  0.,  0., -1.,  0.,  1.],\n",
        "         [ 0.,  0.,  0., -1.,  0.,  1.],\n",
        "         [ 0.,  0.,  0., -1.,  0.,  1.]]), 'FE1_C0': array([[ 0.66666667,  0.16666667,  0.16666667,  0.        ,  0.        ],\n",
        "         [ 0.16666667,  0.16666667,  0.66666667,  0.        ,  0.        ],\n",
        "         [ 0.16666667,  0.66666667,  0.16666667,  0.        ,  0.        ]]), 'FE1_C1': array([[ 0.,  0.,  0.,  1.,  0.],\n",
        "         [ 0.,  0.,  0.,  1.,  0.],\n",
        "         [ 0.,  0.,  0.,  1.,  0.]]), 'FE1_C2': array([[ 0.,  0.,  0.,  0.,  1.],\n",
        "         [ 0.,  0.,  0.,  0.,  1.],\n",
        "         [ 0.,  0.,  0.,  0.,  1.]]), 'FE0_C1_D10': array([[ 0.,  0.,  0., -1.,  1.,  0.],\n",
        "         [ 0.,  0.,  0., -1.,  1.,  0.],\n",
        "         [ 0.,  0.,  0., -1.,  1.,  0.]]), 'FE0_C0_D10': array([[-1.,  1.,  0.,  0.,  0.,  0.],\n",
        "         [-1.,  1.,  0.,  0.,  0.,  0.],\n",
        "         [-1.,  1.,  0.,  0.,  0.,  0.]]), 'FE0_C0_D01': array([[-1.,  0.,  1.,  0.,  0.,  0.],\n",
        "         [-1.,  0.,  1.,  0.,  0.,  0.],\n",
        "         [-1.,  0.,  1.,  0.,  0.,  0.]]), 'FE2': array([[ 1.],\n",
        "         [ 1.],\n",
        "         [ 1.]]), 'FE1_C1_D01': array([[ 0.,  0.,  0.,  0.,  0.],\n",
        "         [ 0.,  0.,  0.,  0.,  0.],\n",
        "         [ 0.,  0.,  0.,  0.,  0.]]), 'FE1_C0_D01': array([[-1.,  0.,  1.,  0.,  0.],\n",
        "         [-1.,  0.,  1.,  0.,  0.],\n",
        "         [-1.,  0.,  1.,  0.,  0.]]), 'FE1_C0_D10': array([[-1.,  1.,  0.,  0.,  0.],\n",
        "         [-1.,  1.,  0.,  0.,  0.],\n",
        "         [-1.,  1.,  0.,  0.,  0.]]), 'FE0_C1': array([[ 0.        ,  0.        ,  0.        ,  0.66666667,  0.16666667,\n",
        "           0.16666667],\n",
        "         [ 0.        ,  0.        ,  0.        ,  0.16666667,  0.16666667,\n",
        "           0.66666667],\n",
        "         [ 0.        ,  0.        ,  0.        ,  0.16666667,  0.66666667,\n",
        "           0.16666667]]), 'FE0_C0': array([[ 0.66666667,  0.16666667,  0.16666667,  0.        ,  0.        ,\n",
        "           0.        ],\n",
        "         [ 0.16666667,  0.16666667,  0.66666667,  0.        ,  0.        ,\n",
        "           0.        ],\n",
        "         [ 0.16666667,  0.66666667,  0.16666667,  0.        ,  0.        ,\n",
        "           0.        ]])}\n"
       ]
      },
      {
       "output_type": "stream",
       "stream": "stderr",
       "text": [
        "DEBUG:FFC:  \n",
        "  QG-utils, psi_tables, name_map:\n",
        "  {'FE0_C1_D01': ('FE0_C1_D01', (), False, False), 'FE1_C0': ('FE1_C0', (), False, False), 'FE1_C1': ('FE1_C1', (), False, False), 'FE1_C2': ('FE1_C2', (), False, False), 'FE0_C1_D10': ('FE0_C1_D10', (), False, False), 'FE1_C1_D10': ('FE1_C1_D01', (), True, False), 'FE1_C2_D10': ('FE1_C1_D01', (), True, False), 'FE0_C0_D10': ('FE0_C0_D10', (), False, False), 'FE0_C0_D01': ('FE0_C0_D01', (), False, False), 'FE2': ('FE2', (), False, True), 'FE1_C2_D01': ('FE1_C1_D01', (), True, False), 'FE1_C1_D01': ('FE1_C1_D01', (), True, False), 'FE1_C0_D01': ('FE1_C0_D01', (), False, False), 'FE1_C0_D10': ('FE1_C0_D10', (), False, False), 'FE0_C1': ('FE0_C1', (), False, False), 'FE0_C0': ('FE0_C0', (), False, False)}\n"
       ]
      },
      {
       "output_type": "stream",
       "stream": "stderr",
       "text": [
        "INFO:FFC:  Transforming cell integral\n"
       ]
      },
      {
       "output_type": "stream",
       "stream": "stderr",
       "text": [
        "DEBUG:FFC:  Reusing element from cache\n"
       ]
      },
      {
       "output_type": "stream",
       "stream": "stderr",
       "text": [
        "DEBUG:FFC:  Reusing element from cache\n"
       ]
      },
      {
       "output_type": "stream",
       "stream": "stderr",
       "text": [
        "DEBUG:FFC:  Reusing element from cache\n"
       ]
      },
      {
       "output_type": "stream",
       "stream": "stderr",
       "text": [
        "DEBUG:FFC:  Reusing element from cache\n"
       ]
      },
      {
       "output_type": "stream",
       "stream": "stderr",
       "text": [
        "DEBUG:FFC:  Reusing element from cache\n"
       ]
      },
      {
       "output_type": "stream",
       "stream": "stderr",
       "text": [
        "DEBUG:FFC:  Reusing element from cache\n"
       ]
      },
      {
       "output_type": "stream",
       "stream": "stderr",
       "text": [
        "DEBUG:FFC:  Reusing element from cache\n"
       ]
      },
      {
       "output_type": "stream",
       "stream": "stderr",
       "text": [
        "DEBUG:FFC:  Reusing element from cache\n"
       ]
      },
      {
       "output_type": "stream",
       "stream": "stderr",
       "text": [
        "DEBUG:FFC:  Reusing element from cache\n"
       ]
      },
      {
       "output_type": "stream",
       "stream": "stderr",
       "text": [
        "DEBUG:FFC:  Reusing element from cache\n"
       ]
      },
      {
       "output_type": "stream",
       "stream": "stderr",
       "text": [
        "DEBUG:FFC:  Reusing element from cache\n"
       ]
      },
      {
       "output_type": "stream",
       "stream": "stderr",
       "text": [
        "DEBUG:FFC:  Reusing element from cache\n"
       ]
      },
      {
       "output_type": "stream",
       "stream": "stderr",
       "text": [
        "DEBUG:FFC:  Reusing element from cache\n"
       ]
      },
      {
       "output_type": "stream",
       "stream": "stderr",
       "text": [
        "DEBUG:FFC:  Reusing element from cache\n"
       ]
      },
      {
       "output_type": "stream",
       "stream": "stderr",
       "text": [
        "DEBUG:FFC:  Reusing element from cache\n"
       ]
      },
      {
       "output_type": "stream",
       "stream": "stderr",
       "text": [
        "DEBUG:FFC:  Reusing element from cache\n"
       ]
      },
      {
       "output_type": "stream",
       "stream": "stderr",
       "text": [
        "DEBUG:FFC:  Reusing element from cache\n"
       ]
      },
      {
       "output_type": "stream",
       "stream": "stderr",
       "text": [
        "DEBUG:FFC:  Reusing element from cache\n"
       ]
      },
      {
       "output_type": "stream",
       "stream": "stderr",
       "text": [
        "DEBUG:FFC:  Reusing element from cache\n"
       ]
      },
      {
       "output_type": "stream",
       "stream": "stderr",
       "text": [
        "DEBUG:FFC:  Reusing element from cache\n"
       ]
      },
      {
       "output_type": "stream",
       "stream": "stderr",
       "text": [
        "DEBUG:FFC:  Reusing element from cache\n"
       ]
      },
      {
       "output_type": "stream",
       "stream": "stderr",
       "text": [
        "DEBUG:FFC:  Reusing element from cache\n"
       ]
      },
      {
       "output_type": "stream",
       "stream": "stderr",
       "text": [
        "DEBUG:FFC:  Reusing element from cache\n"
       ]
      },
      {
       "output_type": "stream",
       "stream": "stderr",
       "text": [
        "DEBUG:FFC:  Reusing element from cache\n"
       ]
      },
      {
       "output_type": "stream",
       "stream": "stderr",
       "text": [
        "DEBUG:FFC:  Reusing element from cache\n"
       ]
      },
      {
       "output_type": "stream",
       "stream": "stderr",
       "text": [
        "DEBUG:FFC:  Reusing element from cache\n"
       ]
      },
      {
       "output_type": "stream",
       "stream": "stderr",
       "text": [
        "DEBUG:FFC:  Reusing element from cache\n"
       ]
      },
      {
       "output_type": "stream",
       "stream": "stderr",
       "text": [
        "INFO:FFC:  Computing quadrature representation\n"
       ]
      },
      {
       "output_type": "stream",
       "stream": "stderr",
       "text": [
        "DEBUG:FFC:  Reusing element from cache\n"
       ]
      },
      {
       "output_type": "stream",
       "stream": "stderr",
       "text": [
        "DEBUG:FFC:  Reusing element from cache\n"
       ]
      },
      {
       "output_type": "stream",
       "stream": "stderr",
       "text": [
        "DEBUG:FFC:  Reusing element from cache\n"
       ]
      },
      {
       "output_type": "stream",
       "stream": "stderr",
       "text": [
        "DEBUG:FFC:  Reusing element from cache\n"
       ]
      },
      {
       "output_type": "stream",
       "stream": "stderr",
       "text": [
        "DEBUG:FFC:  Reusing element from cache\n"
       ]
      },
      {
       "output_type": "stream",
       "stream": "stderr",
       "text": [
        "DEBUG:FFC:  Reusing element from cache\n"
       ]
      },
      {
       "output_type": "stream",
       "stream": "stderr",
       "text": [
        "DEBUG:FFC:  Reusing element from cache\n"
       ]
      },
      {
       "output_type": "stream",
       "stream": "stderr",
       "text": [
        "DEBUG:FFC:  \n",
        "  QG-utils, psi_tables:\n",
        "  {2: {FiniteElement('Real', Domain(Cell('triangle', 2), label='dolfin_mesh_with_id_2890', data='<data with id 2890>'), 0, quad_scheme=None): {None: {0: {(0, 0): array([[ 1.,  1.]])}, 1: {(0, 0): array([[ 1.,  1.]])}, 2: {(0, 0): array([[ 1.,  1.]])}}}, MixedElement(*[FiniteElement('Lagrange', Domain(Cell('triangle', 2), label='dolfin_mesh_with_id_2890', data='<data with id 2890>'), 1, quad_scheme=None), FiniteElement('Real', Domain(Cell('triangle', 2), label='dolfin_mesh_with_id_2890', data='<data with id 2890>'), 0, quad_scheme=None), FiniteElement('Real', Domain(Cell('triangle', 2), label='dolfin_mesh_with_id_2890', data='<data with id 2890>'), 0, quad_scheme=None)], **{'value_shape': (3,) }): {None: {0: {(0, 0): array([[[ -2.08166817e-17,   5.55111512e-17],\n",
        "          [  0.00000000e+00,   0.00000000e+00],\n",
        "          [  0.00000000e+00,   0.00000000e+00]],\n",
        "  \n",
        "         [[  7.88675135e-01,   2.11324865e-01],\n",
        "          [  0.00000000e+00,   0.00000000e+00],\n",
        "          [  0.00000000e+00,   0.00000000e+00]],\n",
        "  \n",
        "         [[  2.11324865e-01,   7.88675135e-01],\n",
        "          [  0.00000000e+00,   0.00000000e+00],\n",
        "          [  0.00000000e+00,   0.00000000e+00]],\n",
        "  \n",
        "         [[  0.00000000e+00,   0.00000000e+00],\n",
        "          [  1.00000000e+00,   1.00000000e+00],\n",
        "          [  0.00000000e+00,   0.00000000e+00]],\n",
        "  \n",
        "         [[  0.00000000e+00,   0.00000000e+00],\n",
        "          [  0.00000000e+00,   0.00000000e+00],\n",
        "          [  1.00000000e+00,   1.00000000e+00]]])}, 1: {(0, 0): array([[[  7.88675135e-01,   2.11324865e-01],\n",
        "          [  0.00000000e+00,   0.00000000e+00],\n",
        "          [  0.00000000e+00,   0.00000000e+00]],\n",
        "  \n",
        "         [[ -2.08166817e-17,   5.55111512e-17],\n",
        "          [  0.00000000e+00,   0.00000000e+00],\n",
        "          [  0.00000000e+00,   0.00000000e+00]],\n",
        "  \n",
        "         [[  2.11324865e-01,   7.88675135e-01],\n",
        "          [  0.00000000e+00,   0.00000000e+00],\n",
        "          [  0.00000000e+00,   0.00000000e+00]],\n",
        "  \n",
        "         [[  0.00000000e+00,   0.00000000e+00],\n",
        "          [  1.00000000e+00,   1.00000000e+00],\n",
        "          [  0.00000000e+00,   0.00000000e+00]],\n",
        "  \n",
        "         [[  0.00000000e+00,   0.00000000e+00],\n",
        "          [  0.00000000e+00,   0.00000000e+00],\n",
        "          [  1.00000000e+00,   1.00000000e+00]]])}, 2: {(0, 0): array([[[ 0.78867513,  0.21132487],\n",
        "          [ 0.        ,  0.        ],\n",
        "          [ 0.        ,  0.        ]],\n",
        "  \n",
        "         [[ 0.21132487,  0.78867513],\n",
        "          [ 0.        ,  0.        ],\n",
        "          [ 0.        ,  0.        ]],\n",
        "  \n",
        "         [[ 0.        ,  0.        ],\n",
        "          [ 0.        ,  0.        ],\n",
        "          [ 0.        ,  0.        ]],\n",
        "  \n",
        "         [[ 0.        ,  0.        ],\n",
        "          [ 1.        ,  1.        ],\n",
        "          [ 0.        ,  0.        ]],\n",
        "  \n",
        "         [[ 0.        ,  0.        ],\n",
        "          [ 0.        ,  0.        ],\n",
        "          [ 1.        ,  1.        ]]])}}}, VectorElement('Lagrange', Domain(Cell('triangle', 2), label='dolfin_mesh_with_id_2890', data='<data with id 2890>'), 1, dim=2, quad_scheme=None): {None: {0: {(0, 1): array([[[ -1.00000000e+00,  -1.00000000e+00],\n",
        "          [  0.00000000e+00,   0.00000000e+00]],\n",
        "  \n",
        "         [[  8.88178420e-16,   8.88178420e-16],\n",
        "          [  0.00000000e+00,   0.00000000e+00]],\n",
        "  \n",
        "         [[  1.00000000e+00,   1.00000000e+00],\n",
        "          [  0.00000000e+00,   0.00000000e+00]],\n",
        "  \n",
        "         [[  0.00000000e+00,   0.00000000e+00],\n",
        "          [ -1.00000000e+00,  -1.00000000e+00]],\n",
        "  \n",
        "         [[  0.00000000e+00,   0.00000000e+00],\n",
        "          [  8.88178420e-16,   8.88178420e-16]],\n",
        "  \n",
        "         [[  0.00000000e+00,   0.00000000e+00],\n",
        "          [  1.00000000e+00,   1.00000000e+00]]]), (1, 0): array([[[-1., -1.],\n",
        "          [ 0.,  0.]],\n",
        "  \n",
        "         [[ 1.,  1.],\n",
        "          [ 0.,  0.]],\n",
        "  \n",
        "         [[ 0.,  0.],\n",
        "          [ 0.,  0.]],\n",
        "  \n",
        "         [[ 0.,  0.],\n",
        "          [-1., -1.]],\n",
        "  \n",
        "         [[ 0.,  0.],\n",
        "          [ 1.,  1.]],\n",
        "  \n",
        "         [[ 0.,  0.],\n",
        "          [ 0.,  0.]]]), (0, 0): array([[[ -2.08166817e-17,   5.55111512e-17],\n",
        "          [  0.00000000e+00,   0.00000000e+00]],\n",
        "  \n",
        "         [[  7.88675135e-01,   2.11324865e-01],\n",
        "          [  0.00000000e+00,   0.00000000e+00]],\n",
        "  \n",
        "         [[  2.11324865e-01,   7.88675135e-01],\n",
        "          [  0.00000000e+00,   0.00000000e+00]],\n",
        "  \n",
        "         [[  0.00000000e+00,   0.00000000e+00],\n",
        "          [ -2.08166817e-17,   5.55111512e-17]],\n",
        "  \n",
        "         [[  0.00000000e+00,   0.00000000e+00],\n",
        "          [  7.88675135e-01,   2.11324865e-01]],\n",
        "  \n",
        "         [[  0.00000000e+00,   0.00000000e+00],\n",
        "          [  2.11324865e-01,   7.88675135e-01]]])}, 1: {(0, 1): array([[[ -1.00000000e+00,  -1.00000000e+00],\n",
        "          [  0.00000000e+00,   0.00000000e+00]],\n",
        "  \n",
        "         [[  8.88178420e-16,   8.88178420e-16],\n",
        "          [  0.00000000e+00,   0.00000000e+00]],\n",
        "  \n",
        "         [[  1.00000000e+00,   1.00000000e+00],\n",
        "          [  0.00000000e+00,   0.00000000e+00]],\n",
        "  \n",
        "         [[  0.00000000e+00,   0.00000000e+00],\n",
        "          [ -1.00000000e+00,  -1.00000000e+00]],\n",
        "  \n",
        "         [[  0.00000000e+00,   0.00000000e+00],\n",
        "          [  8.88178420e-16,   8.88178420e-16]],\n",
        "  \n",
        "         [[  0.00000000e+00,   0.00000000e+00],\n",
        "          [  1.00000000e+00,   1.00000000e+00]]]), (1, 0): array([[[-1., -1.],\n",
        "          [ 0.,  0.]],\n",
        "  \n",
        "         [[ 1.,  1.],\n",
        "          [ 0.,  0.]],\n",
        "  \n",
        "         [[ 0.,  0.],\n",
        "          [ 0.,  0.]],\n",
        "  \n",
        "         [[ 0.,  0.],\n",
        "          [-1., -1.]],\n",
        "  \n",
        "         [[ 0.,  0.],\n",
        "          [ 1.,  1.]],\n",
        "  \n",
        "         [[ 0.,  0.],\n",
        "          [ 0.,  0.]]]), (0, 0): array([[[  7.88675135e-01,   2.11324865e-01],\n",
        "          [  0.00000000e+00,   0.00000000e+00]],\n",
        "  \n",
        "         [[ -2.08166817e-17,   5.55111512e-17],\n",
        "          [  0.00000000e+00,   0.00000000e+00]],\n",
        "  \n",
        "         [[  2.11324865e-01,   7.88675135e-01],\n",
        "          [  0.00000000e+00,   0.00000000e+00]],\n",
        "  \n",
        "         [[  0.00000000e+00,   0.00000000e+00],\n",
        "          [  7.88675135e-01,   2.11324865e-01]],\n",
        "  \n",
        "         [[  0.00000000e+00,   0.00000000e+00],\n",
        "          [ -2.08166817e-17,   5.55111512e-17]],\n",
        "  \n",
        "         [[  0.00000000e+00,   0.00000000e+00],\n",
        "          [  2.11324865e-01,   7.88675135e-01]]])}, 2: {(0, 1): array([[[ -1.00000000e+00,  -1.00000000e+00],\n",
        "          [  0.00000000e+00,   0.00000000e+00]],\n",
        "  \n",
        "         [[  8.88178420e-16,   8.88178420e-16],\n",
        "          [  0.00000000e+00,   0.00000000e+00]],\n",
        "  \n",
        "         [[  1.00000000e+00,   1.00000000e+00],\n",
        "          [  0.00000000e+00,   0.00000000e+00]],\n",
        "  \n",
        "         [[  0.00000000e+00,   0.00000000e+00],\n",
        "          [ -1.00000000e+00,  -1.00000000e+00]],\n",
        "  \n",
        "         [[  0.00000000e+00,   0.00000000e+00],\n",
        "          [  8.88178420e-16,   8.88178420e-16]],\n",
        "  \n",
        "         [[  0.00000000e+00,   0.00000000e+00],\n",
        "          [  1.00000000e+00,   1.00000000e+00]]]), (1, 0): array([[[-1., -1.],\n",
        "          [ 0.,  0.]],\n",
        "  \n",
        "         [[ 1.,  1.],\n",
        "          [ 0.,  0.]],\n",
        "  \n",
        "         [[ 0.,  0.],\n",
        "          [ 0.,  0.]],\n",
        "  \n",
        "         [[ 0.,  0.],\n",
        "          [-1., -1.]],\n",
        "  \n",
        "         [[ 0.,  0.],\n",
        "          [ 1.,  1.]],\n",
        "  \n",
        "         [[ 0.,  0.],\n",
        "          [ 0.,  0.]]]), (0, 0): array([[[ 0.78867513,  0.21132487],\n",
        "          [ 0.        ,  0.        ]],\n",
        "  \n",
        "         [[ 0.21132487,  0.78867513],\n",
        "          [ 0.        ,  0.        ]],\n",
        "  \n",
        "         [[ 0.        ,  0.        ],\n",
        "          [ 0.        ,  0.        ]],\n",
        "  \n",
        "         [[ 0.        ,  0.        ],\n",
        "          [ 0.78867513,  0.21132487]],\n",
        "  \n",
        "         [[ 0.        ,  0.        ],\n",
        "          [ 0.21132487,  0.78867513]],\n",
        "  \n",
        "         [[ 0.        ,  0.        ],\n",
        "          [ 0.        ,  0.        ]]])}}}}}\n"
       ]
      },
      {
       "output_type": "stream",
       "stream": "stderr",
       "text": [
        "DEBUG:FFC:  \n",
        "  QG-utils, psi_tables, flat_tables:\n",
        "  {'FE1_f2_C2': array([[ 0.,  0.,  0.,  0.,  1.],\n",
        "         [ 0.,  0.,  0.,  0.,  1.]]), 'FE0_f0_C0_D01': array([[ -1.00000000e+00,   8.88178420e-16,   1.00000000e+00,\n",
        "            0.00000000e+00,   0.00000000e+00,   0.00000000e+00],\n",
        "         [ -1.00000000e+00,   8.88178420e-16,   1.00000000e+00,\n",
        "            0.00000000e+00,   0.00000000e+00,   0.00000000e+00]]), 'FE1_f2_C0': array([[ 0.78867513,  0.21132487,  0.        ,  0.        ,  0.        ],\n",
        "         [ 0.21132487,  0.78867513,  0.        ,  0.        ,  0.        ]]), 'FE1_f2_C1': array([[ 0.,  0.,  0.,  1.,  0.],\n",
        "         [ 0.,  0.,  0.,  1.,  0.]]), 'FE0_f0_C1': array([[  0.00000000e+00,   0.00000000e+00,   0.00000000e+00,\n",
        "           -2.08166817e-17,   7.88675135e-01,   2.11324865e-01],\n",
        "         [  0.00000000e+00,   0.00000000e+00,   0.00000000e+00,\n",
        "            5.55111512e-17,   2.11324865e-01,   7.88675135e-01]]), 'FE0_f0_C0': array([[ -2.08166817e-17,   7.88675135e-01,   2.11324865e-01,\n",
        "            0.00000000e+00,   0.00000000e+00,   0.00000000e+00],\n",
        "         [  5.55111512e-17,   2.11324865e-01,   7.88675135e-01,\n",
        "            0.00000000e+00,   0.00000000e+00,   0.00000000e+00]]), 'FE0_f0_C1_D01': array([[  0.00000000e+00,   0.00000000e+00,   0.00000000e+00,\n",
        "           -1.00000000e+00,   8.88178420e-16,   1.00000000e+00],\n",
        "         [  0.00000000e+00,   0.00000000e+00,   0.00000000e+00,\n",
        "           -1.00000000e+00,   8.88178420e-16,   1.00000000e+00]]), 'FE0_f2_C0_D10': array([[-1.,  1.,  0.,  0.,  0.,  0.],\n",
        "         [-1.,  1.,  0.,  0.,  0.,  0.]]), 'FE0_f1_C1_D10': array([[ 0.,  0.,  0., -1.,  1.,  0.],\n",
        "         [ 0.,  0.,  0., -1.,  1.,  0.]]), 'FE0_f2_C1_D01': array([[  0.00000000e+00,   0.00000000e+00,   0.00000000e+00,\n",
        "           -1.00000000e+00,   8.88178420e-16,   1.00000000e+00],\n",
        "         [  0.00000000e+00,   0.00000000e+00,   0.00000000e+00,\n",
        "           -1.00000000e+00,   8.88178420e-16,   1.00000000e+00]]), 'FE0_f1_C1_D01': array([[  0.00000000e+00,   0.00000000e+00,   0.00000000e+00,\n",
        "           -1.00000000e+00,   8.88178420e-16,   1.00000000e+00],\n",
        "         [  0.00000000e+00,   0.00000000e+00,   0.00000000e+00,\n",
        "           -1.00000000e+00,   8.88178420e-16,   1.00000000e+00]]), 'FE1_f0_C0': array([[ -2.08166817e-17,   7.88675135e-01,   2.11324865e-01,\n",
        "            0.00000000e+00,   0.00000000e+00],\n",
        "         [  5.55111512e-17,   2.11324865e-01,   7.88675135e-01,\n",
        "            0.00000000e+00,   0.00000000e+00]]), 'FE1_f0_C1': array([[ 0.,  0.,  0.,  1.,  0.],\n",
        "         [ 0.,  0.,  0.,  1.,  0.]]), 'FE1_f0_C2': array([[ 0.,  0.,  0.,  0.,  1.],\n",
        "         [ 0.,  0.,  0.,  0.,  1.]]), 'FE0_f1_C0_D10': array([[-1.,  1.,  0.,  0.,  0.,  0.],\n",
        "         [-1.,  1.,  0.,  0.,  0.,  0.]]), 'FE0_f0_C0_D10': array([[-1.,  1.,  0.,  0.,  0.,  0.],\n",
        "         [-1.,  1.,  0.,  0.,  0.,  0.]]), 'FE0_f2_C1': array([[ 0.        ,  0.        ,  0.        ,  0.78867513,  0.21132487,\n",
        "           0.        ],\n",
        "         [ 0.        ,  0.        ,  0.        ,  0.21132487,  0.78867513,\n",
        "           0.        ]]), 'FE0_f2_C0': array([[ 0.78867513,  0.21132487,  0.        ,  0.        ,  0.        ,\n",
        "           0.        ],\n",
        "         [ 0.21132487,  0.78867513,  0.        ,  0.        ,  0.        ,\n",
        "           0.        ]]), 'FE0_f0_C1_D10': array([[ 0.,  0.,  0., -1.,  1.,  0.],\n",
        "         [ 0.,  0.,  0., -1.,  1.,  0.]]), 'FE0_f1_C0_D01': array([[ -1.00000000e+00,   8.88178420e-16,   1.00000000e+00,\n",
        "            0.00000000e+00,   0.00000000e+00,   0.00000000e+00],\n",
        "         [ -1.00000000e+00,   8.88178420e-16,   1.00000000e+00,\n",
        "            0.00000000e+00,   0.00000000e+00,   0.00000000e+00]]), 'FE2_f2': array([[ 1.],\n",
        "         [ 1.]]), 'FE2_f0': array([[ 1.],\n",
        "         [ 1.]]), 'FE2_f1': array([[ 1.],\n",
        "         [ 1.]]), 'FE0_f2_C0_D01': array([[ -1.00000000e+00,   8.88178420e-16,   1.00000000e+00,\n",
        "            0.00000000e+00,   0.00000000e+00,   0.00000000e+00],\n",
        "         [ -1.00000000e+00,   8.88178420e-16,   1.00000000e+00,\n",
        "            0.00000000e+00,   0.00000000e+00,   0.00000000e+00]]), 'FE0_f1_C0': array([[  7.88675135e-01,  -2.08166817e-17,   2.11324865e-01,\n",
        "            0.00000000e+00,   0.00000000e+00,   0.00000000e+00],\n",
        "         [  2.11324865e-01,   5.55111512e-17,   7.88675135e-01,\n",
        "            0.00000000e+00,   0.00000000e+00,   0.00000000e+00]]), 'FE0_f1_C1': array([[  0.00000000e+00,   0.00000000e+00,   0.00000000e+00,\n",
        "            7.88675135e-01,  -2.08166817e-17,   2.11324865e-01],\n",
        "         [  0.00000000e+00,   0.00000000e+00,   0.00000000e+00,\n",
        "            2.11324865e-01,   5.55111512e-17,   7.88675135e-01]]), 'FE0_f2_C1_D10': array([[ 0.,  0.,  0., -1.,  1.,  0.],\n",
        "         [ 0.,  0.,  0., -1.,  1.,  0.]]), 'FE1_f1_C2': array([[ 0.,  0.,  0.,  0.,  1.],\n",
        "         [ 0.,  0.,  0.,  0.,  1.]]), 'FE1_f1_C1': array([[ 0.,  0.,  0.,  1.,  0.],\n",
        "         [ 0.,  0.,  0.,  1.,  0.]]), 'FE1_f1_C0': array([[  7.88675135e-01,  -2.08166817e-17,   2.11324865e-01,\n",
        "            0.00000000e+00,   0.00000000e+00],\n",
        "         [  2.11324865e-01,   5.55111512e-17,   7.88675135e-01,\n",
        "            0.00000000e+00,   0.00000000e+00]])}\n"
       ]
      },
      {
       "output_type": "stream",
       "stream": "stderr",
       "text": [
        "DEBUG:FFC:  \n",
        "  tables: {'FE0_f0_C0_D01': array([[ -1.00000000e+00,   8.88178420e-16,   1.00000000e+00,\n",
        "            0.00000000e+00,   0.00000000e+00,   0.00000000e+00],\n",
        "         [ -1.00000000e+00,   8.88178420e-16,   1.00000000e+00,\n",
        "            0.00000000e+00,   0.00000000e+00,   0.00000000e+00]]), 'FE1_f2_C0': array([[ 0.78867513,  0.21132487,  0.        ,  0.        ,  0.        ],\n",
        "         [ 0.21132487,  0.78867513,  0.        ,  0.        ,  0.        ]]), 'FE0_f0_C1': array([[  0.00000000e+00,   0.00000000e+00,   0.00000000e+00,\n",
        "           -2.08166817e-17,   7.88675135e-01,   2.11324865e-01],\n",
        "         [  0.00000000e+00,   0.00000000e+00,   0.00000000e+00,\n",
        "            5.55111512e-17,   2.11324865e-01,   7.88675135e-01]]), 'FE0_f0_C0': array([[ -2.08166817e-17,   7.88675135e-01,   2.11324865e-01,\n",
        "            0.00000000e+00,   0.00000000e+00,   0.00000000e+00],\n",
        "         [  5.55111512e-17,   2.11324865e-01,   7.88675135e-01,\n",
        "            0.00000000e+00,   0.00000000e+00,   0.00000000e+00]]), 'FE0_f0_C1_D01': array([[  0.00000000e+00,   0.00000000e+00,   0.00000000e+00,\n",
        "           -1.00000000e+00,   8.88178420e-16,   1.00000000e+00],\n",
        "         [  0.00000000e+00,   0.00000000e+00,   0.00000000e+00,\n",
        "           -1.00000000e+00,   8.88178420e-16,   1.00000000e+00]]), 'FE1_f0_C0': array([[ -2.08166817e-17,   7.88675135e-01,   2.11324865e-01,\n",
        "            0.00000000e+00,   0.00000000e+00],\n",
        "         [  5.55111512e-17,   2.11324865e-01,   7.88675135e-01,\n",
        "            0.00000000e+00,   0.00000000e+00]]), 'FE1_f0_C1': array([[ 0.,  0.,  0.,  1.,  0.],\n",
        "         [ 0.,  0.,  0.,  1.,  0.]]), 'FE1_f0_C2': array([[ 0.,  0.,  0.,  0.,  1.],\n",
        "         [ 0.,  0.,  0.,  0.,  1.]]), 'FE0_f0_C0_D10': array([[-1.,  1.,  0.,  0.,  0.,  0.],\n",
        "         [-1.,  1.,  0.,  0.,  0.,  0.]]), 'FE0_f2_C1': array([[ 0.        ,  0.        ,  0.        ,  0.78867513,  0.21132487,\n",
        "           0.        ],\n",
        "         [ 0.        ,  0.        ,  0.        ,  0.21132487,  0.78867513,\n",
        "           0.        ]]), 'FE0_f2_C0': array([[ 0.78867513,  0.21132487,  0.        ,  0.        ,  0.        ,\n",
        "           0.        ],\n",
        "         [ 0.21132487,  0.78867513,  0.        ,  0.        ,  0.        ,\n",
        "           0.        ]]), 'FE0_f0_C1_D10': array([[ 0.,  0.,  0., -1.,  1.,  0.],\n",
        "         [ 0.,  0.,  0., -1.,  1.,  0.]]), 'FE2_f0': array([[ 1.],\n",
        "         [ 1.]]), 'FE0_f1_C0': array([[  7.88675135e-01,  -2.08166817e-17,   2.11324865e-01,\n",
        "            0.00000000e+00,   0.00000000e+00,   0.00000000e+00],\n",
        "         [  2.11324865e-01,   5.55111512e-17,   7.88675135e-01,\n",
        "            0.00000000e+00,   0.00000000e+00,   0.00000000e+00]]), 'FE0_f1_C1': array([[  0.00000000e+00,   0.00000000e+00,   0.00000000e+00,\n",
        "            7.88675135e-01,  -2.08166817e-17,   2.11324865e-01],\n",
        "         [  0.00000000e+00,   0.00000000e+00,   0.00000000e+00,\n",
        "            2.11324865e-01,   5.55111512e-17,   7.88675135e-01]]), 'FE1_f1_C0': array([[  7.88675135e-01,  -2.08166817e-17,   2.11324865e-01,\n",
        "            0.00000000e+00,   0.00000000e+00],\n",
        "         [  2.11324865e-01,   5.55111512e-17,   7.88675135e-01,\n",
        "            0.00000000e+00,   0.00000000e+00]])}\n"
       ]
      },
      {
       "output_type": "stream",
       "stream": "stderr",
       "text": [
        "DEBUG:FFC:  \n",
        "  name_map: {'FE0_f0_C1_D01': ['FE0_f1_C1_D01', 'FE0_f2_C1_D01'], 'FE0_f0_C1_D10': ['FE0_f1_C1_D10', 'FE0_f2_C1_D10'], 'FE1_f0_C1': ['FE1_f1_C1', 'FE1_f2_C1'], 'FE1_f0_C2': ['FE1_f1_C2', 'FE1_f2_C2'], 'FE2_f0': ['FE2_f1', 'FE2_f2'], 'FE0_f0_C0_D01': ['FE0_f1_C0_D01', 'FE0_f2_C0_D01'], 'FE0_f0_C0_D10': ['FE0_f1_C0_D10', 'FE0_f2_C0_D10']}\n"
       ]
      },
      {
       "output_type": "stream",
       "stream": "stderr",
       "text": [
        "DEBUG:FFC:  \n",
        "  inv_name_map: {'FE1_f2_C2': 'FE1_f0_C2', 'FE0_f0_C0_D01': 'FE0_f0_C0_D01', 'FE1_f2_C0': 'FE1_f2_C0', 'FE1_f2_C1': 'FE1_f0_C1', 'FE0_f0_C1': 'FE0_f0_C1', 'FE0_f0_C0': 'FE0_f0_C0', 'FE0_f1_C1': 'FE0_f1_C1', 'FE0_f1_C0_D10': 'FE0_f0_C0_D10', 'FE0_f2_C0_D10': 'FE0_f0_C0_D10', 'FE0_f1_C1_D10': 'FE0_f0_C1_D10', 'FE0_f2_C1_D01': 'FE0_f0_C1_D01', 'FE1_f0_C0': 'FE1_f0_C0', 'FE1_f0_C1': 'FE1_f0_C1', 'FE1_f0_C2': 'FE1_f0_C2', 'FE0_f0_C1_D01': 'FE0_f0_C1_D01', 'FE0_f0_C0_D10': 'FE0_f0_C0_D10', 'FE0_f2_C1': 'FE0_f2_C1', 'FE0_f2_C0': 'FE0_f2_C0', 'FE0_f0_C1_D10': 'FE0_f0_C1_D10', 'FE0_f1_C0_D01': 'FE0_f0_C0_D01', 'FE2_f2': 'FE2_f0', 'FE2_f0': 'FE2_f0', 'FE2_f1': 'FE2_f0', 'FE0_f2_C0_D01': 'FE0_f0_C0_D01', 'FE0_f1_C0': 'FE0_f1_C0', 'FE0_f1_C1_D01': 'FE0_f0_C1_D01', 'FE0_f2_C1_D10': 'FE0_f0_C1_D10', 'FE1_f1_C2': 'FE1_f0_C2', 'FE1_f1_C1': 'FE1_f0_C1', 'FE1_f1_C0': 'FE1_f1_C0'}\n"
       ]
      },
      {
       "output_type": "stream",
       "stream": "stderr",
       "text": [
        "DEBUG:FFC:  \n",
        "  QG-utils, psi_tables, unique_tables:\n",
        "  {'FE0_f0_C0_D01': array([[-1.,  0.,  1.,  0.,  0.,  0.],\n",
        "         [-1.,  0.,  1.,  0.,  0.,  0.]]), 'FE1_f2_C0': array([[ 0.78867513,  0.21132487,  0.        ,  0.        ,  0.        ],\n",
        "         [ 0.21132487,  0.78867513,  0.        ,  0.        ,  0.        ]]), 'FE0_f0_C1': array([[ 0.        ,  0.        ,  0.        ,  0.        ,  0.78867513,\n",
        "           0.21132487],\n",
        "         [ 0.        ,  0.        ,  0.        ,  0.        ,  0.21132487,\n",
        "           0.78867513]]), 'FE0_f0_C0': array([[ 0.        ,  0.78867513,  0.21132487,  0.        ,  0.        ,\n",
        "           0.        ],\n",
        "         [ 0.        ,  0.21132487,  0.78867513,  0.        ,  0.        ,\n",
        "           0.        ]]), 'FE0_f0_C1_D01': array([[ 0.,  0.,  0., -1.,  0.,  1.],\n",
        "         [ 0.,  0.,  0., -1.,  0.,  1.]]), 'FE1_f0_C0': array([[ 0.        ,  0.78867513,  0.21132487,  0.        ,  0.        ],\n",
        "         [ 0.        ,  0.21132487,  0.78867513,  0.        ,  0.        ]]), 'FE1_f0_C1': array([[ 0.,  0.,  0.,  1.,  0.],\n",
        "         [ 0.,  0.,  0.,  1.,  0.]]), 'FE1_f0_C2': array([[ 0.,  0.,  0.,  0.,  1.],\n",
        "         [ 0.,  0.,  0.,  0.,  1.]]), 'FE0_f0_C0_D10': array([[-1.,  1.,  0.,  0.,  0.,  0.],\n",
        "         [-1.,  1.,  0.,  0.,  0.,  0.]]), 'FE0_f2_C1': array([[ 0.        ,  0.        ,  0.        ,  0.78867513,  0.21132487,\n",
        "           0.        ],\n",
        "         [ 0.        ,  0.        ,  0.        ,  0.21132487,  0.78867513,\n",
        "           0.        ]]), 'FE0_f2_C0': array([[ 0.78867513,  0.21132487,  0.        ,  0.        ,  0.        ,\n",
        "           0.        ],\n",
        "         [ 0.21132487,  0.78867513,  0.        ,  0.        ,  0.        ,\n",
        "           0.        ]]), 'FE0_f0_C1_D10': array([[ 0.,  0.,  0., -1.,  1.,  0.],\n",
        "         [ 0.,  0.,  0., -1.,  1.,  0.]]), 'FE2_f0': array([[ 1.],\n",
        "         [ 1.]]), 'FE0_f1_C0': array([[ 0.78867513,  0.        ,  0.21132487,  0.        ,  0.        ,\n",
        "           0.        ],\n",
        "         [ 0.21132487,  0.        ,  0.78867513,  0.        ,  0.        ,\n",
        "           0.        ]]), 'FE0_f1_C1': array([[ 0.        ,  0.        ,  0.        ,  0.78867513,  0.        ,\n",
        "           0.21132487],\n",
        "         [ 0.        ,  0.        ,  0.        ,  0.21132487,  0.        ,\n",
        "           0.78867513]]), 'FE1_f1_C0': array([[ 0.78867513,  0.        ,  0.21132487,  0.        ,  0.        ],\n",
        "         [ 0.21132487,  0.        ,  0.78867513,  0.        ,  0.        ]])}\n"
       ]
      },
      {
       "output_type": "stream",
       "stream": "stderr",
       "text": [
        "DEBUG:FFC:  \n",
        "  QG-utils, psi_tables, name_map:\n",
        "  {'FE1_f2_C2': ('FE1_f0_C2', (), False, False), 'FE0_f0_C0_D01': ('FE0_f0_C0_D01', (), False, False), 'FE1_f2_C0': ('FE1_f2_C0', (), False, False), 'FE1_f2_C1': ('FE1_f0_C1', (), False, False), 'FE0_f0_C1': ('FE0_f0_C1', (), False, False), 'FE0_f0_C0': ('FE0_f0_C0', (), False, False), 'FE0_f1_C1': ('FE0_f1_C1', (), False, False), 'FE0_f1_C0_D10': ('FE0_f0_C0_D10', (), False, False), 'FE0_f2_C0_D10': ('FE0_f0_C0_D10', (), False, False), 'FE0_f1_C1_D10': ('FE0_f0_C1_D10', (), False, False), 'FE0_f2_C1_D01': ('FE0_f0_C1_D01', (), False, False), 'FE1_f0_C0': ('FE1_f0_C0', (), False, False), 'FE1_f0_C1': ('FE1_f0_C1', (), False, False), 'FE1_f0_C2': ('FE1_f0_C2', (), False, False), 'FE0_f0_C1_D01': ('FE0_f0_C1_D01', (), False, False), 'FE0_f0_C0_D10': ('FE0_f0_C0_D10', (), False, False), 'FE0_f2_C1': ('FE0_f2_C1', (), False, False), 'FE0_f2_C0': ('FE0_f2_C0', (), False, False), 'FE0_f0_C1_D10': ('FE0_f0_C1_D10', (), False, False), 'FE0_f1_C0_D01': ('FE0_f0_C0_D01', (), False, False), 'FE2_f2': ('FE2_f0', (), False, True), 'FE2_f0': ('FE2_f0', (), False, True), 'FE2_f1': ('FE2_f0', (), False, True), 'FE0_f2_C0_D01': ('FE0_f0_C0_D01', (), False, False), 'FE0_f1_C0': ('FE0_f1_C0', (), False, False), 'FE0_f1_C1_D01': ('FE0_f0_C1_D01', (), False, False), 'FE0_f2_C1_D10': ('FE0_f0_C1_D10', (), False, False), 'FE1_f1_C2': ('FE1_f0_C2', (), False, False), 'FE1_f1_C1': ('FE1_f0_C1', (), False, False), 'FE1_f1_C0': ('FE1_f1_C0', (), False, False)}\n"
       ]
      },
      {
       "output_type": "stream",
       "stream": "stderr",
       "text": [
        "INFO:FFC:  Transforming exterior facet integral 0\n"
       ]
      },
      {
       "output_type": "stream",
       "stream": "stderr",
       "text": [
        "DEBUG:FFC:  Reusing element from cache\n"
       ]
      },
      {
       "output_type": "stream",
       "stream": "stderr",
       "text": [
        "DEBUG:FFC:  Reusing element from cache\n"
       ]
      },
      {
       "output_type": "stream",
       "stream": "stderr",
       "text": [
        "DEBUG:FFC:  Reusing element from cache\n"
       ]
      },
      {
       "output_type": "stream",
       "stream": "stderr",
       "text": [
        "DEBUG:FFC:  Reusing element from cache\n"
       ]
      },
      {
       "output_type": "stream",
       "stream": "stderr",
       "text": [
        "DEBUG:FFC:  Reusing element from cache\n"
       ]
      },
      {
       "output_type": "stream",
       "stream": "stderr",
       "text": [
        "DEBUG:FFC:  Reusing element from cache\n"
       ]
      },
      {
       "output_type": "stream",
       "stream": "stderr",
       "text": [
        "DEBUG:FFC:  Reusing element from cache\n"
       ]
      },
      {
       "output_type": "stream",
       "stream": "stderr",
       "text": [
        "DEBUG:FFC:  Reusing element from cache\n"
       ]
      },
      {
       "output_type": "stream",
       "stream": "stderr",
       "text": [
        "DEBUG:FFC:  Reusing element from cache\n"
       ]
      },
      {
       "output_type": "stream",
       "stream": "stderr",
       "text": [
        "DEBUG:FFC:  Reusing element from cache\n"
       ]
      },
      {
       "output_type": "stream",
       "stream": "stderr",
       "text": [
        "INFO:FFC:  Transforming exterior facet integral 1\n"
       ]
      },
      {
       "output_type": "stream",
       "stream": "stderr",
       "text": [
        "DEBUG:FFC:  Reusing element from cache\n"
       ]
      },
      {
       "output_type": "stream",
       "stream": "stderr",
       "text": [
        "DEBUG:FFC:  Reusing element from cache\n"
       ]
      },
      {
       "output_type": "stream",
       "stream": "stderr",
       "text": [
        "DEBUG:FFC:  Reusing element from cache\n"
       ]
      },
      {
       "output_type": "stream",
       "stream": "stderr",
       "text": [
        "DEBUG:FFC:  Reusing element from cache\n"
       ]
      },
      {
       "output_type": "stream",
       "stream": "stderr",
       "text": [
        "DEBUG:FFC:  Reusing element from cache\n"
       ]
      },
      {
       "output_type": "stream",
       "stream": "stderr",
       "text": [
        "DEBUG:FFC:  Reusing element from cache\n"
       ]
      },
      {
       "output_type": "stream",
       "stream": "stderr",
       "text": [
        "DEBUG:FFC:  Reusing element from cache\n"
       ]
      },
      {
       "output_type": "stream",
       "stream": "stderr",
       "text": [
        "DEBUG:FFC:  Reusing element from cache\n"
       ]
      },
      {
       "output_type": "stream",
       "stream": "stderr",
       "text": [
        "DEBUG:FFC:  Reusing element from cache\n"
       ]
      },
      {
       "output_type": "stream",
       "stream": "stderr",
       "text": [
        "DEBUG:FFC:  Reusing element from cache\n"
       ]
      },
      {
       "output_type": "stream",
       "stream": "stderr",
       "text": [
        "INFO:FFC:  Transforming exterior facet integral 2\n"
       ]
      },
      {
       "output_type": "stream",
       "stream": "stderr",
       "text": [
        "DEBUG:FFC:  Reusing element from cache\n"
       ]
      },
      {
       "output_type": "stream",
       "stream": "stderr",
       "text": [
        "DEBUG:FFC:  Reusing element from cache\n"
       ]
      },
      {
       "output_type": "stream",
       "stream": "stderr",
       "text": [
        "DEBUG:FFC:  Reusing element from cache\n"
       ]
      },
      {
       "output_type": "stream",
       "stream": "stderr",
       "text": [
        "DEBUG:FFC:  Reusing element from cache\n"
       ]
      },
      {
       "output_type": "stream",
       "stream": "stderr",
       "text": [
        "DEBUG:FFC:  Reusing element from cache\n"
       ]
      },
      {
       "output_type": "stream",
       "stream": "stderr",
       "text": [
        "DEBUG:FFC:  Reusing element from cache\n"
       ]
      },
      {
       "output_type": "stream",
       "stream": "stderr",
       "text": [
        "DEBUG:FFC:  Reusing element from cache\n"
       ]
      },
      {
       "output_type": "stream",
       "stream": "stderr",
       "text": [
        "DEBUG:FFC:  Reusing element from cache\n"
       ]
      },
      {
       "output_type": "stream",
       "stream": "stderr",
       "text": [
        "DEBUG:FFC:  Reusing element from cache\n"
       ]
      },
      {
       "output_type": "stream",
       "stream": "stderr",
       "text": [
        "DEBUG:FFC:  Reusing element from cache\n"
       ]
      },
      {
       "output_type": "stream",
       "stream": "stderr",
       "text": [
        "DEBUG:FFC:  Reusing element from cache\n"
       ]
      },
      {
       "output_type": "stream",
       "stream": "stderr",
       "text": [
        "DEBUG:FFC:  Reusing element from cache\n"
       ]
      },
      {
       "output_type": "stream",
       "stream": "stderr",
       "text": [
        "DEBUG:FFC:  Reusing element from cache\n"
       ]
      },
      {
       "output_type": "stream",
       "stream": "stderr",
       "text": [
        "INFO:FFC:  Computing representation of forms\n"
       ]
      },
      {
       "output_type": "stream",
       "stream": "stderr",
       "text": [
        "INFO:FFC:  \n"
       ]
      },
      {
       "output_type": "stream",
       "stream": "stderr",
       "text": [
        "INFO:FFC:Compiler stage 2 finished in 0.160027 seconds.\n",
        "\n"
       ]
      },
      {
       "output_type": "stream",
       "stream": "stderr",
       "text": [
        "INFO:FFC:Compiler stage 3: Optimizing intermediate representation\n"
       ]
      },
      {
       "output_type": "stream",
       "stream": "stderr",
       "text": [
        "INFO:FFC:--------------------------------------------------------\n"
       ]
      },
      {
       "output_type": "stream",
       "stream": "stderr",
       "text": [
        "INFO:FFC:  Skipping optimizations, add -O to optimize\n"
       ]
      },
      {
       "output_type": "stream",
       "stream": "stderr",
       "text": [
        "INFO:FFC:  \n"
       ]
      },
      {
       "output_type": "stream",
       "stream": "stderr",
       "text": [
        "INFO:FFC:Compiler stage 3 finished in 0.00126886 seconds.\n",
        "\n"
       ]
      },
      {
       "output_type": "stream",
       "stream": "stderr",
       "text": [
        "INFO:FFC:Compiler stage 4: Generating code\n"
       ]
      },
      {
       "output_type": "stream",
       "stream": "stderr",
       "text": [
        "INFO:FFC:---------------------------------\n"
       ]
      },
      {
       "output_type": "stream",
       "stream": "stderr",
       "text": [
        "INFO:FFC:  Generating code for 3 element(s)\n"
       ]
      },
      {
       "output_type": "stream",
       "stream": "stderr",
       "text": [
        "DEBUG:FFC:  Removing unused variable: tmp2\n"
       ]
      },
      {
       "output_type": "stream",
       "stream": "stderr",
       "text": [
        "DEBUG:FFC:  Removing unused variable: tmp1\n"
       ]
      },
      {
       "output_type": "stream",
       "stream": "stderr",
       "text": [
        "DEBUG:FFC:  Removing unused variable: tmp7\n"
       ]
      },
      {
       "output_type": "stream",
       "stream": "stderr",
       "text": [
        "DEBUG:FFC:  Removing unused variable: tmp6\n"
       ]
      },
      {
       "output_type": "stream",
       "stream": "stderr",
       "text": [
        "DEBUG:FFC:  Removing unused variable: tmp5\n"
       ]
      },
      {
       "output_type": "stream",
       "stream": "stderr",
       "text": [
        "DEBUG:FFC:  Removing unused variable: tt\n"
       ]
      },
      {
       "output_type": "stream",
       "stream": "stderr",
       "text": [
        "DEBUG:FFC:  Removing unused variable: ss\n"
       ]
      },
      {
       "output_type": "stream",
       "stream": "stderr",
       "text": [
        "DEBUG:FFC:  Removing unused variable: rr\n"
       ]
      },
      {
       "output_type": "stream",
       "stream": "stderr",
       "text": [
        "DEBUG:FFC:  Removing unused variable: tmp2\n"
       ]
      },
      {
       "output_type": "stream",
       "stream": "stderr",
       "text": [
        "DEBUG:FFC:  Removing unused variable: tmp1\n"
       ]
      },
      {
       "output_type": "stream",
       "stream": "stderr",
       "text": [
        "DEBUG:FFC:  Removing unused variable: tmp7\n"
       ]
      },
      {
       "output_type": "stream",
       "stream": "stderr",
       "text": [
        "DEBUG:FFC:  Removing unused variable: tmp6\n"
       ]
      },
      {
       "output_type": "stream",
       "stream": "stderr",
       "text": [
        "DEBUG:FFC:  Removing unused variable: tmp5\n"
       ]
      },
      {
       "output_type": "stream",
       "stream": "stderr",
       "text": [
        "DEBUG:FFC:  Removing unused variable: tt\n"
       ]
      },
      {
       "output_type": "stream",
       "stream": "stderr",
       "text": [
        "DEBUG:FFC:  Removing unused variable: ss\n"
       ]
      },
      {
       "output_type": "stream",
       "stream": "stderr",
       "text": [
        "DEBUG:FFC:  Removing unused variable: rr\n"
       ]
      },
      {
       "output_type": "stream",
       "stream": "stderr",
       "text": [
        "DEBUG:FFC:  Removing unused variable: tmp2\n"
       ]
      },
      {
       "output_type": "stream",
       "stream": "stderr",
       "text": [
        "DEBUG:FFC:  Removing unused variable: tmp1\n"
       ]
      },
      {
       "output_type": "stream",
       "stream": "stderr",
       "text": [
        "DEBUG:FFC:  Removing unused variable: tmp7\n"
       ]
      },
      {
       "output_type": "stream",
       "stream": "stderr",
       "text": [
        "DEBUG:FFC:  Removing unused variable: tmp6\n"
       ]
      },
      {
       "output_type": "stream",
       "stream": "stderr",
       "text": [
        "DEBUG:FFC:  Removing unused variable: tmp5\n"
       ]
      },
      {
       "output_type": "stream",
       "stream": "stderr",
       "text": [
        "DEBUG:FFC:  Removing unused variable: tt\n"
       ]
      },
      {
       "output_type": "stream",
       "stream": "stderr",
       "text": [
        "DEBUG:FFC:  Removing unused variable: ss\n"
       ]
      },
      {
       "output_type": "stream",
       "stream": "stderr",
       "text": [
        "DEBUG:FFC:  Removing unused variable: rr\n"
       ]
      },
      {
       "output_type": "stream",
       "stream": "stderr",
       "text": [
        "DEBUG:FFC:  Removing unused variable: tmp2\n"
       ]
      },
      {
       "output_type": "stream",
       "stream": "stderr",
       "text": [
        "DEBUG:FFC:  Removing unused variable: tmp1\n"
       ]
      },
      {
       "output_type": "stream",
       "stream": "stderr",
       "text": [
        "DEBUG:FFC:  Removing unused variable: tmp7\n"
       ]
      },
      {
       "output_type": "stream",
       "stream": "stderr",
       "text": [
        "DEBUG:FFC:  Removing unused variable: tmp6\n"
       ]
      },
      {
       "output_type": "stream",
       "stream": "stderr",
       "text": [
        "DEBUG:FFC:  Removing unused variable: tmp5\n"
       ]
      },
      {
       "output_type": "stream",
       "stream": "stderr",
       "text": [
        "DEBUG:FFC:  Removing unused variable: tt\n"
       ]
      },
      {
       "output_type": "stream",
       "stream": "stderr",
       "text": [
        "DEBUG:FFC:  Removing unused variable: ss\n"
       ]
      },
      {
       "output_type": "stream",
       "stream": "stderr",
       "text": [
        "DEBUG:FFC:  Removing unused variable: rr\n"
       ]
      },
      {
       "output_type": "stream",
       "stream": "stderr",
       "text": [
        "DEBUG:FFC:  Removing unused variable: tmp2\n"
       ]
      },
      {
       "output_type": "stream",
       "stream": "stderr",
       "text": [
        "DEBUG:FFC:  Removing unused variable: tmp1\n"
       ]
      },
      {
       "output_type": "stream",
       "stream": "stderr",
       "text": [
        "DEBUG:FFC:  Removing unused variable: tmp7\n"
       ]
      },
      {
       "output_type": "stream",
       "stream": "stderr",
       "text": [
        "DEBUG:FFC:  Removing unused variable: tmp6\n"
       ]
      },
      {
       "output_type": "stream",
       "stream": "stderr",
       "text": [
        "DEBUG:FFC:  Removing unused variable: tmp5\n"
       ]
      },
      {
       "output_type": "stream",
       "stream": "stderr",
       "text": [
        "DEBUG:FFC:  Removing unused variable: tt\n"
       ]
      },
      {
       "output_type": "stream",
       "stream": "stderr",
       "text": [
        "DEBUG:FFC:  Removing unused variable: ss\n"
       ]
      },
      {
       "output_type": "stream",
       "stream": "stderr",
       "text": [
        "DEBUG:FFC:  Removing unused variable: rr\n"
       ]
      },
      {
       "output_type": "stream",
       "stream": "stderr",
       "text": [
        "DEBUG:FFC:  Removing unused variable: tmp2\n"
       ]
      },
      {
       "output_type": "stream",
       "stream": "stderr",
       "text": [
        "DEBUG:FFC:  Removing unused variable: tmp1\n"
       ]
      },
      {
       "output_type": "stream",
       "stream": "stderr",
       "text": [
        "DEBUG:FFC:  Removing unused variable: tmp7\n"
       ]
      },
      {
       "output_type": "stream",
       "stream": "stderr",
       "text": [
        "DEBUG:FFC:  Removing unused variable: tmp6\n"
       ]
      },
      {
       "output_type": "stream",
       "stream": "stderr",
       "text": [
        "DEBUG:FFC:  Removing unused variable: tmp5\n"
       ]
      },
      {
       "output_type": "stream",
       "stream": "stderr",
       "text": [
        "DEBUG:FFC:  Removing unused variable: tt\n"
       ]
      },
      {
       "output_type": "stream",
       "stream": "stderr",
       "text": [
        "DEBUG:FFC:  Removing unused variable: ss\n"
       ]
      },
      {
       "output_type": "stream",
       "stream": "stderr",
       "text": [
        "DEBUG:FFC:  Removing unused variable: rr\n"
       ]
      },
      {
       "output_type": "stream",
       "stream": "stderr",
       "text": [
        "DEBUG:FFC:  Removing unused variable: tmp2\n"
       ]
      },
      {
       "output_type": "stream",
       "stream": "stderr",
       "text": [
        "DEBUG:FFC:  Removing unused variable: tmp1\n"
       ]
      },
      {
       "output_type": "stream",
       "stream": "stderr",
       "text": [
        "DEBUG:FFC:  Removing unused variable: tmp0\n"
       ]
      },
      {
       "output_type": "stream",
       "stream": "stderr",
       "text": [
        "DEBUG:FFC:  Removing unused variable: tmp7\n"
       ]
      },
      {
       "output_type": "stream",
       "stream": "stderr",
       "text": [
        "DEBUG:FFC:  Removing unused variable: tmp6\n"
       ]
      },
      {
       "output_type": "stream",
       "stream": "stderr",
       "text": [
        "DEBUG:FFC:  Removing unused variable: tmp5\n"
       ]
      },
      {
       "output_type": "stream",
       "stream": "stderr",
       "text": [
        "DEBUG:FFC:  Removing unused variable: tt\n"
       ]
      },
      {
       "output_type": "stream",
       "stream": "stderr",
       "text": [
        "DEBUG:FFC:  Removing unused variable: ss\n"
       ]
      },
      {
       "output_type": "stream",
       "stream": "stderr",
       "text": [
        "DEBUG:FFC:  Removing unused variable: rr\n"
       ]
      },
      {
       "output_type": "stream",
       "stream": "stderr",
       "text": [
        "DEBUG:FFC:  Removing unused variable: Y\n"
       ]
      },
      {
       "output_type": "stream",
       "stream": "stderr",
       "text": [
        "DEBUG:FFC:  Removing unused variable: X\n"
       ]
      },
      {
       "output_type": "stream",
       "stream": "stderr",
       "text": [
        "DEBUG:FFC:  Removing unused variable: C1\n"
       ]
      },
      {
       "output_type": "stream",
       "stream": "stderr",
       "text": [
        "DEBUG:FFC:  Removing unused variable: C0\n"
       ]
      },
      {
       "output_type": "stream",
       "stream": "stderr",
       "text": [
        "DEBUG:FFC:  Removing unused variable: tmp2\n"
       ]
      },
      {
       "output_type": "stream",
       "stream": "stderr",
       "text": [
        "DEBUG:FFC:  Removing unused variable: tmp1\n"
       ]
      },
      {
       "output_type": "stream",
       "stream": "stderr",
       "text": [
        "DEBUG:FFC:  Removing unused variable: tmp7\n"
       ]
      },
      {
       "output_type": "stream",
       "stream": "stderr",
       "text": [
        "DEBUG:FFC:  Removing unused variable: tmp6\n"
       ]
      },
      {
       "output_type": "stream",
       "stream": "stderr",
       "text": [
        "DEBUG:FFC:  Removing unused variable: tmp5\n"
       ]
      },
      {
       "output_type": "stream",
       "stream": "stderr",
       "text": [
        "DEBUG:FFC:  Removing unused variable: tt\n"
       ]
      },
      {
       "output_type": "stream",
       "stream": "stderr",
       "text": [
        "DEBUG:FFC:  Removing unused variable: ss\n"
       ]
      },
      {
       "output_type": "stream",
       "stream": "stderr",
       "text": [
        "DEBUG:FFC:  Removing unused variable: rr\n"
       ]
      },
      {
       "output_type": "stream",
       "stream": "stderr",
       "text": [
        "DEBUG:FFC:  Removing unused variable: tmp2\n"
       ]
      },
      {
       "output_type": "stream",
       "stream": "stderr",
       "text": [
        "DEBUG:FFC:  Removing unused variable: tmp1\n"
       ]
      },
      {
       "output_type": "stream",
       "stream": "stderr",
       "text": [
        "DEBUG:FFC:  Removing unused variable: tmp7\n"
       ]
      },
      {
       "output_type": "stream",
       "stream": "stderr",
       "text": [
        "DEBUG:FFC:  Removing unused variable: tmp6\n"
       ]
      },
      {
       "output_type": "stream",
       "stream": "stderr",
       "text": [
        "DEBUG:FFC:  Removing unused variable: tmp5\n"
       ]
      },
      {
       "output_type": "stream",
       "stream": "stderr",
       "text": [
        "DEBUG:FFC:  Removing unused variable: tt\n"
       ]
      },
      {
       "output_type": "stream",
       "stream": "stderr",
       "text": [
        "DEBUG:FFC:  Removing unused variable: ss\n"
       ]
      },
      {
       "output_type": "stream",
       "stream": "stderr",
       "text": [
        "DEBUG:FFC:  Removing unused variable: rr\n"
       ]
      },
      {
       "output_type": "stream",
       "stream": "stderr",
       "text": [
        "DEBUG:FFC:  Removing unused variable: tmp2\n"
       ]
      },
      {
       "output_type": "stream",
       "stream": "stderr",
       "text": [
        "DEBUG:FFC:  Removing unused variable: tmp1\n"
       ]
      },
      {
       "output_type": "stream",
       "stream": "stderr",
       "text": [
        "DEBUG:FFC:  Removing unused variable: tmp7\n"
       ]
      },
      {
       "output_type": "stream",
       "stream": "stderr",
       "text": [
        "DEBUG:FFC:  Removing unused variable: tmp6\n"
       ]
      },
      {
       "output_type": "stream",
       "stream": "stderr",
       "text": [
        "DEBUG:FFC:  Removing unused variable: tmp5\n"
       ]
      },
      {
       "output_type": "stream",
       "stream": "stderr",
       "text": [
        "DEBUG:FFC:  Removing unused variable: tt\n"
       ]
      },
      {
       "output_type": "stream",
       "stream": "stderr",
       "text": [
        "DEBUG:FFC:  Removing unused variable: ss\n"
       ]
      },
      {
       "output_type": "stream",
       "stream": "stderr",
       "text": [
        "DEBUG:FFC:  Removing unused variable: rr\n"
       ]
      },
      {
       "output_type": "stream",
       "stream": "stderr",
       "text": [
        "DEBUG:FFC:  Removing unused variable: tmp2\n"
       ]
      },
      {
       "output_type": "stream",
       "stream": "stderr",
       "text": [
        "DEBUG:FFC:  Removing unused variable: tmp1\n"
       ]
      },
      {
       "output_type": "stream",
       "stream": "stderr",
       "text": [
        "DEBUG:FFC:  Removing unused variable: tmp0\n"
       ]
      },
      {
       "output_type": "stream",
       "stream": "stderr",
       "text": [
        "DEBUG:FFC:  Removing unused variable: tmp7\n"
       ]
      },
      {
       "output_type": "stream",
       "stream": "stderr",
       "text": [
        "DEBUG:FFC:  Removing unused variable: tmp6\n"
       ]
      },
      {
       "output_type": "stream",
       "stream": "stderr",
       "text": [
        "DEBUG:FFC:  Removing unused variable: tmp5\n"
       ]
      },
      {
       "output_type": "stream",
       "stream": "stderr",
       "text": [
        "DEBUG:FFC:  Removing unused variable: tt\n"
       ]
      },
      {
       "output_type": "stream",
       "stream": "stderr",
       "text": [
        "DEBUG:FFC:  Removing unused variable: ss\n"
       ]
      },
      {
       "output_type": "stream",
       "stream": "stderr",
       "text": [
        "DEBUG:FFC:  Removing unused variable: rr\n"
       ]
      },
      {
       "output_type": "stream",
       "stream": "stderr",
       "text": [
        "DEBUG:FFC:  Removing unused variable: tmp2\n"
       ]
      },
      {
       "output_type": "stream",
       "stream": "stderr",
       "text": [
        "DEBUG:FFC:  Removing unused variable: tmp1\n"
       ]
      },
      {
       "output_type": "stream",
       "stream": "stderr",
       "text": [
        "DEBUG:FFC:  Removing unused variable: tmp0\n"
       ]
      },
      {
       "output_type": "stream",
       "stream": "stderr",
       "text": [
        "DEBUG:FFC:  Removing unused variable: tmp7\n"
       ]
      },
      {
       "output_type": "stream",
       "stream": "stderr",
       "text": [
        "DEBUG:FFC:  Removing unused variable: tmp6\n"
       ]
      },
      {
       "output_type": "stream",
       "stream": "stderr",
       "text": [
        "DEBUG:FFC:  Removing unused variable: tmp5\n"
       ]
      },
      {
       "output_type": "stream",
       "stream": "stderr",
       "text": [
        "DEBUG:FFC:  Removing unused variable: tt\n"
       ]
      },
      {
       "output_type": "stream",
       "stream": "stderr",
       "text": [
        "DEBUG:FFC:  Removing unused variable: ss\n"
       ]
      },
      {
       "output_type": "stream",
       "stream": "stderr",
       "text": [
        "DEBUG:FFC:  Removing unused variable: rr\n"
       ]
      },
      {
       "output_type": "stream",
       "stream": "stderr",
       "text": [
        "DEBUG:FFC:  Removing unused variable: tmp2\n"
       ]
      },
      {
       "output_type": "stream",
       "stream": "stderr",
       "text": [
        "DEBUG:FFC:  Removing unused variable: tmp1\n"
       ]
      },
      {
       "output_type": "stream",
       "stream": "stderr",
       "text": [
        "DEBUG:FFC:  Removing unused variable: tmp7\n"
       ]
      },
      {
       "output_type": "stream",
       "stream": "stderr",
       "text": [
        "DEBUG:FFC:  Removing unused variable: tmp6\n"
       ]
      },
      {
       "output_type": "stream",
       "stream": "stderr",
       "text": [
        "DEBUG:FFC:  Removing unused variable: tmp5\n"
       ]
      },
      {
       "output_type": "stream",
       "stream": "stderr",
       "text": [
        "DEBUG:FFC:  Removing unused variable: tt\n"
       ]
      },
      {
       "output_type": "stream",
       "stream": "stderr",
       "text": [
        "DEBUG:FFC:  Removing unused variable: ss\n"
       ]
      },
      {
       "output_type": "stream",
       "stream": "stderr",
       "text": [
        "DEBUG:FFC:  Removing unused variable: rr\n"
       ]
      },
      {
       "output_type": "stream",
       "stream": "stderr",
       "text": [
        "DEBUG:FFC:  Removing unused variable: tmp2\n"
       ]
      },
      {
       "output_type": "stream",
       "stream": "stderr",
       "text": [
        "DEBUG:FFC:  Removing unused variable: tmp1\n"
       ]
      },
      {
       "output_type": "stream",
       "stream": "stderr",
       "text": [
        "DEBUG:FFC:  Removing unused variable: tmp7\n"
       ]
      },
      {
       "output_type": "stream",
       "stream": "stderr",
       "text": [
        "DEBUG:FFC:  Removing unused variable: tmp6\n"
       ]
      },
      {
       "output_type": "stream",
       "stream": "stderr",
       "text": [
        "DEBUG:FFC:  Removing unused variable: tmp5\n"
       ]
      },
      {
       "output_type": "stream",
       "stream": "stderr",
       "text": [
        "DEBUG:FFC:  Removing unused variable: tt\n"
       ]
      },
      {
       "output_type": "stream",
       "stream": "stderr",
       "text": [
        "DEBUG:FFC:  Removing unused variable: ss\n"
       ]
      },
      {
       "output_type": "stream",
       "stream": "stderr",
       "text": [
        "DEBUG:FFC:  Removing unused variable: rr\n"
       ]
      },
      {
       "output_type": "stream",
       "stream": "stderr",
       "text": [
        "DEBUG:FFC:  Removing unused variable: tmp2\n"
       ]
      },
      {
       "output_type": "stream",
       "stream": "stderr",
       "text": [
        "DEBUG:FFC:  Removing unused variable: tmp1\n"
       ]
      },
      {
       "output_type": "stream",
       "stream": "stderr",
       "text": [
        "DEBUG:FFC:  Removing unused variable: tmp7\n"
       ]
      },
      {
       "output_type": "stream",
       "stream": "stderr",
       "text": [
        "DEBUG:FFC:  Removing unused variable: tmp6\n"
       ]
      },
      {
       "output_type": "stream",
       "stream": "stderr",
       "text": [
        "DEBUG:FFC:  Removing unused variable: tmp5\n"
       ]
      },
      {
       "output_type": "stream",
       "stream": "stderr",
       "text": [
        "DEBUG:FFC:  Removing unused variable: tt\n"
       ]
      },
      {
       "output_type": "stream",
       "stream": "stderr",
       "text": [
        "DEBUG:FFC:  Removing unused variable: ss\n"
       ]
      },
      {
       "output_type": "stream",
       "stream": "stderr",
       "text": [
        "DEBUG:FFC:  Removing unused variable: rr\n"
       ]
      },
      {
       "output_type": "stream",
       "stream": "stderr",
       "text": [
        "DEBUG:FFC:  Removing unused variable: tmp2\n"
       ]
      },
      {
       "output_type": "stream",
       "stream": "stderr",
       "text": [
        "DEBUG:FFC:  Removing unused variable: tmp1\n"
       ]
      },
      {
       "output_type": "stream",
       "stream": "stderr",
       "text": [
        "DEBUG:FFC:  Removing unused variable: tmp0\n"
       ]
      },
      {
       "output_type": "stream",
       "stream": "stderr",
       "text": [
        "DEBUG:FFC:  Removing unused variable: tmp7\n"
       ]
      },
      {
       "output_type": "stream",
       "stream": "stderr",
       "text": [
        "DEBUG:FFC:  Removing unused variable: tmp6\n"
       ]
      },
      {
       "output_type": "stream",
       "stream": "stderr",
       "text": [
        "DEBUG:FFC:  Removing unused variable: tmp5\n"
       ]
      },
      {
       "output_type": "stream",
       "stream": "stderr",
       "text": [
        "DEBUG:FFC:  Removing unused variable: tt\n"
       ]
      },
      {
       "output_type": "stream",
       "stream": "stderr",
       "text": [
        "DEBUG:FFC:  Removing unused variable: ss\n"
       ]
      },
      {
       "output_type": "stream",
       "stream": "stderr",
       "text": [
        "DEBUG:FFC:  Removing unused variable: rr\n"
       ]
      },
      {
       "output_type": "stream",
       "stream": "stderr",
       "text": [
        "DEBUG:FFC:  Removing unused variable: tmp2\n"
       ]
      },
      {
       "output_type": "stream",
       "stream": "stderr",
       "text": [
        "DEBUG:FFC:  Removing unused variable: tmp1\n"
       ]
      },
      {
       "output_type": "stream",
       "stream": "stderr",
       "text": [
        "DEBUG:FFC:  Removing unused variable: tmp0\n"
       ]
      },
      {
       "output_type": "stream",
       "stream": "stderr",
       "text": [
        "DEBUG:FFC:  Removing unused variable: tmp7\n"
       ]
      },
      {
       "output_type": "stream",
       "stream": "stderr",
       "text": [
        "DEBUG:FFC:  Removing unused variable: tmp6\n"
       ]
      },
      {
       "output_type": "stream",
       "stream": "stderr",
       "text": [
        "DEBUG:FFC:  Removing unused variable: tmp5\n"
       ]
      },
      {
       "output_type": "stream",
       "stream": "stderr",
       "text": [
        "DEBUG:FFC:  Removing unused variable: tt\n"
       ]
      },
      {
       "output_type": "stream",
       "stream": "stderr",
       "text": [
        "DEBUG:FFC:  Removing unused variable: ss\n"
       ]
      },
      {
       "output_type": "stream",
       "stream": "stderr",
       "text": [
        "DEBUG:FFC:  Removing unused variable: rr\n"
       ]
      },
      {
       "output_type": "stream",
       "stream": "stderr",
       "text": [
        "INFO:FFC:  Generating code for 3 dofmap(s)\n"
       ]
      },
      {
       "output_type": "stream",
       "stream": "stderr",
       "text": [
        "INFO:FFC:  Generating code for integrals\n"
       ]
      },
      {
       "output_type": "stream",
       "stream": "stderr",
       "text": [
        "DEBUG:FFC:  Removing unused variable: circumradius\n"
       ]
      },
      {
       "output_type": "stream",
       "stream": "stderr",
       "text": [
        "DEBUG:FFC:  Removing unused variable: v0v1\n"
       ]
      },
      {
       "output_type": "stream",
       "stream": "stderr",
       "text": [
        "DEBUG:FFC:  Removing unused variable: v0v2\n"
       ]
      },
      {
       "output_type": "stream",
       "stream": "stderr",
       "text": [
        "DEBUG:FFC:  Removing unused variable: v1v2\n"
       ]
      },
      {
       "output_type": "stream",
       "stream": "stderr",
       "text": [
        "DEBUG:FFC:  Removing unused variable: volume\n"
       ]
      },
      {
       "output_type": "stream",
       "stream": "stderr",
       "text": [
        "DEBUG:FFC:  Removing unused variable: circumradius\n"
       ]
      },
      {
       "output_type": "stream",
       "stream": "stderr",
       "text": [
        "DEBUG:FFC:  Removing unused variable: v0v1\n"
       ]
      },
      {
       "output_type": "stream",
       "stream": "stderr",
       "text": [
        "DEBUG:FFC:  Removing unused variable: v0v2\n"
       ]
      },
      {
       "output_type": "stream",
       "stream": "stderr",
       "text": [
        "DEBUG:FFC:  Removing unused variable: v1v2\n"
       ]
      },
      {
       "output_type": "stream",
       "stream": "stderr",
       "text": [
        "DEBUG:FFC:  Removing unused variable: volume\n"
       ]
      },
      {
       "output_type": "stream",
       "stream": "stderr",
       "text": [
        "DEBUG:FFC:  Removing unused variable: facet_area\n"
       ]
      },
      {
       "output_type": "stream",
       "stream": "stderr",
       "text": [
        "DEBUG:FFC:  Removing unused variable: n1\n"
       ]
      },
      {
       "output_type": "stream",
       "stream": "stderr",
       "text": [
        "DEBUG:FFC:  Removing unused variable: n0\n"
       ]
      },
      {
       "output_type": "stream",
       "stream": "stderr",
       "text": [
        "DEBUG:FFC:  Removing unused variable: direction\n"
       ]
      },
      {
       "output_type": "stream",
       "stream": "stderr",
       "text": [
        "INFO:FFC:  Generating code for forms\n"
       ]
      },
      {
       "output_type": "stream",
       "stream": "stderr",
       "text": [
        "INFO:FFC:  \n"
       ]
      },
      {
       "output_type": "stream",
       "stream": "stderr",
       "text": [
        "INFO:FFC:Compiler stage 4 finished in 0.136516 seconds.\n",
        "\n"
       ]
      },
      {
       "output_type": "stream",
       "stream": "stderr",
       "text": [
        "INFO:FFC:Compiler stage 4.1 finished in 6.19888e-06 seconds.\n",
        "\n"
       ]
      },
      {
       "output_type": "stream",
       "stream": "stderr",
       "text": [
        "INFO:FFC:Compiler stage 5: Formatting code\n"
       ]
      },
      {
       "output_type": "stream",
       "stream": "stderr",
       "text": [
        "INFO:FFC:---------------------------------\n"
       ]
      },
      {
       "output_type": "stream",
       "stream": "stderr",
       "text": [
        "INFO:FFC:  Output written to ./ffc_form_990b36e08f1a0e31d0b38235470b3bd061ebc641.h.\n"
       ]
      },
      {
       "output_type": "stream",
       "stream": "stderr",
       "text": [
        "INFO:FFC:  \n"
       ]
      },
      {
       "output_type": "stream",
       "stream": "stderr",
       "text": [
        "INFO:FFC:Compiler stage 5 finished in 0.00202203 seconds.\n",
        "\n"
       ]
      },
      {
       "output_type": "stream",
       "stream": "stderr",
       "text": [
        "INFO:FFC:\u001b[1;37;32mFFC finished in 0.356408 seconds.\u001b[0m\n"
       ]
      },
      {
       "output_type": "stream",
       "stream": "stderr",
       "text": [
        "DEBUG:FFC:Compiling and linking Python extension module, this may take some time.\n"
       ]
      },
      {
       "output_type": "stream",
       "stream": "stderr",
       "text": [
        "DEBUG:FFC:Reusing form from cache.\n"
       ]
      },
      {
       "output_type": "stream",
       "stream": "stderr",
       "text": [
        "DEBUG:FFC:Reusing form from cache.\n"
       ]
      },
      {
       "output_type": "stream",
       "stream": "stderr",
       "text": [
        "DEBUG:FFC:Reusing form from cache.\n"
       ]
      },
      {
       "output_type": "stream",
       "stream": "stderr",
       "text": [
        "DEBUG:FFC:Reusing form from cache.\n"
       ]
      },
      {
       "output_type": "stream",
       "stream": "stderr",
       "text": [
        "DEBUG:FFC:Reusing form from cache.\n"
       ]
      },
      {
       "output_type": "stream",
       "stream": "stderr",
       "text": [
        "DEBUG:FFC:Reusing form from cache.\n"
       ]
      },
      {
       "output_type": "stream",
       "stream": "stderr",
       "text": [
        "DEBUG:FFC:Reusing form from cache.\n"
       ]
      },
      {
       "output_type": "stream",
       "stream": "stderr",
       "text": [
        "DEBUG:FFC:Reusing form from cache.\n"
       ]
      },
      {
       "output_type": "stream",
       "stream": "stderr",
       "text": [
        "DEBUG:FFC:Reusing form from cache.\n"
       ]
      },
      {
       "output_type": "stream",
       "stream": "stderr",
       "text": [
        "DEBUG:FFC:Reusing form from cache.\n"
       ]
      },
      {
       "output_type": "stream",
       "stream": "stderr",
       "text": [
        "DEBUG:FFC:Reusing form from cache.\n"
       ]
      },
      {
       "output_type": "stream",
       "stream": "stderr",
       "text": [
        "DEBUG:FFC:Reusing form from cache.\n"
       ]
      },
      {
       "output_type": "stream",
       "stream": "stderr",
       "text": [
        "DEBUG:FFC:Reusing form from cache.\n"
       ]
      },
      {
       "output_type": "stream",
       "stream": "stderr",
       "text": [
        "DEBUG:FFC:Reusing form from cache.\n"
       ]
      },
      {
       "output_type": "stream",
       "stream": "stderr",
       "text": [
        "DEBUG:FFC:Reusing form from cache.\n"
       ]
      },
      {
       "output_type": "stream",
       "stream": "stderr",
       "text": [
        "DEBUG:FFC:Reusing form from cache.\n"
       ]
      },
      {
       "output_type": "stream",
       "stream": "stderr",
       "text": [
        "DEBUG:FFC:Reusing form from cache.\n"
       ]
      },
      {
       "output_type": "stream",
       "stream": "stderr",
       "text": [
        "DEBUG:FFC:Reusing form from cache.\n"
       ]
      },
      {
       "output_type": "stream",
       "stream": "stderr",
       "text": [
        "DEBUG:FFC:Reusing form from cache.\n"
       ]
      },
      {
       "output_type": "stream",
       "stream": "stderr",
       "text": [
        "DEBUG:FFC:Reusing form from cache.\n"
       ]
      },
      {
       "output_type": "stream",
       "stream": "stderr",
       "text": [
        "DEBUG:FFC:Reusing form from cache.\n"
       ]
      },
      {
       "output_type": "stream",
       "stream": "stderr",
       "text": [
        "DEBUG:FFC:Reusing form from cache.\n"
       ]
      },
      {
       "output_type": "stream",
       "stream": "stderr",
       "text": [
        "DEBUG:FFC:Reusing form from cache.\n"
       ]
      },
      {
       "output_type": "stream",
       "stream": "stderr",
       "text": [
        "DEBUG:FFC:Reusing form from cache.\n"
       ]
      },
      {
       "output_type": "stream",
       "stream": "stderr",
       "text": [
        "DEBUG:FFC:Reusing form from cache.\n"
       ]
      },
      {
       "output_type": "stream",
       "stream": "stderr",
       "text": [
        "DEBUG:FFC:Reusing form from cache.\n"
       ]
      },
      {
       "output_type": "stream",
       "stream": "stderr",
       "text": [
        "DEBUG:FFC:Reusing form from cache.\n"
       ]
      },
      {
       "output_type": "stream",
       "stream": "stderr",
       "text": [
        "DEBUG:FFC:Reusing form from cache.\n"
       ]
      },
      {
       "output_type": "stream",
       "stream": "stderr",
       "text": [
        "DEBUG:FFC:Reusing form from cache.\n"
       ]
      },
      {
       "output_type": "stream",
       "stream": "stderr",
       "text": [
        "DEBUG:FFC:Reusing form from cache.\n"
       ]
      },
      {
       "output_type": "stream",
       "stream": "stderr",
       "text": [
        "DEBUG:FFC:Reusing form from cache.\n"
       ]
      },
      {
       "output_type": "stream",
       "stream": "stderr",
       "text": [
        "DEBUG:FFC:Reusing form from cache.\n"
       ]
      },
      {
       "output_type": "stream",
       "stream": "stderr",
       "text": [
        "DEBUG:FFC:Reusing form from cache.\n"
       ]
      },
      {
       "output_type": "stream",
       "stream": "stderr",
       "text": [
        "DEBUG:FFC:Reusing form from cache.\n"
       ]
      },
      {
       "output_type": "stream",
       "stream": "stdout",
       "text": [
        "###############  0.0\n",
        "cCa_n  9.91117401377 conc  9.91117401377\n",
        "cCaSSL_n  100.079907184 conc  1.00079907184\n",
        "cCaCleft_n  0.108918802691 conc  0.108918802691\n",
        "CONSERVATION: 110.1\n",
        "###############  1.0\n",
        "cCa_n  9.82324885637 conc  9.82324885637\n",
        "cCaSSL_n  100.158994013 conc  1.00158994013\n",
        "cCaCleft_n  0.117757130785 conc  0.117757130785\n",
        "CONSERVATION: 110.1\n",
        "############### "
       ]
      },
      {
       "output_type": "stream",
       "stream": "stderr",
       "text": [
        "DEBUG:FFC:Reusing form from cache.\n"
       ]
      },
      {
       "output_type": "stream",
       "stream": "stderr",
       "text": [
        "DEBUG:FFC:Reusing form from cache.\n"
       ]
      },
      {
       "output_type": "stream",
       "stream": "stderr",
       "text": [
        "DEBUG:FFC:Reusing form from cache.\n"
       ]
      },
      {
       "output_type": "stream",
       "stream": "stderr",
       "text": [
        "DEBUG:FFC:Reusing form from cache.\n"
       ]
      },
      {
       "output_type": "stream",
       "stream": "stderr",
       "text": [
        "DEBUG:FFC:Reusing form from cache.\n"
       ]
      },
      {
       "output_type": "stream",
       "stream": "stderr",
       "text": [
        "DEBUG:FFC:Reusing form from cache.\n"
       ]
      },
      {
       "output_type": "stream",
       "stream": "stderr",
       "text": [
        "DEBUG:FFC:Reusing form from cache.\n"
       ]
      },
      {
       "output_type": "stream",
       "stream": "stderr",
       "text": [
        "DEBUG:FFC:Reusing form from cache.\n"
       ]
      },
      {
       "output_type": "stream",
       "stream": "stderr",
       "text": [
        "DEBUG:FFC:Reusing form from cache.\n"
       ]
      },
      {
       "output_type": "stream",
       "stream": "stderr",
       "text": [
        "DEBUG:FFC:Reusing form from cache.\n"
       ]
      },
      {
       "output_type": "stream",
       "stream": "stderr",
       "text": [
        "DEBUG:FFC:Reusing form from cache.\n"
       ]
      },
      {
       "output_type": "stream",
       "stream": "stderr",
       "text": [
        "DEBUG:FFC:Reusing form from cache.\n"
       ]
      },
      {
       "output_type": "stream",
       "stream": "stderr",
       "text": [
        "DEBUG:FFC:Reusing form from cache.\n"
       ]
      },
      {
       "output_type": "stream",
       "stream": "stderr",
       "text": [
        "DEBUG:FFC:Reusing form from cache.\n"
       ]
      },
      {
       "output_type": "stream",
       "stream": "stderr",
       "text": [
        "DEBUG:FFC:Reusing form from cache.\n"
       ]
      },
      {
       "output_type": "stream",
       "stream": "stderr",
       "text": [
        "DEBUG:FFC:Reusing form from cache.\n"
       ]
      },
      {
       "output_type": "stream",
       "stream": "stderr",
       "text": [
        "DEBUG:FFC:Reusing form from cache.\n"
       ]
      },
      {
       "output_type": "stream",
       "stream": "stderr",
       "text": [
        "DEBUG:FFC:Reusing form from cache.\n"
       ]
      },
      {
       "output_type": "stream",
       "stream": "stderr",
       "text": [
        "DEBUG:FFC:Reusing form from cache.\n"
       ]
      },
      {
       "output_type": "stream",
       "stream": "stderr",
       "text": [
        "DEBUG:FFC:Reusing form from cache.\n"
       ]
      },
      {
       "output_type": "stream",
       "stream": "stderr",
       "text": [
        "DEBUG:FFC:Reusing form from cache.\n"
       ]
      },
      {
       "output_type": "stream",
       "stream": "stderr",
       "text": [
        "DEBUG:FFC:Reusing form from cache.\n"
       ]
      },
      {
       "output_type": "stream",
       "stream": "stderr",
       "text": [
        "DEBUG:FFC:Reusing form from cache.\n"
       ]
      },
      {
       "output_type": "stream",
       "stream": "stderr",
       "text": [
        "DEBUG:FFC:Reusing form from cache.\n"
       ]
      },
      {
       "output_type": "stream",
       "stream": "stderr",
       "text": [
        "DEBUG:FFC:Reusing form from cache.\n"
       ]
      },
      {
       "output_type": "stream",
       "stream": "stderr",
       "text": [
        "DEBUG:FFC:Reusing form from cache.\n"
       ]
      },
      {
       "output_type": "stream",
       "stream": "stderr",
       "text": [
        "DEBUG:FFC:Reusing form from cache.\n"
       ]
      },
      {
       "output_type": "stream",
       "stream": "stderr",
       "text": [
        "DEBUG:FFC:Reusing form from cache.\n"
       ]
      },
      {
       "output_type": "stream",
       "stream": "stdout",
       "text": [
        " 2.0\n",
        "cCa_n  9.73620051196 conc  9.73620051196\n",
        "cCaSSL_n  100.237283786 conc  1.00237283786\n",
        "cCaCleft_n  0.126515702142 conc  0.126515702142\n",
        "CONSERVATION: 110.1\n",
        "###############  3.0\n",
        "cCa_n  9.65001897285 conc  9.65001897285\n",
        "cCaSSL_n  100.314785799 conc  1.00314785799\n",
        "cCaCleft_n  0.135195228438 conc  0.135195228438\n",
        "CONSERVATION: 110.1\n",
        "############### "
       ]
      },
      {
       "output_type": "stream",
       "stream": "stderr",
       "text": [
        "DEBUG:FFC:Reusing form from cache.\n"
       ]
      },
      {
       "output_type": "stream",
       "stream": "stderr",
       "text": [
        "DEBUG:FFC:Reusing form from cache.\n"
       ]
      },
      {
       "output_type": "stream",
       "stream": "stderr",
       "text": [
        "DEBUG:FFC:Reusing form from cache.\n"
       ]
      },
      {
       "output_type": "stream",
       "stream": "stderr",
       "text": [
        "DEBUG:FFC:Reusing form from cache.\n"
       ]
      },
      {
       "output_type": "stream",
       "stream": "stderr",
       "text": [
        "DEBUG:FFC:Reusing form from cache.\n"
       ]
      },
      {
       "output_type": "stream",
       "stream": "stderr",
       "text": [
        "DEBUG:FFC:Reusing form from cache.\n"
       ]
      },
      {
       "output_type": "stream",
       "stream": "stderr",
       "text": [
        "DEBUG:FFC:Reusing form from cache.\n"
       ]
      },
      {
       "output_type": "stream",
       "stream": "stderr",
       "text": [
        "DEBUG:FFC:Reusing form from cache.\n"
       ]
      },
      {
       "output_type": "stream",
       "stream": "stderr",
       "text": [
        "DEBUG:FFC:Reusing form from cache.\n"
       ]
      },
      {
       "output_type": "stream",
       "stream": "stderr",
       "text": [
        "DEBUG:FFC:Reusing form from cache.\n"
       ]
      },
      {
       "output_type": "stream",
       "stream": "stderr",
       "text": [
        "DEBUG:FFC:Reusing form from cache.\n"
       ]
      },
      {
       "output_type": "stream",
       "stream": "stderr",
       "text": [
        "DEBUG:FFC:Reusing form from cache.\n"
       ]
      },
      {
       "output_type": "stream",
       "stream": "stderr",
       "text": [
        "DEBUG:FFC:Reusing form from cache.\n"
       ]
      },
      {
       "output_type": "stream",
       "stream": "stderr",
       "text": [
        "DEBUG:FFC:Reusing form from cache.\n"
       ]
      },
      {
       "output_type": "stream",
       "stream": "stderr",
       "text": [
        "DEBUG:FFC:Reusing form from cache.\n"
       ]
      },
      {
       "output_type": "stream",
       "stream": "stderr",
       "text": [
        "DEBUG:FFC:Reusing form from cache.\n"
       ]
      },
      {
       "output_type": "stream",
       "stream": "stderr",
       "text": [
        "DEBUG:FFC:Reusing form from cache.\n"
       ]
      },
      {
       "output_type": "stream",
       "stream": "stderr",
       "text": [
        "DEBUG:FFC:Reusing form from cache.\n"
       ]
      },
      {
       "output_type": "stream",
       "stream": "stderr",
       "text": [
        "DEBUG:FFC:Reusing form from cache.\n"
       ]
      },
      {
       "output_type": "stream",
       "stream": "stderr",
       "text": [
        "DEBUG:FFC:Reusing form from cache.\n"
       ]
      },
      {
       "output_type": "stream",
       "stream": "stderr",
       "text": [
        "DEBUG:FFC:Reusing form from cache.\n"
       ]
      },
      {
       "output_type": "stream",
       "stream": "stderr",
       "text": [
        "DEBUG:FFC:Reusing form from cache.\n"
       ]
      },
      {
       "output_type": "stream",
       "stream": "stderr",
       "text": [
        "DEBUG:FFC:Reusing form from cache.\n"
       ]
      },
      {
       "output_type": "stream",
       "stream": "stderr",
       "text": [
        "DEBUG:FFC:Reusing form from cache.\n"
       ]
      },
      {
       "output_type": "stream",
       "stream": "stderr",
       "text": [
        "DEBUG:FFC:Reusing form from cache.\n"
       ]
      },
      {
       "output_type": "stream",
       "stream": "stderr",
       "text": [
        "DEBUG:FFC:Reusing form from cache.\n"
       ]
      },
      {
       "output_type": "stream",
       "stream": "stderr",
       "text": [
        "DEBUG:FFC:Reusing form from cache.\n"
       ]
      },
      {
       "output_type": "stream",
       "stream": "stderr",
       "text": [
        "DEBUG:FFC:Reusing form from cache.\n"
       ]
      },
      {
       "output_type": "stream",
       "stream": "stdout",
       "text": [
        " 4.0\n",
        "cCa_n  9.56469549313 conc  9.56469549313\n",
        "cCaSSL_n  100.391508092 conc  1.00391508092\n",
        "cCaCleft_n  0.143796415096 conc  0.143796415096\n",
        "CONSERVATION: 110.1\n",
        "###############  5.0\n",
        "cCa_n  9.48022151845 conc  9.48022151845\n",
        "cCaSSL_n  100.46745852 conc  1.0046745852\n",
        "cCaCleft_n  0.152319961334 conc  0.152319961334\n",
        "CONSERVATION: 110.1\n",
        "############### "
       ]
      },
      {
       "output_type": "stream",
       "stream": "stderr",
       "text": [
        "DEBUG:FFC:Reusing form from cache.\n"
       ]
      },
      {
       "output_type": "stream",
       "stream": "stderr",
       "text": [
        "DEBUG:FFC:Reusing form from cache.\n"
       ]
      },
      {
       "output_type": "stream",
       "stream": "stderr",
       "text": [
        "DEBUG:FFC:Reusing form from cache.\n"
       ]
      },
      {
       "output_type": "stream",
       "stream": "stderr",
       "text": [
        "DEBUG:FFC:Reusing form from cache.\n"
       ]
      },
      {
       "output_type": "stream",
       "stream": "stderr",
       "text": [
        "DEBUG:FFC:Reusing form from cache.\n"
       ]
      },
      {
       "output_type": "stream",
       "stream": "stderr",
       "text": [
        "DEBUG:FFC:Reusing form from cache.\n"
       ]
      },
      {
       "output_type": "stream",
       "stream": "stderr",
       "text": [
        "DEBUG:FFC:Reusing form from cache.\n"
       ]
      },
      {
       "output_type": "stream",
       "stream": "stderr",
       "text": [
        "DEBUG:FFC:Reusing form from cache.\n"
       ]
      },
      {
       "output_type": "stream",
       "stream": "stderr",
       "text": [
        "DEBUG:FFC:Reusing form from cache.\n"
       ]
      },
      {
       "output_type": "stream",
       "stream": "stderr",
       "text": [
        "DEBUG:FFC:Reusing form from cache.\n"
       ]
      },
      {
       "output_type": "stream",
       "stream": "stderr",
       "text": [
        "DEBUG:FFC:Reusing form from cache.\n"
       ]
      },
      {
       "output_type": "stream",
       "stream": "stderr",
       "text": [
        "DEBUG:FFC:Reusing form from cache.\n"
       ]
      },
      {
       "output_type": "stream",
       "stream": "stderr",
       "text": [
        "DEBUG:FFC:Reusing form from cache.\n"
       ]
      },
      {
       "output_type": "stream",
       "stream": "stderr",
       "text": [
        "DEBUG:FFC:Reusing form from cache.\n"
       ]
      },
      {
       "output_type": "stream",
       "stream": "stderr",
       "text": [
        "DEBUG:FFC:Reusing form from cache.\n"
       ]
      },
      {
       "output_type": "stream",
       "stream": "stderr",
       "text": [
        "DEBUG:FFC:Reusing form from cache.\n"
       ]
      },
      {
       "output_type": "stream",
       "stream": "stderr",
       "text": [
        "DEBUG:FFC:Reusing form from cache.\n"
       ]
      },
      {
       "output_type": "stream",
       "stream": "stderr",
       "text": [
        "DEBUG:FFC:Reusing form from cache.\n"
       ]
      },
      {
       "output_type": "stream",
       "stream": "stderr",
       "text": [
        "DEBUG:FFC:Reusing form from cache.\n"
       ]
      },
      {
       "output_type": "stream",
       "stream": "stderr",
       "text": [
        "DEBUG:FFC:Reusing form from cache.\n"
       ]
      },
      {
       "output_type": "stream",
       "stream": "stderr",
       "text": [
        "DEBUG:FFC:Reusing form from cache.\n"
       ]
      },
      {
       "output_type": "stream",
       "stream": "stderr",
       "text": [
        "DEBUG:FFC:Reusing form from cache.\n"
       ]
      },
      {
       "output_type": "stream",
       "stream": "stderr",
       "text": [
        "DEBUG:FFC:Reusing form from cache.\n"
       ]
      },
      {
       "output_type": "stream",
       "stream": "stderr",
       "text": [
        "DEBUG:FFC:Reusing form from cache.\n"
       ]
      },
      {
       "output_type": "stream",
       "stream": "stderr",
       "text": [
        "DEBUG:FFC:Reusing form from cache.\n"
       ]
      },
      {
       "output_type": "stream",
       "stream": "stderr",
       "text": [
        "DEBUG:FFC:Reusing form from cache.\n"
       ]
      },
      {
       "output_type": "stream",
       "stream": "stderr",
       "text": [
        "DEBUG:FFC:Reusing form from cache.\n"
       ]
      },
      {
       "output_type": "stream",
       "stream": "stderr",
       "text": [
        "DEBUG:FFC:Reusing form from cache.\n"
       ]
      },
      {
       "output_type": "stream",
       "stream": "stdout",
       "text": [
        " 6.0\n",
        "cCa_n  9.39658858914 conc  9.39658858914\n",
        "cCaSSL_n  100.542644851 conc  1.00542644851\n",
        "cCaCleft_n  0.160766560217 conc  0.160766560217\n",
        "CONSERVATION: 110.1\n",
        "###############  7.0\n",
        "cCa_n  9.3137883307 conc  9.3137883307\n",
        "cCaSSL_n  100.617074771 conc  1.00617074771\n",
        "cCaCleft_n  0.169136898707 conc  0.169136898707\n",
        "CONSERVATION: 110.1\n",
        "############### "
       ]
      },
      {
       "output_type": "stream",
       "stream": "stderr",
       "text": [
        "DEBUG:FFC:Reusing form from cache.\n"
       ]
      },
      {
       "output_type": "stream",
       "stream": "stderr",
       "text": [
        "DEBUG:FFC:Reusing form from cache.\n"
       ]
      },
      {
       "output_type": "stream",
       "stream": "stderr",
       "text": [
        "DEBUG:FFC:Reusing form from cache.\n"
       ]
      },
      {
       "output_type": "stream",
       "stream": "stderr",
       "text": [
        "DEBUG:FFC:Reusing form from cache.\n"
       ]
      },
      {
       "output_type": "stream",
       "stream": "stderr",
       "text": [
        "DEBUG:FFC:Reusing form from cache.\n"
       ]
      },
      {
       "output_type": "stream",
       "stream": "stderr",
       "text": [
        "DEBUG:FFC:Reusing form from cache.\n"
       ]
      },
      {
       "output_type": "stream",
       "stream": "stderr",
       "text": [
        "DEBUG:FFC:Reusing form from cache.\n"
       ]
      },
      {
       "output_type": "stream",
       "stream": "stderr",
       "text": [
        "DEBUG:FFC:Reusing form from cache.\n"
       ]
      },
      {
       "output_type": "stream",
       "stream": "stderr",
       "text": [
        "DEBUG:FFC:Reusing form from cache.\n"
       ]
      },
      {
       "output_type": "stream",
       "stream": "stderr",
       "text": [
        "DEBUG:FFC:Reusing form from cache.\n"
       ]
      },
      {
       "output_type": "stream",
       "stream": "stderr",
       "text": [
        "DEBUG:FFC:Reusing form from cache.\n"
       ]
      },
      {
       "output_type": "stream",
       "stream": "stderr",
       "text": [
        "DEBUG:FFC:Reusing form from cache.\n"
       ]
      },
      {
       "output_type": "stream",
       "stream": "stderr",
       "text": [
        "DEBUG:FFC:Reusing form from cache.\n"
       ]
      },
      {
       "output_type": "stream",
       "stream": "stderr",
       "text": [
        "DEBUG:FFC:Reusing form from cache.\n"
       ]
      },
      {
       "output_type": "stream",
       "stream": "stderr",
       "text": [
        "DEBUG:FFC:Reusing form from cache.\n"
       ]
      },
      {
       "output_type": "stream",
       "stream": "stderr",
       "text": [
        "DEBUG:FFC:Reusing form from cache.\n"
       ]
      },
      {
       "output_type": "stream",
       "stream": "stderr",
       "text": [
        "DEBUG:FFC:Reusing form from cache.\n"
       ]
      },
      {
       "output_type": "stream",
       "stream": "stderr",
       "text": [
        "DEBUG:FFC:Reusing form from cache.\n"
       ]
      },
      {
       "output_type": "stream",
       "stream": "stderr",
       "text": [
        "DEBUG:FFC:Reusing form from cache.\n"
       ]
      },
      {
       "output_type": "stream",
       "stream": "stderr",
       "text": [
        "DEBUG:FFC:Reusing form from cache.\n"
       ]
      },
      {
       "output_type": "stream",
       "stream": "stderr",
       "text": [
        "DEBUG:FFC:Reusing form from cache.\n"
       ]
      },
      {
       "output_type": "stream",
       "stream": "stderr",
       "text": [
        "DEBUG:FFC:Reusing form from cache.\n"
       ]
      },
      {
       "output_type": "stream",
       "stream": "stderr",
       "text": [
        "DEBUG:FFC:Reusing form from cache.\n"
       ]
      },
      {
       "output_type": "stream",
       "stream": "stdout",
       "text": [
        " 8.0\n",
        "cCa_n  9.23181245205 conc  9.23181245205\n",
        "cCaSSL_n  100.69075589 conc  1.0069075589\n",
        "cCaCleft_n  0.177431657719 conc  0.177431657719\n",
        "CONSERVATION: 110.1\n",
        "###############  9.0\n",
        "cCa_n  9.15065274471 conc  9.15065274471\n",
        "cCaSSL_n  100.763695743 conc  1.00763695743\n",
        "cCaCleft_n  0.185651512172 conc  0.185651512172\n",
        "CONSERVATION: 110.1\n",
        "[ 1.]"
       ]
      },
      {
       "output_type": "stream",
       "stream": "stderr",
       "text": [
        "DEBUG:FFC:Reusing form from cache.\n"
       ]
      },
      {
       "output_type": "stream",
       "stream": "stderr",
       "text": [
        "DEBUG:FFC:Reusing form from cache.\n"
       ]
      },
      {
       "output_type": "stream",
       "stream": "stderr",
       "text": [
        "DEBUG:FFC:Reusing form from cache.\n"
       ]
      },
      {
       "output_type": "stream",
       "stream": "stderr",
       "text": [
        "DEBUG:FFC:Reusing form from cache.\n"
       ]
      },
      {
       "output_type": "stream",
       "stream": "stderr",
       "text": [
        "DEBUG:FFC:Reusing form from cache.\n"
       ]
      },
      {
       "output_type": "stream",
       "stream": "stderr",
       "text": [
        "DEBUG:FFC:Reusing form from cache.\n"
       ]
      },
      {
       "output_type": "stream",
       "stream": "stderr",
       "text": [
        "DEBUG:FFC:Reusing form from cache.\n"
       ]
      },
      {
       "output_type": "stream",
       "stream": "stderr",
       "text": [
        "DEBUG:FFC:Reusing form from cache.\n"
       ]
      },
      {
       "output_type": "stream",
       "stream": "stderr",
       "text": [
        "DEBUG:FFC:Reusing form from cache.\n"
       ]
      },
      {
       "output_type": "stream",
       "stream": "stderr",
       "text": [
        "DEBUG:FFC:Reusing form from cache.\n"
       ]
      },
      {
       "output_type": "stream",
       "stream": "stderr",
       "text": [
        "DEBUG:FFC:Reusing form from cache.\n"
       ]
      },
      {
       "output_type": "stream",
       "stream": "stderr",
       "text": [
        "DEBUG:FFC:Reusing form from cache.\n"
       ]
      },
      {
       "output_type": "stream",
       "stream": "stderr",
       "text": [
        "DEBUG:FFC:Reusing form from cache.\n"
       ]
      },
      {
       "output_type": "stream",
       "stream": "stderr",
       "text": [
        "DEBUG:FFC:Reusing form from cache.\n"
       ]
      },
      {
       "output_type": "stream",
       "stream": "stderr",
       "text": [
        "DEBUG:FFC:Reusing form from cache.\n"
       ]
      },
      {
       "output_type": "stream",
       "stream": "stderr",
       "text": [
        "DEBUG:FFC:Reusing form from cache.\n"
       ]
      },
      {
       "output_type": "stream",
       "stream": "stderr",
       "text": [
        "DEBUG:FFC:Reusing form from cache.\n"
       ]
      },
      {
       "output_type": "stream",
       "stream": "stderr",
       "text": [
        "DEBUG:FFC:Reusing form from cache.\n"
       ]
      },
      {
       "output_type": "stream",
       "stream": "stderr",
       "text": [
        "DEBUG:FFC:Reusing form from cache.\n"
       ]
      },
      {
       "output_type": "stream",
       "stream": "stderr",
       "text": [
        "DEBUG:FFC:Reusing form from cache.\n"
       ]
      },
      {
       "output_type": "stream",
       "stream": "stderr",
       "text": [
        "DEBUG:FFC:Reusing form from cache.\n"
       ]
      },
      {
       "output_type": "stream",
       "stream": "stderr",
       "text": [
        "DEBUG:FFC:Reusing form from cache.\n"
       ]
      },
      {
       "output_type": "stream",
       "stream": "stderr",
       "text": [
        "DEBUG:FFC:Reusing form from cache.\n"
       ]
      },
      {
       "output_type": "stream",
       "stream": "stderr",
       "text": [
        "DEBUG:FFC:Reusing form from cache.\n"
       ]
      },
      {
       "output_type": "stream",
       "stream": "stderr",
       "text": [
        "DEBUG:FFC:Reusing form from cache.\n"
       ]
      },
      {
       "output_type": "stream",
       "stream": "stderr",
       "text": [
        "DEBUG:FFC:Reusing form from cache.\n"
       ]
      },
      {
       "output_type": "stream",
       "stream": "stderr",
       "text": [
        "DEBUG:FFC:Reusing form from cache.\n"
       ]
      },
      {
       "output_type": "stream",
       "stream": "stderr",
       "text": [
        "DEBUG:FFC:Reusing form from cache.\n"
       ]
      },
      {
       "output_type": "stream",
       "stream": "stderr",
       "text": [
        "DEBUG:FFC:Reusing form from cache.\n"
       ]
      },
      {
       "output_type": "stream",
       "stream": "stderr",
       "text": [
        "DEBUG:FFC:Reusing form from cache.\n"
       ]
      },
      {
       "output_type": "stream",
       "stream": "stderr",
       "text": [
        "DEBUG:FFC:Reusing form from cache.\n"
       ]
      },
      {
       "output_type": "stream",
       "stream": "stderr",
       "text": [
        "DEBUG:FFC:Reusing form from cache.\n"
       ]
      },
      {
       "output_type": "stream",
       "stream": "stderr",
       "text": [
        "DEBUG:FFC:Reusing form from cache.\n"
       ]
      },
      {
       "output_type": "stream",
       "stream": "stderr",
       "text": [
        "DEBUG:FFC:Reusing form from cache.\n"
       ]
      },
      {
       "output_type": "stream",
       "stream": "stderr",
       "text": [
        "DEBUG:FFC:Reusing form from cache.\n"
       ]
      },
      {
       "output_type": "stream",
       "stream": "stderr",
       "text": [
        "DEBUG:FFC:Reusing form from cache.\n"
       ]
      },
      {
       "output_type": "stream",
       "stream": "stderr",
       "text": [
        "DEBUG:FFC:Reusing form from cache.\n"
       ]
      },
      {
       "output_type": "stream",
       "stream": "stdout",
       "text": [
        " [ 100.] [ 1.]\n",
        "Assemble 0/9.911174\n",
        "Assemble 1/9.823249\n",
        "Assemble 2/9.736201\n",
        "Assemble 3/9.650019\n",
        "Assemble 4/9.564695\n",
        "Assemble 5/9.480222\n",
        "Assemble 6/9.396589\n",
        "Assemble 7/9.313788\n",
        "Assemble 8/9.231812\n",
        "Assemble 9/9.150653"
       ]
      },
      {
       "output_type": "stream",
       "stream": "stderr",
       "text": [
        "DEBUG:FFC:Reusing form from cache.\n"
       ]
      },
      {
       "output_type": "stream",
       "stream": "stderr",
       "text": [
        "DEBUG:FFC:Reusing form from cache.\n"
       ]
      },
      {
       "output_type": "stream",
       "stream": "stderr",
       "text": [
        "DEBUG:FFC:Reusing form from cache.\n"
       ]
      },
      {
       "output_type": "stream",
       "stream": "stderr",
       "text": [
        "DEBUG:FFC:Reusing form from cache.\n"
       ]
      },
      {
       "output_type": "stream",
       "stream": "stderr",
       "text": [
        "DEBUG:FFC:Reusing form from cache.\n"
       ]
      },
      {
       "output_type": "stream",
       "stream": "stderr",
       "text": [
        "DEBUG:FFC:Reusing form from cache.\n"
       ]
      },
      {
       "output_type": "stream",
       "stream": "stderr",
       "text": [
        "DEBUG:FFC:Reusing form from cache.\n"
       ]
      },
      {
       "output_type": "stream",
       "stream": "stderr",
       "text": [
        "DEBUG:FFC:Reusing form from cache.\n"
       ]
      },
      {
       "output_type": "stream",
       "stream": "stderr",
       "text": [
        "DEBUG:FFC:Reusing form from cache.\n"
       ]
      },
      {
       "output_type": "stream",
       "stream": "stderr",
       "text": [
        "DEBUG:FFC:Reusing form from cache.\n"
       ]
      },
      {
       "output_type": "stream",
       "stream": "stderr",
       "text": [
        "DEBUG:FFC:Reusing form from cache.\n"
       ]
      },
      {
       "output_type": "stream",
       "stream": "stderr",
       "text": [
        "DEBUG:FFC:Reusing form from cache.\n"
       ]
      },
      {
       "output_type": "stream",
       "stream": "stderr",
       "text": [
        "DEBUG:FFC:Reusing form from cache.\n"
       ]
      },
      {
       "output_type": "stream",
       "stream": "stderr",
       "text": [
        "DEBUG:FFC:Reusing form from cache.\n"
       ]
      },
      {
       "output_type": "stream",
       "stream": "stderr",
       "text": [
        "DEBUG:FFC:Reusing form from cache.\n"
       ]
      },
      {
       "output_type": "stream",
       "stream": "stderr",
       "text": [
        "DEBUG:FFC:Reusing form from cache.\n"
       ]
      },
      {
       "output_type": "stream",
       "stream": "stderr",
       "text": [
        "DEBUG:FFC:Reusing form from cache.\n"
       ]
      },
      {
       "output_type": "stream",
       "stream": "stdout",
       "text": [
        "\n",
        "WARNING: will need to updated these\n",
        "PUT INTO BASE CLASS\n",
        "###############  0\n",
        "cCa_n  10.0 conc  10.0\n",
        "cCaSSL_n  100.0 conc  1.0\n",
        "cCaCleft_n  0.1 conc  0.1\n",
        "CONSERVATION: 110.1\n",
        "Calling FFC just-in-time (JIT) compiler, this may take some time.\n"
       ]
      },
      {
       "output_type": "stream",
       "stream": "stderr",
       "text": [
        "Level 25:FFC:Calling FFC just-in-time (JIT) compiler, this may take some time.\n"
       ]
      },
      {
       "output_type": "stream",
       "stream": "stderr",
       "text": [
        "INFO:FFC:Compiling form ffc_form_5df151c539d4aa8dc1b9b0093daa4286c9a9226e\n",
        "\n"
       ]
      },
      {
       "output_type": "stream",
       "stream": "stderr",
       "text": [
        "INFO:FFC:Compiler stage 1: Analyzing form(s)\n"
       ]
      },
      {
       "output_type": "stream",
       "stream": "stderr",
       "text": [
        "INFO:FFC:-----------------------------------\n"
       ]
      },
      {
       "output_type": "stream",
       "stream": "stderr",
       "text": [
        "INFO:UFL:Adjusting missing element domain to <Domain built from <triangle cell in 2D> with label dolfin_mesh_with_id_3538>.\n"
       ]
      },
      {
       "output_type": "stream",
       "stream": "stderr",
       "text": [
        "INFO:UFL:Adjusting missing element domain to <Domain built from <triangle cell in 2D> with label dolfin_mesh_with_id_3538>.\n"
       ]
      },
      {
       "output_type": "stream",
       "stream": "stderr",
       "text": [
        "INFO:FFC:  \n"
       ]
      },
      {
       "output_type": "stream",
       "stream": "stderr",
       "text": [
        "INFO:FFC:  Geometric dimension:                 2\n",
        "  Number of cell subdomains:           0\n",
        "  Number of exterior_facet subdomains: 11\n",
        "  Rank:                                1\n",
        "  Arguments:                           '(v_0)'\n",
        "  Number of coefficients:              4\n",
        "  Coefficients:                        '[f_387, f_3553, f_3555, f_3557]'\n",
        "  Unique elements:                     'Mixed<CG1(?), R0(?), R0(?)>, R0(?)'\n",
        "  Unique sub elements:                 'Mixed<CG1(?), R0(?), R0(?)>, R0(?), CG1(?)'\n",
        "  \n"
       ]
      },
      {
       "output_type": "stream",
       "stream": "stderr",
       "text": [
        "INFO:FFC:  Extracting monomial form representation from UFL form\n"
       ]
      },
      {
       "output_type": "stream",
       "stream": "stderr",
       "text": [
        "DEBUG:FFC:  Monomial extraction failed: No handler defined for expression Division.\n"
       ]
      },
      {
       "output_type": "stream",
       "stream": "stderr",
       "text": [
        "DEBUG:FFC:  Estimated cost of tensor representation: -1\n"
       ]
      },
      {
       "output_type": "stream",
       "stream": "stderr",
       "text": [
        "INFO:FFC:  representation:    auto --> quadrature\n"
       ]
      },
      {
       "output_type": "stream",
       "stream": "stderr",
       "text": [
        "DEBUG:FFC:  Selecting quadrature degree based on total polynomial degree of integrand: 2\n"
       ]
      },
      {
       "output_type": "stream",
       "stream": "stderr",
       "text": [
        "INFO:FFC:  quadrature_degree: auto --> 2\n"
       ]
      },
      {
       "output_type": "stream",
       "stream": "stderr",
       "text": [
        "INFO:FFC:  quadrature_rule:   auto --> default\n"
       ]
      },
      {
       "output_type": "stream",
       "stream": "stderr",
       "text": [
        "INFO:FFC:  Extracting monomial form representation from UFL form\n"
       ]
      },
      {
       "output_type": "stream",
       "stream": "stderr",
       "text": [
        "DEBUG:FFC:  Monomial extraction failed: No handler defined for expression Division.\n"
       ]
      },
      {
       "output_type": "stream",
       "stream": "stderr",
       "text": [
        "DEBUG:FFC:  Estimated cost of tensor representation: -1\n"
       ]
      },
      {
       "output_type": "stream",
       "stream": "stderr",
       "text": [
        "INFO:FFC:  representation:    auto --> quadrature\n"
       ]
      },
      {
       "output_type": "stream",
       "stream": "stderr",
       "text": [
        "DEBUG:FFC:  Selecting quadrature degree based on total polynomial degree of integrand: 2\n"
       ]
      },
      {
       "output_type": "stream",
       "stream": "stderr",
       "text": [
        "INFO:FFC:  quadrature_degree: auto --> 2\n"
       ]
      },
      {
       "output_type": "stream",
       "stream": "stderr",
       "text": [
        "INFO:FFC:  quadrature_rule:   auto --> default\n"
       ]
      },
      {
       "output_type": "stream",
       "stream": "stderr",
       "text": [
        "INFO:FFC:  \n"
       ]
      },
      {
       "output_type": "stream",
       "stream": "stderr",
       "text": [
        "INFO:FFC:Compiler stage 1 finished in 0.0358069 seconds.\n",
        "\n"
       ]
      },
      {
       "output_type": "stream",
       "stream": "stderr",
       "text": [
        "INFO:FFC:Compiler stage 2: Computing intermediate representation\n"
       ]
      },
      {
       "output_type": "stream",
       "stream": "stderr",
       "text": [
        "INFO:FFC:-------------------------------------------------------\n"
       ]
      },
      {
       "output_type": "stream",
       "stream": "stderr",
       "text": [
        "INFO:FFC:  Computing representation of 3 elements\n"
       ]
      },
      {
       "output_type": "stream",
       "stream": "stderr",
       "text": [
        "DEBUG:FFC:  Reusing element from cache\n"
       ]
      },
      {
       "output_type": "stream",
       "stream": "stderr",
       "text": [
        "DEBUG:FFC:  Reusing element from cache\n"
       ]
      },
      {
       "output_type": "stream",
       "stream": "stderr",
       "text": [
        "DEBUG:FFC:  Reusing element from cache\n"
       ]
      },
      {
       "output_type": "stream",
       "stream": "stderr",
       "text": [
        "DEBUG:FFC:  Reusing element from cache\n"
       ]
      },
      {
       "output_type": "stream",
       "stream": "stderr",
       "text": [
        "DEBUG:FFC:  Reusing element from cache\n"
       ]
      },
      {
       "output_type": "stream",
       "stream": "stderr",
       "text": [
        "DEBUG:FFC:  Reusing element from cache\n"
       ]
      },
      {
       "output_type": "stream",
       "stream": "stderr",
       "text": [
        "INFO:FFC:  Computing representation of 3 dofmaps\n"
       ]
      },
      {
       "output_type": "stream",
       "stream": "stderr",
       "text": [
        "DEBUG:FFC:  Reusing element from cache\n"
       ]
      },
      {
       "output_type": "stream",
       "stream": "stderr",
       "text": [
        "DEBUG:FFC:  Reusing element from cache\n"
       ]
      },
      {
       "output_type": "stream",
       "stream": "stderr",
       "text": [
        "DEBUG:FFC:  Reusing element from cache\n"
       ]
      },
      {
       "output_type": "stream",
       "stream": "stderr",
       "text": [
        "INFO:FFC:  Computing representation of integrals\n"
       ]
      },
      {
       "output_type": "stream",
       "stream": "stderr",
       "text": [
        "INFO:FFC:  Computing quadrature representation\n"
       ]
      },
      {
       "output_type": "stream",
       "stream": "stderr",
       "text": [
        "DEBUG:FFC:  Reusing element from cache\n"
       ]
      },
      {
       "output_type": "stream",
       "stream": "stderr",
       "text": [
        "DEBUG:FFC:  Reusing element from cache\n"
       ]
      },
      {
       "output_type": "stream",
       "stream": "stderr",
       "text": [
        "DEBUG:FFC:  Reusing element from cache\n"
       ]
      },
      {
       "output_type": "stream",
       "stream": "stderr",
       "text": [
        "DEBUG:FFC:  Reusing element from cache\n"
       ]
      },
      {
       "output_type": "stream",
       "stream": "stderr",
       "text": [
        "DEBUG:FFC:  Reusing element from cache\n"
       ]
      },
      {
       "output_type": "stream",
       "stream": "stderr",
       "text": [
        "DEBUG:FFC:  Reusing element from cache\n"
       ]
      },
      {
       "output_type": "stream",
       "stream": "stderr",
       "text": [
        "DEBUG:FFC:  Reusing element from cache\n"
       ]
      },
      {
       "output_type": "stream",
       "stream": "stderr",
       "text": [
        "DEBUG:FFC:  \n",
        "  QG-utils, psi_tables:\n",
        "  {3: {FiniteElement('Real', Domain(Cell('triangle', 2), label='dolfin_mesh_with_id_3538', data='<data with id 3538>'), 0, quad_scheme=None): {None: {None: {(0, 0): array([[ 1.,  1.,  1.]])}}}, MixedElement(*[FiniteElement('Lagrange', Domain(Cell('triangle', 2), label='dolfin_mesh_with_id_3538', data='<data with id 3538>'), 1, quad_scheme=None), FiniteElement('Real', Domain(Cell('triangle', 2), label='dolfin_mesh_with_id_3538', data='<data with id 3538>'), 0, quad_scheme=None), FiniteElement('Real', Domain(Cell('triangle', 2), label='dolfin_mesh_with_id_3538', data='<data with id 3538>'), 0, quad_scheme=None)], **{'value_shape': (3,) }): {None: {None: {(0, 1): array([[[ -1.00000000e+00,  -1.00000000e+00,  -1.00000000e+00],\n",
        "          [  0.00000000e+00,   0.00000000e+00,   0.00000000e+00],\n",
        "          [  0.00000000e+00,   0.00000000e+00,   0.00000000e+00]],\n",
        "  \n",
        "         [[  8.88178420e-16,   8.88178420e-16,   8.88178420e-16],\n",
        "          [  0.00000000e+00,   0.00000000e+00,   0.00000000e+00],\n",
        "          [  0.00000000e+00,   0.00000000e+00,   0.00000000e+00]],\n",
        "  \n",
        "         [[  1.00000000e+00,   1.00000000e+00,   1.00000000e+00],\n",
        "          [  0.00000000e+00,   0.00000000e+00,   0.00000000e+00],\n",
        "          [  0.00000000e+00,   0.00000000e+00,   0.00000000e+00]],\n",
        "  \n",
        "         [[  0.00000000e+00,   0.00000000e+00,   0.00000000e+00],\n",
        "          [  0.00000000e+00,   0.00000000e+00,   0.00000000e+00],\n",
        "          [  0.00000000e+00,   0.00000000e+00,   0.00000000e+00]],\n",
        "  \n",
        "         [[  0.00000000e+00,   0.00000000e+00,   0.00000000e+00],\n",
        "          [  0.00000000e+00,   0.00000000e+00,   0.00000000e+00],\n",
        "          [  0.00000000e+00,   0.00000000e+00,   0.00000000e+00]]]), (1, 0): array([[[-1., -1., -1.],\n",
        "          [ 0.,  0.,  0.],\n",
        "          [ 0.,  0.,  0.]],\n",
        "  \n",
        "         [[ 1.,  1.,  1.],\n",
        "          [ 0.,  0.,  0.],\n",
        "          [ 0.,  0.,  0.]],\n",
        "  \n",
        "         [[ 0.,  0.,  0.],\n",
        "          [ 0.,  0.,  0.],\n",
        "          [ 0.,  0.,  0.]],\n",
        "  \n",
        "         [[ 0.,  0.,  0.],\n",
        "          [ 0.,  0.,  0.],\n",
        "          [ 0.,  0.,  0.]],\n",
        "  \n",
        "         [[ 0.,  0.,  0.],\n",
        "          [ 0.,  0.,  0.],\n",
        "          [ 0.,  0.,  0.]]]), (0, 0): array([[[ 0.66666667,  0.16666667,  0.16666667],\n",
        "          [ 0.        ,  0.        ,  0.        ],\n",
        "          [ 0.        ,  0.        ,  0.        ]],\n",
        "  \n",
        "         [[ 0.16666667,  0.16666667,  0.66666667],\n",
        "          [ 0.        ,  0.        ,  0.        ],\n",
        "          [ 0.        ,  0.        ,  0.        ]],\n",
        "  \n",
        "         [[ 0.16666667,  0.66666667,  0.16666667],\n",
        "          [ 0.        ,  0.        ,  0.        ],\n",
        "          [ 0.        ,  0.        ,  0.        ]],\n",
        "  \n",
        "         [[ 0.        ,  0.        ,  0.        ],\n",
        "          [ 1.        ,  1.        ,  1.        ],\n",
        "          [ 0.        ,  0.        ,  0.        ]],\n",
        "  \n",
        "         [[ 0.        ,  0.        ,  0.        ],\n",
        "          [ 0.        ,  0.        ,  0.        ],\n",
        "          [ 1.        ,  1.        ,  1.        ]]])}}}, VectorElement('Lagrange', Domain(Cell('triangle', 2), label='dolfin_mesh_with_id_3538', data='<data with id 3538>'), 1, dim=2, quad_scheme=None): {None: {None: {(0, 1): array([[[ -1.00000000e+00,  -1.00000000e+00,  -1.00000000e+00],\n",
        "          [  0.00000000e+00,   0.00000000e+00,   0.00000000e+00]],\n",
        "  \n",
        "         [[  8.88178420e-16,   8.88178420e-16,   8.88178420e-16],\n",
        "          [  0.00000000e+00,   0.00000000e+00,   0.00000000e+00]],\n",
        "  \n",
        "         [[  1.00000000e+00,   1.00000000e+00,   1.00000000e+00],\n",
        "          [  0.00000000e+00,   0.00000000e+00,   0.00000000e+00]],\n",
        "  \n",
        "         [[  0.00000000e+00,   0.00000000e+00,   0.00000000e+00],\n",
        "          [ -1.00000000e+00,  -1.00000000e+00,  -1.00000000e+00]],\n",
        "  \n",
        "         [[  0.00000000e+00,   0.00000000e+00,   0.00000000e+00],\n",
        "          [  8.88178420e-16,   8.88178420e-16,   8.88178420e-16]],\n",
        "  \n",
        "         [[  0.00000000e+00,   0.00000000e+00,   0.00000000e+00],\n",
        "          [  1.00000000e+00,   1.00000000e+00,   1.00000000e+00]]]), (1, 0): array([[[-1., -1., -1.],\n",
        "          [ 0.,  0.,  0.]],\n",
        "  \n",
        "         [[ 1.,  1.,  1.],\n",
        "          [ 0.,  0.,  0.]],\n",
        "  \n",
        "         [[ 0.,  0.,  0.],\n",
        "          [ 0.,  0.,  0.]],\n",
        "  \n",
        "         [[ 0.,  0.,  0.],\n",
        "          [-1., -1., -1.]],\n",
        "  \n",
        "         [[ 0.,  0.,  0.],\n",
        "          [ 1.,  1.,  1.]],\n",
        "  \n",
        "         [[ 0.,  0.,  0.],\n",
        "          [ 0.,  0.,  0.]]]), (0, 0): array([[[ 0.66666667,  0.16666667,  0.16666667],\n",
        "          [ 0.        ,  0.        ,  0.        ]],\n",
        "  \n",
        "         [[ 0.16666667,  0.16666667,  0.66666667],\n",
        "          [ 0.        ,  0.        ,  0.        ]],\n",
        "  \n",
        "         [[ 0.16666667,  0.66666667,  0.16666667],\n",
        "          [ 0.        ,  0.        ,  0.        ]],\n",
        "  \n",
        "         [[ 0.        ,  0.        ,  0.        ],\n",
        "          [ 0.66666667,  0.16666667,  0.16666667]],\n",
        "  \n",
        "         [[ 0.        ,  0.        ,  0.        ],\n",
        "          [ 0.16666667,  0.16666667,  0.66666667]],\n",
        "  \n",
        "         [[ 0.        ,  0.        ,  0.        ],\n",
        "          [ 0.16666667,  0.66666667,  0.16666667]]])}}}}}\n"
       ]
      },
      {
       "output_type": "stream",
       "stream": "stderr",
       "text": [
        "DEBUG:FFC:  \n",
        "  QG-utils, psi_tables, flat_tables:\n",
        "  {'FE0_C1_D01': array([[  0.00000000e+00,   0.00000000e+00,   0.00000000e+00,\n",
        "           -1.00000000e+00,   8.88178420e-16,   1.00000000e+00],\n",
        "         [  0.00000000e+00,   0.00000000e+00,   0.00000000e+00,\n",
        "           -1.00000000e+00,   8.88178420e-16,   1.00000000e+00],\n",
        "         [  0.00000000e+00,   0.00000000e+00,   0.00000000e+00,\n",
        "           -1.00000000e+00,   8.88178420e-16,   1.00000000e+00]]), 'FE1_C0': array([[ 0.66666667,  0.16666667,  0.16666667,  0.        ,  0.        ],\n",
        "         [ 0.16666667,  0.16666667,  0.66666667,  0.        ,  0.        ],\n",
        "         [ 0.16666667,  0.66666667,  0.16666667,  0.        ,  0.        ]]), 'FE1_C1': array([[ 0.,  0.,  0.,  1.,  0.],\n",
        "         [ 0.,  0.,  0.,  1.,  0.],\n",
        "         [ 0.,  0.,  0.,  1.,  0.]]), 'FE1_C2': array([[ 0.,  0.,  0.,  0.,  1.],\n",
        "         [ 0.,  0.,  0.,  0.,  1.],\n",
        "         [ 0.,  0.,  0.,  0.,  1.]]), 'FE0_C1_D10': array([[ 0.,  0.,  0., -1.,  1.,  0.],\n",
        "         [ 0.,  0.,  0., -1.,  1.,  0.],\n",
        "         [ 0.,  0.,  0., -1.,  1.,  0.]]), 'FE1_C1_D10': array([[ 0.,  0.,  0.,  0.,  0.],\n",
        "         [ 0.,  0.,  0.,  0.,  0.],\n",
        "         [ 0.,  0.,  0.,  0.,  0.]]), 'FE1_C2_D10': array([[ 0.,  0.,  0.,  0.,  0.],\n",
        "         [ 0.,  0.,  0.,  0.,  0.],\n",
        "         [ 0.,  0.,  0.,  0.,  0.]]), 'FE0_C0_D10': array([[-1.,  1.,  0.,  0.,  0.,  0.],\n",
        "         [-1.,  1.,  0.,  0.,  0.,  0.],\n",
        "         [-1.,  1.,  0.,  0.,  0.,  0.]]), 'FE0_C0_D01': array([[ -1.00000000e+00,   8.88178420e-16,   1.00000000e+00,\n",
        "            0.00000000e+00,   0.00000000e+00,   0.00000000e+00],\n",
        "         [ -1.00000000e+00,   8.88178420e-16,   1.00000000e+00,\n",
        "            0.00000000e+00,   0.00000000e+00,   0.00000000e+00],\n",
        "         [ -1.00000000e+00,   8.88178420e-16,   1.00000000e+00,\n",
        "            0.00000000e+00,   0.00000000e+00,   0.00000000e+00]]), 'FE2': array([[ 1.],\n",
        "         [ 1.],\n",
        "         [ 1.]]), 'FE1_C2_D01': array([[ 0.,  0.,  0.,  0.,  0.],\n",
        "         [ 0.,  0.,  0.,  0.,  0.],\n",
        "         [ 0.,  0.,  0.,  0.,  0.]]), 'FE1_C1_D01': array([[ 0.,  0.,  0.,  0.,  0.],\n",
        "         [ 0.,  0.,  0.,  0.,  0.],\n",
        "         [ 0.,  0.,  0.,  0.,  0.]]), 'FE1_C0_D01': array([[ -1.00000000e+00,   8.88178420e-16,   1.00000000e+00,\n",
        "            0.00000000e+00,   0.00000000e+00],\n",
        "         [ -1.00000000e+00,   8.88178420e-16,   1.00000000e+00,\n",
        "            0.00000000e+00,   0.00000000e+00],\n",
        "         [ -1.00000000e+00,   8.88178420e-16,   1.00000000e+00,\n",
        "            0.00000000e+00,   0.00000000e+00]]), 'FE1_C0_D10': array([[-1.,  1.,  0.,  0.,  0.],\n",
        "         [-1.,  1.,  0.,  0.,  0.],\n",
        "         [-1.,  1.,  0.,  0.,  0.]]), 'FE0_C1': array([[ 0.        ,  0.        ,  0.        ,  0.66666667,  0.16666667,\n",
        "           0.16666667],\n",
        "         [ 0.        ,  0.        ,  0.        ,  0.16666667,  0.16666667,\n",
        "           0.66666667],\n",
        "         [ 0.        ,  0.        ,  0.        ,  0.16666667,  0.66666667,\n",
        "           0.16666667]]), 'FE0_C0': array([[ 0.66666667,  0.16666667,  0.16666667,  0.        ,  0.        ,\n",
        "           0.        ],\n",
        "         [ 0.16666667,  0.16666667,  0.66666667,  0.        ,  0.        ,\n",
        "           0.        ],\n",
        "         [ 0.16666667,  0.66666667,  0.16666667,  0.        ,  0.        ,\n",
        "           0.        ]])}\n"
       ]
      },
      {
       "output_type": "stream",
       "stream": "stderr",
       "text": [
        "DEBUG:FFC:  \n",
        "  tables: {'FE0_C1_D01': array([[  0.00000000e+00,   0.00000000e+00,   0.00000000e+00,\n",
        "           -1.00000000e+00,   8.88178420e-16,   1.00000000e+00],\n",
        "         [  0.00000000e+00,   0.00000000e+00,   0.00000000e+00,\n",
        "           -1.00000000e+00,   8.88178420e-16,   1.00000000e+00],\n",
        "         [  0.00000000e+00,   0.00000000e+00,   0.00000000e+00,\n",
        "           -1.00000000e+00,   8.88178420e-16,   1.00000000e+00]]), 'FE1_C0': array([[ 0.66666667,  0.16666667,  0.16666667,  0.        ,  0.        ],\n",
        "         [ 0.16666667,  0.16666667,  0.66666667,  0.        ,  0.        ],\n",
        "         [ 0.16666667,  0.66666667,  0.16666667,  0.        ,  0.        ]]), 'FE1_C1': array([[ 0.,  0.,  0.,  1.,  0.],\n",
        "         [ 0.,  0.,  0.,  1.,  0.],\n",
        "         [ 0.,  0.,  0.,  1.,  0.]]), 'FE1_C2': array([[ 0.,  0.,  0.,  0.,  1.],\n",
        "         [ 0.,  0.,  0.,  0.,  1.],\n",
        "         [ 0.,  0.,  0.,  0.,  1.]]), 'FE0_C1_D10': array([[ 0.,  0.,  0., -1.,  1.,  0.],\n",
        "         [ 0.,  0.,  0., -1.,  1.,  0.],\n",
        "         [ 0.,  0.,  0., -1.,  1.,  0.]]), 'FE0_C0_D10': array([[-1.,  1.,  0.,  0.,  0.,  0.],\n",
        "         [-1.,  1.,  0.,  0.,  0.,  0.],\n",
        "         [-1.,  1.,  0.,  0.,  0.,  0.]]), 'FE0_C0_D01': array([[ -1.00000000e+00,   8.88178420e-16,   1.00000000e+00,\n",
        "            0.00000000e+00,   0.00000000e+00,   0.00000000e+00],\n",
        "         [ -1.00000000e+00,   8.88178420e-16,   1.00000000e+00,\n",
        "            0.00000000e+00,   0.00000000e+00,   0.00000000e+00],\n",
        "         [ -1.00000000e+00,   8.88178420e-16,   1.00000000e+00,\n",
        "            0.00000000e+00,   0.00000000e+00,   0.00000000e+00]]), 'FE2': array([[ 1.],\n",
        "         [ 1.],\n",
        "         [ 1.]]), 'FE1_C1_D01': array([[ 0.,  0.,  0.,  0.,  0.],\n",
        "         [ 0.,  0.,  0.,  0.,  0.],\n",
        "         [ 0.,  0.,  0.,  0.,  0.]]), 'FE1_C0_D01': array([[ -1.00000000e+00,   8.88178420e-16,   1.00000000e+00,\n",
        "            0.00000000e+00,   0.00000000e+00],\n",
        "         [ -1.00000000e+00,   8.88178420e-16,   1.00000000e+00,\n",
        "            0.00000000e+00,   0.00000000e+00],\n",
        "         [ -1.00000000e+00,   8.88178420e-16,   1.00000000e+00,\n",
        "            0.00000000e+00,   0.00000000e+00]]), 'FE1_C0_D10': array([[-1.,  1.,  0.,  0.,  0.],\n",
        "         [-1.,  1.,  0.,  0.,  0.],\n",
        "         [-1.,  1.,  0.,  0.,  0.]]), 'FE0_C1': array([[ 0.        ,  0.        ,  0.        ,  0.66666667,  0.16666667,\n",
        "           0.16666667],\n",
        "         [ 0.        ,  0.        ,  0.        ,  0.16666667,  0.16666667,\n",
        "           0.66666667],\n",
        "         [ 0.        ,  0.        ,  0.        ,  0.16666667,  0.66666667,\n",
        "           0.16666667]]), 'FE0_C0': array([[ 0.66666667,  0.16666667,  0.16666667,  0.        ,  0.        ,\n",
        "           0.        ],\n",
        "         [ 0.16666667,  0.16666667,  0.66666667,  0.        ,  0.        ,\n",
        "           0.        ],\n",
        "         [ 0.16666667,  0.66666667,  0.16666667,  0.        ,  0.        ,\n",
        "           0.        ]])}\n"
       ]
      },
      {
       "output_type": "stream",
       "stream": "stderr",
       "text": [
        "DEBUG:FFC:  \n",
        "  name_map: {'FE1_C1_D01': ['FE1_C1_D10', 'FE1_C2_D01', 'FE1_C2_D10']}\n"
       ]
      },
      {
       "output_type": "stream",
       "stream": "stderr",
       "text": [
        "DEBUG:FFC:  \n",
        "  inv_name_map: {'FE0_C1_D01': 'FE0_C1_D01', 'FE1_C0': 'FE1_C0', 'FE1_C1': 'FE1_C1', 'FE1_C2': 'FE1_C2', 'FE0_C1_D10': 'FE0_C1_D10', 'FE1_C1_D10': 'FE1_C1_D01', 'FE1_C2_D10': 'FE1_C1_D01', 'FE0_C0_D10': 'FE0_C0_D10', 'FE0_C0_D01': 'FE0_C0_D01', 'FE2': 'FE2', 'FE1_C2_D01': 'FE1_C1_D01', 'FE1_C1_D01': 'FE1_C1_D01', 'FE1_C0_D01': 'FE1_C0_D01', 'FE1_C0_D10': 'FE1_C0_D10', 'FE0_C1': 'FE0_C1', 'FE0_C0': 'FE0_C0'}\n"
       ]
      },
      {
       "output_type": "stream",
       "stream": "stderr",
       "text": [
        "DEBUG:FFC:  \n",
        "  QG-utils, psi_tables, unique_tables:\n",
        "  {'FE0_C1_D01': array([[ 0.,  0.,  0., -1.,  0.,  1.],\n",
        "         [ 0.,  0.,  0., -1.,  0.,  1.],\n",
        "         [ 0.,  0.,  0., -1.,  0.,  1.]]), 'FE1_C0': array([[ 0.66666667,  0.16666667,  0.16666667,  0.        ,  0.        ],\n",
        "         [ 0.16666667,  0.16666667,  0.66666667,  0.        ,  0.        ],\n",
        "         [ 0.16666667,  0.66666667,  0.16666667,  0.        ,  0.        ]]), 'FE1_C1': array([[ 0.,  0.,  0.,  1.,  0.],\n",
        "         [ 0.,  0.,  0.,  1.,  0.],\n",
        "         [ 0.,  0.,  0.,  1.,  0.]]), 'FE1_C2': array([[ 0.,  0.,  0.,  0.,  1.],\n",
        "         [ 0.,  0.,  0.,  0.,  1.],\n",
        "         [ 0.,  0.,  0.,  0.,  1.]]), 'FE0_C1_D10': array([[ 0.,  0.,  0., -1.,  1.,  0.],\n",
        "         [ 0.,  0.,  0., -1.,  1.,  0.],\n",
        "         [ 0.,  0.,  0., -1.,  1.,  0.]]), 'FE0_C0_D10': array([[-1.,  1.,  0.,  0.,  0.,  0.],\n",
        "         [-1.,  1.,  0.,  0.,  0.,  0.],\n",
        "         [-1.,  1.,  0.,  0.,  0.,  0.]]), 'FE0_C0_D01': array([[-1.,  0.,  1.,  0.,  0.,  0.],\n",
        "         [-1.,  0.,  1.,  0.,  0.,  0.],\n",
        "         [-1.,  0.,  1.,  0.,  0.,  0.]]), 'FE2': array([[ 1.],\n",
        "         [ 1.],\n",
        "         [ 1.]]), 'FE1_C1_D01': array([[ 0.,  0.,  0.,  0.,  0.],\n",
        "         [ 0.,  0.,  0.,  0.,  0.],\n",
        "         [ 0.,  0.,  0.,  0.,  0.]]), 'FE1_C0_D01': array([[-1.,  0.,  1.,  0.,  0.],\n",
        "         [-1.,  0.,  1.,  0.,  0.],\n",
        "         [-1.,  0.,  1.,  0.,  0.]]), 'FE1_C0_D10': array([[-1.,  1.,  0.,  0.,  0.],\n",
        "         [-1.,  1.,  0.,  0.,  0.],\n",
        "         [-1.,  1.,  0.,  0.,  0.]]), 'FE0_C1': array([[ 0.        ,  0.        ,  0.        ,  0.66666667,  0.16666667,\n",
        "           0.16666667],\n",
        "         [ 0.        ,  0.        ,  0.        ,  0.16666667,  0.16666667,\n",
        "           0.66666667],\n",
        "         [ 0.        ,  0.        ,  0.        ,  0.16666667,  0.66666667,\n",
        "           0.16666667]]), 'FE0_C0': array([[ 0.66666667,  0.16666667,  0.16666667,  0.        ,  0.        ,\n",
        "           0.        ],\n",
        "         [ 0.16666667,  0.16666667,  0.66666667,  0.        ,  0.        ,\n",
        "           0.        ],\n",
        "         [ 0.16666667,  0.66666667,  0.16666667,  0.        ,  0.        ,\n",
        "           0.        ]])}\n"
       ]
      },
      {
       "output_type": "stream",
       "stream": "stderr",
       "text": [
        "DEBUG:FFC:  \n",
        "  QG-utils, psi_tables, name_map:\n",
        "  {'FE0_C1_D01': ('FE0_C1_D01', (), False, False), 'FE1_C0': ('FE1_C0', (), False, False), 'FE1_C1': ('FE1_C1', (), False, False), 'FE1_C2': ('FE1_C2', (), False, False), 'FE0_C1_D10': ('FE0_C1_D10', (), False, False), 'FE1_C1_D10': ('FE1_C1_D01', (), True, False), 'FE1_C2_D10': ('FE1_C1_D01', (), True, False), 'FE0_C0_D10': ('FE0_C0_D10', (), False, False), 'FE0_C0_D01': ('FE0_C0_D01', (), False, False), 'FE2': ('FE2', (), False, True), 'FE1_C2_D01': ('FE1_C1_D01', (), True, False), 'FE1_C1_D01': ('FE1_C1_D01', (), True, False), 'FE1_C0_D01': ('FE1_C0_D01', (), False, False), 'FE1_C0_D10': ('FE1_C0_D10', (), False, False), 'FE0_C1': ('FE0_C1', (), False, False), 'FE0_C0': ('FE0_C0', (), False, False)}\n"
       ]
      },
      {
       "output_type": "stream",
       "stream": "stderr",
       "text": [
        "INFO:FFC:  Transforming cell integral\n"
       ]
      },
      {
       "output_type": "stream",
       "stream": "stderr",
       "text": [
        "DEBUG:FFC:  Reusing element from cache\n"
       ]
      },
      {
       "output_type": "stream",
       "stream": "stderr",
       "text": [
        "DEBUG:FFC:  Reusing element from cache\n"
       ]
      },
      {
       "output_type": "stream",
       "stream": "stderr",
       "text": [
        "DEBUG:FFC:  Reusing element from cache\n"
       ]
      },
      {
       "output_type": "stream",
       "stream": "stderr",
       "text": [
        "DEBUG:FFC:  Reusing element from cache\n"
       ]
      },
      {
       "output_type": "stream",
       "stream": "stderr",
       "text": [
        "DEBUG:FFC:  Reusing element from cache\n"
       ]
      },
      {
       "output_type": "stream",
       "stream": "stderr",
       "text": [
        "DEBUG:FFC:  Reusing element from cache\n"
       ]
      },
      {
       "output_type": "stream",
       "stream": "stderr",
       "text": [
        "DEBUG:FFC:  Reusing element from cache\n"
       ]
      },
      {
       "output_type": "stream",
       "stream": "stderr",
       "text": [
        "DEBUG:FFC:  Reusing element from cache\n"
       ]
      },
      {
       "output_type": "stream",
       "stream": "stderr",
       "text": [
        "DEBUG:FFC:  Reusing element from cache\n"
       ]
      },
      {
       "output_type": "stream",
       "stream": "stderr",
       "text": [
        "DEBUG:FFC:  Reusing element from cache\n"
       ]
      },
      {
       "output_type": "stream",
       "stream": "stderr",
       "text": [
        "DEBUG:FFC:  Reusing element from cache\n"
       ]
      },
      {
       "output_type": "stream",
       "stream": "stderr",
       "text": [
        "DEBUG:FFC:  Reusing element from cache\n"
       ]
      },
      {
       "output_type": "stream",
       "stream": "stderr",
       "text": [
        "DEBUG:FFC:  Reusing element from cache\n"
       ]
      },
      {
       "output_type": "stream",
       "stream": "stderr",
       "text": [
        "DEBUG:FFC:  Reusing element from cache\n"
       ]
      },
      {
       "output_type": "stream",
       "stream": "stderr",
       "text": [
        "DEBUG:FFC:  Reusing element from cache\n"
       ]
      },
      {
       "output_type": "stream",
       "stream": "stderr",
       "text": [
        "DEBUG:FFC:  Reusing element from cache\n"
       ]
      },
      {
       "output_type": "stream",
       "stream": "stderr",
       "text": [
        "DEBUG:FFC:  Reusing element from cache\n"
       ]
      },
      {
       "output_type": "stream",
       "stream": "stderr",
       "text": [
        "DEBUG:FFC:  Reusing element from cache\n"
       ]
      },
      {
       "output_type": "stream",
       "stream": "stderr",
       "text": [
        "DEBUG:FFC:  Reusing element from cache\n"
       ]
      },
      {
       "output_type": "stream",
       "stream": "stderr",
       "text": [
        "DEBUG:FFC:  Reusing element from cache\n"
       ]
      },
      {
       "output_type": "stream",
       "stream": "stderr",
       "text": [
        "DEBUG:FFC:  Reusing element from cache\n"
       ]
      },
      {
       "output_type": "stream",
       "stream": "stderr",
       "text": [
        "DEBUG:FFC:  Reusing element from cache\n"
       ]
      },
      {
       "output_type": "stream",
       "stream": "stderr",
       "text": [
        "DEBUG:FFC:  Reusing element from cache\n"
       ]
      },
      {
       "output_type": "stream",
       "stream": "stderr",
       "text": [
        "DEBUG:FFC:  Reusing element from cache\n"
       ]
      },
      {
       "output_type": "stream",
       "stream": "stderr",
       "text": [
        "DEBUG:FFC:  Reusing element from cache\n"
       ]
      },
      {
       "output_type": "stream",
       "stream": "stderr",
       "text": [
        "DEBUG:FFC:  Reusing element from cache\n"
       ]
      },
      {
       "output_type": "stream",
       "stream": "stderr",
       "text": [
        "DEBUG:FFC:  Reusing element from cache\n"
       ]
      },
      {
       "output_type": "stream",
       "stream": "stderr",
       "text": [
        "DEBUG:FFC:  Reusing element from cache\n"
       ]
      },
      {
       "output_type": "stream",
       "stream": "stderr",
       "text": [
        "DEBUG:FFC:  Reusing element from cache\n"
       ]
      },
      {
       "output_type": "stream",
       "stream": "stderr",
       "text": [
        "DEBUG:FFC:  Reusing element from cache\n"
       ]
      },
      {
       "output_type": "stream",
       "stream": "stderr",
       "text": [
        "DEBUG:FFC:  Reusing element from cache\n"
       ]
      },
      {
       "output_type": "stream",
       "stream": "stderr",
       "text": [
        "DEBUG:FFC:  Reusing element from cache\n"
       ]
      },
      {
       "output_type": "stream",
       "stream": "stderr",
       "text": [
        "DEBUG:FFC:  Reusing element from cache\n"
       ]
      },
      {
       "output_type": "stream",
       "stream": "stderr",
       "text": [
        "INFO:FFC:  Computing quadrature representation\n"
       ]
      },
      {
       "output_type": "stream",
       "stream": "stderr",
       "text": [
        "DEBUG:FFC:  Reusing element from cache\n"
       ]
      },
      {
       "output_type": "stream",
       "stream": "stderr",
       "text": [
        "DEBUG:FFC:  Reusing element from cache\n"
       ]
      },
      {
       "output_type": "stream",
       "stream": "stderr",
       "text": [
        "DEBUG:FFC:  Reusing element from cache\n"
       ]
      },
      {
       "output_type": "stream",
       "stream": "stderr",
       "text": [
        "DEBUG:FFC:  Reusing element from cache\n"
       ]
      },
      {
       "output_type": "stream",
       "stream": "stderr",
       "text": [
        "DEBUG:FFC:  Reusing element from cache\n"
       ]
      },
      {
       "output_type": "stream",
       "stream": "stderr",
       "text": [
        "DEBUG:FFC:  Reusing element from cache\n"
       ]
      },
      {
       "output_type": "stream",
       "stream": "stderr",
       "text": [
        "DEBUG:FFC:  \n",
        "  QG-utils, psi_tables:\n",
        "  {2: {FiniteElement('Real', Domain(Cell('triangle', 2), label='dolfin_mesh_with_id_3538', data='<data with id 3538>'), 0, quad_scheme=None): {None: {0: {(0, 0): array([[ 1.,  1.]])}, 1: {(0, 0): array([[ 1.,  1.]])}, 2: {(0, 0): array([[ 1.,  1.]])}}}, MixedElement(*[FiniteElement('Lagrange', Domain(Cell('triangle', 2), label='dolfin_mesh_with_id_3538', data='<data with id 3538>'), 1, quad_scheme=None), FiniteElement('Real', Domain(Cell('triangle', 2), label='dolfin_mesh_with_id_3538', data='<data with id 3538>'), 0, quad_scheme=None), FiniteElement('Real', Domain(Cell('triangle', 2), label='dolfin_mesh_with_id_3538', data='<data with id 3538>'), 0, quad_scheme=None)], **{'value_shape': (3,) }): {None: {0: {(0, 0): array([[[ -2.08166817e-17,   5.55111512e-17],\n",
        "          [  0.00000000e+00,   0.00000000e+00],\n",
        "          [  0.00000000e+00,   0.00000000e+00]],\n",
        "  \n",
        "         [[  7.88675135e-01,   2.11324865e-01],\n",
        "          [  0.00000000e+00,   0.00000000e+00],\n",
        "          [  0.00000000e+00,   0.00000000e+00]],\n",
        "  \n",
        "         [[  2.11324865e-01,   7.88675135e-01],\n",
        "          [  0.00000000e+00,   0.00000000e+00],\n",
        "          [  0.00000000e+00,   0.00000000e+00]],\n",
        "  \n",
        "         [[  0.00000000e+00,   0.00000000e+00],\n",
        "          [  1.00000000e+00,   1.00000000e+00],\n",
        "          [  0.00000000e+00,   0.00000000e+00]],\n",
        "  \n",
        "         [[  0.00000000e+00,   0.00000000e+00],\n",
        "          [  0.00000000e+00,   0.00000000e+00],\n",
        "          [  1.00000000e+00,   1.00000000e+00]]])}, 1: {(0, 0): array([[[  7.88675135e-01,   2.11324865e-01],\n",
        "          [  0.00000000e+00,   0.00000000e+00],\n",
        "          [  0.00000000e+00,   0.00000000e+00]],\n",
        "  \n",
        "         [[ -2.08166817e-17,   5.55111512e-17],\n",
        "          [  0.00000000e+00,   0.00000000e+00],\n",
        "          [  0.00000000e+00,   0.00000000e+00]],\n",
        "  \n",
        "         [[  2.11324865e-01,   7.88675135e-01],\n",
        "          [  0.00000000e+00,   0.00000000e+00],\n",
        "          [  0.00000000e+00,   0.00000000e+00]],\n",
        "  \n",
        "         [[  0.00000000e+00,   0.00000000e+00],\n",
        "          [  1.00000000e+00,   1.00000000e+00],\n",
        "          [  0.00000000e+00,   0.00000000e+00]],\n",
        "  \n",
        "         [[  0.00000000e+00,   0.00000000e+00],\n",
        "          [  0.00000000e+00,   0.00000000e+00],\n",
        "          [  1.00000000e+00,   1.00000000e+00]]])}, 2: {(0, 0): array([[[ 0.78867513,  0.21132487],\n",
        "          [ 0.        ,  0.        ],\n",
        "          [ 0.        ,  0.        ]],\n",
        "  \n",
        "         [[ 0.21132487,  0.78867513],\n",
        "          [ 0.        ,  0.        ],\n",
        "          [ 0.        ,  0.        ]],\n",
        "  \n",
        "         [[ 0.        ,  0.        ],\n",
        "          [ 0.        ,  0.        ],\n",
        "          [ 0.        ,  0.        ]],\n",
        "  \n",
        "         [[ 0.        ,  0.        ],\n",
        "          [ 1.        ,  1.        ],\n",
        "          [ 0.        ,  0.        ]],\n",
        "  \n",
        "         [[ 0.        ,  0.        ],\n",
        "          [ 0.        ,  0.        ],\n",
        "          [ 1.        ,  1.        ]]])}}}, VectorElement('Lagrange', Domain(Cell('triangle', 2), label='dolfin_mesh_with_id_3538', data='<data with id 3538>'), 1, dim=2, quad_scheme=None): {None: {0: {(0, 1): array([[[ -1.00000000e+00,  -1.00000000e+00],\n",
        "          [  0.00000000e+00,   0.00000000e+00]],\n",
        "  \n",
        "         [[  8.88178420e-16,   8.88178420e-16],\n",
        "          [  0.00000000e+00,   0.00000000e+00]],\n",
        "  \n",
        "         [[  1.00000000e+00,   1.00000000e+00],\n",
        "          [  0.00000000e+00,   0.00000000e+00]],\n",
        "  \n",
        "         [[  0.00000000e+00,   0.00000000e+00],\n",
        "          [ -1.00000000e+00,  -1.00000000e+00]],\n",
        "  \n",
        "         [[  0.00000000e+00,   0.00000000e+00],\n",
        "          [  8.88178420e-16,   8.88178420e-16]],\n",
        "  \n",
        "         [[  0.00000000e+00,   0.00000000e+00],\n",
        "          [  1.00000000e+00,   1.00000000e+00]]]), (1, 0): array([[[-1., -1.],\n",
        "          [ 0.,  0.]],\n",
        "  \n",
        "         [[ 1.,  1.],\n",
        "          [ 0.,  0.]],\n",
        "  \n",
        "         [[ 0.,  0.],\n",
        "          [ 0.,  0.]],\n",
        "  \n",
        "         [[ 0.,  0.],\n",
        "          [-1., -1.]],\n",
        "  \n",
        "         [[ 0.,  0.],\n",
        "          [ 1.,  1.]],\n",
        "  \n",
        "         [[ 0.,  0.],\n",
        "          [ 0.,  0.]]]), (0, 0): array([[[ -2.08166817e-17,   5.55111512e-17],\n",
        "          [  0.00000000e+00,   0.00000000e+00]],\n",
        "  \n",
        "         [[  7.88675135e-01,   2.11324865e-01],\n",
        "          [  0.00000000e+00,   0.00000000e+00]],\n",
        "  \n",
        "         [[  2.11324865e-01,   7.88675135e-01],\n",
        "          [  0.00000000e+00,   0.00000000e+00]],\n",
        "  \n",
        "         [[  0.00000000e+00,   0.00000000e+00],\n",
        "          [ -2.08166817e-17,   5.55111512e-17]],\n",
        "  \n",
        "         [[  0.00000000e+00,   0.00000000e+00],\n",
        "          [  7.88675135e-01,   2.11324865e-01]],\n",
        "  \n",
        "         [[  0.00000000e+00,   0.00000000e+00],\n",
        "          [  2.11324865e-01,   7.88675135e-01]]])}, 1: {(0, 1): array([[[ -1.00000000e+00,  -1.00000000e+00],\n",
        "          [  0.00000000e+00,   0.00000000e+00]],\n",
        "  \n",
        "         [[  8.88178420e-16,   8.88178420e-16],\n",
        "          [  0.00000000e+00,   0.00000000e+00]],\n",
        "  \n",
        "         [[  1.00000000e+00,   1.00000000e+00],\n",
        "          [  0.00000000e+00,   0.00000000e+00]],\n",
        "  \n",
        "         [[  0.00000000e+00,   0.00000000e+00],\n",
        "          [ -1.00000000e+00,  -1.00000000e+00]],\n",
        "  \n",
        "         [[  0.00000000e+00,   0.00000000e+00],\n",
        "          [  8.88178420e-16,   8.88178420e-16]],\n",
        "  \n",
        "         [[  0.00000000e+00,   0.00000000e+00],\n",
        "          [  1.00000000e+00,   1.00000000e+00]]]), (1, 0): array([[[-1., -1.],\n",
        "          [ 0.,  0.]],\n",
        "  \n",
        "         [[ 1.,  1.],\n",
        "          [ 0.,  0.]],\n",
        "  \n",
        "         [[ 0.,  0.],\n",
        "          [ 0.,  0.]],\n",
        "  \n",
        "         [[ 0.,  0.],\n",
        "          [-1., -1.]],\n",
        "  \n",
        "         [[ 0.,  0.],\n",
        "          [ 1.,  1.]],\n",
        "  \n",
        "         [[ 0.,  0.],\n",
        "          [ 0.,  0.]]]), (0, 0): array([[[  7.88675135e-01,   2.11324865e-01],\n",
        "          [  0.00000000e+00,   0.00000000e+00]],\n",
        "  \n",
        "         [[ -2.08166817e-17,   5.55111512e-17],\n",
        "          [  0.00000000e+00,   0.00000000e+00]],\n",
        "  \n",
        "         [[  2.11324865e-01,   7.88675135e-01],\n",
        "          [  0.00000000e+00,   0.00000000e+00]],\n",
        "  \n",
        "         [[  0.00000000e+00,   0.00000000e+00],\n",
        "          [  7.88675135e-01,   2.11324865e-01]],\n",
        "  \n",
        "         [[  0.00000000e+00,   0.00000000e+00],\n",
        "          [ -2.08166817e-17,   5.55111512e-17]],\n",
        "  \n",
        "         [[  0.00000000e+00,   0.00000000e+00],\n",
        "          [  2.11324865e-01,   7.88675135e-01]]])}, 2: {(0, 1): array([[[ -1.00000000e+00,  -1.00000000e+00],\n",
        "          [  0.00000000e+00,   0.00000000e+00]],\n",
        "  \n",
        "         [[  8.88178420e-16,   8.88178420e-16],\n",
        "          [  0.00000000e+00,   0.00000000e+00]],\n",
        "  \n",
        "         [[  1.00000000e+00,   1.00000000e+00],\n",
        "          [  0.00000000e+00,   0.00000000e+00]],\n",
        "  \n",
        "         [[  0.00000000e+00,   0.00000000e+00],\n",
        "          [ -1.00000000e+00,  -1.00000000e+00]],\n",
        "  \n",
        "         [[  0.00000000e+00,   0.00000000e+00],\n",
        "          [  8.88178420e-16,   8.88178420e-16]],\n",
        "  \n",
        "         [[  0.00000000e+00,   0.00000000e+00],\n",
        "          [  1.00000000e+00,   1.00000000e+00]]]), (1, 0): array([[[-1., -1.],\n",
        "          [ 0.,  0.]],\n",
        "  \n",
        "         [[ 1.,  1.],\n",
        "          [ 0.,  0.]],\n",
        "  \n",
        "         [[ 0.,  0.],\n",
        "          [ 0.,  0.]],\n",
        "  \n",
        "         [[ 0.,  0.],\n",
        "          [-1., -1.]],\n",
        "  \n",
        "         [[ 0.,  0.],\n",
        "          [ 1.,  1.]],\n",
        "  \n",
        "         [[ 0.,  0.],\n",
        "          [ 0.,  0.]]]), (0, 0): array([[[ 0.78867513,  0.21132487],\n",
        "          [ 0.        ,  0.        ]],\n",
        "  \n",
        "         [[ 0.21132487,  0.78867513],\n",
        "          [ 0.        ,  0.        ]],\n",
        "  \n",
        "         [[ 0.        ,  0.        ],\n",
        "          [ 0.        ,  0.        ]],\n",
        "  \n",
        "         [[ 0.        ,  0.        ],\n",
        "          [ 0.78867513,  0.21132487]],\n",
        "  \n",
        "         [[ 0.        ,  0.        ],\n",
        "          [ 0.21132487,  0.78867513]],\n",
        "  \n",
        "         [[ 0.        ,  0.        ],\n",
        "          [ 0.        ,  0.        ]]])}}}}}\n"
       ]
      },
      {
       "output_type": "stream",
       "stream": "stderr",
       "text": [
        "DEBUG:FFC:  \n",
        "  QG-utils, psi_tables, flat_tables:\n",
        "  {'FE1_f2_C2': array([[ 0.,  0.,  0.,  0.,  1.],\n",
        "         [ 0.,  0.,  0.,  0.,  1.]]), 'FE0_f0_C0_D01': array([[ -1.00000000e+00,   8.88178420e-16,   1.00000000e+00,\n",
        "            0.00000000e+00,   0.00000000e+00,   0.00000000e+00],\n",
        "         [ -1.00000000e+00,   8.88178420e-16,   1.00000000e+00,\n",
        "            0.00000000e+00,   0.00000000e+00,   0.00000000e+00]]), 'FE1_f2_C0': array([[ 0.78867513,  0.21132487,  0.        ,  0.        ,  0.        ],\n",
        "         [ 0.21132487,  0.78867513,  0.        ,  0.        ,  0.        ]]), 'FE1_f2_C1': array([[ 0.,  0.,  0.,  1.,  0.],\n",
        "         [ 0.,  0.,  0.,  1.,  0.]]), 'FE0_f0_C1': array([[  0.00000000e+00,   0.00000000e+00,   0.00000000e+00,\n",
        "           -2.08166817e-17,   7.88675135e-01,   2.11324865e-01],\n",
        "         [  0.00000000e+00,   0.00000000e+00,   0.00000000e+00,\n",
        "            5.55111512e-17,   2.11324865e-01,   7.88675135e-01]]), 'FE0_f0_C0': array([[ -2.08166817e-17,   7.88675135e-01,   2.11324865e-01,\n",
        "            0.00000000e+00,   0.00000000e+00,   0.00000000e+00],\n",
        "         [  5.55111512e-17,   2.11324865e-01,   7.88675135e-01,\n",
        "            0.00000000e+00,   0.00000000e+00,   0.00000000e+00]]), 'FE0_f0_C1_D01': array([[  0.00000000e+00,   0.00000000e+00,   0.00000000e+00,\n",
        "           -1.00000000e+00,   8.88178420e-16,   1.00000000e+00],\n",
        "         [  0.00000000e+00,   0.00000000e+00,   0.00000000e+00,\n",
        "           -1.00000000e+00,   8.88178420e-16,   1.00000000e+00]]), 'FE0_f2_C0_D10': array([[-1.,  1.,  0.,  0.,  0.,  0.],\n",
        "         [-1.,  1.,  0.,  0.,  0.,  0.]]), 'FE0_f1_C1_D10': array([[ 0.,  0.,  0., -1.,  1.,  0.],\n",
        "         [ 0.,  0.,  0., -1.,  1.,  0.]]), 'FE0_f2_C1_D01': array([[  0.00000000e+00,   0.00000000e+00,   0.00000000e+00,\n",
        "           -1.00000000e+00,   8.88178420e-16,   1.00000000e+00],\n",
        "         [  0.00000000e+00,   0.00000000e+00,   0.00000000e+00,\n",
        "           -1.00000000e+00,   8.88178420e-16,   1.00000000e+00]]), 'FE0_f1_C1_D01': array([[  0.00000000e+00,   0.00000000e+00,   0.00000000e+00,\n",
        "           -1.00000000e+00,   8.88178420e-16,   1.00000000e+00],\n",
        "         [  0.00000000e+00,   0.00000000e+00,   0.00000000e+00,\n",
        "           -1.00000000e+00,   8.88178420e-16,   1.00000000e+00]]), 'FE1_f0_C0': array([[ -2.08166817e-17,   7.88675135e-01,   2.11324865e-01,\n",
        "            0.00000000e+00,   0.00000000e+00],\n",
        "         [  5.55111512e-17,   2.11324865e-01,   7.88675135e-01,\n",
        "            0.00000000e+00,   0.00000000e+00]]), 'FE1_f0_C1': array([[ 0.,  0.,  0.,  1.,  0.],\n",
        "         [ 0.,  0.,  0.,  1.,  0.]]), 'FE1_f0_C2': array([[ 0.,  0.,  0.,  0.,  1.],\n",
        "         [ 0.,  0.,  0.,  0.,  1.]]), 'FE0_f1_C0_D10': array([[-1.,  1.,  0.,  0.,  0.,  0.],\n",
        "         [-1.,  1.,  0.,  0.,  0.,  0.]]), 'FE0_f0_C0_D10': array([[-1.,  1.,  0.,  0.,  0.,  0.],\n",
        "         [-1.,  1.,  0.,  0.,  0.,  0.]]), 'FE0_f2_C1': array([[ 0.        ,  0.        ,  0.        ,  0.78867513,  0.21132487,\n",
        "           0.        ],\n",
        "         [ 0.        ,  0.        ,  0.        ,  0.21132487,  0.78867513,\n",
        "           0.        ]]), 'FE0_f2_C0': array([[ 0.78867513,  0.21132487,  0.        ,  0.        ,  0.        ,\n",
        "           0.        ],\n",
        "         [ 0.21132487,  0.78867513,  0.        ,  0.        ,  0.        ,\n",
        "           0.        ]]), 'FE0_f0_C1_D10': array([[ 0.,  0.,  0., -1.,  1.,  0.],\n",
        "         [ 0.,  0.,  0., -1.,  1.,  0.]]), 'FE0_f1_C0_D01': array([[ -1.00000000e+00,   8.88178420e-16,   1.00000000e+00,\n",
        "            0.00000000e+00,   0.00000000e+00,   0.00000000e+00],\n",
        "         [ -1.00000000e+00,   8.88178420e-16,   1.00000000e+00,\n",
        "            0.00000000e+00,   0.00000000e+00,   0.00000000e+00]]), 'FE2_f2': array([[ 1.],\n",
        "         [ 1.]]), 'FE2_f0': array([[ 1.],\n",
        "         [ 1.]]), 'FE2_f1': array([[ 1.],\n",
        "         [ 1.]]), 'FE0_f2_C0_D01': array([[ -1.00000000e+00,   8.88178420e-16,   1.00000000e+00,\n",
        "            0.00000000e+00,   0.00000000e+00,   0.00000000e+00],\n",
        "         [ -1.00000000e+00,   8.88178420e-16,   1.00000000e+00,\n",
        "            0.00000000e+00,   0.00000000e+00,   0.00000000e+00]]), 'FE0_f1_C0': array([[  7.88675135e-01,  -2.08166817e-17,   2.11324865e-01,\n",
        "            0.00000000e+00,   0.00000000e+00,   0.00000000e+00],\n",
        "         [  2.11324865e-01,   5.55111512e-17,   7.88675135e-01,\n",
        "            0.00000000e+00,   0.00000000e+00,   0.00000000e+00]]), 'FE0_f1_C1': array([[  0.00000000e+00,   0.00000000e+00,   0.00000000e+00,\n",
        "            7.88675135e-01,  -2.08166817e-17,   2.11324865e-01],\n",
        "         [  0.00000000e+00,   0.00000000e+00,   0.00000000e+00,\n",
        "            2.11324865e-01,   5.55111512e-17,   7.88675135e-01]]), 'FE0_f2_C1_D10': array([[ 0.,  0.,  0., -1.,  1.,  0.],\n",
        "         [ 0.,  0.,  0., -1.,  1.,  0.]]), 'FE1_f1_C2': array([[ 0.,  0.,  0.,  0.,  1.],\n",
        "         [ 0.,  0.,  0.,  0.,  1.]]), 'FE1_f1_C1': array([[ 0.,  0.,  0.,  1.,  0.],\n",
        "         [ 0.,  0.,  0.,  1.,  0.]]), 'FE1_f1_C0': array([[  7.88675135e-01,  -2.08166817e-17,   2.11324865e-01,\n",
        "            0.00000000e+00,   0.00000000e+00],\n",
        "         [  2.11324865e-01,   5.55111512e-17,   7.88675135e-01,\n",
        "            0.00000000e+00,   0.00000000e+00]])}\n"
       ]
      },
      {
       "output_type": "stream",
       "stream": "stderr",
       "text": [
        "DEBUG:FFC:  \n",
        "  tables: {'FE0_f0_C0_D01': array([[ -1.00000000e+00,   8.88178420e-16,   1.00000000e+00,\n",
        "            0.00000000e+00,   0.00000000e+00,   0.00000000e+00],\n",
        "         [ -1.00000000e+00,   8.88178420e-16,   1.00000000e+00,\n",
        "            0.00000000e+00,   0.00000000e+00,   0.00000000e+00]]), 'FE1_f2_C0': array([[ 0.78867513,  0.21132487,  0.        ,  0.        ,  0.        ],\n",
        "         [ 0.21132487,  0.78867513,  0.        ,  0.        ,  0.        ]]), 'FE0_f0_C1': array([[  0.00000000e+00,   0.00000000e+00,   0.00000000e+00,\n",
        "           -2.08166817e-17,   7.88675135e-01,   2.11324865e-01],\n",
        "         [  0.00000000e+00,   0.00000000e+00,   0.00000000e+00,\n",
        "            5.55111512e-17,   2.11324865e-01,   7.88675135e-01]]), 'FE0_f0_C0': array([[ -2.08166817e-17,   7.88675135e-01,   2.11324865e-01,\n",
        "            0.00000000e+00,   0.00000000e+00,   0.00000000e+00],\n",
        "         [  5.55111512e-17,   2.11324865e-01,   7.88675135e-01,\n",
        "            0.00000000e+00,   0.00000000e+00,   0.00000000e+00]]), 'FE0_f0_C1_D01': array([[  0.00000000e+00,   0.00000000e+00,   0.00000000e+00,\n",
        "           -1.00000000e+00,   8.88178420e-16,   1.00000000e+00],\n",
        "         [  0.00000000e+00,   0.00000000e+00,   0.00000000e+00,\n",
        "           -1.00000000e+00,   8.88178420e-16,   1.00000000e+00]]), 'FE1_f0_C0': array([[ -2.08166817e-17,   7.88675135e-01,   2.11324865e-01,\n",
        "            0.00000000e+00,   0.00000000e+00],\n",
        "         [  5.55111512e-17,   2.11324865e-01,   7.88675135e-01,\n",
        "            0.00000000e+00,   0.00000000e+00]]), 'FE1_f0_C1': array([[ 0.,  0.,  0.,  1.,  0.],\n",
        "         [ 0.,  0.,  0.,  1.,  0.]]), 'FE1_f0_C2': array([[ 0.,  0.,  0.,  0.,  1.],\n",
        "         [ 0.,  0.,  0.,  0.,  1.]]), 'FE0_f0_C0_D10': array([[-1.,  1.,  0.,  0.,  0.,  0.],\n",
        "         [-1.,  1.,  0.,  0.,  0.,  0.]]), 'FE0_f2_C1': array([[ 0.        ,  0.        ,  0.        ,  0.78867513,  0.21132487,\n",
        "           0.        ],\n",
        "         [ 0.        ,  0.        ,  0.        ,  0.21132487,  0.78867513,\n",
        "           0.        ]]), 'FE0_f2_C0': array([[ 0.78867513,  0.21132487,  0.        ,  0.        ,  0.        ,\n",
        "           0.        ],\n",
        "         [ 0.21132487,  0.78867513,  0.        ,  0.        ,  0.        ,\n",
        "           0.        ]]), 'FE0_f0_C1_D10': array([[ 0.,  0.,  0., -1.,  1.,  0.],\n",
        "         [ 0.,  0.,  0., -1.,  1.,  0.]]), 'FE2_f0': array([[ 1.],\n",
        "         [ 1.]]), 'FE0_f1_C0': array([[  7.88675135e-01,  -2.08166817e-17,   2.11324865e-01,\n",
        "            0.00000000e+00,   0.00000000e+00,   0.00000000e+00],\n",
        "         [  2.11324865e-01,   5.55111512e-17,   7.88675135e-01,\n",
        "            0.00000000e+00,   0.00000000e+00,   0.00000000e+00]]), 'FE0_f1_C1': array([[  0.00000000e+00,   0.00000000e+00,   0.00000000e+00,\n",
        "            7.88675135e-01,  -2.08166817e-17,   2.11324865e-01],\n",
        "         [  0.00000000e+00,   0.00000000e+00,   0.00000000e+00,\n",
        "            2.11324865e-01,   5.55111512e-17,   7.88675135e-01]]), 'FE1_f1_C0': array([[  7.88675135e-01,  -2.08166817e-17,   2.11324865e-01,\n",
        "            0.00000000e+00,   0.00000000e+00],\n",
        "         [  2.11324865e-01,   5.55111512e-17,   7.88675135e-01,\n",
        "            0.00000000e+00,   0.00000000e+00]])}\n"
       ]
      },
      {
       "output_type": "stream",
       "stream": "stderr",
       "text": [
        "DEBUG:FFC:  \n",
        "  name_map: {'FE0_f0_C1_D01': ['FE0_f1_C1_D01', 'FE0_f2_C1_D01'], 'FE0_f0_C1_D10': ['FE0_f1_C1_D10', 'FE0_f2_C1_D10'], 'FE1_f0_C1': ['FE1_f1_C1', 'FE1_f2_C1'], 'FE1_f0_C2': ['FE1_f1_C2', 'FE1_f2_C2'], 'FE2_f0': ['FE2_f1', 'FE2_f2'], 'FE0_f0_C0_D01': ['FE0_f1_C0_D01', 'FE0_f2_C0_D01'], 'FE0_f0_C0_D10': ['FE0_f1_C0_D10', 'FE0_f2_C0_D10']}\n"
       ]
      },
      {
       "output_type": "stream",
       "stream": "stderr",
       "text": [
        "DEBUG:FFC:  \n",
        "  inv_name_map: {'FE1_f2_C2': 'FE1_f0_C2', 'FE0_f0_C0_D01': 'FE0_f0_C0_D01', 'FE1_f2_C0': 'FE1_f2_C0', 'FE1_f2_C1': 'FE1_f0_C1', 'FE0_f0_C1': 'FE0_f0_C1', 'FE0_f0_C0': 'FE0_f0_C0', 'FE0_f1_C1': 'FE0_f1_C1', 'FE0_f1_C0_D10': 'FE0_f0_C0_D10', 'FE0_f2_C0_D10': 'FE0_f0_C0_D10', 'FE0_f1_C1_D10': 'FE0_f0_C1_D10', 'FE0_f2_C1_D01': 'FE0_f0_C1_D01', 'FE1_f0_C0': 'FE1_f0_C0', 'FE1_f0_C1': 'FE1_f0_C1', 'FE1_f0_C2': 'FE1_f0_C2', 'FE0_f0_C1_D01': 'FE0_f0_C1_D01', 'FE0_f0_C0_D10': 'FE0_f0_C0_D10', 'FE0_f2_C1': 'FE0_f2_C1', 'FE0_f2_C0': 'FE0_f2_C0', 'FE0_f0_C1_D10': 'FE0_f0_C1_D10', 'FE0_f1_C0_D01': 'FE0_f0_C0_D01', 'FE2_f2': 'FE2_f0', 'FE2_f0': 'FE2_f0', 'FE2_f1': 'FE2_f0', 'FE0_f2_C0_D01': 'FE0_f0_C0_D01', 'FE0_f1_C0': 'FE0_f1_C0', 'FE0_f1_C1_D01': 'FE0_f0_C1_D01', 'FE0_f2_C1_D10': 'FE0_f0_C1_D10', 'FE1_f1_C2': 'FE1_f0_C2', 'FE1_f1_C1': 'FE1_f0_C1', 'FE1_f1_C0': 'FE1_f1_C0'}\n"
       ]
      },
      {
       "output_type": "stream",
       "stream": "stderr",
       "text": [
        "DEBUG:FFC:  \n",
        "  QG-utils, psi_tables, unique_tables:\n",
        "  {'FE0_f0_C0_D01': array([[-1.,  0.,  1.,  0.,  0.,  0.],\n",
        "         [-1.,  0.,  1.,  0.,  0.,  0.]]), 'FE1_f2_C0': array([[ 0.78867513,  0.21132487,  0.        ,  0.        ,  0.        ],\n",
        "         [ 0.21132487,  0.78867513,  0.        ,  0.        ,  0.        ]]), 'FE0_f0_C1': array([[ 0.        ,  0.        ,  0.        ,  0.        ,  0.78867513,\n",
        "           0.21132487],\n",
        "         [ 0.        ,  0.        ,  0.        ,  0.        ,  0.21132487,\n",
        "           0.78867513]]), 'FE0_f0_C0': array([[ 0.        ,  0.78867513,  0.21132487,  0.        ,  0.        ,\n",
        "           0.        ],\n",
        "         [ 0.        ,  0.21132487,  0.78867513,  0.        ,  0.        ,\n",
        "           0.        ]]), 'FE0_f0_C1_D01': array([[ 0.,  0.,  0., -1.,  0.,  1.],\n",
        "         [ 0.,  0.,  0., -1.,  0.,  1.]]), 'FE1_f0_C0': array([[ 0.        ,  0.78867513,  0.21132487,  0.        ,  0.        ],\n",
        "         [ 0.        ,  0.21132487,  0.78867513,  0.        ,  0.        ]]), 'FE1_f0_C1': array([[ 0.,  0.,  0.,  1.,  0.],\n",
        "         [ 0.,  0.,  0.,  1.,  0.]]), 'FE1_f0_C2': array([[ 0.,  0.,  0.,  0.,  1.],\n",
        "         [ 0.,  0.,  0.,  0.,  1.]]), 'FE0_f0_C0_D10': array([[-1.,  1.,  0.,  0.,  0.,  0.],\n",
        "         [-1.,  1.,  0.,  0.,  0.,  0.]]), 'FE0_f2_C1': array([[ 0.        ,  0.        ,  0.        ,  0.78867513,  0.21132487,\n",
        "           0.        ],\n",
        "         [ 0.        ,  0.        ,  0.        ,  0.21132487,  0.78867513,\n",
        "           0.        ]]), 'FE0_f2_C0': array([[ 0.78867513,  0.21132487,  0.        ,  0.        ,  0.        ,\n",
        "           0.        ],\n",
        "         [ 0.21132487,  0.78867513,  0.        ,  0.        ,  0.        ,\n",
        "           0.        ]]), 'FE0_f0_C1_D10': array([[ 0.,  0.,  0., -1.,  1.,  0.],\n",
        "         [ 0.,  0.,  0., -1.,  1.,  0.]]), 'FE2_f0': array([[ 1.],\n",
        "         [ 1.]]), 'FE0_f1_C0': array([[ 0.78867513,  0.        ,  0.21132487,  0.        ,  0.        ,\n",
        "           0.        ],\n",
        "         [ 0.21132487,  0.        ,  0.78867513,  0.        ,  0.        ,\n",
        "           0.        ]]), 'FE0_f1_C1': array([[ 0.        ,  0.        ,  0.        ,  0.78867513,  0.        ,\n",
        "           0.21132487],\n",
        "         [ 0.        ,  0.        ,  0.        ,  0.21132487,  0.        ,\n",
        "           0.78867513]]), 'FE1_f1_C0': array([[ 0.78867513,  0.        ,  0.21132487,  0.        ,  0.        ],\n",
        "         [ 0.21132487,  0.        ,  0.78867513,  0.        ,  0.        ]])}\n"
       ]
      },
      {
       "output_type": "stream",
       "stream": "stderr",
       "text": [
        "DEBUG:FFC:  \n",
        "  QG-utils, psi_tables, name_map:\n",
        "  {'FE1_f2_C2': ('FE1_f0_C2', (), False, False), 'FE0_f0_C0_D01': ('FE0_f0_C0_D01', (), False, False), 'FE1_f2_C0': ('FE1_f2_C0', (), False, False), 'FE1_f2_C1': ('FE1_f0_C1', (), False, False), 'FE0_f0_C1': ('FE0_f0_C1', (), False, False), 'FE0_f0_C0': ('FE0_f0_C0', (), False, False), 'FE0_f1_C1': ('FE0_f1_C1', (), False, False), 'FE0_f1_C0_D10': ('FE0_f0_C0_D10', (), False, False), 'FE0_f2_C0_D10': ('FE0_f0_C0_D10', (), False, False), 'FE0_f1_C1_D10': ('FE0_f0_C1_D10', (), False, False), 'FE0_f2_C1_D01': ('FE0_f0_C1_D01', (), False, False), 'FE1_f0_C0': ('FE1_f0_C0', (), False, False), 'FE1_f0_C1': ('FE1_f0_C1', (), False, False), 'FE1_f0_C2': ('FE1_f0_C2', (), False, False), 'FE0_f0_C1_D01': ('FE0_f0_C1_D01', (), False, False), 'FE0_f0_C0_D10': ('FE0_f0_C0_D10', (), False, False), 'FE0_f2_C1': ('FE0_f2_C1', (), False, False), 'FE0_f2_C0': ('FE0_f2_C0', (), False, False), 'FE0_f0_C1_D10': ('FE0_f0_C1_D10', (), False, False), 'FE0_f1_C0_D01': ('FE0_f0_C0_D01', (), False, False), 'FE2_f2': ('FE2_f0', (), False, True), 'FE2_f0': ('FE2_f0', (), False, True), 'FE2_f1': ('FE2_f0', (), False, True), 'FE0_f2_C0_D01': ('FE0_f0_C0_D01', (), False, False), 'FE0_f1_C0': ('FE0_f1_C0', (), False, False), 'FE0_f1_C1_D01': ('FE0_f0_C1_D01', (), False, False), 'FE0_f2_C1_D10': ('FE0_f0_C1_D10', (), False, False), 'FE1_f1_C2': ('FE1_f0_C2', (), False, False), 'FE1_f1_C1': ('FE1_f0_C1', (), False, False), 'FE1_f1_C0': ('FE1_f1_C0', (), False, False)}\n"
       ]
      },
      {
       "output_type": "stream",
       "stream": "stderr",
       "text": [
        "INFO:FFC:  Transforming exterior facet integral 0\n"
       ]
      },
      {
       "output_type": "stream",
       "stream": "stderr",
       "text": [
        "DEBUG:FFC:  Reusing element from cache\n"
       ]
      },
      {
       "output_type": "stream",
       "stream": "stderr",
       "text": [
        "DEBUG:FFC:  Reusing element from cache\n"
       ]
      },
      {
       "output_type": "stream",
       "stream": "stderr",
       "text": [
        "DEBUG:FFC:  Reusing element from cache\n"
       ]
      },
      {
       "output_type": "stream",
       "stream": "stderr",
       "text": [
        "DEBUG:FFC:  Reusing element from cache\n"
       ]
      },
      {
       "output_type": "stream",
       "stream": "stderr",
       "text": [
        "DEBUG:FFC:  Reusing element from cache\n"
       ]
      },
      {
       "output_type": "stream",
       "stream": "stderr",
       "text": [
        "DEBUG:FFC:  Reusing element from cache\n"
       ]
      },
      {
       "output_type": "stream",
       "stream": "stderr",
       "text": [
        "DEBUG:FFC:  Reusing element from cache\n"
       ]
      },
      {
       "output_type": "stream",
       "stream": "stderr",
       "text": [
        "DEBUG:FFC:  Reusing element from cache\n"
       ]
      },
      {
       "output_type": "stream",
       "stream": "stderr",
       "text": [
        "DEBUG:FFC:  Reusing element from cache\n"
       ]
      },
      {
       "output_type": "stream",
       "stream": "stderr",
       "text": [
        "DEBUG:FFC:  Reusing element from cache\n"
       ]
      },
      {
       "output_type": "stream",
       "stream": "stderr",
       "text": [
        "INFO:FFC:  Transforming exterior facet integral 1\n"
       ]
      },
      {
       "output_type": "stream",
       "stream": "stderr",
       "text": [
        "DEBUG:FFC:  Reusing element from cache\n"
       ]
      },
      {
       "output_type": "stream",
       "stream": "stderr",
       "text": [
        "DEBUG:FFC:  Reusing element from cache\n"
       ]
      },
      {
       "output_type": "stream",
       "stream": "stderr",
       "text": [
        "DEBUG:FFC:  Reusing element from cache\n"
       ]
      },
      {
       "output_type": "stream",
       "stream": "stderr",
       "text": [
        "DEBUG:FFC:  Reusing element from cache\n"
       ]
      },
      {
       "output_type": "stream",
       "stream": "stderr",
       "text": [
        "DEBUG:FFC:  Reusing element from cache\n"
       ]
      },
      {
       "output_type": "stream",
       "stream": "stderr",
       "text": [
        "DEBUG:FFC:  Reusing element from cache\n"
       ]
      },
      {
       "output_type": "stream",
       "stream": "stderr",
       "text": [
        "DEBUG:FFC:  Reusing element from cache\n"
       ]
      },
      {
       "output_type": "stream",
       "stream": "stderr",
       "text": [
        "DEBUG:FFC:  Reusing element from cache\n"
       ]
      },
      {
       "output_type": "stream",
       "stream": "stderr",
       "text": [
        "DEBUG:FFC:  Reusing element from cache\n"
       ]
      },
      {
       "output_type": "stream",
       "stream": "stderr",
       "text": [
        "DEBUG:FFC:  Reusing element from cache\n"
       ]
      },
      {
       "output_type": "stream",
       "stream": "stderr",
       "text": [
        "INFO:FFC:  Transforming exterior facet integral 2\n"
       ]
      },
      {
       "output_type": "stream",
       "stream": "stderr",
       "text": [
        "DEBUG:FFC:  Reusing element from cache\n"
       ]
      },
      {
       "output_type": "stream",
       "stream": "stderr",
       "text": [
        "DEBUG:FFC:  Reusing element from cache\n"
       ]
      },
      {
       "output_type": "stream",
       "stream": "stderr",
       "text": [
        "DEBUG:FFC:  Reusing element from cache\n"
       ]
      },
      {
       "output_type": "stream",
       "stream": "stderr",
       "text": [
        "DEBUG:FFC:  Reusing element from cache\n"
       ]
      },
      {
       "output_type": "stream",
       "stream": "stderr",
       "text": [
        "DEBUG:FFC:  Reusing element from cache\n"
       ]
      },
      {
       "output_type": "stream",
       "stream": "stderr",
       "text": [
        "DEBUG:FFC:  Reusing element from cache\n"
       ]
      },
      {
       "output_type": "stream",
       "stream": "stderr",
       "text": [
        "DEBUG:FFC:  Reusing element from cache\n"
       ]
      },
      {
       "output_type": "stream",
       "stream": "stderr",
       "text": [
        "DEBUG:FFC:  Reusing element from cache\n"
       ]
      },
      {
       "output_type": "stream",
       "stream": "stderr",
       "text": [
        "DEBUG:FFC:  Reusing element from cache\n"
       ]
      },
      {
       "output_type": "stream",
       "stream": "stderr",
       "text": [
        "DEBUG:FFC:  Reusing element from cache\n"
       ]
      },
      {
       "output_type": "stream",
       "stream": "stderr",
       "text": [
        "DEBUG:FFC:  Reusing element from cache\n"
       ]
      },
      {
       "output_type": "stream",
       "stream": "stderr",
       "text": [
        "DEBUG:FFC:  Reusing element from cache\n"
       ]
      },
      {
       "output_type": "stream",
       "stream": "stderr",
       "text": [
        "DEBUG:FFC:  Reusing element from cache\n"
       ]
      },
      {
       "output_type": "stream",
       "stream": "stderr",
       "text": [
        "INFO:FFC:  Computing representation of forms\n"
       ]
      },
      {
       "output_type": "stream",
       "stream": "stderr",
       "text": [
        "INFO:FFC:  \n"
       ]
      },
      {
       "output_type": "stream",
       "stream": "stderr",
       "text": [
        "INFO:FFC:Compiler stage 2 finished in 0.175458 seconds.\n",
        "\n"
       ]
      },
      {
       "output_type": "stream",
       "stream": "stderr",
       "text": [
        "INFO:FFC:Compiler stage 3: Optimizing intermediate representation\n"
       ]
      },
      {
       "output_type": "stream",
       "stream": "stderr",
       "text": [
        "INFO:FFC:--------------------------------------------------------\n"
       ]
      },
      {
       "output_type": "stream",
       "stream": "stderr",
       "text": [
        "INFO:FFC:  Skipping optimizations, add -O to optimize\n"
       ]
      },
      {
       "output_type": "stream",
       "stream": "stderr",
       "text": [
        "INFO:FFC:  \n"
       ]
      },
      {
       "output_type": "stream",
       "stream": "stderr",
       "text": [
        "INFO:FFC:Compiler stage 3 finished in 0.00128293 seconds.\n",
        "\n"
       ]
      },
      {
       "output_type": "stream",
       "stream": "stderr",
       "text": [
        "INFO:FFC:Compiler stage 4: Generating code\n"
       ]
      },
      {
       "output_type": "stream",
       "stream": "stderr",
       "text": [
        "INFO:FFC:---------------------------------\n"
       ]
      },
      {
       "output_type": "stream",
       "stream": "stderr",
       "text": [
        "INFO:FFC:  Generating code for 3 element(s)\n"
       ]
      },
      {
       "output_type": "stream",
       "stream": "stderr",
       "text": [
        "DEBUG:FFC:  Removing unused variable: tmp2\n"
       ]
      },
      {
       "output_type": "stream",
       "stream": "stderr",
       "text": [
        "DEBUG:FFC:  Removing unused variable: tmp1\n"
       ]
      },
      {
       "output_type": "stream",
       "stream": "stderr",
       "text": [
        "DEBUG:FFC:  Removing unused variable: tmp7\n"
       ]
      },
      {
       "output_type": "stream",
       "stream": "stderr",
       "text": [
        "DEBUG:FFC:  Removing unused variable: tmp6\n"
       ]
      },
      {
       "output_type": "stream",
       "stream": "stderr",
       "text": [
        "DEBUG:FFC:  Removing unused variable: tmp5\n"
       ]
      },
      {
       "output_type": "stream",
       "stream": "stderr",
       "text": [
        "DEBUG:FFC:  Removing unused variable: tt\n"
       ]
      },
      {
       "output_type": "stream",
       "stream": "stderr",
       "text": [
        "DEBUG:FFC:  Removing unused variable: ss\n"
       ]
      },
      {
       "output_type": "stream",
       "stream": "stderr",
       "text": [
        "DEBUG:FFC:  Removing unused variable: rr\n"
       ]
      },
      {
       "output_type": "stream",
       "stream": "stderr",
       "text": [
        "DEBUG:FFC:  Removing unused variable: tmp2\n"
       ]
      },
      {
       "output_type": "stream",
       "stream": "stderr",
       "text": [
        "DEBUG:FFC:  Removing unused variable: tmp1\n"
       ]
      },
      {
       "output_type": "stream",
       "stream": "stderr",
       "text": [
        "DEBUG:FFC:  Removing unused variable: tmp7\n"
       ]
      },
      {
       "output_type": "stream",
       "stream": "stderr",
       "text": [
        "DEBUG:FFC:  Removing unused variable: tmp6\n"
       ]
      },
      {
       "output_type": "stream",
       "stream": "stderr",
       "text": [
        "DEBUG:FFC:  Removing unused variable: tmp5\n"
       ]
      },
      {
       "output_type": "stream",
       "stream": "stderr",
       "text": [
        "DEBUG:FFC:  Removing unused variable: tt\n"
       ]
      },
      {
       "output_type": "stream",
       "stream": "stderr",
       "text": [
        "DEBUG:FFC:  Removing unused variable: ss\n"
       ]
      },
      {
       "output_type": "stream",
       "stream": "stderr",
       "text": [
        "DEBUG:FFC:  Removing unused variable: rr\n"
       ]
      },
      {
       "output_type": "stream",
       "stream": "stderr",
       "text": [
        "DEBUG:FFC:  Removing unused variable: tmp2\n"
       ]
      },
      {
       "output_type": "stream",
       "stream": "stderr",
       "text": [
        "DEBUG:FFC:  Removing unused variable: tmp1\n"
       ]
      },
      {
       "output_type": "stream",
       "stream": "stderr",
       "text": [
        "DEBUG:FFC:  Removing unused variable: tmp7\n"
       ]
      },
      {
       "output_type": "stream",
       "stream": "stderr",
       "text": [
        "DEBUG:FFC:  Removing unused variable: tmp6\n"
       ]
      },
      {
       "output_type": "stream",
       "stream": "stderr",
       "text": [
        "DEBUG:FFC:  Removing unused variable: tmp5\n"
       ]
      },
      {
       "output_type": "stream",
       "stream": "stderr",
       "text": [
        "DEBUG:FFC:  Removing unused variable: tt\n"
       ]
      },
      {
       "output_type": "stream",
       "stream": "stderr",
       "text": [
        "DEBUG:FFC:  Removing unused variable: ss\n"
       ]
      },
      {
       "output_type": "stream",
       "stream": "stderr",
       "text": [
        "DEBUG:FFC:  Removing unused variable: rr\n"
       ]
      },
      {
       "output_type": "stream",
       "stream": "stderr",
       "text": [
        "DEBUG:FFC:  Removing unused variable: tmp2\n"
       ]
      },
      {
       "output_type": "stream",
       "stream": "stderr",
       "text": [
        "DEBUG:FFC:  Removing unused variable: tmp1\n"
       ]
      },
      {
       "output_type": "stream",
       "stream": "stderr",
       "text": [
        "DEBUG:FFC:  Removing unused variable: tmp7\n"
       ]
      },
      {
       "output_type": "stream",
       "stream": "stderr",
       "text": [
        "DEBUG:FFC:  Removing unused variable: tmp6\n"
       ]
      },
      {
       "output_type": "stream",
       "stream": "stderr",
       "text": [
        "DEBUG:FFC:  Removing unused variable: tmp5\n"
       ]
      },
      {
       "output_type": "stream",
       "stream": "stderr",
       "text": [
        "DEBUG:FFC:  Removing unused variable: tt\n"
       ]
      },
      {
       "output_type": "stream",
       "stream": "stderr",
       "text": [
        "DEBUG:FFC:  Removing unused variable: ss\n"
       ]
      },
      {
       "output_type": "stream",
       "stream": "stderr",
       "text": [
        "DEBUG:FFC:  Removing unused variable: rr\n"
       ]
      },
      {
       "output_type": "stream",
       "stream": "stderr",
       "text": [
        "DEBUG:FFC:  Removing unused variable: tmp2\n"
       ]
      },
      {
       "output_type": "stream",
       "stream": "stderr",
       "text": [
        "DEBUG:FFC:  Removing unused variable: tmp1\n"
       ]
      },
      {
       "output_type": "stream",
       "stream": "stderr",
       "text": [
        "DEBUG:FFC:  Removing unused variable: tmp7\n"
       ]
      },
      {
       "output_type": "stream",
       "stream": "stderr",
       "text": [
        "DEBUG:FFC:  Removing unused variable: tmp6\n"
       ]
      },
      {
       "output_type": "stream",
       "stream": "stderr",
       "text": [
        "DEBUG:FFC:  Removing unused variable: tmp5\n"
       ]
      },
      {
       "output_type": "stream",
       "stream": "stderr",
       "text": [
        "DEBUG:FFC:  Removing unused variable: tt\n"
       ]
      },
      {
       "output_type": "stream",
       "stream": "stderr",
       "text": [
        "DEBUG:FFC:  Removing unused variable: ss\n"
       ]
      },
      {
       "output_type": "stream",
       "stream": "stderr",
       "text": [
        "DEBUG:FFC:  Removing unused variable: rr\n"
       ]
      },
      {
       "output_type": "stream",
       "stream": "stderr",
       "text": [
        "DEBUG:FFC:  Removing unused variable: tmp2\n"
       ]
      },
      {
       "output_type": "stream",
       "stream": "stderr",
       "text": [
        "DEBUG:FFC:  Removing unused variable: tmp1\n"
       ]
      },
      {
       "output_type": "stream",
       "stream": "stderr",
       "text": [
        "DEBUG:FFC:  Removing unused variable: tmp7\n"
       ]
      },
      {
       "output_type": "stream",
       "stream": "stderr",
       "text": [
        "DEBUG:FFC:  Removing unused variable: tmp6\n"
       ]
      },
      {
       "output_type": "stream",
       "stream": "stderr",
       "text": [
        "DEBUG:FFC:  Removing unused variable: tmp5\n"
       ]
      },
      {
       "output_type": "stream",
       "stream": "stderr",
       "text": [
        "DEBUG:FFC:  Removing unused variable: tt\n"
       ]
      },
      {
       "output_type": "stream",
       "stream": "stderr",
       "text": [
        "DEBUG:FFC:  Removing unused variable: ss\n"
       ]
      },
      {
       "output_type": "stream",
       "stream": "stderr",
       "text": [
        "DEBUG:FFC:  Removing unused variable: rr\n"
       ]
      },
      {
       "output_type": "stream",
       "stream": "stderr",
       "text": [
        "DEBUG:FFC:  Removing unused variable: tmp2\n"
       ]
      },
      {
       "output_type": "stream",
       "stream": "stderr",
       "text": [
        "DEBUG:FFC:  Removing unused variable: tmp1\n"
       ]
      },
      {
       "output_type": "stream",
       "stream": "stderr",
       "text": [
        "DEBUG:FFC:  Removing unused variable: tmp0\n"
       ]
      },
      {
       "output_type": "stream",
       "stream": "stderr",
       "text": [
        "DEBUG:FFC:  Removing unused variable: tmp7\n"
       ]
      },
      {
       "output_type": "stream",
       "stream": "stderr",
       "text": [
        "DEBUG:FFC:  Removing unused variable: tmp6\n"
       ]
      },
      {
       "output_type": "stream",
       "stream": "stderr",
       "text": [
        "DEBUG:FFC:  Removing unused variable: tmp5\n"
       ]
      },
      {
       "output_type": "stream",
       "stream": "stderr",
       "text": [
        "DEBUG:FFC:  Removing unused variable: tt\n"
       ]
      },
      {
       "output_type": "stream",
       "stream": "stderr",
       "text": [
        "DEBUG:FFC:  Removing unused variable: ss\n"
       ]
      },
      {
       "output_type": "stream",
       "stream": "stderr",
       "text": [
        "DEBUG:FFC:  Removing unused variable: rr\n"
       ]
      },
      {
       "output_type": "stream",
       "stream": "stderr",
       "text": [
        "DEBUG:FFC:  Removing unused variable: Y\n"
       ]
      },
      {
       "output_type": "stream",
       "stream": "stderr",
       "text": [
        "DEBUG:FFC:  Removing unused variable: X\n"
       ]
      },
      {
       "output_type": "stream",
       "stream": "stderr",
       "text": [
        "DEBUG:FFC:  Removing unused variable: C1\n"
       ]
      },
      {
       "output_type": "stream",
       "stream": "stderr",
       "text": [
        "DEBUG:FFC:  Removing unused variable: C0\n"
       ]
      },
      {
       "output_type": "stream",
       "stream": "stderr",
       "text": [
        "DEBUG:FFC:  Removing unused variable: tmp2\n"
       ]
      },
      {
       "output_type": "stream",
       "stream": "stderr",
       "text": [
        "DEBUG:FFC:  Removing unused variable: tmp1\n"
       ]
      },
      {
       "output_type": "stream",
       "stream": "stderr",
       "text": [
        "DEBUG:FFC:  Removing unused variable: tmp7\n"
       ]
      },
      {
       "output_type": "stream",
       "stream": "stderr",
       "text": [
        "DEBUG:FFC:  Removing unused variable: tmp6\n"
       ]
      },
      {
       "output_type": "stream",
       "stream": "stderr",
       "text": [
        "DEBUG:FFC:  Removing unused variable: tmp5\n"
       ]
      },
      {
       "output_type": "stream",
       "stream": "stderr",
       "text": [
        "DEBUG:FFC:  Removing unused variable: tt\n"
       ]
      },
      {
       "output_type": "stream",
       "stream": "stderr",
       "text": [
        "DEBUG:FFC:  Removing unused variable: ss\n"
       ]
      },
      {
       "output_type": "stream",
       "stream": "stderr",
       "text": [
        "DEBUG:FFC:  Removing unused variable: rr\n"
       ]
      },
      {
       "output_type": "stream",
       "stream": "stderr",
       "text": [
        "DEBUG:FFC:  Removing unused variable: tmp2\n"
       ]
      },
      {
       "output_type": "stream",
       "stream": "stderr",
       "text": [
        "DEBUG:FFC:  Removing unused variable: tmp1\n"
       ]
      },
      {
       "output_type": "stream",
       "stream": "stderr",
       "text": [
        "DEBUG:FFC:  Removing unused variable: tmp7\n"
       ]
      },
      {
       "output_type": "stream",
       "stream": "stderr",
       "text": [
        "DEBUG:FFC:  Removing unused variable: tmp6\n"
       ]
      },
      {
       "output_type": "stream",
       "stream": "stderr",
       "text": [
        "DEBUG:FFC:  Removing unused variable: tmp5\n"
       ]
      },
      {
       "output_type": "stream",
       "stream": "stderr",
       "text": [
        "DEBUG:FFC:  Removing unused variable: tt\n"
       ]
      },
      {
       "output_type": "stream",
       "stream": "stderr",
       "text": [
        "DEBUG:FFC:  Removing unused variable: ss\n"
       ]
      },
      {
       "output_type": "stream",
       "stream": "stderr",
       "text": [
        "DEBUG:FFC:  Removing unused variable: rr\n"
       ]
      },
      {
       "output_type": "stream",
       "stream": "stderr",
       "text": [
        "DEBUG:FFC:  Removing unused variable: tmp2\n"
       ]
      },
      {
       "output_type": "stream",
       "stream": "stderr",
       "text": [
        "DEBUG:FFC:  Removing unused variable: tmp1\n"
       ]
      },
      {
       "output_type": "stream",
       "stream": "stderr",
       "text": [
        "DEBUG:FFC:  Removing unused variable: tmp7\n"
       ]
      },
      {
       "output_type": "stream",
       "stream": "stderr",
       "text": [
        "DEBUG:FFC:  Removing unused variable: tmp6\n"
       ]
      },
      {
       "output_type": "stream",
       "stream": "stderr",
       "text": [
        "DEBUG:FFC:  Removing unused variable: tmp5\n"
       ]
      },
      {
       "output_type": "stream",
       "stream": "stderr",
       "text": [
        "DEBUG:FFC:  Removing unused variable: tt\n"
       ]
      },
      {
       "output_type": "stream",
       "stream": "stderr",
       "text": [
        "DEBUG:FFC:  Removing unused variable: ss\n"
       ]
      },
      {
       "output_type": "stream",
       "stream": "stderr",
       "text": [
        "DEBUG:FFC:  Removing unused variable: rr\n"
       ]
      },
      {
       "output_type": "stream",
       "stream": "stderr",
       "text": [
        "DEBUG:FFC:  Removing unused variable: tmp2\n"
       ]
      },
      {
       "output_type": "stream",
       "stream": "stderr",
       "text": [
        "DEBUG:FFC:  Removing unused variable: tmp1\n"
       ]
      },
      {
       "output_type": "stream",
       "stream": "stderr",
       "text": [
        "DEBUG:FFC:  Removing unused variable: tmp0\n"
       ]
      },
      {
       "output_type": "stream",
       "stream": "stderr",
       "text": [
        "DEBUG:FFC:  Removing unused variable: tmp7\n"
       ]
      },
      {
       "output_type": "stream",
       "stream": "stderr",
       "text": [
        "DEBUG:FFC:  Removing unused variable: tmp6\n"
       ]
      },
      {
       "output_type": "stream",
       "stream": "stderr",
       "text": [
        "DEBUG:FFC:  Removing unused variable: tmp5\n"
       ]
      },
      {
       "output_type": "stream",
       "stream": "stderr",
       "text": [
        "DEBUG:FFC:  Removing unused variable: tt\n"
       ]
      },
      {
       "output_type": "stream",
       "stream": "stderr",
       "text": [
        "DEBUG:FFC:  Removing unused variable: ss\n"
       ]
      },
      {
       "output_type": "stream",
       "stream": "stderr",
       "text": [
        "DEBUG:FFC:  Removing unused variable: rr\n"
       ]
      },
      {
       "output_type": "stream",
       "stream": "stderr",
       "text": [
        "DEBUG:FFC:  Removing unused variable: tmp2\n"
       ]
      },
      {
       "output_type": "stream",
       "stream": "stderr",
       "text": [
        "DEBUG:FFC:  Removing unused variable: tmp1\n"
       ]
      },
      {
       "output_type": "stream",
       "stream": "stderr",
       "text": [
        "DEBUG:FFC:  Removing unused variable: tmp0\n"
       ]
      },
      {
       "output_type": "stream",
       "stream": "stderr",
       "text": [
        "DEBUG:FFC:  Removing unused variable: tmp7\n"
       ]
      },
      {
       "output_type": "stream",
       "stream": "stderr",
       "text": [
        "DEBUG:FFC:  Removing unused variable: tmp6\n"
       ]
      },
      {
       "output_type": "stream",
       "stream": "stderr",
       "text": [
        "DEBUG:FFC:  Removing unused variable: tmp5\n"
       ]
      },
      {
       "output_type": "stream",
       "stream": "stderr",
       "text": [
        "DEBUG:FFC:  Removing unused variable: tt\n"
       ]
      },
      {
       "output_type": "stream",
       "stream": "stderr",
       "text": [
        "DEBUG:FFC:  Removing unused variable: ss\n"
       ]
      },
      {
       "output_type": "stream",
       "stream": "stderr",
       "text": [
        "DEBUG:FFC:  Removing unused variable: rr\n"
       ]
      },
      {
       "output_type": "stream",
       "stream": "stderr",
       "text": [
        "DEBUG:FFC:  Removing unused variable: tmp2\n"
       ]
      },
      {
       "output_type": "stream",
       "stream": "stderr",
       "text": [
        "DEBUG:FFC:  Removing unused variable: tmp1\n"
       ]
      },
      {
       "output_type": "stream",
       "stream": "stderr",
       "text": [
        "DEBUG:FFC:  Removing unused variable: tmp7\n"
       ]
      },
      {
       "output_type": "stream",
       "stream": "stderr",
       "text": [
        "DEBUG:FFC:  Removing unused variable: tmp6\n"
       ]
      },
      {
       "output_type": "stream",
       "stream": "stderr",
       "text": [
        "DEBUG:FFC:  Removing unused variable: tmp5\n"
       ]
      },
      {
       "output_type": "stream",
       "stream": "stderr",
       "text": [
        "DEBUG:FFC:  Removing unused variable: tt\n"
       ]
      },
      {
       "output_type": "stream",
       "stream": "stderr",
       "text": [
        "DEBUG:FFC:  Removing unused variable: ss\n"
       ]
      },
      {
       "output_type": "stream",
       "stream": "stderr",
       "text": [
        "DEBUG:FFC:  Removing unused variable: rr\n"
       ]
      },
      {
       "output_type": "stream",
       "stream": "stderr",
       "text": [
        "DEBUG:FFC:  Removing unused variable: tmp2\n"
       ]
      },
      {
       "output_type": "stream",
       "stream": "stderr",
       "text": [
        "DEBUG:FFC:  Removing unused variable: tmp1\n"
       ]
      },
      {
       "output_type": "stream",
       "stream": "stderr",
       "text": [
        "DEBUG:FFC:  Removing unused variable: tmp7\n"
       ]
      },
      {
       "output_type": "stream",
       "stream": "stderr",
       "text": [
        "DEBUG:FFC:  Removing unused variable: tmp6\n"
       ]
      },
      {
       "output_type": "stream",
       "stream": "stderr",
       "text": [
        "DEBUG:FFC:  Removing unused variable: tmp5\n"
       ]
      },
      {
       "output_type": "stream",
       "stream": "stderr",
       "text": [
        "DEBUG:FFC:  Removing unused variable: tt\n"
       ]
      },
      {
       "output_type": "stream",
       "stream": "stderr",
       "text": [
        "DEBUG:FFC:  Removing unused variable: ss\n"
       ]
      },
      {
       "output_type": "stream",
       "stream": "stderr",
       "text": [
        "DEBUG:FFC:  Removing unused variable: rr\n"
       ]
      },
      {
       "output_type": "stream",
       "stream": "stderr",
       "text": [
        "DEBUG:FFC:  Removing unused variable: tmp2\n"
       ]
      },
      {
       "output_type": "stream",
       "stream": "stderr",
       "text": [
        "DEBUG:FFC:  Removing unused variable: tmp1\n"
       ]
      },
      {
       "output_type": "stream",
       "stream": "stderr",
       "text": [
        "DEBUG:FFC:  Removing unused variable: tmp7\n"
       ]
      },
      {
       "output_type": "stream",
       "stream": "stderr",
       "text": [
        "DEBUG:FFC:  Removing unused variable: tmp6\n"
       ]
      },
      {
       "output_type": "stream",
       "stream": "stderr",
       "text": [
        "DEBUG:FFC:  Removing unused variable: tmp5\n"
       ]
      },
      {
       "output_type": "stream",
       "stream": "stderr",
       "text": [
        "DEBUG:FFC:  Removing unused variable: tt\n"
       ]
      },
      {
       "output_type": "stream",
       "stream": "stderr",
       "text": [
        "DEBUG:FFC:  Removing unused variable: ss\n"
       ]
      },
      {
       "output_type": "stream",
       "stream": "stderr",
       "text": [
        "DEBUG:FFC:  Removing unused variable: rr\n"
       ]
      },
      {
       "output_type": "stream",
       "stream": "stderr",
       "text": [
        "DEBUG:FFC:  Removing unused variable: tmp2\n"
       ]
      },
      {
       "output_type": "stream",
       "stream": "stderr",
       "text": [
        "DEBUG:FFC:  Removing unused variable: tmp1\n"
       ]
      },
      {
       "output_type": "stream",
       "stream": "stderr",
       "text": [
        "DEBUG:FFC:  Removing unused variable: tmp0\n"
       ]
      },
      {
       "output_type": "stream",
       "stream": "stderr",
       "text": [
        "DEBUG:FFC:  Removing unused variable: tmp7\n"
       ]
      },
      {
       "output_type": "stream",
       "stream": "stderr",
       "text": [
        "DEBUG:FFC:  Removing unused variable: tmp6\n"
       ]
      },
      {
       "output_type": "stream",
       "stream": "stderr",
       "text": [
        "DEBUG:FFC:  Removing unused variable: tmp5\n"
       ]
      },
      {
       "output_type": "stream",
       "stream": "stderr",
       "text": [
        "DEBUG:FFC:  Removing unused variable: tt\n"
       ]
      },
      {
       "output_type": "stream",
       "stream": "stderr",
       "text": [
        "DEBUG:FFC:  Removing unused variable: ss\n"
       ]
      },
      {
       "output_type": "stream",
       "stream": "stderr",
       "text": [
        "DEBUG:FFC:  Removing unused variable: rr\n"
       ]
      },
      {
       "output_type": "stream",
       "stream": "stderr",
       "text": [
        "DEBUG:FFC:  Removing unused variable: tmp2\n"
       ]
      },
      {
       "output_type": "stream",
       "stream": "stderr",
       "text": [
        "DEBUG:FFC:  Removing unused variable: tmp1\n"
       ]
      },
      {
       "output_type": "stream",
       "stream": "stderr",
       "text": [
        "DEBUG:FFC:  Removing unused variable: tmp0\n"
       ]
      },
      {
       "output_type": "stream",
       "stream": "stderr",
       "text": [
        "DEBUG:FFC:  Removing unused variable: tmp7\n"
       ]
      },
      {
       "output_type": "stream",
       "stream": "stderr",
       "text": [
        "DEBUG:FFC:  Removing unused variable: tmp6\n"
       ]
      },
      {
       "output_type": "stream",
       "stream": "stderr",
       "text": [
        "DEBUG:FFC:  Removing unused variable: tmp5\n"
       ]
      },
      {
       "output_type": "stream",
       "stream": "stderr",
       "text": [
        "DEBUG:FFC:  Removing unused variable: tt\n"
       ]
      },
      {
       "output_type": "stream",
       "stream": "stderr",
       "text": [
        "DEBUG:FFC:  Removing unused variable: ss\n"
       ]
      },
      {
       "output_type": "stream",
       "stream": "stderr",
       "text": [
        "DEBUG:FFC:  Removing unused variable: rr\n"
       ]
      },
      {
       "output_type": "stream",
       "stream": "stderr",
       "text": [
        "INFO:FFC:  Generating code for 3 dofmap(s)\n"
       ]
      },
      {
       "output_type": "stream",
       "stream": "stderr",
       "text": [
        "INFO:FFC:  Generating code for integrals\n"
       ]
      },
      {
       "output_type": "stream",
       "stream": "stderr",
       "text": [
        "DEBUG:FFC:  Removing unused variable: circumradius\n"
       ]
      },
      {
       "output_type": "stream",
       "stream": "stderr",
       "text": [
        "DEBUG:FFC:  Removing unused variable: v0v1\n"
       ]
      },
      {
       "output_type": "stream",
       "stream": "stderr",
       "text": [
        "DEBUG:FFC:  Removing unused variable: v0v2\n"
       ]
      },
      {
       "output_type": "stream",
       "stream": "stderr",
       "text": [
        "DEBUG:FFC:  Removing unused variable: v1v2\n"
       ]
      },
      {
       "output_type": "stream",
       "stream": "stderr",
       "text": [
        "DEBUG:FFC:  Removing unused variable: volume\n"
       ]
      },
      {
       "output_type": "stream",
       "stream": "stderr",
       "text": [
        "DEBUG:FFC:  Removing unused variable: circumradius\n"
       ]
      },
      {
       "output_type": "stream",
       "stream": "stderr",
       "text": [
        "DEBUG:FFC:  Removing unused variable: v0v1\n"
       ]
      },
      {
       "output_type": "stream",
       "stream": "stderr",
       "text": [
        "DEBUG:FFC:  Removing unused variable: v0v2\n"
       ]
      },
      {
       "output_type": "stream",
       "stream": "stderr",
       "text": [
        "DEBUG:FFC:  Removing unused variable: v1v2\n"
       ]
      },
      {
       "output_type": "stream",
       "stream": "stderr",
       "text": [
        "DEBUG:FFC:  Removing unused variable: volume\n"
       ]
      },
      {
       "output_type": "stream",
       "stream": "stderr",
       "text": [
        "DEBUG:FFC:  Removing unused variable: facet_area\n"
       ]
      },
      {
       "output_type": "stream",
       "stream": "stderr",
       "text": [
        "DEBUG:FFC:  Removing unused variable: n1\n"
       ]
      },
      {
       "output_type": "stream",
       "stream": "stderr",
       "text": [
        "DEBUG:FFC:  Removing unused variable: n0\n"
       ]
      },
      {
       "output_type": "stream",
       "stream": "stderr",
       "text": [
        "DEBUG:FFC:  Removing unused variable: direction\n"
       ]
      },
      {
       "output_type": "stream",
       "stream": "stderr",
       "text": [
        "INFO:FFC:  Generating code for forms\n"
       ]
      },
      {
       "output_type": "stream",
       "stream": "stderr",
       "text": [
        "INFO:FFC:  \n"
       ]
      },
      {
       "output_type": "stream",
       "stream": "stderr",
       "text": [
        "INFO:FFC:Compiler stage 4 finished in 0.1276 seconds.\n",
        "\n"
       ]
      },
      {
       "output_type": "stream",
       "stream": "stderr",
       "text": [
        "INFO:FFC:Compiler stage 4.1 finished in 5.00679e-06 seconds.\n",
        "\n"
       ]
      },
      {
       "output_type": "stream",
       "stream": "stderr",
       "text": [
        "INFO:FFC:Compiler stage 5: Formatting code\n"
       ]
      },
      {
       "output_type": "stream",
       "stream": "stderr",
       "text": [
        "INFO:FFC:---------------------------------\n"
       ]
      },
      {
       "output_type": "stream",
       "stream": "stderr",
       "text": [
        "INFO:FFC:  Output written to ./ffc_form_5df151c539d4aa8dc1b9b0093daa4286c9a9226e.h.\n"
       ]
      },
      {
       "output_type": "stream",
       "stream": "stderr",
       "text": [
        "INFO:FFC:  \n"
       ]
      },
      {
       "output_type": "stream",
       "stream": "stderr",
       "text": [
        "INFO:FFC:Compiler stage 5 finished in 0.00199509 seconds.\n",
        "\n"
       ]
      },
      {
       "output_type": "stream",
       "stream": "stderr",
       "text": [
        "INFO:FFC:\u001b[1;37;32mFFC finished in 0.344263 seconds.\u001b[0m\n"
       ]
      },
      {
       "output_type": "stream",
       "stream": "stderr",
       "text": [
        "DEBUG:FFC:Compiling and linking Python extension module, this may take some time.\n"
       ]
      },
      {
       "output_type": "stream",
       "stream": "stdout",
       "text": [
        "Calling FFC just-in-time (JIT) compiler, this may take some time.\n"
       ]
      },
      {
       "output_type": "stream",
       "stream": "stderr",
       "text": [
        "Level 25:FFC:Calling FFC just-in-time (JIT) compiler, this may take some time.\n"
       ]
      },
      {
       "output_type": "stream",
       "stream": "stderr",
       "text": [
        "INFO:FFC:Compiling form ffc_form_ae7f7af3314a77a487982ed370d152e011be3ad3\n",
        "\n"
       ]
      },
      {
       "output_type": "stream",
       "stream": "stderr",
       "text": [
        "INFO:FFC:Compiler stage 1: Analyzing form(s)\n"
       ]
      },
      {
       "output_type": "stream",
       "stream": "stderr",
       "text": [
        "INFO:FFC:-----------------------------------\n"
       ]
      },
      {
       "output_type": "stream",
       "stream": "stderr",
       "text": [
        "INFO:UFL:Adjusting missing element domain to <Domain built from <triangle cell in 2D> with label dolfin_mesh_with_id_3538>.\n"
       ]
      },
      {
       "output_type": "stream",
       "stream": "stderr",
       "text": [
        "INFO:UFL:Adjusting missing element domain to <Domain built from <triangle cell in 2D> with label dolfin_mesh_with_id_3538>.\n"
       ]
      },
      {
       "output_type": "stream",
       "stream": "stderr",
       "text": [
        "INFO:FFC:  \n"
       ]
      },
      {
       "output_type": "stream",
       "stream": "stderr",
       "text": [
        "INFO:FFC:  Geometric dimension:                 2\n",
        "  Number of cell subdomains:           0\n",
        "  Number of exterior_facet subdomains: 11\n",
        "  Rank:                                2\n",
        "  Arguments:                           '(v_0, v_1)'\n",
        "  Number of coefficients:              2\n",
        "  Coefficients:                        '[f_387, f_3557]'\n",
        "  Unique elements:                     'Mixed<CG1(?), R0(?), R0(?)>, R0(?)'\n",
        "  Unique sub elements:                 'Mixed<CG1(?), R0(?), R0(?)>, R0(?), CG1(?)'\n",
        "  \n"
       ]
      },
      {
       "output_type": "stream",
       "stream": "stderr",
       "text": [
        "INFO:FFC:  Extracting monomial form representation from UFL form\n"
       ]
      },
      {
       "output_type": "stream",
       "stream": "stderr",
       "text": [
        "DEBUG:FFC:  Monomial extraction failed: No handler defined for expression Division.\n"
       ]
      },
      {
       "output_type": "stream",
       "stream": "stderr",
       "text": [
        "DEBUG:FFC:  Estimated cost of tensor representation: -1\n"
       ]
      },
      {
       "output_type": "stream",
       "stream": "stderr",
       "text": [
        "INFO:FFC:  representation:    auto --> quadrature\n"
       ]
      },
      {
       "output_type": "stream",
       "stream": "stderr",
       "text": [
        "DEBUG:FFC:  Selecting quadrature degree based on total polynomial degree of integrand: 2\n"
       ]
      },
      {
       "output_type": "stream",
       "stream": "stderr",
       "text": [
        "INFO:FFC:  quadrature_degree: auto --> 2\n"
       ]
      },
      {
       "output_type": "stream",
       "stream": "stderr",
       "text": [
        "INFO:FFC:  quadrature_rule:   auto --> default\n"
       ]
      },
      {
       "output_type": "stream",
       "stream": "stderr",
       "text": [
        "INFO:FFC:  Extracting monomial form representation from UFL form\n"
       ]
      },
      {
       "output_type": "stream",
       "stream": "stderr",
       "text": [
        "DEBUG:FFC:  Monomial extraction failed: No handler defined for expression Division.\n"
       ]
      },
      {
       "output_type": "stream",
       "stream": "stderr",
       "text": [
        "DEBUG:FFC:  Estimated cost of tensor representation: -1\n"
       ]
      },
      {
       "output_type": "stream",
       "stream": "stderr",
       "text": [
        "INFO:FFC:  representation:    auto --> quadrature\n"
       ]
      },
      {
       "output_type": "stream",
       "stream": "stderr",
       "text": [
        "DEBUG:FFC:  Selecting quadrature degree based on total polynomial degree of integrand: 2\n"
       ]
      },
      {
       "output_type": "stream",
       "stream": "stderr",
       "text": [
        "INFO:FFC:  quadrature_degree: auto --> 2\n"
       ]
      },
      {
       "output_type": "stream",
       "stream": "stderr",
       "text": [
        "INFO:FFC:  quadrature_rule:   auto --> default\n"
       ]
      },
      {
       "output_type": "stream",
       "stream": "stderr",
       "text": [
        "INFO:FFC:  \n"
       ]
      },
      {
       "output_type": "stream",
       "stream": "stderr",
       "text": [
        "INFO:FFC:Compiler stage 1 finished in 0.0578561 seconds.\n",
        "\n"
       ]
      },
      {
       "output_type": "stream",
       "stream": "stderr",
       "text": [
        "INFO:FFC:Compiler stage 2: Computing intermediate representation\n"
       ]
      },
      {
       "output_type": "stream",
       "stream": "stderr",
       "text": [
        "INFO:FFC:-------------------------------------------------------\n"
       ]
      },
      {
       "output_type": "stream",
       "stream": "stderr",
       "text": [
        "INFO:FFC:  Computing representation of 3 elements\n"
       ]
      },
      {
       "output_type": "stream",
       "stream": "stderr",
       "text": [
        "DEBUG:FFC:  Reusing element from cache\n"
       ]
      },
      {
       "output_type": "stream",
       "stream": "stderr",
       "text": [
        "DEBUG:FFC:  Reusing element from cache\n"
       ]
      },
      {
       "output_type": "stream",
       "stream": "stderr",
       "text": [
        "DEBUG:FFC:  Reusing element from cache\n"
       ]
      },
      {
       "output_type": "stream",
       "stream": "stderr",
       "text": [
        "DEBUG:FFC:  Reusing element from cache\n"
       ]
      },
      {
       "output_type": "stream",
       "stream": "stderr",
       "text": [
        "DEBUG:FFC:  Reusing element from cache\n"
       ]
      },
      {
       "output_type": "stream",
       "stream": "stderr",
       "text": [
        "DEBUG:FFC:  Reusing element from cache\n"
       ]
      },
      {
       "output_type": "stream",
       "stream": "stderr",
       "text": [
        "INFO:FFC:  Computing representation of 3 dofmaps\n"
       ]
      },
      {
       "output_type": "stream",
       "stream": "stderr",
       "text": [
        "DEBUG:FFC:  Reusing element from cache\n"
       ]
      },
      {
       "output_type": "stream",
       "stream": "stderr",
       "text": [
        "DEBUG:FFC:  Reusing element from cache\n"
       ]
      },
      {
       "output_type": "stream",
       "stream": "stderr",
       "text": [
        "DEBUG:FFC:  Reusing element from cache\n"
       ]
      },
      {
       "output_type": "stream",
       "stream": "stderr",
       "text": [
        "INFO:FFC:  Computing representation of integrals\n"
       ]
      },
      {
       "output_type": "stream",
       "stream": "stderr",
       "text": [
        "INFO:FFC:  Computing quadrature representation\n"
       ]
      },
      {
       "output_type": "stream",
       "stream": "stderr",
       "text": [
        "DEBUG:FFC:  Reusing element from cache\n"
       ]
      },
      {
       "output_type": "stream",
       "stream": "stderr",
       "text": [
        "DEBUG:FFC:  Reusing element from cache\n"
       ]
      },
      {
       "output_type": "stream",
       "stream": "stderr",
       "text": [
        "DEBUG:FFC:  Reusing element from cache\n"
       ]
      },
      {
       "output_type": "stream",
       "stream": "stderr",
       "text": [
        "DEBUG:FFC:  Reusing element from cache\n"
       ]
      },
      {
       "output_type": "stream",
       "stream": "stderr",
       "text": [
        "DEBUG:FFC:  Reusing element from cache\n"
       ]
      },
      {
       "output_type": "stream",
       "stream": "stderr",
       "text": [
        "DEBUG:FFC:  Reusing element from cache\n"
       ]
      },
      {
       "output_type": "stream",
       "stream": "stderr",
       "text": [
        "DEBUG:FFC:  Reusing element from cache\n"
       ]
      },
      {
       "output_type": "stream",
       "stream": "stderr",
       "text": [
        "DEBUG:FFC:  \n",
        "  QG-utils, psi_tables:\n",
        "  {3: {FiniteElement('Real', Domain(Cell('triangle', 2), label='dolfin_mesh_with_id_3538', data='<data with id 3538>'), 0, quad_scheme=None): {None: {None: {(0, 0): array([[ 1.,  1.,  1.]])}}}, MixedElement(*[FiniteElement('Lagrange', Domain(Cell('triangle', 2), label='dolfin_mesh_with_id_3538', data='<data with id 3538>'), 1, quad_scheme=None), FiniteElement('Real', Domain(Cell('triangle', 2), label='dolfin_mesh_with_id_3538', data='<data with id 3538>'), 0, quad_scheme=None), FiniteElement('Real', Domain(Cell('triangle', 2), label='dolfin_mesh_with_id_3538', data='<data with id 3538>'), 0, quad_scheme=None)], **{'value_shape': (3,) }): {None: {None: {(0, 1): array([[[ -1.00000000e+00,  -1.00000000e+00,  -1.00000000e+00],\n",
        "          [  0.00000000e+00,   0.00000000e+00,   0.00000000e+00],\n",
        "          [  0.00000000e+00,   0.00000000e+00,   0.00000000e+00]],\n",
        "  \n",
        "         [[  8.88178420e-16,   8.88178420e-16,   8.88178420e-16],\n",
        "          [  0.00000000e+00,   0.00000000e+00,   0.00000000e+00],\n",
        "          [  0.00000000e+00,   0.00000000e+00,   0.00000000e+00]],\n",
        "  \n",
        "         [[  1.00000000e+00,   1.00000000e+00,   1.00000000e+00],\n",
        "          [  0.00000000e+00,   0.00000000e+00,   0.00000000e+00],\n",
        "          [  0.00000000e+00,   0.00000000e+00,   0.00000000e+00]],\n",
        "  \n",
        "         [[  0.00000000e+00,   0.00000000e+00,   0.00000000e+00],\n",
        "          [  0.00000000e+00,   0.00000000e+00,   0.00000000e+00],\n",
        "          [  0.00000000e+00,   0.00000000e+00,   0.00000000e+00]],\n",
        "  \n",
        "         [[  0.00000000e+00,   0.00000000e+00,   0.00000000e+00],\n",
        "          [  0.00000000e+00,   0.00000000e+00,   0.00000000e+00],\n",
        "          [  0.00000000e+00,   0.00000000e+00,   0.00000000e+00]]]), (1, 0): array([[[-1., -1., -1.],\n",
        "          [ 0.,  0.,  0.],\n",
        "          [ 0.,  0.,  0.]],\n",
        "  \n",
        "         [[ 1.,  1.,  1.],\n",
        "          [ 0.,  0.,  0.],\n",
        "          [ 0.,  0.,  0.]],\n",
        "  \n",
        "         [[ 0.,  0.,  0.],\n",
        "          [ 0.,  0.,  0.],\n",
        "          [ 0.,  0.,  0.]],\n",
        "  \n",
        "         [[ 0.,  0.,  0.],\n",
        "          [ 0.,  0.,  0.],\n",
        "          [ 0.,  0.,  0.]],\n",
        "  \n",
        "         [[ 0.,  0.,  0.],\n",
        "          [ 0.,  0.,  0.],\n",
        "          [ 0.,  0.,  0.]]]), (0, 0): array([[[ 0.66666667,  0.16666667,  0.16666667],\n",
        "          [ 0.        ,  0.        ,  0.        ],\n",
        "          [ 0.        ,  0.        ,  0.        ]],\n",
        "  \n",
        "         [[ 0.16666667,  0.16666667,  0.66666667],\n",
        "          [ 0.        ,  0.        ,  0.        ],\n",
        "          [ 0.        ,  0.        ,  0.        ]],\n",
        "  \n",
        "         [[ 0.16666667,  0.66666667,  0.16666667],\n",
        "          [ 0.        ,  0.        ,  0.        ],\n",
        "          [ 0.        ,  0.        ,  0.        ]],\n",
        "  \n",
        "         [[ 0.        ,  0.        ,  0.        ],\n",
        "          [ 1.        ,  1.        ,  1.        ],\n",
        "          [ 0.        ,  0.        ,  0.        ]],\n",
        "  \n",
        "         [[ 0.        ,  0.        ,  0.        ],\n",
        "          [ 0.        ,  0.        ,  0.        ],\n",
        "          [ 1.        ,  1.        ,  1.        ]]])}}}, VectorElement('Lagrange', Domain(Cell('triangle', 2), label='dolfin_mesh_with_id_3538', data='<data with id 3538>'), 1, dim=2, quad_scheme=None): {None: {None: {(0, 1): array([[[ -1.00000000e+00,  -1.00000000e+00,  -1.00000000e+00],\n",
        "          [  0.00000000e+00,   0.00000000e+00,   0.00000000e+00]],\n",
        "  \n",
        "         [[  8.88178420e-16,   8.88178420e-16,   8.88178420e-16],\n",
        "          [  0.00000000e+00,   0.00000000e+00,   0.00000000e+00]],\n",
        "  \n",
        "         [[  1.00000000e+00,   1.00000000e+00,   1.00000000e+00],\n",
        "          [  0.00000000e+00,   0.00000000e+00,   0.00000000e+00]],\n",
        "  \n",
        "         [[  0.00000000e+00,   0.00000000e+00,   0.00000000e+00],\n",
        "          [ -1.00000000e+00,  -1.00000000e+00,  -1.00000000e+00]],\n",
        "  \n",
        "         [[  0.00000000e+00,   0.00000000e+00,   0.00000000e+00],\n",
        "          [  8.88178420e-16,   8.88178420e-16,   8.88178420e-16]],\n",
        "  \n",
        "         [[  0.00000000e+00,   0.00000000e+00,   0.00000000e+00],\n",
        "          [  1.00000000e+00,   1.00000000e+00,   1.00000000e+00]]]), (1, 0): array([[[-1., -1., -1.],\n",
        "          [ 0.,  0.,  0.]],\n",
        "  \n",
        "         [[ 1.,  1.,  1.],\n",
        "          [ 0.,  0.,  0.]],\n",
        "  \n",
        "         [[ 0.,  0.,  0.],\n",
        "          [ 0.,  0.,  0.]],\n",
        "  \n",
        "         [[ 0.,  0.,  0.],\n",
        "          [-1., -1., -1.]],\n",
        "  \n",
        "         [[ 0.,  0.,  0.],\n",
        "          [ 1.,  1.,  1.]],\n",
        "  \n",
        "         [[ 0.,  0.,  0.],\n",
        "          [ 0.,  0.,  0.]]]), (0, 0): array([[[ 0.66666667,  0.16666667,  0.16666667],\n",
        "          [ 0.        ,  0.        ,  0.        ]],\n",
        "  \n",
        "         [[ 0.16666667,  0.16666667,  0.66666667],\n",
        "          [ 0.        ,  0.        ,  0.        ]],\n",
        "  \n",
        "         [[ 0.16666667,  0.66666667,  0.16666667],\n",
        "          [ 0.        ,  0.        ,  0.        ]],\n",
        "  \n",
        "         [[ 0.        ,  0.        ,  0.        ],\n",
        "          [ 0.66666667,  0.16666667,  0.16666667]],\n",
        "  \n",
        "         [[ 0.        ,  0.        ,  0.        ],\n",
        "          [ 0.16666667,  0.16666667,  0.66666667]],\n",
        "  \n",
        "         [[ 0.        ,  0.        ,  0.        ],\n",
        "          [ 0.16666667,  0.66666667,  0.16666667]]])}}}}}\n"
       ]
      },
      {
       "output_type": "stream",
       "stream": "stderr",
       "text": [
        "DEBUG:FFC:  \n",
        "  QG-utils, psi_tables, flat_tables:\n",
        "  {'FE0_C1_D01': array([[  0.00000000e+00,   0.00000000e+00,   0.00000000e+00,\n",
        "           -1.00000000e+00,   8.88178420e-16,   1.00000000e+00],\n",
        "         [  0.00000000e+00,   0.00000000e+00,   0.00000000e+00,\n",
        "           -1.00000000e+00,   8.88178420e-16,   1.00000000e+00],\n",
        "         [  0.00000000e+00,   0.00000000e+00,   0.00000000e+00,\n",
        "           -1.00000000e+00,   8.88178420e-16,   1.00000000e+00]]), 'FE1_C0': array([[ 0.66666667,  0.16666667,  0.16666667,  0.        ,  0.        ],\n",
        "         [ 0.16666667,  0.16666667,  0.66666667,  0.        ,  0.        ],\n",
        "         [ 0.16666667,  0.66666667,  0.16666667,  0.        ,  0.        ]]), 'FE1_C1': array([[ 0.,  0.,  0.,  1.,  0.],\n",
        "         [ 0.,  0.,  0.,  1.,  0.],\n",
        "         [ 0.,  0.,  0.,  1.,  0.]]), 'FE1_C2': array([[ 0.,  0.,  0.,  0.,  1.],\n",
        "         [ 0.,  0.,  0.,  0.,  1.],\n",
        "         [ 0.,  0.,  0.,  0.,  1.]]), 'FE0_C1_D10': array([[ 0.,  0.,  0., -1.,  1.,  0.],\n",
        "         [ 0.,  0.,  0., -1.,  1.,  0.],\n",
        "         [ 0.,  0.,  0., -1.,  1.,  0.]]), 'FE1_C1_D10': array([[ 0.,  0.,  0.,  0.,  0.],\n",
        "         [ 0.,  0.,  0.,  0.,  0.],\n",
        "         [ 0.,  0.,  0.,  0.,  0.]]), 'FE1_C2_D10': array([[ 0.,  0.,  0.,  0.,  0.],\n",
        "         [ 0.,  0.,  0.,  0.,  0.],\n",
        "         [ 0.,  0.,  0.,  0.,  0.]]), 'FE0_C0_D10': array([[-1.,  1.,  0.,  0.,  0.,  0.],\n",
        "         [-1.,  1.,  0.,  0.,  0.,  0.],\n",
        "         [-1.,  1.,  0.,  0.,  0.,  0.]]), 'FE0_C0_D01': array([[ -1.00000000e+00,   8.88178420e-16,   1.00000000e+00,\n",
        "            0.00000000e+00,   0.00000000e+00,   0.00000000e+00],\n",
        "         [ -1.00000000e+00,   8.88178420e-16,   1.00000000e+00,\n",
        "            0.00000000e+00,   0.00000000e+00,   0.00000000e+00],\n",
        "         [ -1.00000000e+00,   8.88178420e-16,   1.00000000e+00,\n",
        "            0.00000000e+00,   0.00000000e+00,   0.00000000e+00]]), 'FE2': array([[ 1.],\n",
        "         [ 1.],\n",
        "         [ 1.]]), 'FE1_C2_D01': array([[ 0.,  0.,  0.,  0.,  0.],\n",
        "         [ 0.,  0.,  0.,  0.,  0.],\n",
        "         [ 0.,  0.,  0.,  0.,  0.]]), 'FE1_C1_D01': array([[ 0.,  0.,  0.,  0.,  0.],\n",
        "         [ 0.,  0.,  0.,  0.,  0.],\n",
        "         [ 0.,  0.,  0.,  0.,  0.]]), 'FE1_C0_D01': array([[ -1.00000000e+00,   8.88178420e-16,   1.00000000e+00,\n",
        "            0.00000000e+00,   0.00000000e+00],\n",
        "         [ -1.00000000e+00,   8.88178420e-16,   1.00000000e+00,\n",
        "            0.00000000e+00,   0.00000000e+00],\n",
        "         [ -1.00000000e+00,   8.88178420e-16,   1.00000000e+00,\n",
        "            0.00000000e+00,   0.00000000e+00]]), 'FE1_C0_D10': array([[-1.,  1.,  0.,  0.,  0.],\n",
        "         [-1.,  1.,  0.,  0.,  0.],\n",
        "         [-1.,  1.,  0.,  0.,  0.]]), 'FE0_C1': array([[ 0.        ,  0.        ,  0.        ,  0.66666667,  0.16666667,\n",
        "           0.16666667],\n",
        "         [ 0.        ,  0.        ,  0.        ,  0.16666667,  0.16666667,\n",
        "           0.66666667],\n",
        "         [ 0.        ,  0.        ,  0.        ,  0.16666667,  0.66666667,\n",
        "           0.16666667]]), 'FE0_C0': array([[ 0.66666667,  0.16666667,  0.16666667,  0.        ,  0.        ,\n",
        "           0.        ],\n",
        "         [ 0.16666667,  0.16666667,  0.66666667,  0.        ,  0.        ,\n",
        "           0.        ],\n",
        "         [ 0.16666667,  0.66666667,  0.16666667,  0.        ,  0.        ,\n",
        "           0.        ]])}\n"
       ]
      },
      {
       "output_type": "stream",
       "stream": "stderr",
       "text": [
        "DEBUG:FFC:  \n",
        "  tables: {'FE0_C1_D01': array([[  0.00000000e+00,   0.00000000e+00,   0.00000000e+00,\n",
        "           -1.00000000e+00,   8.88178420e-16,   1.00000000e+00],\n",
        "         [  0.00000000e+00,   0.00000000e+00,   0.00000000e+00,\n",
        "           -1.00000000e+00,   8.88178420e-16,   1.00000000e+00],\n",
        "         [  0.00000000e+00,   0.00000000e+00,   0.00000000e+00,\n",
        "           -1.00000000e+00,   8.88178420e-16,   1.00000000e+00]]), 'FE1_C0': array([[ 0.66666667,  0.16666667,  0.16666667,  0.        ,  0.        ],\n",
        "         [ 0.16666667,  0.16666667,  0.66666667,  0.        ,  0.        ],\n",
        "         [ 0.16666667,  0.66666667,  0.16666667,  0.        ,  0.        ]]), 'FE1_C1': array([[ 0.,  0.,  0.,  1.,  0.],\n",
        "         [ 0.,  0.,  0.,  1.,  0.],\n",
        "         [ 0.,  0.,  0.,  1.,  0.]]), 'FE1_C2': array([[ 0.,  0.,  0.,  0.,  1.],\n",
        "         [ 0.,  0.,  0.,  0.,  1.],\n",
        "         [ 0.,  0.,  0.,  0.,  1.]]), 'FE0_C1_D10': array([[ 0.,  0.,  0., -1.,  1.,  0.],\n",
        "         [ 0.,  0.,  0., -1.,  1.,  0.],\n",
        "         [ 0.,  0.,  0., -1.,  1.,  0.]]), 'FE0_C0_D10': array([[-1.,  1.,  0.,  0.,  0.,  0.],\n",
        "         [-1.,  1.,  0.,  0.,  0.,  0.],\n",
        "         [-1.,  1.,  0.,  0.,  0.,  0.]]), 'FE0_C0_D01': array([[ -1.00000000e+00,   8.88178420e-16,   1.00000000e+00,\n",
        "            0.00000000e+00,   0.00000000e+00,   0.00000000e+00],\n",
        "         [ -1.00000000e+00,   8.88178420e-16,   1.00000000e+00,\n",
        "            0.00000000e+00,   0.00000000e+00,   0.00000000e+00],\n",
        "         [ -1.00000000e+00,   8.88178420e-16,   1.00000000e+00,\n",
        "            0.00000000e+00,   0.00000000e+00,   0.00000000e+00]]), 'FE2': array([[ 1.],\n",
        "         [ 1.],\n",
        "         [ 1.]]), 'FE1_C1_D01': array([[ 0.,  0.,  0.,  0.,  0.],\n",
        "         [ 0.,  0.,  0.,  0.,  0.],\n",
        "         [ 0.,  0.,  0.,  0.,  0.]]), 'FE1_C0_D01': array([[ -1.00000000e+00,   8.88178420e-16,   1.00000000e+00,\n",
        "            0.00000000e+00,   0.00000000e+00],\n",
        "         [ -1.00000000e+00,   8.88178420e-16,   1.00000000e+00,\n",
        "            0.00000000e+00,   0.00000000e+00],\n",
        "         [ -1.00000000e+00,   8.88178420e-16,   1.00000000e+00,\n",
        "            0.00000000e+00,   0.00000000e+00]]), 'FE1_C0_D10': array([[-1.,  1.,  0.,  0.,  0.],\n",
        "         [-1.,  1.,  0.,  0.,  0.],\n",
        "         [-1.,  1.,  0.,  0.,  0.]]), 'FE0_C1': array([[ 0.        ,  0.        ,  0.        ,  0.66666667,  0.16666667,\n",
        "           0.16666667],\n",
        "         [ 0.        ,  0.        ,  0.        ,  0.16666667,  0.16666667,\n",
        "           0.66666667],\n",
        "         [ 0.        ,  0.        ,  0.        ,  0.16666667,  0.66666667,\n",
        "           0.16666667]]), 'FE0_C0': array([[ 0.66666667,  0.16666667,  0.16666667,  0.        ,  0.        ,\n",
        "           0.        ],\n",
        "         [ 0.16666667,  0.16666667,  0.66666667,  0.        ,  0.        ,\n",
        "           0.        ],\n",
        "         [ 0.16666667,  0.66666667,  0.16666667,  0.        ,  0.        ,\n",
        "           0.        ]])}\n"
       ]
      },
      {
       "output_type": "stream",
       "stream": "stderr",
       "text": [
        "DEBUG:FFC:  \n",
        "  name_map: {'FE1_C1_D01': ['FE1_C1_D10', 'FE1_C2_D01', 'FE1_C2_D10']}\n"
       ]
      },
      {
       "output_type": "stream",
       "stream": "stderr",
       "text": [
        "DEBUG:FFC:  \n",
        "  inv_name_map: {'FE0_C1_D01': 'FE0_C1_D01', 'FE1_C0': 'FE1_C0', 'FE1_C1': 'FE1_C1', 'FE1_C2': 'FE1_C2', 'FE0_C1_D10': 'FE0_C1_D10', 'FE1_C1_D10': 'FE1_C1_D01', 'FE1_C2_D10': 'FE1_C1_D01', 'FE0_C0_D10': 'FE0_C0_D10', 'FE0_C0_D01': 'FE0_C0_D01', 'FE2': 'FE2', 'FE1_C2_D01': 'FE1_C1_D01', 'FE1_C1_D01': 'FE1_C1_D01', 'FE1_C0_D01': 'FE1_C0_D01', 'FE1_C0_D10': 'FE1_C0_D10', 'FE0_C1': 'FE0_C1', 'FE0_C0': 'FE0_C0'}\n"
       ]
      },
      {
       "output_type": "stream",
       "stream": "stderr",
       "text": [
        "DEBUG:FFC:  \n",
        "  QG-utils, psi_tables, unique_tables:\n",
        "  {'FE0_C1_D01': array([[ 0.,  0.,  0., -1.,  0.,  1.],\n",
        "         [ 0.,  0.,  0., -1.,  0.,  1.],\n",
        "         [ 0.,  0.,  0., -1.,  0.,  1.]]), 'FE1_C0': array([[ 0.66666667,  0.16666667,  0.16666667,  0.        ,  0.        ],\n",
        "         [ 0.16666667,  0.16666667,  0.66666667,  0.        ,  0.        ],\n",
        "         [ 0.16666667,  0.66666667,  0.16666667,  0.        ,  0.        ]]), 'FE1_C1': array([[ 0.,  0.,  0.,  1.,  0.],\n",
        "         [ 0.,  0.,  0.,  1.,  0.],\n",
        "         [ 0.,  0.,  0.,  1.,  0.]]), 'FE1_C2': array([[ 0.,  0.,  0.,  0.,  1.],\n",
        "         [ 0.,  0.,  0.,  0.,  1.],\n",
        "         [ 0.,  0.,  0.,  0.,  1.]]), 'FE0_C1_D10': array([[ 0.,  0.,  0., -1.,  1.,  0.],\n",
        "         [ 0.,  0.,  0., -1.,  1.,  0.],\n",
        "         [ 0.,  0.,  0., -1.,  1.,  0.]]), 'FE0_C0_D10': array([[-1.,  1.,  0.,  0.,  0.,  0.],\n",
        "         [-1.,  1.,  0.,  0.,  0.,  0.],\n",
        "         [-1.,  1.,  0.,  0.,  0.,  0.]]), 'FE0_C0_D01': array([[-1.,  0.,  1.,  0.,  0.,  0.],\n",
        "         [-1.,  0.,  1.,  0.,  0.,  0.],\n",
        "         [-1.,  0.,  1.,  0.,  0.,  0.]]), 'FE2': array([[ 1.],\n",
        "         [ 1.],\n",
        "         [ 1.]]), 'FE1_C1_D01': array([[ 0.,  0.,  0.,  0.,  0.],\n",
        "         [ 0.,  0.,  0.,  0.,  0.],\n",
        "         [ 0.,  0.,  0.,  0.,  0.]]), 'FE1_C0_D01': array([[-1.,  0.,  1.,  0.,  0.],\n",
        "         [-1.,  0.,  1.,  0.,  0.],\n",
        "         [-1.,  0.,  1.,  0.,  0.]]), 'FE1_C0_D10': array([[-1.,  1.,  0.,  0.,  0.],\n",
        "         [-1.,  1.,  0.,  0.,  0.],\n",
        "         [-1.,  1.,  0.,  0.,  0.]]), 'FE0_C1': array([[ 0.        ,  0.        ,  0.        ,  0.66666667,  0.16666667,\n",
        "           0.16666667],\n",
        "         [ 0.        ,  0.        ,  0.        ,  0.16666667,  0.16666667,\n",
        "           0.66666667],\n",
        "         [ 0.        ,  0.        ,  0.        ,  0.16666667,  0.66666667,\n",
        "           0.16666667]]), 'FE0_C0': array([[ 0.66666667,  0.16666667,  0.16666667,  0.        ,  0.        ,\n",
        "           0.        ],\n",
        "         [ 0.16666667,  0.16666667,  0.66666667,  0.        ,  0.        ,\n",
        "           0.        ],\n",
        "         [ 0.16666667,  0.66666667,  0.16666667,  0.        ,  0.        ,\n",
        "           0.        ]])}\n"
       ]
      },
      {
       "output_type": "stream",
       "stream": "stderr",
       "text": [
        "DEBUG:FFC:  \n",
        "  QG-utils, psi_tables, name_map:\n",
        "  {'FE0_C1_D01': ('FE0_C1_D01', (), False, False), 'FE1_C0': ('FE1_C0', (), False, False), 'FE1_C1': ('FE1_C1', (), False, False), 'FE1_C2': ('FE1_C2', (), False, False), 'FE0_C1_D10': ('FE0_C1_D10', (), False, False), 'FE1_C1_D10': ('FE1_C1_D01', (), True, False), 'FE1_C2_D10': ('FE1_C1_D01', (), True, False), 'FE0_C0_D10': ('FE0_C0_D10', (), False, False), 'FE0_C0_D01': ('FE0_C0_D01', (), False, False), 'FE2': ('FE2', (), False, True), 'FE1_C2_D01': ('FE1_C1_D01', (), True, False), 'FE1_C1_D01': ('FE1_C1_D01', (), True, False), 'FE1_C0_D01': ('FE1_C0_D01', (), False, False), 'FE1_C0_D10': ('FE1_C0_D10', (), False, False), 'FE0_C1': ('FE0_C1', (), False, False), 'FE0_C0': ('FE0_C0', (), False, False)}\n"
       ]
      },
      {
       "output_type": "stream",
       "stream": "stderr",
       "text": [
        "INFO:FFC:  Transforming cell integral\n"
       ]
      },
      {
       "output_type": "stream",
       "stream": "stderr",
       "text": [
        "DEBUG:FFC:  Reusing element from cache\n"
       ]
      },
      {
       "output_type": "stream",
       "stream": "stderr",
       "text": [
        "DEBUG:FFC:  Reusing element from cache\n"
       ]
      },
      {
       "output_type": "stream",
       "stream": "stderr",
       "text": [
        "DEBUG:FFC:  Reusing element from cache\n"
       ]
      },
      {
       "output_type": "stream",
       "stream": "stderr",
       "text": [
        "DEBUG:FFC:  Reusing element from cache\n"
       ]
      },
      {
       "output_type": "stream",
       "stream": "stderr",
       "text": [
        "DEBUG:FFC:  Reusing element from cache\n"
       ]
      },
      {
       "output_type": "stream",
       "stream": "stderr",
       "text": [
        "DEBUG:FFC:  Reusing element from cache\n"
       ]
      },
      {
       "output_type": "stream",
       "stream": "stderr",
       "text": [
        "DEBUG:FFC:  Reusing element from cache\n"
       ]
      },
      {
       "output_type": "stream",
       "stream": "stderr",
       "text": [
        "DEBUG:FFC:  Reusing element from cache\n"
       ]
      },
      {
       "output_type": "stream",
       "stream": "stderr",
       "text": [
        "DEBUG:FFC:  Reusing element from cache\n"
       ]
      },
      {
       "output_type": "stream",
       "stream": "stderr",
       "text": [
        "DEBUG:FFC:  Reusing element from cache\n"
       ]
      },
      {
       "output_type": "stream",
       "stream": "stderr",
       "text": [
        "DEBUG:FFC:  Reusing element from cache\n"
       ]
      },
      {
       "output_type": "stream",
       "stream": "stderr",
       "text": [
        "DEBUG:FFC:  Reusing element from cache\n"
       ]
      },
      {
       "output_type": "stream",
       "stream": "stderr",
       "text": [
        "DEBUG:FFC:  Reusing element from cache\n"
       ]
      },
      {
       "output_type": "stream",
       "stream": "stderr",
       "text": [
        "DEBUG:FFC:  Reusing element from cache\n"
       ]
      },
      {
       "output_type": "stream",
       "stream": "stderr",
       "text": [
        "DEBUG:FFC:  Reusing element from cache\n"
       ]
      },
      {
       "output_type": "stream",
       "stream": "stderr",
       "text": [
        "DEBUG:FFC:  Reusing element from cache\n"
       ]
      },
      {
       "output_type": "stream",
       "stream": "stderr",
       "text": [
        "DEBUG:FFC:  Reusing element from cache\n"
       ]
      },
      {
       "output_type": "stream",
       "stream": "stderr",
       "text": [
        "DEBUG:FFC:  Reusing element from cache\n"
       ]
      },
      {
       "output_type": "stream",
       "stream": "stderr",
       "text": [
        "DEBUG:FFC:  Reusing element from cache\n"
       ]
      },
      {
       "output_type": "stream",
       "stream": "stderr",
       "text": [
        "DEBUG:FFC:  Reusing element from cache\n"
       ]
      },
      {
       "output_type": "stream",
       "stream": "stderr",
       "text": [
        "DEBUG:FFC:  Reusing element from cache\n"
       ]
      },
      {
       "output_type": "stream",
       "stream": "stderr",
       "text": [
        "DEBUG:FFC:  Reusing element from cache\n"
       ]
      },
      {
       "output_type": "stream",
       "stream": "stderr",
       "text": [
        "DEBUG:FFC:  Reusing element from cache\n"
       ]
      },
      {
       "output_type": "stream",
       "stream": "stderr",
       "text": [
        "DEBUG:FFC:  Reusing element from cache\n"
       ]
      },
      {
       "output_type": "stream",
       "stream": "stderr",
       "text": [
        "DEBUG:FFC:  Reusing element from cache\n"
       ]
      },
      {
       "output_type": "stream",
       "stream": "stderr",
       "text": [
        "DEBUG:FFC:  Reusing element from cache\n"
       ]
      },
      {
       "output_type": "stream",
       "stream": "stderr",
       "text": [
        "DEBUG:FFC:  Reusing element from cache\n"
       ]
      },
      {
       "output_type": "stream",
       "stream": "stderr",
       "text": [
        "INFO:FFC:  Computing quadrature representation\n"
       ]
      },
      {
       "output_type": "stream",
       "stream": "stderr",
       "text": [
        "DEBUG:FFC:  Reusing element from cache\n"
       ]
      },
      {
       "output_type": "stream",
       "stream": "stderr",
       "text": [
        "DEBUG:FFC:  Reusing element from cache\n"
       ]
      },
      {
       "output_type": "stream",
       "stream": "stderr",
       "text": [
        "DEBUG:FFC:  Reusing element from cache\n"
       ]
      },
      {
       "output_type": "stream",
       "stream": "stderr",
       "text": [
        "DEBUG:FFC:  Reusing element from cache\n"
       ]
      },
      {
       "output_type": "stream",
       "stream": "stderr",
       "text": [
        "DEBUG:FFC:  Reusing element from cache\n"
       ]
      },
      {
       "output_type": "stream",
       "stream": "stderr",
       "text": [
        "DEBUG:FFC:  Reusing element from cache\n"
       ]
      },
      {
       "output_type": "stream",
       "stream": "stderr",
       "text": [
        "DEBUG:FFC:  Reusing element from cache\n"
       ]
      },
      {
       "output_type": "stream",
       "stream": "stderr",
       "text": [
        "DEBUG:FFC:  \n",
        "  QG-utils, psi_tables:\n",
        "  {2: {FiniteElement('Real', Domain(Cell('triangle', 2), label='dolfin_mesh_with_id_3538', data='<data with id 3538>'), 0, quad_scheme=None): {None: {0: {(0, 0): array([[ 1.,  1.]])}, 1: {(0, 0): array([[ 1.,  1.]])}, 2: {(0, 0): array([[ 1.,  1.]])}}}, MixedElement(*[FiniteElement('Lagrange', Domain(Cell('triangle', 2), label='dolfin_mesh_with_id_3538', data='<data with id 3538>'), 1, quad_scheme=None), FiniteElement('Real', Domain(Cell('triangle', 2), label='dolfin_mesh_with_id_3538', data='<data with id 3538>'), 0, quad_scheme=None), FiniteElement('Real', Domain(Cell('triangle', 2), label='dolfin_mesh_with_id_3538', data='<data with id 3538>'), 0, quad_scheme=None)], **{'value_shape': (3,) }): {None: {0: {(0, 0): array([[[ -2.08166817e-17,   5.55111512e-17],\n",
        "          [  0.00000000e+00,   0.00000000e+00],\n",
        "          [  0.00000000e+00,   0.00000000e+00]],\n",
        "  \n",
        "         [[  7.88675135e-01,   2.11324865e-01],\n",
        "          [  0.00000000e+00,   0.00000000e+00],\n",
        "          [  0.00000000e+00,   0.00000000e+00]],\n",
        "  \n",
        "         [[  2.11324865e-01,   7.88675135e-01],\n",
        "          [  0.00000000e+00,   0.00000000e+00],\n",
        "          [  0.00000000e+00,   0.00000000e+00]],\n",
        "  \n",
        "         [[  0.00000000e+00,   0.00000000e+00],\n",
        "          [  1.00000000e+00,   1.00000000e+00],\n",
        "          [  0.00000000e+00,   0.00000000e+00]],\n",
        "  \n",
        "         [[  0.00000000e+00,   0.00000000e+00],\n",
        "          [  0.00000000e+00,   0.00000000e+00],\n",
        "          [  1.00000000e+00,   1.00000000e+00]]])}, 1: {(0, 0): array([[[  7.88675135e-01,   2.11324865e-01],\n",
        "          [  0.00000000e+00,   0.00000000e+00],\n",
        "          [  0.00000000e+00,   0.00000000e+00]],\n",
        "  \n",
        "         [[ -2.08166817e-17,   5.55111512e-17],\n",
        "          [  0.00000000e+00,   0.00000000e+00],\n",
        "          [  0.00000000e+00,   0.00000000e+00]],\n",
        "  \n",
        "         [[  2.11324865e-01,   7.88675135e-01],\n",
        "          [  0.00000000e+00,   0.00000000e+00],\n",
        "          [  0.00000000e+00,   0.00000000e+00]],\n",
        "  \n",
        "         [[  0.00000000e+00,   0.00000000e+00],\n",
        "          [  1.00000000e+00,   1.00000000e+00],\n",
        "          [  0.00000000e+00,   0.00000000e+00]],\n",
        "  \n",
        "         [[  0.00000000e+00,   0.00000000e+00],\n",
        "          [  0.00000000e+00,   0.00000000e+00],\n",
        "          [  1.00000000e+00,   1.00000000e+00]]])}, 2: {(0, 0): array([[[ 0.78867513,  0.21132487],\n",
        "          [ 0.        ,  0.        ],\n",
        "          [ 0.        ,  0.        ]],\n",
        "  \n",
        "         [[ 0.21132487,  0.78867513],\n",
        "          [ 0.        ,  0.        ],\n",
        "          [ 0.        ,  0.        ]],\n",
        "  \n",
        "         [[ 0.        ,  0.        ],\n",
        "          [ 0.        ,  0.        ],\n",
        "          [ 0.        ,  0.        ]],\n",
        "  \n",
        "         [[ 0.        ,  0.        ],\n",
        "          [ 1.        ,  1.        ],\n",
        "          [ 0.        ,  0.        ]],\n",
        "  \n",
        "         [[ 0.        ,  0.        ],\n",
        "          [ 0.        ,  0.        ],\n",
        "          [ 1.        ,  1.        ]]])}}}, VectorElement('Lagrange', Domain(Cell('triangle', 2), label='dolfin_mesh_with_id_3538', data='<data with id 3538>'), 1, dim=2, quad_scheme=None): {None: {0: {(0, 1): array([[[ -1.00000000e+00,  -1.00000000e+00],\n",
        "          [  0.00000000e+00,   0.00000000e+00]],\n",
        "  \n",
        "         [[  8.88178420e-16,   8.88178420e-16],\n",
        "          [  0.00000000e+00,   0.00000000e+00]],\n",
        "  \n",
        "         [[  1.00000000e+00,   1.00000000e+00],\n",
        "          [  0.00000000e+00,   0.00000000e+00]],\n",
        "  \n",
        "         [[  0.00000000e+00,   0.00000000e+00],\n",
        "          [ -1.00000000e+00,  -1.00000000e+00]],\n",
        "  \n",
        "         [[  0.00000000e+00,   0.00000000e+00],\n",
        "          [  8.88178420e-16,   8.88178420e-16]],\n",
        "  \n",
        "         [[  0.00000000e+00,   0.00000000e+00],\n",
        "          [  1.00000000e+00,   1.00000000e+00]]]), (1, 0): array([[[-1., -1.],\n",
        "          [ 0.,  0.]],\n",
        "  \n",
        "         [[ 1.,  1.],\n",
        "          [ 0.,  0.]],\n",
        "  \n",
        "         [[ 0.,  0.],\n",
        "          [ 0.,  0.]],\n",
        "  \n",
        "         [[ 0.,  0.],\n",
        "          [-1., -1.]],\n",
        "  \n",
        "         [[ 0.,  0.],\n",
        "          [ 1.,  1.]],\n",
        "  \n",
        "         [[ 0.,  0.],\n",
        "          [ 0.,  0.]]]), (0, 0): array([[[ -2.08166817e-17,   5.55111512e-17],\n",
        "          [  0.00000000e+00,   0.00000000e+00]],\n",
        "  \n",
        "         [[  7.88675135e-01,   2.11324865e-01],\n",
        "          [  0.00000000e+00,   0.00000000e+00]],\n",
        "  \n",
        "         [[  2.11324865e-01,   7.88675135e-01],\n",
        "          [  0.00000000e+00,   0.00000000e+00]],\n",
        "  \n",
        "         [[  0.00000000e+00,   0.00000000e+00],\n",
        "          [ -2.08166817e-17,   5.55111512e-17]],\n",
        "  \n",
        "         [[  0.00000000e+00,   0.00000000e+00],\n",
        "          [  7.88675135e-01,   2.11324865e-01]],\n",
        "  \n",
        "         [[  0.00000000e+00,   0.00000000e+00],\n",
        "          [  2.11324865e-01,   7.88675135e-01]]])}, 1: {(0, 1): array([[[ -1.00000000e+00,  -1.00000000e+00],\n",
        "          [  0.00000000e+00,   0.00000000e+00]],\n",
        "  \n",
        "         [[  8.88178420e-16,   8.88178420e-16],\n",
        "          [  0.00000000e+00,   0.00000000e+00]],\n",
        "  \n",
        "         [[  1.00000000e+00,   1.00000000e+00],\n",
        "          [  0.00000000e+00,   0.00000000e+00]],\n",
        "  \n",
        "         [[  0.00000000e+00,   0.00000000e+00],\n",
        "          [ -1.00000000e+00,  -1.00000000e+00]],\n",
        "  \n",
        "         [[  0.00000000e+00,   0.00000000e+00],\n",
        "          [  8.88178420e-16,   8.88178420e-16]],\n",
        "  \n",
        "         [[  0.00000000e+00,   0.00000000e+00],\n",
        "          [  1.00000000e+00,   1.00000000e+00]]]), (1, 0): array([[[-1., -1.],\n",
        "          [ 0.,  0.]],\n",
        "  \n",
        "         [[ 1.,  1.],\n",
        "          [ 0.,  0.]],\n",
        "  \n",
        "         [[ 0.,  0.],\n",
        "          [ 0.,  0.]],\n",
        "  \n",
        "         [[ 0.,  0.],\n",
        "          [-1., -1.]],\n",
        "  \n",
        "         [[ 0.,  0.],\n",
        "          [ 1.,  1.]],\n",
        "  \n",
        "         [[ 0.,  0.],\n",
        "          [ 0.,  0.]]]), (0, 0): array([[[  7.88675135e-01,   2.11324865e-01],\n",
        "          [  0.00000000e+00,   0.00000000e+00]],\n",
        "  \n",
        "         [[ -2.08166817e-17,   5.55111512e-17],\n",
        "          [  0.00000000e+00,   0.00000000e+00]],\n",
        "  \n",
        "         [[  2.11324865e-01,   7.88675135e-01],\n",
        "          [  0.00000000e+00,   0.00000000e+00]],\n",
        "  \n",
        "         [[  0.00000000e+00,   0.00000000e+00],\n",
        "          [  7.88675135e-01,   2.11324865e-01]],\n",
        "  \n",
        "         [[  0.00000000e+00,   0.00000000e+00],\n",
        "          [ -2.08166817e-17,   5.55111512e-17]],\n",
        "  \n",
        "         [[  0.00000000e+00,   0.00000000e+00],\n",
        "          [  2.11324865e-01,   7.88675135e-01]]])}, 2: {(0, 1): array([[[ -1.00000000e+00,  -1.00000000e+00],\n",
        "          [  0.00000000e+00,   0.00000000e+00]],\n",
        "  \n",
        "         [[  8.88178420e-16,   8.88178420e-16],\n",
        "          [  0.00000000e+00,   0.00000000e+00]],\n",
        "  \n",
        "         [[  1.00000000e+00,   1.00000000e+00],\n",
        "          [  0.00000000e+00,   0.00000000e+00]],\n",
        "  \n",
        "         [[  0.00000000e+00,   0.00000000e+00],\n",
        "          [ -1.00000000e+00,  -1.00000000e+00]],\n",
        "  \n",
        "         [[  0.00000000e+00,   0.00000000e+00],\n",
        "          [  8.88178420e-16,   8.88178420e-16]],\n",
        "  \n",
        "         [[  0.00000000e+00,   0.00000000e+00],\n",
        "          [  1.00000000e+00,   1.00000000e+00]]]), (1, 0): array([[[-1., -1.],\n",
        "          [ 0.,  0.]],\n",
        "  \n",
        "         [[ 1.,  1.],\n",
        "          [ 0.,  0.]],\n",
        "  \n",
        "         [[ 0.,  0.],\n",
        "          [ 0.,  0.]],\n",
        "  \n",
        "         [[ 0.,  0.],\n",
        "          [-1., -1.]],\n",
        "  \n",
        "         [[ 0.,  0.],\n",
        "          [ 1.,  1.]],\n",
        "  \n",
        "         [[ 0.,  0.],\n",
        "          [ 0.,  0.]]]), (0, 0): array([[[ 0.78867513,  0.21132487],\n",
        "          [ 0.        ,  0.        ]],\n",
        "  \n",
        "         [[ 0.21132487,  0.78867513],\n",
        "          [ 0.        ,  0.        ]],\n",
        "  \n",
        "         [[ 0.        ,  0.        ],\n",
        "          [ 0.        ,  0.        ]],\n",
        "  \n",
        "         [[ 0.        ,  0.        ],\n",
        "          [ 0.78867513,  0.21132487]],\n",
        "  \n",
        "         [[ 0.        ,  0.        ],\n",
        "          [ 0.21132487,  0.78867513]],\n",
        "  \n",
        "         [[ 0.        ,  0.        ],\n",
        "          [ 0.        ,  0.        ]]])}}}}}\n"
       ]
      },
      {
       "output_type": "stream",
       "stream": "stderr",
       "text": [
        "DEBUG:FFC:  \n",
        "  QG-utils, psi_tables, flat_tables:\n",
        "  {'FE1_f2_C2': array([[ 0.,  0.,  0.,  0.,  1.],\n",
        "         [ 0.,  0.,  0.,  0.,  1.]]), 'FE0_f0_C0_D01': array([[ -1.00000000e+00,   8.88178420e-16,   1.00000000e+00,\n",
        "            0.00000000e+00,   0.00000000e+00,   0.00000000e+00],\n",
        "         [ -1.00000000e+00,   8.88178420e-16,   1.00000000e+00,\n",
        "            0.00000000e+00,   0.00000000e+00,   0.00000000e+00]]), 'FE1_f2_C0': array([[ 0.78867513,  0.21132487,  0.        ,  0.        ,  0.        ],\n",
        "         [ 0.21132487,  0.78867513,  0.        ,  0.        ,  0.        ]]), 'FE1_f2_C1': array([[ 0.,  0.,  0.,  1.,  0.],\n",
        "         [ 0.,  0.,  0.,  1.,  0.]]), 'FE0_f0_C1': array([[  0.00000000e+00,   0.00000000e+00,   0.00000000e+00,\n",
        "           -2.08166817e-17,   7.88675135e-01,   2.11324865e-01],\n",
        "         [  0.00000000e+00,   0.00000000e+00,   0.00000000e+00,\n",
        "            5.55111512e-17,   2.11324865e-01,   7.88675135e-01]]), 'FE0_f0_C0': array([[ -2.08166817e-17,   7.88675135e-01,   2.11324865e-01,\n",
        "            0.00000000e+00,   0.00000000e+00,   0.00000000e+00],\n",
        "         [  5.55111512e-17,   2.11324865e-01,   7.88675135e-01,\n",
        "            0.00000000e+00,   0.00000000e+00,   0.00000000e+00]]), 'FE0_f0_C1_D01': array([[  0.00000000e+00,   0.00000000e+00,   0.00000000e+00,\n",
        "           -1.00000000e+00,   8.88178420e-16,   1.00000000e+00],\n",
        "         [  0.00000000e+00,   0.00000000e+00,   0.00000000e+00,\n",
        "           -1.00000000e+00,   8.88178420e-16,   1.00000000e+00]]), 'FE0_f2_C0_D10': array([[-1.,  1.,  0.,  0.,  0.,  0.],\n",
        "         [-1.,  1.,  0.,  0.,  0.,  0.]]), 'FE0_f1_C1_D10': array([[ 0.,  0.,  0., -1.,  1.,  0.],\n",
        "         [ 0.,  0.,  0., -1.,  1.,  0.]]), 'FE0_f2_C1_D01': array([[  0.00000000e+00,   0.00000000e+00,   0.00000000e+00,\n",
        "           -1.00000000e+00,   8.88178420e-16,   1.00000000e+00],\n",
        "         [  0.00000000e+00,   0.00000000e+00,   0.00000000e+00,\n",
        "           -1.00000000e+00,   8.88178420e-16,   1.00000000e+00]]), 'FE0_f1_C1_D01': array([[  0.00000000e+00,   0.00000000e+00,   0.00000000e+00,\n",
        "           -1.00000000e+00,   8.88178420e-16,   1.00000000e+00],\n",
        "         [  0.00000000e+00,   0.00000000e+00,   0.00000000e+00,\n",
        "           -1.00000000e+00,   8.88178420e-16,   1.00000000e+00]]), 'FE1_f0_C0': array([[ -2.08166817e-17,   7.88675135e-01,   2.11324865e-01,\n",
        "            0.00000000e+00,   0.00000000e+00],\n",
        "         [  5.55111512e-17,   2.11324865e-01,   7.88675135e-01,\n",
        "            0.00000000e+00,   0.00000000e+00]]), 'FE1_f0_C1': array([[ 0.,  0.,  0.,  1.,  0.],\n",
        "         [ 0.,  0.,  0.,  1.,  0.]]), 'FE1_f0_C2': array([[ 0.,  0.,  0.,  0.,  1.],\n",
        "         [ 0.,  0.,  0.,  0.,  1.]]), 'FE0_f1_C0_D10': array([[-1.,  1.,  0.,  0.,  0.,  0.],\n",
        "         [-1.,  1.,  0.,  0.,  0.,  0.]]), 'FE0_f0_C0_D10': array([[-1.,  1.,  0.,  0.,  0.,  0.],\n",
        "         [-1.,  1.,  0.,  0.,  0.,  0.]]), 'FE0_f2_C1': array([[ 0.        ,  0.        ,  0.        ,  0.78867513,  0.21132487,\n",
        "           0.        ],\n",
        "         [ 0.        ,  0.        ,  0.        ,  0.21132487,  0.78867513,\n",
        "           0.        ]]), 'FE0_f2_C0': array([[ 0.78867513,  0.21132487,  0.        ,  0.        ,  0.        ,\n",
        "           0.        ],\n",
        "         [ 0.21132487,  0.78867513,  0.        ,  0.        ,  0.        ,\n",
        "           0.        ]]), 'FE0_f0_C1_D10': array([[ 0.,  0.,  0., -1.,  1.,  0.],\n",
        "         [ 0.,  0.,  0., -1.,  1.,  0.]]), 'FE0_f1_C0_D01': array([[ -1.00000000e+00,   8.88178420e-16,   1.00000000e+00,\n",
        "            0.00000000e+00,   0.00000000e+00,   0.00000000e+00],\n",
        "         [ -1.00000000e+00,   8.88178420e-16,   1.00000000e+00,\n",
        "            0.00000000e+00,   0.00000000e+00,   0.00000000e+00]]), 'FE2_f2': array([[ 1.],\n",
        "         [ 1.]]), 'FE2_f0': array([[ 1.],\n",
        "         [ 1.]]), 'FE2_f1': array([[ 1.],\n",
        "         [ 1.]]), 'FE0_f2_C0_D01': array([[ -1.00000000e+00,   8.88178420e-16,   1.00000000e+00,\n",
        "            0.00000000e+00,   0.00000000e+00,   0.00000000e+00],\n",
        "         [ -1.00000000e+00,   8.88178420e-16,   1.00000000e+00,\n",
        "            0.00000000e+00,   0.00000000e+00,   0.00000000e+00]]), 'FE0_f1_C0': array([[  7.88675135e-01,  -2.08166817e-17,   2.11324865e-01,\n",
        "            0.00000000e+00,   0.00000000e+00,   0.00000000e+00],\n",
        "         [  2.11324865e-01,   5.55111512e-17,   7.88675135e-01,\n",
        "            0.00000000e+00,   0.00000000e+00,   0.00000000e+00]]), 'FE0_f1_C1': array([[  0.00000000e+00,   0.00000000e+00,   0.00000000e+00,\n",
        "            7.88675135e-01,  -2.08166817e-17,   2.11324865e-01],\n",
        "         [  0.00000000e+00,   0.00000000e+00,   0.00000000e+00,\n",
        "            2.11324865e-01,   5.55111512e-17,   7.88675135e-01]]), 'FE0_f2_C1_D10': array([[ 0.,  0.,  0., -1.,  1.,  0.],\n",
        "         [ 0.,  0.,  0., -1.,  1.,  0.]]), 'FE1_f1_C2': array([[ 0.,  0.,  0.,  0.,  1.],\n",
        "         [ 0.,  0.,  0.,  0.,  1.]]), 'FE1_f1_C1': array([[ 0.,  0.,  0.,  1.,  0.],\n",
        "         [ 0.,  0.,  0.,  1.,  0.]]), 'FE1_f1_C0': array([[  7.88675135e-01,  -2.08166817e-17,   2.11324865e-01,\n",
        "            0.00000000e+00,   0.00000000e+00],\n",
        "         [  2.11324865e-01,   5.55111512e-17,   7.88675135e-01,\n",
        "            0.00000000e+00,   0.00000000e+00]])}\n"
       ]
      },
      {
       "output_type": "stream",
       "stream": "stderr",
       "text": [
        "DEBUG:FFC:  \n",
        "  tables: {'FE0_f0_C0_D01': array([[ -1.00000000e+00,   8.88178420e-16,   1.00000000e+00,\n",
        "            0.00000000e+00,   0.00000000e+00,   0.00000000e+00],\n",
        "         [ -1.00000000e+00,   8.88178420e-16,   1.00000000e+00,\n",
        "            0.00000000e+00,   0.00000000e+00,   0.00000000e+00]]), 'FE1_f2_C0': array([[ 0.78867513,  0.21132487,  0.        ,  0.        ,  0.        ],\n",
        "         [ 0.21132487,  0.78867513,  0.        ,  0.        ,  0.        ]]), 'FE0_f0_C1': array([[  0.00000000e+00,   0.00000000e+00,   0.00000000e+00,\n",
        "           -2.08166817e-17,   7.88675135e-01,   2.11324865e-01],\n",
        "         [  0.00000000e+00,   0.00000000e+00,   0.00000000e+00,\n",
        "            5.55111512e-17,   2.11324865e-01,   7.88675135e-01]]), 'FE0_f0_C0': array([[ -2.08166817e-17,   7.88675135e-01,   2.11324865e-01,\n",
        "            0.00000000e+00,   0.00000000e+00,   0.00000000e+00],\n",
        "         [  5.55111512e-17,   2.11324865e-01,   7.88675135e-01,\n",
        "            0.00000000e+00,   0.00000000e+00,   0.00000000e+00]]), 'FE0_f0_C1_D01': array([[  0.00000000e+00,   0.00000000e+00,   0.00000000e+00,\n",
        "           -1.00000000e+00,   8.88178420e-16,   1.00000000e+00],\n",
        "         [  0.00000000e+00,   0.00000000e+00,   0.00000000e+00,\n",
        "           -1.00000000e+00,   8.88178420e-16,   1.00000000e+00]]), 'FE1_f0_C0': array([[ -2.08166817e-17,   7.88675135e-01,   2.11324865e-01,\n",
        "            0.00000000e+00,   0.00000000e+00],\n",
        "         [  5.55111512e-17,   2.11324865e-01,   7.88675135e-01,\n",
        "            0.00000000e+00,   0.00000000e+00]]), 'FE1_f0_C1': array([[ 0.,  0.,  0.,  1.,  0.],\n",
        "         [ 0.,  0.,  0.,  1.,  0.]]), 'FE1_f0_C2': array([[ 0.,  0.,  0.,  0.,  1.],\n",
        "         [ 0.,  0.,  0.,  0.,  1.]]), 'FE0_f0_C0_D10': array([[-1.,  1.,  0.,  0.,  0.,  0.],\n",
        "         [-1.,  1.,  0.,  0.,  0.,  0.]]), 'FE0_f2_C1': array([[ 0.        ,  0.        ,  0.        ,  0.78867513,  0.21132487,\n",
        "           0.        ],\n",
        "         [ 0.        ,  0.        ,  0.        ,  0.21132487,  0.78867513,\n",
        "           0.        ]]), 'FE0_f2_C0': array([[ 0.78867513,  0.21132487,  0.        ,  0.        ,  0.        ,\n",
        "           0.        ],\n",
        "         [ 0.21132487,  0.78867513,  0.        ,  0.        ,  0.        ,\n",
        "           0.        ]]), 'FE0_f0_C1_D10': array([[ 0.,  0.,  0., -1.,  1.,  0.],\n",
        "         [ 0.,  0.,  0., -1.,  1.,  0.]]), 'FE2_f0': array([[ 1.],\n",
        "         [ 1.]]), 'FE0_f1_C0': array([[  7.88675135e-01,  -2.08166817e-17,   2.11324865e-01,\n",
        "            0.00000000e+00,   0.00000000e+00,   0.00000000e+00],\n",
        "         [  2.11324865e-01,   5.55111512e-17,   7.88675135e-01,\n",
        "            0.00000000e+00,   0.00000000e+00,   0.00000000e+00]]), 'FE0_f1_C1': array([[  0.00000000e+00,   0.00000000e+00,   0.00000000e+00,\n",
        "            7.88675135e-01,  -2.08166817e-17,   2.11324865e-01],\n",
        "         [  0.00000000e+00,   0.00000000e+00,   0.00000000e+00,\n",
        "            2.11324865e-01,   5.55111512e-17,   7.88675135e-01]]), 'FE1_f1_C0': array([[  7.88675135e-01,  -2.08166817e-17,   2.11324865e-01,\n",
        "            0.00000000e+00,   0.00000000e+00],\n",
        "         [  2.11324865e-01,   5.55111512e-17,   7.88675135e-01,\n",
        "            0.00000000e+00,   0.00000000e+00]])}\n"
       ]
      },
      {
       "output_type": "stream",
       "stream": "stderr",
       "text": [
        "DEBUG:FFC:  \n",
        "  name_map: {'FE0_f0_C1_D01': ['FE0_f1_C1_D01', 'FE0_f2_C1_D01'], 'FE0_f0_C1_D10': ['FE0_f1_C1_D10', 'FE0_f2_C1_D10'], 'FE1_f0_C1': ['FE1_f1_C1', 'FE1_f2_C1'], 'FE1_f0_C2': ['FE1_f1_C2', 'FE1_f2_C2'], 'FE2_f0': ['FE2_f1', 'FE2_f2'], 'FE0_f0_C0_D01': ['FE0_f1_C0_D01', 'FE0_f2_C0_D01'], 'FE0_f0_C0_D10': ['FE0_f1_C0_D10', 'FE0_f2_C0_D10']}\n"
       ]
      },
      {
       "output_type": "stream",
       "stream": "stderr",
       "text": [
        "DEBUG:FFC:  \n",
        "  inv_name_map: {'FE1_f2_C2': 'FE1_f0_C2', 'FE0_f0_C0_D01': 'FE0_f0_C0_D01', 'FE1_f2_C0': 'FE1_f2_C0', 'FE1_f2_C1': 'FE1_f0_C1', 'FE0_f0_C1': 'FE0_f0_C1', 'FE0_f0_C0': 'FE0_f0_C0', 'FE0_f1_C1': 'FE0_f1_C1', 'FE0_f1_C0_D10': 'FE0_f0_C0_D10', 'FE0_f2_C0_D10': 'FE0_f0_C0_D10', 'FE0_f1_C1_D10': 'FE0_f0_C1_D10', 'FE0_f2_C1_D01': 'FE0_f0_C1_D01', 'FE1_f0_C0': 'FE1_f0_C0', 'FE1_f0_C1': 'FE1_f0_C1', 'FE1_f0_C2': 'FE1_f0_C2', 'FE0_f0_C1_D01': 'FE0_f0_C1_D01', 'FE0_f0_C0_D10': 'FE0_f0_C0_D10', 'FE0_f2_C1': 'FE0_f2_C1', 'FE0_f2_C0': 'FE0_f2_C0', 'FE0_f0_C1_D10': 'FE0_f0_C1_D10', 'FE0_f1_C0_D01': 'FE0_f0_C0_D01', 'FE2_f2': 'FE2_f0', 'FE2_f0': 'FE2_f0', 'FE2_f1': 'FE2_f0', 'FE0_f2_C0_D01': 'FE0_f0_C0_D01', 'FE0_f1_C0': 'FE0_f1_C0', 'FE0_f1_C1_D01': 'FE0_f0_C1_D01', 'FE0_f2_C1_D10': 'FE0_f0_C1_D10', 'FE1_f1_C2': 'FE1_f0_C2', 'FE1_f1_C1': 'FE1_f0_C1', 'FE1_f1_C0': 'FE1_f1_C0'}\n"
       ]
      },
      {
       "output_type": "stream",
       "stream": "stderr",
       "text": [
        "DEBUG:FFC:  \n",
        "  QG-utils, psi_tables, unique_tables:\n",
        "  {'FE0_f0_C0_D01': array([[-1.,  0.,  1.,  0.,  0.,  0.],\n",
        "         [-1.,  0.,  1.,  0.,  0.,  0.]]), 'FE1_f2_C0': array([[ 0.78867513,  0.21132487,  0.        ,  0.        ,  0.        ],\n",
        "         [ 0.21132487,  0.78867513,  0.        ,  0.        ,  0.        ]]), 'FE0_f0_C1': array([[ 0.        ,  0.        ,  0.        ,  0.        ,  0.78867513,\n",
        "           0.21132487],\n",
        "         [ 0.        ,  0.        ,  0.        ,  0.        ,  0.21132487,\n",
        "           0.78867513]]), 'FE0_f0_C0': array([[ 0.        ,  0.78867513,  0.21132487,  0.        ,  0.        ,\n",
        "           0.        ],\n",
        "         [ 0.        ,  0.21132487,  0.78867513,  0.        ,  0.        ,\n",
        "           0.        ]]), 'FE0_f0_C1_D01': array([[ 0.,  0.,  0., -1.,  0.,  1.],\n",
        "         [ 0.,  0.,  0., -1.,  0.,  1.]]), 'FE1_f0_C0': array([[ 0.        ,  0.78867513,  0.21132487,  0.        ,  0.        ],\n",
        "         [ 0.        ,  0.21132487,  0.78867513,  0.        ,  0.        ]]), 'FE1_f0_C1': array([[ 0.,  0.,  0.,  1.,  0.],\n",
        "         [ 0.,  0.,  0.,  1.,  0.]]), 'FE1_f0_C2': array([[ 0.,  0.,  0.,  0.,  1.],\n",
        "         [ 0.,  0.,  0.,  0.,  1.]]), 'FE0_f0_C0_D10': array([[-1.,  1.,  0.,  0.,  0.,  0.],\n",
        "         [-1.,  1.,  0.,  0.,  0.,  0.]]), 'FE0_f2_C1': array([[ 0.        ,  0.        ,  0.        ,  0.78867513,  0.21132487,\n",
        "           0.        ],\n",
        "         [ 0.        ,  0.        ,  0.        ,  0.21132487,  0.78867513,\n",
        "           0.        ]]), 'FE0_f2_C0': array([[ 0.78867513,  0.21132487,  0.        ,  0.        ,  0.        ,\n",
        "           0.        ],\n",
        "         [ 0.21132487,  0.78867513,  0.        ,  0.        ,  0.        ,\n",
        "           0.        ]]), 'FE0_f0_C1_D10': array([[ 0.,  0.,  0., -1.,  1.,  0.],\n",
        "         [ 0.,  0.,  0., -1.,  1.,  0.]]), 'FE2_f0': array([[ 1.],\n",
        "         [ 1.]]), 'FE0_f1_C0': array([[ 0.78867513,  0.        ,  0.21132487,  0.        ,  0.        ,\n",
        "           0.        ],\n",
        "         [ 0.21132487,  0.        ,  0.78867513,  0.        ,  0.        ,\n",
        "           0.        ]]), 'FE0_f1_C1': array([[ 0.        ,  0.        ,  0.        ,  0.78867513,  0.        ,\n",
        "           0.21132487],\n",
        "         [ 0.        ,  0.        ,  0.        ,  0.21132487,  0.        ,\n",
        "           0.78867513]]), 'FE1_f1_C0': array([[ 0.78867513,  0.        ,  0.21132487,  0.        ,  0.        ],\n",
        "         [ 0.21132487,  0.        ,  0.78867513,  0.        ,  0.        ]])}\n"
       ]
      },
      {
       "output_type": "stream",
       "stream": "stderr",
       "text": [
        "DEBUG:FFC:  \n",
        "  QG-utils, psi_tables, name_map:\n",
        "  {'FE1_f2_C2': ('FE1_f0_C2', (), False, False), 'FE0_f0_C0_D01': ('FE0_f0_C0_D01', (), False, False), 'FE1_f2_C0': ('FE1_f2_C0', (), False, False), 'FE1_f2_C1': ('FE1_f0_C1', (), False, False), 'FE0_f0_C1': ('FE0_f0_C1', (), False, False), 'FE0_f0_C0': ('FE0_f0_C0', (), False, False), 'FE0_f1_C1': ('FE0_f1_C1', (), False, False), 'FE0_f1_C0_D10': ('FE0_f0_C0_D10', (), False, False), 'FE0_f2_C0_D10': ('FE0_f0_C0_D10', (), False, False), 'FE0_f1_C1_D10': ('FE0_f0_C1_D10', (), False, False), 'FE0_f2_C1_D01': ('FE0_f0_C1_D01', (), False, False), 'FE1_f0_C0': ('FE1_f0_C0', (), False, False), 'FE1_f0_C1': ('FE1_f0_C1', (), False, False), 'FE1_f0_C2': ('FE1_f0_C2', (), False, False), 'FE0_f0_C1_D01': ('FE0_f0_C1_D01', (), False, False), 'FE0_f0_C0_D10': ('FE0_f0_C0_D10', (), False, False), 'FE0_f2_C1': ('FE0_f2_C1', (), False, False), 'FE0_f2_C0': ('FE0_f2_C0', (), False, False), 'FE0_f0_C1_D10': ('FE0_f0_C1_D10', (), False, False), 'FE0_f1_C0_D01': ('FE0_f0_C0_D01', (), False, False), 'FE2_f2': ('FE2_f0', (), False, True), 'FE2_f0': ('FE2_f0', (), False, True), 'FE2_f1': ('FE2_f0', (), False, True), 'FE0_f2_C0_D01': ('FE0_f0_C0_D01', (), False, False), 'FE0_f1_C0': ('FE0_f1_C0', (), False, False), 'FE0_f1_C1_D01': ('FE0_f0_C1_D01', (), False, False), 'FE0_f2_C1_D10': ('FE0_f0_C1_D10', (), False, False), 'FE1_f1_C2': ('FE1_f0_C2', (), False, False), 'FE1_f1_C1': ('FE1_f0_C1', (), False, False), 'FE1_f1_C0': ('FE1_f1_C0', (), False, False)}\n"
       ]
      },
      {
       "output_type": "stream",
       "stream": "stderr",
       "text": [
        "INFO:FFC:  Transforming exterior facet integral 0\n"
       ]
      },
      {
       "output_type": "stream",
       "stream": "stderr",
       "text": [
        "DEBUG:FFC:  Reusing element from cache\n"
       ]
      },
      {
       "output_type": "stream",
       "stream": "stderr",
       "text": [
        "DEBUG:FFC:  Reusing element from cache\n"
       ]
      },
      {
       "output_type": "stream",
       "stream": "stderr",
       "text": [
        "DEBUG:FFC:  Reusing element from cache\n"
       ]
      },
      {
       "output_type": "stream",
       "stream": "stderr",
       "text": [
        "DEBUG:FFC:  Reusing element from cache\n"
       ]
      },
      {
       "output_type": "stream",
       "stream": "stderr",
       "text": [
        "DEBUG:FFC:  Reusing element from cache\n"
       ]
      },
      {
       "output_type": "stream",
       "stream": "stderr",
       "text": [
        "DEBUG:FFC:  Reusing element from cache\n"
       ]
      },
      {
       "output_type": "stream",
       "stream": "stderr",
       "text": [
        "DEBUG:FFC:  Reusing element from cache\n"
       ]
      },
      {
       "output_type": "stream",
       "stream": "stderr",
       "text": [
        "DEBUG:FFC:  Reusing element from cache\n"
       ]
      },
      {
       "output_type": "stream",
       "stream": "stderr",
       "text": [
        "DEBUG:FFC:  Reusing element from cache\n"
       ]
      },
      {
       "output_type": "stream",
       "stream": "stderr",
       "text": [
        "DEBUG:FFC:  Reusing element from cache\n"
       ]
      },
      {
       "output_type": "stream",
       "stream": "stderr",
       "text": [
        "INFO:FFC:  Transforming exterior facet integral 1\n"
       ]
      },
      {
       "output_type": "stream",
       "stream": "stderr",
       "text": [
        "DEBUG:FFC:  Reusing element from cache\n"
       ]
      },
      {
       "output_type": "stream",
       "stream": "stderr",
       "text": [
        "DEBUG:FFC:  Reusing element from cache\n"
       ]
      },
      {
       "output_type": "stream",
       "stream": "stderr",
       "text": [
        "DEBUG:FFC:  Reusing element from cache\n"
       ]
      },
      {
       "output_type": "stream",
       "stream": "stderr",
       "text": [
        "DEBUG:FFC:  Reusing element from cache\n"
       ]
      },
      {
       "output_type": "stream",
       "stream": "stderr",
       "text": [
        "DEBUG:FFC:  Reusing element from cache\n"
       ]
      },
      {
       "output_type": "stream",
       "stream": "stderr",
       "text": [
        "DEBUG:FFC:  Reusing element from cache\n"
       ]
      },
      {
       "output_type": "stream",
       "stream": "stderr",
       "text": [
        "DEBUG:FFC:  Reusing element from cache\n"
       ]
      },
      {
       "output_type": "stream",
       "stream": "stderr",
       "text": [
        "DEBUG:FFC:  Reusing element from cache\n"
       ]
      },
      {
       "output_type": "stream",
       "stream": "stderr",
       "text": [
        "DEBUG:FFC:  Reusing element from cache\n"
       ]
      },
      {
       "output_type": "stream",
       "stream": "stderr",
       "text": [
        "DEBUG:FFC:  Reusing element from cache\n"
       ]
      },
      {
       "output_type": "stream",
       "stream": "stderr",
       "text": [
        "INFO:FFC:  Transforming exterior facet integral 2\n"
       ]
      },
      {
       "output_type": "stream",
       "stream": "stderr",
       "text": [
        "DEBUG:FFC:  Reusing element from cache\n"
       ]
      },
      {
       "output_type": "stream",
       "stream": "stderr",
       "text": [
        "DEBUG:FFC:  Reusing element from cache\n"
       ]
      },
      {
       "output_type": "stream",
       "stream": "stderr",
       "text": [
        "DEBUG:FFC:  Reusing element from cache\n"
       ]
      },
      {
       "output_type": "stream",
       "stream": "stderr",
       "text": [
        "DEBUG:FFC:  Reusing element from cache\n"
       ]
      },
      {
       "output_type": "stream",
       "stream": "stderr",
       "text": [
        "DEBUG:FFC:  Reusing element from cache\n"
       ]
      },
      {
       "output_type": "stream",
       "stream": "stderr",
       "text": [
        "DEBUG:FFC:  Reusing element from cache\n"
       ]
      },
      {
       "output_type": "stream",
       "stream": "stderr",
       "text": [
        "DEBUG:FFC:  Reusing element from cache\n"
       ]
      },
      {
       "output_type": "stream",
       "stream": "stderr",
       "text": [
        "DEBUG:FFC:  Reusing element from cache\n"
       ]
      },
      {
       "output_type": "stream",
       "stream": "stderr",
       "text": [
        "DEBUG:FFC:  Reusing element from cache\n"
       ]
      },
      {
       "output_type": "stream",
       "stream": "stderr",
       "text": [
        "DEBUG:FFC:  Reusing element from cache\n"
       ]
      },
      {
       "output_type": "stream",
       "stream": "stderr",
       "text": [
        "DEBUG:FFC:  Reusing element from cache\n"
       ]
      },
      {
       "output_type": "stream",
       "stream": "stderr",
       "text": [
        "DEBUG:FFC:  Reusing element from cache\n"
       ]
      },
      {
       "output_type": "stream",
       "stream": "stderr",
       "text": [
        "DEBUG:FFC:  Reusing element from cache\n"
       ]
      },
      {
       "output_type": "stream",
       "stream": "stderr",
       "text": [
        "INFO:FFC:  Computing representation of forms\n"
       ]
      },
      {
       "output_type": "stream",
       "stream": "stderr",
       "text": [
        "INFO:FFC:  \n"
       ]
      },
      {
       "output_type": "stream",
       "stream": "stderr",
       "text": [
        "INFO:FFC:Compiler stage 2 finished in 0.16655 seconds.\n",
        "\n"
       ]
      },
      {
       "output_type": "stream",
       "stream": "stderr",
       "text": [
        "INFO:FFC:Compiler stage 3: Optimizing intermediate representation\n"
       ]
      },
      {
       "output_type": "stream",
       "stream": "stderr",
       "text": [
        "INFO:FFC:--------------------------------------------------------\n"
       ]
      },
      {
       "output_type": "stream",
       "stream": "stderr",
       "text": [
        "INFO:FFC:  Skipping optimizations, add -O to optimize\n"
       ]
      },
      {
       "output_type": "stream",
       "stream": "stderr",
       "text": [
        "INFO:FFC:  \n"
       ]
      },
      {
       "output_type": "stream",
       "stream": "stderr",
       "text": [
        "INFO:FFC:Compiler stage 3 finished in 0.00131416 seconds.\n",
        "\n"
       ]
      },
      {
       "output_type": "stream",
       "stream": "stderr",
       "text": [
        "INFO:FFC:Compiler stage 4: Generating code\n"
       ]
      },
      {
       "output_type": "stream",
       "stream": "stderr",
       "text": [
        "INFO:FFC:---------------------------------\n"
       ]
      },
      {
       "output_type": "stream",
       "stream": "stderr",
       "text": [
        "INFO:FFC:  Generating code for 3 element(s)\n"
       ]
      },
      {
       "output_type": "stream",
       "stream": "stderr",
       "text": [
        "DEBUG:FFC:  Removing unused variable: tmp2\n"
       ]
      },
      {
       "output_type": "stream",
       "stream": "stderr",
       "text": [
        "DEBUG:FFC:  Removing unused variable: tmp1\n"
       ]
      },
      {
       "output_type": "stream",
       "stream": "stderr",
       "text": [
        "DEBUG:FFC:  Removing unused variable: tmp7\n"
       ]
      },
      {
       "output_type": "stream",
       "stream": "stderr",
       "text": [
        "DEBUG:FFC:  Removing unused variable: tmp6\n"
       ]
      },
      {
       "output_type": "stream",
       "stream": "stderr",
       "text": [
        "DEBUG:FFC:  Removing unused variable: tmp5\n"
       ]
      },
      {
       "output_type": "stream",
       "stream": "stderr",
       "text": [
        "DEBUG:FFC:  Removing unused variable: tt\n"
       ]
      },
      {
       "output_type": "stream",
       "stream": "stderr",
       "text": [
        "DEBUG:FFC:  Removing unused variable: ss\n"
       ]
      },
      {
       "output_type": "stream",
       "stream": "stderr",
       "text": [
        "DEBUG:FFC:  Removing unused variable: rr\n"
       ]
      },
      {
       "output_type": "stream",
       "stream": "stderr",
       "text": [
        "DEBUG:FFC:  Removing unused variable: tmp2\n"
       ]
      },
      {
       "output_type": "stream",
       "stream": "stderr",
       "text": [
        "DEBUG:FFC:  Removing unused variable: tmp1\n"
       ]
      },
      {
       "output_type": "stream",
       "stream": "stderr",
       "text": [
        "DEBUG:FFC:  Removing unused variable: tmp7\n"
       ]
      },
      {
       "output_type": "stream",
       "stream": "stderr",
       "text": [
        "DEBUG:FFC:  Removing unused variable: tmp6\n"
       ]
      },
      {
       "output_type": "stream",
       "stream": "stderr",
       "text": [
        "DEBUG:FFC:  Removing unused variable: tmp5\n"
       ]
      },
      {
       "output_type": "stream",
       "stream": "stderr",
       "text": [
        "DEBUG:FFC:  Removing unused variable: tt\n"
       ]
      },
      {
       "output_type": "stream",
       "stream": "stderr",
       "text": [
        "DEBUG:FFC:  Removing unused variable: ss\n"
       ]
      },
      {
       "output_type": "stream",
       "stream": "stderr",
       "text": [
        "DEBUG:FFC:  Removing unused variable: rr\n"
       ]
      },
      {
       "output_type": "stream",
       "stream": "stderr",
       "text": [
        "DEBUG:FFC:  Removing unused variable: tmp2\n"
       ]
      },
      {
       "output_type": "stream",
       "stream": "stderr",
       "text": [
        "DEBUG:FFC:  Removing unused variable: tmp1\n"
       ]
      },
      {
       "output_type": "stream",
       "stream": "stderr",
       "text": [
        "DEBUG:FFC:  Removing unused variable: tmp7\n"
       ]
      },
      {
       "output_type": "stream",
       "stream": "stderr",
       "text": [
        "DEBUG:FFC:  Removing unused variable: tmp6\n"
       ]
      },
      {
       "output_type": "stream",
       "stream": "stderr",
       "text": [
        "DEBUG:FFC:  Removing unused variable: tmp5\n"
       ]
      },
      {
       "output_type": "stream",
       "stream": "stderr",
       "text": [
        "DEBUG:FFC:  Removing unused variable: tt\n"
       ]
      },
      {
       "output_type": "stream",
       "stream": "stderr",
       "text": [
        "DEBUG:FFC:  Removing unused variable: ss\n"
       ]
      },
      {
       "output_type": "stream",
       "stream": "stderr",
       "text": [
        "DEBUG:FFC:  Removing unused variable: rr\n"
       ]
      },
      {
       "output_type": "stream",
       "stream": "stderr",
       "text": [
        "DEBUG:FFC:  Removing unused variable: tmp2\n"
       ]
      },
      {
       "output_type": "stream",
       "stream": "stderr",
       "text": [
        "DEBUG:FFC:  Removing unused variable: tmp1\n"
       ]
      },
      {
       "output_type": "stream",
       "stream": "stderr",
       "text": [
        "DEBUG:FFC:  Removing unused variable: tmp7\n"
       ]
      },
      {
       "output_type": "stream",
       "stream": "stderr",
       "text": [
        "DEBUG:FFC:  Removing unused variable: tmp6\n"
       ]
      },
      {
       "output_type": "stream",
       "stream": "stderr",
       "text": [
        "DEBUG:FFC:  Removing unused variable: tmp5\n"
       ]
      },
      {
       "output_type": "stream",
       "stream": "stderr",
       "text": [
        "DEBUG:FFC:  Removing unused variable: tt\n"
       ]
      },
      {
       "output_type": "stream",
       "stream": "stderr",
       "text": [
        "DEBUG:FFC:  Removing unused variable: ss\n"
       ]
      },
      {
       "output_type": "stream",
       "stream": "stderr",
       "text": [
        "DEBUG:FFC:  Removing unused variable: rr\n"
       ]
      },
      {
       "output_type": "stream",
       "stream": "stderr",
       "text": [
        "DEBUG:FFC:  Removing unused variable: tmp2\n"
       ]
      },
      {
       "output_type": "stream",
       "stream": "stderr",
       "text": [
        "DEBUG:FFC:  Removing unused variable: tmp1\n"
       ]
      },
      {
       "output_type": "stream",
       "stream": "stderr",
       "text": [
        "DEBUG:FFC:  Removing unused variable: tmp7\n"
       ]
      },
      {
       "output_type": "stream",
       "stream": "stderr",
       "text": [
        "DEBUG:FFC:  Removing unused variable: tmp6\n"
       ]
      },
      {
       "output_type": "stream",
       "stream": "stderr",
       "text": [
        "DEBUG:FFC:  Removing unused variable: tmp5\n"
       ]
      },
      {
       "output_type": "stream",
       "stream": "stderr",
       "text": [
        "DEBUG:FFC:  Removing unused variable: tt\n"
       ]
      },
      {
       "output_type": "stream",
       "stream": "stderr",
       "text": [
        "DEBUG:FFC:  Removing unused variable: ss\n"
       ]
      },
      {
       "output_type": "stream",
       "stream": "stderr",
       "text": [
        "DEBUG:FFC:  Removing unused variable: rr\n"
       ]
      },
      {
       "output_type": "stream",
       "stream": "stderr",
       "text": [
        "DEBUG:FFC:  Removing unused variable: tmp2\n"
       ]
      },
      {
       "output_type": "stream",
       "stream": "stderr",
       "text": [
        "DEBUG:FFC:  Removing unused variable: tmp1\n"
       ]
      },
      {
       "output_type": "stream",
       "stream": "stderr",
       "text": [
        "DEBUG:FFC:  Removing unused variable: tmp7\n"
       ]
      },
      {
       "output_type": "stream",
       "stream": "stderr",
       "text": [
        "DEBUG:FFC:  Removing unused variable: tmp6\n"
       ]
      },
      {
       "output_type": "stream",
       "stream": "stderr",
       "text": [
        "DEBUG:FFC:  Removing unused variable: tmp5\n"
       ]
      },
      {
       "output_type": "stream",
       "stream": "stderr",
       "text": [
        "DEBUG:FFC:  Removing unused variable: tt\n"
       ]
      },
      {
       "output_type": "stream",
       "stream": "stderr",
       "text": [
        "DEBUG:FFC:  Removing unused variable: ss\n"
       ]
      },
      {
       "output_type": "stream",
       "stream": "stderr",
       "text": [
        "DEBUG:FFC:  Removing unused variable: rr\n"
       ]
      },
      {
       "output_type": "stream",
       "stream": "stderr",
       "text": [
        "DEBUG:FFC:  Removing unused variable: tmp2\n"
       ]
      },
      {
       "output_type": "stream",
       "stream": "stderr",
       "text": [
        "DEBUG:FFC:  Removing unused variable: tmp1\n"
       ]
      },
      {
       "output_type": "stream",
       "stream": "stderr",
       "text": [
        "DEBUG:FFC:  Removing unused variable: tmp0\n"
       ]
      },
      {
       "output_type": "stream",
       "stream": "stderr",
       "text": [
        "DEBUG:FFC:  Removing unused variable: tmp7\n"
       ]
      },
      {
       "output_type": "stream",
       "stream": "stderr",
       "text": [
        "DEBUG:FFC:  Removing unused variable: tmp6\n"
       ]
      },
      {
       "output_type": "stream",
       "stream": "stderr",
       "text": [
        "DEBUG:FFC:  Removing unused variable: tmp5\n"
       ]
      },
      {
       "output_type": "stream",
       "stream": "stderr",
       "text": [
        "DEBUG:FFC:  Removing unused variable: tt\n"
       ]
      },
      {
       "output_type": "stream",
       "stream": "stderr",
       "text": [
        "DEBUG:FFC:  Removing unused variable: ss\n"
       ]
      },
      {
       "output_type": "stream",
       "stream": "stderr",
       "text": [
        "DEBUG:FFC:  Removing unused variable: rr\n"
       ]
      },
      {
       "output_type": "stream",
       "stream": "stderr",
       "text": [
        "DEBUG:FFC:  Removing unused variable: Y\n"
       ]
      },
      {
       "output_type": "stream",
       "stream": "stderr",
       "text": [
        "DEBUG:FFC:  Removing unused variable: X\n"
       ]
      },
      {
       "output_type": "stream",
       "stream": "stderr",
       "text": [
        "DEBUG:FFC:  Removing unused variable: C1\n"
       ]
      },
      {
       "output_type": "stream",
       "stream": "stderr",
       "text": [
        "DEBUG:FFC:  Removing unused variable: C0\n"
       ]
      },
      {
       "output_type": "stream",
       "stream": "stderr",
       "text": [
        "DEBUG:FFC:  Removing unused variable: tmp2\n"
       ]
      },
      {
       "output_type": "stream",
       "stream": "stderr",
       "text": [
        "DEBUG:FFC:  Removing unused variable: tmp1\n"
       ]
      },
      {
       "output_type": "stream",
       "stream": "stderr",
       "text": [
        "DEBUG:FFC:  Removing unused variable: tmp7\n"
       ]
      },
      {
       "output_type": "stream",
       "stream": "stderr",
       "text": [
        "DEBUG:FFC:  Removing unused variable: tmp6\n"
       ]
      },
      {
       "output_type": "stream",
       "stream": "stderr",
       "text": [
        "DEBUG:FFC:  Removing unused variable: tmp5\n"
       ]
      },
      {
       "output_type": "stream",
       "stream": "stderr",
       "text": [
        "DEBUG:FFC:  Removing unused variable: tt\n"
       ]
      },
      {
       "output_type": "stream",
       "stream": "stderr",
       "text": [
        "DEBUG:FFC:  Removing unused variable: ss\n"
       ]
      },
      {
       "output_type": "stream",
       "stream": "stderr",
       "text": [
        "DEBUG:FFC:  Removing unused variable: rr\n"
       ]
      },
      {
       "output_type": "stream",
       "stream": "stderr",
       "text": [
        "DEBUG:FFC:  Removing unused variable: tmp2\n"
       ]
      },
      {
       "output_type": "stream",
       "stream": "stderr",
       "text": [
        "DEBUG:FFC:  Removing unused variable: tmp1\n"
       ]
      },
      {
       "output_type": "stream",
       "stream": "stderr",
       "text": [
        "DEBUG:FFC:  Removing unused variable: tmp7\n"
       ]
      },
      {
       "output_type": "stream",
       "stream": "stderr",
       "text": [
        "DEBUG:FFC:  Removing unused variable: tmp6\n"
       ]
      },
      {
       "output_type": "stream",
       "stream": "stderr",
       "text": [
        "DEBUG:FFC:  Removing unused variable: tmp5\n"
       ]
      },
      {
       "output_type": "stream",
       "stream": "stderr",
       "text": [
        "DEBUG:FFC:  Removing unused variable: tt\n"
       ]
      },
      {
       "output_type": "stream",
       "stream": "stderr",
       "text": [
        "DEBUG:FFC:  Removing unused variable: ss\n"
       ]
      },
      {
       "output_type": "stream",
       "stream": "stderr",
       "text": [
        "DEBUG:FFC:  Removing unused variable: rr\n"
       ]
      },
      {
       "output_type": "stream",
       "stream": "stderr",
       "text": [
        "DEBUG:FFC:  Removing unused variable: tmp2\n"
       ]
      },
      {
       "output_type": "stream",
       "stream": "stderr",
       "text": [
        "DEBUG:FFC:  Removing unused variable: tmp1\n"
       ]
      },
      {
       "output_type": "stream",
       "stream": "stderr",
       "text": [
        "DEBUG:FFC:  Removing unused variable: tmp7\n"
       ]
      },
      {
       "output_type": "stream",
       "stream": "stderr",
       "text": [
        "DEBUG:FFC:  Removing unused variable: tmp6\n"
       ]
      },
      {
       "output_type": "stream",
       "stream": "stderr",
       "text": [
        "DEBUG:FFC:  Removing unused variable: tmp5\n"
       ]
      },
      {
       "output_type": "stream",
       "stream": "stderr",
       "text": [
        "DEBUG:FFC:  Removing unused variable: tt\n"
       ]
      },
      {
       "output_type": "stream",
       "stream": "stderr",
       "text": [
        "DEBUG:FFC:  Removing unused variable: ss\n"
       ]
      },
      {
       "output_type": "stream",
       "stream": "stderr",
       "text": [
        "DEBUG:FFC:  Removing unused variable: rr\n"
       ]
      },
      {
       "output_type": "stream",
       "stream": "stderr",
       "text": [
        "DEBUG:FFC:  Removing unused variable: tmp2\n"
       ]
      },
      {
       "output_type": "stream",
       "stream": "stderr",
       "text": [
        "DEBUG:FFC:  Removing unused variable: tmp1\n"
       ]
      },
      {
       "output_type": "stream",
       "stream": "stderr",
       "text": [
        "DEBUG:FFC:  Removing unused variable: tmp0\n"
       ]
      },
      {
       "output_type": "stream",
       "stream": "stderr",
       "text": [
        "DEBUG:FFC:  Removing unused variable: tmp7\n"
       ]
      },
      {
       "output_type": "stream",
       "stream": "stderr",
       "text": [
        "DEBUG:FFC:  Removing unused variable: tmp6\n"
       ]
      },
      {
       "output_type": "stream",
       "stream": "stderr",
       "text": [
        "DEBUG:FFC:  Removing unused variable: tmp5\n"
       ]
      },
      {
       "output_type": "stream",
       "stream": "stderr",
       "text": [
        "DEBUG:FFC:  Removing unused variable: tt\n"
       ]
      },
      {
       "output_type": "stream",
       "stream": "stderr",
       "text": [
        "DEBUG:FFC:  Removing unused variable: ss\n"
       ]
      },
      {
       "output_type": "stream",
       "stream": "stderr",
       "text": [
        "DEBUG:FFC:  Removing unused variable: rr\n"
       ]
      },
      {
       "output_type": "stream",
       "stream": "stderr",
       "text": [
        "DEBUG:FFC:  Removing unused variable: tmp2\n"
       ]
      },
      {
       "output_type": "stream",
       "stream": "stderr",
       "text": [
        "DEBUG:FFC:  Removing unused variable: tmp1\n"
       ]
      },
      {
       "output_type": "stream",
       "stream": "stderr",
       "text": [
        "DEBUG:FFC:  Removing unused variable: tmp0\n"
       ]
      },
      {
       "output_type": "stream",
       "stream": "stderr",
       "text": [
        "DEBUG:FFC:  Removing unused variable: tmp7\n"
       ]
      },
      {
       "output_type": "stream",
       "stream": "stderr",
       "text": [
        "DEBUG:FFC:  Removing unused variable: tmp6\n"
       ]
      },
      {
       "output_type": "stream",
       "stream": "stderr",
       "text": [
        "DEBUG:FFC:  Removing unused variable: tmp5\n"
       ]
      },
      {
       "output_type": "stream",
       "stream": "stderr",
       "text": [
        "DEBUG:FFC:  Removing unused variable: tt\n"
       ]
      },
      {
       "output_type": "stream",
       "stream": "stderr",
       "text": [
        "DEBUG:FFC:  Removing unused variable: ss\n"
       ]
      },
      {
       "output_type": "stream",
       "stream": "stderr",
       "text": [
        "DEBUG:FFC:  Removing unused variable: rr\n"
       ]
      },
      {
       "output_type": "stream",
       "stream": "stderr",
       "text": [
        "DEBUG:FFC:  Removing unused variable: tmp2\n"
       ]
      },
      {
       "output_type": "stream",
       "stream": "stderr",
       "text": [
        "DEBUG:FFC:  Removing unused variable: tmp1\n"
       ]
      },
      {
       "output_type": "stream",
       "stream": "stderr",
       "text": [
        "DEBUG:FFC:  Removing unused variable: tmp7\n"
       ]
      },
      {
       "output_type": "stream",
       "stream": "stderr",
       "text": [
        "DEBUG:FFC:  Removing unused variable: tmp6\n"
       ]
      },
      {
       "output_type": "stream",
       "stream": "stderr",
       "text": [
        "DEBUG:FFC:  Removing unused variable: tmp5\n"
       ]
      },
      {
       "output_type": "stream",
       "stream": "stderr",
       "text": [
        "DEBUG:FFC:  Removing unused variable: tt\n"
       ]
      },
      {
       "output_type": "stream",
       "stream": "stderr",
       "text": [
        "DEBUG:FFC:  Removing unused variable: ss\n"
       ]
      },
      {
       "output_type": "stream",
       "stream": "stderr",
       "text": [
        "DEBUG:FFC:  Removing unused variable: rr\n"
       ]
      },
      {
       "output_type": "stream",
       "stream": "stderr",
       "text": [
        "DEBUG:FFC:  Removing unused variable: tmp2\n"
       ]
      },
      {
       "output_type": "stream",
       "stream": "stderr",
       "text": [
        "DEBUG:FFC:  Removing unused variable: tmp1\n"
       ]
      },
      {
       "output_type": "stream",
       "stream": "stderr",
       "text": [
        "DEBUG:FFC:  Removing unused variable: tmp7\n"
       ]
      },
      {
       "output_type": "stream",
       "stream": "stderr",
       "text": [
        "DEBUG:FFC:  Removing unused variable: tmp6\n"
       ]
      },
      {
       "output_type": "stream",
       "stream": "stderr",
       "text": [
        "DEBUG:FFC:  Removing unused variable: tmp5\n"
       ]
      },
      {
       "output_type": "stream",
       "stream": "stderr",
       "text": [
        "DEBUG:FFC:  Removing unused variable: tt\n"
       ]
      },
      {
       "output_type": "stream",
       "stream": "stderr",
       "text": [
        "DEBUG:FFC:  Removing unused variable: ss\n"
       ]
      },
      {
       "output_type": "stream",
       "stream": "stderr",
       "text": [
        "DEBUG:FFC:  Removing unused variable: rr\n"
       ]
      },
      {
       "output_type": "stream",
       "stream": "stderr",
       "text": [
        "DEBUG:FFC:  Removing unused variable: tmp2\n"
       ]
      },
      {
       "output_type": "stream",
       "stream": "stderr",
       "text": [
        "DEBUG:FFC:  Removing unused variable: tmp1\n"
       ]
      },
      {
       "output_type": "stream",
       "stream": "stderr",
       "text": [
        "DEBUG:FFC:  Removing unused variable: tmp7\n"
       ]
      },
      {
       "output_type": "stream",
       "stream": "stderr",
       "text": [
        "DEBUG:FFC:  Removing unused variable: tmp6\n"
       ]
      },
      {
       "output_type": "stream",
       "stream": "stderr",
       "text": [
        "DEBUG:FFC:  Removing unused variable: tmp5\n"
       ]
      },
      {
       "output_type": "stream",
       "stream": "stderr",
       "text": [
        "DEBUG:FFC:  Removing unused variable: tt\n"
       ]
      },
      {
       "output_type": "stream",
       "stream": "stderr",
       "text": [
        "DEBUG:FFC:  Removing unused variable: ss\n"
       ]
      },
      {
       "output_type": "stream",
       "stream": "stderr",
       "text": [
        "DEBUG:FFC:  Removing unused variable: rr\n"
       ]
      },
      {
       "output_type": "stream",
       "stream": "stderr",
       "text": [
        "DEBUG:FFC:  Removing unused variable: tmp2\n"
       ]
      },
      {
       "output_type": "stream",
       "stream": "stderr",
       "text": [
        "DEBUG:FFC:  Removing unused variable: tmp1\n"
       ]
      },
      {
       "output_type": "stream",
       "stream": "stderr",
       "text": [
        "DEBUG:FFC:  Removing unused variable: tmp0\n"
       ]
      },
      {
       "output_type": "stream",
       "stream": "stderr",
       "text": [
        "DEBUG:FFC:  Removing unused variable: tmp7\n"
       ]
      },
      {
       "output_type": "stream",
       "stream": "stderr",
       "text": [
        "DEBUG:FFC:  Removing unused variable: tmp6\n"
       ]
      },
      {
       "output_type": "stream",
       "stream": "stderr",
       "text": [
        "DEBUG:FFC:  Removing unused variable: tmp5\n"
       ]
      },
      {
       "output_type": "stream",
       "stream": "stderr",
       "text": [
        "DEBUG:FFC:  Removing unused variable: tt\n"
       ]
      },
      {
       "output_type": "stream",
       "stream": "stderr",
       "text": [
        "DEBUG:FFC:  Removing unused variable: ss\n"
       ]
      },
      {
       "output_type": "stream",
       "stream": "stderr",
       "text": [
        "DEBUG:FFC:  Removing unused variable: rr\n"
       ]
      },
      {
       "output_type": "stream",
       "stream": "stderr",
       "text": [
        "DEBUG:FFC:  Removing unused variable: tmp2\n"
       ]
      },
      {
       "output_type": "stream",
       "stream": "stderr",
       "text": [
        "DEBUG:FFC:  Removing unused variable: tmp1\n"
       ]
      },
      {
       "output_type": "stream",
       "stream": "stderr",
       "text": [
        "DEBUG:FFC:  Removing unused variable: tmp0\n"
       ]
      },
      {
       "output_type": "stream",
       "stream": "stderr",
       "text": [
        "DEBUG:FFC:  Removing unused variable: tmp7\n"
       ]
      },
      {
       "output_type": "stream",
       "stream": "stderr",
       "text": [
        "DEBUG:FFC:  Removing unused variable: tmp6\n"
       ]
      },
      {
       "output_type": "stream",
       "stream": "stderr",
       "text": [
        "DEBUG:FFC:  Removing unused variable: tmp5\n"
       ]
      },
      {
       "output_type": "stream",
       "stream": "stderr",
       "text": [
        "DEBUG:FFC:  Removing unused variable: tt\n"
       ]
      },
      {
       "output_type": "stream",
       "stream": "stderr",
       "text": [
        "DEBUG:FFC:  Removing unused variable: ss\n"
       ]
      },
      {
       "output_type": "stream",
       "stream": "stderr",
       "text": [
        "DEBUG:FFC:  Removing unused variable: rr\n"
       ]
      },
      {
       "output_type": "stream",
       "stream": "stderr",
       "text": [
        "INFO:FFC:  Generating code for 3 dofmap(s)\n"
       ]
      },
      {
       "output_type": "stream",
       "stream": "stderr",
       "text": [
        "INFO:FFC:  Generating code for integrals\n"
       ]
      },
      {
       "output_type": "stream",
       "stream": "stderr",
       "text": [
        "DEBUG:FFC:  Removing unused variable: circumradius\n"
       ]
      },
      {
       "output_type": "stream",
       "stream": "stderr",
       "text": [
        "DEBUG:FFC:  Removing unused variable: v0v1\n"
       ]
      },
      {
       "output_type": "stream",
       "stream": "stderr",
       "text": [
        "DEBUG:FFC:  Removing unused variable: v0v2\n"
       ]
      },
      {
       "output_type": "stream",
       "stream": "stderr",
       "text": [
        "DEBUG:FFC:  Removing unused variable: v1v2\n"
       ]
      },
      {
       "output_type": "stream",
       "stream": "stderr",
       "text": [
        "DEBUG:FFC:  Removing unused variable: volume\n"
       ]
      },
      {
       "output_type": "stream",
       "stream": "stderr",
       "text": [
        "DEBUG:FFC:  Removing unused variable: circumradius\n"
       ]
      },
      {
       "output_type": "stream",
       "stream": "stderr",
       "text": [
        "DEBUG:FFC:  Removing unused variable: v0v1\n"
       ]
      },
      {
       "output_type": "stream",
       "stream": "stderr",
       "text": [
        "DEBUG:FFC:  Removing unused variable: v0v2\n"
       ]
      },
      {
       "output_type": "stream",
       "stream": "stderr",
       "text": [
        "DEBUG:FFC:  Removing unused variable: v1v2\n"
       ]
      },
      {
       "output_type": "stream",
       "stream": "stderr",
       "text": [
        "DEBUG:FFC:  Removing unused variable: volume\n"
       ]
      },
      {
       "output_type": "stream",
       "stream": "stderr",
       "text": [
        "DEBUG:FFC:  Removing unused variable: facet_area\n"
       ]
      },
      {
       "output_type": "stream",
       "stream": "stderr",
       "text": [
        "DEBUG:FFC:  Removing unused variable: n1\n"
       ]
      },
      {
       "output_type": "stream",
       "stream": "stderr",
       "text": [
        "DEBUG:FFC:  Removing unused variable: n0\n"
       ]
      },
      {
       "output_type": "stream",
       "stream": "stderr",
       "text": [
        "DEBUG:FFC:  Removing unused variable: direction\n"
       ]
      },
      {
       "output_type": "stream",
       "stream": "stderr",
       "text": [
        "INFO:FFC:  Generating code for forms\n"
       ]
      },
      {
       "output_type": "stream",
       "stream": "stderr",
       "text": [
        "INFO:FFC:  \n"
       ]
      },
      {
       "output_type": "stream",
       "stream": "stderr",
       "text": [
        "INFO:FFC:Compiler stage 4 finished in 0.127651 seconds.\n",
        "\n"
       ]
      },
      {
       "output_type": "stream",
       "stream": "stderr",
       "text": [
        "INFO:FFC:Compiler stage 4.1 finished in 6.91414e-06 seconds.\n",
        "\n"
       ]
      },
      {
       "output_type": "stream",
       "stream": "stderr",
       "text": [
        "INFO:FFC:Compiler stage 5: Formatting code\n"
       ]
      },
      {
       "output_type": "stream",
       "stream": "stderr",
       "text": [
        "INFO:FFC:---------------------------------\n"
       ]
      },
      {
       "output_type": "stream",
       "stream": "stderr",
       "text": [
        "INFO:FFC:  Output written to ./ffc_form_ae7f7af3314a77a487982ed370d152e011be3ad3.h.\n"
       ]
      },
      {
       "output_type": "stream",
       "stream": "stderr",
       "text": [
        "INFO:FFC:  \n"
       ]
      },
      {
       "output_type": "stream",
       "stream": "stderr",
       "text": [
        "INFO:FFC:Compiler stage 5 finished in 0.00208783 seconds.\n",
        "\n"
       ]
      },
      {
       "output_type": "stream",
       "stream": "stderr",
       "text": [
        "INFO:FFC:\u001b[1;37;32mFFC finished in 0.357786 seconds.\u001b[0m\n"
       ]
      },
      {
       "output_type": "stream",
       "stream": "stderr",
       "text": [
        "DEBUG:FFC:Compiling and linking Python extension module, this may take some time.\n"
       ]
      },
      {
       "output_type": "stream",
       "stream": "stderr",
       "text": [
        "DEBUG:FFC:Reusing form from cache.\n"
       ]
      },
      {
       "output_type": "stream",
       "stream": "stderr",
       "text": [
        "DEBUG:FFC:Reusing form from cache.\n"
       ]
      },
      {
       "output_type": "stream",
       "stream": "stderr",
       "text": [
        "DEBUG:FFC:Reusing form from cache.\n"
       ]
      },
      {
       "output_type": "stream",
       "stream": "stderr",
       "text": [
        "DEBUG:FFC:Reusing form from cache.\n"
       ]
      },
      {
       "output_type": "stream",
       "stream": "stderr",
       "text": [
        "DEBUG:FFC:Reusing form from cache.\n"
       ]
      },
      {
       "output_type": "stream",
       "stream": "stderr",
       "text": [
        "DEBUG:FFC:Reusing form from cache.\n"
       ]
      },
      {
       "output_type": "stream",
       "stream": "stderr",
       "text": [
        "DEBUG:FFC:Reusing form from cache.\n"
       ]
      },
      {
       "output_type": "stream",
       "stream": "stderr",
       "text": [
        "DEBUG:FFC:Reusing form from cache.\n"
       ]
      },
      {
       "output_type": "stream",
       "stream": "stderr",
       "text": [
        "DEBUG:FFC:Reusing form from cache.\n"
       ]
      },
      {
       "output_type": "stream",
       "stream": "stderr",
       "text": [
        "DEBUG:FFC:Reusing form from cache.\n"
       ]
      },
      {
       "output_type": "stream",
       "stream": "stderr",
       "text": [
        "DEBUG:FFC:Reusing form from cache.\n"
       ]
      },
      {
       "output_type": "stream",
       "stream": "stderr",
       "text": [
        "DEBUG:FFC:Reusing form from cache.\n"
       ]
      },
      {
       "output_type": "stream",
       "stream": "stderr",
       "text": [
        "DEBUG:FFC:Reusing form from cache.\n"
       ]
      },
      {
       "output_type": "stream",
       "stream": "stderr",
       "text": [
        "DEBUG:FFC:Reusing form from cache.\n"
       ]
      },
      {
       "output_type": "stream",
       "stream": "stderr",
       "text": [
        "DEBUG:FFC:Reusing form from cache.\n"
       ]
      },
      {
       "output_type": "stream",
       "stream": "stderr",
       "text": [
        "DEBUG:FFC:Reusing form from cache.\n"
       ]
      },
      {
       "output_type": "stream",
       "stream": "stderr",
       "text": [
        "DEBUG:FFC:Reusing form from cache.\n"
       ]
      },
      {
       "output_type": "stream",
       "stream": "stderr",
       "text": [
        "DEBUG:FFC:Reusing form from cache.\n"
       ]
      },
      {
       "output_type": "stream",
       "stream": "stderr",
       "text": [
        "DEBUG:FFC:Reusing form from cache.\n"
       ]
      },
      {
       "output_type": "stream",
       "stream": "stderr",
       "text": [
        "DEBUG:FFC:Reusing form from cache.\n"
       ]
      },
      {
       "output_type": "stream",
       "stream": "stdout",
       "text": [
        "###############  0.0\n",
        "cCa_n  9.20506409311 conc  9.20506409311\n",
        "cCaSSL_n  100.712470025 conc  1.00712470025\n",
        "cCaCleft_n  0.182465881841 conc  0.182465881841\n",
        "CONSERVATION: 110.1\n",
        "############### "
       ]
      },
      {
       "output_type": "stream",
       "stream": "stderr",
       "text": [
        "DEBUG:FFC:Reusing form from cache.\n"
       ]
      },
      {
       "output_type": "stream",
       "stream": "stderr",
       "text": [
        "DEBUG:FFC:Reusing form from cache.\n"
       ]
      },
      {
       "output_type": "stream",
       "stream": "stderr",
       "text": [
        "DEBUG:FFC:Reusing form from cache.\n"
       ]
      },
      {
       "output_type": "stream",
       "stream": "stderr",
       "text": [
        "DEBUG:FFC:Reusing form from cache.\n"
       ]
      },
      {
       "output_type": "stream",
       "stream": "stderr",
       "text": [
        "DEBUG:FFC:Reusing form from cache.\n"
       ]
      },
      {
       "output_type": "stream",
       "stream": "stderr",
       "text": [
        "DEBUG:FFC:Reusing form from cache.\n"
       ]
      },
      {
       "output_type": "stream",
       "stream": "stderr",
       "text": [
        "DEBUG:FFC:Reusing form from cache.\n"
       ]
      },
      {
       "output_type": "stream",
       "stream": "stderr",
       "text": [
        "DEBUG:FFC:Reusing form from cache.\n"
       ]
      },
      {
       "output_type": "stream",
       "stream": "stderr",
       "text": [
        "DEBUG:FFC:Reusing form from cache.\n"
       ]
      },
      {
       "output_type": "stream",
       "stream": "stderr",
       "text": [
        "DEBUG:FFC:Reusing form from cache.\n"
       ]
      },
      {
       "output_type": "stream",
       "stream": "stderr",
       "text": [
        "DEBUG:FFC:Reusing form from cache.\n"
       ]
      },
      {
       "output_type": "stream",
       "stream": "stderr",
       "text": [
        "DEBUG:FFC:Reusing form from cache.\n"
       ]
      },
      {
       "output_type": "stream",
       "stream": "stderr",
       "text": [
        "DEBUG:FFC:Reusing form from cache.\n"
       ]
      },
      {
       "output_type": "stream",
       "stream": "stderr",
       "text": [
        "DEBUG:FFC:Reusing form from cache.\n"
       ]
      },
      {
       "output_type": "stream",
       "stream": "stderr",
       "text": [
        "DEBUG:FFC:Reusing form from cache.\n"
       ]
      },
      {
       "output_type": "stream",
       "stream": "stderr",
       "text": [
        "DEBUG:FFC:Reusing form from cache.\n"
       ]
      },
      {
       "output_type": "stream",
       "stream": "stderr",
       "text": [
        "DEBUG:FFC:Reusing form from cache.\n"
       ]
      },
      {
       "output_type": "stream",
       "stream": "stderr",
       "text": [
        "DEBUG:FFC:Reusing form from cache.\n"
       ]
      },
      {
       "output_type": "stream",
       "stream": "stderr",
       "text": [
        "DEBUG:FFC:Reusing form from cache.\n"
       ]
      },
      {
       "output_type": "stream",
       "stream": "stderr",
       "text": [
        "DEBUG:FFC:Reusing form from cache.\n"
       ]
      },
      {
       "output_type": "stream",
       "stream": "stderr",
       "text": [
        "DEBUG:FFC:Reusing form from cache.\n"
       ]
      },
      {
       "output_type": "stream",
       "stream": "stderr",
       "text": [
        "DEBUG:FFC:Reusing form from cache.\n"
       ]
      },
      {
       "output_type": "stream",
       "stream": "stderr",
       "text": [
        "DEBUG:FFC:Reusing form from cache.\n"
       ]
      },
      {
       "output_type": "stream",
       "stream": "stderr",
       "text": [
        "DEBUG:FFC:Reusing form from cache.\n"
       ]
      },
      {
       "output_type": "stream",
       "stream": "stderr",
       "text": [
        "DEBUG:FFC:Reusing form from cache.\n"
       ]
      },
      {
       "output_type": "stream",
       "stream": "stderr",
       "text": [
        "DEBUG:FFC:Reusing form from cache.\n"
       ]
      },
      {
       "output_type": "stream",
       "stream": "stderr",
       "text": [
        "DEBUG:FFC:Reusing form from cache.\n"
       ]
      },
      {
       "output_type": "stream",
       "stream": "stderr",
       "text": [
        "DEBUG:FFC:Reusing form from cache.\n"
       ]
      },
      {
       "output_type": "stream",
       "stream": "stdout",
       "text": [
        " 1.0\n",
        "cCa_n  8.48227377184 conc  8.48227377184\n",
        "cCaSSL_n  101.359702969 conc  1.01359702969\n",
        "cCaCleft_n  0.258023258918 conc  0.258023258918\n",
        "CONSERVATION: 110.1\n",
        "###############  2.0\n",
        "cCa_n  7.82388930735 conc  7.82388930735\n",
        "cCaSSL_n  101.948863309 conc  1.01948863309\n",
        "cCaCleft_n  0.327247383843 conc  0.327247383843\n",
        "CONSERVATION: 110.1\n",
        "############### "
       ]
      },
      {
       "output_type": "stream",
       "stream": "stderr",
       "text": [
        "DEBUG:FFC:Reusing form from cache.\n"
       ]
      },
      {
       "output_type": "stream",
       "stream": "stderr",
       "text": [
        "DEBUG:FFC:Reusing form from cache.\n"
       ]
      },
      {
       "output_type": "stream",
       "stream": "stderr",
       "text": [
        "DEBUG:FFC:Reusing form from cache.\n"
       ]
      },
      {
       "output_type": "stream",
       "stream": "stderr",
       "text": [
        "DEBUG:FFC:Reusing form from cache.\n"
       ]
      },
      {
       "output_type": "stream",
       "stream": "stderr",
       "text": [
        "DEBUG:FFC:Reusing form from cache.\n"
       ]
      },
      {
       "output_type": "stream",
       "stream": "stderr",
       "text": [
        "DEBUG:FFC:Reusing form from cache.\n"
       ]
      },
      {
       "output_type": "stream",
       "stream": "stderr",
       "text": [
        "DEBUG:FFC:Reusing form from cache.\n"
       ]
      },
      {
       "output_type": "stream",
       "stream": "stderr",
       "text": [
        "DEBUG:FFC:Reusing form from cache.\n"
       ]
      },
      {
       "output_type": "stream",
       "stream": "stderr",
       "text": [
        "DEBUG:FFC:Reusing form from cache.\n"
       ]
      },
      {
       "output_type": "stream",
       "stream": "stderr",
       "text": [
        "DEBUG:FFC:Reusing form from cache.\n"
       ]
      },
      {
       "output_type": "stream",
       "stream": "stderr",
       "text": [
        "DEBUG:FFC:Reusing form from cache.\n"
       ]
      },
      {
       "output_type": "stream",
       "stream": "stderr",
       "text": [
        "DEBUG:FFC:Reusing form from cache.\n"
       ]
      },
      {
       "output_type": "stream",
       "stream": "stderr",
       "text": [
        "DEBUG:FFC:Reusing form from cache.\n"
       ]
      },
      {
       "output_type": "stream",
       "stream": "stderr",
       "text": [
        "DEBUG:FFC:Reusing form from cache.\n"
       ]
      },
      {
       "output_type": "stream",
       "stream": "stderr",
       "text": [
        "DEBUG:FFC:Reusing form from cache.\n"
       ]
      },
      {
       "output_type": "stream",
       "stream": "stderr",
       "text": [
        "DEBUG:FFC:Reusing form from cache.\n"
       ]
      },
      {
       "output_type": "stream",
       "stream": "stderr",
       "text": [
        "DEBUG:FFC:Reusing form from cache.\n"
       ]
      },
      {
       "output_type": "stream",
       "stream": "stderr",
       "text": [
        "DEBUG:FFC:Reusing form from cache.\n"
       ]
      },
      {
       "output_type": "stream",
       "stream": "stderr",
       "text": [
        "DEBUG:FFC:Reusing form from cache.\n"
       ]
      },
      {
       "output_type": "stream",
       "stream": "stderr",
       "text": [
        "DEBUG:FFC:Reusing form from cache.\n"
       ]
      },
      {
       "output_type": "stream",
       "stream": "stderr",
       "text": [
        "DEBUG:FFC:Reusing form from cache.\n"
       ]
      },
      {
       "output_type": "stream",
       "stream": "stderr",
       "text": [
        "DEBUG:FFC:Reusing form from cache.\n"
       ]
      },
      {
       "output_type": "stream",
       "stream": "stderr",
       "text": [
        "DEBUG:FFC:Reusing form from cache.\n"
       ]
      },
      {
       "output_type": "stream",
       "stream": "stderr",
       "text": [
        "DEBUG:FFC:Reusing form from cache.\n"
       ]
      },
      {
       "output_type": "stream",
       "stream": "stderr",
       "text": [
        "DEBUG:FFC:Reusing form from cache.\n"
       ]
      },
      {
       "output_type": "stream",
       "stream": "stderr",
       "text": [
        "DEBUG:FFC:Reusing form from cache.\n"
       ]
      },
      {
       "output_type": "stream",
       "stream": "stderr",
       "text": [
        "DEBUG:FFC:Reusing form from cache.\n"
       ]
      },
      {
       "output_type": "stream",
       "stream": "stderr",
       "text": [
        "DEBUG:FFC:Reusing form from cache.\n"
       ]
      },
      {
       "output_type": "stream",
       "stream": "stdout",
       "text": [
        " 3.0\n",
        "cCa_n  7.22407196261 conc  7.22407196261\n",
        "cCaSSL_n  102.485261996 conc  1.02485261996\n",
        "cCaCleft_n  0.390666041671 conc  0.390666041671\n",
        "CONSERVATION: 110.1\n",
        "###############  4.0\n",
        "cCa_n  6.67760277531 conc  6.67760277531\n",
        "cCaSSL_n  102.973633883 conc  1.02973633883\n",
        "cCaCleft_n  0.448763341413 conc  0.448763341413\n",
        "CONSERVATION: 110.1\n",
        "############### "
       ]
      },
      {
       "output_type": "stream",
       "stream": "stderr",
       "text": [
        "DEBUG:FFC:Reusing form from cache.\n"
       ]
      },
      {
       "output_type": "stream",
       "stream": "stderr",
       "text": [
        "DEBUG:FFC:Reusing form from cache.\n"
       ]
      },
      {
       "output_type": "stream",
       "stream": "stderr",
       "text": [
        "DEBUG:FFC:Reusing form from cache.\n"
       ]
      },
      {
       "output_type": "stream",
       "stream": "stderr",
       "text": [
        "DEBUG:FFC:Reusing form from cache.\n"
       ]
      },
      {
       "output_type": "stream",
       "stream": "stderr",
       "text": [
        "DEBUG:FFC:Reusing form from cache.\n"
       ]
      },
      {
       "output_type": "stream",
       "stream": "stderr",
       "text": [
        "DEBUG:FFC:Reusing form from cache.\n"
       ]
      },
      {
       "output_type": "stream",
       "stream": "stderr",
       "text": [
        "DEBUG:FFC:Reusing form from cache.\n"
       ]
      },
      {
       "output_type": "stream",
       "stream": "stderr",
       "text": [
        "DEBUG:FFC:Reusing form from cache.\n"
       ]
      },
      {
       "output_type": "stream",
       "stream": "stderr",
       "text": [
        "DEBUG:FFC:Reusing form from cache.\n"
       ]
      },
      {
       "output_type": "stream",
       "stream": "stderr",
       "text": [
        "DEBUG:FFC:Reusing form from cache.\n"
       ]
      },
      {
       "output_type": "stream",
       "stream": "stderr",
       "text": [
        "DEBUG:FFC:Reusing form from cache.\n"
       ]
      },
      {
       "output_type": "stream",
       "stream": "stderr",
       "text": [
        "DEBUG:FFC:Reusing form from cache.\n"
       ]
      },
      {
       "output_type": "stream",
       "stream": "stderr",
       "text": [
        "DEBUG:FFC:Reusing form from cache.\n"
       ]
      },
      {
       "output_type": "stream",
       "stream": "stderr",
       "text": [
        "DEBUG:FFC:Reusing form from cache.\n"
       ]
      },
      {
       "output_type": "stream",
       "stream": "stderr",
       "text": [
        "DEBUG:FFC:Reusing form from cache.\n"
       ]
      },
      {
       "output_type": "stream",
       "stream": "stderr",
       "text": [
        "DEBUG:FFC:Reusing form from cache.\n"
       ]
      },
      {
       "output_type": "stream",
       "stream": "stderr",
       "text": [
        "DEBUG:FFC:Reusing form from cache.\n"
       ]
      },
      {
       "output_type": "stream",
       "stream": "stderr",
       "text": [
        "DEBUG:FFC:Reusing form from cache.\n"
       ]
      },
      {
       "output_type": "stream",
       "stream": "stderr",
       "text": [
        "DEBUG:FFC:Reusing form from cache.\n"
       ]
      },
      {
       "output_type": "stream",
       "stream": "stderr",
       "text": [
        "DEBUG:FFC:Reusing form from cache.\n"
       ]
      },
      {
       "output_type": "stream",
       "stream": "stderr",
       "text": [
        "DEBUG:FFC:Reusing form from cache.\n"
       ]
      },
      {
       "output_type": "stream",
       "stream": "stderr",
       "text": [
        "DEBUG:FFC:Reusing form from cache.\n"
       ]
      },
      {
       "output_type": "stream",
       "stream": "stderr",
       "text": [
        "DEBUG:FFC:Reusing form from cache.\n"
       ]
      },
      {
       "output_type": "stream",
       "stream": "stderr",
       "text": [
        "DEBUG:FFC:Reusing form from cache.\n"
       ]
      },
      {
       "output_type": "stream",
       "stream": "stderr",
       "text": [
        "DEBUG:FFC:Reusing form from cache.\n"
       ]
      },
      {
       "output_type": "stream",
       "stream": "stderr",
       "text": [
        "DEBUG:FFC:Reusing form from cache.\n"
       ]
      },
      {
       "output_type": "stream",
       "stream": "stderr",
       "text": [
        "DEBUG:FFC:Reusing form from cache.\n"
       ]
      },
      {
       "output_type": "stream",
       "stream": "stderr",
       "text": [
        "DEBUG:FFC:Reusing form from cache.\n"
       ]
      },
      {
       "output_type": "stream",
       "stream": "stdout",
       "text": [
        " 5.0\n",
        "cCa_n  6.17973588042 conc  6.17973588042\n",
        "cCaSSL_n  103.418280827 conc  1.03418280827\n",
        "cCaCleft_n  0.501983292945 conc  0.501983292945\n",
        "CONSERVATION: 110.1\n",
        "###############  6.0\n",
        "cCa_n  5.72614834738 conc  5.72614834738\n",
        "cCaSSL_n  103.823118551 conc  1.03823118551\n",
        "cCaCleft_n  0.550733101361 conc  0.550733101361\n",
        "CONSERVATION: 110.1\n",
        "############### "
       ]
      },
      {
       "output_type": "stream",
       "stream": "stderr",
       "text": [
        "DEBUG:FFC:Reusing form from cache.\n"
       ]
      },
      {
       "output_type": "stream",
       "stream": "stderr",
       "text": [
        "DEBUG:FFC:Reusing form from cache.\n"
       ]
      },
      {
       "output_type": "stream",
       "stream": "stderr",
       "text": [
        "DEBUG:FFC:Reusing form from cache.\n"
       ]
      },
      {
       "output_type": "stream",
       "stream": "stderr",
       "text": [
        "DEBUG:FFC:Reusing form from cache.\n"
       ]
      },
      {
       "output_type": "stream",
       "stream": "stderr",
       "text": [
        "DEBUG:FFC:Reusing form from cache.\n"
       ]
      },
      {
       "output_type": "stream",
       "stream": "stderr",
       "text": [
        "DEBUG:FFC:Reusing form from cache.\n"
       ]
      },
      {
       "output_type": "stream",
       "stream": "stderr",
       "text": [
        "DEBUG:FFC:Reusing form from cache.\n"
       ]
      },
      {
       "output_type": "stream",
       "stream": "stderr",
       "text": [
        "DEBUG:FFC:Reusing form from cache.\n"
       ]
      },
      {
       "output_type": "stream",
       "stream": "stderr",
       "text": [
        "DEBUG:FFC:Reusing form from cache.\n"
       ]
      },
      {
       "output_type": "stream",
       "stream": "stderr",
       "text": [
        "DEBUG:FFC:Reusing form from cache.\n"
       ]
      },
      {
       "output_type": "stream",
       "stream": "stderr",
       "text": [
        "DEBUG:FFC:Reusing form from cache.\n"
       ]
      },
      {
       "output_type": "stream",
       "stream": "stderr",
       "text": [
        "DEBUG:FFC:Reusing form from cache.\n"
       ]
      },
      {
       "output_type": "stream",
       "stream": "stderr",
       "text": [
        "DEBUG:FFC:Reusing form from cache.\n"
       ]
      },
      {
       "output_type": "stream",
       "stream": "stderr",
       "text": [
        "DEBUG:FFC:Reusing form from cache.\n"
       ]
      },
      {
       "output_type": "stream",
       "stream": "stderr",
       "text": [
        "DEBUG:FFC:Reusing form from cache.\n"
       ]
      },
      {
       "output_type": "stream",
       "stream": "stderr",
       "text": [
        "DEBUG:FFC:Reusing form from cache.\n"
       ]
      },
      {
       "output_type": "stream",
       "stream": "stderr",
       "text": [
        "DEBUG:FFC:Reusing form from cache.\n"
       ]
      },
      {
       "output_type": "stream",
       "stream": "stderr",
       "text": [
        "DEBUG:FFC:Reusing form from cache.\n"
       ]
      },
      {
       "output_type": "stream",
       "stream": "stderr",
       "text": [
        "DEBUG:FFC:Reusing form from cache.\n"
       ]
      },
      {
       "output_type": "stream",
       "stream": "stderr",
       "text": [
        "DEBUG:FFC:Reusing form from cache.\n"
       ]
      },
      {
       "output_type": "stream",
       "stream": "stderr",
       "text": [
        "DEBUG:FFC:Reusing form from cache.\n"
       ]
      },
      {
       "output_type": "stream",
       "stream": "stderr",
       "text": [
        "DEBUG:FFC:Reusing form from cache.\n"
       ]
      },
      {
       "output_type": "stream",
       "stream": "stderr",
       "text": [
        "DEBUG:FFC:Reusing form from cache.\n"
       ]
      },
      {
       "output_type": "stream",
       "stream": "stderr",
       "text": [
        "DEBUG:FFC:Reusing form from cache.\n"
       ]
      },
      {
       "output_type": "stream",
       "stream": "stderr",
       "text": [
        "DEBUG:FFC:Reusing form from cache.\n"
       ]
      },
      {
       "output_type": "stream",
       "stream": "stderr",
       "text": [
        "DEBUG:FFC:Reusing form from cache.\n"
       ]
      },
      {
       "output_type": "stream",
       "stream": "stderr",
       "text": [
        "DEBUG:FFC:Reusing form from cache.\n"
       ]
      },
      {
       "output_type": "stream",
       "stream": "stderr",
       "text": [
        "DEBUG:FFC:Reusing form from cache.\n"
       ]
      },
      {
       "output_type": "stream",
       "stream": "stdout",
       "text": [
        " 7.0\n",
        "cCa_n  5.31290183455 conc  5.31290183455\n",
        "cCaSSL_n  104.191711972 conc  1.04191711972\n",
        "cCaCleft_n  0.595386193938 conc  0.595386193938\n",
        "CONSERVATION: 110.1\n",
        "###############  8.0\n",
        "cCa_n  4.93640831357 conc  4.93640831357\n",
        "cCaSSL_n  104.527306686 conc  1.04527306686\n",
        "cCaCleft_n  0.636285000567 conc  0.636285000567\n",
        "CONSERVATION: 110.1\n",
        "############### "
       ]
      },
      {
       "output_type": "stream",
       "stream": "stderr",
       "text": [
        "DEBUG:FFC:Reusing form from cache.\n"
       ]
      },
      {
       "output_type": "stream",
       "stream": "stderr",
       "text": [
        "DEBUG:FFC:Reusing form from cache.\n"
       ]
      },
      {
       "output_type": "stream",
       "stream": "stderr",
       "text": [
        "DEBUG:FFC:Reusing form from cache.\n"
       ]
      },
      {
       "output_type": "stream",
       "stream": "stderr",
       "text": [
        "DEBUG:FFC:Reusing form from cache.\n"
       ]
      },
      {
       "output_type": "stream",
       "stream": "stderr",
       "text": [
        "DEBUG:FFC:Reusing form from cache.\n"
       ]
      },
      {
       "output_type": "stream",
       "stream": "stderr",
       "text": [
        "DEBUG:FFC:Reusing form from cache.\n"
       ]
      },
      {
       "output_type": "stream",
       "stream": "stderr",
       "text": [
        "DEBUG:FFC:Reusing form from cache.\n"
       ]
      },
      {
       "output_type": "stream",
       "stream": "stderr",
       "text": [
        "DEBUG:FFC:Reusing form from cache.\n"
       ]
      },
      {
       "output_type": "stream",
       "stream": "stderr",
       "text": [
        "DEBUG:FFC:Reusing form from cache.\n"
       ]
      },
      {
       "output_type": "stream",
       "stream": "stderr",
       "text": [
        "DEBUG:FFC:Reusing form from cache.\n"
       ]
      },
      {
       "output_type": "stream",
       "stream": "stderr",
       "text": [
        "DEBUG:FFC:Reusing form from cache.\n"
       ]
      },
      {
       "output_type": "stream",
       "stream": "stderr",
       "text": [
        "DEBUG:FFC:Reusing form from cache.\n"
       ]
      },
      {
       "output_type": "stream",
       "stream": "stderr",
       "text": [
        "DEBUG:FFC:Reusing form from cache.\n"
       ]
      },
      {
       "output_type": "stream",
       "stream": "stderr",
       "text": [
        "DEBUG:FFC:Reusing form from cache.\n"
       ]
      },
      {
       "output_type": "stream",
       "stream": "stderr",
       "text": [
        "DEBUG:FFC:Reusing form from cache.\n"
       ]
      },
      {
       "output_type": "stream",
       "stream": "stderr",
       "text": [
        "DEBUG:FFC:Reusing form from cache.\n"
       ]
      },
      {
       "output_type": "stream",
       "stream": "stderr",
       "text": [
        "DEBUG:FFC:Reusing form from cache.\n"
       ]
      },
      {
       "output_type": "stream",
       "stream": "stderr",
       "text": [
        "DEBUG:FFC:Reusing form from cache.\n"
       ]
      },
      {
       "output_type": "stream",
       "stream": "stderr",
       "text": [
        "DEBUG:FFC:Reusing form from cache.\n"
       ]
      },
      {
       "output_type": "stream",
       "stream": "stderr",
       "text": [
        "DEBUG:FFC:Reusing form from cache.\n"
       ]
      },
      {
       "output_type": "stream",
       "stream": "stderr",
       "text": [
        "DEBUG:FFC:Reusing form from cache.\n"
       ]
      },
      {
       "output_type": "stream",
       "stream": "stderr",
       "text": [
        "DEBUG:FFC:Reusing form from cache.\n"
       ]
      },
      {
       "output_type": "stream",
       "stream": "stdout",
       "text": [
        " 9.0\n",
        "cCa_n  4.59339890212 conc  4.59339890212\n",
        "cCaSSL_n  104.83285759 conc  1.0483285759\n",
        "cCaCleft_n  0.673743507416 conc  0.673743507416\n",
        "CONSERVATION: 110.1\n",
        "[ 1.] [ 100.] [ 1.]\n",
        "Assemble 0/9.205064\n",
        "Assemble 1/8.482274\n",
        "Assemble 2/7.823889\n",
        "Assemble 3/7.224072"
       ]
      },
      {
       "output_type": "stream",
       "stream": "stderr",
       "text": [
        "DEBUG:FFC:Reusing form from cache.\n"
       ]
      },
      {
       "output_type": "stream",
       "stream": "stderr",
       "text": [
        "DEBUG:FFC:Reusing form from cache.\n"
       ]
      },
      {
       "output_type": "stream",
       "stream": "stderr",
       "text": [
        "DEBUG:FFC:Reusing form from cache.\n"
       ]
      },
      {
       "output_type": "stream",
       "stream": "stderr",
       "text": [
        "DEBUG:FFC:Reusing form from cache.\n"
       ]
      },
      {
       "output_type": "stream",
       "stream": "stderr",
       "text": [
        "DEBUG:FFC:Reusing form from cache.\n"
       ]
      },
      {
       "output_type": "stream",
       "stream": "stderr",
       "text": [
        "DEBUG:FFC:Reusing form from cache.\n"
       ]
      },
      {
       "output_type": "stream",
       "stream": "stderr",
       "text": [
        "DEBUG:FFC:Reusing form from cache.\n"
       ]
      },
      {
       "output_type": "stream",
       "stream": "stderr",
       "text": [
        "DEBUG:FFC:Reusing form from cache.\n"
       ]
      },
      {
       "output_type": "stream",
       "stream": "stderr",
       "text": [
        "DEBUG:FFC:Reusing form from cache.\n"
       ]
      },
      {
       "output_type": "stream",
       "stream": "stderr",
       "text": [
        "DEBUG:FFC:Reusing form from cache.\n"
       ]
      },
      {
       "output_type": "stream",
       "stream": "stderr",
       "text": [
        "DEBUG:FFC:Reusing form from cache.\n"
       ]
      },
      {
       "output_type": "stream",
       "stream": "stderr",
       "text": [
        "DEBUG:FFC:Reusing form from cache.\n"
       ]
      },
      {
       "output_type": "stream",
       "stream": "stderr",
       "text": [
        "DEBUG:FFC:Reusing form from cache.\n"
       ]
      },
      {
       "output_type": "stream",
       "stream": "stderr",
       "text": [
        "DEBUG:FFC:Reusing form from cache.\n"
       ]
      },
      {
       "output_type": "stream",
       "stream": "stderr",
       "text": [
        "DEBUG:FFC:Reusing form from cache.\n"
       ]
      },
      {
       "output_type": "stream",
       "stream": "stderr",
       "text": [
        "DEBUG:FFC:Reusing form from cache.\n"
       ]
      },
      {
       "output_type": "stream",
       "stream": "stderr",
       "text": [
        "DEBUG:FFC:Reusing form from cache.\n"
       ]
      },
      {
       "output_type": "stream",
       "stream": "stderr",
       "text": [
        "DEBUG:FFC:Reusing form from cache.\n"
       ]
      },
      {
       "output_type": "stream",
       "stream": "stderr",
       "text": [
        "DEBUG:FFC:Reusing form from cache.\n"
       ]
      },
      {
       "output_type": "stream",
       "stream": "stderr",
       "text": [
        "DEBUG:FFC:Reusing form from cache.\n"
       ]
      },
      {
       "output_type": "stream",
       "stream": "stderr",
       "text": [
        "DEBUG:FFC:Reusing form from cache.\n"
       ]
      },
      {
       "output_type": "stream",
       "stream": "stderr",
       "text": [
        "DEBUG:FFC:Reusing form from cache.\n"
       ]
      },
      {
       "output_type": "stream",
       "stream": "stderr",
       "text": [
        "DEBUG:FFC:Reusing form from cache.\n"
       ]
      },
      {
       "output_type": "stream",
       "stream": "stderr",
       "text": [
        "DEBUG:FFC:Reusing form from cache.\n"
       ]
      },
      {
       "output_type": "stream",
       "stream": "stderr",
       "text": [
        "DEBUG:FFC:Reusing form from cache.\n"
       ]
      },
      {
       "output_type": "stream",
       "stream": "stderr",
       "text": [
        "DEBUG:FFC:Reusing form from cache.\n"
       ]
      },
      {
       "output_type": "stream",
       "stream": "stderr",
       "text": [
        "DEBUG:FFC:Reusing form from cache.\n"
       ]
      },
      {
       "output_type": "stream",
       "stream": "stderr",
       "text": [
        "DEBUG:FFC:Reusing form from cache.\n"
       ]
      },
      {
       "output_type": "stream",
       "stream": "stderr",
       "text": [
        "DEBUG:FFC:Reusing form from cache.\n"
       ]
      },
      {
       "output_type": "stream",
       "stream": "stderr",
       "text": [
        "DEBUG:FFC:Reusing form from cache.\n"
       ]
      },
      {
       "output_type": "stream",
       "stream": "stderr",
       "text": [
        "DEBUG:FFC:Reusing form from cache.\n"
       ]
      },
      {
       "output_type": "stream",
       "stream": "stderr",
       "text": [
        "DEBUG:FFC:Reusing form from cache.\n"
       ]
      },
      {
       "output_type": "stream",
       "stream": "stderr",
       "text": [
        "DEBUG:FFC:Reusing form from cache.\n"
       ]
      },
      {
       "output_type": "stream",
       "stream": "stdout",
       "text": [
        "\n",
        "Assemble 4/6.677603\n",
        "Assemble 5/6.179736\n",
        "Assemble 6/5.726148\n",
        "Assemble 7/5.312902\n",
        "Assemble 8/4.936408\n",
        "Assemble 9/4.593399\n",
        "WARNING: will need to updated these\n",
        "PUT INTO BASE CLASS"
       ]
      },
      {
       "output_type": "stream",
       "stream": "stderr",
       "text": [
        "DEBUG:FFC:Reusing form from cache.\n"
       ]
      },
      {
       "output_type": "stream",
       "stream": "stderr",
       "text": [
        "DEBUG:FFC:Reusing form from cache.\n"
       ]
      },
      {
       "output_type": "stream",
       "stream": "stderr",
       "text": [
        "DEBUG:FFC:Reusing form from cache.\n"
       ]
      },
      {
       "output_type": "stream",
       "stream": "stderr",
       "text": [
        "DEBUG:FFC:Reusing form from cache.\n"
       ]
      },
      {
       "output_type": "stream",
       "stream": "stderr",
       "text": [
        "DEBUG:FFC:Reusing form from cache.\n"
       ]
      },
      {
       "output_type": "stream",
       "stream": "stderr",
       "text": [
        "DEBUG:FFC:Reusing form from cache.\n"
       ]
      },
      {
       "output_type": "stream",
       "stream": "stderr",
       "text": [
        "DEBUG:FFC:Reusing form from cache.\n"
       ]
      },
      {
       "output_type": "stream",
       "stream": "stderr",
       "text": [
        "DEBUG:FFC:Reusing form from cache.\n"
       ]
      },
      {
       "output_type": "stream",
       "stream": "stdout",
       "text": [
        "\n",
        "###############  0\n",
        "cCa_n  10.0 conc  10.0\n",
        "cCaSSL_n  100.0 conc  1.0\n",
        "cCaCleft_n  0.1 conc  0.1\n",
        "CONSERVATION: 110.1\n",
        "Calling FFC just-in-time (JIT) compiler, this may take some time.\n"
       ]
      },
      {
       "output_type": "stream",
       "stream": "stderr",
       "text": [
        "Level 25:FFC:Calling FFC just-in-time (JIT) compiler, this may take some time.\n"
       ]
      },
      {
       "output_type": "stream",
       "stream": "stderr",
       "text": [
        "INFO:FFC:Compiling form ffc_form_7a09c86d73316e7d8962bf278c106bffb00bb865\n",
        "\n"
       ]
      },
      {
       "output_type": "stream",
       "stream": "stderr",
       "text": [
        "INFO:FFC:Compiler stage 1: Analyzing form(s)\n"
       ]
      },
      {
       "output_type": "stream",
       "stream": "stderr",
       "text": [
        "INFO:FFC:-----------------------------------\n"
       ]
      },
      {
       "output_type": "stream",
       "stream": "stderr",
       "text": [
        "INFO:UFL:Adjusting missing element domain to <Domain built from <triangle cell in 2D> with label dolfin_mesh_with_id_4186>.\n"
       ]
      },
      {
       "output_type": "stream",
       "stream": "stderr",
       "text": [
        "INFO:UFL:Adjusting missing element domain to <Domain built from <triangle cell in 2D> with label dolfin_mesh_with_id_4186>.\n"
       ]
      },
      {
       "output_type": "stream",
       "stream": "stderr",
       "text": [
        "INFO:FFC:  \n"
       ]
      },
      {
       "output_type": "stream",
       "stream": "stderr",
       "text": [
        "INFO:FFC:  Geometric dimension:                 2\n",
        "  Number of cell subdomains:           0\n",
        "  Number of exterior_facet subdomains: 11\n",
        "  Rank:                                1\n",
        "  Arguments:                           '(v_0)'\n",
        "  Number of coefficients:              4\n",
        "  Coefficients:                        '[f_387, f_4201, f_4203, f_4205]'\n",
        "  Unique elements:                     'Mixed<CG1(?), R0(?), R0(?)>, R0(?)'\n",
        "  Unique sub elements:                 'Mixed<CG1(?), R0(?), R0(?)>, R0(?), CG1(?)'\n",
        "  \n"
       ]
      },
      {
       "output_type": "stream",
       "stream": "stderr",
       "text": [
        "INFO:FFC:  Extracting monomial form representation from UFL form\n"
       ]
      },
      {
       "output_type": "stream",
       "stream": "stderr",
       "text": [
        "DEBUG:FFC:  Monomial extraction failed: No handler defined for expression Division.\n"
       ]
      },
      {
       "output_type": "stream",
       "stream": "stderr",
       "text": [
        "DEBUG:FFC:  Estimated cost of tensor representation: -1\n"
       ]
      },
      {
       "output_type": "stream",
       "stream": "stderr",
       "text": [
        "INFO:FFC:  representation:    auto --> quadrature\n"
       ]
      },
      {
       "output_type": "stream",
       "stream": "stderr",
       "text": [
        "DEBUG:FFC:  Selecting quadrature degree based on total polynomial degree of integrand: 2\n"
       ]
      },
      {
       "output_type": "stream",
       "stream": "stderr",
       "text": [
        "INFO:FFC:  quadrature_degree: auto --> 2\n"
       ]
      },
      {
       "output_type": "stream",
       "stream": "stderr",
       "text": [
        "INFO:FFC:  quadrature_rule:   auto --> default\n"
       ]
      },
      {
       "output_type": "stream",
       "stream": "stderr",
       "text": [
        "INFO:FFC:  Extracting monomial form representation from UFL form\n"
       ]
      },
      {
       "output_type": "stream",
       "stream": "stderr",
       "text": [
        "DEBUG:FFC:  Monomial extraction failed: No handler defined for expression Division.\n"
       ]
      },
      {
       "output_type": "stream",
       "stream": "stderr",
       "text": [
        "DEBUG:FFC:  Estimated cost of tensor representation: -1\n"
       ]
      },
      {
       "output_type": "stream",
       "stream": "stderr",
       "text": [
        "INFO:FFC:  representation:    auto --> quadrature\n"
       ]
      },
      {
       "output_type": "stream",
       "stream": "stderr",
       "text": [
        "DEBUG:FFC:  Selecting quadrature degree based on total polynomial degree of integrand: 2\n"
       ]
      },
      {
       "output_type": "stream",
       "stream": "stderr",
       "text": [
        "INFO:FFC:  quadrature_degree: auto --> 2\n"
       ]
      },
      {
       "output_type": "stream",
       "stream": "stderr",
       "text": [
        "INFO:FFC:  quadrature_rule:   auto --> default\n"
       ]
      },
      {
       "output_type": "stream",
       "stream": "stderr",
       "text": [
        "INFO:FFC:  \n"
       ]
      },
      {
       "output_type": "stream",
       "stream": "stderr",
       "text": [
        "INFO:FFC:Compiler stage 1 finished in 0.0505049 seconds.\n",
        "\n"
       ]
      },
      {
       "output_type": "stream",
       "stream": "stderr",
       "text": [
        "INFO:FFC:Compiler stage 2: Computing intermediate representation\n"
       ]
      },
      {
       "output_type": "stream",
       "stream": "stderr",
       "text": [
        "INFO:FFC:-------------------------------------------------------\n"
       ]
      },
      {
       "output_type": "stream",
       "stream": "stderr",
       "text": [
        "INFO:FFC:  Computing representation of 3 elements\n"
       ]
      },
      {
       "output_type": "stream",
       "stream": "stderr",
       "text": [
        "DEBUG:FFC:  Reusing element from cache\n"
       ]
      },
      {
       "output_type": "stream",
       "stream": "stderr",
       "text": [
        "DEBUG:FFC:  Reusing element from cache\n"
       ]
      },
      {
       "output_type": "stream",
       "stream": "stderr",
       "text": [
        "DEBUG:FFC:  Reusing element from cache\n"
       ]
      },
      {
       "output_type": "stream",
       "stream": "stderr",
       "text": [
        "DEBUG:FFC:  Reusing element from cache\n"
       ]
      },
      {
       "output_type": "stream",
       "stream": "stderr",
       "text": [
        "DEBUG:FFC:  Reusing element from cache\n"
       ]
      },
      {
       "output_type": "stream",
       "stream": "stderr",
       "text": [
        "DEBUG:FFC:  Reusing element from cache\n"
       ]
      },
      {
       "output_type": "stream",
       "stream": "stderr",
       "text": [
        "INFO:FFC:  Computing representation of 3 dofmaps\n"
       ]
      },
      {
       "output_type": "stream",
       "stream": "stderr",
       "text": [
        "DEBUG:FFC:  Reusing element from cache\n"
       ]
      },
      {
       "output_type": "stream",
       "stream": "stderr",
       "text": [
        "DEBUG:FFC:  Reusing element from cache\n"
       ]
      },
      {
       "output_type": "stream",
       "stream": "stderr",
       "text": [
        "DEBUG:FFC:  Reusing element from cache\n"
       ]
      },
      {
       "output_type": "stream",
       "stream": "stderr",
       "text": [
        "INFO:FFC:  Computing representation of integrals\n"
       ]
      },
      {
       "output_type": "stream",
       "stream": "stderr",
       "text": [
        "INFO:FFC:  Computing quadrature representation\n"
       ]
      },
      {
       "output_type": "stream",
       "stream": "stderr",
       "text": [
        "DEBUG:FFC:  Reusing element from cache\n"
       ]
      },
      {
       "output_type": "stream",
       "stream": "stderr",
       "text": [
        "DEBUG:FFC:  Reusing element from cache\n"
       ]
      },
      {
       "output_type": "stream",
       "stream": "stderr",
       "text": [
        "DEBUG:FFC:  Reusing element from cache\n"
       ]
      },
      {
       "output_type": "stream",
       "stream": "stderr",
       "text": [
        "DEBUG:FFC:  Reusing element from cache\n"
       ]
      },
      {
       "output_type": "stream",
       "stream": "stderr",
       "text": [
        "DEBUG:FFC:  Reusing element from cache\n"
       ]
      },
      {
       "output_type": "stream",
       "stream": "stderr",
       "text": [
        "DEBUG:FFC:  Reusing element from cache\n"
       ]
      },
      {
       "output_type": "stream",
       "stream": "stderr",
       "text": [
        "DEBUG:FFC:  Reusing element from cache\n"
       ]
      },
      {
       "output_type": "stream",
       "stream": "stderr",
       "text": [
        "DEBUG:FFC:  \n",
        "  QG-utils, psi_tables:\n",
        "  {3: {FiniteElement('Real', Domain(Cell('triangle', 2), label='dolfin_mesh_with_id_4186', data='<data with id 4186>'), 0, quad_scheme=None): {None: {None: {(0, 0): array([[ 1.,  1.,  1.]])}}}, MixedElement(*[FiniteElement('Lagrange', Domain(Cell('triangle', 2), label='dolfin_mesh_with_id_4186', data='<data with id 4186>'), 1, quad_scheme=None), FiniteElement('Real', Domain(Cell('triangle', 2), label='dolfin_mesh_with_id_4186', data='<data with id 4186>'), 0, quad_scheme=None), FiniteElement('Real', Domain(Cell('triangle', 2), label='dolfin_mesh_with_id_4186', data='<data with id 4186>'), 0, quad_scheme=None)], **{'value_shape': (3,) }): {None: {None: {(0, 1): array([[[ -1.00000000e+00,  -1.00000000e+00,  -1.00000000e+00],\n",
        "          [  0.00000000e+00,   0.00000000e+00,   0.00000000e+00],\n",
        "          [  0.00000000e+00,   0.00000000e+00,   0.00000000e+00]],\n",
        "  \n",
        "         [[  8.88178420e-16,   8.88178420e-16,   8.88178420e-16],\n",
        "          [  0.00000000e+00,   0.00000000e+00,   0.00000000e+00],\n",
        "          [  0.00000000e+00,   0.00000000e+00,   0.00000000e+00]],\n",
        "  \n",
        "         [[  1.00000000e+00,   1.00000000e+00,   1.00000000e+00],\n",
        "          [  0.00000000e+00,   0.00000000e+00,   0.00000000e+00],\n",
        "          [  0.00000000e+00,   0.00000000e+00,   0.00000000e+00]],\n",
        "  \n",
        "         [[  0.00000000e+00,   0.00000000e+00,   0.00000000e+00],\n",
        "          [  0.00000000e+00,   0.00000000e+00,   0.00000000e+00],\n",
        "          [  0.00000000e+00,   0.00000000e+00,   0.00000000e+00]],\n",
        "  \n",
        "         [[  0.00000000e+00,   0.00000000e+00,   0.00000000e+00],\n",
        "          [  0.00000000e+00,   0.00000000e+00,   0.00000000e+00],\n",
        "          [  0.00000000e+00,   0.00000000e+00,   0.00000000e+00]]]), (1, 0): array([[[-1., -1., -1.],\n",
        "          [ 0.,  0.,  0.],\n",
        "          [ 0.,  0.,  0.]],\n",
        "  \n",
        "         [[ 1.,  1.,  1.],\n",
        "          [ 0.,  0.,  0.],\n",
        "          [ 0.,  0.,  0.]],\n",
        "  \n",
        "         [[ 0.,  0.,  0.],\n",
        "          [ 0.,  0.,  0.],\n",
        "          [ 0.,  0.,  0.]],\n",
        "  \n",
        "         [[ 0.,  0.,  0.],\n",
        "          [ 0.,  0.,  0.],\n",
        "          [ 0.,  0.,  0.]],\n",
        "  \n",
        "         [[ 0.,  0.,  0.],\n",
        "          [ 0.,  0.,  0.],\n",
        "          [ 0.,  0.,  0.]]]), (0, 0): array([[[ 0.66666667,  0.16666667,  0.16666667],\n",
        "          [ 0.        ,  0.        ,  0.        ],\n",
        "          [ 0.        ,  0.        ,  0.        ]],\n",
        "  \n",
        "         [[ 0.16666667,  0.16666667,  0.66666667],\n",
        "          [ 0.        ,  0.        ,  0.        ],\n",
        "          [ 0.        ,  0.        ,  0.        ]],\n",
        "  \n",
        "         [[ 0.16666667,  0.66666667,  0.16666667],\n",
        "          [ 0.        ,  0.        ,  0.        ],\n",
        "          [ 0.        ,  0.        ,  0.        ]],\n",
        "  \n",
        "         [[ 0.        ,  0.        ,  0.        ],\n",
        "          [ 1.        ,  1.        ,  1.        ],\n",
        "          [ 0.        ,  0.        ,  0.        ]],\n",
        "  \n",
        "         [[ 0.        ,  0.        ,  0.        ],\n",
        "          [ 0.        ,  0.        ,  0.        ],\n",
        "          [ 1.        ,  1.        ,  1.        ]]])}}}, VectorElement('Lagrange', Domain(Cell('triangle', 2), label='dolfin_mesh_with_id_4186', data='<data with id 4186>'), 1, dim=2, quad_scheme=None): {None: {None: {(0, 1): array([[[ -1.00000000e+00,  -1.00000000e+00,  -1.00000000e+00],\n",
        "          [  0.00000000e+00,   0.00000000e+00,   0.00000000e+00]],\n",
        "  \n",
        "         [[  8.88178420e-16,   8.88178420e-16,   8.88178420e-16],\n",
        "          [  0.00000000e+00,   0.00000000e+00,   0.00000000e+00]],\n",
        "  \n",
        "         [[  1.00000000e+00,   1.00000000e+00,   1.00000000e+00],\n",
        "          [  0.00000000e+00,   0.00000000e+00,   0.00000000e+00]],\n",
        "  \n",
        "         [[  0.00000000e+00,   0.00000000e+00,   0.00000000e+00],\n",
        "          [ -1.00000000e+00,  -1.00000000e+00,  -1.00000000e+00]],\n",
        "  \n",
        "         [[  0.00000000e+00,   0.00000000e+00,   0.00000000e+00],\n",
        "          [  8.88178420e-16,   8.88178420e-16,   8.88178420e-16]],\n",
        "  \n",
        "         [[  0.00000000e+00,   0.00000000e+00,   0.00000000e+00],\n",
        "          [  1.00000000e+00,   1.00000000e+00,   1.00000000e+00]]]), (1, 0): array([[[-1., -1., -1.],\n",
        "          [ 0.,  0.,  0.]],\n",
        "  \n",
        "         [[ 1.,  1.,  1.],\n",
        "          [ 0.,  0.,  0.]],\n",
        "  \n",
        "         [[ 0.,  0.,  0.],\n",
        "          [ 0.,  0.,  0.]],\n",
        "  \n",
        "         [[ 0.,  0.,  0.],\n",
        "          [-1., -1., -1.]],\n",
        "  \n",
        "         [[ 0.,  0.,  0.],\n",
        "          [ 1.,  1.,  1.]],\n",
        "  \n",
        "         [[ 0.,  0.,  0.],\n",
        "          [ 0.,  0.,  0.]]]), (0, 0): array([[[ 0.66666667,  0.16666667,  0.16666667],\n",
        "          [ 0.        ,  0.        ,  0.        ]],\n",
        "  \n",
        "         [[ 0.16666667,  0.16666667,  0.66666667],\n",
        "          [ 0.        ,  0.        ,  0.        ]],\n",
        "  \n",
        "         [[ 0.16666667,  0.66666667,  0.16666667],\n",
        "          [ 0.        ,  0.        ,  0.        ]],\n",
        "  \n",
        "         [[ 0.        ,  0.        ,  0.        ],\n",
        "          [ 0.66666667,  0.16666667,  0.16666667]],\n",
        "  \n",
        "         [[ 0.        ,  0.        ,  0.        ],\n",
        "          [ 0.16666667,  0.16666667,  0.66666667]],\n",
        "  \n",
        "         [[ 0.        ,  0.        ,  0.        ],\n",
        "          [ 0.16666667,  0.66666667,  0.16666667]]])}}}}}\n"
       ]
      },
      {
       "output_type": "stream",
       "stream": "stderr",
       "text": [
        "DEBUG:FFC:  \n",
        "  QG-utils, psi_tables, flat_tables:\n",
        "  {'FE0_C1_D01': array([[  0.00000000e+00,   0.00000000e+00,   0.00000000e+00,\n",
        "           -1.00000000e+00,   8.88178420e-16,   1.00000000e+00],\n",
        "         [  0.00000000e+00,   0.00000000e+00,   0.00000000e+00,\n",
        "           -1.00000000e+00,   8.88178420e-16,   1.00000000e+00],\n",
        "         [  0.00000000e+00,   0.00000000e+00,   0.00000000e+00,\n",
        "           -1.00000000e+00,   8.88178420e-16,   1.00000000e+00]]), 'FE1_C0': array([[ 0.66666667,  0.16666667,  0.16666667,  0.        ,  0.        ],\n",
        "         [ 0.16666667,  0.16666667,  0.66666667,  0.        ,  0.        ],\n",
        "         [ 0.16666667,  0.66666667,  0.16666667,  0.        ,  0.        ]]), 'FE1_C1': array([[ 0.,  0.,  0.,  1.,  0.],\n",
        "         [ 0.,  0.,  0.,  1.,  0.],\n",
        "         [ 0.,  0.,  0.,  1.,  0.]]), 'FE1_C2': array([[ 0.,  0.,  0.,  0.,  1.],\n",
        "         [ 0.,  0.,  0.,  0.,  1.],\n",
        "         [ 0.,  0.,  0.,  0.,  1.]]), 'FE0_C1_D10': array([[ 0.,  0.,  0., -1.,  1.,  0.],\n",
        "         [ 0.,  0.,  0., -1.,  1.,  0.],\n",
        "         [ 0.,  0.,  0., -1.,  1.,  0.]]), 'FE1_C1_D10': array([[ 0.,  0.,  0.,  0.,  0.],\n",
        "         [ 0.,  0.,  0.,  0.,  0.],\n",
        "         [ 0.,  0.,  0.,  0.,  0.]]), 'FE1_C2_D10': array([[ 0.,  0.,  0.,  0.,  0.],\n",
        "         [ 0.,  0.,  0.,  0.,  0.],\n",
        "         [ 0.,  0.,  0.,  0.,  0.]]), 'FE0_C0_D10': array([[-1.,  1.,  0.,  0.,  0.,  0.],\n",
        "         [-1.,  1.,  0.,  0.,  0.,  0.],\n",
        "         [-1.,  1.,  0.,  0.,  0.,  0.]]), 'FE0_C0_D01': array([[ -1.00000000e+00,   8.88178420e-16,   1.00000000e+00,\n",
        "            0.00000000e+00,   0.00000000e+00,   0.00000000e+00],\n",
        "         [ -1.00000000e+00,   8.88178420e-16,   1.00000000e+00,\n",
        "            0.00000000e+00,   0.00000000e+00,   0.00000000e+00],\n",
        "         [ -1.00000000e+00,   8.88178420e-16,   1.00000000e+00,\n",
        "            0.00000000e+00,   0.00000000e+00,   0.00000000e+00]]), 'FE2': array([[ 1.],\n",
        "         [ 1.],\n",
        "         [ 1.]]), 'FE1_C2_D01': array([[ 0.,  0.,  0.,  0.,  0.],\n",
        "         [ 0.,  0.,  0.,  0.,  0.],\n",
        "         [ 0.,  0.,  0.,  0.,  0.]]), 'FE1_C1_D01': array([[ 0.,  0.,  0.,  0.,  0.],\n",
        "         [ 0.,  0.,  0.,  0.,  0.],\n",
        "         [ 0.,  0.,  0.,  0.,  0.]]), 'FE1_C0_D01': array([[ -1.00000000e+00,   8.88178420e-16,   1.00000000e+00,\n",
        "            0.00000000e+00,   0.00000000e+00],\n",
        "         [ -1.00000000e+00,   8.88178420e-16,   1.00000000e+00,\n",
        "            0.00000000e+00,   0.00000000e+00],\n",
        "         [ -1.00000000e+00,   8.88178420e-16,   1.00000000e+00,\n",
        "            0.00000000e+00,   0.00000000e+00]]), 'FE1_C0_D10': array([[-1.,  1.,  0.,  0.,  0.],\n",
        "         [-1.,  1.,  0.,  0.,  0.],\n",
        "         [-1.,  1.,  0.,  0.,  0.]]), 'FE0_C1': array([[ 0.        ,  0.        ,  0.        ,  0.66666667,  0.16666667,\n",
        "           0.16666667],\n",
        "         [ 0.        ,  0.        ,  0.        ,  0.16666667,  0.16666667,\n",
        "           0.66666667],\n",
        "         [ 0.        ,  0.        ,  0.        ,  0.16666667,  0.66666667,\n",
        "           0.16666667]]), 'FE0_C0': array([[ 0.66666667,  0.16666667,  0.16666667,  0.        ,  0.        ,\n",
        "           0.        ],\n",
        "         [ 0.16666667,  0.16666667,  0.66666667,  0.        ,  0.        ,\n",
        "           0.        ],\n",
        "         [ 0.16666667,  0.66666667,  0.16666667,  0.        ,  0.        ,\n",
        "           0.        ]])}\n"
       ]
      },
      {
       "output_type": "stream",
       "stream": "stderr",
       "text": [
        "DEBUG:FFC:  \n",
        "  tables: {'FE0_C1_D01': array([[  0.00000000e+00,   0.00000000e+00,   0.00000000e+00,\n",
        "           -1.00000000e+00,   8.88178420e-16,   1.00000000e+00],\n",
        "         [  0.00000000e+00,   0.00000000e+00,   0.00000000e+00,\n",
        "           -1.00000000e+00,   8.88178420e-16,   1.00000000e+00],\n",
        "         [  0.00000000e+00,   0.00000000e+00,   0.00000000e+00,\n",
        "           -1.00000000e+00,   8.88178420e-16,   1.00000000e+00]]), 'FE1_C0': array([[ 0.66666667,  0.16666667,  0.16666667,  0.        ,  0.        ],\n",
        "         [ 0.16666667,  0.16666667,  0.66666667,  0.        ,  0.        ],\n",
        "         [ 0.16666667,  0.66666667,  0.16666667,  0.        ,  0.        ]]), 'FE1_C1': array([[ 0.,  0.,  0.,  1.,  0.],\n",
        "         [ 0.,  0.,  0.,  1.,  0.],\n",
        "         [ 0.,  0.,  0.,  1.,  0.]]), 'FE1_C2': array([[ 0.,  0.,  0.,  0.,  1.],\n",
        "         [ 0.,  0.,  0.,  0.,  1.],\n",
        "         [ 0.,  0.,  0.,  0.,  1.]]), 'FE0_C1_D10': array([[ 0.,  0.,  0., -1.,  1.,  0.],\n",
        "         [ 0.,  0.,  0., -1.,  1.,  0.],\n",
        "         [ 0.,  0.,  0., -1.,  1.,  0.]]), 'FE0_C0_D10': array([[-1.,  1.,  0.,  0.,  0.,  0.],\n",
        "         [-1.,  1.,  0.,  0.,  0.,  0.],\n",
        "         [-1.,  1.,  0.,  0.,  0.,  0.]]), 'FE0_C0_D01': array([[ -1.00000000e+00,   8.88178420e-16,   1.00000000e+00,\n",
        "            0.00000000e+00,   0.00000000e+00,   0.00000000e+00],\n",
        "         [ -1.00000000e+00,   8.88178420e-16,   1.00000000e+00,\n",
        "            0.00000000e+00,   0.00000000e+00,   0.00000000e+00],\n",
        "         [ -1.00000000e+00,   8.88178420e-16,   1.00000000e+00,\n",
        "            0.00000000e+00,   0.00000000e+00,   0.00000000e+00]]), 'FE2': array([[ 1.],\n",
        "         [ 1.],\n",
        "         [ 1.]]), 'FE1_C1_D01': array([[ 0.,  0.,  0.,  0.,  0.],\n",
        "         [ 0.,  0.,  0.,  0.,  0.],\n",
        "         [ 0.,  0.,  0.,  0.,  0.]]), 'FE1_C0_D01': array([[ -1.00000000e+00,   8.88178420e-16,   1.00000000e+00,\n",
        "            0.00000000e+00,   0.00000000e+00],\n",
        "         [ -1.00000000e+00,   8.88178420e-16,   1.00000000e+00,\n",
        "            0.00000000e+00,   0.00000000e+00],\n",
        "         [ -1.00000000e+00,   8.88178420e-16,   1.00000000e+00,\n",
        "            0.00000000e+00,   0.00000000e+00]]), 'FE1_C0_D10': array([[-1.,  1.,  0.,  0.,  0.],\n",
        "         [-1.,  1.,  0.,  0.,  0.],\n",
        "         [-1.,  1.,  0.,  0.,  0.]]), 'FE0_C1': array([[ 0.        ,  0.        ,  0.        ,  0.66666667,  0.16666667,\n",
        "           0.16666667],\n",
        "         [ 0.        ,  0.        ,  0.        ,  0.16666667,  0.16666667,\n",
        "           0.66666667],\n",
        "         [ 0.        ,  0.        ,  0.        ,  0.16666667,  0.66666667,\n",
        "           0.16666667]]), 'FE0_C0': array([[ 0.66666667,  0.16666667,  0.16666667,  0.        ,  0.        ,\n",
        "           0.        ],\n",
        "         [ 0.16666667,  0.16666667,  0.66666667,  0.        ,  0.        ,\n",
        "           0.        ],\n",
        "         [ 0.16666667,  0.66666667,  0.16666667,  0.        ,  0.        ,\n",
        "           0.        ]])}\n"
       ]
      },
      {
       "output_type": "stream",
       "stream": "stderr",
       "text": [
        "DEBUG:FFC:  \n",
        "  name_map: {'FE1_C1_D01': ['FE1_C1_D10', 'FE1_C2_D01', 'FE1_C2_D10']}\n"
       ]
      },
      {
       "output_type": "stream",
       "stream": "stderr",
       "text": [
        "DEBUG:FFC:  \n",
        "  inv_name_map: {'FE0_C1_D01': 'FE0_C1_D01', 'FE1_C0': 'FE1_C0', 'FE1_C1': 'FE1_C1', 'FE1_C2': 'FE1_C2', 'FE0_C1_D10': 'FE0_C1_D10', 'FE1_C1_D10': 'FE1_C1_D01', 'FE1_C2_D10': 'FE1_C1_D01', 'FE0_C0_D10': 'FE0_C0_D10', 'FE0_C0_D01': 'FE0_C0_D01', 'FE2': 'FE2', 'FE1_C2_D01': 'FE1_C1_D01', 'FE1_C1_D01': 'FE1_C1_D01', 'FE1_C0_D01': 'FE1_C0_D01', 'FE1_C0_D10': 'FE1_C0_D10', 'FE0_C1': 'FE0_C1', 'FE0_C0': 'FE0_C0'}\n"
       ]
      },
      {
       "output_type": "stream",
       "stream": "stderr",
       "text": [
        "DEBUG:FFC:  \n",
        "  QG-utils, psi_tables, unique_tables:\n",
        "  {'FE0_C1_D01': array([[ 0.,  0.,  0., -1.,  0.,  1.],\n",
        "         [ 0.,  0.,  0., -1.,  0.,  1.],\n",
        "         [ 0.,  0.,  0., -1.,  0.,  1.]]), 'FE1_C0': array([[ 0.66666667,  0.16666667,  0.16666667,  0.        ,  0.        ],\n",
        "         [ 0.16666667,  0.16666667,  0.66666667,  0.        ,  0.        ],\n",
        "         [ 0.16666667,  0.66666667,  0.16666667,  0.        ,  0.        ]]), 'FE1_C1': array([[ 0.,  0.,  0.,  1.,  0.],\n",
        "         [ 0.,  0.,  0.,  1.,  0.],\n",
        "         [ 0.,  0.,  0.,  1.,  0.]]), 'FE1_C2': array([[ 0.,  0.,  0.,  0.,  1.],\n",
        "         [ 0.,  0.,  0.,  0.,  1.],\n",
        "         [ 0.,  0.,  0.,  0.,  1.]]), 'FE0_C1_D10': array([[ 0.,  0.,  0., -1.,  1.,  0.],\n",
        "         [ 0.,  0.,  0., -1.,  1.,  0.],\n",
        "         [ 0.,  0.,  0., -1.,  1.,  0.]]), 'FE0_C0_D10': array([[-1.,  1.,  0.,  0.,  0.,  0.],\n",
        "         [-1.,  1.,  0.,  0.,  0.,  0.],\n",
        "         [-1.,  1.,  0.,  0.,  0.,  0.]]), 'FE0_C0_D01': array([[-1.,  0.,  1.,  0.,  0.,  0.],\n",
        "         [-1.,  0.,  1.,  0.,  0.,  0.],\n",
        "         [-1.,  0.,  1.,  0.,  0.,  0.]]), 'FE2': array([[ 1.],\n",
        "         [ 1.],\n",
        "         [ 1.]]), 'FE1_C1_D01': array([[ 0.,  0.,  0.,  0.,  0.],\n",
        "         [ 0.,  0.,  0.,  0.,  0.],\n",
        "         [ 0.,  0.,  0.,  0.,  0.]]), 'FE1_C0_D01': array([[-1.,  0.,  1.,  0.,  0.],\n",
        "         [-1.,  0.,  1.,  0.,  0.],\n",
        "         [-1.,  0.,  1.,  0.,  0.]]), 'FE1_C0_D10': array([[-1.,  1.,  0.,  0.,  0.],\n",
        "         [-1.,  1.,  0.,  0.,  0.],\n",
        "         [-1.,  1.,  0.,  0.,  0.]]), 'FE0_C1': array([[ 0.        ,  0.        ,  0.        ,  0.66666667,  0.16666667,\n",
        "           0.16666667],\n",
        "         [ 0.        ,  0.        ,  0.        ,  0.16666667,  0.16666667,\n",
        "           0.66666667],\n",
        "         [ 0.        ,  0.        ,  0.        ,  0.16666667,  0.66666667,\n",
        "           0.16666667]]), 'FE0_C0': array([[ 0.66666667,  0.16666667,  0.16666667,  0.        ,  0.        ,\n",
        "           0.        ],\n",
        "         [ 0.16666667,  0.16666667,  0.66666667,  0.        ,  0.        ,\n",
        "           0.        ],\n",
        "         [ 0.16666667,  0.66666667,  0.16666667,  0.        ,  0.        ,\n",
        "           0.        ]])}\n"
       ]
      },
      {
       "output_type": "stream",
       "stream": "stderr",
       "text": [
        "DEBUG:FFC:  \n",
        "  QG-utils, psi_tables, name_map:\n",
        "  {'FE0_C1_D01': ('FE0_C1_D01', (), False, False), 'FE1_C0': ('FE1_C0', (), False, False), 'FE1_C1': ('FE1_C1', (), False, False), 'FE1_C2': ('FE1_C2', (), False, False), 'FE0_C1_D10': ('FE0_C1_D10', (), False, False), 'FE1_C1_D10': ('FE1_C1_D01', (), True, False), 'FE1_C2_D10': ('FE1_C1_D01', (), True, False), 'FE0_C0_D10': ('FE0_C0_D10', (), False, False), 'FE0_C0_D01': ('FE0_C0_D01', (), False, False), 'FE2': ('FE2', (), False, True), 'FE1_C2_D01': ('FE1_C1_D01', (), True, False), 'FE1_C1_D01': ('FE1_C1_D01', (), True, False), 'FE1_C0_D01': ('FE1_C0_D01', (), False, False), 'FE1_C0_D10': ('FE1_C0_D10', (), False, False), 'FE0_C1': ('FE0_C1', (), False, False), 'FE0_C0': ('FE0_C0', (), False, False)}\n"
       ]
      },
      {
       "output_type": "stream",
       "stream": "stderr",
       "text": [
        "INFO:FFC:  Transforming cell integral\n"
       ]
      },
      {
       "output_type": "stream",
       "stream": "stderr",
       "text": [
        "DEBUG:FFC:  Reusing element from cache\n"
       ]
      },
      {
       "output_type": "stream",
       "stream": "stderr",
       "text": [
        "DEBUG:FFC:  Reusing element from cache\n"
       ]
      },
      {
       "output_type": "stream",
       "stream": "stderr",
       "text": [
        "DEBUG:FFC:  Reusing element from cache\n"
       ]
      },
      {
       "output_type": "stream",
       "stream": "stderr",
       "text": [
        "DEBUG:FFC:  Reusing element from cache\n"
       ]
      },
      {
       "output_type": "stream",
       "stream": "stderr",
       "text": [
        "DEBUG:FFC:  Reusing element from cache\n"
       ]
      },
      {
       "output_type": "stream",
       "stream": "stderr",
       "text": [
        "DEBUG:FFC:  Reusing element from cache\n"
       ]
      },
      {
       "output_type": "stream",
       "stream": "stderr",
       "text": [
        "DEBUG:FFC:  Reusing element from cache\n"
       ]
      },
      {
       "output_type": "stream",
       "stream": "stderr",
       "text": [
        "DEBUG:FFC:  Reusing element from cache\n"
       ]
      },
      {
       "output_type": "stream",
       "stream": "stderr",
       "text": [
        "DEBUG:FFC:  Reusing element from cache\n"
       ]
      },
      {
       "output_type": "stream",
       "stream": "stderr",
       "text": [
        "DEBUG:FFC:  Reusing element from cache\n"
       ]
      },
      {
       "output_type": "stream",
       "stream": "stderr",
       "text": [
        "DEBUG:FFC:  Reusing element from cache\n"
       ]
      },
      {
       "output_type": "stream",
       "stream": "stderr",
       "text": [
        "DEBUG:FFC:  Reusing element from cache\n"
       ]
      },
      {
       "output_type": "stream",
       "stream": "stderr",
       "text": [
        "DEBUG:FFC:  Reusing element from cache\n"
       ]
      },
      {
       "output_type": "stream",
       "stream": "stderr",
       "text": [
        "DEBUG:FFC:  Reusing element from cache\n"
       ]
      },
      {
       "output_type": "stream",
       "stream": "stderr",
       "text": [
        "DEBUG:FFC:  Reusing element from cache\n"
       ]
      },
      {
       "output_type": "stream",
       "stream": "stderr",
       "text": [
        "DEBUG:FFC:  Reusing element from cache\n"
       ]
      },
      {
       "output_type": "stream",
       "stream": "stderr",
       "text": [
        "DEBUG:FFC:  Reusing element from cache\n"
       ]
      },
      {
       "output_type": "stream",
       "stream": "stderr",
       "text": [
        "DEBUG:FFC:  Reusing element from cache\n"
       ]
      },
      {
       "output_type": "stream",
       "stream": "stderr",
       "text": [
        "DEBUG:FFC:  Reusing element from cache\n"
       ]
      },
      {
       "output_type": "stream",
       "stream": "stderr",
       "text": [
        "DEBUG:FFC:  Reusing element from cache\n"
       ]
      },
      {
       "output_type": "stream",
       "stream": "stderr",
       "text": [
        "DEBUG:FFC:  Reusing element from cache\n"
       ]
      },
      {
       "output_type": "stream",
       "stream": "stderr",
       "text": [
        "DEBUG:FFC:  Reusing element from cache\n"
       ]
      },
      {
       "output_type": "stream",
       "stream": "stderr",
       "text": [
        "DEBUG:FFC:  Reusing element from cache\n"
       ]
      },
      {
       "output_type": "stream",
       "stream": "stderr",
       "text": [
        "DEBUG:FFC:  Reusing element from cache\n"
       ]
      },
      {
       "output_type": "stream",
       "stream": "stderr",
       "text": [
        "DEBUG:FFC:  Reusing element from cache\n"
       ]
      },
      {
       "output_type": "stream",
       "stream": "stderr",
       "text": [
        "DEBUG:FFC:  Reusing element from cache\n"
       ]
      },
      {
       "output_type": "stream",
       "stream": "stderr",
       "text": [
        "DEBUG:FFC:  Reusing element from cache\n"
       ]
      },
      {
       "output_type": "stream",
       "stream": "stderr",
       "text": [
        "DEBUG:FFC:  Reusing element from cache\n"
       ]
      },
      {
       "output_type": "stream",
       "stream": "stderr",
       "text": [
        "DEBUG:FFC:  Reusing element from cache\n"
       ]
      },
      {
       "output_type": "stream",
       "stream": "stderr",
       "text": [
        "DEBUG:FFC:  Reusing element from cache\n"
       ]
      },
      {
       "output_type": "stream",
       "stream": "stderr",
       "text": [
        "DEBUG:FFC:  Reusing element from cache\n"
       ]
      },
      {
       "output_type": "stream",
       "stream": "stderr",
       "text": [
        "DEBUG:FFC:  Reusing element from cache\n"
       ]
      },
      {
       "output_type": "stream",
       "stream": "stderr",
       "text": [
        "DEBUG:FFC:  Reusing element from cache\n"
       ]
      },
      {
       "output_type": "stream",
       "stream": "stderr",
       "text": [
        "INFO:FFC:  Computing quadrature representation\n"
       ]
      },
      {
       "output_type": "stream",
       "stream": "stderr",
       "text": [
        "DEBUG:FFC:  Reusing element from cache\n"
       ]
      },
      {
       "output_type": "stream",
       "stream": "stderr",
       "text": [
        "DEBUG:FFC:  Reusing element from cache\n"
       ]
      },
      {
       "output_type": "stream",
       "stream": "stderr",
       "text": [
        "DEBUG:FFC:  Reusing element from cache\n"
       ]
      },
      {
       "output_type": "stream",
       "stream": "stderr",
       "text": [
        "DEBUG:FFC:  Reusing element from cache\n"
       ]
      },
      {
       "output_type": "stream",
       "stream": "stderr",
       "text": [
        "DEBUG:FFC:  Reusing element from cache\n"
       ]
      },
      {
       "output_type": "stream",
       "stream": "stderr",
       "text": [
        "DEBUG:FFC:  Reusing element from cache\n"
       ]
      },
      {
       "output_type": "stream",
       "stream": "stderr",
       "text": [
        "DEBUG:FFC:  \n",
        "  QG-utils, psi_tables:\n",
        "  {2: {FiniteElement('Real', Domain(Cell('triangle', 2), label='dolfin_mesh_with_id_4186', data='<data with id 4186>'), 0, quad_scheme=None): {None: {0: {(0, 0): array([[ 1.,  1.]])}, 1: {(0, 0): array([[ 1.,  1.]])}, 2: {(0, 0): array([[ 1.,  1.]])}}}, MixedElement(*[FiniteElement('Lagrange', Domain(Cell('triangle', 2), label='dolfin_mesh_with_id_4186', data='<data with id 4186>'), 1, quad_scheme=None), FiniteElement('Real', Domain(Cell('triangle', 2), label='dolfin_mesh_with_id_4186', data='<data with id 4186>'), 0, quad_scheme=None), FiniteElement('Real', Domain(Cell('triangle', 2), label='dolfin_mesh_with_id_4186', data='<data with id 4186>'), 0, quad_scheme=None)], **{'value_shape': (3,) }): {None: {0: {(0, 0): array([[[ -2.08166817e-17,   5.55111512e-17],\n",
        "          [  0.00000000e+00,   0.00000000e+00],\n",
        "          [  0.00000000e+00,   0.00000000e+00]],\n",
        "  \n",
        "         [[  7.88675135e-01,   2.11324865e-01],\n",
        "          [  0.00000000e+00,   0.00000000e+00],\n",
        "          [  0.00000000e+00,   0.00000000e+00]],\n",
        "  \n",
        "         [[  2.11324865e-01,   7.88675135e-01],\n",
        "          [  0.00000000e+00,   0.00000000e+00],\n",
        "          [  0.00000000e+00,   0.00000000e+00]],\n",
        "  \n",
        "         [[  0.00000000e+00,   0.00000000e+00],\n",
        "          [  1.00000000e+00,   1.00000000e+00],\n",
        "          [  0.00000000e+00,   0.00000000e+00]],\n",
        "  \n",
        "         [[  0.00000000e+00,   0.00000000e+00],\n",
        "          [  0.00000000e+00,   0.00000000e+00],\n",
        "          [  1.00000000e+00,   1.00000000e+00]]])}, 1: {(0, 0): array([[[  7.88675135e-01,   2.11324865e-01],\n",
        "          [  0.00000000e+00,   0.00000000e+00],\n",
        "          [  0.00000000e+00,   0.00000000e+00]],\n",
        "  \n",
        "         [[ -2.08166817e-17,   5.55111512e-17],\n",
        "          [  0.00000000e+00,   0.00000000e+00],\n",
        "          [  0.00000000e+00,   0.00000000e+00]],\n",
        "  \n",
        "         [[  2.11324865e-01,   7.88675135e-01],\n",
        "          [  0.00000000e+00,   0.00000000e+00],\n",
        "          [  0.00000000e+00,   0.00000000e+00]],\n",
        "  \n",
        "         [[  0.00000000e+00,   0.00000000e+00],\n",
        "          [  1.00000000e+00,   1.00000000e+00],\n",
        "          [  0.00000000e+00,   0.00000000e+00]],\n",
        "  \n",
        "         [[  0.00000000e+00,   0.00000000e+00],\n",
        "          [  0.00000000e+00,   0.00000000e+00],\n",
        "          [  1.00000000e+00,   1.00000000e+00]]])}, 2: {(0, 0): array([[[ 0.78867513,  0.21132487],\n",
        "          [ 0.        ,  0.        ],\n",
        "          [ 0.        ,  0.        ]],\n",
        "  \n",
        "         [[ 0.21132487,  0.78867513],\n",
        "          [ 0.        ,  0.        ],\n",
        "          [ 0.        ,  0.        ]],\n",
        "  \n",
        "         [[ 0.        ,  0.        ],\n",
        "          [ 0.        ,  0.        ],\n",
        "          [ 0.        ,  0.        ]],\n",
        "  \n",
        "         [[ 0.        ,  0.        ],\n",
        "          [ 1.        ,  1.        ],\n",
        "          [ 0.        ,  0.        ]],\n",
        "  \n",
        "         [[ 0.        ,  0.        ],\n",
        "          [ 0.        ,  0.        ],\n",
        "          [ 1.        ,  1.        ]]])}}}, VectorElement('Lagrange', Domain(Cell('triangle', 2), label='dolfin_mesh_with_id_4186', data='<data with id 4186>'), 1, dim=2, quad_scheme=None): {None: {0: {(0, 1): array([[[ -1.00000000e+00,  -1.00000000e+00],\n",
        "          [  0.00000000e+00,   0.00000000e+00]],\n",
        "  \n",
        "         [[  8.88178420e-16,   8.88178420e-16],\n",
        "          [  0.00000000e+00,   0.00000000e+00]],\n",
        "  \n",
        "         [[  1.00000000e+00,   1.00000000e+00],\n",
        "          [  0.00000000e+00,   0.00000000e+00]],\n",
        "  \n",
        "         [[  0.00000000e+00,   0.00000000e+00],\n",
        "          [ -1.00000000e+00,  -1.00000000e+00]],\n",
        "  \n",
        "         [[  0.00000000e+00,   0.00000000e+00],\n",
        "          [  8.88178420e-16,   8.88178420e-16]],\n",
        "  \n",
        "         [[  0.00000000e+00,   0.00000000e+00],\n",
        "          [  1.00000000e+00,   1.00000000e+00]]]), (1, 0): array([[[-1., -1.],\n",
        "          [ 0.,  0.]],\n",
        "  \n",
        "         [[ 1.,  1.],\n",
        "          [ 0.,  0.]],\n",
        "  \n",
        "         [[ 0.,  0.],\n",
        "          [ 0.,  0.]],\n",
        "  \n",
        "         [[ 0.,  0.],\n",
        "          [-1., -1.]],\n",
        "  \n",
        "         [[ 0.,  0.],\n",
        "          [ 1.,  1.]],\n",
        "  \n",
        "         [[ 0.,  0.],\n",
        "          [ 0.,  0.]]]), (0, 0): array([[[ -2.08166817e-17,   5.55111512e-17],\n",
        "          [  0.00000000e+00,   0.00000000e+00]],\n",
        "  \n",
        "         [[  7.88675135e-01,   2.11324865e-01],\n",
        "          [  0.00000000e+00,   0.00000000e+00]],\n",
        "  \n",
        "         [[  2.11324865e-01,   7.88675135e-01],\n",
        "          [  0.00000000e+00,   0.00000000e+00]],\n",
        "  \n",
        "         [[  0.00000000e+00,   0.00000000e+00],\n",
        "          [ -2.08166817e-17,   5.55111512e-17]],\n",
        "  \n",
        "         [[  0.00000000e+00,   0.00000000e+00],\n",
        "          [  7.88675135e-01,   2.11324865e-01]],\n",
        "  \n",
        "         [[  0.00000000e+00,   0.00000000e+00],\n",
        "          [  2.11324865e-01,   7.88675135e-01]]])}, 1: {(0, 1): array([[[ -1.00000000e+00,  -1.00000000e+00],\n",
        "          [  0.00000000e+00,   0.00000000e+00]],\n",
        "  \n",
        "         [[  8.88178420e-16,   8.88178420e-16],\n",
        "          [  0.00000000e+00,   0.00000000e+00]],\n",
        "  \n",
        "         [[  1.00000000e+00,   1.00000000e+00],\n",
        "          [  0.00000000e+00,   0.00000000e+00]],\n",
        "  \n",
        "         [[  0.00000000e+00,   0.00000000e+00],\n",
        "          [ -1.00000000e+00,  -1.00000000e+00]],\n",
        "  \n",
        "         [[  0.00000000e+00,   0.00000000e+00],\n",
        "          [  8.88178420e-16,   8.88178420e-16]],\n",
        "  \n",
        "         [[  0.00000000e+00,   0.00000000e+00],\n",
        "          [  1.00000000e+00,   1.00000000e+00]]]), (1, 0): array([[[-1., -1.],\n",
        "          [ 0.,  0.]],\n",
        "  \n",
        "         [[ 1.,  1.],\n",
        "          [ 0.,  0.]],\n",
        "  \n",
        "         [[ 0.,  0.],\n",
        "          [ 0.,  0.]],\n",
        "  \n",
        "         [[ 0.,  0.],\n",
        "          [-1., -1.]],\n",
        "  \n",
        "         [[ 0.,  0.],\n",
        "          [ 1.,  1.]],\n",
        "  \n",
        "         [[ 0.,  0.],\n",
        "          [ 0.,  0.]]]), (0, 0): array([[[  7.88675135e-01,   2.11324865e-01],\n",
        "          [  0.00000000e+00,   0.00000000e+00]],\n",
        "  \n",
        "         [[ -2.08166817e-17,   5.55111512e-17],\n",
        "          [  0.00000000e+00,   0.00000000e+00]],\n",
        "  \n",
        "         [[  2.11324865e-01,   7.88675135e-01],\n",
        "          [  0.00000000e+00,   0.00000000e+00]],\n",
        "  \n",
        "         [[  0.00000000e+00,   0.00000000e+00],\n",
        "          [  7.88675135e-01,   2.11324865e-01]],\n",
        "  \n",
        "         [[  0.00000000e+00,   0.00000000e+00],\n",
        "          [ -2.08166817e-17,   5.55111512e-17]],\n",
        "  \n",
        "         [[  0.00000000e+00,   0.00000000e+00],\n",
        "          [  2.11324865e-01,   7.88675135e-01]]])}, 2: {(0, 1): array([[[ -1.00000000e+00,  -1.00000000e+00],\n",
        "          [  0.00000000e+00,   0.00000000e+00]],\n",
        "  \n",
        "         [[  8.88178420e-16,   8.88178420e-16],\n",
        "          [  0.00000000e+00,   0.00000000e+00]],\n",
        "  \n",
        "         [[  1.00000000e+00,   1.00000000e+00],\n",
        "          [  0.00000000e+00,   0.00000000e+00]],\n",
        "  \n",
        "         [[  0.00000000e+00,   0.00000000e+00],\n",
        "          [ -1.00000000e+00,  -1.00000000e+00]],\n",
        "  \n",
        "         [[  0.00000000e+00,   0.00000000e+00],\n",
        "          [  8.88178420e-16,   8.88178420e-16]],\n",
        "  \n",
        "         [[  0.00000000e+00,   0.00000000e+00],\n",
        "          [  1.00000000e+00,   1.00000000e+00]]]), (1, 0): array([[[-1., -1.],\n",
        "          [ 0.,  0.]],\n",
        "  \n",
        "         [[ 1.,  1.],\n",
        "          [ 0.,  0.]],\n",
        "  \n",
        "         [[ 0.,  0.],\n",
        "          [ 0.,  0.]],\n",
        "  \n",
        "         [[ 0.,  0.],\n",
        "          [-1., -1.]],\n",
        "  \n",
        "         [[ 0.,  0.],\n",
        "          [ 1.,  1.]],\n",
        "  \n",
        "         [[ 0.,  0.],\n",
        "          [ 0.,  0.]]]), (0, 0): array([[[ 0.78867513,  0.21132487],\n",
        "          [ 0.        ,  0.        ]],\n",
        "  \n",
        "         [[ 0.21132487,  0.78867513],\n",
        "          [ 0.        ,  0.        ]],\n",
        "  \n",
        "         [[ 0.        ,  0.        ],\n",
        "          [ 0.        ,  0.        ]],\n",
        "  \n",
        "         [[ 0.        ,  0.        ],\n",
        "          [ 0.78867513,  0.21132487]],\n",
        "  \n",
        "         [[ 0.        ,  0.        ],\n",
        "          [ 0.21132487,  0.78867513]],\n",
        "  \n",
        "         [[ 0.        ,  0.        ],\n",
        "          [ 0.        ,  0.        ]]])}}}}}\n"
       ]
      },
      {
       "output_type": "stream",
       "stream": "stderr",
       "text": [
        "DEBUG:FFC:  \n",
        "  QG-utils, psi_tables, flat_tables:\n",
        "  {'FE1_f2_C2': array([[ 0.,  0.,  0.,  0.,  1.],\n",
        "         [ 0.,  0.,  0.,  0.,  1.]]), 'FE0_f0_C0_D01': array([[ -1.00000000e+00,   8.88178420e-16,   1.00000000e+00,\n",
        "            0.00000000e+00,   0.00000000e+00,   0.00000000e+00],\n",
        "         [ -1.00000000e+00,   8.88178420e-16,   1.00000000e+00,\n",
        "            0.00000000e+00,   0.00000000e+00,   0.00000000e+00]]), 'FE1_f2_C0': array([[ 0.78867513,  0.21132487,  0.        ,  0.        ,  0.        ],\n",
        "         [ 0.21132487,  0.78867513,  0.        ,  0.        ,  0.        ]]), 'FE1_f2_C1': array([[ 0.,  0.,  0.,  1.,  0.],\n",
        "         [ 0.,  0.,  0.,  1.,  0.]]), 'FE0_f0_C1': array([[  0.00000000e+00,   0.00000000e+00,   0.00000000e+00,\n",
        "           -2.08166817e-17,   7.88675135e-01,   2.11324865e-01],\n",
        "         [  0.00000000e+00,   0.00000000e+00,   0.00000000e+00,\n",
        "            5.55111512e-17,   2.11324865e-01,   7.88675135e-01]]), 'FE0_f0_C0': array([[ -2.08166817e-17,   7.88675135e-01,   2.11324865e-01,\n",
        "            0.00000000e+00,   0.00000000e+00,   0.00000000e+00],\n",
        "         [  5.55111512e-17,   2.11324865e-01,   7.88675135e-01,\n",
        "            0.00000000e+00,   0.00000000e+00,   0.00000000e+00]]), 'FE0_f0_C1_D01': array([[  0.00000000e+00,   0.00000000e+00,   0.00000000e+00,\n",
        "           -1.00000000e+00,   8.88178420e-16,   1.00000000e+00],\n",
        "         [  0.00000000e+00,   0.00000000e+00,   0.00000000e+00,\n",
        "           -1.00000000e+00,   8.88178420e-16,   1.00000000e+00]]), 'FE0_f2_C0_D10': array([[-1.,  1.,  0.,  0.,  0.,  0.],\n",
        "         [-1.,  1.,  0.,  0.,  0.,  0.]]), 'FE0_f1_C1_D10': array([[ 0.,  0.,  0., -1.,  1.,  0.],\n",
        "         [ 0.,  0.,  0., -1.,  1.,  0.]]), 'FE0_f2_C1_D01': array([[  0.00000000e+00,   0.00000000e+00,   0.00000000e+00,\n",
        "           -1.00000000e+00,   8.88178420e-16,   1.00000000e+00],\n",
        "         [  0.00000000e+00,   0.00000000e+00,   0.00000000e+00,\n",
        "           -1.00000000e+00,   8.88178420e-16,   1.00000000e+00]]), 'FE0_f1_C1_D01': array([[  0.00000000e+00,   0.00000000e+00,   0.00000000e+00,\n",
        "           -1.00000000e+00,   8.88178420e-16,   1.00000000e+00],\n",
        "         [  0.00000000e+00,   0.00000000e+00,   0.00000000e+00,\n",
        "           -1.00000000e+00,   8.88178420e-16,   1.00000000e+00]]), 'FE1_f0_C0': array([[ -2.08166817e-17,   7.88675135e-01,   2.11324865e-01,\n",
        "            0.00000000e+00,   0.00000000e+00],\n",
        "         [  5.55111512e-17,   2.11324865e-01,   7.88675135e-01,\n",
        "            0.00000000e+00,   0.00000000e+00]]), 'FE1_f0_C1': array([[ 0.,  0.,  0.,  1.,  0.],\n",
        "         [ 0.,  0.,  0.,  1.,  0.]]), 'FE1_f0_C2': array([[ 0.,  0.,  0.,  0.,  1.],\n",
        "         [ 0.,  0.,  0.,  0.,  1.]]), 'FE0_f1_C0_D10': array([[-1.,  1.,  0.,  0.,  0.,  0.],\n",
        "         [-1.,  1.,  0.,  0.,  0.,  0.]]), 'FE0_f0_C0_D10': array([[-1.,  1.,  0.,  0.,  0.,  0.],\n",
        "         [-1.,  1.,  0.,  0.,  0.,  0.]]), 'FE0_f2_C1': array([[ 0.        ,  0.        ,  0.        ,  0.78867513,  0.21132487,\n",
        "           0.        ],\n",
        "         [ 0.        ,  0.        ,  0.        ,  0.21132487,  0.78867513,\n",
        "           0.        ]]), 'FE0_f2_C0': array([[ 0.78867513,  0.21132487,  0.        ,  0.        ,  0.        ,\n",
        "           0.        ],\n",
        "         [ 0.21132487,  0.78867513,  0.        ,  0.        ,  0.        ,\n",
        "           0.        ]]), 'FE0_f0_C1_D10': array([[ 0.,  0.,  0., -1.,  1.,  0.],\n",
        "         [ 0.,  0.,  0., -1.,  1.,  0.]]), 'FE0_f1_C0_D01': array([[ -1.00000000e+00,   8.88178420e-16,   1.00000000e+00,\n",
        "            0.00000000e+00,   0.00000000e+00,   0.00000000e+00],\n",
        "         [ -1.00000000e+00,   8.88178420e-16,   1.00000000e+00,\n",
        "            0.00000000e+00,   0.00000000e+00,   0.00000000e+00]]), 'FE2_f2': array([[ 1.],\n",
        "         [ 1.]]), 'FE2_f0': array([[ 1.],\n",
        "         [ 1.]]), 'FE2_f1': array([[ 1.],\n",
        "         [ 1.]]), 'FE0_f2_C0_D01': array([[ -1.00000000e+00,   8.88178420e-16,   1.00000000e+00,\n",
        "            0.00000000e+00,   0.00000000e+00,   0.00000000e+00],\n",
        "         [ -1.00000000e+00,   8.88178420e-16,   1.00000000e+00,\n",
        "            0.00000000e+00,   0.00000000e+00,   0.00000000e+00]]), 'FE0_f1_C0': array([[  7.88675135e-01,  -2.08166817e-17,   2.11324865e-01,\n",
        "            0.00000000e+00,   0.00000000e+00,   0.00000000e+00],\n",
        "         [  2.11324865e-01,   5.55111512e-17,   7.88675135e-01,\n",
        "            0.00000000e+00,   0.00000000e+00,   0.00000000e+00]]), 'FE0_f1_C1': array([[  0.00000000e+00,   0.00000000e+00,   0.00000000e+00,\n",
        "            7.88675135e-01,  -2.08166817e-17,   2.11324865e-01],\n",
        "         [  0.00000000e+00,   0.00000000e+00,   0.00000000e+00,\n",
        "            2.11324865e-01,   5.55111512e-17,   7.88675135e-01]]), 'FE0_f2_C1_D10': array([[ 0.,  0.,  0., -1.,  1.,  0.],\n",
        "         [ 0.,  0.,  0., -1.,  1.,  0.]]), 'FE1_f1_C2': array([[ 0.,  0.,  0.,  0.,  1.],\n",
        "         [ 0.,  0.,  0.,  0.,  1.]]), 'FE1_f1_C1': array([[ 0.,  0.,  0.,  1.,  0.],\n",
        "         [ 0.,  0.,  0.,  1.,  0.]]), 'FE1_f1_C0': array([[  7.88675135e-01,  -2.08166817e-17,   2.11324865e-01,\n",
        "            0.00000000e+00,   0.00000000e+00],\n",
        "         [  2.11324865e-01,   5.55111512e-17,   7.88675135e-01,\n",
        "            0.00000000e+00,   0.00000000e+00]])}\n"
       ]
      },
      {
       "output_type": "stream",
       "stream": "stderr",
       "text": [
        "DEBUG:FFC:  \n",
        "  tables: {'FE0_f0_C0_D01': array([[ -1.00000000e+00,   8.88178420e-16,   1.00000000e+00,\n",
        "            0.00000000e+00,   0.00000000e+00,   0.00000000e+00],\n",
        "         [ -1.00000000e+00,   8.88178420e-16,   1.00000000e+00,\n",
        "            0.00000000e+00,   0.00000000e+00,   0.00000000e+00]]), 'FE1_f2_C0': array([[ 0.78867513,  0.21132487,  0.        ,  0.        ,  0.        ],\n",
        "         [ 0.21132487,  0.78867513,  0.        ,  0.        ,  0.        ]]), 'FE0_f0_C1': array([[  0.00000000e+00,   0.00000000e+00,   0.00000000e+00,\n",
        "           -2.08166817e-17,   7.88675135e-01,   2.11324865e-01],\n",
        "         [  0.00000000e+00,   0.00000000e+00,   0.00000000e+00,\n",
        "            5.55111512e-17,   2.11324865e-01,   7.88675135e-01]]), 'FE0_f0_C0': array([[ -2.08166817e-17,   7.88675135e-01,   2.11324865e-01,\n",
        "            0.00000000e+00,   0.00000000e+00,   0.00000000e+00],\n",
        "         [  5.55111512e-17,   2.11324865e-01,   7.88675135e-01,\n",
        "            0.00000000e+00,   0.00000000e+00,   0.00000000e+00]]), 'FE0_f0_C1_D01': array([[  0.00000000e+00,   0.00000000e+00,   0.00000000e+00,\n",
        "           -1.00000000e+00,   8.88178420e-16,   1.00000000e+00],\n",
        "         [  0.00000000e+00,   0.00000000e+00,   0.00000000e+00,\n",
        "           -1.00000000e+00,   8.88178420e-16,   1.00000000e+00]]), 'FE1_f0_C0': array([[ -2.08166817e-17,   7.88675135e-01,   2.11324865e-01,\n",
        "            0.00000000e+00,   0.00000000e+00],\n",
        "         [  5.55111512e-17,   2.11324865e-01,   7.88675135e-01,\n",
        "            0.00000000e+00,   0.00000000e+00]]), 'FE1_f0_C1': array([[ 0.,  0.,  0.,  1.,  0.],\n",
        "         [ 0.,  0.,  0.,  1.,  0.]]), 'FE1_f0_C2': array([[ 0.,  0.,  0.,  0.,  1.],\n",
        "         [ 0.,  0.,  0.,  0.,  1.]]), 'FE0_f0_C0_D10': array([[-1.,  1.,  0.,  0.,  0.,  0.],\n",
        "         [-1.,  1.,  0.,  0.,  0.,  0.]]), 'FE0_f2_C1': array([[ 0.        ,  0.        ,  0.        ,  0.78867513,  0.21132487,\n",
        "           0.        ],\n",
        "         [ 0.        ,  0.        ,  0.        ,  0.21132487,  0.78867513,\n",
        "           0.        ]]), 'FE0_f2_C0': array([[ 0.78867513,  0.21132487,  0.        ,  0.        ,  0.        ,\n",
        "           0.        ],\n",
        "         [ 0.21132487,  0.78867513,  0.        ,  0.        ,  0.        ,\n",
        "           0.        ]]), 'FE0_f0_C1_D10': array([[ 0.,  0.,  0., -1.,  1.,  0.],\n",
        "         [ 0.,  0.,  0., -1.,  1.,  0.]]), 'FE2_f0': array([[ 1.],\n",
        "         [ 1.]]), 'FE0_f1_C0': array([[  7.88675135e-01,  -2.08166817e-17,   2.11324865e-01,\n",
        "            0.00000000e+00,   0.00000000e+00,   0.00000000e+00],\n",
        "         [  2.11324865e-01,   5.55111512e-17,   7.88675135e-01,\n",
        "            0.00000000e+00,   0.00000000e+00,   0.00000000e+00]]), 'FE0_f1_C1': array([[  0.00000000e+00,   0.00000000e+00,   0.00000000e+00,\n",
        "            7.88675135e-01,  -2.08166817e-17,   2.11324865e-01],\n",
        "         [  0.00000000e+00,   0.00000000e+00,   0.00000000e+00,\n",
        "            2.11324865e-01,   5.55111512e-17,   7.88675135e-01]]), 'FE1_f1_C0': array([[  7.88675135e-01,  -2.08166817e-17,   2.11324865e-01,\n",
        "            0.00000000e+00,   0.00000000e+00],\n",
        "         [  2.11324865e-01,   5.55111512e-17,   7.88675135e-01,\n",
        "            0.00000000e+00,   0.00000000e+00]])}\n"
       ]
      },
      {
       "output_type": "stream",
       "stream": "stderr",
       "text": [
        "DEBUG:FFC:  \n",
        "  name_map: {'FE0_f0_C1_D01': ['FE0_f1_C1_D01', 'FE0_f2_C1_D01'], 'FE0_f0_C1_D10': ['FE0_f1_C1_D10', 'FE0_f2_C1_D10'], 'FE1_f0_C1': ['FE1_f1_C1', 'FE1_f2_C1'], 'FE1_f0_C2': ['FE1_f1_C2', 'FE1_f2_C2'], 'FE2_f0': ['FE2_f1', 'FE2_f2'], 'FE0_f0_C0_D01': ['FE0_f1_C0_D01', 'FE0_f2_C0_D01'], 'FE0_f0_C0_D10': ['FE0_f1_C0_D10', 'FE0_f2_C0_D10']}\n"
       ]
      },
      {
       "output_type": "stream",
       "stream": "stderr",
       "text": [
        "DEBUG:FFC:  \n",
        "  inv_name_map: {'FE1_f2_C2': 'FE1_f0_C2', 'FE0_f0_C0_D01': 'FE0_f0_C0_D01', 'FE1_f2_C0': 'FE1_f2_C0', 'FE1_f2_C1': 'FE1_f0_C1', 'FE0_f0_C1': 'FE0_f0_C1', 'FE0_f0_C0': 'FE0_f0_C0', 'FE0_f1_C1': 'FE0_f1_C1', 'FE0_f1_C0_D10': 'FE0_f0_C0_D10', 'FE0_f2_C0_D10': 'FE0_f0_C0_D10', 'FE0_f1_C1_D10': 'FE0_f0_C1_D10', 'FE0_f2_C1_D01': 'FE0_f0_C1_D01', 'FE1_f0_C0': 'FE1_f0_C0', 'FE1_f0_C1': 'FE1_f0_C1', 'FE1_f0_C2': 'FE1_f0_C2', 'FE0_f0_C1_D01': 'FE0_f0_C1_D01', 'FE0_f0_C0_D10': 'FE0_f0_C0_D10', 'FE0_f2_C1': 'FE0_f2_C1', 'FE0_f2_C0': 'FE0_f2_C0', 'FE0_f0_C1_D10': 'FE0_f0_C1_D10', 'FE0_f1_C0_D01': 'FE0_f0_C0_D01', 'FE2_f2': 'FE2_f0', 'FE2_f0': 'FE2_f0', 'FE2_f1': 'FE2_f0', 'FE0_f2_C0_D01': 'FE0_f0_C0_D01', 'FE0_f1_C0': 'FE0_f1_C0', 'FE0_f1_C1_D01': 'FE0_f0_C1_D01', 'FE0_f2_C1_D10': 'FE0_f0_C1_D10', 'FE1_f1_C2': 'FE1_f0_C2', 'FE1_f1_C1': 'FE1_f0_C1', 'FE1_f1_C0': 'FE1_f1_C0'}\n"
       ]
      },
      {
       "output_type": "stream",
       "stream": "stderr",
       "text": [
        "DEBUG:FFC:  \n",
        "  QG-utils, psi_tables, unique_tables:\n",
        "  {'FE0_f0_C0_D01': array([[-1.,  0.,  1.,  0.,  0.,  0.],\n",
        "         [-1.,  0.,  1.,  0.,  0.,  0.]]), 'FE1_f2_C0': array([[ 0.78867513,  0.21132487,  0.        ,  0.        ,  0.        ],\n",
        "         [ 0.21132487,  0.78867513,  0.        ,  0.        ,  0.        ]]), 'FE0_f0_C1': array([[ 0.        ,  0.        ,  0.        ,  0.        ,  0.78867513,\n",
        "           0.21132487],\n",
        "         [ 0.        ,  0.        ,  0.        ,  0.        ,  0.21132487,\n",
        "           0.78867513]]), 'FE0_f0_C0': array([[ 0.        ,  0.78867513,  0.21132487,  0.        ,  0.        ,\n",
        "           0.        ],\n",
        "         [ 0.        ,  0.21132487,  0.78867513,  0.        ,  0.        ,\n",
        "           0.        ]]), 'FE0_f0_C1_D01': array([[ 0.,  0.,  0., -1.,  0.,  1.],\n",
        "         [ 0.,  0.,  0., -1.,  0.,  1.]]), 'FE1_f0_C0': array([[ 0.        ,  0.78867513,  0.21132487,  0.        ,  0.        ],\n",
        "         [ 0.        ,  0.21132487,  0.78867513,  0.        ,  0.        ]]), 'FE1_f0_C1': array([[ 0.,  0.,  0.,  1.,  0.],\n",
        "         [ 0.,  0.,  0.,  1.,  0.]]), 'FE1_f0_C2': array([[ 0.,  0.,  0.,  0.,  1.],\n",
        "         [ 0.,  0.,  0.,  0.,  1.]]), 'FE0_f0_C0_D10': array([[-1.,  1.,  0.,  0.,  0.,  0.],\n",
        "         [-1.,  1.,  0.,  0.,  0.,  0.]]), 'FE0_f2_C1': array([[ 0.        ,  0.        ,  0.        ,  0.78867513,  0.21132487,\n",
        "           0.        ],\n",
        "         [ 0.        ,  0.        ,  0.        ,  0.21132487,  0.78867513,\n",
        "           0.        ]]), 'FE0_f2_C0': array([[ 0.78867513,  0.21132487,  0.        ,  0.        ,  0.        ,\n",
        "           0.        ],\n",
        "         [ 0.21132487,  0.78867513,  0.        ,  0.        ,  0.        ,\n",
        "           0.        ]]), 'FE0_f0_C1_D10': array([[ 0.,  0.,  0., -1.,  1.,  0.],\n",
        "         [ 0.,  0.,  0., -1.,  1.,  0.]]), 'FE2_f0': array([[ 1.],\n",
        "         [ 1.]]), 'FE0_f1_C0': array([[ 0.78867513,  0.        ,  0.21132487,  0.        ,  0.        ,\n",
        "           0.        ],\n",
        "         [ 0.21132487,  0.        ,  0.78867513,  0.        ,  0.        ,\n",
        "           0.        ]]), 'FE0_f1_C1': array([[ 0.        ,  0.        ,  0.        ,  0.78867513,  0.        ,\n",
        "           0.21132487],\n",
        "         [ 0.        ,  0.        ,  0.        ,  0.21132487,  0.        ,\n",
        "           0.78867513]]), 'FE1_f1_C0': array([[ 0.78867513,  0.        ,  0.21132487,  0.        ,  0.        ],\n",
        "         [ 0.21132487,  0.        ,  0.78867513,  0.        ,  0.        ]])}\n"
       ]
      },
      {
       "output_type": "stream",
       "stream": "stderr",
       "text": [
        "DEBUG:FFC:  \n",
        "  QG-utils, psi_tables, name_map:\n",
        "  {'FE1_f2_C2': ('FE1_f0_C2', (), False, False), 'FE0_f0_C0_D01': ('FE0_f0_C0_D01', (), False, False), 'FE1_f2_C0': ('FE1_f2_C0', (), False, False), 'FE1_f2_C1': ('FE1_f0_C1', (), False, False), 'FE0_f0_C1': ('FE0_f0_C1', (), False, False), 'FE0_f0_C0': ('FE0_f0_C0', (), False, False), 'FE0_f1_C1': ('FE0_f1_C1', (), False, False), 'FE0_f1_C0_D10': ('FE0_f0_C0_D10', (), False, False), 'FE0_f2_C0_D10': ('FE0_f0_C0_D10', (), False, False), 'FE0_f1_C1_D10': ('FE0_f0_C1_D10', (), False, False), 'FE0_f2_C1_D01': ('FE0_f0_C1_D01', (), False, False), 'FE1_f0_C0': ('FE1_f0_C0', (), False, False), 'FE1_f0_C1': ('FE1_f0_C1', (), False, False), 'FE1_f0_C2': ('FE1_f0_C2', (), False, False), 'FE0_f0_C1_D01': ('FE0_f0_C1_D01', (), False, False), 'FE0_f0_C0_D10': ('FE0_f0_C0_D10', (), False, False), 'FE0_f2_C1': ('FE0_f2_C1', (), False, False), 'FE0_f2_C0': ('FE0_f2_C0', (), False, False), 'FE0_f0_C1_D10': ('FE0_f0_C1_D10', (), False, False), 'FE0_f1_C0_D01': ('FE0_f0_C0_D01', (), False, False), 'FE2_f2': ('FE2_f0', (), False, True), 'FE2_f0': ('FE2_f0', (), False, True), 'FE2_f1': ('FE2_f0', (), False, True), 'FE0_f2_C0_D01': ('FE0_f0_C0_D01', (), False, False), 'FE0_f1_C0': ('FE0_f1_C0', (), False, False), 'FE0_f1_C1_D01': ('FE0_f0_C1_D01', (), False, False), 'FE0_f2_C1_D10': ('FE0_f0_C1_D10', (), False, False), 'FE1_f1_C2': ('FE1_f0_C2', (), False, False), 'FE1_f1_C1': ('FE1_f0_C1', (), False, False), 'FE1_f1_C0': ('FE1_f1_C0', (), False, False)}\n"
       ]
      },
      {
       "output_type": "stream",
       "stream": "stderr",
       "text": [
        "INFO:FFC:  Transforming exterior facet integral 0\n"
       ]
      },
      {
       "output_type": "stream",
       "stream": "stderr",
       "text": [
        "DEBUG:FFC:  Reusing element from cache\n"
       ]
      },
      {
       "output_type": "stream",
       "stream": "stderr",
       "text": [
        "DEBUG:FFC:  Reusing element from cache\n"
       ]
      },
      {
       "output_type": "stream",
       "stream": "stderr",
       "text": [
        "DEBUG:FFC:  Reusing element from cache\n"
       ]
      },
      {
       "output_type": "stream",
       "stream": "stderr",
       "text": [
        "DEBUG:FFC:  Reusing element from cache\n"
       ]
      },
      {
       "output_type": "stream",
       "stream": "stderr",
       "text": [
        "DEBUG:FFC:  Reusing element from cache\n"
       ]
      },
      {
       "output_type": "stream",
       "stream": "stderr",
       "text": [
        "DEBUG:FFC:  Reusing element from cache\n"
       ]
      },
      {
       "output_type": "stream",
       "stream": "stderr",
       "text": [
        "DEBUG:FFC:  Reusing element from cache\n"
       ]
      },
      {
       "output_type": "stream",
       "stream": "stderr",
       "text": [
        "DEBUG:FFC:  Reusing element from cache\n"
       ]
      },
      {
       "output_type": "stream",
       "stream": "stderr",
       "text": [
        "DEBUG:FFC:  Reusing element from cache\n"
       ]
      },
      {
       "output_type": "stream",
       "stream": "stderr",
       "text": [
        "DEBUG:FFC:  Reusing element from cache\n"
       ]
      },
      {
       "output_type": "stream",
       "stream": "stderr",
       "text": [
        "INFO:FFC:  Transforming exterior facet integral 1\n"
       ]
      },
      {
       "output_type": "stream",
       "stream": "stderr",
       "text": [
        "DEBUG:FFC:  Reusing element from cache\n"
       ]
      },
      {
       "output_type": "stream",
       "stream": "stderr",
       "text": [
        "DEBUG:FFC:  Reusing element from cache\n"
       ]
      },
      {
       "output_type": "stream",
       "stream": "stderr",
       "text": [
        "DEBUG:FFC:  Reusing element from cache\n"
       ]
      },
      {
       "output_type": "stream",
       "stream": "stderr",
       "text": [
        "DEBUG:FFC:  Reusing element from cache\n"
       ]
      },
      {
       "output_type": "stream",
       "stream": "stderr",
       "text": [
        "DEBUG:FFC:  Reusing element from cache\n"
       ]
      },
      {
       "output_type": "stream",
       "stream": "stderr",
       "text": [
        "DEBUG:FFC:  Reusing element from cache\n"
       ]
      },
      {
       "output_type": "stream",
       "stream": "stderr",
       "text": [
        "DEBUG:FFC:  Reusing element from cache\n"
       ]
      },
      {
       "output_type": "stream",
       "stream": "stderr",
       "text": [
        "DEBUG:FFC:  Reusing element from cache\n"
       ]
      },
      {
       "output_type": "stream",
       "stream": "stderr",
       "text": [
        "DEBUG:FFC:  Reusing element from cache\n"
       ]
      },
      {
       "output_type": "stream",
       "stream": "stderr",
       "text": [
        "DEBUG:FFC:  Reusing element from cache\n"
       ]
      },
      {
       "output_type": "stream",
       "stream": "stderr",
       "text": [
        "INFO:FFC:  Transforming exterior facet integral 2\n"
       ]
      },
      {
       "output_type": "stream",
       "stream": "stderr",
       "text": [
        "DEBUG:FFC:  Reusing element from cache\n"
       ]
      },
      {
       "output_type": "stream",
       "stream": "stderr",
       "text": [
        "DEBUG:FFC:  Reusing element from cache\n"
       ]
      },
      {
       "output_type": "stream",
       "stream": "stderr",
       "text": [
        "DEBUG:FFC:  Reusing element from cache\n"
       ]
      },
      {
       "output_type": "stream",
       "stream": "stderr",
       "text": [
        "DEBUG:FFC:  Reusing element from cache\n"
       ]
      },
      {
       "output_type": "stream",
       "stream": "stderr",
       "text": [
        "DEBUG:FFC:  Reusing element from cache\n"
       ]
      },
      {
       "output_type": "stream",
       "stream": "stderr",
       "text": [
        "DEBUG:FFC:  Reusing element from cache\n"
       ]
      },
      {
       "output_type": "stream",
       "stream": "stderr",
       "text": [
        "DEBUG:FFC:  Reusing element from cache\n"
       ]
      },
      {
       "output_type": "stream",
       "stream": "stderr",
       "text": [
        "DEBUG:FFC:  Reusing element from cache\n"
       ]
      },
      {
       "output_type": "stream",
       "stream": "stderr",
       "text": [
        "DEBUG:FFC:  Reusing element from cache\n"
       ]
      },
      {
       "output_type": "stream",
       "stream": "stderr",
       "text": [
        "DEBUG:FFC:  Reusing element from cache\n"
       ]
      },
      {
       "output_type": "stream",
       "stream": "stderr",
       "text": [
        "DEBUG:FFC:  Reusing element from cache\n"
       ]
      },
      {
       "output_type": "stream",
       "stream": "stderr",
       "text": [
        "DEBUG:FFC:  Reusing element from cache\n"
       ]
      },
      {
       "output_type": "stream",
       "stream": "stderr",
       "text": [
        "DEBUG:FFC:  Reusing element from cache\n"
       ]
      },
      {
       "output_type": "stream",
       "stream": "stderr",
       "text": [
        "INFO:FFC:  Computing representation of forms\n"
       ]
      },
      {
       "output_type": "stream",
       "stream": "stderr",
       "text": [
        "INFO:FFC:  \n"
       ]
      },
      {
       "output_type": "stream",
       "stream": "stderr",
       "text": [
        "INFO:FFC:Compiler stage 2 finished in 0.187502 seconds.\n",
        "\n"
       ]
      },
      {
       "output_type": "stream",
       "stream": "stderr",
       "text": [
        "INFO:FFC:Compiler stage 3: Optimizing intermediate representation\n"
       ]
      },
      {
       "output_type": "stream",
       "stream": "stderr",
       "text": [
        "INFO:FFC:--------------------------------------------------------\n"
       ]
      },
      {
       "output_type": "stream",
       "stream": "stderr",
       "text": [
        "INFO:FFC:  Skipping optimizations, add -O to optimize\n"
       ]
      },
      {
       "output_type": "stream",
       "stream": "stderr",
       "text": [
        "INFO:FFC:  \n"
       ]
      },
      {
       "output_type": "stream",
       "stream": "stderr",
       "text": [
        "INFO:FFC:Compiler stage 3 finished in 0.00141788 seconds.\n",
        "\n"
       ]
      },
      {
       "output_type": "stream",
       "stream": "stderr",
       "text": [
        "INFO:FFC:Compiler stage 4: Generating code\n"
       ]
      },
      {
       "output_type": "stream",
       "stream": "stderr",
       "text": [
        "INFO:FFC:---------------------------------\n"
       ]
      },
      {
       "output_type": "stream",
       "stream": "stderr",
       "text": [
        "INFO:FFC:  Generating code for 3 element(s)\n"
       ]
      },
      {
       "output_type": "stream",
       "stream": "stderr",
       "text": [
        "DEBUG:FFC:  Removing unused variable: tmp2\n"
       ]
      },
      {
       "output_type": "stream",
       "stream": "stderr",
       "text": [
        "DEBUG:FFC:  Removing unused variable: tmp1\n"
       ]
      },
      {
       "output_type": "stream",
       "stream": "stderr",
       "text": [
        "DEBUG:FFC:  Removing unused variable: tmp7\n"
       ]
      },
      {
       "output_type": "stream",
       "stream": "stderr",
       "text": [
        "DEBUG:FFC:  Removing unused variable: tmp6\n"
       ]
      },
      {
       "output_type": "stream",
       "stream": "stderr",
       "text": [
        "DEBUG:FFC:  Removing unused variable: tmp5\n"
       ]
      },
      {
       "output_type": "stream",
       "stream": "stderr",
       "text": [
        "DEBUG:FFC:  Removing unused variable: tt\n"
       ]
      },
      {
       "output_type": "stream",
       "stream": "stderr",
       "text": [
        "DEBUG:FFC:  Removing unused variable: ss\n"
       ]
      },
      {
       "output_type": "stream",
       "stream": "stderr",
       "text": [
        "DEBUG:FFC:  Removing unused variable: rr\n"
       ]
      },
      {
       "output_type": "stream",
       "stream": "stderr",
       "text": [
        "DEBUG:FFC:  Removing unused variable: tmp2\n"
       ]
      },
      {
       "output_type": "stream",
       "stream": "stderr",
       "text": [
        "DEBUG:FFC:  Removing unused variable: tmp1\n"
       ]
      },
      {
       "output_type": "stream",
       "stream": "stderr",
       "text": [
        "DEBUG:FFC:  Removing unused variable: tmp7\n"
       ]
      },
      {
       "output_type": "stream",
       "stream": "stderr",
       "text": [
        "DEBUG:FFC:  Removing unused variable: tmp6\n"
       ]
      },
      {
       "output_type": "stream",
       "stream": "stderr",
       "text": [
        "DEBUG:FFC:  Removing unused variable: tmp5\n"
       ]
      },
      {
       "output_type": "stream",
       "stream": "stderr",
       "text": [
        "DEBUG:FFC:  Removing unused variable: tt\n"
       ]
      },
      {
       "output_type": "stream",
       "stream": "stderr",
       "text": [
        "DEBUG:FFC:  Removing unused variable: ss\n"
       ]
      },
      {
       "output_type": "stream",
       "stream": "stderr",
       "text": [
        "DEBUG:FFC:  Removing unused variable: rr\n"
       ]
      },
      {
       "output_type": "stream",
       "stream": "stderr",
       "text": [
        "DEBUG:FFC:  Removing unused variable: tmp2\n"
       ]
      },
      {
       "output_type": "stream",
       "stream": "stderr",
       "text": [
        "DEBUG:FFC:  Removing unused variable: tmp1\n"
       ]
      },
      {
       "output_type": "stream",
       "stream": "stderr",
       "text": [
        "DEBUG:FFC:  Removing unused variable: tmp7\n"
       ]
      },
      {
       "output_type": "stream",
       "stream": "stderr",
       "text": [
        "DEBUG:FFC:  Removing unused variable: tmp6\n"
       ]
      },
      {
       "output_type": "stream",
       "stream": "stderr",
       "text": [
        "DEBUG:FFC:  Removing unused variable: tmp5\n"
       ]
      },
      {
       "output_type": "stream",
       "stream": "stderr",
       "text": [
        "DEBUG:FFC:  Removing unused variable: tt\n"
       ]
      },
      {
       "output_type": "stream",
       "stream": "stderr",
       "text": [
        "DEBUG:FFC:  Removing unused variable: ss\n"
       ]
      },
      {
       "output_type": "stream",
       "stream": "stderr",
       "text": [
        "DEBUG:FFC:  Removing unused variable: rr\n"
       ]
      },
      {
       "output_type": "stream",
       "stream": "stderr",
       "text": [
        "DEBUG:FFC:  Removing unused variable: tmp2\n"
       ]
      },
      {
       "output_type": "stream",
       "stream": "stderr",
       "text": [
        "DEBUG:FFC:  Removing unused variable: tmp1\n"
       ]
      },
      {
       "output_type": "stream",
       "stream": "stderr",
       "text": [
        "DEBUG:FFC:  Removing unused variable: tmp7\n"
       ]
      },
      {
       "output_type": "stream",
       "stream": "stderr",
       "text": [
        "DEBUG:FFC:  Removing unused variable: tmp6\n"
       ]
      },
      {
       "output_type": "stream",
       "stream": "stderr",
       "text": [
        "DEBUG:FFC:  Removing unused variable: tmp5\n"
       ]
      },
      {
       "output_type": "stream",
       "stream": "stderr",
       "text": [
        "DEBUG:FFC:  Removing unused variable: tt\n"
       ]
      },
      {
       "output_type": "stream",
       "stream": "stderr",
       "text": [
        "DEBUG:FFC:  Removing unused variable: ss\n"
       ]
      },
      {
       "output_type": "stream",
       "stream": "stderr",
       "text": [
        "DEBUG:FFC:  Removing unused variable: rr\n"
       ]
      },
      {
       "output_type": "stream",
       "stream": "stderr",
       "text": [
        "DEBUG:FFC:  Removing unused variable: tmp2\n"
       ]
      },
      {
       "output_type": "stream",
       "stream": "stderr",
       "text": [
        "DEBUG:FFC:  Removing unused variable: tmp1\n"
       ]
      },
      {
       "output_type": "stream",
       "stream": "stderr",
       "text": [
        "DEBUG:FFC:  Removing unused variable: tmp7\n"
       ]
      },
      {
       "output_type": "stream",
       "stream": "stderr",
       "text": [
        "DEBUG:FFC:  Removing unused variable: tmp6\n"
       ]
      },
      {
       "output_type": "stream",
       "stream": "stderr",
       "text": [
        "DEBUG:FFC:  Removing unused variable: tmp5\n"
       ]
      },
      {
       "output_type": "stream",
       "stream": "stderr",
       "text": [
        "DEBUG:FFC:  Removing unused variable: tt\n"
       ]
      },
      {
       "output_type": "stream",
       "stream": "stderr",
       "text": [
        "DEBUG:FFC:  Removing unused variable: ss\n"
       ]
      },
      {
       "output_type": "stream",
       "stream": "stderr",
       "text": [
        "DEBUG:FFC:  Removing unused variable: rr\n"
       ]
      },
      {
       "output_type": "stream",
       "stream": "stderr",
       "text": [
        "DEBUG:FFC:  Removing unused variable: tmp2\n"
       ]
      },
      {
       "output_type": "stream",
       "stream": "stderr",
       "text": [
        "DEBUG:FFC:  Removing unused variable: tmp1\n"
       ]
      },
      {
       "output_type": "stream",
       "stream": "stderr",
       "text": [
        "DEBUG:FFC:  Removing unused variable: tmp7\n"
       ]
      },
      {
       "output_type": "stream",
       "stream": "stderr",
       "text": [
        "DEBUG:FFC:  Removing unused variable: tmp6\n"
       ]
      },
      {
       "output_type": "stream",
       "stream": "stderr",
       "text": [
        "DEBUG:FFC:  Removing unused variable: tmp5\n"
       ]
      },
      {
       "output_type": "stream",
       "stream": "stderr",
       "text": [
        "DEBUG:FFC:  Removing unused variable: tt\n"
       ]
      },
      {
       "output_type": "stream",
       "stream": "stderr",
       "text": [
        "DEBUG:FFC:  Removing unused variable: ss\n"
       ]
      },
      {
       "output_type": "stream",
       "stream": "stderr",
       "text": [
        "DEBUG:FFC:  Removing unused variable: rr\n"
       ]
      },
      {
       "output_type": "stream",
       "stream": "stderr",
       "text": [
        "DEBUG:FFC:  Removing unused variable: tmp2\n"
       ]
      },
      {
       "output_type": "stream",
       "stream": "stderr",
       "text": [
        "DEBUG:FFC:  Removing unused variable: tmp1\n"
       ]
      },
      {
       "output_type": "stream",
       "stream": "stderr",
       "text": [
        "DEBUG:FFC:  Removing unused variable: tmp0\n"
       ]
      },
      {
       "output_type": "stream",
       "stream": "stderr",
       "text": [
        "DEBUG:FFC:  Removing unused variable: tmp7\n"
       ]
      },
      {
       "output_type": "stream",
       "stream": "stderr",
       "text": [
        "DEBUG:FFC:  Removing unused variable: tmp6\n"
       ]
      },
      {
       "output_type": "stream",
       "stream": "stderr",
       "text": [
        "DEBUG:FFC:  Removing unused variable: tmp5\n"
       ]
      },
      {
       "output_type": "stream",
       "stream": "stderr",
       "text": [
        "DEBUG:FFC:  Removing unused variable: tt\n"
       ]
      },
      {
       "output_type": "stream",
       "stream": "stderr",
       "text": [
        "DEBUG:FFC:  Removing unused variable: ss\n"
       ]
      },
      {
       "output_type": "stream",
       "stream": "stderr",
       "text": [
        "DEBUG:FFC:  Removing unused variable: rr\n"
       ]
      },
      {
       "output_type": "stream",
       "stream": "stderr",
       "text": [
        "DEBUG:FFC:  Removing unused variable: Y\n"
       ]
      },
      {
       "output_type": "stream",
       "stream": "stderr",
       "text": [
        "DEBUG:FFC:  Removing unused variable: X\n"
       ]
      },
      {
       "output_type": "stream",
       "stream": "stderr",
       "text": [
        "DEBUG:FFC:  Removing unused variable: C1\n"
       ]
      },
      {
       "output_type": "stream",
       "stream": "stderr",
       "text": [
        "DEBUG:FFC:  Removing unused variable: C0\n"
       ]
      },
      {
       "output_type": "stream",
       "stream": "stderr",
       "text": [
        "DEBUG:FFC:  Removing unused variable: tmp2\n"
       ]
      },
      {
       "output_type": "stream",
       "stream": "stderr",
       "text": [
        "DEBUG:FFC:  Removing unused variable: tmp1\n"
       ]
      },
      {
       "output_type": "stream",
       "stream": "stderr",
       "text": [
        "DEBUG:FFC:  Removing unused variable: tmp7\n"
       ]
      },
      {
       "output_type": "stream",
       "stream": "stderr",
       "text": [
        "DEBUG:FFC:  Removing unused variable: tmp6\n"
       ]
      },
      {
       "output_type": "stream",
       "stream": "stderr",
       "text": [
        "DEBUG:FFC:  Removing unused variable: tmp5\n"
       ]
      },
      {
       "output_type": "stream",
       "stream": "stderr",
       "text": [
        "DEBUG:FFC:  Removing unused variable: tt\n"
       ]
      },
      {
       "output_type": "stream",
       "stream": "stderr",
       "text": [
        "DEBUG:FFC:  Removing unused variable: ss\n"
       ]
      },
      {
       "output_type": "stream",
       "stream": "stderr",
       "text": [
        "DEBUG:FFC:  Removing unused variable: rr\n"
       ]
      },
      {
       "output_type": "stream",
       "stream": "stderr",
       "text": [
        "DEBUG:FFC:  Removing unused variable: tmp2\n"
       ]
      },
      {
       "output_type": "stream",
       "stream": "stderr",
       "text": [
        "DEBUG:FFC:  Removing unused variable: tmp1\n"
       ]
      },
      {
       "output_type": "stream",
       "stream": "stderr",
       "text": [
        "DEBUG:FFC:  Removing unused variable: tmp7\n"
       ]
      },
      {
       "output_type": "stream",
       "stream": "stderr",
       "text": [
        "DEBUG:FFC:  Removing unused variable: tmp6\n"
       ]
      },
      {
       "output_type": "stream",
       "stream": "stderr",
       "text": [
        "DEBUG:FFC:  Removing unused variable: tmp5\n"
       ]
      },
      {
       "output_type": "stream",
       "stream": "stderr",
       "text": [
        "DEBUG:FFC:  Removing unused variable: tt\n"
       ]
      },
      {
       "output_type": "stream",
       "stream": "stderr",
       "text": [
        "DEBUG:FFC:  Removing unused variable: ss\n"
       ]
      },
      {
       "output_type": "stream",
       "stream": "stderr",
       "text": [
        "DEBUG:FFC:  Removing unused variable: rr\n"
       ]
      },
      {
       "output_type": "stream",
       "stream": "stderr",
       "text": [
        "DEBUG:FFC:  Removing unused variable: tmp2\n"
       ]
      },
      {
       "output_type": "stream",
       "stream": "stderr",
       "text": [
        "DEBUG:FFC:  Removing unused variable: tmp1\n"
       ]
      },
      {
       "output_type": "stream",
       "stream": "stderr",
       "text": [
        "DEBUG:FFC:  Removing unused variable: tmp7\n"
       ]
      },
      {
       "output_type": "stream",
       "stream": "stderr",
       "text": [
        "DEBUG:FFC:  Removing unused variable: tmp6\n"
       ]
      },
      {
       "output_type": "stream",
       "stream": "stderr",
       "text": [
        "DEBUG:FFC:  Removing unused variable: tmp5\n"
       ]
      },
      {
       "output_type": "stream",
       "stream": "stderr",
       "text": [
        "DEBUG:FFC:  Removing unused variable: tt\n"
       ]
      },
      {
       "output_type": "stream",
       "stream": "stderr",
       "text": [
        "DEBUG:FFC:  Removing unused variable: ss\n"
       ]
      },
      {
       "output_type": "stream",
       "stream": "stderr",
       "text": [
        "DEBUG:FFC:  Removing unused variable: rr\n"
       ]
      },
      {
       "output_type": "stream",
       "stream": "stderr",
       "text": [
        "DEBUG:FFC:  Removing unused variable: tmp2\n"
       ]
      },
      {
       "output_type": "stream",
       "stream": "stderr",
       "text": [
        "DEBUG:FFC:  Removing unused variable: tmp1\n"
       ]
      },
      {
       "output_type": "stream",
       "stream": "stderr",
       "text": [
        "DEBUG:FFC:  Removing unused variable: tmp0\n"
       ]
      },
      {
       "output_type": "stream",
       "stream": "stderr",
       "text": [
        "DEBUG:FFC:  Removing unused variable: tmp7\n"
       ]
      },
      {
       "output_type": "stream",
       "stream": "stderr",
       "text": [
        "DEBUG:FFC:  Removing unused variable: tmp6\n"
       ]
      },
      {
       "output_type": "stream",
       "stream": "stderr",
       "text": [
        "DEBUG:FFC:  Removing unused variable: tmp5\n"
       ]
      },
      {
       "output_type": "stream",
       "stream": "stderr",
       "text": [
        "DEBUG:FFC:  Removing unused variable: tt\n"
       ]
      },
      {
       "output_type": "stream",
       "stream": "stderr",
       "text": [
        "DEBUG:FFC:  Removing unused variable: ss\n"
       ]
      },
      {
       "output_type": "stream",
       "stream": "stderr",
       "text": [
        "DEBUG:FFC:  Removing unused variable: rr\n"
       ]
      },
      {
       "output_type": "stream",
       "stream": "stderr",
       "text": [
        "DEBUG:FFC:  Removing unused variable: tmp2\n"
       ]
      },
      {
       "output_type": "stream",
       "stream": "stderr",
       "text": [
        "DEBUG:FFC:  Removing unused variable: tmp1\n"
       ]
      },
      {
       "output_type": "stream",
       "stream": "stderr",
       "text": [
        "DEBUG:FFC:  Removing unused variable: tmp0\n"
       ]
      },
      {
       "output_type": "stream",
       "stream": "stderr",
       "text": [
        "DEBUG:FFC:  Removing unused variable: tmp7\n"
       ]
      },
      {
       "output_type": "stream",
       "stream": "stderr",
       "text": [
        "DEBUG:FFC:  Removing unused variable: tmp6\n"
       ]
      },
      {
       "output_type": "stream",
       "stream": "stderr",
       "text": [
        "DEBUG:FFC:  Removing unused variable: tmp5\n"
       ]
      },
      {
       "output_type": "stream",
       "stream": "stderr",
       "text": [
        "DEBUG:FFC:  Removing unused variable: tt\n"
       ]
      },
      {
       "output_type": "stream",
       "stream": "stderr",
       "text": [
        "DEBUG:FFC:  Removing unused variable: ss\n"
       ]
      },
      {
       "output_type": "stream",
       "stream": "stderr",
       "text": [
        "DEBUG:FFC:  Removing unused variable: rr\n"
       ]
      },
      {
       "output_type": "stream",
       "stream": "stderr",
       "text": [
        "DEBUG:FFC:  Removing unused variable: tmp2\n"
       ]
      },
      {
       "output_type": "stream",
       "stream": "stderr",
       "text": [
        "DEBUG:FFC:  Removing unused variable: tmp1\n"
       ]
      },
      {
       "output_type": "stream",
       "stream": "stderr",
       "text": [
        "DEBUG:FFC:  Removing unused variable: tmp7\n"
       ]
      },
      {
       "output_type": "stream",
       "stream": "stderr",
       "text": [
        "DEBUG:FFC:  Removing unused variable: tmp6\n"
       ]
      },
      {
       "output_type": "stream",
       "stream": "stderr",
       "text": [
        "DEBUG:FFC:  Removing unused variable: tmp5\n"
       ]
      },
      {
       "output_type": "stream",
       "stream": "stderr",
       "text": [
        "DEBUG:FFC:  Removing unused variable: tt\n"
       ]
      },
      {
       "output_type": "stream",
       "stream": "stderr",
       "text": [
        "DEBUG:FFC:  Removing unused variable: ss\n"
       ]
      },
      {
       "output_type": "stream",
       "stream": "stderr",
       "text": [
        "DEBUG:FFC:  Removing unused variable: rr\n"
       ]
      },
      {
       "output_type": "stream",
       "stream": "stderr",
       "text": [
        "DEBUG:FFC:  Removing unused variable: tmp2\n"
       ]
      },
      {
       "output_type": "stream",
       "stream": "stderr",
       "text": [
        "DEBUG:FFC:  Removing unused variable: tmp1\n"
       ]
      },
      {
       "output_type": "stream",
       "stream": "stderr",
       "text": [
        "DEBUG:FFC:  Removing unused variable: tmp7\n"
       ]
      },
      {
       "output_type": "stream",
       "stream": "stderr",
       "text": [
        "DEBUG:FFC:  Removing unused variable: tmp6\n"
       ]
      },
      {
       "output_type": "stream",
       "stream": "stderr",
       "text": [
        "DEBUG:FFC:  Removing unused variable: tmp5\n"
       ]
      },
      {
       "output_type": "stream",
       "stream": "stderr",
       "text": [
        "DEBUG:FFC:  Removing unused variable: tt\n"
       ]
      },
      {
       "output_type": "stream",
       "stream": "stderr",
       "text": [
        "DEBUG:FFC:  Removing unused variable: ss\n"
       ]
      },
      {
       "output_type": "stream",
       "stream": "stderr",
       "text": [
        "DEBUG:FFC:  Removing unused variable: rr\n"
       ]
      },
      {
       "output_type": "stream",
       "stream": "stderr",
       "text": [
        "DEBUG:FFC:  Removing unused variable: tmp2\n"
       ]
      },
      {
       "output_type": "stream",
       "stream": "stderr",
       "text": [
        "DEBUG:FFC:  Removing unused variable: tmp1\n"
       ]
      },
      {
       "output_type": "stream",
       "stream": "stderr",
       "text": [
        "DEBUG:FFC:  Removing unused variable: tmp7\n"
       ]
      },
      {
       "output_type": "stream",
       "stream": "stderr",
       "text": [
        "DEBUG:FFC:  Removing unused variable: tmp6\n"
       ]
      },
      {
       "output_type": "stream",
       "stream": "stderr",
       "text": [
        "DEBUG:FFC:  Removing unused variable: tmp5\n"
       ]
      },
      {
       "output_type": "stream",
       "stream": "stderr",
       "text": [
        "DEBUG:FFC:  Removing unused variable: tt\n"
       ]
      },
      {
       "output_type": "stream",
       "stream": "stderr",
       "text": [
        "DEBUG:FFC:  Removing unused variable: ss\n"
       ]
      },
      {
       "output_type": "stream",
       "stream": "stderr",
       "text": [
        "DEBUG:FFC:  Removing unused variable: rr\n"
       ]
      },
      {
       "output_type": "stream",
       "stream": "stderr",
       "text": [
        "DEBUG:FFC:  Removing unused variable: tmp2\n"
       ]
      },
      {
       "output_type": "stream",
       "stream": "stderr",
       "text": [
        "DEBUG:FFC:  Removing unused variable: tmp1\n"
       ]
      },
      {
       "output_type": "stream",
       "stream": "stderr",
       "text": [
        "DEBUG:FFC:  Removing unused variable: tmp0\n"
       ]
      },
      {
       "output_type": "stream",
       "stream": "stderr",
       "text": [
        "DEBUG:FFC:  Removing unused variable: tmp7\n"
       ]
      },
      {
       "output_type": "stream",
       "stream": "stderr",
       "text": [
        "DEBUG:FFC:  Removing unused variable: tmp6\n"
       ]
      },
      {
       "output_type": "stream",
       "stream": "stderr",
       "text": [
        "DEBUG:FFC:  Removing unused variable: tmp5\n"
       ]
      },
      {
       "output_type": "stream",
       "stream": "stderr",
       "text": [
        "DEBUG:FFC:  Removing unused variable: tt\n"
       ]
      },
      {
       "output_type": "stream",
       "stream": "stderr",
       "text": [
        "DEBUG:FFC:  Removing unused variable: ss\n"
       ]
      },
      {
       "output_type": "stream",
       "stream": "stderr",
       "text": [
        "DEBUG:FFC:  Removing unused variable: rr\n"
       ]
      },
      {
       "output_type": "stream",
       "stream": "stderr",
       "text": [
        "DEBUG:FFC:  Removing unused variable: tmp2\n"
       ]
      },
      {
       "output_type": "stream",
       "stream": "stderr",
       "text": [
        "DEBUG:FFC:  Removing unused variable: tmp1\n"
       ]
      },
      {
       "output_type": "stream",
       "stream": "stderr",
       "text": [
        "DEBUG:FFC:  Removing unused variable: tmp0\n"
       ]
      },
      {
       "output_type": "stream",
       "stream": "stderr",
       "text": [
        "DEBUG:FFC:  Removing unused variable: tmp7\n"
       ]
      },
      {
       "output_type": "stream",
       "stream": "stderr",
       "text": [
        "DEBUG:FFC:  Removing unused variable: tmp6\n"
       ]
      },
      {
       "output_type": "stream",
       "stream": "stderr",
       "text": [
        "DEBUG:FFC:  Removing unused variable: tmp5\n"
       ]
      },
      {
       "output_type": "stream",
       "stream": "stderr",
       "text": [
        "DEBUG:FFC:  Removing unused variable: tt\n"
       ]
      },
      {
       "output_type": "stream",
       "stream": "stderr",
       "text": [
        "DEBUG:FFC:  Removing unused variable: ss\n"
       ]
      },
      {
       "output_type": "stream",
       "stream": "stderr",
       "text": [
        "DEBUG:FFC:  Removing unused variable: rr\n"
       ]
      },
      {
       "output_type": "stream",
       "stream": "stderr",
       "text": [
        "INFO:FFC:  Generating code for 3 dofmap(s)\n"
       ]
      },
      {
       "output_type": "stream",
       "stream": "stderr",
       "text": [
        "INFO:FFC:  Generating code for integrals\n"
       ]
      },
      {
       "output_type": "stream",
       "stream": "stderr",
       "text": [
        "DEBUG:FFC:  Removing unused variable: circumradius\n"
       ]
      },
      {
       "output_type": "stream",
       "stream": "stderr",
       "text": [
        "DEBUG:FFC:  Removing unused variable: v0v1\n"
       ]
      },
      {
       "output_type": "stream",
       "stream": "stderr",
       "text": [
        "DEBUG:FFC:  Removing unused variable: v0v2\n"
       ]
      },
      {
       "output_type": "stream",
       "stream": "stderr",
       "text": [
        "DEBUG:FFC:  Removing unused variable: v1v2\n"
       ]
      },
      {
       "output_type": "stream",
       "stream": "stderr",
       "text": [
        "DEBUG:FFC:  Removing unused variable: volume\n"
       ]
      },
      {
       "output_type": "stream",
       "stream": "stderr",
       "text": [
        "DEBUG:FFC:  Removing unused variable: circumradius\n"
       ]
      },
      {
       "output_type": "stream",
       "stream": "stderr",
       "text": [
        "DEBUG:FFC:  Removing unused variable: v0v1\n"
       ]
      },
      {
       "output_type": "stream",
       "stream": "stderr",
       "text": [
        "DEBUG:FFC:  Removing unused variable: v0v2\n"
       ]
      },
      {
       "output_type": "stream",
       "stream": "stderr",
       "text": [
        "DEBUG:FFC:  Removing unused variable: v1v2\n"
       ]
      },
      {
       "output_type": "stream",
       "stream": "stderr",
       "text": [
        "DEBUG:FFC:  Removing unused variable: volume\n"
       ]
      },
      {
       "output_type": "stream",
       "stream": "stderr",
       "text": [
        "DEBUG:FFC:  Removing unused variable: facet_area\n"
       ]
      },
      {
       "output_type": "stream",
       "stream": "stderr",
       "text": [
        "DEBUG:FFC:  Removing unused variable: n1\n"
       ]
      },
      {
       "output_type": "stream",
       "stream": "stderr",
       "text": [
        "DEBUG:FFC:  Removing unused variable: n0\n"
       ]
      },
      {
       "output_type": "stream",
       "stream": "stderr",
       "text": [
        "DEBUG:FFC:  Removing unused variable: direction\n"
       ]
      },
      {
       "output_type": "stream",
       "stream": "stderr",
       "text": [
        "INFO:FFC:  Generating code for forms\n"
       ]
      },
      {
       "output_type": "stream",
       "stream": "stderr",
       "text": [
        "INFO:FFC:  \n"
       ]
      },
      {
       "output_type": "stream",
       "stream": "stderr",
       "text": [
        "INFO:FFC:Compiler stage 4 finished in 0.133341 seconds.\n",
        "\n"
       ]
      },
      {
       "output_type": "stream",
       "stream": "stderr",
       "text": [
        "INFO:FFC:Compiler stage 4.1 finished in 5.00679e-06 seconds.\n",
        "\n"
       ]
      },
      {
       "output_type": "stream",
       "stream": "stderr",
       "text": [
        "INFO:FFC:Compiler stage 5: Formatting code\n"
       ]
      },
      {
       "output_type": "stream",
       "stream": "stderr",
       "text": [
        "INFO:FFC:---------------------------------\n"
       ]
      },
      {
       "output_type": "stream",
       "stream": "stderr",
       "text": [
        "INFO:FFC:  Output written to ./ffc_form_7a09c86d73316e7d8962bf278c106bffb00bb865.h.\n"
       ]
      },
      {
       "output_type": "stream",
       "stream": "stderr",
       "text": [
        "INFO:FFC:  \n"
       ]
      },
      {
       "output_type": "stream",
       "stream": "stderr",
       "text": [
        "INFO:FFC:Compiler stage 5 finished in 0.00206709 seconds.\n",
        "\n"
       ]
      },
      {
       "output_type": "stream",
       "stream": "stderr",
       "text": [
        "INFO:FFC:\u001b[1;37;32mFFC finished in 0.377424 seconds.\u001b[0m\n"
       ]
      },
      {
       "output_type": "stream",
       "stream": "stderr",
       "text": [
        "DEBUG:FFC:Compiling and linking Python extension module, this may take some time.\n"
       ]
      },
      {
       "output_type": "stream",
       "stream": "stdout",
       "text": [
        "Calling FFC just-in-time (JIT) compiler, this may take some time.\n"
       ]
      },
      {
       "output_type": "stream",
       "stream": "stderr",
       "text": [
        "Level 25:FFC:Calling FFC just-in-time (JIT) compiler, this may take some time.\n"
       ]
      },
      {
       "output_type": "stream",
       "stream": "stderr",
       "text": [
        "INFO:FFC:Compiling form ffc_form_defd903a9c0590277e79edc317a5e164327bd20c\n",
        "\n"
       ]
      },
      {
       "output_type": "stream",
       "stream": "stderr",
       "text": [
        "INFO:FFC:Compiler stage 1: Analyzing form(s)\n"
       ]
      },
      {
       "output_type": "stream",
       "stream": "stderr",
       "text": [
        "INFO:FFC:-----------------------------------\n"
       ]
      },
      {
       "output_type": "stream",
       "stream": "stderr",
       "text": [
        "INFO:UFL:Adjusting missing element domain to <Domain built from <triangle cell in 2D> with label dolfin_mesh_with_id_4186>.\n"
       ]
      },
      {
       "output_type": "stream",
       "stream": "stderr",
       "text": [
        "INFO:UFL:Adjusting missing element domain to <Domain built from <triangle cell in 2D> with label dolfin_mesh_with_id_4186>.\n"
       ]
      },
      {
       "output_type": "stream",
       "stream": "stderr",
       "text": [
        "INFO:FFC:  \n"
       ]
      },
      {
       "output_type": "stream",
       "stream": "stderr",
       "text": [
        "INFO:FFC:  Geometric dimension:                 2\n",
        "  Number of cell subdomains:           0\n",
        "  Number of exterior_facet subdomains: 11\n",
        "  Rank:                                2\n",
        "  Arguments:                           '(v_0, v_1)'\n",
        "  Number of coefficients:              2\n",
        "  Coefficients:                        '[f_387, f_4205]'\n",
        "  Unique elements:                     'Mixed<CG1(?), R0(?), R0(?)>, R0(?)'\n",
        "  Unique sub elements:                 'Mixed<CG1(?), R0(?), R0(?)>, R0(?), CG1(?)'\n",
        "  \n"
       ]
      },
      {
       "output_type": "stream",
       "stream": "stderr",
       "text": [
        "INFO:FFC:  Extracting monomial form representation from UFL form\n"
       ]
      },
      {
       "output_type": "stream",
       "stream": "stderr",
       "text": [
        "DEBUG:FFC:  Monomial extraction failed: No handler defined for expression Division.\n"
       ]
      },
      {
       "output_type": "stream",
       "stream": "stderr",
       "text": [
        "DEBUG:FFC:  Estimated cost of tensor representation: -1\n"
       ]
      },
      {
       "output_type": "stream",
       "stream": "stderr",
       "text": [
        "INFO:FFC:  representation:    auto --> quadrature\n"
       ]
      },
      {
       "output_type": "stream",
       "stream": "stderr",
       "text": [
        "DEBUG:FFC:  Selecting quadrature degree based on total polynomial degree of integrand: 2\n"
       ]
      },
      {
       "output_type": "stream",
       "stream": "stderr",
       "text": [
        "INFO:FFC:  quadrature_degree: auto --> 2\n"
       ]
      },
      {
       "output_type": "stream",
       "stream": "stderr",
       "text": [
        "INFO:FFC:  quadrature_rule:   auto --> default\n"
       ]
      },
      {
       "output_type": "stream",
       "stream": "stderr",
       "text": [
        "INFO:FFC:  Extracting monomial form representation from UFL form\n"
       ]
      },
      {
       "output_type": "stream",
       "stream": "stderr",
       "text": [
        "DEBUG:FFC:  Monomial extraction failed: No handler defined for expression Division.\n"
       ]
      },
      {
       "output_type": "stream",
       "stream": "stderr",
       "text": [
        "DEBUG:FFC:  Estimated cost of tensor representation: -1\n"
       ]
      },
      {
       "output_type": "stream",
       "stream": "stderr",
       "text": [
        "INFO:FFC:  representation:    auto --> quadrature\n"
       ]
      },
      {
       "output_type": "stream",
       "stream": "stderr",
       "text": [
        "DEBUG:FFC:  Selecting quadrature degree based on total polynomial degree of integrand: 2\n"
       ]
      },
      {
       "output_type": "stream",
       "stream": "stderr",
       "text": [
        "INFO:FFC:  quadrature_degree: auto --> 2\n"
       ]
      },
      {
       "output_type": "stream",
       "stream": "stderr",
       "text": [
        "INFO:FFC:  quadrature_rule:   auto --> default\n"
       ]
      },
      {
       "output_type": "stream",
       "stream": "stderr",
       "text": [
        "INFO:FFC:  \n"
       ]
      },
      {
       "output_type": "stream",
       "stream": "stderr",
       "text": [
        "INFO:FFC:Compiler stage 1 finished in 0.0517519 seconds.\n",
        "\n"
       ]
      },
      {
       "output_type": "stream",
       "stream": "stderr",
       "text": [
        "INFO:FFC:Compiler stage 2: Computing intermediate representation\n"
       ]
      },
      {
       "output_type": "stream",
       "stream": "stderr",
       "text": [
        "INFO:FFC:-------------------------------------------------------\n"
       ]
      },
      {
       "output_type": "stream",
       "stream": "stderr",
       "text": [
        "INFO:FFC:  Computing representation of 3 elements\n"
       ]
      },
      {
       "output_type": "stream",
       "stream": "stderr",
       "text": [
        "DEBUG:FFC:  Reusing element from cache\n"
       ]
      },
      {
       "output_type": "stream",
       "stream": "stderr",
       "text": [
        "DEBUG:FFC:  Reusing element from cache\n"
       ]
      },
      {
       "output_type": "stream",
       "stream": "stderr",
       "text": [
        "DEBUG:FFC:  Reusing element from cache\n"
       ]
      },
      {
       "output_type": "stream",
       "stream": "stderr",
       "text": [
        "DEBUG:FFC:  Reusing element from cache\n"
       ]
      },
      {
       "output_type": "stream",
       "stream": "stderr",
       "text": [
        "DEBUG:FFC:  Reusing element from cache\n"
       ]
      },
      {
       "output_type": "stream",
       "stream": "stderr",
       "text": [
        "DEBUG:FFC:  Reusing element from cache\n"
       ]
      },
      {
       "output_type": "stream",
       "stream": "stderr",
       "text": [
        "INFO:FFC:  Computing representation of 3 dofmaps\n"
       ]
      },
      {
       "output_type": "stream",
       "stream": "stderr",
       "text": [
        "DEBUG:FFC:  Reusing element from cache\n"
       ]
      },
      {
       "output_type": "stream",
       "stream": "stderr",
       "text": [
        "DEBUG:FFC:  Reusing element from cache\n"
       ]
      },
      {
       "output_type": "stream",
       "stream": "stderr",
       "text": [
        "DEBUG:FFC:  Reusing element from cache\n"
       ]
      },
      {
       "output_type": "stream",
       "stream": "stderr",
       "text": [
        "INFO:FFC:  Computing representation of integrals\n"
       ]
      },
      {
       "output_type": "stream",
       "stream": "stderr",
       "text": [
        "INFO:FFC:  Computing quadrature representation\n"
       ]
      },
      {
       "output_type": "stream",
       "stream": "stderr",
       "text": [
        "DEBUG:FFC:  Reusing element from cache\n"
       ]
      },
      {
       "output_type": "stream",
       "stream": "stderr",
       "text": [
        "DEBUG:FFC:  Reusing element from cache\n"
       ]
      },
      {
       "output_type": "stream",
       "stream": "stderr",
       "text": [
        "DEBUG:FFC:  Reusing element from cache\n"
       ]
      },
      {
       "output_type": "stream",
       "stream": "stderr",
       "text": [
        "DEBUG:FFC:  Reusing element from cache\n"
       ]
      },
      {
       "output_type": "stream",
       "stream": "stderr",
       "text": [
        "DEBUG:FFC:  Reusing element from cache\n"
       ]
      },
      {
       "output_type": "stream",
       "stream": "stderr",
       "text": [
        "DEBUG:FFC:  Reusing element from cache\n"
       ]
      },
      {
       "output_type": "stream",
       "stream": "stderr",
       "text": [
        "DEBUG:FFC:  Reusing element from cache\n"
       ]
      },
      {
       "output_type": "stream",
       "stream": "stderr",
       "text": [
        "DEBUG:FFC:  \n",
        "  QG-utils, psi_tables:\n",
        "  {3: {FiniteElement('Real', Domain(Cell('triangle', 2), label='dolfin_mesh_with_id_4186', data='<data with id 4186>'), 0, quad_scheme=None): {None: {None: {(0, 0): array([[ 1.,  1.,  1.]])}}}, MixedElement(*[FiniteElement('Lagrange', Domain(Cell('triangle', 2), label='dolfin_mesh_with_id_4186', data='<data with id 4186>'), 1, quad_scheme=None), FiniteElement('Real', Domain(Cell('triangle', 2), label='dolfin_mesh_with_id_4186', data='<data with id 4186>'), 0, quad_scheme=None), FiniteElement('Real', Domain(Cell('triangle', 2), label='dolfin_mesh_with_id_4186', data='<data with id 4186>'), 0, quad_scheme=None)], **{'value_shape': (3,) }): {None: {None: {(0, 1): array([[[ -1.00000000e+00,  -1.00000000e+00,  -1.00000000e+00],\n",
        "          [  0.00000000e+00,   0.00000000e+00,   0.00000000e+00],\n",
        "          [  0.00000000e+00,   0.00000000e+00,   0.00000000e+00]],\n",
        "  \n",
        "         [[  8.88178420e-16,   8.88178420e-16,   8.88178420e-16],\n",
        "          [  0.00000000e+00,   0.00000000e+00,   0.00000000e+00],\n",
        "          [  0.00000000e+00,   0.00000000e+00,   0.00000000e+00]],\n",
        "  \n",
        "         [[  1.00000000e+00,   1.00000000e+00,   1.00000000e+00],\n",
        "          [  0.00000000e+00,   0.00000000e+00,   0.00000000e+00],\n",
        "          [  0.00000000e+00,   0.00000000e+00,   0.00000000e+00]],\n",
        "  \n",
        "         [[  0.00000000e+00,   0.00000000e+00,   0.00000000e+00],\n",
        "          [  0.00000000e+00,   0.00000000e+00,   0.00000000e+00],\n",
        "          [  0.00000000e+00,   0.00000000e+00,   0.00000000e+00]],\n",
        "  \n",
        "         [[  0.00000000e+00,   0.00000000e+00,   0.00000000e+00],\n",
        "          [  0.00000000e+00,   0.00000000e+00,   0.00000000e+00],\n",
        "          [  0.00000000e+00,   0.00000000e+00,   0.00000000e+00]]]), (1, 0): array([[[-1., -1., -1.],\n",
        "          [ 0.,  0.,  0.],\n",
        "          [ 0.,  0.,  0.]],\n",
        "  \n",
        "         [[ 1.,  1.,  1.],\n",
        "          [ 0.,  0.,  0.],\n",
        "          [ 0.,  0.,  0.]],\n",
        "  \n",
        "         [[ 0.,  0.,  0.],\n",
        "          [ 0.,  0.,  0.],\n",
        "          [ 0.,  0.,  0.]],\n",
        "  \n",
        "         [[ 0.,  0.,  0.],\n",
        "          [ 0.,  0.,  0.],\n",
        "          [ 0.,  0.,  0.]],\n",
        "  \n",
        "         [[ 0.,  0.,  0.],\n",
        "          [ 0.,  0.,  0.],\n",
        "          [ 0.,  0.,  0.]]]), (0, 0): array([[[ 0.66666667,  0.16666667,  0.16666667],\n",
        "          [ 0.        ,  0.        ,  0.        ],\n",
        "          [ 0.        ,  0.        ,  0.        ]],\n",
        "  \n",
        "         [[ 0.16666667,  0.16666667,  0.66666667],\n",
        "          [ 0.        ,  0.        ,  0.        ],\n",
        "          [ 0.        ,  0.        ,  0.        ]],\n",
        "  \n",
        "         [[ 0.16666667,  0.66666667,  0.16666667],\n",
        "          [ 0.        ,  0.        ,  0.        ],\n",
        "          [ 0.        ,  0.        ,  0.        ]],\n",
        "  \n",
        "         [[ 0.        ,  0.        ,  0.        ],\n",
        "          [ 1.        ,  1.        ,  1.        ],\n",
        "          [ 0.        ,  0.        ,  0.        ]],\n",
        "  \n",
        "         [[ 0.        ,  0.        ,  0.        ],\n",
        "          [ 0.        ,  0.        ,  0.        ],\n",
        "          [ 1.        ,  1.        ,  1.        ]]])}}}, VectorElement('Lagrange', Domain(Cell('triangle', 2), label='dolfin_mesh_with_id_4186', data='<data with id 4186>'), 1, dim=2, quad_scheme=None): {None: {None: {(0, 1): array([[[ -1.00000000e+00,  -1.00000000e+00,  -1.00000000e+00],\n",
        "          [  0.00000000e+00,   0.00000000e+00,   0.00000000e+00]],\n",
        "  \n",
        "         [[  8.88178420e-16,   8.88178420e-16,   8.88178420e-16],\n",
        "          [  0.00000000e+00,   0.00000000e+00,   0.00000000e+00]],\n",
        "  \n",
        "         [[  1.00000000e+00,   1.00000000e+00,   1.00000000e+00],\n",
        "          [  0.00000000e+00,   0.00000000e+00,   0.00000000e+00]],\n",
        "  \n",
        "         [[  0.00000000e+00,   0.00000000e+00,   0.00000000e+00],\n",
        "          [ -1.00000000e+00,  -1.00000000e+00,  -1.00000000e+00]],\n",
        "  \n",
        "         [[  0.00000000e+00,   0.00000000e+00,   0.00000000e+00],\n",
        "          [  8.88178420e-16,   8.88178420e-16,   8.88178420e-16]],\n",
        "  \n",
        "         [[  0.00000000e+00,   0.00000000e+00,   0.00000000e+00],\n",
        "          [  1.00000000e+00,   1.00000000e+00,   1.00000000e+00]]]), (1, 0): array([[[-1., -1., -1.],\n",
        "          [ 0.,  0.,  0.]],\n",
        "  \n",
        "         [[ 1.,  1.,  1.],\n",
        "          [ 0.,  0.,  0.]],\n",
        "  \n",
        "         [[ 0.,  0.,  0.],\n",
        "          [ 0.,  0.,  0.]],\n",
        "  \n",
        "         [[ 0.,  0.,  0.],\n",
        "          [-1., -1., -1.]],\n",
        "  \n",
        "         [[ 0.,  0.,  0.],\n",
        "          [ 1.,  1.,  1.]],\n",
        "  \n",
        "         [[ 0.,  0.,  0.],\n",
        "          [ 0.,  0.,  0.]]]), (0, 0): array([[[ 0.66666667,  0.16666667,  0.16666667],\n",
        "          [ 0.        ,  0.        ,  0.        ]],\n",
        "  \n",
        "         [[ 0.16666667,  0.16666667,  0.66666667],\n",
        "          [ 0.        ,  0.        ,  0.        ]],\n",
        "  \n",
        "         [[ 0.16666667,  0.66666667,  0.16666667],\n",
        "          [ 0.        ,  0.        ,  0.        ]],\n",
        "  \n",
        "         [[ 0.        ,  0.        ,  0.        ],\n",
        "          [ 0.66666667,  0.16666667,  0.16666667]],\n",
        "  \n",
        "         [[ 0.        ,  0.        ,  0.        ],\n",
        "          [ 0.16666667,  0.16666667,  0.66666667]],\n",
        "  \n",
        "         [[ 0.        ,  0.        ,  0.        ],\n",
        "          [ 0.16666667,  0.66666667,  0.16666667]]])}}}}}\n"
       ]
      },
      {
       "output_type": "stream",
       "stream": "stderr",
       "text": [
        "DEBUG:FFC:  \n",
        "  QG-utils, psi_tables, flat_tables:\n",
        "  {'FE0_C1_D01': array([[  0.00000000e+00,   0.00000000e+00,   0.00000000e+00,\n",
        "           -1.00000000e+00,   8.88178420e-16,   1.00000000e+00],\n",
        "         [  0.00000000e+00,   0.00000000e+00,   0.00000000e+00,\n",
        "           -1.00000000e+00,   8.88178420e-16,   1.00000000e+00],\n",
        "         [  0.00000000e+00,   0.00000000e+00,   0.00000000e+00,\n",
        "           -1.00000000e+00,   8.88178420e-16,   1.00000000e+00]]), 'FE1_C0': array([[ 0.66666667,  0.16666667,  0.16666667,  0.        ,  0.        ],\n",
        "         [ 0.16666667,  0.16666667,  0.66666667,  0.        ,  0.        ],\n",
        "         [ 0.16666667,  0.66666667,  0.16666667,  0.        ,  0.        ]]), 'FE1_C1': array([[ 0.,  0.,  0.,  1.,  0.],\n",
        "         [ 0.,  0.,  0.,  1.,  0.],\n",
        "         [ 0.,  0.,  0.,  1.,  0.]]), 'FE1_C2': array([[ 0.,  0.,  0.,  0.,  1.],\n",
        "         [ 0.,  0.,  0.,  0.,  1.],\n",
        "         [ 0.,  0.,  0.,  0.,  1.]]), 'FE0_C1_D10': array([[ 0.,  0.,  0., -1.,  1.,  0.],\n",
        "         [ 0.,  0.,  0., -1.,  1.,  0.],\n",
        "         [ 0.,  0.,  0., -1.,  1.,  0.]]), 'FE1_C1_D10': array([[ 0.,  0.,  0.,  0.,  0.],\n",
        "         [ 0.,  0.,  0.,  0.,  0.],\n",
        "         [ 0.,  0.,  0.,  0.,  0.]]), 'FE1_C2_D10': array([[ 0.,  0.,  0.,  0.,  0.],\n",
        "         [ 0.,  0.,  0.,  0.,  0.],\n",
        "         [ 0.,  0.,  0.,  0.,  0.]]), 'FE0_C0_D10': array([[-1.,  1.,  0.,  0.,  0.,  0.],\n",
        "         [-1.,  1.,  0.,  0.,  0.,  0.],\n",
        "         [-1.,  1.,  0.,  0.,  0.,  0.]]), 'FE0_C0_D01': array([[ -1.00000000e+00,   8.88178420e-16,   1.00000000e+00,\n",
        "            0.00000000e+00,   0.00000000e+00,   0.00000000e+00],\n",
        "         [ -1.00000000e+00,   8.88178420e-16,   1.00000000e+00,\n",
        "            0.00000000e+00,   0.00000000e+00,   0.00000000e+00],\n",
        "         [ -1.00000000e+00,   8.88178420e-16,   1.00000000e+00,\n",
        "            0.00000000e+00,   0.00000000e+00,   0.00000000e+00]]), 'FE2': array([[ 1.],\n",
        "         [ 1.],\n",
        "         [ 1.]]), 'FE1_C2_D01': array([[ 0.,  0.,  0.,  0.,  0.],\n",
        "         [ 0.,  0.,  0.,  0.,  0.],\n",
        "         [ 0.,  0.,  0.,  0.,  0.]]), 'FE1_C1_D01': array([[ 0.,  0.,  0.,  0.,  0.],\n",
        "         [ 0.,  0.,  0.,  0.,  0.],\n",
        "         [ 0.,  0.,  0.,  0.,  0.]]), 'FE1_C0_D01': array([[ -1.00000000e+00,   8.88178420e-16,   1.00000000e+00,\n",
        "            0.00000000e+00,   0.00000000e+00],\n",
        "         [ -1.00000000e+00,   8.88178420e-16,   1.00000000e+00,\n",
        "            0.00000000e+00,   0.00000000e+00],\n",
        "         [ -1.00000000e+00,   8.88178420e-16,   1.00000000e+00,\n",
        "            0.00000000e+00,   0.00000000e+00]]), 'FE1_C0_D10': array([[-1.,  1.,  0.,  0.,  0.],\n",
        "         [-1.,  1.,  0.,  0.,  0.],\n",
        "         [-1.,  1.,  0.,  0.,  0.]]), 'FE0_C1': array([[ 0.        ,  0.        ,  0.        ,  0.66666667,  0.16666667,\n",
        "           0.16666667],\n",
        "         [ 0.        ,  0.        ,  0.        ,  0.16666667,  0.16666667,\n",
        "           0.66666667],\n",
        "         [ 0.        ,  0.        ,  0.        ,  0.16666667,  0.66666667,\n",
        "           0.16666667]]), 'FE0_C0': array([[ 0.66666667,  0.16666667,  0.16666667,  0.        ,  0.        ,\n",
        "           0.        ],\n",
        "         [ 0.16666667,  0.16666667,  0.66666667,  0.        ,  0.        ,\n",
        "           0.        ],\n",
        "         [ 0.16666667,  0.66666667,  0.16666667,  0.        ,  0.        ,\n",
        "           0.        ]])}\n"
       ]
      },
      {
       "output_type": "stream",
       "stream": "stderr",
       "text": [
        "DEBUG:FFC:  \n",
        "  tables: {'FE0_C1_D01': array([[  0.00000000e+00,   0.00000000e+00,   0.00000000e+00,\n",
        "           -1.00000000e+00,   8.88178420e-16,   1.00000000e+00],\n",
        "         [  0.00000000e+00,   0.00000000e+00,   0.00000000e+00,\n",
        "           -1.00000000e+00,   8.88178420e-16,   1.00000000e+00],\n",
        "         [  0.00000000e+00,   0.00000000e+00,   0.00000000e+00,\n",
        "           -1.00000000e+00,   8.88178420e-16,   1.00000000e+00]]), 'FE1_C0': array([[ 0.66666667,  0.16666667,  0.16666667,  0.        ,  0.        ],\n",
        "         [ 0.16666667,  0.16666667,  0.66666667,  0.        ,  0.        ],\n",
        "         [ 0.16666667,  0.66666667,  0.16666667,  0.        ,  0.        ]]), 'FE1_C1': array([[ 0.,  0.,  0.,  1.,  0.],\n",
        "         [ 0.,  0.,  0.,  1.,  0.],\n",
        "         [ 0.,  0.,  0.,  1.,  0.]]), 'FE1_C2': array([[ 0.,  0.,  0.,  0.,  1.],\n",
        "         [ 0.,  0.,  0.,  0.,  1.],\n",
        "         [ 0.,  0.,  0.,  0.,  1.]]), 'FE0_C1_D10': array([[ 0.,  0.,  0., -1.,  1.,  0.],\n",
        "         [ 0.,  0.,  0., -1.,  1.,  0.],\n",
        "         [ 0.,  0.,  0., -1.,  1.,  0.]]), 'FE0_C0_D10': array([[-1.,  1.,  0.,  0.,  0.,  0.],\n",
        "         [-1.,  1.,  0.,  0.,  0.,  0.],\n",
        "         [-1.,  1.,  0.,  0.,  0.,  0.]]), 'FE0_C0_D01': array([[ -1.00000000e+00,   8.88178420e-16,   1.00000000e+00,\n",
        "            0.00000000e+00,   0.00000000e+00,   0.00000000e+00],\n",
        "         [ -1.00000000e+00,   8.88178420e-16,   1.00000000e+00,\n",
        "            0.00000000e+00,   0.00000000e+00,   0.00000000e+00],\n",
        "         [ -1.00000000e+00,   8.88178420e-16,   1.00000000e+00,\n",
        "            0.00000000e+00,   0.00000000e+00,   0.00000000e+00]]), 'FE2': array([[ 1.],\n",
        "         [ 1.],\n",
        "         [ 1.]]), 'FE1_C1_D01': array([[ 0.,  0.,  0.,  0.,  0.],\n",
        "         [ 0.,  0.,  0.,  0.,  0.],\n",
        "         [ 0.,  0.,  0.,  0.,  0.]]), 'FE1_C0_D01': array([[ -1.00000000e+00,   8.88178420e-16,   1.00000000e+00,\n",
        "            0.00000000e+00,   0.00000000e+00],\n",
        "         [ -1.00000000e+00,   8.88178420e-16,   1.00000000e+00,\n",
        "            0.00000000e+00,   0.00000000e+00],\n",
        "         [ -1.00000000e+00,   8.88178420e-16,   1.00000000e+00,\n",
        "            0.00000000e+00,   0.00000000e+00]]), 'FE1_C0_D10': array([[-1.,  1.,  0.,  0.,  0.],\n",
        "         [-1.,  1.,  0.,  0.,  0.],\n",
        "         [-1.,  1.,  0.,  0.,  0.]]), 'FE0_C1': array([[ 0.        ,  0.        ,  0.        ,  0.66666667,  0.16666667,\n",
        "           0.16666667],\n",
        "         [ 0.        ,  0.        ,  0.        ,  0.16666667,  0.16666667,\n",
        "           0.66666667],\n",
        "         [ 0.        ,  0.        ,  0.        ,  0.16666667,  0.66666667,\n",
        "           0.16666667]]), 'FE0_C0': array([[ 0.66666667,  0.16666667,  0.16666667,  0.        ,  0.        ,\n",
        "           0.        ],\n",
        "         [ 0.16666667,  0.16666667,  0.66666667,  0.        ,  0.        ,\n",
        "           0.        ],\n",
        "         [ 0.16666667,  0.66666667,  0.16666667,  0.        ,  0.        ,\n",
        "           0.        ]])}\n"
       ]
      },
      {
       "output_type": "stream",
       "stream": "stderr",
       "text": [
        "DEBUG:FFC:  \n",
        "  name_map: {'FE1_C1_D01': ['FE1_C1_D10', 'FE1_C2_D01', 'FE1_C2_D10']}\n"
       ]
      },
      {
       "output_type": "stream",
       "stream": "stderr",
       "text": [
        "DEBUG:FFC:  \n",
        "  inv_name_map: {'FE0_C1_D01': 'FE0_C1_D01', 'FE1_C0': 'FE1_C0', 'FE1_C1': 'FE1_C1', 'FE1_C2': 'FE1_C2', 'FE0_C1_D10': 'FE0_C1_D10', 'FE1_C1_D10': 'FE1_C1_D01', 'FE1_C2_D10': 'FE1_C1_D01', 'FE0_C0_D10': 'FE0_C0_D10', 'FE0_C0_D01': 'FE0_C0_D01', 'FE2': 'FE2', 'FE1_C2_D01': 'FE1_C1_D01', 'FE1_C1_D01': 'FE1_C1_D01', 'FE1_C0_D01': 'FE1_C0_D01', 'FE1_C0_D10': 'FE1_C0_D10', 'FE0_C1': 'FE0_C1', 'FE0_C0': 'FE0_C0'}\n"
       ]
      },
      {
       "output_type": "stream",
       "stream": "stderr",
       "text": [
        "DEBUG:FFC:  \n",
        "  QG-utils, psi_tables, unique_tables:\n",
        "  {'FE0_C1_D01': array([[ 0.,  0.,  0., -1.,  0.,  1.],\n",
        "         [ 0.,  0.,  0., -1.,  0.,  1.],\n",
        "         [ 0.,  0.,  0., -1.,  0.,  1.]]), 'FE1_C0': array([[ 0.66666667,  0.16666667,  0.16666667,  0.        ,  0.        ],\n",
        "         [ 0.16666667,  0.16666667,  0.66666667,  0.        ,  0.        ],\n",
        "         [ 0.16666667,  0.66666667,  0.16666667,  0.        ,  0.        ]]), 'FE1_C1': array([[ 0.,  0.,  0.,  1.,  0.],\n",
        "         [ 0.,  0.,  0.,  1.,  0.],\n",
        "         [ 0.,  0.,  0.,  1.,  0.]]), 'FE1_C2': array([[ 0.,  0.,  0.,  0.,  1.],\n",
        "         [ 0.,  0.,  0.,  0.,  1.],\n",
        "         [ 0.,  0.,  0.,  0.,  1.]]), 'FE0_C1_D10': array([[ 0.,  0.,  0., -1.,  1.,  0.],\n",
        "         [ 0.,  0.,  0., -1.,  1.,  0.],\n",
        "         [ 0.,  0.,  0., -1.,  1.,  0.]]), 'FE0_C0_D10': array([[-1.,  1.,  0.,  0.,  0.,  0.],\n",
        "         [-1.,  1.,  0.,  0.,  0.,  0.],\n",
        "         [-1.,  1.,  0.,  0.,  0.,  0.]]), 'FE0_C0_D01': array([[-1.,  0.,  1.,  0.,  0.,  0.],\n",
        "         [-1.,  0.,  1.,  0.,  0.,  0.],\n",
        "         [-1.,  0.,  1.,  0.,  0.,  0.]]), 'FE2': array([[ 1.],\n",
        "         [ 1.],\n",
        "         [ 1.]]), 'FE1_C1_D01': array([[ 0.,  0.,  0.,  0.,  0.],\n",
        "         [ 0.,  0.,  0.,  0.,  0.],\n",
        "         [ 0.,  0.,  0.,  0.,  0.]]), 'FE1_C0_D01': array([[-1.,  0.,  1.,  0.,  0.],\n",
        "         [-1.,  0.,  1.,  0.,  0.],\n",
        "         [-1.,  0.,  1.,  0.,  0.]]), 'FE1_C0_D10': array([[-1.,  1.,  0.,  0.,  0.],\n",
        "         [-1.,  1.,  0.,  0.,  0.],\n",
        "         [-1.,  1.,  0.,  0.,  0.]]), 'FE0_C1': array([[ 0.        ,  0.        ,  0.        ,  0.66666667,  0.16666667,\n",
        "           0.16666667],\n",
        "         [ 0.        ,  0.        ,  0.        ,  0.16666667,  0.16666667,\n",
        "           0.66666667],\n",
        "         [ 0.        ,  0.        ,  0.        ,  0.16666667,  0.66666667,\n",
        "           0.16666667]]), 'FE0_C0': array([[ 0.66666667,  0.16666667,  0.16666667,  0.        ,  0.        ,\n",
        "           0.        ],\n",
        "         [ 0.16666667,  0.16666667,  0.66666667,  0.        ,  0.        ,\n",
        "           0.        ],\n",
        "         [ 0.16666667,  0.66666667,  0.16666667,  0.        ,  0.        ,\n",
        "           0.        ]])}\n"
       ]
      },
      {
       "output_type": "stream",
       "stream": "stderr",
       "text": [
        "DEBUG:FFC:  \n",
        "  QG-utils, psi_tables, name_map:\n",
        "  {'FE0_C1_D01': ('FE0_C1_D01', (), False, False), 'FE1_C0': ('FE1_C0', (), False, False), 'FE1_C1': ('FE1_C1', (), False, False), 'FE1_C2': ('FE1_C2', (), False, False), 'FE0_C1_D10': ('FE0_C1_D10', (), False, False), 'FE1_C1_D10': ('FE1_C1_D01', (), True, False), 'FE1_C2_D10': ('FE1_C1_D01', (), True, False), 'FE0_C0_D10': ('FE0_C0_D10', (), False, False), 'FE0_C0_D01': ('FE0_C0_D01', (), False, False), 'FE2': ('FE2', (), False, True), 'FE1_C2_D01': ('FE1_C1_D01', (), True, False), 'FE1_C1_D01': ('FE1_C1_D01', (), True, False), 'FE1_C0_D01': ('FE1_C0_D01', (), False, False), 'FE1_C0_D10': ('FE1_C0_D10', (), False, False), 'FE0_C1': ('FE0_C1', (), False, False), 'FE0_C0': ('FE0_C0', (), False, False)}\n"
       ]
      },
      {
       "output_type": "stream",
       "stream": "stderr",
       "text": [
        "INFO:FFC:  Transforming cell integral\n"
       ]
      },
      {
       "output_type": "stream",
       "stream": "stderr",
       "text": [
        "DEBUG:FFC:  Reusing element from cache\n"
       ]
      },
      {
       "output_type": "stream",
       "stream": "stderr",
       "text": [
        "DEBUG:FFC:  Reusing element from cache\n"
       ]
      },
      {
       "output_type": "stream",
       "stream": "stderr",
       "text": [
        "DEBUG:FFC:  Reusing element from cache\n"
       ]
      },
      {
       "output_type": "stream",
       "stream": "stderr",
       "text": [
        "DEBUG:FFC:  Reusing element from cache\n"
       ]
      },
      {
       "output_type": "stream",
       "stream": "stderr",
       "text": [
        "DEBUG:FFC:  Reusing element from cache\n"
       ]
      },
      {
       "output_type": "stream",
       "stream": "stderr",
       "text": [
        "DEBUG:FFC:  Reusing element from cache\n"
       ]
      },
      {
       "output_type": "stream",
       "stream": "stderr",
       "text": [
        "DEBUG:FFC:  Reusing element from cache\n"
       ]
      },
      {
       "output_type": "stream",
       "stream": "stderr",
       "text": [
        "DEBUG:FFC:  Reusing element from cache\n"
       ]
      },
      {
       "output_type": "stream",
       "stream": "stderr",
       "text": [
        "DEBUG:FFC:  Reusing element from cache\n"
       ]
      },
      {
       "output_type": "stream",
       "stream": "stderr",
       "text": [
        "DEBUG:FFC:  Reusing element from cache\n"
       ]
      },
      {
       "output_type": "stream",
       "stream": "stderr",
       "text": [
        "DEBUG:FFC:  Reusing element from cache\n"
       ]
      },
      {
       "output_type": "stream",
       "stream": "stderr",
       "text": [
        "DEBUG:FFC:  Reusing element from cache\n"
       ]
      },
      {
       "output_type": "stream",
       "stream": "stderr",
       "text": [
        "DEBUG:FFC:  Reusing element from cache\n"
       ]
      },
      {
       "output_type": "stream",
       "stream": "stderr",
       "text": [
        "DEBUG:FFC:  Reusing element from cache\n"
       ]
      },
      {
       "output_type": "stream",
       "stream": "stderr",
       "text": [
        "DEBUG:FFC:  Reusing element from cache\n"
       ]
      },
      {
       "output_type": "stream",
       "stream": "stderr",
       "text": [
        "DEBUG:FFC:  Reusing element from cache\n"
       ]
      },
      {
       "output_type": "stream",
       "stream": "stderr",
       "text": [
        "DEBUG:FFC:  Reusing element from cache\n"
       ]
      },
      {
       "output_type": "stream",
       "stream": "stderr",
       "text": [
        "DEBUG:FFC:  Reusing element from cache\n"
       ]
      },
      {
       "output_type": "stream",
       "stream": "stderr",
       "text": [
        "DEBUG:FFC:  Reusing element from cache\n"
       ]
      },
      {
       "output_type": "stream",
       "stream": "stderr",
       "text": [
        "DEBUG:FFC:  Reusing element from cache\n"
       ]
      },
      {
       "output_type": "stream",
       "stream": "stderr",
       "text": [
        "DEBUG:FFC:  Reusing element from cache\n"
       ]
      },
      {
       "output_type": "stream",
       "stream": "stderr",
       "text": [
        "DEBUG:FFC:  Reusing element from cache\n"
       ]
      },
      {
       "output_type": "stream",
       "stream": "stderr",
       "text": [
        "DEBUG:FFC:  Reusing element from cache\n"
       ]
      },
      {
       "output_type": "stream",
       "stream": "stderr",
       "text": [
        "DEBUG:FFC:  Reusing element from cache\n"
       ]
      },
      {
       "output_type": "stream",
       "stream": "stderr",
       "text": [
        "DEBUG:FFC:  Reusing element from cache\n"
       ]
      },
      {
       "output_type": "stream",
       "stream": "stderr",
       "text": [
        "DEBUG:FFC:  Reusing element from cache\n"
       ]
      },
      {
       "output_type": "stream",
       "stream": "stderr",
       "text": [
        "DEBUG:FFC:  Reusing element from cache\n"
       ]
      },
      {
       "output_type": "stream",
       "stream": "stderr",
       "text": [
        "INFO:FFC:  Computing quadrature representation\n"
       ]
      },
      {
       "output_type": "stream",
       "stream": "stderr",
       "text": [
        "DEBUG:FFC:  Reusing element from cache\n"
       ]
      },
      {
       "output_type": "stream",
       "stream": "stderr",
       "text": [
        "DEBUG:FFC:  Reusing element from cache\n"
       ]
      },
      {
       "output_type": "stream",
       "stream": "stderr",
       "text": [
        "DEBUG:FFC:  Reusing element from cache\n"
       ]
      },
      {
       "output_type": "stream",
       "stream": "stderr",
       "text": [
        "DEBUG:FFC:  Reusing element from cache\n"
       ]
      },
      {
       "output_type": "stream",
       "stream": "stderr",
       "text": [
        "DEBUG:FFC:  Reusing element from cache\n"
       ]
      },
      {
       "output_type": "stream",
       "stream": "stderr",
       "text": [
        "DEBUG:FFC:  Reusing element from cache\n"
       ]
      },
      {
       "output_type": "stream",
       "stream": "stderr",
       "text": [
        "DEBUG:FFC:  Reusing element from cache\n"
       ]
      },
      {
       "output_type": "stream",
       "stream": "stderr",
       "text": [
        "DEBUG:FFC:  \n",
        "  QG-utils, psi_tables:\n",
        "  {2: {FiniteElement('Real', Domain(Cell('triangle', 2), label='dolfin_mesh_with_id_4186', data='<data with id 4186>'), 0, quad_scheme=None): {None: {0: {(0, 0): array([[ 1.,  1.]])}, 1: {(0, 0): array([[ 1.,  1.]])}, 2: {(0, 0): array([[ 1.,  1.]])}}}, MixedElement(*[FiniteElement('Lagrange', Domain(Cell('triangle', 2), label='dolfin_mesh_with_id_4186', data='<data with id 4186>'), 1, quad_scheme=None), FiniteElement('Real', Domain(Cell('triangle', 2), label='dolfin_mesh_with_id_4186', data='<data with id 4186>'), 0, quad_scheme=None), FiniteElement('Real', Domain(Cell('triangle', 2), label='dolfin_mesh_with_id_4186', data='<data with id 4186>'), 0, quad_scheme=None)], **{'value_shape': (3,) }): {None: {0: {(0, 0): array([[[ -2.08166817e-17,   5.55111512e-17],\n",
        "          [  0.00000000e+00,   0.00000000e+00],\n",
        "          [  0.00000000e+00,   0.00000000e+00]],\n",
        "  \n",
        "         [[  7.88675135e-01,   2.11324865e-01],\n",
        "          [  0.00000000e+00,   0.00000000e+00],\n",
        "          [  0.00000000e+00,   0.00000000e+00]],\n",
        "  \n",
        "         [[  2.11324865e-01,   7.88675135e-01],\n",
        "          [  0.00000000e+00,   0.00000000e+00],\n",
        "          [  0.00000000e+00,   0.00000000e+00]],\n",
        "  \n",
        "         [[  0.00000000e+00,   0.00000000e+00],\n",
        "          [  1.00000000e+00,   1.00000000e+00],\n",
        "          [  0.00000000e+00,   0.00000000e+00]],\n",
        "  \n",
        "         [[  0.00000000e+00,   0.00000000e+00],\n",
        "          [  0.00000000e+00,   0.00000000e+00],\n",
        "          [  1.00000000e+00,   1.00000000e+00]]])}, 1: {(0, 0): array([[[  7.88675135e-01,   2.11324865e-01],\n",
        "          [  0.00000000e+00,   0.00000000e+00],\n",
        "          [  0.00000000e+00,   0.00000000e+00]],\n",
        "  \n",
        "         [[ -2.08166817e-17,   5.55111512e-17],\n",
        "          [  0.00000000e+00,   0.00000000e+00],\n",
        "          [  0.00000000e+00,   0.00000000e+00]],\n",
        "  \n",
        "         [[  2.11324865e-01,   7.88675135e-01],\n",
        "          [  0.00000000e+00,   0.00000000e+00],\n",
        "          [  0.00000000e+00,   0.00000000e+00]],\n",
        "  \n",
        "         [[  0.00000000e+00,   0.00000000e+00],\n",
        "          [  1.00000000e+00,   1.00000000e+00],\n",
        "          [  0.00000000e+00,   0.00000000e+00]],\n",
        "  \n",
        "         [[  0.00000000e+00,   0.00000000e+00],\n",
        "          [  0.00000000e+00,   0.00000000e+00],\n",
        "          [  1.00000000e+00,   1.00000000e+00]]])}, 2: {(0, 0): array([[[ 0.78867513,  0.21132487],\n",
        "          [ 0.        ,  0.        ],\n",
        "          [ 0.        ,  0.        ]],\n",
        "  \n",
        "         [[ 0.21132487,  0.78867513],\n",
        "          [ 0.        ,  0.        ],\n",
        "          [ 0.        ,  0.        ]],\n",
        "  \n",
        "         [[ 0.        ,  0.        ],\n",
        "          [ 0.        ,  0.        ],\n",
        "          [ 0.        ,  0.        ]],\n",
        "  \n",
        "         [[ 0.        ,  0.        ],\n",
        "          [ 1.        ,  1.        ],\n",
        "          [ 0.        ,  0.        ]],\n",
        "  \n",
        "         [[ 0.        ,  0.        ],\n",
        "          [ 0.        ,  0.        ],\n",
        "          [ 1.        ,  1.        ]]])}}}, VectorElement('Lagrange', Domain(Cell('triangle', 2), label='dolfin_mesh_with_id_4186', data='<data with id 4186>'), 1, dim=2, quad_scheme=None): {None: {0: {(0, 1): array([[[ -1.00000000e+00,  -1.00000000e+00],\n",
        "          [  0.00000000e+00,   0.00000000e+00]],\n",
        "  \n",
        "         [[  8.88178420e-16,   8.88178420e-16],\n",
        "          [  0.00000000e+00,   0.00000000e+00]],\n",
        "  \n",
        "         [[  1.00000000e+00,   1.00000000e+00],\n",
        "          [  0.00000000e+00,   0.00000000e+00]],\n",
        "  \n",
        "         [[  0.00000000e+00,   0.00000000e+00],\n",
        "          [ -1.00000000e+00,  -1.00000000e+00]],\n",
        "  \n",
        "         [[  0.00000000e+00,   0.00000000e+00],\n",
        "          [  8.88178420e-16,   8.88178420e-16]],\n",
        "  \n",
        "         [[  0.00000000e+00,   0.00000000e+00],\n",
        "          [  1.00000000e+00,   1.00000000e+00]]]), (1, 0): array([[[-1., -1.],\n",
        "          [ 0.,  0.]],\n",
        "  \n",
        "         [[ 1.,  1.],\n",
        "          [ 0.,  0.]],\n",
        "  \n",
        "         [[ 0.,  0.],\n",
        "          [ 0.,  0.]],\n",
        "  \n",
        "         [[ 0.,  0.],\n",
        "          [-1., -1.]],\n",
        "  \n",
        "         [[ 0.,  0.],\n",
        "          [ 1.,  1.]],\n",
        "  \n",
        "         [[ 0.,  0.],\n",
        "          [ 0.,  0.]]]), (0, 0): array([[[ -2.08166817e-17,   5.55111512e-17],\n",
        "          [  0.00000000e+00,   0.00000000e+00]],\n",
        "  \n",
        "         [[  7.88675135e-01,   2.11324865e-01],\n",
        "          [  0.00000000e+00,   0.00000000e+00]],\n",
        "  \n",
        "         [[  2.11324865e-01,   7.88675135e-01],\n",
        "          [  0.00000000e+00,   0.00000000e+00]],\n",
        "  \n",
        "         [[  0.00000000e+00,   0.00000000e+00],\n",
        "          [ -2.08166817e-17,   5.55111512e-17]],\n",
        "  \n",
        "         [[  0.00000000e+00,   0.00000000e+00],\n",
        "          [  7.88675135e-01,   2.11324865e-01]],\n",
        "  \n",
        "         [[  0.00000000e+00,   0.00000000e+00],\n",
        "          [  2.11324865e-01,   7.88675135e-01]]])}, 1: {(0, 1): array([[[ -1.00000000e+00,  -1.00000000e+00],\n",
        "          [  0.00000000e+00,   0.00000000e+00]],\n",
        "  \n",
        "         [[  8.88178420e-16,   8.88178420e-16],\n",
        "          [  0.00000000e+00,   0.00000000e+00]],\n",
        "  \n",
        "         [[  1.00000000e+00,   1.00000000e+00],\n",
        "          [  0.00000000e+00,   0.00000000e+00]],\n",
        "  \n",
        "         [[  0.00000000e+00,   0.00000000e+00],\n",
        "          [ -1.00000000e+00,  -1.00000000e+00]],\n",
        "  \n",
        "         [[  0.00000000e+00,   0.00000000e+00],\n",
        "          [  8.88178420e-16,   8.88178420e-16]],\n",
        "  \n",
        "         [[  0.00000000e+00,   0.00000000e+00],\n",
        "          [  1.00000000e+00,   1.00000000e+00]]]), (1, 0): array([[[-1., -1.],\n",
        "          [ 0.,  0.]],\n",
        "  \n",
        "         [[ 1.,  1.],\n",
        "          [ 0.,  0.]],\n",
        "  \n",
        "         [[ 0.,  0.],\n",
        "          [ 0.,  0.]],\n",
        "  \n",
        "         [[ 0.,  0.],\n",
        "          [-1., -1.]],\n",
        "  \n",
        "         [[ 0.,  0.],\n",
        "          [ 1.,  1.]],\n",
        "  \n",
        "         [[ 0.,  0.],\n",
        "          [ 0.,  0.]]]), (0, 0): array([[[  7.88675135e-01,   2.11324865e-01],\n",
        "          [  0.00000000e+00,   0.00000000e+00]],\n",
        "  \n",
        "         [[ -2.08166817e-17,   5.55111512e-17],\n",
        "          [  0.00000000e+00,   0.00000000e+00]],\n",
        "  \n",
        "         [[  2.11324865e-01,   7.88675135e-01],\n",
        "          [  0.00000000e+00,   0.00000000e+00]],\n",
        "  \n",
        "         [[  0.00000000e+00,   0.00000000e+00],\n",
        "          [  7.88675135e-01,   2.11324865e-01]],\n",
        "  \n",
        "         [[  0.00000000e+00,   0.00000000e+00],\n",
        "          [ -2.08166817e-17,   5.55111512e-17]],\n",
        "  \n",
        "         [[  0.00000000e+00,   0.00000000e+00],\n",
        "          [  2.11324865e-01,   7.88675135e-01]]])}, 2: {(0, 1): array([[[ -1.00000000e+00,  -1.00000000e+00],\n",
        "          [  0.00000000e+00,   0.00000000e+00]],\n",
        "  \n",
        "         [[  8.88178420e-16,   8.88178420e-16],\n",
        "          [  0.00000000e+00,   0.00000000e+00]],\n",
        "  \n",
        "         [[  1.00000000e+00,   1.00000000e+00],\n",
        "          [  0.00000000e+00,   0.00000000e+00]],\n",
        "  \n",
        "         [[  0.00000000e+00,   0.00000000e+00],\n",
        "          [ -1.00000000e+00,  -1.00000000e+00]],\n",
        "  \n",
        "         [[  0.00000000e+00,   0.00000000e+00],\n",
        "          [  8.88178420e-16,   8.88178420e-16]],\n",
        "  \n",
        "         [[  0.00000000e+00,   0.00000000e+00],\n",
        "          [  1.00000000e+00,   1.00000000e+00]]]), (1, 0): array([[[-1., -1.],\n",
        "          [ 0.,  0.]],\n",
        "  \n",
        "         [[ 1.,  1.],\n",
        "          [ 0.,  0.]],\n",
        "  \n",
        "         [[ 0.,  0.],\n",
        "          [ 0.,  0.]],\n",
        "  \n",
        "         [[ 0.,  0.],\n",
        "          [-1., -1.]],\n",
        "  \n",
        "         [[ 0.,  0.],\n",
        "          [ 1.,  1.]],\n",
        "  \n",
        "         [[ 0.,  0.],\n",
        "          [ 0.,  0.]]]), (0, 0): array([[[ 0.78867513,  0.21132487],\n",
        "          [ 0.        ,  0.        ]],\n",
        "  \n",
        "         [[ 0.21132487,  0.78867513],\n",
        "          [ 0.        ,  0.        ]],\n",
        "  \n",
        "         [[ 0.        ,  0.        ],\n",
        "          [ 0.        ,  0.        ]],\n",
        "  \n",
        "         [[ 0.        ,  0.        ],\n",
        "          [ 0.78867513,  0.21132487]],\n",
        "  \n",
        "         [[ 0.        ,  0.        ],\n",
        "          [ 0.21132487,  0.78867513]],\n",
        "  \n",
        "         [[ 0.        ,  0.        ],\n",
        "          [ 0.        ,  0.        ]]])}}}}}\n"
       ]
      },
      {
       "output_type": "stream",
       "stream": "stderr",
       "text": [
        "DEBUG:FFC:  \n",
        "  QG-utils, psi_tables, flat_tables:\n",
        "  {'FE1_f2_C2': array([[ 0.,  0.,  0.,  0.,  1.],\n",
        "         [ 0.,  0.,  0.,  0.,  1.]]), 'FE0_f0_C0_D01': array([[ -1.00000000e+00,   8.88178420e-16,   1.00000000e+00,\n",
        "            0.00000000e+00,   0.00000000e+00,   0.00000000e+00],\n",
        "         [ -1.00000000e+00,   8.88178420e-16,   1.00000000e+00,\n",
        "            0.00000000e+00,   0.00000000e+00,   0.00000000e+00]]), 'FE1_f2_C0': array([[ 0.78867513,  0.21132487,  0.        ,  0.        ,  0.        ],\n",
        "         [ 0.21132487,  0.78867513,  0.        ,  0.        ,  0.        ]]), 'FE1_f2_C1': array([[ 0.,  0.,  0.,  1.,  0.],\n",
        "         [ 0.,  0.,  0.,  1.,  0.]]), 'FE0_f0_C1': array([[  0.00000000e+00,   0.00000000e+00,   0.00000000e+00,\n",
        "           -2.08166817e-17,   7.88675135e-01,   2.11324865e-01],\n",
        "         [  0.00000000e+00,   0.00000000e+00,   0.00000000e+00,\n",
        "            5.55111512e-17,   2.11324865e-01,   7.88675135e-01]]), 'FE0_f0_C0': array([[ -2.08166817e-17,   7.88675135e-01,   2.11324865e-01,\n",
        "            0.00000000e+00,   0.00000000e+00,   0.00000000e+00],\n",
        "         [  5.55111512e-17,   2.11324865e-01,   7.88675135e-01,\n",
        "            0.00000000e+00,   0.00000000e+00,   0.00000000e+00]]), 'FE0_f0_C1_D01': array([[  0.00000000e+00,   0.00000000e+00,   0.00000000e+00,\n",
        "           -1.00000000e+00,   8.88178420e-16,   1.00000000e+00],\n",
        "         [  0.00000000e+00,   0.00000000e+00,   0.00000000e+00,\n",
        "           -1.00000000e+00,   8.88178420e-16,   1.00000000e+00]]), 'FE0_f2_C0_D10': array([[-1.,  1.,  0.,  0.,  0.,  0.],\n",
        "         [-1.,  1.,  0.,  0.,  0.,  0.]]), 'FE0_f1_C1_D10': array([[ 0.,  0.,  0., -1.,  1.,  0.],\n",
        "         [ 0.,  0.,  0., -1.,  1.,  0.]]), 'FE0_f2_C1_D01': array([[  0.00000000e+00,   0.00000000e+00,   0.00000000e+00,\n",
        "           -1.00000000e+00,   8.88178420e-16,   1.00000000e+00],\n",
        "         [  0.00000000e+00,   0.00000000e+00,   0.00000000e+00,\n",
        "           -1.00000000e+00,   8.88178420e-16,   1.00000000e+00]]), 'FE0_f1_C1_D01': array([[  0.00000000e+00,   0.00000000e+00,   0.00000000e+00,\n",
        "           -1.00000000e+00,   8.88178420e-16,   1.00000000e+00],\n",
        "         [  0.00000000e+00,   0.00000000e+00,   0.00000000e+00,\n",
        "           -1.00000000e+00,   8.88178420e-16,   1.00000000e+00]]), 'FE1_f0_C0': array([[ -2.08166817e-17,   7.88675135e-01,   2.11324865e-01,\n",
        "            0.00000000e+00,   0.00000000e+00],\n",
        "         [  5.55111512e-17,   2.11324865e-01,   7.88675135e-01,\n",
        "            0.00000000e+00,   0.00000000e+00]]), 'FE1_f0_C1': array([[ 0.,  0.,  0.,  1.,  0.],\n",
        "         [ 0.,  0.,  0.,  1.,  0.]]), 'FE1_f0_C2': array([[ 0.,  0.,  0.,  0.,  1.],\n",
        "         [ 0.,  0.,  0.,  0.,  1.]]), 'FE0_f1_C0_D10': array([[-1.,  1.,  0.,  0.,  0.,  0.],\n",
        "         [-1.,  1.,  0.,  0.,  0.,  0.]]), 'FE0_f0_C0_D10': array([[-1.,  1.,  0.,  0.,  0.,  0.],\n",
        "         [-1.,  1.,  0.,  0.,  0.,  0.]]), 'FE0_f2_C1': array([[ 0.        ,  0.        ,  0.        ,  0.78867513,  0.21132487,\n",
        "           0.        ],\n",
        "         [ 0.        ,  0.        ,  0.        ,  0.21132487,  0.78867513,\n",
        "           0.        ]]), 'FE0_f2_C0': array([[ 0.78867513,  0.21132487,  0.        ,  0.        ,  0.        ,\n",
        "           0.        ],\n",
        "         [ 0.21132487,  0.78867513,  0.        ,  0.        ,  0.        ,\n",
        "           0.        ]]), 'FE0_f0_C1_D10': array([[ 0.,  0.,  0., -1.,  1.,  0.],\n",
        "         [ 0.,  0.,  0., -1.,  1.,  0.]]), 'FE0_f1_C0_D01': array([[ -1.00000000e+00,   8.88178420e-16,   1.00000000e+00,\n",
        "            0.00000000e+00,   0.00000000e+00,   0.00000000e+00],\n",
        "         [ -1.00000000e+00,   8.88178420e-16,   1.00000000e+00,\n",
        "            0.00000000e+00,   0.00000000e+00,   0.00000000e+00]]), 'FE2_f2': array([[ 1.],\n",
        "         [ 1.]]), 'FE2_f0': array([[ 1.],\n",
        "         [ 1.]]), 'FE2_f1': array([[ 1.],\n",
        "         [ 1.]]), 'FE0_f2_C0_D01': array([[ -1.00000000e+00,   8.88178420e-16,   1.00000000e+00,\n",
        "            0.00000000e+00,   0.00000000e+00,   0.00000000e+00],\n",
        "         [ -1.00000000e+00,   8.88178420e-16,   1.00000000e+00,\n",
        "            0.00000000e+00,   0.00000000e+00,   0.00000000e+00]]), 'FE0_f1_C0': array([[  7.88675135e-01,  -2.08166817e-17,   2.11324865e-01,\n",
        "            0.00000000e+00,   0.00000000e+00,   0.00000000e+00],\n",
        "         [  2.11324865e-01,   5.55111512e-17,   7.88675135e-01,\n",
        "            0.00000000e+00,   0.00000000e+00,   0.00000000e+00]]), 'FE0_f1_C1': array([[  0.00000000e+00,   0.00000000e+00,   0.00000000e+00,\n",
        "            7.88675135e-01,  -2.08166817e-17,   2.11324865e-01],\n",
        "         [  0.00000000e+00,   0.00000000e+00,   0.00000000e+00,\n",
        "            2.11324865e-01,   5.55111512e-17,   7.88675135e-01]]), 'FE0_f2_C1_D10': array([[ 0.,  0.,  0., -1.,  1.,  0.],\n",
        "         [ 0.,  0.,  0., -1.,  1.,  0.]]), 'FE1_f1_C2': array([[ 0.,  0.,  0.,  0.,  1.],\n",
        "         [ 0.,  0.,  0.,  0.,  1.]]), 'FE1_f1_C1': array([[ 0.,  0.,  0.,  1.,  0.],\n",
        "         [ 0.,  0.,  0.,  1.,  0.]]), 'FE1_f1_C0': array([[  7.88675135e-01,  -2.08166817e-17,   2.11324865e-01,\n",
        "            0.00000000e+00,   0.00000000e+00],\n",
        "         [  2.11324865e-01,   5.55111512e-17,   7.88675135e-01,\n",
        "            0.00000000e+00,   0.00000000e+00]])}\n"
       ]
      },
      {
       "output_type": "stream",
       "stream": "stderr",
       "text": [
        "DEBUG:FFC:  \n",
        "  tables: {'FE0_f0_C0_D01': array([[ -1.00000000e+00,   8.88178420e-16,   1.00000000e+00,\n",
        "            0.00000000e+00,   0.00000000e+00,   0.00000000e+00],\n",
        "         [ -1.00000000e+00,   8.88178420e-16,   1.00000000e+00,\n",
        "            0.00000000e+00,   0.00000000e+00,   0.00000000e+00]]), 'FE1_f2_C0': array([[ 0.78867513,  0.21132487,  0.        ,  0.        ,  0.        ],\n",
        "         [ 0.21132487,  0.78867513,  0.        ,  0.        ,  0.        ]]), 'FE0_f0_C1': array([[  0.00000000e+00,   0.00000000e+00,   0.00000000e+00,\n",
        "           -2.08166817e-17,   7.88675135e-01,   2.11324865e-01],\n",
        "         [  0.00000000e+00,   0.00000000e+00,   0.00000000e+00,\n",
        "            5.55111512e-17,   2.11324865e-01,   7.88675135e-01]]), 'FE0_f0_C0': array([[ -2.08166817e-17,   7.88675135e-01,   2.11324865e-01,\n",
        "            0.00000000e+00,   0.00000000e+00,   0.00000000e+00],\n",
        "         [  5.55111512e-17,   2.11324865e-01,   7.88675135e-01,\n",
        "            0.00000000e+00,   0.00000000e+00,   0.00000000e+00]]), 'FE0_f0_C1_D01': array([[  0.00000000e+00,   0.00000000e+00,   0.00000000e+00,\n",
        "           -1.00000000e+00,   8.88178420e-16,   1.00000000e+00],\n",
        "         [  0.00000000e+00,   0.00000000e+00,   0.00000000e+00,\n",
        "           -1.00000000e+00,   8.88178420e-16,   1.00000000e+00]]), 'FE1_f0_C0': array([[ -2.08166817e-17,   7.88675135e-01,   2.11324865e-01,\n",
        "            0.00000000e+00,   0.00000000e+00],\n",
        "         [  5.55111512e-17,   2.11324865e-01,   7.88675135e-01,\n",
        "            0.00000000e+00,   0.00000000e+00]]), 'FE1_f0_C1': array([[ 0.,  0.,  0.,  1.,  0.],\n",
        "         [ 0.,  0.,  0.,  1.,  0.]]), 'FE1_f0_C2': array([[ 0.,  0.,  0.,  0.,  1.],\n",
        "         [ 0.,  0.,  0.,  0.,  1.]]), 'FE0_f0_C0_D10': array([[-1.,  1.,  0.,  0.,  0.,  0.],\n",
        "         [-1.,  1.,  0.,  0.,  0.,  0.]]), 'FE0_f2_C1': array([[ 0.        ,  0.        ,  0.        ,  0.78867513,  0.21132487,\n",
        "           0.        ],\n",
        "         [ 0.        ,  0.        ,  0.        ,  0.21132487,  0.78867513,\n",
        "           0.        ]]), 'FE0_f2_C0': array([[ 0.78867513,  0.21132487,  0.        ,  0.        ,  0.        ,\n",
        "           0.        ],\n",
        "         [ 0.21132487,  0.78867513,  0.        ,  0.        ,  0.        ,\n",
        "           0.        ]]), 'FE0_f0_C1_D10': array([[ 0.,  0.,  0., -1.,  1.,  0.],\n",
        "         [ 0.,  0.,  0., -1.,  1.,  0.]]), 'FE2_f0': array([[ 1.],\n",
        "         [ 1.]]), 'FE0_f1_C0': array([[  7.88675135e-01,  -2.08166817e-17,   2.11324865e-01,\n",
        "            0.00000000e+00,   0.00000000e+00,   0.00000000e+00],\n",
        "         [  2.11324865e-01,   5.55111512e-17,   7.88675135e-01,\n",
        "            0.00000000e+00,   0.00000000e+00,   0.00000000e+00]]), 'FE0_f1_C1': array([[  0.00000000e+00,   0.00000000e+00,   0.00000000e+00,\n",
        "            7.88675135e-01,  -2.08166817e-17,   2.11324865e-01],\n",
        "         [  0.00000000e+00,   0.00000000e+00,   0.00000000e+00,\n",
        "            2.11324865e-01,   5.55111512e-17,   7.88675135e-01]]), 'FE1_f1_C0': array([[  7.88675135e-01,  -2.08166817e-17,   2.11324865e-01,\n",
        "            0.00000000e+00,   0.00000000e+00],\n",
        "         [  2.11324865e-01,   5.55111512e-17,   7.88675135e-01,\n",
        "            0.00000000e+00,   0.00000000e+00]])}\n"
       ]
      },
      {
       "output_type": "stream",
       "stream": "stderr",
       "text": [
        "DEBUG:FFC:  \n",
        "  name_map: {'FE0_f0_C1_D01': ['FE0_f1_C1_D01', 'FE0_f2_C1_D01'], 'FE0_f0_C1_D10': ['FE0_f1_C1_D10', 'FE0_f2_C1_D10'], 'FE1_f0_C1': ['FE1_f1_C1', 'FE1_f2_C1'], 'FE1_f0_C2': ['FE1_f1_C2', 'FE1_f2_C2'], 'FE2_f0': ['FE2_f1', 'FE2_f2'], 'FE0_f0_C0_D01': ['FE0_f1_C0_D01', 'FE0_f2_C0_D01'], 'FE0_f0_C0_D10': ['FE0_f1_C0_D10', 'FE0_f2_C0_D10']}\n"
       ]
      },
      {
       "output_type": "stream",
       "stream": "stderr",
       "text": [
        "DEBUG:FFC:  \n",
        "  inv_name_map: {'FE1_f2_C2': 'FE1_f0_C2', 'FE0_f0_C0_D01': 'FE0_f0_C0_D01', 'FE1_f2_C0': 'FE1_f2_C0', 'FE1_f2_C1': 'FE1_f0_C1', 'FE0_f0_C1': 'FE0_f0_C1', 'FE0_f0_C0': 'FE0_f0_C0', 'FE0_f1_C1': 'FE0_f1_C1', 'FE0_f1_C0_D10': 'FE0_f0_C0_D10', 'FE0_f2_C0_D10': 'FE0_f0_C0_D10', 'FE0_f1_C1_D10': 'FE0_f0_C1_D10', 'FE0_f2_C1_D01': 'FE0_f0_C1_D01', 'FE1_f0_C0': 'FE1_f0_C0', 'FE1_f0_C1': 'FE1_f0_C1', 'FE1_f0_C2': 'FE1_f0_C2', 'FE0_f0_C1_D01': 'FE0_f0_C1_D01', 'FE0_f0_C0_D10': 'FE0_f0_C0_D10', 'FE0_f2_C1': 'FE0_f2_C1', 'FE0_f2_C0': 'FE0_f2_C0', 'FE0_f0_C1_D10': 'FE0_f0_C1_D10', 'FE0_f1_C0_D01': 'FE0_f0_C0_D01', 'FE2_f2': 'FE2_f0', 'FE2_f0': 'FE2_f0', 'FE2_f1': 'FE2_f0', 'FE0_f2_C0_D01': 'FE0_f0_C0_D01', 'FE0_f1_C0': 'FE0_f1_C0', 'FE0_f1_C1_D01': 'FE0_f0_C1_D01', 'FE0_f2_C1_D10': 'FE0_f0_C1_D10', 'FE1_f1_C2': 'FE1_f0_C2', 'FE1_f1_C1': 'FE1_f0_C1', 'FE1_f1_C0': 'FE1_f1_C0'}\n"
       ]
      },
      {
       "output_type": "stream",
       "stream": "stderr",
       "text": [
        "DEBUG:FFC:  \n",
        "  QG-utils, psi_tables, unique_tables:\n",
        "  {'FE0_f0_C0_D01': array([[-1.,  0.,  1.,  0.,  0.,  0.],\n",
        "         [-1.,  0.,  1.,  0.,  0.,  0.]]), 'FE1_f2_C0': array([[ 0.78867513,  0.21132487,  0.        ,  0.        ,  0.        ],\n",
        "         [ 0.21132487,  0.78867513,  0.        ,  0.        ,  0.        ]]), 'FE0_f0_C1': array([[ 0.        ,  0.        ,  0.        ,  0.        ,  0.78867513,\n",
        "           0.21132487],\n",
        "         [ 0.        ,  0.        ,  0.        ,  0.        ,  0.21132487,\n",
        "           0.78867513]]), 'FE0_f0_C0': array([[ 0.        ,  0.78867513,  0.21132487,  0.        ,  0.        ,\n",
        "           0.        ],\n",
        "         [ 0.        ,  0.21132487,  0.78867513,  0.        ,  0.        ,\n",
        "           0.        ]]), 'FE0_f0_C1_D01': array([[ 0.,  0.,  0., -1.,  0.,  1.],\n",
        "         [ 0.,  0.,  0., -1.,  0.,  1.]]), 'FE1_f0_C0': array([[ 0.        ,  0.78867513,  0.21132487,  0.        ,  0.        ],\n",
        "         [ 0.        ,  0.21132487,  0.78867513,  0.        ,  0.        ]]), 'FE1_f0_C1': array([[ 0.,  0.,  0.,  1.,  0.],\n",
        "         [ 0.,  0.,  0.,  1.,  0.]]), 'FE1_f0_C2': array([[ 0.,  0.,  0.,  0.,  1.],\n",
        "         [ 0.,  0.,  0.,  0.,  1.]]), 'FE0_f0_C0_D10': array([[-1.,  1.,  0.,  0.,  0.,  0.],\n",
        "         [-1.,  1.,  0.,  0.,  0.,  0.]]), 'FE0_f2_C1': array([[ 0.        ,  0.        ,  0.        ,  0.78867513,  0.21132487,\n",
        "           0.        ],\n",
        "         [ 0.        ,  0.        ,  0.        ,  0.21132487,  0.78867513,\n",
        "           0.        ]]), 'FE0_f2_C0': array([[ 0.78867513,  0.21132487,  0.        ,  0.        ,  0.        ,\n",
        "           0.        ],\n",
        "         [ 0.21132487,  0.78867513,  0.        ,  0.        ,  0.        ,\n",
        "           0.        ]]), 'FE0_f0_C1_D10': array([[ 0.,  0.,  0., -1.,  1.,  0.],\n",
        "         [ 0.,  0.,  0., -1.,  1.,  0.]]), 'FE2_f0': array([[ 1.],\n",
        "         [ 1.]]), 'FE0_f1_C0': array([[ 0.78867513,  0.        ,  0.21132487,  0.        ,  0.        ,\n",
        "           0.        ],\n",
        "         [ 0.21132487,  0.        ,  0.78867513,  0.        ,  0.        ,\n",
        "           0.        ]]), 'FE0_f1_C1': array([[ 0.        ,  0.        ,  0.        ,  0.78867513,  0.        ,\n",
        "           0.21132487],\n",
        "         [ 0.        ,  0.        ,  0.        ,  0.21132487,  0.        ,\n",
        "           0.78867513]]), 'FE1_f1_C0': array([[ 0.78867513,  0.        ,  0.21132487,  0.        ,  0.        ],\n",
        "         [ 0.21132487,  0.        ,  0.78867513,  0.        ,  0.        ]])}\n"
       ]
      },
      {
       "output_type": "stream",
       "stream": "stderr",
       "text": [
        "DEBUG:FFC:  \n",
        "  QG-utils, psi_tables, name_map:\n",
        "  {'FE1_f2_C2': ('FE1_f0_C2', (), False, False), 'FE0_f0_C0_D01': ('FE0_f0_C0_D01', (), False, False), 'FE1_f2_C0': ('FE1_f2_C0', (), False, False), 'FE1_f2_C1': ('FE1_f0_C1', (), False, False), 'FE0_f0_C1': ('FE0_f0_C1', (), False, False), 'FE0_f0_C0': ('FE0_f0_C0', (), False, False), 'FE0_f1_C1': ('FE0_f1_C1', (), False, False), 'FE0_f1_C0_D10': ('FE0_f0_C0_D10', (), False, False), 'FE0_f2_C0_D10': ('FE0_f0_C0_D10', (), False, False), 'FE0_f1_C1_D10': ('FE0_f0_C1_D10', (), False, False), 'FE0_f2_C1_D01': ('FE0_f0_C1_D01', (), False, False), 'FE1_f0_C0': ('FE1_f0_C0', (), False, False), 'FE1_f0_C1': ('FE1_f0_C1', (), False, False), 'FE1_f0_C2': ('FE1_f0_C2', (), False, False), 'FE0_f0_C1_D01': ('FE0_f0_C1_D01', (), False, False), 'FE0_f0_C0_D10': ('FE0_f0_C0_D10', (), False, False), 'FE0_f2_C1': ('FE0_f2_C1', (), False, False), 'FE0_f2_C0': ('FE0_f2_C0', (), False, False), 'FE0_f0_C1_D10': ('FE0_f0_C1_D10', (), False, False), 'FE0_f1_C0_D01': ('FE0_f0_C0_D01', (), False, False), 'FE2_f2': ('FE2_f0', (), False, True), 'FE2_f0': ('FE2_f0', (), False, True), 'FE2_f1': ('FE2_f0', (), False, True), 'FE0_f2_C0_D01': ('FE0_f0_C0_D01', (), False, False), 'FE0_f1_C0': ('FE0_f1_C0', (), False, False), 'FE0_f1_C1_D01': ('FE0_f0_C1_D01', (), False, False), 'FE0_f2_C1_D10': ('FE0_f0_C1_D10', (), False, False), 'FE1_f1_C2': ('FE1_f0_C2', (), False, False), 'FE1_f1_C1': ('FE1_f0_C1', (), False, False), 'FE1_f1_C0': ('FE1_f1_C0', (), False, False)}\n"
       ]
      },
      {
       "output_type": "stream",
       "stream": "stderr",
       "text": [
        "INFO:FFC:  Transforming exterior facet integral 0\n"
       ]
      },
      {
       "output_type": "stream",
       "stream": "stderr",
       "text": [
        "DEBUG:FFC:  Reusing element from cache\n"
       ]
      },
      {
       "output_type": "stream",
       "stream": "stderr",
       "text": [
        "DEBUG:FFC:  Reusing element from cache\n"
       ]
      },
      {
       "output_type": "stream",
       "stream": "stderr",
       "text": [
        "DEBUG:FFC:  Reusing element from cache\n"
       ]
      },
      {
       "output_type": "stream",
       "stream": "stderr",
       "text": [
        "DEBUG:FFC:  Reusing element from cache\n"
       ]
      },
      {
       "output_type": "stream",
       "stream": "stderr",
       "text": [
        "DEBUG:FFC:  Reusing element from cache\n"
       ]
      },
      {
       "output_type": "stream",
       "stream": "stderr",
       "text": [
        "DEBUG:FFC:  Reusing element from cache\n"
       ]
      },
      {
       "output_type": "stream",
       "stream": "stderr",
       "text": [
        "DEBUG:FFC:  Reusing element from cache\n"
       ]
      },
      {
       "output_type": "stream",
       "stream": "stderr",
       "text": [
        "DEBUG:FFC:  Reusing element from cache\n"
       ]
      },
      {
       "output_type": "stream",
       "stream": "stderr",
       "text": [
        "DEBUG:FFC:  Reusing element from cache\n"
       ]
      },
      {
       "output_type": "stream",
       "stream": "stderr",
       "text": [
        "DEBUG:FFC:  Reusing element from cache\n"
       ]
      },
      {
       "output_type": "stream",
       "stream": "stderr",
       "text": [
        "INFO:FFC:  Transforming exterior facet integral 1\n"
       ]
      },
      {
       "output_type": "stream",
       "stream": "stderr",
       "text": [
        "DEBUG:FFC:  Reusing element from cache\n"
       ]
      },
      {
       "output_type": "stream",
       "stream": "stderr",
       "text": [
        "DEBUG:FFC:  Reusing element from cache\n"
       ]
      },
      {
       "output_type": "stream",
       "stream": "stderr",
       "text": [
        "DEBUG:FFC:  Reusing element from cache\n"
       ]
      },
      {
       "output_type": "stream",
       "stream": "stderr",
       "text": [
        "DEBUG:FFC:  Reusing element from cache\n"
       ]
      },
      {
       "output_type": "stream",
       "stream": "stderr",
       "text": [
        "DEBUG:FFC:  Reusing element from cache\n"
       ]
      },
      {
       "output_type": "stream",
       "stream": "stderr",
       "text": [
        "DEBUG:FFC:  Reusing element from cache\n"
       ]
      },
      {
       "output_type": "stream",
       "stream": "stderr",
       "text": [
        "DEBUG:FFC:  Reusing element from cache\n"
       ]
      },
      {
       "output_type": "stream",
       "stream": "stderr",
       "text": [
        "DEBUG:FFC:  Reusing element from cache\n"
       ]
      },
      {
       "output_type": "stream",
       "stream": "stderr",
       "text": [
        "DEBUG:FFC:  Reusing element from cache\n"
       ]
      },
      {
       "output_type": "stream",
       "stream": "stderr",
       "text": [
        "DEBUG:FFC:  Reusing element from cache\n"
       ]
      },
      {
       "output_type": "stream",
       "stream": "stderr",
       "text": [
        "INFO:FFC:  Transforming exterior facet integral 2\n"
       ]
      },
      {
       "output_type": "stream",
       "stream": "stderr",
       "text": [
        "DEBUG:FFC:  Reusing element from cache\n"
       ]
      },
      {
       "output_type": "stream",
       "stream": "stderr",
       "text": [
        "DEBUG:FFC:  Reusing element from cache\n"
       ]
      },
      {
       "output_type": "stream",
       "stream": "stderr",
       "text": [
        "DEBUG:FFC:  Reusing element from cache\n"
       ]
      },
      {
       "output_type": "stream",
       "stream": "stderr",
       "text": [
        "DEBUG:FFC:  Reusing element from cache\n"
       ]
      },
      {
       "output_type": "stream",
       "stream": "stderr",
       "text": [
        "DEBUG:FFC:  Reusing element from cache\n"
       ]
      },
      {
       "output_type": "stream",
       "stream": "stderr",
       "text": [
        "DEBUG:FFC:  Reusing element from cache\n"
       ]
      },
      {
       "output_type": "stream",
       "stream": "stderr",
       "text": [
        "DEBUG:FFC:  Reusing element from cache\n"
       ]
      },
      {
       "output_type": "stream",
       "stream": "stderr",
       "text": [
        "DEBUG:FFC:  Reusing element from cache\n"
       ]
      },
      {
       "output_type": "stream",
       "stream": "stderr",
       "text": [
        "DEBUG:FFC:  Reusing element from cache\n"
       ]
      },
      {
       "output_type": "stream",
       "stream": "stderr",
       "text": [
        "DEBUG:FFC:  Reusing element from cache\n"
       ]
      },
      {
       "output_type": "stream",
       "stream": "stderr",
       "text": [
        "DEBUG:FFC:  Reusing element from cache\n"
       ]
      },
      {
       "output_type": "stream",
       "stream": "stderr",
       "text": [
        "DEBUG:FFC:  Reusing element from cache\n"
       ]
      },
      {
       "output_type": "stream",
       "stream": "stderr",
       "text": [
        "DEBUG:FFC:  Reusing element from cache\n"
       ]
      },
      {
       "output_type": "stream",
       "stream": "stderr",
       "text": [
        "INFO:FFC:  Computing representation of forms\n"
       ]
      },
      {
       "output_type": "stream",
       "stream": "stderr",
       "text": [
        "INFO:FFC:  \n"
       ]
      },
      {
       "output_type": "stream",
       "stream": "stderr",
       "text": [
        "INFO:FFC:Compiler stage 2 finished in 0.159122 seconds.\n",
        "\n"
       ]
      },
      {
       "output_type": "stream",
       "stream": "stderr",
       "text": [
        "INFO:FFC:Compiler stage 3: Optimizing intermediate representation\n"
       ]
      },
      {
       "output_type": "stream",
       "stream": "stderr",
       "text": [
        "INFO:FFC:--------------------------------------------------------\n"
       ]
      },
      {
       "output_type": "stream",
       "stream": "stderr",
       "text": [
        "INFO:FFC:  Skipping optimizations, add -O to optimize\n"
       ]
      },
      {
       "output_type": "stream",
       "stream": "stderr",
       "text": [
        "INFO:FFC:  \n"
       ]
      },
      {
       "output_type": "stream",
       "stream": "stderr",
       "text": [
        "INFO:FFC:Compiler stage 3 finished in 0.00127697 seconds.\n",
        "\n"
       ]
      },
      {
       "output_type": "stream",
       "stream": "stderr",
       "text": [
        "INFO:FFC:Compiler stage 4: Generating code\n"
       ]
      },
      {
       "output_type": "stream",
       "stream": "stderr",
       "text": [
        "INFO:FFC:---------------------------------\n"
       ]
      },
      {
       "output_type": "stream",
       "stream": "stderr",
       "text": [
        "INFO:FFC:  Generating code for 3 element(s)\n"
       ]
      },
      {
       "output_type": "stream",
       "stream": "stderr",
       "text": [
        "DEBUG:FFC:  Removing unused variable: tmp2\n"
       ]
      },
      {
       "output_type": "stream",
       "stream": "stderr",
       "text": [
        "DEBUG:FFC:  Removing unused variable: tmp1\n"
       ]
      },
      {
       "output_type": "stream",
       "stream": "stderr",
       "text": [
        "DEBUG:FFC:  Removing unused variable: tmp7\n"
       ]
      },
      {
       "output_type": "stream",
       "stream": "stderr",
       "text": [
        "DEBUG:FFC:  Removing unused variable: tmp6\n"
       ]
      },
      {
       "output_type": "stream",
       "stream": "stderr",
       "text": [
        "DEBUG:FFC:  Removing unused variable: tmp5\n"
       ]
      },
      {
       "output_type": "stream",
       "stream": "stderr",
       "text": [
        "DEBUG:FFC:  Removing unused variable: tt\n"
       ]
      },
      {
       "output_type": "stream",
       "stream": "stderr",
       "text": [
        "DEBUG:FFC:  Removing unused variable: ss\n"
       ]
      },
      {
       "output_type": "stream",
       "stream": "stderr",
       "text": [
        "DEBUG:FFC:  Removing unused variable: rr\n"
       ]
      },
      {
       "output_type": "stream",
       "stream": "stderr",
       "text": [
        "DEBUG:FFC:  Removing unused variable: tmp2\n"
       ]
      },
      {
       "output_type": "stream",
       "stream": "stderr",
       "text": [
        "DEBUG:FFC:  Removing unused variable: tmp1\n"
       ]
      },
      {
       "output_type": "stream",
       "stream": "stderr",
       "text": [
        "DEBUG:FFC:  Removing unused variable: tmp7\n"
       ]
      },
      {
       "output_type": "stream",
       "stream": "stderr",
       "text": [
        "DEBUG:FFC:  Removing unused variable: tmp6\n"
       ]
      },
      {
       "output_type": "stream",
       "stream": "stderr",
       "text": [
        "DEBUG:FFC:  Removing unused variable: tmp5\n"
       ]
      },
      {
       "output_type": "stream",
       "stream": "stderr",
       "text": [
        "DEBUG:FFC:  Removing unused variable: tt\n"
       ]
      },
      {
       "output_type": "stream",
       "stream": "stderr",
       "text": [
        "DEBUG:FFC:  Removing unused variable: ss\n"
       ]
      },
      {
       "output_type": "stream",
       "stream": "stderr",
       "text": [
        "DEBUG:FFC:  Removing unused variable: rr\n"
       ]
      },
      {
       "output_type": "stream",
       "stream": "stderr",
       "text": [
        "DEBUG:FFC:  Removing unused variable: tmp2\n"
       ]
      },
      {
       "output_type": "stream",
       "stream": "stderr",
       "text": [
        "DEBUG:FFC:  Removing unused variable: tmp1\n"
       ]
      },
      {
       "output_type": "stream",
       "stream": "stderr",
       "text": [
        "DEBUG:FFC:  Removing unused variable: tmp7\n"
       ]
      },
      {
       "output_type": "stream",
       "stream": "stderr",
       "text": [
        "DEBUG:FFC:  Removing unused variable: tmp6\n"
       ]
      },
      {
       "output_type": "stream",
       "stream": "stderr",
       "text": [
        "DEBUG:FFC:  Removing unused variable: tmp5\n"
       ]
      },
      {
       "output_type": "stream",
       "stream": "stderr",
       "text": [
        "DEBUG:FFC:  Removing unused variable: tt\n"
       ]
      },
      {
       "output_type": "stream",
       "stream": "stderr",
       "text": [
        "DEBUG:FFC:  Removing unused variable: ss\n"
       ]
      },
      {
       "output_type": "stream",
       "stream": "stderr",
       "text": [
        "DEBUG:FFC:  Removing unused variable: rr\n"
       ]
      },
      {
       "output_type": "stream",
       "stream": "stderr",
       "text": [
        "DEBUG:FFC:  Removing unused variable: tmp2\n"
       ]
      },
      {
       "output_type": "stream",
       "stream": "stderr",
       "text": [
        "DEBUG:FFC:  Removing unused variable: tmp1\n"
       ]
      },
      {
       "output_type": "stream",
       "stream": "stderr",
       "text": [
        "DEBUG:FFC:  Removing unused variable: tmp7\n"
       ]
      },
      {
       "output_type": "stream",
       "stream": "stderr",
       "text": [
        "DEBUG:FFC:  Removing unused variable: tmp6\n"
       ]
      },
      {
       "output_type": "stream",
       "stream": "stderr",
       "text": [
        "DEBUG:FFC:  Removing unused variable: tmp5\n"
       ]
      },
      {
       "output_type": "stream",
       "stream": "stderr",
       "text": [
        "DEBUG:FFC:  Removing unused variable: tt\n"
       ]
      },
      {
       "output_type": "stream",
       "stream": "stderr",
       "text": [
        "DEBUG:FFC:  Removing unused variable: ss\n"
       ]
      },
      {
       "output_type": "stream",
       "stream": "stderr",
       "text": [
        "DEBUG:FFC:  Removing unused variable: rr\n"
       ]
      },
      {
       "output_type": "stream",
       "stream": "stderr",
       "text": [
        "DEBUG:FFC:  Removing unused variable: tmp2\n"
       ]
      },
      {
       "output_type": "stream",
       "stream": "stderr",
       "text": [
        "DEBUG:FFC:  Removing unused variable: tmp1\n"
       ]
      },
      {
       "output_type": "stream",
       "stream": "stderr",
       "text": [
        "DEBUG:FFC:  Removing unused variable: tmp7\n"
       ]
      },
      {
       "output_type": "stream",
       "stream": "stderr",
       "text": [
        "DEBUG:FFC:  Removing unused variable: tmp6\n"
       ]
      },
      {
       "output_type": "stream",
       "stream": "stderr",
       "text": [
        "DEBUG:FFC:  Removing unused variable: tmp5\n"
       ]
      },
      {
       "output_type": "stream",
       "stream": "stderr",
       "text": [
        "DEBUG:FFC:  Removing unused variable: tt\n"
       ]
      },
      {
       "output_type": "stream",
       "stream": "stderr",
       "text": [
        "DEBUG:FFC:  Removing unused variable: ss\n"
       ]
      },
      {
       "output_type": "stream",
       "stream": "stderr",
       "text": [
        "DEBUG:FFC:  Removing unused variable: rr\n"
       ]
      },
      {
       "output_type": "stream",
       "stream": "stderr",
       "text": [
        "DEBUG:FFC:  Removing unused variable: tmp2\n"
       ]
      },
      {
       "output_type": "stream",
       "stream": "stderr",
       "text": [
        "DEBUG:FFC:  Removing unused variable: tmp1\n"
       ]
      },
      {
       "output_type": "stream",
       "stream": "stderr",
       "text": [
        "DEBUG:FFC:  Removing unused variable: tmp7\n"
       ]
      },
      {
       "output_type": "stream",
       "stream": "stderr",
       "text": [
        "DEBUG:FFC:  Removing unused variable: tmp6\n"
       ]
      },
      {
       "output_type": "stream",
       "stream": "stderr",
       "text": [
        "DEBUG:FFC:  Removing unused variable: tmp5\n"
       ]
      },
      {
       "output_type": "stream",
       "stream": "stderr",
       "text": [
        "DEBUG:FFC:  Removing unused variable: tt\n"
       ]
      },
      {
       "output_type": "stream",
       "stream": "stderr",
       "text": [
        "DEBUG:FFC:  Removing unused variable: ss\n"
       ]
      },
      {
       "output_type": "stream",
       "stream": "stderr",
       "text": [
        "DEBUG:FFC:  Removing unused variable: rr\n"
       ]
      },
      {
       "output_type": "stream",
       "stream": "stderr",
       "text": [
        "DEBUG:FFC:  Removing unused variable: tmp2\n"
       ]
      },
      {
       "output_type": "stream",
       "stream": "stderr",
       "text": [
        "DEBUG:FFC:  Removing unused variable: tmp1\n"
       ]
      },
      {
       "output_type": "stream",
       "stream": "stderr",
       "text": [
        "DEBUG:FFC:  Removing unused variable: tmp0\n"
       ]
      },
      {
       "output_type": "stream",
       "stream": "stderr",
       "text": [
        "DEBUG:FFC:  Removing unused variable: tmp7\n"
       ]
      },
      {
       "output_type": "stream",
       "stream": "stderr",
       "text": [
        "DEBUG:FFC:  Removing unused variable: tmp6\n"
       ]
      },
      {
       "output_type": "stream",
       "stream": "stderr",
       "text": [
        "DEBUG:FFC:  Removing unused variable: tmp5\n"
       ]
      },
      {
       "output_type": "stream",
       "stream": "stderr",
       "text": [
        "DEBUG:FFC:  Removing unused variable: tt\n"
       ]
      },
      {
       "output_type": "stream",
       "stream": "stderr",
       "text": [
        "DEBUG:FFC:  Removing unused variable: ss\n"
       ]
      },
      {
       "output_type": "stream",
       "stream": "stderr",
       "text": [
        "DEBUG:FFC:  Removing unused variable: rr\n"
       ]
      },
      {
       "output_type": "stream",
       "stream": "stderr",
       "text": [
        "DEBUG:FFC:  Removing unused variable: Y\n"
       ]
      },
      {
       "output_type": "stream",
       "stream": "stderr",
       "text": [
        "DEBUG:FFC:  Removing unused variable: X\n"
       ]
      },
      {
       "output_type": "stream",
       "stream": "stderr",
       "text": [
        "DEBUG:FFC:  Removing unused variable: C1\n"
       ]
      },
      {
       "output_type": "stream",
       "stream": "stderr",
       "text": [
        "DEBUG:FFC:  Removing unused variable: C0\n"
       ]
      },
      {
       "output_type": "stream",
       "stream": "stderr",
       "text": [
        "DEBUG:FFC:  Removing unused variable: tmp2\n"
       ]
      },
      {
       "output_type": "stream",
       "stream": "stderr",
       "text": [
        "DEBUG:FFC:  Removing unused variable: tmp1\n"
       ]
      },
      {
       "output_type": "stream",
       "stream": "stderr",
       "text": [
        "DEBUG:FFC:  Removing unused variable: tmp7\n"
       ]
      },
      {
       "output_type": "stream",
       "stream": "stderr",
       "text": [
        "DEBUG:FFC:  Removing unused variable: tmp6\n"
       ]
      },
      {
       "output_type": "stream",
       "stream": "stderr",
       "text": [
        "DEBUG:FFC:  Removing unused variable: tmp5\n"
       ]
      },
      {
       "output_type": "stream",
       "stream": "stderr",
       "text": [
        "DEBUG:FFC:  Removing unused variable: tt\n"
       ]
      },
      {
       "output_type": "stream",
       "stream": "stderr",
       "text": [
        "DEBUG:FFC:  Removing unused variable: ss\n"
       ]
      },
      {
       "output_type": "stream",
       "stream": "stderr",
       "text": [
        "DEBUG:FFC:  Removing unused variable: rr\n"
       ]
      },
      {
       "output_type": "stream",
       "stream": "stderr",
       "text": [
        "DEBUG:FFC:  Removing unused variable: tmp2\n"
       ]
      },
      {
       "output_type": "stream",
       "stream": "stderr",
       "text": [
        "DEBUG:FFC:  Removing unused variable: tmp1\n"
       ]
      },
      {
       "output_type": "stream",
       "stream": "stderr",
       "text": [
        "DEBUG:FFC:  Removing unused variable: tmp7\n"
       ]
      },
      {
       "output_type": "stream",
       "stream": "stderr",
       "text": [
        "DEBUG:FFC:  Removing unused variable: tmp6\n"
       ]
      },
      {
       "output_type": "stream",
       "stream": "stderr",
       "text": [
        "DEBUG:FFC:  Removing unused variable: tmp5\n"
       ]
      },
      {
       "output_type": "stream",
       "stream": "stderr",
       "text": [
        "DEBUG:FFC:  Removing unused variable: tt\n"
       ]
      },
      {
       "output_type": "stream",
       "stream": "stderr",
       "text": [
        "DEBUG:FFC:  Removing unused variable: ss\n"
       ]
      },
      {
       "output_type": "stream",
       "stream": "stderr",
       "text": [
        "DEBUG:FFC:  Removing unused variable: rr\n"
       ]
      },
      {
       "output_type": "stream",
       "stream": "stderr",
       "text": [
        "DEBUG:FFC:  Removing unused variable: tmp2\n"
       ]
      },
      {
       "output_type": "stream",
       "stream": "stderr",
       "text": [
        "DEBUG:FFC:  Removing unused variable: tmp1\n"
       ]
      },
      {
       "output_type": "stream",
       "stream": "stderr",
       "text": [
        "DEBUG:FFC:  Removing unused variable: tmp7\n"
       ]
      },
      {
       "output_type": "stream",
       "stream": "stderr",
       "text": [
        "DEBUG:FFC:  Removing unused variable: tmp6\n"
       ]
      },
      {
       "output_type": "stream",
       "stream": "stderr",
       "text": [
        "DEBUG:FFC:  Removing unused variable: tmp5\n"
       ]
      },
      {
       "output_type": "stream",
       "stream": "stderr",
       "text": [
        "DEBUG:FFC:  Removing unused variable: tt\n"
       ]
      },
      {
       "output_type": "stream",
       "stream": "stderr",
       "text": [
        "DEBUG:FFC:  Removing unused variable: ss\n"
       ]
      },
      {
       "output_type": "stream",
       "stream": "stderr",
       "text": [
        "DEBUG:FFC:  Removing unused variable: rr\n"
       ]
      },
      {
       "output_type": "stream",
       "stream": "stderr",
       "text": [
        "DEBUG:FFC:  Removing unused variable: tmp2\n"
       ]
      },
      {
       "output_type": "stream",
       "stream": "stderr",
       "text": [
        "DEBUG:FFC:  Removing unused variable: tmp1\n"
       ]
      },
      {
       "output_type": "stream",
       "stream": "stderr",
       "text": [
        "DEBUG:FFC:  Removing unused variable: tmp0\n"
       ]
      },
      {
       "output_type": "stream",
       "stream": "stderr",
       "text": [
        "DEBUG:FFC:  Removing unused variable: tmp7\n"
       ]
      },
      {
       "output_type": "stream",
       "stream": "stderr",
       "text": [
        "DEBUG:FFC:  Removing unused variable: tmp6\n"
       ]
      },
      {
       "output_type": "stream",
       "stream": "stderr",
       "text": [
        "DEBUG:FFC:  Removing unused variable: tmp5\n"
       ]
      },
      {
       "output_type": "stream",
       "stream": "stderr",
       "text": [
        "DEBUG:FFC:  Removing unused variable: tt\n"
       ]
      },
      {
       "output_type": "stream",
       "stream": "stderr",
       "text": [
        "DEBUG:FFC:  Removing unused variable: ss\n"
       ]
      },
      {
       "output_type": "stream",
       "stream": "stderr",
       "text": [
        "DEBUG:FFC:  Removing unused variable: rr\n"
       ]
      },
      {
       "output_type": "stream",
       "stream": "stderr",
       "text": [
        "DEBUG:FFC:  Removing unused variable: tmp2\n"
       ]
      },
      {
       "output_type": "stream",
       "stream": "stderr",
       "text": [
        "DEBUG:FFC:  Removing unused variable: tmp1\n"
       ]
      },
      {
       "output_type": "stream",
       "stream": "stderr",
       "text": [
        "DEBUG:FFC:  Removing unused variable: tmp0\n"
       ]
      },
      {
       "output_type": "stream",
       "stream": "stderr",
       "text": [
        "DEBUG:FFC:  Removing unused variable: tmp7\n"
       ]
      },
      {
       "output_type": "stream",
       "stream": "stderr",
       "text": [
        "DEBUG:FFC:  Removing unused variable: tmp6\n"
       ]
      },
      {
       "output_type": "stream",
       "stream": "stderr",
       "text": [
        "DEBUG:FFC:  Removing unused variable: tmp5\n"
       ]
      },
      {
       "output_type": "stream",
       "stream": "stderr",
       "text": [
        "DEBUG:FFC:  Removing unused variable: tt\n"
       ]
      },
      {
       "output_type": "stream",
       "stream": "stderr",
       "text": [
        "DEBUG:FFC:  Removing unused variable: ss\n"
       ]
      },
      {
       "output_type": "stream",
       "stream": "stderr",
       "text": [
        "DEBUG:FFC:  Removing unused variable: rr\n"
       ]
      },
      {
       "output_type": "stream",
       "stream": "stderr",
       "text": [
        "DEBUG:FFC:  Removing unused variable: tmp2\n"
       ]
      },
      {
       "output_type": "stream",
       "stream": "stderr",
       "text": [
        "DEBUG:FFC:  Removing unused variable: tmp1\n"
       ]
      },
      {
       "output_type": "stream",
       "stream": "stderr",
       "text": [
        "DEBUG:FFC:  Removing unused variable: tmp7\n"
       ]
      },
      {
       "output_type": "stream",
       "stream": "stderr",
       "text": [
        "DEBUG:FFC:  Removing unused variable: tmp6\n"
       ]
      },
      {
       "output_type": "stream",
       "stream": "stderr",
       "text": [
        "DEBUG:FFC:  Removing unused variable: tmp5\n"
       ]
      },
      {
       "output_type": "stream",
       "stream": "stderr",
       "text": [
        "DEBUG:FFC:  Removing unused variable: tt\n"
       ]
      },
      {
       "output_type": "stream",
       "stream": "stderr",
       "text": [
        "DEBUG:FFC:  Removing unused variable: ss\n"
       ]
      },
      {
       "output_type": "stream",
       "stream": "stderr",
       "text": [
        "DEBUG:FFC:  Removing unused variable: rr\n"
       ]
      },
      {
       "output_type": "stream",
       "stream": "stderr",
       "text": [
        "DEBUG:FFC:  Removing unused variable: tmp2\n"
       ]
      },
      {
       "output_type": "stream",
       "stream": "stderr",
       "text": [
        "DEBUG:FFC:  Removing unused variable: tmp1\n"
       ]
      },
      {
       "output_type": "stream",
       "stream": "stderr",
       "text": [
        "DEBUG:FFC:  Removing unused variable: tmp7\n"
       ]
      },
      {
       "output_type": "stream",
       "stream": "stderr",
       "text": [
        "DEBUG:FFC:  Removing unused variable: tmp6\n"
       ]
      },
      {
       "output_type": "stream",
       "stream": "stderr",
       "text": [
        "DEBUG:FFC:  Removing unused variable: tmp5\n"
       ]
      },
      {
       "output_type": "stream",
       "stream": "stderr",
       "text": [
        "DEBUG:FFC:  Removing unused variable: tt\n"
       ]
      },
      {
       "output_type": "stream",
       "stream": "stderr",
       "text": [
        "DEBUG:FFC:  Removing unused variable: ss\n"
       ]
      },
      {
       "output_type": "stream",
       "stream": "stderr",
       "text": [
        "DEBUG:FFC:  Removing unused variable: rr\n"
       ]
      },
      {
       "output_type": "stream",
       "stream": "stderr",
       "text": [
        "DEBUG:FFC:  Removing unused variable: tmp2\n"
       ]
      },
      {
       "output_type": "stream",
       "stream": "stderr",
       "text": [
        "DEBUG:FFC:  Removing unused variable: tmp1\n"
       ]
      },
      {
       "output_type": "stream",
       "stream": "stderr",
       "text": [
        "DEBUG:FFC:  Removing unused variable: tmp7\n"
       ]
      },
      {
       "output_type": "stream",
       "stream": "stderr",
       "text": [
        "DEBUG:FFC:  Removing unused variable: tmp6\n"
       ]
      },
      {
       "output_type": "stream",
       "stream": "stderr",
       "text": [
        "DEBUG:FFC:  Removing unused variable: tmp5\n"
       ]
      },
      {
       "output_type": "stream",
       "stream": "stderr",
       "text": [
        "DEBUG:FFC:  Removing unused variable: tt\n"
       ]
      },
      {
       "output_type": "stream",
       "stream": "stderr",
       "text": [
        "DEBUG:FFC:  Removing unused variable: ss\n"
       ]
      },
      {
       "output_type": "stream",
       "stream": "stderr",
       "text": [
        "DEBUG:FFC:  Removing unused variable: rr\n"
       ]
      },
      {
       "output_type": "stream",
       "stream": "stderr",
       "text": [
        "DEBUG:FFC:  Removing unused variable: tmp2\n"
       ]
      },
      {
       "output_type": "stream",
       "stream": "stderr",
       "text": [
        "DEBUG:FFC:  Removing unused variable: tmp1\n"
       ]
      },
      {
       "output_type": "stream",
       "stream": "stderr",
       "text": [
        "DEBUG:FFC:  Removing unused variable: tmp0\n"
       ]
      },
      {
       "output_type": "stream",
       "stream": "stderr",
       "text": [
        "DEBUG:FFC:  Removing unused variable: tmp7\n"
       ]
      },
      {
       "output_type": "stream",
       "stream": "stderr",
       "text": [
        "DEBUG:FFC:  Removing unused variable: tmp6\n"
       ]
      },
      {
       "output_type": "stream",
       "stream": "stderr",
       "text": [
        "DEBUG:FFC:  Removing unused variable: tmp5\n"
       ]
      },
      {
       "output_type": "stream",
       "stream": "stderr",
       "text": [
        "DEBUG:FFC:  Removing unused variable: tt\n"
       ]
      },
      {
       "output_type": "stream",
       "stream": "stderr",
       "text": [
        "DEBUG:FFC:  Removing unused variable: ss\n"
       ]
      },
      {
       "output_type": "stream",
       "stream": "stderr",
       "text": [
        "DEBUG:FFC:  Removing unused variable: rr\n"
       ]
      },
      {
       "output_type": "stream",
       "stream": "stderr",
       "text": [
        "DEBUG:FFC:  Removing unused variable: tmp2\n"
       ]
      },
      {
       "output_type": "stream",
       "stream": "stderr",
       "text": [
        "DEBUG:FFC:  Removing unused variable: tmp1\n"
       ]
      },
      {
       "output_type": "stream",
       "stream": "stderr",
       "text": [
        "DEBUG:FFC:  Removing unused variable: tmp0\n"
       ]
      },
      {
       "output_type": "stream",
       "stream": "stderr",
       "text": [
        "DEBUG:FFC:  Removing unused variable: tmp7\n"
       ]
      },
      {
       "output_type": "stream",
       "stream": "stderr",
       "text": [
        "DEBUG:FFC:  Removing unused variable: tmp6\n"
       ]
      },
      {
       "output_type": "stream",
       "stream": "stderr",
       "text": [
        "DEBUG:FFC:  Removing unused variable: tmp5\n"
       ]
      },
      {
       "output_type": "stream",
       "stream": "stderr",
       "text": [
        "DEBUG:FFC:  Removing unused variable: tt\n"
       ]
      },
      {
       "output_type": "stream",
       "stream": "stderr",
       "text": [
        "DEBUG:FFC:  Removing unused variable: ss\n"
       ]
      },
      {
       "output_type": "stream",
       "stream": "stderr",
       "text": [
        "DEBUG:FFC:  Removing unused variable: rr\n"
       ]
      },
      {
       "output_type": "stream",
       "stream": "stderr",
       "text": [
        "INFO:FFC:  Generating code for 3 dofmap(s)\n"
       ]
      },
      {
       "output_type": "stream",
       "stream": "stderr",
       "text": [
        "INFO:FFC:  Generating code for integrals\n"
       ]
      },
      {
       "output_type": "stream",
       "stream": "stderr",
       "text": [
        "DEBUG:FFC:  Removing unused variable: circumradius\n"
       ]
      },
      {
       "output_type": "stream",
       "stream": "stderr",
       "text": [
        "DEBUG:FFC:  Removing unused variable: v0v1\n"
       ]
      },
      {
       "output_type": "stream",
       "stream": "stderr",
       "text": [
        "DEBUG:FFC:  Removing unused variable: v0v2\n"
       ]
      },
      {
       "output_type": "stream",
       "stream": "stderr",
       "text": [
        "DEBUG:FFC:  Removing unused variable: v1v2\n"
       ]
      },
      {
       "output_type": "stream",
       "stream": "stderr",
       "text": [
        "DEBUG:FFC:  Removing unused variable: volume\n"
       ]
      },
      {
       "output_type": "stream",
       "stream": "stderr",
       "text": [
        "DEBUG:FFC:  Removing unused variable: circumradius\n"
       ]
      },
      {
       "output_type": "stream",
       "stream": "stderr",
       "text": [
        "DEBUG:FFC:  Removing unused variable: v0v1\n"
       ]
      },
      {
       "output_type": "stream",
       "stream": "stderr",
       "text": [
        "DEBUG:FFC:  Removing unused variable: v0v2\n"
       ]
      },
      {
       "output_type": "stream",
       "stream": "stderr",
       "text": [
        "DEBUG:FFC:  Removing unused variable: v1v2\n"
       ]
      },
      {
       "output_type": "stream",
       "stream": "stderr",
       "text": [
        "DEBUG:FFC:  Removing unused variable: volume\n"
       ]
      },
      {
       "output_type": "stream",
       "stream": "stderr",
       "text": [
        "DEBUG:FFC:  Removing unused variable: facet_area\n"
       ]
      },
      {
       "output_type": "stream",
       "stream": "stderr",
       "text": [
        "DEBUG:FFC:  Removing unused variable: n1\n"
       ]
      },
      {
       "output_type": "stream",
       "stream": "stderr",
       "text": [
        "DEBUG:FFC:  Removing unused variable: n0\n"
       ]
      },
      {
       "output_type": "stream",
       "stream": "stderr",
       "text": [
        "DEBUG:FFC:  Removing unused variable: direction\n"
       ]
      },
      {
       "output_type": "stream",
       "stream": "stderr",
       "text": [
        "INFO:FFC:  Generating code for forms\n"
       ]
      },
      {
       "output_type": "stream",
       "stream": "stderr",
       "text": [
        "INFO:FFC:  \n"
       ]
      },
      {
       "output_type": "stream",
       "stream": "stderr",
       "text": [
        "INFO:FFC:Compiler stage 4 finished in 0.126726 seconds.\n",
        "\n"
       ]
      },
      {
       "output_type": "stream",
       "stream": "stderr",
       "text": [
        "INFO:FFC:Compiler stage 4.1 finished in 1.90735e-05 seconds.\n",
        "\n"
       ]
      },
      {
       "output_type": "stream",
       "stream": "stderr",
       "text": [
        "INFO:FFC:Compiler stage 5: Formatting code\n"
       ]
      },
      {
       "output_type": "stream",
       "stream": "stderr",
       "text": [
        "INFO:FFC:---------------------------------\n"
       ]
      },
      {
       "output_type": "stream",
       "stream": "stderr",
       "text": [
        "INFO:FFC:  Output written to ./ffc_form_defd903a9c0590277e79edc317a5e164327bd20c.h.\n"
       ]
      },
      {
       "output_type": "stream",
       "stream": "stderr",
       "text": [
        "INFO:FFC:  \n"
       ]
      },
      {
       "output_type": "stream",
       "stream": "stderr",
       "text": [
        "INFO:FFC:Compiler stage 5 finished in 0.00200105 seconds.\n",
        "\n"
       ]
      },
      {
       "output_type": "stream",
       "stream": "stderr",
       "text": [
        "INFO:FFC:\u001b[1;37;32mFFC finished in 0.342988 seconds.\u001b[0m\n"
       ]
      },
      {
       "output_type": "stream",
       "stream": "stderr",
       "text": [
        "DEBUG:FFC:Compiling and linking Python extension module, this may take some time.\n"
       ]
      },
      {
       "output_type": "stream",
       "stream": "stderr",
       "text": [
        "DEBUG:FFC:Reusing form from cache.\n"
       ]
      },
      {
       "output_type": "stream",
       "stream": "stderr",
       "text": [
        "DEBUG:FFC:Reusing form from cache.\n"
       ]
      },
      {
       "output_type": "stream",
       "stream": "stderr",
       "text": [
        "DEBUG:FFC:Reusing form from cache.\n"
       ]
      },
      {
       "output_type": "stream",
       "stream": "stderr",
       "text": [
        "DEBUG:FFC:Reusing form from cache.\n"
       ]
      },
      {
       "output_type": "stream",
       "stream": "stderr",
       "text": [
        "DEBUG:FFC:Reusing form from cache.\n"
       ]
      },
      {
       "output_type": "stream",
       "stream": "stderr",
       "text": [
        "DEBUG:FFC:Reusing form from cache.\n"
       ]
      },
      {
       "output_type": "stream",
       "stream": "stderr",
       "text": [
        "DEBUG:FFC:Reusing form from cache.\n"
       ]
      },
      {
       "output_type": "stream",
       "stream": "stderr",
       "text": [
        "DEBUG:FFC:Reusing form from cache.\n"
       ]
      },
      {
       "output_type": "stream",
       "stream": "stderr",
       "text": [
        "DEBUG:FFC:Reusing form from cache.\n"
       ]
      },
      {
       "output_type": "stream",
       "stream": "stderr",
       "text": [
        "DEBUG:FFC:Reusing form from cache.\n"
       ]
      },
      {
       "output_type": "stream",
       "stream": "stderr",
       "text": [
        "DEBUG:FFC:Reusing form from cache.\n"
       ]
      },
      {
       "output_type": "stream",
       "stream": "stderr",
       "text": [
        "DEBUG:FFC:Reusing form from cache.\n"
       ]
      },
      {
       "output_type": "stream",
       "stream": "stderr",
       "text": [
        "DEBUG:FFC:Reusing form from cache.\n"
       ]
      },
      {
       "output_type": "stream",
       "stream": "stderr",
       "text": [
        "DEBUG:FFC:Reusing form from cache.\n"
       ]
      },
      {
       "output_type": "stream",
       "stream": "stderr",
       "text": [
        "DEBUG:FFC:Reusing form from cache.\n"
       ]
      },
      {
       "output_type": "stream",
       "stream": "stderr",
       "text": [
        "DEBUG:FFC:Reusing form from cache.\n"
       ]
      },
      {
       "output_type": "stream",
       "stream": "stderr",
       "text": [
        "DEBUG:FFC:Reusing form from cache.\n"
       ]
      },
      {
       "output_type": "stream",
       "stream": "stderr",
       "text": [
        "DEBUG:FFC:Reusing form from cache.\n"
       ]
      },
      {
       "output_type": "stream",
       "stream": "stderr",
       "text": [
        "DEBUG:FFC:Reusing form from cache.\n"
       ]
      },
      {
       "output_type": "stream",
       "stream": "stderr",
       "text": [
        "DEBUG:FFC:Reusing form from cache.\n"
       ]
      },
      {
       "output_type": "stream",
       "stream": "stderr",
       "text": [
        "DEBUG:FFC:Reusing form from cache.\n"
       ]
      },
      {
       "output_type": "stream",
       "stream": "stderr",
       "text": [
        "DEBUG:FFC:Reusing form from cache.\n"
       ]
      },
      {
       "output_type": "stream",
       "stream": "stderr",
       "text": [
        "DEBUG:FFC:Reusing form from cache.\n"
       ]
      },
      {
       "output_type": "stream",
       "stream": "stderr",
       "text": [
        "DEBUG:FFC:Reusing form from cache.\n"
       ]
      },
      {
       "output_type": "stream",
       "stream": "stderr",
       "text": [
        "DEBUG:FFC:Reusing form from cache.\n"
       ]
      },
      {
       "output_type": "stream",
       "stream": "stderr",
       "text": [
        "DEBUG:FFC:Reusing form from cache.\n"
       ]
      },
      {
       "output_type": "stream",
       "stream": "stderr",
       "text": [
        "DEBUG:FFC:Reusing form from cache.\n"
       ]
      },
      {
       "output_type": "stream",
       "stream": "stderr",
       "text": [
        "DEBUG:FFC:Reusing form from cache.\n"
       ]
      },
      {
       "output_type": "stream",
       "stream": "stderr",
       "text": [
        "DEBUG:FFC:Reusing form from cache.\n"
       ]
      },
      {
       "output_type": "stream",
       "stream": "stderr",
       "text": [
        "DEBUG:FFC:Reusing form from cache.\n"
       ]
      },
      {
       "output_type": "stream",
       "stream": "stderr",
       "text": [
        "DEBUG:FFC:Reusing form from cache.\n"
       ]
      },
      {
       "output_type": "stream",
       "stream": "stderr",
       "text": [
        "DEBUG:FFC:Reusing form from cache.\n"
       ]
      },
      {
       "output_type": "stream",
       "stream": "stderr",
       "text": [
        "DEBUG:FFC:Reusing form from cache.\n"
       ]
      },
      {
       "output_type": "stream",
       "stream": "stderr",
       "text": [
        "DEBUG:FFC:Reusing form from cache.\n"
       ]
      },
      {
       "output_type": "stream",
       "stream": "stdout",
       "text": [
        "###############  0.0\n",
        "cCa_n  6.12319631551 conc  6.12319631551\n",
        "cCaSSL_n  103.40975491 conc  1.0340975491\n",
        "cCaCleft_n  0.56704877455 conc  0.56704877455\n",
        "CONSERVATION: 110.1\n",
        "###############  1.0\n",
        "cCa_n  3.96210422117 conc  3.96210422117\n",
        "cCaSSL_n  105.327732728 conc  1.05327732728\n",
        "cCaCleft_n  0.810163050914 conc  0.810163050914\n",
        "CONSERVATION: 110.1\n",
        "############### "
       ]
      },
      {
       "output_type": "stream",
       "stream": "stderr",
       "text": [
        "DEBUG:FFC:Reusing form from cache.\n"
       ]
      },
      {
       "output_type": "stream",
       "stream": "stderr",
       "text": [
        "DEBUG:FFC:Reusing form from cache.\n"
       ]
      },
      {
       "output_type": "stream",
       "stream": "stderr",
       "text": [
        "DEBUG:FFC:Reusing form from cache.\n"
       ]
      },
      {
       "output_type": "stream",
       "stream": "stderr",
       "text": [
        "DEBUG:FFC:Reusing form from cache.\n"
       ]
      },
      {
       "output_type": "stream",
       "stream": "stderr",
       "text": [
        "DEBUG:FFC:Reusing form from cache.\n"
       ]
      },
      {
       "output_type": "stream",
       "stream": "stderr",
       "text": [
        "DEBUG:FFC:Reusing form from cache.\n"
       ]
      },
      {
       "output_type": "stream",
       "stream": "stderr",
       "text": [
        "DEBUG:FFC:Reusing form from cache.\n"
       ]
      },
      {
       "output_type": "stream",
       "stream": "stderr",
       "text": [
        "DEBUG:FFC:Reusing form from cache.\n"
       ]
      },
      {
       "output_type": "stream",
       "stream": "stderr",
       "text": [
        "DEBUG:FFC:Reusing form from cache.\n"
       ]
      },
      {
       "output_type": "stream",
       "stream": "stderr",
       "text": [
        "DEBUG:FFC:Reusing form from cache.\n"
       ]
      },
      {
       "output_type": "stream",
       "stream": "stderr",
       "text": [
        "DEBUG:FFC:Reusing form from cache.\n"
       ]
      },
      {
       "output_type": "stream",
       "stream": "stderr",
       "text": [
        "DEBUG:FFC:Reusing form from cache.\n"
       ]
      },
      {
       "output_type": "stream",
       "stream": "stderr",
       "text": [
        "DEBUG:FFC:Reusing form from cache.\n"
       ]
      },
      {
       "output_type": "stream",
       "stream": "stderr",
       "text": [
        "DEBUG:FFC:Reusing form from cache.\n"
       ]
      },
      {
       "output_type": "stream",
       "stream": "stderr",
       "text": [
        "DEBUG:FFC:Reusing form from cache.\n"
       ]
      },
      {
       "output_type": "stream",
       "stream": "stderr",
       "text": [
        "DEBUG:FFC:Reusing form from cache.\n"
       ]
      },
      {
       "output_type": "stream",
       "stream": "stderr",
       "text": [
        "DEBUG:FFC:Reusing form from cache.\n"
       ]
      },
      {
       "output_type": "stream",
       "stream": "stderr",
       "text": [
        "DEBUG:FFC:Reusing form from cache.\n"
       ]
      },
      {
       "output_type": "stream",
       "stream": "stderr",
       "text": [
        "DEBUG:FFC:Reusing form from cache.\n"
       ]
      },
      {
       "output_type": "stream",
       "stream": "stderr",
       "text": [
        "DEBUG:FFC:Reusing form from cache.\n"
       ]
      },
      {
       "output_type": "stream",
       "stream": "stderr",
       "text": [
        "DEBUG:FFC:Reusing form from cache.\n"
       ]
      },
      {
       "output_type": "stream",
       "stream": "stderr",
       "text": [
        "DEBUG:FFC:Reusing form from cache.\n"
       ]
      },
      {
       "output_type": "stream",
       "stream": "stderr",
       "text": [
        "DEBUG:FFC:Reusing form from cache.\n"
       ]
      },
      {
       "output_type": "stream",
       "stream": "stderr",
       "text": [
        "DEBUG:FFC:Reusing form from cache.\n"
       ]
      },
      {
       "output_type": "stream",
       "stream": "stderr",
       "text": [
        "DEBUG:FFC:Reusing form from cache.\n"
       ]
      },
      {
       "output_type": "stream",
       "stream": "stderr",
       "text": [
        "DEBUG:FFC:Reusing form from cache.\n"
       ]
      },
      {
       "output_type": "stream",
       "stream": "stderr",
       "text": [
        "DEBUG:FFC:Reusing form from cache.\n"
       ]
      },
      {
       "output_type": "stream",
       "stream": "stderr",
       "text": [
        "DEBUG:FFC:Reusing form from cache.\n"
       ]
      },
      {
       "output_type": "stream",
       "stream": "stdout",
       "text": [
        " 2.0\n",
        "cCa_n  2.72912914102 conc  2.72912914102\n",
        "cCaSSL_n  106.433621227 conc  1.06433621227\n",
        "cCaCleft_n  0.937249631594 conc  0.937249631594\n",
        "CONSERVATION: 110.1\n",
        "###############  3.0\n",
        "cCa_n  2.02366192097 conc  2.02366192097\n",
        "cCaSSL_n  107.072351506 conc  1.07072351506\n",
        "cCaCleft_n  1.00398657333 conc  1.00398657333\n",
        "CONSERVATION: 110.1\n",
        "############### "
       ]
      },
      {
       "output_type": "stream",
       "stream": "stderr",
       "text": [
        "DEBUG:FFC:Reusing form from cache.\n"
       ]
      },
      {
       "output_type": "stream",
       "stream": "stderr",
       "text": [
        "DEBUG:FFC:Reusing form from cache.\n"
       ]
      },
      {
       "output_type": "stream",
       "stream": "stderr",
       "text": [
        "DEBUG:FFC:Reusing form from cache.\n"
       ]
      },
      {
       "output_type": "stream",
       "stream": "stderr",
       "text": [
        "DEBUG:FFC:Reusing form from cache.\n"
       ]
      },
      {
       "output_type": "stream",
       "stream": "stderr",
       "text": [
        "DEBUG:FFC:Reusing form from cache.\n"
       ]
      },
      {
       "output_type": "stream",
       "stream": "stderr",
       "text": [
        "DEBUG:FFC:Reusing form from cache.\n"
       ]
      },
      {
       "output_type": "stream",
       "stream": "stderr",
       "text": [
        "DEBUG:FFC:Reusing form from cache.\n"
       ]
      },
      {
       "output_type": "stream",
       "stream": "stderr",
       "text": [
        "DEBUG:FFC:Reusing form from cache.\n"
       ]
      },
      {
       "output_type": "stream",
       "stream": "stderr",
       "text": [
        "DEBUG:FFC:Reusing form from cache.\n"
       ]
      },
      {
       "output_type": "stream",
       "stream": "stderr",
       "text": [
        "DEBUG:FFC:Reusing form from cache.\n"
       ]
      },
      {
       "output_type": "stream",
       "stream": "stderr",
       "text": [
        "DEBUG:FFC:Reusing form from cache.\n"
       ]
      },
      {
       "output_type": "stream",
       "stream": "stderr",
       "text": [
        "DEBUG:FFC:Reusing form from cache.\n"
       ]
      },
      {
       "output_type": "stream",
       "stream": "stderr",
       "text": [
        "DEBUG:FFC:Reusing form from cache.\n"
       ]
      },
      {
       "output_type": "stream",
       "stream": "stderr",
       "text": [
        "DEBUG:FFC:Reusing form from cache.\n"
       ]
      },
      {
       "output_type": "stream",
       "stream": "stderr",
       "text": [
        "DEBUG:FFC:Reusing form from cache.\n"
       ]
      },
      {
       "output_type": "stream",
       "stream": "stderr",
       "text": [
        "DEBUG:FFC:Reusing form from cache.\n"
       ]
      },
      {
       "output_type": "stream",
       "stream": "stderr",
       "text": [
        "DEBUG:FFC:Reusing form from cache.\n"
       ]
      },
      {
       "output_type": "stream",
       "stream": "stderr",
       "text": [
        "DEBUG:FFC:Reusing form from cache.\n"
       ]
      },
      {
       "output_type": "stream",
       "stream": "stderr",
       "text": [
        "DEBUG:FFC:Reusing form from cache.\n"
       ]
      },
      {
       "output_type": "stream",
       "stream": "stderr",
       "text": [
        "DEBUG:FFC:Reusing form from cache.\n"
       ]
      },
      {
       "output_type": "stream",
       "stream": "stderr",
       "text": [
        "DEBUG:FFC:Reusing form from cache.\n"
       ]
      },
      {
       "output_type": "stream",
       "stream": "stderr",
       "text": [
        "DEBUG:FFC:Reusing form from cache.\n"
       ]
      },
      {
       "output_type": "stream",
       "stream": "stderr",
       "text": [
        "DEBUG:FFC:Reusing form from cache.\n"
       ]
      },
      {
       "output_type": "stream",
       "stream": "stderr",
       "text": [
        "DEBUG:FFC:Reusing form from cache.\n"
       ]
      },
      {
       "output_type": "stream",
       "stream": "stderr",
       "text": [
        "DEBUG:FFC:Reusing form from cache.\n"
       ]
      },
      {
       "output_type": "stream",
       "stream": "stderr",
       "text": [
        "DEBUG:FFC:Reusing form from cache.\n"
       ]
      },
      {
       "output_type": "stream",
       "stream": "stderr",
       "text": [
        "DEBUG:FFC:Reusing form from cache.\n"
       ]
      },
      {
       "output_type": "stream",
       "stream": "stderr",
       "text": [
        "DEBUG:FFC:Reusing form from cache.\n"
       ]
      },
      {
       "output_type": "stream",
       "stream": "stdout",
       "text": [
        " 4.0\n",
        "cCa_n  1.61987386586 conc  1.61987386586\n",
        "cCaSSL_n  107.440928206 conc  1.07440928206\n",
        "cCaCleft_n  1.03919792769 conc  1.03919792769\n",
        "CONSERVATION: 110.1\n",
        "###############  5.0\n",
        "cCa_n  1.38875190803 conc  1.38875190803\n",
        "cCaSSL_n  107.653382217 conc  1.07653382217\n",
        "cCaCleft_n  1.05786587493 conc  1.05786587493\n",
        "CONSERVATION: 110.1\n",
        "############### "
       ]
      },
      {
       "output_type": "stream",
       "stream": "stderr",
       "text": [
        "DEBUG:FFC:Reusing form from cache.\n"
       ]
      },
      {
       "output_type": "stream",
       "stream": "stderr",
       "text": [
        "DEBUG:FFC:Reusing form from cache.\n"
       ]
      },
      {
       "output_type": "stream",
       "stream": "stderr",
       "text": [
        "DEBUG:FFC:Reusing form from cache.\n"
       ]
      },
      {
       "output_type": "stream",
       "stream": "stderr",
       "text": [
        "DEBUG:FFC:Reusing form from cache.\n"
       ]
      },
      {
       "output_type": "stream",
       "stream": "stderr",
       "text": [
        "DEBUG:FFC:Reusing form from cache.\n"
       ]
      },
      {
       "output_type": "stream",
       "stream": "stderr",
       "text": [
        "DEBUG:FFC:Reusing form from cache.\n"
       ]
      },
      {
       "output_type": "stream",
       "stream": "stderr",
       "text": [
        "DEBUG:FFC:Reusing form from cache.\n"
       ]
      },
      {
       "output_type": "stream",
       "stream": "stderr",
       "text": [
        "DEBUG:FFC:Reusing form from cache.\n"
       ]
      },
      {
       "output_type": "stream",
       "stream": "stderr",
       "text": [
        "DEBUG:FFC:Reusing form from cache.\n"
       ]
      },
      {
       "output_type": "stream",
       "stream": "stderr",
       "text": [
        "DEBUG:FFC:Reusing form from cache.\n"
       ]
      },
      {
       "output_type": "stream",
       "stream": "stderr",
       "text": [
        "DEBUG:FFC:Reusing form from cache.\n"
       ]
      },
      {
       "output_type": "stream",
       "stream": "stderr",
       "text": [
        "DEBUG:FFC:Reusing form from cache.\n"
       ]
      },
      {
       "output_type": "stream",
       "stream": "stderr",
       "text": [
        "DEBUG:FFC:Reusing form from cache.\n"
       ]
      },
      {
       "output_type": "stream",
       "stream": "stderr",
       "text": [
        "DEBUG:FFC:Reusing form from cache.\n"
       ]
      },
      {
       "output_type": "stream",
       "stream": "stderr",
       "text": [
        "DEBUG:FFC:Reusing form from cache.\n"
       ]
      },
      {
       "output_type": "stream",
       "stream": "stderr",
       "text": [
        "DEBUG:FFC:Reusing form from cache.\n"
       ]
      },
      {
       "output_type": "stream",
       "stream": "stderr",
       "text": [
        "DEBUG:FFC:Reusing form from cache.\n"
       ]
      },
      {
       "output_type": "stream",
       "stream": "stderr",
       "text": [
        "DEBUG:FFC:Reusing form from cache.\n"
       ]
      },
      {
       "output_type": "stream",
       "stream": "stderr",
       "text": [
        "DEBUG:FFC:Reusing form from cache.\n"
       ]
      },
      {
       "output_type": "stream",
       "stream": "stderr",
       "text": [
        "DEBUG:FFC:Reusing form from cache.\n"
       ]
      },
      {
       "output_type": "stream",
       "stream": "stderr",
       "text": [
        "DEBUG:FFC:Reusing form from cache.\n"
       ]
      },
      {
       "output_type": "stream",
       "stream": "stderr",
       "text": [
        "DEBUG:FFC:Reusing form from cache.\n"
       ]
      },
      {
       "output_type": "stream",
       "stream": "stderr",
       "text": [
        "DEBUG:FFC:Reusing form from cache.\n"
       ]
      },
      {
       "output_type": "stream",
       "stream": "stderr",
       "text": [
        "DEBUG:FFC:Reusing form from cache.\n"
       ]
      },
      {
       "output_type": "stream",
       "stream": "stderr",
       "text": [
        "DEBUG:FFC:Reusing form from cache.\n"
       ]
      },
      {
       "output_type": "stream",
       "stream": "stderr",
       "text": [
        "DEBUG:FFC:Reusing form from cache.\n"
       ]
      },
      {
       "output_type": "stream",
       "stream": "stderr",
       "text": [
        "DEBUG:FFC:Reusing form from cache.\n"
       ]
      },
      {
       "output_type": "stream",
       "stream": "stderr",
       "text": [
        "DEBUG:FFC:Reusing form from cache.\n"
       ]
      },
      {
       "output_type": "stream",
       "stream": "stdout",
       "text": [
        " 6.0\n",
        "cCa_n  1.25646344784 conc  1.25646344784\n",
        "cCaSSL_n  107.77572499 conc  1.0777572499\n",
        "cCaCleft_n  1.06781156242 conc  1.06781156242\n",
        "CONSERVATION: 110.1\n",
        "###############  7.0\n",
        "cCa_n  1.18074627762 conc  1.18074627762\n",
        "cCaSSL_n  107.846117354 conc  1.07846117354\n",
        "cCaCleft_n  1.07313636798 conc  1.07313636798\n",
        "CONSERVATION: 110.1\n",
        "############### "
       ]
      },
      {
       "output_type": "stream",
       "stream": "stderr",
       "text": [
        "DEBUG:FFC:Reusing form from cache.\n"
       ]
      },
      {
       "output_type": "stream",
       "stream": "stderr",
       "text": [
        "DEBUG:FFC:Reusing form from cache.\n"
       ]
      },
      {
       "output_type": "stream",
       "stream": "stderr",
       "text": [
        "DEBUG:FFC:Reusing form from cache.\n"
       ]
      },
      {
       "output_type": "stream",
       "stream": "stderr",
       "text": [
        "DEBUG:FFC:Reusing form from cache.\n"
       ]
      },
      {
       "output_type": "stream",
       "stream": "stderr",
       "text": [
        "DEBUG:FFC:Reusing form from cache.\n"
       ]
      },
      {
       "output_type": "stream",
       "stream": "stderr",
       "text": [
        "DEBUG:FFC:Reusing form from cache.\n"
       ]
      },
      {
       "output_type": "stream",
       "stream": "stderr",
       "text": [
        "DEBUG:FFC:Reusing form from cache.\n"
       ]
      },
      {
       "output_type": "stream",
       "stream": "stderr",
       "text": [
        "DEBUG:FFC:Reusing form from cache.\n"
       ]
      },
      {
       "output_type": "stream",
       "stream": "stderr",
       "text": [
        "DEBUG:FFC:Reusing form from cache.\n"
       ]
      },
      {
       "output_type": "stream",
       "stream": "stderr",
       "text": [
        "DEBUG:FFC:Reusing form from cache.\n"
       ]
      },
      {
       "output_type": "stream",
       "stream": "stderr",
       "text": [
        "DEBUG:FFC:Reusing form from cache.\n"
       ]
      },
      {
       "output_type": "stream",
       "stream": "stderr",
       "text": [
        "DEBUG:FFC:Reusing form from cache.\n"
       ]
      },
      {
       "output_type": "stream",
       "stream": "stderr",
       "text": [
        "DEBUG:FFC:Reusing form from cache.\n"
       ]
      },
      {
       "output_type": "stream",
       "stream": "stderr",
       "text": [
        "DEBUG:FFC:Reusing form from cache.\n"
       ]
      },
      {
       "output_type": "stream",
       "stream": "stderr",
       "text": [
        "DEBUG:FFC:Reusing form from cache.\n"
       ]
      },
      {
       "output_type": "stream",
       "stream": "stderr",
       "text": [
        "DEBUG:FFC:Reusing form from cache.\n"
       ]
      },
      {
       "output_type": "stream",
       "stream": "stderr",
       "text": [
        "DEBUG:FFC:Reusing form from cache.\n"
       ]
      },
      {
       "output_type": "stream",
       "stream": "stderr",
       "text": [
        "DEBUG:FFC:Reusing form from cache.\n"
       ]
      },
      {
       "output_type": "stream",
       "stream": "stderr",
       "text": [
        "DEBUG:FFC:Reusing form from cache.\n"
       ]
      },
      {
       "output_type": "stream",
       "stream": "stderr",
       "text": [
        "DEBUG:FFC:Reusing form from cache.\n"
       ]
      },
      {
       "output_type": "stream",
       "stream": "stderr",
       "text": [
        "DEBUG:FFC:Reusing form from cache.\n"
       ]
      },
      {
       "output_type": "stream",
       "stream": "stderr",
       "text": [
        "DEBUG:FFC:Reusing form from cache.\n"
       ]
      },
      {
       "output_type": "stream",
       "stream": "stderr",
       "text": [
        "DEBUG:FFC:Reusing form from cache.\n"
       ]
      },
      {
       "output_type": "stream",
       "stream": "stdout",
       "text": [
        " 8.0\n",
        "cCa_n  1.13740923906 conc  1.13740923906\n",
        "cCaSSL_n  107.886589629 conc  1.07886589629\n",
        "cCaCleft_n  1.07600113213 conc  1.07600113213\n",
        "CONSERVATION: 110.1\n",
        "###############  9.0\n",
        "cCa_n  1.11260548159 conc  1.11260548159\n",
        "cCaSSL_n  107.909844729 conc  1.07909844729\n",
        "cCaCleft_n  1.07754978971 conc  1.07754978971\n",
        "CONSERVATION: 110.1\n",
        "[ 1.]"
       ]
      },
      {
       "output_type": "stream",
       "stream": "stderr",
       "text": [
        "DEBUG:FFC:Reusing form from cache.\n"
       ]
      },
      {
       "output_type": "stream",
       "stream": "stderr",
       "text": [
        "DEBUG:FFC:Reusing form from cache.\n"
       ]
      },
      {
       "output_type": "stream",
       "stream": "stderr",
       "text": [
        "DEBUG:FFC:Reusing form from cache.\n"
       ]
      },
      {
       "output_type": "stream",
       "stream": "stderr",
       "text": [
        "DEBUG:FFC:Reusing form from cache.\n"
       ]
      },
      {
       "output_type": "stream",
       "stream": "stderr",
       "text": [
        "DEBUG:FFC:Reusing form from cache.\n"
       ]
      },
      {
       "output_type": "stream",
       "stream": "stderr",
       "text": [
        "DEBUG:FFC:Reusing form from cache.\n"
       ]
      },
      {
       "output_type": "stream",
       "stream": "stderr",
       "text": [
        "DEBUG:FFC:Reusing form from cache.\n"
       ]
      },
      {
       "output_type": "stream",
       "stream": "stderr",
       "text": [
        "DEBUG:FFC:Reusing form from cache.\n"
       ]
      },
      {
       "output_type": "stream",
       "stream": "stderr",
       "text": [
        "DEBUG:FFC:Reusing form from cache.\n"
       ]
      },
      {
       "output_type": "stream",
       "stream": "stderr",
       "text": [
        "DEBUG:FFC:Reusing form from cache.\n"
       ]
      },
      {
       "output_type": "stream",
       "stream": "stderr",
       "text": [
        "DEBUG:FFC:Reusing form from cache.\n"
       ]
      },
      {
       "output_type": "stream",
       "stream": "stderr",
       "text": [
        "DEBUG:FFC:Reusing form from cache.\n"
       ]
      },
      {
       "output_type": "stream",
       "stream": "stderr",
       "text": [
        "DEBUG:FFC:Reusing form from cache.\n"
       ]
      },
      {
       "output_type": "stream",
       "stream": "stderr",
       "text": [
        "DEBUG:FFC:Reusing form from cache.\n"
       ]
      },
      {
       "output_type": "stream",
       "stream": "stderr",
       "text": [
        "DEBUG:FFC:Reusing form from cache.\n"
       ]
      },
      {
       "output_type": "stream",
       "stream": "stderr",
       "text": [
        "DEBUG:FFC:Reusing form from cache.\n"
       ]
      },
      {
       "output_type": "stream",
       "stream": "stderr",
       "text": [
        "DEBUG:FFC:Reusing form from cache.\n"
       ]
      },
      {
       "output_type": "stream",
       "stream": "stderr",
       "text": [
        "DEBUG:FFC:Reusing form from cache.\n"
       ]
      },
      {
       "output_type": "stream",
       "stream": "stderr",
       "text": [
        "DEBUG:FFC:Reusing form from cache.\n"
       ]
      },
      {
       "output_type": "stream",
       "stream": "stderr",
       "text": [
        "DEBUG:FFC:Reusing form from cache.\n"
       ]
      },
      {
       "output_type": "stream",
       "stream": "stderr",
       "text": [
        "DEBUG:FFC:Reusing form from cache.\n"
       ]
      },
      {
       "output_type": "stream",
       "stream": "stderr",
       "text": [
        "DEBUG:FFC:Reusing form from cache.\n"
       ]
      },
      {
       "output_type": "stream",
       "stream": "stderr",
       "text": [
        "DEBUG:FFC:Reusing form from cache.\n"
       ]
      },
      {
       "output_type": "stream",
       "stream": "stderr",
       "text": [
        "DEBUG:FFC:Reusing form from cache.\n"
       ]
      },
      {
       "output_type": "stream",
       "stream": "stderr",
       "text": [
        "DEBUG:FFC:Reusing form from cache.\n"
       ]
      },
      {
       "output_type": "stream",
       "stream": "stderr",
       "text": [
        "DEBUG:FFC:Reusing form from cache.\n"
       ]
      },
      {
       "output_type": "stream",
       "stream": "stderr",
       "text": [
        "DEBUG:FFC:Reusing form from cache.\n"
       ]
      },
      {
       "output_type": "stream",
       "stream": "stderr",
       "text": [
        "DEBUG:FFC:Reusing form from cache.\n"
       ]
      },
      {
       "output_type": "stream",
       "stream": "stderr",
       "text": [
        "DEBUG:FFC:Reusing form from cache.\n"
       ]
      },
      {
       "output_type": "stream",
       "stream": "stderr",
       "text": [
        "DEBUG:FFC:Reusing form from cache.\n"
       ]
      },
      {
       "output_type": "stream",
       "stream": "stderr",
       "text": [
        "DEBUG:FFC:Reusing form from cache.\n"
       ]
      },
      {
       "output_type": "stream",
       "stream": "stderr",
       "text": [
        "DEBUG:FFC:Reusing form from cache.\n"
       ]
      },
      {
       "output_type": "stream",
       "stream": "stderr",
       "text": [
        "DEBUG:FFC:Reusing form from cache.\n"
       ]
      },
      {
       "output_type": "stream",
       "stream": "stderr",
       "text": [
        "DEBUG:FFC:Reusing form from cache.\n"
       ]
      },
      {
       "output_type": "stream",
       "stream": "stderr",
       "text": [
        "DEBUG:FFC:Reusing form from cache.\n"
       ]
      },
      {
       "output_type": "stream",
       "stream": "stderr",
       "text": [
        "DEBUG:FFC:Reusing form from cache.\n"
       ]
      },
      {
       "output_type": "stream",
       "stream": "stderr",
       "text": [
        "DEBUG:FFC:Reusing form from cache.\n"
       ]
      },
      {
       "output_type": "stream",
       "stream": "stdout",
       "text": [
        " [ 100.] [ 1.]\n",
        "Assemble 0/6.123196\n",
        "Assemble 1/3.962104\n",
        "Assemble 2/2.729129\n",
        "Assemble 3/2.023662\n",
        "Assemble 4/1.619874\n",
        "Assemble 5/1.388752\n",
        "Assemble 6/1.256463\n",
        "Assemble 7/1.180746\n",
        "Assemble 8/1.137409\n",
        "Assemble 9/1.112605"
       ]
      },
      {
       "output_type": "stream",
       "stream": "stderr",
       "text": [
        "DEBUG:FFC:Reusing form from cache.\n"
       ]
      },
      {
       "output_type": "stream",
       "stream": "stderr",
       "text": [
        "DEBUG:FFC:Reusing form from cache.\n"
       ]
      },
      {
       "output_type": "stream",
       "stream": "stderr",
       "text": [
        "DEBUG:FFC:Reusing form from cache.\n"
       ]
      },
      {
       "output_type": "stream",
       "stream": "stderr",
       "text": [
        "DEBUG:FFC:Reusing form from cache.\n"
       ]
      },
      {
       "output_type": "stream",
       "stream": "stderr",
       "text": [
        "DEBUG:FFC:Reusing form from cache.\n"
       ]
      },
      {
       "output_type": "stream",
       "stream": "stderr",
       "text": [
        "DEBUG:FFC:Reusing form from cache.\n"
       ]
      },
      {
       "output_type": "stream",
       "stream": "stderr",
       "text": [
        "DEBUG:FFC:Reusing form from cache.\n"
       ]
      },
      {
       "output_type": "stream",
       "stream": "stderr",
       "text": [
        "DEBUG:FFC:Reusing form from cache.\n"
       ]
      },
      {
       "output_type": "stream",
       "stream": "stderr",
       "text": [
        "DEBUG:FFC:Reusing form from cache.\n"
       ]
      },
      {
       "output_type": "stream",
       "stream": "stderr",
       "text": [
        "DEBUG:FFC:Reusing form from cache.\n"
       ]
      },
      {
       "output_type": "stream",
       "stream": "stderr",
       "text": [
        "DEBUG:FFC:Reusing form from cache.\n"
       ]
      },
      {
       "output_type": "stream",
       "stream": "stderr",
       "text": [
        "DEBUG:FFC:Reusing form from cache.\n"
       ]
      },
      {
       "output_type": "stream",
       "stream": "stderr",
       "text": [
        "DEBUG:FFC:Reusing form from cache.\n"
       ]
      },
      {
       "output_type": "stream",
       "stream": "stderr",
       "text": [
        "DEBUG:FFC:Reusing form from cache.\n"
       ]
      },
      {
       "output_type": "stream",
       "stream": "stderr",
       "text": [
        "DEBUG:FFC:Reusing form from cache.\n"
       ]
      },
      {
       "output_type": "stream",
       "stream": "stderr",
       "text": [
        "DEBUG:FFC:Reusing form from cache.\n"
       ]
      },
      {
       "output_type": "stream",
       "stream": "stderr",
       "text": [
        "DEBUG:FFC:Reusing form from cache.\n"
       ]
      },
      {
       "output_type": "stream",
       "stream": "stdout",
       "text": [
        "\n",
        "WARNING: will need to updated these\n",
        "PUT INTO BASE CLASS\n",
        "###############  0\n",
        "cCa_n  10.0 conc  10.0\n",
        "cCaSSL_n  100.0 conc  1.0\n",
        "cCaCleft_n  0.1 conc  0.1\n",
        "CONSERVATION: 110.1\n",
        "Calling FFC just-in-time (JIT) compiler, this may take some time.\n"
       ]
      },
      {
       "output_type": "stream",
       "stream": "stderr",
       "text": [
        "Level 25:FFC:Calling FFC just-in-time (JIT) compiler, this may take some time.\n"
       ]
      },
      {
       "output_type": "stream",
       "stream": "stderr",
       "text": [
        "INFO:FFC:Compiling form ffc_form_fd6b7e1635c4c3acc2f122fe266c497cd471deaa\n",
        "\n"
       ]
      },
      {
       "output_type": "stream",
       "stream": "stderr",
       "text": [
        "INFO:FFC:Compiler stage 1: Analyzing form(s)\n"
       ]
      },
      {
       "output_type": "stream",
       "stream": "stderr",
       "text": [
        "INFO:FFC:-----------------------------------\n"
       ]
      },
      {
       "output_type": "stream",
       "stream": "stderr",
       "text": [
        "INFO:UFL:Adjusting missing element domain to <Domain built from <triangle cell in 2D> with label dolfin_mesh_with_id_4834>.\n"
       ]
      },
      {
       "output_type": "stream",
       "stream": "stderr",
       "text": [
        "INFO:UFL:Adjusting missing element domain to <Domain built from <triangle cell in 2D> with label dolfin_mesh_with_id_4834>.\n"
       ]
      },
      {
       "output_type": "stream",
       "stream": "stderr",
       "text": [
        "INFO:FFC:  \n"
       ]
      },
      {
       "output_type": "stream",
       "stream": "stderr",
       "text": [
        "INFO:FFC:  Geometric dimension:                 2\n",
        "  Number of cell subdomains:           0\n",
        "  Number of exterior_facet subdomains: 11\n",
        "  Rank:                                1\n",
        "  Arguments:                           '(v_0)'\n",
        "  Number of coefficients:              4\n",
        "  Coefficients:                        '[f_387, f_4849, f_4851, f_4853]'\n",
        "  Unique elements:                     'Mixed<CG1(?), R0(?), R0(?)>, R0(?)'\n",
        "  Unique sub elements:                 'Mixed<CG1(?), R0(?), R0(?)>, R0(?), CG1(?)'\n",
        "  \n"
       ]
      },
      {
       "output_type": "stream",
       "stream": "stderr",
       "text": [
        "INFO:FFC:  Extracting monomial form representation from UFL form\n"
       ]
      },
      {
       "output_type": "stream",
       "stream": "stderr",
       "text": [
        "DEBUG:FFC:  Monomial extraction failed: No handler defined for expression Division.\n"
       ]
      },
      {
       "output_type": "stream",
       "stream": "stderr",
       "text": [
        "DEBUG:FFC:  Estimated cost of tensor representation: -1\n"
       ]
      },
      {
       "output_type": "stream",
       "stream": "stderr",
       "text": [
        "INFO:FFC:  representation:    auto --> quadrature\n"
       ]
      },
      {
       "output_type": "stream",
       "stream": "stderr",
       "text": [
        "DEBUG:FFC:  Selecting quadrature degree based on total polynomial degree of integrand: 2\n"
       ]
      },
      {
       "output_type": "stream",
       "stream": "stderr",
       "text": [
        "INFO:FFC:  quadrature_degree: auto --> 2\n"
       ]
      },
      {
       "output_type": "stream",
       "stream": "stderr",
       "text": [
        "INFO:FFC:  quadrature_rule:   auto --> default\n"
       ]
      },
      {
       "output_type": "stream",
       "stream": "stderr",
       "text": [
        "INFO:FFC:  Extracting monomial form representation from UFL form\n"
       ]
      },
      {
       "output_type": "stream",
       "stream": "stderr",
       "text": [
        "DEBUG:FFC:  Monomial extraction failed: No handler defined for expression Division.\n"
       ]
      },
      {
       "output_type": "stream",
       "stream": "stderr",
       "text": [
        "DEBUG:FFC:  Estimated cost of tensor representation: -1\n"
       ]
      },
      {
       "output_type": "stream",
       "stream": "stderr",
       "text": [
        "INFO:FFC:  representation:    auto --> quadrature\n"
       ]
      },
      {
       "output_type": "stream",
       "stream": "stderr",
       "text": [
        "DEBUG:FFC:  Selecting quadrature degree based on total polynomial degree of integrand: 2\n"
       ]
      },
      {
       "output_type": "stream",
       "stream": "stderr",
       "text": [
        "INFO:FFC:  quadrature_degree: auto --> 2\n"
       ]
      },
      {
       "output_type": "stream",
       "stream": "stderr",
       "text": [
        "INFO:FFC:  quadrature_rule:   auto --> default\n"
       ]
      },
      {
       "output_type": "stream",
       "stream": "stderr",
       "text": [
        "INFO:FFC:  \n"
       ]
      },
      {
       "output_type": "stream",
       "stream": "stderr",
       "text": [
        "INFO:FFC:Compiler stage 1 finished in 0.0438778 seconds.\n",
        "\n"
       ]
      },
      {
       "output_type": "stream",
       "stream": "stderr",
       "text": [
        "INFO:FFC:Compiler stage 2: Computing intermediate representation\n"
       ]
      },
      {
       "output_type": "stream",
       "stream": "stderr",
       "text": [
        "INFO:FFC:-------------------------------------------------------\n"
       ]
      },
      {
       "output_type": "stream",
       "stream": "stderr",
       "text": [
        "INFO:FFC:  Computing representation of 3 elements\n"
       ]
      },
      {
       "output_type": "stream",
       "stream": "stderr",
       "text": [
        "DEBUG:FFC:  Reusing element from cache\n"
       ]
      },
      {
       "output_type": "stream",
       "stream": "stderr",
       "text": [
        "DEBUG:FFC:  Reusing element from cache\n"
       ]
      },
      {
       "output_type": "stream",
       "stream": "stderr",
       "text": [
        "DEBUG:FFC:  Reusing element from cache\n"
       ]
      },
      {
       "output_type": "stream",
       "stream": "stderr",
       "text": [
        "DEBUG:FFC:  Reusing element from cache\n"
       ]
      },
      {
       "output_type": "stream",
       "stream": "stderr",
       "text": [
        "DEBUG:FFC:  Reusing element from cache\n"
       ]
      },
      {
       "output_type": "stream",
       "stream": "stderr",
       "text": [
        "DEBUG:FFC:  Reusing element from cache\n"
       ]
      },
      {
       "output_type": "stream",
       "stream": "stderr",
       "text": [
        "INFO:FFC:  Computing representation of 3 dofmaps\n"
       ]
      },
      {
       "output_type": "stream",
       "stream": "stderr",
       "text": [
        "DEBUG:FFC:  Reusing element from cache\n"
       ]
      },
      {
       "output_type": "stream",
       "stream": "stderr",
       "text": [
        "DEBUG:FFC:  Reusing element from cache\n"
       ]
      },
      {
       "output_type": "stream",
       "stream": "stderr",
       "text": [
        "DEBUG:FFC:  Reusing element from cache\n"
       ]
      },
      {
       "output_type": "stream",
       "stream": "stderr",
       "text": [
        "INFO:FFC:  Computing representation of integrals\n"
       ]
      },
      {
       "output_type": "stream",
       "stream": "stderr",
       "text": [
        "INFO:FFC:  Computing quadrature representation\n"
       ]
      },
      {
       "output_type": "stream",
       "stream": "stderr",
       "text": [
        "DEBUG:FFC:  Reusing element from cache\n"
       ]
      },
      {
       "output_type": "stream",
       "stream": "stderr",
       "text": [
        "DEBUG:FFC:  Reusing element from cache\n"
       ]
      },
      {
       "output_type": "stream",
       "stream": "stderr",
       "text": [
        "DEBUG:FFC:  Reusing element from cache\n"
       ]
      },
      {
       "output_type": "stream",
       "stream": "stderr",
       "text": [
        "DEBUG:FFC:  Reusing element from cache\n"
       ]
      },
      {
       "output_type": "stream",
       "stream": "stderr",
       "text": [
        "DEBUG:FFC:  Reusing element from cache\n"
       ]
      },
      {
       "output_type": "stream",
       "stream": "stderr",
       "text": [
        "DEBUG:FFC:  Reusing element from cache\n"
       ]
      },
      {
       "output_type": "stream",
       "stream": "stderr",
       "text": [
        "DEBUG:FFC:  Reusing element from cache\n"
       ]
      },
      {
       "output_type": "stream",
       "stream": "stderr",
       "text": [
        "DEBUG:FFC:  \n",
        "  QG-utils, psi_tables:\n",
        "  {3: {FiniteElement('Real', Domain(Cell('triangle', 2), label='dolfin_mesh_with_id_4834', data='<data with id 4834>'), 0, quad_scheme=None): {None: {None: {(0, 0): array([[ 1.,  1.,  1.]])}}}, MixedElement(*[FiniteElement('Lagrange', Domain(Cell('triangle', 2), label='dolfin_mesh_with_id_4834', data='<data with id 4834>'), 1, quad_scheme=None), FiniteElement('Real', Domain(Cell('triangle', 2), label='dolfin_mesh_with_id_4834', data='<data with id 4834>'), 0, quad_scheme=None), FiniteElement('Real', Domain(Cell('triangle', 2), label='dolfin_mesh_with_id_4834', data='<data with id 4834>'), 0, quad_scheme=None)], **{'value_shape': (3,) }): {None: {None: {(0, 1): array([[[ -1.00000000e+00,  -1.00000000e+00,  -1.00000000e+00],\n",
        "          [  0.00000000e+00,   0.00000000e+00,   0.00000000e+00],\n",
        "          [  0.00000000e+00,   0.00000000e+00,   0.00000000e+00]],\n",
        "  \n",
        "         [[  8.88178420e-16,   8.88178420e-16,   8.88178420e-16],\n",
        "          [  0.00000000e+00,   0.00000000e+00,   0.00000000e+00],\n",
        "          [  0.00000000e+00,   0.00000000e+00,   0.00000000e+00]],\n",
        "  \n",
        "         [[  1.00000000e+00,   1.00000000e+00,   1.00000000e+00],\n",
        "          [  0.00000000e+00,   0.00000000e+00,   0.00000000e+00],\n",
        "          [  0.00000000e+00,   0.00000000e+00,   0.00000000e+00]],\n",
        "  \n",
        "         [[  0.00000000e+00,   0.00000000e+00,   0.00000000e+00],\n",
        "          [  0.00000000e+00,   0.00000000e+00,   0.00000000e+00],\n",
        "          [  0.00000000e+00,   0.00000000e+00,   0.00000000e+00]],\n",
        "  \n",
        "         [[  0.00000000e+00,   0.00000000e+00,   0.00000000e+00],\n",
        "          [  0.00000000e+00,   0.00000000e+00,   0.00000000e+00],\n",
        "          [  0.00000000e+00,   0.00000000e+00,   0.00000000e+00]]]), (1, 0): array([[[-1., -1., -1.],\n",
        "          [ 0.,  0.,  0.],\n",
        "          [ 0.,  0.,  0.]],\n",
        "  \n",
        "         [[ 1.,  1.,  1.],\n",
        "          [ 0.,  0.,  0.],\n",
        "          [ 0.,  0.,  0.]],\n",
        "  \n",
        "         [[ 0.,  0.,  0.],\n",
        "          [ 0.,  0.,  0.],\n",
        "          [ 0.,  0.,  0.]],\n",
        "  \n",
        "         [[ 0.,  0.,  0.],\n",
        "          [ 0.,  0.,  0.],\n",
        "          [ 0.,  0.,  0.]],\n",
        "  \n",
        "         [[ 0.,  0.,  0.],\n",
        "          [ 0.,  0.,  0.],\n",
        "          [ 0.,  0.,  0.]]]), (0, 0): array([[[ 0.66666667,  0.16666667,  0.16666667],\n",
        "          [ 0.        ,  0.        ,  0.        ],\n",
        "          [ 0.        ,  0.        ,  0.        ]],\n",
        "  \n",
        "         [[ 0.16666667,  0.16666667,  0.66666667],\n",
        "          [ 0.        ,  0.        ,  0.        ],\n",
        "          [ 0.        ,  0.        ,  0.        ]],\n",
        "  \n",
        "         [[ 0.16666667,  0.66666667,  0.16666667],\n",
        "          [ 0.        ,  0.        ,  0.        ],\n",
        "          [ 0.        ,  0.        ,  0.        ]],\n",
        "  \n",
        "         [[ 0.        ,  0.        ,  0.        ],\n",
        "          [ 1.        ,  1.        ,  1.        ],\n",
        "          [ 0.        ,  0.        ,  0.        ]],\n",
        "  \n",
        "         [[ 0.        ,  0.        ,  0.        ],\n",
        "          [ 0.        ,  0.        ,  0.        ],\n",
        "          [ 1.        ,  1.        ,  1.        ]]])}}}, VectorElement('Lagrange', Domain(Cell('triangle', 2), label='dolfin_mesh_with_id_4834', data='<data with id 4834>'), 1, dim=2, quad_scheme=None): {None: {None: {(0, 1): array([[[ -1.00000000e+00,  -1.00000000e+00,  -1.00000000e+00],\n",
        "          [  0.00000000e+00,   0.00000000e+00,   0.00000000e+00]],\n",
        "  \n",
        "         [[  8.88178420e-16,   8.88178420e-16,   8.88178420e-16],\n",
        "          [  0.00000000e+00,   0.00000000e+00,   0.00000000e+00]],\n",
        "  \n",
        "         [[  1.00000000e+00,   1.00000000e+00,   1.00000000e+00],\n",
        "          [  0.00000000e+00,   0.00000000e+00,   0.00000000e+00]],\n",
        "  \n",
        "         [[  0.00000000e+00,   0.00000000e+00,   0.00000000e+00],\n",
        "          [ -1.00000000e+00,  -1.00000000e+00,  -1.00000000e+00]],\n",
        "  \n",
        "         [[  0.00000000e+00,   0.00000000e+00,   0.00000000e+00],\n",
        "          [  8.88178420e-16,   8.88178420e-16,   8.88178420e-16]],\n",
        "  \n",
        "         [[  0.00000000e+00,   0.00000000e+00,   0.00000000e+00],\n",
        "          [  1.00000000e+00,   1.00000000e+00,   1.00000000e+00]]]), (1, 0): array([[[-1., -1., -1.],\n",
        "          [ 0.,  0.,  0.]],\n",
        "  \n",
        "         [[ 1.,  1.,  1.],\n",
        "          [ 0.,  0.,  0.]],\n",
        "  \n",
        "         [[ 0.,  0.,  0.],\n",
        "          [ 0.,  0.,  0.]],\n",
        "  \n",
        "         [[ 0.,  0.,  0.],\n",
        "          [-1., -1., -1.]],\n",
        "  \n",
        "         [[ 0.,  0.,  0.],\n",
        "          [ 1.,  1.,  1.]],\n",
        "  \n",
        "         [[ 0.,  0.,  0.],\n",
        "          [ 0.,  0.,  0.]]]), (0, 0): array([[[ 0.66666667,  0.16666667,  0.16666667],\n",
        "          [ 0.        ,  0.        ,  0.        ]],\n",
        "  \n",
        "         [[ 0.16666667,  0.16666667,  0.66666667],\n",
        "          [ 0.        ,  0.        ,  0.        ]],\n",
        "  \n",
        "         [[ 0.16666667,  0.66666667,  0.16666667],\n",
        "          [ 0.        ,  0.        ,  0.        ]],\n",
        "  \n",
        "         [[ 0.        ,  0.        ,  0.        ],\n",
        "          [ 0.66666667,  0.16666667,  0.16666667]],\n",
        "  \n",
        "         [[ 0.        ,  0.        ,  0.        ],\n",
        "          [ 0.16666667,  0.16666667,  0.66666667]],\n",
        "  \n",
        "         [[ 0.        ,  0.        ,  0.        ],\n",
        "          [ 0.16666667,  0.66666667,  0.16666667]]])}}}}}\n"
       ]
      },
      {
       "output_type": "stream",
       "stream": "stderr",
       "text": [
        "DEBUG:FFC:  \n",
        "  QG-utils, psi_tables, flat_tables:\n",
        "  {'FE0_C1_D01': array([[  0.00000000e+00,   0.00000000e+00,   0.00000000e+00,\n",
        "           -1.00000000e+00,   8.88178420e-16,   1.00000000e+00],\n",
        "         [  0.00000000e+00,   0.00000000e+00,   0.00000000e+00,\n",
        "           -1.00000000e+00,   8.88178420e-16,   1.00000000e+00],\n",
        "         [  0.00000000e+00,   0.00000000e+00,   0.00000000e+00,\n",
        "           -1.00000000e+00,   8.88178420e-16,   1.00000000e+00]]), 'FE1_C0': array([[ 0.66666667,  0.16666667,  0.16666667,  0.        ,  0.        ],\n",
        "         [ 0.16666667,  0.16666667,  0.66666667,  0.        ,  0.        ],\n",
        "         [ 0.16666667,  0.66666667,  0.16666667,  0.        ,  0.        ]]), 'FE1_C1': array([[ 0.,  0.,  0.,  1.,  0.],\n",
        "         [ 0.,  0.,  0.,  1.,  0.],\n",
        "         [ 0.,  0.,  0.,  1.,  0.]]), 'FE1_C2': array([[ 0.,  0.,  0.,  0.,  1.],\n",
        "         [ 0.,  0.,  0.,  0.,  1.],\n",
        "         [ 0.,  0.,  0.,  0.,  1.]]), 'FE0_C1_D10': array([[ 0.,  0.,  0., -1.,  1.,  0.],\n",
        "         [ 0.,  0.,  0., -1.,  1.,  0.],\n",
        "         [ 0.,  0.,  0., -1.,  1.,  0.]]), 'FE1_C1_D10': array([[ 0.,  0.,  0.,  0.,  0.],\n",
        "         [ 0.,  0.,  0.,  0.,  0.],\n",
        "         [ 0.,  0.,  0.,  0.,  0.]]), 'FE1_C2_D10': array([[ 0.,  0.,  0.,  0.,  0.],\n",
        "         [ 0.,  0.,  0.,  0.,  0.],\n",
        "         [ 0.,  0.,  0.,  0.,  0.]]), 'FE0_C0_D10': array([[-1.,  1.,  0.,  0.,  0.,  0.],\n",
        "         [-1.,  1.,  0.,  0.,  0.,  0.],\n",
        "         [-1.,  1.,  0.,  0.,  0.,  0.]]), 'FE0_C0_D01': array([[ -1.00000000e+00,   8.88178420e-16,   1.00000000e+00,\n",
        "            0.00000000e+00,   0.00000000e+00,   0.00000000e+00],\n",
        "         [ -1.00000000e+00,   8.88178420e-16,   1.00000000e+00,\n",
        "            0.00000000e+00,   0.00000000e+00,   0.00000000e+00],\n",
        "         [ -1.00000000e+00,   8.88178420e-16,   1.00000000e+00,\n",
        "            0.00000000e+00,   0.00000000e+00,   0.00000000e+00]]), 'FE2': array([[ 1.],\n",
        "         [ 1.],\n",
        "         [ 1.]]), 'FE1_C2_D01': array([[ 0.,  0.,  0.,  0.,  0.],\n",
        "         [ 0.,  0.,  0.,  0.,  0.],\n",
        "         [ 0.,  0.,  0.,  0.,  0.]]), 'FE1_C1_D01': array([[ 0.,  0.,  0.,  0.,  0.],\n",
        "         [ 0.,  0.,  0.,  0.,  0.],\n",
        "         [ 0.,  0.,  0.,  0.,  0.]]), 'FE1_C0_D01': array([[ -1.00000000e+00,   8.88178420e-16,   1.00000000e+00,\n",
        "            0.00000000e+00,   0.00000000e+00],\n",
        "         [ -1.00000000e+00,   8.88178420e-16,   1.00000000e+00,\n",
        "            0.00000000e+00,   0.00000000e+00],\n",
        "         [ -1.00000000e+00,   8.88178420e-16,   1.00000000e+00,\n",
        "            0.00000000e+00,   0.00000000e+00]]), 'FE1_C0_D10': array([[-1.,  1.,  0.,  0.,  0.],\n",
        "         [-1.,  1.,  0.,  0.,  0.],\n",
        "         [-1.,  1.,  0.,  0.,  0.]]), 'FE0_C1': array([[ 0.        ,  0.        ,  0.        ,  0.66666667,  0.16666667,\n",
        "           0.16666667],\n",
        "         [ 0.        ,  0.        ,  0.        ,  0.16666667,  0.16666667,\n",
        "           0.66666667],\n",
        "         [ 0.        ,  0.        ,  0.        ,  0.16666667,  0.66666667,\n",
        "           0.16666667]]), 'FE0_C0': array([[ 0.66666667,  0.16666667,  0.16666667,  0.        ,  0.        ,\n",
        "           0.        ],\n",
        "         [ 0.16666667,  0.16666667,  0.66666667,  0.        ,  0.        ,\n",
        "           0.        ],\n",
        "         [ 0.16666667,  0.66666667,  0.16666667,  0.        ,  0.        ,\n",
        "           0.        ]])}\n"
       ]
      },
      {
       "output_type": "stream",
       "stream": "stderr",
       "text": [
        "DEBUG:FFC:  \n",
        "  tables: {'FE0_C1_D01': array([[  0.00000000e+00,   0.00000000e+00,   0.00000000e+00,\n",
        "           -1.00000000e+00,   8.88178420e-16,   1.00000000e+00],\n",
        "         [  0.00000000e+00,   0.00000000e+00,   0.00000000e+00,\n",
        "           -1.00000000e+00,   8.88178420e-16,   1.00000000e+00],\n",
        "         [  0.00000000e+00,   0.00000000e+00,   0.00000000e+00,\n",
        "           -1.00000000e+00,   8.88178420e-16,   1.00000000e+00]]), 'FE1_C0': array([[ 0.66666667,  0.16666667,  0.16666667,  0.        ,  0.        ],\n",
        "         [ 0.16666667,  0.16666667,  0.66666667,  0.        ,  0.        ],\n",
        "         [ 0.16666667,  0.66666667,  0.16666667,  0.        ,  0.        ]]), 'FE1_C1': array([[ 0.,  0.,  0.,  1.,  0.],\n",
        "         [ 0.,  0.,  0.,  1.,  0.],\n",
        "         [ 0.,  0.,  0.,  1.,  0.]]), 'FE1_C2': array([[ 0.,  0.,  0.,  0.,  1.],\n",
        "         [ 0.,  0.,  0.,  0.,  1.],\n",
        "         [ 0.,  0.,  0.,  0.,  1.]]), 'FE0_C1_D10': array([[ 0.,  0.,  0., -1.,  1.,  0.],\n",
        "         [ 0.,  0.,  0., -1.,  1.,  0.],\n",
        "         [ 0.,  0.,  0., -1.,  1.,  0.]]), 'FE0_C0_D10': array([[-1.,  1.,  0.,  0.,  0.,  0.],\n",
        "         [-1.,  1.,  0.,  0.,  0.,  0.],\n",
        "         [-1.,  1.,  0.,  0.,  0.,  0.]]), 'FE0_C0_D01': array([[ -1.00000000e+00,   8.88178420e-16,   1.00000000e+00,\n",
        "            0.00000000e+00,   0.00000000e+00,   0.00000000e+00],\n",
        "         [ -1.00000000e+00,   8.88178420e-16,   1.00000000e+00,\n",
        "            0.00000000e+00,   0.00000000e+00,   0.00000000e+00],\n",
        "         [ -1.00000000e+00,   8.88178420e-16,   1.00000000e+00,\n",
        "            0.00000000e+00,   0.00000000e+00,   0.00000000e+00]]), 'FE2': array([[ 1.],\n",
        "         [ 1.],\n",
        "         [ 1.]]), 'FE1_C1_D01': array([[ 0.,  0.,  0.,  0.,  0.],\n",
        "         [ 0.,  0.,  0.,  0.,  0.],\n",
        "         [ 0.,  0.,  0.,  0.,  0.]]), 'FE1_C0_D01': array([[ -1.00000000e+00,   8.88178420e-16,   1.00000000e+00,\n",
        "            0.00000000e+00,   0.00000000e+00],\n",
        "         [ -1.00000000e+00,   8.88178420e-16,   1.00000000e+00,\n",
        "            0.00000000e+00,   0.00000000e+00],\n",
        "         [ -1.00000000e+00,   8.88178420e-16,   1.00000000e+00,\n",
        "            0.00000000e+00,   0.00000000e+00]]), 'FE1_C0_D10': array([[-1.,  1.,  0.,  0.,  0.],\n",
        "         [-1.,  1.,  0.,  0.,  0.],\n",
        "         [-1.,  1.,  0.,  0.,  0.]]), 'FE0_C1': array([[ 0.        ,  0.        ,  0.        ,  0.66666667,  0.16666667,\n",
        "           0.16666667],\n",
        "         [ 0.        ,  0.        ,  0.        ,  0.16666667,  0.16666667,\n",
        "           0.66666667],\n",
        "         [ 0.        ,  0.        ,  0.        ,  0.16666667,  0.66666667,\n",
        "           0.16666667]]), 'FE0_C0': array([[ 0.66666667,  0.16666667,  0.16666667,  0.        ,  0.        ,\n",
        "           0.        ],\n",
        "         [ 0.16666667,  0.16666667,  0.66666667,  0.        ,  0.        ,\n",
        "           0.        ],\n",
        "         [ 0.16666667,  0.66666667,  0.16666667,  0.        ,  0.        ,\n",
        "           0.        ]])}\n"
       ]
      },
      {
       "output_type": "stream",
       "stream": "stderr",
       "text": [
        "DEBUG:FFC:  \n",
        "  name_map: {'FE1_C1_D01': ['FE1_C1_D10', 'FE1_C2_D01', 'FE1_C2_D10']}\n"
       ]
      },
      {
       "output_type": "stream",
       "stream": "stderr",
       "text": [
        "DEBUG:FFC:  \n",
        "  inv_name_map: {'FE0_C1_D01': 'FE0_C1_D01', 'FE1_C0': 'FE1_C0', 'FE1_C1': 'FE1_C1', 'FE1_C2': 'FE1_C2', 'FE0_C1_D10': 'FE0_C1_D10', 'FE1_C1_D10': 'FE1_C1_D01', 'FE1_C2_D10': 'FE1_C1_D01', 'FE0_C0_D10': 'FE0_C0_D10', 'FE0_C0_D01': 'FE0_C0_D01', 'FE2': 'FE2', 'FE1_C2_D01': 'FE1_C1_D01', 'FE1_C1_D01': 'FE1_C1_D01', 'FE1_C0_D01': 'FE1_C0_D01', 'FE1_C0_D10': 'FE1_C0_D10', 'FE0_C1': 'FE0_C1', 'FE0_C0': 'FE0_C0'}\n"
       ]
      },
      {
       "output_type": "stream",
       "stream": "stderr",
       "text": [
        "DEBUG:FFC:  \n",
        "  QG-utils, psi_tables, unique_tables:\n",
        "  {'FE0_C1_D01': array([[ 0.,  0.,  0., -1.,  0.,  1.],\n",
        "         [ 0.,  0.,  0., -1.,  0.,  1.],\n",
        "         [ 0.,  0.,  0., -1.,  0.,  1.]]), 'FE1_C0': array([[ 0.66666667,  0.16666667,  0.16666667,  0.        ,  0.        ],\n",
        "         [ 0.16666667,  0.16666667,  0.66666667,  0.        ,  0.        ],\n",
        "         [ 0.16666667,  0.66666667,  0.16666667,  0.        ,  0.        ]]), 'FE1_C1': array([[ 0.,  0.,  0.,  1.,  0.],\n",
        "         [ 0.,  0.,  0.,  1.,  0.],\n",
        "         [ 0.,  0.,  0.,  1.,  0.]]), 'FE1_C2': array([[ 0.,  0.,  0.,  0.,  1.],\n",
        "         [ 0.,  0.,  0.,  0.,  1.],\n",
        "         [ 0.,  0.,  0.,  0.,  1.]]), 'FE0_C1_D10': array([[ 0.,  0.,  0., -1.,  1.,  0.],\n",
        "         [ 0.,  0.,  0., -1.,  1.,  0.],\n",
        "         [ 0.,  0.,  0., -1.,  1.,  0.]]), 'FE0_C0_D10': array([[-1.,  1.,  0.,  0.,  0.,  0.],\n",
        "         [-1.,  1.,  0.,  0.,  0.,  0.],\n",
        "         [-1.,  1.,  0.,  0.,  0.,  0.]]), 'FE0_C0_D01': array([[-1.,  0.,  1.,  0.,  0.,  0.],\n",
        "         [-1.,  0.,  1.,  0.,  0.,  0.],\n",
        "         [-1.,  0.,  1.,  0.,  0.,  0.]]), 'FE2': array([[ 1.],\n",
        "         [ 1.],\n",
        "         [ 1.]]), 'FE1_C1_D01': array([[ 0.,  0.,  0.,  0.,  0.],\n",
        "         [ 0.,  0.,  0.,  0.,  0.],\n",
        "         [ 0.,  0.,  0.,  0.,  0.]]), 'FE1_C0_D01': array([[-1.,  0.,  1.,  0.,  0.],\n",
        "         [-1.,  0.,  1.,  0.,  0.],\n",
        "         [-1.,  0.,  1.,  0.,  0.]]), 'FE1_C0_D10': array([[-1.,  1.,  0.,  0.,  0.],\n",
        "         [-1.,  1.,  0.,  0.,  0.],\n",
        "         [-1.,  1.,  0.,  0.,  0.]]), 'FE0_C1': array([[ 0.        ,  0.        ,  0.        ,  0.66666667,  0.16666667,\n",
        "           0.16666667],\n",
        "         [ 0.        ,  0.        ,  0.        ,  0.16666667,  0.16666667,\n",
        "           0.66666667],\n",
        "         [ 0.        ,  0.        ,  0.        ,  0.16666667,  0.66666667,\n",
        "           0.16666667]]), 'FE0_C0': array([[ 0.66666667,  0.16666667,  0.16666667,  0.        ,  0.        ,\n",
        "           0.        ],\n",
        "         [ 0.16666667,  0.16666667,  0.66666667,  0.        ,  0.        ,\n",
        "           0.        ],\n",
        "         [ 0.16666667,  0.66666667,  0.16666667,  0.        ,  0.        ,\n",
        "           0.        ]])}\n"
       ]
      },
      {
       "output_type": "stream",
       "stream": "stderr",
       "text": [
        "DEBUG:FFC:  \n",
        "  QG-utils, psi_tables, name_map:\n",
        "  {'FE0_C1_D01': ('FE0_C1_D01', (), False, False), 'FE1_C0': ('FE1_C0', (), False, False), 'FE1_C1': ('FE1_C1', (), False, False), 'FE1_C2': ('FE1_C2', (), False, False), 'FE0_C1_D10': ('FE0_C1_D10', (), False, False), 'FE1_C1_D10': ('FE1_C1_D01', (), True, False), 'FE1_C2_D10': ('FE1_C1_D01', (), True, False), 'FE0_C0_D10': ('FE0_C0_D10', (), False, False), 'FE0_C0_D01': ('FE0_C0_D01', (), False, False), 'FE2': ('FE2', (), False, True), 'FE1_C2_D01': ('FE1_C1_D01', (), True, False), 'FE1_C1_D01': ('FE1_C1_D01', (), True, False), 'FE1_C0_D01': ('FE1_C0_D01', (), False, False), 'FE1_C0_D10': ('FE1_C0_D10', (), False, False), 'FE0_C1': ('FE0_C1', (), False, False), 'FE0_C0': ('FE0_C0', (), False, False)}\n"
       ]
      },
      {
       "output_type": "stream",
       "stream": "stderr",
       "text": [
        "INFO:FFC:  Transforming cell integral\n"
       ]
      },
      {
       "output_type": "stream",
       "stream": "stderr",
       "text": [
        "DEBUG:FFC:  Reusing element from cache\n"
       ]
      },
      {
       "output_type": "stream",
       "stream": "stderr",
       "text": [
        "DEBUG:FFC:  Reusing element from cache\n"
       ]
      },
      {
       "output_type": "stream",
       "stream": "stderr",
       "text": [
        "DEBUG:FFC:  Reusing element from cache\n"
       ]
      },
      {
       "output_type": "stream",
       "stream": "stderr",
       "text": [
        "DEBUG:FFC:  Reusing element from cache\n"
       ]
      },
      {
       "output_type": "stream",
       "stream": "stderr",
       "text": [
        "DEBUG:FFC:  Reusing element from cache\n"
       ]
      },
      {
       "output_type": "stream",
       "stream": "stderr",
       "text": [
        "DEBUG:FFC:  Reusing element from cache\n"
       ]
      },
      {
       "output_type": "stream",
       "stream": "stderr",
       "text": [
        "DEBUG:FFC:  Reusing element from cache\n"
       ]
      },
      {
       "output_type": "stream",
       "stream": "stderr",
       "text": [
        "DEBUG:FFC:  Reusing element from cache\n"
       ]
      },
      {
       "output_type": "stream",
       "stream": "stderr",
       "text": [
        "DEBUG:FFC:  Reusing element from cache\n"
       ]
      },
      {
       "output_type": "stream",
       "stream": "stderr",
       "text": [
        "DEBUG:FFC:  Reusing element from cache\n"
       ]
      },
      {
       "output_type": "stream",
       "stream": "stderr",
       "text": [
        "DEBUG:FFC:  Reusing element from cache\n"
       ]
      },
      {
       "output_type": "stream",
       "stream": "stderr",
       "text": [
        "DEBUG:FFC:  Reusing element from cache\n"
       ]
      },
      {
       "output_type": "stream",
       "stream": "stderr",
       "text": [
        "DEBUG:FFC:  Reusing element from cache\n"
       ]
      },
      {
       "output_type": "stream",
       "stream": "stderr",
       "text": [
        "DEBUG:FFC:  Reusing element from cache\n"
       ]
      },
      {
       "output_type": "stream",
       "stream": "stderr",
       "text": [
        "DEBUG:FFC:  Reusing element from cache\n"
       ]
      },
      {
       "output_type": "stream",
       "stream": "stderr",
       "text": [
        "DEBUG:FFC:  Reusing element from cache\n"
       ]
      },
      {
       "output_type": "stream",
       "stream": "stderr",
       "text": [
        "DEBUG:FFC:  Reusing element from cache\n"
       ]
      },
      {
       "output_type": "stream",
       "stream": "stderr",
       "text": [
        "DEBUG:FFC:  Reusing element from cache\n"
       ]
      },
      {
       "output_type": "stream",
       "stream": "stderr",
       "text": [
        "DEBUG:FFC:  Reusing element from cache\n"
       ]
      },
      {
       "output_type": "stream",
       "stream": "stderr",
       "text": [
        "DEBUG:FFC:  Reusing element from cache\n"
       ]
      },
      {
       "output_type": "stream",
       "stream": "stderr",
       "text": [
        "DEBUG:FFC:  Reusing element from cache\n"
       ]
      },
      {
       "output_type": "stream",
       "stream": "stderr",
       "text": [
        "DEBUG:FFC:  Reusing element from cache\n"
       ]
      },
      {
       "output_type": "stream",
       "stream": "stderr",
       "text": [
        "DEBUG:FFC:  Reusing element from cache\n"
       ]
      },
      {
       "output_type": "stream",
       "stream": "stderr",
       "text": [
        "DEBUG:FFC:  Reusing element from cache\n"
       ]
      },
      {
       "output_type": "stream",
       "stream": "stderr",
       "text": [
        "DEBUG:FFC:  Reusing element from cache\n"
       ]
      },
      {
       "output_type": "stream",
       "stream": "stderr",
       "text": [
        "DEBUG:FFC:  Reusing element from cache\n"
       ]
      },
      {
       "output_type": "stream",
       "stream": "stderr",
       "text": [
        "DEBUG:FFC:  Reusing element from cache\n"
       ]
      },
      {
       "output_type": "stream",
       "stream": "stderr",
       "text": [
        "DEBUG:FFC:  Reusing element from cache\n"
       ]
      },
      {
       "output_type": "stream",
       "stream": "stderr",
       "text": [
        "DEBUG:FFC:  Reusing element from cache\n"
       ]
      },
      {
       "output_type": "stream",
       "stream": "stderr",
       "text": [
        "DEBUG:FFC:  Reusing element from cache\n"
       ]
      },
      {
       "output_type": "stream",
       "stream": "stderr",
       "text": [
        "DEBUG:FFC:  Reusing element from cache\n"
       ]
      },
      {
       "output_type": "stream",
       "stream": "stderr",
       "text": [
        "DEBUG:FFC:  Reusing element from cache\n"
       ]
      },
      {
       "output_type": "stream",
       "stream": "stderr",
       "text": [
        "DEBUG:FFC:  Reusing element from cache\n"
       ]
      },
      {
       "output_type": "stream",
       "stream": "stderr",
       "text": [
        "INFO:FFC:  Computing quadrature representation\n"
       ]
      },
      {
       "output_type": "stream",
       "stream": "stderr",
       "text": [
        "DEBUG:FFC:  Reusing element from cache\n"
       ]
      },
      {
       "output_type": "stream",
       "stream": "stderr",
       "text": [
        "DEBUG:FFC:  Reusing element from cache\n"
       ]
      },
      {
       "output_type": "stream",
       "stream": "stderr",
       "text": [
        "DEBUG:FFC:  Reusing element from cache\n"
       ]
      },
      {
       "output_type": "stream",
       "stream": "stderr",
       "text": [
        "DEBUG:FFC:  Reusing element from cache\n"
       ]
      },
      {
       "output_type": "stream",
       "stream": "stderr",
       "text": [
        "DEBUG:FFC:  Reusing element from cache\n"
       ]
      },
      {
       "output_type": "stream",
       "stream": "stderr",
       "text": [
        "DEBUG:FFC:  Reusing element from cache\n"
       ]
      },
      {
       "output_type": "stream",
       "stream": "stderr",
       "text": [
        "DEBUG:FFC:  \n",
        "  QG-utils, psi_tables:\n",
        "  {2: {FiniteElement('Real', Domain(Cell('triangle', 2), label='dolfin_mesh_with_id_4834', data='<data with id 4834>'), 0, quad_scheme=None): {None: {0: {(0, 0): array([[ 1.,  1.]])}, 1: {(0, 0): array([[ 1.,  1.]])}, 2: {(0, 0): array([[ 1.,  1.]])}}}, MixedElement(*[FiniteElement('Lagrange', Domain(Cell('triangle', 2), label='dolfin_mesh_with_id_4834', data='<data with id 4834>'), 1, quad_scheme=None), FiniteElement('Real', Domain(Cell('triangle', 2), label='dolfin_mesh_with_id_4834', data='<data with id 4834>'), 0, quad_scheme=None), FiniteElement('Real', Domain(Cell('triangle', 2), label='dolfin_mesh_with_id_4834', data='<data with id 4834>'), 0, quad_scheme=None)], **{'value_shape': (3,) }): {None: {0: {(0, 0): array([[[ -2.08166817e-17,   5.55111512e-17],\n",
        "          [  0.00000000e+00,   0.00000000e+00],\n",
        "          [  0.00000000e+00,   0.00000000e+00]],\n",
        "  \n",
        "         [[  7.88675135e-01,   2.11324865e-01],\n",
        "          [  0.00000000e+00,   0.00000000e+00],\n",
        "          [  0.00000000e+00,   0.00000000e+00]],\n",
        "  \n",
        "         [[  2.11324865e-01,   7.88675135e-01],\n",
        "          [  0.00000000e+00,   0.00000000e+00],\n",
        "          [  0.00000000e+00,   0.00000000e+00]],\n",
        "  \n",
        "         [[  0.00000000e+00,   0.00000000e+00],\n",
        "          [  1.00000000e+00,   1.00000000e+00],\n",
        "          [  0.00000000e+00,   0.00000000e+00]],\n",
        "  \n",
        "         [[  0.00000000e+00,   0.00000000e+00],\n",
        "          [  0.00000000e+00,   0.00000000e+00],\n",
        "          [  1.00000000e+00,   1.00000000e+00]]])}, 1: {(0, 0): array([[[  7.88675135e-01,   2.11324865e-01],\n",
        "          [  0.00000000e+00,   0.00000000e+00],\n",
        "          [  0.00000000e+00,   0.00000000e+00]],\n",
        "  \n",
        "         [[ -2.08166817e-17,   5.55111512e-17],\n",
        "          [  0.00000000e+00,   0.00000000e+00],\n",
        "          [  0.00000000e+00,   0.00000000e+00]],\n",
        "  \n",
        "         [[  2.11324865e-01,   7.88675135e-01],\n",
        "          [  0.00000000e+00,   0.00000000e+00],\n",
        "          [  0.00000000e+00,   0.00000000e+00]],\n",
        "  \n",
        "         [[  0.00000000e+00,   0.00000000e+00],\n",
        "          [  1.00000000e+00,   1.00000000e+00],\n",
        "          [  0.00000000e+00,   0.00000000e+00]],\n",
        "  \n",
        "         [[  0.00000000e+00,   0.00000000e+00],\n",
        "          [  0.00000000e+00,   0.00000000e+00],\n",
        "          [  1.00000000e+00,   1.00000000e+00]]])}, 2: {(0, 0): array([[[ 0.78867513,  0.21132487],\n",
        "          [ 0.        ,  0.        ],\n",
        "          [ 0.        ,  0.        ]],\n",
        "  \n",
        "         [[ 0.21132487,  0.78867513],\n",
        "          [ 0.        ,  0.        ],\n",
        "          [ 0.        ,  0.        ]],\n",
        "  \n",
        "         [[ 0.        ,  0.        ],\n",
        "          [ 0.        ,  0.        ],\n",
        "          [ 0.        ,  0.        ]],\n",
        "  \n",
        "         [[ 0.        ,  0.        ],\n",
        "          [ 1.        ,  1.        ],\n",
        "          [ 0.        ,  0.        ]],\n",
        "  \n",
        "         [[ 0.        ,  0.        ],\n",
        "          [ 0.        ,  0.        ],\n",
        "          [ 1.        ,  1.        ]]])}}}, VectorElement('Lagrange', Domain(Cell('triangle', 2), label='dolfin_mesh_with_id_4834', data='<data with id 4834>'), 1, dim=2, quad_scheme=None): {None: {0: {(0, 1): array([[[ -1.00000000e+00,  -1.00000000e+00],\n",
        "          [  0.00000000e+00,   0.00000000e+00]],\n",
        "  \n",
        "         [[  8.88178420e-16,   8.88178420e-16],\n",
        "          [  0.00000000e+00,   0.00000000e+00]],\n",
        "  \n",
        "         [[  1.00000000e+00,   1.00000000e+00],\n",
        "          [  0.00000000e+00,   0.00000000e+00]],\n",
        "  \n",
        "         [[  0.00000000e+00,   0.00000000e+00],\n",
        "          [ -1.00000000e+00,  -1.00000000e+00]],\n",
        "  \n",
        "         [[  0.00000000e+00,   0.00000000e+00],\n",
        "          [  8.88178420e-16,   8.88178420e-16]],\n",
        "  \n",
        "         [[  0.00000000e+00,   0.00000000e+00],\n",
        "          [  1.00000000e+00,   1.00000000e+00]]]), (1, 0): array([[[-1., -1.],\n",
        "          [ 0.,  0.]],\n",
        "  \n",
        "         [[ 1.,  1.],\n",
        "          [ 0.,  0.]],\n",
        "  \n",
        "         [[ 0.,  0.],\n",
        "          [ 0.,  0.]],\n",
        "  \n",
        "         [[ 0.,  0.],\n",
        "          [-1., -1.]],\n",
        "  \n",
        "         [[ 0.,  0.],\n",
        "          [ 1.,  1.]],\n",
        "  \n",
        "         [[ 0.,  0.],\n",
        "          [ 0.,  0.]]]), (0, 0): array([[[ -2.08166817e-17,   5.55111512e-17],\n",
        "          [  0.00000000e+00,   0.00000000e+00]],\n",
        "  \n",
        "         [[  7.88675135e-01,   2.11324865e-01],\n",
        "          [  0.00000000e+00,   0.00000000e+00]],\n",
        "  \n",
        "         [[  2.11324865e-01,   7.88675135e-01],\n",
        "          [  0.00000000e+00,   0.00000000e+00]],\n",
        "  \n",
        "         [[  0.00000000e+00,   0.00000000e+00],\n",
        "          [ -2.08166817e-17,   5.55111512e-17]],\n",
        "  \n",
        "         [[  0.00000000e+00,   0.00000000e+00],\n",
        "          [  7.88675135e-01,   2.11324865e-01]],\n",
        "  \n",
        "         [[  0.00000000e+00,   0.00000000e+00],\n",
        "          [  2.11324865e-01,   7.88675135e-01]]])}, 1: {(0, 1): array([[[ -1.00000000e+00,  -1.00000000e+00],\n",
        "          [  0.00000000e+00,   0.00000000e+00]],\n",
        "  \n",
        "         [[  8.88178420e-16,   8.88178420e-16],\n",
        "          [  0.00000000e+00,   0.00000000e+00]],\n",
        "  \n",
        "         [[  1.00000000e+00,   1.00000000e+00],\n",
        "          [  0.00000000e+00,   0.00000000e+00]],\n",
        "  \n",
        "         [[  0.00000000e+00,   0.00000000e+00],\n",
        "          [ -1.00000000e+00,  -1.00000000e+00]],\n",
        "  \n",
        "         [[  0.00000000e+00,   0.00000000e+00],\n",
        "          [  8.88178420e-16,   8.88178420e-16]],\n",
        "  \n",
        "         [[  0.00000000e+00,   0.00000000e+00],\n",
        "          [  1.00000000e+00,   1.00000000e+00]]]), (1, 0): array([[[-1., -1.],\n",
        "          [ 0.,  0.]],\n",
        "  \n",
        "         [[ 1.,  1.],\n",
        "          [ 0.,  0.]],\n",
        "  \n",
        "         [[ 0.,  0.],\n",
        "          [ 0.,  0.]],\n",
        "  \n",
        "         [[ 0.,  0.],\n",
        "          [-1., -1.]],\n",
        "  \n",
        "         [[ 0.,  0.],\n",
        "          [ 1.,  1.]],\n",
        "  \n",
        "         [[ 0.,  0.],\n",
        "          [ 0.,  0.]]]), (0, 0): array([[[  7.88675135e-01,   2.11324865e-01],\n",
        "          [  0.00000000e+00,   0.00000000e+00]],\n",
        "  \n",
        "         [[ -2.08166817e-17,   5.55111512e-17],\n",
        "          [  0.00000000e+00,   0.00000000e+00]],\n",
        "  \n",
        "         [[  2.11324865e-01,   7.88675135e-01],\n",
        "          [  0.00000000e+00,   0.00000000e+00]],\n",
        "  \n",
        "         [[  0.00000000e+00,   0.00000000e+00],\n",
        "          [  7.88675135e-01,   2.11324865e-01]],\n",
        "  \n",
        "         [[  0.00000000e+00,   0.00000000e+00],\n",
        "          [ -2.08166817e-17,   5.55111512e-17]],\n",
        "  \n",
        "         [[  0.00000000e+00,   0.00000000e+00],\n",
        "          [  2.11324865e-01,   7.88675135e-01]]])}, 2: {(0, 1): array([[[ -1.00000000e+00,  -1.00000000e+00],\n",
        "          [  0.00000000e+00,   0.00000000e+00]],\n",
        "  \n",
        "         [[  8.88178420e-16,   8.88178420e-16],\n",
        "          [  0.00000000e+00,   0.00000000e+00]],\n",
        "  \n",
        "         [[  1.00000000e+00,   1.00000000e+00],\n",
        "          [  0.00000000e+00,   0.00000000e+00]],\n",
        "  \n",
        "         [[  0.00000000e+00,   0.00000000e+00],\n",
        "          [ -1.00000000e+00,  -1.00000000e+00]],\n",
        "  \n",
        "         [[  0.00000000e+00,   0.00000000e+00],\n",
        "          [  8.88178420e-16,   8.88178420e-16]],\n",
        "  \n",
        "         [[  0.00000000e+00,   0.00000000e+00],\n",
        "          [  1.00000000e+00,   1.00000000e+00]]]), (1, 0): array([[[-1., -1.],\n",
        "          [ 0.,  0.]],\n",
        "  \n",
        "         [[ 1.,  1.],\n",
        "          [ 0.,  0.]],\n",
        "  \n",
        "         [[ 0.,  0.],\n",
        "          [ 0.,  0.]],\n",
        "  \n",
        "         [[ 0.,  0.],\n",
        "          [-1., -1.]],\n",
        "  \n",
        "         [[ 0.,  0.],\n",
        "          [ 1.,  1.]],\n",
        "  \n",
        "         [[ 0.,  0.],\n",
        "          [ 0.,  0.]]]), (0, 0): array([[[ 0.78867513,  0.21132487],\n",
        "          [ 0.        ,  0.        ]],\n",
        "  \n",
        "         [[ 0.21132487,  0.78867513],\n",
        "          [ 0.        ,  0.        ]],\n",
        "  \n",
        "         [[ 0.        ,  0.        ],\n",
        "          [ 0.        ,  0.        ]],\n",
        "  \n",
        "         [[ 0.        ,  0.        ],\n",
        "          [ 0.78867513,  0.21132487]],\n",
        "  \n",
        "         [[ 0.        ,  0.        ],\n",
        "          [ 0.21132487,  0.78867513]],\n",
        "  \n",
        "         [[ 0.        ,  0.        ],\n",
        "          [ 0.        ,  0.        ]]])}}}}}\n"
       ]
      },
      {
       "output_type": "stream",
       "stream": "stderr",
       "text": [
        "DEBUG:FFC:  \n",
        "  QG-utils, psi_tables, flat_tables:\n",
        "  {'FE1_f2_C2': array([[ 0.,  0.,  0.,  0.,  1.],\n",
        "         [ 0.,  0.,  0.,  0.,  1.]]), 'FE0_f0_C0_D01': array([[ -1.00000000e+00,   8.88178420e-16,   1.00000000e+00,\n",
        "            0.00000000e+00,   0.00000000e+00,   0.00000000e+00],\n",
        "         [ -1.00000000e+00,   8.88178420e-16,   1.00000000e+00,\n",
        "            0.00000000e+00,   0.00000000e+00,   0.00000000e+00]]), 'FE1_f2_C0': array([[ 0.78867513,  0.21132487,  0.        ,  0.        ,  0.        ],\n",
        "         [ 0.21132487,  0.78867513,  0.        ,  0.        ,  0.        ]]), 'FE1_f2_C1': array([[ 0.,  0.,  0.,  1.,  0.],\n",
        "         [ 0.,  0.,  0.,  1.,  0.]]), 'FE0_f0_C1': array([[  0.00000000e+00,   0.00000000e+00,   0.00000000e+00,\n",
        "           -2.08166817e-17,   7.88675135e-01,   2.11324865e-01],\n",
        "         [  0.00000000e+00,   0.00000000e+00,   0.00000000e+00,\n",
        "            5.55111512e-17,   2.11324865e-01,   7.88675135e-01]]), 'FE0_f0_C0': array([[ -2.08166817e-17,   7.88675135e-01,   2.11324865e-01,\n",
        "            0.00000000e+00,   0.00000000e+00,   0.00000000e+00],\n",
        "         [  5.55111512e-17,   2.11324865e-01,   7.88675135e-01,\n",
        "            0.00000000e+00,   0.00000000e+00,   0.00000000e+00]]), 'FE0_f0_C1_D01': array([[  0.00000000e+00,   0.00000000e+00,   0.00000000e+00,\n",
        "           -1.00000000e+00,   8.88178420e-16,   1.00000000e+00],\n",
        "         [  0.00000000e+00,   0.00000000e+00,   0.00000000e+00,\n",
        "           -1.00000000e+00,   8.88178420e-16,   1.00000000e+00]]), 'FE0_f2_C0_D10': array([[-1.,  1.,  0.,  0.,  0.,  0.],\n",
        "         [-1.,  1.,  0.,  0.,  0.,  0.]]), 'FE0_f1_C1_D10': array([[ 0.,  0.,  0., -1.,  1.,  0.],\n",
        "         [ 0.,  0.,  0., -1.,  1.,  0.]]), 'FE0_f2_C1_D01': array([[  0.00000000e+00,   0.00000000e+00,   0.00000000e+00,\n",
        "           -1.00000000e+00,   8.88178420e-16,   1.00000000e+00],\n",
        "         [  0.00000000e+00,   0.00000000e+00,   0.00000000e+00,\n",
        "           -1.00000000e+00,   8.88178420e-16,   1.00000000e+00]]), 'FE0_f1_C1_D01': array([[  0.00000000e+00,   0.00000000e+00,   0.00000000e+00,\n",
        "           -1.00000000e+00,   8.88178420e-16,   1.00000000e+00],\n",
        "         [  0.00000000e+00,   0.00000000e+00,   0.00000000e+00,\n",
        "           -1.00000000e+00,   8.88178420e-16,   1.00000000e+00]]), 'FE1_f0_C0': array([[ -2.08166817e-17,   7.88675135e-01,   2.11324865e-01,\n",
        "            0.00000000e+00,   0.00000000e+00],\n",
        "         [  5.55111512e-17,   2.11324865e-01,   7.88675135e-01,\n",
        "            0.00000000e+00,   0.00000000e+00]]), 'FE1_f0_C1': array([[ 0.,  0.,  0.,  1.,  0.],\n",
        "         [ 0.,  0.,  0.,  1.,  0.]]), 'FE1_f0_C2': array([[ 0.,  0.,  0.,  0.,  1.],\n",
        "         [ 0.,  0.,  0.,  0.,  1.]]), 'FE0_f1_C0_D10': array([[-1.,  1.,  0.,  0.,  0.,  0.],\n",
        "         [-1.,  1.,  0.,  0.,  0.,  0.]]), 'FE0_f0_C0_D10': array([[-1.,  1.,  0.,  0.,  0.,  0.],\n",
        "         [-1.,  1.,  0.,  0.,  0.,  0.]]), 'FE0_f2_C1': array([[ 0.        ,  0.        ,  0.        ,  0.78867513,  0.21132487,\n",
        "           0.        ],\n",
        "         [ 0.        ,  0.        ,  0.        ,  0.21132487,  0.78867513,\n",
        "           0.        ]]), 'FE0_f2_C0': array([[ 0.78867513,  0.21132487,  0.        ,  0.        ,  0.        ,\n",
        "           0.        ],\n",
        "         [ 0.21132487,  0.78867513,  0.        ,  0.        ,  0.        ,\n",
        "           0.        ]]), 'FE0_f0_C1_D10': array([[ 0.,  0.,  0., -1.,  1.,  0.],\n",
        "         [ 0.,  0.,  0., -1.,  1.,  0.]]), 'FE0_f1_C0_D01': array([[ -1.00000000e+00,   8.88178420e-16,   1.00000000e+00,\n",
        "            0.00000000e+00,   0.00000000e+00,   0.00000000e+00],\n",
        "         [ -1.00000000e+00,   8.88178420e-16,   1.00000000e+00,\n",
        "            0.00000000e+00,   0.00000000e+00,   0.00000000e+00]]), 'FE2_f2': array([[ 1.],\n",
        "         [ 1.]]), 'FE2_f0': array([[ 1.],\n",
        "         [ 1.]]), 'FE2_f1': array([[ 1.],\n",
        "         [ 1.]]), 'FE0_f2_C0_D01': array([[ -1.00000000e+00,   8.88178420e-16,   1.00000000e+00,\n",
        "            0.00000000e+00,   0.00000000e+00,   0.00000000e+00],\n",
        "         [ -1.00000000e+00,   8.88178420e-16,   1.00000000e+00,\n",
        "            0.00000000e+00,   0.00000000e+00,   0.00000000e+00]]), 'FE0_f1_C0': array([[  7.88675135e-01,  -2.08166817e-17,   2.11324865e-01,\n",
        "            0.00000000e+00,   0.00000000e+00,   0.00000000e+00],\n",
        "         [  2.11324865e-01,   5.55111512e-17,   7.88675135e-01,\n",
        "            0.00000000e+00,   0.00000000e+00,   0.00000000e+00]]), 'FE0_f1_C1': array([[  0.00000000e+00,   0.00000000e+00,   0.00000000e+00,\n",
        "            7.88675135e-01,  -2.08166817e-17,   2.11324865e-01],\n",
        "         [  0.00000000e+00,   0.00000000e+00,   0.00000000e+00,\n",
        "            2.11324865e-01,   5.55111512e-17,   7.88675135e-01]]), 'FE0_f2_C1_D10': array([[ 0.,  0.,  0., -1.,  1.,  0.],\n",
        "         [ 0.,  0.,  0., -1.,  1.,  0.]]), 'FE1_f1_C2': array([[ 0.,  0.,  0.,  0.,  1.],\n",
        "         [ 0.,  0.,  0.,  0.,  1.]]), 'FE1_f1_C1': array([[ 0.,  0.,  0.,  1.,  0.],\n",
        "         [ 0.,  0.,  0.,  1.,  0.]]), 'FE1_f1_C0': array([[  7.88675135e-01,  -2.08166817e-17,   2.11324865e-01,\n",
        "            0.00000000e+00,   0.00000000e+00],\n",
        "         [  2.11324865e-01,   5.55111512e-17,   7.88675135e-01,\n",
        "            0.00000000e+00,   0.00000000e+00]])}\n"
       ]
      },
      {
       "output_type": "stream",
       "stream": "stderr",
       "text": [
        "DEBUG:FFC:  \n",
        "  tables: {'FE0_f0_C0_D01': array([[ -1.00000000e+00,   8.88178420e-16,   1.00000000e+00,\n",
        "            0.00000000e+00,   0.00000000e+00,   0.00000000e+00],\n",
        "         [ -1.00000000e+00,   8.88178420e-16,   1.00000000e+00,\n",
        "            0.00000000e+00,   0.00000000e+00,   0.00000000e+00]]), 'FE1_f2_C0': array([[ 0.78867513,  0.21132487,  0.        ,  0.        ,  0.        ],\n",
        "         [ 0.21132487,  0.78867513,  0.        ,  0.        ,  0.        ]]), 'FE0_f0_C1': array([[  0.00000000e+00,   0.00000000e+00,   0.00000000e+00,\n",
        "           -2.08166817e-17,   7.88675135e-01,   2.11324865e-01],\n",
        "         [  0.00000000e+00,   0.00000000e+00,   0.00000000e+00,\n",
        "            5.55111512e-17,   2.11324865e-01,   7.88675135e-01]]), 'FE0_f0_C0': array([[ -2.08166817e-17,   7.88675135e-01,   2.11324865e-01,\n",
        "            0.00000000e+00,   0.00000000e+00,   0.00000000e+00],\n",
        "         [  5.55111512e-17,   2.11324865e-01,   7.88675135e-01,\n",
        "            0.00000000e+00,   0.00000000e+00,   0.00000000e+00]]), 'FE0_f0_C1_D01': array([[  0.00000000e+00,   0.00000000e+00,   0.00000000e+00,\n",
        "           -1.00000000e+00,   8.88178420e-16,   1.00000000e+00],\n",
        "         [  0.00000000e+00,   0.00000000e+00,   0.00000000e+00,\n",
        "           -1.00000000e+00,   8.88178420e-16,   1.00000000e+00]]), 'FE1_f0_C0': array([[ -2.08166817e-17,   7.88675135e-01,   2.11324865e-01,\n",
        "            0.00000000e+00,   0.00000000e+00],\n",
        "         [  5.55111512e-17,   2.11324865e-01,   7.88675135e-01,\n",
        "            0.00000000e+00,   0.00000000e+00]]), 'FE1_f0_C1': array([[ 0.,  0.,  0.,  1.,  0.],\n",
        "         [ 0.,  0.,  0.,  1.,  0.]]), 'FE1_f0_C2': array([[ 0.,  0.,  0.,  0.,  1.],\n",
        "         [ 0.,  0.,  0.,  0.,  1.]]), 'FE0_f0_C0_D10': array([[-1.,  1.,  0.,  0.,  0.,  0.],\n",
        "         [-1.,  1.,  0.,  0.,  0.,  0.]]), 'FE0_f2_C1': array([[ 0.        ,  0.        ,  0.        ,  0.78867513,  0.21132487,\n",
        "           0.        ],\n",
        "         [ 0.        ,  0.        ,  0.        ,  0.21132487,  0.78867513,\n",
        "           0.        ]]), 'FE0_f2_C0': array([[ 0.78867513,  0.21132487,  0.        ,  0.        ,  0.        ,\n",
        "           0.        ],\n",
        "         [ 0.21132487,  0.78867513,  0.        ,  0.        ,  0.        ,\n",
        "           0.        ]]), 'FE0_f0_C1_D10': array([[ 0.,  0.,  0., -1.,  1.,  0.],\n",
        "         [ 0.,  0.,  0., -1.,  1.,  0.]]), 'FE2_f0': array([[ 1.],\n",
        "         [ 1.]]), 'FE0_f1_C0': array([[  7.88675135e-01,  -2.08166817e-17,   2.11324865e-01,\n",
        "            0.00000000e+00,   0.00000000e+00,   0.00000000e+00],\n",
        "         [  2.11324865e-01,   5.55111512e-17,   7.88675135e-01,\n",
        "            0.00000000e+00,   0.00000000e+00,   0.00000000e+00]]), 'FE0_f1_C1': array([[  0.00000000e+00,   0.00000000e+00,   0.00000000e+00,\n",
        "            7.88675135e-01,  -2.08166817e-17,   2.11324865e-01],\n",
        "         [  0.00000000e+00,   0.00000000e+00,   0.00000000e+00,\n",
        "            2.11324865e-01,   5.55111512e-17,   7.88675135e-01]]), 'FE1_f1_C0': array([[  7.88675135e-01,  -2.08166817e-17,   2.11324865e-01,\n",
        "            0.00000000e+00,   0.00000000e+00],\n",
        "         [  2.11324865e-01,   5.55111512e-17,   7.88675135e-01,\n",
        "            0.00000000e+00,   0.00000000e+00]])}\n"
       ]
      },
      {
       "output_type": "stream",
       "stream": "stderr",
       "text": [
        "DEBUG:FFC:  \n",
        "  name_map: {'FE0_f0_C1_D01': ['FE0_f1_C1_D01', 'FE0_f2_C1_D01'], 'FE0_f0_C1_D10': ['FE0_f1_C1_D10', 'FE0_f2_C1_D10'], 'FE1_f0_C1': ['FE1_f1_C1', 'FE1_f2_C1'], 'FE1_f0_C2': ['FE1_f1_C2', 'FE1_f2_C2'], 'FE2_f0': ['FE2_f1', 'FE2_f2'], 'FE0_f0_C0_D01': ['FE0_f1_C0_D01', 'FE0_f2_C0_D01'], 'FE0_f0_C0_D10': ['FE0_f1_C0_D10', 'FE0_f2_C0_D10']}\n"
       ]
      },
      {
       "output_type": "stream",
       "stream": "stderr",
       "text": [
        "DEBUG:FFC:  \n",
        "  inv_name_map: {'FE1_f2_C2': 'FE1_f0_C2', 'FE0_f0_C0_D01': 'FE0_f0_C0_D01', 'FE1_f2_C0': 'FE1_f2_C0', 'FE1_f2_C1': 'FE1_f0_C1', 'FE0_f0_C1': 'FE0_f0_C1', 'FE0_f0_C0': 'FE0_f0_C0', 'FE0_f1_C1': 'FE0_f1_C1', 'FE0_f1_C0_D10': 'FE0_f0_C0_D10', 'FE0_f2_C0_D10': 'FE0_f0_C0_D10', 'FE0_f1_C1_D10': 'FE0_f0_C1_D10', 'FE0_f2_C1_D01': 'FE0_f0_C1_D01', 'FE1_f0_C0': 'FE1_f0_C0', 'FE1_f0_C1': 'FE1_f0_C1', 'FE1_f0_C2': 'FE1_f0_C2', 'FE0_f0_C1_D01': 'FE0_f0_C1_D01', 'FE0_f0_C0_D10': 'FE0_f0_C0_D10', 'FE0_f2_C1': 'FE0_f2_C1', 'FE0_f2_C0': 'FE0_f2_C0', 'FE0_f0_C1_D10': 'FE0_f0_C1_D10', 'FE0_f1_C0_D01': 'FE0_f0_C0_D01', 'FE2_f2': 'FE2_f0', 'FE2_f0': 'FE2_f0', 'FE2_f1': 'FE2_f0', 'FE0_f2_C0_D01': 'FE0_f0_C0_D01', 'FE0_f1_C0': 'FE0_f1_C0', 'FE0_f1_C1_D01': 'FE0_f0_C1_D01', 'FE0_f2_C1_D10': 'FE0_f0_C1_D10', 'FE1_f1_C2': 'FE1_f0_C2', 'FE1_f1_C1': 'FE1_f0_C1', 'FE1_f1_C0': 'FE1_f1_C0'}\n"
       ]
      },
      {
       "output_type": "stream",
       "stream": "stderr",
       "text": [
        "DEBUG:FFC:  \n",
        "  QG-utils, psi_tables, unique_tables:\n",
        "  {'FE0_f0_C0_D01': array([[-1.,  0.,  1.,  0.,  0.,  0.],\n",
        "         [-1.,  0.,  1.,  0.,  0.,  0.]]), 'FE1_f2_C0': array([[ 0.78867513,  0.21132487,  0.        ,  0.        ,  0.        ],\n",
        "         [ 0.21132487,  0.78867513,  0.        ,  0.        ,  0.        ]]), 'FE0_f0_C1': array([[ 0.        ,  0.        ,  0.        ,  0.        ,  0.78867513,\n",
        "           0.21132487],\n",
        "         [ 0.        ,  0.        ,  0.        ,  0.        ,  0.21132487,\n",
        "           0.78867513]]), 'FE0_f0_C0': array([[ 0.        ,  0.78867513,  0.21132487,  0.        ,  0.        ,\n",
        "           0.        ],\n",
        "         [ 0.        ,  0.21132487,  0.78867513,  0.        ,  0.        ,\n",
        "           0.        ]]), 'FE0_f0_C1_D01': array([[ 0.,  0.,  0., -1.,  0.,  1.],\n",
        "         [ 0.,  0.,  0., -1.,  0.,  1.]]), 'FE1_f0_C0': array([[ 0.        ,  0.78867513,  0.21132487,  0.        ,  0.        ],\n",
        "         [ 0.        ,  0.21132487,  0.78867513,  0.        ,  0.        ]]), 'FE1_f0_C1': array([[ 0.,  0.,  0.,  1.,  0.],\n",
        "         [ 0.,  0.,  0.,  1.,  0.]]), 'FE1_f0_C2': array([[ 0.,  0.,  0.,  0.,  1.],\n",
        "         [ 0.,  0.,  0.,  0.,  1.]]), 'FE0_f0_C0_D10': array([[-1.,  1.,  0.,  0.,  0.,  0.],\n",
        "         [-1.,  1.,  0.,  0.,  0.,  0.]]), 'FE0_f2_C1': array([[ 0.        ,  0.        ,  0.        ,  0.78867513,  0.21132487,\n",
        "           0.        ],\n",
        "         [ 0.        ,  0.        ,  0.        ,  0.21132487,  0.78867513,\n",
        "           0.        ]]), 'FE0_f2_C0': array([[ 0.78867513,  0.21132487,  0.        ,  0.        ,  0.        ,\n",
        "           0.        ],\n",
        "         [ 0.21132487,  0.78867513,  0.        ,  0.        ,  0.        ,\n",
        "           0.        ]]), 'FE0_f0_C1_D10': array([[ 0.,  0.,  0., -1.,  1.,  0.],\n",
        "         [ 0.,  0.,  0., -1.,  1.,  0.]]), 'FE2_f0': array([[ 1.],\n",
        "         [ 1.]]), 'FE0_f1_C0': array([[ 0.78867513,  0.        ,  0.21132487,  0.        ,  0.        ,\n",
        "           0.        ],\n",
        "         [ 0.21132487,  0.        ,  0.78867513,  0.        ,  0.        ,\n",
        "           0.        ]]), 'FE0_f1_C1': array([[ 0.        ,  0.        ,  0.        ,  0.78867513,  0.        ,\n",
        "           0.21132487],\n",
        "         [ 0.        ,  0.        ,  0.        ,  0.21132487,  0.        ,\n",
        "           0.78867513]]), 'FE1_f1_C0': array([[ 0.78867513,  0.        ,  0.21132487,  0.        ,  0.        ],\n",
        "         [ 0.21132487,  0.        ,  0.78867513,  0.        ,  0.        ]])}\n"
       ]
      },
      {
       "output_type": "stream",
       "stream": "stderr",
       "text": [
        "DEBUG:FFC:  \n",
        "  QG-utils, psi_tables, name_map:\n",
        "  {'FE1_f2_C2': ('FE1_f0_C2', (), False, False), 'FE0_f0_C0_D01': ('FE0_f0_C0_D01', (), False, False), 'FE1_f2_C0': ('FE1_f2_C0', (), False, False), 'FE1_f2_C1': ('FE1_f0_C1', (), False, False), 'FE0_f0_C1': ('FE0_f0_C1', (), False, False), 'FE0_f0_C0': ('FE0_f0_C0', (), False, False), 'FE0_f1_C1': ('FE0_f1_C1', (), False, False), 'FE0_f1_C0_D10': ('FE0_f0_C0_D10', (), False, False), 'FE0_f2_C0_D10': ('FE0_f0_C0_D10', (), False, False), 'FE0_f1_C1_D10': ('FE0_f0_C1_D10', (), False, False), 'FE0_f2_C1_D01': ('FE0_f0_C1_D01', (), False, False), 'FE1_f0_C0': ('FE1_f0_C0', (), False, False), 'FE1_f0_C1': ('FE1_f0_C1', (), False, False), 'FE1_f0_C2': ('FE1_f0_C2', (), False, False), 'FE0_f0_C1_D01': ('FE0_f0_C1_D01', (), False, False), 'FE0_f0_C0_D10': ('FE0_f0_C0_D10', (), False, False), 'FE0_f2_C1': ('FE0_f2_C1', (), False, False), 'FE0_f2_C0': ('FE0_f2_C0', (), False, False), 'FE0_f0_C1_D10': ('FE0_f0_C1_D10', (), False, False), 'FE0_f1_C0_D01': ('FE0_f0_C0_D01', (), False, False), 'FE2_f2': ('FE2_f0', (), False, True), 'FE2_f0': ('FE2_f0', (), False, True), 'FE2_f1': ('FE2_f0', (), False, True), 'FE0_f2_C0_D01': ('FE0_f0_C0_D01', (), False, False), 'FE0_f1_C0': ('FE0_f1_C0', (), False, False), 'FE0_f1_C1_D01': ('FE0_f0_C1_D01', (), False, False), 'FE0_f2_C1_D10': ('FE0_f0_C1_D10', (), False, False), 'FE1_f1_C2': ('FE1_f0_C2', (), False, False), 'FE1_f1_C1': ('FE1_f0_C1', (), False, False), 'FE1_f1_C0': ('FE1_f1_C0', (), False, False)}\n"
       ]
      },
      {
       "output_type": "stream",
       "stream": "stderr",
       "text": [
        "INFO:FFC:  Transforming exterior facet integral 0\n"
       ]
      },
      {
       "output_type": "stream",
       "stream": "stderr",
       "text": [
        "DEBUG:FFC:  Reusing element from cache\n"
       ]
      },
      {
       "output_type": "stream",
       "stream": "stderr",
       "text": [
        "DEBUG:FFC:  Reusing element from cache\n"
       ]
      },
      {
       "output_type": "stream",
       "stream": "stderr",
       "text": [
        "DEBUG:FFC:  Reusing element from cache\n"
       ]
      },
      {
       "output_type": "stream",
       "stream": "stderr",
       "text": [
        "DEBUG:FFC:  Reusing element from cache\n"
       ]
      },
      {
       "output_type": "stream",
       "stream": "stderr",
       "text": [
        "DEBUG:FFC:  Reusing element from cache\n"
       ]
      },
      {
       "output_type": "stream",
       "stream": "stderr",
       "text": [
        "DEBUG:FFC:  Reusing element from cache\n"
       ]
      },
      {
       "output_type": "stream",
       "stream": "stderr",
       "text": [
        "DEBUG:FFC:  Reusing element from cache\n"
       ]
      },
      {
       "output_type": "stream",
       "stream": "stderr",
       "text": [
        "DEBUG:FFC:  Reusing element from cache\n"
       ]
      },
      {
       "output_type": "stream",
       "stream": "stderr",
       "text": [
        "DEBUG:FFC:  Reusing element from cache\n"
       ]
      },
      {
       "output_type": "stream",
       "stream": "stderr",
       "text": [
        "DEBUG:FFC:  Reusing element from cache\n"
       ]
      },
      {
       "output_type": "stream",
       "stream": "stderr",
       "text": [
        "INFO:FFC:  Transforming exterior facet integral 1\n"
       ]
      },
      {
       "output_type": "stream",
       "stream": "stderr",
       "text": [
        "DEBUG:FFC:  Reusing element from cache\n"
       ]
      },
      {
       "output_type": "stream",
       "stream": "stderr",
       "text": [
        "DEBUG:FFC:  Reusing element from cache\n"
       ]
      },
      {
       "output_type": "stream",
       "stream": "stderr",
       "text": [
        "DEBUG:FFC:  Reusing element from cache\n"
       ]
      },
      {
       "output_type": "stream",
       "stream": "stderr",
       "text": [
        "DEBUG:FFC:  Reusing element from cache\n"
       ]
      },
      {
       "output_type": "stream",
       "stream": "stderr",
       "text": [
        "DEBUG:FFC:  Reusing element from cache\n"
       ]
      },
      {
       "output_type": "stream",
       "stream": "stderr",
       "text": [
        "DEBUG:FFC:  Reusing element from cache\n"
       ]
      },
      {
       "output_type": "stream",
       "stream": "stderr",
       "text": [
        "DEBUG:FFC:  Reusing element from cache\n"
       ]
      },
      {
       "output_type": "stream",
       "stream": "stderr",
       "text": [
        "DEBUG:FFC:  Reusing element from cache\n"
       ]
      },
      {
       "output_type": "stream",
       "stream": "stderr",
       "text": [
        "DEBUG:FFC:  Reusing element from cache\n"
       ]
      },
      {
       "output_type": "stream",
       "stream": "stderr",
       "text": [
        "DEBUG:FFC:  Reusing element from cache\n"
       ]
      },
      {
       "output_type": "stream",
       "stream": "stderr",
       "text": [
        "INFO:FFC:  Transforming exterior facet integral 2\n"
       ]
      },
      {
       "output_type": "stream",
       "stream": "stderr",
       "text": [
        "DEBUG:FFC:  Reusing element from cache\n"
       ]
      },
      {
       "output_type": "stream",
       "stream": "stderr",
       "text": [
        "DEBUG:FFC:  Reusing element from cache\n"
       ]
      },
      {
       "output_type": "stream",
       "stream": "stderr",
       "text": [
        "DEBUG:FFC:  Reusing element from cache\n"
       ]
      },
      {
       "output_type": "stream",
       "stream": "stderr",
       "text": [
        "DEBUG:FFC:  Reusing element from cache\n"
       ]
      },
      {
       "output_type": "stream",
       "stream": "stderr",
       "text": [
        "DEBUG:FFC:  Reusing element from cache\n"
       ]
      },
      {
       "output_type": "stream",
       "stream": "stderr",
       "text": [
        "DEBUG:FFC:  Reusing element from cache\n"
       ]
      },
      {
       "output_type": "stream",
       "stream": "stderr",
       "text": [
        "DEBUG:FFC:  Reusing element from cache\n"
       ]
      },
      {
       "output_type": "stream",
       "stream": "stderr",
       "text": [
        "DEBUG:FFC:  Reusing element from cache\n"
       ]
      },
      {
       "output_type": "stream",
       "stream": "stderr",
       "text": [
        "DEBUG:FFC:  Reusing element from cache\n"
       ]
      },
      {
       "output_type": "stream",
       "stream": "stderr",
       "text": [
        "DEBUG:FFC:  Reusing element from cache\n"
       ]
      },
      {
       "output_type": "stream",
       "stream": "stderr",
       "text": [
        "DEBUG:FFC:  Reusing element from cache\n"
       ]
      },
      {
       "output_type": "stream",
       "stream": "stderr",
       "text": [
        "DEBUG:FFC:  Reusing element from cache\n"
       ]
      },
      {
       "output_type": "stream",
       "stream": "stderr",
       "text": [
        "DEBUG:FFC:  Reusing element from cache\n"
       ]
      },
      {
       "output_type": "stream",
       "stream": "stderr",
       "text": [
        "INFO:FFC:  Computing representation of forms\n"
       ]
      },
      {
       "output_type": "stream",
       "stream": "stderr",
       "text": [
        "INFO:FFC:  \n"
       ]
      },
      {
       "output_type": "stream",
       "stream": "stderr",
       "text": [
        "INFO:FFC:Compiler stage 2 finished in 0.180865 seconds.\n",
        "\n"
       ]
      },
      {
       "output_type": "stream",
       "stream": "stderr",
       "text": [
        "INFO:FFC:Compiler stage 3: Optimizing intermediate representation\n"
       ]
      },
      {
       "output_type": "stream",
       "stream": "stderr",
       "text": [
        "INFO:FFC:--------------------------------------------------------\n"
       ]
      },
      {
       "output_type": "stream",
       "stream": "stderr",
       "text": [
        "INFO:FFC:  Skipping optimizations, add -O to optimize\n"
       ]
      },
      {
       "output_type": "stream",
       "stream": "stderr",
       "text": [
        "INFO:FFC:  \n"
       ]
      },
      {
       "output_type": "stream",
       "stream": "stderr",
       "text": [
        "INFO:FFC:Compiler stage 3 finished in 0.0013361 seconds.\n",
        "\n"
       ]
      },
      {
       "output_type": "stream",
       "stream": "stderr",
       "text": [
        "INFO:FFC:Compiler stage 4: Generating code\n"
       ]
      },
      {
       "output_type": "stream",
       "stream": "stderr",
       "text": [
        "INFO:FFC:---------------------------------\n"
       ]
      },
      {
       "output_type": "stream",
       "stream": "stderr",
       "text": [
        "INFO:FFC:  Generating code for 3 element(s)\n"
       ]
      },
      {
       "output_type": "stream",
       "stream": "stderr",
       "text": [
        "DEBUG:FFC:  Removing unused variable: tmp2\n"
       ]
      },
      {
       "output_type": "stream",
       "stream": "stderr",
       "text": [
        "DEBUG:FFC:  Removing unused variable: tmp1\n"
       ]
      },
      {
       "output_type": "stream",
       "stream": "stderr",
       "text": [
        "DEBUG:FFC:  Removing unused variable: tmp7\n"
       ]
      },
      {
       "output_type": "stream",
       "stream": "stderr",
       "text": [
        "DEBUG:FFC:  Removing unused variable: tmp6\n"
       ]
      },
      {
       "output_type": "stream",
       "stream": "stderr",
       "text": [
        "DEBUG:FFC:  Removing unused variable: tmp5\n"
       ]
      },
      {
       "output_type": "stream",
       "stream": "stderr",
       "text": [
        "DEBUG:FFC:  Removing unused variable: tt\n"
       ]
      },
      {
       "output_type": "stream",
       "stream": "stderr",
       "text": [
        "DEBUG:FFC:  Removing unused variable: ss\n"
       ]
      },
      {
       "output_type": "stream",
       "stream": "stderr",
       "text": [
        "DEBUG:FFC:  Removing unused variable: rr\n"
       ]
      },
      {
       "output_type": "stream",
       "stream": "stderr",
       "text": [
        "DEBUG:FFC:  Removing unused variable: tmp2\n"
       ]
      },
      {
       "output_type": "stream",
       "stream": "stderr",
       "text": [
        "DEBUG:FFC:  Removing unused variable: tmp1\n"
       ]
      },
      {
       "output_type": "stream",
       "stream": "stderr",
       "text": [
        "DEBUG:FFC:  Removing unused variable: tmp7\n"
       ]
      },
      {
       "output_type": "stream",
       "stream": "stderr",
       "text": [
        "DEBUG:FFC:  Removing unused variable: tmp6\n"
       ]
      },
      {
       "output_type": "stream",
       "stream": "stderr",
       "text": [
        "DEBUG:FFC:  Removing unused variable: tmp5\n"
       ]
      },
      {
       "output_type": "stream",
       "stream": "stderr",
       "text": [
        "DEBUG:FFC:  Removing unused variable: tt\n"
       ]
      },
      {
       "output_type": "stream",
       "stream": "stderr",
       "text": [
        "DEBUG:FFC:  Removing unused variable: ss\n"
       ]
      },
      {
       "output_type": "stream",
       "stream": "stderr",
       "text": [
        "DEBUG:FFC:  Removing unused variable: rr\n"
       ]
      },
      {
       "output_type": "stream",
       "stream": "stderr",
       "text": [
        "DEBUG:FFC:  Removing unused variable: tmp2\n"
       ]
      },
      {
       "output_type": "stream",
       "stream": "stderr",
       "text": [
        "DEBUG:FFC:  Removing unused variable: tmp1\n"
       ]
      },
      {
       "output_type": "stream",
       "stream": "stderr",
       "text": [
        "DEBUG:FFC:  Removing unused variable: tmp7\n"
       ]
      },
      {
       "output_type": "stream",
       "stream": "stderr",
       "text": [
        "DEBUG:FFC:  Removing unused variable: tmp6\n"
       ]
      },
      {
       "output_type": "stream",
       "stream": "stderr",
       "text": [
        "DEBUG:FFC:  Removing unused variable: tmp5\n"
       ]
      },
      {
       "output_type": "stream",
       "stream": "stderr",
       "text": [
        "DEBUG:FFC:  Removing unused variable: tt\n"
       ]
      },
      {
       "output_type": "stream",
       "stream": "stderr",
       "text": [
        "DEBUG:FFC:  Removing unused variable: ss\n"
       ]
      },
      {
       "output_type": "stream",
       "stream": "stderr",
       "text": [
        "DEBUG:FFC:  Removing unused variable: rr\n"
       ]
      },
      {
       "output_type": "stream",
       "stream": "stderr",
       "text": [
        "DEBUG:FFC:  Removing unused variable: tmp2\n"
       ]
      },
      {
       "output_type": "stream",
       "stream": "stderr",
       "text": [
        "DEBUG:FFC:  Removing unused variable: tmp1\n"
       ]
      },
      {
       "output_type": "stream",
       "stream": "stderr",
       "text": [
        "DEBUG:FFC:  Removing unused variable: tmp7\n"
       ]
      },
      {
       "output_type": "stream",
       "stream": "stderr",
       "text": [
        "DEBUG:FFC:  Removing unused variable: tmp6\n"
       ]
      },
      {
       "output_type": "stream",
       "stream": "stderr",
       "text": [
        "DEBUG:FFC:  Removing unused variable: tmp5\n"
       ]
      },
      {
       "output_type": "stream",
       "stream": "stderr",
       "text": [
        "DEBUG:FFC:  Removing unused variable: tt\n"
       ]
      },
      {
       "output_type": "stream",
       "stream": "stderr",
       "text": [
        "DEBUG:FFC:  Removing unused variable: ss\n"
       ]
      },
      {
       "output_type": "stream",
       "stream": "stderr",
       "text": [
        "DEBUG:FFC:  Removing unused variable: rr\n"
       ]
      },
      {
       "output_type": "stream",
       "stream": "stderr",
       "text": [
        "DEBUG:FFC:  Removing unused variable: tmp2\n"
       ]
      },
      {
       "output_type": "stream",
       "stream": "stderr",
       "text": [
        "DEBUG:FFC:  Removing unused variable: tmp1\n"
       ]
      },
      {
       "output_type": "stream",
       "stream": "stderr",
       "text": [
        "DEBUG:FFC:  Removing unused variable: tmp7\n"
       ]
      },
      {
       "output_type": "stream",
       "stream": "stderr",
       "text": [
        "DEBUG:FFC:  Removing unused variable: tmp6\n"
       ]
      },
      {
       "output_type": "stream",
       "stream": "stderr",
       "text": [
        "DEBUG:FFC:  Removing unused variable: tmp5\n"
       ]
      },
      {
       "output_type": "stream",
       "stream": "stderr",
       "text": [
        "DEBUG:FFC:  Removing unused variable: tt\n"
       ]
      },
      {
       "output_type": "stream",
       "stream": "stderr",
       "text": [
        "DEBUG:FFC:  Removing unused variable: ss\n"
       ]
      },
      {
       "output_type": "stream",
       "stream": "stderr",
       "text": [
        "DEBUG:FFC:  Removing unused variable: rr\n"
       ]
      },
      {
       "output_type": "stream",
       "stream": "stderr",
       "text": [
        "DEBUG:FFC:  Removing unused variable: tmp2\n"
       ]
      },
      {
       "output_type": "stream",
       "stream": "stderr",
       "text": [
        "DEBUG:FFC:  Removing unused variable: tmp1\n"
       ]
      },
      {
       "output_type": "stream",
       "stream": "stderr",
       "text": [
        "DEBUG:FFC:  Removing unused variable: tmp7\n"
       ]
      },
      {
       "output_type": "stream",
       "stream": "stderr",
       "text": [
        "DEBUG:FFC:  Removing unused variable: tmp6\n"
       ]
      },
      {
       "output_type": "stream",
       "stream": "stderr",
       "text": [
        "DEBUG:FFC:  Removing unused variable: tmp5\n"
       ]
      },
      {
       "output_type": "stream",
       "stream": "stderr",
       "text": [
        "DEBUG:FFC:  Removing unused variable: tt\n"
       ]
      },
      {
       "output_type": "stream",
       "stream": "stderr",
       "text": [
        "DEBUG:FFC:  Removing unused variable: ss\n"
       ]
      },
      {
       "output_type": "stream",
       "stream": "stderr",
       "text": [
        "DEBUG:FFC:  Removing unused variable: rr\n"
       ]
      },
      {
       "output_type": "stream",
       "stream": "stderr",
       "text": [
        "DEBUG:FFC:  Removing unused variable: tmp2\n"
       ]
      },
      {
       "output_type": "stream",
       "stream": "stderr",
       "text": [
        "DEBUG:FFC:  Removing unused variable: tmp1\n"
       ]
      },
      {
       "output_type": "stream",
       "stream": "stderr",
       "text": [
        "DEBUG:FFC:  Removing unused variable: tmp0\n"
       ]
      },
      {
       "output_type": "stream",
       "stream": "stderr",
       "text": [
        "DEBUG:FFC:  Removing unused variable: tmp7\n"
       ]
      },
      {
       "output_type": "stream",
       "stream": "stderr",
       "text": [
        "DEBUG:FFC:  Removing unused variable: tmp6\n"
       ]
      },
      {
       "output_type": "stream",
       "stream": "stderr",
       "text": [
        "DEBUG:FFC:  Removing unused variable: tmp5\n"
       ]
      },
      {
       "output_type": "stream",
       "stream": "stderr",
       "text": [
        "DEBUG:FFC:  Removing unused variable: tt\n"
       ]
      },
      {
       "output_type": "stream",
       "stream": "stderr",
       "text": [
        "DEBUG:FFC:  Removing unused variable: ss\n"
       ]
      },
      {
       "output_type": "stream",
       "stream": "stderr",
       "text": [
        "DEBUG:FFC:  Removing unused variable: rr\n"
       ]
      },
      {
       "output_type": "stream",
       "stream": "stderr",
       "text": [
        "DEBUG:FFC:  Removing unused variable: Y\n"
       ]
      },
      {
       "output_type": "stream",
       "stream": "stderr",
       "text": [
        "DEBUG:FFC:  Removing unused variable: X\n"
       ]
      },
      {
       "output_type": "stream",
       "stream": "stderr",
       "text": [
        "DEBUG:FFC:  Removing unused variable: C1\n"
       ]
      },
      {
       "output_type": "stream",
       "stream": "stderr",
       "text": [
        "DEBUG:FFC:  Removing unused variable: C0\n"
       ]
      },
      {
       "output_type": "stream",
       "stream": "stderr",
       "text": [
        "DEBUG:FFC:  Removing unused variable: tmp2\n"
       ]
      },
      {
       "output_type": "stream",
       "stream": "stderr",
       "text": [
        "DEBUG:FFC:  Removing unused variable: tmp1\n"
       ]
      },
      {
       "output_type": "stream",
       "stream": "stderr",
       "text": [
        "DEBUG:FFC:  Removing unused variable: tmp7\n"
       ]
      },
      {
       "output_type": "stream",
       "stream": "stderr",
       "text": [
        "DEBUG:FFC:  Removing unused variable: tmp6\n"
       ]
      },
      {
       "output_type": "stream",
       "stream": "stderr",
       "text": [
        "DEBUG:FFC:  Removing unused variable: tmp5\n"
       ]
      },
      {
       "output_type": "stream",
       "stream": "stderr",
       "text": [
        "DEBUG:FFC:  Removing unused variable: tt\n"
       ]
      },
      {
       "output_type": "stream",
       "stream": "stderr",
       "text": [
        "DEBUG:FFC:  Removing unused variable: ss\n"
       ]
      },
      {
       "output_type": "stream",
       "stream": "stderr",
       "text": [
        "DEBUG:FFC:  Removing unused variable: rr\n"
       ]
      },
      {
       "output_type": "stream",
       "stream": "stderr",
       "text": [
        "DEBUG:FFC:  Removing unused variable: tmp2\n"
       ]
      },
      {
       "output_type": "stream",
       "stream": "stderr",
       "text": [
        "DEBUG:FFC:  Removing unused variable: tmp1\n"
       ]
      },
      {
       "output_type": "stream",
       "stream": "stderr",
       "text": [
        "DEBUG:FFC:  Removing unused variable: tmp7\n"
       ]
      },
      {
       "output_type": "stream",
       "stream": "stderr",
       "text": [
        "DEBUG:FFC:  Removing unused variable: tmp6\n"
       ]
      },
      {
       "output_type": "stream",
       "stream": "stderr",
       "text": [
        "DEBUG:FFC:  Removing unused variable: tmp5\n"
       ]
      },
      {
       "output_type": "stream",
       "stream": "stderr",
       "text": [
        "DEBUG:FFC:  Removing unused variable: tt\n"
       ]
      },
      {
       "output_type": "stream",
       "stream": "stderr",
       "text": [
        "DEBUG:FFC:  Removing unused variable: ss\n"
       ]
      },
      {
       "output_type": "stream",
       "stream": "stderr",
       "text": [
        "DEBUG:FFC:  Removing unused variable: rr\n"
       ]
      },
      {
       "output_type": "stream",
       "stream": "stderr",
       "text": [
        "DEBUG:FFC:  Removing unused variable: tmp2\n"
       ]
      },
      {
       "output_type": "stream",
       "stream": "stderr",
       "text": [
        "DEBUG:FFC:  Removing unused variable: tmp1\n"
       ]
      },
      {
       "output_type": "stream",
       "stream": "stderr",
       "text": [
        "DEBUG:FFC:  Removing unused variable: tmp7\n"
       ]
      },
      {
       "output_type": "stream",
       "stream": "stderr",
       "text": [
        "DEBUG:FFC:  Removing unused variable: tmp6\n"
       ]
      },
      {
       "output_type": "stream",
       "stream": "stderr",
       "text": [
        "DEBUG:FFC:  Removing unused variable: tmp5\n"
       ]
      },
      {
       "output_type": "stream",
       "stream": "stderr",
       "text": [
        "DEBUG:FFC:  Removing unused variable: tt\n"
       ]
      },
      {
       "output_type": "stream",
       "stream": "stderr",
       "text": [
        "DEBUG:FFC:  Removing unused variable: ss\n"
       ]
      },
      {
       "output_type": "stream",
       "stream": "stderr",
       "text": [
        "DEBUG:FFC:  Removing unused variable: rr\n"
       ]
      },
      {
       "output_type": "stream",
       "stream": "stderr",
       "text": [
        "DEBUG:FFC:  Removing unused variable: tmp2\n"
       ]
      },
      {
       "output_type": "stream",
       "stream": "stderr",
       "text": [
        "DEBUG:FFC:  Removing unused variable: tmp1\n"
       ]
      },
      {
       "output_type": "stream",
       "stream": "stderr",
       "text": [
        "DEBUG:FFC:  Removing unused variable: tmp0\n"
       ]
      },
      {
       "output_type": "stream",
       "stream": "stderr",
       "text": [
        "DEBUG:FFC:  Removing unused variable: tmp7\n"
       ]
      },
      {
       "output_type": "stream",
       "stream": "stderr",
       "text": [
        "DEBUG:FFC:  Removing unused variable: tmp6\n"
       ]
      },
      {
       "output_type": "stream",
       "stream": "stderr",
       "text": [
        "DEBUG:FFC:  Removing unused variable: tmp5\n"
       ]
      },
      {
       "output_type": "stream",
       "stream": "stderr",
       "text": [
        "DEBUG:FFC:  Removing unused variable: tt\n"
       ]
      },
      {
       "output_type": "stream",
       "stream": "stderr",
       "text": [
        "DEBUG:FFC:  Removing unused variable: ss\n"
       ]
      },
      {
       "output_type": "stream",
       "stream": "stderr",
       "text": [
        "DEBUG:FFC:  Removing unused variable: rr\n"
       ]
      },
      {
       "output_type": "stream",
       "stream": "stderr",
       "text": [
        "DEBUG:FFC:  Removing unused variable: tmp2\n"
       ]
      },
      {
       "output_type": "stream",
       "stream": "stderr",
       "text": [
        "DEBUG:FFC:  Removing unused variable: tmp1\n"
       ]
      },
      {
       "output_type": "stream",
       "stream": "stderr",
       "text": [
        "DEBUG:FFC:  Removing unused variable: tmp0\n"
       ]
      },
      {
       "output_type": "stream",
       "stream": "stderr",
       "text": [
        "DEBUG:FFC:  Removing unused variable: tmp7\n"
       ]
      },
      {
       "output_type": "stream",
       "stream": "stderr",
       "text": [
        "DEBUG:FFC:  Removing unused variable: tmp6\n"
       ]
      },
      {
       "output_type": "stream",
       "stream": "stderr",
       "text": [
        "DEBUG:FFC:  Removing unused variable: tmp5\n"
       ]
      },
      {
       "output_type": "stream",
       "stream": "stderr",
       "text": [
        "DEBUG:FFC:  Removing unused variable: tt\n"
       ]
      },
      {
       "output_type": "stream",
       "stream": "stderr",
       "text": [
        "DEBUG:FFC:  Removing unused variable: ss\n"
       ]
      },
      {
       "output_type": "stream",
       "stream": "stderr",
       "text": [
        "DEBUG:FFC:  Removing unused variable: rr\n"
       ]
      },
      {
       "output_type": "stream",
       "stream": "stderr",
       "text": [
        "DEBUG:FFC:  Removing unused variable: tmp2\n"
       ]
      },
      {
       "output_type": "stream",
       "stream": "stderr",
       "text": [
        "DEBUG:FFC:  Removing unused variable: tmp1\n"
       ]
      },
      {
       "output_type": "stream",
       "stream": "stderr",
       "text": [
        "DEBUG:FFC:  Removing unused variable: tmp7\n"
       ]
      },
      {
       "output_type": "stream",
       "stream": "stderr",
       "text": [
        "DEBUG:FFC:  Removing unused variable: tmp6\n"
       ]
      },
      {
       "output_type": "stream",
       "stream": "stderr",
       "text": [
        "DEBUG:FFC:  Removing unused variable: tmp5\n"
       ]
      },
      {
       "output_type": "stream",
       "stream": "stderr",
       "text": [
        "DEBUG:FFC:  Removing unused variable: tt\n"
       ]
      },
      {
       "output_type": "stream",
       "stream": "stderr",
       "text": [
        "DEBUG:FFC:  Removing unused variable: ss\n"
       ]
      },
      {
       "output_type": "stream",
       "stream": "stderr",
       "text": [
        "DEBUG:FFC:  Removing unused variable: rr\n"
       ]
      },
      {
       "output_type": "stream",
       "stream": "stderr",
       "text": [
        "DEBUG:FFC:  Removing unused variable: tmp2\n"
       ]
      },
      {
       "output_type": "stream",
       "stream": "stderr",
       "text": [
        "DEBUG:FFC:  Removing unused variable: tmp1\n"
       ]
      },
      {
       "output_type": "stream",
       "stream": "stderr",
       "text": [
        "DEBUG:FFC:  Removing unused variable: tmp7\n"
       ]
      },
      {
       "output_type": "stream",
       "stream": "stderr",
       "text": [
        "DEBUG:FFC:  Removing unused variable: tmp6\n"
       ]
      },
      {
       "output_type": "stream",
       "stream": "stderr",
       "text": [
        "DEBUG:FFC:  Removing unused variable: tmp5\n"
       ]
      },
      {
       "output_type": "stream",
       "stream": "stderr",
       "text": [
        "DEBUG:FFC:  Removing unused variable: tt\n"
       ]
      },
      {
       "output_type": "stream",
       "stream": "stderr",
       "text": [
        "DEBUG:FFC:  Removing unused variable: ss\n"
       ]
      },
      {
       "output_type": "stream",
       "stream": "stderr",
       "text": [
        "DEBUG:FFC:  Removing unused variable: rr\n"
       ]
      },
      {
       "output_type": "stream",
       "stream": "stderr",
       "text": [
        "DEBUG:FFC:  Removing unused variable: tmp2\n"
       ]
      },
      {
       "output_type": "stream",
       "stream": "stderr",
       "text": [
        "DEBUG:FFC:  Removing unused variable: tmp1\n"
       ]
      },
      {
       "output_type": "stream",
       "stream": "stderr",
       "text": [
        "DEBUG:FFC:  Removing unused variable: tmp7\n"
       ]
      },
      {
       "output_type": "stream",
       "stream": "stderr",
       "text": [
        "DEBUG:FFC:  Removing unused variable: tmp6\n"
       ]
      },
      {
       "output_type": "stream",
       "stream": "stderr",
       "text": [
        "DEBUG:FFC:  Removing unused variable: tmp5\n"
       ]
      },
      {
       "output_type": "stream",
       "stream": "stderr",
       "text": [
        "DEBUG:FFC:  Removing unused variable: tt\n"
       ]
      },
      {
       "output_type": "stream",
       "stream": "stderr",
       "text": [
        "DEBUG:FFC:  Removing unused variable: ss\n"
       ]
      },
      {
       "output_type": "stream",
       "stream": "stderr",
       "text": [
        "DEBUG:FFC:  Removing unused variable: rr\n"
       ]
      },
      {
       "output_type": "stream",
       "stream": "stderr",
       "text": [
        "DEBUG:FFC:  Removing unused variable: tmp2\n"
       ]
      },
      {
       "output_type": "stream",
       "stream": "stderr",
       "text": [
        "DEBUG:FFC:  Removing unused variable: tmp1\n"
       ]
      },
      {
       "output_type": "stream",
       "stream": "stderr",
       "text": [
        "DEBUG:FFC:  Removing unused variable: tmp0\n"
       ]
      },
      {
       "output_type": "stream",
       "stream": "stderr",
       "text": [
        "DEBUG:FFC:  Removing unused variable: tmp7\n"
       ]
      },
      {
       "output_type": "stream",
       "stream": "stderr",
       "text": [
        "DEBUG:FFC:  Removing unused variable: tmp6\n"
       ]
      },
      {
       "output_type": "stream",
       "stream": "stderr",
       "text": [
        "DEBUG:FFC:  Removing unused variable: tmp5\n"
       ]
      },
      {
       "output_type": "stream",
       "stream": "stderr",
       "text": [
        "DEBUG:FFC:  Removing unused variable: tt\n"
       ]
      },
      {
       "output_type": "stream",
       "stream": "stderr",
       "text": [
        "DEBUG:FFC:  Removing unused variable: ss\n"
       ]
      },
      {
       "output_type": "stream",
       "stream": "stderr",
       "text": [
        "DEBUG:FFC:  Removing unused variable: rr\n"
       ]
      },
      {
       "output_type": "stream",
       "stream": "stderr",
       "text": [
        "DEBUG:FFC:  Removing unused variable: tmp2\n"
       ]
      },
      {
       "output_type": "stream",
       "stream": "stderr",
       "text": [
        "DEBUG:FFC:  Removing unused variable: tmp1\n"
       ]
      },
      {
       "output_type": "stream",
       "stream": "stderr",
       "text": [
        "DEBUG:FFC:  Removing unused variable: tmp0\n"
       ]
      },
      {
       "output_type": "stream",
       "stream": "stderr",
       "text": [
        "DEBUG:FFC:  Removing unused variable: tmp7\n"
       ]
      },
      {
       "output_type": "stream",
       "stream": "stderr",
       "text": [
        "DEBUG:FFC:  Removing unused variable: tmp6\n"
       ]
      },
      {
       "output_type": "stream",
       "stream": "stderr",
       "text": [
        "DEBUG:FFC:  Removing unused variable: tmp5\n"
       ]
      },
      {
       "output_type": "stream",
       "stream": "stderr",
       "text": [
        "DEBUG:FFC:  Removing unused variable: tt\n"
       ]
      },
      {
       "output_type": "stream",
       "stream": "stderr",
       "text": [
        "DEBUG:FFC:  Removing unused variable: ss\n"
       ]
      },
      {
       "output_type": "stream",
       "stream": "stderr",
       "text": [
        "DEBUG:FFC:  Removing unused variable: rr\n"
       ]
      },
      {
       "output_type": "stream",
       "stream": "stderr",
       "text": [
        "INFO:FFC:  Generating code for 3 dofmap(s)\n"
       ]
      },
      {
       "output_type": "stream",
       "stream": "stderr",
       "text": [
        "INFO:FFC:  Generating code for integrals\n"
       ]
      },
      {
       "output_type": "stream",
       "stream": "stderr",
       "text": [
        "DEBUG:FFC:  Removing unused variable: circumradius\n"
       ]
      },
      {
       "output_type": "stream",
       "stream": "stderr",
       "text": [
        "DEBUG:FFC:  Removing unused variable: v0v1\n"
       ]
      },
      {
       "output_type": "stream",
       "stream": "stderr",
       "text": [
        "DEBUG:FFC:  Removing unused variable: v0v2\n"
       ]
      },
      {
       "output_type": "stream",
       "stream": "stderr",
       "text": [
        "DEBUG:FFC:  Removing unused variable: v1v2\n"
       ]
      },
      {
       "output_type": "stream",
       "stream": "stderr",
       "text": [
        "DEBUG:FFC:  Removing unused variable: volume\n"
       ]
      },
      {
       "output_type": "stream",
       "stream": "stderr",
       "text": [
        "DEBUG:FFC:  Removing unused variable: circumradius\n"
       ]
      },
      {
       "output_type": "stream",
       "stream": "stderr",
       "text": [
        "DEBUG:FFC:  Removing unused variable: v0v1\n"
       ]
      },
      {
       "output_type": "stream",
       "stream": "stderr",
       "text": [
        "DEBUG:FFC:  Removing unused variable: v0v2\n"
       ]
      },
      {
       "output_type": "stream",
       "stream": "stderr",
       "text": [
        "DEBUG:FFC:  Removing unused variable: v1v2\n"
       ]
      },
      {
       "output_type": "stream",
       "stream": "stderr",
       "text": [
        "DEBUG:FFC:  Removing unused variable: volume\n"
       ]
      },
      {
       "output_type": "stream",
       "stream": "stderr",
       "text": [
        "DEBUG:FFC:  Removing unused variable: facet_area\n"
       ]
      },
      {
       "output_type": "stream",
       "stream": "stderr",
       "text": [
        "DEBUG:FFC:  Removing unused variable: n1\n"
       ]
      },
      {
       "output_type": "stream",
       "stream": "stderr",
       "text": [
        "DEBUG:FFC:  Removing unused variable: n0\n"
       ]
      },
      {
       "output_type": "stream",
       "stream": "stderr",
       "text": [
        "DEBUG:FFC:  Removing unused variable: direction\n"
       ]
      },
      {
       "output_type": "stream",
       "stream": "stderr",
       "text": [
        "INFO:FFC:  Generating code for forms\n"
       ]
      },
      {
       "output_type": "stream",
       "stream": "stderr",
       "text": [
        "INFO:FFC:  \n"
       ]
      },
      {
       "output_type": "stream",
       "stream": "stderr",
       "text": [
        "INFO:FFC:Compiler stage 4 finished in 0.12725 seconds.\n",
        "\n"
       ]
      },
      {
       "output_type": "stream",
       "stream": "stderr",
       "text": [
        "INFO:FFC:Compiler stage 4.1 finished in 4.05312e-06 seconds.\n",
        "\n"
       ]
      },
      {
       "output_type": "stream",
       "stream": "stderr",
       "text": [
        "INFO:FFC:Compiler stage 5: Formatting code\n"
       ]
      },
      {
       "output_type": "stream",
       "stream": "stderr",
       "text": [
        "INFO:FFC:---------------------------------\n"
       ]
      },
      {
       "output_type": "stream",
       "stream": "stderr",
       "text": [
        "INFO:FFC:  Output written to ./ffc_form_fd6b7e1635c4c3acc2f122fe266c497cd471deaa.h.\n"
       ]
      },
      {
       "output_type": "stream",
       "stream": "stderr",
       "text": [
        "INFO:FFC:  \n"
       ]
      },
      {
       "output_type": "stream",
       "stream": "stderr",
       "text": [
        "INFO:FFC:Compiler stage 5 finished in 0.00195217 seconds.\n",
        "\n"
       ]
      },
      {
       "output_type": "stream",
       "stream": "stderr",
       "text": [
        "INFO:FFC:\u001b[1;37;32mFFC finished in 0.357449 seconds.\u001b[0m\n"
       ]
      },
      {
       "output_type": "stream",
       "stream": "stderr",
       "text": [
        "DEBUG:FFC:Compiling and linking Python extension module, this may take some time.\n"
       ]
      },
      {
       "output_type": "stream",
       "stream": "stdout",
       "text": [
        "Calling FFC just-in-time (JIT) compiler, this may take some time.\n"
       ]
      },
      {
       "output_type": "stream",
       "stream": "stderr",
       "text": [
        "Level 25:FFC:Calling FFC just-in-time (JIT) compiler, this may take some time.\n"
       ]
      },
      {
       "output_type": "stream",
       "stream": "stderr",
       "text": [
        "INFO:FFC:Compiling form ffc_form_2a925775b962069a34fdf4d9deca987821d25a86\n",
        "\n"
       ]
      },
      {
       "output_type": "stream",
       "stream": "stderr",
       "text": [
        "INFO:FFC:Compiler stage 1: Analyzing form(s)\n"
       ]
      },
      {
       "output_type": "stream",
       "stream": "stderr",
       "text": [
        "INFO:FFC:-----------------------------------\n"
       ]
      },
      {
       "output_type": "stream",
       "stream": "stderr",
       "text": [
        "INFO:UFL:Adjusting missing element domain to <Domain built from <triangle cell in 2D> with label dolfin_mesh_with_id_4834>.\n"
       ]
      },
      {
       "output_type": "stream",
       "stream": "stderr",
       "text": [
        "INFO:UFL:Adjusting missing element domain to <Domain built from <triangle cell in 2D> with label dolfin_mesh_with_id_4834>.\n"
       ]
      },
      {
       "output_type": "stream",
       "stream": "stderr",
       "text": [
        "INFO:FFC:  \n"
       ]
      },
      {
       "output_type": "stream",
       "stream": "stderr",
       "text": [
        "INFO:FFC:  Geometric dimension:                 2\n",
        "  Number of cell subdomains:           0\n",
        "  Number of exterior_facet subdomains: 11\n",
        "  Rank:                                2\n",
        "  Arguments:                           '(v_0, v_1)'\n",
        "  Number of coefficients:              2\n",
        "  Coefficients:                        '[f_387, f_4853]'\n",
        "  Unique elements:                     'Mixed<CG1(?), R0(?), R0(?)>, R0(?)'\n",
        "  Unique sub elements:                 'Mixed<CG1(?), R0(?), R0(?)>, R0(?), CG1(?)'\n",
        "  \n"
       ]
      },
      {
       "output_type": "stream",
       "stream": "stderr",
       "text": [
        "INFO:FFC:  Extracting monomial form representation from UFL form\n"
       ]
      },
      {
       "output_type": "stream",
       "stream": "stderr",
       "text": [
        "DEBUG:FFC:  Monomial extraction failed: No handler defined for expression Division.\n"
       ]
      },
      {
       "output_type": "stream",
       "stream": "stderr",
       "text": [
        "DEBUG:FFC:  Estimated cost of tensor representation: -1\n"
       ]
      },
      {
       "output_type": "stream",
       "stream": "stderr",
       "text": [
        "INFO:FFC:  representation:    auto --> quadrature\n"
       ]
      },
      {
       "output_type": "stream",
       "stream": "stderr",
       "text": [
        "DEBUG:FFC:  Selecting quadrature degree based on total polynomial degree of integrand: 2\n"
       ]
      },
      {
       "output_type": "stream",
       "stream": "stderr",
       "text": [
        "INFO:FFC:  quadrature_degree: auto --> 2\n"
       ]
      },
      {
       "output_type": "stream",
       "stream": "stderr",
       "text": [
        "INFO:FFC:  quadrature_rule:   auto --> default\n"
       ]
      },
      {
       "output_type": "stream",
       "stream": "stderr",
       "text": [
        "INFO:FFC:  Extracting monomial form representation from UFL form\n"
       ]
      },
      {
       "output_type": "stream",
       "stream": "stderr",
       "text": [
        "DEBUG:FFC:  Monomial extraction failed: No handler defined for expression Division.\n"
       ]
      },
      {
       "output_type": "stream",
       "stream": "stderr",
       "text": [
        "DEBUG:FFC:  Estimated cost of tensor representation: -1\n"
       ]
      },
      {
       "output_type": "stream",
       "stream": "stderr",
       "text": [
        "INFO:FFC:  representation:    auto --> quadrature\n"
       ]
      },
      {
       "output_type": "stream",
       "stream": "stderr",
       "text": [
        "DEBUG:FFC:  Selecting quadrature degree based on total polynomial degree of integrand: 2\n"
       ]
      },
      {
       "output_type": "stream",
       "stream": "stderr",
       "text": [
        "INFO:FFC:  quadrature_degree: auto --> 2\n"
       ]
      },
      {
       "output_type": "stream",
       "stream": "stderr",
       "text": [
        "INFO:FFC:  quadrature_rule:   auto --> default\n"
       ]
      },
      {
       "output_type": "stream",
       "stream": "stderr",
       "text": [
        "INFO:FFC:  \n"
       ]
      },
      {
       "output_type": "stream",
       "stream": "stderr",
       "text": [
        "INFO:FFC:Compiler stage 1 finished in 0.057353 seconds.\n",
        "\n"
       ]
      },
      {
       "output_type": "stream",
       "stream": "stderr",
       "text": [
        "INFO:FFC:Compiler stage 2: Computing intermediate representation\n"
       ]
      },
      {
       "output_type": "stream",
       "stream": "stderr",
       "text": [
        "INFO:FFC:-------------------------------------------------------\n"
       ]
      },
      {
       "output_type": "stream",
       "stream": "stderr",
       "text": [
        "INFO:FFC:  Computing representation of 3 elements\n"
       ]
      },
      {
       "output_type": "stream",
       "stream": "stderr",
       "text": [
        "DEBUG:FFC:  Reusing element from cache\n"
       ]
      },
      {
       "output_type": "stream",
       "stream": "stderr",
       "text": [
        "DEBUG:FFC:  Reusing element from cache\n"
       ]
      },
      {
       "output_type": "stream",
       "stream": "stderr",
       "text": [
        "DEBUG:FFC:  Reusing element from cache\n"
       ]
      },
      {
       "output_type": "stream",
       "stream": "stderr",
       "text": [
        "DEBUG:FFC:  Reusing element from cache\n"
       ]
      },
      {
       "output_type": "stream",
       "stream": "stderr",
       "text": [
        "DEBUG:FFC:  Reusing element from cache\n"
       ]
      },
      {
       "output_type": "stream",
       "stream": "stderr",
       "text": [
        "DEBUG:FFC:  Reusing element from cache\n"
       ]
      },
      {
       "output_type": "stream",
       "stream": "stderr",
       "text": [
        "INFO:FFC:  Computing representation of 3 dofmaps\n"
       ]
      },
      {
       "output_type": "stream",
       "stream": "stderr",
       "text": [
        "DEBUG:FFC:  Reusing element from cache\n"
       ]
      },
      {
       "output_type": "stream",
       "stream": "stderr",
       "text": [
        "DEBUG:FFC:  Reusing element from cache\n"
       ]
      },
      {
       "output_type": "stream",
       "stream": "stderr",
       "text": [
        "DEBUG:FFC:  Reusing element from cache\n"
       ]
      },
      {
       "output_type": "stream",
       "stream": "stderr",
       "text": [
        "INFO:FFC:  Computing representation of integrals\n"
       ]
      },
      {
       "output_type": "stream",
       "stream": "stderr",
       "text": [
        "INFO:FFC:  Computing quadrature representation\n"
       ]
      },
      {
       "output_type": "stream",
       "stream": "stderr",
       "text": [
        "DEBUG:FFC:  Reusing element from cache\n"
       ]
      },
      {
       "output_type": "stream",
       "stream": "stderr",
       "text": [
        "DEBUG:FFC:  Reusing element from cache\n"
       ]
      },
      {
       "output_type": "stream",
       "stream": "stderr",
       "text": [
        "DEBUG:FFC:  Reusing element from cache\n"
       ]
      },
      {
       "output_type": "stream",
       "stream": "stderr",
       "text": [
        "DEBUG:FFC:  Reusing element from cache\n"
       ]
      },
      {
       "output_type": "stream",
       "stream": "stderr",
       "text": [
        "DEBUG:FFC:  Reusing element from cache\n"
       ]
      },
      {
       "output_type": "stream",
       "stream": "stderr",
       "text": [
        "DEBUG:FFC:  Reusing element from cache\n"
       ]
      },
      {
       "output_type": "stream",
       "stream": "stderr",
       "text": [
        "DEBUG:FFC:  Reusing element from cache\n"
       ]
      },
      {
       "output_type": "stream",
       "stream": "stderr",
       "text": [
        "DEBUG:FFC:  \n",
        "  QG-utils, psi_tables:\n",
        "  {3: {FiniteElement('Real', Domain(Cell('triangle', 2), label='dolfin_mesh_with_id_4834', data='<data with id 4834>'), 0, quad_scheme=None): {None: {None: {(0, 0): array([[ 1.,  1.,  1.]])}}}, MixedElement(*[FiniteElement('Lagrange', Domain(Cell('triangle', 2), label='dolfin_mesh_with_id_4834', data='<data with id 4834>'), 1, quad_scheme=None), FiniteElement('Real', Domain(Cell('triangle', 2), label='dolfin_mesh_with_id_4834', data='<data with id 4834>'), 0, quad_scheme=None), FiniteElement('Real', Domain(Cell('triangle', 2), label='dolfin_mesh_with_id_4834', data='<data with id 4834>'), 0, quad_scheme=None)], **{'value_shape': (3,) }): {None: {None: {(0, 1): array([[[ -1.00000000e+00,  -1.00000000e+00,  -1.00000000e+00],\n",
        "          [  0.00000000e+00,   0.00000000e+00,   0.00000000e+00],\n",
        "          [  0.00000000e+00,   0.00000000e+00,   0.00000000e+00]],\n",
        "  \n",
        "         [[  8.88178420e-16,   8.88178420e-16,   8.88178420e-16],\n",
        "          [  0.00000000e+00,   0.00000000e+00,   0.00000000e+00],\n",
        "          [  0.00000000e+00,   0.00000000e+00,   0.00000000e+00]],\n",
        "  \n",
        "         [[  1.00000000e+00,   1.00000000e+00,   1.00000000e+00],\n",
        "          [  0.00000000e+00,   0.00000000e+00,   0.00000000e+00],\n",
        "          [  0.00000000e+00,   0.00000000e+00,   0.00000000e+00]],\n",
        "  \n",
        "         [[  0.00000000e+00,   0.00000000e+00,   0.00000000e+00],\n",
        "          [  0.00000000e+00,   0.00000000e+00,   0.00000000e+00],\n",
        "          [  0.00000000e+00,   0.00000000e+00,   0.00000000e+00]],\n",
        "  \n",
        "         [[  0.00000000e+00,   0.00000000e+00,   0.00000000e+00],\n",
        "          [  0.00000000e+00,   0.00000000e+00,   0.00000000e+00],\n",
        "          [  0.00000000e+00,   0.00000000e+00,   0.00000000e+00]]]), (1, 0): array([[[-1., -1., -1.],\n",
        "          [ 0.,  0.,  0.],\n",
        "          [ 0.,  0.,  0.]],\n",
        "  \n",
        "         [[ 1.,  1.,  1.],\n",
        "          [ 0.,  0.,  0.],\n",
        "          [ 0.,  0.,  0.]],\n",
        "  \n",
        "         [[ 0.,  0.,  0.],\n",
        "          [ 0.,  0.,  0.],\n",
        "          [ 0.,  0.,  0.]],\n",
        "  \n",
        "         [[ 0.,  0.,  0.],\n",
        "          [ 0.,  0.,  0.],\n",
        "          [ 0.,  0.,  0.]],\n",
        "  \n",
        "         [[ 0.,  0.,  0.],\n",
        "          [ 0.,  0.,  0.],\n",
        "          [ 0.,  0.,  0.]]]), (0, 0): array([[[ 0.66666667,  0.16666667,  0.16666667],\n",
        "          [ 0.        ,  0.        ,  0.        ],\n",
        "          [ 0.        ,  0.        ,  0.        ]],\n",
        "  \n",
        "         [[ 0.16666667,  0.16666667,  0.66666667],\n",
        "          [ 0.        ,  0.        ,  0.        ],\n",
        "          [ 0.        ,  0.        ,  0.        ]],\n",
        "  \n",
        "         [[ 0.16666667,  0.66666667,  0.16666667],\n",
        "          [ 0.        ,  0.        ,  0.        ],\n",
        "          [ 0.        ,  0.        ,  0.        ]],\n",
        "  \n",
        "         [[ 0.        ,  0.        ,  0.        ],\n",
        "          [ 1.        ,  1.        ,  1.        ],\n",
        "          [ 0.        ,  0.        ,  0.        ]],\n",
        "  \n",
        "         [[ 0.        ,  0.        ,  0.        ],\n",
        "          [ 0.        ,  0.        ,  0.        ],\n",
        "          [ 1.        ,  1.        ,  1.        ]]])}}}, VectorElement('Lagrange', Domain(Cell('triangle', 2), label='dolfin_mesh_with_id_4834', data='<data with id 4834>'), 1, dim=2, quad_scheme=None): {None: {None: {(0, 1): array([[[ -1.00000000e+00,  -1.00000000e+00,  -1.00000000e+00],\n",
        "          [  0.00000000e+00,   0.00000000e+00,   0.00000000e+00]],\n",
        "  \n",
        "         [[  8.88178420e-16,   8.88178420e-16,   8.88178420e-16],\n",
        "          [  0.00000000e+00,   0.00000000e+00,   0.00000000e+00]],\n",
        "  \n",
        "         [[  1.00000000e+00,   1.00000000e+00,   1.00000000e+00],\n",
        "          [  0.00000000e+00,   0.00000000e+00,   0.00000000e+00]],\n",
        "  \n",
        "         [[  0.00000000e+00,   0.00000000e+00,   0.00000000e+00],\n",
        "          [ -1.00000000e+00,  -1.00000000e+00,  -1.00000000e+00]],\n",
        "  \n",
        "         [[  0.00000000e+00,   0.00000000e+00,   0.00000000e+00],\n",
        "          [  8.88178420e-16,   8.88178420e-16,   8.88178420e-16]],\n",
        "  \n",
        "         [[  0.00000000e+00,   0.00000000e+00,   0.00000000e+00],\n",
        "          [  1.00000000e+00,   1.00000000e+00,   1.00000000e+00]]]), (1, 0): array([[[-1., -1., -1.],\n",
        "          [ 0.,  0.,  0.]],\n",
        "  \n",
        "         [[ 1.,  1.,  1.],\n",
        "          [ 0.,  0.,  0.]],\n",
        "  \n",
        "         [[ 0.,  0.,  0.],\n",
        "          [ 0.,  0.,  0.]],\n",
        "  \n",
        "         [[ 0.,  0.,  0.],\n",
        "          [-1., -1., -1.]],\n",
        "  \n",
        "         [[ 0.,  0.,  0.],\n",
        "          [ 1.,  1.,  1.]],\n",
        "  \n",
        "         [[ 0.,  0.,  0.],\n",
        "          [ 0.,  0.,  0.]]]), (0, 0): array([[[ 0.66666667,  0.16666667,  0.16666667],\n",
        "          [ 0.        ,  0.        ,  0.        ]],\n",
        "  \n",
        "         [[ 0.16666667,  0.16666667,  0.66666667],\n",
        "          [ 0.        ,  0.        ,  0.        ]],\n",
        "  \n",
        "         [[ 0.16666667,  0.66666667,  0.16666667],\n",
        "          [ 0.        ,  0.        ,  0.        ]],\n",
        "  \n",
        "         [[ 0.        ,  0.        ,  0.        ],\n",
        "          [ 0.66666667,  0.16666667,  0.16666667]],\n",
        "  \n",
        "         [[ 0.        ,  0.        ,  0.        ],\n",
        "          [ 0.16666667,  0.16666667,  0.66666667]],\n",
        "  \n",
        "         [[ 0.        ,  0.        ,  0.        ],\n",
        "          [ 0.16666667,  0.66666667,  0.16666667]]])}}}}}\n"
       ]
      },
      {
       "output_type": "stream",
       "stream": "stderr",
       "text": [
        "DEBUG:FFC:  \n",
        "  QG-utils, psi_tables, flat_tables:\n",
        "  {'FE0_C1_D01': array([[  0.00000000e+00,   0.00000000e+00,   0.00000000e+00,\n",
        "           -1.00000000e+00,   8.88178420e-16,   1.00000000e+00],\n",
        "         [  0.00000000e+00,   0.00000000e+00,   0.00000000e+00,\n",
        "           -1.00000000e+00,   8.88178420e-16,   1.00000000e+00],\n",
        "         [  0.00000000e+00,   0.00000000e+00,   0.00000000e+00,\n",
        "           -1.00000000e+00,   8.88178420e-16,   1.00000000e+00]]), 'FE1_C0': array([[ 0.66666667,  0.16666667,  0.16666667,  0.        ,  0.        ],\n",
        "         [ 0.16666667,  0.16666667,  0.66666667,  0.        ,  0.        ],\n",
        "         [ 0.16666667,  0.66666667,  0.16666667,  0.        ,  0.        ]]), 'FE1_C1': array([[ 0.,  0.,  0.,  1.,  0.],\n",
        "         [ 0.,  0.,  0.,  1.,  0.],\n",
        "         [ 0.,  0.,  0.,  1.,  0.]]), 'FE1_C2': array([[ 0.,  0.,  0.,  0.,  1.],\n",
        "         [ 0.,  0.,  0.,  0.,  1.],\n",
        "         [ 0.,  0.,  0.,  0.,  1.]]), 'FE0_C1_D10': array([[ 0.,  0.,  0., -1.,  1.,  0.],\n",
        "         [ 0.,  0.,  0., -1.,  1.,  0.],\n",
        "         [ 0.,  0.,  0., -1.,  1.,  0.]]), 'FE1_C1_D10': array([[ 0.,  0.,  0.,  0.,  0.],\n",
        "         [ 0.,  0.,  0.,  0.,  0.],\n",
        "         [ 0.,  0.,  0.,  0.,  0.]]), 'FE1_C2_D10': array([[ 0.,  0.,  0.,  0.,  0.],\n",
        "         [ 0.,  0.,  0.,  0.,  0.],\n",
        "         [ 0.,  0.,  0.,  0.,  0.]]), 'FE0_C0_D10': array([[-1.,  1.,  0.,  0.,  0.,  0.],\n",
        "         [-1.,  1.,  0.,  0.,  0.,  0.],\n",
        "         [-1.,  1.,  0.,  0.,  0.,  0.]]), 'FE0_C0_D01': array([[ -1.00000000e+00,   8.88178420e-16,   1.00000000e+00,\n",
        "            0.00000000e+00,   0.00000000e+00,   0.00000000e+00],\n",
        "         [ -1.00000000e+00,   8.88178420e-16,   1.00000000e+00,\n",
        "            0.00000000e+00,   0.00000000e+00,   0.00000000e+00],\n",
        "         [ -1.00000000e+00,   8.88178420e-16,   1.00000000e+00,\n",
        "            0.00000000e+00,   0.00000000e+00,   0.00000000e+00]]), 'FE2': array([[ 1.],\n",
        "         [ 1.],\n",
        "         [ 1.]]), 'FE1_C2_D01': array([[ 0.,  0.,  0.,  0.,  0.],\n",
        "         [ 0.,  0.,  0.,  0.,  0.],\n",
        "         [ 0.,  0.,  0.,  0.,  0.]]), 'FE1_C1_D01': array([[ 0.,  0.,  0.,  0.,  0.],\n",
        "         [ 0.,  0.,  0.,  0.,  0.],\n",
        "         [ 0.,  0.,  0.,  0.,  0.]]), 'FE1_C0_D01': array([[ -1.00000000e+00,   8.88178420e-16,   1.00000000e+00,\n",
        "            0.00000000e+00,   0.00000000e+00],\n",
        "         [ -1.00000000e+00,   8.88178420e-16,   1.00000000e+00,\n",
        "            0.00000000e+00,   0.00000000e+00],\n",
        "         [ -1.00000000e+00,   8.88178420e-16,   1.00000000e+00,\n",
        "            0.00000000e+00,   0.00000000e+00]]), 'FE1_C0_D10': array([[-1.,  1.,  0.,  0.,  0.],\n",
        "         [-1.,  1.,  0.,  0.,  0.],\n",
        "         [-1.,  1.,  0.,  0.,  0.]]), 'FE0_C1': array([[ 0.        ,  0.        ,  0.        ,  0.66666667,  0.16666667,\n",
        "           0.16666667],\n",
        "         [ 0.        ,  0.        ,  0.        ,  0.16666667,  0.16666667,\n",
        "           0.66666667],\n",
        "         [ 0.        ,  0.        ,  0.        ,  0.16666667,  0.66666667,\n",
        "           0.16666667]]), 'FE0_C0': array([[ 0.66666667,  0.16666667,  0.16666667,  0.        ,  0.        ,\n",
        "           0.        ],\n",
        "         [ 0.16666667,  0.16666667,  0.66666667,  0.        ,  0.        ,\n",
        "           0.        ],\n",
        "         [ 0.16666667,  0.66666667,  0.16666667,  0.        ,  0.        ,\n",
        "           0.        ]])}\n"
       ]
      },
      {
       "output_type": "stream",
       "stream": "stderr",
       "text": [
        "DEBUG:FFC:  \n",
        "  tables: {'FE0_C1_D01': array([[  0.00000000e+00,   0.00000000e+00,   0.00000000e+00,\n",
        "           -1.00000000e+00,   8.88178420e-16,   1.00000000e+00],\n",
        "         [  0.00000000e+00,   0.00000000e+00,   0.00000000e+00,\n",
        "           -1.00000000e+00,   8.88178420e-16,   1.00000000e+00],\n",
        "         [  0.00000000e+00,   0.00000000e+00,   0.00000000e+00,\n",
        "           -1.00000000e+00,   8.88178420e-16,   1.00000000e+00]]), 'FE1_C0': array([[ 0.66666667,  0.16666667,  0.16666667,  0.        ,  0.        ],\n",
        "         [ 0.16666667,  0.16666667,  0.66666667,  0.        ,  0.        ],\n",
        "         [ 0.16666667,  0.66666667,  0.16666667,  0.        ,  0.        ]]), 'FE1_C1': array([[ 0.,  0.,  0.,  1.,  0.],\n",
        "         [ 0.,  0.,  0.,  1.,  0.],\n",
        "         [ 0.,  0.,  0.,  1.,  0.]]), 'FE1_C2': array([[ 0.,  0.,  0.,  0.,  1.],\n",
        "         [ 0.,  0.,  0.,  0.,  1.],\n",
        "         [ 0.,  0.,  0.,  0.,  1.]]), 'FE0_C1_D10': array([[ 0.,  0.,  0., -1.,  1.,  0.],\n",
        "         [ 0.,  0.,  0., -1.,  1.,  0.],\n",
        "         [ 0.,  0.,  0., -1.,  1.,  0.]]), 'FE0_C0_D10': array([[-1.,  1.,  0.,  0.,  0.,  0.],\n",
        "         [-1.,  1.,  0.,  0.,  0.,  0.],\n",
        "         [-1.,  1.,  0.,  0.,  0.,  0.]]), 'FE0_C0_D01': array([[ -1.00000000e+00,   8.88178420e-16,   1.00000000e+00,\n",
        "            0.00000000e+00,   0.00000000e+00,   0.00000000e+00],\n",
        "         [ -1.00000000e+00,   8.88178420e-16,   1.00000000e+00,\n",
        "            0.00000000e+00,   0.00000000e+00,   0.00000000e+00],\n",
        "         [ -1.00000000e+00,   8.88178420e-16,   1.00000000e+00,\n",
        "            0.00000000e+00,   0.00000000e+00,   0.00000000e+00]]), 'FE2': array([[ 1.],\n",
        "         [ 1.],\n",
        "         [ 1.]]), 'FE1_C1_D01': array([[ 0.,  0.,  0.,  0.,  0.],\n",
        "         [ 0.,  0.,  0.,  0.,  0.],\n",
        "         [ 0.,  0.,  0.,  0.,  0.]]), 'FE1_C0_D01': array([[ -1.00000000e+00,   8.88178420e-16,   1.00000000e+00,\n",
        "            0.00000000e+00,   0.00000000e+00],\n",
        "         [ -1.00000000e+00,   8.88178420e-16,   1.00000000e+00,\n",
        "            0.00000000e+00,   0.00000000e+00],\n",
        "         [ -1.00000000e+00,   8.88178420e-16,   1.00000000e+00,\n",
        "            0.00000000e+00,   0.00000000e+00]]), 'FE1_C0_D10': array([[-1.,  1.,  0.,  0.,  0.],\n",
        "         [-1.,  1.,  0.,  0.,  0.],\n",
        "         [-1.,  1.,  0.,  0.,  0.]]), 'FE0_C1': array([[ 0.        ,  0.        ,  0.        ,  0.66666667,  0.16666667,\n",
        "           0.16666667],\n",
        "         [ 0.        ,  0.        ,  0.        ,  0.16666667,  0.16666667,\n",
        "           0.66666667],\n",
        "         [ 0.        ,  0.        ,  0.        ,  0.16666667,  0.66666667,\n",
        "           0.16666667]]), 'FE0_C0': array([[ 0.66666667,  0.16666667,  0.16666667,  0.        ,  0.        ,\n",
        "           0.        ],\n",
        "         [ 0.16666667,  0.16666667,  0.66666667,  0.        ,  0.        ,\n",
        "           0.        ],\n",
        "         [ 0.16666667,  0.66666667,  0.16666667,  0.        ,  0.        ,\n",
        "           0.        ]])}\n"
       ]
      },
      {
       "output_type": "stream",
       "stream": "stderr",
       "text": [
        "DEBUG:FFC:  \n",
        "  name_map: {'FE1_C1_D01': ['FE1_C1_D10', 'FE1_C2_D01', 'FE1_C2_D10']}\n"
       ]
      },
      {
       "output_type": "stream",
       "stream": "stderr",
       "text": [
        "DEBUG:FFC:  \n",
        "  inv_name_map: {'FE0_C1_D01': 'FE0_C1_D01', 'FE1_C0': 'FE1_C0', 'FE1_C1': 'FE1_C1', 'FE1_C2': 'FE1_C2', 'FE0_C1_D10': 'FE0_C1_D10', 'FE1_C1_D10': 'FE1_C1_D01', 'FE1_C2_D10': 'FE1_C1_D01', 'FE0_C0_D10': 'FE0_C0_D10', 'FE0_C0_D01': 'FE0_C0_D01', 'FE2': 'FE2', 'FE1_C2_D01': 'FE1_C1_D01', 'FE1_C1_D01': 'FE1_C1_D01', 'FE1_C0_D01': 'FE1_C0_D01', 'FE1_C0_D10': 'FE1_C0_D10', 'FE0_C1': 'FE0_C1', 'FE0_C0': 'FE0_C0'}\n"
       ]
      },
      {
       "output_type": "stream",
       "stream": "stderr",
       "text": [
        "DEBUG:FFC:  \n",
        "  QG-utils, psi_tables, unique_tables:\n",
        "  {'FE0_C1_D01': array([[ 0.,  0.,  0., -1.,  0.,  1.],\n",
        "         [ 0.,  0.,  0., -1.,  0.,  1.],\n",
        "         [ 0.,  0.,  0., -1.,  0.,  1.]]), 'FE1_C0': array([[ 0.66666667,  0.16666667,  0.16666667,  0.        ,  0.        ],\n",
        "         [ 0.16666667,  0.16666667,  0.66666667,  0.        ,  0.        ],\n",
        "         [ 0.16666667,  0.66666667,  0.16666667,  0.        ,  0.        ]]), 'FE1_C1': array([[ 0.,  0.,  0.,  1.,  0.],\n",
        "         [ 0.,  0.,  0.,  1.,  0.],\n",
        "         [ 0.,  0.,  0.,  1.,  0.]]), 'FE1_C2': array([[ 0.,  0.,  0.,  0.,  1.],\n",
        "         [ 0.,  0.,  0.,  0.,  1.],\n",
        "         [ 0.,  0.,  0.,  0.,  1.]]), 'FE0_C1_D10': array([[ 0.,  0.,  0., -1.,  1.,  0.],\n",
        "         [ 0.,  0.,  0., -1.,  1.,  0.],\n",
        "         [ 0.,  0.,  0., -1.,  1.,  0.]]), 'FE0_C0_D10': array([[-1.,  1.,  0.,  0.,  0.,  0.],\n",
        "         [-1.,  1.,  0.,  0.,  0.,  0.],\n",
        "         [-1.,  1.,  0.,  0.,  0.,  0.]]), 'FE0_C0_D01': array([[-1.,  0.,  1.,  0.,  0.,  0.],\n",
        "         [-1.,  0.,  1.,  0.,  0.,  0.],\n",
        "         [-1.,  0.,  1.,  0.,  0.,  0.]]), 'FE2': array([[ 1.],\n",
        "         [ 1.],\n",
        "         [ 1.]]), 'FE1_C1_D01': array([[ 0.,  0.,  0.,  0.,  0.],\n",
        "         [ 0.,  0.,  0.,  0.,  0.],\n",
        "         [ 0.,  0.,  0.,  0.,  0.]]), 'FE1_C0_D01': array([[-1.,  0.,  1.,  0.,  0.],\n",
        "         [-1.,  0.,  1.,  0.,  0.],\n",
        "         [-1.,  0.,  1.,  0.,  0.]]), 'FE1_C0_D10': array([[-1.,  1.,  0.,  0.,  0.],\n",
        "         [-1.,  1.,  0.,  0.,  0.],\n",
        "         [-1.,  1.,  0.,  0.,  0.]]), 'FE0_C1': array([[ 0.        ,  0.        ,  0.        ,  0.66666667,  0.16666667,\n",
        "           0.16666667],\n",
        "         [ 0.        ,  0.        ,  0.        ,  0.16666667,  0.16666667,\n",
        "           0.66666667],\n",
        "         [ 0.        ,  0.        ,  0.        ,  0.16666667,  0.66666667,\n",
        "           0.16666667]]), 'FE0_C0': array([[ 0.66666667,  0.16666667,  0.16666667,  0.        ,  0.        ,\n",
        "           0.        ],\n",
        "         [ 0.16666667,  0.16666667,  0.66666667,  0.        ,  0.        ,\n",
        "           0.        ],\n",
        "         [ 0.16666667,  0.66666667,  0.16666667,  0.        ,  0.        ,\n",
        "           0.        ]])}\n"
       ]
      },
      {
       "output_type": "stream",
       "stream": "stderr",
       "text": [
        "DEBUG:FFC:  \n",
        "  QG-utils, psi_tables, name_map:\n",
        "  {'FE0_C1_D01': ('FE0_C1_D01', (), False, False), 'FE1_C0': ('FE1_C0', (), False, False), 'FE1_C1': ('FE1_C1', (), False, False), 'FE1_C2': ('FE1_C2', (), False, False), 'FE0_C1_D10': ('FE0_C1_D10', (), False, False), 'FE1_C1_D10': ('FE1_C1_D01', (), True, False), 'FE1_C2_D10': ('FE1_C1_D01', (), True, False), 'FE0_C0_D10': ('FE0_C0_D10', (), False, False), 'FE0_C0_D01': ('FE0_C0_D01', (), False, False), 'FE2': ('FE2', (), False, True), 'FE1_C2_D01': ('FE1_C1_D01', (), True, False), 'FE1_C1_D01': ('FE1_C1_D01', (), True, False), 'FE1_C0_D01': ('FE1_C0_D01', (), False, False), 'FE1_C0_D10': ('FE1_C0_D10', (), False, False), 'FE0_C1': ('FE0_C1', (), False, False), 'FE0_C0': ('FE0_C0', (), False, False)}\n"
       ]
      },
      {
       "output_type": "stream",
       "stream": "stderr",
       "text": [
        "INFO:FFC:  Transforming cell integral\n"
       ]
      },
      {
       "output_type": "stream",
       "stream": "stderr",
       "text": [
        "DEBUG:FFC:  Reusing element from cache\n"
       ]
      },
      {
       "output_type": "stream",
       "stream": "stderr",
       "text": [
        "DEBUG:FFC:  Reusing element from cache\n"
       ]
      },
      {
       "output_type": "stream",
       "stream": "stderr",
       "text": [
        "DEBUG:FFC:  Reusing element from cache\n"
       ]
      },
      {
       "output_type": "stream",
       "stream": "stderr",
       "text": [
        "DEBUG:FFC:  Reusing element from cache\n"
       ]
      },
      {
       "output_type": "stream",
       "stream": "stderr",
       "text": [
        "DEBUG:FFC:  Reusing element from cache\n"
       ]
      },
      {
       "output_type": "stream",
       "stream": "stderr",
       "text": [
        "DEBUG:FFC:  Reusing element from cache\n"
       ]
      },
      {
       "output_type": "stream",
       "stream": "stderr",
       "text": [
        "DEBUG:FFC:  Reusing element from cache\n"
       ]
      },
      {
       "output_type": "stream",
       "stream": "stderr",
       "text": [
        "DEBUG:FFC:  Reusing element from cache\n"
       ]
      },
      {
       "output_type": "stream",
       "stream": "stderr",
       "text": [
        "DEBUG:FFC:  Reusing element from cache\n"
       ]
      },
      {
       "output_type": "stream",
       "stream": "stderr",
       "text": [
        "DEBUG:FFC:  Reusing element from cache\n"
       ]
      },
      {
       "output_type": "stream",
       "stream": "stderr",
       "text": [
        "DEBUG:FFC:  Reusing element from cache\n"
       ]
      },
      {
       "output_type": "stream",
       "stream": "stderr",
       "text": [
        "DEBUG:FFC:  Reusing element from cache\n"
       ]
      },
      {
       "output_type": "stream",
       "stream": "stderr",
       "text": [
        "DEBUG:FFC:  Reusing element from cache\n"
       ]
      },
      {
       "output_type": "stream",
       "stream": "stderr",
       "text": [
        "DEBUG:FFC:  Reusing element from cache\n"
       ]
      },
      {
       "output_type": "stream",
       "stream": "stderr",
       "text": [
        "DEBUG:FFC:  Reusing element from cache\n"
       ]
      },
      {
       "output_type": "stream",
       "stream": "stderr",
       "text": [
        "DEBUG:FFC:  Reusing element from cache\n"
       ]
      },
      {
       "output_type": "stream",
       "stream": "stderr",
       "text": [
        "DEBUG:FFC:  Reusing element from cache\n"
       ]
      },
      {
       "output_type": "stream",
       "stream": "stderr",
       "text": [
        "DEBUG:FFC:  Reusing element from cache\n"
       ]
      },
      {
       "output_type": "stream",
       "stream": "stderr",
       "text": [
        "DEBUG:FFC:  Reusing element from cache\n"
       ]
      },
      {
       "output_type": "stream",
       "stream": "stderr",
       "text": [
        "DEBUG:FFC:  Reusing element from cache\n"
       ]
      },
      {
       "output_type": "stream",
       "stream": "stderr",
       "text": [
        "DEBUG:FFC:  Reusing element from cache\n"
       ]
      },
      {
       "output_type": "stream",
       "stream": "stderr",
       "text": [
        "DEBUG:FFC:  Reusing element from cache\n"
       ]
      },
      {
       "output_type": "stream",
       "stream": "stderr",
       "text": [
        "DEBUG:FFC:  Reusing element from cache\n"
       ]
      },
      {
       "output_type": "stream",
       "stream": "stderr",
       "text": [
        "DEBUG:FFC:  Reusing element from cache\n"
       ]
      },
      {
       "output_type": "stream",
       "stream": "stderr",
       "text": [
        "DEBUG:FFC:  Reusing element from cache\n"
       ]
      },
      {
       "output_type": "stream",
       "stream": "stderr",
       "text": [
        "DEBUG:FFC:  Reusing element from cache\n"
       ]
      },
      {
       "output_type": "stream",
       "stream": "stderr",
       "text": [
        "DEBUG:FFC:  Reusing element from cache\n"
       ]
      },
      {
       "output_type": "stream",
       "stream": "stderr",
       "text": [
        "INFO:FFC:  Computing quadrature representation\n"
       ]
      },
      {
       "output_type": "stream",
       "stream": "stderr",
       "text": [
        "DEBUG:FFC:  Reusing element from cache\n"
       ]
      },
      {
       "output_type": "stream",
       "stream": "stderr",
       "text": [
        "DEBUG:FFC:  Reusing element from cache\n"
       ]
      },
      {
       "output_type": "stream",
       "stream": "stderr",
       "text": [
        "DEBUG:FFC:  Reusing element from cache\n"
       ]
      },
      {
       "output_type": "stream",
       "stream": "stderr",
       "text": [
        "DEBUG:FFC:  Reusing element from cache\n"
       ]
      },
      {
       "output_type": "stream",
       "stream": "stderr",
       "text": [
        "DEBUG:FFC:  Reusing element from cache\n"
       ]
      },
      {
       "output_type": "stream",
       "stream": "stderr",
       "text": [
        "DEBUG:FFC:  Reusing element from cache\n"
       ]
      },
      {
       "output_type": "stream",
       "stream": "stderr",
       "text": [
        "DEBUG:FFC:  Reusing element from cache\n"
       ]
      },
      {
       "output_type": "stream",
       "stream": "stderr",
       "text": [
        "DEBUG:FFC:  \n",
        "  QG-utils, psi_tables:\n",
        "  {2: {FiniteElement('Real', Domain(Cell('triangle', 2), label='dolfin_mesh_with_id_4834', data='<data with id 4834>'), 0, quad_scheme=None): {None: {0: {(0, 0): array([[ 1.,  1.]])}, 1: {(0, 0): array([[ 1.,  1.]])}, 2: {(0, 0): array([[ 1.,  1.]])}}}, MixedElement(*[FiniteElement('Lagrange', Domain(Cell('triangle', 2), label='dolfin_mesh_with_id_4834', data='<data with id 4834>'), 1, quad_scheme=None), FiniteElement('Real', Domain(Cell('triangle', 2), label='dolfin_mesh_with_id_4834', data='<data with id 4834>'), 0, quad_scheme=None), FiniteElement('Real', Domain(Cell('triangle', 2), label='dolfin_mesh_with_id_4834', data='<data with id 4834>'), 0, quad_scheme=None)], **{'value_shape': (3,) }): {None: {0: {(0, 0): array([[[ -2.08166817e-17,   5.55111512e-17],\n",
        "          [  0.00000000e+00,   0.00000000e+00],\n",
        "          [  0.00000000e+00,   0.00000000e+00]],\n",
        "  \n",
        "         [[  7.88675135e-01,   2.11324865e-01],\n",
        "          [  0.00000000e+00,   0.00000000e+00],\n",
        "          [  0.00000000e+00,   0.00000000e+00]],\n",
        "  \n",
        "         [[  2.11324865e-01,   7.88675135e-01],\n",
        "          [  0.00000000e+00,   0.00000000e+00],\n",
        "          [  0.00000000e+00,   0.00000000e+00]],\n",
        "  \n",
        "         [[  0.00000000e+00,   0.00000000e+00],\n",
        "          [  1.00000000e+00,   1.00000000e+00],\n",
        "          [  0.00000000e+00,   0.00000000e+00]],\n",
        "  \n",
        "         [[  0.00000000e+00,   0.00000000e+00],\n",
        "          [  0.00000000e+00,   0.00000000e+00],\n",
        "          [  1.00000000e+00,   1.00000000e+00]]])}, 1: {(0, 0): array([[[  7.88675135e-01,   2.11324865e-01],\n",
        "          [  0.00000000e+00,   0.00000000e+00],\n",
        "          [  0.00000000e+00,   0.00000000e+00]],\n",
        "  \n",
        "         [[ -2.08166817e-17,   5.55111512e-17],\n",
        "          [  0.00000000e+00,   0.00000000e+00],\n",
        "          [  0.00000000e+00,   0.00000000e+00]],\n",
        "  \n",
        "         [[  2.11324865e-01,   7.88675135e-01],\n",
        "          [  0.00000000e+00,   0.00000000e+00],\n",
        "          [  0.00000000e+00,   0.00000000e+00]],\n",
        "  \n",
        "         [[  0.00000000e+00,   0.00000000e+00],\n",
        "          [  1.00000000e+00,   1.00000000e+00],\n",
        "          [  0.00000000e+00,   0.00000000e+00]],\n",
        "  \n",
        "         [[  0.00000000e+00,   0.00000000e+00],\n",
        "          [  0.00000000e+00,   0.00000000e+00],\n",
        "          [  1.00000000e+00,   1.00000000e+00]]])}, 2: {(0, 0): array([[[ 0.78867513,  0.21132487],\n",
        "          [ 0.        ,  0.        ],\n",
        "          [ 0.        ,  0.        ]],\n",
        "  \n",
        "         [[ 0.21132487,  0.78867513],\n",
        "          [ 0.        ,  0.        ],\n",
        "          [ 0.        ,  0.        ]],\n",
        "  \n",
        "         [[ 0.        ,  0.        ],\n",
        "          [ 0.        ,  0.        ],\n",
        "          [ 0.        ,  0.        ]],\n",
        "  \n",
        "         [[ 0.        ,  0.        ],\n",
        "          [ 1.        ,  1.        ],\n",
        "          [ 0.        ,  0.        ]],\n",
        "  \n",
        "         [[ 0.        ,  0.        ],\n",
        "          [ 0.        ,  0.        ],\n",
        "          [ 1.        ,  1.        ]]])}}}, VectorElement('Lagrange', Domain(Cell('triangle', 2), label='dolfin_mesh_with_id_4834', data='<data with id 4834>'), 1, dim=2, quad_scheme=None): {None: {0: {(0, 1): array([[[ -1.00000000e+00,  -1.00000000e+00],\n",
        "          [  0.00000000e+00,   0.00000000e+00]],\n",
        "  \n",
        "         [[  8.88178420e-16,   8.88178420e-16],\n",
        "          [  0.00000000e+00,   0.00000000e+00]],\n",
        "  \n",
        "         [[  1.00000000e+00,   1.00000000e+00],\n",
        "          [  0.00000000e+00,   0.00000000e+00]],\n",
        "  \n",
        "         [[  0.00000000e+00,   0.00000000e+00],\n",
        "          [ -1.00000000e+00,  -1.00000000e+00]],\n",
        "  \n",
        "         [[  0.00000000e+00,   0.00000000e+00],\n",
        "          [  8.88178420e-16,   8.88178420e-16]],\n",
        "  \n",
        "         [[  0.00000000e+00,   0.00000000e+00],\n",
        "          [  1.00000000e+00,   1.00000000e+00]]]), (1, 0): array([[[-1., -1.],\n",
        "          [ 0.,  0.]],\n",
        "  \n",
        "         [[ 1.,  1.],\n",
        "          [ 0.,  0.]],\n",
        "  \n",
        "         [[ 0.,  0.],\n",
        "          [ 0.,  0.]],\n",
        "  \n",
        "         [[ 0.,  0.],\n",
        "          [-1., -1.]],\n",
        "  \n",
        "         [[ 0.,  0.],\n",
        "          [ 1.,  1.]],\n",
        "  \n",
        "         [[ 0.,  0.],\n",
        "          [ 0.,  0.]]]), (0, 0): array([[[ -2.08166817e-17,   5.55111512e-17],\n",
        "          [  0.00000000e+00,   0.00000000e+00]],\n",
        "  \n",
        "         [[  7.88675135e-01,   2.11324865e-01],\n",
        "          [  0.00000000e+00,   0.00000000e+00]],\n",
        "  \n",
        "         [[  2.11324865e-01,   7.88675135e-01],\n",
        "          [  0.00000000e+00,   0.00000000e+00]],\n",
        "  \n",
        "         [[  0.00000000e+00,   0.00000000e+00],\n",
        "          [ -2.08166817e-17,   5.55111512e-17]],\n",
        "  \n",
        "         [[  0.00000000e+00,   0.00000000e+00],\n",
        "          [  7.88675135e-01,   2.11324865e-01]],\n",
        "  \n",
        "         [[  0.00000000e+00,   0.00000000e+00],\n",
        "          [  2.11324865e-01,   7.88675135e-01]]])}, 1: {(0, 1): array([[[ -1.00000000e+00,  -1.00000000e+00],\n",
        "          [  0.00000000e+00,   0.00000000e+00]],\n",
        "  \n",
        "         [[  8.88178420e-16,   8.88178420e-16],\n",
        "          [  0.00000000e+00,   0.00000000e+00]],\n",
        "  \n",
        "         [[  1.00000000e+00,   1.00000000e+00],\n",
        "          [  0.00000000e+00,   0.00000000e+00]],\n",
        "  \n",
        "         [[  0.00000000e+00,   0.00000000e+00],\n",
        "          [ -1.00000000e+00,  -1.00000000e+00]],\n",
        "  \n",
        "         [[  0.00000000e+00,   0.00000000e+00],\n",
        "          [  8.88178420e-16,   8.88178420e-16]],\n",
        "  \n",
        "         [[  0.00000000e+00,   0.00000000e+00],\n",
        "          [  1.00000000e+00,   1.00000000e+00]]]), (1, 0): array([[[-1., -1.],\n",
        "          [ 0.,  0.]],\n",
        "  \n",
        "         [[ 1.,  1.],\n",
        "          [ 0.,  0.]],\n",
        "  \n",
        "         [[ 0.,  0.],\n",
        "          [ 0.,  0.]],\n",
        "  \n",
        "         [[ 0.,  0.],\n",
        "          [-1., -1.]],\n",
        "  \n",
        "         [[ 0.,  0.],\n",
        "          [ 1.,  1.]],\n",
        "  \n",
        "         [[ 0.,  0.],\n",
        "          [ 0.,  0.]]]), (0, 0): array([[[  7.88675135e-01,   2.11324865e-01],\n",
        "          [  0.00000000e+00,   0.00000000e+00]],\n",
        "  \n",
        "         [[ -2.08166817e-17,   5.55111512e-17],\n",
        "          [  0.00000000e+00,   0.00000000e+00]],\n",
        "  \n",
        "         [[  2.11324865e-01,   7.88675135e-01],\n",
        "          [  0.00000000e+00,   0.00000000e+00]],\n",
        "  \n",
        "         [[  0.00000000e+00,   0.00000000e+00],\n",
        "          [  7.88675135e-01,   2.11324865e-01]],\n",
        "  \n",
        "         [[  0.00000000e+00,   0.00000000e+00],\n",
        "          [ -2.08166817e-17,   5.55111512e-17]],\n",
        "  \n",
        "         [[  0.00000000e+00,   0.00000000e+00],\n",
        "          [  2.11324865e-01,   7.88675135e-01]]])}, 2: {(0, 1): array([[[ -1.00000000e+00,  -1.00000000e+00],\n",
        "          [  0.00000000e+00,   0.00000000e+00]],\n",
        "  \n",
        "         [[  8.88178420e-16,   8.88178420e-16],\n",
        "          [  0.00000000e+00,   0.00000000e+00]],\n",
        "  \n",
        "         [[  1.00000000e+00,   1.00000000e+00],\n",
        "          [  0.00000000e+00,   0.00000000e+00]],\n",
        "  \n",
        "         [[  0.00000000e+00,   0.00000000e+00],\n",
        "          [ -1.00000000e+00,  -1.00000000e+00]],\n",
        "  \n",
        "         [[  0.00000000e+00,   0.00000000e+00],\n",
        "          [  8.88178420e-16,   8.88178420e-16]],\n",
        "  \n",
        "         [[  0.00000000e+00,   0.00000000e+00],\n",
        "          [  1.00000000e+00,   1.00000000e+00]]]), (1, 0): array([[[-1., -1.],\n",
        "          [ 0.,  0.]],\n",
        "  \n",
        "         [[ 1.,  1.],\n",
        "          [ 0.,  0.]],\n",
        "  \n",
        "         [[ 0.,  0.],\n",
        "          [ 0.,  0.]],\n",
        "  \n",
        "         [[ 0.,  0.],\n",
        "          [-1., -1.]],\n",
        "  \n",
        "         [[ 0.,  0.],\n",
        "          [ 1.,  1.]],\n",
        "  \n",
        "         [[ 0.,  0.],\n",
        "          [ 0.,  0.]]]), (0, 0): array([[[ 0.78867513,  0.21132487],\n",
        "          [ 0.        ,  0.        ]],\n",
        "  \n",
        "         [[ 0.21132487,  0.78867513],\n",
        "          [ 0.        ,  0.        ]],\n",
        "  \n",
        "         [[ 0.        ,  0.        ],\n",
        "          [ 0.        ,  0.        ]],\n",
        "  \n",
        "         [[ 0.        ,  0.        ],\n",
        "          [ 0.78867513,  0.21132487]],\n",
        "  \n",
        "         [[ 0.        ,  0.        ],\n",
        "          [ 0.21132487,  0.78867513]],\n",
        "  \n",
        "         [[ 0.        ,  0.        ],\n",
        "          [ 0.        ,  0.        ]]])}}}}}\n"
       ]
      },
      {
       "output_type": "stream",
       "stream": "stderr",
       "text": [
        "DEBUG:FFC:  \n",
        "  QG-utils, psi_tables, flat_tables:\n",
        "  {'FE1_f2_C2': array([[ 0.,  0.,  0.,  0.,  1.],\n",
        "         [ 0.,  0.,  0.,  0.,  1.]]), 'FE0_f0_C0_D01': array([[ -1.00000000e+00,   8.88178420e-16,   1.00000000e+00,\n",
        "            0.00000000e+00,   0.00000000e+00,   0.00000000e+00],\n",
        "         [ -1.00000000e+00,   8.88178420e-16,   1.00000000e+00,\n",
        "            0.00000000e+00,   0.00000000e+00,   0.00000000e+00]]), 'FE1_f2_C0': array([[ 0.78867513,  0.21132487,  0.        ,  0.        ,  0.        ],\n",
        "         [ 0.21132487,  0.78867513,  0.        ,  0.        ,  0.        ]]), 'FE1_f2_C1': array([[ 0.,  0.,  0.,  1.,  0.],\n",
        "         [ 0.,  0.,  0.,  1.,  0.]]), 'FE0_f0_C1': array([[  0.00000000e+00,   0.00000000e+00,   0.00000000e+00,\n",
        "           -2.08166817e-17,   7.88675135e-01,   2.11324865e-01],\n",
        "         [  0.00000000e+00,   0.00000000e+00,   0.00000000e+00,\n",
        "            5.55111512e-17,   2.11324865e-01,   7.88675135e-01]]), 'FE0_f0_C0': array([[ -2.08166817e-17,   7.88675135e-01,   2.11324865e-01,\n",
        "            0.00000000e+00,   0.00000000e+00,   0.00000000e+00],\n",
        "         [  5.55111512e-17,   2.11324865e-01,   7.88675135e-01,\n",
        "            0.00000000e+00,   0.00000000e+00,   0.00000000e+00]]), 'FE0_f0_C1_D01': array([[  0.00000000e+00,   0.00000000e+00,   0.00000000e+00,\n",
        "           -1.00000000e+00,   8.88178420e-16,   1.00000000e+00],\n",
        "         [  0.00000000e+00,   0.00000000e+00,   0.00000000e+00,\n",
        "           -1.00000000e+00,   8.88178420e-16,   1.00000000e+00]]), 'FE0_f2_C0_D10': array([[-1.,  1.,  0.,  0.,  0.,  0.],\n",
        "         [-1.,  1.,  0.,  0.,  0.,  0.]]), 'FE0_f1_C1_D10': array([[ 0.,  0.,  0., -1.,  1.,  0.],\n",
        "         [ 0.,  0.,  0., -1.,  1.,  0.]]), 'FE0_f2_C1_D01': array([[  0.00000000e+00,   0.00000000e+00,   0.00000000e+00,\n",
        "           -1.00000000e+00,   8.88178420e-16,   1.00000000e+00],\n",
        "         [  0.00000000e+00,   0.00000000e+00,   0.00000000e+00,\n",
        "           -1.00000000e+00,   8.88178420e-16,   1.00000000e+00]]), 'FE0_f1_C1_D01': array([[  0.00000000e+00,   0.00000000e+00,   0.00000000e+00,\n",
        "           -1.00000000e+00,   8.88178420e-16,   1.00000000e+00],\n",
        "         [  0.00000000e+00,   0.00000000e+00,   0.00000000e+00,\n",
        "           -1.00000000e+00,   8.88178420e-16,   1.00000000e+00]]), 'FE1_f0_C0': array([[ -2.08166817e-17,   7.88675135e-01,   2.11324865e-01,\n",
        "            0.00000000e+00,   0.00000000e+00],\n",
        "         [  5.55111512e-17,   2.11324865e-01,   7.88675135e-01,\n",
        "            0.00000000e+00,   0.00000000e+00]]), 'FE1_f0_C1': array([[ 0.,  0.,  0.,  1.,  0.],\n",
        "         [ 0.,  0.,  0.,  1.,  0.]]), 'FE1_f0_C2': array([[ 0.,  0.,  0.,  0.,  1.],\n",
        "         [ 0.,  0.,  0.,  0.,  1.]]), 'FE0_f1_C0_D10': array([[-1.,  1.,  0.,  0.,  0.,  0.],\n",
        "         [-1.,  1.,  0.,  0.,  0.,  0.]]), 'FE0_f0_C0_D10': array([[-1.,  1.,  0.,  0.,  0.,  0.],\n",
        "         [-1.,  1.,  0.,  0.,  0.,  0.]]), 'FE0_f2_C1': array([[ 0.        ,  0.        ,  0.        ,  0.78867513,  0.21132487,\n",
        "           0.        ],\n",
        "         [ 0.        ,  0.        ,  0.        ,  0.21132487,  0.78867513,\n",
        "           0.        ]]), 'FE0_f2_C0': array([[ 0.78867513,  0.21132487,  0.        ,  0.        ,  0.        ,\n",
        "           0.        ],\n",
        "         [ 0.21132487,  0.78867513,  0.        ,  0.        ,  0.        ,\n",
        "           0.        ]]), 'FE0_f0_C1_D10': array([[ 0.,  0.,  0., -1.,  1.,  0.],\n",
        "         [ 0.,  0.,  0., -1.,  1.,  0.]]), 'FE0_f1_C0_D01': array([[ -1.00000000e+00,   8.88178420e-16,   1.00000000e+00,\n",
        "            0.00000000e+00,   0.00000000e+00,   0.00000000e+00],\n",
        "         [ -1.00000000e+00,   8.88178420e-16,   1.00000000e+00,\n",
        "            0.00000000e+00,   0.00000000e+00,   0.00000000e+00]]), 'FE2_f2': array([[ 1.],\n",
        "         [ 1.]]), 'FE2_f0': array([[ 1.],\n",
        "         [ 1.]]), 'FE2_f1': array([[ 1.],\n",
        "         [ 1.]]), 'FE0_f2_C0_D01': array([[ -1.00000000e+00,   8.88178420e-16,   1.00000000e+00,\n",
        "            0.00000000e+00,   0.00000000e+00,   0.00000000e+00],\n",
        "         [ -1.00000000e+00,   8.88178420e-16,   1.00000000e+00,\n",
        "            0.00000000e+00,   0.00000000e+00,   0.00000000e+00]]), 'FE0_f1_C0': array([[  7.88675135e-01,  -2.08166817e-17,   2.11324865e-01,\n",
        "            0.00000000e+00,   0.00000000e+00,   0.00000000e+00],\n",
        "         [  2.11324865e-01,   5.55111512e-17,   7.88675135e-01,\n",
        "            0.00000000e+00,   0.00000000e+00,   0.00000000e+00]]), 'FE0_f1_C1': array([[  0.00000000e+00,   0.00000000e+00,   0.00000000e+00,\n",
        "            7.88675135e-01,  -2.08166817e-17,   2.11324865e-01],\n",
        "         [  0.00000000e+00,   0.00000000e+00,   0.00000000e+00,\n",
        "            2.11324865e-01,   5.55111512e-17,   7.88675135e-01]]), 'FE0_f2_C1_D10': array([[ 0.,  0.,  0., -1.,  1.,  0.],\n",
        "         [ 0.,  0.,  0., -1.,  1.,  0.]]), 'FE1_f1_C2': array([[ 0.,  0.,  0.,  0.,  1.],\n",
        "         [ 0.,  0.,  0.,  0.,  1.]]), 'FE1_f1_C1': array([[ 0.,  0.,  0.,  1.,  0.],\n",
        "         [ 0.,  0.,  0.,  1.,  0.]]), 'FE1_f1_C0': array([[  7.88675135e-01,  -2.08166817e-17,   2.11324865e-01,\n",
        "            0.00000000e+00,   0.00000000e+00],\n",
        "         [  2.11324865e-01,   5.55111512e-17,   7.88675135e-01,\n",
        "            0.00000000e+00,   0.00000000e+00]])}\n"
       ]
      },
      {
       "output_type": "stream",
       "stream": "stderr",
       "text": [
        "DEBUG:FFC:  \n",
        "  tables: {'FE0_f0_C0_D01': array([[ -1.00000000e+00,   8.88178420e-16,   1.00000000e+00,\n",
        "            0.00000000e+00,   0.00000000e+00,   0.00000000e+00],\n",
        "         [ -1.00000000e+00,   8.88178420e-16,   1.00000000e+00,\n",
        "            0.00000000e+00,   0.00000000e+00,   0.00000000e+00]]), 'FE1_f2_C0': array([[ 0.78867513,  0.21132487,  0.        ,  0.        ,  0.        ],\n",
        "         [ 0.21132487,  0.78867513,  0.        ,  0.        ,  0.        ]]), 'FE0_f0_C1': array([[  0.00000000e+00,   0.00000000e+00,   0.00000000e+00,\n",
        "           -2.08166817e-17,   7.88675135e-01,   2.11324865e-01],\n",
        "         [  0.00000000e+00,   0.00000000e+00,   0.00000000e+00,\n",
        "            5.55111512e-17,   2.11324865e-01,   7.88675135e-01]]), 'FE0_f0_C0': array([[ -2.08166817e-17,   7.88675135e-01,   2.11324865e-01,\n",
        "            0.00000000e+00,   0.00000000e+00,   0.00000000e+00],\n",
        "         [  5.55111512e-17,   2.11324865e-01,   7.88675135e-01,\n",
        "            0.00000000e+00,   0.00000000e+00,   0.00000000e+00]]), 'FE0_f0_C1_D01': array([[  0.00000000e+00,   0.00000000e+00,   0.00000000e+00,\n",
        "           -1.00000000e+00,   8.88178420e-16,   1.00000000e+00],\n",
        "         [  0.00000000e+00,   0.00000000e+00,   0.00000000e+00,\n",
        "           -1.00000000e+00,   8.88178420e-16,   1.00000000e+00]]), 'FE1_f0_C0': array([[ -2.08166817e-17,   7.88675135e-01,   2.11324865e-01,\n",
        "            0.00000000e+00,   0.00000000e+00],\n",
        "         [  5.55111512e-17,   2.11324865e-01,   7.88675135e-01,\n",
        "            0.00000000e+00,   0.00000000e+00]]), 'FE1_f0_C1': array([[ 0.,  0.,  0.,  1.,  0.],\n",
        "         [ 0.,  0.,  0.,  1.,  0.]]), 'FE1_f0_C2': array([[ 0.,  0.,  0.,  0.,  1.],\n",
        "         [ 0.,  0.,  0.,  0.,  1.]]), 'FE0_f0_C0_D10': array([[-1.,  1.,  0.,  0.,  0.,  0.],\n",
        "         [-1.,  1.,  0.,  0.,  0.,  0.]]), 'FE0_f2_C1': array([[ 0.        ,  0.        ,  0.        ,  0.78867513,  0.21132487,\n",
        "           0.        ],\n",
        "         [ 0.        ,  0.        ,  0.        ,  0.21132487,  0.78867513,\n",
        "           0.        ]]), 'FE0_f2_C0': array([[ 0.78867513,  0.21132487,  0.        ,  0.        ,  0.        ,\n",
        "           0.        ],\n",
        "         [ 0.21132487,  0.78867513,  0.        ,  0.        ,  0.        ,\n",
        "           0.        ]]), 'FE0_f0_C1_D10': array([[ 0.,  0.,  0., -1.,  1.,  0.],\n",
        "         [ 0.,  0.,  0., -1.,  1.,  0.]]), 'FE2_f0': array([[ 1.],\n",
        "         [ 1.]]), 'FE0_f1_C0': array([[  7.88675135e-01,  -2.08166817e-17,   2.11324865e-01,\n",
        "            0.00000000e+00,   0.00000000e+00,   0.00000000e+00],\n",
        "         [  2.11324865e-01,   5.55111512e-17,   7.88675135e-01,\n",
        "            0.00000000e+00,   0.00000000e+00,   0.00000000e+00]]), 'FE0_f1_C1': array([[  0.00000000e+00,   0.00000000e+00,   0.00000000e+00,\n",
        "            7.88675135e-01,  -2.08166817e-17,   2.11324865e-01],\n",
        "         [  0.00000000e+00,   0.00000000e+00,   0.00000000e+00,\n",
        "            2.11324865e-01,   5.55111512e-17,   7.88675135e-01]]), 'FE1_f1_C0': array([[  7.88675135e-01,  -2.08166817e-17,   2.11324865e-01,\n",
        "            0.00000000e+00,   0.00000000e+00],\n",
        "         [  2.11324865e-01,   5.55111512e-17,   7.88675135e-01,\n",
        "            0.00000000e+00,   0.00000000e+00]])}\n"
       ]
      },
      {
       "output_type": "stream",
       "stream": "stderr",
       "text": [
        "DEBUG:FFC:  \n",
        "  name_map: {'FE0_f0_C1_D01': ['FE0_f1_C1_D01', 'FE0_f2_C1_D01'], 'FE0_f0_C1_D10': ['FE0_f1_C1_D10', 'FE0_f2_C1_D10'], 'FE1_f0_C1': ['FE1_f1_C1', 'FE1_f2_C1'], 'FE1_f0_C2': ['FE1_f1_C2', 'FE1_f2_C2'], 'FE2_f0': ['FE2_f1', 'FE2_f2'], 'FE0_f0_C0_D01': ['FE0_f1_C0_D01', 'FE0_f2_C0_D01'], 'FE0_f0_C0_D10': ['FE0_f1_C0_D10', 'FE0_f2_C0_D10']}\n"
       ]
      },
      {
       "output_type": "stream",
       "stream": "stderr",
       "text": [
        "DEBUG:FFC:  \n",
        "  inv_name_map: {'FE1_f2_C2': 'FE1_f0_C2', 'FE0_f0_C0_D01': 'FE0_f0_C0_D01', 'FE1_f2_C0': 'FE1_f2_C0', 'FE1_f2_C1': 'FE1_f0_C1', 'FE0_f0_C1': 'FE0_f0_C1', 'FE0_f0_C0': 'FE0_f0_C0', 'FE0_f1_C1': 'FE0_f1_C1', 'FE0_f1_C0_D10': 'FE0_f0_C0_D10', 'FE0_f2_C0_D10': 'FE0_f0_C0_D10', 'FE0_f1_C1_D10': 'FE0_f0_C1_D10', 'FE0_f2_C1_D01': 'FE0_f0_C1_D01', 'FE1_f0_C0': 'FE1_f0_C0', 'FE1_f0_C1': 'FE1_f0_C1', 'FE1_f0_C2': 'FE1_f0_C2', 'FE0_f0_C1_D01': 'FE0_f0_C1_D01', 'FE0_f0_C0_D10': 'FE0_f0_C0_D10', 'FE0_f2_C1': 'FE0_f2_C1', 'FE0_f2_C0': 'FE0_f2_C0', 'FE0_f0_C1_D10': 'FE0_f0_C1_D10', 'FE0_f1_C0_D01': 'FE0_f0_C0_D01', 'FE2_f2': 'FE2_f0', 'FE2_f0': 'FE2_f0', 'FE2_f1': 'FE2_f0', 'FE0_f2_C0_D01': 'FE0_f0_C0_D01', 'FE0_f1_C0': 'FE0_f1_C0', 'FE0_f1_C1_D01': 'FE0_f0_C1_D01', 'FE0_f2_C1_D10': 'FE0_f0_C1_D10', 'FE1_f1_C2': 'FE1_f0_C2', 'FE1_f1_C1': 'FE1_f0_C1', 'FE1_f1_C0': 'FE1_f1_C0'}\n"
       ]
      },
      {
       "output_type": "stream",
       "stream": "stderr",
       "text": [
        "DEBUG:FFC:  \n",
        "  QG-utils, psi_tables, unique_tables:\n",
        "  {'FE0_f0_C0_D01': array([[-1.,  0.,  1.,  0.,  0.,  0.],\n",
        "         [-1.,  0.,  1.,  0.,  0.,  0.]]), 'FE1_f2_C0': array([[ 0.78867513,  0.21132487,  0.        ,  0.        ,  0.        ],\n",
        "         [ 0.21132487,  0.78867513,  0.        ,  0.        ,  0.        ]]), 'FE0_f0_C1': array([[ 0.        ,  0.        ,  0.        ,  0.        ,  0.78867513,\n",
        "           0.21132487],\n",
        "         [ 0.        ,  0.        ,  0.        ,  0.        ,  0.21132487,\n",
        "           0.78867513]]), 'FE0_f0_C0': array([[ 0.        ,  0.78867513,  0.21132487,  0.        ,  0.        ,\n",
        "           0.        ],\n",
        "         [ 0.        ,  0.21132487,  0.78867513,  0.        ,  0.        ,\n",
        "           0.        ]]), 'FE0_f0_C1_D01': array([[ 0.,  0.,  0., -1.,  0.,  1.],\n",
        "         [ 0.,  0.,  0., -1.,  0.,  1.]]), 'FE1_f0_C0': array([[ 0.        ,  0.78867513,  0.21132487,  0.        ,  0.        ],\n",
        "         [ 0.        ,  0.21132487,  0.78867513,  0.        ,  0.        ]]), 'FE1_f0_C1': array([[ 0.,  0.,  0.,  1.,  0.],\n",
        "         [ 0.,  0.,  0.,  1.,  0.]]), 'FE1_f0_C2': array([[ 0.,  0.,  0.,  0.,  1.],\n",
        "         [ 0.,  0.,  0.,  0.,  1.]]), 'FE0_f0_C0_D10': array([[-1.,  1.,  0.,  0.,  0.,  0.],\n",
        "         [-1.,  1.,  0.,  0.,  0.,  0.]]), 'FE0_f2_C1': array([[ 0.        ,  0.        ,  0.        ,  0.78867513,  0.21132487,\n",
        "           0.        ],\n",
        "         [ 0.        ,  0.        ,  0.        ,  0.21132487,  0.78867513,\n",
        "           0.        ]]), 'FE0_f2_C0': array([[ 0.78867513,  0.21132487,  0.        ,  0.        ,  0.        ,\n",
        "           0.        ],\n",
        "         [ 0.21132487,  0.78867513,  0.        ,  0.        ,  0.        ,\n",
        "           0.        ]]), 'FE0_f0_C1_D10': array([[ 0.,  0.,  0., -1.,  1.,  0.],\n",
        "         [ 0.,  0.,  0., -1.,  1.,  0.]]), 'FE2_f0': array([[ 1.],\n",
        "         [ 1.]]), 'FE0_f1_C0': array([[ 0.78867513,  0.        ,  0.21132487,  0.        ,  0.        ,\n",
        "           0.        ],\n",
        "         [ 0.21132487,  0.        ,  0.78867513,  0.        ,  0.        ,\n",
        "           0.        ]]), 'FE0_f1_C1': array([[ 0.        ,  0.        ,  0.        ,  0.78867513,  0.        ,\n",
        "           0.21132487],\n",
        "         [ 0.        ,  0.        ,  0.        ,  0.21132487,  0.        ,\n",
        "           0.78867513]]), 'FE1_f1_C0': array([[ 0.78867513,  0.        ,  0.21132487,  0.        ,  0.        ],\n",
        "         [ 0.21132487,  0.        ,  0.78867513,  0.        ,  0.        ]])}\n"
       ]
      },
      {
       "output_type": "stream",
       "stream": "stderr",
       "text": [
        "DEBUG:FFC:  \n",
        "  QG-utils, psi_tables, name_map:\n",
        "  {'FE1_f2_C2': ('FE1_f0_C2', (), False, False), 'FE0_f0_C0_D01': ('FE0_f0_C0_D01', (), False, False), 'FE1_f2_C0': ('FE1_f2_C0', (), False, False), 'FE1_f2_C1': ('FE1_f0_C1', (), False, False), 'FE0_f0_C1': ('FE0_f0_C1', (), False, False), 'FE0_f0_C0': ('FE0_f0_C0', (), False, False), 'FE0_f1_C1': ('FE0_f1_C1', (), False, False), 'FE0_f1_C0_D10': ('FE0_f0_C0_D10', (), False, False), 'FE0_f2_C0_D10': ('FE0_f0_C0_D10', (), False, False), 'FE0_f1_C1_D10': ('FE0_f0_C1_D10', (), False, False), 'FE0_f2_C1_D01': ('FE0_f0_C1_D01', (), False, False), 'FE1_f0_C0': ('FE1_f0_C0', (), False, False), 'FE1_f0_C1': ('FE1_f0_C1', (), False, False), 'FE1_f0_C2': ('FE1_f0_C2', (), False, False), 'FE0_f0_C1_D01': ('FE0_f0_C1_D01', (), False, False), 'FE0_f0_C0_D10': ('FE0_f0_C0_D10', (), False, False), 'FE0_f2_C1': ('FE0_f2_C1', (), False, False), 'FE0_f2_C0': ('FE0_f2_C0', (), False, False), 'FE0_f0_C1_D10': ('FE0_f0_C1_D10', (), False, False), 'FE0_f1_C0_D01': ('FE0_f0_C0_D01', (), False, False), 'FE2_f2': ('FE2_f0', (), False, True), 'FE2_f0': ('FE2_f0', (), False, True), 'FE2_f1': ('FE2_f0', (), False, True), 'FE0_f2_C0_D01': ('FE0_f0_C0_D01', (), False, False), 'FE0_f1_C0': ('FE0_f1_C0', (), False, False), 'FE0_f1_C1_D01': ('FE0_f0_C1_D01', (), False, False), 'FE0_f2_C1_D10': ('FE0_f0_C1_D10', (), False, False), 'FE1_f1_C2': ('FE1_f0_C2', (), False, False), 'FE1_f1_C1': ('FE1_f0_C1', (), False, False), 'FE1_f1_C0': ('FE1_f1_C0', (), False, False)}\n"
       ]
      },
      {
       "output_type": "stream",
       "stream": "stderr",
       "text": [
        "INFO:FFC:  Transforming exterior facet integral 0\n"
       ]
      },
      {
       "output_type": "stream",
       "stream": "stderr",
       "text": [
        "DEBUG:FFC:  Reusing element from cache\n"
       ]
      },
      {
       "output_type": "stream",
       "stream": "stderr",
       "text": [
        "DEBUG:FFC:  Reusing element from cache\n"
       ]
      },
      {
       "output_type": "stream",
       "stream": "stderr",
       "text": [
        "DEBUG:FFC:  Reusing element from cache\n"
       ]
      },
      {
       "output_type": "stream",
       "stream": "stderr",
       "text": [
        "DEBUG:FFC:  Reusing element from cache\n"
       ]
      },
      {
       "output_type": "stream",
       "stream": "stderr",
       "text": [
        "DEBUG:FFC:  Reusing element from cache\n"
       ]
      },
      {
       "output_type": "stream",
       "stream": "stderr",
       "text": [
        "DEBUG:FFC:  Reusing element from cache\n"
       ]
      },
      {
       "output_type": "stream",
       "stream": "stderr",
       "text": [
        "DEBUG:FFC:  Reusing element from cache\n"
       ]
      },
      {
       "output_type": "stream",
       "stream": "stderr",
       "text": [
        "DEBUG:FFC:  Reusing element from cache\n"
       ]
      },
      {
       "output_type": "stream",
       "stream": "stderr",
       "text": [
        "DEBUG:FFC:  Reusing element from cache\n"
       ]
      },
      {
       "output_type": "stream",
       "stream": "stderr",
       "text": [
        "DEBUG:FFC:  Reusing element from cache\n"
       ]
      },
      {
       "output_type": "stream",
       "stream": "stderr",
       "text": [
        "INFO:FFC:  Transforming exterior facet integral 1\n"
       ]
      },
      {
       "output_type": "stream",
       "stream": "stderr",
       "text": [
        "DEBUG:FFC:  Reusing element from cache\n"
       ]
      },
      {
       "output_type": "stream",
       "stream": "stderr",
       "text": [
        "DEBUG:FFC:  Reusing element from cache\n"
       ]
      },
      {
       "output_type": "stream",
       "stream": "stderr",
       "text": [
        "DEBUG:FFC:  Reusing element from cache\n"
       ]
      },
      {
       "output_type": "stream",
       "stream": "stderr",
       "text": [
        "DEBUG:FFC:  Reusing element from cache\n"
       ]
      },
      {
       "output_type": "stream",
       "stream": "stderr",
       "text": [
        "DEBUG:FFC:  Reusing element from cache\n"
       ]
      },
      {
       "output_type": "stream",
       "stream": "stderr",
       "text": [
        "DEBUG:FFC:  Reusing element from cache\n"
       ]
      },
      {
       "output_type": "stream",
       "stream": "stderr",
       "text": [
        "DEBUG:FFC:  Reusing element from cache\n"
       ]
      },
      {
       "output_type": "stream",
       "stream": "stderr",
       "text": [
        "DEBUG:FFC:  Reusing element from cache\n"
       ]
      },
      {
       "output_type": "stream",
       "stream": "stderr",
       "text": [
        "DEBUG:FFC:  Reusing element from cache\n"
       ]
      },
      {
       "output_type": "stream",
       "stream": "stderr",
       "text": [
        "DEBUG:FFC:  Reusing element from cache\n"
       ]
      },
      {
       "output_type": "stream",
       "stream": "stderr",
       "text": [
        "INFO:FFC:  Transforming exterior facet integral 2\n"
       ]
      },
      {
       "output_type": "stream",
       "stream": "stderr",
       "text": [
        "DEBUG:FFC:  Reusing element from cache\n"
       ]
      },
      {
       "output_type": "stream",
       "stream": "stderr",
       "text": [
        "DEBUG:FFC:  Reusing element from cache\n"
       ]
      },
      {
       "output_type": "stream",
       "stream": "stderr",
       "text": [
        "DEBUG:FFC:  Reusing element from cache\n"
       ]
      },
      {
       "output_type": "stream",
       "stream": "stderr",
       "text": [
        "DEBUG:FFC:  Reusing element from cache\n"
       ]
      },
      {
       "output_type": "stream",
       "stream": "stderr",
       "text": [
        "DEBUG:FFC:  Reusing element from cache\n"
       ]
      },
      {
       "output_type": "stream",
       "stream": "stderr",
       "text": [
        "DEBUG:FFC:  Reusing element from cache\n"
       ]
      },
      {
       "output_type": "stream",
       "stream": "stderr",
       "text": [
        "DEBUG:FFC:  Reusing element from cache\n"
       ]
      },
      {
       "output_type": "stream",
       "stream": "stderr",
       "text": [
        "DEBUG:FFC:  Reusing element from cache\n"
       ]
      },
      {
       "output_type": "stream",
       "stream": "stderr",
       "text": [
        "DEBUG:FFC:  Reusing element from cache\n"
       ]
      },
      {
       "output_type": "stream",
       "stream": "stderr",
       "text": [
        "DEBUG:FFC:  Reusing element from cache\n"
       ]
      },
      {
       "output_type": "stream",
       "stream": "stderr",
       "text": [
        "DEBUG:FFC:  Reusing element from cache\n"
       ]
      },
      {
       "output_type": "stream",
       "stream": "stderr",
       "text": [
        "DEBUG:FFC:  Reusing element from cache\n"
       ]
      },
      {
       "output_type": "stream",
       "stream": "stderr",
       "text": [
        "DEBUG:FFC:  Reusing element from cache\n"
       ]
      },
      {
       "output_type": "stream",
       "stream": "stderr",
       "text": [
        "INFO:FFC:  Computing representation of forms\n"
       ]
      },
      {
       "output_type": "stream",
       "stream": "stderr",
       "text": [
        "INFO:FFC:  \n"
       ]
      },
      {
       "output_type": "stream",
       "stream": "stderr",
       "text": [
        "INFO:FFC:Compiler stage 2 finished in 0.157222 seconds.\n",
        "\n"
       ]
      },
      {
       "output_type": "stream",
       "stream": "stderr",
       "text": [
        "INFO:FFC:Compiler stage 3: Optimizing intermediate representation\n"
       ]
      },
      {
       "output_type": "stream",
       "stream": "stderr",
       "text": [
        "INFO:FFC:--------------------------------------------------------\n"
       ]
      },
      {
       "output_type": "stream",
       "stream": "stderr",
       "text": [
        "INFO:FFC:  Skipping optimizations, add -O to optimize\n"
       ]
      },
      {
       "output_type": "stream",
       "stream": "stderr",
       "text": [
        "INFO:FFC:  \n"
       ]
      },
      {
       "output_type": "stream",
       "stream": "stderr",
       "text": [
        "INFO:FFC:Compiler stage 3 finished in 0.0013001 seconds.\n",
        "\n"
       ]
      },
      {
       "output_type": "stream",
       "stream": "stderr",
       "text": [
        "INFO:FFC:Compiler stage 4: Generating code\n"
       ]
      },
      {
       "output_type": "stream",
       "stream": "stderr",
       "text": [
        "INFO:FFC:---------------------------------\n"
       ]
      },
      {
       "output_type": "stream",
       "stream": "stderr",
       "text": [
        "INFO:FFC:  Generating code for 3 element(s)\n"
       ]
      },
      {
       "output_type": "stream",
       "stream": "stderr",
       "text": [
        "DEBUG:FFC:  Removing unused variable: tmp2\n"
       ]
      },
      {
       "output_type": "stream",
       "stream": "stderr",
       "text": [
        "DEBUG:FFC:  Removing unused variable: tmp1\n"
       ]
      },
      {
       "output_type": "stream",
       "stream": "stderr",
       "text": [
        "DEBUG:FFC:  Removing unused variable: tmp7\n"
       ]
      },
      {
       "output_type": "stream",
       "stream": "stderr",
       "text": [
        "DEBUG:FFC:  Removing unused variable: tmp6\n"
       ]
      },
      {
       "output_type": "stream",
       "stream": "stderr",
       "text": [
        "DEBUG:FFC:  Removing unused variable: tmp5\n"
       ]
      },
      {
       "output_type": "stream",
       "stream": "stderr",
       "text": [
        "DEBUG:FFC:  Removing unused variable: tt\n"
       ]
      },
      {
       "output_type": "stream",
       "stream": "stderr",
       "text": [
        "DEBUG:FFC:  Removing unused variable: ss\n"
       ]
      },
      {
       "output_type": "stream",
       "stream": "stderr",
       "text": [
        "DEBUG:FFC:  Removing unused variable: rr\n"
       ]
      },
      {
       "output_type": "stream",
       "stream": "stderr",
       "text": [
        "DEBUG:FFC:  Removing unused variable: tmp2\n"
       ]
      },
      {
       "output_type": "stream",
       "stream": "stderr",
       "text": [
        "DEBUG:FFC:  Removing unused variable: tmp1\n"
       ]
      },
      {
       "output_type": "stream",
       "stream": "stderr",
       "text": [
        "DEBUG:FFC:  Removing unused variable: tmp7\n"
       ]
      },
      {
       "output_type": "stream",
       "stream": "stderr",
       "text": [
        "DEBUG:FFC:  Removing unused variable: tmp6\n"
       ]
      },
      {
       "output_type": "stream",
       "stream": "stderr",
       "text": [
        "DEBUG:FFC:  Removing unused variable: tmp5\n"
       ]
      },
      {
       "output_type": "stream",
       "stream": "stderr",
       "text": [
        "DEBUG:FFC:  Removing unused variable: tt\n"
       ]
      },
      {
       "output_type": "stream",
       "stream": "stderr",
       "text": [
        "DEBUG:FFC:  Removing unused variable: ss\n"
       ]
      },
      {
       "output_type": "stream",
       "stream": "stderr",
       "text": [
        "DEBUG:FFC:  Removing unused variable: rr\n"
       ]
      },
      {
       "output_type": "stream",
       "stream": "stderr",
       "text": [
        "DEBUG:FFC:  Removing unused variable: tmp2\n"
       ]
      },
      {
       "output_type": "stream",
       "stream": "stderr",
       "text": [
        "DEBUG:FFC:  Removing unused variable: tmp1\n"
       ]
      },
      {
       "output_type": "stream",
       "stream": "stderr",
       "text": [
        "DEBUG:FFC:  Removing unused variable: tmp7\n"
       ]
      },
      {
       "output_type": "stream",
       "stream": "stderr",
       "text": [
        "DEBUG:FFC:  Removing unused variable: tmp6\n"
       ]
      },
      {
       "output_type": "stream",
       "stream": "stderr",
       "text": [
        "DEBUG:FFC:  Removing unused variable: tmp5\n"
       ]
      },
      {
       "output_type": "stream",
       "stream": "stderr",
       "text": [
        "DEBUG:FFC:  Removing unused variable: tt\n"
       ]
      },
      {
       "output_type": "stream",
       "stream": "stderr",
       "text": [
        "DEBUG:FFC:  Removing unused variable: ss\n"
       ]
      },
      {
       "output_type": "stream",
       "stream": "stderr",
       "text": [
        "DEBUG:FFC:  Removing unused variable: rr\n"
       ]
      },
      {
       "output_type": "stream",
       "stream": "stderr",
       "text": [
        "DEBUG:FFC:  Removing unused variable: tmp2\n"
       ]
      },
      {
       "output_type": "stream",
       "stream": "stderr",
       "text": [
        "DEBUG:FFC:  Removing unused variable: tmp1\n"
       ]
      },
      {
       "output_type": "stream",
       "stream": "stderr",
       "text": [
        "DEBUG:FFC:  Removing unused variable: tmp7\n"
       ]
      },
      {
       "output_type": "stream",
       "stream": "stderr",
       "text": [
        "DEBUG:FFC:  Removing unused variable: tmp6\n"
       ]
      },
      {
       "output_type": "stream",
       "stream": "stderr",
       "text": [
        "DEBUG:FFC:  Removing unused variable: tmp5\n"
       ]
      },
      {
       "output_type": "stream",
       "stream": "stderr",
       "text": [
        "DEBUG:FFC:  Removing unused variable: tt\n"
       ]
      },
      {
       "output_type": "stream",
       "stream": "stderr",
       "text": [
        "DEBUG:FFC:  Removing unused variable: ss\n"
       ]
      },
      {
       "output_type": "stream",
       "stream": "stderr",
       "text": [
        "DEBUG:FFC:  Removing unused variable: rr\n"
       ]
      },
      {
       "output_type": "stream",
       "stream": "stderr",
       "text": [
        "DEBUG:FFC:  Removing unused variable: tmp2\n"
       ]
      },
      {
       "output_type": "stream",
       "stream": "stderr",
       "text": [
        "DEBUG:FFC:  Removing unused variable: tmp1\n"
       ]
      },
      {
       "output_type": "stream",
       "stream": "stderr",
       "text": [
        "DEBUG:FFC:  Removing unused variable: tmp7\n"
       ]
      },
      {
       "output_type": "stream",
       "stream": "stderr",
       "text": [
        "DEBUG:FFC:  Removing unused variable: tmp6\n"
       ]
      },
      {
       "output_type": "stream",
       "stream": "stderr",
       "text": [
        "DEBUG:FFC:  Removing unused variable: tmp5\n"
       ]
      },
      {
       "output_type": "stream",
       "stream": "stderr",
       "text": [
        "DEBUG:FFC:  Removing unused variable: tt\n"
       ]
      },
      {
       "output_type": "stream",
       "stream": "stderr",
       "text": [
        "DEBUG:FFC:  Removing unused variable: ss\n"
       ]
      },
      {
       "output_type": "stream",
       "stream": "stderr",
       "text": [
        "DEBUG:FFC:  Removing unused variable: rr\n"
       ]
      },
      {
       "output_type": "stream",
       "stream": "stderr",
       "text": [
        "DEBUG:FFC:  Removing unused variable: tmp2\n"
       ]
      },
      {
       "output_type": "stream",
       "stream": "stderr",
       "text": [
        "DEBUG:FFC:  Removing unused variable: tmp1\n"
       ]
      },
      {
       "output_type": "stream",
       "stream": "stderr",
       "text": [
        "DEBUG:FFC:  Removing unused variable: tmp7\n"
       ]
      },
      {
       "output_type": "stream",
       "stream": "stderr",
       "text": [
        "DEBUG:FFC:  Removing unused variable: tmp6\n"
       ]
      },
      {
       "output_type": "stream",
       "stream": "stderr",
       "text": [
        "DEBUG:FFC:  Removing unused variable: tmp5\n"
       ]
      },
      {
       "output_type": "stream",
       "stream": "stderr",
       "text": [
        "DEBUG:FFC:  Removing unused variable: tt\n"
       ]
      },
      {
       "output_type": "stream",
       "stream": "stderr",
       "text": [
        "DEBUG:FFC:  Removing unused variable: ss\n"
       ]
      },
      {
       "output_type": "stream",
       "stream": "stderr",
       "text": [
        "DEBUG:FFC:  Removing unused variable: rr\n"
       ]
      },
      {
       "output_type": "stream",
       "stream": "stderr",
       "text": [
        "DEBUG:FFC:  Removing unused variable: tmp2\n"
       ]
      },
      {
       "output_type": "stream",
       "stream": "stderr",
       "text": [
        "DEBUG:FFC:  Removing unused variable: tmp1\n"
       ]
      },
      {
       "output_type": "stream",
       "stream": "stderr",
       "text": [
        "DEBUG:FFC:  Removing unused variable: tmp0\n"
       ]
      },
      {
       "output_type": "stream",
       "stream": "stderr",
       "text": [
        "DEBUG:FFC:  Removing unused variable: tmp7\n"
       ]
      },
      {
       "output_type": "stream",
       "stream": "stderr",
       "text": [
        "DEBUG:FFC:  Removing unused variable: tmp6\n"
       ]
      },
      {
       "output_type": "stream",
       "stream": "stderr",
       "text": [
        "DEBUG:FFC:  Removing unused variable: tmp5\n"
       ]
      },
      {
       "output_type": "stream",
       "stream": "stderr",
       "text": [
        "DEBUG:FFC:  Removing unused variable: tt\n"
       ]
      },
      {
       "output_type": "stream",
       "stream": "stderr",
       "text": [
        "DEBUG:FFC:  Removing unused variable: ss\n"
       ]
      },
      {
       "output_type": "stream",
       "stream": "stderr",
       "text": [
        "DEBUG:FFC:  Removing unused variable: rr\n"
       ]
      },
      {
       "output_type": "stream",
       "stream": "stderr",
       "text": [
        "DEBUG:FFC:  Removing unused variable: Y\n"
       ]
      },
      {
       "output_type": "stream",
       "stream": "stderr",
       "text": [
        "DEBUG:FFC:  Removing unused variable: X\n"
       ]
      },
      {
       "output_type": "stream",
       "stream": "stderr",
       "text": [
        "DEBUG:FFC:  Removing unused variable: C1\n"
       ]
      },
      {
       "output_type": "stream",
       "stream": "stderr",
       "text": [
        "DEBUG:FFC:  Removing unused variable: C0\n"
       ]
      },
      {
       "output_type": "stream",
       "stream": "stderr",
       "text": [
        "DEBUG:FFC:  Removing unused variable: tmp2\n"
       ]
      },
      {
       "output_type": "stream",
       "stream": "stderr",
       "text": [
        "DEBUG:FFC:  Removing unused variable: tmp1\n"
       ]
      },
      {
       "output_type": "stream",
       "stream": "stderr",
       "text": [
        "DEBUG:FFC:  Removing unused variable: tmp7\n"
       ]
      },
      {
       "output_type": "stream",
       "stream": "stderr",
       "text": [
        "DEBUG:FFC:  Removing unused variable: tmp6\n"
       ]
      },
      {
       "output_type": "stream",
       "stream": "stderr",
       "text": [
        "DEBUG:FFC:  Removing unused variable: tmp5\n"
       ]
      },
      {
       "output_type": "stream",
       "stream": "stderr",
       "text": [
        "DEBUG:FFC:  Removing unused variable: tt\n"
       ]
      },
      {
       "output_type": "stream",
       "stream": "stderr",
       "text": [
        "DEBUG:FFC:  Removing unused variable: ss\n"
       ]
      },
      {
       "output_type": "stream",
       "stream": "stderr",
       "text": [
        "DEBUG:FFC:  Removing unused variable: rr\n"
       ]
      },
      {
       "output_type": "stream",
       "stream": "stderr",
       "text": [
        "DEBUG:FFC:  Removing unused variable: tmp2\n"
       ]
      },
      {
       "output_type": "stream",
       "stream": "stderr",
       "text": [
        "DEBUG:FFC:  Removing unused variable: tmp1\n"
       ]
      },
      {
       "output_type": "stream",
       "stream": "stderr",
       "text": [
        "DEBUG:FFC:  Removing unused variable: tmp7\n"
       ]
      },
      {
       "output_type": "stream",
       "stream": "stderr",
       "text": [
        "DEBUG:FFC:  Removing unused variable: tmp6\n"
       ]
      },
      {
       "output_type": "stream",
       "stream": "stderr",
       "text": [
        "DEBUG:FFC:  Removing unused variable: tmp5\n"
       ]
      },
      {
       "output_type": "stream",
       "stream": "stderr",
       "text": [
        "DEBUG:FFC:  Removing unused variable: tt\n"
       ]
      },
      {
       "output_type": "stream",
       "stream": "stderr",
       "text": [
        "DEBUG:FFC:  Removing unused variable: ss\n"
       ]
      },
      {
       "output_type": "stream",
       "stream": "stderr",
       "text": [
        "DEBUG:FFC:  Removing unused variable: rr\n"
       ]
      },
      {
       "output_type": "stream",
       "stream": "stderr",
       "text": [
        "DEBUG:FFC:  Removing unused variable: tmp2\n"
       ]
      },
      {
       "output_type": "stream",
       "stream": "stderr",
       "text": [
        "DEBUG:FFC:  Removing unused variable: tmp1\n"
       ]
      },
      {
       "output_type": "stream",
       "stream": "stderr",
       "text": [
        "DEBUG:FFC:  Removing unused variable: tmp7\n"
       ]
      },
      {
       "output_type": "stream",
       "stream": "stderr",
       "text": [
        "DEBUG:FFC:  Removing unused variable: tmp6\n"
       ]
      },
      {
       "output_type": "stream",
       "stream": "stderr",
       "text": [
        "DEBUG:FFC:  Removing unused variable: tmp5\n"
       ]
      },
      {
       "output_type": "stream",
       "stream": "stderr",
       "text": [
        "DEBUG:FFC:  Removing unused variable: tt\n"
       ]
      },
      {
       "output_type": "stream",
       "stream": "stderr",
       "text": [
        "DEBUG:FFC:  Removing unused variable: ss\n"
       ]
      },
      {
       "output_type": "stream",
       "stream": "stderr",
       "text": [
        "DEBUG:FFC:  Removing unused variable: rr\n"
       ]
      },
      {
       "output_type": "stream",
       "stream": "stderr",
       "text": [
        "DEBUG:FFC:  Removing unused variable: tmp2\n"
       ]
      },
      {
       "output_type": "stream",
       "stream": "stderr",
       "text": [
        "DEBUG:FFC:  Removing unused variable: tmp1\n"
       ]
      },
      {
       "output_type": "stream",
       "stream": "stderr",
       "text": [
        "DEBUG:FFC:  Removing unused variable: tmp0\n"
       ]
      },
      {
       "output_type": "stream",
       "stream": "stderr",
       "text": [
        "DEBUG:FFC:  Removing unused variable: tmp7\n"
       ]
      },
      {
       "output_type": "stream",
       "stream": "stderr",
       "text": [
        "DEBUG:FFC:  Removing unused variable: tmp6\n"
       ]
      },
      {
       "output_type": "stream",
       "stream": "stderr",
       "text": [
        "DEBUG:FFC:  Removing unused variable: tmp5\n"
       ]
      },
      {
       "output_type": "stream",
       "stream": "stderr",
       "text": [
        "DEBUG:FFC:  Removing unused variable: tt\n"
       ]
      },
      {
       "output_type": "stream",
       "stream": "stderr",
       "text": [
        "DEBUG:FFC:  Removing unused variable: ss\n"
       ]
      },
      {
       "output_type": "stream",
       "stream": "stderr",
       "text": [
        "DEBUG:FFC:  Removing unused variable: rr\n"
       ]
      },
      {
       "output_type": "stream",
       "stream": "stderr",
       "text": [
        "DEBUG:FFC:  Removing unused variable: tmp2\n"
       ]
      },
      {
       "output_type": "stream",
       "stream": "stderr",
       "text": [
        "DEBUG:FFC:  Removing unused variable: tmp1\n"
       ]
      },
      {
       "output_type": "stream",
       "stream": "stderr",
       "text": [
        "DEBUG:FFC:  Removing unused variable: tmp0\n"
       ]
      },
      {
       "output_type": "stream",
       "stream": "stderr",
       "text": [
        "DEBUG:FFC:  Removing unused variable: tmp7\n"
       ]
      },
      {
       "output_type": "stream",
       "stream": "stderr",
       "text": [
        "DEBUG:FFC:  Removing unused variable: tmp6\n"
       ]
      },
      {
       "output_type": "stream",
       "stream": "stderr",
       "text": [
        "DEBUG:FFC:  Removing unused variable: tmp5\n"
       ]
      },
      {
       "output_type": "stream",
       "stream": "stderr",
       "text": [
        "DEBUG:FFC:  Removing unused variable: tt\n"
       ]
      },
      {
       "output_type": "stream",
       "stream": "stderr",
       "text": [
        "DEBUG:FFC:  Removing unused variable: ss\n"
       ]
      },
      {
       "output_type": "stream",
       "stream": "stderr",
       "text": [
        "DEBUG:FFC:  Removing unused variable: rr\n"
       ]
      },
      {
       "output_type": "stream",
       "stream": "stderr",
       "text": [
        "DEBUG:FFC:  Removing unused variable: tmp2\n"
       ]
      },
      {
       "output_type": "stream",
       "stream": "stderr",
       "text": [
        "DEBUG:FFC:  Removing unused variable: tmp1\n"
       ]
      },
      {
       "output_type": "stream",
       "stream": "stderr",
       "text": [
        "DEBUG:FFC:  Removing unused variable: tmp7\n"
       ]
      },
      {
       "output_type": "stream",
       "stream": "stderr",
       "text": [
        "DEBUG:FFC:  Removing unused variable: tmp6\n"
       ]
      },
      {
       "output_type": "stream",
       "stream": "stderr",
       "text": [
        "DEBUG:FFC:  Removing unused variable: tmp5\n"
       ]
      },
      {
       "output_type": "stream",
       "stream": "stderr",
       "text": [
        "DEBUG:FFC:  Removing unused variable: tt\n"
       ]
      },
      {
       "output_type": "stream",
       "stream": "stderr",
       "text": [
        "DEBUG:FFC:  Removing unused variable: ss\n"
       ]
      },
      {
       "output_type": "stream",
       "stream": "stderr",
       "text": [
        "DEBUG:FFC:  Removing unused variable: rr\n"
       ]
      },
      {
       "output_type": "stream",
       "stream": "stderr",
       "text": [
        "DEBUG:FFC:  Removing unused variable: tmp2\n"
       ]
      },
      {
       "output_type": "stream",
       "stream": "stderr",
       "text": [
        "DEBUG:FFC:  Removing unused variable: tmp1\n"
       ]
      },
      {
       "output_type": "stream",
       "stream": "stderr",
       "text": [
        "DEBUG:FFC:  Removing unused variable: tmp7\n"
       ]
      },
      {
       "output_type": "stream",
       "stream": "stderr",
       "text": [
        "DEBUG:FFC:  Removing unused variable: tmp6\n"
       ]
      },
      {
       "output_type": "stream",
       "stream": "stderr",
       "text": [
        "DEBUG:FFC:  Removing unused variable: tmp5\n"
       ]
      },
      {
       "output_type": "stream",
       "stream": "stderr",
       "text": [
        "DEBUG:FFC:  Removing unused variable: tt\n"
       ]
      },
      {
       "output_type": "stream",
       "stream": "stderr",
       "text": [
        "DEBUG:FFC:  Removing unused variable: ss\n"
       ]
      },
      {
       "output_type": "stream",
       "stream": "stderr",
       "text": [
        "DEBUG:FFC:  Removing unused variable: rr\n"
       ]
      },
      {
       "output_type": "stream",
       "stream": "stderr",
       "text": [
        "DEBUG:FFC:  Removing unused variable: tmp2\n"
       ]
      },
      {
       "output_type": "stream",
       "stream": "stderr",
       "text": [
        "DEBUG:FFC:  Removing unused variable: tmp1\n"
       ]
      },
      {
       "output_type": "stream",
       "stream": "stderr",
       "text": [
        "DEBUG:FFC:  Removing unused variable: tmp7\n"
       ]
      },
      {
       "output_type": "stream",
       "stream": "stderr",
       "text": [
        "DEBUG:FFC:  Removing unused variable: tmp6\n"
       ]
      },
      {
       "output_type": "stream",
       "stream": "stderr",
       "text": [
        "DEBUG:FFC:  Removing unused variable: tmp5\n"
       ]
      },
      {
       "output_type": "stream",
       "stream": "stderr",
       "text": [
        "DEBUG:FFC:  Removing unused variable: tt\n"
       ]
      },
      {
       "output_type": "stream",
       "stream": "stderr",
       "text": [
        "DEBUG:FFC:  Removing unused variable: ss\n"
       ]
      },
      {
       "output_type": "stream",
       "stream": "stderr",
       "text": [
        "DEBUG:FFC:  Removing unused variable: rr\n"
       ]
      },
      {
       "output_type": "stream",
       "stream": "stderr",
       "text": [
        "DEBUG:FFC:  Removing unused variable: tmp2\n"
       ]
      },
      {
       "output_type": "stream",
       "stream": "stderr",
       "text": [
        "DEBUG:FFC:  Removing unused variable: tmp1\n"
       ]
      },
      {
       "output_type": "stream",
       "stream": "stderr",
       "text": [
        "DEBUG:FFC:  Removing unused variable: tmp0\n"
       ]
      },
      {
       "output_type": "stream",
       "stream": "stderr",
       "text": [
        "DEBUG:FFC:  Removing unused variable: tmp7\n"
       ]
      },
      {
       "output_type": "stream",
       "stream": "stderr",
       "text": [
        "DEBUG:FFC:  Removing unused variable: tmp6\n"
       ]
      },
      {
       "output_type": "stream",
       "stream": "stderr",
       "text": [
        "DEBUG:FFC:  Removing unused variable: tmp5\n"
       ]
      },
      {
       "output_type": "stream",
       "stream": "stderr",
       "text": [
        "DEBUG:FFC:  Removing unused variable: tt\n"
       ]
      },
      {
       "output_type": "stream",
       "stream": "stderr",
       "text": [
        "DEBUG:FFC:  Removing unused variable: ss\n"
       ]
      },
      {
       "output_type": "stream",
       "stream": "stderr",
       "text": [
        "DEBUG:FFC:  Removing unused variable: rr\n"
       ]
      },
      {
       "output_type": "stream",
       "stream": "stderr",
       "text": [
        "DEBUG:FFC:  Removing unused variable: tmp2\n"
       ]
      },
      {
       "output_type": "stream",
       "stream": "stderr",
       "text": [
        "DEBUG:FFC:  Removing unused variable: tmp1\n"
       ]
      },
      {
       "output_type": "stream",
       "stream": "stderr",
       "text": [
        "DEBUG:FFC:  Removing unused variable: tmp0\n"
       ]
      },
      {
       "output_type": "stream",
       "stream": "stderr",
       "text": [
        "DEBUG:FFC:  Removing unused variable: tmp7\n"
       ]
      },
      {
       "output_type": "stream",
       "stream": "stderr",
       "text": [
        "DEBUG:FFC:  Removing unused variable: tmp6\n"
       ]
      },
      {
       "output_type": "stream",
       "stream": "stderr",
       "text": [
        "DEBUG:FFC:  Removing unused variable: tmp5\n"
       ]
      },
      {
       "output_type": "stream",
       "stream": "stderr",
       "text": [
        "DEBUG:FFC:  Removing unused variable: tt\n"
       ]
      },
      {
       "output_type": "stream",
       "stream": "stderr",
       "text": [
        "DEBUG:FFC:  Removing unused variable: ss\n"
       ]
      },
      {
       "output_type": "stream",
       "stream": "stderr",
       "text": [
        "DEBUG:FFC:  Removing unused variable: rr\n"
       ]
      },
      {
       "output_type": "stream",
       "stream": "stderr",
       "text": [
        "INFO:FFC:  Generating code for 3 dofmap(s)\n"
       ]
      },
      {
       "output_type": "stream",
       "stream": "stderr",
       "text": [
        "INFO:FFC:  Generating code for integrals\n"
       ]
      },
      {
       "output_type": "stream",
       "stream": "stderr",
       "text": [
        "DEBUG:FFC:  Removing unused variable: circumradius\n"
       ]
      },
      {
       "output_type": "stream",
       "stream": "stderr",
       "text": [
        "DEBUG:FFC:  Removing unused variable: v0v1\n"
       ]
      },
      {
       "output_type": "stream",
       "stream": "stderr",
       "text": [
        "DEBUG:FFC:  Removing unused variable: v0v2\n"
       ]
      },
      {
       "output_type": "stream",
       "stream": "stderr",
       "text": [
        "DEBUG:FFC:  Removing unused variable: v1v2\n"
       ]
      },
      {
       "output_type": "stream",
       "stream": "stderr",
       "text": [
        "DEBUG:FFC:  Removing unused variable: volume\n"
       ]
      },
      {
       "output_type": "stream",
       "stream": "stderr",
       "text": [
        "DEBUG:FFC:  Removing unused variable: circumradius\n"
       ]
      },
      {
       "output_type": "stream",
       "stream": "stderr",
       "text": [
        "DEBUG:FFC:  Removing unused variable: v0v1\n"
       ]
      },
      {
       "output_type": "stream",
       "stream": "stderr",
       "text": [
        "DEBUG:FFC:  Removing unused variable: v0v2\n"
       ]
      },
      {
       "output_type": "stream",
       "stream": "stderr",
       "text": [
        "DEBUG:FFC:  Removing unused variable: v1v2\n"
       ]
      },
      {
       "output_type": "stream",
       "stream": "stderr",
       "text": [
        "DEBUG:FFC:  Removing unused variable: volume\n"
       ]
      },
      {
       "output_type": "stream",
       "stream": "stderr",
       "text": [
        "DEBUG:FFC:  Removing unused variable: facet_area\n"
       ]
      },
      {
       "output_type": "stream",
       "stream": "stderr",
       "text": [
        "DEBUG:FFC:  Removing unused variable: n1\n"
       ]
      },
      {
       "output_type": "stream",
       "stream": "stderr",
       "text": [
        "DEBUG:FFC:  Removing unused variable: n0\n"
       ]
      },
      {
       "output_type": "stream",
       "stream": "stderr",
       "text": [
        "DEBUG:FFC:  Removing unused variable: direction\n"
       ]
      },
      {
       "output_type": "stream",
       "stream": "stderr",
       "text": [
        "INFO:FFC:  Generating code for forms\n"
       ]
      },
      {
       "output_type": "stream",
       "stream": "stderr",
       "text": [
        "INFO:FFC:  \n"
       ]
      },
      {
       "output_type": "stream",
       "stream": "stderr",
       "text": [
        "INFO:FFC:Compiler stage 4 finished in 0.127557 seconds.\n",
        "\n"
       ]
      },
      {
       "output_type": "stream",
       "stream": "stderr",
       "text": [
        "INFO:FFC:Compiler stage 4.1 finished in 6.91414e-06 seconds.\n",
        "\n"
       ]
      },
      {
       "output_type": "stream",
       "stream": "stderr",
       "text": [
        "INFO:FFC:Compiler stage 5: Formatting code\n"
       ]
      },
      {
       "output_type": "stream",
       "stream": "stderr",
       "text": [
        "INFO:FFC:---------------------------------\n"
       ]
      },
      {
       "output_type": "stream",
       "stream": "stderr",
       "text": [
        "INFO:FFC:  Output written to ./ffc_form_2a925775b962069a34fdf4d9deca987821d25a86.h.\n"
       ]
      },
      {
       "output_type": "stream",
       "stream": "stderr",
       "text": [
        "INFO:FFC:  \n"
       ]
      },
      {
       "output_type": "stream",
       "stream": "stderr",
       "text": [
        "INFO:FFC:Compiler stage 5 finished in 0.00206208 seconds.\n",
        "\n"
       ]
      },
      {
       "output_type": "stream",
       "stream": "stderr",
       "text": [
        "INFO:FFC:\u001b[1;37;32mFFC finished in 0.347688 seconds.\u001b[0m\n"
       ]
      },
      {
       "output_type": "stream",
       "stream": "stderr",
       "text": [
        "DEBUG:FFC:Compiling and linking Python extension module, this may take some time.\n"
       ]
      },
      {
       "output_type": "stream",
       "stream": "stderr",
       "text": [
        "DEBUG:FFC:Reusing form from cache.\n"
       ]
      },
      {
       "output_type": "stream",
       "stream": "stderr",
       "text": [
        "DEBUG:FFC:Reusing form from cache.\n"
       ]
      },
      {
       "output_type": "stream",
       "stream": "stderr",
       "text": [
        "DEBUG:FFC:Reusing form from cache.\n"
       ]
      },
      {
       "output_type": "stream",
       "stream": "stderr",
       "text": [
        "DEBUG:FFC:Reusing form from cache.\n"
       ]
      },
      {
       "output_type": "stream",
       "stream": "stderr",
       "text": [
        "DEBUG:FFC:Reusing form from cache.\n"
       ]
      },
      {
       "output_type": "stream",
       "stream": "stderr",
       "text": [
        "DEBUG:FFC:Reusing form from cache.\n"
       ]
      },
      {
       "output_type": "stream",
       "stream": "stderr",
       "text": [
        "DEBUG:FFC:Reusing form from cache.\n"
       ]
      },
      {
       "output_type": "stream",
       "stream": "stderr",
       "text": [
        "DEBUG:FFC:Reusing form from cache.\n"
       ]
      },
      {
       "output_type": "stream",
       "stream": "stderr",
       "text": [
        "DEBUG:FFC:Reusing form from cache.\n"
       ]
      },
      {
       "output_type": "stream",
       "stream": "stderr",
       "text": [
        "DEBUG:FFC:Reusing form from cache.\n"
       ]
      },
      {
       "output_type": "stream",
       "stream": "stderr",
       "text": [
        "DEBUG:FFC:Reusing form from cache.\n"
       ]
      },
      {
       "output_type": "stream",
       "stream": "stderr",
       "text": [
        "DEBUG:FFC:Reusing form from cache.\n"
       ]
      },
      {
       "output_type": "stream",
       "stream": "stderr",
       "text": [
        "DEBUG:FFC:Reusing form from cache.\n"
       ]
      },
      {
       "output_type": "stream",
       "stream": "stderr",
       "text": [
        "DEBUG:FFC:Reusing form from cache.\n"
       ]
      },
      {
       "output_type": "stream",
       "stream": "stderr",
       "text": [
        "DEBUG:FFC:Reusing form from cache.\n"
       ]
      },
      {
       "output_type": "stream",
       "stream": "stderr",
       "text": [
        "DEBUG:FFC:Reusing form from cache.\n"
       ]
      },
      {
       "output_type": "stream",
       "stream": "stderr",
       "text": [
        "DEBUG:FFC:Reusing form from cache.\n"
       ]
      },
      {
       "output_type": "stream",
       "stream": "stderr",
       "text": [
        "DEBUG:FFC:Reusing form from cache.\n"
       ]
      },
      {
       "output_type": "stream",
       "stream": "stderr",
       "text": [
        "DEBUG:FFC:Reusing form from cache.\n"
       ]
      },
      {
       "output_type": "stream",
       "stream": "stderr",
       "text": [
        "DEBUG:FFC:Reusing form from cache.\n"
       ]
      },
      {
       "output_type": "stream",
       "stream": "stderr",
       "text": [
        "DEBUG:FFC:Reusing form from cache.\n"
       ]
      },
      {
       "output_type": "stream",
       "stream": "stderr",
       "text": [
        "DEBUG:FFC:Reusing form from cache.\n"
       ]
      },
      {
       "output_type": "stream",
       "stream": "stderr",
       "text": [
        "DEBUG:FFC:Reusing form from cache.\n"
       ]
      },
      {
       "output_type": "stream",
       "stream": "stderr",
       "text": [
        "DEBUG:FFC:Reusing form from cache.\n"
       ]
      },
      {
       "output_type": "stream",
       "stream": "stderr",
       "text": [
        "DEBUG:FFC:Reusing form from cache.\n"
       ]
      },
      {
       "output_type": "stream",
       "stream": "stderr",
       "text": [
        "DEBUG:FFC:Reusing form from cache.\n"
       ]
      },
      {
       "output_type": "stream",
       "stream": "stderr",
       "text": [
        "DEBUG:FFC:Reusing form from cache.\n"
       ]
      },
      {
       "output_type": "stream",
       "stream": "stderr",
       "text": [
        "DEBUG:FFC:Reusing form from cache.\n"
       ]
      },
      {
       "output_type": "stream",
       "stream": "stderr",
       "text": [
        "DEBUG:FFC:Reusing form from cache.\n"
       ]
      },
      {
       "output_type": "stream",
       "stream": "stderr",
       "text": [
        "DEBUG:FFC:Reusing form from cache.\n"
       ]
      },
      {
       "output_type": "stream",
       "stream": "stderr",
       "text": [
        "DEBUG:FFC:Reusing form from cache.\n"
       ]
      },
      {
       "output_type": "stream",
       "stream": "stderr",
       "text": [
        "DEBUG:FFC:Reusing form from cache.\n"
       ]
      },
      {
       "output_type": "stream",
       "stream": "stderr",
       "text": [
        "DEBUG:FFC:Reusing form from cache.\n"
       ]
      },
      {
       "output_type": "stream",
       "stream": "stderr",
       "text": [
        "DEBUG:FFC:Reusing form from cache.\n"
       ]
      },
      {
       "output_type": "stream",
       "stream": "stdout",
       "text": [
        "###############  0.0\n",
        "cCa_n  3.6679203006 conc  3.6679203006\n",
        "cCaSSL_n  105.464223126 conc  1.05464223126\n",
        "cCaCleft_n  0.967856573868 conc  0.967856573868\n",
        "CONSERVATION: 110.1\n",
        "###############  1.0\n",
        "cCa_n  1.91302441348 conc  1.91302441348\n",
        "cCaSSL_n  107.125123863 conc  1.07125123863\n",
        "cCaCleft_n  1.06185172365 conc  1.06185172365\n",
        "CONSERVATION: 110.1\n",
        "############### "
       ]
      },
      {
       "output_type": "stream",
       "stream": "stderr",
       "text": [
        "DEBUG:FFC:Reusing form from cache.\n"
       ]
      },
      {
       "output_type": "stream",
       "stream": "stderr",
       "text": [
        "DEBUG:FFC:Reusing form from cache.\n"
       ]
      },
      {
       "output_type": "stream",
       "stream": "stderr",
       "text": [
        "DEBUG:FFC:Reusing form from cache.\n"
       ]
      },
      {
       "output_type": "stream",
       "stream": "stderr",
       "text": [
        "DEBUG:FFC:Reusing form from cache.\n"
       ]
      },
      {
       "output_type": "stream",
       "stream": "stderr",
       "text": [
        "DEBUG:FFC:Reusing form from cache.\n"
       ]
      },
      {
       "output_type": "stream",
       "stream": "stderr",
       "text": [
        "DEBUG:FFC:Reusing form from cache.\n"
       ]
      },
      {
       "output_type": "stream",
       "stream": "stderr",
       "text": [
        "DEBUG:FFC:Reusing form from cache.\n"
       ]
      },
      {
       "output_type": "stream",
       "stream": "stderr",
       "text": [
        "DEBUG:FFC:Reusing form from cache.\n"
       ]
      },
      {
       "output_type": "stream",
       "stream": "stderr",
       "text": [
        "DEBUG:FFC:Reusing form from cache.\n"
       ]
      },
      {
       "output_type": "stream",
       "stream": "stderr",
       "text": [
        "DEBUG:FFC:Reusing form from cache.\n"
       ]
      },
      {
       "output_type": "stream",
       "stream": "stderr",
       "text": [
        "DEBUG:FFC:Reusing form from cache.\n"
       ]
      },
      {
       "output_type": "stream",
       "stream": "stderr",
       "text": [
        "DEBUG:FFC:Reusing form from cache.\n"
       ]
      },
      {
       "output_type": "stream",
       "stream": "stderr",
       "text": [
        "DEBUG:FFC:Reusing form from cache.\n"
       ]
      },
      {
       "output_type": "stream",
       "stream": "stderr",
       "text": [
        "DEBUG:FFC:Reusing form from cache.\n"
       ]
      },
      {
       "output_type": "stream",
       "stream": "stderr",
       "text": [
        "DEBUG:FFC:Reusing form from cache.\n"
       ]
      },
      {
       "output_type": "stream",
       "stream": "stderr",
       "text": [
        "DEBUG:FFC:Reusing form from cache.\n"
       ]
      },
      {
       "output_type": "stream",
       "stream": "stderr",
       "text": [
        "DEBUG:FFC:Reusing form from cache.\n"
       ]
      },
      {
       "output_type": "stream",
       "stream": "stderr",
       "text": [
        "DEBUG:FFC:Reusing form from cache.\n"
       ]
      },
      {
       "output_type": "stream",
       "stream": "stderr",
       "text": [
        "DEBUG:FFC:Reusing form from cache.\n"
       ]
      },
      {
       "output_type": "stream",
       "stream": "stderr",
       "text": [
        "DEBUG:FFC:Reusing form from cache.\n"
       ]
      },
      {
       "output_type": "stream",
       "stream": "stderr",
       "text": [
        "DEBUG:FFC:Reusing form from cache.\n"
       ]
      },
      {
       "output_type": "stream",
       "stream": "stderr",
       "text": [
        "DEBUG:FFC:Reusing form from cache.\n"
       ]
      },
      {
       "output_type": "stream",
       "stream": "stderr",
       "text": [
        "DEBUG:FFC:Reusing form from cache.\n"
       ]
      },
      {
       "output_type": "stream",
       "stream": "stderr",
       "text": [
        "DEBUG:FFC:Reusing form from cache.\n"
       ]
      },
      {
       "output_type": "stream",
       "stream": "stderr",
       "text": [
        "DEBUG:FFC:Reusing form from cache.\n"
       ]
      },
      {
       "output_type": "stream",
       "stream": "stderr",
       "text": [
        "DEBUG:FFC:Reusing form from cache.\n"
       ]
      },
      {
       "output_type": "stream",
       "stream": "stderr",
       "text": [
        "DEBUG:FFC:Reusing form from cache.\n"
       ]
      },
      {
       "output_type": "stream",
       "stream": "stderr",
       "text": [
        "DEBUG:FFC:Reusing form from cache.\n"
       ]
      },
      {
       "output_type": "stream",
       "stream": "stdout",
       "text": [
        " 2.0\n",
        "cCa_n  1.35121406576 conc  1.35121406576\n",
        "cCaSSL_n  107.673404825 conc  1.07673404825\n",
        "cCaCleft_n  1.07538110965 conc  1.07538110965\n",
        "CONSERVATION: 110.1\n",
        "###############  3.0\n",
        "cCa_n  1.16818968839 conc  1.16818968839\n",
        "cCaSSL_n  107.85356147 conc  1.0785356147\n",
        "cCaCleft_n  1.07824884151 conc  1.07824884151\n",
        "CONSERVATION: 110.1\n",
        "############### "
       ]
      },
      {
       "output_type": "stream",
       "stream": "stderr",
       "text": [
        "DEBUG:FFC:Reusing form from cache.\n"
       ]
      },
      {
       "output_type": "stream",
       "stream": "stderr",
       "text": [
        "DEBUG:FFC:Reusing form from cache.\n"
       ]
      },
      {
       "output_type": "stream",
       "stream": "stderr",
       "text": [
        "DEBUG:FFC:Reusing form from cache.\n"
       ]
      },
      {
       "output_type": "stream",
       "stream": "stderr",
       "text": [
        "DEBUG:FFC:Reusing form from cache.\n"
       ]
      },
      {
       "output_type": "stream",
       "stream": "stderr",
       "text": [
        "DEBUG:FFC:Reusing form from cache.\n"
       ]
      },
      {
       "output_type": "stream",
       "stream": "stderr",
       "text": [
        "DEBUG:FFC:Reusing form from cache.\n"
       ]
      },
      {
       "output_type": "stream",
       "stream": "stderr",
       "text": [
        "DEBUG:FFC:Reusing form from cache.\n"
       ]
      },
      {
       "output_type": "stream",
       "stream": "stderr",
       "text": [
        "DEBUG:FFC:Reusing form from cache.\n"
       ]
      },
      {
       "output_type": "stream",
       "stream": "stderr",
       "text": [
        "DEBUG:FFC:Reusing form from cache.\n"
       ]
      },
      {
       "output_type": "stream",
       "stream": "stderr",
       "text": [
        "DEBUG:FFC:Reusing form from cache.\n"
       ]
      },
      {
       "output_type": "stream",
       "stream": "stderr",
       "text": [
        "DEBUG:FFC:Reusing form from cache.\n"
       ]
      },
      {
       "output_type": "stream",
       "stream": "stderr",
       "text": [
        "DEBUG:FFC:Reusing form from cache.\n"
       ]
      },
      {
       "output_type": "stream",
       "stream": "stderr",
       "text": [
        "DEBUG:FFC:Reusing form from cache.\n"
       ]
      },
      {
       "output_type": "stream",
       "stream": "stderr",
       "text": [
        "DEBUG:FFC:Reusing form from cache.\n"
       ]
      },
      {
       "output_type": "stream",
       "stream": "stderr",
       "text": [
        "DEBUG:FFC:Reusing form from cache.\n"
       ]
      },
      {
       "output_type": "stream",
       "stream": "stderr",
       "text": [
        "DEBUG:FFC:Reusing form from cache.\n"
       ]
      },
      {
       "output_type": "stream",
       "stream": "stderr",
       "text": [
        "DEBUG:FFC:Reusing form from cache.\n"
       ]
      },
      {
       "output_type": "stream",
       "stream": "stderr",
       "text": [
        "DEBUG:FFC:Reusing form from cache.\n"
       ]
      },
      {
       "output_type": "stream",
       "stream": "stderr",
       "text": [
        "DEBUG:FFC:Reusing form from cache.\n"
       ]
      },
      {
       "output_type": "stream",
       "stream": "stderr",
       "text": [
        "DEBUG:FFC:Reusing form from cache.\n"
       ]
      },
      {
       "output_type": "stream",
       "stream": "stderr",
       "text": [
        "DEBUG:FFC:Reusing form from cache.\n"
       ]
      },
      {
       "output_type": "stream",
       "stream": "stderr",
       "text": [
        "DEBUG:FFC:Reusing form from cache.\n"
       ]
      },
      {
       "output_type": "stream",
       "stream": "stderr",
       "text": [
        "DEBUG:FFC:Reusing form from cache.\n"
       ]
      },
      {
       "output_type": "stream",
       "stream": "stderr",
       "text": [
        "DEBUG:FFC:Reusing form from cache.\n"
       ]
      },
      {
       "output_type": "stream",
       "stream": "stderr",
       "text": [
        "DEBUG:FFC:Reusing form from cache.\n"
       ]
      },
      {
       "output_type": "stream",
       "stream": "stderr",
       "text": [
        "DEBUG:FFC:Reusing form from cache.\n"
       ]
      },
      {
       "output_type": "stream",
       "stream": "stderr",
       "text": [
        "DEBUG:FFC:Reusing form from cache.\n"
       ]
      },
      {
       "output_type": "stream",
       "stream": "stderr",
       "text": [
        "DEBUG:FFC:Reusing form from cache.\n"
       ]
      },
      {
       "output_type": "stream",
       "stream": "stdout",
       "text": [
        " 4.0\n",
        "cCa_n  1.10841670007 conc  1.10841670007\n",
        "cCaSSL_n  107.912537609 conc  1.07912537609\n",
        "cCaCleft_n  1.07904569113 conc  1.07904569113\n",
        "CONSERVATION: 110.1\n",
        "###############  5.0\n",
        "cCa_n  1.08888845166 conc  1.08888845166\n",
        "cCaSSL_n  107.931818139 conc  1.07931818139\n",
        "cCaCleft_n  1.07929340955 conc  1.07929340955\n",
        "CONSERVATION: 110.1\n",
        "############### "
       ]
      },
      {
       "output_type": "stream",
       "stream": "stderr",
       "text": [
        "DEBUG:FFC:Reusing form from cache.\n"
       ]
      },
      {
       "output_type": "stream",
       "stream": "stderr",
       "text": [
        "DEBUG:FFC:Reusing form from cache.\n"
       ]
      },
      {
       "output_type": "stream",
       "stream": "stderr",
       "text": [
        "DEBUG:FFC:Reusing form from cache.\n"
       ]
      },
      {
       "output_type": "stream",
       "stream": "stderr",
       "text": [
        "DEBUG:FFC:Reusing form from cache.\n"
       ]
      },
      {
       "output_type": "stream",
       "stream": "stderr",
       "text": [
        "DEBUG:FFC:Reusing form from cache.\n"
       ]
      },
      {
       "output_type": "stream",
       "stream": "stderr",
       "text": [
        "DEBUG:FFC:Reusing form from cache.\n"
       ]
      },
      {
       "output_type": "stream",
       "stream": "stderr",
       "text": [
        "DEBUG:FFC:Reusing form from cache.\n"
       ]
      },
      {
       "output_type": "stream",
       "stream": "stderr",
       "text": [
        "DEBUG:FFC:Reusing form from cache.\n"
       ]
      },
      {
       "output_type": "stream",
       "stream": "stderr",
       "text": [
        "DEBUG:FFC:Reusing form from cache.\n"
       ]
      },
      {
       "output_type": "stream",
       "stream": "stderr",
       "text": [
        "DEBUG:FFC:Reusing form from cache.\n"
       ]
      },
      {
       "output_type": "stream",
       "stream": "stderr",
       "text": [
        "DEBUG:FFC:Reusing form from cache.\n"
       ]
      },
      {
       "output_type": "stream",
       "stream": "stderr",
       "text": [
        "DEBUG:FFC:Reusing form from cache.\n"
       ]
      },
      {
       "output_type": "stream",
       "stream": "stderr",
       "text": [
        "DEBUG:FFC:Reusing form from cache.\n"
       ]
      },
      {
       "output_type": "stream",
       "stream": "stderr",
       "text": [
        "DEBUG:FFC:Reusing form from cache.\n"
       ]
      },
      {
       "output_type": "stream",
       "stream": "stderr",
       "text": [
        "DEBUG:FFC:Reusing form from cache.\n"
       ]
      },
      {
       "output_type": "stream",
       "stream": "stderr",
       "text": [
        "DEBUG:FFC:Reusing form from cache.\n"
       ]
      },
      {
       "output_type": "stream",
       "stream": "stderr",
       "text": [
        "DEBUG:FFC:Reusing form from cache.\n"
       ]
      },
      {
       "output_type": "stream",
       "stream": "stderr",
       "text": [
        "DEBUG:FFC:Reusing form from cache.\n"
       ]
      },
      {
       "output_type": "stream",
       "stream": "stderr",
       "text": [
        "DEBUG:FFC:Reusing form from cache.\n"
       ]
      },
      {
       "output_type": "stream",
       "stream": "stderr",
       "text": [
        "DEBUG:FFC:Reusing form from cache.\n"
       ]
      },
      {
       "output_type": "stream",
       "stream": "stderr",
       "text": [
        "DEBUG:FFC:Reusing form from cache.\n"
       ]
      },
      {
       "output_type": "stream",
       "stream": "stderr",
       "text": [
        "DEBUG:FFC:Reusing form from cache.\n"
       ]
      },
      {
       "output_type": "stream",
       "stream": "stderr",
       "text": [
        "DEBUG:FFC:Reusing form from cache.\n"
       ]
      },
      {
       "output_type": "stream",
       "stream": "stderr",
       "text": [
        "DEBUG:FFC:Reusing form from cache.\n"
       ]
      },
      {
       "output_type": "stream",
       "stream": "stderr",
       "text": [
        "DEBUG:FFC:Reusing form from cache.\n"
       ]
      },
      {
       "output_type": "stream",
       "stream": "stderr",
       "text": [
        "DEBUG:FFC:Reusing form from cache.\n"
       ]
      },
      {
       "output_type": "stream",
       "stream": "stderr",
       "text": [
        "DEBUG:FFC:Reusing form from cache.\n"
       ]
      },
      {
       "output_type": "stream",
       "stream": "stderr",
       "text": [
        "DEBUG:FFC:Reusing form from cache.\n"
       ]
      },
      {
       "output_type": "stream",
       "stream": "stdout",
       "text": [
        " 6.0\n",
        "cCa_n  1.08250807099 conc  1.08250807099\n",
        "cCaSSL_n  107.938118722 conc  1.07938118722\n",
        "cCaCleft_n  1.07937320743 conc  1.07937320743\n",
        "CONSERVATION: 110.1\n",
        "###############  7.0\n",
        "cCa_n  1.08042341805 conc  1.08042341805\n",
        "cCaSSL_n  107.940177405 conc  1.07940177405\n",
        "cCaCleft_n  1.07939917708 conc  1.07939917708\n",
        "CONSERVATION: 110.1\n",
        "############### "
       ]
      },
      {
       "output_type": "stream",
       "stream": "stderr",
       "text": [
        "DEBUG:FFC:Reusing form from cache.\n"
       ]
      },
      {
       "output_type": "stream",
       "stream": "stderr",
       "text": [
        "DEBUG:FFC:Reusing form from cache.\n"
       ]
      },
      {
       "output_type": "stream",
       "stream": "stderr",
       "text": [
        "DEBUG:FFC:Reusing form from cache.\n"
       ]
      },
      {
       "output_type": "stream",
       "stream": "stderr",
       "text": [
        "DEBUG:FFC:Reusing form from cache.\n"
       ]
      },
      {
       "output_type": "stream",
       "stream": "stderr",
       "text": [
        "DEBUG:FFC:Reusing form from cache.\n"
       ]
      },
      {
       "output_type": "stream",
       "stream": "stderr",
       "text": [
        "DEBUG:FFC:Reusing form from cache.\n"
       ]
      },
      {
       "output_type": "stream",
       "stream": "stderr",
       "text": [
        "DEBUG:FFC:Reusing form from cache.\n"
       ]
      },
      {
       "output_type": "stream",
       "stream": "stderr",
       "text": [
        "DEBUG:FFC:Reusing form from cache.\n"
       ]
      },
      {
       "output_type": "stream",
       "stream": "stderr",
       "text": [
        "DEBUG:FFC:Reusing form from cache.\n"
       ]
      },
      {
       "output_type": "stream",
       "stream": "stderr",
       "text": [
        "DEBUG:FFC:Reusing form from cache.\n"
       ]
      },
      {
       "output_type": "stream",
       "stream": "stderr",
       "text": [
        "DEBUG:FFC:Reusing form from cache.\n"
       ]
      },
      {
       "output_type": "stream",
       "stream": "stderr",
       "text": [
        "DEBUG:FFC:Reusing form from cache.\n"
       ]
      },
      {
       "output_type": "stream",
       "stream": "stderr",
       "text": [
        "DEBUG:FFC:Reusing form from cache.\n"
       ]
      },
      {
       "output_type": "stream",
       "stream": "stderr",
       "text": [
        "DEBUG:FFC:Reusing form from cache.\n"
       ]
      },
      {
       "output_type": "stream",
       "stream": "stderr",
       "text": [
        "DEBUG:FFC:Reusing form from cache.\n"
       ]
      },
      {
       "output_type": "stream",
       "stream": "stderr",
       "text": [
        "DEBUG:FFC:Reusing form from cache.\n"
       ]
      },
      {
       "output_type": "stream",
       "stream": "stderr",
       "text": [
        "DEBUG:FFC:Reusing form from cache.\n"
       ]
      },
      {
       "output_type": "stream",
       "stream": "stderr",
       "text": [
        "DEBUG:FFC:Reusing form from cache.\n"
       ]
      },
      {
       "output_type": "stream",
       "stream": "stderr",
       "text": [
        "DEBUG:FFC:Reusing form from cache.\n"
       ]
      },
      {
       "output_type": "stream",
       "stream": "stderr",
       "text": [
        "DEBUG:FFC:Reusing form from cache.\n"
       ]
      },
      {
       "output_type": "stream",
       "stream": "stderr",
       "text": [
        "DEBUG:FFC:Reusing form from cache.\n"
       ]
      },
      {
       "output_type": "stream",
       "stream": "stderr",
       "text": [
        "DEBUG:FFC:Reusing form from cache.\n"
       ]
      },
      {
       "output_type": "stream",
       "stream": "stderr",
       "text": [
        "DEBUG:FFC:Reusing form from cache.\n"
       ]
      },
      {
       "output_type": "stream",
       "stream": "stdout",
       "text": [
        " 8.0\n",
        "cCa_n  1.07974230134 conc  1.07974230134\n",
        "cCaSSL_n  107.940850046 conc  1.07940850046\n",
        "cCaCleft_n  1.07940765288 conc  1.07940765288\n",
        "CONSERVATION: 110.1\n",
        "###############  9.0\n",
        "cCa_n  1.07951976066 conc  1.07951976066\n",
        "cCaSSL_n  107.941069818 conc  1.07941069818\n",
        "cCaCleft_n  1.07941042133 conc  1.07941042133\n",
        "CONSERVATION: 110.1\n",
        "[ 1.]"
       ]
      },
      {
       "output_type": "stream",
       "stream": "stderr",
       "text": [
        "DEBUG:FFC:Reusing form from cache.\n"
       ]
      },
      {
       "output_type": "stream",
       "stream": "stderr",
       "text": [
        "DEBUG:FFC:Reusing form from cache.\n"
       ]
      },
      {
       "output_type": "stream",
       "stream": "stderr",
       "text": [
        "DEBUG:FFC:Reusing form from cache.\n"
       ]
      },
      {
       "output_type": "stream",
       "stream": "stderr",
       "text": [
        "DEBUG:FFC:Reusing form from cache.\n"
       ]
      },
      {
       "output_type": "stream",
       "stream": "stderr",
       "text": [
        "DEBUG:FFC:Reusing form from cache.\n"
       ]
      },
      {
       "output_type": "stream",
       "stream": "stderr",
       "text": [
        "DEBUG:FFC:Reusing form from cache.\n"
       ]
      },
      {
       "output_type": "stream",
       "stream": "stderr",
       "text": [
        "DEBUG:FFC:Reusing form from cache.\n"
       ]
      },
      {
       "output_type": "stream",
       "stream": "stderr",
       "text": [
        "DEBUG:FFC:Reusing form from cache.\n"
       ]
      },
      {
       "output_type": "stream",
       "stream": "stderr",
       "text": [
        "DEBUG:FFC:Reusing form from cache.\n"
       ]
      },
      {
       "output_type": "stream",
       "stream": "stderr",
       "text": [
        "DEBUG:FFC:Reusing form from cache.\n"
       ]
      },
      {
       "output_type": "stream",
       "stream": "stderr",
       "text": [
        "DEBUG:FFC:Reusing form from cache.\n"
       ]
      },
      {
       "output_type": "stream",
       "stream": "stderr",
       "text": [
        "DEBUG:FFC:Reusing form from cache.\n"
       ]
      },
      {
       "output_type": "stream",
       "stream": "stderr",
       "text": [
        "DEBUG:FFC:Reusing form from cache.\n"
       ]
      },
      {
       "output_type": "stream",
       "stream": "stderr",
       "text": [
        "DEBUG:FFC:Reusing form from cache.\n"
       ]
      },
      {
       "output_type": "stream",
       "stream": "stderr",
       "text": [
        "DEBUG:FFC:Reusing form from cache.\n"
       ]
      },
      {
       "output_type": "stream",
       "stream": "stderr",
       "text": [
        "DEBUG:FFC:Reusing form from cache.\n"
       ]
      },
      {
       "output_type": "stream",
       "stream": "stderr",
       "text": [
        "DEBUG:FFC:Reusing form from cache.\n"
       ]
      },
      {
       "output_type": "stream",
       "stream": "stderr",
       "text": [
        "DEBUG:FFC:Reusing form from cache.\n"
       ]
      },
      {
       "output_type": "stream",
       "stream": "stderr",
       "text": [
        "DEBUG:FFC:Reusing form from cache.\n"
       ]
      },
      {
       "output_type": "stream",
       "stream": "stderr",
       "text": [
        "DEBUG:FFC:Reusing form from cache.\n"
       ]
      },
      {
       "output_type": "stream",
       "stream": "stderr",
       "text": [
        "DEBUG:FFC:Reusing form from cache.\n"
       ]
      },
      {
       "output_type": "stream",
       "stream": "stderr",
       "text": [
        "DEBUG:FFC:Reusing form from cache.\n"
       ]
      },
      {
       "output_type": "stream",
       "stream": "stderr",
       "text": [
        "DEBUG:FFC:Reusing form from cache.\n"
       ]
      },
      {
       "output_type": "stream",
       "stream": "stderr",
       "text": [
        "DEBUG:FFC:Reusing form from cache.\n"
       ]
      },
      {
       "output_type": "stream",
       "stream": "stderr",
       "text": [
        "DEBUG:FFC:Reusing form from cache.\n"
       ]
      },
      {
       "output_type": "stream",
       "stream": "stderr",
       "text": [
        "DEBUG:FFC:Reusing form from cache.\n"
       ]
      },
      {
       "output_type": "stream",
       "stream": "stderr",
       "text": [
        "DEBUG:FFC:Reusing form from cache.\n"
       ]
      },
      {
       "output_type": "stream",
       "stream": "stderr",
       "text": [
        "DEBUG:FFC:Reusing form from cache.\n"
       ]
      },
      {
       "output_type": "stream",
       "stream": "stderr",
       "text": [
        "DEBUG:FFC:Reusing form from cache.\n"
       ]
      },
      {
       "output_type": "stream",
       "stream": "stderr",
       "text": [
        "DEBUG:FFC:Reusing form from cache.\n"
       ]
      },
      {
       "output_type": "stream",
       "stream": "stderr",
       "text": [
        "DEBUG:FFC:Reusing form from cache.\n"
       ]
      },
      {
       "output_type": "stream",
       "stream": "stderr",
       "text": [
        "DEBUG:FFC:Reusing form from cache.\n"
       ]
      },
      {
       "output_type": "stream",
       "stream": "stderr",
       "text": [
        "DEBUG:FFC:Reusing form from cache.\n"
       ]
      },
      {
       "output_type": "stream",
       "stream": "stderr",
       "text": [
        "DEBUG:FFC:Reusing form from cache.\n"
       ]
      },
      {
       "output_type": "stream",
       "stream": "stderr",
       "text": [
        "DEBUG:FFC:Reusing form from cache.\n"
       ]
      },
      {
       "output_type": "stream",
       "stream": "stderr",
       "text": [
        "DEBUG:FFC:Reusing form from cache.\n"
       ]
      },
      {
       "output_type": "stream",
       "stream": "stderr",
       "text": [
        "DEBUG:FFC:Reusing form from cache.\n"
       ]
      },
      {
       "output_type": "stream",
       "stream": "stdout",
       "text": [
        " [ 100.] [ 1.]\n",
        "Assemble 0/3.667920\n",
        "Assemble 1/1.913024\n",
        "Assemble 2/1.351214\n",
        "Assemble 3/1.168190\n",
        "Assemble 4/1.108417\n",
        "Assemble 5/1.088888\n",
        "Assemble 6/1.082508\n",
        "Assemble 7/1.080423\n",
        "Assemble 8/1.079742\n",
        "Assemble 9/1.079520"
       ]
      },
      {
       "output_type": "stream",
       "stream": "stderr",
       "text": [
        "DEBUG:FFC:Reusing form from cache.\n"
       ]
      },
      {
       "output_type": "stream",
       "stream": "stderr",
       "text": [
        "DEBUG:FFC:Reusing form from cache.\n"
       ]
      },
      {
       "output_type": "stream",
       "stream": "stderr",
       "text": [
        "DEBUG:FFC:Reusing form from cache.\n"
       ]
      },
      {
       "output_type": "stream",
       "stream": "stdout",
       "text": [
        "\n"
       ]
      }
     ],
     "prompt_number": 48
    },
    {
     "cell_type": "code",
     "collapsed": false,
     "input": [
      "\n",
      "plt.figure()\n",
      "plt.title(\"[Ca_cyto]\")\n",
      "for i in range(np.shape(concsCas)[0]):\n",
      "    plt.plot(tsi,concsCas[i,:],label=\"Di=%4.2f\"%Ds[i])\n",
      "plt.legend()\n",
      "\n",
      "plt.figure()    \n",
      "plt.title(\"[Ca_cleft]\")\n",
      "for i in range(np.shape(concsCas)[0]):\n",
      "    plt.plot(tsi,concsCaClefts[i,:])\n",
      "    \n",
      "    "
     ],
     "language": "python",
     "metadata": {},
     "outputs": [
      {
       "metadata": {},
       "output_type": "display_data",
       "png": "[encoded data removed]",
       "text": [
        "<matplotlib.figure.Figure at 0x7f89dd54ac10>"
       ]
      },
      {
       "metadata": {},
       "output_type": "display_data",
       "png": "[encoded data removed]",
       "text": [
        "<matplotlib.figure.Figure at 0x7f89dc25d7d0>"
       ]
      }
     ],
     "prompt_number": 52
    },
    {
     "cell_type": "markdown",
     "metadata": {},
     "source": [
      "## <font color=red>Stop here for now</font>"
     ]
    },
    {
     "cell_type": "markdown",
     "metadata": {},
     "source": [
      "### Example for 3D sim\n",
      "<code>\n",
      "mpirun -np 16 python sachse.py -test4  \n",
      "</code>\n",
      "\n",
      "<font color=red>volume trags aren't working...</font>"
     ]
    },
    {
     "cell_type": "code",
     "collapsed": false,
     "input": [],
     "language": "python",
     "metadata": {},
     "outputs": []
    },
    {
     "cell_type": "code",
     "collapsed": false,
     "input": [
      "job3 = empty()\n",
      "job3.hdfName = \"sachse4TT.h5\"\n",
      "job3.ts,job3.concsCaCleft,job3.concsCaSSL,job3.concsCa = analyze.ReadHdf(job3.hdfName,ssl=False)"
     ],
     "language": "python",
     "metadata": {},
     "outputs": [
      {
       "output_type": "stream",
       "stream": "stderr",
       "text": [
        "DEBUG:FFC:Reusing form from cache.\n"
       ]
      },
      {
       "output_type": "stream",
       "stream": "stderr",
       "text": [
        "DEBUG:FFC:Reusing form from cache.\n"
       ]
      },
      {
       "output_type": "stream",
       "stream": "stderr",
       "text": [
        "DEBUG:FFC:Reusing form from cache.\n"
       ]
      },
      {
       "output_type": "stream",
       "stream": "stderr",
       "text": [
        "analyze.py:93: RuntimeWarning: divide by zero encountered in divide\n",
        "  concsCa[i] = assemble(u*dx)/volume_Cyto\n",
        "DEBUG:FFC:Reusing form from cache.\n"
       ]
      },
      {
       "output_type": "stream",
       "stream": "stderr",
       "text": [
        "analyze.py:108: RuntimeWarning: divide by zero encountered in divide\n",
        "  concsCaCleft[i]= assemble(ur*dx)/volume_Cleft\n",
        "DEBUG:FFC:Reusing form from cache.\n"
       ]
      },
      {
       "output_type": "stream",
       "stream": "stderr",
       "text": [
        "DEBUG:FFC:Reusing form from cache.\n"
       ]
      },
      {
       "output_type": "stream",
       "stream": "stderr",
       "text": [
        "DEBUG:FFC:Reusing form from cache.\n"
       ]
      },
      {
       "output_type": "stream",
       "stream": "stderr",
       "text": [
        "DEBUG:FFC:Reusing form from cache.\n"
       ]
      },
      {
       "output_type": "stream",
       "stream": "stderr",
       "text": [
        "DEBUG:FFC:Reusing form from cache.\n"
       ]
      },
      {
       "output_type": "stream",
       "stream": "stderr",
       "text": [
        "DEBUG:FFC:Reusing form from cache.\n"
       ]
      },
      {
       "output_type": "stream",
       "stream": "stderr",
       "text": [
        "DEBUG:FFC:Reusing form from cache.\n"
       ]
      },
      {
       "output_type": "stream",
       "stream": "stderr",
       "text": [
        "DEBUG:FFC:Reusing form from cache.\n"
       ]
      },
      {
       "output_type": "stream",
       "stream": "stdout",
       "text": [
        "[ 0.] [ 0.] [ 0.]\n"
       ]
      }
     ],
     "prompt_number": 15
    },
    {
     "cell_type": "code",
     "collapsed": false,
     "input": [
      "plt.plot(job3.ts,job3.concsCaCleft,label=\"CaCleft\")\n",
      "plt.plot(job3.ts,job3.concsCa,label=\"Ca\") \n",
      "plt.legend()"
     ],
     "language": "python",
     "metadata": {},
     "outputs": [
      {
       "metadata": {},
       "output_type": "pyout",
       "prompt_number": 16,
       "text": [
        "<matplotlib.legend.Legend at 0x7ff958705d90>"
       ]
      },
      {
       "metadata": {},
       "output_type": "display_data",
       "png": "[encoded data removed]",
       "text": [
        "<matplotlib.figure.Figure at 0x7ff9589c6e90>"
       ]
      }
     ],
     "prompt_number": 16
    },
    {
     "cell_type": "markdown",
     "metadata": {},
     "source": [
      "### Goof around "
     ]
    },
    {
     "cell_type": "code",
     "collapsed": false,
     "input": [
      "mesh, u = analyze.ReadHdfSlice(job2.hdfName,i=0)"
     ],
     "language": "python",
     "metadata": {},
     "outputs": [
      {
       "output_type": "stream",
       "stream": "stderr",
       "text": [
        "DEBUG:FFC:Reusing form from cache.\n"
       ]
      },
      {
       "output_type": "stream",
       "stream": "stdout",
       "text": [
        "Retrieving time step: 0.0\n"
       ]
      }
     ],
     "prompt_number": 23
    },
    {
     "cell_type": "markdown",
     "metadata": {},
     "source": [
      "<font color=red> Not really working. Looks fine in paraview </font>"
     ]
    },
    {
     "cell_type": "code",
     "collapsed": false,
     "input": [
      "img0 = analyze.InterpolateData(mesh,u,mode=\"slice\",dims=2,res=50)\n",
      "pcolormesh(img0)"
     ],
     "language": "python",
     "metadata": {},
     "outputs": [
      {
       "output_type": "stream",
       "stream": "stderr",
       "text": [
        "DEBUG:FFC:Reusing form from cache.\n"
       ]
      },
      {
       "output_type": "stream",
       "stream": "stderr",
       "text": [
        "DEBUG:FFC:Reusing form from cache.\n"
       ]
      },
      {
       "output_type": "stream",
       "stream": "stderr",
       "text": [
        "DEBUG:FFC:Reusing form from cache.\n"
       ]
      },
      {
       "metadata": {},
       "output_type": "pyout",
       "prompt_number": 24,
       "text": [
        "<matplotlib.collections.QuadMesh at 0x7f89df72bf10>"
       ]
      },
      {
       "metadata": {},
       "output_type": "display_data",
       "png": "[encoded data removed]",
       "text": [
        "<matplotlib.figure.Figure at 0x7f89df735410>"
       ]
      }
     ],
     "prompt_number": 24
    },
    {
     "cell_type": "code",
     "collapsed": false,
     "input": [
      "line0 = analyze.InterpolateData(mesh,u,mode=\"line\",dims=2)\n",
      "plt.plot(line0)"
     ],
     "language": "python",
     "metadata": {},
     "outputs": [
      {
       "output_type": "stream",
       "stream": "stderr",
       "text": [
        "DEBUG:FFC:Reusing form from cache.\n"
       ]
      },
      {
       "output_type": "stream",
       "stream": "stderr",
       "text": [
        "DEBUG:FFC:Reusing form from cache.\n"
       ]
      },
      {
       "output_type": "stream",
       "stream": "stderr",
       "text": [
        "DEBUG:FFC:Reusing form from cache.\n"
       ]
      },
      {
       "metadata": {},
       "output_type": "pyout",
       "prompt_number": 20,
       "text": [
        "[<matplotlib.lines.Line2D at 0x7f89df9b3ed0>]"
       ]
      },
      {
       "metadata": {},
       "output_type": "display_data",
       "png": "[encoded data removed]",
       "text": [
        "<matplotlib.figure.Figure at 0x7f89dfc260d0>"
       ]
      }
     ],
     "prompt_number": 20
    },
    {
     "cell_type": "code",
     "collapsed": false,
     "input": [],
     "language": "python",
     "metadata": {},
     "outputs": []
    }
   ],
   "metadata": {}
  }
 ]
}