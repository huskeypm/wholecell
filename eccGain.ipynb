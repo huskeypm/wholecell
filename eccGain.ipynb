{
 "metadata": {
  "name": "",
  "signature": "sha256:5b4a1d941744ac7827f4e33bf08b18fd1f4ce9981462f247433834248fee8969"
 },
 "nbformat": 3,
 "nbformat_minor": 0,
 "worksheets": [
  {
   "cells": [
    {
     "cell_type": "markdown",
     "metadata": {},
     "source": [
      "### Examining ECC gain "
     ]
    },
    {
     "cell_type": "code",
     "collapsed": false,
     "input": [
      "%load_ext autoreload\n",
      "%autoreload 2"
     ],
     "language": "python",
     "metadata": {},
     "outputs": [],
     "prompt_number": 1
    },
    {
     "cell_type": "markdown",
     "metadata": {},
     "source": [
      "### Define global variables "
     ]
    },
    {
     "cell_type": "code",
     "collapsed": false,
     "input": [
      "import Case \n",
      "root = \"./\"\n",
      "\n",
      "pacing = 1.0 # Hz\n",
      "stim_period = 1000/pacing # [ms]\n",
      "T_sec = 20\n",
      "T = T_sec * 1e3 # [ms] \n"
     ],
     "language": "python",
     "metadata": {},
     "outputs": [],
     "prompt_number": 103
    },
    {
     "cell_type": "markdown",
     "metadata": {},
     "source": [
      "### Define cases \n",
      "\n",
      "- First case is a 'baseline' case representing control conditions. \n",
      "- Second case corresponds to a 'perturbed' set of conditions"
     ]
    },
    {
     "cell_type": "code",
     "collapsed": false,
     "input": [],
     "language": "python",
     "metadata": {},
     "outputs": [],
     "prompt_number": 103
    },
    {
     "cell_type": "code",
     "collapsed": false,
     "input": [
      "caseDict = dict()\n",
      "\n",
      "# baseline \n",
      "tag=\"baseline\"\n",
      "caseDict[tag] = Case.Case(\n",
      "  tag=tag,# tag for filename \n",
      "  label=tag + \" case \", # label for simulation when plotted\n",
      "  T = T,\n",
      "  name = tag+\".pickle\", # where data will be stored \n",
      "  args = [ # pass in cellml/gotran arguments (eg. in shannon_2004.ode)\n",
      "        \"-stim %d\" % stim_period,\n",
      "    ]\n",
      "  )\n",
      "\n",
      "\n",
      "\n",
      "# perturbed\n",
      "scales = np.linspace(0.1,2.,20)\n",
      "for i,scale in enumerate(scales):\n",
      "  baselinePCa = 5.4e-4\n",
      "  PCaVal = baselinePCa*scale\n",
      "  tag=\"perturbed_PCa%f\"%PCaVal\n",
      "  caseDict[tag] = Case.Case(\n",
      "    tag=tag,# tag for filename \n",
      "    label=tag, # label for simulation when plotted\n",
      "    T = T,\n",
      "    name = tag+\".pickle\", # where data will be stored \n",
      "    args = [ # pass in cellml/gotran arguments (eg. in shannon_2004.ode)\n",
      "        \"-stim %d\" % stim_period,\n",
      "        \"-var PCa %f\" % (PCaVal),\n",
      "    ])\n",
      "   \n"
     ],
     "language": "python",
     "metadata": {},
     "outputs": [],
     "prompt_number": 110
    },
    {
     "cell_type": "markdown",
     "metadata": {},
     "source": [
      "### Execute cases\n",
      "\n",
      "(actually, prints command line to screen so you can cut/paste and execute in a terminal window)"
     ]
    },
    {
     "cell_type": "code",
     "collapsed": false,
     "input": [
      "for key,case in caseDict.iteritems():\n",
      "    print \"# \", key\n",
      "    print case.cmdLine"
     ],
     "language": "python",
     "metadata": {},
     "outputs": [
      {
       "output_type": "stream",
       "stream": "stdout",
       "text": [
        "#  perturbed_PCa0.000702\n",
        "python daisychain.py  -stim 1000 -var PCa 0.000702 -iters 1 -odeName shannon_2004.ode -T 20000.000000 -name perturbed_PCa0.000702.pickle  &\n",
        "#  perturbed_PCa0.000918\n",
        "python daisychain.py  -stim 1000 -var PCa 0.000918 -iters 1 -odeName shannon_2004.ode -T 20000.000000 -name perturbed_PCa0.000918.pickle  &\n",
        "#  baseline\n",
        "python daisychain.py  -stim 1000 -iters 1 -odeName shannon_2004.ode -T 20000.000000 -name baseline.pickle  &\n",
        "#  perturbed_PCa0.000810\n",
        "python daisychain.py  -stim 1000 -var PCa 0.000810 -iters 1 -odeName shannon_2004.ode -T 20000.000000 -name perturbed_PCa0.000810.pickle  &\n",
        "#  perturbed_PCa0.000486\n",
        "python daisychain.py  -stim 1000 -var PCa 0.000486 -iters 1 -odeName shannon_2004.ode -T 20000.000000 -name perturbed_PCa0.000486.pickle  &\n",
        "#  perturbed_PCa0.000324\n",
        "python daisychain.py  -stim 1000 -var PCa 0.000324 -iters 1 -odeName shannon_2004.ode -T 20000.000000 -name perturbed_PCa0.000324.pickle  &\n",
        "#  perturbed_PCa0.000648\n",
        "python daisychain.py  -stim 1000 -var PCa 0.000648 -iters 1 -odeName shannon_2004.ode -T 20000.000000 -name perturbed_PCa0.000648.pickle  &\n",
        "#  perturbed_PCa0.000594\n",
        "python daisychain.py  -stim 1000 -var PCa 0.000594 -iters 1 -odeName shannon_2004.ode -T 20000.000000 -name perturbed_PCa0.000594.pickle  &\n",
        "#  perturbed_PCa0.000540\n",
        "python daisychain.py  -stim 1000 -var PCa 0.000540 -iters 1 -odeName shannon_2004.ode -T 20000.000000 -name perturbed_PCa0.000540.pickle  &\n",
        "#  perturbed_PCa0.000270\n",
        "python daisychain.py  -stim 1000 -var PCa 0.000270 -iters 1 -odeName shannon_2004.ode -T 20000.000000 -name perturbed_PCa0.000270.pickle  &\n",
        "#  perturbed_PCa0.000162\n",
        "python daisychain.py  -stim 1000 -var PCa 0.000162 -iters 1 -odeName shannon_2004.ode -T 20000.000000 -name perturbed_PCa0.000162.pickle  &\n",
        "#  perturbed_PCa0.000432\n",
        "python daisychain.py  -stim 1000 -var PCa 0.000432 -iters 1 -odeName shannon_2004.ode -T 20000.000000 -name perturbed_PCa0.000432.pickle  &\n",
        "#  perturbed_PCa0.000864\n",
        "python daisychain.py  -stim 1000 -var PCa 0.000864 -iters 1 -odeName shannon_2004.ode -T 20000.000000 -name perturbed_PCa0.000864.pickle  &\n",
        "#  perturbed_PCa0.001080\n",
        "python daisychain.py  -stim 1000 -var PCa 0.001080 -iters 1 -odeName shannon_2004.ode -T 20000.000000 -name perturbed_PCa0.001080.pickle  &\n",
        "#  perturbed_PCa0.000054\n",
        "python daisychain.py  -stim 1000 -var PCa 0.000054 -iters 1 -odeName shannon_2004.ode -T 20000.000000 -name perturbed_PCa0.000054.pickle  &\n",
        "#  perturbed_PCa0.000972\n",
        "python daisychain.py  -stim 1000 -var PCa 0.000972 -iters 1 -odeName shannon_2004.ode -T 20000.000000 -name perturbed_PCa0.000972.pickle  &\n",
        "#  perturbed_PCa0.000756\n",
        "python daisychain.py  -stim 1000 -var PCa 0.000756 -iters 1 -odeName shannon_2004.ode -T 20000.000000 -name perturbed_PCa0.000756.pickle  &\n",
        "#  perturbed_PCa0.000108\n",
        "python daisychain.py  -stim 1000 -var PCa 0.000108 -iters 1 -odeName shannon_2004.ode -T 20000.000000 -name perturbed_PCa0.000108.pickle  &\n",
        "#  perturbed_PCa0.001026\n",
        "python daisychain.py  -stim 1000 -var PCa 0.001026 -iters 1 -odeName shannon_2004.ode -T 20000.000000 -name perturbed_PCa0.001026.pickle  &\n",
        "#  perturbed_PCa0.000216\n",
        "python daisychain.py  -stim 1000 -var PCa 0.000216 -iters 1 -odeName shannon_2004.ode -T 20000.000000 -name perturbed_PCa0.000216.pickle  &\n",
        "#  perturbed_PCa0.000378\n",
        "python daisychain.py  -stim 1000 -var PCa 0.000378 -iters 1 -odeName shannon_2004.ode -T 20000.000000 -name perturbed_PCa0.000378.pickle  &\n"
       ]
      }
     ],
     "prompt_number": 112
    },
    {
     "cell_type": "markdown",
     "metadata": {},
     "source": [
      "### Load in output files \n",
      "THere are downsampling routines available if this takes too long"
     ]
    },
    {
     "cell_type": "code",
     "collapsed": false,
     "input": [
      "import analyzeODE as ao\n",
      "ao.LoadPickles(caseDict,noOverwrite=True)"
     ],
     "language": "python",
     "metadata": {},
     "outputs": [
      {
       "output_type": "stream",
       "stream": "stdout",
       "text": [
        "#  perturbed_PCa0.000702\n",
        "Loading  perturbed_PCa0.000702_1.pickle\n",
        "Reading perturbed_PCa0.000702_1.pickle\n",
        "# "
       ]
      },
      {
       "output_type": "stream",
       "stream": "stdout",
       "text": [
        " perturbed_PCa0.000918\n",
        "Loading  perturbed_PCa0.000918_1.pickle\n",
        "Reading perturbed_PCa0.000918_1.pickle\n",
        "# "
       ]
      },
      {
       "output_type": "stream",
       "stream": "stdout",
       "text": [
        " baseline\n",
        "Loading  baseline_1.pickle\n",
        "Reading baseline_1.pickle\n",
        "# "
       ]
      },
      {
       "output_type": "stream",
       "stream": "stdout",
       "text": [
        " perturbed_PCa0.000810\n",
        "Loading  perturbed_PCa0.000810_1.pickle\n",
        "Reading perturbed_PCa0.000810_1.pickle\n",
        "# "
       ]
      },
      {
       "output_type": "stream",
       "stream": "stdout",
       "text": [
        " perturbed_PCa0.000486\n",
        "Loading  perturbed_PCa0.000486_1.pickle\n",
        "Reading perturbed_PCa0.000486_1.pickle\n",
        "# "
       ]
      },
      {
       "output_type": "stream",
       "stream": "stdout",
       "text": [
        " perturbed_PCa0.000324\n",
        "Loading  perturbed_PCa0.000324_1.pickle\n",
        "Reading perturbed_PCa0.000324_1.pickle\n",
        "# "
       ]
      },
      {
       "output_type": "stream",
       "stream": "stdout",
       "text": [
        " perturbed_PCa0.000648\n",
        "Loading  perturbed_PCa0.000648_1.pickle\n",
        "Reading perturbed_PCa0.000648_1.pickle\n",
        "# "
       ]
      },
      {
       "output_type": "stream",
       "stream": "stdout",
       "text": [
        " perturbed_PCa0.000594\n",
        "Loading  perturbed_PCa0.000594_1.pickle\n",
        "Reading perturbed_PCa0.000594_1.pickle\n",
        "# "
       ]
      },
      {
       "output_type": "stream",
       "stream": "stdout",
       "text": [
        " perturbed_PCa0.000540\n",
        "Loading  perturbed_PCa0.000540_1.pickle\n",
        "Reading perturbed_PCa0.000540_1.pickle\n",
        "# "
       ]
      },
      {
       "output_type": "stream",
       "stream": "stdout",
       "text": [
        " perturbed_PCa0.000270\n",
        "Loading  perturbed_PCa0.000270_1.pickle\n",
        "Reading perturbed_PCa0.000270_1.pickle\n",
        "# "
       ]
      },
      {
       "output_type": "stream",
       "stream": "stdout",
       "text": [
        " perturbed_PCa0.000162\n",
        "Loading  perturbed_PCa0.000162_1.pickle\n",
        "Reading perturbed_PCa0.000162_1.pickle\n",
        "# "
       ]
      },
      {
       "output_type": "stream",
       "stream": "stdout",
       "text": [
        " perturbed_PCa0.000432\n",
        "Loading  perturbed_PCa0.000432_1.pickle\n",
        "Reading perturbed_PCa0.000432_1.pickle\n",
        "# "
       ]
      },
      {
       "output_type": "stream",
       "stream": "stdout",
       "text": [
        " perturbed_PCa0.000864\n",
        "Loading  perturbed_PCa0.000864_1.pickle\n",
        "Reading perturbed_PCa0.000864_1.pickle\n",
        "# "
       ]
      },
      {
       "output_type": "stream",
       "stream": "stdout",
       "text": [
        " perturbed_PCa0.001080\n",
        "Loading  perturbed_PCa0.001080_1.pickle\n",
        "Reading perturbed_PCa0.001080_1.pickle\n",
        "# "
       ]
      },
      {
       "output_type": "stream",
       "stream": "stdout",
       "text": [
        " perturbed_PCa0.000054\n",
        "Loading  perturbed_PCa0.000054_1.pickle\n",
        "Reading perturbed_PCa0.000054_1.pickle\n",
        "# "
       ]
      },
      {
       "output_type": "stream",
       "stream": "stdout",
       "text": [
        " perturbed_PCa0.000972\n",
        "Loading  perturbed_PCa0.000972_1.pickle\n",
        "Reading perturbed_PCa0.000972_1.pickle\n",
        "# "
       ]
      },
      {
       "output_type": "stream",
       "stream": "stdout",
       "text": [
        " perturbed_PCa0.000756\n",
        "Loading  perturbed_PCa0.000756_1.pickle\n",
        "Reading perturbed_PCa0.000756_1.pickle\n",
        "# "
       ]
      },
      {
       "output_type": "stream",
       "stream": "stdout",
       "text": [
        " perturbed_PCa0.000108\n",
        "Loading  perturbed_PCa0.000108_1.pickle\n",
        "Reading perturbed_PCa0.000108_1.pickle\n",
        "# "
       ]
      },
      {
       "output_type": "stream",
       "stream": "stdout",
       "text": [
        " perturbed_PCa0.001026\n",
        "Loading  perturbed_PCa0.001026_1.pickle\n",
        "Reading perturbed_PCa0.001026_1.pickle\n",
        "# "
       ]
      },
      {
       "output_type": "stream",
       "stream": "stdout",
       "text": [
        " perturbed_PCa0.000216\n",
        "Loading  perturbed_PCa0.000216_1.pickle\n",
        "Reading perturbed_PCa0.000216_1.pickle\n",
        "# "
       ]
      },
      {
       "output_type": "stream",
       "stream": "stdout",
       "text": [
        " perturbed_PCa0.000378\n",
        "Loading  perturbed_PCa0.000378_1.pickle\n",
        "Reading perturbed_PCa0.000378_1.pickle\n"
       ]
      }
     ],
     "prompt_number": 114
    },
    {
     "cell_type": "markdown",
     "metadata": {},
     "source": [
      "### Plot as you see fit "
     ]
    },
    {
     "cell_type": "code",
     "collapsed": false,
     "input": [
      "plt.figure()\n",
      "stateName = \"Cai\"\n",
      "jName=\"i_CaL\"\n",
      "vals = []\n",
      "ref = None\n",
      "\n",
      "xlim = [180e3,200e3]\n",
      "ax1 = plt.subplot(2,1,1)\n",
      "ax2 = plt.subplot(2,1,2)\n",
      "for key,case in caseDict.iteritems():\n",
      "    print \"# \", key\n",
      "    ti = case.data['t']  # time\n",
      "    si = case.data['s'] # state \n",
      "    s_idx = case.data['s_idx'] # state indices \n",
      "    ji = case.data['j'] # state \n",
      "    j_idx = case.data['j_idx'] # state indices \n",
      "\n",
      "    #print np.shape(s_idx)    \n",
      "    ti_vals = ti\n",
      "    idx1 = s_idx.index(stateName)  # state you want to plot \n",
      "    ti_vals = ti[xlim[0]:xlim[1]] # interval you want to plot \n",
      "    si_vals = si[xlim[0]:xlim[1],idx1]\n",
      "    #si_vals = si[:,idx1]\n",
      "    \n",
      "    idx1 = j_idx.index(jName)  # state you want to plot \n",
      "    ji_vals = ji[xlim[0]:xlim[1],idx1]\n",
      "    #ji_vals = ji[:,idx1]\n",
      "    \n",
      "    #\n",
      "    p = case.data['p']\n",
      "    p_idx = case.data['p_idx']\n",
      "    pCa = p[ p_idx.index('PCa') ]\n",
      "\n",
      "    caMax = np.max(si_vals)\n",
      "    caMin = np.min(si_vals)\n",
      "    delCa = caMax - caMin\n",
      "    lccMax = np.abs(np.min(ji_vals))\n",
      "    eccGain = delCa/lccMax\n",
      "    #print delCa,eccGain,lccMax\n",
      "    if np.isnan(eccGain):\n",
      "        print \"Skipping\"\n",
      "        continue\n",
      "    \n",
      "    vals.append([pCa,eccGain])\n",
      "    if key==\"baseline\":\n",
      "        ref = np.array([pCa,eccGain])\n",
      "        \n",
      "    ax1.plot(ti_vals/1e3,si_vals,label = case.label)\n",
      "    ax2.plot(ti_vals/1e3,ji_vals,label = case.label)\n",
      "        \n",
      "    \n",
      "#plt.ylabel(stateName)\n",
      "#plt.legend()    \n",
      "\n"
     ],
     "language": "python",
     "metadata": {},
     "outputs": [
      {
       "output_type": "stream",
       "stream": "stdout",
       "text": [
        "#  perturbed_PCa0.000702\n",
        "#  perturbed_PCa0.000918\n",
        "Skipping\n",
        "#  baseline\n",
        "#  perturbed_PCa0.000810\n",
        "Skipping\n",
        "#  perturbed_PCa0.000486\n",
        "#  perturbed_PCa0.000324\n",
        "#  perturbed_PCa0.000648\n",
        "#  perturbed_PCa0.000594\n",
        "#  perturbed_PCa0.000540\n",
        "#  perturbed_PCa0.000270\n",
        "#  perturbed_PCa0.000162\n",
        "#  perturbed_PCa0.000432\n",
        "# "
       ]
      },
      {
       "output_type": "stream",
       "stream": "stdout",
       "text": [
        " perturbed_PCa0.000864\n",
        "Skipping\n",
        "#  perturbed_PCa0.001080\n",
        "#  perturbed_PCa0.000054\n",
        "#  perturbed_PCa0.000972\n",
        "#  perturbed_PCa0.000756\n",
        "#  perturbed_PCa0.000108\n",
        "#  perturbed_PCa0.001026\n",
        "#  perturbed_PCa0.000216\n",
        "#  perturbed_PCa0.000378\n"
       ]
      },
      {
       "metadata": {},
       "output_type": "display_data",
       "png": "[encoded data removed]",
       "text": [
        "<matplotlib.figure.Figure at 0x7fd6a71908d0>"
       ]
      }
     ],
     "prompt_number": 159
    },
    {
     "cell_type": "code",
     "collapsed": false,
     "input": [
      "print ref"
     ],
     "language": "python",
     "metadata": {},
     "outputs": [
      {
       "output_type": "stream",
       "stream": "stdout",
       "text": [
        "[  5.40000000e-04   5.81984773e-05]\n"
       ]
      }
     ],
     "prompt_number": 160
    },
    {
     "cell_type": "code",
     "collapsed": false,
     "input": [
      "mM_to_uM=1e3\n",
      "v = np.asarray(vals)\n",
      "np.shape(v)\n",
      "plt.scatter(v[:,0],v[:,1]*mM_to_uM,label=\"Altered PCa\")\n",
      "print np.min(v[:,1])\n",
      "print np.max(v[:,1])\n",
      "plt.scatter(ref[0],ref[1]*mM_to_uM, color='g',label=\"Baseline\")\n",
      "plt.xlim([np.min(v[:,0]), np.max(v[:,0])])\n",
      "plt.ylim([0,np.max(v[:,1])*mM_to_uM])\n",
      "plt.ylabel(\"Gain: $\\Delta Ca/iLCCmax$\\n $[\\mu M/pA/pF]$\")\n",
      "plt.xlabel(\"PCa []\")\n",
      "plt.legend(loc=2)\n",
      "plt.tight_layout()\n",
      "plt.gcf().savefig(\"/net/share/shared/papers/150817_satin/eccGain.png\",dpi=300)"
     ],
     "language": "python",
     "metadata": {},
     "outputs": [
      {
       "output_type": "stream",
       "stream": "stdout",
       "text": [
        "2.29891800302e-06\n",
        "0.000223136215257\n"
       ]
      },
      {
       "metadata": {},
       "output_type": "display_data",
       "png": "[encoded data removed]",
       "text": [
        "<matplotlib.figure.Figure at 0x7fd6a76446d0>"
       ]
      }
     ],
     "prompt_number": 169
    },
    {
     "cell_type": "code",
     "collapsed": false,
     "input": [],
     "language": "python",
     "metadata": {},
     "outputs": [],
     "prompt_number": 144
    },
    {
     "cell_type": "code",
     "collapsed": false,
     "input": [],
     "language": "python",
     "metadata": {},
     "outputs": []
    }
   ],
   "metadata": {}
  }
 ]
}