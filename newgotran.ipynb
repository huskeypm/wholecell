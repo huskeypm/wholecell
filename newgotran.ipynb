{
 "metadata": {
  "name": "",
  "signature": "sha256:a05e437d640a58a524c2d1d5abb4abac8b8950d9bf15117e140d3d1112ce898e"
 },
 "nbformat": 3,
 "nbformat_minor": 0,
 "worksheets": [
  {
   "cells": [
    {
     "cell_type": "code",
     "collapsed": false,
     "input": [
      "\n",
      "%load_ext autoreload\n",
      "%autoreload 2"
     ],
     "language": "python",
     "metadata": {},
     "outputs": [],
     "prompt_number": 1
    },
    {
     "cell_type": "code",
     "collapsed": false,
     "input": [
      "# time steps \n",
      "t=0; dt=1000.; dtn=0.0055; tsteps = np.linspace(t, t+dt, (dt)/dtn+1)\n",
      "from scipy.integrate import odeint\n"
     ],
     "language": "python",
     "metadata": {},
     "outputs": [],
     "prompt_number": 2
    },
    {
     "cell_type": "code",
     "collapsed": false,
     "input": [
      "import shannon_2004 as model\n",
      "s=model.init_state_values()\n",
      "p=model.init_parameter_values()\n",
      "\n",
      "# check out gotranUtil.py\n",
      "\n",
      "asdfasdlkfjasdfl';kasdj \n",
      "\n",
      "monitors = [\"fCa_SL\",\"fCa_jct\",\"i_NaCa\",\"j_rel_SR\",\"j_pump_SR\",\"i_Stim\"]\n",
      "units = [\"unk\",\"unk\",\"unk\",\"unk\",\"unk\",\"unk\"]\n",
      "\n",
      "idxMonitors = np.zeros(np.shape(monitors)[0],dtype=int)\n",
      "for i,monitor in enumerate(monitors):\n",
      "  idxMonitors[i] = model.monitor_indices(monitor)\n",
      "\n",
      "\n",
      "\n",
      "# Runner\n",
      "\n",
      "# In[ ]:\n",
      "\n",
      "\n",
      "def RunnerMonitor(tsteps,s,p):\n",
      "    # run \n",
      "    states = odeint(model.rhs,s,tsteps,(p,),mxstep=5000)\n",
      "\n",
      "    # pull out fluxes \n",
      "    dtt= tsteps[1]-tsteps[0]\n",
      "    tstepsm1 = tsteps[1::]\n",
      "\n",
      "    monitored = np.zeros([np.shape(tstepsm1)[0],np.shape(idxMonitors)[0]])\n",
      "    for i,t in enumerate(tstepsm1):\n",
      "        # get current state\n",
      "        #si = states[i,:]\n",
      "        # extract monitored fluxes \n",
      "        #allJs = model.monitor(si, t, p)\n",
      "        #monitored[i,:] = allJs[idxMonitors]\n",
      "     1\n",
      "    return states,monitored\n"
     ],
     "language": "python",
     "metadata": {},
     "outputs": [],
     "prompt_number": 37
    },
    {
     "cell_type": "code",
     "collapsed": false,
     "input": [
      "F=96485.0 \n",
      "V = -85.56885\n",
      "T = 310.0 \n",
      "R = 0.8884332\n",
      "sig = 1.00091030495\n",
      "\n",
      "print \"%f\"%(F*V/(T*R))"
     ],
     "language": "python",
     "metadata": {},
     "outputs": [
      {
       "output_type": "stream",
       "stream": "stdout",
       "text": [
        "-29977.059042\n"
       ]
      }
     ],
     "prompt_number": 38
    },
    {
     "cell_type": "code",
     "collapsed": false,
     "input": [
      "\n",
      "if 1:\n",
      "  pC = np.copy(p)\n",
      "  si, mi = RunnerMonitor(tsteps,s,pC)\n"
     ],
     "language": "python",
     "metadata": {},
     "outputs": [],
     "prompt_number": 39
    },
    {
     "cell_type": "code",
     "collapsed": false,
     "input": [
      "def PlotStuff(tsteps,si,mi,title=\"\",tag=\"\"):\n",
      "    # votlage\n",
      "    plt.figure()\n",
      "    stateName = \"V\"\n",
      "    idxCal=model.state_indices(stateName)\n",
      "    #print idxCal\n",
      "    plt.plot(tsteps,si[:,idxCal],label=stateName)\n",
      "    plt.xlabel(\"t [s]\")\n",
      "    plt.ylabel(\"V [mV]\")\n",
      "    plt.legend(loc=0)\n",
      "    plt.title(title)\n",
      "    plt.gcf().savefig(\"V_\"+tag+\".png\")\n",
      "\n",
      "    # ion currents\n",
      "    tstepsm1 = tsteps[1::]\n"
     ],
     "language": "python",
     "metadata": {},
     "outputs": [],
     "prompt_number": 34
    },
    {
     "cell_type": "code",
     "collapsed": false,
     "input": [
      "PlotStuff(tsteps,si,mi,title=\"V\")"
     ],
     "language": "python",
     "metadata": {},
     "outputs": [
      {
       "metadata": {},
       "output_type": "display_data",
       "png": "[encoded data removed]",
       "text": [
        "<matplotlib.figure.Figure at 0x7f7d4284ff50>"
       ]
      }
     ],
     "prompt_number": 35
    },
    {
     "cell_type": "code",
     "collapsed": false,
     "input": [],
     "language": "python",
     "metadata": {},
     "outputs": []
    }
   ],
   "metadata": {}
  }
 ]
}