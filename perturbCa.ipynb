{
 "metadata": {
  "kernelspec": {
   "display_name": "Python 2",
   "language": "python",
   "name": "python2"
  },
  "language_info": {
   "codemirror_mode": {
    "name": "ipython",
    "version": 3
   },
   "file_extension": ".py",
   "mimetype": "text/x-python",
   "name": "python",
   "nbconvert_exporter": "python",
   "pygments_lexer": "ipython3",
   "version": "3.4.3"
  },
  "name": "",
  "signature": "sha256:3db27f943858cb2418f1c0f9fcbd3e5d34ed18db8d3888e43d156873a81b1ef9"
 },
 "nbformat": 3,
 "nbformat_minor": 0,
 "worksheets": [
  {
   "cells": [
    {
     "cell_type": "heading",
     "level": 2,
     "metadata": {},
     "source": [
      "Notebook for instantaneous perturbations of Ca cleft (Ca_jct1) and Ca SR"
     ]
    },
    {
     "cell_type": "code",
     "collapsed": true,
     "input": [
      "%load_ext autoreload\n",
      "%autoreload 2"
     ],
     "language": "python",
     "metadata": {},
     "outputs": [
      {
       "output_type": "stream",
       "stream": "stdout",
       "text": [
        "The autoreload extension is already loaded. To reload it, use:\n",
        "  %reload_ext autoreload\n"
       ]
      }
     ],
     "prompt_number": 32
    },
    {
     "cell_type": "code",
     "collapsed": false,
     "input": [
      "import analyzeODE as ao"
     ],
     "language": "python",
     "metadata": {},
     "outputs": [],
     "prompt_number": 33
    },
    {
     "cell_type": "code",
     "collapsed": false,
     "input": [
      "import sys\n",
      "print (sys.version)"
     ],
     "language": "python",
     "metadata": {},
     "outputs": [
      {
       "output_type": "stream",
       "stream": "stdout",
       "text": [
        "2.7.12 (default, Nov 19 2016, 06:48:10) \n",
        "[GCC 5.4.0 20160609]\n"
       ]
      }
     ],
     "prompt_number": 34
    },
    {
     "cell_type": "code",
     "collapsed": true,
     "input": [
      "import analyzeODE as ao\n",
      "import Case\n",
      "root = \"./\"\n",
      "pacing = 1.0 # Hz\n",
      "stim_period = 1000/pacing # [ms]\n",
      "T_sec = 10\n",
      "T = T_sec * 1e3 # [ms]\n",
      "toggleTime = 2100.\n",
      "caseDict = dict()"
     ],
     "language": "python",
     "metadata": {},
     "outputs": [],
     "prompt_number": 35
    },
    {
     "cell_type": "markdown",
     "metadata": {},
     "source": [
      "#### Determine job defaults "
     ]
    },
    {
     "cell_type": "code",
     "collapsed": false,
     "input": [
      "# baseline\n",
      "tag=\"baseline\"\n",
      "toggleRate_CaSR = 0.\n",
      "toggleRate_Cajct1 = 0.\n",
      "odeName = \"shannon_2004_rat_toggle.ode\"\n",
      "\n",
      "defaultArgs = [\n",
      "\"-stim %d\" % stim_period,\n",
      "\"-T %d\" % T,\n",
      "\"-state Na_SL 12.00\",\n",
      "\"-state Na_jct1 12.00\",\n",
      "\"-state Nai 12.00\",\n",
      "\"-var G_CaBk 0.0007539\",\n",
      "\"-var G_NaBk 0.001337\",\n",
      "\"-var I_NaK_max 3.85\", \n",
      "\"-var T 310.00\", \n",
      "\"-var V_max_Jpump 0.009977826\"]\n",
      "\n",
      "variedArgs= [ \n",
      "\"-var toggleTime %f\"%toggleTime,\n",
      "\"-var toggleRate_CaSR %f\"% toggleRate_CaSR,\n",
      "\"-var toggleRate_Cajct1 %f\"% toggleRate_Cajct1]\n",
      "\n",
      "caseDict[tag] = Case.Case(\n",
      "tag=tag, # tag for filename\n",
      "odeName = odeName,\n",
      "label=tag + \" case \", # label for simulation when plotted\n",
      "name = tag+\".pickle\", # where data will be stored\n",
      "args = defaultArgs + variedArgs\n",
      ")\n"
     ],
     "language": "python",
     "metadata": {},
     "outputs": [
      {
       "output_type": "stream",
       "stream": "stdout",
       "text": [
        "Using T=10000.000000 from command line args\n"
       ]
      }
     ],
     "prompt_number": 36
    },
    {
     "cell_type": "markdown",
     "metadata": {},
     "source": [
      "#### Run baseline case for reference"
     ]
    },
    {
     "cell_type": "code",
     "collapsed": false,
     "input": [
      "for key,case in caseDict.iteritems():\n",
      "  print \"# \", key\n",
      "  print case.cmdLine"
     ],
     "language": "python",
     "metadata": {},
     "outputs": [
      {
       "output_type": "stream",
       "stream": "stdout",
       "text": [
        "#  baseline\n",
        "python daisychain.py  -stim 1000 -state Na_SL 12.00 -state Na_jct1 12.00 -state Nai 12.00 -var G_CaBk 0.0007539 -var G_NaBk 0.001337 -var I_NaK_max 3.85 -var T 310.00 -var V_max_Jpump 0.009977826 -var toggleTime 2100.000000 -var toggleRate_CaSR 0.000000 -var toggleRate_Cajct1 0.000000 -iters 1 -odeName shannon_2004_rat_toggle.ode -T 10000.000000 -name baseline.pickle  &\n"
       ]
      }
     ],
     "prompt_number": 37
    },
    {
     "cell_type": "markdown",
     "metadata": {},
     "source": [
      "#### Analyzem"
     ]
    },
    {
     "cell_type": "code",
     "collapsed": false,
     "input": [
      "ao.LoadPickles(caseDict,noOverwrite=False, readSubset=True)"
     ],
     "language": "python",
     "metadata": {},
     "outputs": [
      {
       "output_type": "stream",
       "stream": "stdout",
       "text": [
        "#  baseline\n",
        "Loading baseline_1.pickle\n",
        "Reading baseline_1.pickle\n",
        "HARDCODED TO Cai, Ca_jct, Ca_SR for now"
       ]
      },
      {
       "output_type": "stream",
       "stream": "stdout",
       "text": [
        "\n"
       ]
      }
     ],
     "prompt_number": 38
    },
    {
     "cell_type": "code",
     "collapsed": false,
     "input": [
      "#s = case.data['s']\n",
      "#print np.shape(s)"
     ],
     "language": "python",
     "metadata": {},
     "outputs": [],
     "prompt_number": 39
    },
    {
     "cell_type": "code",
     "collapsed": false,
     "input": [
      "def myplot(case,label1,xlimV=[0,-1],shareAxis=False,isCai=False):\n",
      "    xlimV = np.asarray(xlimV,dtype=np.int)\n",
      "    if shareAxis==False:\n",
      "        plt.figure()\n",
      "    ti = case.data[\"t\"] # time\n",
      "    si = case.data[\"s\"] # state\n",
      "    s_idx = case.data[\"s_idx\"] # state indices\n",
      "    #print np.shape(s_idx)\n",
      "    idx1 = s_idx.index(label1) # state you want to plot\n",
      "    ti_vals = ti[xlimV[0]:xlimV[1]] # interval you want to plot\n",
      "    si_vals = si[xlimV[0]:xlimV[1],idx1]\n",
      "    plt.plot(ti_vals/1e3,si_vals*1e3,label = case.label)\n",
      "\n",
      "    plt.ylabel(label1+\" [uM]\")\n",
      "    #plt.title(case.label)\n",
      "    plt.xlabel(\"t [s]\")"
     ],
     "language": "python",
     "metadata": {},
     "outputs": [],
     "prompt_number": 64
    },
    {
     "cell_type": "code",
     "collapsed": false,
     "input": [
      "#for key,case in caseDict.iteritems():\n",
      "#    print \"# \", key\n",
      "#    stateName = \"Ca_jct1\"\n",
      "#    myplot(case,stateName)#,xlim=[55e3,60e3])\n",
      "\n",
      "plt.figure()    \n",
      "stateName = \"Ca_jct1\"\n",
      "myplot(case,stateName,xlimV=[19e3,20e3])\n"
     ],
     "language": "python",
     "metadata": {},
     "outputs": [
      {
       "metadata": {},
       "output_type": "display_data",
       "text": [
        "<matplotlib.figure.Figure at 0x7f1777fef990>"
       ]
      },
      {
       "metadata": {},
       "output_type": "display_data",
       "png": "[encoded data removed]",
       "text": [
        "<matplotlib.figure.Figure at 0x7f1778182810>"
       ]
      }
     ],
     "prompt_number": 65
    },
    {
     "cell_type": "markdown",
     "metadata": {},
     "source": [
      "#### Run for slew of jobs \n",
      "\n",
      "jct and SR"
     ]
    },
    {
     "cell_type": "code",
     "collapsed": false,
     "input": [
      "#toggleTime = 2100 \n",
      "toggleTime = T-2000+100 # two beats before end time, 100 ms delayed\n",
      "#nIntervals = np.int(T/5000.)\n",
      "nIntervals =1 # must always be one, in order for the toggle time to work correctly\n",
      "\n",
      "### jct \n",
      "toggleRate_CaSR = 0.\n",
      "toggleRate_Cajct1 = 0.\n",
      "nDraws = 10\n",
      "scale = 4.  # unstable above this \n",
      "mu, sigma = 0., 0.5 # mean and standard deviation\n",
      "dCa_jcts = scale * np.random.normal(mu, sigma, nDraws) # values need not be positive \n",
      "dCa_jcts = scale*np.linspace(1e-1,1,15)\n",
      "dCa_jcts = np.concatenate([[0],dCa_jcts])\n",
      "#dCa_jcts = [0,1]\n",
      "\n",
      "caseDictCajct=dict()\n",
      "for i, toggleRate_Cajct1 in enumerate(dCa_jcts):\n",
      "    tag = \"tag_dCa_jct_%f\"%toggleRate_Cajct1\n",
      "    \n",
      "    variedArgs= [ \n",
      "    \"-var toggleTime %f\"%toggleTime,\n",
      "    \"-var toggleRate_CaSR %f\"% toggleRate_CaSR,\n",
      "    \"-var toggleRate_Cajct1 %f\"% toggleRate_Cajct1]\n",
      "\n",
      "    \n",
      "    caseDictCajct[tag] = Case.Case(\n",
      "        tag=tag, # tag for filename\n",
      "        odeName = odeName,\n",
      "        label=tag + \" case \", # label for simulation when plotted\n",
      "        nIntervals = nIntervals,\n",
      "        name = \"/tmp/\"+tag+\".pickle\", # where data will be stored\n",
      "        args = defaultArgs + variedArgs\n",
      "    )\n",
      "\n",
      "### jct \n",
      "toggleRate_CaSR = 0.\n",
      "toggleRate_Cajct1 = 0.\n",
      "\n",
      "nDraws = 10\n",
      "mu, sigma = 0., 0.5 # mean and standard deviation\n",
      "scale = .2\n",
      "dCa_SRs = scale * np.random.normal(mu, sigma, nDraws) # values need not be positive \n",
      "dCa_SRs = scale*np.linspace(-1e-1,1,15)\n",
      "dCa_SRs = np.concatenate([[0],dCa_SRs])\n",
      "\n",
      "#dCa_SRs = [0,1]\n",
      "\n",
      "caseDictCaSR=dict()\n",
      "for i, toggleRate_CaSR in enumerate(dCa_SRs):\n",
      "    tag = \"tag_dCa_SR_%f\"%toggleRate_CaSR\n",
      "    \n",
      "    variedArgs= [ \n",
      "    \"-var toggleTime %f\"%toggleTime,\n",
      "    \"-var toggleRate_CaSR %f\"% toggleRate_CaSR,\n",
      "    \"-var toggleRate_Cajct1 %f\"% toggleRate_Cajct1]\n",
      "\n",
      "    \n",
      "    caseDictCaSR[tag] = Case.Case(\n",
      "        tag=tag, # tag for filename\n",
      "        odeName = odeName,\n",
      "        label=tag + \" case \", # label for simulation when plotted\n",
      "        nIntervals = nIntervals,\n",
      "        name = \"/tmp/\"+tag+\".pickle\", # where data will be stored\n",
      "        args = defaultArgs + variedArgs\n",
      "    )\n",
      "    \n",
      "# Cai\n",
      "toggleRate_CaSR = 0.\n",
      "toggleRate_Cajct1 = 0.\n",
      "\n",
      "nDraws = 10\n",
      "mu, sigma = 0., 0.5 # mean and standard deviation\n",
      "scale = .0025\n",
      "dCa_is = scale * np.random.normal(mu, sigma, nDraws) # values need not be positive \n",
      "dCa_is = scale*np.linspace(1e-1,1,15)\n",
      "dCa_is = np.concatenate([[0],dCa_is])\n",
      "#dCa_SRs = [0,1]\n",
      "\n",
      "caseDictCai=dict()\n",
      "if 0: \n",
      "  for i, toggleRate_Cai in enumerate(dCa_is):\n",
      "    tag = \"tag_dCa_i_%f\"%toggleRate_Cai\n",
      "    \n",
      "    variedArgs= [ \n",
      "    \"-var toggleTime %f\"%toggleTime,\n",
      "    \"-var toggleRate_CaSR %f\"% toggleRate_CaSR,\n",
      "    \"-var toggleRate_Cai %f\"% toggleRate_Cai,\n",
      "    \"-var toggleRate_Cajct1 %f\"% toggleRate_Cajct1]\n",
      "\n",
      "    \n",
      "    caseDictCai[tag] = Case.Case(\n",
      "        tag=tag, # tag for filename\n",
      "        odeName = odeName,\n",
      "        label=tag + \" case \", # label for simulation when plotted\n",
      "        nIntervals = nIntervals,\n",
      "        name = \"/tmp/\"+tag+\".pickle\", # where data will be stored\n",
      "        args = defaultArgs + variedArgs\n",
      "    )\n",
      "    \n",
      "\n",
      "    "
     ],
     "language": "python",
     "metadata": {},
     "outputs": [
      {
       "output_type": "stream",
       "stream": "stdout",
       "text": [
        "Using T=10000.000000 from command line args\n",
        "Using T=10000.000000 from command line args\n",
        "Using T=10000.000000 from command line args\n",
        "Using T=10000.000000 from command line args\n",
        "Using T=10000.000000 from command line args\n",
        "Using T=10000.000000 from command line args\n",
        "Using T=10000.000000 from command line args\n",
        "Using T=10000.000000 from command line args\n",
        "Using T=10000.000000 from command line args\n",
        "Using T=10000.000000 from command line args\n",
        "Using T=10000.000000 from command line args\n",
        "Using T=10000.000000 from command line args\n",
        "Using T=10000.000000 from command line args\n",
        "Using T=10000.000000 from command line args\n",
        "Using T=10000.000000 from command line args\n",
        "Using T=10000.000000 from command line args\n",
        "Using T=10000.000000 from command line args\n",
        "Using T=10000.000000 from command line args\n",
        "Using T=10000.000000 from command line args\n",
        "Using T=10000.000000 from command line args\n",
        "Using T=10000.000000 from command line args\n",
        "Using T=10000.000000 from command line args\n",
        "Using T=10000.000000 from command line args\n",
        "Using T=10000.000000 from command line args\n",
        "Using T=10000.000000 from command line args\n",
        "Using T=10000.000000 from command line args\n",
        "Using T=10000.000000 from command line args\n",
        "Using T=10000.000000 from command line args\n",
        "Using T=10000.000000 from command line args\n",
        "Using T=10000.000000 from command line args\n",
        "Using T=10000.000000 from command line args\n",
        "Using T=10000.000000 from command line args\n"
       ]
      }
     ],
     "prompt_number": 42
    },
    {
     "cell_type": "code",
     "collapsed": false,
     "input": [
      "\n",
      "f = open('runnerZ.bash','w')\n",
      "for key,case in caseDictCajct.iteritems():\n",
      "  f.write(\"# %s\\n\"% key)\n",
      "  f.write(case.cmdLine+\"\\n\")\n",
      "\n",
      "for key,case in caseDictCaSR.iteritems():\n",
      "  f.write(\"# %s\\n\"% key)\n",
      "  f.write(case.cmdLine+\"\\n\")\n",
      "\n",
      "for key,case in caseDictCai.iteritems():\n",
      "  f.write(\"# %s\\n\"% key)\n",
      "  f.write(case.cmdLine+\"\\n\")\n",
      "f.close()"
     ],
     "language": "python",
     "metadata": {},
     "outputs": [],
     "prompt_number": 43
    },
    {
     "cell_type": "code",
     "collapsed": false,
     "input": [
      "\n",
      "ao.LoadPickles(caseDictCajct,noOverwrite=False,verbose=False,readSubset=True, readConcat=True)\n",
      "ao.LoadPickles(caseDictCaSR,noOverwrite=False,verbose=False,readSubset=True, readConcat=True)\n",
      "#ao.LoadPickles(caseDictCai,noOverwrite=False,verbose=False,readSubset=True, readConcat=True)"
     ],
     "language": "python",
     "metadata": {},
     "outputs": [
      {
       "output_type": "stream",
       "stream": "stdout",
       "text": [
        "/tmp/tag_dCa_jct_1.428571_1.pickle\n",
        "Reading concatenated file /tmp/tag_dCa_jct_1.428571_cat.pickle instead\n",
        "HARDCODED TO Cai, Ca_jct, Ca_SR for now"
       ]
      },
      {
       "output_type": "stream",
       "stream": "stdout",
       "text": [
        "\n",
        "/tmp/tag_dCa_jct_0.657143_1.pickle\n",
        "Reading concatenated file /tmp/tag_dCa_jct_0.657143_cat.pickle instead\n",
        "HARDCODED TO Cai, Ca_jct, Ca_SR for now"
       ]
      },
      {
       "output_type": "stream",
       "stream": "stdout",
       "text": [
        "\n",
        "/tmp/tag_dCa_jct_0.914286_1.pickle\n",
        "Reading concatenated file /tmp/tag_dCa_jct_0.914286_cat.pickle instead\n",
        "HARDCODED TO Cai, Ca_jct, Ca_SR for now"
       ]
      },
      {
       "output_type": "stream",
       "stream": "stdout",
       "text": [
        "\n",
        "/tmp/tag_dCa_jct_4.000000_1.pickle\n",
        "Reading concatenated file /tmp/tag_dCa_jct_4.000000_cat.pickle instead\n",
        "HARDCODED TO Cai, Ca_jct, Ca_SR for now"
       ]
      },
      {
       "output_type": "stream",
       "stream": "stdout",
       "text": [
        "\n",
        "/tmp/tag_dCa_jct_3.742857_1.pickle\n",
        "Reading concatenated file /tmp/tag_dCa_jct_3.742857_cat.pickle instead\n",
        "HARDCODED TO Cai, Ca_jct, Ca_SR for now"
       ]
      },
      {
       "output_type": "stream",
       "stream": "stdout",
       "text": [
        "\n",
        "/tmp/tag_dCa_jct_3.228571_1.pickle\n",
        "Reading concatenated file /tmp/tag_dCa_jct_3.228571_cat.pickle instead\n",
        "HARDCODED TO Cai, Ca_jct, Ca_SR for now"
       ]
      },
      {
       "output_type": "stream",
       "stream": "stdout",
       "text": [
        "\n",
        "/tmp/tag_dCa_jct_1.171429_1.pickle\n",
        "Reading concatenated file /tmp/tag_dCa_jct_1.171429_cat.pickle instead\n",
        "HARDCODED TO Cai, Ca_jct, Ca_SR for now"
       ]
      },
      {
       "output_type": "stream",
       "stream": "stdout",
       "text": [
        "\n",
        "/tmp/tag_dCa_jct_0.400000_1.pickle\n",
        "Reading concatenated file /tmp/tag_dCa_jct_0.400000_cat.pickle instead\n",
        "HARDCODED TO Cai, Ca_jct, Ca_SR for now"
       ]
      },
      {
       "output_type": "stream",
       "stream": "stdout",
       "text": [
        "\n",
        "/tmp/tag_dCa_jct_1.685714_1.pickle\n",
        "Reading concatenated file /tmp/tag_dCa_jct_1.685714_cat.pickle instead\n",
        "HARDCODED TO Cai, Ca_jct, Ca_SR for now"
       ]
      },
      {
       "output_type": "stream",
       "stream": "stdout",
       "text": [
        "\n",
        "/tmp/tag_dCa_jct_0.000000_1.pickle\n",
        "Reading concatenated file /tmp/tag_dCa_jct_0.000000_cat.pickle instead\n",
        "HARDCODED TO Cai, Ca_jct, Ca_SR for now"
       ]
      },
      {
       "output_type": "stream",
       "stream": "stdout",
       "text": [
        "\n",
        "/tmp/tag_dCa_jct_2.457143_1.pickle\n",
        "Reading concatenated file /tmp/tag_dCa_jct_2.457143_cat.pickle instead\n",
        "HARDCODED TO Cai, Ca_jct, Ca_SR for now"
       ]
      },
      {
       "output_type": "stream",
       "stream": "stdout",
       "text": [
        "\n",
        "/tmp/tag_dCa_jct_2.971429_1.pickle\n",
        "Reading concatenated file /tmp/tag_dCa_jct_2.971429_cat.pickle instead\n",
        "HARDCODED TO Cai, Ca_jct, Ca_SR for now"
       ]
      },
      {
       "output_type": "stream",
       "stream": "stdout",
       "text": [
        "\n",
        "/tmp/tag_dCa_jct_2.714286_1.pickle\n",
        "Reading concatenated file /tmp/tag_dCa_jct_2.714286_cat.pickle instead\n",
        "HARDCODED TO Cai, Ca_jct, Ca_SR for now"
       ]
      },
      {
       "output_type": "stream",
       "stream": "stdout",
       "text": [
        "\n",
        "/tmp/tag_dCa_jct_2.200000_1.pickle\n",
        "Reading concatenated file /tmp/tag_dCa_jct_2.200000_cat.pickle instead\n",
        "HARDCODED TO Cai, Ca_jct, Ca_SR for now"
       ]
      },
      {
       "output_type": "stream",
       "stream": "stdout",
       "text": [
        "\n",
        "/tmp/tag_dCa_jct_1.942857_1.pickle\n",
        "Reading concatenated file /tmp/tag_dCa_jct_1.942857_cat.pickle instead\n",
        "HARDCODED TO Cai, Ca_jct, Ca_SR for now"
       ]
      },
      {
       "output_type": "stream",
       "stream": "stdout",
       "text": [
        "\n",
        "/tmp/tag_dCa_jct_3.485714_1.pickle\n",
        "Reading concatenated file /tmp/tag_dCa_jct_3.485714_cat.pickle instead\n",
        "HARDCODED TO Cai, Ca_jct, Ca_SR for now"
       ]
      },
      {
       "output_type": "stream",
       "stream": "stdout",
       "text": [
        "\n",
        "/tmp/tag_dCa_SR_-0.004286_1.pickle\n",
        "Reading concatenated file /tmp/tag_dCa_SR_-0.004286_cat.pickle instead\n",
        "HARDCODED TO Cai, Ca_jct, Ca_SR for now"
       ]
      },
      {
       "output_type": "stream",
       "stream": "stdout",
       "text": [
        "\n",
        "/tmp/tag_dCa_SR_0.027143_1.pickle\n",
        "Reading concatenated file /tmp/tag_dCa_SR_0.027143_cat.pickle instead\n",
        "HARDCODED TO Cai, Ca_jct, Ca_SR for now"
       ]
      },
      {
       "output_type": "stream",
       "stream": "stdout",
       "text": [
        "\n",
        "/tmp/tag_dCa_SR_0.168571_1.pickle\n",
        "Reading concatenated file /tmp/tag_dCa_SR_0.168571_cat.pickle instead\n",
        "HARDCODED TO Cai, Ca_jct, Ca_SR for now"
       ]
      },
      {
       "output_type": "stream",
       "stream": "stdout",
       "text": [
        "\n",
        "/tmp/tag_dCa_SR_0.200000_1.pickle\n",
        "Reading concatenated file /tmp/tag_dCa_SR_0.200000_cat.pickle instead\n",
        "HARDCODED TO Cai, Ca_jct, Ca_SR for now"
       ]
      },
      {
       "output_type": "stream",
       "stream": "stdout",
       "text": [
        "\n",
        "/tmp/tag_dCa_SR_0.042857_1.pickle\n",
        "Reading concatenated file /tmp/tag_dCa_SR_0.042857_cat.pickle instead\n",
        "HARDCODED TO Cai, Ca_jct, Ca_SR for now"
       ]
      },
      {
       "output_type": "stream",
       "stream": "stdout",
       "text": [
        "\n",
        "/tmp/tag_dCa_SR_0.074286_1.pickle\n",
        "Reading concatenated file /tmp/tag_dCa_SR_0.074286_cat.pickle instead\n",
        "HARDCODED TO Cai, Ca_jct, Ca_SR for now"
       ]
      },
      {
       "output_type": "stream",
       "stream": "stdout",
       "text": [
        "\n",
        "/tmp/tag_dCa_SR_0.011429_1.pickle\n",
        "Reading concatenated file /tmp/tag_dCa_SR_0.011429_cat.pickle instead\n",
        "HARDCODED TO Cai, Ca_jct, Ca_SR for now"
       ]
      },
      {
       "output_type": "stream",
       "stream": "stdout",
       "text": [
        "\n",
        "/tmp/tag_dCa_SR_0.000000_1.pickle\n",
        "Reading concatenated file /tmp/tag_dCa_SR_0.000000_cat.pickle instead\n",
        "HARDCODED TO Cai, Ca_jct, Ca_SR for now"
       ]
      },
      {
       "output_type": "stream",
       "stream": "stdout",
       "text": [
        "\n",
        "/tmp/tag_dCa_SR_0.105714_1.pickle\n",
        "Reading concatenated file /tmp/tag_dCa_SR_0.105714_cat.pickle instead\n",
        "HARDCODED TO Cai, Ca_jct, Ca_SR for now"
       ]
      },
      {
       "output_type": "stream",
       "stream": "stdout",
       "text": [
        "\n",
        "/tmp/tag_dCa_SR_-0.020000_1.pickle\n",
        "Reading concatenated file /tmp/tag_dCa_SR_-0.020000_cat.pickle instead\n",
        "HARDCODED TO Cai, Ca_jct, Ca_SR for now"
       ]
      },
      {
       "output_type": "stream",
       "stream": "stdout",
       "text": [
        "\n",
        "/tmp/tag_dCa_SR_0.137143_1.pickle\n",
        "Reading concatenated file /tmp/tag_dCa_SR_0.137143_cat.pickle instead\n",
        "HARDCODED TO Cai, Ca_jct, Ca_SR for now"
       ]
      },
      {
       "output_type": "stream",
       "stream": "stdout",
       "text": [
        "\n",
        "/tmp/tag_dCa_SR_0.090000_1.pickle\n",
        "Reading concatenated file /tmp/tag_dCa_SR_0.090000_cat.pickle instead\n",
        "HARDCODED TO Cai, Ca_jct, Ca_SR for now"
       ]
      },
      {
       "output_type": "stream",
       "stream": "stdout",
       "text": [
        "\n",
        "/tmp/tag_dCa_SR_0.152857_1.pickle\n",
        "Reading concatenated file /tmp/tag_dCa_SR_0.152857_cat.pickle instead\n",
        "HARDCODED TO Cai, Ca_jct, Ca_SR for now"
       ]
      },
      {
       "output_type": "stream",
       "stream": "stdout",
       "text": [
        "\n",
        "/tmp/tag_dCa_SR_0.184286_1.pickle\n",
        "Reading concatenated file /tmp/tag_dCa_SR_0.184286_cat.pickle instead\n",
        "HARDCODED TO Cai, Ca_jct, Ca_SR for now"
       ]
      },
      {
       "output_type": "stream",
       "stream": "stdout",
       "text": [
        "\n",
        "/tmp/tag_dCa_SR_0.058571_1.pickle\n",
        "Reading concatenated file /tmp/tag_dCa_SR_0.058571_cat.pickle instead\n",
        "HARDCODED TO Cai, Ca_jct, Ca_SR for now"
       ]
      },
      {
       "output_type": "stream",
       "stream": "stdout",
       "text": [
        "\n",
        "/tmp/tag_dCa_SR_0.121429_1.pickle\n",
        "Reading concatenated file /tmp/tag_dCa_SR_0.121429_cat.pickle instead\n",
        "HARDCODED TO Cai, Ca_jct, Ca_SR for now"
       ]
      },
      {
       "output_type": "stream",
       "stream": "stdout",
       "text": [
        "\n"
       ]
      }
     ],
     "prompt_number": 44
    },
    {
     "cell_type": "markdown",
     "metadata": {},
     "source": [
      "#### View results "
     ]
    },
    {
     "cell_type": "code",
     "collapsed": false,
     "input": [
      "plt.subplot(1,2,1)\n",
      "maxPlot = 3\n",
      "i=0\n",
      "for key,case in caseDictCajct.iteritems():\n",
      "    \n",
      "    print \"# \", key\n",
      "    stateName = \"Ca_jct1\"\n",
      "    myplot(case,stateName,shareAxis=True,xlimV=[1e3,10e3])\n",
      "    i+=1\n",
      "    if i>maxPlot:\n",
      "        break\n",
      "\n",
      "plt.subplot(1,2,2) \n",
      "i=0\n",
      "for key,case in caseDictCajct.iteritems():\n",
      "    print \"# \", key\n",
      "    stateName = \"Cai\"\n",
      "    myplot(case,stateName,shareAxis=True,xlimV=[1e3,10e3])  \n",
      "    i+=1\n",
      "    if i>maxPlot:\n",
      "        break  \n",
      "plt.tight_layout()        \n",
      "plt.xlim([7,9])\n",
      "plt.gcf().savefig(\"perturbCajct.png\",dpi=300)"
     ],
     "language": "python",
     "metadata": {},
     "outputs": [
      {
       "output_type": "stream",
       "stream": "stdout",
       "text": [
        "#  tag_dCa_jct_1.428571\n",
        "#  tag_dCa_jct_0.657143\n",
        "#  tag_dCa_jct_0.914286\n",
        "#  tag_dCa_jct_4.000000\n",
        "# "
       ]
      },
      {
       "output_type": "stream",
       "stream": "stdout",
       "text": [
        " tag_dCa_jct_1.428571\n",
        "#  tag_dCa_jct_0.657143\n",
        "#  tag_dCa_jct_0.914286\n",
        "#  tag_dCa_jct_4.000000\n"
       ]
      },
      {
       "metadata": {},
       "output_type": "display_data",
       "png": "[encoded data removed]",
       "text": [
        "<matplotlib.figure.Figure at 0x7f1776ec1650>"
       ]
      }
     ],
     "prompt_number": 68
    },
    {
     "cell_type": "code",
     "collapsed": false,
     "input": [
      "print np.argsort(vals)"
     ],
     "language": "python",
     "metadata": {},
     "outputs": [
      {
       "output_type": "stream",
       "stream": "stdout",
       "text": [
        "[ 9  0  7  6  1  4 14  5 11  8 15 10 12  2 13  3]\n"
       ]
      }
     ],
     "prompt_number": 49
    },
    {
     "cell_type": "code",
     "collapsed": false,
     "input": [
      "# sorting list for debugging\n",
      "names=[]\n",
      "vals=[]\n",
      "for key,case in caseDictCaSR.iteritems():\n",
      "    valParam = None \n",
      "    #print where('Ca_SR' in case.args)    \n",
      "    #print 'Ca_SR' in case.args\n",
      "    #print case.args\n",
      "    for arg in case.args:\n",
      "        #print arg\n",
      "        if \"CaSR\" in arg:\n",
      "            valParam = np.float(arg.split()[2])\n",
      "    #print key, valParam\n",
      "    names.append(case)\n",
      "    vals.append(valParam)\n",
      "    \n",
      "vals = np.array(vals)\n",
      "idx = np.argsort(vals)\n",
      "print vals[idx]\n",
      "sortedList = [names[a] for a in idx]\n",
      "\n",
      "#sortedList = []\n",
      "smallDict = dict()\n",
      "for i,case in enumerate(sortedList):    \n",
      "    print \"# \", case.name\n",
      "    smallDict[case.name] = case\n",
      "    stateName = \"Ca_SR\"\n",
      "    myplot(case,stateName,shareAxis=True)#,xlim=[55e3,60e3])\n",
      "    s =  case.data[\"s\"]\n",
      "    #print np.shape(s)\n",
      "    if i > 4:\n",
      "        break\n",
      "        \n",
      "\n",
      "\n",
      "plt.figure()\n",
      "for i,case in enumerate(sortedList):    \n",
      "    print \"# \", case.name\n",
      "    stateName = \"Cai\"\n",
      "    myplot(case,stateName,shareAxis=True)#,xlim=[55e3,60e3])\n",
      "    s =  case.data[\"s\"]\n",
      "    #print np.shape(s)\n",
      "    if i > 4:\n",
      "        break\n",
      "plt.legend()        \n",
      "plt.xlim([8.09,8.2])"
     ],
     "language": "python",
     "metadata": {},
     "outputs": [
      {
       "output_type": "stream",
       "stream": "stdout",
       "text": [
        "[-0.02     -0.004286  0.        0.011429  0.027143  0.042857  0.058571\n",
        "  0.074286  0.09      0.105714  0.121429  0.137143  0.152857  0.168571\n",
        "  0.184286  0.2     ]\n",
        "#  /tmp/tag_dCa_SR_-0.020000_1.pickle\n",
        "# "
       ]
      },
      {
       "output_type": "stream",
       "stream": "stdout",
       "text": [
        " /tmp/tag_dCa_SR_-0.004286_1.pickle\n",
        "#  /tmp/tag_dCa_SR_0.000000_1.pickle\n",
        "#  /tmp/tag_dCa_SR_0.011429_1.pickle\n",
        "#  /tmp/tag_dCa_SR_0.027143_1.pickle\n",
        "#  /tmp/tag_dCa_SR_0.042857_1.pickle\n",
        "#  /tmp/tag_dCa_SR_-0.020000_1.pickle\n",
        "# "
       ]
      },
      {
       "output_type": "stream",
       "stream": "stdout",
       "text": [
        " /tmp/tag_dCa_SR_-0.004286_1.pickle\n",
        "#  /tmp/tag_dCa_SR_0.000000_1.pickle\n",
        "#  /tmp/tag_dCa_SR_0.011429_1.pickle\n",
        "#  /tmp/tag_dCa_SR_0.027143_1.pickle\n",
        "#  /tmp/tag_dCa_SR_0.042857_1.pickle\n"
       ]
      },
      {
       "metadata": {},
       "output_type": "pyout",
       "prompt_number": 50,
       "text": [
        "(8.09, 8.2)"
       ]
      },
      {
       "metadata": {},
       "output_type": "display_data",
       "png": "[encoded data removed]",
       "text": [
        "<matplotlib.figure.Figure at 0x7f1776f43750>"
       ]
      },
      {
       "metadata": {},
       "output_type": "display_data",
       "png": "[encoded data removed]",
       "text": [
        "<matplotlib.figure.Figure at 0x7f1776f43b50>"
       ]
      }
     ],
     "prompt_number": 50
    },
    {
     "cell_type": "code",
     "collapsed": false,
     "input": [
      "for key,case in caseDictCai.iteritems():\n",
      "    print \"# \", key\n",
      "    stateName = \"Cai\"\n",
      "    myplot(case,stateName,shareAxis=True)#,xlim=[55e3,60e3])\n",
      "    s =  case.data[\"s\"]\n",
      "    print np.shape(s)\n",
      "#plt.xlim([2,2.3])"
     ],
     "language": "python",
     "metadata": {},
     "outputs": []
    },
    {
     "cell_type": "markdown",
     "metadata": {},
     "source": [
      "#### Grab statistics "
     ]
    },
    {
     "cell_type": "code",
     "collapsed": false,
     "input": [
      "def getextrema(ts,data, tStart,tEnd):\n",
      "    devs = (ts - tStart)**2\n",
      "    idxStart = np.argmin(devs)\n",
      "    #print ts[ idxStart ]\n",
      "    \n",
      "    devs = (ts - tEnd)**2\n",
      "    idxEnd = np.argmin(devs)\n",
      "    #print ts[ idxEnd ]\n",
      "    \n",
      "    dataCut = data[idxStart:idxEnd]\n",
      "    daMin = np.min(dataCut)\n",
      "    daMax = np.max(dataCut)\n",
      "    return [daMin,daMax]"
     ],
     "language": "python",
     "metadata": {},
     "outputs": [],
     "prompt_number": 17
    },
    {
     "cell_type": "code",
     "collapsed": false,
     "input": [
      "#case = caseDictCaSR['tag_dCa_jct_-1.000000']\n",
      "toggleParam = \"Ca_SR\"\n",
      "\n",
      "def GetPerturbResponse(\n",
      "    case,\n",
      "    toggleParam=\"Ca_SR\",\n",
      "    toggleTime = 2100,\n",
      "    marg = 10,\n",
      "    responseOffset = 50,\n",
      "    maxOnly=False\n",
      "    ):\n",
      "    responseTime = toggleTime+responseOffset\n",
      "\n",
      "    ### Get Param val\n",
      "    valParam = None \n",
      "    for arg in case.args:\n",
      "        #print arg\n",
      "        if toggleParam==\"Ca_SR\" and \"CaSR\" in arg:\n",
      "            valParam = np.float(arg.split()[2])\n",
      "        elif toggleParam==\"Ca_jct1\" and \"Cajct1\" in arg:\n",
      "            valParam = np.float(arg.split()[2]  )   \n",
      "        elif toggleParam==\"Cai\" and \"Cai\" in arg:\n",
      "            valParam = np.float(arg.split()[2]  )   \n",
      "            \n",
      "    print \"Param \", valParam, case.tag\n",
      "\n",
      "    ## Get value of 'perturbation'\n",
      "    ti = case.data[\"t\"] # time\n",
      "    si = case.data[\"s\"] # state\n",
      "    s_idx = case.data[\"s_idx\"] # state indices\n",
      "    #print np.shape(s_idx)\n",
      "    idx1 = s_idx.index(toggleParam) # state you want to plot\n",
      "    si_vals = si[:,idx1]\n",
      "    plt.subplot(1,2,1)\n",
      "    plt.plot(ti,si_vals)\n",
      "    plt.xlim([toggleTime-200,toggleTime+200])\n",
      "    daVals = getextrema(ti,si_vals,toggleTime-marg,toggleTime+marg)\n",
      "\n",
      "    if valParam < 0:\n",
      "        valPerturb = daVals[0]\n",
      "    else:\n",
      "        valPerturb = daVals[1]\n",
      "    if maxOnly:\n",
      "        valPerturb = np.max(daVals)\n",
      "        \n",
      "    print daVals, valPerturb\n",
      "    \n",
      " \n",
      "    ## Get response \n",
      "    #print np.shape(s_idx)\n",
      "    label2=\"Cai\"\n",
      "    idx1 = s_idx.index(label2) # state you want to plot\n",
      "    si_vals = si[:,idx1]\n",
      "\n",
      "    marg = 100\n",
      "    plt.subplot(1,2,2)\n",
      "    plt.plot(ti,si_vals)\n",
      "    plt.xlim([toggleTime-200,toggleTime+200])        \n",
      "    daVals = getextrema(ti,si_vals,responseTime-marg,responseTime+marg)\n",
      "    valResponse=daVals[1]\n",
      "    plt.tight_layout()\n",
      "    \n",
      "    return valParam,valPerturb,valResponse"
     ],
     "language": "python",
     "metadata": {},
     "outputs": [],
     "prompt_number": 18
    },
    {
     "cell_type": "markdown",
     "metadata": {},
     "source": [
      "#### Jct perturbations "
     ]
    },
    {
     "cell_type": "code",
     "collapsed": false,
     "input": [
      "#plt.figure()\n",
      "class empty:pass\n",
      "\n",
      "\n",
      "\n",
      "toggleParam = \"Ca_jct1\"\n",
      "caseDict = caseDictCajct\n",
      "\n",
      "def AnalyzePerturbs(\n",
      "    caseDict, \n",
      "    toggleTime=toggleTime,\n",
      "    responseOffset=50,\n",
      "    toggleParam=\"Ca_jct1\",\n",
      "    maxOnly=False,\n",
      "    xLim=None):\n",
      "    \n",
      "    caseOuts = empty()\n",
      "    valPerturbs = []\n",
      "    valResponses= []\n",
      "    valParams= []\n",
      "    for key,case in caseDict.iteritems():\n",
      "        valParam,valPerturb, valResponse = GetPerturbResponse(\n",
      "            case,\n",
      "            toggleTime=toggleTime,\n",
      "            responseOffset=responseOffset,\n",
      "            toggleParam=toggleParam,\n",
      "            maxOnly=maxOnly)\n",
      "        print valParam,valPerturb, valResponse\n",
      "        valPerturbs.append(valPerturb)\n",
      "        valResponses.append(valResponse)\n",
      "        valParams.append(valParam)\n",
      "\n",
      "    #print returned\n",
      "\n",
      "    plt.figure()\n",
      "    caseOuts.valPerturbs = np.asarray(valPerturbs)\n",
      "\n",
      "    caseOuts.valResponses = np.asarray(valResponses)\n",
      "    caseOuts.valParams = np.asarray(valParams)\n",
      "    plt.scatter(caseOuts.valPerturbs,caseOuts.valResponses)\n",
      "    plt.ylim([np.min(caseOuts.valResponses),np.max(caseOuts.valResponses)])\n",
      "    \n",
      "    return caseOuts"
     ],
     "language": "python",
     "metadata": {},
     "outputs": [],
     "prompt_number": 25
    },
    {
     "cell_type": "code",
     "collapsed": false,
     "input": [
      "jctOuts = AnalyzePerturbs(\n",
      "    caseDictCajct,\n",
      "    toggleTime=toggleTime,\n",
      "    toggleParam = \"Ca_jct1\") \n",
      "\n"
     ],
     "language": "python",
     "metadata": {},
     "outputs": [
      {
       "output_type": "stream",
       "stream": "stdout",
       "text": [
        "Param  1.428571 tag_dCa_jct_1.428571\n",
        "[0.00038740473883348104, 0.1385208016757398]"
       ]
      },
      {
       "output_type": "stream",
       "stream": "stdout",
       "text": [
        " 0.138520801676\n",
        "1.428571"
       ]
      },
      {
       "output_type": "stream",
       "stream": "stdout",
       "text": [
        " 0.138520801676 0.000471875055411\n",
        "Param  0.657143 tag_dCa_jct_0.657143\n",
        "[0.00038740473883348104, 0.18348715952997713] 0.18348715953\n",
        "0.657143 0.18348715953 0.000547994703452\n",
        "Param  0.914286 tag_dCa_jct_0.914286\n",
        "[0.00038740473883348104, 0.1739491039358973] 0.173949103936\n",
        "0.914286 0.173949103936 0.000526462897842\n",
        "Param  4.0 tag_dCa_jct_4.000000\n",
        "[0.00038740473883348104, 0.30321205583969546] 0.30321205584\n",
        "4.0"
       ]
      },
      {
       "output_type": "stream",
       "stream": "stdout",
       "text": [
        " 0.30321205584 0.000629421144765\n",
        "Param  3.742857 tag_dCa_jct_3.742857\n",
        "[0.00038740473883348104, 0.28330738399785693] 0.283307383998\n",
        "3.742857 0.283307383998 0.000619401661349\n",
        "Param  3.228571 tag_dCa_jct_3.228571\n",
        "[0.00038740473883348104, 0.23610964820917008] 0.236109648209\n",
        "3.228571 0.236109648209 0.000597075759894\n",
        "Param  1.171429 tag_dCa_jct_1.171429\n",
        "[0.00038740473883348104, 0.14694817106468547] 0.146948171065\n",
        "1.171429"
       ]
      },
      {
       "output_type": "stream",
       "stream": "stdout",
       "text": [
        " 0.146948171065 0.000492142289355\n",
        "Param  0.4 tag_dCa_jct_0.400000\n",
        "[0.00038740473883348104, 0.18808879036252288] 0.188088790363\n",
        "0.4 0.188088790363 0.000559345727318\n",
        "Param  1.685714 tag_dCa_jct_1.685714\n",
        "[0.00038740473883348104, 0.15019668923845608] 0.150196689238\n",
        "1.685714 0.150196689238 0.000489995426974\n",
        "Param  0.0 tag_dCa_jct_0.000000\n",
        "[0.00038740473883348104, 0.19806682936444328] 0.198066829364\n",
        "0.0"
       ]
      },
      {
       "output_type": "stream",
       "stream": "stdout",
       "text": [
        " 0.198066829364 0.000565870758446\n",
        "Param  2.457143 tag_dCa_jct_2.457143\n",
        "[0.00038740473883348104, 0.20530335431177835] 0.205303354312\n",
        "2.457143 0.205303354312 0.000554175387703\n",
        "Param  2.971429 tag_dCa_jct_2.971429\n",
        "[0.00038740473883348104, 0.23340587660581644] 0.233405876606\n",
        "2.971429 0.233405876606 0.000584329438206\n",
        "Param  2.714286 tag_dCa_jct_2.714286\n",
        "[0.00038740473883348104, 0.22518989999243413] 0.225189899992\n",
        "2.714286"
       ]
      },
      {
       "output_type": "stream",
       "stream": "stdout",
       "text": [
        " 0.225189899992 0.000570189062733\n",
        "Param  2.2 tag_dCa_jct_2.200000\n",
        "[0.00038740473883348104, 0.1856483514445216] 0.185648351445\n",
        "2.2 0.185648351445 0.000535654586787\n",
        "Param  1.942857 tag_dCa_jct_1.942857\n",
        "[0.00038740473883348104, 0.17216823709293078] 0.172168237093\n",
        "1.942857 0.172168237093 0.00051424527164\n",
        "Param  3.485714 tag_dCa_jct_3.485714\n",
        "[0.00038740473883348104, 0.25942225822646348] 0.259422258226\n",
        "3.485714"
       ]
      },
      {
       "output_type": "stream",
       "stream": "stdout",
       "text": [
        " 0.259422258226 0.000608682229142\n"
       ]
      },
      {
       "metadata": {},
       "output_type": "display_data",
       "png": "[encoded data removed]",
       "text": [
        "<matplotlib.figure.Figure at 0x7f1776e08bd0>"
       ]
      },
      {
       "metadata": {},
       "output_type": "display_data",
       "png": "[encoded data removed]",
       "text": [
        "<matplotlib.figure.Figure at 0x7f17780e6f50>"
       ]
      }
     ],
     "prompt_number": 26
    },
    {
     "cell_type": "markdown",
     "metadata": {},
     "source": [
      "Getting the effect on SR load is a bit tricky. In order to avoid grabbing 'decline' of the SR load as the RyR is open, we will pull the data values one pulse ater"
     ]
    },
    {
     "cell_type": "code",
     "collapsed": false,
     "input": [
      "\n",
      "#AnalyzePerturbs(\n",
      "#  smallDict,\n",
      "#  toggleTime=toggleTime+1000,\n",
      " # toggleParam = \"Ca_SR\",\n",
      "#  maxOnly=True)     \n",
      "\n",
      "srOuts = AnalyzePerturbs(\n",
      "    caseDictCaSR,\n",
      "    toggleTime=toggleTime+1000,\n",
      "    toggleParam = \"Ca_SR\",\n",
      "  maxOnly=True)"
     ],
     "language": "python",
     "metadata": {},
     "outputs": [
      {
       "output_type": "stream",
       "stream": "stdout",
       "text": [
        "Param  -0.004286 tag_dCa_SR_-0.004286\n",
        "[0.50866155817215652, 0.61236399473895609]"
       ]
      },
      {
       "output_type": "stream",
       "stream": "stdout",
       "text": [
        " 0.612363994739\n",
        "-0.004286"
       ]
      },
      {
       "output_type": "stream",
       "stream": "stdout",
       "text": [
        " 0.612363994739 0.000569163614411\n",
        "Param  0.027143 tag_dCa_SR_0.027143\n",
        "[0.50808192463439772, 0.62077051107923176] 0.620770511079\n",
        "0.027143 0.620770511079 0.000597016551184\n",
        "Param  0.168571 tag_dCa_SR_0.168571\n",
        "[0.50360323490514247, 0.65966496195567725] 0.659664961956\n",
        "0.168571 0.659664961956 0.000737036328968\n",
        "Param  0.2 tag_dCa_SR_0.200000\n",
        "[0.50257772116581367, 0.66846334671118623]"
       ]
      },
      {
       "output_type": "stream",
       "stream": "stdout",
       "text": [
        " 0.668463346711\n",
        "0.2 0.668463346711 0.000771491486855\n",
        "Param  0.042857 tag_dCa_SR_0.042857\n",
        "[0.50770069955788721, 0.6250091822472934] 0.625009182247\n",
        "0.042857 0.625009182247 0.000611385623813\n",
        "Param  0.074286 tag_dCa_SR_0.074286\n",
        "[0.50679970870790569, 0.63355673552227287] 0.633556735522\n",
        "0.074286"
       ]
      },
      {
       "output_type": "stream",
       "stream": "stdout",
       "text": [
        " 0.633556735522 0.000641019665947\n",
        "Param  0.011429 tag_dCa_SR_0.011429\n",
        "[0.50840513569576229, 0.61655560133700515] 0.616555601337\n",
        "0.011429 0.616555601337 0.000582943893396\n",
        "Param  0.0 tag_dCa_SR_0.000000\n",
        "[0.50859874431747609, 0.61350487457002745] 0.61350487457\n",
        "0.0 0.61350487457 0.00057289309949\n",
        "Param  0.105714 tag_dCa_SR_0.105714\n",
        "[0.50577259415759002, 0.64219103011904788] 0.642191030119\n",
        "0.105714"
       ]
      },
      {
       "output_type": "stream",
       "stream": "stdout",
       "text": [
        " 0.642191030119 0.000671841338242\n",
        "Param  -0.02 tag_dCa_SR_-0.020000\n",
        "[0.50884257341092132, 0.6081955963506781] 0.608195596351\n",
        "-0.02 0.608195596351 0.000555672959319\n",
        "Param  0.137143 tag_dCa_SR_0.137143\n",
        "[0.50468650185780128, 0.65089997395066534] 0.650899973951\n",
        "0.137143 0.650899973951 0.00070382728131\n",
        "Param  0.09 tag_dCa_SR_0.090000\n",
        "[0.50629761390163797, 0.63786366408239903] 0.637863664082\n",
        "0.09"
       ]
      },
      {
       "output_type": "stream",
       "stream": "stdout",
       "text": [
        " 0.637863664082 0.00065628299219\n",
        "Param  0.152857 tag_dCa_SR_0.152857\n",
        "[0.50414091747333434, 0.65527675746775638] 0.655276757468\n",
        "0.152857 0.655276757468 0.000720261380036\n",
        "Param  0.184286 tag_dCa_SR_0.184286\n",
        "[0.50308007497972773, 0.6640618085290001] 0.664061808529\n",
        "0.184286 0.664061808529 0.000754086569709\n",
        "Param  0.058571 tag_dCa_SR_0.058571\n",
        "[0.50727034585283781, 0.62927138086644951] 0.629271380866\n",
        "0.058571"
       ]
      },
      {
       "output_type": "stream",
       "stream": "stdout",
       "text": [
        " 0.629271380866 0.000626052888047\n",
        "Param  0.121429 tag_dCa_SR_0.121429\n",
        "[0.50523289171975505, 0.64653735001674228] 0.646537350017\n",
        "0.121429 0.646537350017 0.000687691855727\n"
       ]
      },
      {
       "metadata": {},
       "output_type": "display_data",
       "png": "[encoded data removed]",
       "text": [
        "<matplotlib.figure.Figure at 0x7f177846dad0>"
       ]
      },
      {
       "metadata": {},
       "output_type": "display_data",
       "png": "[encoded data removed]",
       "text": [
        "<matplotlib.figure.Figure at 0x7f1778af7950>"
       ]
      }
     ],
     "prompt_number": 27
    },
    {
     "cell_type": "code",
     "collapsed": false,
     "input": [
      "if 0:\n",
      "    caiOuts = AnalyzePerturbs(\n",
      "    caseDictCai,\n",
      "    toggleTime=toggleTime,\n",
      "    responseOffset = 1000,\n",
      "    toggleParam = \"Cai\") \n"
     ],
     "language": "python",
     "metadata": {},
     "outputs": [],
     "prompt_number": 28
    },
    {
     "cell_type": "code",
     "collapsed": false,
     "input": [
      "print srOuts.valPerturbs"
     ],
     "language": "python",
     "metadata": {},
     "outputs": [
      {
       "output_type": "stream",
       "stream": "stdout",
       "text": [
        "[ 0.61236399  0.62077051  0.65966496  0.66846335  0.62500918  0.63355674\n",
        "  0.6165556   0.61350487  0.64219103  0.6081956   0.65089997  0.63786366\n",
        "  0.65527676  0.66406181  0.62927138  0.64653735]\n"
       ]
      }
     ],
     "prompt_number": 29
    },
    {
     "cell_type": "code",
     "collapsed": false,
     "input": [
      "#plt.scatter(srOuts.valPerturbs/np.min(valPerturbs),srOuts.valResponses)\n",
      "mM_to_uM=1e3\n",
      "ctlIdx = np.argmin( np.abs(jctOuts.valParams))\n",
      "ctl = jctOuts.valPerturbs[ ctlIdx ]\n",
      "print ctl\n",
      "jctNorm= 100 * jctOuts.valPerturbs/ctl\n",
      "plt.scatter(jctNorm,jctOuts.valResponses*mM_to_uM,label=\"jct\",c=\"r\")\n",
      "\n",
      "\n",
      "ctlIdx = np.argmin( np.abs(srOuts.valParams))\n",
      "ctl = srOuts.valPerturbs[ ctlIdx ]\n",
      "print ctl\n",
      "srNorm= 100*srOuts.valPerturbs/ctl\n",
      "plt.scatter(srNorm,srOuts.valResponses*mM_to_uM,label=\"SR\",c='k')\n",
      "#caiNorm= caiOuts.valPerturbs/np.min(caiOuts.valPerturbs)\n",
      "#plt.scatter(caiNorm,caiOuts.valResponses*mM_to_uM,label=\"Cai\",facecolor='w')\n",
      "plt.ylabel(\"Ca [uM]\")\n",
      "#plt.ylim([4e-4,np.max(srOuts.valResponses)])\n",
      "#plt.xlim([1,2.2])\n",
      "#print xlim([1,2.2])\n",
      "plt.xlabel(\"% of control\")\n",
      "plt.legend(loc=0)\n",
      "plt.gcf().savefig(\"CaT_wrt_jct_SR.png\",dpi=300)"
     ],
     "language": "python",
     "metadata": {},
     "outputs": [
      {
       "output_type": "stream",
       "stream": "stdout",
       "text": [
        "0.198066829364\n",
        "0.61350487457"
       ]
      },
      {
       "output_type": "stream",
       "stream": "stdout",
       "text": [
        "\n"
       ]
      },
      {
       "metadata": {},
       "output_type": "display_data",
       "png": "[encoded data removed]",
       "text": [
        "<matplotlib.figure.Figure at 0x7f1778593990>"
       ]
      }
     ],
     "prompt_number": 31
    },
    {
     "cell_type": "code",
     "collapsed": false,
     "input": [],
     "language": "python",
     "metadata": {},
     "outputs": []
    },
    {
     "cell_type": "code",
     "collapsed": false,
     "input": [],
     "language": "python",
     "metadata": {},
     "outputs": []
    },
    {
     "cell_type": "code",
     "collapsed": false,
     "input": [],
     "language": "python",
     "metadata": {},
     "outputs": []
    },
    {
     "cell_type": "code",
     "collapsed": false,
     "input": [],
     "language": "python",
     "metadata": {},
     "outputs": []
    },
    {
     "cell_type": "code",
     "collapsed": false,
     "input": [],
     "language": "python",
     "metadata": {},
     "outputs": []
    },
    {
     "cell_type": "code",
     "collapsed": false,
     "input": [],
     "language": "python",
     "metadata": {},
     "outputs": []
    },
    {
     "cell_type": "code",
     "collapsed": false,
     "input": [],
     "language": "python",
     "metadata": {},
     "outputs": []
    }
   ],
   "metadata": {}
  }
 ]
}