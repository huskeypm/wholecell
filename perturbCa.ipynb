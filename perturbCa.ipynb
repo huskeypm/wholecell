{
 "metadata": {
  "kernelspec": {
   "display_name": "Python 2",
   "language": "python",
   "name": "python2"
  },
  "language_info": {
   "codemirror_mode": {
    "name": "ipython",
    "version": 3
   },
   "file_extension": ".py",
   "mimetype": "text/x-python",
   "name": "python",
   "nbconvert_exporter": "python",
   "pygments_lexer": "ipython3",
   "version": "3.4.3"
  },
  "name": "",
  "signature": "sha256:60e611d1f9af4dc15b61dcc5a607bdc8f5a5d172f139caabd08f55772ca17d71"
 },
 "nbformat": 3,
 "nbformat_minor": 0,
 "worksheets": [
  {
   "cells": [
    {
     "cell_type": "heading",
     "level": 2,
     "metadata": {},
     "source": [
      "Notebook for instantaneous perturbations of Ca cleft (Ca_jct1) and Ca SR"
     ]
    },
    {
     "cell_type": "markdown",
     "metadata": {},
     "source": [
      "### Testing\n",
      "- Run \n",
      "\n",
      "\n",
      "- analyze\n"
     ]
    },
    {
     "cell_type": "code",
     "collapsed": true,
     "input": [
      "%load_ext autoreload\n",
      "%autoreload 2"
     ],
     "language": "python",
     "metadata": {},
     "outputs": [],
     "prompt_number": 1
    },
    {
     "cell_type": "code",
     "collapsed": false,
     "input": [
      "import analyzeODE as ao"
     ],
     "language": "python",
     "metadata": {},
     "outputs": [
      {
       "output_type": "stream",
       "stream": "stdout",
       "text": [
        "WARNING: ode idx is hardcoded\n"
       ]
      }
     ],
     "prompt_number": 2
    },
    {
     "cell_type": "code",
     "collapsed": false,
     "input": [
      "import sys\n",
      "print (sys.version)"
     ],
     "language": "python",
     "metadata": {},
     "outputs": [
      {
       "output_type": "stream",
       "stream": "stdout",
       "text": [
        "2.7.12 (default, Nov 19 2016, 06:48:10) \n",
        "[GCC 5.4.0 20160609]\n"
       ]
      }
     ],
     "prompt_number": 3
    },
    {
     "cell_type": "code",
     "collapsed": true,
     "input": [
      "import analyzeODE as ao\n",
      "import Case\n",
      "root = \"./\"\n",
      "pacing = 1.0 # Hz\n",
      "stim_period = 1000/pacing # [ms]\n",
      "T_sec = 3\n",
      "T = T_sec * 1e3 # [ms]\n",
      "toggleTime = 2100.\n",
      "caseDict = dict()"
     ],
     "language": "python",
     "metadata": {},
     "outputs": [],
     "prompt_number": 4
    },
    {
     "cell_type": "markdown",
     "metadata": {},
     "source": [
      "#### Determine jobs "
     ]
    },
    {
     "cell_type": "code",
     "collapsed": false,
     "input": [
      "# baseline\n",
      "tag=\"baseline\"\n",
      "toggleRate_CaSR = 0.\n",
      "toggleRate_Cajct1 = 0.\n",
      "odeName = \"shannon_2004_rat_toggle.ode\"\n",
      "\n",
      "defaultArgs = [\n",
      "\"-stim %d\" % stim_period,\n",
      "\"-T %d\" % T,\n",
      "\"-state Na_SL 12.00\",\n",
      "\"-state Na_jct1 12.00\",\n",
      "\"-state Nai 12.00\",\n",
      "\"-var G_CaBk 0.0007539\",\n",
      "\"-var G_NaBk 0.001337\",\n",
      "\"-var I_NaK_max 3.85\", \n",
      "\"-var T 310.00\", \n",
      "\"-var V_max_Jpump 0.009977826\"]\n",
      "\n",
      "variedArgs= [ \n",
      "\"-var toggleTime %f\"%toggleTime,\n",
      "\"-var toggleRate_CaSR %f\"% toggleRate_CaSR,\n",
      "\"-var toggleRate_Cajct1 %f\"% toggleRate_Cajct1]\n",
      "\n",
      "caseDict[tag] = Case.Case(\n",
      "tag=tag, # tag for filename\n",
      "odeName = odeName,\n",
      "label=tag + \" case \", # label for simulation when plotted\n",
      "name = tag+\".pickle\", # where data will be stored\n",
      "args = defaultArgs + variedArgs\n",
      ")\n"
     ],
     "language": "python",
     "metadata": {},
     "outputs": [
      {
       "output_type": "stream",
       "stream": "stdout",
       "text": [
        "Using T=3000.000000 from command line args\n"
       ]
      }
     ],
     "prompt_number": 5
    },
    {
     "cell_type": "markdown",
     "metadata": {},
     "source": [
      "#### Run "
     ]
    },
    {
     "cell_type": "code",
     "collapsed": false,
     "input": [
      "for key,case in caseDict.iteritems():\n",
      "  print \"# \", key\n",
      "  print case.cmdLine"
     ],
     "language": "python",
     "metadata": {},
     "outputs": [
      {
       "output_type": "stream",
       "stream": "stdout",
       "text": [
        "#  baseline\n",
        "python daisychain.py  -stim 1000 -T 3000 -state Na_SL 12.00 -state Na_jct1 12.00 -state Nai 12.00 -var G_CaBk 0.0007539 -var G_NaBk 0.001337 -var I_NaK_max 3.85 -var T 310.00 -var V_max_Jpump 0.009977826 -var toggleTime 2100.000000 -var toggleRate_CaSR 0.000000 -var toggleRate_Cajct1 0.000000 -iters 1 -odeName shannon_2004_rat_toggle.ode -T 3000.000000 -name baseline.pickle  &\n"
       ]
      }
     ],
     "prompt_number": 6
    },
    {
     "cell_type": "markdown",
     "metadata": {},
     "source": [
      "#### Analyzem"
     ]
    },
    {
     "cell_type": "code",
     "collapsed": false,
     "input": [
      "ao.LoadPickles(caseDict,noOverwrite=False)"
     ],
     "language": "python",
     "metadata": {},
     "outputs": [
      {
       "output_type": "stream",
       "stream": "stdout",
       "text": [
        "#  baseline\n",
        "Loading baseline_1.pickle\n",
        "Reading baseline_1.pickle\n"
       ]
      }
     ],
     "prompt_number": 7
    },
    {
     "cell_type": "code",
     "collapsed": false,
     "input": [
      "def myplot(case,label1,xlim=[0,-1],shareAxis=False):\n",
      "    if shareAxis==False:\n",
      "        plt.figure()\n",
      "    ti = case.data[\"t\"] # time\n",
      "    si = case.data[\"s\"] # state\n",
      "    s_idx = case.data[\"s_idx\"] # state indices\n",
      "    #print np.shape(s_idx)\n",
      "    idx1 = s_idx.index(label1) # state you want to plot\n",
      "    ti_vals = ti[xlim[0]:xlim[1]] # interval you want to plot\n",
      "    si_vals = si[xlim[0]:xlim[1],idx1]\n",
      "    plt.plot(ti_vals/1e3,si_vals,label = case.label)\n",
      "    plt.ylabel(label1)\n",
      "    plt.title(case.label)\n",
      "    plt.xlabel(\"t [s]\")"
     ],
     "language": "python",
     "metadata": {},
     "outputs": [],
     "prompt_number": 8
    },
    {
     "cell_type": "code",
     "collapsed": false,
     "input": [
      "for key,case in caseDict.iteritems():\n",
      "    print \"# \", key\n",
      "    stateName = \"Ca_jct1\"\n",
      "    myplot(case,stateName)#,xlim=[55e3,60e3])"
     ],
     "language": "python",
     "metadata": {},
     "outputs": [
      {
       "output_type": "stream",
       "stream": "stdout",
       "text": [
        "#  baseline\n"
       ]
      },
      {
       "metadata": {},
       "output_type": "display_data",
       "png": "[encoded data removed]",
       "text": [
        "<matplotlib.figure.Figure at 0x7f7e49e0bd10>"
       ]
      }
     ],
     "prompt_number": 9
    },
    {
     "cell_type": "markdown",
     "metadata": {},
     "source": [
      "#### Run for slew of jobs \n",
      "\n",
      "jct and SR"
     ]
    },
    {
     "cell_type": "code",
     "collapsed": false,
     "input": [
      "toggleTime = 2100 \n",
      "\n",
      "### jct \n",
      "toggleRate_CaSR = 0.\n",
      "toggleRate_Cajct1 = 0.\n",
      "nDraws = 10\n",
      "scale = 1.\n",
      "mu, sigma = 0., 0.5 # mean and standard deviation\n",
      "dCa_jcts = scale * np.random.normal(mu, sigma, nDraws) # values need not be positive \n",
      "\n",
      "\n",
      "caseDictCajct=dict()\n",
      "for i, toggleRate_Cajct1 in enumerate(dCa_jcts):\n",
      "    tag = \"tag_dCa_jct_%f\"%toggleRate_Cajct1\n",
      "    \n",
      "    variedArgs= [ \n",
      "    \"-var toggleTime %f\"%toggleTime,\n",
      "    \"-var toggleRate_CaSR %f\"% toggleRate_CaSR,\n",
      "    \"-var toggleRate_Cajct1 %f\"% toggleRate_Cajct1]\n",
      "\n",
      "    \n",
      "    caseDictCajct[tag] = Case.Case(\n",
      "        tag=tag, # tag for filename\n",
      "        odeName = odeName,\n",
      "        label=tag + \" case \", # label for simulation when plotted\n",
      "        name = tag+\".pickle\", # where data will be stored\n",
      "        args = defaultArgs + variedArgs\n",
      "    )\n",
      "\n",
      "### jct \n",
      "toggleRate_CaSR = 0.\n",
      "toggleRate_Cajct1 = 0.\n",
      "\n",
      "nDraws = 10\n",
      "mu, sigma = 0., 0.5 # mean and standard deviation\n",
      "scale = 1.\n",
      "dCa_SRs = scale * np.random.normal(mu, sigma, nDraws) # values need not be positive \n",
      "\n",
      "\n",
      "caseDictCaSR=dict()\n",
      "for i, toggleRate_CaSR in enumerate(dCa_SRs):\n",
      "    tag = \"tag_dCa_jct_%f\"%toggleRate_CaSR\n",
      "    \n",
      "    variedArgs= [ \n",
      "    \"-var toggleTime %f\"%toggleTime,\n",
      "    \"-var toggleRate_CaSR %f\"% toggleRate_CaSR,\n",
      "    \"-var toggleRate_Cajct1 %f\"% toggleRate_Cajct1]\n",
      "\n",
      "    \n",
      "    caseDictCaSR[tag] = Case.Case(\n",
      "        tag=tag, # tag for filename\n",
      "        odeName = odeName,\n",
      "        label=tag + \" case \", # label for simulation when plotted\n",
      "        name = tag+\".pickle\", # where data will be stored\n",
      "        args = defaultArgs + variedArgs\n",
      "    )\n",
      "    \n",
      "    "
     ],
     "language": "python",
     "metadata": {},
     "outputs": [
      {
       "output_type": "stream",
       "stream": "stdout",
       "text": [
        "Using T=3000.000000 from command line args\n",
        "Using T=3000.000000 from command line args\n",
        "Using T=3000.000000 from command line args\n",
        "Using T=3000.000000 from command line args\n",
        "Using T=3000.000000 from command line args\n",
        "Using T=3000.000000 from command line args\n",
        "Using T=3000.000000 from command line args\n",
        "Using T=3000.000000 from command line args\n",
        "Using T=3000.000000 from command line args\n",
        "Using T=3000.000000 from command line args\n",
        "Using T=3000.000000 from command line args\n",
        "Using T=3000.000000 from command line args\n",
        "Using T=3000.000000 from command line args\n",
        "Using T=3000.000000 from command line args\n",
        "Using T=3000.000000 from command line args\n",
        "Using T=3000.000000 from command line args\n",
        "Using T=3000.000000 from command line args\n",
        "Using T=3000.000000 from command line args\n",
        "Using T=3000.000000 from command line args\n",
        "Using T=3000.000000 from command line args\n"
       ]
      }
     ],
     "prompt_number": 11
    },
    {
     "cell_type": "code",
     "collapsed": false,
     "input": [
      "#for key,case in caseDictCajct.iteritems():\n",
      "#  print \"# \", key\n",
      "#  print case.cmdLine\n",
      "\n",
      "for key,case in caseDictCaSR.iteritems():\n",
      "  print \"# \", key\n",
      "  print case.cmdLine\n"
     ],
     "language": "python",
     "metadata": {},
     "outputs": [
      {
       "output_type": "stream",
       "stream": "stdout",
       "text": [
        "#  tag_dCa_jct_0.312451\n",
        "python daisychain.py  -stim 1000 -T 3000 -state Na_SL 12.00 -state Na_jct1 12.00 -state Nai 12.00 -var G_CaBk 0.0007539 -var G_NaBk 0.001337 -var I_NaK_max 3.85 -var T 310.00 -var V_max_Jpump 0.009977826 -var toggleTime 2100.000000 -var toggleRate_CaSR 0.312451 -var toggleRate_Cajct1 0.000000 -iters 1 -odeName shannon_2004_rat_toggle.ode -T 3000.000000 -name tag_dCa_jct_0.312451.pickle  &\n",
        "#  tag_dCa_jct_-0.878589\n",
        "python daisychain.py  -stim 1000 -T 3000 -state Na_SL 12.00 -state Na_jct1 12.00 -state Nai 12.00 -var G_CaBk 0.0007539 -var G_NaBk 0.001337 -var I_NaK_max 3.85 -var T 310.00 -var V_max_Jpump 0.009977826 -var toggleTime 2100.000000 -var toggleRate_CaSR -0.878589 -var toggleRate_Cajct1 0.000000 -iters 1 -odeName shannon_2004_rat_toggle.ode -T 3000.000000 -name tag_dCa_jct_-0.878589.pickle  &\n",
        "#  tag_dCa_jct_0.239609\n",
        "python daisychain.py  -stim 1000 -T 3000 -state Na_SL 12.00 -state Na_jct1 12.00 -state Nai 12.00 -var G_CaBk 0.0007539 -var G_NaBk 0.001337 -var I_NaK_max 3.85 -var T 310.00 -var V_max_Jpump 0.009977826 -var toggleTime 2100.000000 -var toggleRate_CaSR 0.239609 -var toggleRate_Cajct1 0.000000 -iters 1 -odeName shannon_2004_rat_toggle.ode -T 3000.000000 -name tag_dCa_jct_0.239609.pickle  &\n",
        "#  tag_dCa_jct_0.870948\n",
        "python daisychain.py  -stim 1000 -T 3000 -state Na_SL 12.00 -state Na_jct1 12.00 -state Nai 12.00 -var G_CaBk 0.0007539 -var G_NaBk 0.001337 -var I_NaK_max 3.85 -var T 310.00 -var V_max_Jpump 0.009977826 -var toggleTime 2100.000000 -var toggleRate_CaSR 0.870948 -var toggleRate_Cajct1 0.000000 -iters 1 -odeName shannon_2004_rat_toggle.ode -T 3000.000000 -name tag_dCa_jct_0.870948.pickle  &\n",
        "#  tag_dCa_jct_-0.186709\n",
        "python daisychain.py  -stim 1000 -T 3000 -state Na_SL 12.00 -state Na_jct1 12.00 -state Nai 12.00 -var G_CaBk 0.0007539 -var G_NaBk 0.001337 -var I_NaK_max 3.85 -var T 310.00 -var V_max_Jpump 0.009977826 -var toggleTime 2100.000000 -var toggleRate_CaSR -0.186709 -var toggleRate_Cajct1 0.000000 -iters 1 -odeName shannon_2004_rat_toggle.ode -T 3000.000000 -name tag_dCa_jct_-0.186709.pickle  &\n",
        "#  tag_dCa_jct_0.012234\n",
        "python daisychain.py  -stim 1000 -T 3000 -state Na_SL 12.00 -state Na_jct1 12.00 -state Nai 12.00 -var G_CaBk 0.0007539 -var G_NaBk 0.001337 -var I_NaK_max 3.85 -var T 310.00 -var V_max_Jpump 0.009977826 -var toggleTime 2100.000000 -var toggleRate_CaSR 0.012234 -var toggleRate_Cajct1 0.000000 -iters 1 -odeName shannon_2004_rat_toggle.ode -T 3000.000000 -name tag_dCa_jct_0.012234.pickle  &\n",
        "#  tag_dCa_jct_-0.239527\n",
        "python daisychain.py  -stim 1000 -T 3000 -state Na_SL 12.00 -state Na_jct1 12.00 -state Nai 12.00 -var G_CaBk 0.0007539 -var G_NaBk 0.001337 -var I_NaK_max 3.85 -var T 310.00 -var V_max_Jpump 0.009977826 -var toggleTime 2100.000000 -var toggleRate_CaSR -0.239527 -var toggleRate_Cajct1 0.000000 -iters 1 -odeName shannon_2004_rat_toggle.ode -T 3000.000000 -name tag_dCa_jct_-0.239527.pickle  &\n",
        "#  tag_dCa_jct_-0.229231\n",
        "python daisychain.py  -stim 1000 -T 3000 -state Na_SL 12.00 -state Na_jct1 12.00 -state Nai 12.00 -var G_CaBk 0.0007539 -var G_NaBk 0.001337 -var I_NaK_max 3.85 -var T 310.00 -var V_max_Jpump 0.009977826 -var toggleTime 2100.000000 -var toggleRate_CaSR -0.229231 -var toggleRate_Cajct1 0.000000 -iters 1 -odeName shannon_2004_rat_toggle.ode -T 3000.000000 -name tag_dCa_jct_-0.229231.pickle  &\n",
        "#  tag_dCa_jct_0.104012\n",
        "python daisychain.py  -stim 1000 -T 3000 -state Na_SL 12.00 -state Na_jct1 12.00 -state Nai 12.00 -var G_CaBk 0.0007539 -var G_NaBk 0.001337 -var I_NaK_max 3.85 -var T 310.00 -var V_max_Jpump 0.009977826 -var toggleTime 2100.000000 -var toggleRate_CaSR 0.104012 -var toggleRate_Cajct1 0.000000 -iters 1 -odeName shannon_2004_rat_toggle.ode -T 3000.000000 -name tag_dCa_jct_0.104012.pickle  &\n",
        "#  tag_dCa_jct_0.987373\n",
        "python daisychain.py  -stim 1000 -T 3000 -state Na_SL 12.00 -state Na_jct1 12.00 -state Nai 12.00 -var G_CaBk 0.0007539 -var G_NaBk 0.001337 -var I_NaK_max 3.85 -var T 310.00 -var V_max_Jpump 0.009977826 -var toggleTime 2100.000000 -var toggleRate_CaSR 0.987373 -var toggleRate_Cajct1 0.000000 -iters 1 -odeName shannon_2004_rat_toggle.ode -T 3000.000000 -name tag_dCa_jct_0.987373.pickle  &\n"
       ]
      }
     ],
     "prompt_number": 12
    },
    {
     "cell_type": "code",
     "collapsed": false,
     "input": [
      "\n",
      "#ao.LoadPickles(caseDictCajct,noOverwrite=False,verbose=False,readSubset=True)\n",
      "ao.LoadPickles(caseDictCaSR,noOverwrite=False,verbose=False,readSubset=True)\n",
      "print \"WARNING: still not grapping a subset!!!\" "
     ],
     "language": "python",
     "metadata": {},
     "outputs": [
      {
       "output_type": "stream",
       "stream": "stdout",
       "text": [
        "WARNING: still not grapping a subset!!!\n"
       ]
      }
     ],
     "prompt_number": 39
    },
    {
     "cell_type": "code",
     "collapsed": false,
     "input": [
      "\n",
      "\n",
      "for key,case in caseDictCajct.iteritems():\n",
      "    print \"# \", key\n",
      "    stateName = \"Ca_jct1\"\n",
      "    myplot(case,stateName,shareAxis=True)#,xlim=[55e3,60e3])\n",
      "\n",
      "plt.xlim([2,2.3])"
     ],
     "language": "python",
     "metadata": {},
     "outputs": [
      {
       "output_type": "stream",
       "stream": "stdout",
       "text": [
        "#  tag_dCa_jct_0.211552\n"
       ]
      },
      {
       "ename": "AttributeError",
       "evalue": "Case instance has no attribute 'data'",
       "output_type": "pyerr",
       "traceback": [
        "\u001b[0;31m---------------------------------------------------------------------------\u001b[0m\n\u001b[0;31mAttributeError\u001b[0m                            Traceback (most recent call last)",
        "\u001b[0;32m<ipython-input-24-0cfaa563a3db>\u001b[0m in \u001b[0;36m<module>\u001b[0;34m()\u001b[0m\n\u001b[1;32m      4\u001b[0m     \u001b[0;32mprint\u001b[0m \u001b[0;34m\"# \"\u001b[0m\u001b[0;34m,\u001b[0m \u001b[0mkey\u001b[0m\u001b[0;34m\u001b[0m\u001b[0m\n\u001b[1;32m      5\u001b[0m     \u001b[0mstateName\u001b[0m \u001b[0;34m=\u001b[0m \u001b[0;34m\"Ca_jct1\"\u001b[0m\u001b[0;34m\u001b[0m\u001b[0m\n\u001b[0;32m----> 6\u001b[0;31m     \u001b[0mmyplot\u001b[0m\u001b[0;34m(\u001b[0m\u001b[0mcase\u001b[0m\u001b[0;34m,\u001b[0m\u001b[0mstateName\u001b[0m\u001b[0;34m,\u001b[0m\u001b[0mshareAxis\u001b[0m\u001b[0;34m=\u001b[0m\u001b[0mTrue\u001b[0m\u001b[0;34m)\u001b[0m\u001b[0;31m#,xlim=[55e3,60e3])\u001b[0m\u001b[0;34m\u001b[0m\u001b[0m\n\u001b[0m\u001b[1;32m      7\u001b[0m \u001b[0;34m\u001b[0m\u001b[0m\n\u001b[1;32m      8\u001b[0m \u001b[0mplt\u001b[0m\u001b[0;34m.\u001b[0m\u001b[0mxlim\u001b[0m\u001b[0;34m(\u001b[0m\u001b[0;34m[\u001b[0m\u001b[0;36m2\u001b[0m\u001b[0;34m,\u001b[0m\u001b[0;36m2.3\u001b[0m\u001b[0;34m]\u001b[0m\u001b[0;34m)\u001b[0m\u001b[0;34m\u001b[0m\u001b[0m\n",
        "\u001b[0;32m<ipython-input-8-af9bffcedcb9>\u001b[0m in \u001b[0;36mmyplot\u001b[0;34m(case, label1, xlim, shareAxis)\u001b[0m\n\u001b[1;32m      2\u001b[0m     \u001b[0;32mif\u001b[0m \u001b[0mshareAxis\u001b[0m\u001b[0;34m==\u001b[0m\u001b[0mFalse\u001b[0m\u001b[0;34m:\u001b[0m\u001b[0;34m\u001b[0m\u001b[0m\n\u001b[1;32m      3\u001b[0m         \u001b[0mplt\u001b[0m\u001b[0;34m.\u001b[0m\u001b[0mfigure\u001b[0m\u001b[0;34m(\u001b[0m\u001b[0;34m)\u001b[0m\u001b[0;34m\u001b[0m\u001b[0m\n\u001b[0;32m----> 4\u001b[0;31m     \u001b[0mti\u001b[0m \u001b[0;34m=\u001b[0m \u001b[0mcase\u001b[0m\u001b[0;34m.\u001b[0m\u001b[0mdata\u001b[0m\u001b[0;34m[\u001b[0m\u001b[0;34m\"t\"\u001b[0m\u001b[0;34m]\u001b[0m \u001b[0;31m# time\u001b[0m\u001b[0;34m\u001b[0m\u001b[0m\n\u001b[0m\u001b[1;32m      5\u001b[0m     \u001b[0msi\u001b[0m \u001b[0;34m=\u001b[0m \u001b[0mcase\u001b[0m\u001b[0;34m.\u001b[0m\u001b[0mdata\u001b[0m\u001b[0;34m[\u001b[0m\u001b[0;34m\"s\"\u001b[0m\u001b[0;34m]\u001b[0m \u001b[0;31m# state\u001b[0m\u001b[0;34m\u001b[0m\u001b[0m\n\u001b[1;32m      6\u001b[0m     \u001b[0ms_idx\u001b[0m \u001b[0;34m=\u001b[0m \u001b[0mcase\u001b[0m\u001b[0;34m.\u001b[0m\u001b[0mdata\u001b[0m\u001b[0;34m[\u001b[0m\u001b[0;34m\"s_idx\"\u001b[0m\u001b[0;34m]\u001b[0m \u001b[0;31m# state indices\u001b[0m\u001b[0;34m\u001b[0m\u001b[0m\n",
        "\u001b[0;31mAttributeError\u001b[0m: Case instance has no attribute 'data'"
       ]
      }
     ],
     "prompt_number": 24
    },
    {
     "cell_type": "code",
     "collapsed": false,
     "input": [
      "for key,case in caseDictCaSR.iteritems():\n",
      "    print \"# \", key\n",
      "    stateName = \"Ca_SR\"\n",
      "    myplot(case,stateName,shareAxis=True)#,xlim=[55e3,60e3])\n",
      "    s =  case.data[\"s\"]\n",
      "    print np.shape(s)\n",
      "plt.xlim([2,2.3])"
     ],
     "language": "python",
     "metadata": {},
     "outputs": [
      {
       "output_type": "stream",
       "stream": "stdout",
       "text": [
        "#  tag_dCa_jct_0.312451\n",
        "(3001, 43)"
       ]
      },
      {
       "output_type": "stream",
       "stream": "stdout",
       "text": [
        "\n",
        "#  tag_dCa_jct_-0.878589\n",
        "(3001, 43)\n",
        "#  tag_dCa_jct_0.239609\n",
        "(3001, 43)\n",
        "#  tag_dCa_jct_0.870948\n",
        "(3001, 43)\n",
        "#  tag_dCa_jct_-0.186709\n",
        "(3001, 43)\n",
        "#  tag_dCa_jct_0.012234\n",
        "(3001, 43)\n",
        "#  tag_dCa_jct_-0.239527\n",
        "(3001, 43)\n",
        "#  tag_dCa_jct_-0.229231\n",
        "(3001, 43)\n",
        "#  tag_dCa_jct_0.104012\n",
        "(3001, 43)\n",
        "#  tag_dCa_jct_0.987373\n",
        "(3001, 43)\n"
       ]
      },
      {
       "metadata": {},
       "output_type": "pyout",
       "prompt_number": 38,
       "text": [
        "(2, 2.3)"
       ]
      },
      {
       "metadata": {},
       "output_type": "display_data",
       "png": "[encoded data removed]",
       "text": [
        "<matplotlib.figure.Figure at 0x7f7e497f9bd0>"
       ]
      }
     ],
     "prompt_number": 38
    },
    {
     "cell_type": "code",
     "collapsed": false,
     "input": [
      "dummy = Case.Case()\n",
      "\n",
      "dummy.data = ao.readPickle(\"test_1.pickle\",verbose=True,readSubset=True)\n",
      " #"
     ],
     "language": "python",
     "metadata": {},
     "outputs": [
      {
       "output_type": "stream",
       "stream": "stdout",
       "text": [
        "Using T=1000.000000 from command line args\n",
        "Using T=1000.000000 from command line args\n",
        "Using T=1000.000000 from command line args\n",
        "Using T=1000.000000 from command line args\n",
        "Reading test_1.pickle\n",
        "HARDCODED TO Cai, Ca_jct, Ca_SR for now"
       ]
      },
      {
       "output_type": "stream",
       "stream": "stdout",
       "text": [
        "\n"
       ]
      }
     ],
     "prompt_number": 29
    },
    {
     "cell_type": "code",
     "collapsed": false,
     "input": [
      "def getextrema(ts,data, tStart,tEnd):\n",
      "    devs = (ts - tStart)**2\n",
      "    idxStart = np.argmin(devs)\n",
      "    print ts[ idxStart ]\n",
      "    \n",
      "    devs = (ts - tEnd)**2\n",
      "    idxEnd = np.argmin(devs)\n",
      "    #print ts[ idxEnd ]\n",
      "    \n",
      "    dataCut = data[idxStart:idxEnd]\n",
      "    daMin = np.min(dataCut)\n",
      "    daMax = np.max(dataCut)\n",
      "    return [daMin,daMax]"
     ],
     "language": "python",
     "metadata": {},
     "outputs": [],
     "prompt_number": 47
    },
    {
     "cell_type": "code",
     "collapsed": false,
     "input": [
      "toggleTime = 2100 \n",
      "marg = 10\n",
      "\n",
      "label1 = \"Ca_SR\"\n",
      "ti = case.data[\"t\"] # time\n",
      "si = case.data[\"s\"] # state\n",
      "s_idx = case.data[\"s_idx\"] # state indices\n",
      "#print np.shape(s_idx)\n",
      "idx1 = s_idx.index(label1) # state you want to plot\n",
      "si_vals = si[:,idx1]\n",
      "plt.plot(ti,si_vals)\n",
      "daVals = getextrema(ti,si_vals,toggleTime-marg,toggleTime+marg)\n",
      "\n",
      "if draw < 0:\n",
      "    val = daVals[0]\n",
      "else:\n",
      "    val = daVals[1]\n",
      "print daVals\n",
      "#vals.append(val)\n",
      "    \n",
      "#print np.shape(s_idx)\n",
      "label2=\"Cai\"\n",
      "idx1 = s_idx.index(label2) # state you want to plot\n",
      "si_vals = si[:,idx1]\n",
      "responseTime = 2250\n",
      "marg = 200\n",
      "plt.figure()\n",
      "plt.plot(ti,si_vals)\n",
      "daVals = getextrema(ti,si_vals,responseTime-marg,responseTime+marg)\n",
      "print daVals"
     ],
     "language": "python",
     "metadata": {},
     "outputs": [
      {
       "output_type": "stream",
       "stream": "stdout",
       "text": [
        "2090.0\n",
        "[0.54115655208842972, 1.1517122304722369]\n",
        "2050.0"
       ]
      },
      {
       "output_type": "stream",
       "stream": "stdout",
       "text": [
        "\n",
        "[9.5471173725342862e-05, 0.0040657248220371299]\n"
       ]
      },
      {
       "metadata": {},
       "output_type": "display_data",
       "png": "[encoded data removed]",
       "text": [
        "<matplotlib.figure.Figure at 0x7f7e49618590>"
       ]
      },
      {
       "metadata": {},
       "output_type": "display_data",
       "png": "[encoded data removed]",
       "text": [
        "<matplotlib.figure.Figure at 0x7f7e49618650>"
       ]
      }
     ],
     "prompt_number": 56
    },
    {
     "cell_type": "markdown",
     "metadata": {},
     "source": []
    }
   ],
   "metadata": {}
  }
 ]
}