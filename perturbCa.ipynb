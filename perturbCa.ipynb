{
 "metadata": {
  "kernelspec": {
   "display_name": "Python 2",
   "language": "python",
   "name": "python2"
  },
  "language_info": {
   "codemirror_mode": {
    "name": "ipython",
    "version": 3
   },
   "file_extension": ".py",
   "mimetype": "text/x-python",
   "name": "python",
   "nbconvert_exporter": "python",
   "pygments_lexer": "ipython3",
   "version": "3.4.3"
  },
  "name": "",
  "signature": "sha256:13691279e99f10a05722f0051d0270b0f8294802bd80a5676ba72e3654f446ff"
 },
 "nbformat": 3,
 "nbformat_minor": 0,
 "worksheets": [
  {
   "cells": [
    {
     "cell_type": "heading",
     "level": 2,
     "metadata": {},
     "source": [
      "Notebook for instantaneous perturbations of Ca cleft (Ca_jct1) and Ca SR"
     ]
    },
    {
     "cell_type": "code",
     "collapsed": true,
     "input": [
      "%load_ext autoreload\n",
      "%autoreload 2"
     ],
     "language": "python",
     "metadata": {},
     "outputs": [
      {
       "output_type": "stream",
       "stream": "stdout",
       "text": [
        "The autoreload extension is already loaded. To reload it, use:\n",
        "  %reload_ext autoreload\n"
       ]
      }
     ],
     "prompt_number": 124
    },
    {
     "cell_type": "code",
     "collapsed": false,
     "input": [
      "import analyzeODE as ao"
     ],
     "language": "python",
     "metadata": {},
     "outputs": [],
     "prompt_number": 125
    },
    {
     "cell_type": "code",
     "collapsed": false,
     "input": [
      "import sys\n",
      "print (sys.version)"
     ],
     "language": "python",
     "metadata": {},
     "outputs": [
      {
       "output_type": "stream",
       "stream": "stdout",
       "text": [
        "2.7.12 (default, Nov 19 2016, 06:48:10) \n",
        "[GCC 5.4.0 20160609]\n"
       ]
      }
     ],
     "prompt_number": 126
    },
    {
     "cell_type": "code",
     "collapsed": true,
     "input": [
      "import analyzeODE as ao\n",
      "import Case\n",
      "root = \"./\"\n",
      "pacing = 1.0 # Hz\n",
      "stim_period = 1000/pacing # [ms]\n",
      "T_sec = 10\n",
      "T = T_sec * 1e3 # [ms]\n",
      "toggleTime = 2100.\n",
      "caseDict = dict()"
     ],
     "language": "python",
     "metadata": {},
     "outputs": [],
     "prompt_number": 127
    },
    {
     "cell_type": "markdown",
     "metadata": {},
     "source": [
      "#### Determine job defaults "
     ]
    },
    {
     "cell_type": "code",
     "collapsed": false,
     "input": [
      "# baseline\n",
      "tag=\"baseline\"\n",
      "toggleRate_CaSR = 0.\n",
      "toggleRate_Cajct1 = 0.\n",
      "odeName = \"shannon_2004_rat_toggle.ode\"\n",
      "\n",
      "defaultArgs = [\n",
      "\"-stim %d\" % stim_period,\n",
      "\"-T %d\" % T,\n",
      "\"-state Na_SL 12.00\",\n",
      "\"-state Na_jct1 12.00\",\n",
      "\"-state Nai 12.00\",\n",
      "\"-var G_CaBk 0.0007539\",\n",
      "\"-var G_NaBk 0.001337\",\n",
      "\"-var I_NaK_max 3.85\", \n",
      "\"-var T 310.00\", \n",
      "\"-var V_max_Jpump 0.009977826\"]\n",
      "\n",
      "variedArgs= [ \n",
      "\"-var toggleTime %f\"%toggleTime,\n",
      "\"-var toggleRate_CaSR %f\"% toggleRate_CaSR,\n",
      "\"-var toggleRate_Cajct1 %f\"% toggleRate_Cajct1]\n",
      "\n",
      "caseDict[tag] = Case.Case(\n",
      "tag=tag, # tag for filename\n",
      "odeName = odeName,\n",
      "label=tag + \" case \", # label for simulation when plotted\n",
      "name = tag+\".pickle\", # where data will be stored\n",
      "args = defaultArgs + variedArgs\n",
      ")\n"
     ],
     "language": "python",
     "metadata": {},
     "outputs": [
      {
       "output_type": "stream",
       "stream": "stdout",
       "text": [
        "Using T=10000.000000 from command line args\n"
       ]
      }
     ],
     "prompt_number": 128
    },
    {
     "cell_type": "markdown",
     "metadata": {},
     "source": [
      "#### Run baseline case for reference"
     ]
    },
    {
     "cell_type": "code",
     "collapsed": false,
     "input": [
      "for key,case in caseDict.iteritems():\n",
      "  print \"# \", key\n",
      "  print case.cmdLine"
     ],
     "language": "python",
     "metadata": {},
     "outputs": [
      {
       "output_type": "stream",
       "stream": "stdout",
       "text": [
        "#  baseline\n",
        "python daisychain.py  -stim 1000 -state Na_SL 12.00 -state Na_jct1 12.00 -state Nai 12.00 -var G_CaBk 0.0007539 -var G_NaBk 0.001337 -var I_NaK_max 3.85 -var T 310.00 -var V_max_Jpump 0.009977826 -var toggleTime 2100.000000 -var toggleRate_CaSR 0.000000 -var toggleRate_Cajct1 0.000000 -iters 1 -odeName shannon_2004_rat_toggle.ode -T 10000.000000 -name baseline.pickle  &\n"
       ]
      }
     ],
     "prompt_number": 129
    },
    {
     "cell_type": "markdown",
     "metadata": {},
     "source": [
      "#### Analyzem"
     ]
    },
    {
     "cell_type": "code",
     "collapsed": false,
     "input": [
      "ao.LoadPickles(caseDict,noOverwrite=False, readSubset=True)"
     ],
     "language": "python",
     "metadata": {},
     "outputs": [
      {
       "output_type": "stream",
       "stream": "stdout",
       "text": [
        "#  baseline\n",
        "Loading baseline_1.pickle\n",
        "Reading baseline_1.pickle\n",
        "HARDCODED TO Cai, Ca_jct, Ca_SR for now"
       ]
      },
      {
       "output_type": "stream",
       "stream": "stdout",
       "text": [
        "\n"
       ]
      }
     ],
     "prompt_number": 130
    },
    {
     "cell_type": "code",
     "collapsed": false,
     "input": [
      "#s = case.data['s']\n",
      "#print np.shape(s)"
     ],
     "language": "python",
     "metadata": {},
     "outputs": [],
     "prompt_number": 131
    },
    {
     "cell_type": "code",
     "collapsed": false,
     "input": [
      "def myplot(case,label1,xlimV=[0,-1],shareAxis=False):\n",
      "    xlimV = np.asarray(xlimV,dtype=np.int)\n",
      "    if shareAxis==False:\n",
      "        plt.figure()\n",
      "    ti = case.data[\"t\"] # time\n",
      "    si = case.data[\"s\"] # state\n",
      "    s_idx = case.data[\"s_idx\"] # state indices\n",
      "    #print np.shape(s_idx)\n",
      "    idx1 = s_idx.index(label1) # state you want to plot\n",
      "    ti_vals = ti[xlimV[0]:xlimV[1]] # interval you want to plot\n",
      "    si_vals = si[xlimV[0]:xlimV[1],idx1]\n",
      "    plt.plot(ti_vals/1e3,si_vals,label = case.label)\n",
      "    plt.ylabel(label1)\n",
      "    plt.title(case.label)\n",
      "    plt.xlabel(\"t [s]\")"
     ],
     "language": "python",
     "metadata": {},
     "outputs": [],
     "prompt_number": 132
    },
    {
     "cell_type": "code",
     "collapsed": false,
     "input": [
      "#for key,case in caseDict.iteritems():\n",
      "#    print \"# \", key\n",
      "#    stateName = \"Ca_jct1\"\n",
      "#    myplot(case,stateName)#,xlim=[55e3,60e3])\n",
      "\n",
      "plt.figure()    \n",
      "stateName = \"Ca_jct1\"\n",
      "myplot(case,stateName,xlimV=[19e3,20e3])\n"
     ],
     "language": "python",
     "metadata": {},
     "outputs": [
      {
       "metadata": {},
       "output_type": "display_data",
       "text": [
        "<matplotlib.figure.Figure at 0x7fd1fa7d69d0>"
       ]
      },
      {
       "metadata": {},
       "output_type": "display_data",
       "png": "[encoded data removed]",
       "text": [
        "<matplotlib.figure.Figure at 0x7fd1fa1b4410>"
       ]
      }
     ],
     "prompt_number": 133
    },
    {
     "cell_type": "markdown",
     "metadata": {},
     "source": [
      "#### Run for slew of jobs \n",
      "\n",
      "jct and SR"
     ]
    },
    {
     "cell_type": "code",
     "collapsed": false,
     "input": [
      "#toggleTime = 2100 \n",
      "toggleTime = T-2000+100 # two beats before end time, 100 ms delayed\n",
      "#nIntervals = np.int(T/5000.)\n",
      "nIntervals =1 # must always be one, in order for the toggle time to work correctly\n",
      "\n",
      "### jct \n",
      "toggleRate_CaSR = 0.\n",
      "toggleRate_Cajct1 = 0.\n",
      "nDraws = 10\n",
      "scale = 4.  # unstable above this \n",
      "mu, sigma = 0., 0.5 # mean and standard deviation\n",
      "dCa_jcts = scale * np.random.normal(mu, sigma, nDraws) # values need not be positive \n",
      "dCa_jcts = scale*np.linspace(1e-1,1,15)\n",
      "#dCa_jcts = [0,1]\n",
      "\n",
      "caseDictCajct=dict()\n",
      "for i, toggleRate_Cajct1 in enumerate(dCa_jcts):\n",
      "    tag = \"tag_dCa_jct_%f\"%toggleRate_Cajct1\n",
      "    \n",
      "    variedArgs= [ \n",
      "    \"-var toggleTime %f\"%toggleTime,\n",
      "    \"-var toggleRate_CaSR %f\"% toggleRate_CaSR,\n",
      "    \"-var toggleRate_Cajct1 %f\"% toggleRate_Cajct1]\n",
      "\n",
      "    \n",
      "    caseDictCajct[tag] = Case.Case(\n",
      "        tag=tag, # tag for filename\n",
      "        odeName = odeName,\n",
      "        label=tag + \" case \", # label for simulation when plotted\n",
      "        nIntervals = nIntervals,\n",
      "        name = \"/tmp/\"+tag+\".pickle\", # where data will be stored\n",
      "        args = defaultArgs + variedArgs\n",
      "    )\n",
      "\n",
      "### jct \n",
      "toggleRate_CaSR = 0.\n",
      "toggleRate_Cajct1 = 0.\n",
      "\n",
      "nDraws = 10\n",
      "mu, sigma = 0., 0.5 # mean and standard deviation\n",
      "scale = .2\n",
      "dCa_SRs = scale * np.random.normal(mu, sigma, nDraws) # values need not be positive \n",
      "dCa_SRs = scale*np.linspace(1e-1,1,15)\n",
      "#dCa_SRs = [0,1]\n",
      "\n",
      "caseDictCaSR=dict()\n",
      "for i, toggleRate_CaSR in enumerate(dCa_SRs):\n",
      "    tag = \"tag_dCa_SR_%f\"%toggleRate_CaSR\n",
      "    \n",
      "    variedArgs= [ \n",
      "    \"-var toggleTime %f\"%toggleTime,\n",
      "    \"-var toggleRate_CaSR %f\"% toggleRate_CaSR,\n",
      "    \"-var toggleRate_Cajct1 %f\"% toggleRate_Cajct1]\n",
      "\n",
      "    \n",
      "    caseDictCaSR[tag] = Case.Case(\n",
      "        tag=tag, # tag for filename\n",
      "        odeName = odeName,\n",
      "        label=tag + \" case \", # label for simulation when plotted\n",
      "        nIntervals = nIntervals,\n",
      "        name = \"/tmp/\"+tag+\".pickle\", # where data will be stored\n",
      "        args = defaultArgs + variedArgs\n",
      "    )\n",
      "    \n",
      "# Cai\n",
      "toggleRate_CaSR = 0.\n",
      "toggleRate_Cajct1 = 0.\n",
      "\n",
      "nDraws = 10\n",
      "mu, sigma = 0., 0.5 # mean and standard deviation\n",
      "scale = .0025\n",
      "dCa_is = scale * np.random.normal(mu, sigma, nDraws) # values need not be positive \n",
      "dCa_is = scale*np.linspace(1e-1,1,15)\n",
      "#dCa_SRs = [0,1]\n",
      "\n",
      "caseDictCai=dict()\n",
      "for i, toggleRate_Cai in enumerate(dCa_is):\n",
      "    tag = \"tag_dCa_i_%f\"%toggleRate_Cai\n",
      "    \n",
      "    variedArgs= [ \n",
      "    \"-var toggleTime %f\"%toggleTime,\n",
      "    \"-var toggleRate_CaSR %f\"% toggleRate_CaSR,\n",
      "    \"-var toggleRate_Cai %f\"% toggleRate_Cai,\n",
      "    \"-var toggleRate_Cajct1 %f\"% toggleRate_Cajct1]\n",
      "\n",
      "    \n",
      "    caseDictCai[tag] = Case.Case(\n",
      "        tag=tag, # tag for filename\n",
      "        odeName = odeName,\n",
      "        label=tag + \" case \", # label for simulation when plotted\n",
      "        nIntervals = nIntervals,\n",
      "        name = \"/tmp/\"+tag+\".pickle\", # where data will be stored\n",
      "        args = defaultArgs + variedArgs\n",
      "    )\n",
      "    \n",
      "\n",
      "    "
     ],
     "language": "python",
     "metadata": {},
     "outputs": [
      {
       "output_type": "stream",
       "stream": "stdout",
       "text": [
        "Using T=10000.000000 from command line args\n",
        "Using T=10000.000000 from command line args\n",
        "Using T=10000.000000 from command line args\n",
        "Using T=10000.000000 from command line args\n",
        "Using T=10000.000000 from command line args\n",
        "Using T=10000.000000 from command line args\n",
        "Using T=10000.000000 from command line args\n",
        "Using T=10000.000000 from command line args\n",
        "Using T=10000.000000 from command line args\n",
        "Using T=10000.000000 from command line args\n",
        "Using T=10000.000000 from command line args\n",
        "Using T=10000.000000 from command line args\n",
        "Using T=10000.000000 from command line args\n",
        "Using T=10000.000000 from command line args\n",
        "Using T=10000.000000 from command line args\n",
        "Using T=10000.000000 from command line args\n",
        "Using T=10000.000000 from command line args\n",
        "Using T=10000.000000 from command line args\n",
        "Using T=10000.000000 from command line args\n",
        "Using T=10000.000000 from command line args\n",
        "Using T=10000.000000 from command line args\n",
        "Using T=10000.000000 from command line args\n",
        "Using T=10000.000000 from command line args\n",
        "Using T=10000.000000 from command line args\n",
        "Using T=10000.000000 from command line args\n",
        "Using T=10000.000000 from command line args\n",
        "Using T=10000.000000 from command line args\n",
        "Using T=10000.000000 from command line args\n",
        "Using T=10000.000000 from command line args\n",
        "Using T=10000.000000 from command line args\n",
        "Using T=10000.000000 from command line args\n",
        "Using T=10000.000000 from command line args\n",
        "Using T=10000.000000 from command line args\n",
        "Using T=10000.000000 from command line args\n",
        "Using T=10000.000000 from command line args\n",
        "Using T=10000.000000 from command line args\n",
        "Using T=10000.000000 from command line args\n",
        "Using T=10000.000000 from command line args\n",
        "Using T=10000.000000 from command line args\n",
        "Using T=10000.000000 from command line args\n",
        "Using T=10000.000000 from command line args\n",
        "Using T=10000.000000 from command line args\n",
        "Using T=10000.000000 from command line args\n",
        "Using T=10000.000000 from command line args\n",
        "Using T=10000.000000 from command line args\n"
       ]
      }
     ],
     "prompt_number": 197
    },
    {
     "cell_type": "code",
     "collapsed": false,
     "input": [
      "\n",
      "f = open('runnerZ.bash','w')\n",
      "for key,case in caseDictCajct.iteritems():\n",
      "  f.write(\"# %s\\n\"% key)\n",
      "  f.write(case.cmdLine+\"\\n\")\n",
      "\n",
      "for key,case in caseDictCaSR.iteritems():\n",
      "  f.write(\"# %s\\n\"% key)\n",
      "  f.write(case.cmdLine+\"\\n\")\n",
      "\n",
      "for key,case in caseDictCai.iteritems():\n",
      "  f.write(\"# %s\\n\"% key)\n",
      "  f.write(case.cmdLine+\"\\n\")\n",
      "f.close()"
     ],
     "language": "python",
     "metadata": {},
     "outputs": [],
     "prompt_number": 201
    },
    {
     "cell_type": "code",
     "collapsed": false,
     "input": [
      "\n",
      "ao.LoadPickles(caseDictCajct,noOverwrite=False,verbose=False,readSubset=True, readConcat=True)\n",
      "ao.LoadPickles(caseDictCaSR,noOverwrite=False,verbose=False,readSubset=True, readConcat=True)\n",
      "ao.LoadPickles(caseDictCai,noOverwrite=False,verbose=False,readSubset=True, readConcat=True)"
     ],
     "language": "python",
     "metadata": {},
     "outputs": [
      {
       "output_type": "stream",
       "stream": "stdout",
       "text": [
        "/tmp/tag_dCa_jct_2.200000_1.pickle\n",
        "Reading concatenated file /tmp/tag_dCa_jct_2.200000_cat.pickle instead\n",
        "HARDCODED TO Cai, Ca_jct, Ca_SR for now"
       ]
      },
      {
       "output_type": "stream",
       "stream": "stdout",
       "text": [
        "\n",
        "/tmp/tag_dCa_jct_1.428571_1.pickle\n",
        "Reading concatenated file /tmp/tag_dCa_jct_1.428571_cat.pickle instead\n",
        "HARDCODED TO Cai, Ca_jct, Ca_SR for now"
       ]
      },
      {
       "output_type": "stream",
       "stream": "stdout",
       "text": [
        "\n",
        "/tmp/tag_dCa_jct_0.914286_1.pickle\n",
        "Reading concatenated file /tmp/tag_dCa_jct_0.914286_cat.pickle instead\n",
        "HARDCODED TO Cai, Ca_jct, Ca_SR for now"
       ]
      },
      {
       "output_type": "stream",
       "stream": "stdout",
       "text": [
        "\n",
        "/tmp/tag_dCa_jct_4.000000_1.pickle\n",
        "Reading concatenated file /tmp/tag_dCa_jct_4.000000_cat.pickle instead\n",
        "HARDCODED TO Cai, Ca_jct, Ca_SR for now"
       ]
      },
      {
       "output_type": "stream",
       "stream": "stdout",
       "text": [
        "\n",
        "/tmp/tag_dCa_jct_3.742857_1.pickle\n",
        "Reading concatenated file /tmp/tag_dCa_jct_3.742857_cat.pickle instead\n",
        "HARDCODED TO Cai, Ca_jct, Ca_SR for now"
       ]
      },
      {
       "output_type": "stream",
       "stream": "stdout",
       "text": [
        "\n",
        "/tmp/tag_dCa_jct_3.228571_1.pickle\n",
        "Reading concatenated file /tmp/tag_dCa_jct_3.228571_cat.pickle instead\n",
        "HARDCODED TO Cai, Ca_jct, Ca_SR for now"
       ]
      },
      {
       "output_type": "stream",
       "stream": "stdout",
       "text": [
        "\n",
        "/tmp/tag_dCa_jct_1.171429_1.pickle\n",
        "Reading concatenated file /tmp/tag_dCa_jct_1.171429_cat.pickle instead\n",
        "HARDCODED TO Cai, Ca_jct, Ca_SR for now"
       ]
      },
      {
       "output_type": "stream",
       "stream": "stdout",
       "text": [
        "\n",
        "/tmp/tag_dCa_jct_0.400000_1.pickle\n",
        "Reading concatenated file /tmp/tag_dCa_jct_0.400000_cat.pickle instead\n",
        "HARDCODED TO Cai, Ca_jct, Ca_SR for now"
       ]
      },
      {
       "output_type": "stream",
       "stream": "stdout",
       "text": [
        "\n",
        "/tmp/tag_dCa_jct_1.685714_1.pickle\n",
        "Reading concatenated file /tmp/tag_dCa_jct_1.685714_cat.pickle instead\n",
        "HARDCODED TO Cai, Ca_jct, Ca_SR for now"
       ]
      },
      {
       "output_type": "stream",
       "stream": "stdout",
       "text": [
        "\n",
        "/tmp/tag_dCa_jct_0.657143_1.pickle\n",
        "Reading concatenated file /tmp/tag_dCa_jct_0.657143_cat.pickle instead\n",
        "HARDCODED TO Cai, Ca_jct, Ca_SR for now"
       ]
      },
      {
       "output_type": "stream",
       "stream": "stdout",
       "text": [
        "\n",
        "/tmp/tag_dCa_jct_2.457143_1.pickle\n",
        "Reading concatenated file /tmp/tag_dCa_jct_2.457143_cat.pickle instead\n",
        "HARDCODED TO Cai, Ca_jct, Ca_SR for now"
       ]
      },
      {
       "output_type": "stream",
       "stream": "stdout",
       "text": [
        "\n",
        "/tmp/tag_dCa_jct_2.971429_1.pickle\n",
        "Reading concatenated file /tmp/tag_dCa_jct_2.971429_cat.pickle instead\n",
        "HARDCODED TO Cai, Ca_jct, Ca_SR for now"
       ]
      },
      {
       "output_type": "stream",
       "stream": "stdout",
       "text": [
        "\n",
        "/tmp/tag_dCa_jct_2.714286_1.pickle\n",
        "Reading concatenated file /tmp/tag_dCa_jct_2.714286_cat.pickle instead\n",
        "HARDCODED TO Cai, Ca_jct, Ca_SR for now"
       ]
      },
      {
       "output_type": "stream",
       "stream": "stdout",
       "text": [
        "\n",
        "/tmp/tag_dCa_jct_1.942857_1.pickle\n",
        "Reading concatenated file /tmp/tag_dCa_jct_1.942857_cat.pickle instead\n",
        "HARDCODED TO Cai, Ca_jct, Ca_SR for now"
       ]
      },
      {
       "output_type": "stream",
       "stream": "stdout",
       "text": [
        "\n",
        "/tmp/tag_dCa_jct_3.485714_1.pickle\n",
        "Reading concatenated file /tmp/tag_dCa_jct_3.485714_cat.pickle instead\n",
        "HARDCODED TO Cai, Ca_jct, Ca_SR for now"
       ]
      },
      {
       "output_type": "stream",
       "stream": "stdout",
       "text": [
        "\n",
        "/tmp/tag_dCa_SR_0.071429_1.pickle\n",
        "Reading concatenated file /tmp/tag_dCa_SR_0.071429_cat.pickle instead\n",
        "HARDCODED TO Cai, Ca_jct, Ca_SR for now"
       ]
      },
      {
       "output_type": "stream",
       "stream": "stdout",
       "text": [
        "\n",
        "/tmp/tag_dCa_SR_0.110000_1.pickle\n",
        "Reading concatenated file /tmp/tag_dCa_SR_0.110000_cat.pickle instead\n",
        "HARDCODED TO Cai, Ca_jct, Ca_SR for now"
       ]
      },
      {
       "output_type": "stream",
       "stream": "stdout",
       "text": [
        "\n",
        "/tmp/tag_dCa_SR_0.174286_1.pickle\n",
        "Reading concatenated file /tmp/tag_dCa_SR_0.174286_cat.pickle instead\n",
        "HARDCODED TO Cai, Ca_jct, Ca_SR for now"
       ]
      },
      {
       "output_type": "stream",
       "stream": "stdout",
       "text": [
        "\n",
        "/tmp/tag_dCa_SR_0.135714_1.pickle\n",
        "Reading concatenated file /tmp/tag_dCa_SR_0.135714_cat.pickle instead\n",
        "HARDCODED TO Cai, Ca_jct, Ca_SR for now"
       ]
      },
      {
       "output_type": "stream",
       "stream": "stdout",
       "text": [
        "\n",
        "/tmp/tag_dCa_SR_0.020000_1.pickle\n",
        "Reading concatenated file /tmp/tag_dCa_SR_0.020000_cat.pickle instead\n",
        "HARDCODED TO Cai, Ca_jct, Ca_SR for now"
       ]
      },
      {
       "output_type": "stream",
       "stream": "stdout",
       "text": [
        "\n",
        "/tmp/tag_dCa_SR_0.097143_1.pickle\n",
        "Reading concatenated file /tmp/tag_dCa_SR_0.097143_cat.pickle instead\n",
        "HARDCODED TO Cai, Ca_jct, Ca_SR for now"
       ]
      },
      {
       "output_type": "stream",
       "stream": "stdout",
       "text": [
        "\n",
        "/tmp/tag_dCa_SR_0.200000_1.pickle\n",
        "Reading concatenated file /tmp/tag_dCa_SR_0.200000_cat.pickle instead\n",
        "HARDCODED TO Cai, Ca_jct, Ca_SR for now"
       ]
      },
      {
       "output_type": "stream",
       "stream": "stdout",
       "text": [
        "\n",
        "/tmp/tag_dCa_SR_0.187143_1.pickle\n",
        "Reading concatenated file /tmp/tag_dCa_SR_0.187143_cat.pickle instead\n",
        "HARDCODED TO Cai, Ca_jct, Ca_SR for now"
       ]
      },
      {
       "output_type": "stream",
       "stream": "stdout",
       "text": [
        "\n",
        "/tmp/tag_dCa_SR_0.045714_1.pickle\n",
        "Reading concatenated file /tmp/tag_dCa_SR_0.045714_cat.pickle instead\n",
        "HARDCODED TO Cai, Ca_jct, Ca_SR for now"
       ]
      },
      {
       "output_type": "stream",
       "stream": "stdout",
       "text": [
        "\n",
        "/tmp/tag_dCa_SR_0.148571_1.pickle\n",
        "Reading concatenated file /tmp/tag_dCa_SR_0.148571_cat.pickle instead\n",
        "HARDCODED TO Cai, Ca_jct, Ca_SR for now"
       ]
      },
      {
       "output_type": "stream",
       "stream": "stdout",
       "text": [
        "\n",
        "/tmp/tag_dCa_SR_0.084286_1.pickle\n",
        "Reading concatenated file /tmp/tag_dCa_SR_0.084286_cat.pickle instead\n",
        "HARDCODED TO Cai, Ca_jct, Ca_SR for now"
       ]
      },
      {
       "output_type": "stream",
       "stream": "stdout",
       "text": [
        "\n",
        "/tmp/tag_dCa_SR_0.122857_1.pickle\n",
        "Reading concatenated file /tmp/tag_dCa_SR_0.122857_cat.pickle instead\n",
        "HARDCODED TO Cai, Ca_jct, Ca_SR for now"
       ]
      },
      {
       "output_type": "stream",
       "stream": "stdout",
       "text": [
        "\n",
        "/tmp/tag_dCa_SR_0.032857_1.pickle\n",
        "Reading concatenated file /tmp/tag_dCa_SR_0.032857_cat.pickle instead\n",
        "HARDCODED TO Cai, Ca_jct, Ca_SR for now"
       ]
      },
      {
       "output_type": "stream",
       "stream": "stdout",
       "text": [
        "\n",
        "/tmp/tag_dCa_SR_0.058571_1.pickle\n",
        "Reading concatenated file /tmp/tag_dCa_SR_0.058571_cat.pickle instead\n",
        "HARDCODED TO Cai, Ca_jct, Ca_SR for now"
       ]
      },
      {
       "output_type": "stream",
       "stream": "stdout",
       "text": [
        "\n",
        "/tmp/tag_dCa_SR_0.161429_1.pickle\n",
        "Reading concatenated file /tmp/tag_dCa_SR_0.161429_cat.pickle instead\n",
        "HARDCODED TO Cai, Ca_jct, Ca_SR for now"
       ]
      },
      {
       "output_type": "stream",
       "stream": "stdout",
       "text": [
        "\n",
        "/tmp/tag_dCa_i_0.000893_1.pickle\n",
        "Reading concatenated file /tmp/tag_dCa_i_0.000893_cat.pickle instead\n",
        "HARDCODED TO Cai, Ca_jct, Ca_SR for now"
       ]
      },
      {
       "output_type": "stream",
       "stream": "stdout",
       "text": [
        "\n",
        "/tmp/tag_dCa_i_0.000571_1.pickle\n",
        "Reading concatenated file /tmp/tag_dCa_i_0.000571_cat.pickle instead\n",
        "HARDCODED TO Cai, Ca_jct, Ca_SR for now"
       ]
      },
      {
       "output_type": "stream",
       "stream": "stdout",
       "text": [
        "\n",
        "/tmp/tag_dCa_i_0.001375_1.pickle\n",
        "Reading concatenated file /tmp/tag_dCa_i_0.001375_cat.pickle instead\n",
        "HARDCODED TO Cai, Ca_jct, Ca_SR for now"
       ]
      },
      {
       "output_type": "stream",
       "stream": "stdout",
       "text": [
        "\n",
        "/tmp/tag_dCa_i_0.002018_1.pickle\n",
        "Reading concatenated file /tmp/tag_dCa_i_0.002018_cat.pickle instead\n",
        "HARDCODED TO Cai, Ca_jct, Ca_SR for now"
       ]
      },
      {
       "output_type": "stream",
       "stream": "stdout",
       "text": [
        "\n",
        "/tmp/tag_dCa_i_0.001536_1.pickle\n",
        "Reading concatenated file /tmp/tag_dCa_i_0.001536_cat.pickle instead\n",
        "HARDCODED TO Cai, Ca_jct, Ca_SR for now"
       ]
      },
      {
       "output_type": "stream",
       "stream": "stdout",
       "text": [
        "\n",
        "/tmp/tag_dCa_i_0.002500_1.pickle\n",
        "Reading concatenated file /tmp/tag_dCa_i_0.002500_cat.pickle instead\n",
        "HARDCODED TO Cai, Ca_jct, Ca_SR for now"
       ]
      },
      {
       "output_type": "stream",
       "stream": "stdout",
       "text": [
        "\n",
        "/tmp/tag_dCa_i_0.000411_1.pickle\n",
        "Reading concatenated file /tmp/tag_dCa_i_0.000411_cat.pickle instead\n",
        "HARDCODED TO Cai, Ca_jct, Ca_SR for now"
       ]
      },
      {
       "output_type": "stream",
       "stream": "stdout",
       "text": [
        "\n",
        "/tmp/tag_dCa_i_0.002179_1.pickle\n",
        "Reading concatenated file /tmp/tag_dCa_i_0.002179_cat.pickle instead\n",
        "HARDCODED TO Cai, Ca_jct, Ca_SR for now"
       ]
      },
      {
       "output_type": "stream",
       "stream": "stdout",
       "text": [
        "\n",
        "/tmp/tag_dCa_i_0.001696_1.pickle\n",
        "Reading concatenated file /tmp/tag_dCa_i_0.001696_cat.pickle instead\n",
        "HARDCODED TO Cai, Ca_jct, Ca_SR for now"
       ]
      },
      {
       "output_type": "stream",
       "stream": "stdout",
       "text": [
        "\n",
        "/tmp/tag_dCa_i_0.000250_1.pickle\n",
        "Reading concatenated file /tmp/tag_dCa_i_0.000250_cat.pickle instead\n",
        "HARDCODED TO Cai, Ca_jct, Ca_SR for now"
       ]
      },
      {
       "output_type": "stream",
       "stream": "stdout",
       "text": [
        "\n",
        "/tmp/tag_dCa_i_0.001054_1.pickle\n",
        "Reading concatenated file /tmp/tag_dCa_i_0.001054_cat.pickle instead\n",
        "HARDCODED TO Cai, Ca_jct, Ca_SR for now"
       ]
      },
      {
       "output_type": "stream",
       "stream": "stdout",
       "text": [
        "\n",
        "/tmp/tag_dCa_i_0.000732_1.pickle\n",
        "Reading concatenated file /tmp/tag_dCa_i_0.000732_cat.pickle instead\n",
        "HARDCODED TO Cai, Ca_jct, Ca_SR for now"
       ]
      },
      {
       "output_type": "stream",
       "stream": "stdout",
       "text": [
        "\n",
        "/tmp/tag_dCa_i_0.002339_1.pickle\n",
        "Reading concatenated file /tmp/tag_dCa_i_0.002339_cat.pickle instead\n",
        "HARDCODED TO Cai, Ca_jct, Ca_SR for now"
       ]
      },
      {
       "output_type": "stream",
       "stream": "stdout",
       "text": [
        "\n",
        "/tmp/tag_dCa_i_0.001214_1.pickle\n",
        "Reading concatenated file /tmp/tag_dCa_i_0.001214_cat.pickle instead\n",
        "HARDCODED TO Cai, Ca_jct, Ca_SR for now"
       ]
      },
      {
       "output_type": "stream",
       "stream": "stdout",
       "text": [
        "\n",
        "/tmp/tag_dCa_i_0.001857_1.pickle\n",
        "Reading concatenated file /tmp/tag_dCa_i_0.001857_cat.pickle instead\n",
        "HARDCODED TO Cai, Ca_jct, Ca_SR for now"
       ]
      },
      {
       "output_type": "stream",
       "stream": "stdout",
       "text": [
        "\n"
       ]
      }
     ],
     "prompt_number": 202
    },
    {
     "cell_type": "markdown",
     "metadata": {},
     "source": [
      "#### View results "
     ]
    },
    {
     "cell_type": "code",
     "collapsed": false,
     "input": [
      "\n",
      "\n",
      "for key,case in caseDictCajct.iteritems():\n",
      "    print \"# \", key\n",
      "    stateName = \"Ca_jct1\"\n",
      "    myplot(case,stateName,shareAxis=True,xlimV=[1e3,10e3])\n",
      "\n",
      "#plt.xlim([2,2.3])"
     ],
     "language": "python",
     "metadata": {},
     "outputs": [
      {
       "output_type": "stream",
       "stream": "stdout",
       "text": [
        "#  tag_dCa_jct_2.200000\n",
        "# "
       ]
      },
      {
       "output_type": "stream",
       "stream": "stdout",
       "text": [
        " tag_dCa_jct_1.428571\n",
        "#  tag_dCa_jct_0.914286\n",
        "#  tag_dCa_jct_4.000000\n",
        "#  tag_dCa_jct_3.742857\n",
        "#  tag_dCa_jct_3.228571\n",
        "#  tag_dCa_jct_1.171429\n",
        "#  tag_dCa_jct_0.400000\n",
        "#  tag_dCa_jct_1.685714\n",
        "#  tag_dCa_jct_0.657143\n",
        "#  tag_dCa_jct_2.457143\n",
        "#  tag_dCa_jct_2.971429\n",
        "#  tag_dCa_jct_2.714286\n",
        "#  tag_dCa_jct_1.942857\n",
        "#  tag_dCa_jct_3.485714\n"
       ]
      },
      {
       "metadata": {},
       "output_type": "display_data",
       "png": "[encoded data removed]",
       "text": [
        "<matplotlib.figure.Figure at 0x7fd1fa2fb5d0>"
       ]
      }
     ],
     "prompt_number": 203
    },
    {
     "cell_type": "code",
     "collapsed": false,
     "input": [
      "for key,case in caseDictCaSR.iteritems():\n",
      "    print \"# \", key\n",
      "    stateName = \"Ca_SR\"\n",
      "    myplot(case,stateName,shareAxis=True)#,xlim=[55e3,60e3])\n",
      "    s =  case.data[\"s\"]\n",
      "    print np.shape(s)\n",
      "#plt.xlim([2,2.3])"
     ],
     "language": "python",
     "metadata": {},
     "outputs": [
      {
       "output_type": "stream",
       "stream": "stdout",
       "text": [
        "#  tag_dCa_SR_0.071429\n",
        "(10001, 3)"
       ]
      },
      {
       "output_type": "stream",
       "stream": "stdout",
       "text": [
        "\n",
        "#  tag_dCa_SR_0.110000\n",
        "(10001, 3)\n",
        "#  tag_dCa_SR_0.174286\n",
        "(10001, 3)\n",
        "#  tag_dCa_SR_0.135714\n",
        "(10001, 3)\n",
        "#  tag_dCa_SR_0.020000\n",
        "(10001, 3)\n",
        "#  tag_dCa_SR_0.097143\n",
        "(10001, 3)\n",
        "#  tag_dCa_SR_0.200000\n",
        "(10001, 3)\n",
        "#  tag_dCa_SR_0.187143\n",
        "(10001, 3)\n",
        "#  tag_dCa_SR_0.045714\n",
        "(10001, 3)\n",
        "#  tag_dCa_SR_0.148571\n",
        "(10001, 3)\n",
        "#  tag_dCa_SR_0.084286\n",
        "(10001, 3)\n",
        "#  tag_dCa_SR_0.122857\n",
        "(10001, 3)\n",
        "#  tag_dCa_SR_0.032857\n",
        "(10001, 3)\n",
        "#  tag_dCa_SR_0.058571\n",
        "(10001, 3)\n",
        "#  tag_dCa_SR_0.161429\n",
        "(10001, 3)\n"
       ]
      },
      {
       "metadata": {},
       "output_type": "display_data",
       "png": "[encoded data removed]",
       "text": [
        "<matplotlib.figure.Figure at 0x7fd1fa2fb4d0>"
       ]
      }
     ],
     "prompt_number": 204
    },
    {
     "cell_type": "code",
     "collapsed": false,
     "input": [
      "for key,case in caseDictCai.iteritems():\n",
      "    print \"# \", key\n",
      "    stateName = \"Cai\"\n",
      "    myplot(case,stateName,shareAxis=True)#,xlim=[55e3,60e3])\n",
      "    s =  case.data[\"s\"]\n",
      "    print np.shape(s)\n",
      "#plt.xlim([2,2.3])"
     ],
     "language": "python",
     "metadata": {},
     "outputs": [
      {
       "output_type": "stream",
       "stream": "stdout",
       "text": [
        "#  tag_dCa_i_0.000893\n",
        "(10001, 3)"
       ]
      },
      {
       "output_type": "stream",
       "stream": "stdout",
       "text": [
        "\n",
        "#  tag_dCa_i_0.000571\n",
        "(10001, 3)\n",
        "#  tag_dCa_i_0.001375\n",
        "(10001, 3)\n",
        "#  tag_dCa_i_0.002018\n",
        "(10001, 3)\n",
        "#  tag_dCa_i_0.001536\n",
        "(10001, 3)\n",
        "#  tag_dCa_i_0.002500\n",
        "(10001, 3)\n",
        "#  tag_dCa_i_0.000411\n",
        "(10001, 3)\n",
        "#  tag_dCa_i_0.002179\n",
        "(10001, 3)\n",
        "#  tag_dCa_i_0.001696\n",
        "(10001, 3)\n",
        "#  tag_dCa_i_0.000250\n",
        "(10001, 3)\n",
        "#  tag_dCa_i_0.001054\n",
        "(10001, 3)\n",
        "#  tag_dCa_i_0.000732\n",
        "(10001, 3)\n",
        "#  tag_dCa_i_0.002339\n",
        "(10001, 3)\n",
        "#  tag_dCa_i_0.001214\n",
        "(10001, 3)\n",
        "#  tag_dCa_i_0.001857\n",
        "(10001, 3)\n"
       ]
      },
      {
       "metadata": {},
       "output_type": "display_data",
       "png": "[encoded data removed]",
       "text": [
        "<matplotlib.figure.Figure at 0x7fd1f88b3890>"
       ]
      }
     ],
     "prompt_number": 205
    },
    {
     "cell_type": "markdown",
     "metadata": {},
     "source": [
      "#### Grab statistics "
     ]
    },
    {
     "cell_type": "code",
     "collapsed": false,
     "input": [
      "def getextrema(ts,data, tStart,tEnd):\n",
      "    devs = (ts - tStart)**2\n",
      "    idxStart = np.argmin(devs)\n",
      "    #print ts[ idxStart ]\n",
      "    \n",
      "    devs = (ts - tEnd)**2\n",
      "    idxEnd = np.argmin(devs)\n",
      "    #print ts[ idxEnd ]\n",
      "    \n",
      "    dataCut = data[idxStart:idxEnd]\n",
      "    daMin = np.min(dataCut)\n",
      "    daMax = np.max(dataCut)\n",
      "    return [daMin,daMax]"
     ],
     "language": "python",
     "metadata": {},
     "outputs": [],
     "prompt_number": 206
    },
    {
     "cell_type": "code",
     "collapsed": false,
     "input": [
      "#case = caseDictCaSR['tag_dCa_jct_-1.000000']\n",
      "toggleParam = \"Ca_SR\"\n",
      "\n",
      "def GetPerturbResponse(\n",
      "    case,\n",
      "    toggleParam=\"Ca_SR\",\n",
      "    toggleTime = 2100,\n",
      "    marg = 10,\n",
      "    responseOffset = 50\n",
      "    ):\n",
      "    responseTime = toggleTime+responseOffset\n",
      "\n",
      "    ### Get Param val\n",
      "    valParam = None \n",
      "    for arg in case.args:\n",
      "        #print arg\n",
      "        if toggleParam==\"Ca_SR\" and \"CaSR\" in arg:\n",
      "            valParam = np.float(arg.split()[2])\n",
      "        elif toggleParam==\"Ca_jct1\" and \"Cajct1\" in arg:\n",
      "            valParam = np.float(arg.split()[2]  )   \n",
      "        elif toggleParam==\"Cai\" and \"Cai\" in arg:\n",
      "            valParam = np.float(arg.split()[2]  )   \n",
      "            \n",
      "    print \"Param \", valParam, case.tag\n",
      "\n",
      "    ## Get value of 'perturbation'\n",
      "    ti = case.data[\"t\"] # time\n",
      "    si = case.data[\"s\"] # state\n",
      "    s_idx = case.data[\"s_idx\"] # state indices\n",
      "    #print np.shape(s_idx)\n",
      "    idx1 = s_idx.index(toggleParam) # state you want to plot\n",
      "    si_vals = si[:,idx1]\n",
      "    plt.subplot(1,2,1)\n",
      "    plt.plot(ti,si_vals)\n",
      "    #plt.xlim([toggleTime-200,toggleTime+200])\n",
      "    daVals = getextrema(ti,si_vals,toggleTime-marg,toggleTime+marg)\n",
      "\n",
      "    if valParam < 0:\n",
      "        valPerturb = daVals[0]\n",
      "    else:\n",
      "        valPerturb = daVals[1]\n",
      "    print daVals, valPerturb\n",
      "    \n",
      " \n",
      "    ## Get response \n",
      "    #print np.shape(s_idx)\n",
      "    label2=\"Cai\"\n",
      "    idx1 = s_idx.index(label2) # state you want to plot\n",
      "    si_vals = si[:,idx1]\n",
      "\n",
      "    marg = 100\n",
      "    plt.subplot(1,2,2)\n",
      "    plt.plot(ti,si_vals)\n",
      "    daVals = getextrema(ti,si_vals,responseTime-marg,responseTime+marg)\n",
      "    valResponse=daVals[1]\n",
      "    plt.tight_layout()\n",
      "    \n",
      "    return valParam,valPerturb,valResponse"
     ],
     "language": "python",
     "metadata": {},
     "outputs": [],
     "prompt_number": 207
    },
    {
     "cell_type": "markdown",
     "metadata": {},
     "source": [
      "#### Jct perturbations "
     ]
    },
    {
     "cell_type": "code",
     "collapsed": false,
     "input": [
      "#plt.figure()\n",
      "class empty:pass\n",
      "\n",
      "\n",
      "\n",
      "toggleParam = \"Ca_jct1\"\n",
      "caseDict = caseDictCajct\n",
      "\n",
      "def AnalyzePerturbs(\n",
      "    caseDict, \n",
      "    toggleTime=toggleTime,\n",
      "    responseOffset=50,\n",
      "    toggleParam=\"Ca_jct1\"):\n",
      "    caseOuts = empty()\n",
      "    valPerturbs = []\n",
      "    valResponses= []\n",
      "    for key,case in caseDict.iteritems():\n",
      "        valParam,valPerturb, valResponse = GetPerturbResponse(\n",
      "            case,\n",
      "            toggleTime=toggleTime,\n",
      "            responseOffset=responseOffset,\n",
      "            toggleParam=toggleParam)\n",
      "        print valParam,valPerturb, valResponse\n",
      "        valPerturbs.append(valPerturb)\n",
      "        valResponses.append(valResponse)\n",
      "\n",
      "    #print returned\n",
      "\n",
      "    plt.figure()\n",
      "    caseOuts.valPerturbs = np.asarray(valPerturbs)\n",
      "\n",
      "    caseOuts.valResponses = np.asarray(valResponses)\n",
      "    plt.scatter(caseOuts.valPerturbs,caseOuts.valResponses)\n",
      "    plt.ylim([np.min(caseOuts.valResponses),np.max(caseOuts.valResponses)])\n",
      "    \n",
      "    return caseOuts"
     ],
     "language": "python",
     "metadata": {},
     "outputs": [],
     "prompt_number": 208
    },
    {
     "cell_type": "code",
     "collapsed": false,
     "input": [
      "jctOuts = AnalyzePerturbs(\n",
      "    caseDictCajct,\n",
      "    toggleTime=toggleTime,\n",
      "    toggleParam = \"Ca_jct1\") \n",
      "\n"
     ],
     "language": "python",
     "metadata": {},
     "outputs": [
      {
       "output_type": "stream",
       "stream": "stdout",
       "text": [
        "Param  2.2 tag_dCa_jct_2.200000\n",
        "[0.00038740473883348104, 0.1856483514445216]"
       ]
      },
      {
       "output_type": "stream",
       "stream": "stdout",
       "text": [
        " 0.185648351445\n",
        "2.2"
       ]
      },
      {
       "output_type": "stream",
       "stream": "stdout",
       "text": [
        " 0.185648351445 0.000535654586787\n",
        "Param  1.428571 tag_dCa_jct_1.428571\n",
        "[0.00038740473883348104, 0.1385208016757398] 0.138520801676\n",
        "1.428571 0.138520801676 0.000471875055411\n",
        "Param  0.914286 tag_dCa_jct_0.914286\n",
        "[0.00038740473883348104, 0.1739491039358973] 0.173949103936\n",
        "0.914286 0.173949103936 0.000526462897842\n",
        "Param  4.0 tag_dCa_jct_4.000000\n",
        "[0.00038740473883348104, 0.30321205583969546] 0.30321205584\n",
        "4.0"
       ]
      },
      {
       "output_type": "stream",
       "stream": "stdout",
       "text": [
        " 0.30321205584 0.000629421144765\n",
        "Param  3.742857 tag_dCa_jct_3.742857\n",
        "[0.00038740473883348104, 0.28330738399785693] 0.283307383998\n",
        "3.742857 0.283307383998 0.000619401661349\n",
        "Param  3.228571 tag_dCa_jct_3.228571\n",
        "[0.00038740473883348104, 0.23610964820917008] 0.236109648209\n",
        "3.228571 0.236109648209 0.000597075759894\n",
        "Param  1.171429 tag_dCa_jct_1.171429\n",
        "[0.00038740473883348104, 0.14694817106468547] 0.146948171065\n",
        "1.171429"
       ]
      },
      {
       "output_type": "stream",
       "stream": "stdout",
       "text": [
        " 0.146948171065 0.000492142289355\n",
        "Param  0.4 tag_dCa_jct_0.400000\n",
        "[0.00038740473883348104, 0.18808879036252288] 0.188088790363\n",
        "0.4 0.188088790363 0.000559345727318\n",
        "Param  1.685714 tag_dCa_jct_1.685714\n",
        "[0.00038740473883348104, 0.15019668923845608] 0.150196689238\n",
        "1.685714 0.150196689238 0.000489995426974\n",
        "Param  0.657143 tag_dCa_jct_0.657143\n",
        "[0.00038740473883348104, 0.18348715952997713] 0.18348715953\n",
        "0.657143 0.18348715953 0.000547994703452\n",
        "Param "
       ]
      },
      {
       "output_type": "stream",
       "stream": "stdout",
       "text": [
        " 2.457143 tag_dCa_jct_2.457143\n",
        "[0.00038740473883348104, 0.20530335431177835] 0.205303354312\n",
        "2.457143 0.205303354312 0.000554175387703\n",
        "Param  2.971429 tag_dCa_jct_2.971429\n",
        "[0.00038740473883348104, 0.23340587660581644] 0.233405876606\n",
        "2.971429 0.233405876606 0.000584329438206\n",
        "Param  2.714286 tag_dCa_jct_2.714286\n",
        "[0.00038740473883348104, 0.22518989999243413] 0.225189899992\n",
        "2.714286 0.225189899992 0.000570189062733\n",
        "Param  1.942857 tag_dCa_jct_1.942857\n",
        "[0.00038740473883348104, 0.17216823709293078]"
       ]
      },
      {
       "output_type": "stream",
       "stream": "stdout",
       "text": [
        " 0.172168237093\n",
        "1.942857 0.172168237093 0.00051424527164\n",
        "Param  3.485714 tag_dCa_jct_3.485714\n",
        "[0.00038740473883348104, 0.25942225822646348] 0.259422258226\n",
        "3.485714 0.259422258226 0.000608682229142\n"
       ]
      },
      {
       "metadata": {},
       "output_type": "display_data",
       "png": "[encoded data removed]",
       "text": [
        "<matplotlib.figure.Figure at 0x7fd1fa969310>"
       ]
      },
      {
       "metadata": {},
       "output_type": "display_data",
       "png": "[encoded data removed]",
       "text": [
        "<matplotlib.figure.Figure at 0x7fd1fa535750>"
       ]
      }
     ],
     "prompt_number": 209
    },
    {
     "cell_type": "code",
     "collapsed": false,
     "input": [
      "\n",
      "srOuts = AnalyzePerturbs(\n",
      "    caseDictCaSR,\n",
      "    toggleTime=toggleTime,\n",
      "    toggleParam = \"Ca_SR\") "
     ],
     "language": "python",
     "metadata": {},
     "outputs": [
      {
       "output_type": "stream",
       "stream": "stdout",
       "text": [
        "Param  0.071429 tag_dCa_SR_0.071429\n",
        "[0.50487441105211917, 0.64655276395786054]"
       ]
      },
      {
       "output_type": "stream",
       "stream": "stdout",
       "text": [
        " 0.646552763958\n",
        "0.071429"
       ]
      },
      {
       "output_type": "stream",
       "stream": "stdout",
       "text": [
        " 0.646552763958 0.00067378718281\n",
        "Param  0.11 tag_dCa_SR_0.110000\n",
        "[0.50203840638275898, 0.66598647433240887] 0.665986474332\n",
        "0.11 0.665986474332 0.000737609330111\n",
        "Param  0.174286 tag_dCa_SR_0.174286\n",
        "[0.49774030108976181, 0.69900561135967998] 0.69900561136\n",
        "0.174286 0.69900561136 0.000854628683952\n",
        "Param  0.135714 tag_dCa_SR_0.135714\n",
        "[0.50019650286567929, 0.67909960499455635] 0.679099604995\n",
        "0.135714"
       ]
      },
      {
       "output_type": "stream",
       "stream": "stdout",
       "text": [
        " 0.679099604995 0.000782634880162\n",
        "Param  0.02 tag_dCa_SR_0.020000\n",
        "[0.50800145394744434, 0.62109537475056187] 0.621095374751\n",
        "0.02 0.621095374751 0.000594741782372\n",
        "Param  0.097143 tag_dCa_SR_0.097143\n",
        "[0.50298910185814694, 0.65947709974134894] 0.659477099741\n",
        "0.097143 0.659477099741 0.000715857172826\n",
        "Param  0.2 tag_dCa_SR_0.200000\n",
        "[0.4963863355784337, 0.71243295537648388] 0.712432955376\n",
        "0.2"
       ]
      },
      {
       "output_type": "stream",
       "stream": "stdout",
       "text": [
        " 0.712432955376 0.000905743817484\n",
        "Param  0.187143 tag_dCa_SR_0.187143\n",
        "[0.49703202570128474, 0.70570359435912211] 0.705703594359\n",
        "0.187143 0.705703594359 0.000879854639992\n",
        "Param  0.045714 tag_dCa_SR_0.045714\n",
        "[0.50660824127750448, 0.63375383373301819] 0.633753833733\n",
        "0.045714 0.633753833733 0.000633410798135\n",
        "Param  0.148571 tag_dCa_SR_0.148571\n",
        "[0.49932842197001198, 0.68570334156709623] 0.685703341567\n",
        "0.148571"
       ]
      },
      {
       "output_type": "stream",
       "stream": "stdout",
       "text": [
        " 0.685703341567 0.000806020324877\n",
        "Param  0.084286 tag_dCa_SR_0.084286\n",
        "[0.50394030900351738, 0.65299919490544023] 0.652999194905\n",
        "0.084286 0.652999194905 0.000694601025308\n",
        "Param  0.122857 tag_dCa_SR_0.122857\n",
        "[0.50110331327305146, 0.67252731229529161] 0.672527312295\n",
        "0.122857 0.672527312295 0.000759855592717\n",
        "Param  0.032857 tag_dCa_SR_0.032857\n",
        "[0.50736047347650692, 0.62740182919042164] 0.62740182919\n",
        "0.032857"
       ]
      },
      {
       "output_type": "stream",
       "stream": "stdout",
       "text": [
        " 0.62740182919 0.00061386046947\n",
        "Param  0.058571 tag_dCa_SR_0.058571\n",
        "[0.50577130813747395, 0.64013731105852667] 0.640137311059\n",
        "0.058571 0.640137311059 0.000653387602437\n",
        "Param  0.161429 tag_dCa_SR_0.161429\n",
        "[0.49850743442657924, 0.69233902618781429] 0.692339026188\n",
        "0.161429 0.692339026188 0.000830020406203\n"
       ]
      },
      {
       "metadata": {},
       "output_type": "display_data",
       "png": "[encoded data removed]",
       "text": [
        "<matplotlib.figure.Figure at 0x7fd1fa1d0b10>"
       ]
      },
      {
       "metadata": {},
       "output_type": "display_data",
       "png": "[encoded data removed]",
       "text": [
        "<matplotlib.figure.Figure at 0x7fd1fa0ea990>"
       ]
      }
     ],
     "prompt_number": 210
    },
    {
     "cell_type": "code",
     "collapsed": false,
     "input": [
      "caiOuts = AnalyzePerturbs(\n",
      "    caseDictCai,\n",
      "    toggleTime=toggleTime,\n",
      "    responseOffset = 1000,\n",
      "    toggleParam = \"Cai\") \n"
     ],
     "language": "python",
     "metadata": {},
     "outputs": [
      {
       "output_type": "stream",
       "stream": "stdout",
       "text": [
        "Param  0.000893 tag_dCa_i_0.000893\n",
        "[9.9176807938699071e-05, 0.00029414713455376968]"
       ]
      },
      {
       "output_type": "stream",
       "stream": "stdout",
       "text": [
        " 0.000294147134554\n",
        "0.000893"
       ]
      },
      {
       "output_type": "stream",
       "stream": "stdout",
       "text": [
        " 0.000294147134554 0.000590767488429\n",
        "Param  0.000571 tag_dCa_i_0.000571\n",
        "[9.9176807938699071e-05, 0.00029002861969743633] 0.000290028619697\n",
        "0.000571 0.000290028619697 0.000584277125016\n",
        "Param  0.001375 tag_dCa_i_0.001375\n",
        "[9.9176807938699071e-05, 0.00036195705059695647] 0.000361957050597\n",
        "0.001375 0.000361957050597 0.000600613741726\n",
        "Param  0.002018 tag_dCa_i_0.002018\n",
        "[9.9176807938699071e-05, 0.00049614061108047935] 0.00049614061108\n",
        "0.002018"
       ]
      },
      {
       "output_type": "stream",
       "stream": "stdout",
       "text": [
        " 0.00049614061108 0.000614004577778\n",
        "Param  0.001536 tag_dCa_i_0.001536\n",
        "[9.9176807938699071e-05, 0.00039481426419034495] 0.00039481426419\n",
        "0.001536 0.00039481426419 0.000603939419323\n",
        "Param  0.0025 tag_dCa_i_0.002500\n",
        "[9.9176807938699071e-05, 0.00060131264090507641] 0.000601312640905\n",
        "0.0025 0.000601312640905 0.000624225223776\n",
        "Param  0.000411 tag_dCa_i_0.000411\n",
        "[9.9176807938699071e-05, 0.0002879885057392565] 0.000287988505739\n",
        "0.000411"
       ]
      },
      {
       "output_type": "stream",
       "stream": "stdout",
       "text": [
        " 0.000287988505739 0.000581074545227\n",
        "Param  0.002179 tag_dCa_i_0.002179\n",
        "[9.9176807938699071e-05, 0.0005308829071767854] 0.000530882907177\n",
        "0.002179 0.000530882907177 0.000617401794288\n",
        "Param  0.001696 tag_dCa_i_0.001696\n",
        "[9.9176807938699071e-05, 0.00042797423348608704] 0.000427974233486\n",
        "0.001696 0.000427974233486 0.00060726265492\n",
        "Param  0.00025 tag_dCa_i_0.000250\n",
        "[9.9176807938699071e-05, 0.00028594358488646953] 0.000285943584886\n",
        "0.00025"
       ]
      },
      {
       "output_type": "stream",
       "stream": "stdout",
       "text": [
        " 0.000285943584886 0.000577863861459\n",
        "Param  0.001054 tag_dCa_i_0.001054\n",
        "[9.9176807938699071e-05, 0.00029802787799504497] 0.000298027877995\n",
        "0.001054 0.000298027877995 0.000594038219229\n",
        "Param  0.000732 tag_dCa_i_0.000732\n",
        "[9.9176807938699071e-05, 0.00029208645061271451] 0.000292086450613\n",
        "0.000732 0.000292086450613 0.000587514176209\n",
        "Param  0.002339 tag_dCa_i_0.002339\n",
        "[9.9176807938699071e-05, 0.00056580459015824372] 0.000565804590158\n",
        "0.002339 "
       ]
      },
      {
       "output_type": "stream",
       "stream": "stdout",
       "text": [
        "0.000565804590158 0.000620794686639\n",
        "Param  0.001214 tag_dCa_i_0.001214\n",
        "[9.9176807938699071e-05, 0.00032962793399159683] 0.000329627933992\n",
        "0.001214 0.000329627933992 0.000597306574555\n",
        "Param  0.001857 tag_dCa_i_0.001857\n",
        "[9.9176807938699071e-05, 0.00046182765226095553] 0.000461827652261\n",
        "0.001857 0.000461827652261 0.000610624729253\n"
       ]
      },
      {
       "metadata": {},
       "output_type": "display_data",
       "png": "[encoded data removed]",
       "text": [
        "<matplotlib.figure.Figure at 0x7fd1fa1d7590>"
       ]
      },
      {
       "metadata": {},
       "output_type": "display_data",
       "png": "[encoded data removed]",
       "text": [
        "<matplotlib.figure.Figure at 0x7fd1fa9134d0>"
       ]
      }
     ],
     "prompt_number": 211
    },
    {
     "cell_type": "code",
     "collapsed": false,
     "input": [
      "#plt.scatter(srOuts.valPerturbs/np.min(valPerturbs),srOuts.valResponses)\n",
      "mM_to_uM=1e3\n",
      "jctNorm= jctOuts.valPerturbs/np.min(jctOuts.valPerturbs)\n",
      "plt.scatter(jctNorm,jctOuts.valResponses*mM_to_uM,label=\"jct\",c=\"r\")\n",
      "srNorm= srOuts.valPerturbs/np.min(srOuts.valPerturbs)\n",
      "plt.scatter(srNorm,srOuts.valResponses*mM_to_uM,label=\"SR\",c='k')\n",
      "caiNorm= caiOuts.valPerturbs/np.min(caiOuts.valPerturbs)\n",
      "plt.scatter(caiNorm,caiOuts.valResponses*mM_to_uM,label=\"Cai\",facecolor='w')\n",
      "plt.ylabel(\"Ca [uM]\")\n",
      "#plt.ylim([4e-4,np.max(srOuts.valResponses)])\n",
      "#plt.xlim([1,2.2])\n",
      "#print xlim([1,2.2])\n",
      "plt.xlabel(\"% of control\")\n",
      "plt.legend(loc=0)\n",
      "plt.gcf().savefig(\"CaT_wrt_jct_SR.png\",dpi=300)"
     ],
     "language": "python",
     "metadata": {},
     "outputs": [
      {
       "metadata": {},
       "output_type": "display_data",
       "png": "[encoded data removed]",
       "text": [
        "<matplotlib.figure.Figure at 0x7fd1f887ab10>"
       ]
      }
     ],
     "prompt_number": 212
    },
    {
     "cell_type": "code",
     "collapsed": false,
     "input": [],
     "language": "python",
     "metadata": {},
     "outputs": []
    },
    {
     "cell_type": "code",
     "collapsed": false,
     "input": [],
     "language": "python",
     "metadata": {},
     "outputs": []
    },
    {
     "cell_type": "code",
     "collapsed": false,
     "input": [],
     "language": "python",
     "metadata": {},
     "outputs": []
    },
    {
     "cell_type": "code",
     "collapsed": false,
     "input": [],
     "language": "python",
     "metadata": {},
     "outputs": []
    },
    {
     "cell_type": "code",
     "collapsed": false,
     "input": [],
     "language": "python",
     "metadata": {},
     "outputs": []
    },
    {
     "cell_type": "code",
     "collapsed": false,
     "input": [],
     "language": "python",
     "metadata": {},
     "outputs": []
    },
    {
     "cell_type": "code",
     "collapsed": false,
     "input": [],
     "language": "python",
     "metadata": {},
     "outputs": []
    }
   ],
   "metadata": {}
  }
 ]
}