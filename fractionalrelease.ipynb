{
 "cells": [
  {
   "cell_type": "markdown",
   "metadata": {},
   "source": [
    "<script>\n",
    "  function code_toggle() {\n",
    "    if (code_shown){\n",
    "      $('div.input').hide('500');\n",
    "      $('#toggleButton').val('Show Code')\n",
    "    } else {\n",
    "      $('div.input').show('500');\n",
    "      $('#toggleButton').val('Hide Code')\n",
    "    }\n",
    "    code_shown = !code_shown\n",
    "  }\n",
    "\n",
    "  $( document ).ready(function(){\n",
    "    code_shown=false;\n",
    "    $('div.input').hide()\n",
    "  });\n",
    "</script>\n",
    "<form action=\"javascript:code_toggle()\"><input type=\"submit\" id=\"toggleButton\" value=\"Show Code\"></form>"
   ]
  },
  {
   "cell_type": "markdown",
   "metadata": {},
   "source": [
    "## Quick review of SBM model data at different pacing frequencies for control, +amylin incubated, HIP transgenic\n",
    "Data taken from https://docs.google.com/spreadsheets/d/1WWbGLlzAKW1pdtvta5J7oTf4Tfn27Ni27zBpe6kl57I/edit#gid=0"
   ]
  },
  {
   "cell_type": "code",
   "execution_count": 1,
   "metadata": {},
   "outputs": [
    {
     "ename": "ImportError",
     "evalue": "No module named 'pandas'",
     "output_type": "error",
     "traceback": [
      "\u001b[0;31m---------------------------------------------------------------------------\u001b[0m",
      "\u001b[0;31mImportError\u001b[0m                               Traceback (most recent call last)",
      "\u001b[0;32m<ipython-input-1-af55e7023913>\u001b[0m in \u001b[0;36m<module>\u001b[0;34m()\u001b[0m\n\u001b[0;32m----> 1\u001b[0;31m \u001b[0;32mimport\u001b[0m \u001b[0mpandas\u001b[0m \u001b[0;32mas\u001b[0m \u001b[0mpd\u001b[0m\u001b[0;34m\u001b[0m\u001b[0m\n\u001b[0m",
      "\u001b[0;31mImportError\u001b[0m: No module named 'pandas'"
     ]
    }
   ],
   "source": [
    "import pandas as pd"
   ]
  },
  {
   "cell_type": "code",
   "execution_count": 2,
   "metadata": {},
   "outputs": [
    {
     "ename": "NameError",
     "evalue": "name 'pd' is not defined",
     "output_type": "error",
     "traceback": [
      "\u001b[0;31m---------------------------------------------------------------------------\u001b[0m",
      "\u001b[0;31mNameError\u001b[0m                                 Traceback (most recent call last)",
      "\u001b[0;32m<ipython-input-2-2586baf3e85f>\u001b[0m in \u001b[0;36m<module>\u001b[0;34m()\u001b[0m\n\u001b[1;32m      1\u001b[0m \u001b[0;31m#df = pd.read_csv(\"Despa.csv\")\u001b[0m\u001b[0;34m\u001b[0m\u001b[0;34m\u001b[0m\u001b[0m\n\u001b[0;32m----> 2\u001b[0;31m \u001b[0mdf\u001b[0m \u001b[0;34m=\u001b[0m \u001b[0mpd\u001b[0m\u001b[0;34m.\u001b[0m\u001b[0mread_csv\u001b[0m\u001b[0;34m(\u001b[0m\u001b[0;34m\"data/Despa.csv\"\u001b[0m\u001b[0;34m)\u001b[0m\u001b[0;34m\u001b[0m\u001b[0m\n\u001b[0m",
      "\u001b[0;31mNameError\u001b[0m: name 'pd' is not defined"
     ]
    }
   ],
   "source": [
    "#df = pd.read_csv(\"Despa.csv\")\n",
    "df = pd.read_csv(\"data/Despa.csv\")"
   ]
  },
  {
   "cell_type": "code",
   "execution_count": 4,
   "metadata": {},
   "outputs": [
    {
     "data": {
      "text/html": [
       "<div style=\"max-width:1500px;overflow:auto;\">\n",
       "<table border=\"1\" class=\"dataframe\">\n",
       "  <thead>\n",
       "    <tr style=\"text-align: right;\">\n",
       "      <th></th>\n",
       "      <th>Case</th>\n",
       "      <th>Hz</th>\n",
       "      <th>SL_Ca_max</th>\n",
       "      <th>SR_Ca_max</th>\n",
       "      <th>SR_Ca_min</th>\n",
       "      <th>RYR_I</th>\n",
       "      <th>RYR_ O</th>\n",
       "      <th>Cleft_Ca_max</th>\n",
       "      <th>Cleft_Ca_min</th>\n",
       "      <th>i_CaL_Max</th>\n",
       "      <th>i_CaL_Min</th>\n",
       "      <th>Unnamed: 11</th>\n",
       "    </tr>\n",
       "  </thead>\n",
       "  <tbody>\n",
       "    <tr>\n",
       "      <th>0</th>\n",
       "      <td>Control</td>\n",
       "      <td>0.1</td>\n",
       "      <td>0.017871</td>\n",
       "      <td>0.71286</td>\n",
       "      <td>0.279400</td>\n",
       "      <td>0.001171</td>\n",
       "      <td>0.000051</td>\n",
       "      <td>0.335960</td>\n",
       "      <td>0.000444</td>\n",
       "      <td>-0.000867</td>\n",
       "      <td>-23.822788</td>\n",
       "      <td>NaN</td>\n",
       "    </tr>\n",
       "    <tr>\n",
       "      <th>1</th>\n",
       "      <td>Amy</td>\n",
       "      <td>0.1</td>\n",
       "      <td>0.019253</td>\n",
       "      <td>0.73049</td>\n",
       "      <td>0.284930</td>\n",
       "      <td>0.001211</td>\n",
       "      <td>0.000062</td>\n",
       "      <td>0.336941</td>\n",
       "      <td>0.000553</td>\n",
       "      <td>-0.000888</td>\n",
       "      <td>-0.000856</td>\n",
       "      <td>&lt;--- incorrect</td>\n",
       "    </tr>\n",
       "    <tr>\n",
       "      <th>2</th>\n",
       "      <td>HIP</td>\n",
       "      <td>0.1</td>\n",
       "      <td>0.018772</td>\n",
       "      <td>0.72410</td>\n",
       "      <td>0.241790</td>\n",
       "      <td>0.001144</td>\n",
       "      <td>0.000058</td>\n",
       "      <td>0.332327</td>\n",
       "      <td>0.000557</td>\n",
       "      <td>-0.000920</td>\n",
       "      <td>-23.315400</td>\n",
       "      <td>NaN</td>\n",
       "    </tr>\n",
       "    <tr>\n",
       "      <th>3</th>\n",
       "      <td>Control</td>\n",
       "      <td>0.5</td>\n",
       "      <td>0.014009</td>\n",
       "      <td>0.66497</td>\n",
       "      <td>0.295188</td>\n",
       "      <td>0.002555</td>\n",
       "      <td>0.000119</td>\n",
       "      <td>0.298991</td>\n",
       "      <td>0.000412</td>\n",
       "      <td>-0.000861</td>\n",
       "      <td>-23.678690</td>\n",
       "      <td>NaN</td>\n",
       "    </tr>\n",
       "    <tr>\n",
       "      <th>4</th>\n",
       "      <td>Amy</td>\n",
       "      <td>0.5</td>\n",
       "      <td>0.019178</td>\n",
       "      <td>0.72890</td>\n",
       "      <td>0.285720</td>\n",
       "      <td>0.003581</td>\n",
       "      <td>0.000147</td>\n",
       "      <td>0.340278</td>\n",
       "      <td>0.000563</td>\n",
       "      <td>-0.000856</td>\n",
       "      <td>-23.013236</td>\n",
       "      <td>NaN</td>\n",
       "    </tr>\n",
       "    <tr>\n",
       "      <th>5</th>\n",
       "      <td>HIP</td>\n",
       "      <td>0.5</td>\n",
       "      <td>0.018536</td>\n",
       "      <td>0.71950</td>\n",
       "      <td>0.240988</td>\n",
       "      <td>0.003396</td>\n",
       "      <td>0.000141</td>\n",
       "      <td>0.332328</td>\n",
       "      <td>0.000561</td>\n",
       "      <td>-0.000887</td>\n",
       "      <td>-23.255240</td>\n",
       "      <td>NaN</td>\n",
       "    </tr>\n",
       "    <tr>\n",
       "      <th>6</th>\n",
       "      <td>Control</td>\n",
       "      <td>1.0</td>\n",
       "      <td>0.011242</td>\n",
       "      <td>0.62633</td>\n",
       "      <td>0.310600</td>\n",
       "      <td>0.003070</td>\n",
       "      <td>0.000162</td>\n",
       "      <td>0.219590</td>\n",
       "      <td>0.000400</td>\n",
       "      <td>-0.000793</td>\n",
       "      <td>-22.851070</td>\n",
       "      <td>NaN</td>\n",
       "    </tr>\n",
       "    <tr>\n",
       "      <th>7</th>\n",
       "      <td>Amy</td>\n",
       "      <td>1.0</td>\n",
       "      <td>0.018397</td>\n",
       "      <td>0.71655</td>\n",
       "      <td>0.284040</td>\n",
       "      <td>0.005792</td>\n",
       "      <td>0.000231</td>\n",
       "      <td>0.343405</td>\n",
       "      <td>0.000551</td>\n",
       "      <td>-0.000820</td>\n",
       "      <td>-22.806460</td>\n",
       "      <td>NaN</td>\n",
       "    </tr>\n",
       "    <tr>\n",
       "      <th>8</th>\n",
       "      <td>HIP</td>\n",
       "      <td>1.0</td>\n",
       "      <td>0.015436</td>\n",
       "      <td>0.68191</td>\n",
       "      <td>0.253210</td>\n",
       "      <td>0.004540</td>\n",
       "      <td>0.000201</td>\n",
       "      <td>0.310242</td>\n",
       "      <td>0.000534</td>\n",
       "      <td>-0.000860</td>\n",
       "      <td>-22.978920</td>\n",
       "      <td>NaN</td>\n",
       "    </tr>\n",
       "    <tr>\n",
       "      <th>9</th>\n",
       "      <td>Control</td>\n",
       "      <td>1.5</td>\n",
       "      <td>0.010370</td>\n",
       "      <td>0.61510</td>\n",
       "      <td>0.319522</td>\n",
       "      <td>0.004256</td>\n",
       "      <td>0.000235</td>\n",
       "      <td>0.201645</td>\n",
       "      <td>0.000537</td>\n",
       "      <td>-0.000793</td>\n",
       "      <td>-22.668150</td>\n",
       "      <td>NaN</td>\n",
       "    </tr>\n",
       "    <tr>\n",
       "      <th>10</th>\n",
       "      <td>Amy</td>\n",
       "      <td>1.5</td>\n",
       "      <td>0.015942</td>\n",
       "      <td>0.69009</td>\n",
       "      <td>0.294070</td>\n",
       "      <td>0.007773</td>\n",
       "      <td>0.000330</td>\n",
       "      <td>0.321369</td>\n",
       "      <td>0.000536</td>\n",
       "      <td>-0.000788</td>\n",
       "      <td>-22.248890</td>\n",
       "      <td>NaN</td>\n",
       "    </tr>\n",
       "    <tr>\n",
       "      <th>11</th>\n",
       "      <td>HIP</td>\n",
       "      <td>1.5</td>\n",
       "      <td>0.013156</td>\n",
       "      <td>0.65238</td>\n",
       "      <td>0.271750</td>\n",
       "      <td>0.005588</td>\n",
       "      <td>0.000271</td>\n",
       "      <td>0.238762</td>\n",
       "      <td>0.000537</td>\n",
       "      <td>-0.000826</td>\n",
       "      <td>-22.225960</td>\n",
       "      <td>NaN</td>\n",
       "    </tr>\n",
       "    <tr>\n",
       "      <th>12</th>\n",
       "      <td>Control</td>\n",
       "      <td>2.0</td>\n",
       "      <td>0.010188</td>\n",
       "      <td>0.61647</td>\n",
       "      <td>0.327800</td>\n",
       "      <td>0.005031</td>\n",
       "      <td>0.000281</td>\n",
       "      <td>0.193960</td>\n",
       "      <td>0.000420</td>\n",
       "      <td>-0.000748</td>\n",
       "      <td>-22.635800</td>\n",
       "      <td>NaN</td>\n",
       "    </tr>\n",
       "    <tr>\n",
       "      <th>13</th>\n",
       "      <td>Amy</td>\n",
       "      <td>2.0</td>\n",
       "      <td>0.014513</td>\n",
       "      <td>0.67470</td>\n",
       "      <td>0.306510</td>\n",
       "      <td>0.008300</td>\n",
       "      <td>0.000371</td>\n",
       "      <td>0.265125</td>\n",
       "      <td>0.000543</td>\n",
       "      <td>-0.000752</td>\n",
       "      <td>-21.907310</td>\n",
       "      <td>NaN</td>\n",
       "    </tr>\n",
       "    <tr>\n",
       "      <th>14</th>\n",
       "      <td>HIP</td>\n",
       "      <td>2.0</td>\n",
       "      <td>0.012038</td>\n",
       "      <td>0.63975</td>\n",
       "      <td>0.288120</td>\n",
       "      <td>0.005839</td>\n",
       "      <td>0.000300</td>\n",
       "      <td>0.210357</td>\n",
       "      <td>0.000569</td>\n",
       "      <td>-0.000786</td>\n",
       "      <td>-22.165090</td>\n",
       "      <td>NaN</td>\n",
       "    </tr>\n",
       "  </tbody>\n",
       "</table>\n",
       "</div>"
      ],
      "text/plain": [
       "       Case   Hz  SL_Ca_max  SR_Ca_max  SR_Ca_min     RYR_I    RYR_ O  \\\n",
       "0   Control  0.1   0.017871    0.71286   0.279400  0.001171  0.000051   \n",
       "1       Amy  0.1   0.019253    0.73049   0.284930  0.001211  0.000062   \n",
       "2       HIP  0.1   0.018772    0.72410   0.241790  0.001144  0.000058   \n",
       "3   Control  0.5   0.014009    0.66497   0.295188  0.002555  0.000119   \n",
       "4       Amy  0.5   0.019178    0.72890   0.285720  0.003581  0.000147   \n",
       "5       HIP  0.5   0.018536    0.71950   0.240988  0.003396  0.000141   \n",
       "6   Control  1.0   0.011242    0.62633   0.310600  0.003070  0.000162   \n",
       "7       Amy  1.0   0.018397    0.71655   0.284040  0.005792  0.000231   \n",
       "8       HIP  1.0   0.015436    0.68191   0.253210  0.004540  0.000201   \n",
       "9   Control  1.5   0.010370    0.61510   0.319522  0.004256  0.000235   \n",
       "10      Amy  1.5   0.015942    0.69009   0.294070  0.007773  0.000330   \n",
       "11      HIP  1.5   0.013156    0.65238   0.271750  0.005588  0.000271   \n",
       "12  Control  2.0   0.010188    0.61647   0.327800  0.005031  0.000281   \n",
       "13      Amy  2.0   0.014513    0.67470   0.306510  0.008300  0.000371   \n",
       "14      HIP  2.0   0.012038    0.63975   0.288120  0.005839  0.000300   \n",
       "\n",
       "    Cleft_Ca_max  Cleft_Ca_min  i_CaL_Max  i_CaL_Min     Unnamed: 11  \n",
       "0       0.335960      0.000444  -0.000867 -23.822788             NaN  \n",
       "1       0.336941      0.000553  -0.000888  -0.000856  <--- incorrect  \n",
       "2       0.332327      0.000557  -0.000920 -23.315400             NaN  \n",
       "3       0.298991      0.000412  -0.000861 -23.678690             NaN  \n",
       "4       0.340278      0.000563  -0.000856 -23.013236             NaN  \n",
       "5       0.332328      0.000561  -0.000887 -23.255240             NaN  \n",
       "6       0.219590      0.000400  -0.000793 -22.851070             NaN  \n",
       "7       0.343405      0.000551  -0.000820 -22.806460             NaN  \n",
       "8       0.310242      0.000534  -0.000860 -22.978920             NaN  \n",
       "9       0.201645      0.000537  -0.000793 -22.668150             NaN  \n",
       "10      0.321369      0.000536  -0.000788 -22.248890             NaN  \n",
       "11      0.238762      0.000537  -0.000826 -22.225960             NaN  \n",
       "12      0.193960      0.000420  -0.000748 -22.635800             NaN  \n",
       "13      0.265125      0.000543  -0.000752 -21.907310             NaN  \n",
       "14      0.210357      0.000569  -0.000786 -22.165090             NaN  "
      ]
     },
     "execution_count": 4,
     "metadata": {},
     "output_type": "execute_result"
    }
   ],
   "source": [
    "df"
   ]
  },
  {
   "cell_type": "code",
   "execution_count": 5,
   "metadata": {},
   "outputs": [
    {
     "name": "stdout",
     "output_type": "stream",
     "text": [
      "       Case   Hz  SL_Ca_max  SR_Ca_max  SR_Ca_min     RYR_I    RYR_ O  \\\n",
      "0   Control  0.1   0.017871    0.71286   0.279400  0.001171  0.000051   \n",
      "3   Control  0.5   0.014009    0.66497   0.295188  0.002555  0.000119   \n",
      "6   Control  1.0   0.011242    0.62633   0.310600  0.003070  0.000162   \n",
      "9   Control  1.5   0.010370    0.61510   0.319522  0.004256  0.000235   \n",
      "12  Control  2.0   0.010188    0.61647   0.327800  0.005031  0.000281   \n",
      "\n",
      "    Cleft_Ca_max  Cleft_Ca_min  i_CaL_Max  i_CaL_Min Unnamed: 11  \n",
      "0       0.335960      0.000444  -0.000867 -23.822788         NaN  \n",
      "3       0.298991      0.000412  -0.000861 -23.678690         NaN  \n",
      "6       0.219590      0.000400  -0.000793 -22.851070         NaN  \n",
      "9       0.201645      0.000537  -0.000793 -22.668150         NaN  \n",
      "12      0.193960      0.000420  -0.000748 -22.635800         NaN  \n",
      "Index([u'Case', u'Hz', u'SL_Ca_max', u'SR_Ca_max', u'SR_Ca_min', u'RYR_I',\n",
      "       u'RYR_ O', u'Cleft_Ca_max', u'Cleft_Ca_min', u'i_CaL_Max', u'i_CaL_Min',\n",
      "       u'Unnamed: 11'],\n",
      "      dtype='object')\n"
     ]
    }
   ],
   "source": [
    "bools = df['Case'].isin(['Control'])\n",
    "print df[bools]\n",
    "print df.columns"
   ]
  },
  {
   "cell_type": "markdown",
   "metadata": {},
   "source": [
    "#### SL Ca max \n",
    "Brad reported SL Ca max, but probably the more meaningful statistic will be the cleft or SL [Ca] at diastole. Nevertheless, the peak Ca declines with frequency and we have +amy > +hip > ctl. Note that +hip has reduced SERCA function"
   ]
  },
  {
   "cell_type": "code",
   "execution_count": 11,
   "metadata": {},
   "outputs": [
    {
     "data": {
      "text/plain": [
       "<matplotlib.text.Text at 0x7f817b84afd0>"
      ]
     },
     "execution_count": 11,
     "metadata": {},
     "output_type": "execute_result"
    },
    {
     "data": {
      "image/png": "[encoded data removed]",
      "text/plain": [
       "<matplotlib.figure.Figure at 0x7f817b818e50>"
      ]
     },
     "metadata": {},
     "output_type": "display_data"
    }
   ],
   "source": [
    "cases = ['Control', 'Amy', 'HIP']\n",
    "colors = ['k','b','r']\n",
    "mM_to_uM=1e3\n",
    "#data = \"SL_Ca_max\"; col = 2\n",
    "data = \"Cleft_Ca_min\"; col = 8\n",
    "\n",
    "for i,case in enumerate(cases):\n",
    "    #bools = df['Case'].isin(['Control'])\n",
    "    bools = df['Case'].isin([case])\n",
    "    hz =df[bools].as_matrix(columns=df.columns[1:2])\n",
    "    \n",
    "    sl_ca_max = df[bools].as_matrix(columns=df.columns[col:(col+1)])\n",
    "    plt.plot(hz,mM_to_uM*sl_ca_max,colors[i],label=case)\n",
    "plt.legend(loc=0)\n",
    "plt.title(data)\n",
    "plt.ylabel(\"Ca [uM]\")\n",
    "plt.xlabel(\"Hz\")\n"
   ]
  },
  {
   "cell_type": "markdown",
   "metadata": {},
   "source": [
    "#### SR Ca handling\n",
    "SR diastolic/systolic content both decline with increasing pacing, which results in reduced fractional release with pacing. \n",
    "The +amy and +hip present the largest SR Ca transients and greater fractional release than control. "
   ]
  },
  {
   "cell_type": "code",
   "execution_count": 12,
   "metadata": {},
   "outputs": [
    {
     "data": {
      "image/png": "[encoded data removed]",
      "text/plain": [
       "<matplotlib.figure.Figure at 0x7f817b67e2d0>"
      ]
     },
     "metadata": {},
     "output_type": "display_data"
    }
   ],
   "source": [
    "cases = ['Control', 'Amy', 'HIP']\n",
    "colors = ['k','b','r']\n",
    "\n",
    "\n",
    "plt.subplot(2,2,1)\n",
    "data = \"SR_Ca_max\"; col =3\n",
    "for i,case in enumerate(cases):\n",
    "    #bools = df['Case'].isin(['Control'])\n",
    "    bools = df['Case'].isin([case])\n",
    "    hz =df[bools].as_matrix(columns=df.columns[1:2])\n",
    "    \n",
    "    entreys = df[bools].as_matrix(columns=df.columns[col:(col+1)])\n",
    "    plt.plot(hz,entreys,colors[i],label=case)\n",
    "plt.legend(bbox_to_anchor=[2,-0.5])\n",
    "\n",
    "data = \"SR_Ca_min\"; col =4\n",
    "for i,case in enumerate(cases):\n",
    "    #bools = df['Case'].isin(['Control'])\n",
    "    bools = df['Case'].isin([case])\n",
    "    hz =df[bools].as_matrix(columns=df.columns[1:2])\n",
    "    \n",
    "    entreys = df[bools].as_matrix(columns=df.columns[col:(col+1)])\n",
    "    plt.plot(hz,entreys,colors[i]+'--',label=case)\n",
    "\n",
    "plt.ylabel(\"Ca [mM]\")\n",
    "plt.xlabel(\"Hz\")\n",
    "plt.title(\"SR Ca max/min\")\n",
    "\n",
    "\n",
    "plt.subplot(2,2,2)\n",
    "for i,case in enumerate(cases):\n",
    "    #bools = df['Case'].isin(['Control'])\n",
    "    bools = df['Case'].isin([case])\n",
    "    hz =df[bools].as_matrix(columns=df.columns[1:2])\n",
    "    data = \"SR_Ca_max\"; col =3\n",
    "    dia = df[bools].as_matrix(columns=df.columns[col:(col+1)])\n",
    "    data = \"SR_Ca_min\"; col =4\n",
    "    sys = df[bools].as_matrix(columns=df.columns[col:(col+1)])\n",
    "    fracRel = (dia - sys)/dia\n",
    "    plt.plot(hz,fracRel,colors[i],label=case)\n",
    "\n",
    "plt.ylabel(\"%\")\n",
    "plt.xlabel(\"Hz\")\n",
    "plt.title(\"Fractional release\")\n",
    "\n",
    "plt.subplot(2,2,3)\n",
    "for i,case in enumerate(cases):\n",
    "    #bools = df['Case'].isin(['Control'])\n",
    "    bools = df['Case'].isin([case])\n",
    "    hz =df[bools].as_matrix(columns=df.columns[1:2])\n",
    "    \n",
    "    data = \"SR_Ca_max\"; col =3\n",
    "    dia = df[bools].as_matrix(columns=df.columns[col:(col+1)])\n",
    "    data = \"SR_Ca_min\"; col =4\n",
    "    sys = df[bools].as_matrix(columns=df.columns[col:(col+1)])\n",
    "    rel = (dia - sys)\n",
    "    plt.plot(hz,rel,colors[i],label=case)\n",
    "\n",
    "plt.ylabel(\"Ca [mM]\")\n",
    "plt.xlabel(\"Hz\")\n",
    "plt.title(\"Delta SR Ca\")\n",
    "plt.tight_layout()\n",
    "\n"
   ]
  },
  {
   "cell_type": "markdown",
   "metadata": {},
   "source": [
    "#### RyR open, inactive states\n",
    "\n",
    "RyR open/inactive states increase with pacing, with +amylin/HIP presenting largest open/inactive states. These are negatively correlated with the increased SR Ca transients shown above with pacing. "
   ]
  },
  {
   "cell_type": "code",
   "execution_count": 14,
   "metadata": {},
   "outputs": [
    {
     "data": {
      "text/plain": [
       "<matplotlib.text.Text at 0x7f817b34da50>"
      ]
     },
     "execution_count": 14,
     "metadata": {},
     "output_type": "execute_result"
    },
    {
     "data": {
      "image/png": "[encoded data removed]",
      "text/plain": [
       "<matplotlib.figure.Figure at 0x7f817b40bd10>"
      ]
     },
     "metadata": {},
     "output_type": "display_data"
    }
   ],
   "source": [
    "cases = ['Control', 'Amy', 'HIP']\n",
    "colors = ['k','b','r']\n",
    "\n",
    "data = \"RyR\"\n",
    "for i,case in enumerate(cases):\n",
    "    #bools = df['Case'].isin(['Control'])\n",
    "    bools = df['Case'].isin([case])\n",
    "    hz =df[bools].as_matrix(columns=df.columns[1:2])\n",
    "    \n",
    "    data = \"RyR_O\"; col=6\n",
    "    z = df[bools].as_matrix(columns=df.columns[col:(col+1)])\n",
    "    plt.plot(hz,z,colors[i],label=case+\", RyR Open\")\n",
    "    data = \"RyR_I\"; col=5\n",
    "    z = df[bools].as_matrix(columns=df.columns[col:(col+1)])\n",
    "    plt.plot(hz,0.1*z,colors[i]+\"--\",label=case+\", RyR I x 0.1\")\n",
    "\n",
    "plt.legend(loc=0)\n",
    "plt.title(data)\n",
    "\n"
   ]
  },
  {
   "cell_type": "code",
   "execution_count": 15,
   "metadata": {},
   "outputs": [
    {
     "data": {
      "text/plain": [
       "<matplotlib.text.Text at 0x7f817b252790>"
      ]
     },
     "execution_count": 15,
     "metadata": {},
     "output_type": "execute_result"
    },
    {
     "data": {
      "image/png": "[encoded data removed]",
      "text/plain": [
       "<matplotlib.figure.Figure at 0x7f817b29c350>"
      ]
     },
     "metadata": {},
     "output_type": "display_data"
    }
   ],
   "source": [
    "cases = ['Control', 'Amy', 'HIP']\n",
    "colors = ['k','b','r']\n",
    "\n",
    "\n",
    "for i,case in enumerate(cases):\n",
    "    #bools = df['Case'].isin(['Control'])\n",
    "    bools = df['Case'].isin([case])\n",
    "    hz =df[bools].as_matrix(columns=df.columns[1:2])\n",
    "        \n",
    "    data = \"RyR_O\"; col=6    \n",
    "    ryro = df[bools].as_matrix(columns=df.columns[col:(col+1)])\n",
    "    data = \"SL_Ca\"; col = 2\n",
    "    sl_ca_max = df[bools].as_matrix(columns=df.columns[col:(col+1)])    \n",
    "    plt.plot(sl_ca_max,ryro,colors[i],label=case)\n",
    "plt.legend(loc=0)\n",
    "plt.title(\"RyR Open probability vs SL Max Ca\")\n"
   ]
  },
  {
   "cell_type": "code",
   "execution_count": null,
   "metadata": {},
   "outputs": [],
   "source": []
  },
  {
   "cell_type": "code",
   "execution_count": null,
   "metadata": {},
   "outputs": [],
   "source": []
  }
 ],
 "metadata": {
  "kernelspec": {
   "display_name": "Python 3",
   "language": "python",
   "name": "python3"
  },
  "language_info": {
   "codemirror_mode": {
    "name": "ipython",
    "version": 3
   },
   "file_extension": ".py",
   "mimetype": "text/x-python",
   "name": "python",
   "nbconvert_exporter": "python",
   "pygments_lexer": "ipython3",
   "version": "3.4.3"
  }
 },
 "nbformat": 4,
 "nbformat_minor": 1
}
