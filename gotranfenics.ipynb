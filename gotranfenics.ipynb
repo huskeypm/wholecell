{
 "metadata": {
  "name": "gotranfenics"
 }, 
 "nbformat": 2, 
 "worksheets": [
  {
   "cells": [
    {
     "cell_type": "markdown", 
     "source": [
      "Be sure to source", 
      "", 
      "1. source ~/sources/smolhomog/vm.bash ", 
      "2. python -c  \"import dolfin\"", 
      "3. sdf"
     ]
    }, 
    {
     "cell_type": "code", 
     "collapsed": false, 
     "input": [
      "import sys", 
      "sys.path.append(\"/home/huskeypm/localTemp/wholecell\")", 
      "import runner", 
      "import sympy", 
      "from dolfin import * ", 
      "import templateGotran as gt"
     ], 
     "language": "python", 
     "outputs": [
      {
       "output_type": "stream", 
       "stream": "stdout", 
       "text": [
        "WARNING: ode idx is hardcoded", 
        "WARNING: This model is almost certinaly wrong (dbl check fluxes)"
       ]
      }
     ], 
     "prompt_number": 1
    }, 
    {
     "cell_type": "markdown", 
     "source": [
      "## 1D cases (TOD0)", 
      "", 
      "- shannon vs mine [Ca and jSR]", 
      "- R9Q vs R9C [Ca and jSR]"
     ]
    }, 
    {
     "cell_type": "code", 
     "collapsed": true, 
     "input": [
      "t0 = 0", 
      "tF = 2e3", 
      "dtn = 0.01", 
      "run=1", 
      "class empty:pass", 
      "", 
      "#import shannon_2004 as model", 
      "", 
      "#from scipy.integrate import odeint", 
      "Cai_ode_idx =  runner.model.state_indices( \"Cai\" )", 
      "", 
      "def simpleRun():", 
      "  runner.init()", 
      "  (p,states,ts,js)=runner.runner()", 
      "  ", 
      "  results = empty()", 
      "  results.p = p", 
      "  results.ts = ts", 
      "  results.js = js", 
      "  results.states = states[1:,Cai_ode_idx]", 
      "  return (results)"
     ], 
     "language": "python", 
     "outputs": [], 
     "prompt_number": 11
    }, 
    {
     "cell_type": "code", 
     "collapsed": true, 
     "input": [
      "odecases = []", 
      "", 
      "run=0", 
      "if run:", 
      "  # shannon  dflt", 
      "  case1 = empty()", 
      "  case1.results = simpleRun()", 
      "  case1.name = \"Shannon\"", 
      "  odecases.append(case1)", 
      "", 
      "  # my model (WT) ", 
      "  case2 = empty()", 
      "  case2.results = simpleRun()", 
      "  case2.name = \"MineWT\"", 
      "  odecases.append(case2)", 
      "", 
      "  # R9Q ", 
      "  case3 = empty()", 
      "  case3.results = simpleRun()", 
      "  case3.name = \"R9Q\"", 
      "  odecases.append(case3)", 
      "", 
      "  # R9C", 
      "  case4 = empty()", 
      "  case4.results = simpleRun()", 
      "  case4.name = \"R9C\"", 
      "  odecases.append(case4)"
     ], 
     "language": "python", 
     "outputs": [], 
     "prompt_number": 18
    }, 
    {
     "cell_type": "markdown", 
     "source": [
      "Comparison of Shannon model with my model "
     ]
    }, 
    {
     "cell_type": "code", 
     "collapsed": false, 
     "input": [
      "# compare my model vs shannon", 
      "plt.figure()", 
      "plt.subplot(121)", 
      "plt.title(\"Ca\")", 
      "plt.ylabel(\"[Ca] [uM]\") ", 
      "plt.xlabel(\"t [ms]\") ", 
      "plt.plot(case1.results.ts,case1.results.states,'b-',label=case1.name)", 
      "plt.plot(case2.results.ts,case2.results.states,'b.',label=case2.name)", 
      "plt.legend()", 
      "", 
      "plt.subplot(122)", 
      "plt.title(\"Pump rate\")", 
      "plt.ylabel(\"jSERCA [uM/ms]\") ", 
      "plt.xlabel(\"t [ms]\") ", 
      "idx = runner.j_pump_SR_idx", 
      "plt.plot(case1.results.ts,case1.results.js[:,idx],'b-',label=case1.name)", 
      "plt.plot(case2.results.ts,case2.results.js[:,idx],'b.',label=case2.name)", 
      "plt.legend()"
     ], 
     "language": "python", 
     "outputs": [
      {
       "output_type": "pyout", 
       "prompt_number": 23, 
       "text": [
        "<matplotlib.legend.Legend at 0x44a2ed0>"
       ]
      }, 
      {
       "output_type": "display_data", 
       "png": "[encoded data removed]"
      }
     ], 
     "prompt_number": 23
    }, 
    {
     "cell_type": "markdown", 
     "source": [
      "WT vs plb mutants"
     ]
    }, 
    {
     "cell_type": "code", 
     "collapsed": false, 
     "input": [
      "# compare R9C/R9Q", 
      "plt.figure()", 
      "plt.subplot(121)", 
      "plt.title(\"Ca\")", 
      "plt.ylabel(\"[Ca] [uM]\") ", 
      "plt.xlabel(\"t [ms]\") ", 
      "plt.plot(case2.results.ts,case2.results.states,'b-',label=case2.name)", 
      "plt.plot(case3.results.ts,case3.results.states,'b.',label=case3.name)", 
      "plt.plot(case4.results.ts,case4.results.states,'b--',label=case4.name)", 
      "plt.legend()", 
      "", 
      "plt.subplot(122)", 
      "plt.title(\"Pump rate\")", 
      "plt.ylabel(\"jSERCA [uM/ms]\") ", 
      "plt.xlabel(\"t [ms]\") ", 
      "plt.plot(case2.results.ts,case2.results.js[:,idx],'b-',label=case2.name)", 
      "plt.plot(case3.results.ts,case3.results.js[:,idx],'b.',label=case3.name)", 
      "plt.plot(case4.results.ts,case4.results.js[:,idx],'b--',label=case4.name)", 
      "plt.legend()"
     ], 
     "language": "python", 
     "outputs": [
      {
       "output_type": "pyout", 
       "prompt_number": 24, 
       "text": [
        "<matplotlib.legend.Legend at 0x5586950>"
       ]
      }, 
      {
       "output_type": "display_data", 
       "png": "[encoded data removed]"
      }
     ], 
     "prompt_number": 24
    }, 
    {
     "cell_type": "markdown", 
     "source": [
      "## 3D cases (TODO)"
     ]
    }, 
    {
     "cell_type": "markdown", 
     "source": [
      "### Testing"
     ]
    }, 
    {
     "cell_type": "markdown", 
     "source": [
      "#### Baseline and Kmf revised"
     ]
    }, 
    {
     "cell_type": "code", 
     "collapsed": true, 
     "input": [
      "M_to_mM=1e3", 
      "Kmf_guess = 5.e-7*M_to_mM", 
      "  "
     ], 
     "language": "python", 
     "outputs": [], 
     "prompt_number": 10
    }, 
    {
     "cell_type": "code", 
     "collapsed": true, 
     "input": [
      "class empty:pass", 
      "import cPickle as pickle", 
      "import templateGotran as gt", 
      "", 
      "# run me", 
      "run=1", 
      "if run:", 
      "  # test 1  ", 
      "  gt.Test1()", 
      "", 
      "  # test 2", 
      "  gt.cparams.plot = False", 
      "  pi = gt.cparams()                                         ", 
      "  ", 
      "  pi.odeParams[gt.param_indices(\"Kmf\")] = Kmf_guess                                                                ", 
      "  problemKmf, resultsKmf = gt.loop(pi,case=\"test2\",mode=\"separateFlux\")   "
     ], 
     "language": "python", 
     "outputs": [
      {
       "output_type": "stream", 
       "stream": "stdout", 
       "text": [
        "Equilibrating for 3000.000000 [ms]", 
        "WARHING: CHECK ME", 
        "ODE Init [mM]"
       ]
      }, 
      {
       "output_type": "stream", 
       "stream": "stdout", 
       "text": [
        " [ 0.00048259  0.03246633]", 
        "t0 3000.000000 tf 4000.000000 [ms]", 
        "vol_sa_ratio  [um]"
       ]
      }, 
      {
       "output_type": "stream", 
       "stream": "stdout", 
       "text": [
        " 2.0", 
        "WARNING: not working w eval func", 
        "T 0.000000 [ms] Conc(0) 0.000483 [mM]", 
        "T 0.000000 [ms] Conc(0) 0.482594 [uM]", 
        "T 0.000000 [ms] Conc(1) 0.032466 [mM]", 
        "T 0.000000 [ms] Conc(1) 32.466334 [uM]", 
        "###########################################################################", 
        "t0  3000.0 tf  3010.0", 
        "ODE Init [mM] [ 0.00048259  0.03246633]", 
        "t0 3000.000000 tf 3010.000000 [ms]", 
        "ODE statesF: [mM] "
       ]
      }, 
      {
       "output_type": "stream", 
       "stream": "stdout", 
       "text": [
        " [ 0.00046879  0.03201913]", 
        "ODE statesF: [uM]  0.468788958253", 
        "ODE states Flux [mM/ms]:  [ -1.38048034e-06  -4.47202131e-05]", 
        "ODE states Flux [uM/ms]:  [-0.00138048 -0.04472021]", 
        "WARNING: jSR and dCa are lumped tother into jVold", 
        "WARNING: I probably need to constrain jvolExpr s.t. the assembled value is equal to the ODE value", 
        "jboundary [mM/ms] 5.00902341525e-05", 
        "jboundary [uM/ms] 0.0500902341525", 
        "jvol [mM/ms]  -5.14719539048e-05", 
        "jvol [uM/ms]  -51.4719539048", 
        "##", 
        "## WARNING: we are not updating CaTnC!!!", 
        "##", 
        "T 3010.000000 [ms] Conc(0) 0.000469 [mM]"
       ]
      }, 
      {
       "output_type": "stream", 
       "stream": "stdout", 
       "text": [
        "", 
        "T 3010.000000 [ms] Conc(0) 0.468777 [uM]", 
        "T 3010.000000 [ms] Conc(1) 0.032466 [mM]", 
        "T 3010.000000 [ms] Conc(1) 32.466334 [uM]", 
        "WARNING: skipping conc updatee", 
        "###########################################################################", 
        "t0  3010.0 tf  3020.0", 
        "ODE Init [mM] [ 0.00046879  0.03201913]", 
        "t0 3010.000000 tf 3020.000000 [ms]", 
        "ODE statesF: [mM] "
       ]
      }, 
      {
       "output_type": "stream", 
       "stream": "stdout", 
       "text": [
        " [ 0.00045519  0.03156018]", 
        "ODE statesF: [uM]  0.455189190784", 
        "ODE states Flux [mM/ms]:  [ -1.35997675e-06  -4.58955176e-05]", 
        "ODE states Flux [uM/ms]:  [-0.00135998 -0.04589552]", 
        "WARNING: jSR and dCa are lumped tother into jVold", 
        "WARNING: I probably need to constrain jvolExpr s.t. the assembled value is equal to the ODE value", 
        "jboundary [mM/ms] 4.59898934038e-05", 
        "jboundary [uM/ms] 0.0459898934038", 
        "jvol [mM/ms]  -4.73506399867e-05", 
        "jvol [uM/ms]  -47.3506399867", 
        "##", 
        "## WARNING: we are not updating CaTnC!!!", 
        "##", 
        "T 3020.000000 [ms] Conc(0) 0.000455 [mM]"
       ]
      }, 
      {
       "output_type": "stream", 
       "stream": "stdout", 
       "text": [
        "", 
        "T 3020.000000 [ms] Conc(0) 0.455169 [uM]", 
        "T 3020.000000 [ms] Conc(1) 0.032466 [mM]", 
        "T 3020.000000 [ms] Conc(1) 32.466334 [uM]", 
        "WARNING: skipping conc updatee", 
        "###########################################################################", 
        "t0  3020.0 tf  3030.0", 
        "ODE Init [mM] [ 0.00045519  0.03156018]", 
        "t0 3020.000000 tf 3030.000000 [ms]", 
        "ODE statesF: [mM] "
       ]
      }, 
      {
       "output_type": "stream", 
       "stream": "stdout", 
       "text": [
        " [ 0.00044166  0.03109095]", 
        "ODE statesF: [uM]  0.441661964455", 
        "ODE states Flux [mM/ms]:  [ -1.35272263e-06  -4.69223726e-05]", 
        "ODE states Flux [uM/ms]:  [-0.00135272 -0.04692237]", 
        "WARNING: jSR and dCa are lumped tother into jVold", 
        "WARNING: I probably need to constrain jvolExpr s.t. the assembled value is equal to the ODE value", 
        "jboundary [mM/ms] 4.18222833189e-05", 
        "jboundary [uM/ms] 0.0418222833189", 
        "jvol [mM/ms]  -4.31749176654e-05", 
        "jvol [uM/ms]  -43.1749176654", 
        "##", 
        "## WARNING: we are not updating CaTnC!!!", 
        "##", 
        "T 3030.000000 [ms] Conc(0) 0.000442 [mM]"
       ]
      }, 
      {
       "output_type": "stream", 
       "stream": "stdout", 
       "text": [
        "", 
        "T 3030.000000 [ms] Conc(0) 0.441643 [uM]", 
        "T 3030.000000 [ms] Conc(1) 0.032466 [mM]", 
        "T 3030.000000 [ms] Conc(1) 32.466334 [uM]", 
        "WARNING: skipping conc updatee", 
        "###########################################################################", 
        "t0  3030.0 tf  3040.0", 
        "ODE Init [mM] [ 0.00044166  0.03109095]", 
        "t0 3030.000000 tf 3040.000000 [ms]", 
        "ODE statesF: [mM] "
       ]
      }, 
      {
       "output_type": "stream", 
       "stream": "stdout", 
       "text": [
        " [ 0.00042799  0.03061053]", 
        "ODE statesF: [uM]  0.427990483243", 
        "ODE states Flux [mM/ms]:  [ -1.36714812e-06  -4.80418820e-05]", 
        "ODE states Flux [uM/ms]:  [-0.00136715 -0.04804188]", 
        "WARNING: jSR and dCa are lumped tother into jVold", 
        "WARNING: I probably need to constrain jvolExpr s.t. the assembled value is equal to the ODE value", 
        "jboundary [mM/ms] 3.71952755018e-05", 
        "jboundary [uM/ms] 0.0371952755018", 
        "jvol [mM/ms]  -3.85610544445e-05", 
        "jvol [uM/ms]  -38.5610544445", 
        "##", 
        "## WARNING: we are not updating CaTnC!!!", 
        "##", 
        "T 3040.000000 [ms] Conc(0) 0.000428 [mM]"
       ]
      }, 
      {
       "output_type": "stream", 
       "stream": "stdout", 
       "text": [
        "", 
        "T 3040.000000 [ms] Conc(0) 0.427985 [uM]", 
        "T 3040.000000 [ms] Conc(1) 0.032466 [mM]", 
        "T 3040.000000 [ms] Conc(1) 32.466334 [uM]", 
        "WARNING: skipping conc updatee", 
        "###########################################################################", 
        "t0  3040.0 tf  3050.0", 
        "ODE Init [mM] [ 0.00042799  0.03061053]", 
        "t0 3040.000000 tf 3050.000000 [ms]", 
        "ODE statesF: [mM] "
       ]
      }, 
      {
       "output_type": "stream", 
       "stream": "stdout", 
       "text": [
        " [ 0.00041391  0.03011536]", 
        "ODE statesF: [uM]  0.413912392657", 
        "ODE states Flux [mM/ms]:  [ -1.40780906e-06  -4.95169910e-05]", 
        "ODE states Flux [uM/ms]:  [-0.00140781 -0.04951699]", 
        "WARNING: jSR and dCa are lumped tother into jVold", 
        "WARNING: I probably need to constrain jvolExpr s.t. the assembled value is equal to the ODE value", 
        "jboundary [mM/ms] 3.16655104439e-05", 
        "jboundary [uM/ms] 0.0316655104439", 
        "jvol [mM/ms]  -3.30707998031e-05", 
        "jvol [uM/ms]  -33.0707998031", 
        "##", 
        "## WARNING: we are not updating CaTnC!!!", 
        "##", 
        "T 3050.000000 [ms] Conc(0) 0.000414 [mM]"
       ]
      }, 
      {
       "output_type": "stream", 
       "stream": "stdout", 
       "text": [
        "", 
        "T 3050.000000 [ms] Conc(0) 0.413932 [uM]", 
        "T 3050.000000 [ms] Conc(1) 0.032466 [mM]", 
        "T 3050.000000 [ms] Conc(1) 32.466334 [uM]", 
        "WARNING: skipping conc updatee", 
        "###########################################################################", 
        "t0  3050.0 tf  3060.0", 
        "ODE Init [mM] [ 0.00041391  0.03011536]", 
        "t0 3050.000000 tf 3060.000000 [ms]", 
        "ODE statesF: [mM] "
       ]
      }, 
      {
       "output_type": "stream", 
       "stream": "stdout", 
       "text": [
        " [ 0.00039935  0.02960047]", 
        "ODE statesF: [uM]  0.39935013351", 
        "ODE states Flux [mM/ms]:  [ -1.45622591e-06  -5.14892431e-05]", 
        "ODE states Flux [uM/ms]:  [-0.00145623 -0.05148924]", 
        "WARNING: jSR and dCa are lumped tother into jVold", 
        "WARNING: I probably need to constrain jvolExpr s.t. the assembled value is equal to the ODE value", 
        "jboundary [mM/ms] 2.50517822023e-05", 
        "jboundary [uM/ms] 0.0250517822023", 
        "jvol [mM/ms]  -2.65060104066e-05", 
        "jvol [uM/ms]  -26.5060104066", 
        "##", 
        "## WARNING: we are not updating CaTnC!!!", 
        "##", 
        "T 3060.000000 [ms] Conc(0) 0.000399 [mM]"
       ]
      }, 
      {
       "output_type": "stream", 
       "stream": "stdout", 
       "text": [
        "", 
        "T 3060.000000 [ms] Conc(0) 0.399390 [uM]", 
        "T 3060.000000 [ms] Conc(1) 0.032466 [mM]", 
        "T 3060.000000 [ms] Conc(1) 32.466334 [uM]", 
        "WARNING: skipping conc updatee", 
        "###########################################################################", 
        "t0  3060.0 tf  3070.0", 
        "ODE Init [mM] [ 0.00039935  0.02960047]", 
        "t0 3060.000000 tf 3070.000000 [ms]", 
        "ODE statesF: [mM] "
       ]
      }, 
      {
       "output_type": "stream", 
       "stream": "stdout", 
       "text": [
        " [ 0.00038438  0.02906256]", 
        "ODE statesF: [uM]  0.384378652567", 
        "ODE states Flux [mM/ms]:  [ -1.49714809e-06  -5.37909578e-05]", 
        "ODE states Flux [uM/ms]:  [-0.00149715 -0.05379096]", 
        "WARNING: jSR and dCa are lumped tother into jVold", 
        "WARNING: I probably need to constrain jvolExpr s.t. the assembled value is equal to the ODE value", 
        "jboundary [mM/ms] 1.77833041014e-05", 
        "jboundary [uM/ms] 0.0177833041014", 
        "jvol [mM/ms]  -1.92773022736e-05", 
        "jvol [uM/ms]  -19.2773022736", 
        "##", 
        "## WARNING: we are not updating CaTnC!!!", 
        "##", 
        "T 3070.000000 [ms] Conc(0) 0.000384 [mM]"
       ]
      }, 
      {
       "output_type": "stream", 
       "stream": "stdout", 
       "text": [
        "", 
        "T 3070.000000 [ms] Conc(0) 0.384450 [uM]", 
        "T 3070.000000 [ms] Conc(1) 0.032466 [mM]", 
        "T 3070.000000 [ms] Conc(1) 32.466334 [uM]", 
        "WARNING: skipping conc updatee", 
        "###########################################################################", 
        "t0  3070.0 tf  3080.0", 
        "ODE Init [mM] [ 0.00038438  0.02906256]", 
        "t0 3070.000000 tf 3080.000000 [ms]", 
        "ODE statesF: [mM] "
       ]
      }, 
      {
       "output_type": "stream", 
       "stream": "stdout", 
       "text": [
        " [ 0.00036864  0.02849623]", 
        "ODE statesF: [uM]  0.368636750374", 
        "ODE states Flux [mM/ms]:  [ -1.57419022e-06  -5.66332157e-05]", 
        "ODE states Flux [uM/ms]:  [-0.00157419 -0.05663322]", 
        "WARNING: jSR and dCa are lumped tother into jVold", 
        "WARNING: I probably need to constrain jvolExpr s.t. the assembled value is equal to the ODE value", 
        "jboundary [mM/ms] 9.32827858346e-06", 
        "jboundary [uM/ms] 0.00932827858346", 
        "jvol [mM/ms]  -1.09004528078e-05", 
        "jvol [uM/ms]  -10.9004528078", 
        "##", 
        "## WARNING: we are not updating CaTnC!!!", 
        "##", 
        "T 3080.000000 [ms] Conc(0) 0.000369 [mM]"
       ]
      }, 
      {
       "output_type": "stream", 
       "stream": "stdout", 
       "text": [
        "", 
        "T 3080.000000 [ms] Conc(0) 0.368728 [uM]", 
        "T 3080.000000 [ms] Conc(1) 0.032466 [mM]", 
        "T 3080.000000 [ms] Conc(1) 32.466334 [uM]", 
        "WARNING: skipping conc updatee", 
        "###########################################################################", 
        "t0  3080.0 tf  3090.0", 
        "ODE Init [mM] [ 0.00036864  0.02849623]", 
        "t0 3080.000000 tf 3090.000000 [ms]", 
        "ODE statesF: [mM] "
       ]
      }, 
      {
       "output_type": "stream", 
       "stream": "stdout", 
       "text": [
        " [ 0.00035385  0.02790384]", 
        "ODE statesF: [uM]  0.353850218214", 
        "ODE states Flux [mM/ms]:  [ -1.47865322e-06  -5.92390914e-05]", 
        "ODE states Flux [uM/ms]:  [-0.00147865 -0.05923909]", 
        "WARNING: jSR and dCa are lumped tother into jVold", 
        "WARNING: I probably need to constrain jvolExpr s.t. the assembled value is equal to the ODE value", 
        "jboundary [mM/ms] 1.51757036359e-06", 
        "jboundary [uM/ms] 0.00151757036359", 
        "jvol [mM/ms]  -3.00553586902e-06", 
        "jvol [uM/ms]  -3.00553586902", 
        "##", 
        "## WARNING: we are not updating CaTnC!!!", 
        "##", 
        "T 3090.000000 [ms] Conc(0) 0.000354 [mM]"
       ]
      }, 
      {
       "output_type": "stream", 
       "stream": "stdout", 
       "text": [
        "", 
        "T 3090.000000 [ms] Conc(0) 0.353848 [uM]", 
        "T 3090.000000 [ms] Conc(1) 0.032466 [mM]", 
        "T 3090.000000 [ms] Conc(1) 32.466334 [uM]", 
        "WARNING: skipping conc updatee", 
        "###########################################################################", 
        "t0  3090.0 tf  3100.0", 
        "ODE Init [mM] [ 0.00035385  0.02790384]", 
        "t0 3090.000000 tf 3100.000000 [ms]", 
        "ODE statesF: [mM] "
       ]
      }, 
      {
       "output_type": "stream", 
       "stream": "stdout", 
       "text": [
        " [ 0.00034062  0.02730557]", 
        "ODE statesF: [uM]  0.340622660912", 
        "ODE states Flux [mM/ms]:  [ -1.32275573e-06  -5.98266909e-05]", 
        "ODE states Flux [uM/ms]:  [-0.00132276 -0.05982669]", 
        "WARNING: jSR and dCa are lumped tother into jVold", 
        "WARNING: I probably need to constrain jvolExpr s.t. the assembled value is equal to the ODE value", 
        "jboundary [mM/ms] -2.18037624646e-06", 
        "jboundary [uM/ms] -0.00218037624646", 
        "jvol [mM/ms]  8.51435818211e-07", 
        "jvol [uM/ms]  0.851435818211", 
        "##", 
        "## WARNING: we are not updating CaTnC!!!", 
        "##", 
        "T 3100.000000 [ms] Conc(0) 0.000341 [mM]"
       ]
      }, 
      {
       "output_type": "stream", 
       "stream": "stdout", 
       "text": [
        "", 
        "T 3100.000000 [ms] Conc(0) 0.340559 [uM]", 
        "T 3100.000000 [ms] Conc(1) 0.032466 [mM]", 
        "T 3100.000000 [ms] Conc(1) 32.466334 [uM]", 
        "WARNING: skipping conc updatee", 
        "###########################################################################", 
        "t0  3100.0 tf  3110.0", 
        "ODE Init [mM] [ 0.00034062  0.02730557]", 
        "t0 3100.000000 tf 3110.000000 [ms]", 
        "ODE statesF: [mM] "
       ]
      }, 
      {
       "output_type": "stream", 
       "stream": "stdout", 
       "text": [
        " [ 0.00033757  0.02674706]", 
        "ODE statesF: [uM]  0.337568242259", 
        "ODE states Flux [mM/ms]:  [ -3.05441865e-07  -5.58515078e-05]", 
        "ODE states Flux [uM/ms]:  [-0.00030544 -0.05585151]", 
        "WARNING: jSR and dCa are lumped tother into jVold", 
        "WARNING: I probably need to constrain jvolExpr s.t. the assembled value is equal to the ODE value", 
        "jboundary [mM/ms] 3.2481926846e-06", 
        "jboundary [uM/ms] 0.0032481926846", 
        "jvol [mM/ms]  -3.67713370011e-06", 
        "jvol [uM/ms]  -3.67713370011", 
        "##", 
        "## WARNING: we are not updating CaTnC!!!", 
        "##", 
        "T 3110.000000 [ms] Conc(0) 0.000336 [mM]"
       ]
      }, 
      {
       "output_type": "stream", 
       "stream": "stdout", 
       "text": [
        "", 
        "T 3110.000000 [ms] Conc(0) 0.336270 [uM]", 
        "T 3110.000000 [ms] Conc(1) 0.032466 [mM]", 
        "T 3110.000000 [ms] Conc(1) 32.466334 [uM]", 
        "WARNING: skipping conc updatee", 
        "###########################################################################", 
        "t0  3110.0 tf  3120.0", 
        "ODE Init [mM] [ 0.00033757  0.02674706]", 
        "t0 3110.000000 tf 3120.000000 [ms]", 
        "ODE statesF: [mM] "
       ]
      }, 
      {
       "output_type": "stream", 
       "stream": "stdout", 
       "text": [
        " [ 0.00034523  0.02638743]", 
        "ODE statesF: [uM]  0.345233847378", 
        "ODE states Flux [mM/ms]:  [  7.66560512e-07  -3.59631741e-05]", 
        "ODE states Flux [uM/ms]:  [ 0.00076656 -0.03596317]", 
        "WARNING: jSR and dCa are lumped tother into jVold", 
        "WARNING: I probably need to constrain jvolExpr s.t. the assembled value is equal to the ODE value", 
        "jboundary [mM/ms] 4.10135505832e-05", 
        "jboundary [uM/ms] 0.0410135505832", 
        "jvol [mM/ms]  -4.02754677885e-05", 
        "jvol [uM/ms]  -40.2754677885", 
        "##", 
        "## WARNING: we are not updating CaTnC!!!", 
        "##", 
        "T 3120.000000 [ms] Conc(0) 0.000344 [mM]"
       ]
      }, 
      {
       "output_type": "stream", 
       "stream": "stdout", 
       "text": [
        "", 
        "T 3120.000000 [ms] Conc(0) 0.343650 [uM]", 
        "T 3120.000000 [ms] Conc(1) 0.032466 [mM]", 
        "T 3120.000000 [ms] Conc(1) 32.466334 [uM]", 
        "WARNING: skipping conc updatee", 
        "###########################################################################", 
        "t0  3120.0 tf  3130.0", 
        "ODE Init [mM] [ 0.00034523  0.02638743]", 
        "t0 3120.000000 tf 3130.000000 [ms]", 
        "ODE statesF: [mM] "
       ]
      }, 
      {
       "output_type": "stream", 
       "stream": "stdout", 
       "text": [
        " [ 0.00036372  0.02627604]", 
        "ODE statesF: [uM]  0.363718665499", 
        "ODE states Flux [mM/ms]:  [  1.84848181e-06  -1.11381663e-05]", 
        "ODE states Flux [uM/ms]:  [ 0.00184848 -0.01113817]", 
        "WARNING: jSR and dCa are lumped tother into jVold", 
        "WARNING: I probably need to constrain jvolExpr s.t. the assembled value is equal to the ODE value", 
        "jboundary [mM/ms] 8.42100255523e-05", 
        "jboundary [uM/ms] 0.0842100255523", 
        "jvol [mM/ms]  -8.2444620498e-05", 
        "jvol [uM/ms]  -82.444620498", 
        "##", 
        "## WARNING: we are not updating CaTnC!!!", 
        "##", 
        "T 3130.000000 [ms] Conc(0) 0.000361 [mM]"
       ]
      }, 
      {
       "output_type": "stream", 
       "stream": "stdout", 
       "text": [
        "", 
        "T 3130.000000 [ms] Conc(0) 0.361304 [uM]", 
        "T 3130.000000 [ms] Conc(1) 0.032466 [mM]", 
        "T 3130.000000 [ms] Conc(1) 32.466334 [uM]", 
        "WARNING: skipping conc updatee", 
        "###########################################################################", 
        "t0  3130.0 tf  3140.0", 
        "ODE Init [mM] [ 0.00036372  0.02627604]", 
        "t0 3130.000000 tf 3140.000000 [ms]", 
        "ODE statesF: [mM] "
       ]
      }, 
      {
       "output_type": "stream", 
       "stream": "stdout", 
       "text": [
        " [ 0.00040797  0.02656753]", 
        "ODE statesF: [uM]  0.407970856609", 
        "ODE states Flux [mM/ms]:  [  4.42521911e-06   2.91489044e-05]", 
        "ODE states Flux [uM/ms]:  [ 0.00442522  0.0291489 ]", 
        "WARNING: jSR and dCa are lumped tother into jVold", 
        "WARNING: I probably need to constrain jvolExpr s.t. the assembled value is equal to the ODE value", 
        "jboundary [mM/ms] 0.000158923197154", 
        "jboundary [uM/ms] 0.158923197154", 
        "jvol [mM/ms]  -0.000154671854006", 
        "jvol [uM/ms]  -154.671854006", 
        "##", 
        "## WARNING: we are not updating CaTnC!!!", 
        "##", 
        "T 3140.000000 [ms] Conc(0) 0.000404 [mM]"
       ]
      }, 
      {
       "output_type": "stream", 
       "stream": "stdout", 
       "text": [
        "", 
        "T 3140.000000 [ms] Conc(0) 0.403818 [uM]", 
        "T 3140.000000 [ms] Conc(1) 0.032466 [mM]", 
        "T 3140.000000 [ms] Conc(1) 32.466334 [uM]", 
        "WARNING: skipping conc updatee", 
        "###########################################################################", 
        "t0  3140.0 tf  3150.0", 
        "ODE Init [mM] [ 0.00040797  0.02656753]", 
        "t0 3140.000000 tf 3150.000000 [ms]", 
        "ODE statesF: [mM] "
       ]
      }, 
      {
       "output_type": "stream", 
       "stream": "stdout", 
       "text": [
        " [ 0.00048554  0.02753519]", 
        "ODE statesF: [uM]  0.485539087174", 
        "ODE states Flux [mM/ms]:  [  7.75682306e-06   9.67655506e-05]", 
        "ODE states Flux [uM/ms]:  [ 0.00775682  0.09676555]", 
        "WARNING: jSR and dCa are lumped tother into jVold", 
        "WARNING: I probably need to constrain jvolExpr s.t. the assembled value is equal to the ODE value", 
        "jboundary [mM/ms] 0.0002859875524", 
        "jboundary [uM/ms] 0.2859875524", 
        "jvol [mM/ms]  -0.000278334609965", 
        "jvol [uM/ms]  -278.334609965", 
        "##", 
        "## WARNING: we are not updating CaTnC!!!", 
        "##", 
        "T 3150.000000 [ms] Conc(0) 0.000480 [mM]"
       ]
      }, 
      {
       "output_type": "stream", 
       "stream": "stdout", 
       "text": [
        "", 
        "T 3150.000000 [ms] Conc(0) 0.480347 [uM]", 
        "T 3150.000000 [ms] Conc(1) 0.032466 [mM]", 
        "T 3150.000000 [ms] Conc(1) 32.466334 [uM]", 
        "WARNING: skipping conc updatee", 
        "###########################################################################", 
        "t0  3150.0 tf  3160.0", 
        "ODE Init [mM] [ 0.00048554  0.02753519]", 
        "t0 3150.000000 tf 3160.000000 [ms]", 
        "ODE statesF: [mM] "
       ]
      }, 
      {
       "output_type": "stream", 
       "stream": "stdout", 
       "text": [
        " [ 0.00055672  0.02912519]", 
        "ODE statesF: [uM]  0.556720098971", 
        "ODE states Flux [mM/ms]:  [  7.11810118e-06   1.59000490e-04]", 
        "ODE states Flux [uM/ms]:  [ 0.0071181   0.15900049]", 
        "WARNING: jSR and dCa are lumped tother into jVold", 
        "WARNING: I probably need to constrain jvolExpr s.t. the assembled value is equal to the ODE value", 
        "jboundary [mM/ms] 0.000389104681039", 
        "jboundary [uM/ms] 0.389104681039", 
        "jvol [mM/ms]  -0.00038184916937", 
        "jvol [uM/ms]  -381.84916937", 
        "##", 
        "## WARNING: we are not updating CaTnC!!!", 
        "##", 
        "T 3160.000000 [ms] Conc(0) 0.000553 [mM]"
       ]
      }, 
      {
       "output_type": "stream", 
       "stream": "stdout", 
       "text": [
        "", 
        "T 3160.000000 [ms] Conc(0) 0.552902 [uM]", 
        "T 3160.000000 [ms] Conc(1) 0.032466 [mM]", 
        "T 3160.000000 [ms] Conc(1) 32.466334 [uM]", 
        "WARNING: skipping conc updatee", 
        "###########################################################################", 
        "t0  3160.0 tf  3170.0", 
        "ODE Init [mM] [ 0.00055672  0.02912519]", 
        "t0 3160.000000 tf 3170.000000 [ms]", 
        "ODE statesF: [mM] "
       ]
      }, 
      {
       "output_type": "stream", 
       "stream": "stdout", 
       "text": [
        " [ 0.00059638  0.03082203]", 
        "ODE statesF: [uM]  0.596379952786", 
        "ODE states Flux [mM/ms]:  [  3.96598538e-06   1.69683447e-04]", 
        "ODE states Flux [uM/ms]:  [ 0.00396599  0.16968345]", 
        "WARNING: jSR and dCa are lumped tother into jVold", 
        "WARNING: I probably need to constrain jvolExpr s.t. the assembled value is equal to the ODE value", 
        "jboundary [mM/ms] 0.000387685760423", 
        "jboundary [uM/ms] 0.387685760423", 
        "jvol [mM/ms]  -0.000383573844013", 
        "jvol [uM/ms]  -383.573844013", 
        "##", 
        "## WARNING: we are not updating CaTnC!!!", 
        "##", 
        "T 3170.000000 [ms] Conc(0) 0.000594 [mM]"
       ]
      }, 
      {
       "output_type": "stream", 
       "stream": "stdout", 
       "text": [
        "", 
        "T 3170.000000 [ms] Conc(0) 0.594022 [uM]", 
        "T 3170.000000 [ms] Conc(1) 0.032466 [mM]", 
        "T 3170.000000 [ms] Conc(1) 32.466334 [uM]", 
        "WARNING: skipping conc updatee", 
        "###########################################################################", 
        "t0  3170.0 tf  3180.0", 
        "ODE Init [mM] [ 0.00059638  0.03082203]", 
        "t0 3170.000000 tf 3180.000000 [ms]", 
        "ODE statesF: [mM] "
       ]
      }, 
      {
       "output_type": "stream", 
       "stream": "stdout", 
       "text": [
        " [ 0.00061341  0.03225363]", 
        "ODE statesF: [uM]  0.61340568737", 
        "ODE states Flux [mM/ms]:  [  1.70257346e-06   1.43159937e-04]", 
        "ODE states Flux [uM/ms]:  [ 0.00170257  0.14315994]", 
        "WARNING: jSR and dCa are lumped tother into jVold", 
        "WARNING: I probably need to constrain jvolExpr s.t. the assembled value is equal to the ODE value", 
        "jboundary [mM/ms] 0.000331392900217", 
        "jboundary [uM/ms] 0.331392900217", 
        "jvol [mM/ms]  -0.000329605721674", 
        "jvol [uM/ms]  -329.605721674", 
        "##", 
        "## WARNING: we are not updating CaTnC!!!", 
        "##", 
        "T 3180.000000 [ms] Conc(0) 0.000612 [mM]"
       ]
      }, 
      {
       "output_type": "stream", 
       "stream": "stdout", 
       "text": [
        "", 
        "T 3180.000000 [ms] Conc(0) 0.611893 [uM]", 
        "T 3180.000000 [ms] Conc(1) 0.032466 [mM]", 
        "T 3180.000000 [ms] Conc(1) 32.466334 [uM]", 
        "WARNING: skipping conc updatee", 
        "###########################################################################", 
        "t0  3180.0 tf  3190.0", 
        "ODE Init [mM] [ 0.00061341  0.03225363]", 
        "t0 3180.000000 tf 3190.000000 [ms]", 
        "ODE statesF: [mM] "
       ]
      }, 
      {
       "output_type": "stream", 
       "stream": "stdout", 
       "text": [
        " [ 0.00061778  0.03331622]", 
        "ODE statesF: [uM]  0.617782783779", 
        "ODE states Flux [mM/ms]:  [  4.37709641e-07   1.06259086e-04]", 
        "ODE states Flux [uM/ms]:  [ 0.00043771  0.10625909]", 
        "WARNING: jSR and dCa are lumped tother into jVold", 
        "WARNING: I probably need to constrain jvolExpr s.t. the assembled value is equal to the ODE value", 
        "jboundary [mM/ms] 0.00027038750589", 
        "jboundary [uM/ms] 0.27038750589", 
        "jvol [mM/ms]  -0.000269902489747", 
        "jvol [uM/ms]  -269.902489747", 
        "##", 
        "## WARNING: we are not updating CaTnC!!!", 
        "##", 
        "T 3190.000000 [ms] Conc(0) 0.000617 [mM]"
       ]
      }, 
      {
       "output_type": "stream", 
       "stream": "stdout", 
       "text": [
        "", 
        "T 3190.000000 [ms] Conc(0) 0.616744 [uM]", 
        "T 3190.000000 [ms] Conc(1) 0.032466 [mM]", 
        "T 3190.000000 [ms] Conc(1) 32.466334 [uM]", 
        "WARNING: skipping conc updatee", 
        "###########################################################################", 
        "t0  3190.0 tf  3200.0", 
        "ODE Init [mM] [ 0.00061778  0.03331622]", 
        "t0 3190.000000 tf 3200.000000 [ms]", 
        "ODE statesF: [mM] "
       ]
      }, 
      {
       "output_type": "stream", 
       "stream": "stdout", 
       "text": [
        " [ 0.00061484  0.03403204]", 
        "ODE statesF: [uM]  0.614842636273", 
        "ODE states Flux [mM/ms]:  [ -2.94014751e-07   7.15825298e-05]", 
        "ODE states Flux [uM/ms]:  [-0.00029401  0.07158253]", 
        "WARNING: jSR and dCa are lumped tother into jVold", 
        "WARNING: I probably need to constrain jvolExpr s.t. the assembled value is equal to the ODE value", 
        "jboundary [mM/ms] 0.000219373597605", 
        "jboundary [uM/ms] 0.219373597605", 
        "jvol [mM/ms]  -0.000219639056074", 
        "jvol [uM/ms]  -219.639056074", 
        "##", 
        "## WARNING: we are not updating CaTnC!!!", 
        "##", 
        "T 3200.000000 [ms] Conc(0) 0.000614 [mM]"
       ]
      }, 
      {
       "output_type": "stream", 
       "stream": "stdout", 
       "text": [
        "", 
        "T 3200.000000 [ms] Conc(0) 0.614089 [uM]", 
        "T 3200.000000 [ms] Conc(1) 0.032466 [mM]", 
        "T 3200.000000 [ms] Conc(1) 32.466334 [uM]", 
        "WARNING: skipping conc updatee", 
        "###########################################################################", 
        "t0  3200.0 tf  3210.0", 
        "ODE Init [mM] [ 0.00061484  0.03403204]", 
        "t0 3200.000000 tf 3210.000000 [ms]", 
        "ODE statesF: [mM] "
       ]
      }, 
      {
       "output_type": "stream", 
       "stream": "stdout", 
       "text": [
        " [ 0.00060733  0.03445962]", 
        "ODE statesF: [uM]  0.60733203118", 
        "ODE states Flux [mM/ms]:  [ -7.51060509e-07   4.27572532e-05]", 
        "ODE states Flux [uM/ms]:  [-0.00075106  0.04275725]", 
        "WARNING: jSR and dCa are lumped tother into jVold", 
        "WARNING: I probably need to constrain jvolExpr s.t. the assembled value is equal to the ODE value", 
        "jboundary [mM/ms] 0.000179407781886", 
        "jboundary [uM/ms] 0.179407781886", 
        "jvol [mM/ms]  -0.000180140445941", 
        "jvol [uM/ms]  -180.140445941", 
        "##", 
        "## WARNING: we are not updating CaTnC!!!", 
        "##", 
        "T 3210.000000 [ms] Conc(0) 0.000607 [mM]"
       ]
      }, 
      {
       "output_type": "stream", 
       "stream": "stdout", 
       "text": [
        "", 
        "T 3210.000000 [ms] Conc(0) 0.606762 [uM]", 
        "T 3210.000000 [ms] Conc(1) 0.032466 [mM]", 
        "T 3210.000000 [ms] Conc(1) 32.466334 [uM]", 
        "WARNING: skipping conc updatee", 
        "###########################################################################", 
        "t0  3210.0 tf  3220.0", 
        "ODE Init [mM] [ 0.00060733  0.03445962]", 
        "t0 3210.000000 tf 3220.000000 [ms]", 
        "ODE statesF: [mM] "
       ]
      }, 
      {
       "output_type": "stream", 
       "stream": "stdout", 
       "text": [
        " [ 0.00059683  0.03465935]", 
        "ODE statesF: [uM]  0.596833513078", 
        "ODE states Flux [mM/ms]:  [ -1.04985181e-06   1.99736094e-05]", 
        "ODE states Flux [uM/ms]:  [-0.00104985  0.01997361]", 
        "WARNING: jSR and dCa are lumped tother into jVold", 
        "WARNING: I probably need to constrain jvolExpr s.t. the assembled value is equal to the ODE value", 
        "jboundary [mM/ms] 0.000148587927416", 
        "jboundary [uM/ms] 0.148587927416", 
        "jvol [mM/ms]  -0.000149625653691", 
        "jvol [uM/ms]  -149.625653691", 
        "##", 
        "## WARNING: we are not updating CaTnC!!!", 
        "##", 
        "T 3220.000000 [ms] Conc(0) 0.000596 [mM]"
       ]
      }, 
      {
       "output_type": "stream", 
       "stream": "stdout", 
       "text": [
        "", 
        "T 3220.000000 [ms] Conc(0) 0.596385 [uM]", 
        "T 3220.000000 [ms] Conc(1) 0.032466 [mM]", 
        "T 3220.000000 [ms] Conc(1) 32.466334 [uM]", 
        "WARNING: skipping conc updatee", 
        "###########################################################################", 
        "t0  3220.0 tf  3230.0", 
        "ODE Init [mM] [ 0.00059683  0.03465935]", 
        "t0 3220.000000 tf 3230.000000 [ms]", 
        "ODE statesF: [mM] "
       ]
      }, 
      {
       "output_type": "stream", 
       "stream": "stdout", 
       "text": [
        " [ 0.00058438  0.03468327]", 
        "ODE statesF: [uM]  0.584377373841", 
        "ODE states Flux [mM/ms]:  [ -1.24561392e-06   2.39201353e-06]", 
        "ODE states Flux [uM/ms]:  [-0.00124561  0.00239201]", 
        "WARNING: jSR and dCa are lumped tother into jVold", 
        "WARNING: I probably need to constrain jvolExpr s.t. the assembled value is equal to the ODE value", 
        "jboundary [mM/ms] 0.000124856057668", 
        "jboundary [uM/ms] 0.124856057668", 
        "jvol [mM/ms]  -0.000126093834261", 
        "jvol [uM/ms]  -126.093834261", 
        "##", 
        "## WARNING: we are not updating CaTnC!!!", 
        "##", 
        "T 3230.000000 [ms] Conc(0) 0.000584 [mM]"
       ]
      }, 
      {
       "output_type": "stream", 
       "stream": "stdout", 
       "text": [
        "", 
        "T 3230.000000 [ms] Conc(0) 0.584007 [uM]", 
        "T 3230.000000 [ms] Conc(1) 0.032466 [mM]", 
        "T 3230.000000 [ms] Conc(1) 32.466334 [uM]", 
        "WARNING: skipping conc updatee", 
        "###########################################################################", 
        "t0  3230.0 tf  3240.0", 
        "ODE Init [mM] [ 0.00058438  0.03468327]", 
        "t0 3230.000000 tf 3240.000000 [ms]", 
        "ODE statesF: [mM] "
       ]
      }, 
      {
       "output_type": "stream", 
       "stream": "stdout", 
       "text": [
        " [ 0.00057069  0.03457333]", 
        "ODE statesF: [uM]  0.57068839154", 
        "ODE states Flux [mM/ms]:  [ -1.36889823e-06  -1.09938866e-05]", 
        "ODE states Flux [uM/ms]:  [-0.0013689  -0.01099389]", 
        "WARNING: jSR and dCa are lumped tother into jVold", 
        "WARNING: I probably need to constrain jvolExpr s.t. the assembled value is equal to the ODE value", 
        "jboundary [mM/ms] 0.00010652446323", 
        "jboundary [uM/ms] 0.10652446323", 
        "jvol [mM/ms]  -0.000107888607195", 
        "jvol [uM/ms]  -107.888607195", 
        "##", 
        "## WARNING: we are not updating CaTnC!!!", 
        "##", 
        "T 3240.000000 [ms] Conc(0) 0.000570 [mM]"
       ]
      }, 
      {
       "output_type": "stream", 
       "stream": "stdout", 
       "text": [
        "", 
        "T 3240.000000 [ms] Conc(0) 0.570366 [uM]", 
        "T 3240.000000 [ms] Conc(1) 0.032466 [mM]", 
        "T 3240.000000 [ms] Conc(1) 32.466334 [uM]", 
        "WARNING: skipping conc updatee", 
        "###########################################################################", 
        "t0  3240.0 tf  3250.0", 
        "ODE Init [mM] [ 0.00057069  0.03457333]", 
        "t0 3240.000000 tf 3250.000000 [ms]", 
        "ODE statesF: [mM] "
       ]
      }, 
      {
       "output_type": "stream", 
       "stream": "stdout", 
       "text": [
        " [ 0.00055629  0.03436246]", 
        "ODE statesF: [uM]  0.556291837767", 
        "ODE states Flux [mM/ms]:  [ -1.43965538e-06  -2.10876773e-05]", 
        "ODE states Flux [uM/ms]:  [-0.00143966 -0.02108768]", 
        "WARNING: jSR and dCa are lumped tother into jVold", 
        "WARNING: I probably need to constrain jvolExpr s.t. the assembled value is equal to the ODE value", 
        "jboundary [mM/ms] 9.22868751875e-05", 
        "jboundary [uM/ms] 0.0922868751875", 
        "jvol [mM/ms]  -9.37240160599e-05", 
        "jvol [uM/ms]  -93.7240160599", 
        "##", 
        "## WARNING: we are not updating CaTnC!!!", 
        "##", 
        "T 3250.000000 [ms] Conc(0) 0.000556 [mM]"
       ]
      }, 
      {
       "output_type": "stream", 
       "stream": "stdout", 
       "text": [
        "", 
        "T 3250.000000 [ms] Conc(0) 0.555994 [uM]", 
        "T 3250.000000 [ms] Conc(1) 0.032466 [mM]", 
        "T 3250.000000 [ms] Conc(1) 32.466334 [uM]", 
        "WARNING: skipping conc updatee", 
        "###########################################################################", 
        "t0  3250.0 tf  3260.0", 
        "ODE Init [mM] [ 0.00055629  0.03436246]", 
        "t0 3250.000000 tf 3260.000000 [ms]", 
        "ODE statesF: [mM] "
       ]
      }, 
      {
       "output_type": "stream", 
       "stream": "stdout", 
       "text": [
        " [ 0.00054157  0.03407614]", 
        "ODE statesF: [uM]  0.54156735296", 
        "ODE states Flux [mM/ms]:  [ -1.47244848e-06  -2.86314970e-05]", 
        "ODE states Flux [uM/ms]:  [-0.00147245 -0.0286315 ]", 
        "WARNING: jSR and dCa are lumped tother into jVold", 
        "WARNING: I probably need to constrain jvolExpr s.t. the assembled value is equal to the ODE value", 
        "jboundary [mM/ms] 8.11428577452e-05", 
        "jboundary [uM/ms] 0.0811428577452", 
        "jvol [mM/ms]  -8.26143958424e-05", 
        "jvol [uM/ms]  -82.6143958424", 
        "##", 
        "## WARNING: we are not updating CaTnC!!!", 
        "##", 
        "T 3260.000000 [ms] Conc(0) 0.000541 [mM]"
       ]
      }, 
      {
       "output_type": "stream", 
       "stream": "stdout", 
       "text": [
        "", 
        "T 3260.000000 [ms] Conc(0) 0.541279 [uM]", 
        "T 3260.000000 [ms] Conc(1) 0.032466 [mM]", 
        "T 3260.000000 [ms] Conc(1) 32.466334 [uM]", 
        "WARNING: skipping conc updatee", 
        "###########################################################################", 
        "t0  3260.0 tf  3270.0", 
        "ODE Init [mM] [ 0.00054157  0.03407614]", 
        "t0 3260.000000 tf 3270.000000 [ms]", 
        "ODE statesF: [mM] "
       ]
      }, 
      {
       "output_type": "stream", 
       "stream": "stdout", 
       "text": [
        " [ 0.00052678  0.03373399]", 
        "ODE statesF: [uM]  0.52678244189", 
        "ODE states Flux [mM/ms]:  [ -1.47849111e-06  -3.42154341e-05]", 
        "ODE states Flux [uM/ms]:  [-0.00147849 -0.03421543]", 
        "WARNING: jSR and dCa are lumped tother into jVold", 
        "WARNING: I probably need to constrain jvolExpr s.t. the assembled value is equal to the ODE value", 
        "jboundary [mM/ms] 7.23243426638e-05", 
        "jboundary [uM/ms] 0.0723243426638", 
        "jvol [mM/ms]  -7.38030302432e-05", 
        "jvol [uM/ms]  -73.8030302432", 
        "##", 
        "## WARNING: we are not updating CaTnC!!!", 
        "##", 
        "T 3270.000000 [ms] Conc(0) 0.000526 [mM]"
       ]
      }, 
      {
       "output_type": "stream", 
       "stream": "stdout", 
       "text": [
        "", 
        "T 3270.000000 [ms] Conc(0) 0.526492 [uM]", 
        "T 3270.000000 [ms] Conc(1) 0.032466 [mM]", 
        "T 3270.000000 [ms] Conc(1) 32.466334 [uM]", 
        "WARNING: skipping conc updatee", 
        "###########################################################################", 
        "t0  3270.0 tf  3280.0", 
        "ODE Init [mM] [ 0.00052678  0.03373399]", 
        "t0 3270.000000 tf 3280.000000 [ms]", 
        "ODE statesF: [mM] "
       ]
      }, 
      {
       "output_type": "stream", 
       "stream": "stdout", 
       "text": [
        " [ 0.00051212  0.03335095]", 
        "ODE statesF: [uM]  0.512116199109", 
        "ODE states Flux [mM/ms]:  [ -1.46662428e-06  -3.83042194e-05]", 
        "ODE states Flux [uM/ms]:  [-0.00146662 -0.03830422]", 
        "WARNING: jSR and dCa are lumped tother into jVold", 
        "WARNING: I probably need to constrain jvolExpr s.t. the assembled value is equal to the ODE value", 
        "jboundary [mM/ms] 6.52366114575e-05", 
        "jboundary [uM/ms] 0.0652366114575", 
        "jvol [mM/ms]  -6.67041433661e-05", 
        "jvol [uM/ms]  -66.7041433661", 
        "##", 
        "## WARNING: we are not updating CaTnC!!!", 
        "##", 
        "T 3280.000000 [ms] Conc(0) 0.000512 [mM]"
       ]
      }, 
      {
       "output_type": "stream", 
       "stream": "stdout", 
       "text": [
        "", 
        "T 3280.000000 [ms] Conc(0) 0.511817 [uM]", 
        "T 3280.000000 [ms] Conc(1) 0.032466 [mM]", 
        "T 3280.000000 [ms] Conc(1) 32.466334 [uM]", 
        "WARNING: skipping conc updatee", 
        "###########################################################################", 
        "t0  3280.0 tf  3290.0", 
        "ODE Init [mM] [ 0.00051212  0.03335095]", 
        "t0 3280.000000 tf 3290.000000 [ms]", 
        "ODE statesF: [mM] "
       ]
      }, 
      {
       "output_type": "stream", 
       "stream": "stdout", 
       "text": [
        " [ 0.00049768  0.03293829]", 
        "ODE statesF: [uM]  0.49767636952", 
        "ODE states Flux [mM/ms]:  [ -1.44398296e-06  -4.12656641e-05]", 
        "ODE states Flux [uM/ms]:  [-0.00144398 -0.04126566]", 
        "WARNING: jSR and dCa are lumped tother into jVold", 
        "WARNING: I probably need to constrain jvolExpr s.t. the assembled value is equal to the ODE value", 
        "jboundary [mM/ms] 5.94115109396e-05", 
        "jboundary [uM/ms] 0.0594115109396", 
        "jvol [mM/ms]  -6.0856787855e-05", 
        "jvol [uM/ms]  -60.856787855", 
        "##", 
        "## WARNING: we are not updating CaTnC!!!", 
        "##", 
        "T 3290.000000 [ms] Conc(0) 0.000497 [mM]"
       ]
      }, 
      {
       "output_type": "stream", 
       "stream": "stdout", 
       "text": [
        "", 
        "T 3290.000000 [ms] Conc(0) 0.497364 [uM]", 
        "T 3290.000000 [ms] Conc(1) 0.032466 [mM]", 
        "T 3290.000000 [ms] Conc(1) 32.466334 [uM]", 
        "WARNING: skipping conc updatee", 
        "###########################################################################", 
        "t0  3290.0 tf  3300.0", 
        "ODE Init [mM] [ 0.00049768  0.03293829]", 
        "t0 3290.000000 tf 3300.000000 [ms]", 
        "ODE statesF: [mM] "
       ]
      }, 
      {
       "output_type": "stream", 
       "stream": "stdout", 
       "text": [
        " [ 0.00048351  0.03250433]", 
        "ODE statesF: [uM]  0.48351043822", 
        "ODE states Flux [mM/ms]:  [ -1.41659313e-06  -4.33963294e-05]", 
        "ODE states Flux [uM/ms]:  [-0.00141659 -0.04339633]", 
        "WARNING: jSR and dCa are lumped tother into jVold", 
        "WARNING: I probably need to constrain jvolExpr s.t. the assembled value is equal to the ODE value", 
        "jboundary [mM/ms] 5.44688413697e-05", 
        "jboundary [uM/ms] 0.0544688413697", 
        "jvol [mM/ms]  -5.58868305638e-05", 
        "jvol [uM/ms]  -55.8868305638", 
        "##", 
        "## WARNING: we are not updating CaTnC!!!", 
        "##", 
        "T 3300.000000 [ms] Conc(0) 0.000483 [mM]"
       ]
      }, 
      {
       "output_type": "stream", 
       "stream": "stdout", 
       "text": [
        "", 
        "T 3300.000000 [ms] Conc(0) 0.483184 [uM]", 
        "T 3300.000000 [ms] Conc(1) 0.032466 [mM]", 
        "T 3300.000000 [ms] Conc(1) 32.466334 [uM]", 
        "WARNING: skipping conc updatee", 
        "###########################################################################", 
        "t0  3300.0 tf  3310.0", 
        "ODE Init [mM] [ 0.00048351  0.03250433]", 
        "t0 3300.000000 tf 3310.000000 [ms]", 
        "ODE statesF: [mM] "
       ]
      }, 
      {
       "output_type": "stream", 
       "stream": "stdout", 
       "text": [
        " [ 0.00046961  0.03205488]", 
        "ODE statesF: [uM]  0.469610312573", 
        "ODE states Flux [mM/ms]:  [ -1.39001256e-06  -4.49445368e-05]", 
        "ODE states Flux [uM/ms]:  [-0.00139001 -0.04494454]", 
        "WARNING: jSR and dCa are lumped tother into jVold", 
        "WARNING: I probably need to constrain jvolExpr s.t. the assembled value is equal to the ODE value", 
        "jboundary [mM/ms] 5.008168613e-05", 
        "jboundary [uM/ms] 0.05008168613", 
        "jvol [mM/ms]  -5.14729186755e-05", 
        "jvol [uM/ms]  -51.4729186755", 
        "##", 
        "## WARNING: we are not updating CaTnC!!!", 
        "##", 
        "T 3310.000000 [ms] Conc(0) 0.000469 [mM]"
       ]
      }, 
      {
       "output_type": "stream", 
       "stream": "stdout", 
       "text": [
        "", 
        "T 3310.000000 [ms] Conc(0) 0.469272 [uM]", 
        "T 3310.000000 [ms] Conc(1) 0.032466 [mM]", 
        "T 3310.000000 [ms] Conc(1) 32.466334 [uM]", 
        "WARNING: skipping conc updatee", 
        "###########################################################################", 
        "t0  3310.0 tf  3320.0", 
        "ODE Init [mM] [ 0.00046961  0.03205488]", 
        "t0 3310.000000 tf 3320.000000 [ms]", 
        "ODE statesF: [mM] "
       ]
      }, 
      {
       "output_type": "stream", 
       "stream": "stdout", 
       "text": [
        " [ 0.00045591  0.03159355]", 
        "ODE statesF: [uM]  0.455909138864", 
        "ODE states Flux [mM/ms]:  [ -1.37011737e-06  -4.61328246e-05]", 
        "ODE states Flux [uM/ms]:  [-0.00137012 -0.04613282]", 
        "WARNING: jSR and dCa are lumped tother into jVold", 
        "WARNING: I probably need to constrain jvolExpr s.t. the assembled value is equal to the ODE value", 
        "jboundary [mM/ms] 4.59408298677e-05", 
        "jboundary [uM/ms] 0.0459408298677", 
        "jvol [mM/ms]  -4.73116747531e-05", 
        "jvol [uM/ms]  -47.3116747531", 
        "##", 
        "## WARNING: we are not updating CaTnC!!!", 
        "##", 
        "T 3320.000000 [ms] Conc(0) 0.000456 [mM]"
       ]
      }, 
      {
       "output_type": "stream", 
       "stream": "stdout", 
       "text": [
        "", 
        "T 3320.000000 [ms] Conc(0) 0.455563 [uM]", 
        "T 3320.000000 [ms] Conc(1) 0.032466 [mM]", 
        "T 3320.000000 [ms] Conc(1) 32.466334 [uM]", 
        "WARNING: skipping conc updatee", 
        "###########################################################################", 
        "t0  3320.0 tf  3330.0", 
        "ODE Init [mM] [ 0.00045591  0.03159355]", 
        "t0 3320.000000 tf 3330.000000 [ms]", 
        "ODE statesF: [mM] "
       ]
      }, 
      {
       "output_type": "stream", 
       "stream": "stdout", 
       "text": [
        " [ 0.00044227  0.03112173]", 
        "ODE statesF: [uM]  0.442268675802", 
        "ODE states Flux [mM/ms]:  [ -1.36404631e-06  -4.71826095e-05]", 
        "ODE states Flux [uM/ms]:  [-0.00136405 -0.04718261]", 
        "WARNING: jSR and dCa are lumped tother into jVold", 
        "WARNING: I probably need to constrain jvolExpr s.t. the assembled value is equal to the ODE value", 
        "jboundary [mM/ms] 4.17129328402e-05", 
        "jboundary [uM/ms] 0.0417129328402", 
        "jvol [mM/ms]  -4.30768142725e-05", 
        "jvol [uM/ms]  -43.0768142725", 
        "##", 
        "## WARNING: we are not updating CaTnC!!!", 
        "##", 
        "T 3330.000000 [ms] Conc(0) 0.000442 [mM]"
       ]
      }, 
      {
       "output_type": "stream", 
       "stream": "stdout", 
       "text": [
        "", 
        "T 3330.000000 [ms] Conc(0) 0.441925 [uM]", 
        "T 3330.000000 [ms] Conc(1) 0.032466 [mM]", 
        "T 3330.000000 [ms] Conc(1) 32.466334 [uM]", 
        "WARNING: skipping conc updatee", 
        "###########################################################################", 
        "t0  3330.0 tf  3340.0", 
        "ODE Init [mM] [ 0.00044227  0.03112173]", 
        "t0 3330.000000 tf 3340.000000 [ms]", 
        "ODE statesF: [mM] "
       ]
      }, 
      {
       "output_type": "stream", 
       "stream": "stdout", 
       "text": [
        " [ 0.00042847  0.03063833]", 
        "ODE statesF: [uM]  0.428465057386", 
        "ODE states Flux [mM/ms]:  [ -1.38036184e-06  -4.83399037e-05]", 
        "ODE states Flux [uM/ms]:  [-0.00138036 -0.0483399 ]", 
        "WARNING: jSR and dCa are lumped tother into jVold", 
        "WARNING: I probably need to constrain jvolExpr s.t. the assembled value is equal to the ODE value", 
        "jboundary [mM/ms] 3.69962696955e-05", 
        "jboundary [uM/ms] 0.0369962696955", 
        "jvol [mM/ms]  -3.83751558793e-05", 
        "jvol [uM/ms]  -38.3751558793", 
        "##", 
        "## WARNING: we are not updating CaTnC!!!", 
        "##", 
        "T 3340.000000 [ms] Conc(0) 0.000428 [mM]"
       ]
      }, 
      {
       "output_type": "stream", 
       "stream": "stdout", 
       "text": [
        "", 
        "T 3340.000000 [ms] Conc(0) 0.428136 [uM]", 
        "T 3340.000000 [ms] Conc(1) 0.032466 [mM]", 
        "T 3340.000000 [ms] Conc(1) 32.466334 [uM]", 
        "WARNING: skipping conc updatee", 
        "###########################################################################", 
        "t0  3340.0 tf  3350.0", 
        "ODE Init [mM] [ 0.00042847  0.03063833]", 
        "t0 3340.000000 tf 3350.000000 [ms]", 
        "ODE statesF: [mM] "
       ]
      }, 
      {
       "output_type": "stream", 
       "stream": "stdout", 
       "text": [
        " [ 0.00041424  0.03013964]", 
        "ODE statesF: [uM]  0.414237375548", 
        "ODE states Flux [mM/ms]:  [ -1.42276818e-06  -4.98688273e-05]", 
        "ODE states Flux [uM/ms]:  [-0.00142277 -0.04986883]", 
        "WARNING: jSR and dCa are lumped tother into jVold", 
        "WARNING: I probably need to constrain jvolExpr s.t. the assembled value is equal to the ODE value", 
        "jboundary [mM/ms] 3.13465706357e-05", 
        "jboundary [uM/ms] 0.0313465706357", 
        "jvol [mM/ms]  -3.27667757927e-05", 
        "jvol [uM/ms]  -32.7667757927", 
        "##", 
        "## WARNING: we are not updating CaTnC!!!", 
        "##", 
        "T 3350.000000 [ms] Conc(0) 0.000414 [mM]"
       ]
      }, 
      {
       "output_type": "stream", 
       "stream": "stdout", 
       "text": [
        "", 
        "T 3350.000000 [ms] Conc(0) 0.413934 [uM]", 
        "T 3350.000000 [ms] Conc(1) 0.032466 [mM]", 
        "T 3350.000000 [ms] Conc(1) 32.466334 [uM]", 
        "WARNING: skipping conc updatee", 
        "###########################################################################", 
        "t0  3350.0 tf  3360.0", 
        "ODE Init [mM] [ 0.00041424  0.03013964]", 
        "t0 3350.000000 tf 3360.000000 [ms]", 
        "ODE statesF: [mM] "
       ]
      }, 
      {
       "output_type": "stream", 
       "stream": "stdout", 
       "text": [
        " [ 0.00039953  0.02962072]", 
        "ODE statesF: [uM]  0.399533654134", 
        "ODE states Flux [mM/ms]:  [ -1.47037214e-06  -5.18917858e-05]", 
        "ODE states Flux [uM/ms]:  [-0.00147037 -0.05189179]", 
        "WARNING: jSR and dCa are lumped tother into jVold", 
        "WARNING: I probably need to constrain jvolExpr s.t. the assembled value is equal to the ODE value", 
        "jboundary [mM/ms] 2.46244851132e-05", 
        "jboundary [uM/ms] 0.0246244851132", 
        "jvol [mM/ms]  -2.6092953105e-05", 
        "jvol [uM/ms]  -26.092953105", 
        "##", 
        "## WARNING: we are not updating CaTnC!!!", 
        "##", 
        "T 3360.000000 [ms] Conc(0) 0.000399 [mM]"
       ]
      }, 
      {
       "output_type": "stream", 
       "stream": "stdout", 
       "text": [
        "", 
        "T 3360.000000 [ms] Conc(0) 0.399249 [uM]", 
        "T 3360.000000 [ms] Conc(1) 0.032466 [mM]", 
        "T 3360.000000 [ms] Conc(1) 32.466334 [uM]", 
        "WARNING: skipping conc updatee", 
        "###########################################################################", 
        "t0  3360.0 tf  3370.0", 
        "ODE Init [mM] [ 0.00039953  0.02962072]", 
        "t0 3360.000000 tf 3370.000000 [ms]", 
        "ODE statesF: [mM] "
       ]
      }, 
      {
       "output_type": "stream", 
       "stream": "stdout", 
       "text": [
        " [ 0.0003844   0.02907838]", 
        "ODE statesF: [uM]  0.384398069931", 
        "ODE states Flux [mM/ms]:  [ -1.51355842e-06  -5.42339600e-05]", 
        "ODE states Flux [uM/ms]:  [-0.00151356 -0.05423396]", 
        "WARNING: jSR and dCa are lumped tother into jVold", 
        "WARNING: I probably need to constrain jvolExpr s.t. the assembled value is equal to the ODE value", 
        "jboundary [mM/ms] 1.72654437233e-05", 
        "jboundary [uM/ms] 0.0172654437233", 
        "jvol [mM/ms]  -1.87755444377e-05", 
        "jvol [uM/ms]  -18.7755444377", 
        "##", 
        "## WARNING: we are not updating CaTnC!!!", 
        "##", 
        "T 3370.000000 [ms] Conc(0) 0.000384 [mM]"
       ]
      }, 
      {
       "output_type": "stream", 
       "stream": "stdout", 
       "text": [
        "", 
        "T 3370.000000 [ms] Conc(0) 0.384148 [uM]", 
        "T 3370.000000 [ms] Conc(1) 0.032466 [mM]", 
        "T 3370.000000 [ms] Conc(1) 32.466334 [uM]", 
        "WARNING: skipping conc updatee", 
        "###########################################################################", 
        "t0  3370.0 tf  3380.0", 
        "ODE Init [mM] [ 0.0003844   0.02907838]", 
        "t0 3370.000000 tf 3380.000000 [ms]", 
        "ODE statesF: [mM] "
       ]
      }, 
      {
       "output_type": "stream", 
       "stream": "stdout", 
       "text": [
        " [ 0.00036852  0.02850696]", 
        "ODE statesF: [uM]  0.368523134724", 
        "ODE states Flux [mM/ms]:  [ -1.58749352e-06  -5.71423093e-05]", 
        "ODE states Flux [uM/ms]:  [-0.00158749 -0.05714231]", 
        "WARNING: jSR and dCa are lumped tother into jVold", 
        "WARNING: I probably need to constrain jvolExpr s.t. the assembled value is equal to the ODE value", 
        "jboundary [mM/ms] 8.66023455195e-06", 
        "jboundary [uM/ms] 0.00866023455195", 
        "jvol [mM/ms]  -1.02466838537e-05", 
        "jvol [uM/ms]  -10.2466838537", 
        "##", 
        "## WARNING: we are not updating CaTnC!!!", 
        "##", 
        "T 3380.000000 [ms] Conc(0) 0.000368 [mM]"
       ]
      }, 
      {
       "output_type": "stream", 
       "stream": "stdout", 
       "text": [
        "", 
        "T 3380.000000 [ms] Conc(0) 0.368284 [uM]", 
        "T 3380.000000 [ms] Conc(1) 0.032466 [mM]", 
        "T 3380.000000 [ms] Conc(1) 32.466334 [uM]", 
        "WARNING: skipping conc updatee", 
        "###########################################################################", 
        "t0  3380.0 tf  3390.0", 
        "ODE Init [mM] [ 0.00036852  0.02850696]", 
        "t0 3380.000000 tf 3390.000000 [ms]", 
        "ODE statesF: [mM] "
       ]
      }, 
      {
       "output_type": "stream", 
       "stream": "stdout", 
       "text": [
        " [ 0.00035378  0.02791062]", 
        "ODE statesF: [uM]  0.353778001657", 
        "ODE states Flux [mM/ms]:  [ -1.47451331e-06  -5.96337126e-05]", 
        "ODE states Flux [uM/ms]:  [-0.00147451 -0.05963371]", 
        "WARNING: jSR and dCa are lumped tother into jVold", 
        "WARNING: I probably need to constrain jvolExpr s.t. the assembled value is equal to the ODE value", 
        "jboundary [mM/ms] 1.09978577203e-06", 
        "jboundary [uM/ms] 0.00109978577203", 
        "jvol [mM/ms]  -2.58370293208e-06", 
        "jvol [uM/ms]  -2.58370293208", 
        "##", 
        "## WARNING: we are not updating CaTnC!!!", 
        "##", 
        "T 3390.000000 [ms] Conc(0) 0.000353 [mM]"
       ]
      }, 
      {
       "output_type": "stream", 
       "stream": "stdout", 
       "text": [
        "", 
        "T 3390.000000 [ms] Conc(0) 0.353444 [uM]", 
        "T 3390.000000 [ms] Conc(1) 0.032466 [mM]", 
        "T 3390.000000 [ms] Conc(1) 32.466334 [uM]", 
        "WARNING: skipping conc updatee", 
        "###########################################################################", 
        "t0  3390.0 tf  3400.0", 
        "ODE Init [mM] [ 0.00035378  0.02791062]", 
        "t0 3390.000000 tf 3400.000000 [ms]", 
        "ODE statesF: [mM] "
       ]
      }, 
      {
       "output_type": "stream", 
       "stream": "stdout", 
       "text": [
        " [ 0.00034055  0.02730973]", 
        "ODE statesF: [uM]  0.340554258314", 
        "ODE states Flux [mM/ms]:  [ -1.32237433e-06  -6.00890924e-05]", 
        "ODE states Flux [uM/ms]:  [-0.00132237 -0.06008909]", 
        "WARNING: jSR and dCa are lumped tother into jVold", 
        "WARNING: I probably need to constrain jvolExpr s.t. the assembled value is equal to the ODE value", 
        "jboundary [mM/ms] -2.38350251253e-06", 
        "jboundary [uM/ms] -0.00238350251253", 
        "jvol [mM/ms]  1.05504959307e-06", 
        "jvol [uM/ms]  1.05504959307", 
        "##", 
        "## WARNING: we are not updating CaTnC!!!", 
        "##", 
        "T 3400.000000 [ms] Conc(0) 0.000340 [mM]"
       ]
      }, 
      {
       "output_type": "stream", 
       "stream": "stdout", 
       "text": [
        "", 
        "T 3400.000000 [ms] Conc(0) 0.340160 [uM]", 
        "T 3400.000000 [ms] Conc(1) 0.032466 [mM]", 
        "T 3400.000000 [ms] Conc(1) 32.466334 [uM]", 
        "WARNING: skipping conc updatee", 
        "###########################################################################", 
        "t0  3400.0 tf  3410.0", 
        "ODE Init [mM] [ 0.00034055  0.02730973]", 
        "t0 3400.000000 tf 3410.000000 [ms]", 
        "ODE statesF: [mM] "
       ]
      }, 
      {
       "output_type": "stream", 
       "stream": "stdout", 
       "text": [
        " [ 0.00033747  0.02674921]", 
        "ODE statesF: [uM]  0.337473445739", 
        "ODE states Flux [mM/ms]:  [ -3.08081258e-07  -5.60516939e-05]", 
        "ODE states Flux [uM/ms]:  [-0.00030808 -0.05605169]", 
        "WARNING: jSR and dCa are lumped tother into jVold", 
        "WARNING: I probably need to constrain jvolExpr s.t. the assembled value is equal to the ODE value", 
        "jboundary [mM/ms] 3.1052464631e-06", 
        "jboundary [uM/ms] 0.0031052464631", 
        "jvol [mM/ms]  -3.53503276543e-06", 
        "jvol [uM/ms]  -3.53503276543", 
        "##", 
        "## WARNING: we are not updating CaTnC!!!", 
        "##", 
        "T 3410.000000 [ms] Conc(0) 0.000336 [mM]"
       ]
      }, 
      {
       "output_type": "stream", 
       "stream": "stdout", 
       "text": [
        "", 
        "T 3410.000000 [ms] Conc(0) 0.335862 [uM]", 
        "T 3410.000000 [ms] Conc(1) 0.032466 [mM]", 
        "T 3410.000000 [ms] Conc(1) 32.466334 [uM]", 
        "WARNING: skipping conc updatee", 
        "###########################################################################", 
        "t0  3410.0 tf  3420.0", 
        "ODE Init [mM] [ 0.00033747  0.02674921]", 
        "t0 3410.000000 tf 3420.000000 [ms]", 
        "ODE statesF: [mM] "
       ]
      }, 
      {
       "output_type": "stream", 
       "stream": "stdout", 
       "text": [
        " [ 0.0003452   0.02638809]", 
        "ODE statesF: [uM]  0.345200145176", 
        "ODE states Flux [mM/ms]:  [  7.72669944e-07  -3.61119592e-05]", 
        "ODE states Flux [uM/ms]:  [ 0.00077267 -0.03611196]", 
        "WARNING: jSR and dCa are lumped tother into jVold", 
        "WARNING: I probably need to constrain jvolExpr s.t. the assembled value is equal to the ODE value", 
        "jboundary [mM/ms] 4.0933038114e-05", 
        "jboundary [uM/ms] 0.040933038114", 
        "jvol [mM/ms]  -4.01896714045e-05", 
        "jvol [uM/ms]  -40.1896714045", 
        "##", 
        "## WARNING: we are not updating CaTnC!!!", 
        "##", 
        "T 3420.000000 [ms] Conc(0) 0.000343 [mM]"
       ]
      }, 
      {
       "output_type": "stream", 
       "stream": "stdout", 
       "text": [
        "", 
        "T 3420.000000 [ms] Conc(0) 0.343296 [uM]", 
        "T 3420.000000 [ms] Conc(1) 0.032466 [mM]", 
        "T 3420.000000 [ms] Conc(1) 32.466334 [uM]", 
        "WARNING: skipping conc updatee", 
        "###########################################################################", 
        "t0  3420.0 tf  3430.0", 
        "ODE Init [mM] [ 0.0003452   0.02638809]", 
        "t0 3420.000000 tf 3430.000000 [ms]", 
        "ODE statesF: [mM] "
       ]
      }, 
      {
       "output_type": "stream", 
       "stream": "stdout", 
       "text": [
        " [ 0.00036399  0.02627766]", 
        "ODE statesF: [uM]  0.363992046747", 
        "ODE states Flux [mM/ms]:  [  1.87919016e-06  -1.10429460e-05]", 
        "ODE states Flux [uM/ms]:  [ 0.00187919 -0.01104295]", 
        "WARNING: jSR and dCa are lumped tother into jVold", 
        "WARNING: I probably need to constrain jvolExpr s.t. the assembled value is equal to the ODE value", 
        "jboundary [mM/ms] 8.46173039559e-05", 
        "jboundary [uM/ms] 0.0846173039559", 
        "jvol [mM/ms]  -8.28233545042e-05", 
        "jvol [uM/ms]  -82.8233545042", 
        "##", 
        "## WARNING: we are not updating CaTnC!!!", 
        "##", 
        "T 3430.000000 [ms] Conc(0) 0.000361 [mM]"
       ]
      }, 
      {
       "output_type": "stream", 
       "stream": "stdout", 
       "text": [
        "", 
        "T 3430.000000 [ms] Conc(0) 0.361235 [uM]", 
        "T 3430.000000 [ms] Conc(1) 0.032466 [mM]", 
        "T 3430.000000 [ms] Conc(1) 32.466334 [uM]", 
        "WARNING: skipping conc updatee", 
        "###########################################################################", 
        "t0  3430.0 tf  3440.0", 
        "ODE Init [mM] [ 0.00036399  0.02627766]", 
        "t0 3430.000000 tf 3440.000000 [ms]", 
        "ODE statesF: [mM] "
       ]
      }, 
      {
       "output_type": "stream", 
       "stream": "stdout", 
       "text": [
        " [ 0.00040937  0.02657802]", 
        "ODE statesF: [uM]  0.40937238326", 
        "ODE states Flux [mM/ms]:  [  4.53803365e-06   3.00358608e-05]", 
        "ODE states Flux [uM/ms]:  [ 0.00453803  0.03003586]", 
        "WARNING: jSR and dCa are lumped tother into jVold", 
        "WARNING: I probably need to constrain jvolExpr s.t. the assembled value is equal to the ODE value", 
        "jboundary [mM/ms] 0.000160942149251", 
        "jboundary [uM/ms] 0.160942149251", 
        "jvol [mM/ms]  -0.000156583879737", 
        "jvol [uM/ms]  -156.583879737", 
        "##", 
        "## WARNING: we are not updating CaTnC!!!", 
        "##", 
        "T 3440.000000 [ms] Conc(0) 0.000405 [mM]"
       ]
      }, 
      {
       "output_type": "stream", 
       "stream": "stdout", 
       "text": [
        "", 
        "T 3440.000000 [ms] Conc(0) 0.404818 [uM]", 
        "T 3440.000000 [ms] Conc(1) 0.032466 [mM]", 
        "T 3440.000000 [ms] Conc(1) 32.466334 [uM]", 
        "WARNING: skipping conc updatee", 
        "###########################################################################", 
        "t0  3440.0 tf  3450.0", 
        "ODE Init [mM] [ 0.00040937  0.02657802]", 
        "t0 3440.000000 tf 3450.000000 [ms]", 
        "ODE statesF: [mM] "
       ]
      }, 
      {
       "output_type": "stream", 
       "stream": "stdout", 
       "text": [
        " [ 0.00048874  0.02757102]", 
        "ODE statesF: [uM]  0.488736575741", 
        "ODE states Flux [mM/ms]:  [  7.93641925e-06   9.92998568e-05]", 
        "ODE states Flux [uM/ms]:  [ 0.00793642  0.09929986]", 
        "WARNING: jSR and dCa are lumped tother into jVold", 
        "WARNING: I probably need to constrain jvolExpr s.t. the assembled value is equal to the ODE value", 
        "jboundary [mM/ms] 0.000291162077975", 
        "jboundary [uM/ms] 0.291162077975", 
        "jvol [mM/ms]  -0.000283327432021", 
        "jvol [uM/ms]  -283.327432021", 
        "##", 
        "## WARNING: we are not updating CaTnC!!!", 
        "##", 
        "T 3450.000000 [ms] Conc(0) 0.000483 [mM]"
       ]
      }, 
      {
       "output_type": "stream", 
       "stream": "stdout", 
       "text": [
        "", 
        "T 3450.000000 [ms] Conc(0) 0.483164 [uM]", 
        "T 3450.000000 [ms] Conc(1) 0.032466 [mM]", 
        "T 3450.000000 [ms] Conc(1) 32.466334 [uM]", 
        "WARNING: skipping conc updatee", 
        "###########################################################################", 
        "t0  3450.0 tf  3460.0", 
        "ODE Init [mM] [ 0.00048874  0.02757102]", 
        "t0 3450.000000 tf 3460.000000 [ms]", 
        "ODE statesF: [mM] "
       ]
      }, 
      {
       "output_type": "stream", 
       "stream": "stdout", 
       "text": [
        " [ 0.00056038  0.0291905 ]", 
        "ODE statesF: [uM]  0.560380331541", 
        "ODE states Flux [mM/ms]:  [  7.16437558e-06   1.61947936e-04]", 
        "ODE states Flux [uM/ms]:  [ 0.00716438  0.16194794]", 
        "WARNING: jSR and dCa are lumped tother into jVold", 
        "WARNING: I probably need to constrain jvolExpr s.t. the assembled value is equal to the ODE value", 
        "jboundary [mM/ms] 0.00039437480207", 
        "jboundary [uM/ms] 0.39437480207", 
        "jvol [mM/ms]  -0.00038706575307", 
        "jvol [uM/ms]  -387.06575307", 
        "##", 
        "## WARNING: we are not updating CaTnC!!!", 
        "##", 
        "T 3460.000000 [ms] Conc(0) 0.000556 [mM]"
       ]
      }, 
      {
       "output_type": "stream", 
       "stream": "stdout", 
       "text": [
        "", 
        "T 3460.000000 [ms] Conc(0) 0.556255 [uM]", 
        "T 3460.000000 [ms] Conc(1) 0.032466 [mM]", 
        "T 3460.000000 [ms] Conc(1) 32.466334 [uM]", 
        "WARNING: skipping conc updatee", 
        "###########################################################################", 
        "t0  3460.0 tf  3470.0", 
        "ODE Init [mM] [ 0.00056038  0.0291905 ]", 
        "t0 3460.000000 tf 3470.000000 [ms]", 
        "ODE statesF: [mM] "
       ]
      }, 
      {
       "output_type": "stream", 
       "stream": "stdout", 
       "text": [
        " [ 0.00059973  0.03090442]", 
        "ODE statesF: [uM]  0.59973023456", 
        "ODE states Flux [mM/ms]:  [  3.93499030e-06   1.71391948e-04]", 
        "ODE states Flux [uM/ms]:  [ 0.00393499  0.17139195]", 
        "WARNING: jSR and dCa are lumped tother into jVold", 
        "WARNING: I probably need to constrain jvolExpr s.t. the assembled value is equal to the ODE value", 
        "jboundary [mM/ms] 0.000390242098725", 
        "jboundary [uM/ms] 0.390242098725", 
        "jvol [mM/ms]  -0.000386160069233", 
        "jvol [uM/ms]  -386.160069233", 
        "##", 
        "## WARNING: we are not updating CaTnC!!!", 
        "##", 
        "T 3470.000000 [ms] Conc(0) 0.000597 [mM]"
       ]
      }, 
      {
       "output_type": "stream", 
       "stream": "stdout", 
       "text": [
        "", 
        "T 3470.000000 [ms] Conc(0) 0.597075 [uM]", 
        "T 3470.000000 [ms] Conc(1) 0.032466 [mM]", 
        "T 3470.000000 [ms] Conc(1) 32.466334 [uM]", 
        "WARNING: skipping conc updatee", 
        "###########################################################################", 
        "t0  3470.0 tf  3480.0", 
        "ODE Init [mM] [ 0.00059973  0.03090442]", 
        "t0 3470.000000 tf 3480.000000 [ms]", 
        "ODE statesF: [mM] "
       ]
      }, 
      {
       "output_type": "stream", 
       "stream": "stdout", 
       "text": [
        " [ 0.00061645  0.03234206]", 
        "ODE statesF: [uM]  0.616448853445", 
        "ODE states Flux [mM/ms]:  [  1.67186189e-06   1.43764285e-04]", 
        "ODE states Flux [uM/ms]:  [ 0.00167186  0.14376428]", 
        "WARNING: jSR and dCa are lumped tother into jVold", 
        "WARNING: I probably need to constrain jvolExpr s.t. the assembled value is equal to the ODE value", 
        "jboundary [mM/ms] 0.00033222101999", 
        "jboundary [uM/ms] 0.33222101999", 
        "jvol [mM/ms]  -0.000330465044172", 
        "jvol [uM/ms]  -330.465044172", 
        "##", 
        "## WARNING: we are not updating CaTnC!!!", 
        "##", 
        "T 3480.000000 [ms] Conc(0) 0.000615 [mM]"
       ]
      }, 
      {
       "output_type": "stream", 
       "stream": "stdout", 
       "text": [
        "", 
        "T 3480.000000 [ms] Conc(0) 0.614635 [uM]", 
        "T 3480.000000 [ms] Conc(1) 0.032466 [mM]", 
        "T 3480.000000 [ms] Conc(1) 32.466334 [uM]", 
        "WARNING: skipping conc updatee", 
        "###########################################################################", 
        "t0  3480.0 tf  3490.0", 
        "ODE Init [mM] [ 0.00061645  0.03234206]", 
        "t0 3480.000000 tf 3490.000000 [ms]", 
        "ODE statesF: [mM] "
       ]
      }, 
      {
       "output_type": "stream", 
       "stream": "stdout", 
       "text": [
        " [ 0.00062061  0.03340488]", 
        "ODE statesF: [uM]  0.620612144554", 
        "ODE states Flux [mM/ms]:  [  4.16329111e-07   1.06281281e-04]", 
        "ODE states Flux [uM/ms]:  [ 0.00041633  0.10628128]", 
        "WARNING: jSR and dCa are lumped tother into jVold", 
        "WARNING: I probably need to constrain jvolExpr s.t. the assembled value is equal to the ODE value", 
        "jboundary [mM/ms] 0.0002705565529", 
        "jboundary [uM/ms] 0.2705565529", 
        "jvol [mM/ms]  -0.000270093297447", 
        "jvol [uM/ms]  -270.093297447", 
        "##", 
        "## WARNING: we are not updating CaTnC!!!", 
        "##", 
        "T 3490.000000 [ms] Conc(0) 0.000619 [mM]"
       ]
      }, 
      {
       "output_type": "stream", 
       "stream": "stdout", 
       "text": [
        "", 
        "T 3490.000000 [ms] Conc(0) 0.619267 [uM]", 
        "T 3490.000000 [ms] Conc(1) 0.032466 [mM]", 
        "T 3490.000000 [ms] Conc(1) 32.466334 [uM]", 
        "WARNING: skipping conc updatee", 
        "###########################################################################", 
        "t0  3490.0 tf  3500.0", 
        "ODE Init [mM] [ 0.00062061  0.03340488]", 
        "t0 3490.000000 tf 3500.000000 [ms]", 
        "ODE statesF: [mM] "
       ]
      }, 
      {
       "output_type": "stream", 
       "stream": "stdout", 
       "text": [
        " [ 0.00061751  0.03411837]", 
        "ODE statesF: [uM]  0.617509875992", 
        "ODE states Flux [mM/ms]:  [ -3.10226856e-07   7.13494272e-05]", 
        "ODE states Flux [uM/ms]:  [-0.00031023  0.07134943]", 
        "WARNING: jSR and dCa are lumped tother into jVold", 
        "WARNING: I probably need to constrain jvolExpr s.t. the assembled value is equal to the ODE value", 
        "jboundary [mM/ms] 0.000219337869439", 
        "jboundary [uM/ms] 0.219337869439", 
        "jvol [mM/ms]  -0.000219619703332", 
        "jvol [uM/ms]  -219.619703332", 
        "##", 
        "## WARNING: we are not updating CaTnC!!!", 
        "##", 
        "T 3500.000000 [ms] Conc(0) 0.000616 [mM]"
       ]
      }, 
      {
       "output_type": "stream", 
       "stream": "stdout", 
       "text": [
        "", 
        "T 3500.000000 [ms] Conc(0) 0.616449 [uM]", 
        "T 3500.000000 [ms] Conc(1) 0.032466 [mM]", 
        "T 3500.000000 [ms] Conc(1) 32.466334 [uM]", 
        "WARNING: skipping conc updatee", 
        "###########################################################################", 
        "t0  3500.0 tf  3510.0", 
        "ODE Init [mM] [ 0.00061751  0.03411837]", 
        "t0 3500.000000 tf 3510.000000 [ms]", 
        "ODE statesF: [mM] "
       ]
      }, 
      {
       "output_type": "stream", 
       "stream": "stdout", 
       "text": [
        " [ 0.00060986  0.03454265]", 
        "ODE statesF: [uM]  0.609857109717", 
        "ODE states Flux [mM/ms]:  [ -7.65276627e-07   4.24282905e-05]", 
        "ODE states Flux [uM/ms]:  [-0.00076528  0.04242829]", 
        "WARNING: jSR and dCa are lumped tother into jVold", 
        "WARNING: I probably need to constrain jvolExpr s.t. the assembled value is equal to the ODE value", 
        "jboundary [mM/ms] 0.00017932608603", 
        "jboundary [uM/ms] 0.17932608603", 
        "jvol [mM/ms]  -0.000180073019759", 
        "jvol [uM/ms]  -180.073019759", 
        "##", 
        "## WARNING: we are not updating CaTnC!!!", 
        "##", 
        "T 3510.000000 [ms] Conc(0) 0.000609 [mM]"
       ]
      }, 
      {
       "output_type": "stream", 
       "stream": "stdout", 
       "text": [
        "", 
        "T 3510.000000 [ms] Conc(0) 0.608980 [uM]", 
        "T 3510.000000 [ms] Conc(1) 0.032466 [mM]", 
        "T 3510.000000 [ms] Conc(1) 32.466334 [uM]", 
        "WARNING: skipping conc updatee", 
        "###########################################################################", 
        "t0  3510.0 tf  3520.0", 
        "ODE Init [mM] [ 0.00060986  0.03454265]", 
        "t0 3510.000000 tf 3520.000000 [ms]", 
        "ODE statesF: [mM] "
       ]
      }, 
      {
       "output_type": "stream", 
       "stream": "stdout", 
       "text": [
        " [ 0.00059922  0.03473884]", 
        "ODE statesF: [uM]  0.599221935033", 
        "ODE states Flux [mM/ms]:  [ -1.06351747e-06   1.96192055e-05]", 
        "ODE states Flux [uM/ms]:  [-0.00106352  0.01961921]", 
        "WARNING: jSR and dCa are lumped tother into jVold", 
        "WARNING: I probably need to constrain jvolExpr s.t. the assembled value is equal to the ODE value", 
        "jboundary [mM/ms] 0.000148511919611", 
        "jboundary [uM/ms] 0.148511919611", 
        "jvol [mM/ms]  -0.000149563322256", 
        "jvol [uM/ms]  -149.563322256", 
        "##", 
        "## WARNING: we are not updating CaTnC!!!", 
        "##", 
        "T 3520.000000 [ms] Conc(0) 0.000598 [mM]"
       ]
      }, 
      {
       "output_type": "stream", 
       "stream": "stdout", 
       "text": [
        "", 
        "T 3520.000000 [ms] Conc(0) 0.598466 [uM]", 
        "T 3520.000000 [ms] Conc(1) 0.032466 [mM]", 
        "T 3520.000000 [ms] Conc(1) 32.466334 [uM]", 
        "WARNING: skipping conc updatee", 
        "###########################################################################", 
        "t0  3520.0 tf  3530.0", 
        "ODE Init [mM] [ 0.00059922  0.03473884]", 
        "t0 3520.000000 tf 3530.000000 [ms]", 
        "ODE statesF: [mM] "
       ]
      }, 
      {
       "output_type": "stream", 
       "stream": "stdout", 
       "text": [
        " [ 0.00058663  0.03475925]", 
        "ODE statesF: [uM]  0.586629884748", 
        "ODE states Flux [mM/ms]:  [ -1.25920503e-06   2.04080900e-06]", 
        "ODE states Flux [uM/ms]:  [-0.00125921  0.00204081]", 
        "WARNING: jSR and dCa are lumped tother into jVold", 
        "WARNING: I probably need to constrain jvolExpr s.t. the assembled value is equal to the ODE value", 
        "jboundary [mM/ms] 0.000124800239505", 
        "jboundary [uM/ms] 0.124800239505", 
        "jvol [mM/ms]  -0.000126051607658", 
        "jvol [uM/ms]  -126.051607658", 
        "##", 
        "## WARNING: we are not updating CaTnC!!!", 
        "##", 
        "T 3530.000000 [ms] Conc(0) 0.000586 [mM]"
       ]
      }, 
      {
       "output_type": "stream", 
       "stream": "stdout", 
       "text": [
        "", 
        "T 3530.000000 [ms] Conc(0) 0.585952 [uM]", 
        "T 3530.000000 [ms] Conc(1) 0.032466 [mM]", 
        "T 3530.000000 [ms] Conc(1) 32.466334 [uM]", 
        "WARNING: skipping conc updatee", 
        "###########################################################################", 
        "t0  3530.0 tf  3540.0", 
        "ODE Init [mM] [ 0.00058663  0.03475925]", 
        "t0 3530.000000 tf 3540.000000 [ms]", 
        "ODE statesF: [mM] "
       ]
      }, 
      {
       "output_type": "stream", 
       "stream": "stdout", 
       "text": [
        " [ 0.00057281  0.03464593]", 
        "ODE statesF: [uM]  0.572805225899", 
        "ODE states Flux [mM/ms]:  [ -1.38246588e-06  -1.13319778e-05]", 
        "ODE states Flux [uM/ms]:  [-0.00138247 -0.01133198]", 
        "WARNING: jSR and dCa are lumped tother into jVold", 
        "WARNING: I probably need to constrain jvolExpr s.t. the assembled value is equal to the ODE value", 
        "jboundary [mM/ms] 0.000106490286354", 
        "jboundary [uM/ms] 0.106490286354", 
        "jvol [mM/ms]  -0.000107868000575", 
        "jvol [uM/ms]  -107.868000575", 
        "##", 
        "## WARNING: we are not updating CaTnC!!!", 
        "##", 
        "T 3540.000000 [ms] Conc(0) 0.000572 [mM]"
       ]
      }, 
      {
       "output_type": "stream", 
       "stream": "stdout", 
       "text": [
        "", 
        "T 3540.000000 [ms] Conc(0) 0.572175 [uM]", 
        "T 3540.000000 [ms] Conc(1) 0.032466 [mM]", 
        "T 3540.000000 [ms] Conc(1) 32.466334 [uM]", 
        "WARNING: skipping conc updatee", 
        "###########################################################################", 
        "t0  3540.0 tf  3550.0", 
        "ODE Init [mM] [ 0.00057281  0.03464593]", 
        "t0 3540.000000 tf 3550.000000 [ms]", 
        "ODE statesF: [mM] "
       ]
      }, 
      {
       "output_type": "stream", 
       "stream": "stdout", 
       "text": [
        " [ 0.00055827  0.03443183]", 
        "ODE statesF: [uM]  0.558274166531", 
        "ODE states Flux [mM/ms]:  [ -1.45310594e-06  -2.14107625e-05]", 
        "ODE states Flux [uM/ms]:  [-0.00145311 -0.02141076]", 
        "WARNING: jSR and dCa are lumped tother into jVold", 
        "WARNING: I probably need to constrain jvolExpr s.t. the assembled value is equal to the ODE value", 
        "jboundary [mM/ms] 9.22711541057e-05", 
        "jboundary [uM/ms] 0.0922711541057", 
        "jvol [mM/ms]  -9.3721754172e-05", 
        "jvol [uM/ms]  -93.721754172", 
        "##", 
        "## WARNING: we are not updating CaTnC!!!", 
        "##", 
        "T 3550.000000 [ms] Conc(0) 0.000558 [mM]"
       ]
      }, 
      {
       "output_type": "stream", 
       "stream": "stdout", 
       "text": [
        "", 
        "T 3550.000000 [ms] Conc(0) 0.557669 [uM]", 
        "T 3550.000000 [ms] Conc(1) 0.032466 [mM]", 
        "T 3550.000000 [ms] Conc(1) 32.466334 [uM]", 
        "WARNING: skipping conc updatee", 
        "###########################################################################", 
        "t0  3550.0 tf  3560.0", 
        "ODE Init [mM] [ 0.00055827  0.03443183]", 
        "t0 3550.000000 tf 3560.000000 [ms]", 
        "ODE statesF: [mM] "
       ]
      }, 
      {
       "output_type": "stream", 
       "stream": "stdout", 
       "text": [
        " [ 0.00054342  0.03414242]", 
        "ODE statesF: [uM]  0.543417469234", 
        "ODE states Flux [mM/ms]:  [ -1.48566973e-06  -2.89408865e-05]", 
        "ODE states Flux [uM/ms]:  [-0.00148567 -0.02894089]", 
        "WARNING: jSR and dCa are lumped tother into jVold", 
        "WARNING: I probably need to constrain jvolExpr s.t. the assembled value is equal to the ODE value", 
        "jboundary [mM/ms] 8.11408127935e-05", 
        "jboundary [uM/ms] 0.0811408127935", 
        "jvol [mM/ms]  -8.26255859288e-05", 
        "jvol [uM/ms]  -82.6255859288", 
        "##", 
        "## WARNING: we are not updating CaTnC!!!", 
        "##", 
        "T 3560.000000 [ms] Conc(0) 0.000543 [mM]"
       ]
      }, 
      {
       "output_type": "stream", 
       "stream": "stdout", 
       "text": [
        "", 
        "T 3560.000000 [ms] Conc(0) 0.542821 [uM]", 
        "T 3560.000000 [ms] Conc(1) 0.032466 [mM]", 
        "T 3560.000000 [ms] Conc(1) 32.466334 [uM]", 
        "WARNING: skipping conc updatee", 
        "###########################################################################", 
        "t0  3560.0 tf  3570.0", 
        "ODE Init [mM] [ 0.00054342  0.03414242]", 
        "t0 3560.000000 tf 3570.000000 [ms]", 
        "ODE statesF: [mM] "
       ]
      }, 
      {
       "output_type": "stream", 
       "stream": "stdout", 
       "text": [
        " [ 0.0005285   0.03379728]", 
        "ODE statesF: [uM]  0.52850343575", 
        "ODE states Flux [mM/ms]:  [ -1.49140335e-06  -3.45135844e-05]", 
        "ODE states Flux [uM/ms]:  [-0.0014914  -0.03451358]", 
        "WARNING: jSR and dCa are lumped tother into jVold", 
        "WARNING: I probably need to constrain jvolExpr s.t. the assembled value is equal to the ODE value", 
        "jboundary [mM/ms] 7.23306632708e-05", 
        "jboundary [uM/ms] 0.0723306632708", 
        "jvol [mM/ms]  -7.3822279687e-05", 
        "jvol [uM/ms]  -73.822279687", 
        "##", 
        "## WARNING: we are not updating CaTnC!!!", 
        "##", 
        "T 3570.000000 [ms] Conc(0) 0.000528 [mM]"
       ]
      }, 
      {
       "output_type": "stream", 
       "stream": "stdout", 
       "text": [
        "", 
        "T 3570.000000 [ms] Conc(0) 0.527905 [uM]", 
        "T 3570.000000 [ms] Conc(1) 0.032466 [mM]", 
        "T 3570.000000 [ms] Conc(1) 32.466334 [uM]", 
        "WARNING: skipping conc updatee", 
        "###########################################################################", 
        "t0  3570.0 tf  3580.0", 
        "ODE Init [mM] [ 0.0005285   0.03379728]", 
        "t0 3570.000000 tf 3580.000000 [ms]", 
        "ODE statesF: [mM] "
       ]
      }, 
      {
       "output_type": "stream", 
       "stream": "stdout", 
       "text": [
        " [ 0.00051371  0.03341134]", 
        "ODE statesF: [uM]  0.513711447054", 
        "ODE states Flux [mM/ms]:  [ -1.47919887e-06  -3.85939582e-05]", 
        "ODE states Flux [uM/ms]:  [-0.0014792  -0.03859396]", 
        "WARNING: jSR and dCa are lumped tother into jVold", 
        "WARNING: I probably need to constrain jvolExpr s.t. the assembled value is equal to the ODE value", 
        "jboundary [mM/ms] 6.52457193059e-05", 
        "jboundary [uM/ms] 0.0652457193059", 
        "jvol [mM/ms]  -6.67258424732e-05", 
        "jvol [uM/ms]  -66.7258424732", 
        "##", 
        "## WARNING: we are not updating CaTnC!!!", 
        "##", 
        "T 3580.000000 [ms] Conc(0) 0.000513 [mM]"
       ]
      }, 
      {
       "output_type": "stream", 
       "stream": "stdout", 
       "text": [
        "", 
        "T 3580.000000 [ms] Conc(0) 0.513104 [uM]", 
        "T 3580.000000 [ms] Conc(1) 0.032466 [mM]", 
        "T 3580.000000 [ms] Conc(1) 32.466334 [uM]", 
        "WARNING: skipping conc updatee", 
        "###########################################################################", 
        "t0  3580.0 tf  3590.0", 
        "ODE Init [mM] [ 0.00051371  0.03341134]", 
        "t0 3580.000000 tf 3590.000000 [ms]", 
        "ODE statesF: [mM] "
       ]
      }, 
      {
       "output_type": "stream", 
       "stream": "stdout", 
       "text": [
        " [ 0.00049915  0.03299584]", 
        "ODE statesF: [uM]  0.499148941549", 
        "ODE states Flux [mM/ms]:  [ -1.45625055e-06  -4.15500253e-05]", 
        "ODE states Flux [uM/ms]:  [-0.00145625 -0.04155003]", 
        "WARNING: jSR and dCa are lumped tother into jVold", 
        "WARNING: I probably need to constrain jvolExpr s.t. the assembled value is equal to the ODE value", 
        "jboundary [mM/ms] 5.94174055953e-05", 
        "jboundary [uM/ms] 0.0594174055953", 
        "jvol [mM/ms]  -6.08749636696e-05", 
        "jvol [uM/ms]  -60.8749636696", 
        "##", 
        "## WARNING: we are not updating CaTnC!!!", 
        "##", 
        "T 3590.000000 [ms] Conc(0) 0.000499 [mM]"
       ]
      }, 
      {
       "output_type": "stream", 
       "stream": "stdout", 
       "text": [
        "", 
        "T 3590.000000 [ms] Conc(0) 0.498528 [uM]", 
        "T 3590.000000 [ms] Conc(1) 0.032466 [mM]", 
        "T 3590.000000 [ms] Conc(1) 32.466334 [uM]", 
        "WARNING: skipping conc updatee", 
        "###########################################################################", 
        "t0  3590.0 tf  3600.0", 
        "ODE Init [mM] [ 0.00049915  0.03299584]", 
        "t0 3590.000000 tf 3600.000000 [ms]", 
        "ODE statesF: [mM] "
       ]
      }, 
      {
       "output_type": "stream", 
       "stream": "stdout", 
       "text": [
        " [ 0.00048486  0.03255905]", 
        "ODE statesF: [uM]  0.484862400064", 
        "ODE states Flux [mM/ms]:  [ -1.42865415e-06  -4.36787287e-05]", 
        "ODE states Flux [uM/ms]:  [-0.00142865 -0.04367873]", 
        "WARNING: jSR and dCa are lumped tother into jVold", 
        "WARNING: I probably need to constrain jvolExpr s.t. the assembled value is equal to the ODE value", 
        "jboundary [mM/ms] 5.44646124804e-05", 
        "jboundary [uM/ms] 0.0544646124804", 
        "jvol [mM/ms]  -5.58946692719e-05", 
        "jvol [uM/ms]  -55.8946692719", 
        "##", 
        "## WARNING: we are not updating CaTnC!!!", 
        "##", 
        "T 3600.000000 [ms] Conc(0) 0.000484 [mM]"
       ]
      }, 
      {
       "output_type": "stream", 
       "stream": "stdout", 
       "text": [
        "", 
        "T 3600.000000 [ms] Conc(0) 0.484228 [uM]", 
        "T 3600.000000 [ms] Conc(1) 0.032466 [mM]", 
        "T 3600.000000 [ms] Conc(1) 32.466334 [uM]", 
        "WARNING: skipping conc updatee", 
        "###########################################################################", 
        "t0  3600.0 tf  3610.0", 
        "ODE Init [mM] [ 0.00048486  0.03255905]", 
        "t0 3600.000000 tf 3610.000000 [ms]", 
        "ODE statesF: [mM] "
       ]
      }, 
      {
       "output_type": "stream", 
       "stream": "stdout", 
       "text": [
        " [ 0.00047084  0.03210676]", 
        "ODE statesF: [uM]  0.470841802596", 
        "ODE states Flux [mM/ms]:  [ -1.40205975e-06  -4.52292325e-05]", 
        "ODE states Flux [uM/ms]:  [-0.00140206 -0.04522923]", 
        "WARNING: jSR and dCa are lumped tother into jVold", 
        "WARNING: I probably need to constrain jvolExpr s.t. the assembled value is equal to the ODE value", 
        "jboundary [mM/ms] 5.00585995095e-05", 
        "jboundary [uM/ms] 0.0500585995095", 
        "jvol [mM/ms]  -5.14618733497e-05", 
        "jvol [uM/ms]  -51.4618733497", 
        "##", 
        "## WARNING: we are not updating CaTnC!!!", 
        "##", 
        "T 3610.000000 [ms] Conc(0) 0.000470 [mM]"
       ]
      }, 
      {
       "output_type": "stream", 
       "stream": "stdout", 
       "text": [
        "", 
        "T 3610.000000 [ms] Conc(0) 0.470195 [uM]", 
        "T 3610.000000 [ms] Conc(1) 0.032466 [mM]", 
        "T 3610.000000 [ms] Conc(1) 32.466334 [uM]", 
        "WARNING: skipping conc updatee", 
        "###########################################################################", 
        "t0  3610.0 tf  3620.0", 
        "ODE Init [mM] [ 0.00047084  0.03210676]", 
        "t0 3610.000000 tf 3620.000000 [ms]", 
        "ODE statesF: [mM] "
       ]
      }, 
      {
       "output_type": "stream", 
       "stream": "stdout", 
       "text": [
        " [ 0.00045702  0.0316425 ]", 
        "ODE statesF: [uM]  0.457017009351", 
        "ODE states Flux [mM/ms]:  [ -1.38247932e-06  -4.64257375e-05]", 
        "ODE states Flux [uM/ms]:  [-0.00138248 -0.04642574]", 
        "WARNING: jSR and dCa are lumped tother into jVold", 
        "WARNING: I probably need to constrain jvolExpr s.t. the assembled value is equal to the ODE value", 
        "jboundary [mM/ms] 4.58867311785e-05", 
        "jboundary [uM/ms] 0.0458867311785", 
        "jvol [mM/ms]  -4.72699114666e-05", 
        "jvol [uM/ms]  -47.2699114666", 
        "##", 
        "## WARNING: we are not updating CaTnC!!!", 
        "##", 
        "T 3620.000000 [ms] Conc(0) 0.000456 [mM]"
       ]
      }, 
      {
       "output_type": "stream", 
       "stream": "stdout", 
       "text": [
        "", 
        "T 3620.000000 [ms] Conc(0) 0.456363 [uM]", 
        "T 3620.000000 [ms] Conc(1) 0.032466 [mM]", 
        "T 3620.000000 [ms] Conc(1) 32.466334 [uM]", 
        "WARNING: skipping conc updatee", 
        "###########################################################################", 
        "t0  3620.0 tf  3630.0", 
        "ODE Init [mM] [ 0.00045702  0.0316425 ]", 
        "t0 3620.000000 tf 3630.000000 [ms]", 
        "ODE statesF: [mM] "
       ]
      }, 
      {
       "output_type": "stream", 
       "stream": "stdout", 
       "text": [
        " [ 0.00044324  0.03116758]", 
        "ODE statesF: [uM]  0.443244576377", 
        "ODE states Flux [mM/ms]:  [ -1.37724330e-06  -4.74926328e-05]", 
        "ODE states Flux [uM/ms]:  [-0.00137724 -0.04749263]", 
        "WARNING: jSR and dCa are lumped tother into jVold", 
        "WARNING: I probably need to constrain jvolExpr s.t. the assembled value is equal to the ODE value", 
        "jboundary [mM/ms] 4.16097058846e-05", 
        "jboundary [uM/ms] 0.0416097058846", 
        "jvol [mM/ms]  -4.29867268994e-05", 
        "jvol [uM/ms]  -42.9867268994", 
        "##", 
        "## WARNING: we are not updating CaTnC!!!", 
        "##", 
        "T 3630.000000 [ms] Conc(0) 0.000443 [mM]"
       ]
      }, 
      {
       "output_type": "stream", 
       "stream": "stdout", 
       "text": [
        "", 
        "T 3630.000000 [ms] Conc(0) 0.442593 [uM]", 
        "T 3630.000000 [ms] Conc(1) 0.032466 [mM]", 
        "T 3630.000000 [ms] Conc(1) 32.466334 [uM]", 
        "WARNING: skipping conc updatee", 
        "###########################################################################", 
        "t0  3630.0 tf  3640.0", 
        "ODE Init [mM] [ 0.00044324  0.03116758]", 
        "t0 3630.000000 tf 3640.000000 [ms]", 
        "ODE statesF: [mM] "
       ]
      }, 
      {
       "output_type": "stream", 
       "stream": "stdout", 
       "text": [
        " [ 0.00042929  0.03068078]", 
        "ODE statesF: [uM]  0.429294393115", 
        "ODE states Flux [mM/ms]:  [ -1.39501833e-06  -4.86801294e-05]", 
        "ODE states Flux [uM/ms]:  [-0.00139502 -0.04868013]", 
        "WARNING: jSR and dCa are lumped tother into jVold", 
        "WARNING: I probably need to constrain jvolExpr s.t. the assembled value is equal to the ODE value", 
        "jboundary [mM/ms] 3.68176341337e-05", 
        "jboundary [uM/ms] 0.0368176341337", 
        "jvol [mM/ms]  -3.82110940312e-05", 
        "jvol [uM/ms]  -38.2110940312", 
        "##", 
        "## WARNING: we are not updating CaTnC!!!", 
        "##", 
        "T 3640.000000 [ms] Conc(0) 0.000429 [mM]"
       ]
      }, 
      {
       "output_type": "stream", 
       "stream": "stdout", 
       "text": [
        "", 
        "T 3640.000000 [ms] Conc(0) 0.428658 [uM]", 
        "T 3640.000000 [ms] Conc(1) 0.032466 [mM]", 
        "T 3640.000000 [ms] Conc(1) 32.466334 [uM]", 
        "WARNING: skipping conc updatee", 
        "###########################################################################", 
        "t0  3640.0 tf  3650.0", 
        "ODE Init [mM] [ 0.00042929  0.03068078]", 
        "t0 3640.000000 tf 3650.000000 [ms]", 
        "ODE statesF: [mM] "
       ]
      }, 
      {
       "output_type": "stream", 
       "stream": "stdout", 
       "text": [
        " [ 0.00041491  0.03017825]", 
        "ODE statesF: [uM]  0.414907431718", 
        "ODE states Flux [mM/ms]:  [ -1.43869614e-06  -5.02528391e-05]", 
        "ODE states Flux [uM/ms]:  [-0.0014387  -0.05025284]", 
        "WARNING: jSR and dCa are lumped tother into jVold", 
        "WARNING: I probably need to constrain jvolExpr s.t. the assembled value is equal to the ODE value", 
        "jboundary [mM/ms] 3.10666268083e-05", 
        "jboundary [uM/ms] 0.0310666268083", 
        "jvol [mM/ms]  -3.25027371203e-05", 
        "jvol [uM/ms]  -32.5027371203", 
        "##", 
        "## WARNING: we are not updating CaTnC!!!", 
        "##", 
        "T 3650.000000 [ms] Conc(0) 0.000414 [mM]"
       ]
      }, 
      {
       "output_type": "stream", 
       "stream": "stdout", 
       "text": [
        "", 
        "T 3650.000000 [ms] Conc(0) 0.414297 [uM]", 
        "T 3650.000000 [ms] Conc(1) 0.032466 [mM]", 
        "T 3650.000000 [ms] Conc(1) 32.466334 [uM]", 
        "WARNING: skipping conc updatee", 
        "###########################################################################", 
        "t0  3650.0 tf  3660.0", 
        "ODE Init [mM] [ 0.00041491  0.03017825]", 
        "t0 3650.000000 tf 3660.000000 [ms]", 
        "ODE statesF: [mM] "
       ]
      }, 
      {
       "output_type": "stream", 
       "stream": "stdout", 
       "text": [
        " [ 0.00040005  0.02965509]", 
        "ODE statesF: [uM]  0.400053609916", 
        "ODE states Flux [mM/ms]:  [ -1.48538218e-06  -5.23158396e-05]", 
        "ODE states Flux [uM/ms]:  [-0.00148538 -0.05231584]", 
        "WARNING: jSR and dCa are lumped tother into jVold", 
        "WARNING: I probably need to constrain jvolExpr s.t. the assembled value is equal to the ODE value", 
        "jboundary [mM/ms] 2.42550530299e-05", 
        "jboundary [uM/ms] 0.0242550530299", 
        "jvol [mM/ms]  -2.57386102309e-05", 
        "jvol [uM/ms]  -25.7386102309", 
        "##", 
        "## WARNING: we are not updating CaTnC!!!", 
        "##", 
        "T 3660.000000 [ms] Conc(0) 0.000399 [mM]"
       ]
      }, 
      {
       "output_type": "stream", 
       "stream": "stdout", 
       "text": [
        "", 
        "T 3660.000000 [ms] Conc(0) 0.399462 [uM]", 
        "T 3660.000000 [ms] Conc(1) 0.032466 [mM]", 
        "T 3660.000000 [ms] Conc(1) 32.466334 [uM]", 
        "WARNING: skipping conc updatee", 
        "###########################################################################", 
        "t0  3660.0 tf  3670.0", 
        "ODE Init [mM] [ 0.00040005  0.02965509]", 
        "t0 3660.000000 tf 3670.000000 [ms]", 
        "ODE statesF: [mM] "
       ]
      }, 
      {
       "output_type": "stream", 
       "stream": "stdout", 
       "text": [
        " [ 0.00038475  0.02910816]", 
        "ODE statesF: [uM]  0.384745298434", 
        "ODE states Flux [mM/ms]:  [ -1.53083115e-06  -5.46929010e-05]", 
        "ODE states Flux [uM/ms]:  [-0.00153083 -0.0546929 ]", 
        "WARNING: jSR and dCa are lumped tother into jVold", 
        "WARNING: I probably need to constrain jvolExpr s.t. the assembled value is equal to the ODE value", 
        "jboundary [mM/ms] 1.68129180902e-05", 
        "jboundary [uM/ms] 0.0168129180902", 
        "jvol [mM/ms]  -1.83400467375e-05", 
        "jvol [uM/ms]  -18.3400467375", 
        "##", 
        "## WARNING: we are not updating CaTnC!!!", 
        "##", 
        "T 3670.000000 [ms] Conc(0) 0.000384 [mM]"
       ]
      }, 
      {
       "output_type": "stream", 
       "stream": "stdout", 
       "text": [
        "", 
        "T 3670.000000 [ms] Conc(0) 0.384190 [uM]", 
        "T 3670.000000 [ms] Conc(1) 0.032466 [mM]", 
        "T 3670.000000 [ms] Conc(1) 32.466334 [uM]", 
        "WARNING: skipping conc updatee", 
        "###########################################################################", 
        "t0  3670.0 tf  3680.0", 
        "ODE Init [mM] [ 0.00038475  0.02910816]", 
        "t0 3670.000000 tf 3680.000000 [ms]", 
        "ODE statesF: [mM] "
       ]
      }, 
      {
       "output_type": "stream", 
       "stream": "stdout", 
       "text": [
        " [ 0.00036874  0.02853164]", 
        "ODE statesF: [uM]  0.368740427948", 
        "ODE states Flux [mM/ms]:  [ -1.60048705e-06  -5.76524979e-05]", 
        "ODE states Flux [uM/ms]:  [-0.00160049 -0.0576525 ]", 
        "WARNING: jSR and dCa are lumped tother into jVold", 
        "WARNING: I probably need to constrain jvolExpr s.t. the assembled value is equal to the ODE value", 
        "jboundary [mM/ms] 8.08736091439e-06", 
        "jboundary [uM/ms] 0.00808736091439", 
        "jvol [mM/ms]  -9.68771865857e-06", 
        "jvol [uM/ms]  -9.68771865857", 
        "##", 
        "## WARNING: we are not updating CaTnC!!!", 
        "##", 
        "T 3680.000000 [ms] Conc(0) 0.000368 [mM]"
       ]
      }, 
      {
       "output_type": "stream", 
       "stream": "stdout", 
       "text": [
        "", 
        "T 3680.000000 [ms] Conc(0) 0.368187 [uM]", 
        "T 3680.000000 [ms] Conc(1) 0.032466 [mM]", 
        "T 3680.000000 [ms] Conc(1) 32.466334 [uM]", 
        "WARNING: skipping conc updatee", 
        "###########################################################################", 
        "t0  3680.0 tf  3690.0", 
        "ODE Init [mM] [ 0.00036874  0.02853164]", 
        "t0 3680.000000 tf 3690.000000 [ms]", 
        "ODE statesF: [mM] "
       ]
      }, 
      {
       "output_type": "stream", 
       "stream": "stdout", 
       "text": [
        " [ 0.000354    0.02793127]", 
        "ODE statesF: [uM]  0.354001857209", 
        "ODE states Flux [mM/ms]:  [ -1.47385707e-06  -6.00366966e-05]", 
        "ODE states Flux [uM/ms]:  [-0.00147386 -0.0600367 ]", 
        "WARNING: jSR and dCa are lumped tother into jVold", 
        "WARNING: I probably need to constrain jvolExpr s.t. the assembled value is equal to the ODE value", 
        "jboundary [mM/ms] 7.54155760227e-07", 
        "jboundary [uM/ms] 0.000754155760227", 
        "jvol [mM/ms]  -2.23739410293e-06", 
        "jvol [uM/ms]  -2.23739410293", 
        "##", 
        "## WARNING: we are not updating CaTnC!!!", 
        "##", 
        "T 3690.000000 [ms] Conc(0) 0.000353 [mM]"
       ]
      }, 
      {
       "output_type": "stream", 
       "stream": "stdout", 
       "text": [
        "", 
        "T 3690.000000 [ms] Conc(0) 0.353354 [uM]", 
        "T 3690.000000 [ms] Conc(1) 0.032466 [mM]", 
        "T 3690.000000 [ms] Conc(1) 32.466334 [uM]", 
        "WARNING: skipping conc updatee", 
        "###########################################################################", 
        "t0  3690.0 tf  3700.0", 
        "ODE Init [mM] [ 0.000354    0.02793127]", 
        "t0 3690.000000 tf 3700.000000 [ms]", 
        "ODE statesF: [mM] "
       ]
      }, 
      {
       "output_type": "stream", 
       "stream": "stdout", 
       "text": [
        " [ 0.00034076  0.02732742]", 
        "ODE statesF: [uM]  0.34075544997", 
        "ODE states Flux [mM/ms]:  [ -1.32464072e-06  -6.03849403e-05]", 
        "ODE states Flux [uM/ms]:  [-0.00132464 -0.06038494]", 
        "WARNING: jSR and dCa are lumped tother into jVold", 
        "WARNING: I probably need to constrain jvolExpr s.t. the assembled value is equal to the ODE value", 
        "jboundary [mM/ms] -2.56509654941e-06", 
        "jboundary [uM/ms] -0.00256509654941", 
        "jvol [mM/ms]  1.23443883434e-06", 
        "jvol [uM/ms]  1.23443883434", 
        "##", 
        "## WARNING: we are not updating CaTnC!!!", 
        "##", 
        "T 3700.000000 [ms] Conc(0) 0.000340 [mM]"
       ]
      }, 
      {
       "output_type": "stream", 
       "stream": "stdout", 
       "text": [
        "", 
        "T 3700.000000 [ms] Conc(0) 0.340048 [uM]", 
        "T 3700.000000 [ms] Conc(1) 0.032466 [mM]", 
        "T 3700.000000 [ms] Conc(1) 32.466334 [uM]", 
        "WARNING: skipping conc updatee", 
        "###########################################################################", 
        "t0  3700.0 tf  3710.0", 
        "ODE Init [mM] [ 0.00034076  0.02732742]", 
        "t0 3700.000000 tf 3710.000000 [ms]", 
        "ODE statesF: [mM] "
       ]
      }, 
      {
       "output_type": "stream", 
       "stream": "stdout", 
       "text": [
        " [ 0.00033764  0.0267645 ]", 
        "ODE statesF: [uM]  0.337640408629", 
        "ODE states Flux [mM/ms]:  [ -3.11504134e-07  -5.62921922e-05]", 
        "ODE states Flux [uM/ms]:  [-0.0003115  -0.05629219]", 
        "WARNING: jSR and dCa are lumped tother into jVold", 
        "WARNING: I probably need to constrain jvolExpr s.t. the assembled value is equal to the ODE value", 
        "jboundary [mM/ms] 2.97756222506e-06", 
        "jboundary [uM/ms] 0.00297756222506", 
        "jvol [mM/ms]  -3.40933708723e-06", 
        "jvol [uM/ms]  -3.40933708723", 
        "##", 
        "## WARNING: we are not updating CaTnC!!!", 
        "##", 
        "T 3710.000000 [ms] Conc(0) 0.000336 [mM]"
       ]
      }, 
      {
       "output_type": "stream", 
       "stream": "stdout", 
       "text": [
        "", 
        "T 3710.000000 [ms] Conc(0) 0.335730 [uM]", 
        "T 3710.000000 [ms] Conc(1) 0.032466 [mM]", 
        "T 3710.000000 [ms] Conc(1) 32.466334 [uM]", 
        "WARNING: skipping conc updatee", 
        "###########################################################################", 
        "t0  3710.0 tf  3720.0", 
        "ODE Init [mM] [ 0.00033764  0.0267645 ]", 
        "t0 3710.000000 tf 3720.000000 [ms]", 
        "ODE statesF: [mM] "
       ]
      }, 
      {
       "output_type": "stream", 
       "stream": "stdout", 
       "text": [
        " [ 0.00034542  0.02640156]", 
        "ODE statesF: [uM]  0.345416446276", 
        "ODE states Flux [mM/ms]:  [  7.77603765e-07  -3.62935199e-05]", 
        "ODE states Flux [uM/ms]:  [ 0.0007776  -0.03629352]", 
        "WARNING: jSR and dCa are lumped tother into jVold", 
        "WARNING: I probably need to constrain jvolExpr s.t. the assembled value is equal to the ODE value", 
        "jboundary [mM/ms] 4.0887486245e-05", 
        "jboundary [uM/ms] 0.040887486245", 
        "jvol [mM/ms]  -4.01398905999e-05", 
        "jvol [uM/ms]  -40.1398905999", 
        "##", 
        "## WARNING: we are not updating CaTnC!!!", 
        "##", 
        "T 3720.000000 [ms] Conc(0) 0.000343 [mM]"
       ]
      }, 
      {
       "output_type": "stream", 
       "stream": "stdout", 
       "text": [
        "", 
        "T 3720.000000 [ms] Conc(0) 0.343206 [uM]", 
        "T 3720.000000 [ms] Conc(1) 0.032466 [mM]", 
        "T 3720.000000 [ms] Conc(1) 32.466334 [uM]", 
        "WARNING: skipping conc updatee", 
        "###########################################################################", 
        "t0  3720.0 tf  3730.0", 
        "ODE Init [mM] [ 0.00034542  0.02640156]", 
        "t0 3720.000000 tf 3730.000000 [ms]", 
        "ODE statesF: [mM] "
       ]
      }, 
      {
       "output_type": "stream", 
       "stream": "stdout", 
       "text": [
        " [ 0.00036447  0.02629149]", 
        "ODE statesF: [uM]  0.364469924852", 
        "ODE states Flux [mM/ms]:  [  1.90534786e-06  -1.10067160e-05]", 
        "ODE states Flux [uM/ms]:  [ 0.00190535 -0.01100672]", 
        "WARNING: jSR and dCa are lumped tother into jVold", 
        "WARNING: I probably need to constrain jvolExpr s.t. the assembled value is equal to the ODE value", 
        "jboundary [mM/ms] 8.50003010082e-05", 
        "jboundary [uM/ms] 0.0850003010082", 
        "jvol [mM/ms]  -8.31820081693e-05", 
        "jvol [uM/ms]  -83.1820081693", 
        "##", 
        "## WARNING: we are not updating CaTnC!!!", 
        "##", 
        "T 3730.000000 [ms] Conc(0) 0.000361 [mM]"
       ]
      }, 
      {
       "output_type": "stream", 
       "stream": "stdout", 
       "text": [
        "", 
        "T 3730.000000 [ms] Conc(0) 0.361389 [uM]", 
        "T 3730.000000 [ms] Conc(1) 0.032466 [mM]", 
        "T 3730.000000 [ms] Conc(1) 32.466334 [uM]", 
        "WARNING: skipping conc updatee", 
        "###########################################################################", 
        "t0  3730.0 tf  3740.0", 
        "ODE Init [mM] [ 0.00036447  0.02629149]", 
        "t0 3730.000000 tf 3740.000000 [ms]", 
        "ODE statesF: [mM] "
       ]
      }, 
      {
       "output_type": "stream", 
       "stream": "stdout", 
       "text": [
        " [ 0.0004108   0.02659891]", 
        "ODE statesF: [uM]  0.410795102268", 
        "ODE states Flux [mM/ms]:  [  4.63251774e-06   3.07413845e-05]", 
        "ODE states Flux [uM/ms]:  [ 0.00463252  0.03074138]", 
        "WARNING: jSR and dCa are lumped tother into jVold", 
        "WARNING: I probably need to constrain jvolExpr s.t. the assembled value is equal to the ODE value", 
        "jboundary [mM/ms] 0.000162679866847", 
        "jboundary [uM/ms] 0.162679866847", 
        "jvol [mM/ms]  -0.000158231889796", 
        "jvol [uM/ms]  -158.231889796", 
        "##", 
        "## WARNING: we are not updating CaTnC!!!", 
        "##", 
        "T 3740.000000 [ms] Conc(0) 0.000406 [mM]"
       ]
      }, 
      {
       "output_type": "stream", 
       "stream": "stdout", 
       "text": [
        "", 
        "T 3740.000000 [ms] Conc(0) 0.405869 [uM]", 
        "T 3740.000000 [ms] Conc(1) 0.032466 [mM]", 
        "T 3740.000000 [ms] Conc(1) 32.466334 [uM]", 
        "WARNING: skipping conc updatee", 
        "###########################################################################", 
        "t0  3740.0 tf  3750.0", 
        "ODE Init [mM] [ 0.0004108   0.02659891]", 
        "t0 3740.000000 tf 3750.000000 [ms]", 
        "ODE statesF: [mM] "
       ]
      }, 
      {
       "output_type": "stream", 
       "stream": "stdout", 
       "text": [
        " [ 0.00049158  0.02761215]", 
        "ODE statesF: [uM]  0.491583262668", 
        "ODE states Flux [mM/ms]:  [  8.07881604e-06   1.01324011e-04]", 
        "ODE states Flux [uM/ms]:  [ 0.00807882  0.10132401]", 
        "WARNING: jSR and dCa are lumped tother into jVold", 
        "WARNING: I probably need to constrain jvolExpr s.t. the assembled value is equal to the ODE value", 
        "jboundary [mM/ms] 0.000295403103077", 
        "jboundary [uM/ms] 0.295403103077", 
        "jvol [mM/ms]  -0.00028742381799", 
        "jvol [uM/ms]  -287.42381799", 
        "##", 
        "## WARNING: we are not updating CaTnC!!!", 
        "##", 
        "T 3750.000000 [ms] Conc(0) 0.000486 [mM]"
       ]
      }, 
      {
       "output_type": "stream", 
       "stream": "stdout", 
       "text": [
        "", 
        "T 3750.000000 [ms] Conc(0) 0.485661 [uM]", 
        "T 3750.000000 [ms] Conc(1) 0.032466 [mM]", 
        "T 3750.000000 [ms] Conc(1) 32.466334 [uM]", 
        "WARNING: skipping conc updatee", 
        "###########################################################################", 
        "t0  3750.0 tf  3760.0", 
        "ODE Init [mM] [ 0.00049158  0.02761215]", 
        "t0 3750.000000 tf 3760.000000 [ms]", 
        "ODE statesF: [mM] "
       ]
      }, 
      {
       "output_type": "stream", 
       "stream": "stdout", 
       "text": [
        " [ 0.00056353  0.02925412]", 
        "ODE statesF: [uM]  0.563527942738", 
        "ODE states Flux [mM/ms]:  [  7.19446801e-06   1.64196851e-04]", 
        "ODE states Flux [uM/ms]:  [ 0.00719447  0.16419685]", 
        "WARNING: jSR and dCa are lumped tother into jVold", 
        "WARNING: I probably need to constrain jvolExpr s.t. the assembled value is equal to the ODE value", 
        "jboundary [mM/ms] 0.000398462609501", 
        "jboundary [uM/ms] 0.398462609501", 
        "jvol [mM/ms]  -0.000391117763189", 
        "jvol [uM/ms]  -391.117763189", 
        "##", 
        "## WARNING: we are not updating CaTnC!!!", 
        "##", 
        "T 3760.000000 [ms] Conc(0) 0.000559 [mM]"
       ]
      }, 
      {
       "output_type": "stream", 
       "stream": "stdout", 
       "text": [
        "", 
        "T 3760.000000 [ms] Conc(0) 0.559110 [uM]", 
        "T 3760.000000 [ms] Conc(1) 0.032466 [mM]", 
        "T 3760.000000 [ms] Conc(1) 32.466334 [uM]", 
        "WARNING: skipping conc updatee", 
        "###########################################################################", 
        "t0  3760.0 tf  3770.0", 
        "ODE Init [mM] [ 0.00056353  0.02925412]", 
        "t0 3760.000000 tf 3770.000000 [ms]", 
        "ODE statesF: [mM] "
       ]
      }, 
      {
       "output_type": "stream", 
       "stream": "stdout", 
       "text": [
        " [ 0.00060261  0.03098015]", 
        "ODE statesF: [uM]  0.602606461579", 
        "ODE states Flux [mM/ms]:  [  3.90785188e-06   1.72602853e-04]", 
        "ODE states Flux [uM/ms]:  [ 0.00390785  0.17260285]", 
        "WARNING: jSR and dCa are lumped tother into jVold", 
        "WARNING: I probably need to constrain jvolExpr s.t. the assembled value is equal to the ODE value", 
        "jboundary [mM/ms] 0.000392100683034", 
        "jboundary [uM/ms] 0.392100683034", 
        "jvol [mM/ms]  -0.000388045109486", 
        "jvol [uM/ms]  -388.045109486", 
        "##", 
        "## WARNING: we are not updating CaTnC!!!", 
        "##", 
        "T 3770.000000 [ms] Conc(0) 0.000600 [mM]"
       ]
      }, 
      {
       "output_type": "stream", 
       "stream": "stdout", 
       "text": [
        "", 
        "T 3770.000000 [ms] Conc(0) 0.599666 [uM]", 
        "T 3770.000000 [ms] Conc(1) 0.032466 [mM]", 
        "T 3770.000000 [ms] Conc(1) 32.466334 [uM]", 
        "WARNING: skipping conc updatee", 
        "###########################################################################", 
        "t0  3770.0 tf  3780.0", 
        "ODE Init [mM] [ 0.00060261  0.03098015]", 
        "t0 3770.000000 tf 3780.000000 [ms]", 
        "ODE statesF: [mM] "
       ]
      }, 
      {
       "output_type": "stream", 
       "stream": "stdout", 
       "text": [
        " [ 0.00061908  0.03242131]", 
        "ODE statesF: [uM]  0.619077980122", 
        "ODE states Flux [mM/ms]:  [  1.64715185e-06   1.44116917e-04]", 
        "ODE states Flux [uM/ms]:  [ 0.00164715  0.14411692]", 
        "WARNING: jSR and dCa are lumped tother into jVold", 
        "WARNING: I probably need to constrain jvolExpr s.t. the assembled value is equal to the ODE value", 
        "jboundary [mM/ms] 0.000332764960379", 
        "jboundary [uM/ms] 0.332764960379", 
        "jvol [mM/ms]  -0.000331034129408", 
        "jvol [uM/ms]  -331.034129408", 
        "##", 
        "## WARNING: we are not updating CaTnC!!!", 
        "##", 
        "T 3780.000000 [ms] Conc(0) 0.000617 [mM]"
       ]
      }, 
      {
       "output_type": "stream", 
       "stream": "stdout", 
       "text": [
        "", 
        "T 3780.000000 [ms] Conc(0) 0.616974 [uM]", 
        "T 3780.000000 [ms] Conc(1) 0.032466 [mM]", 
        "T 3780.000000 [ms] Conc(1) 32.466334 [uM]", 
        "WARNING: skipping conc updatee", 
        "###########################################################################", 
        "t0  3780.0 tf  3790.0", 
        "ODE Init [mM] [ 0.00061908  0.03242131]", 
        "t0 3780.000000 tf 3790.000000 [ms]", 
        "ODE statesF: [mM] "
       ]
      }, 
      {
       "output_type": "stream", 
       "stream": "stdout", 
       "text": [
        " [ 0.00062307  0.03348335]", 
        "ODE statesF: [uM]  0.623070941565", 
        "ODE states Flux [mM/ms]:  [  3.99296144e-07   1.06203474e-04]", 
        "ODE states Flux [uM/ms]:  [ 0.0003993   0.10620347]", 
        "WARNING: jSR and dCa are lumped tother into jVold", 
        "WARNING: I probably need to constrain jvolExpr s.t. the assembled value is equal to the ODE value", 
        "jboundary [mM/ms] 0.00027063357862", 
        "jboundary [uM/ms] 0.27063357862", 
        "jvol [mM/ms]  -0.000270187650654", 
        "jvol [uM/ms]  -270.187650654", 
        "##", 
        "## WARNING: we are not updating CaTnC!!!", 
        "##", 
        "T 3790.000000 [ms] Conc(0) 0.000621 [mM]"
       ]
      }, 
      {
       "output_type": "stream", 
       "stream": "stdout", 
       "text": [
        "", 
        "T 3790.000000 [ms] Conc(0) 0.621433 [uM]", 
        "T 3790.000000 [ms] Conc(1) 0.032466 [mM]", 
        "T 3790.000000 [ms] Conc(1) 32.466334 [uM]", 
        "WARNING: skipping conc updatee", 
        "###########################################################################", 
        "t0  3790.0 tf  3800.0", 
        "ODE Init [mM] [ 0.00062307  0.03348335]", 
        "t0 3790.000000 tf 3800.000000 [ms]", 
        "ODE statesF: [mM] "
       ]
      }, 
      {
       "output_type": "stream", 
       "stream": "stdout", 
       "text": [
        " [ 0.00061984  0.0341943 ]", 
        "ODE statesF: [uM]  0.619837339695", 
        "ODE states Flux [mM/ms]:  [ -3.23360187e-07   7.10947252e-05]", 
        "ODE states Flux [uM/ms]:  [-0.00032336  0.07109473]", 
        "WARNING: jSR and dCa are lumped tother into jVold", 
        "WARNING: I probably need to constrain jvolExpr s.t. the assembled value is equal to the ODE value", 
        "jboundary [mM/ms] 0.000219287399709", 
        "jboundary [uM/ms] 0.219287399709", 
        "jvol [mM/ms]  -0.000219582486282", 
        "jvol [uM/ms]  -219.582486282", 
        "##", 
        "## WARNING: we are not updating CaTnC!!!", 
        "##", 
        "T 3800.000000 [ms] Conc(0) 0.000618 [mM]"
       ]
      }, 
      {
       "output_type": "stream", 
       "stream": "stdout", 
       "text": [
        "", 
        "T 3800.000000 [ms] Conc(0) 0.618482 [uM]", 
        "T 3800.000000 [ms] Conc(1) 0.032466 [mM]", 
        "T 3800.000000 [ms] Conc(1) 32.466334 [uM]", 
        "WARNING: skipping conc updatee", 
        "###########################################################################", 
        "t0  3800.0 tf  3810.0", 
        "ODE Init [mM] [ 0.00061984  0.0341943 ]", 
        "t0 3800.000000 tf 3810.000000 [ms]", 
        "ODE statesF: [mM] "
       ]
      }, 
      {
       "output_type": "stream", 
       "stream": "stdout", 
       "text": [
        " [ 0.00061207  0.03461545]", 
        "ODE statesF: [uM]  0.612066596051", 
        "ODE states Flux [mM/ms]:  [ -7.77074364e-07   4.21152919e-05]", 
        "ODE states Flux [uM/ms]:  [-0.00077707  0.04211529]", 
        "WARNING: jSR and dCa are lumped tother into jVold", 
        "WARNING: I probably need to constrain jvolExpr s.t. the assembled value is equal to the ODE value", 
        "jboundary [mM/ms] 0.000179259515902", 
        "jboundary [uM/ms] 0.179259515902", 
        "jvol [mM/ms]  -0.000180018278458", 
        "jvol [uM/ms]  -180.018278458", 
        "##", 
        "## WARNING: we are not updating CaTnC!!!", 
        "##", 
        "T 3810.000000 [ms] Conc(0) 0.000611 [mM]"
       ]
      }, 
      {
       "output_type": "stream", 
       "stream": "stdout", 
       "text": [
        "", 
        "T 3810.000000 [ms] Conc(0) 0.610895 [uM]", 
        "T 3810.000000 [ms] Conc(1) 0.032466 [mM]", 
        "T 3810.000000 [ms] Conc(1) 32.466334 [uM]", 
        "WARNING: skipping conc updatee", 
        "###########################################################################", 
        "t0  3810.0 tf  3820.0", 
        "ODE Init [mM] [ 0.00061207  0.03461545]", 
        "t0 3810.000000 tf 3820.000000 [ms]", 
        "ODE statesF: [mM] "
       ]
      }, 
      {
       "output_type": "stream", 
       "stream": "stdout", 
       "text": [
        " [ 0.00060132  0.03480843]", 
        "ODE statesF: [uM]  0.601315782933", 
        "ODE states Flux [mM/ms]:  [ -1.07508131e-06   1.92978894e-05]", 
        "ODE states Flux [uM/ms]:  [-0.00107508  0.01929789]", 
        "WARNING: jSR and dCa are lumped tother into jVold", 
        "WARNING: I probably need to constrain jvolExpr s.t. the assembled value is equal to the ODE value", 
        "jboundary [mM/ms] 0.000148461526292", 
        "jboundary [uM/ms] 0.148461526292", 
        "jvol [mM/ms]  -0.000149524492409", 
        "jvol [uM/ms]  -149.524492409", 
        "##", 
        "## WARNING: we are not updating CaTnC!!!", 
        "##", 
        "T 3820.000000 [ms] Conc(0) 0.000600 [mM]"
       ]
      }, 
      {
       "output_type": "stream", 
       "stream": "stdout", 
       "text": [
        "", 
        "T 3820.000000 [ms] Conc(0) 0.600265 [uM]", 
        "T 3820.000000 [ms] Conc(1) 0.032466 [mM]", 
        "T 3820.000000 [ms] Conc(1) 32.466334 [uM]", 
        "WARNING: skipping conc updatee", 
        "###########################################################################", 
        "t0  3820.0 tf  3830.0", 
        "ODE Init [mM] [ 0.00060132  0.03480843]", 
        "t0 3820.000000 tf 3830.000000 [ms]", 
        "ODE statesF: [mM] "
       ]
      }, 
      {
       "output_type": "stream", 
       "stream": "stdout", 
       "text": [
        " [ 0.00058861  0.03482573]", 
        "ODE statesF: [uM]  0.588607170052", 
        "ODE states Flux [mM/ms]:  [ -1.27086129e-06   1.72970130e-06]", 
        "ODE states Flux [uM/ms]:  [-0.00127086  0.0017297 ]", 
        "WARNING: jSR and dCa are lumped tother into jVold", 
        "WARNING: I probably need to constrain jvolExpr s.t. the assembled value is equal to the ODE value", 
        "jboundary [mM/ms] 0.000124772236784", 
        "jboundary [uM/ms] 0.124772236784", 
        "jvol [mM/ms]  -0.000126035255027", 
        "jvol [uM/ms]  -126.035255027", 
        "##", 
        "## WARNING: we are not updating CaTnC!!!", 
        "##", 
        "T 3830.000000 [ms] Conc(0) 0.000588 [mM]"
       ]
      }, 
      {
       "output_type": "stream", 
       "stream": "stdout", 
       "text": [
        "", 
        "T 3830.000000 [ms] Conc(0) 0.587635 [uM]", 
        "T 3830.000000 [ms] Conc(1) 0.032466 [mM]", 
        "T 3830.000000 [ms] Conc(1) 32.466334 [uM]", 
        "WARNING: skipping conc updatee", 
        "###########################################################################", 
        "t0  3830.0 tf  3840.0", 
        "ODE Init [mM] [ 0.00058861  0.03482573]", 
        "t0 3830.000000 tf 3840.000000 [ms]", 
        "ODE statesF: [mM] "
       ]
      }, 
      {
       "output_type": "stream", 
       "stream": "stdout", 
       "text": [
        " [ 0.00057467  0.03470945]", 
        "ODE statesF: [uM]  0.574665042647", 
        "ODE states Flux [mM/ms]:  [ -1.39421274e-06  -1.16279204e-05]", 
        "ODE states Flux [uM/ms]:  [-0.00139421 -0.01162792]", 
        "WARNING: jSR and dCa are lumped tother into jVold", 
        "WARNING: I probably need to constrain jvolExpr s.t. the assembled value is equal to the ODE value", 
        "jboundary [mM/ms] 0.000106482441406", 
        "jboundary [uM/ms] 0.106482441406", 
        "jvol [mM/ms]  -0.000107871900153", 
        "jvol [uM/ms]  -107.871900153", 
        "##", 
        "## WARNING: we are not updating CaTnC!!!", 
        "##", 
        "T 3840.000000 [ms] Conc(0) 0.000574 [mM]"
       ]
      }, 
      {
       "output_type": "stream", 
       "stream": "stdout", 
       "text": [
        "", 
        "T 3840.000000 [ms] Conc(0) 0.573740 [uM]", 
        "T 3840.000000 [ms] Conc(1) 0.032466 [mM]", 
        "T 3840.000000 [ms] Conc(1) 32.466334 [uM]", 
        "WARNING: skipping conc updatee", 
        "###########################################################################", 
        "t0  3840.0 tf  3850.0", 
        "ODE Init [mM] [ 0.00057467  0.03470945]", 
        "t0 3840.000000 tf 3850.000000 [ms]", 
        "ODE statesF: [mM] "
       ]
      }, 
      {
       "output_type": "stream", 
       "stream": "stdout", 
       "text": [
        " [ 0.00056002  0.03449253]", 
        "ODE statesF: [uM]  0.560016670394", 
        "ODE states Flux [mM/ms]:  [ -1.46483723e-06  -2.16920266e-05]", 
        "ODE states Flux [uM/ms]:  [-0.00146484 -0.02169203]", 
        "WARNING: jSR and dCa are lumped tother into jVold", 
        "WARNING: I probably need to constrain jvolExpr s.t. the assembled value is equal to the ODE value", 
        "jboundary [mM/ms] 9.22786641568e-05", 
        "jboundary [uM/ms] 0.0922786641568", 
        "jvol [mM/ms]  -9.37409990274e-05", 
        "jvol [uM/ms]  -93.7409990274", 
        "##", 
        "## WARNING: we are not updating CaTnC!!!", 
        "##", 
        "T 3850.000000 [ms] Conc(0) 0.000559 [mM]"
       ]
      }, 
      {
       "output_type": "stream", 
       "stream": "stdout", 
       "text": [
        "", 
        "T 3850.000000 [ms] Conc(0) 0.559117 [uM]", 
        "T 3850.000000 [ms] Conc(1) 0.032466 [mM]", 
        "T 3850.000000 [ms] Conc(1) 32.466334 [uM]", 
        "WARNING: skipping conc updatee", 
        "###########################################################################", 
        "t0  3850.0 tf  3860.0", 
        "ODE Init [mM] [ 0.00056002  0.03449253]", 
        "t0 3850.000000 tf 3860.000000 [ms]", 
        "ODE statesF: [mM] "
       ]
      }, 
      {
       "output_type": "stream", 
       "stream": "stdout", 
       "text": [
        " [ 0.00054504  0.03420043]", 
        "ODE statesF: [uM]  0.545043915507", 
        "ODE states Flux [mM/ms]:  [ -1.49727549e-06  -2.92098932e-05]", 
        "ODE states Flux [uM/ms]:  [-0.00149728 -0.02920989]", 
        "WARNING: jSR and dCa are lumped tother into jVold", 
        "WARNING: I probably need to constrain jvolExpr s.t. the assembled value is equal to the ODE value", 
        "jboundary [mM/ms] 8.11582369218e-05", 
        "jboundary [uM/ms] 0.0811582369218", 
        "jvol [mM/ms]  -8.26546242483e-05", 
        "jvol [uM/ms]  -82.6546242483", 
        "##", 
        "## WARNING: we are not updating CaTnC!!!", 
        "##", 
        "T 3860.000000 [ms] Conc(0) 0.000544 [mM]"
       ]
      }, 
      {
       "output_type": "stream", 
       "stream": "stdout", 
       "text": [
        "", 
        "T 3860.000000 [ms] Conc(0) 0.544153 [uM]", 
        "T 3860.000000 [ms] Conc(1) 0.032466 [mM]", 
        "T 3860.000000 [ms] Conc(1) 32.466334 [uM]", 
        "WARNING: skipping conc updatee", 
        "###########################################################################", 
        "t0  3860.0 tf  3870.0", 
        "ODE Init [mM] [ 0.00054504  0.03420043]", 
        "t0 3860.000000 tf 3870.000000 [ms]", 
        "ODE statesF: [mM] "
       ]
      }, 
      {
       "output_type": "stream", 
       "stream": "stdout", 
       "text": [
        " [ 0.00053002  0.03385269]", 
        "ODE statesF: [uM]  0.53001581005", 
        "ODE states Flux [mM/ms]:  [ -1.50281055e-06  -3.47733149e-05]", 
        "ODE states Flux [uM/ms]:  [-0.00150281 -0.03477331]", 
        "WARNING: jSR and dCa are lumped tother into jVold", 
        "WARNING: I probably need to constrain jvolExpr s.t. the assembled value is equal to the ODE value", 
        "jboundary [mM/ms] 7.23524820648e-05", 
        "jboundary [uM/ms] 0.0723524820648", 
        "jvol [mM/ms]  -7.38555165821e-05", 
        "jvol [uM/ms]  -73.8555165821", 
        "##", 
        "## WARNING: we are not updating CaTnC!!!", 
        "##", 
        "T 3870.000000 [ms] Conc(0) 0.000529 [mM]"
       ]
      }, 
      {
       "output_type": "stream", 
       "stream": "stdout", 
       "text": [
        "", 
        "T 3870.000000 [ms] Conc(0) 0.529123 [uM]", 
        "T 3870.000000 [ms] Conc(1) 0.032466 [mM]", 
        "T 3870.000000 [ms] Conc(1) 32.466334 [uM]", 
        "WARNING: skipping conc updatee", 
        "###########################################################################", 
        "t0  3870.0 tf  3880.0", 
        "ODE Init [mM] [ 0.00053002  0.03385269]", 
        "t0 3870.000000 tf 3880.000000 [ms]", 
        "ODE statesF: [mM] "
       ]
      }, 
      {
       "output_type": "stream", 
       "stream": "stdout", 
       "text": [
        " [ 0.00051511  0.03346422]", 
        "ODE statesF: [uM]  0.51511194518", 
        "ODE states Flux [mM/ms]:  [ -1.49038649e-06  -3.88474905e-05]", 
        "ODE states Flux [uM/ms]:  [-0.00149039 -0.03884749]", 
        "WARNING: jSR and dCa are lumped tother into jVold", 
        "WARNING: I probably need to constrain jvolExpr s.t. the assembled value is equal to the ODE value", 
        "jboundary [mM/ms] 6.52663175556e-05", 
        "jboundary [uM/ms] 0.0652663175556", 
        "jvol [mM/ms]  -6.6757638906e-05", 
        "jvol [uM/ms]  -66.757638906", 
        "##", 
        "## WARNING: we are not updating CaTnC!!!", 
        "##", 
        "T 3880.000000 [ms] Conc(0) 0.000514 [mM]"
       ]
      }, 
      {
       "output_type": "stream", 
       "stream": "stdout", 
       "text": [
        "", 
        "T 3880.000000 [ms] Conc(0) 0.514210 [uM]", 
        "T 3880.000000 [ms] Conc(1) 0.032466 [mM]", 
        "T 3880.000000 [ms] Conc(1) 32.466334 [uM]", 
        "WARNING: skipping conc updatee", 
        "###########################################################################", 
        "t0  3880.0 tf  3890.0", 
        "ODE Init [mM] [ 0.00051511  0.03346422]", 
        "t0 3880.000000 tf 3890.000000 [ms]", 
        "ODE statesF: [mM] "
       ]
      }, 
      {
       "output_type": "stream", 
       "stream": "stdout", 
       "text": [
        " [ 0.00050044  0.03304621]", 
        "ODE statesF: [uM]  0.500439363821", 
        "ODE states Flux [mM/ms]:  [ -1.46725814e-06  -4.18005550e-05]", 
        "ODE states Flux [uM/ms]:  [-0.00146726 -0.04180055]", 
        "WARNING: jSR and dCa are lumped tother into jVold", 
        "WARNING: I probably need to constrain jvolExpr s.t. the assembled value is equal to the ODE value", 
        "jboundary [mM/ms] 5.94307427734e-05", 
        "jboundary [uM/ms] 0.0594307427734", 
        "jvol [mM/ms]  -6.08993154003e-05", 
        "jvol [uM/ms]  -60.8993154003", 
        "##", 
        "## WARNING: we are not updating CaTnC!!!", 
        "##", 
        "T 3890.000000 [ms] Conc(0) 0.000500 [mM]"
       ]
      }, 
      {
       "output_type": "stream", 
       "stream": "stdout", 
       "text": [
        "", 
        "T 3890.000000 [ms] Conc(0) 0.499524 [uM]", 
        "T 3890.000000 [ms] Conc(1) 0.032466 [mM]", 
        "T 3890.000000 [ms] Conc(1) 32.466334 [uM]", 
        "WARNING: skipping conc updatee", 
        "###########################################################################", 
        "t0  3890.0 tf  3900.0", 
        "ODE Init [mM] [ 0.00050044  0.03304621]", 
        "t0 3890.000000 tf 3900.000000 [ms]", 
        "ODE statesF: [mM] "
       ]
      }, 
      {
       "output_type": "stream", 
       "stream": "stdout", 
       "text": [
        " [ 0.00048604  0.03260692]", 
        "ODE statesF: [uM]  0.486043417451", 
        "ODE states Flux [mM/ms]:  [ -1.43959464e-06  -4.39298620e-05]", 
        "ODE states Flux [uM/ms]:  [-0.00143959 -0.04392986]", 
        "WARNING: jSR and dCa are lumped tother into jVold", 
        "WARNING: I probably need to constrain jvolExpr s.t. the assembled value is equal to the ODE value", 
        "jboundary [mM/ms] 5.44635937002e-05", 
        "jboundary [uM/ms] 0.0544635937002", 
        "jvol [mM/ms]  -5.59045901817e-05", 
        "jvol [uM/ms]  -55.9045901817", 
        "##", 
        "## WARNING: we are not updating CaTnC!!!", 
        "##", 
        "T 3900.000000 [ms] Conc(0) 0.000485 [mM]"
       ]
      }, 
      {
       "output_type": "stream", 
       "stream": "stdout", 
       "text": [
        "", 
        "T 3900.000000 [ms] Conc(0) 0.485114 [uM]", 
        "T 3900.000000 [ms] Conc(1) 0.032466 [mM]", 
        "T 3900.000000 [ms] Conc(1) 32.466334 [uM]", 
        "WARNING: skipping conc updatee", 
        "###########################################################################", 
        "t0  3900.0 tf  3910.0", 
        "ODE Init [mM] [ 0.00048604  0.03260692]", 
        "t0 3900.000000 tf 3910.000000 [ms]", 
        "ODE statesF: [mM] "
       ]
      }, 
      {
       "output_type": "stream", 
       "stream": "stdout", 
       "text": [
        " [ 0.00047191  0.03215206]", 
        "ODE statesF: [uM]  0.471911955202", 
        "ODE states Flux [mM/ms]:  [ -1.41314622e-06  -4.54855441e-05]", 
        "ODE states Flux [uM/ms]:  [-0.00141315 -0.04548554]", 
        "WARNING: jSR and dCa are lumped tother into jVold", 
        "WARNING: I probably need to constrain jvolExpr s.t. the assembled value is equal to the ODE value", 
        "jboundary [mM/ms] 5.00340034308e-05", 
        "jboundary [uM/ms] 0.0500340034308", 
        "jvol [mM/ms]  -5.14483491852e-05", 
        "jvol [uM/ms]  -51.4483491852", 
        "##", 
        "## WARNING: we are not updating CaTnC!!!", 
        "##", 
        "T 3910.000000 [ms] Conc(0) 0.000471 [mM]"
       ]
      }, 
      {
       "output_type": "stream", 
       "stream": "stdout", 
       "text": [
        "", 
        "T 3910.000000 [ms] Conc(0) 0.470970 [uM]", 
        "T 3910.000000 [ms] Conc(1) 0.032466 [mM]", 
        "T 3910.000000 [ms] Conc(1) 32.466334 [uM]", 
        "WARNING: skipping conc updatee", 
        "###########################################################################", 
        "t0  3910.0 tf  3920.0", 
        "ODE Init [mM] [ 0.00047191  0.03215206]", 
        "t0 3910.000000 tf 3920.000000 [ms]", 
        "ODE statesF: [mM] "
       ]
      }, 
      {
       "output_type": "stream", 
       "stream": "stdout", 
       "text": [
        " [ 0.00045797  0.03168512]", 
        "ODE statesF: [uM]  0.457971204612", 
        "ODE states Flux [mM/ms]:  [ -1.39407506e-06  -4.66937161e-05]", 
        "ODE states Flux [uM/ms]:  [-0.00139408 -0.04669372]", 
        "WARNING: jSR and dCa are lumped tother into jVold", 
        "WARNING: I probably need to constrain jvolExpr s.t. the assembled value is equal to the ODE value", 
        "jboundary [mM/ms] 4.58253898563e-05", 
        "jboundary [uM/ms] 0.0458253898563", 
        "jvol [mM/ms]  -4.72201284651e-05", 
        "jvol [uM/ms]  -47.2201284651", 
        "##", 
        "## WARNING: we are not updating CaTnC!!!", 
        "##", 
        "T 3920.000000 [ms] Conc(0) 0.000457 [mM]"
       ]
      }, 
      {
       "output_type": "stream", 
       "stream": "stdout", 
       "text": [
        "", 
        "T 3920.000000 [ms] Conc(0) 0.457023 [uM]", 
        "T 3920.000000 [ms] Conc(1) 0.032466 [mM]", 
        "T 3920.000000 [ms] Conc(1) 32.466334 [uM]", 
        "WARNING: skipping conc updatee", 
        "###########################################################################", 
        "t0  3920.0 tf  3930.0", 
        "ODE Init [mM] [ 0.00045797  0.03168512]", 
        "t0 3920.000000 tf 3930.000000 [ms]", 
        "ODE statesF: [mM] "
       ]
      }, 
      {
       "output_type": "stream", 
       "stream": "stdout", 
       "text": [
        " [ 0.00044407  0.0312073 ]", 
        "ODE statesF: [uM]  0.444071994908", 
        "ODE states Flux [mM/ms]:  [ -1.38992097e-06  -4.77821451e-05]", 
        "ODE states Flux [uM/ms]:  [-0.00138992 -0.04778215]", 
        "WARNING: jSR and dCa are lumped tother into jVold", 
        "WARNING: I probably need to constrain jvolExpr s.t. the assembled value is equal to the ODE value", 
        "jboundary [mM/ms] 4.14916713282e-05", 
        "jboundary [uM/ms] 0.0414916713282", 
        "jvol [mM/ms]  -4.28812989035e-05", 
        "jvol [uM/ms]  -42.8812989035", 
        "##", 
        "## WARNING: we are not updating CaTnC!!!", 
        "##", 
        "T 3930.000000 [ms] Conc(0) 0.000443 [mM]"
       ]
      }, 
      {
       "output_type": "stream", 
       "stream": "stdout", 
       "text": [
        "", 
        "T 3930.000000 [ms] Conc(0) 0.443127 [uM]", 
        "T 3930.000000 [ms] Conc(1) 0.032466 [mM]", 
        "T 3930.000000 [ms] Conc(1) 32.466334 [uM]", 
        "WARNING: skipping conc updatee", 
        "###########################################################################", 
        "t0  3930.0 tf  3940.0", 
        "ODE Init [mM] [ 0.00044407  0.0312073 ]", 
        "t0 3930.000000 tf 3940.000000 [ms]", 
        "ODE statesF: [mM] "
       ]
      }, 
      {
       "output_type": "stream", 
       "stream": "stdout", 
       "text": [
        " [ 0.00042998  0.03071724]", 
        "ODE statesF: [uM]  0.42997765802", 
        "ODE states Flux [mM/ms]:  [ -1.40943369e-06  -4.90056390e-05]", 
        "ODE states Flux [uM/ms]:  [-0.00140943 -0.04900564]", 
        "WARNING: jSR and dCa are lumped tother into jVold", 
        "WARNING: I probably need to constrain jvolExpr s.t. the assembled value is equal to the ODE value", 
        "jboundary [mM/ms] 3.66140454252e-05", 
        "jboundary [uM/ms] 0.0366140454252", 
        "jvol [mM/ms]  -3.80218253707e-05", 
        "jvol [uM/ms]  -38.0218253707", 
        "##", 
        "## WARNING: we are not updating CaTnC!!!", 
        "##", 
        "T 3940.000000 [ms] Conc(0) 0.000429 [mM]"
       ]
      }, 
      {
       "output_type": "stream", 
       "stream": "stdout", 
       "text": [
        "", 
        "T 3940.000000 [ms] Conc(0) 0.429049 [uM]", 
        "T 3940.000000 [ms] Conc(1) 0.032466 [mM]", 
        "T 3940.000000 [ms] Conc(1) 32.466334 [uM]", 
        "WARNING: skipping conc updatee", 
        "###########################################################################", 
        "t0  3940.0 tf  3950.0", 
        "ODE Init [mM] [ 0.00042998  0.03071724]", 
        "t0 3940.000000 tf 3950.000000 [ms]", 
        "ODE statesF: [mM] "
       ]
      }, 
      {
       "output_type": "stream", 
       "stream": "stdout", 
       "text": [
        " [ 0.00041543  0.03021096]", 
        "ODE statesF: [uM]  0.415432828281", 
        "ODE states Flux [mM/ms]:  [ -1.45448297e-06  -5.06284950e-05]", 
        "ODE states Flux [uM/ms]:  [-0.00145448 -0.0506285 ]", 
        "WARNING: jSR and dCa are lumped tother into jVold", 
        "WARNING: I probably need to constrain jvolExpr s.t. the assembled value is equal to the ODE value", 
        "jboundary [mM/ms] 3.07508855451e-05", 
        "jboundary [uM/ms] 0.0307508855451", 
        "jvol [mM/ms]  -3.220276478e-05", 
        "jvol [uM/ms]  -32.20276478", 
        "##", 
        "## WARNING: we are not updating CaTnC!!!", 
        "##", 
        "T 3950.000000 [ms] Conc(0) 0.000415 [mM]"
       ]
      }, 
      {
       "output_type": "stream", 
       "stream": "stdout", 
       "text": [
        "", 
        "T 3950.000000 [ms] Conc(0) 0.414530 [uM]", 
        "T 3950.000000 [ms] Conc(1) 0.032466 [mM]", 
        "T 3950.000000 [ms] Conc(1) 32.466334 [uM]", 
        "WARNING: skipping conc updatee", 
        "###########################################################################", 
        "t0  3950.0 tf  3960.0", 
        "ODE Init [mM] [ 0.00041543  0.03021096]", 
        "t0 3950.000000 tf 3960.000000 [ms]", 
        "ODE statesF: [mM] "
       ]
      }, 
      {
       "output_type": "stream", 
       "stream": "stdout", 
       "text": [
        " [ 0.00040043  0.02968361]", 
        "ODE statesF: [uM]  0.400432018241", 
        "ODE states Flux [mM/ms]:  [ -1.50008100e-06  -5.27352272e-05]", 
        "ODE states Flux [uM/ms]:  [-0.00150008 -0.05273523]", 
        "WARNING: jSR and dCa are lumped tother into jVold", 
        "WARNING: I probably need to constrain jvolExpr s.t. the assembled value is equal to the ODE value", 
        "jboundary [mM/ms] 2.38449472258e-05", 
        "jboundary [uM/ms] 0.0238449472258", 
        "jvol [mM/ms]  -2.53432777489e-05", 
        "jvol [uM/ms]  -25.3432777489", 
        "##", 
        "## WARNING: we are not updating CaTnC!!!", 
        "##", 
        "T 3960.000000 [ms] Conc(0) 0.000400 [mM]"
       ]
      }, 
      {
       "output_type": "stream", 
       "stream": "stdout", 
       "text": [
        "", 
        "T 3960.000000 [ms] Conc(0) 0.399547 [uM]", 
        "T 3960.000000 [ms] Conc(1) 0.032466 [mM]", 
        "T 3960.000000 [ms] Conc(1) 32.466334 [uM]", 
        "WARNING: skipping conc updatee", 
        "###########################################################################", 
        "t0  3960.0 tf  3970.0", 
        "ODE Init [mM] [ 0.00040043  0.02968361]", 
        "t0 3960.000000 tf 3970.000000 [ms]", 
        "ODE statesF: [mM] "
       ]
      }, 
      {
       "output_type": "stream", 
       "stream": "stdout", 
       "text": [
        " [ 0.00038495  0.02913207]", 
        "ODE statesF: [uM]  0.384947001073", 
        "ODE states Flux [mM/ms]:  [ -1.54850172e-06  -5.51534755e-05]", 
        "ODE states Flux [uM/ms]:  [-0.0015485  -0.05515348]", 
        "WARNING: jSR and dCa are lumped tother into jVold", 
        "WARNING: I probably need to constrain jvolExpr s.t. the assembled value is equal to the ODE value", 
        "jboundary [mM/ms] 1.63076904652e-05", 
        "jboundary [uM/ms] 0.0163076904652", 
        "jvol [mM/ms]  -1.78522416085e-05", 
        "jvol [uM/ms]  -17.8522416085", 
        "##", 
        "## WARNING: we are not updating CaTnC!!!", 
        "##", 
        "T 3970.000000 [ms] Conc(0) 0.000384 [mM]"
       ]
      }, 
      {
       "output_type": "stream", 
       "stream": "stdout", 
       "text": [
        "", 
        "T 3970.000000 [ms] Conc(0) 0.384101 [uM]", 
        "T 3970.000000 [ms] Conc(1) 0.032466 [mM]", 
        "T 3970.000000 [ms] Conc(1) 32.466334 [uM]", 
        "WARNING: skipping conc updatee", 
        "###########################################################################", 
        "t0  3970.0 tf  3980.0", 
        "ODE Init [mM] [ 0.00038495  0.02913207]", 
        "t0 3970.000000 tf 3980.000000 [ms]", 
        "ODE statesF: [mM] "
       ]
      }, 
      {
       "output_type": "stream", 
       "stream": "stdout", 
       "text": [
        " [ 0.00036883  0.02855043]", 
        "ODE statesF: [uM]  0.368829637394", 
        "ODE states Flux [mM/ms]:  [ -1.61173637e-06  -5.81641277e-05]", 
        "ODE states Flux [uM/ms]:  [-0.00161174 -0.05816413]", 
        "WARNING: jSR and dCa are lumped tother into jVold", 
        "WARNING: I probably need to constrain jvolExpr s.t. the assembled value is equal to the ODE value", 
        "jboundary [mM/ms] 7.46584111593e-06", 
        "jboundary [uM/ms] 0.00746584111593", 
        "jvol [mM/ms]  -9.07851512938e-06", 
        "jvol [uM/ms]  -9.07851512938", 
        "##", 
        "## WARNING: we are not updating CaTnC!!!", 
        "##", 
        "T 3980.000000 [ms] Conc(0) 0.000368 [mM]"
       ]
      }, 
      {
       "output_type": "stream", 
       "stream": "stdout", 
       "text": [
        "", 
        "T 3980.000000 [ms] Conc(0) 0.367975 [uM]", 
        "T 3980.000000 [ms] Conc(1) 0.032466 [mM]", 
        "T 3980.000000 [ms] Conc(1) 32.466334 [uM]", 
        "WARNING: skipping conc updatee", 
        "###########################################################################", 
        "t0  3980.0 tf  3990.0", 
        "ODE Init [mM] [ 0.00036883  0.02855043]", 
        "t0 3980.000000 tf 3990.000000 [ms]", 
        "ODE statesF: [mM] "
       ]
      }, 
      {
       "output_type": "stream", 
       "stream": "stdout", 
       "text": [
        " [ 0.00035411  0.02794622]", 
        "ODE statesF: [uM]  0.354111638517", 
        "ODE states Flux [mM/ms]:  [ -1.47179989e-06  -6.04213642e-05]", 
        "ODE states Flux [uM/ms]:  [-0.0014718  -0.06042136]", 
        "WARNING: jSR and dCa are lumped tother into jVold", 
        "WARNING: I probably need to constrain jvolExpr s.t. the assembled value is equal to the ODE value", 
        "jboundary [mM/ms] 4.02112937263e-07", 
        "jboundary [uM/ms] 0.000402112937263", 
        "jvol [mM/ms]  -1.88316730243e-06", 
        "jvol [uM/ms]  -1.88316730243", 
        "##", 
        "## WARNING: we are not updating CaTnC!!!", 
        "##", 
        "T 3990.000000 [ms] Conc(0) 0.000353 [mM]"
       ]
      }, 
      {
       "output_type": "stream", 
       "stream": "stdout", 
       "text": [
        "", 
        "T 3990.000000 [ms] Conc(0) 0.353164 [uM]", 
        "T 3990.000000 [ms] Conc(1) 0.032466 [mM]", 
        "T 3990.000000 [ms] Conc(1) 32.466334 [uM]", 
        "WARNING: skipping conc updatee", 
        "###########################################################################", 
        "t0  3990.0 tf  4000.0", 
        "ODE Init [mM] [ 0.00035411  0.02794622]", 
        "t0 3990.000000 tf 4000.000000 [ms]", 
        "ODE statesF: [mM] "
       ]
      }, 
      {
       "output_type": "stream", 
       "stream": "stdout", 
       "text": [
        " [ 0.00034085  0.02733963]", 
        "ODE statesF: [uM]  0.340852533066", 
        "ODE states Flux [mM/ms]:  [ -1.32591055e-06  -6.06589485e-05]", 
        "ODE states Flux [uM/ms]:  [-0.00132591 -0.06065895]", 
        "WARNING: jSR and dCa are lumped tother into jVold", 
        "WARNING: I probably need to constrain jvolExpr s.t. the assembled value is equal to the ODE value", 
        "jboundary [mM/ms] -2.75154419865e-06", 
        "jboundary [uM/ms] -0.00275154419865", 
        "jvol [mM/ms]  1.41968051604e-06", 
        "jvol [uM/ms]  1.41968051604", 
        "##", 
        "## WARNING: we are not updating CaTnC!!!", 
        "##", 
        "T 4000.000000 [ms] Conc(0) 0.000340 [mM]"
       ]
      }, 
      {
       "ename": "AssertionError", 
       "evalue": "FAIL: ", 
       "output_type": "pyerr", 
       "traceback": [
        "\u001b[0;31m---------------------------------------------------------------------------\u001b[0m\n\u001b[0;31mAssertionError\u001b[0m                            Traceback (most recent call last)", 
        "\u001b[0;32m/home/huskeypm/localTemp/wholecell/<ipython-input-6-02ac020d9d5f>\u001b[0m in \u001b[0;36m<module>\u001b[0;34m()\u001b[0m\n\u001b[1;32m      6\u001b[0m \u001b[0mrun\u001b[0m\u001b[0;34m=\u001b[0m\u001b[0;36m1\u001b[0m\u001b[0;34m\u001b[0m\u001b[0m\n\u001b[1;32m      7\u001b[0m \u001b[0;32mif\u001b[0m \u001b[0mrun\u001b[0m\u001b[0;34m:\u001b[0m\u001b[0;34m\u001b[0m\u001b[0m\n\u001b[0;32m----> 8\u001b[0;31m   \u001b[0mgt\u001b[0m\u001b[0;34m.\u001b[0m\u001b[0mTest1\u001b[0m\u001b[0;34m(\u001b[0m\u001b[0;34m)\u001b[0m\u001b[0;34m\u001b[0m\u001b[0m\n\u001b[0m\u001b[1;32m      9\u001b[0m \u001b[0;34m\u001b[0m\u001b[0m\n", 
        "\u001b[0;32m/home/huskeypm/localTemp/wholecell/templateGotran.py\u001b[0m in \u001b[0;36mTest1\u001b[0;34m(do)\u001b[0m\n\u001b[1;32m    868\u001b[0m     \u001b[0mi\u001b[0m\u001b[0;34m=\u001b[0m\u001b[0;36m0\u001b[0m\u001b[0;34m\u001b[0m\u001b[0m\n\u001b[1;32m    869\u001b[0m     \u001b[0;31m#print resultsi.cs[i] - 0.000299\u001b[0m\n\u001b[0;34m\u001b[0m\u001b[0m\n\u001b[0;32m--> 870\u001b[0;31m     \u001b[0;32massert\u001b[0m\u001b[0;34m(\u001b[0m\u001b[0mnp\u001b[0m\u001b[0;34m.\u001b[0m\u001b[0mabs\u001b[0m\u001b[0;34m(\u001b[0m\u001b[0mresultsi\u001b[0m\u001b[0;34m.\u001b[0m\u001b[0mcs\u001b[0m\u001b[0;34m[\u001b[0m\u001b[0mi\u001b[0m\u001b[0;34m]\u001b[0m \u001b[0;34m-\u001b[0m \u001b[0;36m0.000299\u001b[0m\u001b[0;34m)\u001b[0m \u001b[0;34m<\u001b[0m \u001b[0;36m1e-6\u001b[0m\u001b[0;34m)\u001b[0m\u001b[0;34m,\u001b[0m \u001b[0;34m\"FAIL: \"\u001b[0m \u001b[0;34m%\u001b[0m \u001b[0mresultsi\u001b[0m\u001b[0;34m.\u001b[0m\u001b[0mcs\u001b[0m\u001b[0;34m[\u001b[0m\u001b[0mi\u001b[0m\u001b[0;34m]\u001b[0m\u001b[0;34m\u001b[0m\u001b[0m\n\u001b[0m\u001b[1;32m    871\u001b[0m     \u001b[0mi\u001b[0m\u001b[0;34m=\u001b[0m\u001b[0;34m-\u001b[0m\u001b[0;36m1\u001b[0m\u001b[0;34m\u001b[0m\u001b[0m\n\u001b[1;32m    872\u001b[0m     \u001b[0;32massert\u001b[0m\u001b[0;34m(\u001b[0m\u001b[0mnp\u001b[0m\u001b[0;34m.\u001b[0m\u001b[0mabs\u001b[0m\u001b[0;34m(\u001b[0m\u001b[0mresultsi\u001b[0m\u001b[0;34m.\u001b[0m\u001b[0mcs\u001b[0m\u001b[0;34m[\u001b[0m\u001b[0mi\u001b[0m\u001b[0;34m]\u001b[0m \u001b[0;34m-\u001b[0m \u001b[0;36m0.000182\u001b[0m\u001b[0;34m)\u001b[0m \u001b[0;34m<\u001b[0m \u001b[0;36m1e-6\u001b[0m\u001b[0;34m)\u001b[0m\u001b[0;34m,\u001b[0m \u001b[0;34m\"FAIL: \"\u001b[0m \u001b[0;34m%\u001b[0m \u001b[0mresultsi\u001b[0m\u001b[0;34m.\u001b[0m\u001b[0mcs\u001b[0m\u001b[0;34m[\u001b[0m\u001b[0mi\u001b[0m\u001b[0;34m]\u001b[0m\u001b[0;34m\u001b[0m\u001b[0m\n", 
        "\u001b[0;31mAssertionError\u001b[0m: FAIL: "
       ]
      }, 
      {
       "output_type": "stream", 
       "stream": "stdout", 
       "text": [
        "", 
        "T 4000.000000 [ms] Conc(0) 0.339845 [uM]", 
        "T 4000.000000 [ms] Conc(1) 0.032466 [mM]", 
        "T 4000.000000 [ms] Conc(1) 32.466334 [uM]", 
        "WARNING: skipping conc updatee", 
        "### Mode separateFlux passes!"
       ]
      }, 
      {
       "output_type": "display_data", 
       "png": "[encoded data removed]"
      }
     ], 
     "prompt_number": 6
    }, 
    {
     "cell_type": "code", 
     "collapsed": false, 
     "input": [
      "", 
      "def reader(name):", 
      "  case1 = empty()", 
      "  case1.pickleName = name ", 
      "  pkl_file = open(case1.pickleName, 'rb')", 
      "  data1 = pickle.load(pkl_file)", 
      "  case1.jSRs = data1['jSRs']", 
      "  case1.cs = data1['cs']", 
      "  case1.cbs = data1['cbs']", 
      "  case1.ts = data1['ts']", 
      "  pkl_file.close()", 
      "  return case1", 
      "", 
      "case1 = reader(\"test1.pkl\")", 
      "case2 = reader(\"test2.pkl\")", 
      "", 
      "plt.plot(case1.ts,case1.cs[1:],label=case1.pickleName)", 
      "plt.plot(case2.ts,case2.cs[1:],label=case2.pickleName)", 
      "plt.legend()"
     ], 
     "language": "python", 
     "outputs": [
      {
       "output_type": "pyout", 
       "prompt_number": 11, 
       "text": [
        "<matplotlib.legend.Legend at 0x6541f50>"
       ]
      }, 
      {
       "output_type": "display_data", 
       "png": "[encoded data removed]"
      }
     ], 
     "prompt_number": 11
    }, 
    {
     "cell_type": "markdown", 
     "source": [
      "### Production ", 
      "- R9Q", 
      "- RN9C", 
      "- WT", 
      "- add 2D Ca (and possible CaSR) plot for each "
     ]
    }, 
    {
     "cell_type": "code", 
     "collapsed": true, 
     "input": [
      "#%%capture captured", 
      "gt.cparams.plot = False", 
      "duration = 1e3", 
      "", 
      "Kmfs = np.array([0.9,1.0,1.1]) * Kmf_guess", 
      "names = [\"R9C\",\"WT\",\"R9Q\"]", 
      "", 
      "run=0", 
      "if(run):", 
      "  # case 1 ", 
      "  p1 = gt.cparams()", 
      "  p1.odeParams[gt.param_indices(\"Kmf\")] = Kmfs[0]                                                                ", 
      "  problem1, results1 = gt.loop(p1,case=names[0],duration=duration);", 
      "                             ", 
      "  # case 2 ", 
      "  p2 = gt.cparams()", 
      "  p2.odeParams[gt.param_indices(\"Kmf\")] = Kmfs[1]                                                                 ", 
      "  problem2, results2 = gt.loop(p2,case=names[1],duration=duration);", 
      "                             ", 
      "  # case 3 ", 
      "  p3 = gt.cparams()", 
      "  p3.odeParams[gt.param_indices(\"Kmf\")] = Kmfs[2]                                                                ", 
      "  problem3, results3 = gt.loop(p3,case=names[2],duration=duration);", 
      "                             ", 
      "                             "
     ], 
     "language": "python", 
     "outputs": [
      {
       "output_type": "stream", 
       "stream": "stdout", 
       "text": [
        "Equilibrating for 3000.000000 [ms]", 
        "WARHING: CHECK ME", 
        "ODE Init [mM]"
       ]
      }, 
      {
       "output_type": "stream", 
       "stream": "stdout", 
       "text": [
        " [ 0.00045096  0.03143661]", 
        "t0 3000.000000 tf 4000.000000 [ms]", 
        "vol_sa_ratio  [um]"
       ]
      }, 
      {
       "output_type": "stream", 
       "stream": "stdout", 
       "text": [
        " 2.0", 
        "WARNING: not working w eval func", 
        "T 0.000000 [ms] Conc(0) 0.000451 [mM]", 
        "T 0.000000 [ms] Conc(0) 0.450957 [uM]", 
        "T 0.000000 [ms] Conc(1) 0.031437 [mM]", 
        "T 0.000000 [ms] Conc(1) 31.436606 [uM]", 
        "###########################################################################", 
        "t0  3000.0 tf  3010.0", 
        "ODE Init [mM] [ 0.00045096  0.03143661]", 
        "t0 3000.000000 tf 3010.000000 [ms]", 
        "ODE statesF: [mM] "
       ]
      }, 
      {
       "output_type": "stream", 
       "stream": "stdout", 
       "text": [
        " [ 0.00043708  0.03095543]", 
        "ODE statesF: [uM]  0.437077691712", 
        "ODE states Flux [mM/ms]:  [ -1.38797581e-06  -4.81171591e-05]", 
        "ODE states Flux [uM/ms]:  [-0.00138798 -0.04811716]", 
        "WARNING: jSR and dCa are lumped tother into jVold", 
        "WARNING: I probably need to constrain jvolExpr s.t. the assembled value is equal to the ODE value", 
        "jboundary [mM/ms] 5.14219176736e-05", 
        "jboundary [uM/ms] 0.0514219176736", 
        "jvol [mM/ms]  -5.28114394131e-05", 
        "jvol [uM/ms]  -52.8114394131", 
        "##", 
        "## WARNING: we are not updating CaTnC!!!", 
        "##", 
        "T 3010.000000 [ms] Conc(0) 0.000437 [mM]"
       ]
      }, 
      {
       "output_type": "stream", 
       "stream": "stdout", 
       "text": [
        "", 
        "T 3010.000000 [ms] Conc(0) 0.437062 [uM]", 
        "T 3010.000000 [ms] Conc(1) 0.031437 [mM]", 
        "T 3010.000000 [ms] Conc(1) 31.436606 [uM]", 
        "WARNING: skipping conc updatee", 
        "###########################################################################", 
        "t0  3010.0 tf  3020.0", 
        "ODE Init [mM] [ 0.00043708  0.03095543]", 
        "t0 3010.000000 tf 3020.000000 [ms]", 
        "ODE statesF: [mM] "
       ]
      }, 
      {
       "output_type": "stream", 
       "stream": "stdout", 
       "text": [
        " [ 0.00042345  0.03046374]", 
        "ODE statesF: [uM]  0.42345453308", 
        "ODE states Flux [mM/ms]:  [ -1.36231586e-06  -4.91691762e-05]", 
        "ODE states Flux [uM/ms]:  [-0.00136232 -0.04916918]", 
        "WARNING: jSR and dCa are lumped tother into jVold", 
        "WARNING: I probably need to constrain jvolExpr s.t. the assembled value is equal to the ODE value", 
        "jboundary [mM/ms] 4.72014341274e-05", 
        "jboundary [uM/ms] 0.0472014341274", 
        "jvol [mM/ms]  -4.8564731087e-05", 
        "jvol [uM/ms]  -48.564731087", 
        "##", 
        "## WARNING: we are not updating CaTnC!!!", 
        "##", 
        "T 3020.000000 [ms] Conc(0) 0.000423 [mM]"
       ]
      }, 
      {
       "output_type": "stream", 
       "stream": "stdout", 
       "text": [
        "", 
        "T 3020.000000 [ms] Conc(0) 0.423429 [uM]", 
        "T 3020.000000 [ms] Conc(1) 0.031437 [mM]", 
        "T 3020.000000 [ms] Conc(1) 31.436606 [uM]", 
        "WARNING: skipping conc updatee", 
        "###########################################################################", 
        "t0  3020.0 tf  3030.0", 
        "ODE Init [mM] [ 0.00042345  0.03046374]", 
        "t0 3020.000000 tf 3030.000000 [ms]", 
        "ODE statesF: [mM] "
       ]
      }, 
      {
       "output_type": "stream", 
       "stream": "stdout", 
       "text": [
        " [ 0.00040993  0.0299628 ]", 
        "ODE statesF: [uM]  0.409934833968", 
        "ODE states Flux [mM/ms]:  [ -1.35196991e-06  -5.00939996e-05]", 
        "ODE states Flux [uM/ms]:  [-0.00135197 -0.050094  ]", 
        "WARNING: jSR and dCa are lumped tother into jVold", 
        "WARNING: I probably need to constrain jvolExpr s.t. the assembled value is equal to the ODE value", 
        "jboundary [mM/ms] 4.28519600034e-05", 
        "jboundary [uM/ms] 0.0428519600034", 
        "jvol [mM/ms]  -4.42039413753e-05", 
        "jvol [uM/ms]  -44.2039413753", 
        "##", 
        "## WARNING: we are not updating CaTnC!!!", 
        "##", 
        "T 3030.000000 [ms] Conc(0) 0.000410 [mM]"
       ]
      }, 
      {
       "output_type": "stream", 
       "stream": "stdout", 
       "text": [
        "", 
        "T 3030.000000 [ms] Conc(0) 0.409909 [uM]", 
        "T 3030.000000 [ms] Conc(1) 0.031437 [mM]", 
        "T 3030.000000 [ms] Conc(1) 31.436606 [uM]", 
        "WARNING: skipping conc updatee", 
        "###########################################################################", 
        "t0  3030.0 tf  3040.0", 
        "ODE Init [mM] [ 0.00040993  0.0299628 ]", 
        "t0 3030.000000 tf 3040.000000 [ms]", 
        "ODE statesF: [mM] "
       ]
      }, 
      {
       "output_type": "stream", 
       "stream": "stdout", 
       "text": [
        " [ 0.00039628  0.02945127]", 
        "ODE statesF: [uM]  0.396282167111", 
        "ODE states Flux [mM/ms]:  [ -1.36526669e-06  -5.11527856e-05]", 
        "ODE states Flux [uM/ms]:  [-0.00136527 -0.05115279]", 
        "WARNING: jSR and dCa are lumped tother into jVold", 
        "WARNING: I probably need to constrain jvolExpr s.t. the assembled value is equal to the ODE value", 
        "jboundary [mM/ms] 3.79438248985e-05", 
        "jboundary [uM/ms] 0.0379438248985", 
        "jvol [mM/ms]  -3.93077643736e-05", 
        "jvol [uM/ms]  -39.3077643736", 
        "##", 
        "## WARNING: we are not updating CaTnC!!!", 
        "##", 
        "T 3040.000000 [ms] Conc(0) 0.000396 [mM]"
       ]
      }, 
      {
       "output_type": "stream", 
       "stream": "stdout", 
       "text": [
        "", 
        "T 3040.000000 [ms] Conc(0) 0.396270 [uM]", 
        "T 3040.000000 [ms] Conc(1) 0.031437 [mM]", 
        "T 3040.000000 [ms] Conc(1) 31.436606 [uM]", 
        "WARNING: skipping conc updatee", 
        "###########################################################################", 
        "t0  3040.0 tf  3050.0", 
        "ODE Init [mM] [ 0.00039628  0.02945127]", 
        "t0 3040.000000 tf 3050.000000 [ms]", 
        "ODE statesF: [mM] "
       ]
      }, 
      {
       "output_type": "stream", 
       "stream": "stdout", 
       "text": [
        " [ 0.00038226  0.02892518]", 
        "ODE statesF: [uM]  0.382256323204", 
        "ODE states Flux [mM/ms]:  [ -1.40258439e-06  -5.26097672e-05]", 
        "ODE states Flux [uM/ms]:  [-0.00140258 -0.05260977]", 
        "WARNING: jSR and dCa are lumped tother into jVold", 
        "WARNING: I probably need to constrain jvolExpr s.t. the assembled value is equal to the ODE value", 
        "jboundary [mM/ms] 3.20360370062e-05", 
        "jboundary [uM/ms] 0.0320360370062", 
        "jvol [mM/ms]  -3.34364878031e-05", 
        "jvol [uM/ms]  -33.4364878031", 
        "##", 
        "## WARNING: we are not updating CaTnC!!!", 
        "##", 
        "T 3050.000000 [ms] Conc(0) 0.000382 [mM]"
       ]
      }, 
      {
       "output_type": "stream", 
       "stream": "stdout", 
       "text": [
        "", 
        "T 3050.000000 [ms] Conc(0) 0.382266 [uM]", 
        "T 3050.000000 [ms] Conc(1) 0.031437 [mM]", 
        "T 3050.000000 [ms] Conc(1) 31.436606 [uM]", 
        "WARNING: skipping conc updatee", 
        "###########################################################################", 
        "t0  3050.0 tf  3060.0", 
        "ODE Init [mM] [ 0.00038226  0.02892518]", 
        "t0 3050.000000 tf 3060.000000 [ms]", 
        "ODE statesF: [mM] "
       ]
      }, 
      {
       "output_type": "stream", 
       "stream": "stdout", 
       "text": [
        " [ 0.00036789  0.02837995]", 
        "ODE statesF: [uM]  0.367885686928", 
        "ODE states Flux [mM/ms]:  [ -1.43706363e-06  -5.45222207e-05]", 
        "ODE states Flux [uM/ms]:  [-0.00143706 -0.05452222]", 
        "WARNING: jSR and dCa are lumped tother into jVold", 
        "WARNING: I probably need to constrain jvolExpr s.t. the assembled value is equal to the ODE value", 
        "jboundary [mM/ms] 2.51280895098e-05", 
        "jboundary [uM/ms] 0.0251280895098", 
        "jvol [mM/ms]  -2.65639462082e-05", 
        "jvol [uM/ms]  -26.5639462082", 
        "##", 
        "## WARNING: we are not updating CaTnC!!!", 
        "##", 
        "T 3060.000000 [ms] Conc(0) 0.000368 [mM]"
       ]
      }, 
      {
       "output_type": "stream", 
       "stream": "stdout", 
       "text": [
        "", 
        "T 3060.000000 [ms] Conc(0) 0.367907 [uM]", 
        "T 3060.000000 [ms] Conc(1) 0.031437 [mM]", 
        "T 3060.000000 [ms] Conc(1) 31.436606 [uM]", 
        "WARNING: skipping conc updatee", 
        "###########################################################################", 
        "t0  3060.0 tf  3070.0", 
        "ODE Init [mM] [ 0.00036789  0.02837995]", 
        "t0 3060.000000 tf 3070.000000 [ms]", 
        "ODE statesF: [mM] "
       ]
      }, 
      {
       "output_type": "stream", 
       "stream": "stdout", 
       "text": [
        " [ 0.00035309  0.02781267]", 
        "ODE statesF: [uM]  0.353087709644", 
        "ODE states Flux [mM/ms]:  [ -1.47979773e-06  -5.67289107e-05]", 
        "ODE states Flux [uM/ms]:  [-0.0014798  -0.05672891]", 
        "WARNING: jSR and dCa are lumped tother into jVold", 
        "WARNING: I probably need to constrain jvolExpr s.t. the assembled value is equal to the ODE value", 
        "jboundary [mM/ms] 1.75970630436e-05", 
        "jboundary [uM/ms] 0.0175970630436", 
        "jvol [mM/ms]  -1.9073292208e-05", 
        "jvol [uM/ms]  -19.073292208", 
        "##", 
        "## WARNING: we are not updating CaTnC!!!", 
        "##", 
        "T 3070.000000 [ms] Conc(0) 0.000353 [mM]"
       ]
      }, 
      {
       "output_type": "stream", 
       "stream": "stdout", 
       "text": [
        "", 
        "T 3070.000000 [ms] Conc(0) 0.353145 [uM]", 
        "T 3070.000000 [ms] Conc(1) 0.031437 [mM]", 
        "T 3070.000000 [ms] Conc(1) 31.436606 [uM]", 
        "WARNING: skipping conc updatee", 
        "###########################################################################", 
        "t0  3070.0 tf  3080.0", 
        "ODE Init [mM] [ 0.00035309  0.02781267]", 
        "t0 3070.000000 tf 3080.000000 [ms]", 
        "ODE statesF: [mM] "
       ]
      }, 
      {
       "output_type": "stream", 
       "stream": "stdout", 
       "text": [
        " [ 0.00033795  0.02721807]", 
        "ODE statesF: [uM]  0.337954316739", 
        "ODE states Flux [mM/ms]:  [ -1.51333929e-06  -5.94597470e-05]", 
        "ODE states Flux [uM/ms]:  [-0.00151334 -0.05945975]", 
        "WARNING: jSR and dCa are lumped tother into jVold", 
        "WARNING: I probably need to constrain jvolExpr s.t. the assembled value is equal to the ODE value", 
        "jboundary [mM/ms] 8.89255593333e-06", 
        "jboundary [uM/ms] 0.00889255593333", 
        "jvol [mM/ms]  -1.0409153753e-05", 
        "jvol [uM/ms]  -10.409153753", 
        "##", 
        "## WARNING: we are not updating CaTnC!!!", 
        "##", 
        "T 3080.000000 [ms] Conc(0) 0.000338 [mM]"
       ]
      }, 
      {
       "output_type": "stream", 
       "stream": "stdout", 
       "text": [
        "", 
        "T 3080.000000 [ms] Conc(0) 0.337979 [uM]", 
        "T 3080.000000 [ms] Conc(1) 0.031437 [mM]", 
        "T 3080.000000 [ms] Conc(1) 31.436606 [uM]", 
        "WARNING: skipping conc updatee", 
        "###########################################################################", 
        "t0  3080.0 tf  3090.0", 
        "ODE Init [mM] [ 0.00033795  0.02721807]", 
        "t0 3080.000000 tf 3090.000000 [ms]", 
        "ODE statesF: [mM] "
       ]
      }, 
      {
       "output_type": "stream", 
       "stream": "stdout", 
       "text": [
        " [ 0.00032436  0.02660684]", 
        "ODE statesF: [uM]  0.324362995632", 
        "ODE states Flux [mM/ms]:  [ -1.35913211e-06  -6.11224573e-05]", 
        "ODE states Flux [uM/ms]:  [-0.00135913 -0.06112246]", 
        "WARNING: jSR and dCa are lumped tother into jVold", 
        "WARNING: I probably need to constrain jvolExpr s.t. the assembled value is equal to the ODE value", 
        "jboundary [mM/ms] 2.60588258874e-06", 
        "jboundary [uM/ms] 0.00260588258874", 
        "jvol [mM/ms]  -3.97335337569e-06", 
        "jvol [uM/ms]  -3.97335337569", 
        "##", 
        "## WARNING: we are not updating CaTnC!!!", 
        "##", 
        "T 3090.000000 [ms] Conc(0) 0.000324 [mM]"
       ]
      }, 
      {
       "output_type": "stream", 
       "stream": "stdout", 
       "text": [
        "", 
        "T 3090.000000 [ms] Conc(0) 0.324304 [uM]", 
        "T 3090.000000 [ms] Conc(1) 0.031437 [mM]", 
        "T 3090.000000 [ms] Conc(1) 31.436606 [uM]", 
        "WARNING: skipping conc updatee", 
        "###########################################################################", 
        "t0  3090.0 tf  3100.0", 
        "ODE Init [mM] [ 0.00032436  0.02660684]", 
        "t0 3090.000000 tf 3100.000000 [ms]", 
        "ODE statesF: [mM] "
       ]
      }, 
      {
       "output_type": "stream", 
       "stream": "stdout", 
       "text": [
        " [ 0.00031208  0.02599747]", 
        "ODE statesF: [uM]  0.312083899695", 
        "ODE states Flux [mM/ms]:  [ -1.22790959e-06  -6.09376053e-05]", 
        "ODE states Flux [uM/ms]:  [-0.00122791 -0.06093761]", 
        "WARNING: jSR and dCa are lumped tother into jVold", 
        "WARNING: I probably need to constrain jvolExpr s.t. the assembled value is equal to the ODE value", 
        "jboundary [mM/ms] -2.14285760572e-07", 
        "jboundary [uM/ms] -0.000214285760572", 
        "jvol [mM/ms]  -1.01910147772e-06", 
        "jvol [uM/ms]  -1.01910147772", 
        "##", 
        "## WARNING: we are not updating CaTnC!!!", 
        "##", 
        "T 3100.000000 [ms] Conc(0) 0.000312 [mM]"
       ]
      }, 
      {
       "output_type": "stream", 
       "stream": "stdout", 
       "text": [
        "", 
        "T 3100.000000 [ms] Conc(0) 0.311970 [uM]", 
        "T 3100.000000 [ms] Conc(1) 0.031437 [mM]", 
        "T 3100.000000 [ms] Conc(1) 31.436606 [uM]", 
        "WARNING: skipping conc updatee", 
        "###########################################################################", 
        "t0  3100.0 tf  3110.0", 
        "ODE Init [mM] [ 0.00031208  0.02599747]", 
        "t0 3100.000000 tf 3110.000000 [ms]", 
        "ODE statesF: [mM] "
       ]
      }, 
      {
       "output_type": "stream", 
       "stream": "stdout", 
       "text": [
        " [ 0.00030912  0.02543043]", 
        "ODE statesF: [uM]  0.309115851075", 
        "ODE states Flux [mM/ms]:  [ -2.96804862e-07  -5.67034403e-05]", 
        "ODE states Flux [uM/ms]:  [-0.0002968  -0.05670344]", 
        "WARNING: jSR and dCa are lumped tother into jVold", 
        "WARNING: I probably need to constrain jvolExpr s.t. the assembled value is equal to the ODE value", 
        "jboundary [mM/ms] 5.07027477438e-06", 
        "jboundary [uM/ms] 0.00507027477438", 
        "jvol [mM/ms]  -5.48312332134e-06", 
        "jvol [uM/ms]  -5.48312332134", 
        "##", 
        "## WARNING: we are not updating CaTnC!!!", 
        "##", 
        "T 3110.000000 [ms] Conc(0) 0.000308 [mM]"
       ]
      }, 
      {
       "output_type": "stream", 
       "stream": "stdout", 
       "text": [
        "", 
        "T 3110.000000 [ms] Conc(0) 0.307842 [uM]", 
        "T 3110.000000 [ms] Conc(1) 0.031437 [mM]", 
        "T 3110.000000 [ms] Conc(1) 31.436606 [uM]", 
        "WARNING: skipping conc updatee", 
        "###########################################################################", 
        "t0  3110.0 tf  3120.0", 
        "ODE Init [mM] [ 0.00030912  0.02543043]", 
        "t0 3110.000000 tf 3120.000000 [ms]", 
        "ODE statesF: [mM] "
       ]
      }, 
      {
       "output_type": "stream", 
       "stream": "stdout", 
       "text": [
        " [ 0.00031649  0.02505854]", 
        "ODE statesF: [uM]  0.316489175875", 
        "ODE states Flux [mM/ms]:  [  7.37332480e-07  -3.71889586e-05]", 
        "ODE states Flux [uM/ms]:  [ 0.00073733 -0.03718896]", 
        "WARNING: jSR and dCa are lumped tother into jVold", 
        "WARNING: I probably need to constrain jvolExpr s.t. the assembled value is equal to the ODE value", 
        "jboundary [mM/ms] 4.18747148935e-05", 
        "jboundary [uM/ms] 0.0418747148935", 
        "jvol [mM/ms]  -4.11672664023e-05", 
        "jvol [uM/ms]  -41.1672664023", 
        "##", 
        "## WARNING: we are not updating CaTnC!!!", 
        "##", 
        "T 3120.000000 [ms] Conc(0) 0.000315 [mM]"
       ]
      }, 
      {
       "output_type": "stream", 
       "stream": "stdout", 
       "text": [
        "", 
        "T 3120.000000 [ms] Conc(0) 0.314916 [uM]", 
        "T 3120.000000 [ms] Conc(1) 0.031437 [mM]", 
        "T 3120.000000 [ms] Conc(1) 31.436606 [uM]", 
        "WARNING: skipping conc updatee", 
        "###########################################################################", 
        "t0  3120.0 tf  3130.0", 
        "ODE Init [mM] [ 0.00031649  0.02505854]", 
        "t0 3120.000000 tf 3130.000000 [ms]", 
        "ODE statesF: [mM] "
       ]
      }, 
      {
       "output_type": "stream", 
       "stream": "stdout", 
       "text": [
        " [ 0.0003354   0.02494024]", 
        "ODE statesF: [uM]  0.335400694216", 
        "ODE states Flux [mM/ms]:  [  1.89115183e-06  -1.18299973e-05]", 
        "ODE states Flux [uM/ms]:  [ 0.00189115 -0.01183   ]", 
        "WARNING: jSR and dCa are lumped tother into jVold", 
        "WARNING: I probably need to constrain jvolExpr s.t. the assembled value is equal to the ODE value", 
        "jboundary [mM/ms] 8.65708331233e-05", 
        "jboundary [uM/ms] 0.0865708331233", 
        "jvol [mM/ms]  -8.47718835159e-05", 
        "jvol [uM/ms]  -84.7718835159", 
        "##", 
        "## WARNING: we are not updating CaTnC!!!", 
        "##", 
        "T 3130.000000 [ms] Conc(0) 0.000333 [mM]"
       ]
      }, 
      {
       "output_type": "stream", 
       "stream": "stdout", 
       "text": [
        "", 
        "T 3130.000000 [ms] Conc(0) 0.332906 [uM]", 
        "T 3130.000000 [ms] Conc(1) 0.031437 [mM]", 
        "T 3130.000000 [ms] Conc(1) 31.436606 [uM]", 
        "WARNING: skipping conc updatee", 
        "###########################################################################", 
        "t0  3130.0 tf  3140.0", 
        "ODE Init [mM] [ 0.0003354   0.02494024]", 
        "t0 3130.000000 tf 3140.000000 [ms]", 
        "ODE statesF: [mM] "
       ]
      }, 
      {
       "output_type": "stream", 
       "stream": "stdout", 
       "text": [
        " [ 0.00038517  0.02527012]", 
        "ODE statesF: [uM]  0.385169966809", 
        "ODE states Flux [mM/ms]:  [  4.97692726e-06   3.29879222e-05]", 
        "ODE states Flux [uM/ms]:  [ 0.00497693  0.03298792]", 
        "WARNING: jSR and dCa are lumped tother into jVold", 
        "WARNING: I probably need to constrain jvolExpr s.t. the assembled value is equal to the ODE value", 
        "jboundary [mM/ms] 0.000171464423674", 
        "jboundary [uM/ms] 0.171464423674", 
        "jvol [mM/ms]  -0.000166704973736", 
        "jvol [uM/ms]  -166.704973736", 
        "##", 
        "## WARNING: we are not updating CaTnC!!!", 
        "##", 
        "T 3140.000000 [ms] Conc(0) 0.000381 [mM]"
       ]
      }, 
      {
       "output_type": "stream", 
       "stream": "stdout", 
       "text": [
        "", 
        "T 3140.000000 [ms] Conc(0) 0.380500 [uM]", 
        "T 3140.000000 [ms] Conc(1) 0.031437 [mM]", 
        "T 3140.000000 [ms] Conc(1) 31.436606 [uM]", 
        "WARNING: skipping conc updatee", 
        "###########################################################################", 
        "t0  3140.0 tf  3150.0", 
        "ODE Init [mM] [ 0.00038517  0.02527012]", 
        "t0 3140.000000 tf 3150.000000 [ms]", 
        "ODE statesF: [mM] "
       ]
      }, 
      {
       "output_type": "stream", 
       "stream": "stdout", 
       "text": [
        " [ 0.00047424  0.02641143]", 
        "ODE statesF: [uM]  0.474240097254", 
        "ODE states Flux [mM/ms]:  [  8.90701304e-06   1.14130766e-04]", 
        "ODE states Flux [uM/ms]:  [ 0.00890701  0.11413077]", 
        "WARNING: jSR and dCa are lumped tother into jVold", 
        "WARNING: I probably need to constrain jvolExpr s.t. the assembled value is equal to the ODE value", 
        "jboundary [mM/ms] 0.000326288377707", 
        "jboundary [uM/ms] 0.326288377707", 
        "jvol [mM/ms]  -0.00031747420056", 
        "jvol [uM/ms]  -317.47420056", 
        "##", 
        "## WARNING: we are not updating CaTnC!!!", 
        "##", 
        "T 3150.000000 [ms] Conc(0) 0.000469 [mM]"
       ]
      }, 
      {
       "output_type": "stream", 
       "stream": "stdout", 
       "text": [
        "", 
        "T 3150.000000 [ms] Conc(0) 0.468642 [uM]", 
        "T 3150.000000 [ms] Conc(1) 0.031437 [mM]", 
        "T 3150.000000 [ms] Conc(1) 31.436606 [uM]", 
        "WARNING: skipping conc updatee", 
        "###########################################################################", 
        "t0  3150.0 tf  3160.0", 
        "ODE Init [mM] [ 0.00047424  0.02641143]", 
        "t0 3150.000000 tf 3160.000000 [ms]", 
        "ODE statesF: [mM] "
       ]
      }, 
      {
       "output_type": "stream", 
       "stream": "stdout", 
       "text": [
        " [ 0.00054687  0.0282351 ]", 
        "ODE statesF: [uM]  0.546870599522", 
        "ODE states Flux [mM/ms]:  [  7.26305023e-06   1.82366581e-04]", 
        "ODE states Flux [uM/ms]:  [ 0.00726305  0.18236658]", 
        "WARNING: jSR and dCa are lumped tother into jVold", 
        "WARNING: I probably need to constrain jvolExpr s.t. the assembled value is equal to the ODE value", 
        "jboundary [mM/ms] 0.000436516722976", 
        "jboundary [uM/ms] 0.436516722976", 
        "jvol [mM/ms]  -0.000429059682187", 
        "jvol [uM/ms]  -429.059682187", 
        "##", 
        "## WARNING: we are not updating CaTnC!!!", 
        "##", 
        "T 3160.000000 [ms] Conc(0) 0.000543 [mM]"
       ]
      }, 
      {
       "output_type": "stream", 
       "stream": "stdout", 
       "text": [
        "", 
        "T 3160.000000 [ms] Conc(0) 0.543212 [uM]", 
        "T 3160.000000 [ms] Conc(1) 0.031437 [mM]", 
        "T 3160.000000 [ms] Conc(1) 31.436606 [uM]", 
        "WARNING: skipping conc updatee", 
        "###########################################################################", 
        "t0  3160.0 tf  3170.0", 
        "ODE Init [mM] [ 0.00054687  0.0282351 ]", 
        "t0 3160.000000 tf 3170.000000 [ms]", 
        "ODE statesF: [mM] "
       ]
      }, 
      {
       "output_type": "stream", 
       "stream": "stdout", 
       "text": [
        " [ 0.00058209  0.03008289]", 
        "ODE statesF: [uM]  0.582089421586", 
        "ODE states Flux [mM/ms]:  [  3.52188221e-06   1.84779760e-04]", 
        "ODE states Flux [uM/ms]:  [ 0.00352188  0.18477976]", 
        "WARNING: jSR and dCa are lumped tother into jVold", 
        "WARNING: I probably need to constrain jvolExpr s.t. the assembled value is equal to the ODE value", 
        "jboundary [mM/ms] 0.000415921944083", 
        "jboundary [uM/ms] 0.415921944083", 
        "jvol [mM/ms]  -0.000412246669924", 
        "jvol [uM/ms]  -412.246669924", 
        "##", 
        "## WARNING: we are not updating CaTnC!!!", 
        "##", 
        "T 3170.000000 [ms] Conc(0) 0.000580 [mM]"
       ]
      }, 
      {
       "output_type": "stream", 
       "stream": "stdout", 
       "text": [
        "", 
        "T 3170.000000 [ms] Conc(0) 0.579965 [uM]", 
        "T 3170.000000 [ms] Conc(1) 0.031437 [mM]", 
        "T 3170.000000 [ms] Conc(1) 31.436606 [uM]", 
        "WARNING: skipping conc updatee", 
        "###########################################################################", 
        "t0  3170.0 tf  3180.0", 
        "ODE Init [mM] [ 0.00058209  0.03008289]", 
        "t0 3170.000000 tf 3180.000000 [ms]", 
        "ODE statesF: [mM] "
       ]
      }, 
      {
       "output_type": "stream", 
       "stream": "stdout", 
       "text": [
        " [ 0.00059499  0.03158036]", 
        "ODE statesF: [uM]  0.594985400772", 
        "ODE states Flux [mM/ms]:  [  1.28959792e-06   1.49746746e-04]", 
        "ODE states Flux [uM/ms]:  [ 0.0012896   0.14974675]", 
        "WARNING: jSR and dCa are lumped tother into jVold", 
        "WARNING: I probably need to constrain jvolExpr s.t. the assembled value is equal to the ODE value", 
        "jboundary [mM/ms] 0.000345449114656", 
        "jboundary [uM/ms] 0.345449114656", 
        "jvol [mM/ms]  -0.000344080379491", 
        "jvol [uM/ms]  -344.080379491", 
        "##", 
        "## WARNING: we are not updating CaTnC!!!", 
        "##", 
        "T 3180.000000 [ms] Conc(0) 0.000594 [mM]"
       ]
      }, 
      {
       "output_type": "stream", 
       "stream": "stdout", 
       "text": [
        "", 
        "T 3180.000000 [ms] Conc(0) 0.593652 [uM]", 
        "T 3180.000000 [ms] Conc(1) 0.031437 [mM]", 
        "T 3180.000000 [ms] Conc(1) 31.436606 [uM]", 
        "WARNING: skipping conc updatee", 
        "###########################################################################", 
        "t0  3180.0 tf  3190.0", 
        "ODE Init [mM] [ 0.00059499  0.03158036]", 
        "t0 3180.000000 tf 3190.000000 [ms]", 
        "ODE statesF: [mM] "
       ]
      }, 
      {
       "output_type": "stream", 
       "stream": "stdout", 
       "text": [
        " [ 0.00059631  0.03265857]", 
        "ODE statesF: [uM]  0.596307527275", 
        "ODE states Flux [mM/ms]:  [  1.32212650e-07   1.07820945e-04]", 
        "ODE states Flux [uM/ms]:  [ 0.00013221  0.10782095]", 
        "WARNING: jSR and dCa are lumped tother into jVold", 
        "WARNING: I probably need to constrain jvolExpr s.t. the assembled value is equal to the ODE value", 
        "jboundary [mM/ms] 0.000277932905781", 
        "jboundary [uM/ms] 0.277932905781", 
        "jvol [mM/ms]  -0.000277758102293", 
        "jvol [uM/ms]  -277.758102293", 
        "##", 
        "## WARNING: we are not updating CaTnC!!!", 
        "##", 
        "T 3190.000000 [ms] Conc(0) 0.000595 [mM]"
       ]
      }, 
      {
       "output_type": "stream", 
       "stream": "stdout", 
       "text": [
        "", 
        "T 3190.000000 [ms] Conc(0) 0.595400 [uM]", 
        "T 3190.000000 [ms] Conc(1) 0.031437 [mM]", 
        "T 3190.000000 [ms] Conc(1) 31.436606 [uM]", 
        "WARNING: skipping conc updatee", 
        "###########################################################################", 
        "t0  3190.0 tf  3200.0", 
        "ODE Init [mM] [ 0.00059631  0.03265857]", 
        "t0 3190.000000 tf 3200.000000 [ms]", 
        "ODE statesF: [mM] "
       ]
      }, 
      {
       "output_type": "stream", 
       "stream": "stdout", 
       "text": [
        " [ 0.00059107  0.0333635 ]", 
        "ODE statesF: [uM]  0.591073768148", 
        "ODE states Flux [mM/ms]:  [ -5.23375913e-07   7.04931115e-05]", 
        "ODE states Flux [uM/ms]:  [-0.00052338  0.07049311]", 
        "WARNING: jSR and dCa are lumped tother into jVold", 
        "WARNING: I probably need to constrain jvolExpr s.t. the assembled value is equal to the ODE value", 
        "jboundary [mM/ms] 0.000224048281184", 
        "jboundary [uM/ms] 0.224048281184", 
        "jvol [mM/ms]  -0.000224546149888", 
        "jvol [uM/ms]  -224.546149888", 
        "##", 
        "## WARNING: we are not updating CaTnC!!!", 
        "##", 
        "T 3200.000000 [ms] Conc(0) 0.000590 [mM]"
       ]
      }, 
      {
       "output_type": "stream", 
       "stream": "stdout", 
       "text": [
        "", 
        "T 3200.000000 [ms] Conc(0) 0.590422 [uM]", 
        "T 3200.000000 [ms] Conc(1) 0.031437 [mM]", 
        "T 3200.000000 [ms] Conc(1) 31.436606 [uM]", 
        "WARNING: skipping conc updatee", 
        "###########################################################################", 
        "t0  3200.0 tf  3210.0", 
        "ODE Init [mM] [ 0.00059107  0.0333635 ]", 
        "t0 3200.000000 tf 3210.000000 [ms]", 
        "ODE statesF: [mM] "
       ]
      }, 
      {
       "output_type": "stream", 
       "stream": "stdout", 
       "text": [
        " [ 0.00058177  0.03376625]", 
        "ODE statesF: [uM]  0.581766348712", 
        "ODE states Flux [mM/ms]:  [ -9.30741944e-07   4.02748306e-05]", 
        "ODE states Flux [uM/ms]:  [-0.00093074  0.04027483]", 
        "WARNING: jSR and dCa are lumped tother into jVold", 
        "WARNING: I probably need to constrain jvolExpr s.t. the assembled value is equal to the ODE value", 
        "jboundary [mM/ms] 0.00018270904934", 
        "jboundary [uM/ms] 0.18270904934", 
        "jvol [mM/ms]  -0.000183623448963", 
        "jvol [uM/ms]  -183.623448963", 
        "##", 
        "## WARNING: we are not updating CaTnC!!!", 
        "##", 
        "T 3210.000000 [ms] Conc(0) 0.000581 [mM]"
       ]
      }, 
      {
       "output_type": "stream", 
       "stream": "stdout", 
       "text": [
        "", 
        "T 3210.000000 [ms] Conc(0) 0.581278 [uM]", 
        "T 3210.000000 [ms] Conc(1) 0.031437 [mM]", 
        "T 3210.000000 [ms] Conc(1) 31.436606 [uM]", 
        "WARNING: skipping conc updatee", 
        "###########################################################################", 
        "t0  3210.0 tf  3220.0", 
        "ODE Init [mM] [ 0.00058177  0.03376625]", 
        "t0 3210.000000 tf 3220.000000 [ms]", 
        "ODE statesF: [mM] "
       ]
      }, 
      {
       "output_type": "stream", 
       "stream": "stdout", 
       "text": [
        " [ 0.00056982  0.0339337 ]", 
        "ODE statesF: [uM]  0.569822150775", 
        "ODE states Flux [mM/ms]:  [ -1.19441979e-06   1.67447647e-05]", 
        "ODE states Flux [uM/ms]:  [-0.00119442  0.01674476]", 
        "WARNING: jSR and dCa are lumped tother into jVold", 
        "WARNING: I probably need to constrain jvolExpr s.t. the assembled value is equal to the ODE value", 
        "jboundary [mM/ms] 0.000151163356306", 
        "jboundary [uM/ms] 0.151163356306", 
        "jvol [mM/ms]  -0.000152347179818", 
        "jvol [uM/ms]  -152.347179818", 
        "##", 
        "## WARNING: we are not updating CaTnC!!!", 
        "##", 
        "T 3220.000000 [ms] Conc(0) 0.000569 [mM]"
       ]
      }, 
      {
       "output_type": "stream", 
       "stream": "stdout", 
       "text": [
        "", 
        "T 3220.000000 [ms] Conc(0) 0.569440 [uM]", 
        "T 3220.000000 [ms] Conc(1) 0.031437 [mM]", 
        "T 3220.000000 [ms] Conc(1) 31.436606 [uM]", 
        "WARNING: skipping conc updatee", 
        "###########################################################################", 
        "t0  3220.0 tf  3230.0", 
        "ODE Init [mM] [ 0.00056982  0.0339337 ]", 
        "t0 3220.000000 tf 3230.000000 [ms]", 
        "ODE statesF: [mM] "
       ]
      }, 
      {
       "output_type": "stream", 
       "stream": "stdout", 
       "text": [
        " [ 0.00055619  0.03392132]", 
        "ODE statesF: [uM]  0.556192837208", 
        "ODE states Flux [mM/ms]:  [ -1.36293136e-06  -1.23790996e-06]", 
        "ODE states Flux [uM/ms]:  [-0.00136293 -0.00123791]", 
        "WARNING: jSR and dCa are lumped tother into jVold", 
        "WARNING: I probably need to constrain jvolExpr s.t. the assembled value is equal to the ODE value", 
        "jboundary [mM/ms] 0.000127016788723", 
        "jboundary [uM/ms] 0.127016788723", 
        "jvol [mM/ms]  -0.000128373113595", 
        "jvol [uM/ms]  -128.373113595", 
        "##", 
        "## WARNING: we are not updating CaTnC!!!", 
        "##", 
        "T 3230.000000 [ms] Conc(0) 0.000556 [mM]"
       ]
      }, 
      {
       "output_type": "stream", 
       "stream": "stdout", 
       "text": [
        "", 
        "T 3230.000000 [ms] Conc(0) 0.555876 [uM]", 
        "T 3230.000000 [ms] Conc(1) 0.031437 [mM]", 
        "T 3230.000000 [ms] Conc(1) 31.436606 [uM]", 
        "WARNING: skipping conc updatee", 
        "###########################################################################", 
        "t0  3230.0 tf  3240.0", 
        "ODE Init [mM] [ 0.00055619  0.03392132]", 
        "t0 3230.000000 tf 3240.000000 [ms]", 
        "ODE statesF: [mM] "
       ]
      }, 
      {
       "output_type": "stream", 
       "stream": "stdout", 
       "text": [
        " [ 0.00054156  0.03377304]", 
        "ODE statesF: [uM]  0.541555500319", 
        "ODE states Flux [mM/ms]:  [ -1.46373369e-06  -1.48276384e-05]", 
        "ODE states Flux [uM/ms]:  [-0.00146373 -0.01482764]", 
        "WARNING: jSR and dCa are lumped tother into jVold", 
        "WARNING: I probably need to constrain jvolExpr s.t. the assembled value is equal to the ODE value", 
        "jboundary [mM/ms] 0.000108435479609", 
        "jboundary [uM/ms] 0.108435479609", 
        "jvol [mM/ms]  -0.000109895493249", 
        "jvol [uM/ms]  -109.895493249", 
        "##", 
        "## WARNING: we are not updating CaTnC!!!", 
        "##", 
        "T 3240.000000 [ms] Conc(0) 0.000541 [mM]"
       ]
      }, 
      {
       "output_type": "stream", 
       "stream": "stdout", 
       "text": [
        "", 
        "T 3240.000000 [ms] Conc(0) 0.541276 [uM]", 
        "T 3240.000000 [ms] Conc(1) 0.031437 [mM]", 
        "T 3240.000000 [ms] Conc(1) 31.436606 [uM]", 
        "WARNING: skipping conc updatee", 
        "###########################################################################", 
        "t0  3240.0 tf  3250.0", 
        "ODE Init [mM] [ 0.00054156  0.03377304]", 
        "t0 3240.000000 tf 3250.000000 [ms]", 
        "ODE statesF: [mM] "
       ]
      }, 
      {
       "output_type": "stream", 
       "stream": "stdout", 
       "text": [
        " [ 0.0005264  0.033523 ]", 
        "ODE statesF: [uM]  0.5264014797", 
        "ODE states Flux [mM/ms]:  [ -1.51540206e-06  -2.50043713e-05]", 
        "ODE states Flux [uM/ms]:  [-0.0015154  -0.02500437]", 
        "WARNING: jSR and dCa are lumped tother into jVold", 
        "WARNING: I probably need to constrain jvolExpr s.t. the assembled value is equal to the ODE value", 
        "jboundary [mM/ms] 9.4041286093e-05", 
        "jboundary [uM/ms] 0.094041286093", 
        "jvol [mM/ms]  -9.55550579657e-05", 
        "jvol [uM/ms]  -95.5550579657", 
        "##", 
        "## WARNING: we are not updating CaTnC!!!", 
        "##", 
        "T 3250.000000 [ms] Conc(0) 0.000526 [mM]"
       ]
      }, 
      {
       "output_type": "stream", 
       "stream": "stdout", 
       "text": [
        "", 
        "T 3250.000000 [ms] Conc(0) 0.526138 [uM]", 
        "T 3250.000000 [ms] Conc(1) 0.031437 [mM]", 
        "T 3250.000000 [ms] Conc(1) 31.436606 [uM]", 
        "WARNING: skipping conc updatee", 
        "###########################################################################", 
        "t0  3250.0 tf  3260.0", 
        "ODE Init [mM] [ 0.0005264  0.033523 ]", 
        "t0 3250.000000 tf 3260.000000 [ms]", 
        "ODE statesF: [mM] "
       ]
      }, 
      {
       "output_type": "stream", 
       "stream": "stdout", 
       "text": [
        " [ 0.00051108  0.03319748]", 
        "ODE statesF: [uM]  0.511083188164", 
        "ODE states Flux [mM/ms]:  [ -1.53182915e-06  -3.25523644e-05]", 
        "ODE states Flux [uM/ms]:  [-0.00153183 -0.03255236]", 
        "WARNING: jSR and dCa are lumped tother into jVold", 
        "WARNING: I probably need to constrain jvolExpr s.t. the assembled value is equal to the ODE value", 
        "jboundary [mM/ms] 8.2794143471e-05", 
        "jboundary [uM/ms] 0.082794143471", 
        "jvol [mM/ms]  -8.43258216799e-05", 
        "jvol [uM/ms]  -84.3258216799", 
        "##", 
        "## WARNING: we are not updating CaTnC!!!", 
        "##", 
        "T 3260.000000 [ms] Conc(0) 0.000511 [mM]"
       ]
      }, 
      {
       "output_type": "stream", 
       "stream": "stdout", 
       "text": [
        "", 
        "T 3260.000000 [ms] Conc(0) 0.510822 [uM]", 
        "T 3260.000000 [ms] Conc(1) 0.031437 [mM]", 
        "T 3260.000000 [ms] Conc(1) 31.436606 [uM]", 
        "WARNING: skipping conc updatee", 
        "###########################################################################", 
        "t0  3260.0 tf  3270.0", 
        "ODE Init [mM] [ 0.00051108  0.03319748]", 
        "t0 3260.000000 tf 3270.000000 [ms]", 
        "ODE statesF: [mM] "
       ]
      }, 
      {
       "output_type": "stream", 
       "stream": "stdout", 
       "text": [
        " [ 0.00049584  0.03281661]", 
        "ODE statesF: [uM]  0.495844910393", 
        "ODE states Flux [mM/ms]:  [ -1.52382778e-06  -3.80870039e-05]", 
        "ODE states Flux [uM/ms]:  [-0.00152383 -0.038087  ]", 
        "WARNING: jSR and dCa are lumped tother into jVold", 
        "WARNING: I probably need to constrain jvolExpr s.t. the assembled value is equal to the ODE value", 
        "jboundary [mM/ms] 7.39021209919e-05", 
        "jboundary [uM/ms] 0.0739021209919", 
        "jvol [mM/ms]  -7.54267962139e-05", 
        "jvol [uM/ms]  -75.4267962139", 
        "##", 
        "## WARNING: we are not updating CaTnC!!!", 
        "##", 
        "T 3270.000000 [ms] Conc(0) 0.000496 [mM]"
       ]
      }, 
      {
       "output_type": "stream", 
       "stream": "stdout", 
       "text": [
        "", 
        "T 3270.000000 [ms] Conc(0) 0.495575 [uM]", 
        "T 3270.000000 [ms] Conc(1) 0.031437 [mM]", 
        "T 3270.000000 [ms] Conc(1) 31.436606 [uM]", 
        "WARNING: skipping conc updatee", 
        "###########################################################################", 
        "t0  3270.0 tf  3280.0", 
        "ODE Init [mM] [ 0.00049584  0.03281661]", 
        "t0 3270.000000 tf 3280.000000 [ms]", 
        "ODE statesF: [mM] "
       ]
      }, 
      {
       "output_type": "stream", 
       "stream": "stdout", 
       "text": [
        " [ 0.00048085  0.03239571]", 
        "ODE statesF: [uM]  0.480845442042", 
        "ODE states Flux [mM/ms]:  [ -1.49994684e-06  -4.20896280e-05]", 
        "ODE states Flux [uM/ms]:  [-0.00149995 -0.04208963]", 
        "WARNING: jSR and dCa are lumped tother into jVold", 
        "WARNING: I probably need to constrain jvolExpr s.t. the assembled value is equal to the ODE value", 
        "jboundary [mM/ms] 6.67549885827e-05", 
        "jboundary [uM/ms] 0.0667549885827", 
        "jvol [mM/ms]  -6.82563985471e-05", 
        "jvol [uM/ms]  -68.2563985471", 
        "##", 
        "## WARNING: we are not updating CaTnC!!!", 
        "##", 
        "T 3280.000000 [ms] Conc(0) 0.000481 [mM]"
       ]
      }, 
      {
       "output_type": "stream", 
       "stream": "stdout", 
       "text": [
        "", 
        "T 3280.000000 [ms] Conc(0) 0.480561 [uM]", 
        "T 3280.000000 [ms] Conc(1) 0.031437 [mM]", 
        "T 3280.000000 [ms] Conc(1) 31.436606 [uM]", 
        "WARNING: skipping conc updatee", 
        "###########################################################################", 
        "t0  3280.0 tf  3290.0", 
        "ODE Init [mM] [ 0.00048085  0.03239571]", 
        "t0 3280.000000 tf 3290.000000 [ms]", 
        "ODE statesF: [mM] "
       ]
      }, 
      {
       "output_type": "stream", 
       "stream": "stdout", 
       "text": [
        " [ 0.00046617  0.03194631]", 
        "ODE statesF: [uM]  0.466174496349", 
        "ODE states Flux [mM/ms]:  [ -1.46709457e-06  -4.49400993e-05]", 
        "ODE states Flux [uM/ms]:  [-0.00146709 -0.0449401 ]", 
        "WARNING: jSR and dCa are lumped tother into jVold", 
        "WARNING: I probably need to constrain jvolExpr s.t. the assembled value is equal to the ODE value", 
        "jboundary [mM/ms] 6.08733461697e-05", 
        "jboundary [uM/ms] 0.0608733461697", 
        "jvol [mM/ms]  -6.23422044777e-05", 
        "jvol [uM/ms]  -62.3422044777", 
        "##", 
        "## WARNING: we are not updating CaTnC!!!", 
        "##", 
        "T 3290.000000 [ms] Conc(0) 0.000466 [mM]"
       ]
      }, 
      {
       "output_type": "stream", 
       "stream": "stdout", 
       "text": [
        "", 
        "T 3290.000000 [ms] Conc(0) 0.465872 [uM]", 
        "T 3290.000000 [ms] Conc(1) 0.031437 [mM]", 
        "T 3290.000000 [ms] Conc(1) 31.436606 [uM]", 
        "WARNING: skipping conc updatee", 
        "###########################################################################", 
        "t0  3290.0 tf  3300.0", 
        "ODE Init [mM] [ 0.00046617  0.03194631]", 
        "t0 3290.000000 tf 3300.000000 [ms]", 
        "ODE statesF: [mM] "
       ]
      }, 
      {
       "output_type": "stream", 
       "stream": "stdout", 
       "text": [
        " [ 0.00045186  0.03147686]", 
        "ODE statesF: [uM]  0.451863067622", 
        "ODE states Flux [mM/ms]:  [ -1.43114287e-06  -4.69448848e-05]", 
        "ODE states Flux [uM/ms]:  [-0.00143114 -0.04694488]", 
        "WARNING: jSR and dCa are lumped tother into jVold", 
        "WARNING: I probably need to constrain jvolExpr s.t. the assembled value is equal to the ODE value", 
        "jboundary [mM/ms] 5.58670652783e-05", 
        "jboundary [uM/ms] 0.0558670652783", 
        "jvol [mM/ms]  -5.72999937264e-05", 
        "jvol [uM/ms]  -57.2999937264", 
        "##", 
        "## WARNING: we are not updating CaTnC!!!", 
        "##", 
        "T 3300.000000 [ms] Conc(0) 0.000452 [mM]"
       ]
      }, 
      {
       "output_type": "stream", 
       "stream": "stdout", 
       "text": [
        "", 
        "T 3300.000000 [ms] Conc(0) 0.451543 [uM]", 
        "T 3300.000000 [ms] Conc(1) 0.031437 [mM]", 
        "T 3300.000000 [ms] Conc(1) 31.436606 [uM]", 
        "WARNING: skipping conc updatee", 
        "###########################################################################", 
        "t0  3300.0 tf  3310.0", 
        "ODE Init [mM] [ 0.00045186  0.03147686]", 
        "t0 3300.000000 tf 3310.000000 [ms]", 
        "ODE statesF: [mM] "
       ]
      }, 
      {
       "output_type": "stream", 
       "stream": "stdout", 
       "text": [
        " [ 0.00043789  0.03099324]", 
        "ODE statesF: [uM]  0.437886993222", 
        "ODE states Flux [mM/ms]:  [ -1.39760744e-06  -4.83619510e-05]", 
        "ODE states Flux [uM/ms]:  [-0.00139761 -0.04836195]", 
        "WARNING: jSR and dCa are lumped tother into jVold", 
        "WARNING: I probably need to constrain jvolExpr s.t. the assembled value is equal to the ODE value", 
        "jboundary [mM/ms] 5.13976673538e-05", 
        "jboundary [uM/ms] 0.0513976673538", 
        "jvol [mM/ms]  -5.27968024056e-05", 
        "jvol [uM/ms]  -52.7968024056", 
        "##", 
        "## WARNING: we are not updating CaTnC!!!", 
        "##", 
        "T 3310.000000 [ms] Conc(0) 0.000438 [mM]"
       ]
      }, 
      {
       "output_type": "stream", 
       "stream": "stdout", 
       "text": [
        "", 
        "T 3310.000000 [ms] Conc(0) 0.437552 [uM]", 
        "T 3310.000000 [ms] Conc(1) 0.031437 [mM]", 
        "T 3310.000000 [ms] Conc(1) 31.436606 [uM]", 
        "WARNING: skipping conc updatee", 
        "###########################################################################", 
        "t0  3310.0 tf  3320.0", 
        "ODE Init [mM] [ 0.00043789  0.03099324]", 
        "t0 3310.000000 tf 3320.000000 [ms]", 
        "ODE statesF: [mM] "
       ]
      }, 
      {
       "output_type": "stream", 
       "stream": "stdout", 
       "text": [
        " [ 0.00042416  0.03049899]", 
        "ODE statesF: [uM]  0.424161966766", 
        "ODE states Flux [mM/ms]:  [ -1.37250265e-06  -4.94253136e-05]", 
        "ODE states Flux [uM/ms]:  [-0.0013725  -0.04942531]", 
        "WARNING: jSR and dCa are lumped tother into jVold", 
        "WARNING: I probably need to constrain jvolExpr s.t. the assembled value is equal to the ODE value", 
        "jboundary [mM/ms] 4.71388157371e-05", 
        "jboundary [uM/ms] 0.0471388157371", 
        "jvol [mM/ms]  -4.85122593004e-05", 
        "jvol [uM/ms]  -48.5122593004", 
        "##", 
        "## WARNING: we are not updating CaTnC!!!", 
        "##", 
        "T 3320.000000 [ms] Conc(0) 0.000424 [mM]"
       ]
      }, 
      {
       "output_type": "stream", 
       "stream": "stdout", 
       "text": [
        "", 
        "T 3320.000000 [ms] Conc(0) 0.423817 [uM]", 
        "T 3320.000000 [ms] Conc(1) 0.031437 [mM]", 
        "T 3320.000000 [ms] Conc(1) 31.436606 [uM]", 
        "WARNING: skipping conc updatee", 
        "###########################################################################", 
        "t0  3320.0 tf  3330.0", 
        "ODE Init [mM] [ 0.00042416  0.03049899]", 
        "t0 3320.000000 tf 3330.000000 [ms]", 
        "ODE statesF: [mM] "
       ]
      }, 
      {
       "output_type": "stream", 
       "stream": "stdout", 
       "text": [
        " [ 0.00041053  0.02999526]", 
        "ODE statesF: [uM]  0.410528963681", 
        "ODE states Flux [mM/ms]:  [ -1.36330031e-06  -5.03722701e-05]", 
        "ODE states Flux [uM/ms]:  [-0.0013633  -0.05037227]", 
        "WARNING: jSR and dCa are lumped tother into jVold", 
        "WARNING: I probably need to constrain jvolExpr s.t. the assembled value is equal to the ODE value", 
        "jboundary [mM/ms] 4.2729349882e-05", 
        "jboundary [uM/ms] 0.042729349882", 
        "jvol [mM/ms]  -4.4092587494e-05", 
        "jvol [uM/ms]  -44.092587494", 
        "##", 
        "## WARNING: we are not updating CaTnC!!!", 
        "##", 
        "T 3330.000000 [ms] Conc(0) 0.000410 [mM]"
       ]
      }, 
      {
       "output_type": "stream", 
       "stream": "stdout", 
       "text": [
        "", 
        "T 3330.000000 [ms] Conc(0) 0.410185 [uM]", 
        "T 3330.000000 [ms] Conc(1) 0.031437 [mM]", 
        "T 3330.000000 [ms] Conc(1) 31.436606 [uM]", 
        "WARNING: skipping conc updatee", 
        "###########################################################################", 
        "t0  3330.0 tf  3340.0", 
        "ODE Init [mM] [ 0.00041053  0.02999526]", 
        "t0 3330.000000 tf 3340.000000 [ms]", 
        "ODE statesF: [mM] "
       ]
      }, 
      {
       "output_type": "stream", 
       "stream": "stdout", 
       "text": [
        " [ 0.00039675  0.02948058]", 
        "ODE statesF: [uM]  0.396745518516", 
        "ODE states Flux [mM/ms]:  [ -1.37834452e-06  -5.14685927e-05]", 
        "ODE states Flux [uM/ms]:  [-0.00137834 -0.05146859]", 
        "WARNING: jSR and dCa are lumped tother into jVold", 
        "WARNING: I probably need to constrain jvolExpr s.t. the assembled value is equal to the ODE value", 
        "jboundary [mM/ms] 3.77305539892e-05", 
        "jboundary [uM/ms] 0.0377305539892", 
        "jvol [mM/ms]  -3.91074803947e-05", 
        "jvol [uM/ms]  -39.1074803947", 
        "##", 
        "## WARNING: we are not updating CaTnC!!!", 
        "##", 
        "T 3340.000000 [ms] Conc(0) 0.000396 [mM]"
       ]
      }, 
      {
       "output_type": "stream", 
       "stream": "stdout", 
       "text": [
        "", 
        "T 3340.000000 [ms] Conc(0) 0.396415 [uM]", 
        "T 3340.000000 [ms] Conc(1) 0.031437 [mM]", 
        "T 3340.000000 [ms] Conc(1) 31.436606 [uM]", 
        "WARNING: skipping conc updatee", 
        "###########################################################################", 
        "t0  3340.0 tf  3350.0", 
        "ODE Init [mM] [ 0.00039675  0.02948058]", 
        "t0 3340.000000 tf 3350.000000 [ms]", 
        "ODE statesF: [mM] "
       ]
      }, 
      {
       "output_type": "stream", 
       "stream": "stdout", 
       "text": [
        " [ 0.00038258  0.02895082]", 
        "ODE statesF: [uM]  0.382578490768", 
        "ODE states Flux [mM/ms]:  [ -1.41670277e-06  -5.29761271e-05]", 
        "ODE states Flux [uM/ms]:  [-0.0014167  -0.05297613]", 
        "WARNING: jSR and dCa are lumped tother into jVold", 
        "WARNING: I probably need to constrain jvolExpr s.t. the assembled value is equal to the ODE value", 
        "jboundary [mM/ms] 3.17080762524e-05", 
        "jboundary [uM/ms] 0.0317080762524", 
        "jvol [mM/ms]  -3.31226558103e-05", 
        "jvol [uM/ms]  -33.1226558103", 
        "##", 
        "## WARNING: we are not updating CaTnC!!!", 
        "##", 
        "T 3350.000000 [ms] Conc(0) 0.000382 [mM]"
       ]
      }, 
      {
       "output_type": "stream", 
       "stream": "stdout", 
       "text": [
        "", 
        "T 3350.000000 [ms] Conc(0) 0.382270 [uM]", 
        "T 3350.000000 [ms] Conc(1) 0.031437 [mM]", 
        "T 3350.000000 [ms] Conc(1) 31.436606 [uM]", 
        "WARNING: skipping conc updatee", 
        "###########################################################################", 
        "t0  3350.0 tf  3360.0", 
        "ODE Init [mM] [ 0.00038258  0.02895082]", 
        "t0 3350.000000 tf 3360.000000 [ms]", 
        "ODE statesF: [mM] "
       ]
      }, 
      {
       "output_type": "stream", 
       "stream": "stdout", 
       "text": [
        " [ 0.00036808  0.02840154]", 
        "ODE statesF: [uM]  0.368079683411", 
        "ODE states Flux [mM/ms]:  [ -1.44988074e-06  -5.49279695e-05]", 
        "ODE states Flux [uM/ms]:  [-0.00144988 -0.05492797]", 
        "WARNING: jSR and dCa are lumped tother into jVold", 
        "WARNING: I probably need to constrain jvolExpr s.t. the assembled value is equal to the ODE value", 
        "jboundary [mM/ms] 2.47129726713e-05", 
        "jboundary [uM/ms] 0.0247129726713", 
        "jvol [mM/ms]  -2.61616704588e-05", 
        "jvol [uM/ms]  -26.1616704588", 
        "##", 
        "## WARNING: we are not updating CaTnC!!!", 
        "##", 
        "T 3360.000000 [ms] Conc(0) 0.000368 [mM]"
       ]
      }, 
      {
       "output_type": "stream", 
       "stream": "stdout", 
       "text": [
        "", 
        "T 3360.000000 [ms] Conc(0) 0.367783 [uM]", 
        "T 3360.000000 [ms] Conc(1) 0.031437 [mM]", 
        "T 3360.000000 [ms] Conc(1) 31.436606 [uM]", 
        "WARNING: skipping conc updatee", 
        "###########################################################################", 
        "t0  3360.0 tf  3370.0", 
        "ODE Init [mM] [ 0.00036808  0.02840154]", 
        "t0 3360.000000 tf 3370.000000 [ms]", 
        "ODE statesF: [mM] "
       ]
      }, 
      {
       "output_type": "stream", 
       "stream": "stdout", 
       "text": [
        " [ 0.00035312  0.02782973]", 
        "ODE statesF: [uM]  0.353118777584", 
        "ODE states Flux [mM/ms]:  [ -1.49609058e-06  -5.71808400e-05]", 
        "ODE states Flux [uM/ms]:  [-0.00149609 -0.05718084]", 
        "WARNING: jSR and dCa are lumped tother into jVold", 
        "WARNING: I probably need to constrain jvolExpr s.t. the assembled value is equal to the ODE value", 
        "jboundary [mM/ms] 1.70717562652e-05", 
        "jboundary [uM/ms] 0.0170717562652", 
        "jvol [mM/ms]  -1.85641585977e-05", 
        "jvol [uM/ms]  -18.5641585977", 
        "##", 
        "## WARNING: we are not updating CaTnC!!!", 
        "##", 
        "T 3370.000000 [ms] Conc(0) 0.000353 [mM]"
       ]
      }, 
      {
       "output_type": "stream", 
       "stream": "stdout", 
       "text": [
        "", 
        "T 3370.000000 [ms] Conc(0) 0.352859 [uM]", 
        "T 3370.000000 [ms] Conc(1) 0.031437 [mM]", 
        "T 3370.000000 [ms] Conc(1) 31.436606 [uM]", 
        "WARNING: skipping conc updatee", 
        "###########################################################################", 
        "t0  3370.0 tf  3380.0", 
        "ODE Init [mM] [ 0.00035312  0.02782973]", 
        "t0 3370.000000 tf 3380.000000 [ms]", 
        "ODE statesF: [mM] "
       ]
      }, 
      {
       "output_type": "stream", 
       "stream": "stdout", 
       "text": [
        " [ 0.00033793  0.02723039]", 
        "ODE statesF: [uM]  0.337933979713", 
        "ODE states Flux [mM/ms]:  [ -1.51847979e-06  -5.99336463e-05]", 
        "ODE states Flux [uM/ms]:  [-0.00151848 -0.05993365]", 
        "WARNING: jSR and dCa are lumped tother into jVold", 
        "WARNING: I probably need to constrain jvolExpr s.t. the assembled value is equal to the ODE value", 
        "jboundary [mM/ms] 8.31501070331e-06", 
        "jboundary [uM/ms] 0.00831501070331", 
        "jvol [mM/ms]  -9.83777411475e-06", 
        "jvol [uM/ms]  -9.83777411475", 
        "##", 
        "## WARNING: we are not updating CaTnC!!!", 
        "##", 
        "T 3380.000000 [ms] Conc(0) 0.000338 [mM]"
       ]
      }, 
      {
       "output_type": "stream", 
       "stream": "stdout", 
       "text": [
        "", 
        "T 3380.000000 [ms] Conc(0) 0.337631 [uM]", 
        "T 3380.000000 [ms] Conc(1) 0.031437 [mM]", 
        "T 3380.000000 [ms] Conc(1) 31.436606 [uM]", 
        "WARNING: skipping conc updatee", 
        "###########################################################################", 
        "t0  3380.0 tf  3390.0", 
        "ODE Init [mM] [ 0.00033793  0.02723039]", 
        "t0 3380.000000 tf 3390.000000 [ms]", 
        "ODE statesF: [mM] "
       ]
      }, 
      {
       "output_type": "stream", 
       "stream": "stdout", 
       "text": [
        " [ 0.00032436  0.02661587]", 
        "ODE statesF: [uM]  0.324362949948", 
        "ODE states Flux [mM/ms]:  [ -1.35710298e-06  -6.14519902e-05]", 
        "ODE states Flux [uM/ms]:  [-0.0013571  -0.06145199]", 
        "WARNING: jSR and dCa are lumped tother into jVold", 
        "WARNING: I probably need to constrain jvolExpr s.t. the assembled value is equal to the ODE value", 
        "jboundary [mM/ms] 2.32161579011e-06", 
        "jboundary [uM/ms] 0.00232161579011", 
        "jvol [mM/ms]  -3.68680881995e-06", 
        "jvol [uM/ms]  -3.68680881995", 
        "##", 
        "## WARNING: we are not updating CaTnC!!!", 
        "##", 
        "T 3390.000000 [ms] Conc(0) 0.000324 [mM]"
       ]
      }, 
      {
       "output_type": "stream", 
       "stream": "stdout", 
       "text": [
        "", 
        "T 3390.000000 [ms] Conc(0) 0.323979 [uM]", 
        "T 3390.000000 [ms] Conc(1) 0.031437 [mM]", 
        "T 3390.000000 [ms] Conc(1) 31.436606 [uM]", 
        "WARNING: skipping conc updatee", 
        "###########################################################################", 
        "t0  3390.0 tf  3400.0", 
        "ODE Init [mM] [ 0.00032436  0.02661587]", 
        "t0 3390.000000 tf 3400.000000 [ms]", 
        "ODE statesF: [mM] "
       ]
      }, 
      {
       "output_type": "stream", 
       "stream": "stdout", 
       "text": [
        " [ 0.00031208  0.02600412]", 
        "ODE statesF: [uM]  0.312077216467", 
        "ODE states Flux [mM/ms]:  [ -1.22857335e-06  -6.11752828e-05]", 
        "ODE states Flux [uM/ms]:  [-0.00122857 -0.06117528]", 
        "WARNING: jSR and dCa are lumped tother into jVold", 
        "WARNING: I probably need to constrain jvolExpr s.t. the assembled value is equal to the ODE value", 
        "jboundary [mM/ms] -3.75478382783e-07", 
        "jboundary [uM/ms] -0.000375478382783", 
        "jvol [mM/ms]  -8.58532789673e-07", 
        "jvol [uM/ms]  -0.858532789673", 
        "##", 
        "## WARNING: we are not updating CaTnC!!!", 
        "##", 
        "T 3400.000000 [ms] Conc(0) 0.000312 [mM]"
       ]
      }, 
      {
       "output_type": "stream", 
       "stream": "stdout", 
       "text": [
        "", 
        "T 3400.000000 [ms] Conc(0) 0.311639 [uM]", 
        "T 3400.000000 [ms] Conc(1) 0.031437 [mM]", 
        "T 3400.000000 [ms] Conc(1) 31.436606 [uM]", 
        "WARNING: skipping conc updatee", 
        "###########################################################################", 
        "t0  3400.0 tf  3410.0", 
        "ODE Init [mM] [ 0.00031208  0.02600412]", 
        "t0 3400.000000 tf 3410.000000 [ms]", 
        "ODE statesF: [mM] "
       ]
      }, 
      {
       "output_type": "stream", 
       "stream": "stdout", 
       "text": [
        " [ 0.00030909  0.02543521]", 
        "ODE statesF: [uM]  0.309092061675", 
        "ODE states Flux [mM/ms]:  [ -2.98515479e-07  -5.68912707e-05]", 
        "ODE states Flux [uM/ms]:  [-0.00029852 -0.05689127]", 
        "WARNING: jSR and dCa are lumped tother into jVold", 
        "WARNING: I probably need to constrain jvolExpr s.t. the assembled value is equal to the ODE value", 
        "jboundary [mM/ms] 4.9547263041e-06", 
        "jboundary [uM/ms] 0.0049547263041", 
        "jvol [mM/ms]  -5.36845727515e-06", 
        "jvol [uM/ms]  -5.36845727515", 
        "##", 
        "## WARNING: we are not updating CaTnC!!!", 
        "##", 
        "T 3410.000000 [ms] Conc(0) 0.000308 [mM]"
       ]
      }, 
      {
       "output_type": "stream", 
       "stream": "stdout", 
       "text": [
        "", 
        "T 3410.000000 [ms] Conc(0) 0.307502 [uM]", 
        "T 3410.000000 [ms] Conc(1) 0.031437 [mM]", 
        "T 3410.000000 [ms] Conc(1) 31.436606 [uM]", 
        "WARNING: skipping conc updatee", 
        "###########################################################################", 
        "t0  3410.0 tf  3420.0", 
        "ODE Init [mM] [ 0.00030909  0.02543521]", 
        "t0 3410.000000 tf 3420.000000 [ms]", 
        "ODE statesF: [mM] "
       ]
      }, 
      {
       "output_type": "stream", 
       "stream": "stdout", 
       "text": [
        " [ 0.00031654  0.02506211]", 
        "ODE statesF: [uM]  0.316535019607", 
        "ODE states Flux [mM/ms]:  [  7.44295793e-07  -3.73094856e-05]", 
        "ODE states Flux [uM/ms]:  [ 0.0007443  -0.03730949]", 
        "WARNING: jSR and dCa are lumped tother into jVold", 
        "WARNING: I probably need to constrain jvolExpr s.t. the assembled value is equal to the ODE value", 
        "jboundary [mM/ms] 4.18635189491e-05", 
        "jboundary [uM/ms] 0.0418635189491", 
        "jvol [mM/ms]  -4.11498147984e-05", 
        "jvol [uM/ms]  -41.1498147984", 
        "##", 
        "## WARNING: we are not updating CaTnC!!!", 
        "##", 
        "T 3420.000000 [ms] Conc(0) 0.000315 [mM]"
       ]
      }, 
      {
       "output_type": "stream", 
       "stream": "stdout", 
       "text": [
        "", 
        "T 3420.000000 [ms] Conc(0) 0.314639 [uM]", 
        "T 3420.000000 [ms] Conc(1) 0.031437 [mM]", 
        "T 3420.000000 [ms] Conc(1) 31.436606 [uM]", 
        "WARNING: skipping conc updatee", 
        "###########################################################################", 
        "t0  3420.0 tf  3430.0", 
        "ODE Init [mM] [ 0.00031654  0.02506211]", 
        "t0 3420.000000 tf 3430.000000 [ms]", 
        "ODE statesF: [mM] "
       ]
      }, 
      {
       "output_type": "stream", 
       "stream": "stdout", 
       "text": [
        " [ 0.00033577  0.02494512]", 
        "ODE statesF: [uM]  0.335768593116", 
        "ODE states Flux [mM/ms]:  [  1.92335735e-06  -1.16989111e-05]", 
        "ODE states Flux [uM/ms]:  [ 0.00192336 -0.01169891]", 
        "WARNING: jSR and dCa are lumped tother into jVold", 
        "WARNING: I probably need to constrain jvolExpr s.t. the assembled value is equal to the ODE value", 
        "jboundary [mM/ms] 8.70648995628e-05", 
        "jboundary [uM/ms] 0.0870648995628", 
        "jvol [mM/ms]  -8.52360678927e-05", 
        "jvol [uM/ms]  -85.2360678927", 
        "##", 
        "## WARNING: we are not updating CaTnC!!!", 
        "##", 
        "T 3430.000000 [ms] Conc(0) 0.000333 [mM]"
       ]
      }, 
      {
       "output_type": "stream", 
       "stream": "stdout", 
       "text": [
        "", 
        "T 3430.000000 [ms] Conc(0) 0.332927 [uM]", 
        "T 3430.000000 [ms] Conc(1) 0.031437 [mM]", 
        "T 3430.000000 [ms] Conc(1) 31.436606 [uM]", 
        "WARNING: skipping conc updatee", 
        "###########################################################################", 
        "t0  3430.0 tf  3440.0", 
        "ODE Init [mM] [ 0.00033577  0.02494512]", 
        "t0 3430.000000 tf 3440.000000 [ms]", 
        "ODE statesF: [mM] "
       ]
      }, 
      {
       "output_type": "stream", 
       "stream": "stdout", 
       "text": [
        " [ 0.00038678  0.02528512]", 
        "ODE statesF: [uM]  0.386780297124", 
        "ODE states Flux [mM/ms]:  [  5.10117040e-06   3.39996214e-05]", 
        "ODE states Flux [uM/ms]:  [ 0.00510117  0.03399962]", 
        "WARNING: jSR and dCa are lumped tother into jVold", 
        "WARNING: I probably need to constrain jvolExpr s.t. the assembled value is equal to the ODE value", 
        "jboundary [mM/ms] 0.000173768625079", 
        "jboundary [uM/ms] 0.173768625079", 
        "jvol [mM/ms]  -0.000168891373788", 
        "jvol [uM/ms]  -168.891373788", 
        "##", 
        "## WARNING: we are not updating CaTnC!!!", 
        "##", 
        "T 3440.000000 [ms] Conc(0) 0.000382 [mM]"
       ]
      }, 
      {
       "output_type": "stream", 
       "stream": "stdout", 
       "text": [
        "", 
        "T 3440.000000 [ms] Conc(0) 0.381700 [uM]", 
        "T 3440.000000 [ms] Conc(1) 0.031437 [mM]", 
        "T 3440.000000 [ms] Conc(1) 31.436606 [uM]", 
        "WARNING: skipping conc updatee", 
        "###########################################################################", 
        "t0  3440.0 tf  3450.0", 
        "ODE Init [mM] [ 0.00038678  0.02528512]", 
        "t0 3440.000000 tf 3450.000000 [ms]", 
        "ODE statesF: [mM] "
       ]
      }, 
      {
       "output_type": "stream", 
       "stream": "stdout", 
       "text": [
        " [ 0.00047746  0.02645353]", 
        "ODE statesF: [uM]  0.477459358023", 
        "ODE states Flux [mM/ms]:  [  9.06790609e-06   1.16841271e-04]", 
        "ODE states Flux [uM/ms]:  [ 0.00906791  0.11684127]", 
        "WARNING: jSR and dCa are lumped tother into jVold", 
        "WARNING: I probably need to constrain jvolExpr s.t. the assembled value is equal to the ODE value", 
        "jboundary [mM/ms] 0.000331800748962", 
        "jboundary [uM/ms] 0.331800748962", 
        "jvol [mM/ms]  -0.000322820079588", 
        "jvol [uM/ms]  -322.820079588", 
        "##", 
        "## WARNING: we are not updating CaTnC!!!", 
        "##", 
        "T 3450.000000 [ms] Conc(0) 0.000472 [mM]"
       ]
      }, 
      {
       "output_type": "stream", 
       "stream": "stdout", 
       "text": [
        "", 
        "T 3450.000000 [ms] Conc(0) 0.471506 [uM]", 
        "T 3450.000000 [ms] Conc(1) 0.031437 [mM]", 
        "T 3450.000000 [ms] Conc(1) 31.436606 [uM]", 
        "WARNING: skipping conc updatee", 
        "###########################################################################", 
        "t0  3450.0 tf  3460.0", 
        "ODE Init [mM] [ 0.00047746  0.02645353]", 
        "t0 3450.000000 tf 3460.000000 [ms]", 
        "ODE statesF: [mM] "
       ]
      }, 
      {
       "output_type": "stream", 
       "stream": "stdout", 
       "text": [
        " [ 0.00055005  0.02830274]", 
        "ODE statesF: [uM]  0.550047749781", 
        "ODE states Flux [mM/ms]:  [  7.25883918e-06   1.84920706e-04]", 
        "ODE states Flux [uM/ms]:  [ 0.00725884  0.18492071]", 
        "WARNING: jSR and dCa are lumped tother into jVold", 
        "WARNING: I probably need to constrain jvolExpr s.t. the assembled value is equal to the ODE value", 
        "jboundary [mM/ms] 0.000440897329463", 
        "jboundary [uM/ms] 0.440897329463", 
        "jvol [mM/ms]  -0.000433438354813", 
        "jvol [uM/ms]  -433.438354813", 
        "##", 
        "## WARNING: we are not updating CaTnC!!!", 
        "##", 
        "T 3460.000000 [ms] Conc(0) 0.000546 [mM]"
       ]
      }, 
      {
       "output_type": "stream", 
       "stream": "stdout", 
       "text": [
        "", 
        "T 3460.000000 [ms] Conc(0) 0.546096 [uM]", 
        "T 3460.000000 [ms] Conc(1) 0.031437 [mM]", 
        "T 3460.000000 [ms] Conc(1) 31.436606 [uM]", 
        "WARNING: skipping conc updatee", 
        "###########################################################################", 
        "t0  3460.0 tf  3470.0", 
        "ODE Init [mM] [ 0.00055005  0.02830274]", 
        "t0 3460.000000 tf 3470.000000 [ms]", 
        "ODE statesF: [mM] "
       ]
      }, 
      {
       "output_type": "stream", 
       "stream": "stdout", 
       "text": [
        " [ 0.00058481  0.03016144]", 
        "ODE statesF: [uM]  0.584808172861", 
        "ODE states Flux [mM/ms]:  [  3.47604231e-06   1.85869689e-04]", 
        "ODE states Flux [uM/ms]:  [ 0.00347604  0.18586969]", 
        "WARNING: jSR and dCa are lumped tother into jVold", 
        "WARNING: I probably need to constrain jvolExpr s.t. the assembled value is equal to the ODE value", 
        "jboundary [mM/ms] 0.000417358874765", 
        "jboundary [uM/ms] 0.417358874765", 
        "jvol [mM/ms]  -0.000413729773389", 
        "jvol [uM/ms]  -413.729773389", 
        "##", 
        "## WARNING: we are not updating CaTnC!!!", 
        "##", 
        "T 3470.000000 [ms] Conc(0) 0.000582 [mM]"
       ]
      }, 
      {
       "output_type": "stream", 
       "stream": "stdout", 
       "text": [
        "", 
        "T 3470.000000 [ms] Conc(0) 0.582387 [uM]", 
        "T 3470.000000 [ms] Conc(1) 0.031437 [mM]", 
        "T 3470.000000 [ms] Conc(1) 31.436606 [uM]", 
        "WARNING: skipping conc updatee", 
        "###########################################################################", 
        "t0  3470.0 tf  3480.0", 
        "ODE Init [mM] [ 0.00058481  0.03016144]", 
        "t0 3470.000000 tf 3480.000000 [ms]", 
        "ODE statesF: [mM] "
       ]
      }, 
      {
       "output_type": "stream", 
       "stream": "stdout", 
       "text": [
        " [ 0.0005974   0.03166048]", 
        "ODE statesF: [uM]  0.597400986444", 
        "ODE states Flux [mM/ms]:  [  1.25928136e-06   1.49904923e-04]", 
        "ODE states Flux [uM/ms]:  [ 0.00125928  0.14990492]", 
        "WARNING: jSR and dCa are lumped tother into jVold", 
        "WARNING: I probably need to constrain jvolExpr s.t. the assembled value is equal to the ODE value", 
        "jboundary [mM/ms] 0.000345595825414", 
        "jboundary [uM/ms] 0.345595825414", 
        "jvol [mM/ms]  -0.000344258200322", 
        "jvol [uM/ms]  -344.258200322", 
        "##", 
        "## WARNING: we are not updating CaTnC!!!", 
        "##", 
        "T 3480.000000 [ms] Conc(0) 0.000596 [mM]"
       ]
      }, 
      {
       "output_type": "stream", 
       "stream": "stdout", 
       "text": [
        "", 
        "T 3480.000000 [ms] Conc(0) 0.595763 [uM]", 
        "T 3480.000000 [ms] Conc(1) 0.031437 [mM]", 
        "T 3480.000000 [ms] Conc(1) 31.436606 [uM]", 
        "WARNING: skipping conc updatee", 
        "###########################################################################", 
        "t0  3480.0 tf  3490.0", 
        "ODE Init [mM] [ 0.0005974   0.03166048]", 
        "t0 3480.000000 tf 3490.000000 [ms]", 
        "ODE statesF: [mM] "
       ]
      }, 
      {
       "output_type": "stream", 
       "stream": "stdout", 
       "text": [
        " [ 0.00059854  0.03273636]", 
        "ODE statesF: [uM]  0.59853607773", 
        "ODE states Flux [mM/ms]:  [  1.13509129e-07   1.07587049e-04]", 
        "ODE states Flux [uM/ms]:  [ 0.00011351  0.10758705]", 
        "WARNING: jSR and dCa are lumped tother into jVold", 
        "WARNING: I probably need to constrain jvolExpr s.t. the assembled value is equal to the ODE value", 
        "jboundary [mM/ms] 0.000277740991422", 
        "jboundary [uM/ms] 0.277740991422", 
        "jvol [mM/ms]  -0.000277585282769", 
        "jvol [uM/ms]  -277.585282769", 
        "##", 
        "## WARNING: we are not updating CaTnC!!!", 
        "##", 
        "T 3490.000000 [ms] Conc(0) 0.000597 [mM]"
       ]
      }, 
      {
       "output_type": "stream", 
       "stream": "stdout", 
       "text": [
        "", 
        "T 3490.000000 [ms] Conc(0) 0.597320 [uM]", 
        "T 3490.000000 [ms] Conc(1) 0.031437 [mM]", 
        "T 3490.000000 [ms] Conc(1) 31.436606 [uM]", 
        "WARNING: skipping conc updatee", 
        "###########################################################################", 
        "t0  3490.0 tf  3500.0", 
        "ODE Init [mM] [ 0.00059854  0.03273636]", 
        "t0 3490.000000 tf 3500.000000 [ms]", 
        "ODE statesF: [mM] "
       ]
      }, 
      {
       "output_type": "stream", 
       "stream": "stdout", 
       "text": [
        " [ 0.00059317  0.03343765]", 
        "ODE statesF: [uM]  0.593165669671", 
        "ODE states Flux [mM/ms]:  [ -5.37040806e-07   7.01292951e-05]", 
        "ODE states Flux [uM/ms]:  [-0.00053704  0.0701293 ]", 
        "WARNING: jSR and dCa are lumped tother into jVold", 
        "WARNING: I probably need to constrain jvolExpr s.t. the assembled value is equal to the ODE value", 
        "jboundary [mM/ms] 0.000223818862688", 
        "jboundary [uM/ms] 0.223818862688", 
        "jvol [mM/ms]  -0.000224330546998", 
        "jvol [uM/ms]  -224.330546998", 
        "##", 
        "## WARNING: we are not updating CaTnC!!!", 
        "##", 
        "T 3500.000000 [ms] Conc(0) 0.000592 [mM]"
       ]
      }, 
      {
       "output_type": "stream", 
       "stream": "stdout", 
       "text": [
        "", 
        "T 3500.000000 [ms] Conc(0) 0.592204 [uM]", 
        "T 3500.000000 [ms] Conc(1) 0.031437 [mM]", 
        "T 3500.000000 [ms] Conc(1) 31.436606 [uM]", 
        "WARNING: skipping conc updatee", 
        "###########################################################################", 
        "t0  3500.0 tf  3510.0", 
        "ODE Init [mM] [ 0.00059317  0.03343765]", 
        "t0 3500.000000 tf 3510.000000 [ms]", 
        "ODE statesF: [mM] "
       ]
      }, 
      {
       "output_type": "stream", 
       "stream": "stdout", 
       "text": [
        " [ 0.00058374  0.03383653]", 
        "ODE statesF: [uM]  0.583739608739", 
        "ODE states Flux [mM/ms]:  [ -9.42606093e-07   3.98886488e-05]", 
        "ODE states Flux [uM/ms]:  [-0.00094261  0.03988865]", 
        "WARNING: jSR and dCa are lumped tother into jVold", 
        "WARNING: I probably need to constrain jvolExpr s.t. the assembled value is equal to the ODE value", 
        "jboundary [mM/ms] 0.000182518985871", 
        "jboundary [uM/ms] 0.182518985871", 
        "jvol [mM/ms]  -0.000183445298209", 
        "jvol [uM/ms]  -183.445298209", 
        "##", 
        "## WARNING: we are not updating CaTnC!!!", 
        "##", 
        "T 3510.000000 [ms] Conc(0) 0.000583 [mM]"
       ]
      }, 
      {
       "output_type": "stream", 
       "stream": "stdout", 
       "text": [
        "", 
        "T 3510.000000 [ms] Conc(0) 0.582940 [uM]", 
        "T 3510.000000 [ms] Conc(1) 0.031437 [mM]", 
        "T 3510.000000 [ms] Conc(1) 31.436606 [uM]", 
        "WARNING: skipping conc updatee", 
        "###########################################################################", 
        "t0  3510.0 tf  3520.0", 
        "ODE Init [mM] [ 0.00058374  0.03383653]", 
        "t0 3510.000000 tf 3520.000000 [ms]", 
        "ODE statesF: [mM] "
       ]
      }, 
      {
       "output_type": "stream", 
       "stream": "stdout", 
       "text": [
        " [ 0.00057168  0.03400029]", 
        "ODE statesF: [uM]  0.571682084066", 
        "ODE states Flux [mM/ms]:  [ -1.20575247e-06   1.63752236e-05]", 
        "ODE states Flux [uM/ms]:  [-0.00120575  0.01637522]", 
        "WARNING: jSR and dCa are lumped tother into jVold", 
        "WARNING: I probably need to constrain jvolExpr s.t. the assembled value is equal to the ODE value", 
        "jboundary [mM/ms] 0.000151024664876", 
        "jboundary [uM/ms] 0.151024664876", 
        "jvol [mM/ms]  -0.000152219833742", 
        "jvol [uM/ms]  -152.219833742", 
        "##", 
        "## WARNING: we are not updating CaTnC!!!", 
        "##", 
        "T 3520.000000 [ms] Conc(0) 0.000571 [mM]"
       ]
      }, 
      {
       "output_type": "stream", 
       "stream": "stdout", 
       "text": [
        "", 
        "T 3520.000000 [ms] Conc(0) 0.570989 [uM]", 
        "T 3520.000000 [ms] Conc(1) 0.031437 [mM]", 
        "T 3520.000000 [ms] Conc(1) 31.436606 [uM]", 
        "WARNING: skipping conc updatee", 
        "###########################################################################", 
        "t0  3520.0 tf  3530.0", 
        "ODE Init [mM] [ 0.00057168  0.03400029]", 
        "t0 3520.000000 tf 3530.000000 [ms]", 
        "ODE statesF: [mM] "
       ]
      }, 
      {
       "output_type": "stream", 
       "stream": "stdout", 
       "text": [
        " [ 0.00055794  0.03398449]", 
        "ODE statesF: [uM]  0.557940838308", 
        "ODE states Flux [mM/ms]:  [ -1.37412458e-06  -1.58015639e-06]", 
        "ODE states Flux [uM/ms]:  [-0.00137412 -0.00158016]", 
        "WARNING: jSR and dCa are lumped tother into jVold", 
        "WARNING: I probably need to constrain jvolExpr s.t. the assembled value is equal to the ODE value", 
        "jboundary [mM/ms] 0.000126924057212", 
        "jboundary [uM/ms] 0.126924057212", 
        "jvol [mM/ms]  -0.000128291579517", 
        "jvol [uM/ms]  -128.291579517", 
        "##", 
        "## WARNING: we are not updating CaTnC!!!", 
        "##", 
        "T 3530.000000 [ms] Conc(0) 0.000557 [mM]"
       ]
      }, 
      {
       "output_type": "stream", 
       "stream": "stdout", 
       "text": [
        "", 
        "T 3530.000000 [ms] Conc(0) 0.557313 [uM]", 
        "T 3530.000000 [ms] Conc(1) 0.031437 [mM]", 
        "T 3530.000000 [ms] Conc(1) 31.436606 [uM]", 
        "WARNING: skipping conc updatee", 
        "###########################################################################", 
        "t0  3530.0 tf  3540.0", 
        "ODE Init [mM] [ 0.00055794  0.03398449]", 
        "t0 3530.000000 tf 3540.000000 [ms]", 
        "ODE statesF: [mM] "
       ]
      }, 
      {
       "output_type": "stream", 
       "stream": "stdout", 
       "text": [
        " [ 0.00054319  0.03383306]", 
        "ODE statesF: [uM]  0.54319247166", 
        "ODE states Flux [mM/ms]:  [ -1.47483666e-06  -1.51429361e-05]", 
        "ODE states Flux [uM/ms]:  [-0.00147484 -0.01514294]", 
        "WARNING: jSR and dCa are lumped tother into jVold", 
        "WARNING: I probably need to constrain jvolExpr s.t. the assembled value is equal to the ODE value", 
        "jboundary [mM/ms] 0.000108379396323", 
        "jboundary [uM/ms] 0.108379396323", 
        "jvol [mM/ms]  -0.000109850518506", 
        "jvol [uM/ms]  -109.850518506", 
        "##", 
        "## WARNING: we are not updating CaTnC!!!", 
        "##", 
        "T 3540.000000 [ms] Conc(0) 0.000543 [mM]"
       ]
      }, 
      {
       "output_type": "stream", 
       "stream": "stdout", 
       "text": [
        "", 
        "T 3540.000000 [ms] Conc(0) 0.542602 [uM]", 
        "T 3540.000000 [ms] Conc(1) 0.031437 [mM]", 
        "T 3540.000000 [ms] Conc(1) 31.436606 [uM]", 
        "WARNING: skipping conc updatee", 
        "###########################################################################", 
        "t0  3540.0 tf  3550.0", 
        "ODE Init [mM] [ 0.00054319  0.03383306]", 
        "t0 3540.000000 tf 3550.000000 [ms]", 
        "ODE statesF: [mM] "
       ]
      }, 
      {
       "output_type": "stream", 
       "stream": "stdout", 
       "text": [
        " [ 0.00052793  0.03358009]", 
        "ODE statesF: [uM]  0.527928906371", 
        "ODE states Flux [mM/ms]:  [ -1.52635653e-06  -2.52967765e-05]", 
        "ODE states Flux [uM/ms]:  [-0.00152636 -0.02529678]", 
        "WARNING: jSR and dCa are lumped tother into jVold", 
        "WARNING: I probably need to constrain jvolExpr s.t. the assembled value is equal to the ODE value", 
        "jboundary [mM/ms] 9.40124159198e-05", 
        "jboundary [uM/ms] 0.0940124159198", 
        "jvol [mM/ms]  -9.55371513449e-05", 
        "jvol [uM/ms]  -95.5371513449", 
        "##", 
        "## WARNING: we are not updating CaTnC!!!", 
        "##", 
        "T 3550.000000 [ms] Conc(0) 0.000527 [mM]"
       ]
      }, 
      {
       "output_type": "stream", 
       "stream": "stdout", 
       "text": [
        "", 
        "T 3550.000000 [ms] Conc(0) 0.527355 [uM]", 
        "T 3550.000000 [ms] Conc(1) 0.031437 [mM]", 
        "T 3550.000000 [ms] Conc(1) 31.436606 [uM]", 
        "WARNING: skipping conc updatee", 
        "###########################################################################", 
        "t0  3550.0 tf  3560.0", 
        "ODE Init [mM] [ 0.00052793  0.03358009]", 
        "t0 3550.000000 tf 3560.000000 [ms]", 
        "ODE statesF: [mM] "
       ]
      }, 
      {
       "output_type": "stream", 
       "stream": "stdout", 
       "text": [
        " [ 0.0005125   0.03325182]", 
        "ODE statesF: [uM]  0.512503229739", 
        "ODE states Flux [mM/ms]:  [ -1.54256766e-06  -3.28267623e-05]", 
        "ODE states Flux [uM/ms]:  [-0.00154257 -0.03282676]", 
        "WARNING: jSR and dCa are lumped tother into jVold", 
        "WARNING: I probably need to constrain jvolExpr s.t. the assembled value is equal to the ODE value", 
        "jboundary [mM/ms] 8.2783844548e-05", 
        "jboundary [uM/ms] 0.082783844548", 
        "jvol [mM/ms]  -8.43262733358e-05", 
        "jvol [uM/ms]  -84.3262733358", 
        "##", 
        "## WARNING: we are not updating CaTnC!!!", 
        "##", 
        "T 3560.000000 [ms] Conc(0) 0.000512 [mM]"
       ]
      }, 
      {
       "output_type": "stream", 
       "stream": "stdout", 
       "text": [
        "", 
        "T 3560.000000 [ms] Conc(0) 0.511931 [uM]", 
        "T 3560.000000 [ms] Conc(1) 0.031437 [mM]", 
        "T 3560.000000 [ms] Conc(1) 31.436606 [uM]", 
        "WARNING: skipping conc updatee", 
        "###########################################################################", 
        "t0  3560.0 tf  3570.0", 
        "ODE Init [mM] [ 0.0005125   0.03325182]", 
        "t0 3560.000000 tf 3570.000000 [ms]", 
        "ODE statesF: [mM] "
       ]
      }, 
      {
       "output_type": "stream", 
       "stream": "stdout", 
       "text": [
        " [ 0.00049716  0.03286834]", 
        "ODE statesF: [uM]  0.497160109687", 
        "ODE states Flux [mM/ms]:  [ -1.53431201e-06  -3.83480936e-05]", 
        "ODE states Flux [uM/ms]:  [-0.00153431 -0.03834809]", 
        "WARNING: jSR and dCa are lumped tother into jVold", 
        "WARNING: I probably need to constrain jvolExpr s.t. the assembled value is equal to the ODE value", 
        "jboundary [mM/ms] 7.39025630715e-05", 
        "jboundary [uM/ms] 0.0739025630715", 
        "jvol [mM/ms]  -7.54377355036e-05", 
        "jvol [uM/ms]  -75.4377355036", 
        "##", 
        "## WARNING: we are not updating CaTnC!!!", 
        "##", 
        "T 3570.000000 [ms] Conc(0) 0.000497 [mM]"
       ]
      }, 
      {
       "output_type": "stream", 
       "stream": "stdout", 
       "text": [
        "", 
        "T 3570.000000 [ms] Conc(0) 0.496579 [uM]", 
        "T 3570.000000 [ms] Conc(1) 0.031437 [mM]", 
        "T 3570.000000 [ms] Conc(1) 31.436606 [uM]", 
        "WARNING: skipping conc updatee", 
        "###########################################################################", 
        "t0  3570.0 tf  3580.0", 
        "ODE Init [mM] [ 0.00049716  0.03286834]", 
        "t0 3570.000000 tf 3580.000000 [ms]", 
        "ODE statesF: [mM] "
       ]
      }, 
      {
       "output_type": "stream", 
       "stream": "stdout", 
       "text": [
        " [ 0.00048206  0.03244492]", 
        "ODE statesF: [uM]  0.482058283123", 
        "ODE states Flux [mM/ms]:  [ -1.51018266e-06  -4.23417227e-05]", 
        "ODE states Flux [uM/ms]:  [-0.00151018 -0.04234172]", 
        "WARNING: jSR and dCa are lumped tother into jVold", 
        "WARNING: I probably need to constrain jvolExpr s.t. the assembled value is equal to the ODE value", 
        "jboundary [mM/ms] 6.67588260962e-05", 
        "jboundary [uM/ms] 0.0667588260962", 
        "jvol [mM/ms]  -6.82704833493e-05", 
        "jvol [uM/ms]  -68.2704833493", 
        "##", 
        "## WARNING: we are not updating CaTnC!!!", 
        "##", 
        "T 3580.000000 [ms] Conc(0) 0.000481 [mM]"
       ]
      }, 
      {
       "output_type": "stream", 
       "stream": "stdout", 
       "text": [
        "", 
        "T 3580.000000 [ms] Conc(0) 0.481462 [uM]", 
        "T 3580.000000 [ms] Conc(1) 0.031437 [mM]", 
        "T 3580.000000 [ms] Conc(1) 31.436606 [uM]", 
        "WARNING: skipping conc updatee", 
        "###########################################################################", 
        "t0  3580.0 tf  3590.0", 
        "ODE Init [mM] [ 0.00048206  0.03244492]", 
        "t0 3580.000000 tf 3590.000000 [ms]", 
        "ODE statesF: [mM] "
       ]
      }, 
      {
       "output_type": "stream", 
       "stream": "stdout", 
       "text": [
        " [ 0.00046729  0.03199305]", 
        "ODE statesF: [uM]  0.467286864005", 
        "ODE states Flux [mM/ms]:  [ -1.47714191e-06  -4.51873120e-05]", 
        "ODE states Flux [uM/ms]:  [-0.00147714 -0.04518731]", 
        "WARNING: jSR and dCa are lumped tother into jVold", 
        "WARNING: I probably need to constrain jvolExpr s.t. the assembled value is equal to the ODE value", 
        "jboundary [mM/ms] 6.08731782266e-05", 
        "jboundary [uM/ms] 0.0608731782266", 
        "jvol [mM/ms]  -6.23520908479e-05", 
        "jvol [uM/ms]  -62.3520908479", 
        "##", 
        "## WARNING: we are not updating CaTnC!!!", 
        "##", 
        "T 3590.000000 [ms] Conc(0) 0.000467 [mM]"
       ]
      }, 
      {
       "output_type": "stream", 
       "stream": "stdout", 
       "text": [
        "", 
        "T 3590.000000 [ms] Conc(0) 0.466673 [uM]", 
        "T 3590.000000 [ms] Conc(1) 0.031437 [mM]", 
        "T 3590.000000 [ms] Conc(1) 31.436606 [uM]", 
        "WARNING: skipping conc updatee", 
        "###########################################################################", 
        "t0  3590.0 tf  3600.0", 
        "ODE Init [mM] [ 0.00046729  0.03199305]", 
        "t0 3590.000000 tf 3600.000000 [ms]", 
        "ODE statesF: [mM] "
       ]
      }, 
      {
       "output_type": "stream", 
       "stream": "stdout", 
       "text": [
        " [ 0.00045288  0.03152113]", 
        "ODE statesF: [uM]  0.452875554136", 
        "ODE states Flux [mM/ms]:  [ -1.44113099e-06  -4.71915486e-05]", 
        "ODE states Flux [uM/ms]:  [-0.00144113 -0.04719155]", 
        "WARNING: jSR and dCa are lumped tother into jVold", 
        "WARNING: I probably need to constrain jvolExpr s.t. the assembled value is equal to the ODE value", 
        "jboundary [mM/ms] 5.58546294129e-05", 
        "jboundary [uM/ms] 0.0558546294129", 
        "jvol [mM/ms]  -5.72975444124e-05", 
        "jvol [uM/ms]  -57.2975444124", 
        "##", 
        "## WARNING: we are not updating CaTnC!!!", 
        "##", 
        "T 3600.000000 [ms] Conc(0) 0.000452 [mM]"
       ]
      }, 
      {
       "output_type": "stream", 
       "stream": "stdout", 
       "text": [
        "", 
        "T 3600.000000 [ms] Conc(0) 0.452244 [uM]", 
        "T 3600.000000 [ms] Conc(1) 0.031437 [mM]", 
        "T 3600.000000 [ms] Conc(1) 31.436606 [uM]", 
        "WARNING: skipping conc updatee", 
        "###########################################################################", 
        "t0  3600.0 tf  3610.0", 
        "ODE Init [mM] [ 0.00045288  0.03152113]", 
        "t0 3600.000000 tf 3610.000000 [ms]", 
        "ODE statesF: [mM] "
       ]
      }, 
      {
       "output_type": "stream", 
       "stream": "stdout", 
       "text": [
        " [ 0.0004388  0.031035 ]", 
        "ODE statesF: [uM]  0.438797899757", 
        "ODE states Flux [mM/ms]:  [ -1.40776544e-06  -4.86132985e-05]", 
        "ODE states Flux [uM/ms]:  [-0.00140777 -0.0486133 ]", 
        "WARNING: jSR and dCa are lumped tother into jVold", 
        "WARNING: I probably need to constrain jvolExpr s.t. the assembled value is equal to the ODE value", 
        "jboundary [mM/ms] 5.13625696409e-05", 
        "jboundary [uM/ms] 0.0513625696409", 
        "jvol [mM/ms]  -5.27718464994e-05", 
        "jvol [uM/ms]  -52.7718464994", 
        "##", 
        "## WARNING: we are not updating CaTnC!!!", 
        "##", 
        "T 3610.000000 [ms] Conc(0) 0.000438 [mM]"
       ]
      }, 
      {
       "output_type": "stream", 
       "stream": "stdout", 
       "text": [
        "", 
        "T 3610.000000 [ms] Conc(0) 0.438151 [uM]", 
        "T 3610.000000 [ms] Conc(1) 0.031437 [mM]", 
        "T 3610.000000 [ms] Conc(1) 31.436606 [uM]", 
        "WARNING: skipping conc updatee", 
        "###########################################################################", 
        "t0  3610.0 tf  3620.0", 
        "ODE Init [mM] [ 0.0004388  0.031035 ]", 
        "t0 3610.000000 tf 3620.000000 [ms]", 
        "ODE statesF: [mM] "
       ]
      }, 
      {
       "output_type": "stream", 
       "stream": "stdout", 
       "text": [
        " [ 0.00042497  0.03053812]", 
        "ODE statesF: [uM]  0.42496575913", 
        "ODE states Flux [mM/ms]:  [ -1.38321406e-06  -4.96885672e-05]", 
        "ODE states Flux [uM/ms]:  [-0.00138321 -0.04968857]", 
        "WARNING: jSR and dCa are lumped tother into jVold", 
        "WARNING: I probably need to constrain jvolExpr s.t. the assembled value is equal to the ODE value", 
        "jboundary [mM/ms] 4.70664387281e-05", 
        "jboundary [uM/ms] 0.0470664387281", 
        "jvol [mM/ms]  -4.84505535178e-05", 
        "jvol [uM/ms]  -48.4505535178", 
        "##", 
        "## WARNING: we are not updating CaTnC!!!", 
        "##", 
        "T 3620.000000 [ms] Conc(0) 0.000424 [mM]"
       ]
      }, 
      {
       "output_type": "stream", 
       "stream": "stdout", 
       "text": [
        "", 
        "T 3620.000000 [ms] Conc(0) 0.424310 [uM]", 
        "T 3620.000000 [ms] Conc(1) 0.031437 [mM]", 
        "T 3620.000000 [ms] Conc(1) 31.436606 [uM]", 
        "WARNING: skipping conc updatee", 
        "###########################################################################", 
        "t0  3620.0 tf  3630.0", 
        "ODE Init [mM] [ 0.00042497  0.03053812]", 
        "t0 3620.000000 tf 3630.000000 [ms]", 
        "ODE statesF: [mM] "
       ]
      }, 
      {
       "output_type": "stream", 
       "stream": "stdout", 
       "text": [
        " [ 0.00041121  0.03003153]", 
        "ODE statesF: [uM]  0.411214205321", 
        "ODE states Flux [mM/ms]:  [ -1.37515538e-06  -5.06582512e-05]", 
        "ODE states Flux [uM/ms]:  [-0.00137516 -0.05065825]", 
        "WARNING: jSR and dCa are lumped tother into jVold", 
        "WARNING: I probably need to constrain jvolExpr s.t. the assembled value is equal to the ODE value", 
        "jboundary [mM/ms] 4.25977331643e-05", 
        "jboundary [uM/ms] 0.0425977331643", 
        "jvol [mM/ms]  -4.39727519017e-05", 
        "jvol [uM/ms]  -43.9727519017", 
        "##", 
        "## WARNING: we are not updating CaTnC!!!", 
        "##", 
        "T 3630.000000 [ms] Conc(0) 0.000411 [mM]"
       ]
      }, 
      {
       "output_type": "stream", 
       "stream": "stdout", 
       "text": [
        "", 
        "T 3630.000000 [ms] Conc(0) 0.410560 [uM]", 
        "T 3630.000000 [ms] Conc(1) 0.031437 [mM]", 
        "T 3630.000000 [ms] Conc(1) 31.436606 [uM]", 
        "WARNING: skipping conc updatee", 
        "###########################################################################", 
        "t0  3630.0 tf  3640.0", 
        "ODE Init [mM] [ 0.00041121  0.03003153]", 
        "t0 3630.000000 tf 3640.000000 [ms]", 
        "ODE statesF: [mM] "
       ]
      }, 
      {
       "output_type": "stream", 
       "stream": "stdout", 
       "text": [
        " [ 0.0003973   0.02951361]", 
        "ODE statesF: [uM]  0.397295086552", 
        "ODE states Flux [mM/ms]:  [ -1.39191188e-06  -5.17925754e-05]", 
        "ODE states Flux [uM/ms]:  [-0.00139191 -0.05179258]", 
        "WARNING: jSR and dCa are lumped tother into jVold", 
        "WARNING: I probably need to constrain jvolExpr s.t. the assembled value is equal to the ODE value", 
        "jboundary [mM/ms] 3.75090759806e-05", 
        "jboundary [uM/ms] 0.0375090759806", 
        "jvol [mM/ms]  -3.88994831705e-05", 
        "jvol [uM/ms]  -38.8994831705", 
        "##", 
        "## WARNING: we are not updating CaTnC!!!", 
        "##", 
        "T 3640.000000 [ms] Conc(0) 0.000397 [mM]"
       ]
      }, 
      {
       "output_type": "stream", 
       "stream": "stdout", 
       "text": [
        "", 
        "T 3640.000000 [ms] Conc(0) 0.396656 [uM]", 
        "T 3640.000000 [ms] Conc(1) 0.031437 [mM]", 
        "T 3640.000000 [ms] Conc(1) 31.436606 [uM]", 
        "WARNING: skipping conc updatee", 
        "###########################################################################", 
        "t0  3640.0 tf  3650.0", 
        "ODE Init [mM] [ 0.0003973   0.02951361]", 
        "t0 3640.000000 tf 3650.000000 [ms]", 
        "ODE statesF: [mM] "
       ]
      }, 
      {
       "output_type": "stream", 
       "stream": "stdout", 
       "text": [
        " [ 0.00038298  0.02898011]", 
        "ODE statesF: [uM]  0.382983754394", 
        "ODE states Flux [mM/ms]:  [ -1.43113322e-06  -5.33499694e-05]", 
        "ODE states Flux [uM/ms]:  [-0.00143113 -0.05334997]", 
        "WARNING: jSR and dCa are lumped tother into jVold", 
        "WARNING: I probably need to constrain jvolExpr s.t. the assembled value is equal to the ODE value", 
        "jboundary [mM/ms] 3.1374969313e-05", 
        "jboundary [uM/ms] 0.031374969313", 
        "jvol [mM/ms]  -3.28040028815e-05", 
        "jvol [uM/ms]  -32.8040028815", 
        "##", 
        "## WARNING: we are not updating CaTnC!!!", 
        "##", 
        "T 3650.000000 [ms] Conc(0) 0.000382 [mM]"
       ]
      }, 
      {
       "output_type": "stream", 
       "stream": "stdout", 
       "text": [
        "", 
        "T 3650.000000 [ms] Conc(0) 0.382366 [uM]", 
        "T 3650.000000 [ms] Conc(1) 0.031437 [mM]", 
        "T 3650.000000 [ms] Conc(1) 31.436606 [uM]", 
        "WARNING: skipping conc updatee", 
        "###########################################################################", 
        "t0  3650.0 tf  3660.0", 
        "ODE Init [mM] [ 0.00038298  0.02898011]", 
        "t0 3650.000000 tf 3660.000000 [ms]", 
        "ODE statesF: [mM] "
       ]
      }, 
      {
       "output_type": "stream", 
       "stream": "stdout", 
       "text": [
        " [ 0.00036835  0.02842672]", 
        "ODE statesF: [uM]  0.368353171581", 
        "ODE states Flux [mM/ms]:  [ -1.46305828e-06  -5.53391280e-05]", 
        "ODE states Flux [uM/ms]:  [-0.00146306 -0.05533913]", 
        "WARNING: jSR and dCa are lumped tother into jVold", 
        "WARNING: I probably need to constrain jvolExpr s.t. the assembled value is equal to the ODE value", 
        "jboundary [mM/ms] 2.42981248389e-05", 
        "jboundary [uM/ms] 0.0242981248389", 
        "jvol [mM/ms]  -2.57599905607e-05", 
        "jvol [uM/ms]  -25.7599905607", 
        "##", 
        "## WARNING: we are not updating CaTnC!!!", 
        "##", 
        "T 3660.000000 [ms] Conc(0) 0.000368 [mM]"
       ]
      }, 
      {
       "output_type": "stream", 
       "stream": "stdout", 
       "text": [
        "", 
        "T 3660.000000 [ms] Conc(0) 0.367747 [uM]", 
        "T 3660.000000 [ms] Conc(1) 0.031437 [mM]", 
        "T 3660.000000 [ms] Conc(1) 31.436606 [uM]", 
        "WARNING: skipping conc updatee", 
        "###########################################################################", 
        "t0  3660.0 tf  3670.0", 
        "ODE Init [mM] [ 0.00036835  0.02842672]", 
        "t0 3660.000000 tf 3670.000000 [ms]", 
        "ODE statesF: [mM] "
       ]
      }, 
      {
       "output_type": "stream", 
       "stream": "stdout", 
       "text": [
        " [ 0.00035323  0.02785031]", 
        "ODE statesF: [uM]  0.35322572251", 
        "ODE states Flux [mM/ms]:  [ -1.51274491e-06  -5.76402258e-05]", 
        "ODE states Flux [uM/ms]:  [-0.00151274 -0.05764023]", 
        "WARNING: jSR and dCa are lumped tother into jVold", 
        "WARNING: I probably need to constrain jvolExpr s.t. the assembled value is equal to the ODE value", 
        "jboundary [mM/ms] 1.65424408664e-05", 
        "jboundary [uM/ms] 0.0165424408664", 
        "jvol [mM/ms]  -1.80514364501e-05", 
        "jvol [uM/ms]  -18.0514364501", 
        "##", 
        "## WARNING: we are not updating CaTnC!!!", 
        "##", 
        "T 3670.000000 [ms] Conc(0) 0.000353 [mM]"
       ]
      }, 
      {
       "output_type": "stream", 
       "stream": "stdout", 
       "text": [
        "", 
        "T 3670.000000 [ms] Conc(0) 0.352657 [uM]", 
        "T 3670.000000 [ms] Conc(1) 0.031437 [mM]", 
        "T 3670.000000 [ms] Conc(1) 31.436606 [uM]", 
        "WARNING: skipping conc updatee", 
        "###########################################################################", 
        "t0  3670.0 tf  3680.0", 
        "ODE Init [mM] [ 0.00035323  0.02785031]", 
        "t0 3670.000000 tf 3680.000000 [ms]", 
        "ODE statesF: [mM] "
       ]
      }, 
      {
       "output_type": "stream", 
       "stream": "stdout", 
       "text": [
        " [ 0.000338    0.02724628]", 
        "ODE statesF: [uM]  0.337998038739", 
        "ODE states Flux [mM/ms]:  [ -1.52276838e-06  -6.04037937e-05]", 
        "ODE states Flux [uM/ms]:  [-0.00152277 -0.06040379]", 
        "WARNING: jSR and dCa are lumped tother into jVold", 
        "WARNING: I probably need to constrain jvolExpr s.t. the assembled value is equal to the ODE value", 
        "jboundary [mM/ms] 7.75983392584e-06", 
        "jboundary [uM/ms] 0.00775983392584", 
        "jvol [mM/ms]  -9.28785027034e-06", 
        "jvol [uM/ms]  -9.28785027034", 
        "##", 
        "## WARNING: we are not updating CaTnC!!!", 
        "##", 
        "T 3680.000000 [ms] Conc(0) 0.000337 [mM]"
       ]
      }, 
      {
       "output_type": "stream", 
       "stream": "stdout", 
       "text": [
        "", 
        "T 3680.000000 [ms] Conc(0) 0.337377 [uM]", 
        "T 3680.000000 [ms] Conc(1) 0.031437 [mM]", 
        "T 3680.000000 [ms] Conc(1) 31.436606 [uM]", 
        "WARNING: skipping conc updatee", 
        "###########################################################################", 
        "t0  3680.0 tf  3690.0", 
        "ODE Init [mM] [ 0.000338    0.02724628]", 
        "t0 3680.000000 tf 3690.000000 [ms]", 
        "ODE statesF: [mM] "
       ]
      }, 
      {
       "output_type": "stream", 
       "stream": "stdout", 
       "text": [
        " [ 0.00032444  0.02662849]", 
        "ODE statesF: [uM]  0.324437726609", 
        "ODE states Flux [mM/ms]:  [ -1.35603121e-06  -6.17790523e-05]", 
        "ODE states Flux [uM/ms]:  [-0.00135603 -0.06177905]", 
        "WARNING: jSR and dCa are lumped tother into jVold", 
        "WARNING: I probably need to constrain jvolExpr s.t. the assembled value is equal to the ODE value", 
        "jboundary [mM/ms] 2.0527502972e-06", 
        "jboundary [uM/ms] 0.0020527502972", 
        "jvol [mM/ms]  -3.41663494819e-06", 
        "jvol [uM/ms]  -3.41663494819", 
        "##", 
        "## WARNING: we are not updating CaTnC!!!", 
        "##", 
        "T 3690.000000 [ms] Conc(0) 0.000324 [mM]"
       ]
      }, 
      {
       "output_type": "stream", 
       "stream": "stdout", 
       "text": [
        "", 
        "T 3690.000000 [ms] Conc(0) 0.323738 [uM]", 
        "T 3690.000000 [ms] Conc(1) 0.031437 [mM]", 
        "T 3690.000000 [ms] Conc(1) 31.436606 [uM]", 
        "WARNING: skipping conc updatee", 
        "###########################################################################", 
        "t0  3690.0 tf  3700.0", 
        "ODE Init [mM] [ 0.00032444  0.02662849]", 
        "t0 3690.000000 tf 3700.000000 [ms]", 
        "ODE statesF: [mM] "
       ]
      }, 
      {
       "output_type": "stream", 
       "stream": "stdout", 
       "text": [
        " [ 0.00031214  0.02601431]", 
        "ODE statesF: [uM]  0.312139946223", 
        "ODE states Flux [mM/ms]:  [ -1.22977804e-06  -6.14171855e-05]", 
        "ODE states Flux [uM/ms]:  [-0.00122978 -0.06141719]", 
        "WARNING: jSR and dCa are lumped tother into jVold", 
        "WARNING: I probably need to constrain jvolExpr s.t. the assembled value is equal to the ODE value", 
        "jboundary [mM/ms] -5.34308949973e-07", 
        "jboundary [uM/ms] -0.000534308949973", 
        "jvol [mM/ms]  -7.00877278517e-07", 
        "jvol [uM/ms]  -0.700877278517", 
        "##", 
        "## WARNING: we are not updating CaTnC!!!", 
        "##", 
        "T 3700.000000 [ms] Conc(0) 0.000311 [mM]"
       ]
      }, 
      {
       "output_type": "stream", 
       "stream": "stdout", 
       "text": [
        "", 
        "T 3700.000000 [ms] Conc(0) 0.311386 [uM]", 
        "T 3700.000000 [ms] Conc(1) 0.031437 [mM]", 
        "T 3700.000000 [ms] Conc(1) 31.436606 [uM]", 
        "WARNING: skipping conc updatee", 
        "###########################################################################", 
        "t0  3700.0 tf  3710.0", 
        "ODE Init [mM] [ 0.00031214  0.02601431]", 
        "t0 3700.000000 tf 3710.000000 [ms]", 
        "ODE statesF: [mM] "
       ]
      }, 
      {
       "output_type": "stream", 
       "stream": "stdout", 
       "text": [
        " [ 0.00030914  0.02544346]", 
        "ODE statesF: [uM]  0.309136797474", 
        "ODE states Flux [mM/ms]:  [ -3.00314875e-07  -5.70850210e-05]", 
        "ODE states Flux [uM/ms]:  [-0.00030031 -0.05708502]", 
        "WARNING: jSR and dCa are lumped tother into jVold", 
        "WARNING: I probably need to constrain jvolExpr s.t. the assembled value is equal to the ODE value", 
        "jboundary [mM/ms] 4.84066497948e-06", 
        "jboundary [uM/ms] 0.00484066497948", 
        "jvol [mM/ms]  -5.2554454157e-06", 
        "jvol [uM/ms]  -5.2554454157", 
        "##", 
        "## WARNING: we are not updating CaTnC!!!", 
        "##", 
        "T 3710.000000 [ms] Conc(0) 0.000307 [mM]"
       ]
      }, 
      {
       "output_type": "stream", 
       "stream": "stdout", 
       "text": [
        "", 
        "T 3710.000000 [ms] Conc(0) 0.307238 [uM]", 
        "T 3710.000000 [ms] Conc(1) 0.031437 [mM]", 
        "T 3710.000000 [ms] Conc(1) 31.436606 [uM]", 
        "WARNING: skipping conc updatee", 
        "###########################################################################", 
        "t0  3710.0 tf  3720.0", 
        "ODE Init [mM] [ 0.00030914  0.02544346]", 
        "t0 3710.000000 tf 3720.000000 [ms]", 
        "ODE statesF: [mM] "
       ]
      }, 
      {
       "output_type": "stream", 
       "stream": "stdout", 
       "text": [
        " [ 0.00031665  0.02506914]", 
        "ODE statesF: [uM]  0.316649600393", 
        "ODE states Flux [mM/ms]:  [  7.51280292e-07  -3.74327857e-05]", 
        "ODE states Flux [uM/ms]:  [ 0.00075128 -0.03743279]", 
        "WARNING: jSR and dCa are lumped tother into jVold", 
        "WARNING: I probably need to constrain jvolExpr s.t. the assembled value is equal to the ODE value", 
        "jboundary [mM/ms] 4.18621537221e-05", 
        "jboundary [uM/ms] 0.0418621537221", 
        "jvol [mM/ms]  -4.11421568201e-05", 
        "jvol [uM/ms]  -41.1421568201", 
        "##", 
        "## WARNING: we are not updating CaTnC!!!", 
        "##", 
        "T 3720.000000 [ms] Conc(0) 0.000314 [mM]"
       ]
      }, 
      {
       "output_type": "stream", 
       "stream": "stdout", 
       "text": [
        "", 
        "T 3720.000000 [ms] Conc(0) 0.314438 [uM]", 
        "T 3720.000000 [ms] Conc(1) 0.031437 [mM]", 
        "T 3720.000000 [ms] Conc(1) 31.436606 [uM]", 
        "WARNING: skipping conc updatee", 
        "###########################################################################", 
        "t0  3720.0 tf  3730.0", 
        "ODE Init [mM] [ 0.00031665  0.02506914]", 
        "t0 3720.000000 tf 3730.000000 [ms]", 
        "ODE statesF: [mM] "
       ]
      }, 
      {
       "output_type": "stream", 
       "stream": "stdout", 
       "text": [
        " [ 0.00033621  0.02495344]", 
        "ODE statesF: [uM]  0.33620849648", 
        "ODE states Flux [mM/ms]:  [  1.95588961e-06  -1.15693453e-05]", 
        "ODE states Flux [uM/ms]:  [ 0.00195589 -0.01156935]", 
        "WARNING: jSR and dCa are lumped tother into jVold", 
        "WARNING: I probably need to constrain jvolExpr s.t. the assembled value is equal to the ODE value", 
        "jboundary [mM/ms] 8.75713157864e-05", 
        "jboundary [uM/ms] 0.0875713157864", 
        "jvol [mM/ms]  -8.57123129227e-05", 
        "jvol [uM/ms]  -85.7123129227", 
        "##", 
        "## WARNING: we are not updating CaTnC!!!", 
        "##", 
        "T 3730.000000 [ms] Conc(0) 0.000333 [mM]"
       ]
      }, 
      {
       "output_type": "stream", 
       "stream": "stdout", 
       "text": [
        "", 
        "T 3730.000000 [ms] Conc(0) 0.333028 [uM]", 
        "T 3730.000000 [ms] Conc(1) 0.031437 [mM]", 
        "T 3730.000000 [ms] Conc(1) 31.436606 [uM]", 
        "WARNING: skipping conc updatee", 
        "###########################################################################", 
        "t0  3730.0 tf  3740.0", 
        "ODE Init [mM] [ 0.00033621  0.02495344]", 
        "t0 3730.000000 tf 3740.000000 [ms]", 
        "ODE statesF: [mM] "
       ]
      }, 
      {
       "output_type": "stream", 
       "stream": "stdout", 
       "text": [
        " [ 0.00038848  0.02530362]", 
        "ODE statesF: [uM]  0.388476588369", 
        "ODE states Flux [mM/ms]:  [  5.22680919e-06   3.50179748e-05]", 
        "ODE states Flux [uM/ms]:  [ 0.00522681  0.03501797]", 
        "WARNING: jSR and dCa are lumped tother into jVold", 
        "WARNING: I probably need to constrain jvolExpr s.t. the assembled value is equal to the ODE value", 
        "jboundary [mM/ms] 0.000176102280975", 
        "jboundary [uM/ms] 0.176102280975", 
        "jvol [mM/ms]  -0.000171105823696", 
        "jvol [uM/ms]  -171.105823696", 
        "##", 
        "## WARNING: we are not updating CaTnC!!!", 
        "##", 
        "T 3740.000000 [ms] Conc(0) 0.000383 [mM]"
       ]
      }, 
      {
       "output_type": "stream", 
       "stream": "stdout", 
       "text": [
        "", 
        "T 3740.000000 [ms] Conc(0) 0.382993 [uM]", 
        "T 3740.000000 [ms] Conc(1) 0.031437 [mM]", 
        "T 3740.000000 [ms] Conc(1) 31.436606 [uM]", 
        "WARNING: skipping conc updatee", 
        "###########################################################################", 
        "t0  3740.0 tf  3750.0", 
        "ODE Init [mM] [ 0.00038848  0.02530362]", 
        "t0 3740.000000 tf 3750.000000 [ms]", 
        "ODE statesF: [mM] "
       ]
      }, 
      {
       "output_type": "stream", 
       "stream": "stdout", 
       "text": [
        " [ 0.00048072  0.02649895]", 
        "ODE statesF: [uM]  0.480721725552", 
        "ODE states Flux [mM/ms]:  [  9.22451372e-06   1.19533243e-04]", 
        "ODE states Flux [uM/ms]:  [ 0.00922451  0.11953324]", 
        "WARNING: jSR and dCa are lumped tother into jVold", 
        "WARNING: I probably need to constrain jvolExpr s.t. the assembled value is equal to the ODE value", 
        "jboundary [mM/ms] 0.000337279322878", 
        "jboundary [uM/ms] 0.337279322878", 
        "jvol [mM/ms]  -0.000328136071837", 
        "jvol [uM/ms]  -328.136071837", 
        "##", 
        "## WARNING: we are not updating CaTnC!!!", 
        "##", 
        "T 3750.000000 [ms] Conc(0) 0.000474 [mM]"
       ]
      }, 
      {
       "output_type": "stream", 
       "stream": "stdout", 
       "text": [
        "", 
        "T 3750.000000 [ms] Conc(0) 0.474425 [uM]", 
        "T 3750.000000 [ms] Conc(1) 0.031437 [mM]", 
        "T 3750.000000 [ms] Conc(1) 31.436606 [uM]", 
        "WARNING: skipping conc updatee", 
        "###########################################################################", 
        "t0  3750.0 tf  3760.0", 
        "ODE Init [mM] [ 0.00048072  0.02649895]", 
        "t0 3750.000000 tf 3760.000000 [ms]", 
        "ODE statesF: [mM] "
       ]
      }, 
      {
       "output_type": "stream", 
       "stream": "stdout", 
       "text": [
        " [ 0.00055323  0.02837279]", 
        "ODE statesF: [uM]  0.553230591783", 
        "ODE states Flux [mM/ms]:  [  7.25088662e-06   1.87383169e-04]", 
        "ODE states Flux [uM/ms]:  [ 0.00725089  0.18738317]", 
        "WARNING: jSR and dCa are lumped tother into jVold", 
        "WARNING: I probably need to constrain jvolExpr s.t. the assembled value is equal to the ODE value", 
        "jboundary [mM/ms] 0.000445102238351", 
        "jboundary [uM/ms] 0.445102238351", 
        "jvol [mM/ms]  -0.000437645391719", 
        "jvol [uM/ms]  -437.645391719", 
        "##", 
        "## WARNING: we are not updating CaTnC!!!", 
        "##", 
        "T 3760.000000 [ms] Conc(0) 0.000549 [mM]"
       ]
      }, 
      {
       "output_type": "stream", 
       "stream": "stdout", 
       "text": [
        "", 
        "T 3760.000000 [ms] Conc(0) 0.548994 [uM]", 
        "T 3760.000000 [ms] Conc(1) 0.031437 [mM]", 
        "T 3760.000000 [ms] Conc(1) 31.436606 [uM]", 
        "WARNING: skipping conc updatee", 
        "###########################################################################", 
        "t0  3760.0 tf  3770.0", 
        "ODE Init [mM] [ 0.00055323  0.02837279]", 
        "t0 3760.000000 tf 3770.000000 [ms]", 
        "ODE statesF: [mM] "
       ]
      }, 
      {
       "output_type": "stream", 
       "stream": "stdout", 
       "text": [
        " [ 0.00058754  0.03024159]", 
        "ODE statesF: [uM]  0.587540542671", 
        "ODE states Flux [mM/ms]:  [  3.43099509e-06   1.86880616e-04]", 
        "ODE states Flux [uM/ms]:  [ 0.003431    0.18688062]", 
        "WARNING: jSR and dCa are lumped tother into jVold", 
        "WARNING: I probably need to constrain jvolExpr s.t. the assembled value is equal to the ODE value", 
        "jboundary [mM/ms] 0.000418676639421", 
        "jboundary [uM/ms] 0.418676639421", 
        "jvol [mM/ms]  -0.000415093011688", 
        "jvol [uM/ms]  -415.093011688", 
        "##", 
        "## WARNING: we are not updating CaTnC!!!", 
        "##", 
        "T 3770.000000 [ms] Conc(0) 0.000585 [mM]"
       ]
      }, 
      {
       "output_type": "stream", 
       "stream": "stdout", 
       "text": [
        "", 
        "T 3770.000000 [ms] Conc(0) 0.584830 [uM]", 
        "T 3770.000000 [ms] Conc(1) 0.031437 [mM]", 
        "T 3770.000000 [ms] Conc(1) 31.436606 [uM]", 
        "WARNING: skipping conc updatee", 
        "###########################################################################", 
        "t0  3770.0 tf  3780.0", 
        "ODE Init [mM] [ 0.00058754  0.03024159]", 
        "t0 3770.000000 tf 3780.000000 [ms]", 
        "ODE statesF: [mM] "
       ]
      }, 
      {
       "output_type": "stream", 
       "stream": "stdout", 
       "text": [
        " [ 0.00059984  0.0317418 ]", 
        "ODE statesF: [uM]  0.599841595558", 
        "ODE states Flux [mM/ms]:  [  1.23010529e-06   1.50020961e-04]", 
        "ODE states Flux [uM/ms]:  [ 0.00123011  0.15002096]", 
        "WARNING: jSR and dCa are lumped tother into jVold", 
        "WARNING: I probably need to constrain jvolExpr s.t. the assembled value is equal to the ODE value", 
        "jboundary [mM/ms] 0.000345695874089", 
        "jboundary [uM/ms] 0.345695874089", 
        "jvol [mM/ms]  -0.000344388199423", 
        "jvol [uM/ms]  -344.388199423", 
        "##", 
        "## WARNING: we are not updating CaTnC!!!", 
        "##", 
        "T 3780.000000 [ms] Conc(0) 0.000598 [mM]"
       ]
      }, 
      {
       "output_type": "stream", 
       "stream": "stdout", 
       "text": [
        "", 
        "T 3780.000000 [ms] Conc(0) 0.597907 [uM]", 
        "T 3780.000000 [ms] Conc(1) 0.031437 [mM]", 
        "T 3780.000000 [ms] Conc(1) 31.436606 [uM]", 
        "WARNING: skipping conc updatee", 
        "###########################################################################", 
        "t0  3780.0 tf  3790.0", 
        "ODE Init [mM] [ 0.00059984  0.0317418 ]", 
        "t0 3780.000000 tf 3790.000000 [ms]", 
        "ODE statesF: [mM] "
       ]
      }, 
      {
       "output_type": "stream", 
       "stream": "stdout", 
       "text": [
        " [ 0.0006008   0.03281514]", 
        "ODE statesF: [uM]  0.600796300245", 
        "ODE states Flux [mM/ms]:  [  9.54704686e-08   1.07333969e-04]", 
        "ODE states Flux [uM/ms]:  [  9.54704686e-05   1.07333969e-01]", 
        "WARNING: jSR and dCa are lumped tother into jVold", 
        "WARNING: I probably need to constrain jvolExpr s.t. the assembled value is equal to the ODE value", 
        "jboundary [mM/ms] 0.000277534493885", 
        "jboundary [uM/ms] 0.277534493885", 
        "jvol [mM/ms]  -0.000277397193181", 
        "jvol [uM/ms]  -277.397193181", 
        "##", 
        "## WARNING: we are not updating CaTnC!!!", 
        "##", 
        "T 3790.000000 [ms] Conc(0) 0.000599 [mM]"
       ]
      }, 
      {
       "output_type": "stream", 
       "stream": "stdout", 
       "text": [
        "", 
        "T 3790.000000 [ms] Conc(0) 0.599280 [uM]", 
        "T 3790.000000 [ms] Conc(1) 0.031437 [mM]", 
        "T 3790.000000 [ms] Conc(1) 31.436606 [uM]", 
        "WARNING: skipping conc updatee", 
        "###########################################################################", 
        "t0  3790.0 tf  3800.0", 
        "ODE Init [mM] [ 0.0006008   0.03281514]", 
        "t0 3790.000000 tf 3800.000000 [ms]", 
        "ODE statesF: [mM] "
       ]
      }, 
      {
       "output_type": "stream", 
       "stream": "stdout", 
       "text": [
        " [ 0.00059529  0.03351272]", 
        "ODE statesF: [uM]  0.595292237071", 
        "ODE states Flux [mM/ms]:  [ -5.50406317e-07   6.97575543e-05]", 
        "ODE states Flux [uM/ms]:  [-0.00055041  0.06975755]", 
        "WARNING: jSR and dCa are lumped tother into jVold", 
        "WARNING: I probably need to constrain jvolExpr s.t. the assembled value is equal to the ODE value", 
        "jboundary [mM/ms] 0.000223586349068", 
        "jboundary [uM/ms] 0.223586349068", 
        "jvol [mM/ms]  -0.000224111535963", 
        "jvol [uM/ms]  -224.111535963", 
        "##", 
        "## WARNING: we are not updating CaTnC!!!", 
        "##", 
        "T 3800.000000 [ms] Conc(0) 0.000594 [mM]"
       ]
      }, 
      {
       "output_type": "stream", 
       "stream": "stdout", 
       "text": [
        "", 
        "T 3800.000000 [ms] Conc(0) 0.594028 [uM]", 
        "T 3800.000000 [ms] Conc(1) 0.031437 [mM]", 
        "T 3800.000000 [ms] Conc(1) 31.436606 [uM]", 
        "WARNING: skipping conc updatee", 
        "###########################################################################", 
        "t0  3800.0 tf  3810.0", 
        "ODE Init [mM] [ 0.00059529  0.03351272]", 
        "t0 3800.000000 tf 3810.000000 [ms]", 
        "ODE statesF: [mM] "
       ]
      }, 
      {
       "output_type": "stream", 
       "stream": "stdout", 
       "text": [
        " [ 0.00058575  0.03390771]", 
        "ODE statesF: [uM]  0.585748298328", 
        "ODE states Flux [mM/ms]:  [ -9.54393874e-07   3.94994004e-05]", 
        "ODE states Flux [uM/ms]:  [-0.00095439  0.0394994 ]", 
        "WARNING: jSR and dCa are lumped tother into jVold", 
        "WARNING: I probably need to constrain jvolExpr s.t. the assembled value is equal to the ODE value", 
        "jboundary [mM/ms] 0.000182329491325", 
        "jboundary [uM/ms] 0.182329491325", 
        "jvol [mM/ms]  -0.000183267631758", 
        "jvol [uM/ms]  -183.267631758", 
        "##", 
        "## WARNING: we are not updating CaTnC!!!", 
        "##", 
        "T 3810.000000 [ms] Conc(0) 0.000585 [mM]"
       ]
      }, 
      {
       "output_type": "stream", 
       "stream": "stdout", 
       "text": [
        "", 
        "T 3810.000000 [ms] Conc(0) 0.584647 [uM]", 
        "T 3810.000000 [ms] Conc(1) 0.031437 [mM]", 
        "T 3810.000000 [ms] Conc(1) 31.436606 [uM]", 
        "WARNING: skipping conc updatee", 
        "###########################################################################", 
        "t0  3810.0 tf  3820.0", 
        "ODE Init [mM] [ 0.00058575  0.03390771]", 
        "t0 3810.000000 tf 3820.000000 [ms]", 
        "ODE statesF: [mM] "
       ]
      }, 
      {
       "output_type": "stream", 
       "stream": "stdout", 
       "text": [
        " [ 0.00057358  0.03406775]", 
        "ODE statesF: [uM]  0.573576892496", 
        "ODE states Flux [mM/ms]:  [ -1.21714058e-06   1.60044049e-05]", 
        "ODE states Flux [uM/ms]:  [-0.00121714  0.0160044 ]", 
        "WARNING: jSR and dCa are lumped tother into jVold", 
        "WARNING: I probably need to constrain jvolExpr s.t. the assembled value is equal to the ODE value", 
        "jboundary [mM/ms] 0.000150887375761", 
        "jboundary [uM/ms] 0.150887375761", 
        "jvol [mM/ms]  -0.000152093939541", 
        "jvol [uM/ms]  -152.093939541", 
        "##", 
        "## WARNING: we are not updating CaTnC!!!", 
        "##", 
        "T 3820.000000 [ms] Conc(0) 0.000573 [mM]"
       ]
      }, 
      {
       "output_type": "stream", 
       "stream": "stdout", 
       "text": [
        "", 
        "T 3820.000000 [ms] Conc(0) 0.572581 [uM]", 
        "T 3820.000000 [ms] Conc(1) 0.031437 [mM]", 
        "T 3820.000000 [ms] Conc(1) 31.436606 [uM]", 
        "WARNING: skipping conc updatee", 
        "###########################################################################", 
        "t0  3820.0 tf  3830.0", 
        "ODE Init [mM] [ 0.00057358  0.03406775]", 
        "t0 3820.000000 tf 3830.000000 [ms]", 
        "ODE statesF: [mM] "
       ]
      }, 
      {
       "output_type": "stream", 
       "stream": "stdout", 
       "text": [
        " [ 0.00055972  0.03404852]", 
        "ODE statesF: [uM]  0.559722395264", 
        "ODE states Flux [mM/ms]:  [ -1.38544972e-06  -1.92317770e-06]", 
        "ODE states Flux [uM/ms]:  [-0.00138545 -0.00192318]", 
        "WARNING: jSR and dCa are lumped tother into jVold", 
        "WARNING: I probably need to constrain jvolExpr s.t. the assembled value is equal to the ODE value", 
        "jboundary [mM/ms] 0.000126832512521", 
        "jboundary [uM/ms] 0.126832512521", 
        "jvol [mM/ms]  -0.000128211361154", 
        "jvol [uM/ms]  -128.211361154", 
        "##", 
        "## WARNING: we are not updating CaTnC!!!", 
        "##", 
        "T 3830.000000 [ms] Conc(0) 0.000559 [mM]"
       ]
      }, 
      {
       "output_type": "stream", 
       "stream": "stdout", 
       "text": [
        "", 
        "T 3830.000000 [ms] Conc(0) 0.558792 [uM]", 
        "T 3830.000000 [ms] Conc(1) 0.031437 [mM]", 
        "T 3830.000000 [ms] Conc(1) 31.436606 [uM]", 
        "WARNING: skipping conc updatee", 
        "###########################################################################", 
        "t0  3830.0 tf  3840.0", 
        "ODE Init [mM] [ 0.00055972  0.03404852]", 
        "t0 3830.000000 tf 3840.000000 [ms]", 
        "ODE statesF: [mM] "
       ]
      }, 
      {
       "output_type": "stream", 
       "stream": "stdout", 
       "text": [
        " [ 0.00054486  0.03389393]", 
        "ODE statesF: [uM]  0.544861228673", 
        "ODE states Flux [mM/ms]:  [ -1.48611666e-06  -1.54591857e-05]", 
        "ODE states Flux [uM/ms]:  [-0.00148612 -0.01545919]", 
        "WARNING: jSR and dCa are lumped tother into jVold", 
        "WARNING: I probably need to constrain jvolExpr s.t. the assembled value is equal to the ODE value", 
        "jboundary [mM/ms] 0.00010832393207", 
        "jboundary [uM/ms] 0.10832393207", 
        "jvol [mM/ms]  -0.000109806338118", 
        "jvol [uM/ms]  -109.806338118", 
        "##", 
        "## WARNING: we are not updating CaTnC!!!", 
        "##", 
        "T 3840.000000 [ms] Conc(0) 0.000544 [mM]"
       ]
      }, 
      {
       "output_type": "stream", 
       "stream": "stdout", 
       "text": [
        "", 
        "T 3840.000000 [ms] Conc(0) 0.543968 [uM]", 
        "T 3840.000000 [ms] Conc(1) 0.031437 [mM]", 
        "T 3840.000000 [ms] Conc(1) 31.436606 [uM]", 
        "WARNING: skipping conc updatee", 
        "###########################################################################", 
        "t0  3840.0 tf  3850.0", 
        "ODE Init [mM] [ 0.00054486  0.03389393]", 
        "t0 3840.000000 tf 3850.000000 [ms]", 
        "ODE statesF: [mM] "
       ]
      }, 
      {
       "output_type": "stream", 
       "stream": "stdout", 
       "text": [
        " [ 0.00052949  0.03363803]", 
        "ODE statesF: [uM]  0.52948609753", 
        "ODE states Flux [mM/ms]:  [ -1.53751311e-06  -2.55905569e-05]", 
        "ODE states Flux [uM/ms]:  [-0.00153751 -0.02559056]", 
        "WARNING: jSR and dCa are lumped tother into jVold", 
        "WARNING: I probably need to constrain jvolExpr s.t. the assembled value is equal to the ODE value", 
        "jboundary [mM/ms] 9.39835103591e-05", 
        "jboundary [uM/ms] 0.0939835103591", 
        "jvol [mM/ms]  -9.55194106415e-05", 
        "jvol [uM/ms]  -95.5194106415", 
        "##", 
        "## WARNING: we are not updating CaTnC!!!", 
        "##", 
        "T 3850.000000 [ms] Conc(0) 0.000529 [mM]"
       ]
      }, 
      {
       "output_type": "stream", 
       "stream": "stdout", 
       "text": [
        "", 
        "T 3850.000000 [ms] Conc(0) 0.528609 [uM]", 
        "T 3850.000000 [ms] Conc(1) 0.031437 [mM]", 
        "T 3850.000000 [ms] Conc(1) 31.436606 [uM]", 
        "WARNING: skipping conc updatee", 
        "###########################################################################", 
        "t0  3850.0 tf  3860.0", 
        "ODE Init [mM] [ 0.00052949  0.03363803]", 
        "t0 3850.000000 tf 3860.000000 [ms]", 
        "ODE statesF: [mM] "
       ]
      }, 
      {
       "output_type": "stream", 
       "stream": "stdout", 
       "text": [
        " [ 0.00051395  0.033307  ]", 
        "ODE statesF: [uM]  0.513950889592", 
        "ODE states Flux [mM/ms]:  [ -1.55352079e-06  -3.31030227e-05]", 
        "ODE states Flux [uM/ms]:  [-0.00155352 -0.03310302]", 
        "WARNING: jSR and dCa are lumped tother into jVold", 
        "WARNING: I probably need to constrain jvolExpr s.t. the assembled value is equal to the ODE value", 
        "jboundary [mM/ms] 8.27728687763e-05", 
        "jboundary [uM/ms] 0.0827728687763", 
        "jvol [mM/ms]  -8.43262623455e-05", 
        "jvol [uM/ms]  -84.3262623455", 
        "##", 
        "## WARNING: we are not updating CaTnC!!!", 
        "##", 
        "T 3860.000000 [ms] Conc(0) 0.000513 [mM]"
       ]
      }, 
      {
       "output_type": "stream", 
       "stream": "stdout", 
       "text": [
        "", 
        "T 3860.000000 [ms] Conc(0) 0.513075 [uM]", 
        "T 3860.000000 [ms] Conc(1) 0.031437 [mM]", 
        "T 3860.000000 [ms] Conc(1) 31.436606 [uM]", 
        "WARNING: skipping conc updatee", 
        "###########################################################################", 
        "t0  3860.0 tf  3870.0", 
        "ODE Init [mM] [ 0.00051395  0.033307  ]", 
        "t0 3860.000000 tf 3870.000000 [ms]", 
        "ODE statesF: [mM] "
       ]
      }, 
      {
       "output_type": "stream", 
       "stream": "stdout", 
       "text": [
        " [ 0.0004985   0.03292088]", 
        "ODE statesF: [uM]  0.498500731101", 
        "ODE states Flux [mM/ms]:  [ -1.54501585e-06  -3.86115211e-05]", 
        "ODE states Flux [uM/ms]:  [-0.00154502 -0.03861152]", 
        "WARNING: jSR and dCa are lumped tother into jVold", 
        "WARNING: I probably need to constrain jvolExpr s.t. the assembled value is equal to the ODE value", 
        "jboundary [mM/ms] 7.39017237806e-05", 
        "jboundary [uM/ms] 0.0739017237806", 
        "jvol [mM/ms]  -7.54476129101e-05", 
        "jvol [uM/ms]  -75.4476129101", 
        "##", 
        "## WARNING: we are not updating CaTnC!!!", 
        "##", 
        "T 3870.000000 [ms] Conc(0) 0.000498 [mM]"
       ]
      }, 
      {
       "output_type": "stream", 
       "stream": "stdout", 
       "text": [
        "", 
        "T 3870.000000 [ms] Conc(0) 0.497617 [uM]", 
        "T 3870.000000 [ms] Conc(1) 0.031437 [mM]", 
        "T 3870.000000 [ms] Conc(1) 31.436606 [uM]", 
        "WARNING: skipping conc updatee", 
        "###########################################################################", 
        "t0  3870.0 tf  3880.0", 
        "ODE Init [mM] [ 0.0004985   0.03292088]", 
        "t0 3870.000000 tf 3880.000000 [ms]", 
        "ODE statesF: [mM] "
       ]
      }, 
      {
       "output_type": "stream", 
       "stream": "stdout", 
       "text": [
        " [ 0.00048329  0.03249491]", 
        "ODE statesF: [uM]  0.483294336278", 
        "ODE states Flux [mM/ms]:  [ -1.52063948e-06  -4.25965962e-05]", 
        "ODE states Flux [uM/ms]:  [-0.00152064 -0.0425966 ]", 
        "WARNING: jSR and dCa are lumped tother into jVold", 
        "WARNING: I probably need to constrain jvolExpr s.t. the assembled value is equal to the ODE value", 
        "jboundary [mM/ms] 6.67607988673e-05", 
        "jboundary [uM/ms] 0.0667607988673", 
        "jvol [mM/ms]  -6.82829243776e-05", 
        "jvol [uM/ms]  -68.2829243776", 
        "##", 
        "## WARNING: we are not updating CaTnC!!!", 
        "##", 
        "T 3880.000000 [ms] Conc(0) 0.000482 [mM]"
       ]
      }, 
      {
       "output_type": "stream", 
       "stream": "stdout", 
       "text": [
        "", 
        "T 3880.000000 [ms] Conc(0) 0.482395 [uM]", 
        "T 3880.000000 [ms] Conc(1) 0.031437 [mM]", 
        "T 3880.000000 [ms] Conc(1) 31.436606 [uM]", 
        "WARNING: skipping conc updatee", 
        "###########################################################################", 
        "t0  3880.0 tf  3890.0", 
        "ODE Init [mM] [ 0.00048329  0.03249491]", 
        "t0 3880.000000 tf 3890.000000 [ms]", 
        "ODE statesF: [mM] "
       ]
      }, 
      {
       "output_type": "stream", 
       "stream": "stdout", 
       "text": [
        " [ 0.00046842  0.03204054]", 
        "ODE statesF: [uM]  0.468420220802", 
        "ODE states Flux [mM/ms]:  [ -1.48741155e-06  -4.54377214e-05]", 
        "ODE states Flux [uM/ms]:  [-0.00148741 -0.04543772]", 
        "WARNING: jSR and dCa are lumped tother into jVold", 
        "WARNING: I probably need to constrain jvolExpr s.t. the assembled value is equal to the ODE value", 
        "jboundary [mM/ms] 6.08705372182e-05", 
        "jboundary [uM/ms] 0.0608705372182", 
        "jvol [mM/ms]  -6.23597263268e-05", 
        "jvol [uM/ms]  -62.3597263268", 
        "##", 
        "## WARNING: we are not updating CaTnC!!!", 
        "##", 
        "T 3890.000000 [ms] Conc(0) 0.000468 [mM]"
       ]
      }, 
      {
       "output_type": "stream", 
       "stream": "stdout", 
       "text": [
        "", 
        "T 3890.000000 [ms] Conc(0) 0.467503 [uM]", 
        "T 3890.000000 [ms] Conc(1) 0.031437 [mM]", 
        "T 3890.000000 [ms] Conc(1) 31.436606 [uM]", 
        "WARNING: skipping conc updatee", 
        "###########################################################################", 
        "t0  3890.0 tf  3900.0", 
        "ODE Init [mM] [ 0.00046842  0.03204054]", 
        "t0 3890.000000 tf 3900.000000 [ms]", 
        "ODE statesF: [mM] "
       ]
      }, 
      {
       "output_type": "stream", 
       "stream": "stdout", 
       "text": [
        " [ 0.00045391  0.03156612]", 
        "ODE statesF: [uM]  0.453906756029", 
        "ODE states Flux [mM/ms]:  [ -1.45134648e-06  -4.74418414e-05]", 
        "ODE states Flux [uM/ms]:  [-0.00145135 -0.04744184]", 
        "WARNING: jSR and dCa are lumped tother into jVold", 
        "WARNING: I probably need to constrain jvolExpr s.t. the assembled value is equal to the ODE value", 
        "jboundary [mM/ms] 5.58390059793e-05", 
        "jboundary [uM/ms] 0.0558390059793", 
        "jvol [mM/ms]  -5.72921344836e-05", 
        "jvol [uM/ms]  -57.2921344836", 
        "##", 
        "## WARNING: we are not updating CaTnC!!!", 
        "##", 
        "T 3900.000000 [ms] Conc(0) 0.000453 [mM]"
       ]
      }, 
      {
       "output_type": "stream", 
       "stream": "stdout", 
       "text": [
        "", 
        "T 3900.000000 [ms] Conc(0) 0.452972 [uM]", 
        "T 3900.000000 [ms] Conc(1) 0.031437 [mM]", 
        "T 3900.000000 [ms] Conc(1) 31.436606 [uM]", 
        "WARNING: skipping conc updatee", 
        "###########################################################################", 
        "t0  3900.0 tf  3910.0", 
        "ODE Init [mM] [ 0.00045391  0.03156612]", 
        "t0 3900.000000 tf 3910.000000 [ms]", 
        "ODE statesF: [mM] "
       ]
      }, 
      {
       "output_type": "stream", 
       "stream": "stdout", 
       "text": [
        " [ 0.00043973  0.03107743]", 
        "ODE statesF: [uM]  0.439725106656", 
        "ODE states Flux [mM/ms]:  [ -1.41816494e-06  -4.88687914e-05]", 
        "ODE states Flux [uM/ms]:  [-0.00141816 -0.04886879]", 
        "WARNING: jSR and dCa are lumped tother into jVold", 
        "WARNING: I probably need to constrain jvolExpr s.t. the assembled value is equal to the ODE value", 
        "jboundary [mM/ms] 5.13233257692e-05", 
        "jboundary [uM/ms] 0.0513233257692", 
        "jvol [mM/ms]  -5.27429849006e-05", 
        "jvol [uM/ms]  -52.7429849006", 
        "##", 
        "## WARNING: we are not updating CaTnC!!!", 
        "##", 
        "T 3910.000000 [ms] Conc(0) 0.000439 [mM]"
       ]
      }, 
      {
       "output_type": "stream", 
       "stream": "stdout", 
       "text": [
        "", 
        "T 3910.000000 [ms] Conc(0) 0.438776 [uM]", 
        "T 3910.000000 [ms] Conc(1) 0.031437 [mM]", 
        "T 3910.000000 [ms] Conc(1) 31.436606 [uM]", 
        "WARNING: skipping conc updatee", 
        "###########################################################################", 
        "t0  3910.0 tf  3920.0", 
        "ODE Init [mM] [ 0.00043973  0.03107743]", 
        "t0 3910.000000 tf 3920.000000 [ms]", 
        "ODE statesF: [mM] "
       ]
      }, 
      {
       "output_type": "stream", 
       "stream": "stdout", 
       "text": [
        " [ 0.00042578  0.03057786]", 
        "ODE statesF: [uM]  0.425783133046", 
        "ODE states Flux [mM/ms]:  [ -1.39419736e-06  -4.99566846e-05]", 
        "ODE states Flux [uM/ms]:  [-0.0013942  -0.04995668]", 
        "WARNING: jSR and dCa are lumped tother into jVold", 
        "WARNING: I probably need to constrain jvolExpr s.t. the assembled value is equal to the ODE value", 
        "jboundary [mM/ms] 4.69884839866e-05", 
        "jboundary [uM/ms] 0.0469884839866", 
        "jvol [mM/ms]  -4.83835398578e-05", 
        "jvol [uM/ms]  -48.3835398578", 
        "##", 
        "## WARNING: we are not updating CaTnC!!!", 
        "##", 
        "T 3920.000000 [ms] Conc(0) 0.000425 [mM]"
       ]
      }, 
      {
       "output_type": "stream", 
       "stream": "stdout", 
       "text": [
        "", 
        "T 3920.000000 [ms] Conc(0) 0.424825 [uM]", 
        "T 3920.000000 [ms] Conc(1) 0.031437 [mM]", 
        "T 3920.000000 [ms] Conc(1) 31.436606 [uM]", 
        "WARNING: skipping conc updatee", 
        "###########################################################################", 
        "t0  3920.0 tf  3930.0", 
        "ODE Init [mM] [ 0.00042578  0.03057786]", 
        "t0 3920.000000 tf 3930.000000 [ms]", 
        "ODE statesF: [mM] "
       ]
      }, 
      {
       "output_type": "stream", 
       "stream": "stdout", 
       "text": [
        " [ 0.00041191  0.03006836]", 
        "ODE statesF: [uM]  0.411909813143", 
        "ODE states Flux [mM/ms]:  [ -1.38733199e-06  -5.09501748e-05]", 
        "ODE states Flux [uM/ms]:  [-0.00138733 -0.05095017]", 
        "WARNING: jSR and dCa are lumped tother into jVold", 
        "WARNING: I probably need to constrain jvolExpr s.t. the assembled value is equal to the ODE value", 
        "jboundary [mM/ms] 4.24583310566e-05", 
        "jboundary [uM/ms] 0.0424583310566", 
        "jvol [mM/ms]  -4.38454497963e-05", 
        "jvol [uM/ms]  -43.8454497963", 
        "##", 
        "## WARNING: we are not updating CaTnC!!!", 
        "##", 
        "T 3930.000000 [ms] Conc(0) 0.000411 [mM]"
       ]
      }, 
      {
       "output_type": "stream", 
       "stream": "stdout", 
       "text": [
        "", 
        "T 3930.000000 [ms] Conc(0) 0.410954 [uM]", 
        "T 3930.000000 [ms] Conc(1) 0.031437 [mM]", 
        "T 3930.000000 [ms] Conc(1) 31.436606 [uM]", 
        "WARNING: skipping conc updatee", 
        "###########################################################################", 
        "t0  3930.0 tf  3940.0", 
        "ODE Init [mM] [ 0.00041191  0.03006836]", 
        "t0 3930.000000 tf 3940.000000 [ms]", 
        "ODE statesF: [mM] "
       ]
      }, 
      {
       "output_type": "stream", 
       "stream": "stdout", 
       "text": [
        " [ 0.00039785  0.02954712]", 
        "ODE statesF: [uM]  0.397851575934", 
        "ODE states Flux [mM/ms]:  [ -1.40582372e-06  -5.21238904e-05]", 
        "ODE states Flux [uM/ms]:  [-0.00140582 -0.05212389]", 
        "WARNING: jSR and dCa are lumped tother into jVold", 
        "WARNING: I probably need to constrain jvolExpr s.t. the assembled value is equal to the ODE value", 
        "jboundary [mM/ms] 3.72769939047e-05", 
        "jboundary [uM/ms] 0.0372769939047", 
        "jvol [mM/ms]  -3.86812281907e-05", 
        "jvol [uM/ms]  -38.6812281907", 
        "##", 
        "## WARNING: we are not updating CaTnC!!!", 
        "##", 
        "T 3940.000000 [ms] Conc(0) 0.000397 [mM]"
       ]
      }, 
      {
       "output_type": "stream", 
       "stream": "stdout", 
       "text": [
        "", 
        "T 3940.000000 [ms] Conc(0) 0.396911 [uM]", 
        "T 3940.000000 [ms] Conc(1) 0.031437 [mM]", 
        "T 3940.000000 [ms] Conc(1) 31.436606 [uM]", 
        "WARNING: skipping conc updatee", 
        "###########################################################################", 
        "t0  3940.0 tf  3950.0", 
        "ODE Init [mM] [ 0.00039785  0.02954712]", 
        "t0 3940.000000 tf 3950.000000 [ms]", 
        "ODE statesF: [mM] "
       ]
      }, 
      {
       "output_type": "stream", 
       "stream": "stdout", 
       "text": [
        " [ 0.00038339  0.02900981]", 
        "ODE statesF: [uM]  0.383394070108", 
        "ODE states Flux [mM/ms]:  [ -1.44575058e-06  -5.37316042e-05]", 
        "ODE states Flux [uM/ms]:  [-0.00144575 -0.0537316 ]", 
        "WARNING: jSR and dCa are lumped tother into jVold", 
        "WARNING: I probably need to constrain jvolExpr s.t. the assembled value is equal to the ODE value", 
        "jboundary [mM/ms] 3.10305310264e-05", 
        "jboundary [uM/ms] 0.0310305310264", 
        "jvol [mM/ms]  -3.24742164592e-05", 
        "jvol [uM/ms]  -32.4742164592", 
        "##", 
        "## WARNING: we are not updating CaTnC!!!", 
        "##", 
        "T 3950.000000 [ms] Conc(0) 0.000382 [mM]"
       ]
      }, 
      {
       "output_type": "stream", 
       "stream": "stdout", 
       "text": [
        "", 
        "T 3950.000000 [ms] Conc(0) 0.382475 [uM]", 
        "T 3950.000000 [ms] Conc(1) 0.031437 [mM]", 
        "T 3950.000000 [ms] Conc(1) 31.436606 [uM]", 
        "WARNING: skipping conc updatee", 
        "###########################################################################", 
        "t0  3950.0 tf  3960.0", 
        "ODE Init [mM] [ 0.00038339  0.02900981]", 
        "t0 3950.000000 tf 3960.000000 [ms]", 
        "ODE statesF: [mM] "
       ]
      }, 
      {
       "output_type": "stream", 
       "stream": "stdout", 
       "text": [
        " [ 0.00036863  0.02845224]", 
        "ODE statesF: [uM]  0.368629104897", 
        "ODE states Flux [mM/ms]:  [ -1.47649652e-06  -5.57569356e-05]", 
        "ODE states Flux [uM/ms]:  [-0.0014765  -0.05575694]", 
        "WARNING: jSR and dCa are lumped tother into jVold", 
        "WARNING: I probably need to constrain jvolExpr s.t. the assembled value is equal to the ODE value", 
        "jboundary [mM/ms] 2.38742623608e-05", 
        "jboundary [uM/ms] 0.0238742623608", 
        "jvol [mM/ms]  -2.53495181479e-05", 
        "jvol [uM/ms]  -25.3495181479", 
        "##", 
        "## WARNING: we are not updating CaTnC!!!", 
        "##", 
        "T 3960.000000 [ms] Conc(0) 0.000368 [mM]"
       ]
      }, 
      {
       "output_type": "stream", 
       "stream": "stdout", 
       "text": [
        "", 
        "T 3960.000000 [ms] Conc(0) 0.367722 [uM]", 
        "T 3960.000000 [ms] Conc(1) 0.031437 [mM]", 
        "T 3960.000000 [ms] Conc(1) 31.436606 [uM]", 
        "WARNING: skipping conc updatee", 
        "###########################################################################", 
        "t0  3960.0 tf  3970.0", 
        "ODE Init [mM] [ 0.00036863  0.02845224]", 
        "t0 3960.000000 tf 3970.000000 [ms]", 
        "ODE statesF: [mM] "
       ]
      }, 
      {
       "output_type": "stream", 
       "stream": "stdout", 
       "text": [
        " [ 0.00035333  0.02787114]", 
        "ODE statesF: [uM]  0.353332748751", 
        "ODE states Flux [mM/ms]:  [ -1.52963561e-06  -5.81092820e-05]", 
        "ODE states Flux [uM/ms]:  [-0.00152964 -0.05810928]", 
        "WARNING: jSR and dCa are lumped tother into jVold", 
        "WARNING: I probably need to constrain jvolExpr s.t. the assembled value is equal to the ODE value", 
        "jboundary [mM/ms] 1.59966959417e-05", 
        "jboundary [uM/ms] 0.0159966959417", 
        "jvol [mM/ms]  -1.75225867615e-05", 
        "jvol [uM/ms]  -17.5225867615", 
        "##", 
        "## WARNING: we are not updating CaTnC!!!", 
        "##", 
        "T 3970.000000 [ms] Conc(0) 0.000352 [mM]"
       ]
      }, 
      {
       "output_type": "stream", 
       "stream": "stdout", 
       "text": [
        "", 
        "T 3970.000000 [ms] Conc(0) 0.352463 [uM]", 
        "T 3970.000000 [ms] Conc(1) 0.031437 [mM]", 
        "T 3970.000000 [ms] Conc(1) 31.436606 [uM]", 
        "WARNING: skipping conc updatee", 
        "###########################################################################", 
        "t0  3970.0 tf  3980.0", 
        "ODE Init [mM] [ 0.00035333  0.02787114]", 
        "t0 3970.000000 tf 3980.000000 [ms]", 
        "ODE statesF: [mM] "
       ]
      }, 
      {
       "output_type": "stream", 
       "stream": "stdout", 
       "text": [
        " [ 0.00033807  0.02726243]", 
        "ODE statesF: [uM]  0.338074054139", 
        "ODE states Flux [mM/ms]:  [ -1.52586946e-06  -6.08714754e-05]", 
        "ODE states Flux [uM/ms]:  [-0.00152587 -0.06087148]", 
        "WARNING: jSR and dCa are lumped tother into jVold", 
        "WARNING: I probably need to constrain jvolExpr s.t. the assembled value is equal to the ODE value", 
        "jboundary [mM/ms] 7.21573245924e-06", 
        "jboundary [uM/ms] 0.00721573245924", 
        "jvol [mM/ms]  -8.74777325314e-06", 
        "jvol [uM/ms]  -8.74777325314", 
        "##", 
        "## WARNING: we are not updating CaTnC!!!", 
        "##", 
        "T 3980.000000 [ms] Conc(0) 0.000337 [mM]"
       ]
      }, 
      {
       "output_type": "stream", 
       "stream": "stdout", 
       "text": [
        "", 
        "T 3980.000000 [ms] Conc(0) 0.337143 [uM]", 
        "T 3980.000000 [ms] Conc(1) 0.031437 [mM]", 
        "T 3980.000000 [ms] Conc(1) 31.436606 [uM]", 
        "WARNING: skipping conc updatee", 
        "###########################################################################", 
        "t0  3980.0 tf  3990.0", 
        "ODE Init [mM] [ 0.00033807  0.02726243]", 
        "t0 3980.000000 tf 3990.000000 [ms]", 
        "ODE statesF: [mM] "
       ]
      }, 
      {
       "output_type": "stream", 
       "stream": "stdout", 
       "text": [
        " [ 0.00032452  0.02664142]", 
        "ODE statesF: [uM]  0.324520829746", 
        "ODE states Flux [mM/ms]:  [ -1.35532244e-06  -6.21014921e-05]", 
        "ODE states Flux [uM/ms]:  [-0.00135532 -0.06210149]", 
        "WARNING: jSR and dCa are lumped tother into jVold", 
        "WARNING: I probably need to constrain jvolExpr s.t. the assembled value is equal to the ODE value", 
        "jboundary [mM/ms] 1.79409248905e-06", 
        "jboundary [uM/ms] 0.00179409248905", 
        "jvol [mM/ms]  -3.1570426389e-06", 
        "jvol [uM/ms]  -3.1570426389", 
        "##", 
        "## WARNING: we are not updating CaTnC!!!", 
        "##", 
        "T 3990.000000 [ms] Conc(0) 0.000324 [mM]"
       ]
      }, 
      {
       "output_type": "stream", 
       "stream": "stdout", 
       "text": [
        "", 
        "T 3990.000000 [ms] Conc(0) 0.323513 [uM]", 
        "T 3990.000000 [ms] Conc(1) 0.031437 [mM]", 
        "T 3990.000000 [ms] Conc(1) 31.436606 [uM]", 
        "WARNING: skipping conc updatee", 
        "###########################################################################", 
        "t0  3990.0 tf  4000.0", 
        "ODE Init [mM] [ 0.00032452  0.02664142]", 
        "t0 3990.000000 tf 4000.000000 [ms]", 
        "ODE statesF: [mM] "
       ]
      }, 
      {
       "output_type": "stream", 
       "stream": "stdout", 
       "text": [
        " [ 0.00031221  0.02602484]", 
        "ODE statesF: [uM]  0.312210101634", 
        "ODE states Flux [mM/ms]:  [ -1.23107281e-06  -6.16577532e-05]", 
        "ODE states Flux [uM/ms]:  [-0.00123107 -0.06165775]", 
        "WARNING: jSR and dCa are lumped tother into jVold", 
        "WARNING: I probably need to constrain jvolExpr s.t. the assembled value is equal to the ODE value", 
        "jboundary [mM/ms] -6.90870293996e-07", 
        "jboundary [uM/ms] -0.000690870293996", 
        "jvol [mM/ms]  -5.45585914804e-07", 
        "jvol [uM/ms]  -0.545585914804", 
        "##", 
        "## WARNING: we are not updating CaTnC!!!", 
        "##", 
        "T 4000.000000 [ms] Conc(0) 0.000311 [mM]"
       ]
      }, 
      {
       "output_type": "stream", 
       "stream": "stdout", 
       "text": [
        "", 
        "T 4000.000000 [ms] Conc(0) 0.311149 [uM]", 
        "T 4000.000000 [ms] Conc(1) 0.031437 [mM]", 
        "T 4000.000000 [ms] Conc(1) 31.436606 [uM]", 
        "WARNING: skipping conc updatee", 
        "### Mode separateFlux passes!", 
        "Equilibrating for 3000.000000 [ms]", 
        "WARHING: CHECK ME", 
        "ODE Init [mM]"
       ]
      }, 
      {
       "output_type": "stream", 
       "stream": "stdout", 
       "text": [
        " [ 0.00048259  0.03246633]", 
        "t0 3000.000000 tf 4000.000000 [ms]", 
        "vol_sa_ratio  [um]"
       ]
      }, 
      {
       "output_type": "stream", 
       "stream": "stdout", 
       "text": [
        " 2.0", 
        "WARNING: not working w eval func", 
        "T 0.000000 [ms] Conc(0) 0.000483 [mM]", 
        "T 0.000000 [ms] Conc(0) 0.482594 [uM]", 
        "T 0.000000 [ms] Conc(1) 0.032466 [mM]", 
        "T 0.000000 [ms] Conc(1) 32.466334 [uM]", 
        "###########################################################################", 
        "t0  3000.0 tf  3010.0", 
        "ODE Init [mM] [ 0.00048259  0.03246633]", 
        "t0 3000.000000 tf 3010.000000 [ms]", 
        "ODE statesF: [mM] "
       ]
      }, 
      {
       "output_type": "stream", 
       "stream": "stdout", 
       "text": [
        " [ 0.00046879  0.03201913]", 
        "ODE statesF: [uM]  0.468788958253", 
        "ODE states Flux [mM/ms]:  [ -1.38048034e-06  -4.47202131e-05]", 
        "ODE states Flux [uM/ms]:  [-0.00138048 -0.04472021]", 
        "WARNING: jSR and dCa are lumped tother into jVold", 
        "WARNING: I probably need to constrain jvolExpr s.t. the assembled value is equal to the ODE value", 
        "jboundary [mM/ms] 5.00902341525e-05", 
        "jboundary [uM/ms] 0.0500902341525", 
        "jvol [mM/ms]  -5.14719539048e-05", 
        "jvol [uM/ms]  -51.4719539048", 
        "##", 
        "## WARNING: we are not updating CaTnC!!!", 
        "##", 
        "T 3010.000000 [ms] Conc(0) 0.000469 [mM]"
       ]
      }, 
      {
       "output_type": "stream", 
       "stream": "stdout", 
       "text": [
        "", 
        "T 3010.000000 [ms] Conc(0) 0.468777 [uM]", 
        "T 3010.000000 [ms] Conc(1) 0.032466 [mM]", 
        "T 3010.000000 [ms] Conc(1) 32.466334 [uM]", 
        "WARNING: skipping conc updatee", 
        "###########################################################################", 
        "t0  3010.0 tf  3020.0", 
        "ODE Init [mM] [ 0.00046879  0.03201913]", 
        "t0 3010.000000 tf 3020.000000 [ms]", 
        "ODE statesF: [mM] "
       ]
      }, 
      {
       "output_type": "stream", 
       "stream": "stdout", 
       "text": [
        " [ 0.00045519  0.03156018]", 
        "ODE statesF: [uM]  0.455189190784", 
        "ODE states Flux [mM/ms]:  [ -1.35997675e-06  -4.58955176e-05]", 
        "ODE states Flux [uM/ms]:  [-0.00135998 -0.04589552]", 
        "WARNING: jSR and dCa are lumped tother into jVold", 
        "WARNING: I probably need to constrain jvolExpr s.t. the assembled value is equal to the ODE value", 
        "jboundary [mM/ms] 4.59898934038e-05", 
        "jboundary [uM/ms] 0.0459898934038", 
        "jvol [mM/ms]  -4.73506399867e-05", 
        "jvol [uM/ms]  -47.3506399867", 
        "##", 
        "## WARNING: we are not updating CaTnC!!!", 
        "##", 
        "T 3020.000000 [ms] Conc(0) 0.000455 [mM]"
       ]
      }, 
      {
       "output_type": "stream", 
       "stream": "stdout", 
       "text": [
        "", 
        "T 3020.000000 [ms] Conc(0) 0.455169 [uM]", 
        "T 3020.000000 [ms] Conc(1) 0.032466 [mM]", 
        "T 3020.000000 [ms] Conc(1) 32.466334 [uM]", 
        "WARNING: skipping conc updatee", 
        "###########################################################################", 
        "t0  3020.0 tf  3030.0", 
        "ODE Init [mM] [ 0.00045519  0.03156018]", 
        "t0 3020.000000 tf 3030.000000 [ms]", 
        "ODE statesF: [mM] "
       ]
      }, 
      {
       "output_type": "stream", 
       "stream": "stdout", 
       "text": [
        " [ 0.00044166  0.03109095]", 
        "ODE statesF: [uM]  0.441661964455", 
        "ODE states Flux [mM/ms]:  [ -1.35272263e-06  -4.69223726e-05]", 
        "ODE states Flux [uM/ms]:  [-0.00135272 -0.04692237]", 
        "WARNING: jSR and dCa are lumped tother into jVold", 
        "WARNING: I probably need to constrain jvolExpr s.t. the assembled value is equal to the ODE value", 
        "jboundary [mM/ms] 4.18222833189e-05", 
        "jboundary [uM/ms] 0.0418222833189", 
        "jvol [mM/ms]  -4.31749176654e-05", 
        "jvol [uM/ms]  -43.1749176654", 
        "##", 
        "## WARNING: we are not updating CaTnC!!!", 
        "##", 
        "T 3030.000000 [ms] Conc(0) 0.000442 [mM]"
       ]
      }, 
      {
       "output_type": "stream", 
       "stream": "stdout", 
       "text": [
        "", 
        "T 3030.000000 [ms] Conc(0) 0.441643 [uM]", 
        "T 3030.000000 [ms] Conc(1) 0.032466 [mM]", 
        "T 3030.000000 [ms] Conc(1) 32.466334 [uM]", 
        "WARNING: skipping conc updatee", 
        "###########################################################################", 
        "t0  3030.0 tf  3040.0", 
        "ODE Init [mM] [ 0.00044166  0.03109095]", 
        "t0 3030.000000 tf 3040.000000 [ms]", 
        "ODE statesF: [mM] "
       ]
      }, 
      {
       "output_type": "stream", 
       "stream": "stdout", 
       "text": [
        " [ 0.00042799  0.03061053]", 
        "ODE statesF: [uM]  0.427990483243", 
        "ODE states Flux [mM/ms]:  [ -1.36714812e-06  -4.80418820e-05]", 
        "ODE states Flux [uM/ms]:  [-0.00136715 -0.04804188]", 
        "WARNING: jSR and dCa are lumped tother into jVold", 
        "WARNING: I probably need to constrain jvolExpr s.t. the assembled value is equal to the ODE value", 
        "jboundary [mM/ms] 3.71952755018e-05", 
        "jboundary [uM/ms] 0.0371952755018", 
        "jvol [mM/ms]  -3.85610544445e-05", 
        "jvol [uM/ms]  -38.5610544445", 
        "##", 
        "## WARNING: we are not updating CaTnC!!!", 
        "##", 
        "T 3040.000000 [ms] Conc(0) 0.000428 [mM]"
       ]
      }, 
      {
       "output_type": "stream", 
       "stream": "stdout", 
       "text": [
        "", 
        "T 3040.000000 [ms] Conc(0) 0.427985 [uM]", 
        "T 3040.000000 [ms] Conc(1) 0.032466 [mM]", 
        "T 3040.000000 [ms] Conc(1) 32.466334 [uM]", 
        "WARNING: skipping conc updatee", 
        "###########################################################################", 
        "t0  3040.0 tf  3050.0", 
        "ODE Init [mM] [ 0.00042799  0.03061053]", 
        "t0 3040.000000 tf 3050.000000 [ms]", 
        "ODE statesF: [mM] "
       ]
      }, 
      {
       "output_type": "stream", 
       "stream": "stdout", 
       "text": [
        " [ 0.00041391  0.03011536]", 
        "ODE statesF: [uM]  0.413912392657", 
        "ODE states Flux [mM/ms]:  [ -1.40780906e-06  -4.95169910e-05]", 
        "ODE states Flux [uM/ms]:  [-0.00140781 -0.04951699]", 
        "WARNING: jSR and dCa are lumped tother into jVold", 
        "WARNING: I probably need to constrain jvolExpr s.t. the assembled value is equal to the ODE value", 
        "jboundary [mM/ms] 3.16655104439e-05", 
        "jboundary [uM/ms] 0.0316655104439", 
        "jvol [mM/ms]  -3.30707998031e-05", 
        "jvol [uM/ms]  -33.0707998031", 
        "##", 
        "## WARNING: we are not updating CaTnC!!!", 
        "##", 
        "T 3050.000000 [ms] Conc(0) 0.000414 [mM]"
       ]
      }, 
      {
       "output_type": "stream", 
       "stream": "stdout", 
       "text": [
        "", 
        "T 3050.000000 [ms] Conc(0) 0.413932 [uM]", 
        "T 3050.000000 [ms] Conc(1) 0.032466 [mM]", 
        "T 3050.000000 [ms] Conc(1) 32.466334 [uM]", 
        "WARNING: skipping conc updatee", 
        "###########################################################################", 
        "t0  3050.0 tf  3060.0", 
        "ODE Init [mM] [ 0.00041391  0.03011536]", 
        "t0 3050.000000 tf 3060.000000 [ms]", 
        "ODE statesF: [mM] "
       ]
      }, 
      {
       "output_type": "stream", 
       "stream": "stdout", 
       "text": [
        " [ 0.00039935  0.02960047]", 
        "ODE statesF: [uM]  0.39935013351", 
        "ODE states Flux [mM/ms]:  [ -1.45622591e-06  -5.14892431e-05]", 
        "ODE states Flux [uM/ms]:  [-0.00145623 -0.05148924]", 
        "WARNING: jSR and dCa are lumped tother into jVold", 
        "WARNING: I probably need to constrain jvolExpr s.t. the assembled value is equal to the ODE value", 
        "jboundary [mM/ms] 2.50517822023e-05", 
        "jboundary [uM/ms] 0.0250517822023", 
        "jvol [mM/ms]  -2.65060104066e-05", 
        "jvol [uM/ms]  -26.5060104066", 
        "##", 
        "## WARNING: we are not updating CaTnC!!!", 
        "##", 
        "T 3060.000000 [ms] Conc(0) 0.000399 [mM]"
       ]
      }, 
      {
       "output_type": "stream", 
       "stream": "stdout", 
       "text": [
        "", 
        "T 3060.000000 [ms] Conc(0) 0.399390 [uM]", 
        "T 3060.000000 [ms] Conc(1) 0.032466 [mM]", 
        "T 3060.000000 [ms] Conc(1) 32.466334 [uM]", 
        "WARNING: skipping conc updatee", 
        "###########################################################################", 
        "t0  3060.0 tf  3070.0", 
        "ODE Init [mM] [ 0.00039935  0.02960047]", 
        "t0 3060.000000 tf 3070.000000 [ms]", 
        "ODE statesF: [mM] "
       ]
      }, 
      {
       "output_type": "stream", 
       "stream": "stdout", 
       "text": [
        " [ 0.00038438  0.02906256]", 
        "ODE statesF: [uM]  0.384378652567", 
        "ODE states Flux [mM/ms]:  [ -1.49714809e-06  -5.37909578e-05]", 
        "ODE states Flux [uM/ms]:  [-0.00149715 -0.05379096]", 
        "WARNING: jSR and dCa are lumped tother into jVold", 
        "WARNING: I probably need to constrain jvolExpr s.t. the assembled value is equal to the ODE value", 
        "jboundary [mM/ms] 1.77833041014e-05", 
        "jboundary [uM/ms] 0.0177833041014", 
        "jvol [mM/ms]  -1.92773022736e-05", 
        "jvol [uM/ms]  -19.2773022736", 
        "##", 
        "## WARNING: we are not updating CaTnC!!!", 
        "##", 
        "T 3070.000000 [ms] Conc(0) 0.000384 [mM]"
       ]
      }, 
      {
       "output_type": "stream", 
       "stream": "stdout", 
       "text": [
        "", 
        "T 3070.000000 [ms] Conc(0) 0.384450 [uM]", 
        "T 3070.000000 [ms] Conc(1) 0.032466 [mM]", 
        "T 3070.000000 [ms] Conc(1) 32.466334 [uM]", 
        "WARNING: skipping conc updatee", 
        "###########################################################################", 
        "t0  3070.0 tf  3080.0", 
        "ODE Init [mM] [ 0.00038438  0.02906256]", 
        "t0 3070.000000 tf 3080.000000 [ms]", 
        "ODE statesF: [mM] "
       ]
      }, 
      {
       "output_type": "stream", 
       "stream": "stdout", 
       "text": [
        " [ 0.00036864  0.02849623]", 
        "ODE statesF: [uM]  0.368636750374", 
        "ODE states Flux [mM/ms]:  [ -1.57419022e-06  -5.66332157e-05]", 
        "ODE states Flux [uM/ms]:  [-0.00157419 -0.05663322]", 
        "WARNING: jSR and dCa are lumped tother into jVold", 
        "WARNING: I probably need to constrain jvolExpr s.t. the assembled value is equal to the ODE value", 
        "jboundary [mM/ms] 9.32827858346e-06", 
        "jboundary [uM/ms] 0.00932827858346", 
        "jvol [mM/ms]  -1.09004528078e-05", 
        "jvol [uM/ms]  -10.9004528078", 
        "##", 
        "## WARNING: we are not updating CaTnC!!!", 
        "##", 
        "T 3080.000000 [ms] Conc(0) 0.000369 [mM]"
       ]
      }, 
      {
       "output_type": "stream", 
       "stream": "stdout", 
       "text": [
        "", 
        "T 3080.000000 [ms] Conc(0) 0.368728 [uM]", 
        "T 3080.000000 [ms] Conc(1) 0.032466 [mM]", 
        "T 3080.000000 [ms] Conc(1) 32.466334 [uM]", 
        "WARNING: skipping conc updatee", 
        "###########################################################################", 
        "t0  3080.0 tf  3090.0", 
        "ODE Init [mM] [ 0.00036864  0.02849623]", 
        "t0 3080.000000 tf 3090.000000 [ms]", 
        "ODE statesF: [mM] "
       ]
      }, 
      {
       "output_type": "stream", 
       "stream": "stdout", 
       "text": [
        " [ 0.00035385  0.02790384]", 
        "ODE statesF: [uM]  0.353850218214", 
        "ODE states Flux [mM/ms]:  [ -1.47865322e-06  -5.92390914e-05]", 
        "ODE states Flux [uM/ms]:  [-0.00147865 -0.05923909]", 
        "WARNING: jSR and dCa are lumped tother into jVold", 
        "WARNING: I probably need to constrain jvolExpr s.t. the assembled value is equal to the ODE value", 
        "jboundary [mM/ms] 1.51757036359e-06", 
        "jboundary [uM/ms] 0.00151757036359", 
        "jvol [mM/ms]  -3.00553586902e-06", 
        "jvol [uM/ms]  -3.00553586902", 
        "##", 
        "## WARNING: we are not updating CaTnC!!!", 
        "##", 
        "T 3090.000000 [ms] Conc(0) 0.000354 [mM]"
       ]
      }, 
      {
       "output_type": "stream", 
       "stream": "stdout", 
       "text": [
        "", 
        "T 3090.000000 [ms] Conc(0) 0.353848 [uM]", 
        "T 3090.000000 [ms] Conc(1) 0.032466 [mM]", 
        "T 3090.000000 [ms] Conc(1) 32.466334 [uM]", 
        "WARNING: skipping conc updatee", 
        "###########################################################################", 
        "t0  3090.0 tf  3100.0", 
        "ODE Init [mM] [ 0.00035385  0.02790384]", 
        "t0 3090.000000 tf 3100.000000 [ms]", 
        "ODE statesF: [mM] "
       ]
      }, 
      {
       "output_type": "stream", 
       "stream": "stdout", 
       "text": [
        " [ 0.00034062  0.02730557]", 
        "ODE statesF: [uM]  0.340622660912", 
        "ODE states Flux [mM/ms]:  [ -1.32275573e-06  -5.98266909e-05]", 
        "ODE states Flux [uM/ms]:  [-0.00132276 -0.05982669]", 
        "WARNING: jSR and dCa are lumped tother into jVold", 
        "WARNING: I probably need to constrain jvolExpr s.t. the assembled value is equal to the ODE value", 
        "jboundary [mM/ms] -2.18037624646e-06", 
        "jboundary [uM/ms] -0.00218037624646", 
        "jvol [mM/ms]  8.51435818211e-07", 
        "jvol [uM/ms]  0.851435818211", 
        "##", 
        "## WARNING: we are not updating CaTnC!!!", 
        "##", 
        "T 3100.000000 [ms] Conc(0) 0.000341 [mM]"
       ]
      }, 
      {
       "output_type": "stream", 
       "stream": "stdout", 
       "text": [
        "", 
        "T 3100.000000 [ms] Conc(0) 0.340559 [uM]", 
        "T 3100.000000 [ms] Conc(1) 0.032466 [mM]", 
        "T 3100.000000 [ms] Conc(1) 32.466334 [uM]", 
        "WARNING: skipping conc updatee", 
        "###########################################################################", 
        "t0  3100.0 tf  3110.0", 
        "ODE Init [mM] [ 0.00034062  0.02730557]", 
        "t0 3100.000000 tf 3110.000000 [ms]", 
        "ODE statesF: [mM] "
       ]
      }, 
      {
       "output_type": "stream", 
       "stream": "stdout", 
       "text": [
        " [ 0.00033757  0.02674706]", 
        "ODE statesF: [uM]  0.337568242259", 
        "ODE states Flux [mM/ms]:  [ -3.05441865e-07  -5.58515078e-05]", 
        "ODE states Flux [uM/ms]:  [-0.00030544 -0.05585151]", 
        "WARNING: jSR and dCa are lumped tother into jVold", 
        "WARNING: I probably need to constrain jvolExpr s.t. the assembled value is equal to the ODE value", 
        "jboundary [mM/ms] 3.2481926846e-06", 
        "jboundary [uM/ms] 0.0032481926846", 
        "jvol [mM/ms]  -3.67713370011e-06", 
        "jvol [uM/ms]  -3.67713370011", 
        "##", 
        "## WARNING: we are not updating CaTnC!!!", 
        "##", 
        "T 3110.000000 [ms] Conc(0) 0.000336 [mM]"
       ]
      }, 
      {
       "output_type": "stream", 
       "stream": "stdout", 
       "text": [
        "", 
        "T 3110.000000 [ms] Conc(0) 0.336270 [uM]", 
        "T 3110.000000 [ms] Conc(1) 0.032466 [mM]", 
        "T 3110.000000 [ms] Conc(1) 32.466334 [uM]", 
        "WARNING: skipping conc updatee", 
        "###########################################################################", 
        "t0  3110.0 tf  3120.0", 
        "ODE Init [mM] [ 0.00033757  0.02674706]", 
        "t0 3110.000000 tf 3120.000000 [ms]", 
        "ODE statesF: [mM] "
       ]
      }, 
      {
       "output_type": "stream", 
       "stream": "stdout", 
       "text": [
        " [ 0.00034523  0.02638743]", 
        "ODE statesF: [uM]  0.345233847378", 
        "ODE states Flux [mM/ms]:  [  7.66560512e-07  -3.59631741e-05]", 
        "ODE states Flux [uM/ms]:  [ 0.00076656 -0.03596317]", 
        "WARNING: jSR and dCa are lumped tother into jVold", 
        "WARNING: I probably need to constrain jvolExpr s.t. the assembled value is equal to the ODE value", 
        "jboundary [mM/ms] 4.10135505832e-05", 
        "jboundary [uM/ms] 0.0410135505832", 
        "jvol [mM/ms]  -4.02754677885e-05", 
        "jvol [uM/ms]  -40.2754677885", 
        "##", 
        "## WARNING: we are not updating CaTnC!!!", 
        "##", 
        "T 3120.000000 [ms] Conc(0) 0.000344 [mM]"
       ]
      }, 
      {
       "output_type": "stream", 
       "stream": "stdout", 
       "text": [
        "", 
        "T 3120.000000 [ms] Conc(0) 0.343650 [uM]", 
        "T 3120.000000 [ms] Conc(1) 0.032466 [mM]", 
        "T 3120.000000 [ms] Conc(1) 32.466334 [uM]", 
        "WARNING: skipping conc updatee", 
        "###########################################################################", 
        "t0  3120.0 tf  3130.0", 
        "ODE Init [mM] [ 0.00034523  0.02638743]", 
        "t0 3120.000000 tf 3130.000000 [ms]", 
        "ODE statesF: [mM] "
       ]
      }, 
      {
       "output_type": "stream", 
       "stream": "stdout", 
       "text": [
        " [ 0.00036372  0.02627604]", 
        "ODE statesF: [uM]  0.363718665499", 
        "ODE states Flux [mM/ms]:  [  1.84848181e-06  -1.11381663e-05]", 
        "ODE states Flux [uM/ms]:  [ 0.00184848 -0.01113817]", 
        "WARNING: jSR and dCa are lumped tother into jVold", 
        "WARNING: I probably need to constrain jvolExpr s.t. the assembled value is equal to the ODE value", 
        "jboundary [mM/ms] 8.42100255523e-05", 
        "jboundary [uM/ms] 0.0842100255523", 
        "jvol [mM/ms]  -8.2444620498e-05", 
        "jvol [uM/ms]  -82.444620498", 
        "##", 
        "## WARNING: we are not updating CaTnC!!!", 
        "##", 
        "T 3130.000000 [ms] Conc(0) 0.000361 [mM]"
       ]
      }, 
      {
       "output_type": "stream", 
       "stream": "stdout", 
       "text": [
        "", 
        "T 3130.000000 [ms] Conc(0) 0.361304 [uM]", 
        "T 3130.000000 [ms] Conc(1) 0.032466 [mM]", 
        "T 3130.000000 [ms] Conc(1) 32.466334 [uM]", 
        "WARNING: skipping conc updatee", 
        "###########################################################################", 
        "t0  3130.0 tf  3140.0", 
        "ODE Init [mM] [ 0.00036372  0.02627604]", 
        "t0 3130.000000 tf 3140.000000 [ms]", 
        "ODE statesF: [mM] "
       ]
      }, 
      {
       "output_type": "stream", 
       "stream": "stdout", 
       "text": [
        " [ 0.00040797  0.02656753]", 
        "ODE statesF: [uM]  0.407970856609", 
        "ODE states Flux [mM/ms]:  [  4.42521911e-06   2.91489044e-05]", 
        "ODE states Flux [uM/ms]:  [ 0.00442522  0.0291489 ]", 
        "WARNING: jSR and dCa are lumped tother into jVold", 
        "WARNING: I probably need to constrain jvolExpr s.t. the assembled value is equal to the ODE value", 
        "jboundary [mM/ms] 0.000158923197154", 
        "jboundary [uM/ms] 0.158923197154", 
        "jvol [mM/ms]  -0.000154671854006", 
        "jvol [uM/ms]  -154.671854006", 
        "##", 
        "## WARNING: we are not updating CaTnC!!!", 
        "##", 
        "T 3140.000000 [ms] Conc(0) 0.000404 [mM]"
       ]
      }, 
      {
       "output_type": "stream", 
       "stream": "stdout", 
       "text": [
        "", 
        "T 3140.000000 [ms] Conc(0) 0.403818 [uM]", 
        "T 3140.000000 [ms] Conc(1) 0.032466 [mM]", 
        "T 3140.000000 [ms] Conc(1) 32.466334 [uM]", 
        "WARNING: skipping conc updatee", 
        "###########################################################################", 
        "t0  3140.0 tf  3150.0", 
        "ODE Init [mM] [ 0.00040797  0.02656753]", 
        "t0 3140.000000 tf 3150.000000 [ms]", 
        "ODE statesF: [mM] "
       ]
      }, 
      {
       "output_type": "stream", 
       "stream": "stdout", 
       "text": [
        " [ 0.00048554  0.02753519]", 
        "ODE statesF: [uM]  0.485539087174", 
        "ODE states Flux [mM/ms]:  [  7.75682306e-06   9.67655506e-05]", 
        "ODE states Flux [uM/ms]:  [ 0.00775682  0.09676555]", 
        "WARNING: jSR and dCa are lumped tother into jVold", 
        "WARNING: I probably need to constrain jvolExpr s.t. the assembled value is equal to the ODE value", 
        "jboundary [mM/ms] 0.0002859875524", 
        "jboundary [uM/ms] 0.2859875524", 
        "jvol [mM/ms]  -0.000278334609965", 
        "jvol [uM/ms]  -278.334609965", 
        "##", 
        "## WARNING: we are not updating CaTnC!!!", 
        "##", 
        "T 3150.000000 [ms] Conc(0) 0.000480 [mM]"
       ]
      }, 
      {
       "output_type": "stream", 
       "stream": "stdout", 
       "text": [
        "", 
        "T 3150.000000 [ms] Conc(0) 0.480347 [uM]", 
        "T 3150.000000 [ms] Conc(1) 0.032466 [mM]", 
        "T 3150.000000 [ms] Conc(1) 32.466334 [uM]", 
        "WARNING: skipping conc updatee", 
        "###########################################################################", 
        "t0  3150.0 tf  3160.0", 
        "ODE Init [mM] [ 0.00048554  0.02753519]", 
        "t0 3150.000000 tf 3160.000000 [ms]", 
        "ODE statesF: [mM] "
       ]
      }, 
      {
       "output_type": "stream", 
       "stream": "stdout", 
       "text": [
        " [ 0.00055672  0.02912519]", 
        "ODE statesF: [uM]  0.556720098971", 
        "ODE states Flux [mM/ms]:  [  7.11810118e-06   1.59000490e-04]", 
        "ODE states Flux [uM/ms]:  [ 0.0071181   0.15900049]", 
        "WARNING: jSR and dCa are lumped tother into jVold", 
        "WARNING: I probably need to constrain jvolExpr s.t. the assembled value is equal to the ODE value", 
        "jboundary [mM/ms] 0.000389104681039", 
        "jboundary [uM/ms] 0.389104681039", 
        "jvol [mM/ms]  -0.00038184916937", 
        "jvol [uM/ms]  -381.84916937", 
        "##", 
        "## WARNING: we are not updating CaTnC!!!", 
        "##", 
        "T 3160.000000 [ms] Conc(0) 0.000553 [mM]"
       ]
      }, 
      {
       "output_type": "stream", 
       "stream": "stdout", 
       "text": [
        "", 
        "T 3160.000000 [ms] Conc(0) 0.552902 [uM]", 
        "T 3160.000000 [ms] Conc(1) 0.032466 [mM]", 
        "T 3160.000000 [ms] Conc(1) 32.466334 [uM]", 
        "WARNING: skipping conc updatee", 
        "###########################################################################", 
        "t0  3160.0 tf  3170.0", 
        "ODE Init [mM] [ 0.00055672  0.02912519]", 
        "t0 3160.000000 tf 3170.000000 [ms]", 
        "ODE statesF: [mM] "
       ]
      }, 
      {
       "output_type": "stream", 
       "stream": "stdout", 
       "text": [
        " [ 0.00059638  0.03082203]", 
        "ODE statesF: [uM]  0.596379952786", 
        "ODE states Flux [mM/ms]:  [  3.96598538e-06   1.69683447e-04]", 
        "ODE states Flux [uM/ms]:  [ 0.00396599  0.16968345]", 
        "WARNING: jSR and dCa are lumped tother into jVold", 
        "WARNING: I probably need to constrain jvolExpr s.t. the assembled value is equal to the ODE value", 
        "jboundary [mM/ms] 0.000387685760423", 
        "jboundary [uM/ms] 0.387685760423", 
        "jvol [mM/ms]  -0.000383573844013", 
        "jvol [uM/ms]  -383.573844013", 
        "##", 
        "## WARNING: we are not updating CaTnC!!!", 
        "##", 
        "T 3170.000000 [ms] Conc(0) 0.000594 [mM]"
       ]
      }, 
      {
       "output_type": "stream", 
       "stream": "stdout", 
       "text": [
        "", 
        "T 3170.000000 [ms] Conc(0) 0.594022 [uM]", 
        "T 3170.000000 [ms] Conc(1) 0.032466 [mM]", 
        "T 3170.000000 [ms] Conc(1) 32.466334 [uM]", 
        "WARNING: skipping conc updatee", 
        "###########################################################################", 
        "t0  3170.0 tf  3180.0", 
        "ODE Init [mM] [ 0.00059638  0.03082203]", 
        "t0 3170.000000 tf 3180.000000 [ms]", 
        "ODE statesF: [mM] "
       ]
      }, 
      {
       "output_type": "stream", 
       "stream": "stdout", 
       "text": [
        " [ 0.00061341  0.03225363]", 
        "ODE statesF: [uM]  0.61340568737", 
        "ODE states Flux [mM/ms]:  [  1.70257346e-06   1.43159937e-04]", 
        "ODE states Flux [uM/ms]:  [ 0.00170257  0.14315994]", 
        "WARNING: jSR and dCa are lumped tother into jVold", 
        "WARNING: I probably need to constrain jvolExpr s.t. the assembled value is equal to the ODE value", 
        "jboundary [mM/ms] 0.000331392900217", 
        "jboundary [uM/ms] 0.331392900217", 
        "jvol [mM/ms]  -0.000329605721674", 
        "jvol [uM/ms]  -329.605721674", 
        "##", 
        "## WARNING: we are not updating CaTnC!!!", 
        "##", 
        "T 3180.000000 [ms] Conc(0) 0.000612 [mM]"
       ]
      }, 
      {
       "output_type": "stream", 
       "stream": "stdout", 
       "text": [
        "", 
        "T 3180.000000 [ms] Conc(0) 0.611893 [uM]", 
        "T 3180.000000 [ms] Conc(1) 0.032466 [mM]", 
        "T 3180.000000 [ms] Conc(1) 32.466334 [uM]", 
        "WARNING: skipping conc updatee", 
        "###########################################################################", 
        "t0  3180.0 tf  3190.0", 
        "ODE Init [mM] [ 0.00061341  0.03225363]", 
        "t0 3180.000000 tf 3190.000000 [ms]", 
        "ODE statesF: [mM] "
       ]
      }, 
      {
       "output_type": "stream", 
       "stream": "stdout", 
       "text": [
        " [ 0.00061778  0.03331622]", 
        "ODE statesF: [uM]  0.617782783779", 
        "ODE states Flux [mM/ms]:  [  4.37709641e-07   1.06259086e-04]", 
        "ODE states Flux [uM/ms]:  [ 0.00043771  0.10625909]", 
        "WARNING: jSR and dCa are lumped tother into jVold", 
        "WARNING: I probably need to constrain jvolExpr s.t. the assembled value is equal to the ODE value", 
        "jboundary [mM/ms] 0.00027038750589", 
        "jboundary [uM/ms] 0.27038750589", 
        "jvol [mM/ms]  -0.000269902489747", 
        "jvol [uM/ms]  -269.902489747", 
        "##", 
        "## WARNING: we are not updating CaTnC!!!", 
        "##", 
        "T 3190.000000 [ms] Conc(0) 0.000617 [mM]"
       ]
      }, 
      {
       "output_type": "stream", 
       "stream": "stdout", 
       "text": [
        "", 
        "T 3190.000000 [ms] Conc(0) 0.616744 [uM]", 
        "T 3190.000000 [ms] Conc(1) 0.032466 [mM]", 
        "T 3190.000000 [ms] Conc(1) 32.466334 [uM]", 
        "WARNING: skipping conc updatee", 
        "###########################################################################", 
        "t0  3190.0 tf  3200.0", 
        "ODE Init [mM] [ 0.00061778  0.03331622]", 
        "t0 3190.000000 tf 3200.000000 [ms]", 
        "ODE statesF: [mM] "
       ]
      }, 
      {
       "output_type": "stream", 
       "stream": "stdout", 
       "text": [
        " [ 0.00061484  0.03403204]", 
        "ODE statesF: [uM]  0.614842636273", 
        "ODE states Flux [mM/ms]:  [ -2.94014751e-07   7.15825298e-05]", 
        "ODE states Flux [uM/ms]:  [-0.00029401  0.07158253]", 
        "WARNING: jSR and dCa are lumped tother into jVold", 
        "WARNING: I probably need to constrain jvolExpr s.t. the assembled value is equal to the ODE value", 
        "jboundary [mM/ms] 0.000219373597605", 
        "jboundary [uM/ms] 0.219373597605", 
        "jvol [mM/ms]  -0.000219639056074", 
        "jvol [uM/ms]  -219.639056074", 
        "##", 
        "## WARNING: we are not updating CaTnC!!!", 
        "##", 
        "T 3200.000000 [ms] Conc(0) 0.000614 [mM]"
       ]
      }, 
      {
       "output_type": "stream", 
       "stream": "stdout", 
       "text": [
        "", 
        "T 3200.000000 [ms] Conc(0) 0.614089 [uM]", 
        "T 3200.000000 [ms] Conc(1) 0.032466 [mM]", 
        "T 3200.000000 [ms] Conc(1) 32.466334 [uM]", 
        "WARNING: skipping conc updatee", 
        "###########################################################################", 
        "t0  3200.0 tf  3210.0", 
        "ODE Init [mM] [ 0.00061484  0.03403204]", 
        "t0 3200.000000 tf 3210.000000 [ms]", 
        "ODE statesF: [mM] "
       ]
      }, 
      {
       "output_type": "stream", 
       "stream": "stdout", 
       "text": [
        " [ 0.00060733  0.03445962]", 
        "ODE statesF: [uM]  0.60733203118", 
        "ODE states Flux [mM/ms]:  [ -7.51060509e-07   4.27572532e-05]", 
        "ODE states Flux [uM/ms]:  [-0.00075106  0.04275725]", 
        "WARNING: jSR and dCa are lumped tother into jVold", 
        "WARNING: I probably need to constrain jvolExpr s.t. the assembled value is equal to the ODE value", 
        "jboundary [mM/ms] 0.000179407781886", 
        "jboundary [uM/ms] 0.179407781886", 
        "jvol [mM/ms]  -0.000180140445941", 
        "jvol [uM/ms]  -180.140445941", 
        "##", 
        "## WARNING: we are not updating CaTnC!!!", 
        "##", 
        "T 3210.000000 [ms] Conc(0) 0.000607 [mM]"
       ]
      }, 
      {
       "output_type": "stream", 
       "stream": "stdout", 
       "text": [
        "", 
        "T 3210.000000 [ms] Conc(0) 0.606762 [uM]", 
        "T 3210.000000 [ms] Conc(1) 0.032466 [mM]", 
        "T 3210.000000 [ms] Conc(1) 32.466334 [uM]", 
        "WARNING: skipping conc updatee", 
        "###########################################################################", 
        "t0  3210.0 tf  3220.0", 
        "ODE Init [mM] [ 0.00060733  0.03445962]", 
        "t0 3210.000000 tf 3220.000000 [ms]", 
        "ODE statesF: [mM] "
       ]
      }, 
      {
       "output_type": "stream", 
       "stream": "stdout", 
       "text": [
        " [ 0.00059683  0.03465935]", 
        "ODE statesF: [uM]  0.596833513078", 
        "ODE states Flux [mM/ms]:  [ -1.04985181e-06   1.99736094e-05]", 
        "ODE states Flux [uM/ms]:  [-0.00104985  0.01997361]", 
        "WARNING: jSR and dCa are lumped tother into jVold", 
        "WARNING: I probably need to constrain jvolExpr s.t. the assembled value is equal to the ODE value", 
        "jboundary [mM/ms] 0.000148587927416", 
        "jboundary [uM/ms] 0.148587927416", 
        "jvol [mM/ms]  -0.000149625653691", 
        "jvol [uM/ms]  -149.625653691", 
        "##", 
        "## WARNING: we are not updating CaTnC!!!", 
        "##", 
        "T 3220.000000 [ms] Conc(0) 0.000596 [mM]"
       ]
      }, 
      {
       "output_type": "stream", 
       "stream": "stdout", 
       "text": [
        "", 
        "T 3220.000000 [ms] Conc(0) 0.596385 [uM]", 
        "T 3220.000000 [ms] Conc(1) 0.032466 [mM]", 
        "T 3220.000000 [ms] Conc(1) 32.466334 [uM]", 
        "WARNING: skipping conc updatee", 
        "###########################################################################", 
        "t0  3220.0 tf  3230.0", 
        "ODE Init [mM] [ 0.00059683  0.03465935]", 
        "t0 3220.000000 tf 3230.000000 [ms]", 
        "ODE statesF: [mM] "
       ]
      }, 
      {
       "output_type": "stream", 
       "stream": "stdout", 
       "text": [
        " [ 0.00058438  0.03468327]", 
        "ODE statesF: [uM]  0.584377373841", 
        "ODE states Flux [mM/ms]:  [ -1.24561392e-06   2.39201353e-06]", 
        "ODE states Flux [uM/ms]:  [-0.00124561  0.00239201]", 
        "WARNING: jSR and dCa are lumped tother into jVold", 
        "WARNING: I probably need to constrain jvolExpr s.t. the assembled value is equal to the ODE value", 
        "jboundary [mM/ms] 0.000124856057668", 
        "jboundary [uM/ms] 0.124856057668", 
        "jvol [mM/ms]  -0.000126093834261", 
        "jvol [uM/ms]  -126.093834261", 
        "##", 
        "## WARNING: we are not updating CaTnC!!!", 
        "##", 
        "T 3230.000000 [ms] Conc(0) 0.000584 [mM]"
       ]
      }, 
      {
       "output_type": "stream", 
       "stream": "stdout", 
       "text": [
        "", 
        "T 3230.000000 [ms] Conc(0) 0.584007 [uM]", 
        "T 3230.000000 [ms] Conc(1) 0.032466 [mM]", 
        "T 3230.000000 [ms] Conc(1) 32.466334 [uM]", 
        "WARNING: skipping conc updatee", 
        "###########################################################################", 
        "t0  3230.0 tf  3240.0", 
        "ODE Init [mM] [ 0.00058438  0.03468327]", 
        "t0 3230.000000 tf 3240.000000 [ms]", 
        "ODE statesF: [mM] "
       ]
      }, 
      {
       "output_type": "stream", 
       "stream": "stdout", 
       "text": [
        " [ 0.00057069  0.03457333]", 
        "ODE statesF: [uM]  0.57068839154", 
        "ODE states Flux [mM/ms]:  [ -1.36889823e-06  -1.09938866e-05]", 
        "ODE states Flux [uM/ms]:  [-0.0013689  -0.01099389]", 
        "WARNING: jSR and dCa are lumped tother into jVold", 
        "WARNING: I probably need to constrain jvolExpr s.t. the assembled value is equal to the ODE value", 
        "jboundary [mM/ms] 0.00010652446323", 
        "jboundary [uM/ms] 0.10652446323", 
        "jvol [mM/ms]  -0.000107888607195", 
        "jvol [uM/ms]  -107.888607195", 
        "##", 
        "## WARNING: we are not updating CaTnC!!!", 
        "##", 
        "T 3240.000000 [ms] Conc(0) 0.000570 [mM]"
       ]
      }, 
      {
       "output_type": "stream", 
       "stream": "stdout", 
       "text": [
        "", 
        "T 3240.000000 [ms] Conc(0) 0.570366 [uM]", 
        "T 3240.000000 [ms] Conc(1) 0.032466 [mM]", 
        "T 3240.000000 [ms] Conc(1) 32.466334 [uM]", 
        "WARNING: skipping conc updatee", 
        "###########################################################################", 
        "t0  3240.0 tf  3250.0", 
        "ODE Init [mM] [ 0.00057069  0.03457333]", 
        "t0 3240.000000 tf 3250.000000 [ms]", 
        "ODE statesF: [mM] "
       ]
      }, 
      {
       "output_type": "stream", 
       "stream": "stdout", 
       "text": [
        " [ 0.00055629  0.03436246]", 
        "ODE statesF: [uM]  0.556291837767", 
        "ODE states Flux [mM/ms]:  [ -1.43965538e-06  -2.10876773e-05]", 
        "ODE states Flux [uM/ms]:  [-0.00143966 -0.02108768]", 
        "WARNING: jSR and dCa are lumped tother into jVold", 
        "WARNING: I probably need to constrain jvolExpr s.t. the assembled value is equal to the ODE value", 
        "jboundary [mM/ms] 9.22868751875e-05", 
        "jboundary [uM/ms] 0.0922868751875", 
        "jvol [mM/ms]  -9.37240160599e-05", 
        "jvol [uM/ms]  -93.7240160599", 
        "##", 
        "## WARNING: we are not updating CaTnC!!!", 
        "##", 
        "T 3250.000000 [ms] Conc(0) 0.000556 [mM]"
       ]
      }, 
      {
       "output_type": "stream", 
       "stream": "stdout", 
       "text": [
        "", 
        "T 3250.000000 [ms] Conc(0) 0.555994 [uM]", 
        "T 3250.000000 [ms] Conc(1) 0.032466 [mM]", 
        "T 3250.000000 [ms] Conc(1) 32.466334 [uM]", 
        "WARNING: skipping conc updatee", 
        "###########################################################################", 
        "t0  3250.0 tf  3260.0", 
        "ODE Init [mM] [ 0.00055629  0.03436246]", 
        "t0 3250.000000 tf 3260.000000 [ms]", 
        "ODE statesF: [mM] "
       ]
      }, 
      {
       "output_type": "stream", 
       "stream": "stdout", 
       "text": [
        " [ 0.00054157  0.03407614]", 
        "ODE statesF: [uM]  0.54156735296", 
        "ODE states Flux [mM/ms]:  [ -1.47244848e-06  -2.86314970e-05]", 
        "ODE states Flux [uM/ms]:  [-0.00147245 -0.0286315 ]", 
        "WARNING: jSR and dCa are lumped tother into jVold", 
        "WARNING: I probably need to constrain jvolExpr s.t. the assembled value is equal to the ODE value", 
        "jboundary [mM/ms] 8.11428577452e-05", 
        "jboundary [uM/ms] 0.0811428577452", 
        "jvol [mM/ms]  -8.26143958424e-05", 
        "jvol [uM/ms]  -82.6143958424", 
        "##", 
        "## WARNING: we are not updating CaTnC!!!", 
        "##", 
        "T 3260.000000 [ms] Conc(0) 0.000541 [mM]"
       ]
      }, 
      {
       "output_type": "stream", 
       "stream": "stdout", 
       "text": [
        "", 
        "T 3260.000000 [ms] Conc(0) 0.541279 [uM]", 
        "T 3260.000000 [ms] Conc(1) 0.032466 [mM]", 
        "T 3260.000000 [ms] Conc(1) 32.466334 [uM]", 
        "WARNING: skipping conc updatee", 
        "###########################################################################", 
        "t0  3260.0 tf  3270.0", 
        "ODE Init [mM] [ 0.00054157  0.03407614]", 
        "t0 3260.000000 tf 3270.000000 [ms]", 
        "ODE statesF: [mM] "
       ]
      }, 
      {
       "output_type": "stream", 
       "stream": "stdout", 
       "text": [
        " [ 0.00052678  0.03373399]", 
        "ODE statesF: [uM]  0.52678244189", 
        "ODE states Flux [mM/ms]:  [ -1.47849111e-06  -3.42154341e-05]", 
        "ODE states Flux [uM/ms]:  [-0.00147849 -0.03421543]", 
        "WARNING: jSR and dCa are lumped tother into jVold", 
        "WARNING: I probably need to constrain jvolExpr s.t. the assembled value is equal to the ODE value", 
        "jboundary [mM/ms] 7.23243426638e-05", 
        "jboundary [uM/ms] 0.0723243426638", 
        "jvol [mM/ms]  -7.38030302432e-05", 
        "jvol [uM/ms]  -73.8030302432", 
        "##", 
        "## WARNING: we are not updating CaTnC!!!", 
        "##", 
        "T 3270.000000 [ms] Conc(0) 0.000526 [mM]"
       ]
      }, 
      {
       "output_type": "stream", 
       "stream": "stdout", 
       "text": [
        "", 
        "T 3270.000000 [ms] Conc(0) 0.526492 [uM]", 
        "T 3270.000000 [ms] Conc(1) 0.032466 [mM]", 
        "T 3270.000000 [ms] Conc(1) 32.466334 [uM]", 
        "WARNING: skipping conc updatee", 
        "###########################################################################", 
        "t0  3270.0 tf  3280.0", 
        "ODE Init [mM] [ 0.00052678  0.03373399]", 
        "t0 3270.000000 tf 3280.000000 [ms]", 
        "ODE statesF: [mM] "
       ]
      }, 
      {
       "output_type": "stream", 
       "stream": "stdout", 
       "text": [
        " [ 0.00051212  0.03335095]", 
        "ODE statesF: [uM]  0.512116199109", 
        "ODE states Flux [mM/ms]:  [ -1.46662428e-06  -3.83042194e-05]", 
        "ODE states Flux [uM/ms]:  [-0.00146662 -0.03830422]", 
        "WARNING: jSR and dCa are lumped tother into jVold", 
        "WARNING: I probably need to constrain jvolExpr s.t. the assembled value is equal to the ODE value", 
        "jboundary [mM/ms] 6.52366114575e-05", 
        "jboundary [uM/ms] 0.0652366114575", 
        "jvol [mM/ms]  -6.67041433661e-05", 
        "jvol [uM/ms]  -66.7041433661", 
        "##", 
        "## WARNING: we are not updating CaTnC!!!", 
        "##", 
        "T 3280.000000 [ms] Conc(0) 0.000512 [mM]"
       ]
      }, 
      {
       "output_type": "stream", 
       "stream": "stdout", 
       "text": [
        "", 
        "T 3280.000000 [ms] Conc(0) 0.511817 [uM]", 
        "T 3280.000000 [ms] Conc(1) 0.032466 [mM]", 
        "T 3280.000000 [ms] Conc(1) 32.466334 [uM]", 
        "WARNING: skipping conc updatee", 
        "###########################################################################", 
        "t0  3280.0 tf  3290.0", 
        "ODE Init [mM] [ 0.00051212  0.03335095]", 
        "t0 3280.000000 tf 3290.000000 [ms]", 
        "ODE statesF: [mM] "
       ]
      }, 
      {
       "output_type": "stream", 
       "stream": "stdout", 
       "text": [
        " [ 0.00049768  0.03293829]", 
        "ODE statesF: [uM]  0.49767636952", 
        "ODE states Flux [mM/ms]:  [ -1.44398296e-06  -4.12656641e-05]", 
        "ODE states Flux [uM/ms]:  [-0.00144398 -0.04126566]", 
        "WARNING: jSR and dCa are lumped tother into jVold", 
        "WARNING: I probably need to constrain jvolExpr s.t. the assembled value is equal to the ODE value", 
        "jboundary [mM/ms] 5.94115109396e-05", 
        "jboundary [uM/ms] 0.0594115109396", 
        "jvol [mM/ms]  -6.0856787855e-05", 
        "jvol [uM/ms]  -60.856787855", 
        "##", 
        "## WARNING: we are not updating CaTnC!!!", 
        "##", 
        "T 3290.000000 [ms] Conc(0) 0.000497 [mM]"
       ]
      }, 
      {
       "output_type": "stream", 
       "stream": "stdout", 
       "text": [
        "", 
        "T 3290.000000 [ms] Conc(0) 0.497364 [uM]", 
        "T 3290.000000 [ms] Conc(1) 0.032466 [mM]", 
        "T 3290.000000 [ms] Conc(1) 32.466334 [uM]", 
        "WARNING: skipping conc updatee", 
        "###########################################################################", 
        "t0  3290.0 tf  3300.0", 
        "ODE Init [mM] [ 0.00049768  0.03293829]", 
        "t0 3290.000000 tf 3300.000000 [ms]", 
        "ODE statesF: [mM] "
       ]
      }, 
      {
       "output_type": "stream", 
       "stream": "stdout", 
       "text": [
        " [ 0.00048351  0.03250433]", 
        "ODE statesF: [uM]  0.48351043822", 
        "ODE states Flux [mM/ms]:  [ -1.41659313e-06  -4.33963294e-05]", 
        "ODE states Flux [uM/ms]:  [-0.00141659 -0.04339633]", 
        "WARNING: jSR and dCa are lumped tother into jVold", 
        "WARNING: I probably need to constrain jvolExpr s.t. the assembled value is equal to the ODE value", 
        "jboundary [mM/ms] 5.44688413697e-05", 
        "jboundary [uM/ms] 0.0544688413697", 
        "jvol [mM/ms]  -5.58868305638e-05", 
        "jvol [uM/ms]  -55.8868305638", 
        "##", 
        "## WARNING: we are not updating CaTnC!!!", 
        "##", 
        "T 3300.000000 [ms] Conc(0) 0.000483 [mM]"
       ]
      }, 
      {
       "output_type": "stream", 
       "stream": "stdout", 
       "text": [
        "", 
        "T 3300.000000 [ms] Conc(0) 0.483184 [uM]", 
        "T 3300.000000 [ms] Conc(1) 0.032466 [mM]", 
        "T 3300.000000 [ms] Conc(1) 32.466334 [uM]", 
        "WARNING: skipping conc updatee", 
        "###########################################################################", 
        "t0  3300.0 tf  3310.0", 
        "ODE Init [mM] [ 0.00048351  0.03250433]", 
        "t0 3300.000000 tf 3310.000000 [ms]", 
        "ODE statesF: [mM] "
       ]
      }, 
      {
       "output_type": "stream", 
       "stream": "stdout", 
       "text": [
        " [ 0.00046961  0.03205488]", 
        "ODE statesF: [uM]  0.469610312573", 
        "ODE states Flux [mM/ms]:  [ -1.39001256e-06  -4.49445368e-05]", 
        "ODE states Flux [uM/ms]:  [-0.00139001 -0.04494454]", 
        "WARNING: jSR and dCa are lumped tother into jVold", 
        "WARNING: I probably need to constrain jvolExpr s.t. the assembled value is equal to the ODE value", 
        "jboundary [mM/ms] 5.008168613e-05", 
        "jboundary [uM/ms] 0.05008168613", 
        "jvol [mM/ms]  -5.14729186755e-05", 
        "jvol [uM/ms]  -51.4729186755", 
        "##", 
        "## WARNING: we are not updating CaTnC!!!", 
        "##", 
        "T 3310.000000 [ms] Conc(0) 0.000469 [mM]"
       ]
      }, 
      {
       "output_type": "stream", 
       "stream": "stdout", 
       "text": [
        "", 
        "T 3310.000000 [ms] Conc(0) 0.469272 [uM]", 
        "T 3310.000000 [ms] Conc(1) 0.032466 [mM]", 
        "T 3310.000000 [ms] Conc(1) 32.466334 [uM]", 
        "WARNING: skipping conc updatee", 
        "###########################################################################", 
        "t0  3310.0 tf  3320.0", 
        "ODE Init [mM] [ 0.00046961  0.03205488]", 
        "t0 3310.000000 tf 3320.000000 [ms]", 
        "ODE statesF: [mM] "
       ]
      }, 
      {
       "output_type": "stream", 
       "stream": "stdout", 
       "text": [
        " [ 0.00045591  0.03159355]", 
        "ODE statesF: [uM]  0.455909138864", 
        "ODE states Flux [mM/ms]:  [ -1.37011737e-06  -4.61328246e-05]", 
        "ODE states Flux [uM/ms]:  [-0.00137012 -0.04613282]", 
        "WARNING: jSR and dCa are lumped tother into jVold", 
        "WARNING: I probably need to constrain jvolExpr s.t. the assembled value is equal to the ODE value", 
        "jboundary [mM/ms] 4.59408298677e-05", 
        "jboundary [uM/ms] 0.0459408298677", 
        "jvol [mM/ms]  -4.73116747531e-05", 
        "jvol [uM/ms]  -47.3116747531", 
        "##", 
        "## WARNING: we are not updating CaTnC!!!", 
        "##", 
        "T 3320.000000 [ms] Conc(0) 0.000456 [mM]"
       ]
      }, 
      {
       "output_type": "stream", 
       "stream": "stdout", 
       "text": [
        "", 
        "T 3320.000000 [ms] Conc(0) 0.455563 [uM]", 
        "T 3320.000000 [ms] Conc(1) 0.032466 [mM]", 
        "T 3320.000000 [ms] Conc(1) 32.466334 [uM]", 
        "WARNING: skipping conc updatee", 
        "###########################################################################", 
        "t0  3320.0 tf  3330.0", 
        "ODE Init [mM] [ 0.00045591  0.03159355]", 
        "t0 3320.000000 tf 3330.000000 [ms]", 
        "ODE statesF: [mM] "
       ]
      }, 
      {
       "output_type": "stream", 
       "stream": "stdout", 
       "text": [
        " [ 0.00044227  0.03112173]", 
        "ODE statesF: [uM]  0.442268675802", 
        "ODE states Flux [mM/ms]:  [ -1.36404631e-06  -4.71826095e-05]", 
        "ODE states Flux [uM/ms]:  [-0.00136405 -0.04718261]", 
        "WARNING: jSR and dCa are lumped tother into jVold", 
        "WARNING: I probably need to constrain jvolExpr s.t. the assembled value is equal to the ODE value", 
        "jboundary [mM/ms] 4.17129328402e-05", 
        "jboundary [uM/ms] 0.0417129328402", 
        "jvol [mM/ms]  -4.30768142725e-05", 
        "jvol [uM/ms]  -43.0768142725", 
        "##", 
        "## WARNING: we are not updating CaTnC!!!", 
        "##", 
        "T 3330.000000 [ms] Conc(0) 0.000442 [mM]"
       ]
      }, 
      {
       "output_type": "stream", 
       "stream": "stdout", 
       "text": [
        "", 
        "T 3330.000000 [ms] Conc(0) 0.441925 [uM]", 
        "T 3330.000000 [ms] Conc(1) 0.032466 [mM]", 
        "T 3330.000000 [ms] Conc(1) 32.466334 [uM]", 
        "WARNING: skipping conc updatee", 
        "###########################################################################", 
        "t0  3330.0 tf  3340.0", 
        "ODE Init [mM] [ 0.00044227  0.03112173]", 
        "t0 3330.000000 tf 3340.000000 [ms]", 
        "ODE statesF: [mM] "
       ]
      }, 
      {
       "output_type": "stream", 
       "stream": "stdout", 
       "text": [
        " [ 0.00042847  0.03063833]", 
        "ODE statesF: [uM]  0.428465057386", 
        "ODE states Flux [mM/ms]:  [ -1.38036184e-06  -4.83399037e-05]", 
        "ODE states Flux [uM/ms]:  [-0.00138036 -0.0483399 ]", 
        "WARNING: jSR and dCa are lumped tother into jVold", 
        "WARNING: I probably need to constrain jvolExpr s.t. the assembled value is equal to the ODE value", 
        "jboundary [mM/ms] 3.69962696955e-05", 
        "jboundary [uM/ms] 0.0369962696955", 
        "jvol [mM/ms]  -3.83751558793e-05", 
        "jvol [uM/ms]  -38.3751558793", 
        "##", 
        "## WARNING: we are not updating CaTnC!!!", 
        "##", 
        "T 3340.000000 [ms] Conc(0) 0.000428 [mM]"
       ]
      }, 
      {
       "output_type": "stream", 
       "stream": "stdout", 
       "text": [
        "", 
        "T 3340.000000 [ms] Conc(0) 0.428136 [uM]", 
        "T 3340.000000 [ms] Conc(1) 0.032466 [mM]", 
        "T 3340.000000 [ms] Conc(1) 32.466334 [uM]", 
        "WARNING: skipping conc updatee", 
        "###########################################################################", 
        "t0  3340.0 tf  3350.0", 
        "ODE Init [mM] [ 0.00042847  0.03063833]", 
        "t0 3340.000000 tf 3350.000000 [ms]", 
        "ODE statesF: [mM] "
       ]
      }, 
      {
       "output_type": "stream", 
       "stream": "stdout", 
       "text": [
        " [ 0.00041424  0.03013964]", 
        "ODE statesF: [uM]  0.414237375548", 
        "ODE states Flux [mM/ms]:  [ -1.42276818e-06  -4.98688273e-05]", 
        "ODE states Flux [uM/ms]:  [-0.00142277 -0.04986883]", 
        "WARNING: jSR and dCa are lumped tother into jVold", 
        "WARNING: I probably need to constrain jvolExpr s.t. the assembled value is equal to the ODE value", 
        "jboundary [mM/ms] 3.13465706357e-05", 
        "jboundary [uM/ms] 0.0313465706357", 
        "jvol [mM/ms]  -3.27667757927e-05", 
        "jvol [uM/ms]  -32.7667757927", 
        "##", 
        "## WARNING: we are not updating CaTnC!!!", 
        "##", 
        "T 3350.000000 [ms] Conc(0) 0.000414 [mM]"
       ]
      }, 
      {
       "output_type": "stream", 
       "stream": "stdout", 
       "text": [
        "", 
        "T 3350.000000 [ms] Conc(0) 0.413934 [uM]", 
        "T 3350.000000 [ms] Conc(1) 0.032466 [mM]", 
        "T 3350.000000 [ms] Conc(1) 32.466334 [uM]", 
        "WARNING: skipping conc updatee", 
        "###########################################################################", 
        "t0  3350.0 tf  3360.0", 
        "ODE Init [mM] [ 0.00041424  0.03013964]", 
        "t0 3350.000000 tf 3360.000000 [ms]", 
        "ODE statesF: [mM] "
       ]
      }, 
      {
       "output_type": "stream", 
       "stream": "stdout", 
       "text": [
        " [ 0.00039953  0.02962072]", 
        "ODE statesF: [uM]  0.399533654134", 
        "ODE states Flux [mM/ms]:  [ -1.47037214e-06  -5.18917858e-05]", 
        "ODE states Flux [uM/ms]:  [-0.00147037 -0.05189179]", 
        "WARNING: jSR and dCa are lumped tother into jVold", 
        "WARNING: I probably need to constrain jvolExpr s.t. the assembled value is equal to the ODE value", 
        "jboundary [mM/ms] 2.46244851132e-05", 
        "jboundary [uM/ms] 0.0246244851132", 
        "jvol [mM/ms]  -2.6092953105e-05", 
        "jvol [uM/ms]  -26.092953105", 
        "##", 
        "## WARNING: we are not updating CaTnC!!!", 
        "##", 
        "T 3360.000000 [ms] Conc(0) 0.000399 [mM]"
       ]
      }, 
      {
       "output_type": "stream", 
       "stream": "stdout", 
       "text": [
        "", 
        "T 3360.000000 [ms] Conc(0) 0.399249 [uM]", 
        "T 3360.000000 [ms] Conc(1) 0.032466 [mM]", 
        "T 3360.000000 [ms] Conc(1) 32.466334 [uM]", 
        "WARNING: skipping conc updatee", 
        "###########################################################################", 
        "t0  3360.0 tf  3370.0", 
        "ODE Init [mM] [ 0.00039953  0.02962072]", 
        "t0 3360.000000 tf 3370.000000 [ms]", 
        "ODE statesF: [mM] "
       ]
      }, 
      {
       "output_type": "stream", 
       "stream": "stdout", 
       "text": [
        " [ 0.0003844   0.02907838]", 
        "ODE statesF: [uM]  0.384398069931", 
        "ODE states Flux [mM/ms]:  [ -1.51355842e-06  -5.42339600e-05]", 
        "ODE states Flux [uM/ms]:  [-0.00151356 -0.05423396]", 
        "WARNING: jSR and dCa are lumped tother into jVold", 
        "WARNING: I probably need to constrain jvolExpr s.t. the assembled value is equal to the ODE value", 
        "jboundary [mM/ms] 1.72654437233e-05", 
        "jboundary [uM/ms] 0.0172654437233", 
        "jvol [mM/ms]  -1.87755444377e-05", 
        "jvol [uM/ms]  -18.7755444377", 
        "##", 
        "## WARNING: we are not updating CaTnC!!!", 
        "##", 
        "T 3370.000000 [ms] Conc(0) 0.000384 [mM]"
       ]
      }, 
      {
       "output_type": "stream", 
       "stream": "stdout", 
       "text": [
        "", 
        "T 3370.000000 [ms] Conc(0) 0.384148 [uM]", 
        "T 3370.000000 [ms] Conc(1) 0.032466 [mM]", 
        "T 3370.000000 [ms] Conc(1) 32.466334 [uM]", 
        "WARNING: skipping conc updatee", 
        "###########################################################################", 
        "t0  3370.0 tf  3380.0", 
        "ODE Init [mM] [ 0.0003844   0.02907838]", 
        "t0 3370.000000 tf 3380.000000 [ms]", 
        "ODE statesF: [mM] "
       ]
      }, 
      {
       "output_type": "stream", 
       "stream": "stdout", 
       "text": [
        " [ 0.00036852  0.02850696]", 
        "ODE statesF: [uM]  0.368523134724", 
        "ODE states Flux [mM/ms]:  [ -1.58749352e-06  -5.71423093e-05]", 
        "ODE states Flux [uM/ms]:  [-0.00158749 -0.05714231]", 
        "WARNING: jSR and dCa are lumped tother into jVold", 
        "WARNING: I probably need to constrain jvolExpr s.t. the assembled value is equal to the ODE value", 
        "jboundary [mM/ms] 8.66023455195e-06", 
        "jboundary [uM/ms] 0.00866023455195", 
        "jvol [mM/ms]  -1.02466838537e-05", 
        "jvol [uM/ms]  -10.2466838537", 
        "##", 
        "## WARNING: we are not updating CaTnC!!!", 
        "##", 
        "T 3380.000000 [ms] Conc(0) 0.000368 [mM]"
       ]
      }, 
      {
       "output_type": "stream", 
       "stream": "stdout", 
       "text": [
        "", 
        "T 3380.000000 [ms] Conc(0) 0.368284 [uM]", 
        "T 3380.000000 [ms] Conc(1) 0.032466 [mM]", 
        "T 3380.000000 [ms] Conc(1) 32.466334 [uM]", 
        "WARNING: skipping conc updatee", 
        "###########################################################################", 
        "t0  3380.0 tf  3390.0", 
        "ODE Init [mM] [ 0.00036852  0.02850696]", 
        "t0 3380.000000 tf 3390.000000 [ms]", 
        "ODE statesF: [mM] "
       ]
      }, 
      {
       "output_type": "stream", 
       "stream": "stdout", 
       "text": [
        " [ 0.00035378  0.02791062]", 
        "ODE statesF: [uM]  0.353778001657", 
        "ODE states Flux [mM/ms]:  [ -1.47451331e-06  -5.96337126e-05]", 
        "ODE states Flux [uM/ms]:  [-0.00147451 -0.05963371]", 
        "WARNING: jSR and dCa are lumped tother into jVold", 
        "WARNING: I probably need to constrain jvolExpr s.t. the assembled value is equal to the ODE value", 
        "jboundary [mM/ms] 1.09978577203e-06", 
        "jboundary [uM/ms] 0.00109978577203", 
        "jvol [mM/ms]  -2.58370293208e-06", 
        "jvol [uM/ms]  -2.58370293208", 
        "##", 
        "## WARNING: we are not updating CaTnC!!!", 
        "##", 
        "T 3390.000000 [ms] Conc(0) 0.000353 [mM]"
       ]
      }, 
      {
       "output_type": "stream", 
       "stream": "stdout", 
       "text": [
        "", 
        "T 3390.000000 [ms] Conc(0) 0.353444 [uM]", 
        "T 3390.000000 [ms] Conc(1) 0.032466 [mM]", 
        "T 3390.000000 [ms] Conc(1) 32.466334 [uM]", 
        "WARNING: skipping conc updatee", 
        "###########################################################################", 
        "t0  3390.0 tf  3400.0", 
        "ODE Init [mM] [ 0.00035378  0.02791062]", 
        "t0 3390.000000 tf 3400.000000 [ms]", 
        "ODE statesF: [mM] "
       ]
      }, 
      {
       "output_type": "stream", 
       "stream": "stdout", 
       "text": [
        " [ 0.00034055  0.02730973]", 
        "ODE statesF: [uM]  0.340554258314", 
        "ODE states Flux [mM/ms]:  [ -1.32237433e-06  -6.00890924e-05]", 
        "ODE states Flux [uM/ms]:  [-0.00132237 -0.06008909]", 
        "WARNING: jSR and dCa are lumped tother into jVold", 
        "WARNING: I probably need to constrain jvolExpr s.t. the assembled value is equal to the ODE value", 
        "jboundary [mM/ms] -2.38350251253e-06", 
        "jboundary [uM/ms] -0.00238350251253", 
        "jvol [mM/ms]  1.05504959307e-06", 
        "jvol [uM/ms]  1.05504959307", 
        "##", 
        "## WARNING: we are not updating CaTnC!!!", 
        "##", 
        "T 3400.000000 [ms] Conc(0) 0.000340 [mM]"
       ]
      }, 
      {
       "output_type": "stream", 
       "stream": "stdout", 
       "text": [
        "", 
        "T 3400.000000 [ms] Conc(0) 0.340160 [uM]", 
        "T 3400.000000 [ms] Conc(1) 0.032466 [mM]", 
        "T 3400.000000 [ms] Conc(1) 32.466334 [uM]", 
        "WARNING: skipping conc updatee", 
        "###########################################################################", 
        "t0  3400.0 tf  3410.0", 
        "ODE Init [mM] [ 0.00034055  0.02730973]", 
        "t0 3400.000000 tf 3410.000000 [ms]", 
        "ODE statesF: [mM] "
       ]
      }, 
      {
       "output_type": "stream", 
       "stream": "stdout", 
       "text": [
        " [ 0.00033747  0.02674921]", 
        "ODE statesF: [uM]  0.337473445739", 
        "ODE states Flux [mM/ms]:  [ -3.08081258e-07  -5.60516939e-05]", 
        "ODE states Flux [uM/ms]:  [-0.00030808 -0.05605169]", 
        "WARNING: jSR and dCa are lumped tother into jVold", 
        "WARNING: I probably need to constrain jvolExpr s.t. the assembled value is equal to the ODE value", 
        "jboundary [mM/ms] 3.1052464631e-06", 
        "jboundary [uM/ms] 0.0031052464631", 
        "jvol [mM/ms]  -3.53503276543e-06", 
        "jvol [uM/ms]  -3.53503276543", 
        "##", 
        "## WARNING: we are not updating CaTnC!!!", 
        "##", 
        "T 3410.000000 [ms] Conc(0) 0.000336 [mM]"
       ]
      }, 
      {
       "output_type": "stream", 
       "stream": "stdout", 
       "text": [
        "", 
        "T 3410.000000 [ms] Conc(0) 0.335862 [uM]", 
        "T 3410.000000 [ms] Conc(1) 0.032466 [mM]", 
        "T 3410.000000 [ms] Conc(1) 32.466334 [uM]", 
        "WARNING: skipping conc updatee", 
        "###########################################################################", 
        "t0  3410.0 tf  3420.0", 
        "ODE Init [mM] [ 0.00033747  0.02674921]", 
        "t0 3410.000000 tf 3420.000000 [ms]", 
        "ODE statesF: [mM] "
       ]
      }, 
      {
       "output_type": "stream", 
       "stream": "stdout", 
       "text": [
        " [ 0.0003452   0.02638809]", 
        "ODE statesF: [uM]  0.345200145176", 
        "ODE states Flux [mM/ms]:  [  7.72669944e-07  -3.61119592e-05]", 
        "ODE states Flux [uM/ms]:  [ 0.00077267 -0.03611196]", 
        "WARNING: jSR and dCa are lumped tother into jVold", 
        "WARNING: I probably need to constrain jvolExpr s.t. the assembled value is equal to the ODE value", 
        "jboundary [mM/ms] 4.0933038114e-05", 
        "jboundary [uM/ms] 0.040933038114", 
        "jvol [mM/ms]  -4.01896714045e-05", 
        "jvol [uM/ms]  -40.1896714045", 
        "##", 
        "## WARNING: we are not updating CaTnC!!!", 
        "##", 
        "T 3420.000000 [ms] Conc(0) 0.000343 [mM]"
       ]
      }, 
      {
       "output_type": "stream", 
       "stream": "stdout", 
       "text": [
        "", 
        "T 3420.000000 [ms] Conc(0) 0.343296 [uM]", 
        "T 3420.000000 [ms] Conc(1) 0.032466 [mM]", 
        "T 3420.000000 [ms] Conc(1) 32.466334 [uM]", 
        "WARNING: skipping conc updatee", 
        "###########################################################################", 
        "t0  3420.0 tf  3430.0", 
        "ODE Init [mM] [ 0.0003452   0.02638809]", 
        "t0 3420.000000 tf 3430.000000 [ms]", 
        "ODE statesF: [mM] "
       ]
      }, 
      {
       "output_type": "stream", 
       "stream": "stdout", 
       "text": [
        " [ 0.00036399  0.02627766]", 
        "ODE statesF: [uM]  0.363992046747", 
        "ODE states Flux [mM/ms]:  [  1.87919016e-06  -1.10429460e-05]", 
        "ODE states Flux [uM/ms]:  [ 0.00187919 -0.01104295]", 
        "WARNING: jSR and dCa are lumped tother into jVold", 
        "WARNING: I probably need to constrain jvolExpr s.t. the assembled value is equal to the ODE value", 
        "jboundary [mM/ms] 8.46173039559e-05", 
        "jboundary [uM/ms] 0.0846173039559", 
        "jvol [mM/ms]  -8.28233545042e-05", 
        "jvol [uM/ms]  -82.8233545042", 
        "##", 
        "## WARNING: we are not updating CaTnC!!!", 
        "##", 
        "T 3430.000000 [ms] Conc(0) 0.000361 [mM]"
       ]
      }, 
      {
       "output_type": "stream", 
       "stream": "stdout", 
       "text": [
        "", 
        "T 3430.000000 [ms] Conc(0) 0.361235 [uM]", 
        "T 3430.000000 [ms] Conc(1) 0.032466 [mM]", 
        "T 3430.000000 [ms] Conc(1) 32.466334 [uM]", 
        "WARNING: skipping conc updatee", 
        "###########################################################################", 
        "t0  3430.0 tf  3440.0", 
        "ODE Init [mM] [ 0.00036399  0.02627766]", 
        "t0 3430.000000 tf 3440.000000 [ms]", 
        "ODE statesF: [mM] "
       ]
      }, 
      {
       "output_type": "stream", 
       "stream": "stdout", 
       "text": [
        " [ 0.00040937  0.02657802]", 
        "ODE statesF: [uM]  0.40937238326", 
        "ODE states Flux [mM/ms]:  [  4.53803365e-06   3.00358608e-05]", 
        "ODE states Flux [uM/ms]:  [ 0.00453803  0.03003586]", 
        "WARNING: jSR and dCa are lumped tother into jVold", 
        "WARNING: I probably need to constrain jvolExpr s.t. the assembled value is equal to the ODE value", 
        "jboundary [mM/ms] 0.000160942149251", 
        "jboundary [uM/ms] 0.160942149251", 
        "jvol [mM/ms]  -0.000156583879737", 
        "jvol [uM/ms]  -156.583879737", 
        "##", 
        "## WARNING: we are not updating CaTnC!!!", 
        "##", 
        "T 3440.000000 [ms] Conc(0) 0.000405 [mM]"
       ]
      }, 
      {
       "output_type": "stream", 
       "stream": "stdout", 
       "text": [
        "", 
        "T 3440.000000 [ms] Conc(0) 0.404818 [uM]", 
        "T 3440.000000 [ms] Conc(1) 0.032466 [mM]", 
        "T 3440.000000 [ms] Conc(1) 32.466334 [uM]", 
        "WARNING: skipping conc updatee", 
        "###########################################################################", 
        "t0  3440.0 tf  3450.0", 
        "ODE Init [mM] [ 0.00040937  0.02657802]", 
        "t0 3440.000000 tf 3450.000000 [ms]", 
        "ODE statesF: [mM] "
       ]
      }, 
      {
       "output_type": "stream", 
       "stream": "stdout", 
       "text": [
        " [ 0.00048874  0.02757102]", 
        "ODE statesF: [uM]  0.488736575741", 
        "ODE states Flux [mM/ms]:  [  7.93641925e-06   9.92998568e-05]", 
        "ODE states Flux [uM/ms]:  [ 0.00793642  0.09929986]", 
        "WARNING: jSR and dCa are lumped tother into jVold", 
        "WARNING: I probably need to constrain jvolExpr s.t. the assembled value is equal to the ODE value", 
        "jboundary [mM/ms] 0.000291162077975", 
        "jboundary [uM/ms] 0.291162077975", 
        "jvol [mM/ms]  -0.000283327432021", 
        "jvol [uM/ms]  -283.327432021", 
        "##", 
        "## WARNING: we are not updating CaTnC!!!", 
        "##", 
        "T 3450.000000 [ms] Conc(0) 0.000483 [mM]"
       ]
      }, 
      {
       "output_type": "stream", 
       "stream": "stdout", 
       "text": [
        "", 
        "T 3450.000000 [ms] Conc(0) 0.483164 [uM]", 
        "T 3450.000000 [ms] Conc(1) 0.032466 [mM]", 
        "T 3450.000000 [ms] Conc(1) 32.466334 [uM]", 
        "WARNING: skipping conc updatee", 
        "###########################################################################", 
        "t0  3450.0 tf  3460.0", 
        "ODE Init [mM] [ 0.00048874  0.02757102]", 
        "t0 3450.000000 tf 3460.000000 [ms]", 
        "ODE statesF: [mM] "
       ]
      }, 
      {
       "output_type": "stream", 
       "stream": "stdout", 
       "text": [
        " [ 0.00056038  0.0291905 ]", 
        "ODE statesF: [uM]  0.560380331541", 
        "ODE states Flux [mM/ms]:  [  7.16437558e-06   1.61947936e-04]", 
        "ODE states Flux [uM/ms]:  [ 0.00716438  0.16194794]", 
        "WARNING: jSR and dCa are lumped tother into jVold", 
        "WARNING: I probably need to constrain jvolExpr s.t. the assembled value is equal to the ODE value", 
        "jboundary [mM/ms] 0.00039437480207", 
        "jboundary [uM/ms] 0.39437480207", 
        "jvol [mM/ms]  -0.00038706575307", 
        "jvol [uM/ms]  -387.06575307", 
        "##", 
        "## WARNING: we are not updating CaTnC!!!", 
        "##", 
        "T 3460.000000 [ms] Conc(0) 0.000556 [mM]"
       ]
      }, 
      {
       "output_type": "stream", 
       "stream": "stdout", 
       "text": [
        "", 
        "T 3460.000000 [ms] Conc(0) 0.556255 [uM]", 
        "T 3460.000000 [ms] Conc(1) 0.032466 [mM]", 
        "T 3460.000000 [ms] Conc(1) 32.466334 [uM]", 
        "WARNING: skipping conc updatee", 
        "###########################################################################", 
        "t0  3460.0 tf  3470.0", 
        "ODE Init [mM] [ 0.00056038  0.0291905 ]", 
        "t0 3460.000000 tf 3470.000000 [ms]", 
        "ODE statesF: [mM] "
       ]
      }, 
      {
       "output_type": "stream", 
       "stream": "stdout", 
       "text": [
        " [ 0.00059973  0.03090442]", 
        "ODE statesF: [uM]  0.59973023456", 
        "ODE states Flux [mM/ms]:  [  3.93499030e-06   1.71391948e-04]", 
        "ODE states Flux [uM/ms]:  [ 0.00393499  0.17139195]", 
        "WARNING: jSR and dCa are lumped tother into jVold", 
        "WARNING: I probably need to constrain jvolExpr s.t. the assembled value is equal to the ODE value", 
        "jboundary [mM/ms] 0.000390242098725", 
        "jboundary [uM/ms] 0.390242098725", 
        "jvol [mM/ms]  -0.000386160069233", 
        "jvol [uM/ms]  -386.160069233", 
        "##", 
        "## WARNING: we are not updating CaTnC!!!", 
        "##", 
        "T 3470.000000 [ms] Conc(0) 0.000597 [mM]"
       ]
      }, 
      {
       "output_type": "stream", 
       "stream": "stdout", 
       "text": [
        "", 
        "T 3470.000000 [ms] Conc(0) 0.597075 [uM]", 
        "T 3470.000000 [ms] Conc(1) 0.032466 [mM]", 
        "T 3470.000000 [ms] Conc(1) 32.466334 [uM]", 
        "WARNING: skipping conc updatee", 
        "###########################################################################", 
        "t0  3470.0 tf  3480.0", 
        "ODE Init [mM] [ 0.00059973  0.03090442]", 
        "t0 3470.000000 tf 3480.000000 [ms]", 
        "ODE statesF: [mM] "
       ]
      }, 
      {
       "output_type": "stream", 
       "stream": "stdout", 
       "text": [
        " [ 0.00061645  0.03234206]", 
        "ODE statesF: [uM]  0.616448853445", 
        "ODE states Flux [mM/ms]:  [  1.67186189e-06   1.43764285e-04]", 
        "ODE states Flux [uM/ms]:  [ 0.00167186  0.14376428]", 
        "WARNING: jSR and dCa are lumped tother into jVold", 
        "WARNING: I probably need to constrain jvolExpr s.t. the assembled value is equal to the ODE value", 
        "jboundary [mM/ms] 0.00033222101999", 
        "jboundary [uM/ms] 0.33222101999", 
        "jvol [mM/ms]  -0.000330465044172", 
        "jvol [uM/ms]  -330.465044172", 
        "##", 
        "## WARNING: we are not updating CaTnC!!!", 
        "##", 
        "T 3480.000000 [ms] Conc(0) 0.000615 [mM]"
       ]
      }, 
      {
       "output_type": "stream", 
       "stream": "stdout", 
       "text": [
        "", 
        "T 3480.000000 [ms] Conc(0) 0.614635 [uM]", 
        "T 3480.000000 [ms] Conc(1) 0.032466 [mM]", 
        "T 3480.000000 [ms] Conc(1) 32.466334 [uM]", 
        "WARNING: skipping conc updatee", 
        "###########################################################################", 
        "t0  3480.0 tf  3490.0", 
        "ODE Init [mM] [ 0.00061645  0.03234206]", 
        "t0 3480.000000 tf 3490.000000 [ms]", 
        "ODE statesF: [mM] "
       ]
      }, 
      {
       "output_type": "stream", 
       "stream": "stdout", 
       "text": [
        " [ 0.00062061  0.03340488]", 
        "ODE statesF: [uM]  0.620612144554", 
        "ODE states Flux [mM/ms]:  [  4.16329111e-07   1.06281281e-04]", 
        "ODE states Flux [uM/ms]:  [ 0.00041633  0.10628128]", 
        "WARNING: jSR and dCa are lumped tother into jVold", 
        "WARNING: I probably need to constrain jvolExpr s.t. the assembled value is equal to the ODE value", 
        "jboundary [mM/ms] 0.0002705565529", 
        "jboundary [uM/ms] 0.2705565529", 
        "jvol [mM/ms]  -0.000270093297447", 
        "jvol [uM/ms]  -270.093297447", 
        "##", 
        "## WARNING: we are not updating CaTnC!!!", 
        "##", 
        "T 3490.000000 [ms] Conc(0) 0.000619 [mM]"
       ]
      }, 
      {
       "output_type": "stream", 
       "stream": "stdout", 
       "text": [
        "", 
        "T 3490.000000 [ms] Conc(0) 0.619267 [uM]", 
        "T 3490.000000 [ms] Conc(1) 0.032466 [mM]", 
        "T 3490.000000 [ms] Conc(1) 32.466334 [uM]", 
        "WARNING: skipping conc updatee", 
        "###########################################################################", 
        "t0  3490.0 tf  3500.0", 
        "ODE Init [mM] [ 0.00062061  0.03340488]", 
        "t0 3490.000000 tf 3500.000000 [ms]", 
        "ODE statesF: [mM] "
       ]
      }, 
      {
       "output_type": "stream", 
       "stream": "stdout", 
       "text": [
        " [ 0.00061751  0.03411837]", 
        "ODE statesF: [uM]  0.617509875992", 
        "ODE states Flux [mM/ms]:  [ -3.10226856e-07   7.13494272e-05]", 
        "ODE states Flux [uM/ms]:  [-0.00031023  0.07134943]", 
        "WARNING: jSR and dCa are lumped tother into jVold", 
        "WARNING: I probably need to constrain jvolExpr s.t. the assembled value is equal to the ODE value", 
        "jboundary [mM/ms] 0.000219337869439", 
        "jboundary [uM/ms] 0.219337869439", 
        "jvol [mM/ms]  -0.000219619703332", 
        "jvol [uM/ms]  -219.619703332", 
        "##", 
        "## WARNING: we are not updating CaTnC!!!", 
        "##", 
        "T 3500.000000 [ms] Conc(0) 0.000616 [mM]"
       ]
      }, 
      {
       "output_type": "stream", 
       "stream": "stdout", 
       "text": [
        "", 
        "T 3500.000000 [ms] Conc(0) 0.616449 [uM]", 
        "T 3500.000000 [ms] Conc(1) 0.032466 [mM]", 
        "T 3500.000000 [ms] Conc(1) 32.466334 [uM]", 
        "WARNING: skipping conc updatee", 
        "###########################################################################", 
        "t0  3500.0 tf  3510.0", 
        "ODE Init [mM] [ 0.00061751  0.03411837]", 
        "t0 3500.000000 tf 3510.000000 [ms]", 
        "ODE statesF: [mM] "
       ]
      }, 
      {
       "output_type": "stream", 
       "stream": "stdout", 
       "text": [
        " [ 0.00060986  0.03454265]", 
        "ODE statesF: [uM]  0.609857109717", 
        "ODE states Flux [mM/ms]:  [ -7.65276627e-07   4.24282905e-05]", 
        "ODE states Flux [uM/ms]:  [-0.00076528  0.04242829]", 
        "WARNING: jSR and dCa are lumped tother into jVold", 
        "WARNING: I probably need to constrain jvolExpr s.t. the assembled value is equal to the ODE value", 
        "jboundary [mM/ms] 0.00017932608603", 
        "jboundary [uM/ms] 0.17932608603", 
        "jvol [mM/ms]  -0.000180073019759", 
        "jvol [uM/ms]  -180.073019759", 
        "##", 
        "## WARNING: we are not updating CaTnC!!!", 
        "##", 
        "T 3510.000000 [ms] Conc(0) 0.000609 [mM]"
       ]
      }, 
      {
       "output_type": "stream", 
       "stream": "stdout", 
       "text": [
        "", 
        "T 3510.000000 [ms] Conc(0) 0.608980 [uM]", 
        "T 3510.000000 [ms] Conc(1) 0.032466 [mM]", 
        "T 3510.000000 [ms] Conc(1) 32.466334 [uM]", 
        "WARNING: skipping conc updatee", 
        "###########################################################################", 
        "t0  3510.0 tf  3520.0", 
        "ODE Init [mM] [ 0.00060986  0.03454265]", 
        "t0 3510.000000 tf 3520.000000 [ms]", 
        "ODE statesF: [mM] "
       ]
      }, 
      {
       "output_type": "stream", 
       "stream": "stdout", 
       "text": [
        " [ 0.00059922  0.03473884]", 
        "ODE statesF: [uM]  0.599221935033", 
        "ODE states Flux [mM/ms]:  [ -1.06351747e-06   1.96192055e-05]", 
        "ODE states Flux [uM/ms]:  [-0.00106352  0.01961921]", 
        "WARNING: jSR and dCa are lumped tother into jVold", 
        "WARNING: I probably need to constrain jvolExpr s.t. the assembled value is equal to the ODE value", 
        "jboundary [mM/ms] 0.000148511919611", 
        "jboundary [uM/ms] 0.148511919611", 
        "jvol [mM/ms]  -0.000149563322256", 
        "jvol [uM/ms]  -149.563322256", 
        "##", 
        "## WARNING: we are not updating CaTnC!!!", 
        "##", 
        "T 3520.000000 [ms] Conc(0) 0.000598 [mM]"
       ]
      }, 
      {
       "output_type": "stream", 
       "stream": "stdout", 
       "text": [
        "", 
        "T 3520.000000 [ms] Conc(0) 0.598466 [uM]", 
        "T 3520.000000 [ms] Conc(1) 0.032466 [mM]", 
        "T 3520.000000 [ms] Conc(1) 32.466334 [uM]", 
        "WARNING: skipping conc updatee", 
        "###########################################################################", 
        "t0  3520.0 tf  3530.0", 
        "ODE Init [mM] [ 0.00059922  0.03473884]", 
        "t0 3520.000000 tf 3530.000000 [ms]", 
        "ODE statesF: [mM] "
       ]
      }, 
      {
       "output_type": "stream", 
       "stream": "stdout", 
       "text": [
        " [ 0.00058663  0.03475925]", 
        "ODE statesF: [uM]  0.586629884748", 
        "ODE states Flux [mM/ms]:  [ -1.25920503e-06   2.04080900e-06]", 
        "ODE states Flux [uM/ms]:  [-0.00125921  0.00204081]", 
        "WARNING: jSR and dCa are lumped tother into jVold", 
        "WARNING: I probably need to constrain jvolExpr s.t. the assembled value is equal to the ODE value", 
        "jboundary [mM/ms] 0.000124800239505", 
        "jboundary [uM/ms] 0.124800239505", 
        "jvol [mM/ms]  -0.000126051607658", 
        "jvol [uM/ms]  -126.051607658", 
        "##", 
        "## WARNING: we are not updating CaTnC!!!", 
        "##", 
        "T 3530.000000 [ms] Conc(0) 0.000586 [mM]"
       ]
      }, 
      {
       "output_type": "stream", 
       "stream": "stdout", 
       "text": [
        "", 
        "T 3530.000000 [ms] Conc(0) 0.585952 [uM]", 
        "T 3530.000000 [ms] Conc(1) 0.032466 [mM]", 
        "T 3530.000000 [ms] Conc(1) 32.466334 [uM]", 
        "WARNING: skipping conc updatee", 
        "###########################################################################", 
        "t0  3530.0 tf  3540.0", 
        "ODE Init [mM] [ 0.00058663  0.03475925]", 
        "t0 3530.000000 tf 3540.000000 [ms]", 
        "ODE statesF: [mM] "
       ]
      }, 
      {
       "output_type": "stream", 
       "stream": "stdout", 
       "text": [
        " [ 0.00057281  0.03464593]", 
        "ODE statesF: [uM]  0.572805225899", 
        "ODE states Flux [mM/ms]:  [ -1.38246588e-06  -1.13319778e-05]", 
        "ODE states Flux [uM/ms]:  [-0.00138247 -0.01133198]", 
        "WARNING: jSR and dCa are lumped tother into jVold", 
        "WARNING: I probably need to constrain jvolExpr s.t. the assembled value is equal to the ODE value", 
        "jboundary [mM/ms] 0.000106490286354", 
        "jboundary [uM/ms] 0.106490286354", 
        "jvol [mM/ms]  -0.000107868000575", 
        "jvol [uM/ms]  -107.868000575", 
        "##", 
        "## WARNING: we are not updating CaTnC!!!", 
        "##", 
        "T 3540.000000 [ms] Conc(0) 0.000572 [mM]"
       ]
      }, 
      {
       "output_type": "stream", 
       "stream": "stdout", 
       "text": [
        "", 
        "T 3540.000000 [ms] Conc(0) 0.572175 [uM]", 
        "T 3540.000000 [ms] Conc(1) 0.032466 [mM]", 
        "T 3540.000000 [ms] Conc(1) 32.466334 [uM]", 
        "WARNING: skipping conc updatee", 
        "###########################################################################", 
        "t0  3540.0 tf  3550.0", 
        "ODE Init [mM] [ 0.00057281  0.03464593]", 
        "t0 3540.000000 tf 3550.000000 [ms]", 
        "ODE statesF: [mM] "
       ]
      }, 
      {
       "output_type": "stream", 
       "stream": "stdout", 
       "text": [
        " [ 0.00055827  0.03443183]", 
        "ODE statesF: [uM]  0.558274166531", 
        "ODE states Flux [mM/ms]:  [ -1.45310594e-06  -2.14107625e-05]", 
        "ODE states Flux [uM/ms]:  [-0.00145311 -0.02141076]", 
        "WARNING: jSR and dCa are lumped tother into jVold", 
        "WARNING: I probably need to constrain jvolExpr s.t. the assembled value is equal to the ODE value", 
        "jboundary [mM/ms] 9.22711541057e-05", 
        "jboundary [uM/ms] 0.0922711541057", 
        "jvol [mM/ms]  -9.3721754172e-05", 
        "jvol [uM/ms]  -93.721754172", 
        "##", 
        "## WARNING: we are not updating CaTnC!!!", 
        "##", 
        "T 3550.000000 [ms] Conc(0) 0.000558 [mM]"
       ]
      }, 
      {
       "output_type": "stream", 
       "stream": "stdout", 
       "text": [
        "", 
        "T 3550.000000 [ms] Conc(0) 0.557669 [uM]", 
        "T 3550.000000 [ms] Conc(1) 0.032466 [mM]", 
        "T 3550.000000 [ms] Conc(1) 32.466334 [uM]", 
        "WARNING: skipping conc updatee", 
        "###########################################################################", 
        "t0  3550.0 tf  3560.0", 
        "ODE Init [mM] [ 0.00055827  0.03443183]", 
        "t0 3550.000000 tf 3560.000000 [ms]", 
        "ODE statesF: [mM] "
       ]
      }, 
      {
       "output_type": "stream", 
       "stream": "stdout", 
       "text": [
        " [ 0.00054342  0.03414242]", 
        "ODE statesF: [uM]  0.543417469234", 
        "ODE states Flux [mM/ms]:  [ -1.48566973e-06  -2.89408865e-05]", 
        "ODE states Flux [uM/ms]:  [-0.00148567 -0.02894089]", 
        "WARNING: jSR and dCa are lumped tother into jVold", 
        "WARNING: I probably need to constrain jvolExpr s.t. the assembled value is equal to the ODE value", 
        "jboundary [mM/ms] 8.11408127935e-05", 
        "jboundary [uM/ms] 0.0811408127935", 
        "jvol [mM/ms]  -8.26255859288e-05", 
        "jvol [uM/ms]  -82.6255859288", 
        "##", 
        "## WARNING: we are not updating CaTnC!!!", 
        "##", 
        "T 3560.000000 [ms] Conc(0) 0.000543 [mM]"
       ]
      }, 
      {
       "output_type": "stream", 
       "stream": "stdout", 
       "text": [
        "", 
        "T 3560.000000 [ms] Conc(0) 0.542821 [uM]", 
        "T 3560.000000 [ms] Conc(1) 0.032466 [mM]", 
        "T 3560.000000 [ms] Conc(1) 32.466334 [uM]", 
        "WARNING: skipping conc updatee", 
        "###########################################################################", 
        "t0  3560.0 tf  3570.0", 
        "ODE Init [mM] [ 0.00054342  0.03414242]", 
        "t0 3560.000000 tf 3570.000000 [ms]", 
        "ODE statesF: [mM] "
       ]
      }, 
      {
       "output_type": "stream", 
       "stream": "stdout", 
       "text": [
        " [ 0.0005285   0.03379728]", 
        "ODE statesF: [uM]  0.52850343575", 
        "ODE states Flux [mM/ms]:  [ -1.49140335e-06  -3.45135844e-05]", 
        "ODE states Flux [uM/ms]:  [-0.0014914  -0.03451358]", 
        "WARNING: jSR and dCa are lumped tother into jVold", 
        "WARNING: I probably need to constrain jvolExpr s.t. the assembled value is equal to the ODE value", 
        "jboundary [mM/ms] 7.23306632708e-05", 
        "jboundary [uM/ms] 0.0723306632708", 
        "jvol [mM/ms]  -7.3822279687e-05", 
        "jvol [uM/ms]  -73.822279687", 
        "##", 
        "## WARNING: we are not updating CaTnC!!!", 
        "##", 
        "T 3570.000000 [ms] Conc(0) 0.000528 [mM]"
       ]
      }, 
      {
       "output_type": "stream", 
       "stream": "stdout", 
       "text": [
        "", 
        "T 3570.000000 [ms] Conc(0) 0.527905 [uM]", 
        "T 3570.000000 [ms] Conc(1) 0.032466 [mM]", 
        "T 3570.000000 [ms] Conc(1) 32.466334 [uM]", 
        "WARNING: skipping conc updatee", 
        "###########################################################################", 
        "t0  3570.0 tf  3580.0", 
        "ODE Init [mM] [ 0.0005285   0.03379728]", 
        "t0 3570.000000 tf 3580.000000 [ms]", 
        "ODE statesF: [mM] "
       ]
      }, 
      {
       "output_type": "stream", 
       "stream": "stdout", 
       "text": [
        " [ 0.00051371  0.03341134]", 
        "ODE statesF: [uM]  0.513711447054", 
        "ODE states Flux [mM/ms]:  [ -1.47919887e-06  -3.85939582e-05]", 
        "ODE states Flux [uM/ms]:  [-0.0014792  -0.03859396]", 
        "WARNING: jSR and dCa are lumped tother into jVold", 
        "WARNING: I probably need to constrain jvolExpr s.t. the assembled value is equal to the ODE value", 
        "jboundary [mM/ms] 6.52457193059e-05", 
        "jboundary [uM/ms] 0.0652457193059", 
        "jvol [mM/ms]  -6.67258424732e-05", 
        "jvol [uM/ms]  -66.7258424732", 
        "##", 
        "## WARNING: we are not updating CaTnC!!!", 
        "##", 
        "T 3580.000000 [ms] Conc(0) 0.000513 [mM]"
       ]
      }, 
      {
       "output_type": "stream", 
       "stream": "stdout", 
       "text": [
        "", 
        "T 3580.000000 [ms] Conc(0) 0.513104 [uM]", 
        "T 3580.000000 [ms] Conc(1) 0.032466 [mM]", 
        "T 3580.000000 [ms] Conc(1) 32.466334 [uM]", 
        "WARNING: skipping conc updatee", 
        "###########################################################################", 
        "t0  3580.0 tf  3590.0", 
        "ODE Init [mM] [ 0.00051371  0.03341134]", 
        "t0 3580.000000 tf 3590.000000 [ms]", 
        "ODE statesF: [mM] "
       ]
      }, 
      {
       "output_type": "stream", 
       "stream": "stdout", 
       "text": [
        " [ 0.00049915  0.03299584]", 
        "ODE statesF: [uM]  0.499148941549", 
        "ODE states Flux [mM/ms]:  [ -1.45625055e-06  -4.15500253e-05]", 
        "ODE states Flux [uM/ms]:  [-0.00145625 -0.04155003]", 
        "WARNING: jSR and dCa are lumped tother into jVold", 
        "WARNING: I probably need to constrain jvolExpr s.t. the assembled value is equal to the ODE value", 
        "jboundary [mM/ms] 5.94174055953e-05", 
        "jboundary [uM/ms] 0.0594174055953", 
        "jvol [mM/ms]  -6.08749636696e-05", 
        "jvol [uM/ms]  -60.8749636696", 
        "##", 
        "## WARNING: we are not updating CaTnC!!!", 
        "##", 
        "T 3590.000000 [ms] Conc(0) 0.000499 [mM]"
       ]
      }, 
      {
       "output_type": "stream", 
       "stream": "stdout", 
       "text": [
        "", 
        "T 3590.000000 [ms] Conc(0) 0.498528 [uM]", 
        "T 3590.000000 [ms] Conc(1) 0.032466 [mM]", 
        "T 3590.000000 [ms] Conc(1) 32.466334 [uM]", 
        "WARNING: skipping conc updatee", 
        "###########################################################################", 
        "t0  3590.0 tf  3600.0", 
        "ODE Init [mM] [ 0.00049915  0.03299584]", 
        "t0 3590.000000 tf 3600.000000 [ms]", 
        "ODE statesF: [mM] "
       ]
      }, 
      {
       "output_type": "stream", 
       "stream": "stdout", 
       "text": [
        " [ 0.00048486  0.03255905]", 
        "ODE statesF: [uM]  0.484862400064", 
        "ODE states Flux [mM/ms]:  [ -1.42865415e-06  -4.36787287e-05]", 
        "ODE states Flux [uM/ms]:  [-0.00142865 -0.04367873]", 
        "WARNING: jSR and dCa are lumped tother into jVold", 
        "WARNING: I probably need to constrain jvolExpr s.t. the assembled value is equal to the ODE value", 
        "jboundary [mM/ms] 5.44646124804e-05", 
        "jboundary [uM/ms] 0.0544646124804", 
        "jvol [mM/ms]  -5.58946692719e-05", 
        "jvol [uM/ms]  -55.8946692719", 
        "##", 
        "## WARNING: we are not updating CaTnC!!!", 
        "##", 
        "T 3600.000000 [ms] Conc(0) 0.000484 [mM]"
       ]
      }, 
      {
       "output_type": "stream", 
       "stream": "stdout", 
       "text": [
        "", 
        "T 3600.000000 [ms] Conc(0) 0.484228 [uM]", 
        "T 3600.000000 [ms] Conc(1) 0.032466 [mM]", 
        "T 3600.000000 [ms] Conc(1) 32.466334 [uM]", 
        "WARNING: skipping conc updatee", 
        "###########################################################################", 
        "t0  3600.0 tf  3610.0", 
        "ODE Init [mM] [ 0.00048486  0.03255905]", 
        "t0 3600.000000 tf 3610.000000 [ms]", 
        "ODE statesF: [mM] "
       ]
      }, 
      {
       "output_type": "stream", 
       "stream": "stdout", 
       "text": [
        " [ 0.00047084  0.03210676]", 
        "ODE statesF: [uM]  0.470841802596", 
        "ODE states Flux [mM/ms]:  [ -1.40205975e-06  -4.52292325e-05]", 
        "ODE states Flux [uM/ms]:  [-0.00140206 -0.04522923]", 
        "WARNING: jSR and dCa are lumped tother into jVold", 
        "WARNING: I probably need to constrain jvolExpr s.t. the assembled value is equal to the ODE value", 
        "jboundary [mM/ms] 5.00585995095e-05", 
        "jboundary [uM/ms] 0.0500585995095", 
        "jvol [mM/ms]  -5.14618733497e-05", 
        "jvol [uM/ms]  -51.4618733497", 
        "##", 
        "## WARNING: we are not updating CaTnC!!!", 
        "##", 
        "T 3610.000000 [ms] Conc(0) 0.000470 [mM]"
       ]
      }, 
      {
       "output_type": "stream", 
       "stream": "stdout", 
       "text": [
        "", 
        "T 3610.000000 [ms] Conc(0) 0.470195 [uM]", 
        "T 3610.000000 [ms] Conc(1) 0.032466 [mM]", 
        "T 3610.000000 [ms] Conc(1) 32.466334 [uM]", 
        "WARNING: skipping conc updatee", 
        "###########################################################################", 
        "t0  3610.0 tf  3620.0", 
        "ODE Init [mM] [ 0.00047084  0.03210676]", 
        "t0 3610.000000 tf 3620.000000 [ms]", 
        "ODE statesF: [mM] "
       ]
      }, 
      {
       "output_type": "stream", 
       "stream": "stdout", 
       "text": [
        " [ 0.00045702  0.0316425 ]", 
        "ODE statesF: [uM]  0.457017009351", 
        "ODE states Flux [mM/ms]:  [ -1.38247932e-06  -4.64257375e-05]", 
        "ODE states Flux [uM/ms]:  [-0.00138248 -0.04642574]", 
        "WARNING: jSR and dCa are lumped tother into jVold", 
        "WARNING: I probably need to constrain jvolExpr s.t. the assembled value is equal to the ODE value", 
        "jboundary [mM/ms] 4.58867311785e-05", 
        "jboundary [uM/ms] 0.0458867311785", 
        "jvol [mM/ms]  -4.72699114666e-05", 
        "jvol [uM/ms]  -47.2699114666", 
        "##", 
        "## WARNING: we are not updating CaTnC!!!", 
        "##", 
        "T 3620.000000 [ms] Conc(0) 0.000456 [mM]"
       ]
      }, 
      {
       "output_type": "stream", 
       "stream": "stdout", 
       "text": [
        "", 
        "T 3620.000000 [ms] Conc(0) 0.456363 [uM]", 
        "T 3620.000000 [ms] Conc(1) 0.032466 [mM]", 
        "T 3620.000000 [ms] Conc(1) 32.466334 [uM]", 
        "WARNING: skipping conc updatee", 
        "###########################################################################", 
        "t0  3620.0 tf  3630.0", 
        "ODE Init [mM] [ 0.00045702  0.0316425 ]", 
        "t0 3620.000000 tf 3630.000000 [ms]", 
        "ODE statesF: [mM] "
       ]
      }, 
      {
       "output_type": "stream", 
       "stream": "stdout", 
       "text": [
        " [ 0.00044324  0.03116758]", 
        "ODE statesF: [uM]  0.443244576377", 
        "ODE states Flux [mM/ms]:  [ -1.37724330e-06  -4.74926328e-05]", 
        "ODE states Flux [uM/ms]:  [-0.00137724 -0.04749263]", 
        "WARNING: jSR and dCa are lumped tother into jVold", 
        "WARNING: I probably need to constrain jvolExpr s.t. the assembled value is equal to the ODE value", 
        "jboundary [mM/ms] 4.16097058846e-05", 
        "jboundary [uM/ms] 0.0416097058846", 
        "jvol [mM/ms]  -4.29867268994e-05", 
        "jvol [uM/ms]  -42.9867268994", 
        "##", 
        "## WARNING: we are not updating CaTnC!!!", 
        "##", 
        "T 3630.000000 [ms] Conc(0) 0.000443 [mM]"
       ]
      }, 
      {
       "output_type": "stream", 
       "stream": "stdout", 
       "text": [
        "", 
        "T 3630.000000 [ms] Conc(0) 0.442593 [uM]", 
        "T 3630.000000 [ms] Conc(1) 0.032466 [mM]", 
        "T 3630.000000 [ms] Conc(1) 32.466334 [uM]", 
        "WARNING: skipping conc updatee", 
        "###########################################################################", 
        "t0  3630.0 tf  3640.0", 
        "ODE Init [mM] [ 0.00044324  0.03116758]", 
        "t0 3630.000000 tf 3640.000000 [ms]", 
        "ODE statesF: [mM] "
       ]
      }, 
      {
       "output_type": "stream", 
       "stream": "stdout", 
       "text": [
        " [ 0.00042929  0.03068078]", 
        "ODE statesF: [uM]  0.429294393115", 
        "ODE states Flux [mM/ms]:  [ -1.39501833e-06  -4.86801294e-05]", 
        "ODE states Flux [uM/ms]:  [-0.00139502 -0.04868013]", 
        "WARNING: jSR and dCa are lumped tother into jVold", 
        "WARNING: I probably need to constrain jvolExpr s.t. the assembled value is equal to the ODE value", 
        "jboundary [mM/ms] 3.68176341337e-05", 
        "jboundary [uM/ms] 0.0368176341337", 
        "jvol [mM/ms]  -3.82110940312e-05", 
        "jvol [uM/ms]  -38.2110940312", 
        "##", 
        "## WARNING: we are not updating CaTnC!!!", 
        "##", 
        "T 3640.000000 [ms] Conc(0) 0.000429 [mM]"
       ]
      }, 
      {
       "output_type": "stream", 
       "stream": "stdout", 
       "text": [
        "", 
        "T 3640.000000 [ms] Conc(0) 0.428658 [uM]", 
        "T 3640.000000 [ms] Conc(1) 0.032466 [mM]", 
        "T 3640.000000 [ms] Conc(1) 32.466334 [uM]", 
        "WARNING: skipping conc updatee", 
        "###########################################################################", 
        "t0  3640.0 tf  3650.0", 
        "ODE Init [mM] [ 0.00042929  0.03068078]", 
        "t0 3640.000000 tf 3650.000000 [ms]", 
        "ODE statesF: [mM] "
       ]
      }, 
      {
       "output_type": "stream", 
       "stream": "stdout", 
       "text": [
        " [ 0.00041491  0.03017825]", 
        "ODE statesF: [uM]  0.414907431718", 
        "ODE states Flux [mM/ms]:  [ -1.43869614e-06  -5.02528391e-05]", 
        "ODE states Flux [uM/ms]:  [-0.0014387  -0.05025284]", 
        "WARNING: jSR and dCa are lumped tother into jVold", 
        "WARNING: I probably need to constrain jvolExpr s.t. the assembled value is equal to the ODE value", 
        "jboundary [mM/ms] 3.10666268083e-05", 
        "jboundary [uM/ms] 0.0310666268083", 
        "jvol [mM/ms]  -3.25027371203e-05", 
        "jvol [uM/ms]  -32.5027371203", 
        "##", 
        "## WARNING: we are not updating CaTnC!!!", 
        "##", 
        "T 3650.000000 [ms] Conc(0) 0.000414 [mM]"
       ]
      }, 
      {
       "output_type": "stream", 
       "stream": "stdout", 
       "text": [
        "", 
        "T 3650.000000 [ms] Conc(0) 0.414297 [uM]", 
        "T 3650.000000 [ms] Conc(1) 0.032466 [mM]", 
        "T 3650.000000 [ms] Conc(1) 32.466334 [uM]", 
        "WARNING: skipping conc updatee", 
        "###########################################################################", 
        "t0  3650.0 tf  3660.0", 
        "ODE Init [mM] [ 0.00041491  0.03017825]", 
        "t0 3650.000000 tf 3660.000000 [ms]", 
        "ODE statesF: [mM] "
       ]
      }, 
      {
       "output_type": "stream", 
       "stream": "stdout", 
       "text": [
        " [ 0.00040005  0.02965509]", 
        "ODE statesF: [uM]  0.400053609916", 
        "ODE states Flux [mM/ms]:  [ -1.48538218e-06  -5.23158396e-05]", 
        "ODE states Flux [uM/ms]:  [-0.00148538 -0.05231584]", 
        "WARNING: jSR and dCa are lumped tother into jVold", 
        "WARNING: I probably need to constrain jvolExpr s.t. the assembled value is equal to the ODE value", 
        "jboundary [mM/ms] 2.42550530299e-05", 
        "jboundary [uM/ms] 0.0242550530299", 
        "jvol [mM/ms]  -2.57386102309e-05", 
        "jvol [uM/ms]  -25.7386102309", 
        "##", 
        "## WARNING: we are not updating CaTnC!!!", 
        "##", 
        "T 3660.000000 [ms] Conc(0) 0.000399 [mM]"
       ]
      }, 
      {
       "output_type": "stream", 
       "stream": "stdout", 
       "text": [
        "", 
        "T 3660.000000 [ms] Conc(0) 0.399462 [uM]", 
        "T 3660.000000 [ms] Conc(1) 0.032466 [mM]", 
        "T 3660.000000 [ms] Conc(1) 32.466334 [uM]", 
        "WARNING: skipping conc updatee", 
        "###########################################################################", 
        "t0  3660.0 tf  3670.0", 
        "ODE Init [mM] [ 0.00040005  0.02965509]", 
        "t0 3660.000000 tf 3670.000000 [ms]", 
        "ODE statesF: [mM] "
       ]
      }, 
      {
       "output_type": "stream", 
       "stream": "stdout", 
       "text": [
        " [ 0.00038475  0.02910816]", 
        "ODE statesF: [uM]  0.384745298434", 
        "ODE states Flux [mM/ms]:  [ -1.53083115e-06  -5.46929010e-05]", 
        "ODE states Flux [uM/ms]:  [-0.00153083 -0.0546929 ]", 
        "WARNING: jSR and dCa are lumped tother into jVold", 
        "WARNING: I probably need to constrain jvolExpr s.t. the assembled value is equal to the ODE value", 
        "jboundary [mM/ms] 1.68129180902e-05", 
        "jboundary [uM/ms] 0.0168129180902", 
        "jvol [mM/ms]  -1.83400467375e-05", 
        "jvol [uM/ms]  -18.3400467375", 
        "##", 
        "## WARNING: we are not updating CaTnC!!!", 
        "##", 
        "T 3670.000000 [ms] Conc(0) 0.000384 [mM]"
       ]
      }, 
      {
       "output_type": "stream", 
       "stream": "stdout", 
       "text": [
        "", 
        "T 3670.000000 [ms] Conc(0) 0.384190 [uM]", 
        "T 3670.000000 [ms] Conc(1) 0.032466 [mM]", 
        "T 3670.000000 [ms] Conc(1) 32.466334 [uM]", 
        "WARNING: skipping conc updatee", 
        "###########################################################################", 
        "t0  3670.0 tf  3680.0", 
        "ODE Init [mM] [ 0.00038475  0.02910816]", 
        "t0 3670.000000 tf 3680.000000 [ms]", 
        "ODE statesF: [mM] "
       ]
      }, 
      {
       "output_type": "stream", 
       "stream": "stdout", 
       "text": [
        " [ 0.00036874  0.02853164]", 
        "ODE statesF: [uM]  0.368740427948", 
        "ODE states Flux [mM/ms]:  [ -1.60048705e-06  -5.76524979e-05]", 
        "ODE states Flux [uM/ms]:  [-0.00160049 -0.0576525 ]", 
        "WARNING: jSR and dCa are lumped tother into jVold", 
        "WARNING: I probably need to constrain jvolExpr s.t. the assembled value is equal to the ODE value", 
        "jboundary [mM/ms] 8.08736091439e-06", 
        "jboundary [uM/ms] 0.00808736091439", 
        "jvol [mM/ms]  -9.68771865857e-06", 
        "jvol [uM/ms]  -9.68771865857", 
        "##", 
        "## WARNING: we are not updating CaTnC!!!", 
        "##", 
        "T 3680.000000 [ms] Conc(0) 0.000368 [mM]"
       ]
      }, 
      {
       "output_type": "stream", 
       "stream": "stdout", 
       "text": [
        "", 
        "T 3680.000000 [ms] Conc(0) 0.368187 [uM]", 
        "T 3680.000000 [ms] Conc(1) 0.032466 [mM]", 
        "T 3680.000000 [ms] Conc(1) 32.466334 [uM]", 
        "WARNING: skipping conc updatee", 
        "###########################################################################", 
        "t0  3680.0 tf  3690.0", 
        "ODE Init [mM] [ 0.00036874  0.02853164]", 
        "t0 3680.000000 tf 3690.000000 [ms]", 
        "ODE statesF: [mM] "
       ]
      }, 
      {
       "output_type": "stream", 
       "stream": "stdout", 
       "text": [
        " [ 0.000354    0.02793127]", 
        "ODE statesF: [uM]  0.354001857209", 
        "ODE states Flux [mM/ms]:  [ -1.47385707e-06  -6.00366966e-05]", 
        "ODE states Flux [uM/ms]:  [-0.00147386 -0.0600367 ]", 
        "WARNING: jSR and dCa are lumped tother into jVold", 
        "WARNING: I probably need to constrain jvolExpr s.t. the assembled value is equal to the ODE value", 
        "jboundary [mM/ms] 7.54155760227e-07", 
        "jboundary [uM/ms] 0.000754155760227", 
        "jvol [mM/ms]  -2.23739410293e-06", 
        "jvol [uM/ms]  -2.23739410293", 
        "##", 
        "## WARNING: we are not updating CaTnC!!!", 
        "##", 
        "T 3690.000000 [ms] Conc(0) 0.000353 [mM]"
       ]
      }, 
      {
       "output_type": "stream", 
       "stream": "stdout", 
       "text": [
        "", 
        "T 3690.000000 [ms] Conc(0) 0.353354 [uM]", 
        "T 3690.000000 [ms] Conc(1) 0.032466 [mM]", 
        "T 3690.000000 [ms] Conc(1) 32.466334 [uM]", 
        "WARNING: skipping conc updatee", 
        "###########################################################################", 
        "t0  3690.0 tf  3700.0", 
        "ODE Init [mM] [ 0.000354    0.02793127]", 
        "t0 3690.000000 tf 3700.000000 [ms]", 
        "ODE statesF: [mM] "
       ]
      }, 
      {
       "output_type": "stream", 
       "stream": "stdout", 
       "text": [
        " [ 0.00034076  0.02732742]", 
        "ODE statesF: [uM]  0.34075544997", 
        "ODE states Flux [mM/ms]:  [ -1.32464072e-06  -6.03849403e-05]", 
        "ODE states Flux [uM/ms]:  [-0.00132464 -0.06038494]", 
        "WARNING: jSR and dCa are lumped tother into jVold", 
        "WARNING: I probably need to constrain jvolExpr s.t. the assembled value is equal to the ODE value", 
        "jboundary [mM/ms] -2.56509654941e-06", 
        "jboundary [uM/ms] -0.00256509654941", 
        "jvol [mM/ms]  1.23443883434e-06", 
        "jvol [uM/ms]  1.23443883434", 
        "##", 
        "## WARNING: we are not updating CaTnC!!!", 
        "##", 
        "T 3700.000000 [ms] Conc(0) 0.000340 [mM]"
       ]
      }, 
      {
       "output_type": "stream", 
       "stream": "stdout", 
       "text": [
        "", 
        "T 3700.000000 [ms] Conc(0) 0.340048 [uM]", 
        "T 3700.000000 [ms] Conc(1) 0.032466 [mM]", 
        "T 3700.000000 [ms] Conc(1) 32.466334 [uM]", 
        "WARNING: skipping conc updatee", 
        "###########################################################################", 
        "t0  3700.0 tf  3710.0", 
        "ODE Init [mM] [ 0.00034076  0.02732742]", 
        "t0 3700.000000 tf 3710.000000 [ms]", 
        "ODE statesF: [mM] "
       ]
      }, 
      {
       "output_type": "stream", 
       "stream": "stdout", 
       "text": [
        " [ 0.00033764  0.0267645 ]", 
        "ODE statesF: [uM]  0.337640408629", 
        "ODE states Flux [mM/ms]:  [ -3.11504134e-07  -5.62921922e-05]", 
        "ODE states Flux [uM/ms]:  [-0.0003115  -0.05629219]", 
        "WARNING: jSR and dCa are lumped tother into jVold", 
        "WARNING: I probably need to constrain jvolExpr s.t. the assembled value is equal to the ODE value", 
        "jboundary [mM/ms] 2.97756222506e-06", 
        "jboundary [uM/ms] 0.00297756222506", 
        "jvol [mM/ms]  -3.40933708723e-06", 
        "jvol [uM/ms]  -3.40933708723", 
        "##", 
        "## WARNING: we are not updating CaTnC!!!", 
        "##", 
        "T 3710.000000 [ms] Conc(0) 0.000336 [mM]"
       ]
      }, 
      {
       "output_type": "stream", 
       "stream": "stdout", 
       "text": [
        "", 
        "T 3710.000000 [ms] Conc(0) 0.335730 [uM]", 
        "T 3710.000000 [ms] Conc(1) 0.032466 [mM]", 
        "T 3710.000000 [ms] Conc(1) 32.466334 [uM]", 
        "WARNING: skipping conc updatee", 
        "###########################################################################", 
        "t0  3710.0 tf  3720.0", 
        "ODE Init [mM] [ 0.00033764  0.0267645 ]", 
        "t0 3710.000000 tf 3720.000000 [ms]", 
        "ODE statesF: [mM] "
       ]
      }, 
      {
       "output_type": "stream", 
       "stream": "stdout", 
       "text": [
        " [ 0.00034542  0.02640156]", 
        "ODE statesF: [uM]  0.345416446276", 
        "ODE states Flux [mM/ms]:  [  7.77603765e-07  -3.62935199e-05]", 
        "ODE states Flux [uM/ms]:  [ 0.0007776  -0.03629352]", 
        "WARNING: jSR and dCa are lumped tother into jVold", 
        "WARNING: I probably need to constrain jvolExpr s.t. the assembled value is equal to the ODE value", 
        "jboundary [mM/ms] 4.0887486245e-05", 
        "jboundary [uM/ms] 0.040887486245", 
        "jvol [mM/ms]  -4.01398905999e-05", 
        "jvol [uM/ms]  -40.1398905999", 
        "##", 
        "## WARNING: we are not updating CaTnC!!!", 
        "##", 
        "T 3720.000000 [ms] Conc(0) 0.000343 [mM]"
       ]
      }, 
      {
       "output_type": "stream", 
       "stream": "stdout", 
       "text": [
        "", 
        "T 3720.000000 [ms] Conc(0) 0.343206 [uM]", 
        "T 3720.000000 [ms] Conc(1) 0.032466 [mM]", 
        "T 3720.000000 [ms] Conc(1) 32.466334 [uM]", 
        "WARNING: skipping conc updatee", 
        "###########################################################################", 
        "t0  3720.0 tf  3730.0", 
        "ODE Init [mM] [ 0.00034542  0.02640156]", 
        "t0 3720.000000 tf 3730.000000 [ms]", 
        "ODE statesF: [mM] "
       ]
      }, 
      {
       "output_type": "stream", 
       "stream": "stdout", 
       "text": [
        " [ 0.00036447  0.02629149]", 
        "ODE statesF: [uM]  0.364469924852", 
        "ODE states Flux [mM/ms]:  [  1.90534786e-06  -1.10067160e-05]", 
        "ODE states Flux [uM/ms]:  [ 0.00190535 -0.01100672]", 
        "WARNING: jSR and dCa are lumped tother into jVold", 
        "WARNING: I probably need to constrain jvolExpr s.t. the assembled value is equal to the ODE value", 
        "jboundary [mM/ms] 8.50003010082e-05", 
        "jboundary [uM/ms] 0.0850003010082", 
        "jvol [mM/ms]  -8.31820081693e-05", 
        "jvol [uM/ms]  -83.1820081693", 
        "##", 
        "## WARNING: we are not updating CaTnC!!!", 
        "##", 
        "T 3730.000000 [ms] Conc(0) 0.000361 [mM]"
       ]
      }, 
      {
       "output_type": "stream", 
       "stream": "stdout", 
       "text": [
        "", 
        "T 3730.000000 [ms] Conc(0) 0.361389 [uM]", 
        "T 3730.000000 [ms] Conc(1) 0.032466 [mM]", 
        "T 3730.000000 [ms] Conc(1) 32.466334 [uM]", 
        "WARNING: skipping conc updatee", 
        "###########################################################################", 
        "t0  3730.0 tf  3740.0", 
        "ODE Init [mM] [ 0.00036447  0.02629149]", 
        "t0 3730.000000 tf 3740.000000 [ms]", 
        "ODE statesF: [mM] "
       ]
      }, 
      {
       "output_type": "stream", 
       "stream": "stdout", 
       "text": [
        " [ 0.0004108   0.02659891]", 
        "ODE statesF: [uM]  0.410795102268", 
        "ODE states Flux [mM/ms]:  [  4.63251774e-06   3.07413845e-05]", 
        "ODE states Flux [uM/ms]:  [ 0.00463252  0.03074138]", 
        "WARNING: jSR and dCa are lumped tother into jVold", 
        "WARNING: I probably need to constrain jvolExpr s.t. the assembled value is equal to the ODE value", 
        "jboundary [mM/ms] 0.000162679866847", 
        "jboundary [uM/ms] 0.162679866847", 
        "jvol [mM/ms]  -0.000158231889796", 
        "jvol [uM/ms]  -158.231889796", 
        "##", 
        "## WARNING: we are not updating CaTnC!!!", 
        "##", 
        "T 3740.000000 [ms] Conc(0) 0.000406 [mM]"
       ]
      }, 
      {
       "output_type": "stream", 
       "stream": "stdout", 
       "text": [
        "", 
        "T 3740.000000 [ms] Conc(0) 0.405869 [uM]", 
        "T 3740.000000 [ms] Conc(1) 0.032466 [mM]", 
        "T 3740.000000 [ms] Conc(1) 32.466334 [uM]", 
        "WARNING: skipping conc updatee", 
        "###########################################################################", 
        "t0  3740.0 tf  3750.0", 
        "ODE Init [mM] [ 0.0004108   0.02659891]", 
        "t0 3740.000000 tf 3750.000000 [ms]", 
        "ODE statesF: [mM] "
       ]
      }, 
      {
       "output_type": "stream", 
       "stream": "stdout", 
       "text": [
        " [ 0.00049158  0.02761215]", 
        "ODE statesF: [uM]  0.491583262668", 
        "ODE states Flux [mM/ms]:  [  8.07881604e-06   1.01324011e-04]", 
        "ODE states Flux [uM/ms]:  [ 0.00807882  0.10132401]", 
        "WARNING: jSR and dCa are lumped tother into jVold", 
        "WARNING: I probably need to constrain jvolExpr s.t. the assembled value is equal to the ODE value", 
        "jboundary [mM/ms] 0.000295403103077", 
        "jboundary [uM/ms] 0.295403103077", 
        "jvol [mM/ms]  -0.00028742381799", 
        "jvol [uM/ms]  -287.42381799", 
        "##", 
        "## WARNING: we are not updating CaTnC!!!", 
        "##", 
        "T 3750.000000 [ms] Conc(0) 0.000486 [mM]"
       ]
      }, 
      {
       "output_type": "stream", 
       "stream": "stdout", 
       "text": [
        "", 
        "T 3750.000000 [ms] Conc(0) 0.485661 [uM]", 
        "T 3750.000000 [ms] Conc(1) 0.032466 [mM]", 
        "T 3750.000000 [ms] Conc(1) 32.466334 [uM]", 
        "WARNING: skipping conc updatee", 
        "###########################################################################", 
        "t0  3750.0 tf  3760.0", 
        "ODE Init [mM] [ 0.00049158  0.02761215]", 
        "t0 3750.000000 tf 3760.000000 [ms]", 
        "ODE statesF: [mM] "
       ]
      }, 
      {
       "output_type": "stream", 
       "stream": "stdout", 
       "text": [
        " [ 0.00056353  0.02925412]", 
        "ODE statesF: [uM]  0.563527942738", 
        "ODE states Flux [mM/ms]:  [  7.19446801e-06   1.64196851e-04]", 
        "ODE states Flux [uM/ms]:  [ 0.00719447  0.16419685]", 
        "WARNING: jSR and dCa are lumped tother into jVold", 
        "WARNING: I probably need to constrain jvolExpr s.t. the assembled value is equal to the ODE value", 
        "jboundary [mM/ms] 0.000398462609501", 
        "jboundary [uM/ms] 0.398462609501", 
        "jvol [mM/ms]  -0.000391117763189", 
        "jvol [uM/ms]  -391.117763189", 
        "##", 
        "## WARNING: we are not updating CaTnC!!!", 
        "##", 
        "T 3760.000000 [ms] Conc(0) 0.000559 [mM]"
       ]
      }, 
      {
       "output_type": "stream", 
       "stream": "stdout", 
       "text": [
        "", 
        "T 3760.000000 [ms] Conc(0) 0.559110 [uM]", 
        "T 3760.000000 [ms] Conc(1) 0.032466 [mM]", 
        "T 3760.000000 [ms] Conc(1) 32.466334 [uM]", 
        "WARNING: skipping conc updatee", 
        "###########################################################################", 
        "t0  3760.0 tf  3770.0", 
        "ODE Init [mM] [ 0.00056353  0.02925412]", 
        "t0 3760.000000 tf 3770.000000 [ms]", 
        "ODE statesF: [mM] "
       ]
      }, 
      {
       "output_type": "stream", 
       "stream": "stdout", 
       "text": [
        " [ 0.00060261  0.03098015]", 
        "ODE statesF: [uM]  0.602606461579", 
        "ODE states Flux [mM/ms]:  [  3.90785188e-06   1.72602853e-04]", 
        "ODE states Flux [uM/ms]:  [ 0.00390785  0.17260285]", 
        "WARNING: jSR and dCa are lumped tother into jVold", 
        "WARNING: I probably need to constrain jvolExpr s.t. the assembled value is equal to the ODE value", 
        "jboundary [mM/ms] 0.000392100683034", 
        "jboundary [uM/ms] 0.392100683034", 
        "jvol [mM/ms]  -0.000388045109486", 
        "jvol [uM/ms]  -388.045109486", 
        "##", 
        "## WARNING: we are not updating CaTnC!!!", 
        "##", 
        "T 3770.000000 [ms] Conc(0) 0.000600 [mM]"
       ]
      }, 
      {
       "output_type": "stream", 
       "stream": "stdout", 
       "text": [
        "", 
        "T 3770.000000 [ms] Conc(0) 0.599666 [uM]", 
        "T 3770.000000 [ms] Conc(1) 0.032466 [mM]", 
        "T 3770.000000 [ms] Conc(1) 32.466334 [uM]", 
        "WARNING: skipping conc updatee", 
        "###########################################################################", 
        "t0  3770.0 tf  3780.0", 
        "ODE Init [mM] [ 0.00060261  0.03098015]", 
        "t0 3770.000000 tf 3780.000000 [ms]", 
        "ODE statesF: [mM] "
       ]
      }, 
      {
       "output_type": "stream", 
       "stream": "stdout", 
       "text": [
        " [ 0.00061908  0.03242131]", 
        "ODE statesF: [uM]  0.619077980122", 
        "ODE states Flux [mM/ms]:  [  1.64715185e-06   1.44116917e-04]", 
        "ODE states Flux [uM/ms]:  [ 0.00164715  0.14411692]", 
        "WARNING: jSR and dCa are lumped tother into jVold", 
        "WARNING: I probably need to constrain jvolExpr s.t. the assembled value is equal to the ODE value", 
        "jboundary [mM/ms] 0.000332764960379", 
        "jboundary [uM/ms] 0.332764960379", 
        "jvol [mM/ms]  -0.000331034129408", 
        "jvol [uM/ms]  -331.034129408", 
        "##", 
        "## WARNING: we are not updating CaTnC!!!", 
        "##", 
        "T 3780.000000 [ms] Conc(0) 0.000617 [mM]"
       ]
      }, 
      {
       "output_type": "stream", 
       "stream": "stdout", 
       "text": [
        "", 
        "T 3780.000000 [ms] Conc(0) 0.616974 [uM]", 
        "T 3780.000000 [ms] Conc(1) 0.032466 [mM]", 
        "T 3780.000000 [ms] Conc(1) 32.466334 [uM]", 
        "WARNING: skipping conc updatee", 
        "###########################################################################", 
        "t0  3780.0 tf  3790.0", 
        "ODE Init [mM] [ 0.00061908  0.03242131]", 
        "t0 3780.000000 tf 3790.000000 [ms]", 
        "ODE statesF: [mM] "
       ]
      }, 
      {
       "output_type": "stream", 
       "stream": "stdout", 
       "text": [
        " [ 0.00062307  0.03348335]", 
        "ODE statesF: [uM]  0.623070941565", 
        "ODE states Flux [mM/ms]:  [  3.99296144e-07   1.06203474e-04]", 
        "ODE states Flux [uM/ms]:  [ 0.0003993   0.10620347]", 
        "WARNING: jSR and dCa are lumped tother into jVold", 
        "WARNING: I probably need to constrain jvolExpr s.t. the assembled value is equal to the ODE value", 
        "jboundary [mM/ms] 0.00027063357862", 
        "jboundary [uM/ms] 0.27063357862", 
        "jvol [mM/ms]  -0.000270187650654", 
        "jvol [uM/ms]  -270.187650654", 
        "##", 
        "## WARNING: we are not updating CaTnC!!!", 
        "##", 
        "T 3790.000000 [ms] Conc(0) 0.000621 [mM]"
       ]
      }, 
      {
       "output_type": "stream", 
       "stream": "stdout", 
       "text": [
        "", 
        "T 3790.000000 [ms] Conc(0) 0.621433 [uM]", 
        "T 3790.000000 [ms] Conc(1) 0.032466 [mM]", 
        "T 3790.000000 [ms] Conc(1) 32.466334 [uM]", 
        "WARNING: skipping conc updatee", 
        "###########################################################################", 
        "t0  3790.0 tf  3800.0", 
        "ODE Init [mM] [ 0.00062307  0.03348335]", 
        "t0 3790.000000 tf 3800.000000 [ms]", 
        "ODE statesF: [mM] "
       ]
      }, 
      {
       "output_type": "stream", 
       "stream": "stdout", 
       "text": [
        " [ 0.00061984  0.0341943 ]", 
        "ODE statesF: [uM]  0.619837339695", 
        "ODE states Flux [mM/ms]:  [ -3.23360187e-07   7.10947252e-05]", 
        "ODE states Flux [uM/ms]:  [-0.00032336  0.07109473]", 
        "WARNING: jSR and dCa are lumped tother into jVold", 
        "WARNING: I probably need to constrain jvolExpr s.t. the assembled value is equal to the ODE value", 
        "jboundary [mM/ms] 0.000219287399709", 
        "jboundary [uM/ms] 0.219287399709", 
        "jvol [mM/ms]  -0.000219582486282", 
        "jvol [uM/ms]  -219.582486282", 
        "##", 
        "## WARNING: we are not updating CaTnC!!!", 
        "##", 
        "T 3800.000000 [ms] Conc(0) 0.000618 [mM]"
       ]
      }, 
      {
       "output_type": "stream", 
       "stream": "stdout", 
       "text": [
        "", 
        "T 3800.000000 [ms] Conc(0) 0.618482 [uM]", 
        "T 3800.000000 [ms] Conc(1) 0.032466 [mM]", 
        "T 3800.000000 [ms] Conc(1) 32.466334 [uM]", 
        "WARNING: skipping conc updatee", 
        "###########################################################################", 
        "t0  3800.0 tf  3810.0", 
        "ODE Init [mM] [ 0.00061984  0.0341943 ]", 
        "t0 3800.000000 tf 3810.000000 [ms]", 
        "ODE statesF: [mM] "
       ]
      }, 
      {
       "output_type": "stream", 
       "stream": "stdout", 
       "text": [
        " [ 0.00061207  0.03461545]", 
        "ODE statesF: [uM]  0.612066596051", 
        "ODE states Flux [mM/ms]:  [ -7.77074364e-07   4.21152919e-05]", 
        "ODE states Flux [uM/ms]:  [-0.00077707  0.04211529]", 
        "WARNING: jSR and dCa are lumped tother into jVold", 
        "WARNING: I probably need to constrain jvolExpr s.t. the assembled value is equal to the ODE value", 
        "jboundary [mM/ms] 0.000179259515902", 
        "jboundary [uM/ms] 0.179259515902", 
        "jvol [mM/ms]  -0.000180018278458", 
        "jvol [uM/ms]  -180.018278458", 
        "##", 
        "## WARNING: we are not updating CaTnC!!!", 
        "##", 
        "T 3810.000000 [ms] Conc(0) 0.000611 [mM]"
       ]
      }, 
      {
       "output_type": "stream", 
       "stream": "stdout", 
       "text": [
        "", 
        "T 3810.000000 [ms] Conc(0) 0.610895 [uM]", 
        "T 3810.000000 [ms] Conc(1) 0.032466 [mM]", 
        "T 3810.000000 [ms] Conc(1) 32.466334 [uM]", 
        "WARNING: skipping conc updatee", 
        "###########################################################################", 
        "t0  3810.0 tf  3820.0", 
        "ODE Init [mM] [ 0.00061207  0.03461545]", 
        "t0 3810.000000 tf 3820.000000 [ms]", 
        "ODE statesF: [mM] "
       ]
      }, 
      {
       "output_type": "stream", 
       "stream": "stdout", 
       "text": [
        " [ 0.00060132  0.03480843]", 
        "ODE statesF: [uM]  0.601315782933", 
        "ODE states Flux [mM/ms]:  [ -1.07508131e-06   1.92978894e-05]", 
        "ODE states Flux [uM/ms]:  [-0.00107508  0.01929789]", 
        "WARNING: jSR and dCa are lumped tother into jVold", 
        "WARNING: I probably need to constrain jvolExpr s.t. the assembled value is equal to the ODE value", 
        "jboundary [mM/ms] 0.000148461526292", 
        "jboundary [uM/ms] 0.148461526292", 
        "jvol [mM/ms]  -0.000149524492409", 
        "jvol [uM/ms]  -149.524492409", 
        "##", 
        "## WARNING: we are not updating CaTnC!!!", 
        "##", 
        "T 3820.000000 [ms] Conc(0) 0.000600 [mM]"
       ]
      }, 
      {
       "output_type": "stream", 
       "stream": "stdout", 
       "text": [
        "", 
        "T 3820.000000 [ms] Conc(0) 0.600265 [uM]", 
        "T 3820.000000 [ms] Conc(1) 0.032466 [mM]", 
        "T 3820.000000 [ms] Conc(1) 32.466334 [uM]", 
        "WARNING: skipping conc updatee", 
        "###########################################################################", 
        "t0  3820.0 tf  3830.0", 
        "ODE Init [mM] [ 0.00060132  0.03480843]", 
        "t0 3820.000000 tf 3830.000000 [ms]", 
        "ODE statesF: [mM] "
       ]
      }, 
      {
       "output_type": "stream", 
       "stream": "stdout", 
       "text": [
        " [ 0.00058861  0.03482573]", 
        "ODE statesF: [uM]  0.588607170052", 
        "ODE states Flux [mM/ms]:  [ -1.27086129e-06   1.72970130e-06]", 
        "ODE states Flux [uM/ms]:  [-0.00127086  0.0017297 ]", 
        "WARNING: jSR and dCa are lumped tother into jVold", 
        "WARNING: I probably need to constrain jvolExpr s.t. the assembled value is equal to the ODE value", 
        "jboundary [mM/ms] 0.000124772236784", 
        "jboundary [uM/ms] 0.124772236784", 
        "jvol [mM/ms]  -0.000126035255027", 
        "jvol [uM/ms]  -126.035255027", 
        "##", 
        "## WARNING: we are not updating CaTnC!!!", 
        "##", 
        "T 3830.000000 [ms] Conc(0) 0.000588 [mM]"
       ]
      }, 
      {
       "output_type": "stream", 
       "stream": "stdout", 
       "text": [
        "", 
        "T 3830.000000 [ms] Conc(0) 0.587635 [uM]", 
        "T 3830.000000 [ms] Conc(1) 0.032466 [mM]", 
        "T 3830.000000 [ms] Conc(1) 32.466334 [uM]", 
        "WARNING: skipping conc updatee", 
        "###########################################################################", 
        "t0  3830.0 tf  3840.0", 
        "ODE Init [mM] [ 0.00058861  0.03482573]", 
        "t0 3830.000000 tf 3840.000000 [ms]", 
        "ODE statesF: [mM] "
       ]
      }, 
      {
       "output_type": "stream", 
       "stream": "stdout", 
       "text": [
        " [ 0.00057467  0.03470945]", 
        "ODE statesF: [uM]  0.574665042647", 
        "ODE states Flux [mM/ms]:  [ -1.39421274e-06  -1.16279204e-05]", 
        "ODE states Flux [uM/ms]:  [-0.00139421 -0.01162792]", 
        "WARNING: jSR and dCa are lumped tother into jVold", 
        "WARNING: I probably need to constrain jvolExpr s.t. the assembled value is equal to the ODE value", 
        "jboundary [mM/ms] 0.000106482441406", 
        "jboundary [uM/ms] 0.106482441406", 
        "jvol [mM/ms]  -0.000107871900153", 
        "jvol [uM/ms]  -107.871900153", 
        "##", 
        "## WARNING: we are not updating CaTnC!!!", 
        "##", 
        "T 3840.000000 [ms] Conc(0) 0.000574 [mM]"
       ]
      }, 
      {
       "output_type": "stream", 
       "stream": "stdout", 
       "text": [
        "", 
        "T 3840.000000 [ms] Conc(0) 0.573740 [uM]", 
        "T 3840.000000 [ms] Conc(1) 0.032466 [mM]", 
        "T 3840.000000 [ms] Conc(1) 32.466334 [uM]", 
        "WARNING: skipping conc updatee", 
        "###########################################################################", 
        "t0  3840.0 tf  3850.0", 
        "ODE Init [mM] [ 0.00057467  0.03470945]", 
        "t0 3840.000000 tf 3850.000000 [ms]", 
        "ODE statesF: [mM] "
       ]
      }, 
      {
       "output_type": "stream", 
       "stream": "stdout", 
       "text": [
        " [ 0.00056002  0.03449253]", 
        "ODE statesF: [uM]  0.560016670394", 
        "ODE states Flux [mM/ms]:  [ -1.46483723e-06  -2.16920266e-05]", 
        "ODE states Flux [uM/ms]:  [-0.00146484 -0.02169203]", 
        "WARNING: jSR and dCa are lumped tother into jVold", 
        "WARNING: I probably need to constrain jvolExpr s.t. the assembled value is equal to the ODE value", 
        "jboundary [mM/ms] 9.22786641568e-05", 
        "jboundary [uM/ms] 0.0922786641568", 
        "jvol [mM/ms]  -9.37409990274e-05", 
        "jvol [uM/ms]  -93.7409990274", 
        "##", 
        "## WARNING: we are not updating CaTnC!!!", 
        "##", 
        "T 3850.000000 [ms] Conc(0) 0.000559 [mM]"
       ]
      }, 
      {
       "output_type": "stream", 
       "stream": "stdout", 
       "text": [
        "", 
        "T 3850.000000 [ms] Conc(0) 0.559117 [uM]", 
        "T 3850.000000 [ms] Conc(1) 0.032466 [mM]", 
        "T 3850.000000 [ms] Conc(1) 32.466334 [uM]", 
        "WARNING: skipping conc updatee", 
        "###########################################################################", 
        "t0  3850.0 tf  3860.0", 
        "ODE Init [mM] [ 0.00056002  0.03449253]", 
        "t0 3850.000000 tf 3860.000000 [ms]", 
        "ODE statesF: [mM] "
       ]
      }, 
      {
       "output_type": "stream", 
       "stream": "stdout", 
       "text": [
        " [ 0.00054504  0.03420043]", 
        "ODE statesF: [uM]  0.545043915507", 
        "ODE states Flux [mM/ms]:  [ -1.49727549e-06  -2.92098932e-05]", 
        "ODE states Flux [uM/ms]:  [-0.00149728 -0.02920989]", 
        "WARNING: jSR and dCa are lumped tother into jVold", 
        "WARNING: I probably need to constrain jvolExpr s.t. the assembled value is equal to the ODE value", 
        "jboundary [mM/ms] 8.11582369218e-05", 
        "jboundary [uM/ms] 0.0811582369218", 
        "jvol [mM/ms]  -8.26546242483e-05", 
        "jvol [uM/ms]  -82.6546242483", 
        "##", 
        "## WARNING: we are not updating CaTnC!!!", 
        "##", 
        "T 3860.000000 [ms] Conc(0) 0.000544 [mM]"
       ]
      }, 
      {
       "output_type": "stream", 
       "stream": "stdout", 
       "text": [
        "", 
        "T 3860.000000 [ms] Conc(0) 0.544153 [uM]", 
        "T 3860.000000 [ms] Conc(1) 0.032466 [mM]", 
        "T 3860.000000 [ms] Conc(1) 32.466334 [uM]", 
        "WARNING: skipping conc updatee", 
        "###########################################################################", 
        "t0  3860.0 tf  3870.0", 
        "ODE Init [mM] [ 0.00054504  0.03420043]", 
        "t0 3860.000000 tf 3870.000000 [ms]", 
        "ODE statesF: [mM] "
       ]
      }, 
      {
       "output_type": "stream", 
       "stream": "stdout", 
       "text": [
        " [ 0.00053002  0.03385269]", 
        "ODE statesF: [uM]  0.53001581005", 
        "ODE states Flux [mM/ms]:  [ -1.50281055e-06  -3.47733149e-05]", 
        "ODE states Flux [uM/ms]:  [-0.00150281 -0.03477331]", 
        "WARNING: jSR and dCa are lumped tother into jVold", 
        "WARNING: I probably need to constrain jvolExpr s.t. the assembled value is equal to the ODE value", 
        "jboundary [mM/ms] 7.23524820648e-05", 
        "jboundary [uM/ms] 0.0723524820648", 
        "jvol [mM/ms]  -7.38555165821e-05", 
        "jvol [uM/ms]  -73.8555165821", 
        "##", 
        "## WARNING: we are not updating CaTnC!!!", 
        "##", 
        "T 3870.000000 [ms] Conc(0) 0.000529 [mM]"
       ]
      }, 
      {
       "output_type": "stream", 
       "stream": "stdout", 
       "text": [
        "", 
        "T 3870.000000 [ms] Conc(0) 0.529123 [uM]", 
        "T 3870.000000 [ms] Conc(1) 0.032466 [mM]", 
        "T 3870.000000 [ms] Conc(1) 32.466334 [uM]", 
        "WARNING: skipping conc updatee", 
        "###########################################################################", 
        "t0  3870.0 tf  3880.0", 
        "ODE Init [mM] [ 0.00053002  0.03385269]", 
        "t0 3870.000000 tf 3880.000000 [ms]", 
        "ODE statesF: [mM] "
       ]
      }, 
      {
       "output_type": "stream", 
       "stream": "stdout", 
       "text": [
        " [ 0.00051511  0.03346422]", 
        "ODE statesF: [uM]  0.51511194518", 
        "ODE states Flux [mM/ms]:  [ -1.49038649e-06  -3.88474905e-05]", 
        "ODE states Flux [uM/ms]:  [-0.00149039 -0.03884749]", 
        "WARNING: jSR and dCa are lumped tother into jVold", 
        "WARNING: I probably need to constrain jvolExpr s.t. the assembled value is equal to the ODE value", 
        "jboundary [mM/ms] 6.52663175556e-05", 
        "jboundary [uM/ms] 0.0652663175556", 
        "jvol [mM/ms]  -6.6757638906e-05", 
        "jvol [uM/ms]  -66.757638906", 
        "##", 
        "## WARNING: we are not updating CaTnC!!!", 
        "##", 
        "T 3880.000000 [ms] Conc(0) 0.000514 [mM]"
       ]
      }, 
      {
       "output_type": "stream", 
       "stream": "stdout", 
       "text": [
        "", 
        "T 3880.000000 [ms] Conc(0) 0.514210 [uM]", 
        "T 3880.000000 [ms] Conc(1) 0.032466 [mM]", 
        "T 3880.000000 [ms] Conc(1) 32.466334 [uM]", 
        "WARNING: skipping conc updatee", 
        "###########################################################################", 
        "t0  3880.0 tf  3890.0", 
        "ODE Init [mM] [ 0.00051511  0.03346422]", 
        "t0 3880.000000 tf 3890.000000 [ms]", 
        "ODE statesF: [mM] "
       ]
      }, 
      {
       "output_type": "stream", 
       "stream": "stdout", 
       "text": [
        " [ 0.00050044  0.03304621]", 
        "ODE statesF: [uM]  0.500439363821", 
        "ODE states Flux [mM/ms]:  [ -1.46725814e-06  -4.18005550e-05]", 
        "ODE states Flux [uM/ms]:  [-0.00146726 -0.04180055]", 
        "WARNING: jSR and dCa are lumped tother into jVold", 
        "WARNING: I probably need to constrain jvolExpr s.t. the assembled value is equal to the ODE value", 
        "jboundary [mM/ms] 5.94307427734e-05", 
        "jboundary [uM/ms] 0.0594307427734", 
        "jvol [mM/ms]  -6.08993154003e-05", 
        "jvol [uM/ms]  -60.8993154003", 
        "##", 
        "## WARNING: we are not updating CaTnC!!!", 
        "##", 
        "T 3890.000000 [ms] Conc(0) 0.000500 [mM]"
       ]
      }, 
      {
       "output_type": "stream", 
       "stream": "stdout", 
       "text": [
        "", 
        "T 3890.000000 [ms] Conc(0) 0.499524 [uM]", 
        "T 3890.000000 [ms] Conc(1) 0.032466 [mM]", 
        "T 3890.000000 [ms] Conc(1) 32.466334 [uM]", 
        "WARNING: skipping conc updatee", 
        "###########################################################################", 
        "t0  3890.0 tf  3900.0", 
        "ODE Init [mM] [ 0.00050044  0.03304621]", 
        "t0 3890.000000 tf 3900.000000 [ms]", 
        "ODE statesF: [mM] "
       ]
      }, 
      {
       "output_type": "stream", 
       "stream": "stdout", 
       "text": [
        " [ 0.00048604  0.03260692]", 
        "ODE statesF: [uM]  0.486043417451", 
        "ODE states Flux [mM/ms]:  [ -1.43959464e-06  -4.39298620e-05]", 
        "ODE states Flux [uM/ms]:  [-0.00143959 -0.04392986]", 
        "WARNING: jSR and dCa are lumped tother into jVold", 
        "WARNING: I probably need to constrain jvolExpr s.t. the assembled value is equal to the ODE value", 
        "jboundary [mM/ms] 5.44635937002e-05", 
        "jboundary [uM/ms] 0.0544635937002", 
        "jvol [mM/ms]  -5.59045901817e-05", 
        "jvol [uM/ms]  -55.9045901817", 
        "##", 
        "## WARNING: we are not updating CaTnC!!!", 
        "##", 
        "T 3900.000000 [ms] Conc(0) 0.000485 [mM]"
       ]
      }, 
      {
       "output_type": "stream", 
       "stream": "stdout", 
       "text": [
        "", 
        "T 3900.000000 [ms] Conc(0) 0.485114 [uM]", 
        "T 3900.000000 [ms] Conc(1) 0.032466 [mM]", 
        "T 3900.000000 [ms] Conc(1) 32.466334 [uM]", 
        "WARNING: skipping conc updatee", 
        "###########################################################################", 
        "t0  3900.0 tf  3910.0", 
        "ODE Init [mM] [ 0.00048604  0.03260692]", 
        "t0 3900.000000 tf 3910.000000 [ms]", 
        "ODE statesF: [mM] "
       ]
      }, 
      {
       "output_type": "stream", 
       "stream": "stdout", 
       "text": [
        " [ 0.00047191  0.03215206]", 
        "ODE statesF: [uM]  0.471911955202", 
        "ODE states Flux [mM/ms]:  [ -1.41314622e-06  -4.54855441e-05]", 
        "ODE states Flux [uM/ms]:  [-0.00141315 -0.04548554]", 
        "WARNING: jSR and dCa are lumped tother into jVold", 
        "WARNING: I probably need to constrain jvolExpr s.t. the assembled value is equal to the ODE value", 
        "jboundary [mM/ms] 5.00340034308e-05", 
        "jboundary [uM/ms] 0.0500340034308", 
        "jvol [mM/ms]  -5.14483491852e-05", 
        "jvol [uM/ms]  -51.4483491852", 
        "##", 
        "## WARNING: we are not updating CaTnC!!!", 
        "##", 
        "T 3910.000000 [ms] Conc(0) 0.000471 [mM]"
       ]
      }, 
      {
       "output_type": "stream", 
       "stream": "stdout", 
       "text": [
        "", 
        "T 3910.000000 [ms] Conc(0) 0.470970 [uM]", 
        "T 3910.000000 [ms] Conc(1) 0.032466 [mM]", 
        "T 3910.000000 [ms] Conc(1) 32.466334 [uM]", 
        "WARNING: skipping conc updatee", 
        "###########################################################################", 
        "t0  3910.0 tf  3920.0", 
        "ODE Init [mM] [ 0.00047191  0.03215206]", 
        "t0 3910.000000 tf 3920.000000 [ms]", 
        "ODE statesF: [mM] "
       ]
      }, 
      {
       "output_type": "stream", 
       "stream": "stdout", 
       "text": [
        " [ 0.00045797  0.03168512]", 
        "ODE statesF: [uM]  0.457971204612", 
        "ODE states Flux [mM/ms]:  [ -1.39407506e-06  -4.66937161e-05]", 
        "ODE states Flux [uM/ms]:  [-0.00139408 -0.04669372]", 
        "WARNING: jSR and dCa are lumped tother into jVold", 
        "WARNING: I probably need to constrain jvolExpr s.t. the assembled value is equal to the ODE value", 
        "jboundary [mM/ms] 4.58253898563e-05", 
        "jboundary [uM/ms] 0.0458253898563", 
        "jvol [mM/ms]  -4.72201284651e-05", 
        "jvol [uM/ms]  -47.2201284651", 
        "##", 
        "## WARNING: we are not updating CaTnC!!!", 
        "##", 
        "T 3920.000000 [ms] Conc(0) 0.000457 [mM]"
       ]
      }, 
      {
       "output_type": "stream", 
       "stream": "stdout", 
       "text": [
        "", 
        "T 3920.000000 [ms] Conc(0) 0.457023 [uM]", 
        "T 3920.000000 [ms] Conc(1) 0.032466 [mM]", 
        "T 3920.000000 [ms] Conc(1) 32.466334 [uM]", 
        "WARNING: skipping conc updatee", 
        "###########################################################################", 
        "t0  3920.0 tf  3930.0", 
        "ODE Init [mM] [ 0.00045797  0.03168512]", 
        "t0 3920.000000 tf 3930.000000 [ms]", 
        "ODE statesF: [mM] "
       ]
      }, 
      {
       "output_type": "stream", 
       "stream": "stdout", 
       "text": [
        " [ 0.00044407  0.0312073 ]", 
        "ODE statesF: [uM]  0.444071994908", 
        "ODE states Flux [mM/ms]:  [ -1.38992097e-06  -4.77821451e-05]", 
        "ODE states Flux [uM/ms]:  [-0.00138992 -0.04778215]", 
        "WARNING: jSR and dCa are lumped tother into jVold", 
        "WARNING: I probably need to constrain jvolExpr s.t. the assembled value is equal to the ODE value", 
        "jboundary [mM/ms] 4.14916713282e-05", 
        "jboundary [uM/ms] 0.0414916713282", 
        "jvol [mM/ms]  -4.28812989035e-05", 
        "jvol [uM/ms]  -42.8812989035", 
        "##", 
        "## WARNING: we are not updating CaTnC!!!", 
        "##", 
        "T 3930.000000 [ms] Conc(0) 0.000443 [mM]"
       ]
      }, 
      {
       "output_type": "stream", 
       "stream": "stdout", 
       "text": [
        "", 
        "T 3930.000000 [ms] Conc(0) 0.443127 [uM]", 
        "T 3930.000000 [ms] Conc(1) 0.032466 [mM]", 
        "T 3930.000000 [ms] Conc(1) 32.466334 [uM]", 
        "WARNING: skipping conc updatee", 
        "###########################################################################", 
        "t0  3930.0 tf  3940.0", 
        "ODE Init [mM] [ 0.00044407  0.0312073 ]", 
        "t0 3930.000000 tf 3940.000000 [ms]", 
        "ODE statesF: [mM] "
       ]
      }, 
      {
       "output_type": "stream", 
       "stream": "stdout", 
       "text": [
        " [ 0.00042998  0.03071724]", 
        "ODE statesF: [uM]  0.42997765802", 
        "ODE states Flux [mM/ms]:  [ -1.40943369e-06  -4.90056390e-05]", 
        "ODE states Flux [uM/ms]:  [-0.00140943 -0.04900564]", 
        "WARNING: jSR and dCa are lumped tother into jVold", 
        "WARNING: I probably need to constrain jvolExpr s.t. the assembled value is equal to the ODE value", 
        "jboundary [mM/ms] 3.66140454252e-05", 
        "jboundary [uM/ms] 0.0366140454252", 
        "jvol [mM/ms]  -3.80218253707e-05", 
        "jvol [uM/ms]  -38.0218253707", 
        "##", 
        "## WARNING: we are not updating CaTnC!!!", 
        "##", 
        "T 3940.000000 [ms] Conc(0) 0.000429 [mM]"
       ]
      }, 
      {
       "output_type": "stream", 
       "stream": "stdout", 
       "text": [
        "", 
        "T 3940.000000 [ms] Conc(0) 0.429049 [uM]", 
        "T 3940.000000 [ms] Conc(1) 0.032466 [mM]", 
        "T 3940.000000 [ms] Conc(1) 32.466334 [uM]", 
        "WARNING: skipping conc updatee", 
        "###########################################################################", 
        "t0  3940.0 tf  3950.0", 
        "ODE Init [mM] [ 0.00042998  0.03071724]", 
        "t0 3940.000000 tf 3950.000000 [ms]", 
        "ODE statesF: [mM] "
       ]
      }, 
      {
       "output_type": "stream", 
       "stream": "stdout", 
       "text": [
        " [ 0.00041543  0.03021096]", 
        "ODE statesF: [uM]  0.415432828281", 
        "ODE states Flux [mM/ms]:  [ -1.45448297e-06  -5.06284950e-05]", 
        "ODE states Flux [uM/ms]:  [-0.00145448 -0.0506285 ]", 
        "WARNING: jSR and dCa are lumped tother into jVold", 
        "WARNING: I probably need to constrain jvolExpr s.t. the assembled value is equal to the ODE value", 
        "jboundary [mM/ms] 3.07508855451e-05", 
        "jboundary [uM/ms] 0.0307508855451", 
        "jvol [mM/ms]  -3.220276478e-05", 
        "jvol [uM/ms]  -32.20276478", 
        "##", 
        "## WARNING: we are not updating CaTnC!!!", 
        "##", 
        "T 3950.000000 [ms] Conc(0) 0.000415 [mM]"
       ]
      }, 
      {
       "output_type": "stream", 
       "stream": "stdout", 
       "text": [
        "", 
        "T 3950.000000 [ms] Conc(0) 0.414530 [uM]", 
        "T 3950.000000 [ms] Conc(1) 0.032466 [mM]", 
        "T 3950.000000 [ms] Conc(1) 32.466334 [uM]", 
        "WARNING: skipping conc updatee", 
        "###########################################################################", 
        "t0  3950.0 tf  3960.0", 
        "ODE Init [mM] [ 0.00041543  0.03021096]", 
        "t0 3950.000000 tf 3960.000000 [ms]", 
        "ODE statesF: [mM] "
       ]
      }, 
      {
       "output_type": "stream", 
       "stream": "stdout", 
       "text": [
        " [ 0.00040043  0.02968361]", 
        "ODE statesF: [uM]  0.400432018241", 
        "ODE states Flux [mM/ms]:  [ -1.50008100e-06  -5.27352272e-05]", 
        "ODE states Flux [uM/ms]:  [-0.00150008 -0.05273523]", 
        "WARNING: jSR and dCa are lumped tother into jVold", 
        "WARNING: I probably need to constrain jvolExpr s.t. the assembled value is equal to the ODE value", 
        "jboundary [mM/ms] 2.38449472258e-05", 
        "jboundary [uM/ms] 0.0238449472258", 
        "jvol [mM/ms]  -2.53432777489e-05", 
        "jvol [uM/ms]  -25.3432777489", 
        "##", 
        "## WARNING: we are not updating CaTnC!!!", 
        "##", 
        "T 3960.000000 [ms] Conc(0) 0.000400 [mM]"
       ]
      }, 
      {
       "output_type": "stream", 
       "stream": "stdout", 
       "text": [
        "", 
        "T 3960.000000 [ms] Conc(0) 0.399547 [uM]", 
        "T 3960.000000 [ms] Conc(1) 0.032466 [mM]", 
        "T 3960.000000 [ms] Conc(1) 32.466334 [uM]", 
        "WARNING: skipping conc updatee", 
        "###########################################################################", 
        "t0  3960.0 tf  3970.0", 
        "ODE Init [mM] [ 0.00040043  0.02968361]", 
        "t0 3960.000000 tf 3970.000000 [ms]", 
        "ODE statesF: [mM] "
       ]
      }, 
      {
       "output_type": "stream", 
       "stream": "stdout", 
       "text": [
        " [ 0.00038495  0.02913207]", 
        "ODE statesF: [uM]  0.384947001073", 
        "ODE states Flux [mM/ms]:  [ -1.54850172e-06  -5.51534755e-05]", 
        "ODE states Flux [uM/ms]:  [-0.0015485  -0.05515348]", 
        "WARNING: jSR and dCa are lumped tother into jVold", 
        "WARNING: I probably need to constrain jvolExpr s.t. the assembled value is equal to the ODE value", 
        "jboundary [mM/ms] 1.63076904652e-05", 
        "jboundary [uM/ms] 0.0163076904652", 
        "jvol [mM/ms]  -1.78522416085e-05", 
        "jvol [uM/ms]  -17.8522416085", 
        "##", 
        "## WARNING: we are not updating CaTnC!!!", 
        "##", 
        "T 3970.000000 [ms] Conc(0) 0.000384 [mM]"
       ]
      }, 
      {
       "output_type": "stream", 
       "stream": "stdout", 
       "text": [
        "", 
        "T 3970.000000 [ms] Conc(0) 0.384101 [uM]", 
        "T 3970.000000 [ms] Conc(1) 0.032466 [mM]", 
        "T 3970.000000 [ms] Conc(1) 32.466334 [uM]", 
        "WARNING: skipping conc updatee", 
        "###########################################################################", 
        "t0  3970.0 tf  3980.0", 
        "ODE Init [mM] [ 0.00038495  0.02913207]", 
        "t0 3970.000000 tf 3980.000000 [ms]", 
        "ODE statesF: [mM] "
       ]
      }, 
      {
       "output_type": "stream", 
       "stream": "stdout", 
       "text": [
        " [ 0.00036883  0.02855043]", 
        "ODE statesF: [uM]  0.368829637394", 
        "ODE states Flux [mM/ms]:  [ -1.61173637e-06  -5.81641277e-05]", 
        "ODE states Flux [uM/ms]:  [-0.00161174 -0.05816413]", 
        "WARNING: jSR and dCa are lumped tother into jVold", 
        "WARNING: I probably need to constrain jvolExpr s.t. the assembled value is equal to the ODE value", 
        "jboundary [mM/ms] 7.46584111593e-06", 
        "jboundary [uM/ms] 0.00746584111593", 
        "jvol [mM/ms]  -9.07851512938e-06", 
        "jvol [uM/ms]  -9.07851512938", 
        "##", 
        "## WARNING: we are not updating CaTnC!!!", 
        "##", 
        "T 3980.000000 [ms] Conc(0) 0.000368 [mM]"
       ]
      }, 
      {
       "output_type": "stream", 
       "stream": "stdout", 
       "text": [
        "", 
        "T 3980.000000 [ms] Conc(0) 0.367975 [uM]", 
        "T 3980.000000 [ms] Conc(1) 0.032466 [mM]", 
        "T 3980.000000 [ms] Conc(1) 32.466334 [uM]", 
        "WARNING: skipping conc updatee", 
        "###########################################################################", 
        "t0  3980.0 tf  3990.0", 
        "ODE Init [mM] [ 0.00036883  0.02855043]", 
        "t0 3980.000000 tf 3990.000000 [ms]", 
        "ODE statesF: [mM] "
       ]
      }, 
      {
       "output_type": "stream", 
       "stream": "stdout", 
       "text": [
        " [ 0.00035411  0.02794622]", 
        "ODE statesF: [uM]  0.354111638517", 
        "ODE states Flux [mM/ms]:  [ -1.47179989e-06  -6.04213642e-05]", 
        "ODE states Flux [uM/ms]:  [-0.0014718  -0.06042136]", 
        "WARNING: jSR and dCa are lumped tother into jVold", 
        "WARNING: I probably need to constrain jvolExpr s.t. the assembled value is equal to the ODE value", 
        "jboundary [mM/ms] 4.02112937263e-07", 
        "jboundary [uM/ms] 0.000402112937263", 
        "jvol [mM/ms]  -1.88316730243e-06", 
        "jvol [uM/ms]  -1.88316730243", 
        "##", 
        "## WARNING: we are not updating CaTnC!!!", 
        "##", 
        "T 3990.000000 [ms] Conc(0) 0.000353 [mM]"
       ]
      }, 
      {
       "output_type": "stream", 
       "stream": "stdout", 
       "text": [
        "", 
        "T 3990.000000 [ms] Conc(0) 0.353164 [uM]", 
        "T 3990.000000 [ms] Conc(1) 0.032466 [mM]", 
        "T 3990.000000 [ms] Conc(1) 32.466334 [uM]", 
        "WARNING: skipping conc updatee", 
        "###########################################################################", 
        "t0  3990.0 tf  4000.0", 
        "ODE Init [mM] [ 0.00035411  0.02794622]", 
        "t0 3990.000000 tf 4000.000000 [ms]", 
        "ODE statesF: [mM] "
       ]
      }, 
      {
       "output_type": "stream", 
       "stream": "stdout", 
       "text": [
        " [ 0.00034085  0.02733963]", 
        "ODE statesF: [uM]  0.340852533066", 
        "ODE states Flux [mM/ms]:  [ -1.32591055e-06  -6.06589485e-05]", 
        "ODE states Flux [uM/ms]:  [-0.00132591 -0.06065895]", 
        "WARNING: jSR and dCa are lumped tother into jVold", 
        "WARNING: I probably need to constrain jvolExpr s.t. the assembled value is equal to the ODE value", 
        "jboundary [mM/ms] -2.75154419865e-06", 
        "jboundary [uM/ms] -0.00275154419865", 
        "jvol [mM/ms]  1.41968051604e-06", 
        "jvol [uM/ms]  1.41968051604", 
        "##", 
        "## WARNING: we are not updating CaTnC!!!", 
        "##", 
        "T 4000.000000 [ms] Conc(0) 0.000340 [mM]"
       ]
      }, 
      {
       "output_type": "stream", 
       "stream": "stdout", 
       "text": [
        "", 
        "T 4000.000000 [ms] Conc(0) 0.339845 [uM]", 
        "T 4000.000000 [ms] Conc(1) 0.032466 [mM]", 
        "T 4000.000000 [ms] Conc(1) 32.466334 [uM]", 
        "WARNING: skipping conc updatee", 
        "### Mode separateFlux passes!", 
        "Equilibrating for 3000.000000 [ms]", 
        "WARHING: CHECK ME", 
        "ODE Init [mM]"
       ]
      }, 
      {
       "output_type": "stream", 
       "stream": "stdout", 
       "text": [
        " [ 0.0005125  0.0333892]", 
        "t0 3000.000000 tf 4000.000000 [ms]", 
        "vol_sa_ratio  [um]"
       ]
      }, 
      {
       "output_type": "stream", 
       "stream": "stdout", 
       "text": [
        " 2.0", 
        "WARNING: not working w eval func", 
        "T 0.000000 [ms] Conc(0) 0.000512 [mM]", 
        "T 0.000000 [ms] Conc(0) 0.512498 [uM]", 
        "T 0.000000 [ms] Conc(1) 0.033389 [mM]", 
        "T 0.000000 [ms] Conc(1) 33.389197 [uM]", 
        "###########################################################################", 
        "t0  3000.0 tf  3010.0", 
        "ODE Init [mM] [ 0.0005125  0.0333892]", 
        "t0 3000.000000 tf 3010.000000 [ms]", 
        "ODE statesF: [mM] "
       ]
      }, 
      {
       "output_type": "stream", 
       "stream": "stdout", 
       "text": [
        " [ 0.00049882  0.03297298]", 
        "ODE statesF: [uM]  0.498823905023", 
        "ODE states Flux [mM/ms]:  [ -1.36745199e-06  -4.16214067e-05]", 
        "ODE states Flux [uM/ms]:  [-0.00136745 -0.04162141]", 
        "WARNING: jSR and dCa are lumped tother into jVold", 
        "WARNING: I probably need to constrain jvolExpr s.t. the assembled value is equal to the ODE value", 
        "jboundary [mM/ms] 4.87773193903e-05", 
        "jboundary [uM/ms] 0.0487773193903", 
        "jvol [mM/ms]  -5.01457101551e-05", 
        "jvol [uM/ms]  -50.1457101551", 
        "##", 
        "## WARNING: we are not updating CaTnC!!!", 
        "##", 
        "T 3010.000000 [ms] Conc(0) 0.000499 [mM]"
       ]
      }, 
      {
       "output_type": "stream", 
       "stream": "stdout", 
       "text": [
        "", 
        "T 3010.000000 [ms] Conc(0) 0.498815 [uM]", 
        "T 3010.000000 [ms] Conc(1) 0.033389 [mM]", 
        "T 3010.000000 [ms] Conc(1) 33.389197 [uM]", 
        "WARNING: skipping conc updatee", 
        "###########################################################################", 
        "t0  3010.0 tf  3020.0", 
        "ODE Init [mM] [ 0.00049882  0.03297298]", 
        "t0 3010.000000 tf 3020.000000 [ms]", 
        "ODE statesF: [mM] "
       ]
      }, 
      {
       "output_type": "stream", 
       "stream": "stdout", 
       "text": [
        " [ 0.0004853   0.03254403]", 
        "ODE statesF: [uM]  0.485302686595", 
        "ODE states Flux [mM/ms]:  [ -1.35212184e-06  -4.28949315e-05]", 
        "ODE states Flux [uM/ms]:  [-0.00135212 -0.04289493]", 
        "WARNING: jSR and dCa are lumped tother into jVold", 
        "WARNING: I probably need to constrain jvolExpr s.t. the assembled value is equal to the ODE value", 
        "jboundary [mM/ms] 4.4794714213e-05", 
        "jboundary [uM/ms] 0.044794714213", 
        "jvol [mM/ms]  -4.61473892962e-05", 
        "jvol [uM/ms]  -46.1473892962", 
        "##", 
        "## WARNING: we are not updating CaTnC!!!", 
        "##", 
        "T 3020.000000 [ms] Conc(0) 0.000485 [mM]"
       ]
      }, 
      {
       "output_type": "stream", 
       "stream": "stdout", 
       "text": [
        "", 
        "T 3020.000000 [ms] Conc(0) 0.485288 [uM]", 
        "T 3020.000000 [ms] Conc(1) 0.033389 [mM]", 
        "T 3020.000000 [ms] Conc(1) 33.389197 [uM]", 
        "WARNING: skipping conc updatee", 
        "###########################################################################", 
        "t0  3020.0 tf  3030.0", 
        "ODE Init [mM] [ 0.0004853   0.03254403]", 
        "t0 3020.000000 tf 3030.000000 [ms]", 
        "ODE statesF: [mM] "
       ]
      }, 
      {
       "output_type": "stream", 
       "stream": "stdout", 
       "text": [
        " [ 0.00047182  0.03210399]", 
        "ODE statesF: [uM]  0.471821150723", 
        "ODE states Flux [mM/ms]:  [ -1.34815359e-06  -4.40041054e-05]", 
        "ODE states Flux [uM/ms]:  [-0.00134815 -0.04400411]", 
        "WARNING: jSR and dCa are lumped tother into jVold", 
        "WARNING: I probably need to constrain jvolExpr s.t. the assembled value is equal to the ODE value", 
        "jboundary [mM/ms] 4.07936029795e-05", 
        "jboundary [uM/ms] 0.0407936029795", 
        "jvol [mM/ms]  -4.21415561608e-05", 
        "jvol [uM/ms]  -42.1415561608", 
        "##", 
        "## WARNING: we are not updating CaTnC!!!", 
        "##", 
        "T 3030.000000 [ms] Conc(0) 0.000472 [mM]"
       ]
      }, 
      {
       "output_type": "stream", 
       "stream": "stdout", 
       "text": [
        "", 
        "T 3030.000000 [ms] Conc(0) 0.471808 [uM]", 
        "T 3030.000000 [ms] Conc(1) 0.033389 [mM]", 
        "T 3030.000000 [ms] Conc(1) 33.389197 [uM]", 
        "WARNING: skipping conc updatee", 
        "###########################################################################", 
        "t0  3030.0 tf  3040.0", 
        "ODE Init [mM] [ 0.00047182  0.03210399]", 
        "t0 3030.000000 tf 3040.000000 [ms]", 
        "ODE statesF: [mM] "
       ]
      }, 
      {
       "output_type": "stream", 
       "stream": "stdout", 
       "text": [
        " [ 0.00045818  0.03165228]", 
        "ODE statesF: [uM]  0.45818353396", 
        "ODE states Flux [mM/ms]:  [ -1.36376168e-06  -4.51710338e-05]", 
        "ODE states Flux [uM/ms]:  [-0.00136376 -0.04517103]", 
        "WARNING: jSR and dCa are lumped tother into jVold", 
        "WARNING: I probably need to constrain jvolExpr s.t. the assembled value is equal to the ODE value", 
        "jboundary [mM/ms] 3.64168020002e-05", 
        "jboundary [uM/ms] 0.0364168020002", 
        "jvol [mM/ms]  -3.77791726306e-05", 
        "jvol [uM/ms]  -37.7791726306", 
        "##", 
        "## WARNING: we are not updating CaTnC!!!", 
        "##", 
        "T 3040.000000 [ms] Conc(0) 0.000458 [mM]"
       ]
      }, 
      {
       "output_type": "stream", 
       "stream": "stdout", 
       "text": [
        "", 
        "T 3040.000000 [ms] Conc(0) 0.458185 [uM]", 
        "T 3040.000000 [ms] Conc(1) 0.033389 [mM]", 
        "T 3040.000000 [ms] Conc(1) 33.389197 [uM]", 
        "WARNING: skipping conc updatee", 
        "###########################################################################", 
        "t0  3040.0 tf  3050.0", 
        "ODE Init [mM] [ 0.00045818  0.03165228]", 
        "t0 3040.000000 tf 3050.000000 [ms]", 
        "ODE statesF: [mM] "
       ]
      }, 
      {
       "output_type": "stream", 
       "stream": "stdout", 
       "text": [
        " [ 0.00044413  0.03118581]", 
        "ODE statesF: [uM]  0.44412500813", 
        "ODE states Flux [mM/ms]:  [ -1.40585258e-06  -4.66471867e-05]", 
        "ODE states Flux [uM/ms]:  [-0.00140585 -0.04664719]", 
        "WARNING: jSR and dCa are lumped tother into jVold", 
        "WARNING: I probably need to constrain jvolExpr s.t. the assembled value is equal to the ODE value", 
        "jboundary [mM/ms] 3.12398598384e-05", 
        "jboundary [uM/ms] 0.0312398598384", 
        "jvol [mM/ms]  -3.26429940769e-05", 
        "jvol [uM/ms]  -32.6429940769", 
        "##", 
        "## WARNING: we are not updating CaTnC!!!", 
        "##", 
        "T 3050.000000 [ms] Conc(0) 0.000444 [mM]"
       ]
      }, 
      {
       "output_type": "stream", 
       "stream": "stdout", 
       "text": [
        "", 
        "T 3050.000000 [ms] Conc(0) 0.444153 [uM]", 
        "T 3050.000000 [ms] Conc(1) 0.033389 [mM]", 
        "T 3050.000000 [ms] Conc(1) 33.389197 [uM]", 
        "WARNING: skipping conc updatee", 
        "###########################################################################", 
        "t0  3050.0 tf  3060.0", 
        "ODE Init [mM] [ 0.00044413  0.03118581]", 
        "t0 3050.000000 tf 3060.000000 [ms]", 
        "ODE statesF: [mM] "
       ]
      }, 
      {
       "output_type": "stream", 
       "stream": "stdout", 
       "text": [
        " [ 0.00042948  0.03069955]", 
        "ODE statesF: [uM]  0.429480365536", 
        "ODE states Flux [mM/ms]:  [ -1.46446426e-06  -4.86260616e-05]", 
        "ODE states Flux [uM/ms]:  [-0.00146446 -0.04862606]", 
        "WARNING: jSR and dCa are lumped tother into jVold", 
        "WARNING: I probably need to constrain jvolExpr s.t. the assembled value is equal to the ODE value", 
        "jboundary [mM/ms] 2.49670814032e-05", 
        "jboundary [uM/ms] 0.0249670814032", 
        "jvol [mM/ms]  -2.64287560031e-05", 
        "jvol [uM/ms]  -26.4287560031", 
        "##", 
        "## WARNING: we are not updating CaTnC!!!", 
        "##", 
        "T 3060.000000 [ms] Conc(0) 0.000430 [mM]"
       ]
      }, 
      {
       "output_type": "stream", 
       "stream": "stdout", 
       "text": [
        "", 
        "T 3060.000000 [ms] Conc(0) 0.429536 [uM]", 
        "T 3060.000000 [ms] Conc(1) 0.033389 [mM]", 
        "T 3060.000000 [ms] Conc(1) 33.389197 [uM]", 
        "WARNING: skipping conc updatee", 
        "###########################################################################", 
        "t0  3060.0 tf  3070.0", 
        "ODE Init [mM] [ 0.00042948  0.03069955]", 
        "t0 3060.000000 tf 3070.000000 [ms]", 
        "ODE statesF: [mM] "
       ]
      }, 
      {
       "output_type": "stream", 
       "stream": "stdout", 
       "text": [
        " [ 0.00041437  0.03018946]", 
        "ODE statesF: [uM]  0.414366483367", 
        "ODE states Flux [mM/ms]:  [ -1.51138822e-06  -5.10092393e-05]", 
        "ODE states Flux [uM/ms]:  [-0.00151139 -0.05100924]", 
        "WARNING: jSR and dCa are lumped tother into jVold", 
        "WARNING: I probably need to constrain jvolExpr s.t. the assembled value is equal to the ODE value", 
        "jboundary [mM/ms] 1.79022951957e-05", 
        "jboundary [uM/ms] 0.0179022951957", 
        "jvol [mM/ms]  -1.94111649024e-05", 
        "jvol [uM/ms]  -19.4111649024", 
        "##", 
        "## WARNING: we are not updating CaTnC!!!", 
        "##", 
        "T 3070.000000 [ms] Conc(0) 0.000414 [mM]"
       ]
      }, 
      {
       "output_type": "stream", 
       "stream": "stdout", 
       "text": [
        "", 
        "T 3070.000000 [ms] Conc(0) 0.414448 [uM]", 
        "T 3070.000000 [ms] Conc(1) 0.033389 [mM]", 
        "T 3070.000000 [ms] Conc(1) 33.389197 [uM]", 
        "WARNING: skipping conc updatee", 
        "###########################################################################", 
        "t0  3070.0 tf  3080.0", 
        "ODE Init [mM] [ 0.00041437  0.03018946]", 
        "t0 3070.000000 tf 3080.000000 [ms]", 
        "ODE statesF: [mM] "
       ]
      }, 
      {
       "output_type": "stream", 
       "stream": "stdout", 
       "text": [
        " [ 0.0003984   0.02965117]", 
        "ODE statesF: [uM]  0.398396609137", 
        "ODE states Flux [mM/ms]:  [ -1.59698742e-06  -5.38290646e-05]", 
        "ODE states Flux [uM/ms]:  [-0.00159699 -0.05382906]", 
        "WARNING: jSR and dCa are lumped tother into jVold", 
        "WARNING: I probably need to constrain jvolExpr s.t. the assembled value is equal to the ODE value", 
        "jboundary [mM/ms] 9.92275700729e-06", 
        "jboundary [uM/ms] 0.00992275700729", 
        "jvol [mM/ms]  -1.15146842799e-05", 
        "jvol [uM/ms]  -11.5146842799", 
        "##", 
        "## WARNING: we are not updating CaTnC!!!", 
        "##", 
        "T 3080.000000 [ms] Conc(0) 0.000399 [mM]"
       ]
      }, 
      {
       "output_type": "stream", 
       "stream": "stdout", 
       "text": [
        "", 
        "T 3080.000000 [ms] Conc(0) 0.398528 [uM]", 
        "T 3080.000000 [ms] Conc(1) 0.033389 [mM]", 
        "T 3080.000000 [ms] Conc(1) 33.389197 [uM]", 
        "WARNING: skipping conc updatee", 
        "###########################################################################", 
        "t0  3080.0 tf  3090.0", 
        "ODE Init [mM] [ 0.0003984   0.02965117]", 
        "t0 3080.000000 tf 3090.000000 [ms]", 
        "ODE statesF: [mM] "
       ]
      }, 
      {
       "output_type": "stream", 
       "stream": "stdout", 
       "text": [
        " [ 0.00038248  0.0290806 ]", 
        "ODE statesF: [uM]  0.382482441343", 
        "ODE states Flux [mM/ms]:  [ -1.59141678e-06  -5.70565925e-05]", 
        "ODE states Flux [uM/ms]:  [-0.00159142 -0.05705659]", 
        "WARNING: jSR and dCa are lumped tother into jVold", 
        "WARNING: I probably need to constrain jvolExpr s.t. the assembled value is equal to the ODE value", 
        "jboundary [mM/ms] 1.15844265599e-06", 
        "jboundary [uM/ms] 0.00115844265599", 
        "jvol [mM/ms]  -2.75684036e-06", 
        "jvol [uM/ms]  -2.75684036", 
        "##", 
        "## WARNING: we are not updating CaTnC!!!", 
        "##", 
        "T 3090.000000 [ms] Conc(0) 0.000383 [mM]"
       ]
      }, 
      {
       "output_type": "stream", 
       "stream": "stdout", 
       "text": [
        "", 
        "T 3090.000000 [ms] Conc(0) 0.382544 [uM]", 
        "T 3090.000000 [ms] Conc(1) 0.033389 [mM]", 
        "T 3090.000000 [ms] Conc(1) 33.389197 [uM]", 
        "WARNING: skipping conc updatee", 
        "###########################################################################", 
        "t0  3090.0 tf  3100.0", 
        "ODE Init [mM] [ 0.00038248  0.0290806 ]", 
        "t0 3090.000000 tf 3100.000000 [ms]", 
        "ODE statesF: [mM] "
       ]
      }, 
      {
       "output_type": "stream", 
       "stream": "stdout", 
       "text": [
        " [ 0.00036828  0.02849502]", 
        "ODE statesF: [uM]  0.36827968493", 
        "ODE states Flux [mM/ms]:  [ -1.42027564e-06  -5.85581456e-05]", 
        "ODE states Flux [uM/ms]:  [-0.00142028 -0.05855815]", 
        "WARNING: jSR and dCa are lumped tother into jVold", 
        "WARNING: I probably need to constrain jvolExpr s.t. the assembled value is equal to the ODE value", 
        "jboundary [mM/ms] -3.84481913939e-06", 
        "jboundary [uM/ms] -0.00384481913939", 
        "jvol [mM/ms]  2.41725164038e-06", 
        "jvol [uM/ms]  2.41725164038", 
        "##", 
        "## WARNING: we are not updating CaTnC!!!", 
        "##", 
        "T 3100.000000 [ms] Conc(0) 0.000368 [mM]"
       ]
      }, 
      {
       "output_type": "stream", 
       "stream": "stdout", 
       "text": [
        "", 
        "T 3100.000000 [ms] Conc(0) 0.368269 [uM]", 
        "T 3100.000000 [ms] Conc(1) 0.033389 [mM]", 
        "T 3100.000000 [ms] Conc(1) 33.389197 [uM]", 
        "WARNING: skipping conc updatee", 
        "###########################################################################", 
        "t0  3100.0 tf  3110.0", 
        "ODE Init [mM] [ 0.00036828  0.02849502]", 
        "t0 3100.000000 tf 3110.000000 [ms]", 
        "ODE statesF: [mM] "
       ]
      }, 
      {
       "output_type": "stream", 
       "stream": "stdout", 
       "text": [
        " [ 0.00036522  0.02794607]", 
        "ODE statesF: [uM]  0.365216002635", 
        "ODE states Flux [mM/ms]:  [ -3.06368230e-07  -5.48951606e-05]", 
        "ODE states Flux [uM/ms]:  [-0.00030637 -0.05489516]", 
        "WARNING: jSR and dCa are lumped tother into jVold", 
        "WARNING: I probably need to constrain jvolExpr s.t. the assembled value is equal to the ODE value", 
        "jboundary [mM/ms] 1.62481347617e-06", 
        "jboundary [uM/ms] 0.00162481347617", 
        "jvol [mM/ms]  -2.06582444605e-06", 
        "jvol [uM/ms]  -2.06582444605", 
        "##", 
        "## WARNING: we are not updating CaTnC!!!", 
        "##", 
        "T 3110.000000 [ms] Conc(0) 0.000364 [mM]"
       ]
      }, 
      {
       "output_type": "stream", 
       "stream": "stdout", 
       "text": [
        "", 
        "T 3110.000000 [ms] Conc(0) 0.363859 [uM]", 
        "T 3110.000000 [ms] Conc(1) 0.033389 [mM]", 
        "T 3110.000000 [ms] Conc(1) 33.389197 [uM]", 
        "WARNING: skipping conc updatee", 
        "###########################################################################", 
        "t0  3110.0 tf  3120.0", 
        "ODE Init [mM] [ 0.00036522  0.02794607]", 
        "t0 3110.000000 tf 3120.000000 [ms]", 
        "ODE statesF: [mM] "
       ]
      }, 
      {
       "output_type": "stream", 
       "stream": "stdout", 
       "text": [
        " [ 0.00037329  0.02760067]", 
        "ODE statesF: [uM]  0.373292448127", 
        "ODE states Flux [mM/ms]:  [  8.07644549e-07  -3.45396507e-05]", 
        "ODE states Flux [uM/ms]:  [ 0.00080764 -0.03453965]", 
        "WARNING: jSR and dCa are lumped tother into jVold", 
        "WARNING: I probably need to constrain jvolExpr s.t. the assembled value is equal to the ODE value", 
        "jboundary [mM/ms] 4.05854281207e-05", 
        "jboundary [uM/ms] 0.0405854281207", 
        "jvol [mM/ms]  -3.98044812864e-05", 
        "jvol [uM/ms]  -39.8044812864", 
        "##", 
        "## WARNING: we are not updating CaTnC!!!", 
        "##", 
        "T 3120.000000 [ms] Conc(0) 0.000372 [mM]"
       ]
      }, 
      {
       "output_type": "stream", 
       "stream": "stdout", 
       "text": [
        "", 
        "T 3120.000000 [ms] Conc(0) 0.371668 [uM]", 
        "T 3120.000000 [ms] Conc(1) 0.033389 [mM]", 
        "T 3120.000000 [ms] Conc(1) 33.389197 [uM]", 
        "WARNING: skipping conc updatee", 
        "###########################################################################", 
        "t0  3120.0 tf  3130.0", 
        "ODE Init [mM] [ 0.00037329  0.02760067]", 
        "t0 3120.000000 tf 3130.000000 [ms]", 
        "ODE statesF: [mM] "
       ]
      }, 
      {
       "output_type": "stream", 
       "stream": "stdout", 
       "text": [
        " [ 0.00039162  0.02749967]", 
        "ODE statesF: [uM]  0.391616853174", 
        "ODE states Flux [mM/ms]:  [  1.83244050e-06  -1.01002597e-05]", 
        "ODE states Flux [uM/ms]:  [ 0.00183244 -0.01010026]", 
        "WARNING: jSR and dCa are lumped tother into jVold", 
        "WARNING: I probably need to constrain jvolExpr s.t. the assembled value is equal to the ODE value", 
        "jboundary [mM/ms] 8.26386199436e-05", 
        "jboundary [uM/ms] 0.0826386199436", 
        "jvol [mM/ms]  -8.08823100878e-05", 
        "jvol [uM/ms]  -80.8823100878", 
        "##", 
        "## WARNING: we are not updating CaTnC!!!", 
        "##", 
        "T 3130.000000 [ms] Conc(0) 0.000389 [mM]"
       ]
      }, 
      {
       "output_type": "stream", 
       "stream": "stdout", 
       "text": [
        "", 
        "T 3130.000000 [ms] Conc(0) 0.389231 [uM]", 
        "T 3130.000000 [ms] Conc(1) 0.033389 [mM]", 
        "T 3130.000000 [ms] Conc(1) 33.389197 [uM]", 
        "WARNING: skipping conc updatee", 
        "###########################################################################", 
        "t0  3130.0 tf  3140.0", 
        "ODE Init [mM] [ 0.00039162  0.02749967]", 
        "t0 3130.000000 tf 3140.000000 [ms]", 
        "ODE statesF: [mM] "
       ]
      }, 
      {
       "output_type": "stream", 
       "stream": "stdout", 
       "text": [
        " [ 0.00043194  0.02776756]", 
        "ODE statesF: [uM]  0.43194477276", 
        "ODE states Flux [mM/ms]:  [  4.03279196e-06   2.67896242e-05]", 
        "ODE states Flux [uM/ms]:  [ 0.00403279  0.02678962]", 
        "WARNING: jSR and dCa are lumped tother into jVold", 
        "WARNING: I probably need to constrain jvolExpr s.t. the assembled value is equal to the ODE value", 
        "jboundary [mM/ms] 0.000149744233527", 
        "jboundary [uM/ms] 0.149744233527", 
        "jvol [mM/ms]  -0.00014585302094", 
        "jvol [uM/ms]  -145.85302094", 
        "##", 
        "## WARNING: we are not updating CaTnC!!!", 
        "##", 
        "T 3140.000000 [ms] Conc(0) 0.000428 [mM]"
       ]
      }, 
      {
       "output_type": "stream", 
       "stream": "stdout", 
       "text": [
        "", 
        "T 3140.000000 [ms] Conc(0) 0.428143 [uM]", 
        "T 3140.000000 [ms] Conc(1) 0.033389 [mM]", 
        "T 3140.000000 [ms] Conc(1) 33.389197 [uM]", 
        "WARNING: skipping conc updatee", 
        "###########################################################################", 
        "t0  3140.0 tf  3150.0", 
        "ODE Init [mM] [ 0.00043194  0.02776756]", 
        "t0 3140.000000 tf 3150.000000 [ms]", 
        "ODE statesF: [mM] "
       ]
      }, 
      {
       "output_type": "stream", 
       "stream": "stdout", 
       "text": [
        " [ 0.00049976  0.02860714]", 
        "ODE statesF: [uM]  0.499762755467", 
        "ODE states Flux [mM/ms]:  [  6.78179827e-06   8.39576275e-05]", 
        "ODE states Flux [uM/ms]:  [ 0.0067818   0.08395763]", 
        "WARNING: jSR and dCa are lumped tother into jVold", 
        "WARNING: I probably need to constrain jvolExpr s.t. the assembled value is equal to the ODE value", 
        "jboundary [mM/ms] 0.000255311740707", 
        "jboundary [uM/ms] 0.255311740707", 
        "jvol [mM/ms]  -0.000248626636167", 
        "jvol [uM/ms]  -248.626636167", 
        "##", 
        "## WARNING: we are not updating CaTnC!!!", 
        "##", 
        "T 3150.000000 [ms] Conc(0) 0.000495 [mM]"
       ]
      }, 
      {
       "output_type": "stream", 
       "stream": "stdout", 
       "text": [
        "", 
        "T 3150.000000 [ms] Conc(0) 0.494994 [uM]", 
        "T 3150.000000 [ms] Conc(1) 0.033389 [mM]", 
        "T 3150.000000 [ms] Conc(1) 33.389197 [uM]", 
        "WARNING: skipping conc updatee", 
        "###########################################################################", 
        "t0  3150.0 tf  3160.0", 
        "ODE Init [mM] [ 0.00049976  0.02860714]", 
        "t0 3150.000000 tf 3160.000000 [ms]", 
        "ODE statesF: [mM] "
       ]
      }, 
      {
       "output_type": "stream", 
       "stream": "stdout", 
       "text": [
        " [ 0.00056684  0.02999294]", 
        "ODE statesF: [uM]  0.566836815346", 
        "ODE states Flux [mM/ms]:  [  6.70740599e-06   1.38580080e-04]", 
        "ODE states Flux [uM/ms]:  [ 0.00670741  0.13858008]", 
        "WARNING: jSR and dCa are lumped tother into jVold", 
        "WARNING: I probably need to constrain jvolExpr s.t. the assembled value is equal to the ODE value", 
        "jboundary [mM/ms] 0.00034656870353", 
        "jboundary [uM/ms] 0.34656870353", 
        "jvol [mM/ms]  -0.000339769551713", 
        "jvol [uM/ms]  -339.769551713", 
        "##", 
        "## WARNING: we are not updating CaTnC!!!", 
        "##", 
        "T 3160.000000 [ms] Conc(0) 0.000563 [mM]"
       ]
      }, 
      {
       "output_type": "stream", 
       "stream": "stdout", 
       "text": [
        "", 
        "T 3160.000000 [ms] Conc(0) 0.562986 [uM]", 
        "T 3160.000000 [ms] Conc(1) 0.033389 [mM]", 
        "T 3160.000000 [ms] Conc(1) 33.389197 [uM]", 
        "WARNING: skipping conc updatee", 
        "###########################################################################", 
        "t0  3160.0 tf  3170.0", 
        "ODE Init [mM] [ 0.00056684  0.02999294]", 
        "t0 3160.000000 tf 3170.000000 [ms]", 
        "ODE statesF: [mM] "
       ]
      }, 
      {
       "output_type": "stream", 
       "stream": "stdout", 
       "text": [
        " [ 0.00060881  0.03153014]", 
        "ODE statesF: [uM]  0.60880890283", 
        "ODE states Flux [mM/ms]:  [  4.19720875e-06   1.53719871e-04]", 
        "ODE states Flux [uM/ms]:  [ 0.00419721  0.15371987]", 
        "WARNING: jSR and dCa are lumped tother into jVold", 
        "WARNING: I probably need to constrain jvolExpr s.t. the assembled value is equal to the ODE value", 
        "jboundary [mM/ms] 0.000357164887848", 
        "jboundary [uM/ms] 0.357164887848", 
        "jvol [mM/ms]  -0.000352837674692", 
        "jvol [uM/ms]  -352.837674692", 
        "##", 
        "## WARNING: we are not updating CaTnC!!!", 
        "##", 
        "T 3170.000000 [ms] Conc(0) 0.000606 [mM]"
       ]
      }, 
      {
       "output_type": "stream", 
       "stream": "stdout", 
       "text": [
        "", 
        "T 3170.000000 [ms] Conc(0) 0.606258 [uM]", 
        "T 3170.000000 [ms] Conc(1) 0.033389 [mM]", 
        "T 3170.000000 [ms] Conc(1) 33.389197 [uM]", 
        "WARNING: skipping conc updatee", 
        "###########################################################################", 
        "t0  3170.0 tf  3180.0", 
        "ODE Init [mM] [ 0.00060881  0.03153014]", 
        "t0 3170.000000 tf 3180.000000 [ms]", 
        "ODE statesF: [mM] "
       ]
      }, 
      {
       "output_type": "stream", 
       "stream": "stdout", 
       "text": [
        " [ 0.00062917  0.03287596]", 
        "ODE statesF: [uM]  0.629173903441", 
        "ODE states Flux [mM/ms]:  [  2.03650006e-06   1.34581977e-04]", 
        "ODE states Flux [uM/ms]:  [ 0.0020365   0.13458198]", 
        "WARNING: jSR and dCa are lumped tother into jVold", 
        "WARNING: I probably need to constrain jvolExpr s.t. the assembled value is equal to the ODE value", 
        "jboundary [mM/ms] 0.000314156860531", 
        "jboundary [uM/ms] 0.314156860531", 
        "jvol [mM/ms]  -0.00031203469526", 
        "jvol [uM/ms]  -312.03469526", 
        "##", 
        "## WARNING: we are not updating CaTnC!!!", 
        "##", 
        "T 3180.000000 [ms] Conc(0) 0.000627 [mM]"
       ]
      }, 
      {
       "output_type": "stream", 
       "stream": "stdout", 
       "text": [
        "", 
        "T 3180.000000 [ms] Conc(0) 0.627480 [uM]", 
        "T 3180.000000 [ms] Conc(1) 0.033389 [mM]", 
        "T 3180.000000 [ms] Conc(1) 33.389197 [uM]", 
        "WARNING: skipping conc updatee", 
        "###########################################################################", 
        "t0  3180.0 tf  3190.0", 
        "ODE Init [mM] [ 0.00062917  0.03287596]", 
        "t0 3180.000000 tf 3190.000000 [ms]", 
        "ODE statesF: [mM] "
       ]
      }, 
      {
       "output_type": "stream", 
       "stream": "stdout", 
       "text": [
        " [ 0.00063634  0.03390503]", 
        "ODE statesF: [uM]  0.636342505137", 
        "ODE states Flux [mM/ms]:  [  7.16860170e-07   1.02907110e-04]", 
        "ODE states Flux [uM/ms]:  [ 0.00071686  0.10290711]", 
        "WARNING: jSR and dCa are lumped tother into jVold", 
        "WARNING: I probably need to constrain jvolExpr s.t. the assembled value is equal to the ODE value", 
        "jboundary [mM/ms] 0.000260579909665", 
        "jboundary [uM/ms] 0.260579909665", 
        "jvol [mM/ms]  -0.000259812475149", 
        "jvol [uM/ms]  -259.812475149", 
        "##", 
        "## WARNING: we are not updating CaTnC!!!", 
        "##", 
        "T 3190.000000 [ms] Conc(0) 0.000635 [mM]"
       ]
      }, 
      {
       "output_type": "stream", 
       "stream": "stdout", 
       "text": [
        "", 
        "T 3190.000000 [ms] Conc(0) 0.635154 [uM]", 
        "T 3190.000000 [ms] Conc(1) 0.033389 [mM]", 
        "T 3190.000000 [ms] Conc(1) 33.389197 [uM]", 
        "WARNING: skipping conc updatee", 
        "###########################################################################", 
        "t0  3190.0 tf  3200.0", 
        "ODE Init [mM] [ 0.00063634  0.03390503]", 
        "t0 3190.000000 tf 3200.000000 [ms]", 
        "ODE statesF: [mM] "
       ]
      }, 
      {
       "output_type": "stream", 
       "stream": "stdout", 
       "text": [
        " [ 0.0006356   0.03461806]", 
        "ODE statesF: [uM]  0.635603839397", 
        "ODE states Flux [mM/ms]:  [ -7.38665739e-08   7.13024117e-05]", 
        "ODE states Flux [uM/ms]:  [ -7.38665739e-05   7.13024117e-02]", 
        "WARNING: jSR and dCa are lumped tother into jVold", 
        "WARNING: I probably need to constrain jvolExpr s.t. the assembled value is equal to the ODE value", 
        "jboundary [mM/ms] 0.000213261738724", 
        "jboundary [uM/ms] 0.213261738724", 
        "jvol [mM/ms]  -0.000213304492834", 
        "jvol [uM/ms]  -213.304492834", 
        "##", 
        "## WARNING: we are not updating CaTnC!!!", 
        "##", 
        "T 3200.000000 [ms] Conc(0) 0.000635 [mM]"
       ]
      }, 
      {
       "output_type": "stream", 
       "stream": "stdout", 
       "text": [
        "", 
        "T 3200.000000 [ms] Conc(0) 0.634727 [uM]", 
        "T 3200.000000 [ms] Conc(1) 0.033389 [mM]", 
        "T 3200.000000 [ms] Conc(1) 33.389197 [uM]", 
        "WARNING: skipping conc updatee", 
        "###########################################################################", 
        "t0  3200.0 tf  3210.0", 
        "ODE Init [mM] [ 0.0006356   0.03461806]", 
        "t0 3200.000000 tf 3210.000000 [ms]", 
        "ODE statesF: [mM] "
       ]
      }, 
      {
       "output_type": "stream", 
       "stream": "stdout", 
       "text": [
        " [ 0.00062986  0.03506022]", 
        "ODE statesF: [uM]  0.629864183282", 
        "ODE states Flux [mM/ms]:  [ -5.73965612e-07   4.42160564e-05]", 
        "ODE states Flux [uM/ms]:  [-0.00057397  0.04421606]", 
        "WARNING: jSR and dCa are lumped tother into jVold", 
        "WARNING: I probably need to constrain jvolExpr s.t. the assembled value is equal to the ODE value", 
        "jboundary [mM/ms] 0.00017520197946", 
        "jboundary [uM/ms] 0.17520197946", 
        "jvol [mM/ms]  -0.000175755725651", 
        "jvol [uM/ms]  -175.755725651", 
        "##", 
        "## WARNING: we are not updating CaTnC!!!", 
        "##", 
        "T 3210.000000 [ms] Conc(0) 0.000629 [mM]"
       ]
      }, 
      {
       "output_type": "stream", 
       "stream": "stdout", 
       "text": [
        "", 
        "T 3210.000000 [ms] Conc(0) 0.629189 [uM]", 
        "T 3210.000000 [ms] Conc(1) 0.033389 [mM]", 
        "T 3210.000000 [ms] Conc(1) 33.389197 [uM]", 
        "WARNING: skipping conc updatee", 
        "###########################################################################", 
        "t0  3210.0 tf  3220.0", 
        "ODE Init [mM] [ 0.00062986  0.03506022]", 
        "t0 3210.000000 tf 3220.000000 [ms]", 
        "ODE statesF: [mM] "
       ]
      }, 
      {
       "output_type": "stream", 
       "stream": "stdout", 
       "text": [
        " [ 0.00062082  0.03528442]", 
        "ODE statesF: [uM]  0.620822412968", 
        "ODE states Flux [mM/ms]:  [ -9.04177031e-07   2.24206604e-05]", 
        "ODE states Flux [uM/ms]:  [-0.00090418  0.02242066]", 
        "WARNING: jSR and dCa are lumped tother into jVold", 
        "WARNING: I probably need to constrain jvolExpr s.t. the assembled value is equal to the ODE value", 
        "jboundary [mM/ms] 0.000145438022651", 
        "jboundary [uM/ms] 0.145438022651", 
        "jvol [mM/ms]  -0.000146328699669", 
        "jvol [uM/ms]  -146.328699669", 
        "##", 
        "## WARNING: we are not updating CaTnC!!!", 
        "##", 
        "T 3220.000000 [ms] Conc(0) 0.000620 [mM]"
       ]
      }, 
      {
       "output_type": "stream", 
       "stream": "stdout", 
       "text": [
        "", 
        "T 3220.000000 [ms] Conc(0) 0.620282 [uM]", 
        "T 3220.000000 [ms] Conc(1) 0.033389 [mM]", 
        "T 3220.000000 [ms] Conc(1) 33.389197 [uM]", 
        "WARNING: skipping conc updatee", 
        "###########################################################################", 
        "t0  3220.0 tf  3230.0", 
        "ODE Init [mM] [ 0.00062082  0.03528442]", 
        "t0 3220.000000 tf 3230.000000 [ms]", 
        "ODE statesF: [mM] "
       ]
      }, 
      {
       "output_type": "stream", 
       "stream": "stdout", 
       "text": [
        " [ 0.00060958  0.03533846]", 
        "ODE statesF: [uM]  0.609577069398", 
        "ODE states Flux [mM/ms]:  [ -1.12453436e-06   5.40324190e-06]", 
        "ODE states Flux [uM/ms]:  [-0.00112453  0.00540324]", 
        "WARNING: jSR and dCa are lumped tother into jVold", 
        "WARNING: I probably need to constrain jvolExpr s.t. the assembled value is equal to the ODE value", 
        "jboundary [mM/ms] 0.000122329921676", 
        "jboundary [uM/ms] 0.122329921676", 
        "jvol [mM/ms]  -0.000123445504271", 
        "jvol [uM/ms]  -123.445504271", 
        "##", 
        "## WARNING: we are not updating CaTnC!!!", 
        "##", 
        "T 3230.000000 [ms] Conc(0) 0.000609 [mM]"
       ]
      }, 
      {
       "output_type": "stream", 
       "stream": "stdout", 
       "text": [
        "", 
        "T 3230.000000 [ms] Conc(0) 0.609126 [uM]", 
        "T 3230.000000 [ms] Conc(1) 0.033389 [mM]", 
        "T 3230.000000 [ms] Conc(1) 33.389197 [uM]", 
        "WARNING: skipping conc updatee", 
        "###########################################################################", 
        "t0  3230.0 tf  3240.0", 
        "ODE Init [mM] [ 0.00060958  0.03533846]", 
        "t0 3230.000000 tf 3240.000000 [ms]", 
        "ODE statesF: [mM] "
       ]
      }, 
      {
       "output_type": "stream", 
       "stream": "stdout", 
       "text": [
        " [ 0.00059689  0.03526178]", 
        "ODE statesF: [uM]  0.596894415734", 
        "ODE states Flux [mM/ms]:  [ -1.26826537e-06  -7.66739929e-06]", 
        "ODE states Flux [uM/ms]:  [-0.00126827 -0.0076674 ]", 
        "WARNING: jSR and dCa are lumped tother into jVold", 
        "WARNING: I probably need to constrain jvolExpr s.t. the assembled value is equal to the ODE value", 
        "jboundary [mM/ms] 0.000104384559223", 
        "jboundary [uM/ms] 0.104384559223", 
        "jvol [mM/ms]  -0.000105647124118", 
        "jvol [uM/ms]  -105.647124118", 
        "##", 
        "## WARNING: we are not updating CaTnC!!!", 
        "##", 
        "T 3240.000000 [ms] Conc(0) 0.000597 [mM]"
       ]
      }, 
      {
       "output_type": "stream", 
       "stream": "stdout", 
       "text": [
        "", 
        "T 3240.000000 [ms] Conc(0) 0.596501 [uM]", 
        "T 3240.000000 [ms] Conc(1) 0.033389 [mM]", 
        "T 3240.000000 [ms] Conc(1) 33.389197 [uM]", 
        "WARNING: skipping conc updatee", 
        "###########################################################################", 
        "t0  3240.0 tf  3250.0", 
        "ODE Init [mM] [ 0.00059689  0.03526178]", 
        "t0 3240.000000 tf 3250.000000 [ms]", 
        "ODE statesF: [mM] "
       ]
      }, 
      {
       "output_type": "stream", 
       "stream": "stdout", 
       "text": [
        " [ 0.00058333  0.03508578]", 
        "ODE statesF: [uM]  0.583328424908", 
        "ODE states Flux [mM/ms]:  [ -1.35659908e-06  -1.75996289e-05]", 
        "ODE states Flux [uM/ms]:  [-0.0013566  -0.01759963]", 
        "WARNING: jSR and dCa are lumped tother into jVold", 
        "WARNING: I probably need to constrain jvolExpr s.t. the assembled value is equal to the ODE value", 
        "jboundary [mM/ms] 9.03946161024e-05", 
        "jboundary [uM/ms] 0.0903946161024", 
        "jvol [mM/ms]  -9.17478802746e-05", 
        "jvol [uM/ms]  -91.7478802746", 
        "##", 
        "## WARNING: we are not updating CaTnC!!!", 
        "##", 
        "T 3250.000000 [ms] Conc(0) 0.000583 [mM]"
       ]
      }, 
      {
       "output_type": "stream", 
       "stream": "stdout", 
       "text": [
        "", 
        "T 3250.000000 [ms] Conc(0) 0.582968 [uM]", 
        "T 3250.000000 [ms] Conc(1) 0.033389 [mM]", 
        "T 3250.000000 [ms] Conc(1) 33.389197 [uM]", 
        "WARNING: skipping conc updatee", 
        "###########################################################################", 
        "t0  3250.0 tf  3260.0", 
        "ODE Init [mM] [ 0.00058333  0.03508578]", 
        "t0 3250.000000 tf 3260.000000 [ms]", 
        "ODE statesF: [mM] "
       ]
      }, 
      {
       "output_type": "stream", 
       "stream": "stdout", 
       "text": [
        " [ 0.00056928  0.03483497]", 
        "ODE statesF: [uM]  0.569281371835", 
        "ODE states Flux [mM/ms]:  [ -1.40470531e-06  -2.50813705e-05]", 
        "ODE states Flux [uM/ms]:  [-0.00140471 -0.02508137]", 
        "WARNING: jSR and dCa are lumped tother into jVold", 
        "WARNING: I probably need to constrain jvolExpr s.t. the assembled value is equal to the ODE value", 
        "jboundary [mM/ms] 7.94147703902e-05", 
        "jboundary [uM/ms] 0.0794147703902", 
        "jvol [mM/ms]  -8.08178485231e-05", 
        "jvol [uM/ms]  -80.8178485231", 
        "##", 
        "## WARNING: we are not updating CaTnC!!!", 
        "##", 
        "T 3260.000000 [ms] Conc(0) 0.000569 [mM]"
       ]
      }, 
      {
       "output_type": "stream", 
       "stream": "stdout", 
       "text": [
        "", 
        "T 3260.000000 [ms] Conc(0) 0.568937 [uM]", 
        "T 3260.000000 [ms] Conc(1) 0.033389 [mM]", 
        "T 3260.000000 [ms] Conc(1) 33.389197 [uM]", 
        "WARNING: skipping conc updatee", 
        "###########################################################################", 
        "t0  3260.0 tf  3270.0", 
        "ODE Init [mM] [ 0.00056928  0.03483497]", 
        "t0 3260.000000 tf 3270.000000 [ms]", 
        "ODE statesF: [mM] "
       ]
      }, 
      {
       "output_type": "stream", 
       "stream": "stdout", 
       "text": [
        " [ 0.00055504  0.03452827]", 
        "ODE statesF: [uM]  0.555040106802", 
        "ODE states Flux [mM/ms]:  [ -1.42412650e-06  -3.06699212e-05]", 
        "ODE states Flux [uM/ms]:  [-0.00142413 -0.03066992]", 
        "WARNING: jSR and dCa are lumped tother into jVold", 
        "WARNING: I probably need to constrain jvolExpr s.t. the assembled value is equal to the ODE value", 
        "jboundary [mM/ms] 7.07100375452e-05", 
        "jboundary [uM/ms] 0.0707100375452", 
        "jvol [mM/ms]  -7.21337346068e-05", 
        "jvol [uM/ms]  -72.1337346068", 
        "##", 
        "## WARNING: we are not updating CaTnC!!!", 
        "##", 
        "T 3270.000000 [ms] Conc(0) 0.000555 [mM]"
       ]
      }, 
      {
       "output_type": "stream", 
       "stream": "stdout", 
       "text": [
        "", 
        "T 3270.000000 [ms] Conc(0) 0.554700 [uM]", 
        "T 3270.000000 [ms] Conc(1) 0.033389 [mM]", 
        "T 3270.000000 [ms] Conc(1) 33.389197 [uM]", 
        "WARNING: skipping conc updatee", 
        "###########################################################################", 
        "t0  3270.0 tf  3280.0", 
        "ODE Init [mM] [ 0.00055504  0.03452827]", 
        "t0 3270.000000 tf 3280.000000 [ms]", 
        "ODE statesF: [mM] "
       ]
      }, 
      {
       "output_type": "stream", 
       "stream": "stdout", 
       "text": [
        " [ 0.0005408   0.03418018]", 
        "ODE statesF: [uM]  0.540800855618", 
        "ODE states Flux [mM/ms]:  [ -1.42392512e-06  -3.48088907e-05]", 
        "ODE states Flux [uM/ms]:  [-0.00142393 -0.03480889]", 
        "WARNING: jSR and dCa are lumped tother into jVold", 
        "WARNING: I probably need to constrain jvolExpr s.t. the assembled value is equal to the ODE value", 
        "jboundary [mM/ms] 6.37068681684e-05", 
        "jboundary [uM/ms] 0.0637068681684", 
        "jvol [mM/ms]  -6.51311561913e-05", 
        "jvol [uM/ms]  -65.1311561913", 
        "##", 
        "## WARNING: we are not updating CaTnC!!!", 
        "##", 
        "T 3280.000000 [ms] Conc(0) 0.000540 [mM]"
       ]
      }, 
      {
       "output_type": "stream", 
       "stream": "stdout", 
       "text": [
        "", 
        "T 3280.000000 [ms] Conc(0) 0.540458 [uM]", 
        "T 3280.000000 [ms] Conc(1) 0.033389 [mM]", 
        "T 3280.000000 [ms] Conc(1) 33.389197 [uM]", 
        "WARNING: skipping conc updatee", 
        "###########################################################################", 
        "t0  3280.0 tf  3290.0", 
        "ODE Init [mM] [ 0.0005408   0.03418018]", 
        "t0 3280.000000 tf 3290.000000 [ms]", 
        "ODE statesF: [mM] "
       ]
      }, 
      {
       "output_type": "stream", 
       "stream": "stdout", 
       "text": [
        " [ 0.00052669  0.03380167]", 
        "ODE statesF: [uM]  0.526686806699", 
        "ODE states Flux [mM/ms]:  [ -1.41140489e-06  -3.78514138e-05]", 
        "ODE states Flux [uM/ms]:  [-0.0014114  -0.03785141]", 
        "WARNING: jSR and dCa are lumped tother into jVold", 
        "WARNING: I probably need to constrain jvolExpr s.t. the assembled value is equal to the ODE value", 
        "jboundary [mM/ms] 5.79517342663e-05", 
        "jboundary [uM/ms] 0.0579517342663", 
        "jvol [mM/ms]  -5.93639622483e-05", 
        "jvol [uM/ms]  -59.3639622483", 
        "##", 
        "## WARNING: we are not updating CaTnC!!!", 
        "##", 
        "T 3290.000000 [ms] Conc(0) 0.000526 [mM]"
       ]
      }, 
      {
       "output_type": "stream", 
       "stream": "stdout", 
       "text": [
        "", 
        "T 3290.000000 [ms] Conc(0) 0.526335 [uM]", 
        "T 3290.000000 [ms] Conc(1) 0.033389 [mM]", 
        "T 3290.000000 [ms] Conc(1) 33.389197 [uM]", 
        "WARNING: skipping conc updatee", 
        "###########################################################################", 
        "t0  3290.0 tf  3300.0", 
        "ODE Init [mM] [ 0.00052669  0.03380167]", 
        "t0 3290.000000 tf 3300.000000 [ms]", 
        "ODE statesF: [mM] "
       ]
      }, 
      {
       "output_type": "stream", 
       "stream": "stdout", 
       "text": [
        " [ 0.00051276  0.03340084]", 
        "ODE statesF: [uM]  0.512759700495", 
        "ODE states Flux [mM/ms]:  [ -1.39271062e-06  -4.00828496e-05]", 
        "ODE states Flux [uM/ms]:  [-0.00139271 -0.04008285]", 
        "WARNING: jSR and dCa are lumped tother into jVold", 
        "WARNING: I probably need to constrain jvolExpr s.t. the assembled value is equal to the ODE value", 
        "jboundary [mM/ms] 5.3075989347e-05", 
        "jboundary [uM/ms] 0.053075989347", 
        "jvol [mM/ms]  -5.44696946358e-05", 
        "jvol [uM/ms]  -54.4696946358", 
        "##", 
        "## WARNING: we are not updating CaTnC!!!", 
        "##", 
        "T 3300.000000 [ms] Conc(0) 0.000512 [mM]"
       ]
      }, 
      {
       "output_type": "stream", 
       "stream": "stdout", 
       "text": [
        "", 
        "T 3300.000000 [ms] Conc(0) 0.512398 [uM]", 
        "T 3300.000000 [ms] Conc(1) 0.033389 [mM]", 
        "T 3300.000000 [ms] Conc(1) 33.389197 [uM]", 
        "WARNING: skipping conc updatee", 
        "###########################################################################", 
        "t0  3300.0 tf  3310.0", 
        "ODE Init [mM] [ 0.00051276  0.03340084]", 
        "t0 3300.000000 tf 3310.000000 [ms]", 
        "ODE statesF: [mM] "
       ]
      }, 
      {
       "output_type": "stream", 
       "stream": "stdout", 
       "text": [
        " [ 0.00049903  0.03298342]", 
        "ODE statesF: [uM]  0.499025297484", 
        "ODE states Flux [mM/ms]:  [ -1.37344030e-06  -4.17416978e-05]", 
        "ODE states Flux [uM/ms]:  [-0.00137344 -0.0417417 ]", 
        "WARNING: jSR and dCa are lumped tother into jVold", 
        "WARNING: I probably need to constrain jvolExpr s.t. the assembled value is equal to the ODE value", 
        "jboundary [mM/ms] 4.87641379565e-05", 
        "jboundary [uM/ms] 0.0487641379565", 
        "jvol [mM/ms]  -5.01384669616e-05", 
        "jvol [uM/ms]  -50.1384669616", 
        "##", 
        "## WARNING: we are not updating CaTnC!!!", 
        "##", 
        "T 3310.000000 [ms] Conc(0) 0.000499 [mM]"
       ]
      }, 
      {
       "output_type": "stream", 
       "stream": "stdout", 
       "text": [
        "", 
        "T 3310.000000 [ms] Conc(0) 0.498655 [uM]", 
        "T 3310.000000 [ms] Conc(1) 0.033389 [mM]", 
        "T 3310.000000 [ms] Conc(1) 33.389197 [uM]", 
        "WARNING: skipping conc updatee", 
        "###########################################################################", 
        "t0  3310.0 tf  3320.0", 
        "ODE Init [mM] [ 0.00049903  0.03298342]", 
        "t0 3310.000000 tf 3320.000000 [ms]", 
        "ODE statesF: [mM] "
       ]
      }, 
      {
       "output_type": "stream", 
       "stream": "stdout", 
       "text": [
        " [ 0.00048543  0.03255302]", 
        "ODE statesF: [uM]  0.485431541107", 
        "ODE states Flux [mM/ms]:  [ -1.35937564e-06  -4.30400677e-05]", 
        "ODE states Flux [uM/ms]:  [-0.00135938 -0.04304007]", 
        "WARNING: jSR and dCa are lumped tother into jVold", 
        "WARNING: I probably need to constrain jvolExpr s.t. the assembled value is equal to the ODE value", 
        "jboundary [mM/ms] 4.47216347525e-05", 
        "jboundary [uM/ms] 0.0447216347525", 
        "jvol [mM/ms]  -4.60814858315e-05", 
        "jvol [uM/ms]  -46.0814858315", 
        "##", 
        "## WARNING: we are not updating CaTnC!!!", 
        "##", 
        "T 3320.000000 [ms] Conc(0) 0.000485 [mM]"
       ]
      }, 
      {
       "output_type": "stream", 
       "stream": "stdout", 
       "text": [
        "", 
        "T 3320.000000 [ms] Conc(0) 0.485056 [uM]", 
        "T 3320.000000 [ms] Conc(1) 0.033389 [mM]", 
        "T 3320.000000 [ms] Conc(1) 33.389197 [uM]", 
        "WARNING: skipping conc updatee", 
        "###########################################################################", 
        "t0  3320.0 tf  3330.0", 
        "ODE Init [mM] [ 0.00048543  0.03255302]", 
        "t0 3320.000000 tf 3330.000000 [ms]", 
        "ODE statesF: [mM] "
       ]
      }, 
      {
       "output_type": "stream", 
       "stream": "stdout", 
       "text": [
        " [ 0.00047186  0.03211116]", 
        "ODE statesF: [uM]  0.471857724791", 
        "ODE states Flux [mM/ms]:  [ -1.35738163e-06  -4.41860206e-05]", 
        "ODE states Flux [uM/ms]:  [-0.00135738 -0.04418602]", 
        "WARNING: jSR and dCa are lumped tother into jVold", 
        "WARNING: I probably need to constrain jvolExpr s.t. the assembled value is equal to the ODE value", 
        "jboundary [mM/ms] 4.06374711886e-05", 
        "jboundary [uM/ms] 0.0406374711886", 
        "jvol [mM/ms]  -4.19945316193e-05", 
        "jvol [uM/ms]  -41.9945316193", 
        "##", 
        "## WARNING: we are not updating CaTnC!!!", 
        "##", 
        "T 3330.000000 [ms] Conc(0) 0.000471 [mM]"
       ]
      }, 
      {
       "output_type": "stream", 
       "stream": "stdout", 
       "text": [
        "", 
        "T 3330.000000 [ms] Conc(0) 0.471486 [uM]", 
        "T 3330.000000 [ms] Conc(1) 0.033389 [mM]", 
        "T 3330.000000 [ms] Conc(1) 33.389197 [uM]", 
        "WARNING: skipping conc updatee", 
        "###########################################################################", 
        "t0  3330.0 tf  3340.0", 
        "ODE Init [mM] [ 0.00047186  0.03211116]", 
        "t0 3330.000000 tf 3340.000000 [ms]", 
        "ODE statesF: [mM] "
       ]
      }, 
      {
       "output_type": "stream", 
       "stream": "stdout", 
       "text": [
        " [ 0.0004581   0.03165708]", 
        "ODE statesF: [uM]  0.458098558769", 
        "ODE states Flux [mM/ms]:  [ -1.37591660e-06  -4.54081552e-05]", 
        "ODE states Flux [uM/ms]:  [-0.00137592 -0.04540816]", 
        "WARNING: jSR and dCa are lumped tother into jVold", 
        "WARNING: I probably need to constrain jvolExpr s.t. the assembled value is equal to the ODE value", 
        "jboundary [mM/ms] 3.61418069685e-05", 
        "jboundary [uM/ms] 0.0361418069685", 
        "jvol [mM/ms]  -3.75161653347e-05", 
        "jvol [uM/ms]  -37.5161653347", 
        "##", 
        "## WARNING: we are not updating CaTnC!!!", 
        "##", 
        "T 3340.000000 [ms] Conc(0) 0.000458 [mM]"
       ]
      }, 
      {
       "output_type": "stream", 
       "stream": "stdout", 
       "text": [
        "", 
        "T 3340.000000 [ms] Conc(0) 0.457742 [uM]", 
        "T 3340.000000 [ms] Conc(1) 0.033389 [mM]", 
        "T 3340.000000 [ms] Conc(1) 33.389197 [uM]", 
        "WARNING: skipping conc updatee", 
        "###########################################################################", 
        "t0  3340.0 tf  3350.0", 
        "ODE Init [mM] [ 0.0004581   0.03165708]", 
        "t0 3340.000000 tf 3350.000000 [ms]", 
        "ODE statesF: [mM] "
       ]
      }, 
      {
       "output_type": "stream", 
       "stream": "stdout", 
       "text": [
        " [ 0.00044389  0.03118746]", 
        "ODE statesF: [uM]  0.443886570897", 
        "ODE states Flux [mM/ms]:  [ -1.42119879e-06  -4.69621065e-05]", 
        "ODE states Flux [uM/ms]:  [-0.0014212  -0.04696211]", 
        "WARNING: jSR and dCa are lumped tother into jVold", 
        "WARNING: I probably need to constrain jvolExpr s.t. the assembled value is equal to the ODE value", 
        "jboundary [mM/ms] 3.08034245136e-05", 
        "jboundary [uM/ms] 0.0308034245136", 
        "jvol [mM/ms]  -3.22217815576e-05", 
        "jvol [uM/ms]  -32.2217815576", 
        "##", 
        "## WARNING: we are not updating CaTnC!!!", 
        "##", 
        "T 3350.000000 [ms] Conc(0) 0.000444 [mM]"
       ]
      }, 
      {
       "output_type": "stream", 
       "stream": "stdout", 
       "text": [
        "", 
        "T 3350.000000 [ms] Conc(0) 0.443559 [uM]", 
        "T 3350.000000 [ms] Conc(1) 0.033389 [mM]", 
        "T 3350.000000 [ms] Conc(1) 33.389197 [uM]", 
        "WARNING: skipping conc updatee", 
        "###########################################################################", 
        "t0  3350.0 tf  3360.0", 
        "ODE Init [mM] [ 0.00044389  0.03118746]", 
        "t0 3350.000000 tf 3360.000000 [ms]", 
        "ODE statesF: [mM] "
       ]
      }, 
      {
       "output_type": "stream", 
       "stream": "stdout", 
       "text": [
        " [ 0.00042909  0.03069723]", 
        "ODE statesF: [uM]  0.429086125611", 
        "ODE states Flux [mM/ms]:  [ -1.48004453e-06  -4.90233876e-05]", 
        "ODE states Flux [uM/ms]:  [-0.00148004 -0.04902339]", 
        "WARNING: jSR and dCa are lumped tother into jVold", 
        "WARNING: I probably need to constrain jvolExpr s.t. the assembled value is equal to the ODE value", 
        "jboundary [mM/ms] 2.43670688359e-05", 
        "jboundary [uM/ms] 0.0243670688359", 
        "jvol [mM/ms]  -2.58444243209e-05", 
        "jvol [uM/ms]  -25.8444243209", 
        "##", 
        "## WARNING: we are not updating CaTnC!!!", 
        "##", 
        "T 3360.000000 [ms] Conc(0) 0.000429 [mM]"
       ]
      }, 
      {
       "output_type": "stream", 
       "stream": "stdout", 
       "text": [
        "", 
        "T 3360.000000 [ms] Conc(0) 0.428785 [uM]", 
        "T 3360.000000 [ms] Conc(1) 0.033389 [mM]", 
        "T 3360.000000 [ms] Conc(1) 33.389197 [uM]", 
        "WARNING: skipping conc updatee", 
        "###########################################################################", 
        "t0  3360.0 tf  3370.0", 
        "ODE Init [mM] [ 0.00042909  0.03069723]", 
        "t0 3360.000000 tf 3370.000000 [ms]", 
        "ODE statesF: [mM] "
       ]
      }, 
      {
       "output_type": "stream", 
       "stream": "stdout", 
       "text": [
        " [ 0.00041381  0.0301826 ]", 
        "ODE statesF: [uM]  0.413812790429", 
        "ODE states Flux [mM/ms]:  [ -1.52733352e-06  -5.14625225e-05]", 
        "ODE states Flux [uM/ms]:  [-0.00152733 -0.05146252]", 
        "WARNING: jSR and dCa are lumped tother into jVold", 
        "WARNING: I probably need to constrain jvolExpr s.t. the assembled value is equal to the ODE value", 
        "jboundary [mM/ms] 1.71951585856e-05", 
        "jboundary [uM/ms] 0.0171951585856", 
        "jvol [mM/ms]  -1.87196025472e-05", 
        "jvol [uM/ms]  -18.7196025472", 
        "##", 
        "## WARNING: we are not updating CaTnC!!!", 
        "##", 
        "T 3370.000000 [ms] Conc(0) 0.000414 [mM]"
       ]
      }, 
      {
       "output_type": "stream", 
       "stream": "stdout", 
       "text": [
        "", 
        "T 3370.000000 [ms] Conc(0) 0.413541 [uM]", 
        "T 3370.000000 [ms] Conc(1) 0.033389 [mM]", 
        "T 3370.000000 [ms] Conc(1) 33.389197 [uM]", 
        "WARNING: skipping conc updatee", 
        "###########################################################################", 
        "t0  3370.0 tf  3380.0", 
        "ODE Init [mM] [ 0.00041381  0.0301826 ]", 
        "t0 3370.000000 tf 3380.000000 [ms]", 
        "ODE statesF: [mM] "
       ]
      }, 
      {
       "output_type": "stream", 
       "stream": "stdout", 
       "text": [
        " [ 0.00039764  0.02963873]", 
        "ODE statesF: [uM]  0.397635069989", 
        "ODE states Flux [mM/ms]:  [ -1.61777204e-06  -5.43872319e-05]", 
        "ODE states Flux [uM/ms]:  [-0.00161777 -0.05438723]", 
        "WARNING: jSR and dCa are lumped tother into jVold", 
        "WARNING: I probably need to constrain jvolExpr s.t. the assembled value is equal to the ODE value", 
        "jboundary [mM/ms] 8.98909782362e-06", 
        "jboundary [uM/ms] 0.00898909782362", 
        "jvol [mM/ms]  -1.06022415781e-05", 
        "jvol [uM/ms]  -10.6022415781", 
        "##", 
        "## WARNING: we are not updating CaTnC!!!", 
        "##", 
        "T 3380.000000 [ms] Conc(0) 0.000397 [mM]"
       ]
      }, 
      {
       "output_type": "stream", 
       "stream": "stdout", 
       "text": [
        "", 
        "T 3380.000000 [ms] Conc(0) 0.397409 [uM]", 
        "T 3380.000000 [ms] Conc(1) 0.033389 [mM]", 
        "T 3380.000000 [ms] Conc(1) 33.389197 [uM]", 
        "WARNING: skipping conc updatee", 
        "###########################################################################", 
        "t0  3380.0 tf  3390.0", 
        "ODE Init [mM] [ 0.00039764  0.02963873]", 
        "t0 3380.000000 tf 3390.000000 [ms]", 
        "ODE statesF: [mM] "
       ]
      }, 
      {
       "output_type": "stream", 
       "stream": "stdout", 
       "text": [
        " [ 0.0003818   0.02906318]", 
        "ODE statesF: [uM]  0.381797254827", 
        "ODE states Flux [mM/ms]:  [ -1.58378152e-06  -5.75545643e-05]", 
        "ODE states Flux [uM/ms]:  [-0.00158378 -0.05755456]", 
        "WARNING: jSR and dCa are lumped tother into jVold", 
        "WARNING: I probably need to constrain jvolExpr s.t. the assembled value is equal to the ODE value", 
        "jboundary [mM/ms] 3.810864574e-07", 
        "jboundary [uM/ms] 0.0003810864574", 
        "jvol [mM/ms]  -1.97307796719e-06", 
        "jvol [uM/ms]  -1.97307796719", 
        "##", 
        "## WARNING: we are not updating CaTnC!!!", 
        "##", 
        "T 3390.000000 [ms] Conc(0) 0.000381 [mM]"
       ]
      }, 
      {
       "output_type": "stream", 
       "stream": "stdout", 
       "text": [
        "", 
        "T 3390.000000 [ms] Conc(0) 0.381489 [uM]", 
        "T 3390.000000 [ms] Conc(1) 0.033389 [mM]", 
        "T 3390.000000 [ms] Conc(1) 33.389197 [uM]", 
        "WARNING: skipping conc updatee", 
        "###########################################################################", 
        "t0  3390.0 tf  3400.0", 
        "ODE Init [mM] [ 0.0003818   0.02906318]", 
        "t0 3390.000000 tf 3400.000000 [ms]", 
        "ODE statesF: [mM] "
       ]
      }, 
      {
       "output_type": "stream", 
       "stream": "stdout", 
       "text": [
        " [ 0.00036767  0.02847494]", 
        "ODE statesF: [uM]  0.367666902907", 
        "ODE states Flux [mM/ms]:  [ -1.41303519e-06  -5.88243757e-05]", 
        "ODE states Flux [uM/ms]:  [-0.00141304 -0.05882438]", 
        "WARNING: jSR and dCa are lumped tother into jVold", 
        "WARNING: I probably need to constrain jvolExpr s.t. the assembled value is equal to the ODE value", 
        "jboundary [mM/ms] -4.18080292443e-06", 
        "jboundary [uM/ms] -0.00418080292443", 
        "jvol [mM/ms]  2.76080617968e-06", 
        "jvol [uM/ms]  2.76080617968", 
        "##", 
        "## WARNING: we are not updating CaTnC!!!", 
        "##", 
        "T 3400.000000 [ms] Conc(0) 0.000367 [mM]"
       ]
      }, 
      {
       "output_type": "stream", 
       "stream": "stdout", 
       "text": [
        "", 
        "T 3400.000000 [ms] Conc(0) 0.367289 [uM]", 
        "T 3400.000000 [ms] Conc(1) 0.033389 [mM]", 
        "T 3400.000000 [ms] Conc(1) 33.389197 [uM]", 
        "WARNING: skipping conc updatee", 
        "###########################################################################", 
        "t0  3400.0 tf  3410.0", 
        "ODE Init [mM] [ 0.00036767  0.02847494]", 
        "t0 3400.000000 tf 3410.000000 [ms]", 
        "ODE statesF: [mM] "
       ]
      }, 
      {
       "output_type": "stream", 
       "stream": "stdout", 
       "text": [
        " [ 0.00036457  0.02792433]", 
        "ODE statesF: [uM]  0.364569933995", 
        "ODE states Flux [mM/ms]:  [ -3.09696891e-07  -5.50610570e-05]", 
        "ODE states Flux [uM/ms]:  [-0.0003097  -0.05506106]", 
        "WARNING: jSR and dCa are lumped tother into jVold", 
        "WARNING: I probably need to constrain jvolExpr s.t. the assembled value is equal to the ODE value", 
        "jboundary [mM/ms] 1.39618216594e-06", 
        "jboundary [uM/ms] 0.00139618216594", 
        "jvol [mM/ms]  -1.83698921038e-06", 
        "jvol [uM/ms]  -1.83698921038", 
        "##", 
        "## WARNING: we are not updating CaTnC!!!", 
        "##", 
        "T 3410.000000 [ms] Conc(0) 0.000363 [mM]"
       ]
      }, 
      {
       "output_type": "stream", 
       "stream": "stdout", 
       "text": [
        "", 
        "T 3410.000000 [ms] Conc(0) 0.362881 [uM]", 
        "T 3410.000000 [ms] Conc(1) 0.033389 [mM]", 
        "T 3410.000000 [ms] Conc(1) 33.389197 [uM]", 
        "WARNING: skipping conc updatee", 
        "###########################################################################", 
        "t0  3410.0 tf  3420.0", 
        "ODE Init [mM] [ 0.00036457  0.02792433]", 
        "t0 3410.000000 tf 3420.000000 [ms]", 
        "ODE statesF: [mM] "
       ]
      }, 
      {
       "output_type": "stream", 
       "stream": "stdout", 
       "text": [
        " [ 0.0003727   0.02757732]", 
        "ODE statesF: [uM]  0.372704782649", 
        "ODE states Flux [mM/ms]:  [  8.13484865e-07  -3.47008803e-05]", 
        "ODE states Flux [uM/ms]:  [ 0.00081348 -0.03470088]", 
        "WARNING: jSR and dCa are lumped tother into jVold", 
        "WARNING: I probably need to constrain jvolExpr s.t. the assembled value is equal to the ODE value", 
        "jboundary [mM/ms] 4.03001915355e-05", 
        "jboundary [uM/ms] 0.0403001915355", 
        "jvol [mM/ms]  -3.95147057427e-05", 
        "jvol [uM/ms]  -39.5147057427", 
        "##", 
        "## WARNING: we are not updating CaTnC!!!", 
        "##", 
        "T 3420.000000 [ms] Conc(0) 0.000371 [mM]"
       ]
      }, 
      {
       "output_type": "stream", 
       "stream": "stdout", 
       "text": [
        "", 
        "T 3420.000000 [ms] Conc(0) 0.370736 [uM]", 
        "T 3420.000000 [ms] Conc(1) 0.033389 [mM]", 
        "T 3420.000000 [ms] Conc(1) 33.389197 [uM]", 
        "WARNING: skipping conc updatee", 
        "###########################################################################", 
        "t0  3420.0 tf  3430.0", 
        "ODE Init [mM] [ 0.0003727   0.02757732]", 
        "t0 3420.000000 tf 3430.000000 [ms]", 
        "ODE statesF: [mM] "
       ]
      }, 
      {
       "output_type": "stream", 
       "stream": "stdout", 
       "text": [
        " [ 0.0003914   0.02747755]", 
        "ODE statesF: [uM]  0.391402799327", 
        "ODE states Flux [mM/ms]:  [  1.86980167e-06  -9.97659931e-06]", 
        "ODE states Flux [uM/ms]:  [ 0.0018698 -0.0099766]", 
        "WARNING: jSR and dCa are lumped tother into jVold", 
        "WARNING: I probably need to constrain jvolExpr s.t. the assembled value is equal to the ODE value", 
        "jboundary [mM/ms] 8.29376357252e-05", 
        "jboundary [uM/ms] 0.0829376357252", 
        "jvol [mM/ms]  -8.11465998993e-05", 
        "jvol [uM/ms]  -81.1465998993", 
        "##", 
        "## WARNING: we are not updating CaTnC!!!", 
        "##", 
        "T 3430.000000 [ms] Conc(0) 0.000389 [mM]"
       ]
      }, 
      {
       "output_type": "stream", 
       "stream": "stdout", 
       "text": [
        "", 
        "T 3430.000000 [ms] Conc(0) 0.388647 [uM]", 
        "T 3430.000000 [ms] Conc(1) 0.033389 [mM]", 
        "T 3430.000000 [ms] Conc(1) 33.389197 [uM]", 
        "WARNING: skipping conc updatee", 
        "###########################################################################", 
        "t0  3430.0 tf  3440.0", 
        "ODE Init [mM] [ 0.0003914   0.02747755]", 
        "t0 3430.000000 tf 3440.000000 [ms]", 
        "ODE statesF: [mM] "
       ]
      }, 
      {
       "output_type": "stream", 
       "stream": "stdout", 
       "text": [
        " [ 0.00043312  0.02775625]", 
        "ODE statesF: [uM]  0.433117276204", 
        "ODE states Flux [mM/ms]:  [  4.17144769e-06   2.78693656e-05]", 
        "ODE states Flux [uM/ms]:  [ 0.00417145  0.02786937]", 
        "WARNING: jSR and dCa are lumped tother into jVold", 
        "WARNING: I probably need to constrain jvolExpr s.t. the assembled value is equal to the ODE value", 
        "jboundary [mM/ms] 0.000151988293751", 
        "jboundary [uM/ms] 0.151988293751", 
        "jvol [mM/ms]  -0.000147965864737", 
        "jvol [uM/ms]  -147.965864737", 
        "##", 
        "## WARNING: we are not updating CaTnC!!!", 
        "##", 
        "T 3440.000000 [ms] Conc(0) 0.000429 [mM]"
       ]
      }, 
      {
       "output_type": "stream", 
       "stream": "stdout", 
       "text": [
        "", 
        "T 3440.000000 [ms] Conc(0) 0.428871 [uM]", 
        "T 3440.000000 [ms] Conc(1) 0.033389 [mM]", 
        "T 3440.000000 [ms] Conc(1) 33.389197 [uM]", 
        "WARNING: skipping conc updatee", 
        "###########################################################################", 
        "t0  3440.0 tf  3450.0", 
        "ODE Init [mM] [ 0.00043312  0.02775625]", 
        "t0 3440.000000 tf 3450.000000 [ms]", 
        "ODE statesF: [mM] "
       ]
      }, 
      {
       "output_type": "stream", 
       "stream": "stdout", 
       "text": [
        " [ 0.00050351  0.02862816]", 
        "ODE statesF: [uM]  0.503505332676", 
        "ODE states Flux [mM/ms]:  [  7.03880565e-06   8.71914410e-05]", 
        "ODE states Flux [uM/ms]:  [ 0.00703881  0.08719144]", 
        "WARNING: jSR and dCa are lumped tother into jVold", 
        "WARNING: I probably need to constrain jvolExpr s.t. the assembled value is equal to the ODE value", 
        "jboundary [mM/ms] 0.000261729079705", 
        "jboundary [uM/ms] 0.261729079705", 
        "jvol [mM/ms]  -0.00025478791679", 
        "jvol [uM/ms]  -254.78791679", 
        "##", 
        "## WARNING: we are not updating CaTnC!!!", 
        "##", 
        "T 3450.000000 [ms] Conc(0) 0.000498 [mM]"
       ]
      }, 
      {
       "output_type": "stream", 
       "stream": "stdout", 
       "text": [
        "", 
        "T 3450.000000 [ms] Conc(0) 0.498282 [uM]", 
        "T 3450.000000 [ms] Conc(1) 0.033389 [mM]", 
        "T 3450.000000 [ms] Conc(1) 33.389197 [uM]", 
        "WARNING: skipping conc updatee", 
        "###########################################################################", 
        "t0  3450.0 tf  3460.0", 
        "ODE Init [mM] [ 0.00050351  0.02862816]", 
        "t0 3450.000000 tf 3460.000000 [ms]", 
        "ODE statesF: [mM] "
       ]
      }, 
      {
       "output_type": "stream", 
       "stream": "stdout", 
       "text": [
        " [ 0.00057194  0.0300587 ]", 
        "ODE statesF: [uM]  0.571939235485", 
        "ODE states Flux [mM/ms]:  [  6.84339028e-06   1.43053686e-04]", 
        "ODE states Flux [uM/ms]:  [ 0.00684339  0.14305369]", 
        "WARNING: jSR and dCa are lumped tother into jVold", 
        "WARNING: I probably need to constrain jvolExpr s.t. the assembled value is equal to the ODE value", 
        "jboundary [mM/ms] 0.000354609187592", 
        "jboundary [uM/ms] 0.354609187592", 
        "jvol [mM/ms]  -0.000347664559588", 
        "jvol [uM/ms]  -347.664559588", 
        "##", 
        "## WARNING: we are not updating CaTnC!!!", 
        "##", 
        "T 3460.000000 [ms] Conc(0) 0.000568 [mM]"
       ]
      }, 
      {
       "output_type": "stream", 
       "stream": "stdout", 
       "text": [
        "", 
        "T 3460.000000 [ms] Conc(0) 0.567729 [uM]", 
        "T 3460.000000 [ms] Conc(1) 0.033389 [mM]", 
        "T 3460.000000 [ms] Conc(1) 33.389197 [uM]", 
        "WARNING: skipping conc updatee", 
        "###########################################################################", 
        "t0  3460.0 tf  3470.0", 
        "ODE Init [mM] [ 0.00057194  0.0300587 ]", 
        "t0 3460.000000 tf 3470.000000 [ms]", 
        "ODE statesF: [mM] "
       ]
      }, 
      {
       "output_type": "stream", 
       "stream": "stdout", 
       "text": [
        " [ 0.0006139   0.03162922]", 
        "ODE statesF: [uM]  0.613895879801", 
        "ODE states Flux [mM/ms]:  [  4.19566443e-06   1.57051664e-04]", 
        "ODE states Flux [uM/ms]:  [ 0.00419566  0.15705166]", 
        "WARNING: jSR and dCa are lumped tother into jVold", 
        "WARNING: I probably need to constrain jvolExpr s.t. the assembled value is equal to the ODE value", 
        "jboundary [mM/ms] 0.000362361411708", 
        "jboundary [uM/ms] 0.362361411708", 
        "jvol [mM/ms]  -0.000358032052681", 
        "jvol [uM/ms]  -358.032052681", 
        "##", 
        "## WARNING: we are not updating CaTnC!!!", 
        "##", 
        "T 3470.000000 [ms] Conc(0) 0.000611 [mM]"
       ]
      }, 
      {
       "output_type": "stream", 
       "stream": "stdout", 
       "text": [
        "", 
        "T 3470.000000 [ms] Conc(0) 0.611022 [uM]", 
        "T 3470.000000 [ms] Conc(1) 0.033389 [mM]", 
        "T 3470.000000 [ms] Conc(1) 33.389197 [uM]", 
        "WARNING: skipping conc updatee", 
        "###########################################################################", 
        "t0  3470.0 tf  3480.0", 
        "ODE Init [mM] [ 0.0006139   0.03162922]", 
        "t0 3470.000000 tf 3480.000000 [ms]", 
        "ODE statesF: [mM] "
       ]
      }, 
      {
       "output_type": "stream", 
       "stream": "stdout", 
       "text": [
        " [ 0.00063395  0.03299236]", 
        "ODE statesF: [uM]  0.633947670462", 
        "ODE states Flux [mM/ms]:  [  2.00517907e-06   1.36314482e-04]", 
        "ODE states Flux [uM/ms]:  [ 0.00200518  0.13631448]", 
        "WARNING: jSR and dCa are lumped tother into jVold", 
        "WARNING: I probably need to constrain jvolExpr s.t. the assembled value is equal to the ODE value", 
        "jboundary [mM/ms] 0.000316603011685", 
        "jboundary [uM/ms] 0.316603011685", 
        "jvol [mM/ms]  -0.000314511963985", 
        "jvol [uM/ms]  -314.511963985", 
        "##", 
        "## WARNING: we are not updating CaTnC!!!", 
        "##", 
        "T 3480.000000 [ms] Conc(0) 0.000632 [mM]"
       ]
      }, 
      {
       "output_type": "stream", 
       "stream": "stdout", 
       "text": [
        "", 
        "T 3480.000000 [ms] Conc(0) 0.631933 [uM]", 
        "T 3480.000000 [ms] Conc(1) 0.033389 [mM]", 
        "T 3480.000000 [ms] Conc(1) 33.389197 [uM]", 
        "WARNING: skipping conc updatee", 
        "###########################################################################", 
        "t0  3480.0 tf  3490.0", 
        "ODE Init [mM] [ 0.00063395  0.03299236]", 
        "t0 3480.000000 tf 3490.000000 [ms]", 
        "ODE statesF: [mM] "
       ]
      }, 
      {
       "output_type": "stream", 
       "stream": "stdout", 
       "text": [
        " [ 0.00064084  0.03402809]", 
        "ODE statesF: [uM]  0.640836073974", 
        "ODE states Flux [mM/ms]:  [  6.88840351e-07   1.03572901e-04]", 
        "ODE states Flux [uM/ms]:  [ 0.00068884  0.1035729 ]", 
        "WARNING: jSR and dCa are lumped tother into jVold", 
        "WARNING: I probably need to constrain jvolExpr s.t. the assembled value is equal to the ODE value", 
        "jboundary [mM/ms] 0.000261614139573", 
        "jboundary [uM/ms] 0.261614139573", 
        "jvol [mM/ms]  -0.000260875018875", 
        "jvol [uM/ms]  -260.875018875", 
        "##", 
        "## WARNING: we are not updating CaTnC!!!", 
        "##", 
        "T 3490.000000 [ms] Conc(0) 0.000639 [mM]"
       ]
      }, 
      {
       "output_type": "stream", 
       "stream": "stdout", 
       "text": [
        "", 
        "T 3490.000000 [ms] Conc(0) 0.639324 [uM]", 
        "T 3490.000000 [ms] Conc(1) 0.033389 [mM]", 
        "T 3490.000000 [ms] Conc(1) 33.389197 [uM]", 
        "WARNING: skipping conc updatee", 
        "###########################################################################", 
        "t0  3490.0 tf  3500.0", 
        "ODE Init [mM] [ 0.00064084  0.03402809]", 
        "t0 3490.000000 tf 3500.000000 [ms]", 
        "ODE statesF: [mM] "
       ]
      }, 
      {
       "output_type": "stream", 
       "stream": "stdout", 
       "text": [
        " [ 0.00063987  0.03474199]", 
        "ODE statesF: [uM]  0.639866110576", 
        "ODE states Flux [mM/ms]:  [ -9.69963398e-08   7.13900831e-05]", 
        "ODE states Flux [uM/ms]:  [ -9.69963398e-05   7.13900831e-02]", 
        "WARNING: jSR and dCa are lumped tother into jVold", 
        "WARNING: I probably need to constrain jvolExpr s.t. the assembled value is equal to the ODE value", 
        "jboundary [mM/ms] 0.000213678997206", 
        "jboundary [uM/ms] 0.213678997206", 
        "jvol [mM/ms]  -0.000213745059185", 
        "jvol [uM/ms]  -213.745059185", 
        "##", 
        "## WARNING: we are not updating CaTnC!!!", 
        "##", 
        "T 3500.000000 [ms] Conc(0) 0.000639 [mM]"
       ]
      }, 
      {
       "output_type": "stream", 
       "stream": "stdout", 
       "text": [
        "", 
        "T 3500.000000 [ms] Conc(0) 0.638663 [uM]", 
        "T 3500.000000 [ms] Conc(1) 0.033389 [mM]", 
        "T 3500.000000 [ms] Conc(1) 33.389197 [uM]", 
        "WARNING: skipping conc updatee", 
        "###########################################################################", 
        "t0  3500.0 tf  3510.0", 
        "ODE Init [mM] [ 0.00063987  0.03474199]", 
        "t0 3500.000000 tf 3510.000000 [ms]", 
        "ODE statesF: [mM] "
       ]
      }, 
      {
       "output_type": "stream", 
       "stream": "stdout", 
       "text": [
        " [ 0.00063392  0.03518214]", 
        "ODE statesF: [uM]  0.633917377725", 
        "ODE states Flux [mM/ms]:  [ -5.94873285e-07   4.40153159e-05]", 
        "ODE states Flux [uM/ms]:  [-0.00059487  0.04401532]", 
        "WARNING: jSR and dCa are lumped tother into jVold", 
        "WARNING: I probably need to constrain jvolExpr s.t. the assembled value is equal to the ODE value", 
        "jboundary [mM/ms] 0.000175357750319", 
        "jboundary [uM/ms] 0.175357750319", 
        "jvol [mM/ms]  -0.000175932463309", 
        "jvol [uM/ms]  -175.932463309", 
        "##", 
        "## WARNING: we are not updating CaTnC!!!", 
        "##", 
        "T 3510.000000 [ms] Conc(0) 0.000633 [mM]"
       ]
      }, 
      {
       "output_type": "stream", 
       "stream": "stdout", 
       "text": [
        "", 
        "T 3510.000000 [ms] Conc(0) 0.632916 [uM]", 
        "T 3510.000000 [ms] Conc(1) 0.033389 [mM]", 
        "T 3510.000000 [ms] Conc(1) 33.389197 [uM]", 
        "WARNING: skipping conc updatee", 
        "###########################################################################", 
        "t0  3510.0 tf  3520.0", 
        "ODE Init [mM] [ 0.00063392  0.03518214]", 
        "t0 3510.000000 tf 3520.000000 [ms]", 
        "ODE statesF: [mM] "
       ]
      }, 
      {
       "output_type": "stream", 
       "stream": "stdout", 
       "text": [
        " [ 0.00062467  0.03540298]", 
        "ODE statesF: [uM]  0.624671765012", 
        "ODE states Flux [mM/ms]:  [ -9.24561271e-07   2.20835921e-05]", 
        "ODE states Flux [uM/ms]:  [-0.00092456  0.02208359]", 
        "WARNING: jSR and dCa are lumped tother into jVold", 
        "WARNING: I probably need to constrain jvolExpr s.t. the assembled value is equal to the ODE value", 
        "jboundary [mM/ms] 0.000145484613803", 
        "jboundary [uM/ms] 0.145484613803", 
        "jvol [mM/ms]  -0.000146395678807", 
        "jvol [uM/ms]  -146.395678807", 
        "##", 
        "## WARNING: we are not updating CaTnC!!!", 
        "##", 
        "T 3520.000000 [ms] Conc(0) 0.000624 [mM]"
       ]
      }, 
      {
       "output_type": "stream", 
       "stream": "stdout", 
       "text": [
        "", 
        "T 3520.000000 [ms] Conc(0) 0.623806 [uM]", 
        "T 3520.000000 [ms] Conc(1) 0.033389 [mM]", 
        "T 3520.000000 [ms] Conc(1) 33.389197 [uM]", 
        "WARNING: skipping conc updatee", 
        "###########################################################################", 
        "t0  3520.0 tf  3530.0", 
        "ODE Init [mM] [ 0.00062467  0.03540298]", 
        "t0 3520.000000 tf 3530.000000 [ms]", 
        "ODE statesF: [mM] "
       ]
      }, 
      {
       "output_type": "stream", 
       "stream": "stdout", 
       "text": [
        " [ 0.00061322  0.03545304]", 
        "ODE statesF: [uM]  0.613221744793", 
        "ODE states Flux [mM/ms]:  [ -1.14500202e-06   5.00616993e-06]", 
        "ODE states Flux [uM/ms]:  [-0.001145    0.00500617]", 
        "WARNING: jSR and dCa are lumped tother into jVold", 
        "WARNING: I probably need to constrain jvolExpr s.t. the assembled value is equal to the ODE value", 
        "jboundary [mM/ms] 0.000122334053176", 
        "jboundary [uM/ms] 0.122334053176", 
        "jvol [mM/ms]  -0.000123470095662", 
        "jvol [uM/ms]  -123.470095662", 
        "##", 
        "## WARNING: we are not updating CaTnC!!!", 
        "##", 
        "T 3530.000000 [ms] Conc(0) 0.000612 [mM]"
       ]
      }, 
      {
       "output_type": "stream", 
       "stream": "stdout", 
       "text": [
        "", 
        "T 3530.000000 [ms] Conc(0) 0.612445 [uM]", 
        "T 3530.000000 [ms] Conc(1) 0.033389 [mM]", 
        "T 3530.000000 [ms] Conc(1) 33.389197 [uM]", 
        "WARNING: skipping conc updatee", 
        "###########################################################################", 
        "t0  3530.0 tf  3540.0", 
        "ODE Init [mM] [ 0.00061322  0.03545304]", 
        "t0 3530.000000 tf 3540.000000 [ms]", 
        "ODE statesF: [mM] "
       ]
      }, 
      {
       "output_type": "stream", 
       "stream": "stdout", 
       "text": [
        " [ 0.00060033  0.03537217]", 
        "ODE statesF: [uM]  0.600333341899", 
        "ODE states Flux [mM/ms]:  [ -1.28884029e-06  -8.08720353e-06]", 
        "ODE states Flux [uM/ms]:  [-0.00128884 -0.0080872 ]", 
        "WARNING: jSR and dCa are lumped tother into jVold", 
        "WARNING: I probably need to constrain jvolExpr s.t. the assembled value is equal to the ODE value", 
        "jboundary [mM/ms] 0.00010437619281", 
        "jboundary [uM/ms] 0.10437619281", 
        "jvol [mM/ms]  -0.000105659331231", 
        "jvol [uM/ms]  -105.659331231", 
        "##", 
        "## WARNING: we are not updating CaTnC!!!", 
        "##", 
        "T 3540.000000 [ms] Conc(0) 0.000600 [mM]"
       ]
      }, 
      {
       "output_type": "stream", 
       "stream": "stdout", 
       "text": [
        "", 
        "T 3540.000000 [ms] Conc(0) 0.599614 [uM]", 
        "T 3540.000000 [ms] Conc(1) 0.033389 [mM]", 
        "T 3540.000000 [ms] Conc(1) 33.389197 [uM]", 
        "WARNING: skipping conc updatee", 
        "###########################################################################", 
        "t0  3540.0 tf  3550.0", 
        "ODE Init [mM] [ 0.00060033  0.03537217]", 
        "t0 3540.000000 tf 3550.000000 [ms]", 
        "ODE statesF: [mM] "
       ]
      }, 
      {
       "output_type": "stream", 
       "stream": "stdout", 
       "text": [
        " [ 0.00058656  0.03519193]", 
        "ODE statesF: [uM]  0.586562536176", 
        "ODE states Flux [mM/ms]:  [ -1.37708057e-06  -1.80242952e-05]", 
        "ODE states Flux [uM/ms]:  [-0.00137708 -0.0180243 ]", 
        "WARNING: jSR and dCa are lumped tother into jVold", 
        "WARNING: I probably need to constrain jvolExpr s.t. the assembled value is equal to the ODE value", 
        "jboundary [mM/ms] 9.03869822244e-05", 
        "jboundary [uM/ms] 0.0903869822244", 
        "jvol [mM/ms]  -9.17607383981e-05", 
        "jvol [uM/ms]  -91.7607383981", 
        "##", 
        "## WARNING: we are not updating CaTnC!!!", 
        "##", 
        "T 3550.000000 [ms] Conc(0) 0.000586 [mM]"
       ]
      }, 
      {
       "output_type": "stream", 
       "stream": "stdout", 
       "text": [
        "", 
        "T 3550.000000 [ms] Conc(0) 0.585876 [uM]", 
        "T 3550.000000 [ms] Conc(1) 0.033389 [mM]", 
        "T 3550.000000 [ms] Conc(1) 33.389197 [uM]", 
        "WARNING: skipping conc updatee", 
        "###########################################################################", 
        "t0  3550.0 tf  3560.0", 
        "ODE Init [mM] [ 0.00058656  0.03519193]", 
        "t0 3550.000000 tf 3560.000000 [ms]", 
        "ODE statesF: [mM] "
       ]
      }, 
      {
       "output_type": "stream", 
       "stream": "stdout", 
       "text": [
        " [ 0.00057231  0.0349369 ]", 
        "ODE statesF: [uM]  0.572313974849", 
        "ODE states Flux [mM/ms]:  [ -1.42485613e-06  -2.55026444e-05]", 
        "ODE states Flux [uM/ms]:  [-0.00142486 -0.02550264]", 
        "WARNING: jSR and dCa are lumped tother into jVold", 
        "WARNING: I probably need to constrain jvolExpr s.t. the assembled value is equal to the ODE value", 
        "jboundary [mM/ms] 7.94129797473e-05", 
        "jboundary [uM/ms] 0.0794129797473", 
        "jvol [mM/ms]  -8.08362304592e-05", 
        "jvol [uM/ms]  -80.8362304592", 
        "##", 
        "## WARNING: we are not updating CaTnC!!!", 
        "##", 
        "T 3560.000000 [ms] Conc(0) 0.000572 [mM]"
       ]
      }, 
      {
       "output_type": "stream", 
       "stream": "stdout", 
       "text": [
        "", 
        "T 3560.000000 [ms] Conc(0) 0.571644 [uM]", 
        "T 3560.000000 [ms] Conc(1) 0.033389 [mM]", 
        "T 3560.000000 [ms] Conc(1) 33.389197 [uM]", 
        "WARNING: skipping conc updatee", 
        "###########################################################################", 
        "t0  3560.0 tf  3570.0", 
        "ODE Init [mM] [ 0.00057231  0.0349369 ]", 
        "t0 3560.000000 tf 3570.000000 [ms]", 
        "ODE statesF: [mM] "
       ]
      }, 
      {
       "output_type": "stream", 
       "stream": "stdout", 
       "text": [
        " [ 0.00055788  0.03462606]", 
        "ODE statesF: [uM]  0.55787644684", 
        "ODE states Flux [mM/ms]:  [ -1.44375280e-06  -3.10843162e-05]", 
        "ODE states Flux [uM/ms]:  [-0.00144375 -0.03108432]", 
        "WARNING: jSR and dCa are lumped tother into jVold", 
        "WARNING: I probably need to constrain jvolExpr s.t. the assembled value is equal to the ODE value", 
        "jboundary [mM/ms] 7.07150201102e-05", 
        "jboundary [uM/ms] 0.0707150201102", 
        "jvol [mM/ms]  -7.21583733205e-05", 
        "jvol [uM/ms]  -72.1583733205", 
        "##", 
        "## WARNING: we are not updating CaTnC!!!", 
        "##", 
        "T 3570.000000 [ms] Conc(0) 0.000557 [mM]"
       ]
      }, 
      {
       "output_type": "stream", 
       "stream": "stdout", 
       "text": [
        "", 
        "T 3570.000000 [ms] Conc(0) 0.557210 [uM]", 
        "T 3570.000000 [ms] Conc(1) 0.033389 [mM]", 
        "T 3570.000000 [ms] Conc(1) 33.389197 [uM]", 
        "WARNING: skipping conc updatee", 
        "###########################################################################", 
        "t0  3570.0 tf  3580.0", 
        "ODE Init [mM] [ 0.00055788  0.03462606]", 
        "t0 3570.000000 tf 3580.000000 [ms]", 
        "ODE statesF: [mM] "
       ]
      }, 
      {
       "output_type": "stream", 
       "stream": "stdout", 
       "text": [
        " [ 0.00054345  0.0342739 ]", 
        "ODE statesF: [uM]  0.543447424217", 
        "ODE states Flux [mM/ms]:  [ -1.44290226e-06  -3.52153184e-05]", 
        "ODE states Flux [uM/ms]:  [-0.0014429  -0.03521532]", 
        "WARNING: jSR and dCa are lumped tother into jVold", 
        "WARNING: I probably need to constrain jvolExpr s.t. the assembled value is equal to the ODE value", 
        "jboundary [mM/ms] 6.37172526249e-05", 
        "jboundary [uM/ms] 0.0637172526249", 
        "jvol [mM/ms]  -6.51605520945e-05", 
        "jvol [uM/ms]  -65.1605520945", 
        "##", 
        "## WARNING: we are not updating CaTnC!!!", 
        "##", 
        "T 3580.000000 [ms] Conc(0) 0.000543 [mM]"
       ]
      }, 
      {
       "output_type": "stream", 
       "stream": "stdout", 
       "text": [
        "", 
        "T 3580.000000 [ms] Conc(0) 0.542777 [uM]", 
        "T 3580.000000 [ms] Conc(1) 0.033389 [mM]", 
        "T 3580.000000 [ms] Conc(1) 33.389197 [uM]", 
        "WARNING: skipping conc updatee", 
        "###########################################################################", 
        "t0  3580.0 tf  3590.0", 
        "ODE Init [mM] [ 0.00054345  0.0342739 ]", 
        "t0 3580.000000 tf 3590.000000 [ms]", 
        "ODE statesF: [mM] "
       ]
      }, 
      {
       "output_type": "stream", 
       "stream": "stdout", 
       "text": [
        " [ 0.00052915  0.0338914 ]", 
        "ODE statesF: [uM]  0.529150607595", 
        "ODE states Flux [mM/ms]:  [ -1.42968166e-06  -3.82500829e-05]", 
        "ODE states Flux [uM/ms]:  [-0.00142968 -0.03825008]", 
        "WARNING: jSR and dCa are lumped tother into jVold", 
        "WARNING: I probably need to constrain jvolExpr s.t. the assembled value is equal to the ODE value", 
        "jboundary [mM/ms] 5.7964719633e-05", 
        "jboundary [uM/ms] 0.057964719633", 
        "jvol [mM/ms]  -5.93952594916e-05", 
        "jvol [uM/ms]  -59.3952594916", 
        "##", 
        "## WARNING: we are not updating CaTnC!!!", 
        "##", 
        "T 3590.000000 [ms] Conc(0) 0.000528 [mM]"
       ]
      }, 
      {
       "output_type": "stream", 
       "stream": "stdout", 
       "text": [
        "", 
        "T 3590.000000 [ms] Conc(0) 0.528472 [uM]", 
        "T 3590.000000 [ms] Conc(1) 0.033389 [mM]", 
        "T 3590.000000 [ms] Conc(1) 33.389197 [uM]", 
        "WARNING: skipping conc updatee", 
        "###########################################################################", 
        "t0  3590.0 tf  3600.0", 
        "ODE Init [mM] [ 0.00052915  0.0338914 ]", 
        "t0 3590.000000 tf 3600.000000 [ms]", 
        "ODE statesF: [mM] "
       ]
      }, 
      {
       "output_type": "stream", 
       "stream": "stdout", 
       "text": [
        " [ 0.00051505  0.03348665]", 
        "ODE statesF: [uM]  0.515047520095", 
        "ODE states Flux [mM/ms]:  [ -1.41030875e-06  -4.04748236e-05]", 
        "ODE states Flux [uM/ms]:  [-0.00141031 -0.04047482]", 
        "WARNING: jSR and dCa are lumped tother into jVold", 
        "WARNING: I probably need to constrain jvolExpr s.t. the assembled value is equal to the ODE value", 
        "jboundary [mM/ms] 5.30876314887e-05", 
        "jboundary [uM/ms] 0.0530876314887", 
        "jvol [mM/ms]  -5.44989671251e-05", 
        "jvol [uM/ms]  -54.4989671251", 
        "##", 
        "## WARNING: we are not updating CaTnC!!!", 
        "##", 
        "T 3600.000000 [ms] Conc(0) 0.000514 [mM]"
       ]
      }, 
      {
       "output_type": "stream", 
       "stream": "stdout", 
       "text": [
        "", 
        "T 3600.000000 [ms] Conc(0) 0.514358 [uM]", 
        "T 3600.000000 [ms] Conc(1) 0.033389 [mM]", 
        "T 3600.000000 [ms] Conc(1) 33.389197 [uM]", 
        "WARNING: skipping conc updatee", 
        "###########################################################################", 
        "t0  3600.0 tf  3610.0", 
        "ODE Init [mM] [ 0.00051505  0.03348665]", 
        "t0 3600.000000 tf 3610.000000 [ms]", 
        "ODE statesF: [mM] "
       ]
      }, 
      {
       "output_type": "stream", 
       "stream": "stdout", 
       "text": [
        " [ 0.00050114  0.03306537]", 
        "ODE statesF: [uM]  0.501142923273", 
        "ODE states Flux [mM/ms]:  [ -1.39045968e-06  -4.21288502e-05]", 
        "ODE states Flux [uM/ms]:  [-0.00139046 -0.04212885]", 
        "WARNING: jSR and dCa are lumped tother into jVold", 
        "WARNING: I probably need to constrain jvolExpr s.t. the assembled value is equal to the ODE value", 
        "jboundary [mM/ms] 4.87691854603e-05", 
        "jboundary [uM/ms] 0.0487691854603", 
        "jvol [mM/ms]  -5.01605589567e-05", 
        "jvol [uM/ms]  -50.1605589567", 
        "##", 
        "## WARNING: we are not updating CaTnC!!!", 
        "##", 
        "T 3610.000000 [ms] Conc(0) 0.000500 [mM]"
       ]
      }, 
      {
       "output_type": "stream", 
       "stream": "stdout", 
       "text": [
        "", 
        "T 3610.000000 [ms] Conc(0) 0.500445 [uM]", 
        "T 3610.000000 [ms] Conc(1) 0.033389 [mM]", 
        "T 3610.000000 [ms] Conc(1) 33.389197 [uM]", 
        "WARNING: skipping conc updatee", 
        "###########################################################################", 
        "t0  3610.0 tf  3620.0", 
        "ODE Init [mM] [ 0.00050114  0.03306537]", 
        "t0 3610.000000 tf 3620.000000 [ms]", 
        "ODE statesF: [mM] "
       ]
      }, 
      {
       "output_type": "stream", 
       "stream": "stdout", 
       "text": [
        " [ 0.00048738  0.03263111]", 
        "ODE statesF: [uM]  0.487382795102", 
        "ODE states Flux [mM/ms]:  [ -1.37601282e-06  -4.34253622e-05]", 
        "ODE states Flux [uM/ms]:  [-0.00137601 -0.04342536]", 
        "WARNING: jSR and dCa are lumped tother into jVold", 
        "WARNING: I probably need to constrain jvolExpr s.t. the assembled value is equal to the ODE value", 
        "jboundary [mM/ms] 4.47128721254e-05", 
        "jboundary [uM/ms] 0.0447128721254", 
        "jvol [mM/ms]  -4.60893728365e-05", 
        "jvol [uM/ms]  -46.0893728365", 
        "##", 
        "## WARNING: we are not updating CaTnC!!!", 
        "##", 
        "T 3620.000000 [ms] Conc(0) 0.000487 [mM]"
       ]
      }, 
      {
       "output_type": "stream", 
       "stream": "stdout", 
       "text": [
        "", 
        "T 3620.000000 [ms] Conc(0) 0.486680 [uM]", 
        "T 3620.000000 [ms] Conc(1) 0.033389 [mM]", 
        "T 3620.000000 [ms] Conc(1) 33.389197 [uM]", 
        "WARNING: skipping conc updatee", 
        "###########################################################################", 
        "t0  3620.0 tf  3630.0", 
        "ODE Init [mM] [ 0.00048738  0.03263111]", 
        "t0 3620.000000 tf 3630.000000 [ms]", 
        "ODE statesF: [mM] "
       ]
      }, 
      {
       "output_type": "stream", 
       "stream": "stdout", 
       "text": [
        " [ 0.00047364  0.03218537]", 
        "ODE statesF: [uM]  0.473643167365", 
        "ODE states Flux [mM/ms]:  [ -1.37396277e-06  -4.45741445e-05]", 
        "ODE states Flux [uM/ms]:  [-0.00137396 -0.04457414]", 
        "WARNING: jSR and dCa are lumped tother into jVold", 
        "WARNING: I probably need to constrain jvolExpr s.t. the assembled value is equal to the ODE value", 
        "jboundary [mM/ms] 4.06044313502e-05", 
        "jboundary [uM/ms] 0.0406044313502", 
        "jvol [mM/ms]  -4.19780654934e-05", 
        "jvol [uM/ms]  -41.9780654934", 
        "##", 
        "## WARNING: we are not updating CaTnC!!!", 
        "##", 
        "T 3630.000000 [ms] Conc(0) 0.000473 [mM]"
       ]
      }, 
      {
       "output_type": "stream", 
       "stream": "stdout", 
       "text": [
        "", 
        "T 3630.000000 [ms] Conc(0) 0.472943 [uM]", 
        "T 3630.000000 [ms] Conc(1) 0.033389 [mM]", 
        "T 3630.000000 [ms] Conc(1) 33.389197 [uM]", 
        "WARNING: skipping conc updatee", 
        "###########################################################################", 
        "t0  3630.0 tf  3640.0", 
        "ODE Init [mM] [ 0.00047364  0.03218537]", 
        "t0 3630.000000 tf 3640.000000 [ms]", 
        "ODE statesF: [mM] "
       ]
      }, 
      {
       "output_type": "stream", 
       "stream": "stdout", 
       "text": [
        " [ 0.00045971  0.03172731]", 
        "ODE statesF: [uM]  0.45971424855", 
        "ODE states Flux [mM/ms]:  [ -1.39289188e-06  -4.58063589e-05]", 
        "ODE states Flux [uM/ms]:  [-0.00139289 -0.04580636]", 
        "WARNING: jSR and dCa are lumped tother into jVold", 
        "WARNING: I probably need to constrain jvolExpr s.t. the assembled value is equal to the ODE value", 
        "jboundary [mM/ms] 3.60691616723e-05", 
        "jboundary [uM/ms] 0.0360691616723", 
        "jvol [mM/ms]  -3.74604650073e-05", 
        "jvol [uM/ms]  -37.4604650073", 
        "##", 
        "## WARNING: we are not updating CaTnC!!!", 
        "##", 
        "T 3640.000000 [ms] Conc(0) 0.000459 [mM]"
       ]
      }, 
      {
       "output_type": "stream", 
       "stream": "stdout", 
       "text": [
        "", 
        "T 3640.000000 [ms] Conc(0) 0.459030 [uM]", 
        "T 3640.000000 [ms] Conc(1) 0.033389 [mM]", 
        "T 3640.000000 [ms] Conc(1) 33.389197 [uM]", 
        "WARNING: skipping conc updatee", 
        "###########################################################################", 
        "t0  3640.0 tf  3650.0", 
        "ODE Init [mM] [ 0.00045971  0.03172731]", 
        "t0 3640.000000 tf 3650.000000 [ms]", 
        "ODE statesF: [mM] "
       ]
      }, 
      {
       "output_type": "stream", 
       "stream": "stdout", 
       "text": [
        " [ 0.00044533  0.03125351]", 
        "ODE statesF: [uM]  0.445326308028", 
        "ODE states Flux [mM/ms]:  [ -1.43879405e-06  -4.73794827e-05]", 
        "ODE states Flux [uM/ms]:  [-0.00143879 -0.04737948]", 
        "WARNING: jSR and dCa are lumped tother into jVold", 
        "WARNING: I probably need to constrain jvolExpr s.t. the assembled value is equal to the ODE value", 
        "jboundary [mM/ms] 3.0672868266e-05", 
        "jboundary [uM/ms] 0.030672868266", 
        "jvol [mM/ms]  -3.21087995429e-05", 
        "jvol [uM/ms]  -32.1087995429", 
        "##", 
        "## WARNING: we are not updating CaTnC!!!", 
        "##", 
        "T 3650.000000 [ms] Conc(0) 0.000445 [mM]"
       ]
      }, 
      {
       "output_type": "stream", 
       "stream": "stdout", 
       "text": [
        "", 
        "T 3650.000000 [ms] Conc(0) 0.444671 [uM]", 
        "T 3650.000000 [ms] Conc(1) 0.033389 [mM]", 
        "T 3650.000000 [ms] Conc(1) 33.389197 [uM]", 
        "WARNING: skipping conc updatee", 
        "###########################################################################", 
        "t0  3650.0 tf  3660.0", 
        "ODE Init [mM] [ 0.00044533  0.03125351]", 
        "t0 3650.000000 tf 3660.000000 [ms]", 
        "ODE statesF: [mM] "
       ]
      }, 
      {
       "output_type": "stream", 
       "stream": "stdout", 
       "text": [
        " [ 0.00043035  0.03075888]", 
        "ODE statesF: [uM]  0.430352955684", 
        "ODE states Flux [mM/ms]:  [ -1.49733523e-06  -4.94630352e-05]", 
        "ODE states Flux [uM/ms]:  [-0.00149734 -0.04946304]", 
        "WARNING: jSR and dCa are lumped tother into jVold", 
        "WARNING: I probably need to constrain jvolExpr s.t. the assembled value is equal to the ODE value", 
        "jboundary [mM/ms] 2.41740803505e-05", 
        "jboundary [uM/ms] 0.0241740803505", 
        "jvol [mM/ms]  -2.5668777864e-05", 
        "jvol [uM/ms]  -25.668777864", 
        "##", 
        "## WARNING: we are not updating CaTnC!!!", 
        "##", 
        "T 3660.000000 [ms] Conc(0) 0.000430 [mM]"
       ]
      }, 
      {
       "output_type": "stream", 
       "stream": "stdout", 
       "text": [
        "", 
        "T 3660.000000 [ms] Conc(0) 0.429724 [uM]", 
        "T 3660.000000 [ms] Conc(1) 0.033389 [mM]", 
        "T 3660.000000 [ms] Conc(1) 33.389197 [uM]", 
        "WARNING: skipping conc updatee", 
        "###########################################################################", 
        "t0  3660.0 tf  3670.0", 
        "ODE Init [mM] [ 0.00043035  0.03075888]", 
        "t0 3660.000000 tf 3670.000000 [ms]", 
        "ODE statesF: [mM] "
       ]
      }, 
      {
       "output_type": "stream", 
       "stream": "stdout", 
       "text": [
        " [ 0.00041491  0.0302397 ]", 
        "ODE statesF: [uM]  0.414905813085", 
        "ODE states Flux [mM/ms]:  [ -1.54471426e-06  -5.19184775e-05]", 
        "ODE states Flux [uM/ms]:  [-0.00154471 -0.05191848]", 
        "WARNING: jSR and dCa are lumped tother into jVold", 
        "WARNING: I probably need to constrain jvolExpr s.t. the assembled value is equal to the ODE value", 
        "jboundary [mM/ms] 1.69519851336e-05", 
        "jboundary [uM/ms] 0.0169519851336", 
        "jvol [mM/ms]  -1.849367958e-05", 
        "jvol [uM/ms]  -18.49367958", 
        "##", 
        "## WARNING: we are not updating CaTnC!!!", 
        "##", 
        "T 3670.000000 [ms] Conc(0) 0.000414 [mM]"
       ]
      }, 
      {
       "output_type": "stream", 
       "stream": "stdout", 
       "text": [
        "", 
        "T 3670.000000 [ms] Conc(0) 0.414307 [uM]", 
        "T 3670.000000 [ms] Conc(1) 0.033389 [mM]", 
        "T 3670.000000 [ms] Conc(1) 33.389197 [uM]", 
        "WARNING: skipping conc updatee", 
        "###########################################################################", 
        "t0  3670.0 tf  3680.0", 
        "ODE Init [mM] [ 0.00041491  0.0302397 ]", 
        "t0 3670.000000 tf 3680.000000 [ms]", 
        "ODE statesF: [mM] "
       ]
      }, 
      {
       "output_type": "stream", 
       "stream": "stdout", 
       "text": [
        " [ 0.00039854  0.02969091]", 
        "ODE statesF: [uM]  0.398544717862", 
        "ODE states Flux [mM/ms]:  [ -1.63610952e-06  -5.48785400e-05]", 
        "ODE states Flux [uM/ms]:  [-0.00163611 -0.05487854]", 
        "WARNING: jSR and dCa are lumped tother into jVold", 
        "WARNING: I probably need to constrain jvolExpr s.t. the assembled value is equal to the ODE value", 
        "jboundary [mM/ms] 8.65025731328e-06", 
        "jboundary [uM/ms] 0.00865025731328", 
        "jvol [mM/ms]  -1.02819633892e-05", 
        "jvol [uM/ms]  -10.2819633892", 
        "##", 
        "## WARNING: we are not updating CaTnC!!!", 
        "##", 
        "T 3680.000000 [ms] Conc(0) 0.000398 [mM]"
       ]
      }, 
      {
       "output_type": "stream", 
       "stream": "stdout", 
       "text": [
        "", 
        "T 3680.000000 [ms] Conc(0) 0.397990 [uM]", 
        "T 3680.000000 [ms] Conc(1) 0.033389 [mM]", 
        "T 3680.000000 [ms] Conc(1) 33.389197 [uM]", 
        "WARNING: skipping conc updatee", 
        "###########################################################################", 
        "t0  3680.0 tf  3690.0", 
        "ODE Init [mM] [ 0.00039854  0.02969091]", 
        "t0 3680.000000 tf 3690.000000 [ms]", 
        "ODE statesF: [mM] "
       ]
      }, 
      {
       "output_type": "stream", 
       "stream": "stdout", 
       "text": [
        " [ 0.00038263  0.02911074]", 
        "ODE statesF: [uM]  0.382627804496", 
        "ODE states Flux [mM/ms]:  [ -1.59169134e-06  -5.80175467e-05]", 
        "ODE states Flux [uM/ms]:  [-0.00159169 -0.05801755]", 
        "WARNING: jSR and dCa are lumped tother into jVold", 
        "WARNING: I probably need to constrain jvolExpr s.t. the assembled value is equal to the ODE value", 
        "jboundary [mM/ms] 9.2951487313e-08", 
        "jboundary [uM/ms] 9.2951487313e-05", 
        "jvol [mM/ms]  -1.69325349167e-06", 
        "jvol [uM/ms]  -1.69325349167", 
        "##", 
        "## WARNING: we are not updating CaTnC!!!", 
        "##", 
        "T 3690.000000 [ms] Conc(0) 0.000382 [mM]"
       ]
      }, 
      {
       "output_type": "stream", 
       "stream": "stdout", 
       "text": [
        "", 
        "T 3690.000000 [ms] Conc(0) 0.381987 [uM]", 
        "T 3690.000000 [ms] Conc(1) 0.033389 [mM]", 
        "T 3690.000000 [ms] Conc(1) 33.389197 [uM]", 
        "WARNING: skipping conc updatee", 
        "###########################################################################", 
        "t0  3690.0 tf  3700.0", 
        "ODE Init [mM] [ 0.00038263  0.02911074]", 
        "t0 3690.000000 tf 3700.000000 [ms]", 
        "ODE statesF: [mM] "
       ]
      }, 
      {
       "output_type": "stream", 
       "stream": "stdout", 
       "text": [
        " [ 0.00036842  0.02851866]", 
        "ODE statesF: [uM]  0.368423180315", 
        "ODE states Flux [mM/ms]:  [ -1.42046242e-06  -5.92074392e-05]", 
        "ODE states Flux [uM/ms]:  [-0.00142046 -0.05920744]", 
        "WARNING: jSR and dCa are lumped tother into jVold", 
        "WARNING: I probably need to constrain jvolExpr s.t. the assembled value is equal to the ODE value", 
        "jboundary [mM/ms] -4.338207846e-06", 
        "jboundary [uM/ms] -0.004338207846", 
        "jvol [mM/ms]  2.91082175609e-06", 
        "jvol [uM/ms]  2.91082175609", 
        "##", 
        "## WARNING: we are not updating CaTnC!!!", 
        "##", 
        "T 3700.000000 [ms] Conc(0) 0.000368 [mM]"
       ]
      }, 
      {
       "output_type": "stream", 
       "stream": "stdout", 
       "text": [
        "", 
        "T 3700.000000 [ms] Conc(0) 0.367713 [uM]", 
        "T 3700.000000 [ms] Conc(1) 0.033389 [mM]", 
        "T 3700.000000 [ms] Conc(1) 33.389197 [uM]", 
        "WARNING: skipping conc updatee", 
        "###########################################################################", 
        "t0  3700.0 tf  3710.0", 
        "ODE Init [mM] [ 0.00036842  0.02851866]", 
        "t0 3700.000000 tf 3710.000000 [ms]", 
        "ODE statesF: [mM] "
       ]
      }, 
      {
       "output_type": "stream", 
       "stream": "stdout", 
       "text": [
        " [ 0.00036526  0.02796471]", 
        "ODE statesF: [uM]  0.365261932992", 
        "ODE states Flux [mM/ms]:  [ -3.16124732e-07  -5.53952297e-05]", 
        "ODE states Flux [uM/ms]:  [-0.00031612 -0.05539523]", 
        "WARNING: jSR and dCa are lumped tother into jVold", 
        "WARNING: I probably need to constrain jvolExpr s.t. the assembled value is equal to the ODE value", 
        "jboundary [mM/ms] 1.29012782858e-06", 
        "jboundary [uM/ms] 0.00129012782858", 
        "jvol [mM/ms]  -1.73643392319e-06", 
        "jvol [uM/ms]  -1.73643392319", 
        "##", 
        "## WARNING: we are not updating CaTnC!!!", 
        "##", 
        "T 3710.000000 [ms] Conc(0) 0.000363 [mM]"
       ]
      }, 
      {
       "output_type": "stream", 
       "stream": "stdout", 
       "text": [
        "", 
        "T 3710.000000 [ms] Conc(0) 0.363250 [uM]", 
        "T 3710.000000 [ms] Conc(1) 0.033389 [mM]", 
        "T 3710.000000 [ms] Conc(1) 33.389197 [uM]", 
        "WARNING: skipping conc updatee", 
        "###########################################################################", 
        "t0  3710.0 tf  3720.0", 
        "ODE Init [mM] [ 0.00036526  0.02796471]", 
        "t0 3710.000000 tf 3720.000000 [ms]", 
        "ODE statesF: [mM] "
       ]
      }, 
      {
       "output_type": "stream", 
       "stream": "stdout", 
       "text": [
        " [ 0.0003734   0.02761487]", 
        "ODE statesF: [uM]  0.373399223445", 
        "ODE states Flux [mM/ms]:  [  8.13729045e-07  -3.49837376e-05]", 
        "ODE states Flux [uM/ms]:  [ 0.00081373 -0.03498374]", 
        "WARNING: jSR and dCa are lumped tother into jVold", 
        "WARNING: I probably need to constrain jvolExpr s.t. the assembled value is equal to the ODE value", 
        "jboundary [mM/ms] 4.02631283185e-05", 
        "jboundary [uM/ms] 0.0402631283185", 
        "jvol [mM/ms]  -3.94778762231e-05", 
        "jvol [uM/ms]  -39.4778762231", 
        "##", 
        "## WARNING: we are not updating CaTnC!!!", 
        "##", 
        "T 3720.000000 [ms] Conc(0) 0.000371 [mM]"
       ]
      }, 
      {
       "output_type": "stream", 
       "stream": "stdout", 
       "text": [
        "", 
        "T 3720.000000 [ms] Conc(0) 0.371103 [uM]", 
        "T 3720.000000 [ms] Conc(1) 0.033389 [mM]", 
        "T 3720.000000 [ms] Conc(1) 33.389197 [uM]", 
        "WARNING: skipping conc updatee", 
        "###########################################################################", 
        "t0  3720.0 tf  3730.0", 
        "ODE Init [mM] [ 0.0003734   0.02761487]", 
        "t0 3720.000000 tf 3730.000000 [ms]", 
        "ODE statesF: [mM] "
       ]
      }, 
      {
       "output_type": "stream", 
       "stream": "stdout", 
       "text": [
        " [ 0.00039221  0.02751359]", 
        "ODE statesF: [uM]  0.392209256156", 
        "ODE states Flux [mM/ms]:  [  1.88100327e-06  -1.01280782e-05]", 
        "ODE states Flux [uM/ms]:  [ 0.001881   -0.01012808]", 
        "WARNING: jSR and dCa are lumped tother into jVold", 
        "WARNING: I probably need to constrain jvolExpr s.t. the assembled value is equal to the ODE value", 
        "jboundary [mM/ms] 8.31402319224e-05", 
        "jboundary [uM/ms] 0.0831402319224", 
        "jvol [mM/ms]  -8.1338819231e-05", 
        "jvol [uM/ms]  -81.338819231", 
        "##", 
        "## WARNING: we are not updating CaTnC!!!", 
        "##", 
        "T 3730.000000 [ms] Conc(0) 0.000389 [mM]"
       ]
      }, 
      {
       "output_type": "stream", 
       "stream": "stdout", 
       "text": [
        "", 
        "T 3730.000000 [ms] Conc(0) 0.389117 [uM]", 
        "T 3730.000000 [ms] Conc(1) 0.033389 [mM]", 
        "T 3730.000000 [ms] Conc(1) 33.389197 [uM]", 
        "WARNING: skipping conc updatee", 
        "###########################################################################", 
        "t0  3730.0 tf  3740.0", 
        "ODE Init [mM] [ 0.00039221  0.02751359]", 
        "t0 3730.000000 tf 3740.000000 [ms]", 
        "ODE statesF: [mM] "
       ]
      }, 
      {
       "output_type": "stream", 
       "stream": "stdout", 
       "text": [
        " [ 0.00043431  0.02779367]", 
        "ODE statesF: [uM]  0.434305192548", 
        "ODE states Flux [mM/ms]:  [  4.20959364e-06   2.80082421e-05]", 
        "ODE states Flux [uM/ms]:  [ 0.00420959  0.02800824]", 
        "WARNING: jSR and dCa are lumped tother into jVold", 
        "WARNING: I probably need to constrain jvolExpr s.t. the assembled value is equal to the ODE value", 
        "jboundary [mM/ms] 0.000152751065845", 
        "jboundary [uM/ms] 0.152751065845", 
        "jvol [mM/ms]  -0.000148692261692", 
        "jvol [uM/ms]  -148.692261692", 
        "##", 
        "## WARNING: we are not updating CaTnC!!!", 
        "##", 
        "T 3740.000000 [ms] Conc(0) 0.000430 [mM]"
       ]
      }, 
      {
       "output_type": "stream", 
       "stream": "stdout", 
       "text": [
        "", 
        "T 3740.000000 [ms] Conc(0) 0.429705 [uM]", 
        "T 3740.000000 [ms] Conc(1) 0.033389 [mM]", 
        "T 3740.000000 [ms] Conc(1) 33.389197 [uM]", 
        "WARNING: skipping conc updatee", 
        "###########################################################################", 
        "t0  3740.0 tf  3750.0", 
        "ODE Init [mM] [ 0.00043431  0.02779367]", 
        "t0 3740.000000 tf 3750.000000 [ms]", 
        "ODE statesF: [mM] "
       ]
      }, 
      {
       "output_type": "stream", 
       "stream": "stdout", 
       "text": [
        " [ 0.00050529  0.02867198]", 
        "ODE statesF: [uM]  0.505294377202", 
        "ODE states Flux [mM/ms]:  [  7.09891847e-06   8.78305988e-05]", 
        "ODE states Flux [uM/ms]:  [ 0.00709892  0.0878306 ]", 
        "WARNING: jSR and dCa are lumped tother into jVold", 
        "WARNING: I probably need to constrain jvolExpr s.t. the assembled value is equal to the ODE value", 
        "jboundary [mM/ms] 0.00026341958893", 
        "jboundary [uM/ms] 0.26341958893", 
        "jvol [mM/ms]  -0.000256418027575", 
        "jvol [uM/ms]  -256.418027575", 
        "##", 
        "## WARNING: we are not updating CaTnC!!!", 
        "##", 
        "T 3750.000000 [ms] Conc(0) 0.000500 [mM]"
       ]
      }, 
      {
       "output_type": "stream", 
       "stream": "stdout", 
       "text": [
        "", 
        "T 3750.000000 [ms] Conc(0) 0.499720 [uM]", 
        "T 3750.000000 [ms] Conc(1) 0.033389 [mM]", 
        "T 3750.000000 [ms] Conc(1) 33.389197 [uM]", 
        "WARNING: skipping conc updatee", 
        "###########################################################################", 
        "t0  3750.0 tf  3760.0", 
        "ODE Init [mM] [ 0.00050529  0.02867198]", 
        "t0 3750.000000 tf 3760.000000 [ms]", 
        "ODE statesF: [mM] "
       ]
      }, 
      {
       "output_type": "stream", 
       "stream": "stdout", 
       "text": [
        " [ 0.00057399  0.0301106 ]", 
        "ODE statesF: [uM]  0.573985625122", 
        "ODE states Flux [mM/ms]:  [  6.86912479e-06   1.43861971e-04]", 
        "ODE states Flux [uM/ms]:  [ 0.00686912  0.14386197]", 
        "WARNING: jSR and dCa are lumped tother into jVold", 
        "WARNING: I probably need to constrain jvolExpr s.t. the assembled value is equal to the ODE value", 
        "jboundary [mM/ms] 0.000356408797651", 
        "jboundary [uM/ms] 0.356408797651", 
        "jvol [mM/ms]  -0.000349436238908", 
        "jvol [uM/ms]  -349.436238908", 
        "##", 
        "## WARNING: we are not updating CaTnC!!!", 
        "##", 
        "T 3760.000000 [ms] Conc(0) 0.000569 [mM]"
       ]
      }, 
      {
       "output_type": "stream", 
       "stream": "stdout", 
       "text": [
        "", 
        "T 3760.000000 [ms] Conc(0) 0.569446 [uM]", 
        "T 3760.000000 [ms] Conc(1) 0.033389 [mM]", 
        "T 3760.000000 [ms] Conc(1) 33.389197 [uM]", 
        "WARNING: skipping conc updatee", 
        "###########################################################################", 
        "t0  3760.0 tf  3770.0", 
        "ODE Init [mM] [ 0.00057399  0.0301106 ]", 
        "t0 3760.000000 tf 3770.000000 [ms]", 
        "ODE statesF: [mM] "
       ]
      }, 
      {
       "output_type": "stream", 
       "stream": "stdout", 
       "text": [
        " [ 0.00061592  0.03168589]", 
        "ODE statesF: [uM]  0.615915815522", 
        "ODE states Flux [mM/ms]:  [  4.19301904e-06   1.57529514e-04]", 
        "ODE states Flux [uM/ms]:  [ 0.00419302  0.15752951]", 
        "WARNING: jSR and dCa are lumped tother into jVold", 
        "WARNING: I probably need to constrain jvolExpr s.t. the assembled value is equal to the ODE value", 
        "jboundary [mM/ms] 0.000363395021752", 
        "jboundary [uM/ms] 0.363395021752", 
        "jvol [mM/ms]  -0.000359067654311", 
        "jvol [uM/ms]  -359.067654311", 
        "##", 
        "## WARNING: we are not updating CaTnC!!!", 
        "##", 
        "T 3770.000000 [ms] Conc(0) 0.000613 [mM]"
       ]
      }, 
      {
       "output_type": "stream", 
       "stream": "stdout", 
       "text": [
        "", 
        "T 3770.000000 [ms] Conc(0) 0.612720 [uM]", 
        "T 3770.000000 [ms] Conc(1) 0.033389 [mM]", 
        "T 3770.000000 [ms] Conc(1) 33.389197 [uM]", 
        "WARNING: skipping conc updatee", 
        "###########################################################################", 
        "t0  3770.0 tf  3780.0", 
        "ODE Init [mM] [ 0.00061592  0.03168589]", 
        "t0 3770.000000 tf 3780.000000 [ms]", 
        "ODE statesF: [mM] "
       ]
      }, 
      {
       "output_type": "stream", 
       "stream": "stdout", 
       "text": [
        " [ 0.0006359   0.03305038]", 
        "ODE statesF: [uM]  0.635895414364", 
        "ODE states Flux [mM/ms]:  [  1.99795988e-06   1.36448482e-04]", 
        "ODE states Flux [uM/ms]:  [ 0.00199796  0.13644848]", 
        "WARNING: jSR and dCa are lumped tother into jVold", 
        "WARNING: I probably need to constrain jvolExpr s.t. the assembled value is equal to the ODE value", 
        "jboundary [mM/ms] 0.000317067827295", 
        "jboundary [uM/ms] 0.317067827295", 
        "jvol [mM/ms]  -0.000314983992658", 
        "jvol [uM/ms]  -314.983992658", 
        "##", 
        "## WARNING: we are not updating CaTnC!!!", 
        "##", 
        "T 3780.000000 [ms] Conc(0) 0.000634 [mM]"
       ]
      }, 
      {
       "output_type": "stream", 
       "stream": "stdout", 
       "text": [
        "", 
        "T 3780.000000 [ms] Conc(0) 0.633558 [uM]", 
        "T 3780.000000 [ms] Conc(1) 0.033389 [mM]", 
        "T 3780.000000 [ms] Conc(1) 33.389197 [uM]", 
        "WARNING: skipping conc updatee", 
        "###########################################################################", 
        "t0  3780.0 tf  3790.0", 
        "ODE Init [mM] [ 0.0006359   0.03305038]", 
        "t0 3780.000000 tf 3790.000000 [ms]", 
        "ODE statesF: [mM] "
       ]
      }, 
      {
       "output_type": "stream", 
       "stream": "stdout", 
       "text": [
        " [ 0.00064272  0.0340855 ]", 
        "ODE statesF: [uM]  0.642718443699", 
        "ODE states Flux [mM/ms]:  [  6.82302934e-07   1.03511991e-04]", 
        "ODE states Flux [uM/ms]:  [ 0.0006823   0.10351199]", 
        "WARNING: jSR and dCa are lumped tother into jVold", 
        "WARNING: I probably need to constrain jvolExpr s.t. the assembled value is equal to the ODE value", 
        "jboundary [mM/ms] 0.000261838011209", 
        "jboundary [uM/ms] 0.261838011209", 
        "jvol [mM/ms]  -0.000261105464228", 
        "jvol [uM/ms]  -261.105464228", 
        "##", 
        "## WARNING: we are not updating CaTnC!!!", 
        "##", 
        "T 3790.000000 [ms] Conc(0) 0.000641 [mM]"
       ]
      }, 
      {
       "output_type": "stream", 
       "stream": "stdout", 
       "text": [
        "", 
        "T 3790.000000 [ms] Conc(0) 0.640883 [uM]", 
        "T 3790.000000 [ms] Conc(1) 0.033389 [mM]", 
        "T 3790.000000 [ms] Conc(1) 33.389197 [uM]", 
        "WARNING: skipping conc updatee", 
        "###########################################################################", 
        "t0  3790.0 tf  3800.0", 
        "ODE Init [mM] [ 0.00064272  0.0340855 ]", 
        "t0 3790.000000 tf 3800.000000 [ms]", 
        "ODE statesF: [mM] "
       ]
      }, 
      {
       "output_type": "stream", 
       "stream": "stdout", 
       "text": [
        " [ 0.00064169  0.03479791]", 
        "ODE statesF: [uM]  0.641686102753", 
        "ODE states Flux [mM/ms]:  [ -1.03234095e-07   7.12413168e-05]", 
        "ODE states Flux [uM/ms]:  [-0.00010323  0.07124132]", 
        "WARNING: jSR and dCa are lumped tother into jVold", 
        "WARNING: I probably need to constrain jvolExpr s.t. the assembled value is equal to the ODE value", 
        "jboundary [mM/ms] 0.000213819388861", 
        "jboundary [uM/ms] 0.213819388861", 
        "jvol [mM/ms]  -0.000213891683927", 
        "jvol [uM/ms]  -213.891683927", 
        "##", 
        "## WARNING: we are not updating CaTnC!!!", 
        "##", 
        "T 3800.000000 [ms] Conc(0) 0.000640 [mM]"
       ]
      }, 
      {
       "output_type": "stream", 
       "stream": "stdout", 
       "text": [
        "", 
        "T 3800.000000 [ms] Conc(0) 0.640161 [uM]", 
        "T 3800.000000 [ms] Conc(1) 0.033389 [mM]", 
        "T 3800.000000 [ms] Conc(1) 33.389197 [uM]", 
        "WARNING: skipping conc updatee", 
        "###########################################################################", 
        "t0  3800.0 tf  3810.0", 
        "ODE Init [mM] [ 0.00064169  0.03479791]", 
        "t0 3800.000000 tf 3810.000000 [ms]", 
        "ODE statesF: [mM] "
       ]
      }, 
      {
       "output_type": "stream", 
       "stream": "stdout", 
       "text": [
        " [ 0.00063567  0.03523625]", 
        "ODE statesF: [uM]  0.635671180829", 
        "ODE states Flux [mM/ms]:  [ -6.01492192e-07   4.38336515e-05]", 
        "ODE states Flux [uM/ms]:  [-0.00060149  0.04383365]", 
        "WARNING: jSR and dCa are lumped tother into jVold", 
        "WARNING: I probably need to constrain jvolExpr s.t. the assembled value is equal to the ODE value", 
        "jboundary [mM/ms] 0.000175472470974", 
        "jboundary [uM/ms] 0.175472470974", 
        "jvol [mM/ms]  -0.000176053774169", 
        "jvol [uM/ms]  -176.053774169", 
        "##", 
        "## WARNING: we are not updating CaTnC!!!", 
        "##", 
        "T 3810.000000 [ms] Conc(0) 0.000634 [mM]"
       ]
      }, 
      {
       "output_type": "stream", 
       "stream": "stdout", 
       "text": [
        "", 
        "T 3810.000000 [ms] Conc(0) 0.634347 [uM]", 
        "T 3810.000000 [ms] Conc(1) 0.033389 [mM]", 
        "T 3810.000000 [ms] Conc(1) 33.389197 [uM]", 
        "WARNING: skipping conc updatee", 
        "###########################################################################", 
        "t0  3810.0 tf  3820.0", 
        "ODE Init [mM] [ 0.00063567  0.03523625]", 
        "t0 3810.000000 tf 3820.000000 [ms]", 
        "ODE statesF: [mM] "
       ]
      }, 
      {
       "output_type": "stream", 
       "stream": "stdout", 
       "text": [
        " [ 0.00062635  0.03545518]", 
        "ODE statesF: [uM]  0.62635287489", 
        "ODE states Flux [mM/ms]:  [ -9.31830594e-07   2.18934283e-05]", 
        "ODE states Flux [uM/ms]:  [-0.00093183  0.02189343]", 
        "WARNING: jSR and dCa are lumped tother into jVold", 
        "WARNING: I probably need to constrain jvolExpr s.t. the assembled value is equal to the ODE value", 
        "jboundary [mM/ms] 0.000145592141008", 
        "jboundary [uM/ms] 0.145592141008", 
        "jvol [mM/ms]  -0.000146510441616", 
        "jvol [uM/ms]  -146.510441616", 
        "##", 
        "## WARNING: we are not updating CaTnC!!!", 
        "##", 
        "T 3820.000000 [ms] Conc(0) 0.000625 [mM]"
       ]
      }, 
      {
       "output_type": "stream", 
       "stream": "stdout", 
       "text": [
        "", 
        "T 3820.000000 [ms] Conc(0) 0.625164 [uM]", 
        "T 3820.000000 [ms] Conc(1) 0.033389 [mM]", 
        "T 3820.000000 [ms] Conc(1) 33.389197 [uM]", 
        "WARNING: skipping conc updatee", 
        "###########################################################################", 
        "t0  3820.0 tf  3830.0", 
        "ODE Init [mM] [ 0.00062635  0.03545518]", 
        "t0 3820.000000 tf 3830.000000 [ms]", 
        "ODE statesF: [mM] "
       ]
      }, 
      {
       "output_type": "stream", 
       "stream": "stdout", 
       "text": [
        " [ 0.00061482  0.03550335]", 
        "ODE statesF: [uM]  0.614823836373", 
        "ODE states Flux [mM/ms]:  [ -1.15290385e-06   4.81685581e-06]", 
        "ODE states Flux [uM/ms]:  [-0.0011529   0.00481686]", 
        "WARNING: jSR and dCa are lumped tother into jVold", 
        "WARNING: I probably need to constrain jvolExpr s.t. the assembled value is equal to the ODE value", 
        "jboundary [mM/ms] 0.000122438798843", 
        "jboundary [uM/ms] 0.122438798843", 
        "jvol [mM/ms]  -0.000123582714478", 
        "jvol [uM/ms]  -123.582714478", 
        "##", 
        "## WARNING: we are not updating CaTnC!!!", 
        "##", 
        "T 3830.000000 [ms] Conc(0) 0.000614 [mM]"
       ]
      }, 
      {
       "output_type": "stream", 
       "stream": "stdout", 
       "text": [
        "", 
        "T 3830.000000 [ms] Conc(0) 0.613725 [uM]", 
        "T 3830.000000 [ms] Conc(1) 0.033389 [mM]", 
        "T 3830.000000 [ms] Conc(1) 33.389197 [uM]", 
        "WARNING: skipping conc updatee", 
        "###########################################################################", 
        "t0  3830.0 tf  3840.0", 
        "ODE Init [mM] [ 0.00061482  0.03550335]", 
        "t0 3830.000000 tf 3840.000000 [ms]", 
        "ODE statesF: [mM] "
       ]
      }, 
      {
       "output_type": "stream", 
       "stream": "stdout", 
       "text": [
        " [ 0.00060185  0.03542062]", 
        "ODE statesF: [uM]  0.601851510105", 
        "ODE states Flux [mM/ms]:  [ -1.29723263e-06  -8.27310379e-06]", 
        "ODE states Flux [uM/ms]:  [-0.00129723 -0.0082731 ]", 
        "WARNING: jSR and dCa are lumped tother into jVold", 
        "WARNING: I probably need to constrain jvolExpr s.t. the assembled value is equal to the ODE value", 
        "jboundary [mM/ms] 0.000104477727443", 
        "jboundary [uM/ms] 0.104477727443", 
        "jvol [mM/ms]  -0.000105769237757", 
        "jvol [uM/ms]  -105.769237757", 
        "##", 
        "## WARNING: we are not updating CaTnC!!!", 
        "##", 
        "T 3840.000000 [ms] Conc(0) 0.000601 [mM]"
       ]
      }, 
      {
       "output_type": "stream", 
       "stream": "stdout", 
       "text": [
        "", 
        "T 3840.000000 [ms] Conc(0) 0.600810 [uM]", 
        "T 3840.000000 [ms] Conc(1) 0.033389 [mM]", 
        "T 3840.000000 [ms] Conc(1) 33.389197 [uM]", 
        "WARNING: skipping conc updatee", 
        "###########################################################################", 
        "t0  3840.0 tf  3850.0", 
        "ODE Init [mM] [ 0.00060185  0.03542062]", 
        "t0 3840.000000 tf 3850.000000 [ms]", 
        "ODE statesF: [mM] "
       ]
      }, 
      {
       "output_type": "stream", 
       "stream": "stdout", 
       "text": [
        " [ 0.00058799  0.03523855]", 
        "ODE statesF: [uM]  0.587993540324", 
        "ODE states Flux [mM/ms]:  [ -1.38579698e-06  -1.82070142e-05]", 
        "ODE states Flux [uM/ms]:  [-0.0013858  -0.01820701]", 
        "WARNING: jSR and dCa are lumped tother into jVold", 
        "WARNING: I probably need to constrain jvolExpr s.t. the assembled value is equal to the ODE value", 
        "jboundary [mM/ms] 9.04832609603e-05", 
        "jboundary [uM/ms] 0.0904832609603", 
        "jvol [mM/ms]  -9.18657209634e-05", 
        "jvol [uM/ms]  -91.8657209634", 
        "##", 
        "## WARNING: we are not updating CaTnC!!!", 
        "##", 
        "T 3850.000000 [ms] Conc(0) 0.000587 [mM]"
       ]
      }, 
      {
       "output_type": "stream", 
       "stream": "stdout", 
       "text": [
        "", 
        "T 3850.000000 [ms] Conc(0) 0.586986 [uM]", 
        "T 3850.000000 [ms] Conc(1) 0.033389 [mM]", 
        "T 3850.000000 [ms] Conc(1) 33.389197 [uM]", 
        "WARNING: skipping conc updatee", 
        "###########################################################################", 
        "t0  3850.0 tf  3860.0", 
        "ODE Init [mM] [ 0.00058799  0.03523855]", 
        "t0 3850.000000 tf 3860.000000 [ms]", 
        "ODE statesF: [mM] "
       ]
      }, 
      {
       "output_type": "stream", 
       "stream": "stdout", 
       "text": [
        " [ 0.00057366  0.03498172]", 
        "ODE statesF: [uM]  0.573655979742", 
        "ODE states Flux [mM/ms]:  [ -1.43375606e-06  -2.56834596e-05]", 
        "ODE states Flux [uM/ms]:  [-0.00143376 -0.02568346]", 
        "WARNING: jSR and dCa are lumped tother into jVold", 
        "WARNING: I probably need to constrain jvolExpr s.t. the assembled value is equal to the ODE value", 
        "jboundary [mM/ms] 7.95013886429e-05", 
        "jboundary [uM/ms] 0.0795013886429", 
        "jvol [mM/ms]  -8.09335328172e-05", 
        "jvol [uM/ms]  -80.9335328172", 
        "##", 
        "## WARNING: we are not updating CaTnC!!!", 
        "##", 
        "T 3860.000000 [ms] Conc(0) 0.000573 [mM]"
       ]
      }, 
      {
       "output_type": "stream", 
       "stream": "stdout", 
       "text": [
        "", 
        "T 3860.000000 [ms] Conc(0) 0.572664 [uM]", 
        "T 3860.000000 [ms] Conc(1) 0.033389 [mM]", 
        "T 3860.000000 [ms] Conc(1) 33.389197 [uM]", 
        "WARNING: skipping conc updatee", 
        "###########################################################################", 
        "t0  3860.0 tf  3870.0", 
        "ODE Init [mM] [ 0.00057366  0.03498172]", 
        "t0 3860.000000 tf 3870.000000 [ms]", 
        "ODE statesF: [mM] "
       ]
      }, 
      {
       "output_type": "stream", 
       "stream": "stdout", 
       "text": [
        " [ 0.00055913  0.03466907]", 
        "ODE statesF: [uM]  0.55912854141", 
        "ODE states Flux [mM/ms]:  [ -1.45274383e-06  -3.12648933e-05]", 
        "ODE states Flux [uM/ms]:  [-0.00145274 -0.03126489]", 
        "WARNING: jSR and dCa are lumped tother into jVold", 
        "WARNING: I probably need to constrain jvolExpr s.t. the assembled value is equal to the ODE value", 
        "jboundary [mM/ms] 7.07926022828e-05", 
        "jboundary [uM/ms] 0.0707926022828", 
        "jvol [mM/ms]  -7.22449433268e-05", 
        "jvol [uM/ms]  -72.2449433268", 
        "##", 
        "## WARNING: we are not updating CaTnC!!!", 
        "##", 
        "T 3870.000000 [ms] Conc(0) 0.000558 [mM]"
       ]
      }, 
      {
       "output_type": "stream", 
       "stream": "stdout", 
       "text": [
        "", 
        "T 3870.000000 [ms] Conc(0) 0.558141 [uM]", 
        "T 3870.000000 [ms] Conc(1) 0.033389 [mM]", 
        "T 3870.000000 [ms] Conc(1) 33.389197 [uM]", 
        "WARNING: skipping conc updatee", 
        "###########################################################################", 
        "t0  3870.0 tf  3880.0", 
        "ODE Init [mM] [ 0.00055913  0.03466907]", 
        "t0 3870.000000 tf 3880.000000 [ms]", 
        "ODE statesF: [mM] "
       ]
      }, 
      {
       "output_type": "stream", 
       "stream": "stdout", 
       "text": [
        " [ 0.00054461  0.03431509]", 
        "ODE statesF: [uM]  0.544609047904", 
        "ODE states Flux [mM/ms]:  [ -1.45194935e-06  -3.53975414e-05]", 
        "ODE states Flux [uM/ms]:  [-0.00145195 -0.03539754]", 
        "WARNING: jSR and dCa are lumped tother into jVold", 
        "WARNING: I probably need to constrain jvolExpr s.t. the assembled value is equal to the ODE value", 
        "jboundary [mM/ms] 6.37805679051e-05", 
        "jboundary [uM/ms] 0.0637805679051", 
        "jvol [mM/ms]  -6.52329115171e-05", 
        "jvol [uM/ms]  -65.2329115171", 
        "##", 
        "## WARNING: we are not updating CaTnC!!!", 
        "##", 
        "T 3880.000000 [ms] Conc(0) 0.000544 [mM]"
       ]
      }, 
      {
       "output_type": "stream", 
       "stream": "stdout", 
       "text": [
        "", 
        "T 3880.000000 [ms] Conc(0) 0.543617 [uM]", 
        "T 3880.000000 [ms] Conc(1) 0.033389 [mM]", 
        "T 3880.000000 [ms] Conc(1) 33.389197 [uM]", 
        "WARNING: skipping conc updatee", 
        "###########################################################################", 
        "t0  3880.0 tf  3890.0", 
        "ODE Init [mM] [ 0.00054461  0.03431509]", 
        "t0 3880.000000 tf 3890.000000 [ms]", 
        "ODE statesF: [mM] "
       ]
      }, 
      {
       "output_type": "stream", 
       "stream": "stdout", 
       "text": [
        " [ 0.00053022  0.03393073]", 
        "ODE statesF: [uM]  0.530220900801", 
        "ODE states Flux [mM/ms]:  [ -1.43881471e-06  -3.84361879e-05]", 
        "ODE states Flux [uM/ms]:  [-0.00143881 -0.03843619]", 
        "WARNING: jSR and dCa are lumped tother into jVold", 
        "WARNING: I probably need to constrain jvolExpr s.t. the assembled value is equal to the ODE value", 
        "jboundary [mM/ms] 5.80094764243e-05", 
        "jboundary [uM/ms] 0.0580094764243", 
        "jvol [mM/ms]  -5.94491431519e-05", 
        "jvol [uM/ms]  -59.4491431519", 
        "##", 
        "## WARNING: we are not updating CaTnC!!!", 
        "##", 
        "T 3890.000000 [ms] Conc(0) 0.000529 [mM]"
       ]
      }, 
      {
       "output_type": "stream", 
       "stream": "stdout", 
       "text": [
        "", 
        "T 3890.000000 [ms] Conc(0) 0.529221 [uM]", 
        "T 3890.000000 [ms] Conc(1) 0.033389 [mM]", 
        "T 3890.000000 [ms] Conc(1) 33.389197 [uM]", 
        "WARNING: skipping conc updatee", 
        "###########################################################################", 
        "t0  3890.0 tf  3900.0", 
        "ODE Init [mM] [ 0.00053022  0.03393073]", 
        "t0 3890.000000 tf 3900.000000 [ms]", 
        "ODE statesF: [mM] "
       ]
      }, 
      {
       "output_type": "stream", 
       "stream": "stdout", 
       "text": [
        " [ 0.00051602  0.03352405]", 
        "ODE statesF: [uM]  0.516024539673", 
        "ODE states Flux [mM/ms]:  [ -1.41963611e-06  -4.06677172e-05]", 
        "ODE states Flux [uM/ms]:  [-0.00141964 -0.04066772]", 
        "WARNING: jSR and dCa are lumped tother into jVold", 
        "WARNING: I probably need to constrain jvolExpr s.t. the assembled value is equal to the ODE value", 
        "jboundary [mM/ms] 5.3108054651e-05", 
        "jboundary [uM/ms] 0.053108054651", 
        "jvol [mM/ms]  -5.45287037916e-05", 
        "jvol [uM/ms]  -54.5287037916", 
        "##", 
        "## WARNING: we are not updating CaTnC!!!", 
        "##", 
        "T 3900.000000 [ms] Conc(0) 0.000515 [mM]"
       ]
      }, 
      {
       "output_type": "stream", 
       "stream": "stdout", 
       "text": [
        "", 
        "T 3900.000000 [ms] Conc(0) 0.515014 [uM]", 
        "T 3900.000000 [ms] Conc(1) 0.033389 [mM]", 
        "T 3900.000000 [ms] Conc(1) 33.389197 [uM]", 
        "WARNING: skipping conc updatee", 
        "###########################################################################", 
        "t0  3900.0 tf  3910.0", 
        "ODE Init [mM] [ 0.00051602  0.03352405]", 
        "t0 3900.000000 tf 3910.000000 [ms]", 
        "ODE statesF: [mM] "
       ]
      }, 
      {
       "output_type": "stream", 
       "stream": "stdout", 
       "text": [
        " [ 0.00050202  0.03310073]", 
        "ODE statesF: [uM]  0.502022576091", 
        "ODE states Flux [mM/ms]:  [ -1.40019636e-06  -4.23326664e-05]", 
        "ODE states Flux [uM/ms]:  [-0.0014002  -0.04233267]", 
        "WARNING: jSR and dCa are lumped tother into jVold", 
        "WARNING: I probably need to constrain jvolExpr s.t. the assembled value is equal to the ODE value", 
        "jboundary [mM/ms] 4.87569587043e-05", 
        "jboundary [uM/ms] 0.0487569587043", 
        "jvol [mM/ms]  -5.01580409784e-05", 
        "jvol [uM/ms]  -50.1580409784", 
        "##", 
        "## WARNING: we are not updating CaTnC!!!", 
        "##", 
        "T 3910.000000 [ms] Conc(0) 0.000501 [mM]"
       ]
      }, 
      {
       "output_type": "stream", 
       "stream": "stdout", 
       "text": [
        "", 
        "T 3910.000000 [ms] Conc(0) 0.501003 [uM]", 
        "T 3910.000000 [ms] Conc(1) 0.033389 [mM]", 
        "T 3910.000000 [ms] Conc(1) 33.389197 [uM]", 
        "WARNING: skipping conc updatee", 
        "###########################################################################", 
        "t0  3910.0 tf  3920.0", 
        "ODE Init [mM] [ 0.00050202  0.03310073]", 
        "t0 3910.000000 tf 3920.000000 [ms]", 
        "ODE statesF: [mM] "
       ]
      }, 
      {
       "output_type": "stream", 
       "stream": "stdout", 
       "text": [
        " [ 0.00048816  0.03266426]", 
        "ODE statesF: [uM]  0.48815724501", 
        "ODE states Flux [mM/ms]:  [ -1.38653311e-06  -4.36463947e-05]", 
        "ODE states Flux [uM/ms]:  [-0.00138653 -0.04364639]", 
        "WARNING: jSR and dCa are lumped tother into jVold", 
        "WARNING: I probably need to constrain jvolExpr s.t. the assembled value is equal to the ODE value", 
        "jboundary [mM/ms] 4.46553421995e-05", 
        "jboundary [uM/ms] 0.0446553421995", 
        "jvol [mM/ms]  -4.60423115783e-05", 
        "jvol [uM/ms]  -46.0423115783", 
        "##", 
        "## WARNING: we are not updating CaTnC!!!", 
        "##", 
        "T 3920.000000 [ms] Conc(0) 0.000487 [mM]"
       ]
      }, 
      {
       "output_type": "stream", 
       "stream": "stdout", 
       "text": [
        "", 
        "T 3920.000000 [ms] Conc(0) 0.487134 [uM]", 
        "T 3920.000000 [ms] Conc(1) 0.033389 [mM]", 
        "T 3920.000000 [ms] Conc(1) 33.389197 [uM]", 
        "WARNING: skipping conc updatee", 
        "###########################################################################", 
        "t0  3920.0 tf  3930.0", 
        "ODE Init [mM] [ 0.00048816  0.03266426]", 
        "t0 3920.000000 tf 3930.000000 [ms]", 
        "ODE statesF: [mM] "
       ]
      }, 
      {
       "output_type": "stream", 
       "stream": "stdout", 
       "text": [
        " [ 0.0004743   0.03221604]", 
        "ODE statesF: [uM]  0.474298527626", 
        "ODE states Flux [mM/ms]:  [ -1.38587174e-06  -4.48223345e-05]", 
        "ODE states Flux [uM/ms]:  [-0.00138587 -0.04482233]", 
        "WARNING: jSR and dCa are lumped tother into jVold", 
        "WARNING: I probably need to constrain jvolExpr s.t. the assembled value is equal to the ODE value", 
        "jboundary [mM/ms] 4.04817262091e-05", 
        "jboundary [uM/ms] 0.0404817262091", 
        "jvol [mM/ms]  -4.18671812397e-05", 
        "jvol [uM/ms]  -41.8671812397", 
        "##", 
        "## WARNING: we are not updating CaTnC!!!", 
        "##", 
        "T 3930.000000 [ms] Conc(0) 0.000473 [mM]"
       ]
      }, 
      {
       "output_type": "stream", 
       "stream": "stdout", 
       "text": [
        "", 
        "T 3930.000000 [ms] Conc(0) 0.473279 [uM]", 
        "T 3930.000000 [ms] Conc(1) 0.033389 [mM]", 
        "T 3930.000000 [ms] Conc(1) 33.389197 [uM]", 
        "WARNING: skipping conc updatee", 
        "###########################################################################", 
        "t0  3930.0 tf  3940.0", 
        "ODE Init [mM] [ 0.0004743   0.03221604]", 
        "t0 3930.000000 tf 3940.000000 [ms]", 
        "ODE statesF: [mM] "
       ]
      }, 
      {
       "output_type": "stream", 
       "stream": "stdout", 
       "text": [
        " [ 0.00046023  0.03175507]", 
        "ODE statesF: [uM]  0.460228806447", 
        "ODE states Flux [mM/ms]:  [ -1.40697212e-06  -4.60969059e-05]", 
        "ODE states Flux [uM/ms]:  [-0.00140697 -0.04609691]", 
        "WARNING: jSR and dCa are lumped tother into jVold", 
        "WARNING: I probably need to constrain jvolExpr s.t. the assembled value is equal to the ODE value", 
        "jboundary [mM/ms] 3.58512433476e-05", 
        "jboundary [uM/ms] 0.0358512433476", 
        "jvol [mM/ms]  -3.7256502878e-05", 
        "jvol [uM/ms]  -37.256502878", 
        "##", 
        "## WARNING: we are not updating CaTnC!!!", 
        "##", 
        "T 3940.000000 [ms] Conc(0) 0.000459 [mM]"
       ]
      }, 
      {
       "output_type": "stream", 
       "stream": "stdout", 
       "text": [
        "", 
        "T 3940.000000 [ms] Conc(0) 0.459226 [uM]", 
        "T 3940.000000 [ms] Conc(1) 0.033389 [mM]", 
        "T 3940.000000 [ms] Conc(1) 33.389197 [uM]", 
        "WARNING: skipping conc updatee", 
        "###########################################################################", 
        "t0  3940.0 tf  3950.0", 
        "ODE Init [mM] [ 0.00046023  0.03175507]", 
        "t0 3940.000000 tf 3950.000000 [ms]", 
        "ODE statesF: [mM] "
       ]
      }, 
      {
       "output_type": "stream", 
       "stream": "stdout", 
       "text": [
        " [ 0.00044568  0.03127777]", 
        "ODE statesF: [uM]  0.445677745649", 
        "ODE states Flux [mM/ms]:  [ -1.45510608e-06  -4.77300015e-05]", 
        "ODE states Flux [uM/ms]:  [-0.00145511 -0.04773   ]", 
        "WARNING: jSR and dCa are lumped tother into jVold", 
        "WARNING: I probably need to constrain jvolExpr s.t. the assembled value is equal to the ODE value", 
        "jboundary [mM/ms] 3.03263504405e-05", 
        "jboundary [uM/ms] 0.0303263504405", 
        "jvol [mM/ms]  -3.17785195705e-05", 
        "jvol [uM/ms]  -31.7785195705", 
        "##", 
        "## WARNING: we are not updating CaTnC!!!", 
        "##", 
        "T 3950.000000 [ms] Conc(0) 0.000445 [mM]"
       ]
      }, 
      {
       "output_type": "stream", 
       "stream": "stdout", 
       "text": [
        "", 
        "T 3950.000000 [ms] Conc(0) 0.444705 [uM]", 
        "T 3950.000000 [ms] Conc(1) 0.033389 [mM]", 
        "T 3950.000000 [ms] Conc(1) 33.389197 [uM]", 
        "WARNING: skipping conc updatee", 
        "###########################################################################", 
        "t0  3950.0 tf  3960.0", 
        "ODE Init [mM] [ 0.00044568  0.03127777]", 
        "t0 3950.000000 tf 3960.000000 [ms]", 
        "ODE statesF: [mM] "
       ]
      }, 
      {
       "output_type": "stream", 
       "stream": "stdout", 
       "text": [
        " [ 0.00043054  0.03077903]", 
        "ODE statesF: [uM]  0.43054469262", 
        "ODE states Flux [mM/ms]:  [ -1.51330530e-06  -4.98740566e-05]", 
        "ODE states Flux [uM/ms]:  [-0.00151331 -0.04987406]", 
        "WARNING: jSR and dCa are lumped tother into jVold", 
        "WARNING: I probably need to constrain jvolExpr s.t. the assembled value is equal to the ODE value", 
        "jboundary [mM/ms] 2.37034541697e-05", 
        "jboundary [uM/ms] 0.0237034541697", 
        "jvol [mM/ms]  -2.52142166715e-05", 
        "jvol [uM/ms]  -25.2142166715", 
        "##", 
        "## WARNING: we are not updating CaTnC!!!", 
        "##", 
        "T 3960.000000 [ms] Conc(0) 0.000430 [mM]"
       ]
      }, 
      {
       "output_type": "stream", 
       "stream": "stdout", 
       "text": [
        "", 
        "T 3960.000000 [ms] Conc(0) 0.429597 [uM]", 
        "T 3960.000000 [ms] Conc(1) 0.033389 [mM]", 
        "T 3960.000000 [ms] Conc(1) 33.389197 [uM]", 
        "WARNING: skipping conc updatee", 
        "###########################################################################", 
        "t0  3960.0 tf  3970.0", 
        "ODE Init [mM] [ 0.00043054  0.03077903]", 
        "t0 3960.000000 tf 3970.000000 [ms]", 
        "ODE statesF: [mM] "
       ]
      }, 
      {
       "output_type": "stream", 
       "stream": "stdout", 
       "text": [
        " [ 0.00041492  0.0302553 ]", 
        "ODE statesF: [uM]  0.414924693069", 
        "ODE states Flux [mM/ms]:  [ -1.56199996e-06  -5.23730307e-05]", 
        "ODE states Flux [uM/ms]:  [-0.001562   -0.05237303]", 
        "WARNING: jSR and dCa are lumped tother into jVold", 
        "WARNING: I probably need to constrain jvolExpr s.t. the assembled value is equal to the ODE value", 
        "jboundary [mM/ms] 1.63912280084e-05", 
        "jboundary [uM/ms] 0.0163912280084", 
        "jvol [mM/ms]  -1.7949858251e-05", 
        "jvol [uM/ms]  -17.949858251", 
        "##", 
        "## WARNING: we are not updating CaTnC!!!", 
        "##", 
        "T 3970.000000 [ms] Conc(0) 0.000414 [mM]"
       ]
      }, 
      {
       "output_type": "stream", 
       "stream": "stdout", 
       "text": [
        "", 
        "T 3970.000000 [ms] Conc(0) 0.414011 [uM]", 
        "T 3970.000000 [ms] Conc(1) 0.033389 [mM]", 
        "T 3970.000000 [ms] Conc(1) 33.389197 [uM]", 
        "WARNING: skipping conc updatee", 
        "###########################################################################", 
        "t0  3970.0 tf  3980.0", 
        "ODE Init [mM] [ 0.00041492  0.0302553 ]", 
        "t0 3970.000000 tf 3980.000000 [ms]", 
        "ODE statesF: [mM] "
       ]
      }, 
      {
       "output_type": "stream", 
       "stream": "stdout", 
       "text": [
        " [ 0.00039838  0.02970114]", 
        "ODE statesF: [uM]  0.398377103022", 
        "ODE states Flux [mM/ms]:  [ -1.65475900e-06  -5.54163440e-05]", 
        "ODE states Flux [uM/ms]:  [-0.00165476 -0.05541634]", 
        "WARNING: jSR and dCa are lumped tother into jVold", 
        "WARNING: I probably need to constrain jvolExpr s.t. the assembled value is equal to the ODE value", 
        "jboundary [mM/ms] 7.9051616085e-06", 
        "jboundary [uM/ms] 0.0079051616085", 
        "jvol [mM/ms]  -9.55617279199e-06", 
        "jvol [uM/ms]  -9.55617279199", 
        "##", 
        "## WARNING: we are not updating CaTnC!!!", 
        "##", 
        "T 3980.000000 [ms] Conc(0) 0.000398 [mM]"
       ]
      }, 
      {
       "output_type": "stream", 
       "stream": "stdout", 
       "text": [
        "", 
        "T 3980.000000 [ms] Conc(0) 0.397501 [uM]", 
        "T 3980.000000 [ms] Conc(1) 0.033389 [mM]", 
        "T 3980.000000 [ms] Conc(1) 33.389197 [uM]", 
        "WARNING: skipping conc updatee", 
        "###########################################################################", 
        "t0  3980.0 tf  3990.0", 
        "ODE Init [mM] [ 0.00039838  0.02970114]", 
        "t0 3980.000000 tf 3990.000000 [ms]", 
        "ODE statesF: [mM] "
       ]
      }, 
      {
       "output_type": "stream", 
       "stream": "stdout", 
       "text": [
        " [ 0.0003825  0.0291164]", 
        "ODE statesF: [uM]  0.382500844255", 
        "ODE states Flux [mM/ms]:  [ -1.58762588e-06  -5.84739979e-05]", 
        "ODE states Flux [uM/ms]:  [-0.00158763 -0.058474  ]", 
        "WARNING: jSR and dCa are lumped tother into jVold", 
        "WARNING: I probably need to constrain jvolExpr s.t. the assembled value is equal to the ODE value", 
        "jboundary [mM/ms] -4.62168507868e-07", 
        "jboundary [uM/ms] -0.000462168507868", 
        "jvol [mM/ms]  -1.13470947589e-06", 
        "jvol [uM/ms]  -1.13470947589", 
        "##", 
        "## WARNING: we are not updating CaTnC!!!", 
        "##", 
        "T 3990.000000 [ms] Conc(0) 0.000382 [mM]"
       ]
      }, 
      {
       "output_type": "stream", 
       "stream": "stdout", 
       "text": [
        "", 
        "T 3990.000000 [ms] Conc(0) 0.381532 [uM]", 
        "T 3990.000000 [ms] Conc(1) 0.033389 [mM]", 
        "T 3990.000000 [ms] Conc(1) 33.389197 [uM]", 
        "WARNING: skipping conc updatee", 
        "###########################################################################", 
        "t0  3990.0 tf  4000.0", 
        "ODE Init [mM] [ 0.0003825  0.0291164]", 
        "t0 3990.000000 tf 4000.000000 [ms]", 
        "ODE statesF: [mM] "
       ]
      }, 
      {
       "output_type": "stream", 
       "stream": "stdout", 
       "text": [
        " [ 0.00036831  0.02852144]", 
        "ODE statesF: [uM]  0.368312289564", 
        "ODE states Flux [mM/ms]:  [ -1.41885547e-06  -5.94954558e-05]", 
        "ODE states Flux [uM/ms]:  [-0.00141886 -0.05949546]", 
        "WARNING: jSR and dCa are lumped tother into jVold", 
        "WARNING: I probably need to constrain jvolExpr s.t. the assembled value is equal to the ODE value", 
        "jboundary [mM/ms] -4.59321094043e-06", 
        "jboundary [uM/ms] -0.00459321094043", 
        "jvol [mM/ms]  3.16761413739e-06", 
        "jvol [uM/ms]  3.16761413739", 
        "##", 
        "## WARNING: we are not updating CaTnC!!!", 
        "##", 
        "T 4000.000000 [ms] Conc(0) 0.000367 [mM]"
       ]
      }, 
      {
       "output_type": "stream", 
       "stream": "stdout", 
       "text": [
        "", 
        "T 4000.000000 [ms] Conc(0) 0.367276 [uM]", 
        "T 4000.000000 [ms] Conc(1) 0.033389 [mM]", 
        "T 4000.000000 [ms] Conc(1) 33.389197 [uM]", 
        "WARNING: skipping conc updatee", 
        "### Mode separateFlux passes!"
       ]
      }, 
      {
       "output_type": "display_data", 
       "png": "[encoded data removed]"
      }
     ], 
     "prompt_number": 14
    }, 
    {
     "cell_type": "markdown", 
     "source": [
      "Store names"
     ]
    }, 
    {
     "cell_type": "code", 
     "collapsed": false, 
     "input": [
      "class empty:pass", 
      "", 
      "if(run):", 
      "    print results1.pickleName", 
      "    print results2.pickleName", 
      "    print results3.pickleName", 
      "    ", 
      "cases = []", 
      "case1 = empty()", 
      "case1.pickleName = names[0]+\".pkl\" # \"case1.pkl\"  ", 
      "cases.append(case1)", 
      "", 
      "case2 = empty()", 
      "case2.pickleName = names[1]+\".pkl\" # \"case2.pkl\"  ", 
      "cases.append(case2)", 
      "", 
      "case3 = empty()", 
      "case3.pickleName = names[2]+\".pkl\" # \"case3.pkl\"  ", 
      "cases.append(case3)"
     ], 
     "language": "python", 
     "outputs": [
      {
       "output_type": "stream", 
       "stream": "stdout", 
       "text": [
        "R9Q.pkl", 
        "WT.pkl", 
        "R9C.pkl"
       ]
      }
     ], 
     "prompt_number": 15
    }, 
    {
     "cell_type": "markdown", 
     "source": [
      "open pickles"
     ]
    }, 
    {
     "cell_type": "code", 
     "collapsed": true, 
     "input": [
      "import cPickle as pickle", 
      "case = cases[0]", 
      "", 
      "for i,case in enumerate(cases):", 
      "  pkl_file = open(case.pickleName, 'rb')", 
      "  data1 = pickle.load(pkl_file)", 
      "", 
      "  case.jSRs = data1['jSRs']", 
      "  case.cs = data1['cs']", 
      "  case.cbs = data1['cbs']", 
      "  case.ts = data1['ts']", 
      "", 
      "  pkl_file.close()"
     ], 
     "language": "python", 
     "outputs": [], 
     "prompt_number": 23
    }, 
    {
     "cell_type": "code", 
     "collapsed": false, 
     "input": [
      "plt.figure()", 
      "mM_to_uM=1e3", 
      "# cas", 
      "plt.subplot(211)", 
      "plt.title(\"Whole-cell Ca\")", 
      "plt.ylabel(\"Ca [uM]\") ", 
      "plt.xlabel(\"t [ms]\") ", 
      "t = cases[0].ts", 
      "", 
      "plt.plot(t,cases[0].cs[1:]*mM_to_uM,'b-',label=cases[0].pickleName)", 
      "plt.plot(t,cases[1].cs[1:]*mM_to_uM,'b.-',label=cases[1].pickleName)", 
      "plt.plot(t,cases[2].cs[1:]*mM_to_uM,'b--',label=cases[2].pickleName)", 
      "plt.legend()", 
      "", 
      "# jSR ", 
      "print \"WARNING: SERC flux contains all buffer fluxes\"", 
      "plt.subplot(212)", 
      "plt.title(\"Whole-cell jSR\")", 
      "plt.ylabel(\"jSR [uM/ms]\") ", 
      "plt.xlabel(\"t [ms]\") ", 
      "", 
      "plt.plot(t,cases[0].jSRs*mM_to_uM,'b-',label=cases[0].pickleName)", 
      "plt.plot(t,cases[1].jSRs*mM_to_uM,'b.-',label=cases[1].pickleName)", 
      "plt.plot(t,cases[2].jSRs*mM_to_uM,'b--',label=cases[2].pickleName)", 
      "plt.legend()"
     ], 
     "language": "python", 
     "outputs": [
      {
       "output_type": "stream", 
       "stream": "stdout", 
       "text": [
        "WARNING: SERC flux contains all buffer fluxes"
       ]
      }, 
      {
       "output_type": "pyout", 
       "prompt_number": 35, 
       "text": [
        "<matplotlib.legend.Legend at 0x9b3a450>"
       ]
      }, 
      {
       "output_type": "display_data", 
       "png": "[encoded data removed]"
      }
     ], 
     "prompt_number": 35
    }, 
    {
     "cell_type": "code", 
     "collapsed": true, 
     "input": [], 
     "language": "python", 
     "outputs": []
    }
   ]
  }
 ]
}