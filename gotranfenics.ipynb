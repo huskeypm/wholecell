{
 "metadata": {
  "name": "gotranfenics"
 }, 
 "nbformat": 2, 
 "worksheets": [
  {
   "cells": [
    {
     "cell_type": "markdown", 
     "source": [
      "Be sure to source", 
      "", 
      "1. source ~/sources/smolhomog/vm.bash ", 
      "2. python -c  \"import dolfin\"", 
      "3. sdf"
     ]
    }, 
    {
     "cell_type": "code", 
     "collapsed": false, 
     "input": [
      "import sys", 
      "sys.path.append(\"/home/huskeypm/localTemp/wholecell\")", 
      "import runner", 
      "import sympy", 
      "from dolfin import * ", 
      "import templateGotran as gt"
     ], 
     "language": "python", 
     "outputs": [
      {
       "output_type": "stream", 
       "stream": "stdout", 
       "text": [
        "WARNING: ode idx is hardcoded", 
        "WARNING: This model is almost certinaly wrong (dbl check fluxes)"
       ]
      }
     ], 
     "prompt_number": 1
    }, 
    {
     "cell_type": "markdown", 
     "source": [
      "## 1D cases (TOD0)", 
      "", 
      "- shannon vs mine [Ca and jSR]", 
      "- R9Q vs R9C [Ca and jSR]"
     ]
    }, 
    {
     "cell_type": "code", 
     "collapsed": true, 
     "input": [
      "t0 = 0", 
      "tF = 2e3", 
      "dtn = 0.01", 
      "run=1", 
      "class empty:pass", 
      "", 
      "#import shannon_2004 as model", 
      "", 
      "#from scipy.integrate import odeint", 
      "Cai_ode_idx =  runner.model.state_indices( \"Cai\" )", 
      "", 
      "def simpleRun():", 
      "  runner.init()", 
      "  (p,states,ts,js)=runner.runner()", 
      "  ", 
      "  results = empty()", 
      "  results.p = p", 
      "  results.ts = ts", 
      "  results.js = js", 
      "  results.states = states[1:,Cai_ode_idx]", 
      "  return (results)"
     ], 
     "language": "python", 
     "outputs": [], 
     "prompt_number": 11
    }, 
    {
     "cell_type": "code", 
     "collapsed": true, 
     "input": [
      "odecases = []", 
      "", 
      "run=0", 
      "if run:", 
      "  # shannon  dflt", 
      "  case1 = empty()", 
      "  case1.results = simpleRun()", 
      "  case1.name = \"Shannon\"", 
      "  odecases.append(case1)", 
      "", 
      "  # my model (WT) ", 
      "  case2 = empty()", 
      "  case2.results = simpleRun()", 
      "  case2.name = \"MineWT\"", 
      "  odecases.append(case2)", 
      "", 
      "  # R9Q ", 
      "  case3 = empty()", 
      "  case3.results = simpleRun()", 
      "  case3.name = \"R9Q\"", 
      "  odecases.append(case3)", 
      "", 
      "  # R9C", 
      "  case4 = empty()", 
      "  case4.results = simpleRun()", 
      "  case4.name = \"R9C\"", 
      "  odecases.append(case4)"
     ], 
     "language": "python", 
     "outputs": [], 
     "prompt_number": 18
    }, 
    {
     "cell_type": "markdown", 
     "source": [
      "Comparison of Shannon model with my model "
     ]
    }, 
    {
     "cell_type": "code", 
     "collapsed": false, 
     "input": [
      "# compare my model vs shannon", 
      "plt.figure()", 
      "plt.subplot(121)", 
      "plt.title(\"Ca\")", 
      "plt.ylabel(\"[Ca] [uM]\") ", 
      "plt.xlabel(\"t [ms]\") ", 
      "plt.plot(case1.results.ts,case1.results.states,'b-',label=case1.name)", 
      "plt.plot(case2.results.ts,case2.results.states,'b.',label=case2.name)", 
      "plt.legend()", 
      "", 
      "plt.subplot(122)", 
      "plt.title(\"Pump rate\")", 
      "plt.ylabel(\"jSERCA [uM/ms]\") ", 
      "plt.xlabel(\"t [ms]\") ", 
      "idx = runner.j_pump_SR_idx", 
      "plt.plot(case1.results.ts,case1.results.js[:,idx],'b-',label=case1.name)", 
      "plt.plot(case2.results.ts,case2.results.js[:,idx],'b.',label=case2.name)", 
      "plt.legend()"
     ], 
     "language": "python", 
     "outputs": [
      {
       "output_type": "pyout", 
       "prompt_number": 23, 
       "text": [
        "<matplotlib.legend.Legend at 0x44a2ed0>"
       ]
      }, 
      {
       "output_type": "display_data", 
       "png": "[encoded data removed]"
      }
     ], 
     "prompt_number": 23
    }, 
    {
     "cell_type": "markdown", 
     "source": [
      "WT vs plb mutants"
     ]
    }, 
    {
     "cell_type": "code", 
     "collapsed": false, 
     "input": [
      "# compare R9C/R9Q", 
      "plt.figure()", 
      "plt.subplot(121)", 
      "plt.title(\"Ca\")", 
      "plt.ylabel(\"[Ca] [uM]\") ", 
      "plt.xlabel(\"t [ms]\") ", 
      "plt.plot(case2.results.ts,case2.results.states,'b-',label=case2.name)", 
      "plt.plot(case3.results.ts,case3.results.states,'b.',label=case3.name)", 
      "plt.plot(case4.results.ts,case4.results.states,'b--',label=case4.name)", 
      "plt.legend()", 
      "", 
      "plt.subplot(122)", 
      "plt.title(\"Pump rate\")", 
      "plt.ylabel(\"jSERCA [uM/ms]\") ", 
      "plt.xlabel(\"t [ms]\") ", 
      "plt.plot(case2.results.ts,case2.results.js[:,idx],'b-',label=case2.name)", 
      "plt.plot(case3.results.ts,case3.results.js[:,idx],'b.',label=case3.name)", 
      "plt.plot(case4.results.ts,case4.results.js[:,idx],'b--',label=case4.name)", 
      "plt.legend()"
     ], 
     "language": "python", 
     "outputs": [
      {
       "output_type": "pyout", 
       "prompt_number": 24, 
       "text": [
        "<matplotlib.legend.Legend at 0x5586950>"
       ]
      }, 
      {
       "output_type": "display_data", 
       "png": "[encoded data removed]"
      }
     ], 
     "prompt_number": 24
    }, 
    {
     "cell_type": "markdown", 
     "source": [
      "## 3D cases (TODO)"
     ]
    }, 
    {
     "cell_type": "markdown", 
     "source": [
      "### Testing"
     ]
    }, 
    {
     "cell_type": "markdown", 
     "source": [
      "#### Baseline "
     ]
    }, 
    {
     "cell_type": "code", 
     "collapsed": true, 
     "input": [
      "class empty:pass", 
      "import cPickle as pickle", 
      "import templateGotran as gt", 
      "", 
      "# run me", 
      "run=0", 
      "if run:", 
      "", 
      "  gt.Test1()", 
      ""
     ], 
     "language": "python", 
     "outputs": [
      {
       "output_type": "stream", 
       "stream": "stdout", 
       "text": [
        "WARNING: buffering by TnC in cytosol is not correct in this model!!!", 
        "WARNING: ode idx is hardcoded", 
        "WARNING: This model is almost certinaly wrong (dbl check fluxes)", 
        "WARNING: system is not fully equil'd, but had stability issues"
       ]
      }, 
      {
       "output_type": "stream", 
       "stream": "stdout", 
       "text": [
        ""
       ]
      }, 
      {
       "output_type": "stream", 
       "stream": "stdout", 
       "text": [
        "0.000246", 
        "Equilibrating for 3000.000000 [ms]", 
        "WARHING: CHECK ME", 
        "ODE Init [mM]"
       ]
      }, 
      {
       "output_type": "stream", 
       "stream": "stdout", 
       "text": [
        " [ 0.00029975  0.02558841]", 
        "t0 3000.000000 tf 4000.000000 [ms]", 
        "vol_sa_ratio  [um]"
       ]
      }, 
      {
       "output_type": "stream", 
       "stream": "stdout", 
       "text": [
        " 1.2", 
        "WARNING: not working w eval func", 
        "T 0.000000 [ms] Conc(0) 0.000300 [mM]", 
        "T 0.000000 [ms] Conc(0) 0.299747 [uM]", 
        "T 0.000000 [ms] Conc(1) 0.025588 [mM]", 
        "T 0.000000 [ms] Conc(1) 25.588410 [uM]", 
        "###########################################################################", 
        "t0  3000.0 tf  3010.0", 
        "ODE Init [mM] [ 0.00029975  0.02558841]", 
        "t0 3000.000000 tf 3010.000000 [ms]", 
        "ODE statesF: [mM] "
       ]
      }, 
      {
       "output_type": "stream", 
       "stream": "stdout", 
       "text": [
        " [ 0.00028625  0.02492413]", 
        "ODE statesF: [uM]  0.286253795401", 
        "ODE states Flux [mM/ms]:  [ -1.34931882e-06  -6.64281541e-05]", 
        "ODE states Flux [uM/ms]:  [-0.00134932 -0.06642815]", 
        "WARNING: jSR and dCa are lumped tother into jVold", 
        "WARNING: I probably need to constrain jvolExpr s.t. the assembled value is equal to the ODE value", 
        "jboundary [mM/ms] 5.73687554781e-05", 
        "jboundary [uM/ms] 0.0573687554781", 
        "jvol [mM/ms]  -5.87208303886e-05", 
        "jvol [uM/ms]  -58.7208303886", 
        "##", 
        "## WARNING: we are not updating CaTnC!!!", 
        "##", 
        "T 3010.000000 [ms] Conc(0) 0.000286 [mM]"
       ]
      }, 
      {
       "output_type": "stream", 
       "stream": "stdout", 
       "text": [
        "", 
        "T 3010.000000 [ms] Conc(0) 0.286226 [uM]", 
        "T 3010.000000 [ms] Conc(1) 0.025588 [mM]", 
        "T 3010.000000 [ms] Conc(1) 25.588410 [uM]", 
        "WARNING: skipping conc updatee", 
        "###########################################################################", 
        "t0  3010.0 tf  3020.0", 
        "ODE Init [mM] [ 0.00028625  0.02492413]", 
        "t0 3010.000000 tf 3020.000000 [ms]", 
        "ODE statesF: [mM] "
       ]
      }, 
      {
       "output_type": "stream", 
       "stream": "stdout", 
       "text": [
        " [ 0.00027321  0.02425733]", 
        "ODE statesF: [uM]  0.27320904497", 
        "ODE states Flux [mM/ms]:  [ -1.30447504e-06  -6.66798070e-05]", 
        "ODE states Flux [uM/ms]:  [-0.00130448 -0.06667981]", 
        "WARNING: jSR and dCa are lumped tother into jVold", 
        "WARNING: I probably need to constrain jvolExpr s.t. the assembled value is equal to the ODE value", 
        "jboundary [mM/ms] 5.23477776085e-05", 
        "jboundary [uM/ms] 0.0523477776085", 
        "jvol [mM/ms]  -5.36539494537e-05", 
        "jvol [uM/ms]  -53.6539494537", 
        "##", 
        "## WARNING: we are not updating CaTnC!!!", 
        "##", 
        "T 3020.000000 [ms] Conc(0) 0.000273 [mM]"
       ]
      }, 
      {
       "output_type": "stream", 
       "stream": "stdout", 
       "text": [
        "", 
        "T 3020.000000 [ms] Conc(0) 0.273165 [uM]", 
        "T 3020.000000 [ms] Conc(1) 0.025588 [mM]", 
        "T 3020.000000 [ms] Conc(1) 25.588410 [uM]", 
        "WARNING: skipping conc updatee", 
        "###########################################################################", 
        "t0  3020.0 tf  3030.0", 
        "ODE Init [mM] [ 0.00027321  0.02425733]", 
        "t0 3020.000000 tf 3030.000000 [ms]", 
        "ODE statesF: [mM] "
       ]
      }, 
      {
       "output_type": "stream", 
       "stream": "stdout", 
       "text": [
        " [ 0.00026037  0.02358788]", 
        "ODE statesF: [uM]  0.260371277418", 
        "ODE states Flux [mM/ms]:  [ -1.28377676e-06  -6.69448634e-05]", 
        "ODE states Flux [uM/ms]:  [-0.00128378 -0.06694486]", 
        "WARNING: jSR and dCa are lumped tother into jVold", 
        "WARNING: I probably need to constrain jvolExpr s.t. the assembled value is equal to the ODE value", 
        "jboundary [mM/ms] 4.67325524376e-05", 
        "jboundary [uM/ms] 0.0467325524376", 
        "jvol [mM/ms]  -4.80167797705e-05", 
        "jvol [uM/ms]  -48.0167797705", 
        "##", 
        "## WARNING: we are not updating CaTnC!!!", 
        "##", 
        "T 3030.000000 [ms] Conc(0) 0.000260 [mM]"
       ]
      }, 
      {
       "output_type": "stream", 
       "stream": "stdout", 
       "text": [
        "", 
        "T 3030.000000 [ms] Conc(0) 0.260322 [uM]", 
        "T 3030.000000 [ms] Conc(1) 0.025588 [mM]", 
        "T 3030.000000 [ms] Conc(1) 25.588410 [uM]", 
        "WARNING: skipping conc updatee", 
        "###########################################################################", 
        "t0  3030.0 tf  3040.0", 
        "ODE Init [mM] [ 0.00026037  0.02358788]", 
        "t0 3030.000000 tf 3040.000000 [ms]", 
        "ODE statesF: [mM] "
       ]
      }, 
      {
       "output_type": "stream", 
       "stream": "stdout", 
       "text": [
        " [ 0.00024759  0.02291289]", 
        "ODE statesF: [uM]  0.247585270644", 
        "ODE states Flux [mM/ms]:  [ -1.27860068e-06  -6.74989511e-05]", 
        "ODE states Flux [uM/ms]:  [-0.0012786  -0.06749895]", 
        "WARNING: jSR and dCa are lumped tother into jVold", 
        "WARNING: I probably need to constrain jvolExpr s.t. the assembled value is equal to the ODE value", 
        "jboundary [mM/ms] 4.00843797094e-05", 
        "jboundary [uM/ms] 0.0400843797094", 
        "jvol [mM/ms]  -4.13634281385e-05", 
        "jvol [uM/ms]  -41.3634281385", 
        "##", 
        "## WARNING: we are not updating CaTnC!!!", 
        "##", 
        "T 3040.000000 [ms] Conc(0) 0.000248 [mM]"
       ]
      }, 
      {
       "output_type": "stream", 
       "stream": "stdout", 
       "text": [
        "", 
        "T 3040.000000 [ms] Conc(0) 0.247532 [uM]", 
        "T 3040.000000 [ms] Conc(1) 0.025588 [mM]", 
        "T 3040.000000 [ms] Conc(1) 25.588410 [uM]", 
        "WARNING: skipping conc updatee", 
        "###########################################################################", 
        "t0  3040.0 tf  3050.0", 
        "ODE Init [mM] [ 0.00024759  0.02291289]", 
        "t0 3040.000000 tf 3050.000000 [ms]", 
        "ODE statesF: [mM] "
       ]
      }, 
      {
       "output_type": "stream", 
       "stream": "stdout", 
       "text": [
        " [ 0.00023498  0.02223031]", 
        "ODE statesF: [uM]  0.234977323337", 
        "ODE states Flux [mM/ms]:  [ -1.26079473e-06  -6.82581705e-05]", 
        "ODE states Flux [uM/ms]:  [-0.00126079 -0.06825817]", 
        "WARNING: jSR and dCa are lumped tother into jVold", 
        "WARNING: I probably need to constrain jvolExpr s.t. the assembled value is equal to the ODE value", 
        "jboundary [mM/ms] 3.27312192408e-05", 
        "jboundary [uM/ms] 0.0327312192408", 
        "jvol [mM/ms]  -3.39926355293e-05", 
        "jvol [uM/ms]  -33.9926355293", 
        "##", 
        "## WARNING: we are not updating CaTnC!!!", 
        "##", 
        "T 3050.000000 [ms] Conc(0) 0.000235 [mM]"
       ]
      }, 
      {
       "output_type": "stream", 
       "stream": "stdout", 
       "text": [
        "", 
        "T 3050.000000 [ms] Conc(0) 0.234918 [uM]", 
        "T 3050.000000 [ms] Conc(1) 0.025588 [mM]", 
        "T 3050.000000 [ms] Conc(1) 25.588410 [uM]", 
        "WARNING: skipping conc updatee", 
        "###########################################################################", 
        "t0  3050.0 tf  3060.0", 
        "ODE Init [mM] [ 0.00023498  0.02223031]", 
        "t0 3050.000000 tf 3060.000000 [ms]", 
        "ODE statesF: [mM] "
       ]
      }, 
      {
       "output_type": "stream", 
       "stream": "stdout", 
       "text": [
        " [ 0.00022239  0.02153826]", 
        "ODE statesF: [uM]  0.222386123886", 
        "ODE states Flux [mM/ms]:  [ -1.25911995e-06  -6.92046574e-05]", 
        "ODE states Flux [uM/ms]:  [-0.00125912 -0.06920466]", 
        "WARNING: jSR and dCa are lumped tother into jVold", 
        "WARNING: I probably need to constrain jvolExpr s.t. the assembled value is equal to the ODE value", 
        "jboundary [mM/ms] 2.47107537121e-05", 
        "jboundary [uM/ms] 0.0247107537121", 
        "jvol [mM/ms]  -2.59710822214e-05", 
        "jvol [uM/ms]  -25.9710822214", 
        "##", 
        "## WARNING: we are not updating CaTnC!!!", 
        "##", 
        "T 3060.000000 [ms] Conc(0) 0.000222 [mM]"
       ]
      }, 
      {
       "output_type": "stream", 
       "stream": "stdout", 
       "text": [
        "", 
        "T 3060.000000 [ms] Conc(0) 0.222314 [uM]", 
        "T 3060.000000 [ms] Conc(1) 0.025588 [mM]", 
        "T 3060.000000 [ms] Conc(1) 25.588410 [uM]", 
        "WARNING: skipping conc updatee", 
        "###########################################################################", 
        "t0  3060.0 tf  3070.0", 
        "ODE Init [mM] [ 0.00022239  0.02153826]", 
        "t0 3060.000000 tf 3070.000000 [ms]", 
        "ODE statesF: [mM] "
       ]
      }, 
      {
       "output_type": "stream", 
       "stream": "stdout", 
       "text": [
        " [ 0.00021094  0.02084078]", 
        "ODE statesF: [uM]  0.21094026391", 
        "ODE states Flux [mM/ms]:  [ -1.14458600e-06  -6.97479549e-05]", 
        "ODE states Flux [uM/ms]:  [-0.00114459 -0.06974795]", 
        "WARNING: jSR and dCa are lumped tother into jVold", 
        "WARNING: I probably need to constrain jvolExpr s.t. the assembled value is equal to the ODE value", 
        "jboundary [mM/ms] 1.74137461283e-05", 
        "jboundary [uM/ms] 0.0174137461283", 
        "jvol [mM/ms]  -1.85668888869e-05", 
        "jvol [uM/ms]  -18.5668888869", 
        "##", 
        "## WARNING: we are not updating CaTnC!!!", 
        "##", 
        "T 3070.000000 [ms] Conc(0) 0.000211 [mM]"
       ]
      }, 
      {
       "output_type": "stream", 
       "stream": "stdout", 
       "text": [
        "", 
        "T 3070.000000 [ms] Conc(0) 0.210783 [uM]", 
        "T 3070.000000 [ms] Conc(1) 0.025588 [mM]", 
        "T 3070.000000 [ms] Conc(1) 25.588410 [uM]", 
        "WARNING: skipping conc updatee", 
        "###########################################################################", 
        "t0  3070.0 tf  3080.0", 
        "ODE Init [mM] [ 0.00021094  0.02084078]", 
        "t0 3070.000000 tf 3080.000000 [ms]", 
        "ODE statesF: [mM] "
       ]
      }, 
      {
       "output_type": "stream", 
       "stream": "stdout", 
       "text": [
        " [ 0.0002009  0.0201552]", 
        "ODE statesF: [uM]  0.2009037488", 
        "ODE states Flux [mM/ms]:  [ -1.00365151e-06  -6.85589133e-05]", 
        "ODE states Flux [uM/ms]:  [-0.00100365 -0.06855891]", 
        "WARNING: jSR and dCa are lumped tother into jVold", 
        "WARNING: I probably need to constrain jvolExpr s.t. the assembled value is equal to the ODE value", 
        "jboundary [mM/ms] 1.37338802062e-05", 
        "jboundary [uM/ms] 0.0137338802062", 
        "jvol [mM/ms]  -1.47431193823e-05", 
        "jvol [uM/ms]  -14.7431193823", 
        "##", 
        "## WARNING: we are not updating CaTnC!!!", 
        "##", 
        "T 3080.000000 [ms] Conc(0) 0.000201 [mM]"
       ]
      }, 
      {
       "output_type": "stream", 
       "stream": "stdout", 
       "text": [
        "", 
        "T 3080.000000 [ms] Conc(0) 0.200690 [uM]", 
        "T 3080.000000 [ms] Conc(1) 0.025588 [mM]", 
        "T 3080.000000 [ms] Conc(1) 25.588410 [uM]", 
        "WARNING: skipping conc updatee", 
        "###########################################################################", 
        "t0  3080.0 tf  3090.0", 
        "ODE Init [mM] [ 0.0002009  0.0201552]", 
        "t0 3080.000000 tf 3090.000000 [ms]", 
        "ODE statesF: [mM] "
       ]
      }, 
      {
       "output_type": "stream", 
       "stream": "stdout", 
       "text": [
        " [ 0.00019185  0.01949111]", 
        "ODE statesF: [uM]  0.191848374584", 
        "ODE states Flux [mM/ms]:  [ -9.05537422e-07  -6.64084441e-05]", 
        "ODE states Flux [uM/ms]:  [-0.00090554 -0.06640844]", 
        "WARNING: jSR and dCa are lumped tother into jVold", 
        "WARNING: I probably need to constrain jvolExpr s.t. the assembled value is equal to the ODE value", 
        "jboundary [mM/ms] 1.16189545902e-05", 
        "jboundary [uM/ms] 0.0116189545902", 
        "jvol [mM/ms]  -1.25289476875e-05", 
        "jvol [uM/ms]  -12.5289476875", 
        "##", 
        "## WARNING: we are not updating CaTnC!!!", 
        "##", 
        "T 3090.000000 [ms] Conc(0) 0.000192 [mM]"
       ]
      }, 
      {
       "output_type": "stream", 
       "stream": "stdout", 
       "text": [
        "", 
        "T 3090.000000 [ms] Conc(0) 0.191591 [uM]", 
        "T 3090.000000 [ms] Conc(1) 0.025588 [mM]", 
        "T 3090.000000 [ms] Conc(1) 25.588410 [uM]", 
        "WARNING: skipping conc updatee", 
        "###########################################################################", 
        "t0  3090.0 tf  3100.0", 
        "ODE Init [mM] [ 0.00019185  0.01949111]", 
        "t0 3090.000000 tf 3100.000000 [ms]", 
        "ODE statesF: [mM] "
       ]
      }, 
      {
       "output_type": "stream", 
       "stream": "stdout", 
       "text": [
        " [ 0.00018362  0.01885304]", 
        "ODE statesF: [uM]  0.183620529244", 
        "ODE states Flux [mM/ms]:  [ -8.22784534e-07  -6.38066529e-05]", 
        "ODE states Flux [uM/ms]:  [-0.00082278 -0.06380665]", 
        "WARNING: jSR and dCa are lumped tother into jVold", 
        "WARNING: I probably need to constrain jvolExpr s.t. the assembled value is equal to the ODE value", 
        "jboundary [mM/ms] 1.0156280239e-05", 
        "jboundary [uM/ms] 0.010156280239", 
        "jvol [mM/ms]  -1.09829376259e-05", 
        "jvol [uM/ms]  -10.9829376259", 
        "##", 
        "## WARNING: we are not updating CaTnC!!!", 
        "##", 
        "T 3100.000000 [ms] Conc(0) 0.000183 [mM]"
       ]
      }, 
      {
       "output_type": "stream", 
       "stream": "stdout", 
       "text": [
        "", 
        "T 3100.000000 [ms] Conc(0) 0.183324 [uM]", 
        "T 3100.000000 [ms] Conc(1) 0.025588 [mM]", 
        "T 3100.000000 [ms] Conc(1) 25.588410 [uM]", 
        "WARNING: skipping conc updatee", 
        "###########################################################################", 
        "t0  3100.0 tf  3110.0", 
        "ODE Init [mM] [ 0.00018362  0.01885304]", 
        "t0 3100.000000 tf 3110.000000 [ms]", 
        "ODE statesF: [mM] "
       ]
      }, 
      {
       "output_type": "stream", 
       "stream": "stdout", 
       "text": [
        " [ 0.00018155  0.01826635]", 
        "ODE statesF: [uM]  0.181554777343", 
        "ODE states Flux [mM/ms]:  [ -2.06575190e-07  -5.86692933e-05]", 
        "ODE states Flux [uM/ms]:  [-0.00020658 -0.05866929]", 
        "WARNING: jSR and dCa are lumped tother into jVold", 
        "WARNING: I probably need to constrain jvolExpr s.t. the assembled value is equal to the ODE value", 
        "jboundary [mM/ms] 1.42671318075e-05", 
        "jboundary [uM/ms] 0.0142671318075", 
        "jvol [mM/ms]  -1.45648137694e-05", 
        "jvol [uM/ms]  -14.5648137694", 
        "##", 
        "## WARNING: we are not updating CaTnC!!!", 
        "##", 
        "T 3110.000000 [ms] Conc(0) 0.000180 [mM]"
       ]
      }, 
      {
       "output_type": "stream", 
       "stream": "stdout", 
       "text": [
        "", 
        "T 3110.000000 [ms] Conc(0) 0.180347 [uM]", 
        "T 3110.000000 [ms] Conc(1) 0.025588 [mM]", 
        "T 3110.000000 [ms] Conc(1) 25.588410 [uM]", 
        "WARNING: skipping conc updatee", 
        "###########################################################################", 
        "t0  3110.0 tf  3120.0", 
        "ODE Init [mM] [ 0.00018155  0.01826635]", 
        "t0 3110.000000 tf 3120.000000 [ms]", 
        "ODE statesF: [mM] "
       ]
      }, 
      {
       "output_type": "stream", 
       "stream": "stdout", 
       "text": [
        " [ 0.00018833  0.01786189]", 
        "ODE statesF: [uM]  0.188334568271", 
        "ODE states Flux [mM/ms]:  [  6.77979093e-07  -4.04463909e-05]", 
        "ODE states Flux [uM/ms]:  [ 0.00067798 -0.04044639]", 
        "WARNING: jSR and dCa are lumped tother into jVold", 
        "WARNING: I probably need to constrain jvolExpr s.t. the assembled value is equal to the ODE value", 
        "jboundary [mM/ms] 4.8089834838e-05", 
        "jboundary [uM/ms] 0.048089834838", 
        "jvol [mM/ms]  -4.74465519364e-05", 
        "jvol [uM/ms]  -47.4465519364", 
        "##", 
        "## WARNING: we are not updating CaTnC!!!", 
        "##", 
        "T 3120.000000 [ms] Conc(0) 0.000187 [mM]"
       ]
      }, 
      {
       "output_type": "stream", 
       "stream": "stdout", 
       "text": [
        "", 
        "T 3120.000000 [ms] Conc(0) 0.186780 [uM]", 
        "T 3120.000000 [ms] Conc(1) 0.025588 [mM]", 
        "T 3120.000000 [ms] Conc(1) 25.588410 [uM]", 
        "WARNING: skipping conc updatee", 
        "###########################################################################", 
        "t0  3120.0 tf  3130.0", 
        "ODE Init [mM] [ 0.00018833  0.01786189]", 
        "t0 3120.000000 tf 3130.000000 [ms]", 
        "ODE statesF: [mM] "
       ]
      }, 
      {
       "output_type": "stream", 
       "stream": "stdout", 
       "text": [
        " [ 0.00021324  0.01775529]", 
        "ODE statesF: [uM]  0.213238235793", 
        "ODE states Flux [mM/ms]:  [  2.49036675e-06  -1.06594956e-05]", 
        "ODE states Flux [uM/ms]:  [ 0.00249037 -0.0106595 ]", 
        "WARNING: jSR and dCa are lumped tother into jVold", 
        "WARNING: I probably need to constrain jvolExpr s.t. the assembled value is equal to the ODE value", 
        "jboundary [mM/ms] 0.000105405573415", 
        "jboundary [uM/ms] 0.105405573415", 
        "jvol [mM/ms]  -0.000103105137339", 
        "jvol [uM/ms]  -103.105137339", 
        "##", 
        "## WARNING: we are not updating CaTnC!!!", 
        "##", 
        "T 3130.000000 [ms] Conc(0) 0.000210 [mM]"
       ]
      }, 
      {
       "output_type": "stream", 
       "stream": "stdout", 
       "text": [
        "", 
        "T 3130.000000 [ms] Conc(0) 0.209784 [uM]", 
        "T 3130.000000 [ms] Conc(1) 0.025588 [mM]", 
        "T 3130.000000 [ms] Conc(1) 25.588410 [uM]", 
        "WARNING: skipping conc updatee", 
        "###########################################################################", 
        "t0  3130.0 tf  3140.0", 
        "ODE Init [mM] [ 0.00021324  0.01775529]", 
        "t0 3130.000000 tf 3140.000000 [ms]", 
        "ODE statesF: [mM] "
       ]
      }, 
      {
       "output_type": "stream", 
       "stream": "stdout", 
       "text": [
        " [ 0.00032798  0.0186246 ]", 
        "ODE statesF: [uM]  0.327975719646", 
        "ODE states Flux [mM/ms]:  [  1.14737484e-05   8.69311036e-05]", 
        "ODE states Flux [uM/ms]:  [ 0.01147375  0.0869311 ]", 
        "WARNING: jSR and dCa are lumped tother into jVold", 
        "WARNING: I probably need to constrain jvolExpr s.t. the assembled value is equal to the ODE value", 
        "jboundary [mM/ms] 0.00031075384933", 
        "jboundary [uM/ms] 0.31075384933", 
        "jvol [mM/ms]  -0.000299868094138", 
        "jvol [uM/ms]  -299.868094138", 
        "##", 
        "## WARNING: we are not updating CaTnC!!!", 
        "##", 
        "T 3140.000000 [ms] Conc(0) 0.000319 [mM]"
       ]
      }, 
      {
       "output_type": "stream", 
       "stream": "stdout", 
       "text": [
        "", 
        "T 3140.000000 [ms] Conc(0) 0.318642 [uM]", 
        "T 3140.000000 [ms] Conc(1) 0.025588 [mM]", 
        "T 3140.000000 [ms] Conc(1) 25.588410 [uM]", 
        "WARNING: skipping conc updatee", 
        "###########################################################################", 
        "t0  3140.0 tf  3150.0", 
        "ODE Init [mM] [ 0.00032798  0.0186246 ]", 
        "t0 3140.000000 tf 3150.000000 [ms]", 
        "ODE statesF: [mM] "
       ]
      }, 
      {
       "output_type": "stream", 
       "stream": "stdout", 
       "text": [
        " [ 0.00045216  0.02126698]", 
        "ODE statesF: [uM]  0.452160834917", 
        "ODE states Flux [mM/ms]:  [  1.24185115e-05   2.64238004e-04]", 
        "ODE states Flux [uM/ms]:  [ 0.01241851  0.264238  ]", 
        "WARNING: jSR and dCa are lumped tother into jVold", 
        "WARNING: I probably need to constrain jvolExpr s.t. the assembled value is equal to the ODE value", 
        "jboundary [mM/ms] 0.000648251159276", 
        "jboundary [uM/ms] 0.648251159276", 
        "jvol [mM/ms]  -0.000635360625175", 
        "jvol [uM/ms]  -635.360625175", 
        "##", 
        "## WARNING: we are not updating CaTnC!!!", 
        "##", 
        "T 3150.000000 [ms] Conc(0) 0.000448 [mM]"
       ]
      }, 
      {
       "output_type": "stream", 
       "stream": "stdout", 
       "text": [
        "", 
        "T 3150.000000 [ms] Conc(0) 0.447547 [uM]", 
        "T 3150.000000 [ms] Conc(1) 0.025588 [mM]", 
        "T 3150.000000 [ms] Conc(1) 25.588410 [uM]", 
        "WARNING: skipping conc updatee", 
        "###########################################################################", 
        "t0  3150.0 tf  3160.0", 
        "ODE Init [mM] [ 0.00045216  0.02126698]", 
        "t0 3150.000000 tf 3160.000000 [ms]", 
        "ODE statesF: [mM] "
       ]
      }, 
      {
       "output_type": "stream", 
       "stream": "stdout", 
       "text": [
        " [ 0.00049031  0.0241548 ]", 
        "ODE statesF: [uM]  0.490312888468", 
        "ODE states Flux [mM/ms]:  [  3.81520536e-06   2.88781472e-04]", 
        "ODE states Flux [uM/ms]:  [ 0.00381521  0.28878147]", 
        "WARNING: jSR and dCa are lumped tother into jVold", 
        "WARNING: I probably need to constrain jvolExpr s.t. the assembled value is equal to the ODE value", 
        "jboundary [mM/ms] 0.00063019168032", 
        "jboundary [uM/ms] 0.63019168032", 
        "jvol [mM/ms]  -0.000626100699377", 
        "jvol [uM/ms]  -626.100699377", 
        "##", 
        "## WARNING: we are not updating CaTnC!!!", 
        "##", 
        "T 3160.000000 [ms] Conc(0) 0.000488 [mM]"
       ]
      }, 
      {
       "output_type": "stream", 
       "stream": "stdout", 
       "text": [
        "", 
        "T 3160.000000 [ms] Conc(0) 0.488457 [uM]", 
        "T 3160.000000 [ms] Conc(1) 0.025588 [mM]", 
        "T 3160.000000 [ms] Conc(1) 25.588410 [uM]", 
        "WARNING: skipping conc updatee", 
        "###########################################################################", 
        "t0  3160.0 tf  3170.0", 
        "ODE Init [mM] [ 0.00049031  0.0241548 ]", 
        "t0 3160.000000 tf 3170.000000 [ms]", 
        "ODE statesF: [mM] "
       ]
      }, 
      {
       "output_type": "stream", 
       "stream": "stdout", 
       "text": [
        " [ 0.00049673  0.0264141 ]", 
        "ODE statesF: [uM]  0.496725071254", 
        "ODE states Flux [mM/ms]:  [  6.41218279e-07   2.25930147e-04]", 
        "ODE states Flux [uM/ms]:  [ 0.00064122  0.22593015]", 
        "WARNING: jSR and dCa are lumped tother into jVold", 
        "WARNING: I probably need to constrain jvolExpr s.t. the assembled value is equal to the ODE value", 
        "jboundary [mM/ms] 0.000491002833469", 
        "jboundary [uM/ms] 0.491002833469", 
        "jvol [mM/ms]  -0.000490273650679", 
        "jvol [uM/ms]  -490.273650679", 
        "##", 
        "## WARNING: we are not updating CaTnC!!!", 
        "##", 
        "T 3170.000000 [ms] Conc(0) 0.000496 [mM]"
       ]
      }, 
      {
       "output_type": "stream", 
       "stream": "stdout", 
       "text": [
        "", 
        "T 3170.000000 [ms] Conc(0) 0.495749 [uM]", 
        "T 3170.000000 [ms] Conc(1) 0.025588 [mM]", 
        "T 3170.000000 [ms] Conc(1) 25.588410 [uM]", 
        "WARNING: skipping conc updatee", 
        "###########################################################################", 
        "t0  3170.0 tf  3180.0", 
        "ODE Init [mM] [ 0.00049673  0.0264141 ]", 
        "t0 3170.000000 tf 3180.000000 [ms]", 
        "ODE statesF: [mM] "
       ]
      }, 
      {
       "output_type": "stream", 
       "stream": "stdout", 
       "text": [
        " [ 0.00049164  0.02798885]", 
        "ODE statesF: [uM]  0.491638149067", 
        "ODE states Flux [mM/ms]:  [ -5.08692219e-07   1.57475025e-04]", 
        "ODE states Flux [uM/ms]:  [-0.00050869  0.15747503]", 
        "WARNING: jSR and dCa are lumped tother into jVold", 
        "WARNING: I probably need to constrain jvolExpr s.t. the assembled value is equal to the ODE value", 
        "jboundary [mM/ms] 0.000378106054257", 
        "jboundary [uM/ms] 0.378106054257", 
        "jvol [mM/ms]  -0.000378576092616", 
        "jvol [uM/ms]  -378.576092616", 
        "##", 
        "## WARNING: we are not updating CaTnC!!!", 
        "##", 
        "T 3180.000000 [ms] Conc(0) 0.000491 [mM]"
       ]
      }, 
      {
       "output_type": "stream", 
       "stream": "stdout", 
       "text": [
        "", 
        "T 3180.000000 [ms] Conc(0) 0.491049 [uM]", 
        "T 3180.000000 [ms] Conc(1) 0.025588 [mM]", 
        "T 3180.000000 [ms] Conc(1) 25.588410 [uM]", 
        "WARNING: skipping conc updatee", 
        "###########################################################################", 
        "t0  3180.0 tf  3190.0", 
        "ODE Init [mM] [ 0.00049164  0.02798885]", 
        "t0 3180.000000 tf 3190.000000 [ms]", 
        "ODE statesF: [mM] "
       ]
      }, 
      {
       "output_type": "stream", 
       "stream": "stdout", 
       "text": [
        " [ 0.00048079  0.02899426]", 
        "ODE statesF: [uM]  0.480785505927", 
        "ODE states Flux [mM/ms]:  [ -1.08526431e-06   1.00541177e-04]", 
        "ODE states Flux [uM/ms]:  [-0.00108526  0.10054118]", 
        "WARNING: jSR and dCa are lumped tother into jVold", 
        "WARNING: I probably need to constrain jvolExpr s.t. the assembled value is equal to the ODE value", 
        "jboundary [mM/ms] 0.000296683360305", 
        "jboundary [uM/ms] 0.296683360305", 
        "jvol [mM/ms]  -0.000297746704353", 
        "jvol [uM/ms]  -297.746704353", 
        "##", 
        "## WARNING: we are not updating CaTnC!!!", 
        "##", 
        "T 3190.000000 [ms] Conc(0) 0.000480 [mM]"
       ]
      }, 
      {
       "output_type": "stream", 
       "stream": "stdout", 
       "text": [
        "", 
        "T 3190.000000 [ms] Conc(0) 0.480415 [uM]", 
        "T 3190.000000 [ms] Conc(1) 0.025588 [mM]", 
        "T 3190.000000 [ms] Conc(1) 25.588410 [uM]", 
        "WARNING: skipping conc updatee", 
        "###########################################################################", 
        "t0  3190.0 tf  3200.0", 
        "ODE Init [mM] [ 0.00048079  0.02899426]", 
        "t0 3190.000000 tf 3200.000000 [ms]", 
        "ODE statesF: [mM] "
       ]
      }, 
      {
       "output_type": "stream", 
       "stream": "stdout", 
       "text": [
        " [ 0.00046649  0.02955569]", 
        "ODE statesF: [uM]  0.46648744385", 
        "ODE states Flux [mM/ms]:  [ -1.42980621e-06   5.61430060e-05]", 
        "ODE states Flux [uM/ms]:  [-0.00142981  0.05614301]", 
        "WARNING: jSR and dCa are lumped tother into jVold", 
        "WARNING: I probably need to constrain jvolExpr s.t. the assembled value is equal to the ODE value", 
        "jboundary [mM/ms] 0.000237447704819", 
        "jboundary [uM/ms] 0.237447704819", 
        "jvol [mM/ms]  -0.000238863981653", 
        "jvol [uM/ms]  -238.863981653", 
        "##", 
        "## WARNING: we are not updating CaTnC!!!", 
        "##", 
        "T 3200.000000 [ms] Conc(0) 0.000466 [mM]"
       ]
      }, 
      {
       "output_type": "stream", 
       "stream": "stdout", 
       "text": [
        "", 
        "T 3200.000000 [ms] Conc(0) 0.466252 [uM]", 
        "T 3200.000000 [ms] Conc(1) 0.025588 [mM]", 
        "T 3200.000000 [ms] Conc(1) 25.588410 [uM]", 
        "WARNING: skipping conc updatee", 
        "###########################################################################", 
        "t0  3200.0 tf  3210.0", 
        "ODE Init [mM] [ 0.00046649  0.02955569]", 
        "t0 3200.000000 tf 3210.000000 [ms]", 
        "ODE statesF: [mM] "
       ]
      }, 
      {
       "output_type": "stream", 
       "stream": "stdout", 
       "text": [
        " [ 0.00045008  0.02977857]", 
        "ODE statesF: [uM]  0.450081207669", 
        "ODE states Flux [mM/ms]:  [ -1.64062362e-06   2.22881992e-05]", 
        "ODE states Flux [uM/ms]:  [-0.00164062  0.0222882 ]", 
        "WARNING: jSR and dCa are lumped tother into jVold", 
        "WARNING: I probably need to constrain jvolExpr s.t. the assembled value is equal to the ODE value", 
        "jboundary [mM/ms] 0.000193557397612", 
        "jboundary [uM/ms] 0.193557397612", 
        "jvol [mM/ms]  -0.000195189971472", 
        "jvol [uM/ms]  -195.189971472", 
        "##", 
        "## WARNING: we are not updating CaTnC!!!", 
        "##", 
        "T 3210.000000 [ms] Conc(0) 0.000450 [mM]"
       ]
      }, 
      {
       "output_type": "stream", 
       "stream": "stdout", 
       "text": [
        "", 
        "T 3210.000000 [ms] Conc(0) 0.449927 [uM]", 
        "T 3210.000000 [ms] Conc(1) 0.025588 [mM]", 
        "T 3210.000000 [ms] Conc(1) 25.588410 [uM]", 
        "WARNING: skipping conc updatee", 
        "###########################################################################", 
        "t0  3210.0 tf  3220.0", 
        "ODE Init [mM] [ 0.00045008  0.02977857]", 
        "t0 3210.000000 tf 3220.000000 [ms]", 
        "ODE statesF: [mM] "
       ]
      }, 
      {
       "output_type": "stream", 
       "stream": "stdout", 
       "text": [
        " [ 0.0004325   0.02974612]", 
        "ODE statesF: [uM]  0.432495571996", 
        "ODE states Flux [mM/ms]:  [ -1.75856357e-06  -3.24536085e-06]", 
        "ODE states Flux [uM/ms]:  [-0.00175856 -0.00324536]", 
        "WARNING: jSR and dCa are lumped tother into jVold", 
        "WARNING: I probably need to constrain jvolExpr s.t. the assembled value is equal to the ODE value", 
        "jboundary [mM/ms] 0.000160593458159", 
        "jboundary [uM/ms] 0.160593458159", 
        "jvol [mM/ms]  -0.000162347945827", 
        "jvol [uM/ms]  -162.347945827", 
        "##", 
        "## WARNING: we are not updating CaTnC!!!", 
        "##", 
        "T 3220.000000 [ms] Conc(0) 0.000432 [mM]"
       ]
      }, 
      {
       "output_type": "stream", 
       "stream": "stdout", 
       "text": [
        "", 
        "T 3220.000000 [ms] Conc(0) 0.432382 [uM]", 
        "T 3220.000000 [ms] Conc(1) 0.025588 [mM]", 
        "T 3220.000000 [ms] Conc(1) 25.588410 [uM]", 
        "WARNING: skipping conc updatee", 
        "###########################################################################", 
        "t0  3220.0 tf  3230.0", 
        "ODE Init [mM] [ 0.0004325   0.02974612]", 
        "t0 3220.000000 tf 3230.000000 [ms]", 
        "ODE statesF: [mM] "
       ]
      }, 
      {
       "output_type": "stream", 
       "stream": "stdout", 
       "text": [
        " [ 0.00041441  0.02952274]", 
        "ODE statesF: [uM]  0.414412007597", 
        "ODE states Flux [mM/ms]:  [ -1.80835644e-06  -2.23384270e-05]", 
        "ODE states Flux [uM/ms]:  [-0.00180836 -0.02233843]", 
        "WARNING: jSR and dCa are lumped tother into jVold", 
        "WARNING: I probably need to constrain jvolExpr s.t. the assembled value is equal to the ODE value", 
        "jboundary [mM/ms] 0.000135596911667", 
        "jboundary [uM/ms] 0.135596911667", 
        "jvol [mM/ms]  -0.000137404114707", 
        "jvol [uM/ms]  -137.404114707", 
        "##", 
        "## WARNING: we are not updating CaTnC!!!", 
        "##", 
        "T 3230.000000 [ms] Conc(0) 0.000414 [mM]"
       ]
      }, 
      {
       "output_type": "stream", 
       "stream": "stdout", 
       "text": [
        "", 
        "T 3230.000000 [ms] Conc(0) 0.414310 [uM]", 
        "T 3230.000000 [ms] Conc(1) 0.025588 [mM]", 
        "T 3230.000000 [ms] Conc(1) 25.588410 [uM]", 
        "WARNING: skipping conc updatee", 
        "###########################################################################", 
        "t0  3230.0 tf  3240.0", 
        "ODE Init [mM] [ 0.00041441  0.02952274]", 
        "t0 3230.000000 tf 3240.000000 [ms]", 
        "ODE statesF: [mM] "
       ]
      }, 
      {
       "output_type": "stream", 
       "stream": "stdout", 
       "text": [
        " [ 0.00039633  0.029158  ]", 
        "ODE statesF: [uM]  0.396326134453", 
        "ODE states Flux [mM/ms]:  [ -1.80858731e-06  -3.64739780e-05]", 
        "ODE states Flux [uM/ms]:  [-0.00180859 -0.03647398]", 
        "WARNING: jSR and dCa are lumped tother into jVold", 
        "WARNING: I probably need to constrain jvolExpr s.t. the assembled value is equal to the ODE value", 
        "jboundary [mM/ms] 0.000116487310602", 
        "jboundary [uM/ms] 0.116487310602", 
        "jvol [mM/ms]  -0.000118296836232", 
        "jvol [uM/ms]  -118.296836232", 
        "##", 
        "## WARNING: we are not updating CaTnC!!!", 
        "##", 
        "T 3240.000000 [ms] Conc(0) 0.000396 [mM]"
       ]
      }, 
      {
       "output_type": "stream", 
       "stream": "stdout", 
       "text": [
        "", 
        "T 3240.000000 [ms] Conc(0) 0.396214 [uM]", 
        "T 3240.000000 [ms] Conc(1) 0.025588 [mM]", 
        "T 3240.000000 [ms] Conc(1) 25.588410 [uM]", 
        "WARNING: skipping conc updatee", 
        "###########################################################################", 
        "t0  3240.0 tf  3250.0", 
        "ODE Init [mM] [ 0.00039633  0.029158  ]", 
        "t0 3240.000000 tf 3250.000000 [ms]", 
        "ODE statesF: [mM] "
       ]
      }, 
      {
       "output_type": "stream", 
       "stream": "stdout", 
       "text": [
        " [ 0.00037859  0.02869003]", 
        "ODE statesF: [uM]  0.378585033158", 
        "ODE states Flux [mM/ms]:  [ -1.77411013e-06  -4.67967428e-05]", 
        "ODE states Flux [uM/ms]:  [-0.00177411 -0.04679674]", 
        "WARNING: jSR and dCa are lumped tother into jVold", 
        "WARNING: I probably need to constrain jvolExpr s.t. the assembled value is equal to the ODE value", 
        "jboundary [mM/ms] 0.00010174968579", 
        "jboundary [uM/ms] 0.10174968579", 
        "jvol [mM/ms]  -0.00010352615983", 
        "jvol [uM/ms]  -103.52615983", 
        "##", 
        "## WARNING: we are not updating CaTnC!!!", 
        "##", 
        "T 3250.000000 [ms] Conc(0) 0.000378 [mM]"
       ]
      }, 
      {
       "output_type": "stream", 
       "stream": "stdout", 
       "text": [
        "", 
        "T 3250.000000 [ms] Conc(0) 0.378450 [uM]", 
        "T 3250.000000 [ms] Conc(1) 0.025588 [mM]", 
        "T 3250.000000 [ms] Conc(1) 25.588410 [uM]", 
        "WARNING: skipping conc updatee", 
        "###########################################################################", 
        "t0  3250.0 tf  3260.0", 
        "ODE Init [mM] [ 0.00037859  0.02869003]", 
        "t0 3250.000000 tf 3260.000000 [ms]", 
        "ODE statesF: [mM] "
       ]
      }, 
      {
       "output_type": "stream", 
       "stream": "stdout", 
       "text": [
        " [ 0.00036142  0.02814815]", 
        "ODE statesF: [uM]  0.361417492773", 
        "ODE states Flux [mM/ms]:  [ -1.71675404e-06  -5.41874098e-05]", 
        "ODE states Flux [uM/ms]:  [-0.00171675 -0.05418741]", 
        "WARNING: jSR and dCa are lumped tother into jVold", 
        "WARNING: I probably need to constrain jvolExpr s.t. the assembled value is equal to the ODE value", 
        "jboundary [mM/ms] 9.02566238147e-05", 
        "jboundary [uM/ms] 0.0902566238147", 
        "jvol [mM/ms]  -9.19766423475e-05", 
        "jvol [uM/ms]  -91.9766423475", 
        "##", 
        "## WARNING: we are not updating CaTnC!!!", 
        "##", 
        "T 3260.000000 [ms] Conc(0) 0.000361 [mM]"
       ]
      }, 
      {
       "output_type": "stream", 
       "stream": "stdout", 
       "text": [
        "", 
        "T 3260.000000 [ms] Conc(0) 0.361249 [uM]", 
        "T 3260.000000 [ms] Conc(1) 0.025588 [mM]", 
        "T 3260.000000 [ms] Conc(1) 25.588410 [uM]", 
        "WARNING: skipping conc updatee", 
        "###########################################################################", 
        "t0  3260.0 tf  3270.0", 
        "ODE Init [mM] [ 0.00036142  0.02814815]", 
        "t0 3260.000000 tf 3270.000000 [ms]", 
        "ODE statesF: [mM] "
       ]
      }, 
      {
       "output_type": "stream", 
       "stream": "stdout", 
       "text": [
        " [ 0.00034496  0.02755488]", 
        "ODE statesF: [uM]  0.344959384949", 
        "ODE states Flux [mM/ms]:  [ -1.64581078e-06  -5.93277937e-05]", 
        "ODE states Flux [uM/ms]:  [-0.00164581 -0.05932779]", 
        "WARNING: jSR and dCa are lumped tother into jVold", 
        "WARNING: I probably need to constrain jvolExpr s.t. the assembled value is equal to the ODE value", 
        "jboundary [mM/ms] 8.11562472068e-05", 
        "jboundary [uM/ms] 0.0811562472068", 
        "jvol [mM/ms]  -8.28058112668e-05", 
        "jvol [uM/ms]  -82.8058112668", 
        "##", 
        "## WARNING: we are not updating CaTnC!!!", 
        "##", 
        "T 3270.000000 [ms] Conc(0) 0.000345 [mM]"
       ]
      }, 
      {
       "output_type": "stream", 
       "stream": "stdout", 
       "text": [
        "", 
        "T 3270.000000 [ms] Conc(0) 0.344754 [uM]", 
        "T 3270.000000 [ms] Conc(1) 0.025588 [mM]", 
        "T 3270.000000 [ms] Conc(1) 25.588410 [uM]", 
        "WARNING: skipping conc updatee", 
        "###########################################################################", 
        "t0  3270.0 tf  3280.0", 
        "ODE Init [mM] [ 0.00034496  0.02755488]", 
        "t0 3270.000000 tf 3280.000000 [ms]", 
        "ODE statesF: [mM] "
       ]
      }, 
      {
       "output_type": "stream", 
       "stream": "stdout", 
       "text": [
        " [ 0.00032927  0.02692736]", 
        "ODE statesF: [uM]  0.329273598226", 
        "ODE states Flux [mM/ms]:  [ -1.56857867e-06  -6.27517365e-05]", 
        "ODE states Flux [uM/ms]:  [-0.00156858 -0.06275174]", 
        "WARNING: jSR and dCa are lumped tother into jVold", 
        "WARNING: I probably need to constrain jvolExpr s.t. the assembled value is equal to the ODE value", 
        "jboundary [mM/ms] 7.3793482907e-05", 
        "jboundary [uM/ms] 0.073793482907", 
        "jvol [mM/ms]  -7.53659771389e-05", 
        "jvol [uM/ms]  -75.3659771389", 
        "##", 
        "## WARNING: we are not updating CaTnC!!!", 
        "##", 
        "T 3280.000000 [ms] Conc(0) 0.000329 [mM]"
       ]
      }, 
      {
       "output_type": "stream", 
       "stream": "stdout", 
       "text": [
        "", 
        "T 3280.000000 [ms] Conc(0) 0.329029 [uM]", 
        "T 3280.000000 [ms] Conc(1) 0.025588 [mM]", 
        "T 3280.000000 [ms] Conc(1) 25.588410 [uM]", 
        "WARNING: skipping conc updatee", 
        "###########################################################################", 
        "t0  3280.0 tf  3290.0", 
        "ODE Init [mM] [ 0.00032927  0.02692736]", 
        "t0 3280.000000 tf 3290.000000 [ms]", 
        "ODE statesF: [mM] "
       ]
      }, 
      {
       "output_type": "stream", 
       "stream": "stdout", 
       "text": [
        " [ 0.00031436  0.0262785 ]", 
        "ODE statesF: [uM]  0.314363516037", 
        "ODE states Flux [mM/ms]:  [ -1.49100822e-06  -6.48863507e-05]", 
        "ODE states Flux [uM/ms]:  [-0.00149101 -0.06488635]", 
        "WARNING: jSR and dCa are lumped tother into jVold", 
        "WARNING: I probably need to constrain jvolExpr s.t. the assembled value is equal to the ODE value", 
        "jboundary [mM/ms] 6.764869216e-05", 
        "jboundary [uM/ms] 0.06764869216", 
        "jvol [mM/ms]  -6.91435018653e-05", 
        "jvol [uM/ms]  -69.1435018653", 
        "##", 
        "## WARNING: we are not updating CaTnC!!!", 
        "##", 
        "T 3290.000000 [ms] Conc(0) 0.000314 [mM]"
       ]
      }, 
      {
       "output_type": "stream", 
       "stream": "stdout", 
       "text": [
        "", 
        "T 3290.000000 [ms] Conc(0) 0.314081 [uM]", 
        "T 3290.000000 [ms] Conc(1) 0.025588 [mM]", 
        "T 3290.000000 [ms] Conc(1) 25.588410 [uM]", 
        "WARNING: skipping conc updatee", 
        "###########################################################################", 
        "t0  3290.0 tf  3300.0", 
        "ODE Init [mM] [ 0.00031436  0.0262785 ]", 
        "t0 3290.000000 tf 3300.000000 [ms]", 
        "ODE statesF: [mM] "
       ]
      }, 
      {
       "output_type": "stream", 
       "stream": "stdout", 
       "text": [
        " [ 0.00030018  0.02561763]", 
        "ODE statesF: [uM]  0.300178863665", 
        "ODE states Flux [mM/ms]:  [ -1.41846524e-06  -6.60865538e-05]", 
        "ODE states Flux [uM/ms]:  [-0.00141847 -0.06608655]", 
        "WARNING: jSR and dCa are lumped tother into jVold", 
        "WARNING: I probably need to constrain jvolExpr s.t. the assembled value is equal to the ODE value", 
        "jboundary [mM/ms] 6.22837096446e-05", 
        "jboundary [uM/ms] 0.0622837096446", 
        "jvol [mM/ms]  -6.37055938049e-05", 
        "jvol [uM/ms]  -63.7055938049", 
        "##", 
        "## WARNING: we are not updating CaTnC!!!", 
        "##", 
        "T 3300.000000 [ms] Conc(0) 0.000300 [mM]"
       ]
      }, 
      {
       "output_type": "stream", 
       "stream": "stdout", 
       "text": [
        "", 
        "T 3300.000000 [ms] Conc(0) 0.299862 [uM]", 
        "T 3300.000000 [ms] Conc(1) 0.025588 [mM]", 
        "T 3300.000000 [ms] Conc(1) 25.588410 [uM]", 
        "WARNING: skipping conc updatee", 
        "###########################################################################", 
        "t0  3300.0 tf  3310.0", 
        "ODE Init [mM] [ 0.00030018  0.02561763]", 
        "t0 3300.000000 tf 3310.000000 [ms]", 
        "ODE statesF: [mM] "
       ]
      }, 
      {
       "output_type": "stream", 
       "stream": "stdout", 
       "text": [
        " [ 0.00028661  0.02495095]", 
        "ODE statesF: [uM]  0.286611850048", 
        "ODE states Flux [mM/ms]:  [ -1.35670136e-06  -6.66680559e-05]", 
        "ODE states Flux [uM/ms]:  [-0.0013567  -0.06666806]", 
        "WARNING: jSR and dCa are lumped tother into jVold", 
        "WARNING: I probably need to constrain jvolExpr s.t. the assembled value is equal to the ODE value", 
        "jboundary [mM/ms] 5.72859095206e-05", 
        "jboundary [uM/ms] 0.0572859095206", 
        "jvol [mM/ms]  -5.86453324186e-05", 
        "jvol [uM/ms]  -58.6453324186", 
        "##", 
        "## WARNING: we are not updating CaTnC!!!", 
        "##", 
        "T 3310.000000 [ms] Conc(0) 0.000286 [mM]"
       ]
      }, 
      {
       "output_type": "stream", 
       "stream": "stdout", 
       "text": [
        "", 
        "T 3310.000000 [ms] Conc(0) 0.286268 [uM]", 
        "T 3310.000000 [ms] Conc(1) 0.025588 [mM]", 
        "T 3310.000000 [ms] Conc(1) 25.588410 [uM]", 
        "WARNING: skipping conc updatee", 
        "###########################################################################", 
        "t0  3310.0 tf  3320.0", 
        "ODE Init [mM] [ 0.00028661  0.02495095]", 
        "t0 3310.000000 tf 3320.000000 [ms]", 
        "ODE statesF: [mM] "
       ]
      }, 
      {
       "output_type": "stream", 
       "stream": "stdout", 
       "text": [
        " [ 0.00027348  0.02428152]", 
        "ODE statesF: [uM]  0.273483360691", 
        "ODE states Flux [mM/ms]:  [ -1.31284894e-06  -6.69431311e-05]", 
        "ODE states Flux [uM/ms]:  [-0.00131285 -0.06694313]", 
        "WARNING: jSR and dCa are lumped tother into jVold", 
        "WARNING: I probably need to constrain jvolExpr s.t. the assembled value is equal to the ODE value", 
        "jboundary [mM/ms] 5.22019643031e-05", 
        "jboundary [uM/ms] 0.0522019643031", 
        "jvol [mM/ms]  -5.35164465939e-05", 
        "jvol [uM/ms]  -53.5164465939", 
        "##", 
        "## WARNING: we are not updating CaTnC!!!", 
        "##", 
        "T 3320.000000 [ms] Conc(0) 0.000273 [mM]"
       ]
      }, 
      {
       "output_type": "stream", 
       "stream": "stdout", 
       "text": [
        "", 
        "T 3320.000000 [ms] Conc(0) 0.273123 [uM]", 
        "T 3320.000000 [ms] Conc(1) 0.025588 [mM]", 
        "T 3320.000000 [ms] Conc(1) 25.588410 [uM]", 
        "WARNING: skipping conc updatee", 
        "###########################################################################", 
        "t0  3320.0 tf  3330.0", 
        "ODE Init [mM] [ 0.00027348  0.02428152]", 
        "t0 3320.000000 tf 3330.000000 [ms]", 
        "ODE statesF: [mM] "
       ]
      }, 
      {
       "output_type": "stream", 
       "stream": "stdout", 
       "text": [
        " [ 0.00026055  0.02360905]", 
        "ODE statesF: [uM]  0.260548860446", 
        "ODE states Flux [mM/ms]:  [ -1.29345002e-06  -6.72469720e-05]", 
        "ODE states Flux [uM/ms]:  [-0.00129345 -0.06724697]", 
        "WARNING: jSR and dCa are lumped tother into jVold", 
        "WARNING: I probably need to constrain jvolExpr s.t. the assembled value is equal to the ODE value", 
        "jboundary [mM/ms] 4.64898333501e-05", 
        "jboundary [uM/ms] 0.0464898333501", 
        "jvol [mM/ms]  -4.77836840628e-05", 
        "jvol [uM/ms]  -47.7836840628", 
        "##", 
        "## WARNING: we are not updating CaTnC!!!", 
        "##", 
        "T 3330.000000 [ms] Conc(0) 0.000260 [mM]"
       ]
      }, 
      {
       "output_type": "stream", 
       "stream": "stdout", 
       "text": [
        "", 
        "T 3330.000000 [ms] Conc(0) 0.260184 [uM]", 
        "T 3330.000000 [ms] Conc(1) 0.025588 [mM]", 
        "T 3330.000000 [ms] Conc(1) 25.588410 [uM]", 
        "WARNING: skipping conc updatee", 
        "###########################################################################", 
        "t0  3330.0 tf  3340.0", 
        "ODE Init [mM] [ 0.00026055  0.02360905]", 
        "t0 3330.000000 tf 3340.000000 [ms]", 
        "ODE statesF: [mM] "
       ]
      }, 
      {
       "output_type": "stream", 
       "stream": "stdout", 
       "text": [
        " [ 0.00024767  0.0229306 ]", 
        "ODE statesF: [uM]  0.247669876729", 
        "ODE states Flux [mM/ms]:  [ -1.28789837e-06  -6.78447582e-05]", 
        "ODE states Flux [uM/ms]:  [-0.0012879  -0.06784476]", 
        "WARNING: jSR and dCa are lumped tother into jVold", 
        "WARNING: I probably need to constrain jvolExpr s.t. the assembled value is equal to the ODE value", 
        "jboundary [mM/ms] 3.97346316903e-05", 
        "jboundary [uM/ms] 0.0397346316903", 
        "jvol [mM/ms]  -4.10230709817e-05", 
        "jvol [uM/ms]  -41.0230709817", 
        "##", 
        "## WARNING: we are not updating CaTnC!!!", 
        "##", 
        "T 3340.000000 [ms] Conc(0) 0.000247 [mM]"
       ]
      }, 
      {
       "output_type": "stream", 
       "stream": "stdout", 
       "text": [
        "", 
        "T 3340.000000 [ms] Conc(0) 0.247300 [uM]", 
        "T 3340.000000 [ms] Conc(1) 0.025588 [mM]", 
        "T 3340.000000 [ms] Conc(1) 25.588410 [uM]", 
        "WARNING: skipping conc updatee", 
        "###########################################################################", 
        "t0  3340.0 tf  3350.0", 
        "ODE Init [mM] [ 0.00024767  0.0229306 ]", 
        "t0 3340.000000 tf 3350.000000 [ms]", 
        "ODE statesF: [mM] "
       ]
      }, 
      {
       "output_type": "stream", 
       "stream": "stdout", 
       "text": [
        " [ 0.00023497  0.02224432]", 
        "ODE statesF: [uM]  0.234971999121", 
        "ODE states Flux [mM/ms]:  [ -1.26978776e-06  -6.86283027e-05]", 
        "ODE states Flux [uM/ms]:  [-0.00126979 -0.0686283 ]", 
        "WARNING: jSR and dCa are lumped tother into jVold", 
        "WARNING: I probably need to constrain jvolExpr s.t. the assembled value is equal to the ODE value", 
        "jboundary [mM/ms] 3.23155400604e-05", 
        "jboundary [uM/ms] 0.0323155400604", 
        "jvol [mM/ms]  -3.35858005264e-05", 
        "jvol [uM/ms]  -33.5858005264", 
        "##", 
        "## WARNING: we are not updating CaTnC!!!", 
        "##", 
        "T 3350.000000 [ms] Conc(0) 0.000235 [mM]"
       ]
      }, 
      {
       "output_type": "stream", 
       "stream": "stdout", 
       "text": [
        "", 
        "T 3350.000000 [ms] Conc(0) 0.234597 [uM]", 
        "T 3350.000000 [ms] Conc(1) 0.025588 [mM]", 
        "T 3350.000000 [ms] Conc(1) 25.588410 [uM]", 
        "WARNING: skipping conc updatee", 
        "###########################################################################", 
        "t0  3350.0 tf  3360.0", 
        "ODE Init [mM] [ 0.00023497  0.02224432]", 
        "t0 3350.000000 tf 3360.000000 [ms]", 
        "ODE statesF: [mM] "
       ]
      }, 
      {
       "output_type": "stream", 
       "stream": "stdout", 
       "text": [
        " [ 0.00022231  0.02154823]", 
        "ODE statesF: [uM]  0.222309842807", 
        "ODE states Flux [mM/ms]:  [ -1.26621563e-06  -6.96086003e-05]", 
        "ODE states Flux [uM/ms]:  [-0.00126622 -0.0696086 ]", 
        "WARNING: jSR and dCa are lumped tother into jVold", 
        "WARNING: I probably need to constrain jvolExpr s.t. the assembled value is equal to the ODE value", 
        "jboundary [mM/ms] 2.41959357733e-05", 
        "jboundary [uM/ms] 0.0241959357733", 
        "jvol [mM/ms]  -2.54639477295e-05", 
        "jvol [uM/ms]  -25.4639477295", 
        "##", 
        "## WARNING: we are not updating CaTnC!!!", 
        "##", 
        "T 3360.000000 [ms] Conc(0) 0.000222 [mM]"
       ]
      }, 
      {
       "output_type": "stream", 
       "stream": "stdout", 
       "text": [
        "", 
        "T 3360.000000 [ms] Conc(0) 0.221917 [uM]", 
        "T 3360.000000 [ms] Conc(1) 0.025588 [mM]", 
        "T 3360.000000 [ms] Conc(1) 25.588410 [uM]", 
        "WARNING: skipping conc updatee", 
        "###########################################################################", 
        "t0  3360.0 tf  3370.0", 
        "ODE Init [mM] [ 0.00022231  0.02154823]", 
        "t0 3360.000000 tf 3370.000000 [ms]", 
        "ODE statesF: [mM] "
       ]
      }, 
      {
       "output_type": "stream", 
       "stream": "stdout", 
       "text": [
        " [ 0.0002109   0.02084761]", 
        "ODE statesF: [uM]  0.210896444846", 
        "ODE states Flux [mM/ms]:  [ -1.14133980e-06  -7.00619458e-05]", 
        "ODE states Flux [uM/ms]:  [-0.00114134 -0.07006195]", 
        "WARNING: jSR and dCa are lumped tother into jVold", 
        "WARNING: I probably need to constrain jvolExpr s.t. the assembled value is equal to the ODE value", 
        "jboundary [mM/ms] 1.70836516372e-05", 
        "jboundary [uM/ms] 0.0170836516372", 
        "jvol [mM/ms]  -1.8233584207e-05", 
        "jvol [uM/ms]  -18.233584207", 
        "##", 
        "## WARNING: we are not updating CaTnC!!!", 
        "##", 
        "T 3370.000000 [ms] Conc(0) 0.000210 [mM]"
       ]
      }, 
      {
       "output_type": "stream", 
       "stream": "stdout", 
       "text": [
        "", 
        "T 3370.000000 [ms] Conc(0) 0.210418 [uM]", 
        "T 3370.000000 [ms] Conc(1) 0.025588 [mM]", 
        "T 3370.000000 [ms] Conc(1) 25.588410 [uM]", 
        "WARNING: skipping conc updatee", 
        "###########################################################################", 
        "t0  3370.0 tf  3380.0", 
        "ODE Init [mM] [ 0.0002109   0.02084761]", 
        "t0 3370.000000 tf 3380.000000 [ms]", 
        "ODE statesF: [mM] "
       ]
      }, 
      {
       "output_type": "stream", 
       "stream": "stdout", 
       "text": [
        " [ 0.00020086  0.02015986]", 
        "ODE statesF: [uM]  0.200863190809", 
        "ODE states Flux [mM/ms]:  [ -1.00332540e-06  -6.87753604e-05]", 
        "ODE states Flux [uM/ms]:  [-0.00100333 -0.06877536]", 
        "WARNING: jSR and dCa are lumped tother into jVold", 
        "WARNING: I probably need to constrain jvolExpr s.t. the assembled value is equal to the ODE value", 
        "jboundary [mM/ms] 1.35668116552e-05", 
        "jboundary [uM/ms] 0.0135668116552", 
        "jvol [mM/ms]  -1.45756486356e-05", 
        "jvol [uM/ms]  -14.5756486356", 
        "##", 
        "## WARNING: we are not updating CaTnC!!!", 
        "##", 
        "T 3380.000000 [ms] Conc(0) 0.000200 [mM]"
       ]
      }, 
      {
       "output_type": "stream", 
       "stream": "stdout", 
       "text": [
        "", 
        "T 3380.000000 [ms] Conc(0) 0.200330 [uM]", 
        "T 3380.000000 [ms] Conc(1) 0.025588 [mM]", 
        "T 3380.000000 [ms] Conc(1) 25.588410 [uM]", 
        "WARNING: skipping conc updatee", 
        "###########################################################################", 
        "t0  3380.0 tf  3390.0", 
        "ODE Init [mM] [ 0.00020086  0.02015986]", 
        "t0 3380.000000 tf 3390.000000 [ms]", 
        "ODE statesF: [mM] "
       ]
      }, 
      {
       "output_type": "stream", 
       "stream": "stdout", 
       "text": [
        " [ 0.00019181  0.0194941 ]", 
        "ODE statesF: [uM]  0.191805430654", 
        "ODE states Flux [mM/ms]:  [ -9.05776016e-07  -6.65755644e-05]", 
        "ODE states Flux [uM/ms]:  [-0.00090578 -0.06657556]", 
        "WARNING: jSR and dCa are lumped tother into jVold", 
        "WARNING: I probably need to constrain jvolExpr s.t. the assembled value is equal to the ODE value", 
        "jboundary [mM/ms] 1.15032634086e-05", 
        "jboundary [uM/ms] 0.0115032634086", 
        "jvol [mM/ms]  -1.24134879586e-05", 
        "jvol [uM/ms]  -12.4134879586", 
        "##", 
        "## WARNING: we are not updating CaTnC!!!", 
        "##", 
        "T 3390.000000 [ms] Conc(0) 0.000191 [mM]"
       ]
      }, 
      {
       "output_type": "stream", 
       "stream": "stdout", 
       "text": [
        "", 
        "T 3390.000000 [ms] Conc(0) 0.191227 [uM]", 
        "T 3390.000000 [ms] Conc(1) 0.025588 [mM]", 
        "T 3390.000000 [ms] Conc(1) 25.588410 [uM]", 
        "WARNING: skipping conc updatee", 
        "###########################################################################", 
        "t0  3390.0 tf  3400.0", 
        "ODE Init [mM] [ 0.00019181  0.0194941 ]", 
        "t0 3390.000000 tf 3400.000000 [ms]", 
        "ODE statesF: [mM] "
       ]
      }, 
      {
       "output_type": "stream", 
       "stream": "stdout", 
       "text": [
        " [ 0.00018357  0.01885471]", 
        "ODE statesF: [uM]  0.183574766427", 
        "ODE states Flux [mM/ms]:  [ -8.23066423e-07  -6.39396913e-05]", 
        "ODE states Flux [uM/ms]:  [-0.00082307 -0.06393969]", 
        "WARNING: jSR and dCa are lumped tother into jVold", 
        "WARNING: I probably need to constrain jvolExpr s.t. the assembled value is equal to the ODE value", 
        "jboundary [mM/ms] 1.0071571072e-05", 
        "jboundary [uM/ms] 0.010071571072", 
        "jvol [mM/ms]  -1.08985106817e-05", 
        "jvol [uM/ms]  -10.8985106817", 
        "##", 
        "## WARNING: we are not updating CaTnC!!!", 
        "##", 
        "T 3400.000000 [ms] Conc(0) 0.000183 [mM]"
       ]
      }, 
      {
       "output_type": "stream", 
       "stream": "stdout", 
       "text": [
        "", 
        "T 3400.000000 [ms] Conc(0) 0.182958 [uM]", 
        "T 3400.000000 [ms] Conc(1) 0.025588 [mM]", 
        "T 3400.000000 [ms] Conc(1) 25.588410 [uM]", 
        "WARNING: skipping conc updatee", 
        "###########################################################################", 
        "t0  3400.0 tf  3410.0", 
        "ODE Init [mM] [ 0.00018357  0.01885471]", 
        "t0 3400.000000 tf 3410.000000 [ms]", 
        "ODE statesF: [mM] "
       ]
      }, 
      {
       "output_type": "stream", 
       "stream": "stdout", 
       "text": [
        " [ 0.00018151  0.01826694]", 
        "ODE statesF: [uM]  0.181512707108", 
        "ODE states Flux [mM/ms]:  [ -2.06205932e-07  -5.87764293e-05]", 
        "ODE states Flux [uM/ms]:  [-0.00020621 -0.05877643]", 
        "WARNING: jSR and dCa are lumped tother into jVold", 
        "WARNING: I probably need to constrain jvolExpr s.t. the assembled value is equal to the ODE value", 
        "jboundary [mM/ms] 1.42048379658e-05", 
        "jboundary [uM/ms] 0.0142048379658", 
        "jvol [mM/ms]  -1.45023680589e-05", 
        "jvol [uM/ms]  -14.5023680589", 
        "##", 
        "## WARNING: we are not updating CaTnC!!!", 
        "##", 
        "T 3410.000000 [ms] Conc(0) 0.000180 [mM]"
       ]
      }, 
      {
       "output_type": "stream", 
       "stream": "stdout", 
       "text": [
        "", 
        "T 3410.000000 [ms] Conc(0) 0.179983 [uM]", 
        "T 3410.000000 [ms] Conc(1) 0.025588 [mM]", 
        "T 3410.000000 [ms] Conc(1) 25.588410 [uM]", 
        "WARNING: skipping conc updatee", 
        "###########################################################################", 
        "t0  3410.0 tf  3420.0", 
        "ODE Init [mM] [ 0.00018151  0.01826694]", 
        "t0 3410.000000 tf 3420.000000 [ms]", 
        "ODE statesF: [mM] "
       ]
      }, 
      {
       "output_type": "stream", 
       "stream": "stdout", 
       "text": [
        " [ 0.00018837  0.01786219]", 
        "ODE statesF: [uM]  0.188370899709", 
        "ODE states Flux [mM/ms]:  [  6.85819260e-07  -4.04755181e-05]", 
        "ODE states Flux [uM/ms]:  [ 0.00068582 -0.04047552]", 
        "WARNING: jSR and dCa are lumped tother into jVold", 
        "WARNING: I probably need to constrain jvolExpr s.t. the assembled value is equal to the ODE value", 
        "jboundary [mM/ms] 4.81795451352e-05", 
        "jboundary [uM/ms] 0.0481795451352", 
        "jvol [mM/ms]  -4.75290181765e-05", 
        "jvol [uM/ms]  -47.5290181765", 
        "##", 
        "## WARNING: we are not updating CaTnC!!!", 
        "##", 
        "T 3420.000000 [ms] Conc(0) 0.000186 [mM]"
       ]
      }, 
      {
       "output_type": "stream", 
       "stream": "stdout", 
       "text": [
        "", 
        "T 3420.000000 [ms] Conc(0) 0.186488 [uM]", 
        "T 3420.000000 [ms] Conc(1) 0.025588 [mM]", 
        "T 3420.000000 [ms] Conc(1) 25.588410 [uM]", 
        "WARNING: skipping conc updatee", 
        "###########################################################################", 
        "t0  3420.0 tf  3430.0", 
        "ODE Init [mM] [ 0.00018837  0.01786219]", 
        "t0 3420.000000 tf 3430.000000 [ms]", 
        "ODE statesF: [mM] "
       ]
      }, 
      {
       "output_type": "stream", 
       "stream": "stdout", 
       "text": [
        " [ 0.00021381  0.01775885]", 
        "ODE statesF: [uM]  0.213806507697", 
        "ODE states Flux [mM/ms]:  [  2.54356080e-06  -1.03334345e-05]", 
        "ODE states Flux [uM/ms]:  [ 0.00254356 -0.01033343]", 
        "WARNING: jSR and dCa are lumped tother into jVold", 
        "WARNING: I probably need to constrain jvolExpr s.t. the assembled value is equal to the ODE value", 
        "jboundary [mM/ms] 0.000106267702509", 
        "jboundary [uM/ms] 0.106267702509", 
        "jvol [mM/ms]  -0.000103919862772", 
        "jvol [uM/ms]  -103.919862772", 
        "##", 
        "## WARNING: we are not updating CaTnC!!!", 
        "##", 
        "T 3430.000000 [ms] Conc(0) 0.000210 [mM]"
       ]
      }, 
      {
       "output_type": "stream", 
       "stream": "stdout", 
       "text": [
        "", 
        "T 3430.000000 [ms] Conc(0) 0.209966 [uM]", 
        "T 3430.000000 [ms] Conc(1) 0.025588 [mM]", 
        "T 3430.000000 [ms] Conc(1) 25.588410 [uM]", 
        "WARNING: skipping conc updatee", 
        "###########################################################################", 
        "t0  3430.0 tf  3440.0", 
        "ODE Init [mM] [ 0.00021381  0.01775885]", 
        "t0 3430.000000 tf 3440.000000 [ms]", 
        "ODE statesF: [mM] "
       ]
      }, 
      {
       "output_type": "stream", 
       "stream": "stdout", 
       "text": [
        " [ 0.00033106  0.01865448]", 
        "ODE statesF: [uM]  0.331056475402", 
        "ODE states Flux [mM/ms]:  [  1.17249968e-05   8.95624209e-05]", 
        "ODE states Flux [uM/ms]:  [ 0.011725    0.08956242]", 
        "WARNING: jSR and dCa are lumped tother into jVold", 
        "WARNING: I probably need to constrain jvolExpr s.t. the assembled value is equal to the ODE value", 
        "jboundary [mM/ms] 0.000316544200343", 
        "jboundary [uM/ms] 0.316544200343", 
        "jvol [mM/ms]  -0.000305407743887", 
        "jvol [uM/ms]  -305.407743887", 
        "##", 
        "## WARNING: we are not updating CaTnC!!!", 
        "##", 
        "T 3440.000000 [ms] Conc(0) 0.000321 [mM]"
       ]
      }, 
      {
       "output_type": "stream", 
       "stream": "stdout", 
       "text": [
        "", 
        "T 3440.000000 [ms] Conc(0) 0.321331 [uM]", 
        "T 3440.000000 [ms] Conc(1) 0.025588 [mM]", 
        "T 3440.000000 [ms] Conc(1) 25.588410 [uM]", 
        "WARNING: skipping conc updatee", 
        "###########################################################################", 
        "t0  3440.0 tf  3450.0", 
        "ODE Init [mM] [ 0.00033106  0.01865448]", 
        "t0 3440.000000 tf 3450.000000 [ms]", 
        "ODE statesF: [mM] "
       ]
      }, 
      {
       "output_type": "stream", 
       "stream": "stdout", 
       "text": [
        " [ 0.00045448  0.02132854]", 
        "ODE statesF: [uM]  0.454479422859", 
        "ODE states Flux [mM/ms]:  [  1.23422947e-05   2.67406780e-04]", 
        "ODE states Flux [uM/ms]:  [ 0.01234229  0.26740678]", 
        "WARNING: jSR and dCa are lumped tother into jVold", 
        "WARNING: I probably need to constrain jvolExpr s.t. the assembled value is equal to the ODE value", 
        "jboundary [mM/ms] 0.000653751346914", 
        "jboundary [uM/ms] 0.653751346914", 
        "jvol [mM/ms]  -0.000640923579229", 
        "jvol [uM/ms]  -640.923579229", 
        "##", 
        "## WARNING: we are not updating CaTnC!!!", 
        "##", 
        "T 3450.000000 [ms] Conc(0) 0.000450 [mM]"
       ]
      }, 
      {
       "output_type": "stream", 
       "stream": "stdout", 
       "text": [
        "", 
        "T 3450.000000 [ms] Conc(0) 0.449609 [uM]", 
        "T 3450.000000 [ms] Conc(1) 0.025588 [mM]", 
        "T 3450.000000 [ms] Conc(1) 25.588410 [uM]", 
        "WARNING: skipping conc updatee", 
        "###########################################################################", 
        "t0  3450.0 tf  3460.0", 
        "ODE Init [mM] [ 0.00045448  0.02132854]", 
        "t0 3450.000000 tf 3460.000000 [ms]", 
        "ODE statesF: [mM] "
       ]
      }, 
      {
       "output_type": "stream", 
       "stream": "stdout", 
       "text": [
        " [ 0.00049184  0.02422188]", 
        "ODE statesF: [uM]  0.491838121492", 
        "ODE states Flux [mM/ms]:  [  3.73586986e-06   2.89333803e-04]", 
        "ODE states Flux [uM/ms]:  [ 0.00373587  0.2893338 ]", 
        "WARNING: jSR and dCa are lumped tother into jVold", 
        "WARNING: I probably need to constrain jvolExpr s.t. the assembled value is equal to the ODE value", 
        "jboundary [mM/ms] 0.000630183566028", 
        "jboundary [uM/ms] 0.630183566028", 
        "jvol [mM/ms]  -0.00062617610161", 
        "jvol [uM/ms]  -626.17610161", 
        "##", 
        "## WARNING: we are not updating CaTnC!!!", 
        "##", 
        "T 3460.000000 [ms] Conc(0) 0.000490 [mM]"
       ]
      }, 
      {
       "output_type": "stream", 
       "stream": "stdout", 
       "text": [
        "", 
        "T 3460.000000 [ms] Conc(0) 0.489683 [uM]", 
        "T 3460.000000 [ms] Conc(1) 0.025588 [mM]", 
        "T 3460.000000 [ms] Conc(1) 25.588410 [uM]", 
        "WARNING: skipping conc updatee", 
        "###########################################################################", 
        "t0  3460.0 tf  3470.0", 
        "ODE Init [mM] [ 0.00049184  0.02422188]", 
        "t0 3460.000000 tf 3470.000000 [ms]", 
        "ODE statesF: [mM] "
       ]
      }, 
      {
       "output_type": "stream", 
       "stream": "stdout", 
       "text": [
        " [ 0.00049799  0.02647773]", 
        "ODE statesF: [uM]  0.497990507506", 
        "ODE states Flux [mM/ms]:  [  6.15238601e-07   2.25584601e-04]", 
        "ODE states Flux [uM/ms]:  [ 0.00061524  0.2255846 ]", 
        "WARNING: jSR and dCa are lumped tother into jVold", 
        "WARNING: I probably need to constrain jvolExpr s.t. the assembled value is equal to the ODE value", 
        "jboundary [mM/ms] 0.000490100380011", 
        "jboundary [uM/ms] 0.490100380011", 
        "jvol [mM/ms]  -0.000489398574209", 
        "jvol [uM/ms]  -489.398574209", 
        "##", 
        "## WARNING: we are not updating CaTnC!!!", 
        "##", 
        "T 3470.000000 [ms] Conc(0) 0.000497 [mM]"
       ]
      }, 
      {
       "output_type": "stream", 
       "stream": "stdout", 
       "text": [
        "", 
        "T 3470.000000 [ms] Conc(0) 0.496701 [uM]", 
        "T 3470.000000 [ms] Conc(1) 0.025588 [mM]", 
        "T 3470.000000 [ms] Conc(1) 25.588410 [uM]", 
        "WARNING: skipping conc updatee", 
        "###########################################################################", 
        "t0  3470.0 tf  3480.0", 
        "ODE Init [mM] [ 0.00049799  0.02647773]", 
        "t0 3470.000000 tf 3480.000000 [ms]", 
        "ODE statesF: [mM] "
       ]
      }, 
      {
       "output_type": "stream", 
       "stream": "stdout", 
       "text": [
        " [ 0.00049279  0.02804743]", 
        "ODE statesF: [uM]  0.492793929356", 
        "ODE states Flux [mM/ms]:  [ -5.19657815e-07   1.56970156e-04]", 
        "ODE states Flux [uM/ms]:  [-0.00051966  0.15697016]", 
        "WARNING: jSR and dCa are lumped tother into jVold", 
        "WARNING: I probably need to constrain jvolExpr s.t. the assembled value is equal to the ODE value", 
        "jboundary [mM/ms] 0.000377369821142", 
        "jboundary [uM/ms] 0.377369821142", 
        "jvol [mM/ms]  -0.000377851186243", 
        "jvol [uM/ms]  -377.851186243", 
        "##", 
        "## WARNING: we are not updating CaTnC!!!", 
        "##", 
        "T 3480.000000 [ms] Conc(0) 0.000492 [mM]"
       ]
      }, 
      {
       "output_type": "stream", 
       "stream": "stdout", 
       "text": [
        "", 
        "T 3480.000000 [ms] Conc(0) 0.491888 [uM]", 
        "T 3480.000000 [ms] Conc(1) 0.025588 [mM]", 
        "T 3480.000000 [ms] Conc(1) 25.588410 [uM]", 
        "WARNING: skipping conc updatee", 
        "###########################################################################", 
        "t0  3480.0 tf  3490.0", 
        "ODE Init [mM] [ 0.00049279  0.02804743]", 
        "t0 3480.000000 tf 3490.000000 [ms]", 
        "ODE statesF: [mM] "
       ]
      }, 
      {
       "output_type": "stream", 
       "stream": "stdout", 
       "text": [
        " [ 0.00048187  0.02904806]", 
        "ODE statesF: [uM]  0.481870534092", 
        "ODE states Flux [mM/ms]:  [ -1.09233953e-06   1.00062850e-04]", 
        "ODE states Flux [uM/ms]:  [-0.00109234  0.10006285]", 
        "WARNING: jSR and dCa are lumped tother into jVold", 
        "WARNING: I probably need to constrain jvolExpr s.t. the assembled value is equal to the ODE value", 
        "jboundary [mM/ms] 0.000296165429435", 
        "jboundary [uM/ms] 0.296165429435", 
        "jvol [mM/ms]  -0.000297235940692", 
        "jvol [uM/ms]  -297.235940692", 
        "##", 
        "## WARNING: we are not updating CaTnC!!!", 
        "##", 
        "T 3490.000000 [ms] Conc(0) 0.000481 [mM]"
       ]
      }, 
      {
       "output_type": "stream", 
       "stream": "stdout", 
       "text": [
        "", 
        "T 3490.000000 [ms] Conc(0) 0.481182 [uM]", 
        "T 3490.000000 [ms] Conc(1) 0.025588 [mM]", 
        "T 3490.000000 [ms] Conc(1) 25.588410 [uM]", 
        "WARNING: skipping conc updatee", 
        "###########################################################################", 
        "t0  3490.0 tf  3500.0", 
        "ODE Init [mM] [ 0.00048187  0.02904806]", 
        "t0 3490.000000 tf 3500.000000 [ms]", 
        "ODE statesF: [mM] "
       ]
      }, 
      {
       "output_type": "stream", 
       "stream": "stdout", 
       "text": [
        " [ 0.00046751  0.02960536]", 
        "ODE statesF: [uM]  0.467510884715", 
        "ODE states Flux [mM/ms]:  [ -1.43596494e-06   5.57300654e-05]", 
        "ODE states Flux [uM/ms]:  [-0.00143596  0.05573007]", 
        "WARNING: jSR and dCa are lumped tother into jVold", 
        "WARNING: I probably need to constrain jvolExpr s.t. the assembled value is equal to the ODE value", 
        "jboundary [mM/ms] 0.000237091805552", 
        "jboundary [uM/ms] 0.237091805552", 
        "jvol [mM/ms]  -0.000238514258458", 
        "jvol [uM/ms]  -238.514258458", 
        "##", 
        "## WARNING: we are not updating CaTnC!!!", 
        "##", 
        "T 3500.000000 [ms] Conc(0) 0.000467 [mM]"
       ]
      }, 
      {
       "output_type": "stream", 
       "stream": "stdout", 
       "text": [
        "", 
        "T 3500.000000 [ms] Conc(0) 0.466958 [uM]", 
        "T 3500.000000 [ms] Conc(1) 0.025588 [mM]", 
        "T 3500.000000 [ms] Conc(1) 25.588410 [uM]", 
        "WARNING: skipping conc updatee", 
        "###########################################################################", 
        "t0  3500.0 tf  3510.0", 
        "ODE Init [mM] [ 0.00046751  0.02960536]", 
        "t0 3500.000000 tf 3510.000000 [ms]", 
        "ODE statesF: [mM] "
       ]
      }, 
      {
       "output_type": "stream", 
       "stream": "stdout", 
       "text": [
        " [ 0.00045104  0.02982476]", 
        "ODE statesF: [uM]  0.451044013233", 
        "ODE states Flux [mM/ms]:  [ -1.64668715e-06   2.19395991e-05]", 
        "ODE states Flux [uM/ms]:  [-0.00164669  0.0219396 ]", 
        "WARNING: jSR and dCa are lumped tother into jVold", 
        "WARNING: I probably need to constrain jvolExpr s.t. the assembled value is equal to the ODE value", 
        "jboundary [mM/ms] 0.000193315916768", 
        "jboundary [uM/ms] 0.193315916768", 
        "jvol [mM/ms]  -0.000194954551638", 
        "jvol [uM/ms]  -194.954551638", 
        "##", 
        "## WARNING: we are not updating CaTnC!!!", 
        "##", 
        "T 3510.000000 [ms] Conc(0) 0.000451 [mM]"
       ]
      }, 
      {
       "output_type": "stream", 
       "stream": "stdout", 
       "text": [
        "", 
        "T 3510.000000 [ms] Conc(0) 0.450572 [uM]", 
        "T 3510.000000 [ms] Conc(1) 0.025588 [mM]", 
        "T 3510.000000 [ms] Conc(1) 25.588410 [uM]", 
        "WARNING: skipping conc updatee", 
        "###########################################################################", 
        "t0  3510.0 tf  3520.0", 
        "ODE Init [mM] [ 0.00045104  0.02982476]", 
        "t0 3510.000000 tf 3520.000000 [ms]", 
        "ODE statesF: [mM] "
       ]
      }, 
      {
       "output_type": "stream", 
       "stream": "stdout", 
       "text": [
        " [ 0.0004334   0.02978934]", 
        "ODE statesF: [uM]  0.433396794555", 
        "ODE states Flux [mM/ms]:  [ -1.76472187e-06  -3.54102931e-06]", 
        "ODE states Flux [uM/ms]:  [-0.00176472 -0.00354103]", 
        "WARNING: jSR and dCa are lumped tother into jVold", 
        "WARNING: I probably need to constrain jvolExpr s.t. the assembled value is equal to the ODE value", 
        "jboundary [mM/ms] 0.000160433253958", 
        "jboundary [uM/ms] 0.160433253958", 
        "jvol [mM/ms]  -0.000162193894532", 
        "jvol [uM/ms]  -162.193894532", 
        "##", 
        "## WARNING: we are not updating CaTnC!!!", 
        "##", 
        "T 3520.000000 [ms] Conc(0) 0.000433 [mM]"
       ]
      }, 
      {
       "output_type": "stream", 
       "stream": "stdout", 
       "text": [
        "", 
        "T 3520.000000 [ms] Conc(0) 0.432965 [uM]", 
        "T 3520.000000 [ms] Conc(1) 0.025588 [mM]", 
        "T 3520.000000 [ms] Conc(1) 25.588410 [uM]", 
        "WARNING: skipping conc updatee", 
        "###########################################################################", 
        "t0  3520.0 tf  3530.0", 
        "ODE Init [mM] [ 0.0004334   0.02978934]", 
        "t0 3520.000000 tf 3530.000000 [ms]", 
        "ODE statesF: [mM] "
       ]
      }, 
      {
       "output_type": "stream", 
       "stream": "stdout", 
       "text": [
        " [ 0.00041525  0.02956341]", 
        "ODE statesF: [uM]  0.415250766751", 
        "ODE states Flux [mM/ms]:  [ -1.81460278e-06  -2.25938502e-05]", 
        "ODE states Flux [uM/ms]:  [-0.0018146  -0.02259385]", 
        "WARNING: jSR and dCa are lumped tother into jVold", 
        "WARNING: I probably need to constrain jvolExpr s.t. the assembled value is equal to the ODE value", 
        "jboundary [mM/ms] 0.000135494513955", 
        "jboundary [uM/ms] 0.135494513955", 
        "jvol [mM/ms]  -0.000137307960258", 
        "jvol [uM/ms]  -137.307960258", 
        "##", 
        "## WARNING: we are not updating CaTnC!!!", 
        "##", 
        "T 3530.000000 [ms] Conc(0) 0.000415 [mM]"
       ]
      }, 
      {
       "output_type": "stream", 
       "stream": "stdout", 
       "text": [
        "", 
        "T 3530.000000 [ms] Conc(0) 0.414831 [uM]", 
        "T 3530.000000 [ms] Conc(1) 0.025588 [mM]", 
        "T 3530.000000 [ms] Conc(1) 25.588410 [uM]", 
        "WARNING: skipping conc updatee", 
        "###########################################################################", 
        "t0  3530.0 tf  3540.0", 
        "ODE Init [mM] [ 0.00041525  0.02956341]", 
        "t0 3530.000000 tf 3540.000000 [ms]", 
        "ODE statesF: [mM] "
       ]
      }, 
      {
       "output_type": "stream", 
       "stream": "stdout", 
       "text": [
        " [ 0.0003971  0.0291964]", 
        "ODE statesF: [uM]  0.397102152157", 
        "ODE states Flux [mM/ms]:  [ -1.81486146e-06  -3.67003729e-05]", 
        "ODE states Flux [uM/ms]:  [-0.00181486 -0.03670037]", 
        "WARNING: jSR and dCa are lumped tother into jVold", 
        "WARNING: I probably need to constrain jvolExpr s.t. the assembled value is equal to the ODE value", 
        "jboundary [mM/ms] 0.000116425338317", 
        "jboundary [uM/ms] 0.116425338317", 
        "jvol [mM/ms]  -0.000118241138285", 
        "jvol [uM/ms]  -118.241138285", 
        "##", 
        "## WARNING: we are not updating CaTnC!!!", 
        "##", 
        "T 3540.000000 [ms] Conc(0) 0.000397 [mM]"
       ]
      }, 
      {
       "output_type": "stream", 
       "stream": "stdout", 
       "text": [
        "", 
        "T 3540.000000 [ms] Conc(0) 0.396673 [uM]", 
        "T 3540.000000 [ms] Conc(1) 0.025588 [mM]", 
        "T 3540.000000 [ms] Conc(1) 25.588410 [uM]", 
        "WARNING: skipping conc updatee", 
        "###########################################################################", 
        "t0  3540.0 tf  3550.0", 
        "ODE Init [mM] [ 0.0003971  0.0291964]", 
        "t0 3540.000000 tf 3550.000000 [ms]", 
        "ODE statesF: [mM] "
       ]
      }, 
      {
       "output_type": "stream", 
       "stream": "stdout", 
       "text": [
        " [ 0.0003793   0.02872637]", 
        "ODE statesF: [uM]  0.37929864383", 
        "ODE states Flux [mM/ms]:  [ -1.78035083e-06  -4.70032344e-05]", 
        "ODE states Flux [uM/ms]:  [-0.00178035 -0.04700323]", 
        "WARNING: jSR and dCa are lumped tother into jVold", 
        "WARNING: I probably need to constrain jvolExpr s.t. the assembled value is equal to the ODE value", 
        "jboundary [mM/ms] 0.000101714719633", 
        "jboundary [uM/ms] 0.101714719633", 
        "jvol [mM/ms]  -0.000103497437277", 
        "jvol [uM/ms]  -103.497437277", 
        "##", 
        "## WARNING: we are not updating CaTnC!!!", 
        "##", 
        "T 3550.000000 [ms] Conc(0) 0.000379 [mM]"
       ]
      }, 
      {
       "output_type": "stream", 
       "stream": "stdout", 
       "text": [
        "", 
        "T 3550.000000 [ms] Conc(0) 0.378846 [uM]", 
        "T 3550.000000 [ms] Conc(1) 0.025588 [mM]", 
        "T 3550.000000 [ms] Conc(1) 25.588410 [uM]", 
        "WARNING: skipping conc updatee", 
        "###########################################################################", 
        "t0  3550.0 tf  3560.0", 
        "ODE Init [mM] [ 0.0003793   0.02872637]", 
        "t0 3550.000000 tf 3560.000000 [ms]", 
        "ODE statesF: [mM] "
       ]
      }, 
      {
       "output_type": "stream", 
       "stream": "stdout", 
       "text": [
        " [ 0.00036207  0.02818256]", 
        "ODE statesF: [uM]  0.36206943598", 
        "ODE states Flux [mM/ms]:  [ -1.72292078e-06  -5.43811926e-05]", 
        "ODE states Flux [uM/ms]:  [-0.00172292 -0.05438119]", 
        "WARNING: jSR and dCa are lumped tother into jVold", 
        "WARNING: I probably need to constrain jvolExpr s.t. the assembled value is equal to the ODE value", 
        "jboundary [mM/ms] 9.02378458462e-05", 
        "jboundary [uM/ms] 0.0902378458462", 
        "jvol [mM/ms]  -9.19640353309e-05", 
        "jvol [uM/ms]  -91.9640353309", 
        "##", 
        "## WARNING: we are not updating CaTnC!!!", 
        "##", 
        "T 3560.000000 [ms] Conc(0) 0.000362 [mM]"
       ]
      }, 
      {
       "output_type": "stream", 
       "stream": "stdout", 
       "text": [
        "", 
        "T 3560.000000 [ms] Conc(0) 0.361584 [uM]", 
        "T 3560.000000 [ms] Conc(1) 0.025588 [mM]", 
        "T 3560.000000 [ms] Conc(1) 25.588410 [uM]", 
        "WARNING: skipping conc updatee", 
        "###########################################################################", 
        "t0  3560.0 tf  3570.0", 
        "ODE Init [mM] [ 0.00036207  0.02818256]", 
        "t0 3560.000000 tf 3570.000000 [ms]", 
        "ODE statesF: [mM] "
       ]
      }, 
      {
       "output_type": "stream", 
       "stream": "stdout", 
       "text": [
        " [ 0.00034555  0.02758741]", 
        "ODE statesF: [uM]  0.345550482167", 
        "ODE states Flux [mM/ms]:  [ -1.65189538e-06  -5.95145803e-05]", 
        "ODE states Flux [uM/ms]:  [-0.0016519  -0.05951458]", 
        "WARNING: jSR and dCa are lumped tother into jVold", 
        "WARNING: I probably need to constrain jvolExpr s.t. the assembled value is equal to the ODE value", 
        "jboundary [mM/ms] 8.11444020519e-05", 
        "jboundary [uM/ms] 0.0811444020519", 
        "jvol [mM/ms]  -8.28000543846e-05", 
        "jvol [uM/ms]  -82.8000543846", 
        "##", 
        "## WARNING: we are not updating CaTnC!!!", 
        "##", 
        "T 3570.000000 [ms] Conc(0) 0.000345 [mM]"
       ]
      }, 
      {
       "output_type": "stream", 
       "stream": "stdout", 
       "text": [
        "", 
        "T 3570.000000 [ms] Conc(0) 0.345027 [uM]", 
        "T 3570.000000 [ms] Conc(1) 0.025588 [mM]", 
        "T 3570.000000 [ms] Conc(1) 25.588410 [uM]", 
        "WARNING: skipping conc updatee", 
        "###########################################################################", 
        "t0  3570.0 tf  3580.0", 
        "ODE Init [mM] [ 0.00034555  0.02758741]", 
        "t0 3570.000000 tf 3580.000000 [ms]", 
        "ODE statesF: [mM] "
       ]
      }, 
      {
       "output_type": "stream", 
       "stream": "stdout", 
       "text": [
        " [ 0.0003298   0.02695805]", 
        "ODE statesF: [uM]  0.329804321578", 
        "ODE states Flux [mM/ms]:  [ -1.57461606e-06  -6.29363277e-05]", 
        "ODE states Flux [uM/ms]:  [-0.00157462 -0.06293633]", 
        "WARNING: jSR and dCa are lumped tother into jVold", 
        "WARNING: I probably need to constrain jvolExpr s.t. the assembled value is equal to the ODE value", 
        "jboundary [mM/ms] 7.3779890884e-05", 
        "jboundary [uM/ms] 0.073779890884", 
        "jvol [mM/ms]  -7.53584231544e-05", 
        "jvol [uM/ms]  -75.3584231544", 
        "##", 
        "## WARNING: we are not updating CaTnC!!!", 
        "##", 
        "T 3580.000000 [ms] Conc(0) 0.000329 [mM]"
       ]
      }, 
      {
       "output_type": "stream", 
       "stream": "stdout", 
       "text": [
        "", 
        "T 3580.000000 [ms] Conc(0) 0.329242 [uM]", 
        "T 3580.000000 [ms] Conc(1) 0.025588 [mM]", 
        "T 3580.000000 [ms] Conc(1) 25.588410 [uM]", 
        "WARNING: skipping conc updatee", 
        "###########################################################################", 
        "t0  3580.0 tf  3590.0", 
        "ODE Init [mM] [ 0.0003298   0.02695805]", 
        "t0 3580.000000 tf 3590.000000 [ms]", 
        "ODE statesF: [mM] "
       ]
      }, 
      {
       "output_type": "stream", 
       "stream": "stdout", 
       "text": [
        " [ 0.00031483  0.02630732]", 
        "ODE statesF: [uM]  0.314833382844", 
        "ODE states Flux [mM/ms]:  [ -1.49709387e-06  -6.50733304e-05]", 
        "ODE states Flux [uM/ms]:  [-0.00149709 -0.06507333]", 
        "WARNING: jSR and dCa are lumped tother into jVold", 
        "WARNING: I probably need to constrain jvolExpr s.t. the assembled value is equal to the ODE value", 
        "jboundary [mM/ms] 6.76240795479e-05", 
        "jboundary [uM/ms] 0.0676240795479", 
        "jvol [mM/ms]  -6.91249688812e-05", 
        "jvol [uM/ms]  -69.1249688812", 
        "##", 
        "## WARNING: we are not updating CaTnC!!!", 
        "##", 
        "T 3590.000000 [ms] Conc(0) 0.000314 [mM]"
       ]
      }, 
      {
       "output_type": "stream", 
       "stream": "stdout", 
       "text": [
        "", 
        "T 3590.000000 [ms] Conc(0) 0.314233 [uM]", 
        "T 3590.000000 [ms] Conc(1) 0.025588 [mM]", 
        "T 3590.000000 [ms] Conc(1) 25.588410 [uM]", 
        "WARNING: skipping conc updatee", 
        "###########################################################################", 
        "t0  3590.0 tf  3600.0", 
        "ODE Init [mM] [ 0.00031483  0.02630732]", 
        "t0 3590.000000 tf 3600.000000 [ms]", 
        "ODE statesF: [mM] "
       ]
      }, 
      {
       "output_type": "stream", 
       "stream": "stdout", 
       "text": [
        " [ 0.00030059  0.0256445 ]", 
        "ODE statesF: [uM]  0.300585495792", 
        "ODE states Flux [mM/ms]:  [ -1.42478871e-06  -6.62812246e-05]", 
        "ODE states Flux [uM/ms]:  [-0.00142479 -0.06628122]", 
        "WARNING: jSR and dCa are lumped tother into jVold", 
        "WARNING: I probably need to constrain jvolExpr s.t. the assembled value is equal to the ODE value", 
        "jboundary [mM/ms] 6.2236508158e-05", 
        "jboundary [uM/ms] 0.062236508158", 
        "jvol [mM/ms]  -6.36646971798e-05", 
        "jvol [uM/ms]  -63.6646971798", 
        "##", 
        "## WARNING: we are not updating CaTnC!!!", 
        "##", 
        "T 3600.000000 [ms] Conc(0) 0.000300 [mM]"
       ]
      }, 
      {
       "output_type": "stream", 
       "stream": "stdout", 
       "text": [
        "", 
        "T 3600.000000 [ms] Conc(0) 0.299951 [uM]", 
        "T 3600.000000 [ms] Conc(1) 0.025588 [mM]", 
        "T 3600.000000 [ms] Conc(1) 25.588410 [uM]", 
        "WARNING: skipping conc updatee", 
        "###########################################################################", 
        "t0  3600.0 tf  3610.0", 
        "ODE Init [mM] [ 0.00030059  0.0256445 ]", 
        "t0 3600.000000 tf 3610.000000 [ms]", 
        "ODE statesF: [mM] "
       ]
      }, 
      {
       "output_type": "stream", 
       "stream": "stdout", 
       "text": [
        " [ 0.00028695  0.02497573]", 
        "ODE statesF: [uM]  0.286949447814", 
        "ODE states Flux [mM/ms]:  [ -1.36360480e-06  -6.68778515e-05]", 
        "ODE states Flux [uM/ms]:  [-0.0013636  -0.06687785]", 
        "WARNING: jSR and dCa are lumped tother into jVold", 
        "WARNING: I probably need to constrain jvolExpr s.t. the assembled value is equal to the ODE value", 
        "jboundary [mM/ms] 5.71994670435e-05", 
        "jboundary [uM/ms] 0.0571994670435", 
        "jvol [mM/ms]  -5.85657529111e-05", 
        "jvol [uM/ms]  -58.5657529111", 
        "##", 
        "## WARNING: we are not updating CaTnC!!!", 
        "##", 
        "T 3610.000000 [ms] Conc(0) 0.000286 [mM]"
       ]
      }, 
      {
       "output_type": "stream", 
       "stream": "stdout", 
       "text": [
        "", 
        "T 3610.000000 [ms] Conc(0) 0.286288 [uM]", 
        "T 3610.000000 [ms] Conc(1) 0.025588 [mM]", 
        "T 3610.000000 [ms] Conc(1) 25.588410 [uM]", 
        "WARNING: skipping conc updatee", 
        "###########################################################################", 
        "t0  3610.0 tf  3620.0", 
        "ODE Init [mM] [ 0.00028695  0.02497573]", 
        "t0 3610.000000 tf 3620.000000 [ms]", 
        "ODE statesF: [mM] "
       ]
      }, 
      {
       "output_type": "stream", 
       "stream": "stdout", 
       "text": [
        " [ 0.00027374  0.02430393]", 
        "ODE statesF: [uM]  0.273740849025", 
        "ODE states Flux [mM/ms]:  [ -1.32085988e-06  -6.71795892e-05]", 
        "ODE states Flux [uM/ms]:  [-0.00132086 -0.06717959]", 
        "WARNING: jSR and dCa are lumped tother into jVold", 
        "WARNING: I probably need to constrain jvolExpr s.t. the assembled value is equal to the ODE value", 
        "jboundary [mM/ms] 5.2050487173e-05", 
        "jboundary [uM/ms] 0.052050487173", 
        "jvol [mM/ms]  -5.33729116653e-05", 
        "jvol [uM/ms]  -53.3729116653", 
        "##", 
        "## WARNING: we are not updating CaTnC!!!", 
        "##", 
        "T 3620.000000 [ms] Conc(0) 0.000273 [mM]"
       ]
      }, 
      {
       "output_type": "stream", 
       "stream": "stdout", 
       "text": [
        "", 
        "T 3620.000000 [ms] Conc(0) 0.273064 [uM]", 
        "T 3620.000000 [ms] Conc(1) 0.025588 [mM]", 
        "T 3620.000000 [ms] Conc(1) 25.588410 [uM]", 
        "WARNING: skipping conc updatee", 
        "###########################################################################", 
        "t0  3620.0 tf  3630.0", 
        "ODE Init [mM] [ 0.00027374  0.02430393]", 
        "t0 3620.000000 tf 3630.000000 [ms]", 
        "ODE statesF: [mM] "
       ]
      }, 
      {
       "output_type": "stream", 
       "stream": "stdout", 
       "text": [
        " [ 0.00026071  0.02362867]", 
        "ODE statesF: [uM]  0.260712776916", 
        "ODE states Flux [mM/ms]:  [ -1.30280721e-06  -6.75254704e-05]", 
        "ODE states Flux [uM/ms]:  [-0.00130281 -0.06752547]", 
        "WARNING: jSR and dCa are lumped tother into jVold", 
        "WARNING: I probably need to constrain jvolExpr s.t. the assembled value is equal to the ODE value", 
        "jboundary [mM/ms] 4.62392883649e-05", 
        "jboundary [uM/ms] 0.0462392883649", 
        "jvol [mM/ms]  -4.75424485752e-05", 
        "jvol [uM/ms]  -47.5424485752", 
        "##", 
        "## WARNING: we are not updating CaTnC!!!", 
        "##", 
        "T 3630.000000 [ms] Conc(0) 0.000260 [mM]"
       ]
      }, 
      {
       "output_type": "stream", 
       "stream": "stdout", 
       "text": [
        "", 
        "T 3630.000000 [ms] Conc(0) 0.260032 [uM]", 
        "T 3630.000000 [ms] Conc(1) 0.025588 [mM]", 
        "T 3630.000000 [ms] Conc(1) 25.588410 [uM]", 
        "WARNING: skipping conc updatee", 
        "###########################################################################", 
        "t0  3630.0 tf  3640.0", 
        "ODE Init [mM] [ 0.00026071  0.02362867]", 
        "t0 3630.000000 tf 3640.000000 [ms]", 
        "ODE statesF: [mM] "
       ]
      }, 
      {
       "output_type": "stream", 
       "stream": "stdout", 
       "text": [
        " [ 0.00024775  0.02294699]", 
        "ODE statesF: [uM]  0.247745289336", 
        "ODE states Flux [mM/ms]:  [ -1.29674876e-06  -6.81684086e-05]", 
        "ODE states Flux [uM/ms]:  [-0.00129675 -0.06816841]", 
        "WARNING: jSR and dCa are lumped tother into jVold", 
        "WARNING: I probably need to constrain jvolExpr s.t. the assembled value is equal to the ODE value", 
        "jboundary [mM/ms] 3.93787844574e-05", 
        "jboundary [uM/ms] 0.0393787844574", 
        "jvol [mM/ms]  -4.06761737566e-05", 
        "jvol [uM/ms]  -40.6761737566", 
        "##", 
        "## WARNING: we are not updating CaTnC!!!", 
        "##", 
        "T 3640.000000 [ms] Conc(0) 0.000247 [mM]"
       ]
      }, 
      {
       "output_type": "stream", 
       "stream": "stdout", 
       "text": [
        "", 
        "T 3640.000000 [ms] Conc(0) 0.247058 [uM]", 
        "T 3640.000000 [ms] Conc(1) 0.025588 [mM]", 
        "T 3640.000000 [ms] Conc(1) 25.588410 [uM]", 
        "WARNING: skipping conc updatee", 
        "###########################################################################", 
        "t0  3640.0 tf  3650.0", 
        "ODE Init [mM] [ 0.00024775  0.02294699]", 
        "t0 3640.000000 tf 3650.000000 [ms]", 
        "ODE statesF: [mM] "
       ]
      }, 
      {
       "output_type": "stream", 
       "stream": "stdout", 
       "text": [
        " [ 0.00023496  0.02225721]", 
        "ODE statesF: [uM]  0.234958162085", 
        "ODE states Flux [mM/ms]:  [ -1.27871273e-06  -6.89783636e-05]", 
        "ODE states Flux [uM/ms]:  [-0.00127871 -0.06897836]", 
        "WARNING: jSR and dCa are lumped tother into jVold", 
        "WARNING: I probably need to constrain jvolExpr s.t. the assembled value is equal to the ODE value", 
        "jboundary [mM/ms] 3.18931622952e-05", 
        "jboundary [uM/ms] 0.0318931622952", 
        "jvol [mM/ms]  -3.31721969622e-05", 
        "jvol [uM/ms]  -33.1721969622", 
        "##", 
        "## WARNING: we are not updating CaTnC!!!", 
        "##", 
        "T 3650.000000 [ms] Conc(0) 0.000234 [mM]"
       ]
      }, 
      {
       "output_type": "stream", 
       "stream": "stdout", 
       "text": [
        "", 
        "T 3650.000000 [ms] Conc(0) 0.234268 [uM]", 
        "T 3650.000000 [ms] Conc(1) 0.025588 [mM]", 
        "T 3650.000000 [ms] Conc(1) 25.588410 [uM]", 
        "WARNING: skipping conc updatee", 
        "###########################################################################", 
        "t0  3650.0 tf  3660.0", 
        "ODE Init [mM] [ 0.00023496  0.02225721]", 
        "t0 3650.000000 tf 3660.000000 [ms]", 
        "ODE statesF: [mM] "
       ]
      }, 
      {
       "output_type": "stream", 
       "stream": "stdout", 
       "text": [
        " [ 0.00022224  0.02155729]", 
        "ODE statesF: [uM]  0.222235917134", 
        "ODE states Flux [mM/ms]:  [ -1.27222450e-06  -6.99917719e-05]", 
        "ODE states Flux [uM/ms]:  [-0.00127222 -0.06999177]", 
        "WARNING: jSR and dCa are lumped tother into jVold", 
        "WARNING: I probably need to constrain jvolExpr s.t. the assembled value is equal to the ODE value", 
        "jboundary [mM/ms] 2.36804112805e-05", 
        "jboundary [uM/ms] 0.0236804112805", 
        "jvol [mM/ms]  -2.49550890741e-05", 
        "jvol [uM/ms]  -24.9550890741", 
        "##", 
        "## WARNING: we are not updating CaTnC!!!", 
        "##", 
        "T 3660.000000 [ms] Conc(0) 0.000222 [mM]"
       ]
      }, 
      {
       "output_type": "stream", 
       "stream": "stdout", 
       "text": [
        "", 
        "T 3660.000000 [ms] Conc(0) 0.221521 [uM]", 
        "T 3660.000000 [ms] Conc(1) 0.025588 [mM]", 
        "T 3660.000000 [ms] Conc(1) 25.588410 [uM]", 
        "WARNING: skipping conc updatee", 
        "###########################################################################", 
        "t0  3660.0 tf  3670.0", 
        "ODE Init [mM] [ 0.00022224  0.02155729]", 
        "t0 3660.000000 tf 3670.000000 [ms]", 
        "ODE statesF: [mM] "
       ]
      }, 
      {
       "output_type": "stream", 
       "stream": "stdout", 
       "text": [
        " [ 0.00021086  0.0208538 ]", 
        "ODE statesF: [uM]  0.210856572258", 
        "ODE states Flux [mM/ms]:  [ -1.13793449e-06  -7.03485101e-05]", 
        "ODE states Flux [uM/ms]:  [-0.00113793 -0.07034851]", 
        "WARNING: jSR and dCa are lumped tother into jVold", 
        "WARNING: I probably need to constrain jvolExpr s.t. the assembled value is equal to the ODE value", 
        "jboundary [mM/ms] 1.67712116139e-05", 
        "jboundary [uM/ms] 0.0167712116139", 
        "jvol [mM/ms]  -1.79176837871e-05", 
        "jvol [uM/ms]  -17.9176837871", 
        "##", 
        "## WARNING: we are not updating CaTnC!!!", 
        "##", 
        "T 3670.000000 [ms] Conc(0) 0.000210 [mM]"
       ]
      }, 
      {
       "output_type": "stream", 
       "stream": "stdout", 
       "text": [
        "", 
        "T 3670.000000 [ms] Conc(0) 0.210057 [uM]", 
        "T 3670.000000 [ms] Conc(1) 0.025588 [mM]", 
        "T 3670.000000 [ms] Conc(1) 25.588410 [uM]", 
        "WARNING: skipping conc updatee", 
        "###########################################################################", 
        "t0  3670.0 tf  3680.0", 
        "ODE Init [mM] [ 0.00021086  0.0208538 ]", 
        "t0 3670.000000 tf 3680.000000 [ms]", 
        "ODE statesF: [mM] "
       ]
      }, 
      {
       "output_type": "stream", 
       "stream": "stdout", 
       "text": [
        " [ 0.00020083  0.02016409]", 
        "ODE statesF: [uM]  0.200827326599", 
        "ODE states Flux [mM/ms]:  [ -1.00292457e-06  -6.89710749e-05]", 
        "ODE states Flux [uM/ms]:  [-0.00100292 -0.06897107]", 
        "WARNING: jSR and dCa are lumped tother into jVold", 
        "WARNING: I probably need to constrain jvolExpr s.t. the assembled value is equal to the ODE value", 
        "jboundary [mM/ms] 1.34039286513e-05", 
        "jboundary [uM/ms] 0.0134039286513", 
        "jvol [mM/ms]  -1.4412297869e-05", 
        "jvol [uM/ms]  -14.412297869", 
        "##", 
        "## WARNING: we are not updating CaTnC!!!", 
        "##", 
        "T 3680.000000 [ms] Conc(0) 0.000200 [mM]"
       ]
      }, 
      {
       "output_type": "stream", 
       "stream": "stdout", 
       "text": [
        "", 
        "T 3680.000000 [ms] Conc(0) 0.199973 [uM]", 
        "T 3680.000000 [ms] Conc(1) 0.025588 [mM]", 
        "T 3680.000000 [ms] Conc(1) 25.588410 [uM]", 
        "WARNING: skipping conc updatee", 
        "###########################################################################", 
        "t0  3680.0 tf  3690.0", 
        "ODE Init [mM] [ 0.00020083  0.02016409]", 
        "t0 3680.000000 tf 3690.000000 [ms]", 
        "ODE statesF: [mM] "
       ]
      }, 
      {
       "output_type": "stream", 
       "stream": "stdout", 
       "text": [
        " [ 0.00019177  0.01949684]", 
        "ODE statesF: [uM]  0.191768451041", 
        "ODE states Flux [mM/ms]:  [ -9.05887556e-07  -6.67250897e-05]", 
        "ODE states Flux [uM/ms]:  [-0.00090589 -0.06672509]", 
        "WARNING: jSR and dCa are lumped tother into jVold", 
        "WARNING: I probably need to constrain jvolExpr s.t. the assembled value is equal to the ODE value", 
        "jboundary [mM/ms] 1.13892801777e-05", 
        "jboundary [uM/ms] 0.0113892801777", 
        "jvol [mM/ms]  -1.22996088523e-05", 
        "jvol [uM/ms]  -12.2996088523", 
        "##", 
        "## WARNING: we are not updating CaTnC!!!", 
        "##", 
        "T 3690.000000 [ms] Conc(0) 0.000191 [mM]"
       ]
      }, 
      {
       "output_type": "stream", 
       "stream": "stdout", 
       "text": [
        "", 
        "T 3690.000000 [ms] Conc(0) 0.190870 [uM]", 
        "T 3690.000000 [ms] Conc(1) 0.025588 [mM]", 
        "T 3690.000000 [ms] Conc(1) 25.588410 [uM]", 
        "WARNING: skipping conc updatee", 
        "###########################################################################", 
        "t0  3690.0 tf  3700.0", 
        "ODE Init [mM] [ 0.00019177  0.01949684]", 
        "t0 3690.000000 tf 3700.000000 [ms]", 
        "ODE statesF: [mM] "
       ]
      }, 
      {
       "output_type": "stream", 
       "stream": "stdout", 
       "text": [
        " [ 0.00018354  0.01885627]", 
        "ODE statesF: [uM]  0.18353608592", 
        "ODE states Flux [mM/ms]:  [ -8.23236512e-07  -6.40573536e-05]", 
        "ODE states Flux [uM/ms]:  [-0.00082324 -0.06405735]", 
        "WARNING: jSR and dCa are lumped tother into jVold", 
        "WARNING: I probably need to constrain jvolExpr s.t. the assembled value is equal to the ODE value", 
        "jboundary [mM/ms] 9.98769085059e-06", 
        "jboundary [uM/ms] 0.00998769085059", 
        "jvol [mM/ms]  -1.08147999539e-05", 
        "jvol [uM/ms]  -10.8147999539", 
        "##", 
        "## WARNING: we are not updating CaTnC!!!", 
        "##", 
        "T 3700.000000 [ms] Conc(0) 0.000183 [mM]"
       ]
      }, 
      {
       "output_type": "stream", 
       "stream": "stdout", 
       "text": [
        "", 
        "T 3700.000000 [ms] Conc(0) 0.182599 [uM]", 
        "T 3700.000000 [ms] Conc(1) 0.025588 [mM]", 
        "T 3700.000000 [ms] Conc(1) 25.588410 [uM]", 
        "WARNING: skipping conc updatee", 
        "###########################################################################", 
        "t0  3700.0 tf  3710.0", 
        "ODE Init [mM] [ 0.00018354  0.01885627]", 
        "t0 3700.000000 tf 3710.000000 [ms]", 
        "ODE statesF: [mM] "
       ]
      }, 
      {
       "output_type": "stream", 
       "stream": "stdout", 
       "text": [
        " [ 0.00018148  0.01826757]", 
        "ODE statesF: [uM]  0.18147897144", 
        "ODE states Flux [mM/ms]:  [ -2.05711448e-07  -5.88699420e-05]", 
        "ODE states Flux [uM/ms]:  [-0.00020571 -0.05886994]", 
        "WARNING: jSR and dCa are lumped tother into jVold", 
        "WARNING: I probably need to constrain jvolExpr s.t. the assembled value is equal to the ODE value", 
        "jboundary [mM/ms] 1.41430354302e-05", 
        "jboundary [uM/ms] 0.0141430354302", 
        "jvol [mM/ms]  -1.44402881326e-05", 
        "jvol [uM/ms]  -14.4402881326", 
        "##", 
        "## WARNING: we are not updating CaTnC!!!", 
        "##", 
        "T 3710.000000 [ms] Conc(0) 0.000180 [mM]"
       ]
      }, 
      {
       "output_type": "stream", 
       "stream": "stdout", 
       "text": [
        "", 
        "T 3710.000000 [ms] Conc(0) 0.179626 [uM]", 
        "T 3710.000000 [ms] Conc(1) 0.025588 [mM]", 
        "T 3710.000000 [ms] Conc(1) 25.588410 [uM]", 
        "WARNING: skipping conc updatee", 
        "###########################################################################", 
        "t0  3710.0 tf  3720.0", 
        "ODE Init [mM] [ 0.00018148  0.01826757]", 
        "t0 3710.000000 tf 3720.000000 [ms]", 
        "ODE statesF: [mM] "
       ]
      }, 
      {
       "output_type": "stream", 
       "stream": "stdout", 
       "text": [
        " [ 0.00018842  0.01786265]", 
        "ODE statesF: [uM]  0.188417398736", 
        "ODE states Flux [mM/ms]:  [  6.93842730e-07  -4.04918007e-05]", 
        "ODE states Flux [uM/ms]:  [ 0.00069384 -0.0404918 ]", 
        "WARNING: jSR and dCa are lumped tother into jVold", 
        "WARNING: I probably need to constrain jvolExpr s.t. the assembled value is equal to the ODE value", 
        "jboundary [mM/ms] 4.82709638151e-05", 
        "jboundary [uM/ms] 0.0482709638151", 
        "jvol [mM/ms]  -4.76130325497e-05", 
        "jvol [uM/ms]  -47.6130325497", 
        "##", 
        "## WARNING: we are not updating CaTnC!!!", 
        "##", 
        "T 3720.000000 [ms] Conc(0) 0.000186 [mM]"
       ]
      }, 
      {
       "output_type": "stream", 
       "stream": "stdout", 
       "text": [
        "", 
        "T 3720.000000 [ms] Conc(0) 0.186205 [uM]", 
        "T 3720.000000 [ms] Conc(1) 0.025588 [mM]", 
        "T 3720.000000 [ms] Conc(1) 25.588410 [uM]", 
        "WARNING: skipping conc updatee", 
        "###########################################################################", 
        "t0  3720.0 tf  3730.0", 
        "ODE Init [mM] [ 0.00018842  0.01786265]", 
        "t0 3720.000000 tf 3730.000000 [ms]", 
        "ODE statesF: [mM] "
       ]
      }, 
      {
       "output_type": "stream", 
       "stream": "stdout", 
       "text": [
        " [ 0.0002144   0.01776278]", 
        "ODE statesF: [uM]  0.214403792138", 
        "ODE states Flux [mM/ms]:  [  2.59863934e-06  -9.98719673e-06]", 
        "ODE states Flux [uM/ms]:  [ 0.00259864 -0.0099872 ]", 
        "WARNING: jSR and dCa are lumped tother into jVold", 
        "WARNING: I probably need to constrain jvolExpr s.t. the assembled value is equal to the ODE value", 
        "jboundary [mM/ms] 0.000107150248156", 
        "jboundary [uM/ms] 0.107150248156", 
        "jvol [mM/ms]  -0.00010475335926", 
        "jvol [uM/ms]  -104.75335926", 
        "##", 
        "## WARNING: we are not updating CaTnC!!!", 
        "##", 
        "T 3730.000000 [ms] Conc(0) 0.000210 [mM]"
       ]
      }, 
      {
       "output_type": "stream", 
       "stream": "stdout", 
       "text": [
        "", 
        "T 3730.000000 [ms] Conc(0) 0.210174 [uM]", 
        "T 3730.000000 [ms] Conc(1) 0.025588 [mM]", 
        "T 3730.000000 [ms] Conc(1) 25.588410 [uM]", 
        "WARNING: skipping conc updatee", 
        "###########################################################################", 
        "t0  3730.0 tf  3740.0", 
        "ODE Init [mM] [ 0.0002144   0.01776278]", 
        "t0 3730.000000 tf 3740.000000 [ms]", 
        "ODE statesF: [mM] "
       ]
      }, 
      {
       "output_type": "stream", 
       "stream": "stdout", 
       "text": [
        " [ 0.00033421  0.0186856 ]", 
        "ODE statesF: [uM]  0.334213723788", 
        "ODE states Flux [mM/ms]:  [  1.19809932e-05   9.22823011e-05]", 
        "ODE states Flux [uM/ms]:  [ 0.01198099  0.0922823 ]", 
        "WARNING: jSR and dCa are lumped tother into jVold", 
        "WARNING: I probably need to constrain jvolExpr s.t. the assembled value is equal to the ODE value", 
        "jboundary [mM/ms] 0.000322496099167", 
        "jboundary [uM/ms] 0.322496099167", 
        "jvol [mM/ms]  -0.000311103611521", 
        "jvol [uM/ms]  -311.103611521", 
        "##", 
        "## WARNING: we are not updating CaTnC!!!", 
        "##", 
        "T 3740.000000 [ms] Conc(0) 0.000324 [mM]"
       ]
      }, 
      {
       "output_type": "stream", 
       "stream": "stdout", 
       "text": [
        "", 
        "T 3740.000000 [ms] Conc(0) 0.324099 [uM]", 
        "T 3740.000000 [ms] Conc(1) 0.025588 [mM]", 
        "T 3740.000000 [ms] Conc(1) 25.588410 [uM]", 
        "WARNING: skipping conc updatee", 
        "###########################################################################", 
        "t0  3740.0 tf  3750.0", 
        "ODE Init [mM] [ 0.00033421  0.0186856 ]", 
        "t0 3740.000000 tf 3750.000000 [ms]", 
        "ODE statesF: [mM] "
       ]
      }, 
      {
       "output_type": "stream", 
       "stream": "stdout", 
       "text": [
        " [ 0.00045684  0.02139164]", 
        "ODE statesF: [uM]  0.456842570215", 
        "ODE states Flux [mM/ms]:  [  1.22628846e-05   2.70603898e-04]", 
        "ODE states Flux [uM/ms]:  [ 0.01226288  0.2706039 ]", 
        "WARNING: jSR and dCa are lumped tother into jVold", 
        "WARNING: I probably need to constrain jvolExpr s.t. the assembled value is equal to the ODE value", 
        "jboundary [mM/ms] 0.000659242996256", 
        "jboundary [uM/ms] 0.659242996256", 
        "jvol [mM/ms]  -0.000646481579397", 
        "jvol [uM/ms]  -646.481579397", 
        "##", 
        "## WARNING: we are not updating CaTnC!!!", 
        "##", 
        "T 3750.000000 [ms] Conc(0) 0.000452 [mM]"
       ]
      }, 
      {
       "output_type": "stream", 
       "stream": "stdout", 
       "text": [
        "", 
        "T 3750.000000 [ms] Conc(0) 0.451713 [uM]", 
        "T 3750.000000 [ms] Conc(1) 0.025588 [mM]", 
        "T 3750.000000 [ms] Conc(1) 25.588410 [uM]", 
        "WARNING: skipping conc updatee", 
        "###########################################################################", 
        "t0  3750.0 tf  3760.0", 
        "ODE Init [mM] [ 0.00045684  0.02139164]", 
        "t0 3750.000000 tf 3760.000000 [ms]", 
        "ODE statesF: [mM] "
       ]
      }, 
      {
       "output_type": "stream", 
       "stream": "stdout", 
       "text": [
        " [ 0.00049342  0.02429066]", 
        "ODE statesF: [uM]  0.493422200585", 
        "ODE states Flux [mM/ms]:  [  3.65796304e-06   2.89901607e-04]", 
        "ODE states Flux [uM/ms]:  [ 0.00365796  0.28990161]", 
        "WARNING: jSR and dCa are lumped tother into jVold", 
        "WARNING: I probably need to constrain jvolExpr s.t. the assembled value is equal to the ODE value", 
        "jboundary [mM/ms] 0.00063017183152", 
        "jboundary [uM/ms] 0.63017183152", 
        "jvol [mM/ms]  -0.0006262464539", 
        "jvol [uM/ms]  -626.2464539", 
        "##", 
        "## WARNING: we are not updating CaTnC!!!", 
        "##", 
        "T 3760.000000 [ms] Conc(0) 0.000491 [mM]"
       ]
      }, 
      {
       "output_type": "stream", 
       "stream": "stdout", 
       "text": [
        "", 
        "T 3760.000000 [ms] Conc(0) 0.490967 [uM]", 
        "T 3760.000000 [ms] Conc(1) 0.025588 [mM]", 
        "T 3760.000000 [ms] Conc(1) 25.588410 [uM]", 
        "WARNING: skipping conc updatee", 
        "###########################################################################", 
        "t0  3760.0 tf  3770.0", 
        "ODE Init [mM] [ 0.00049342  0.02429066]", 
        "t0 3760.000000 tf 3770.000000 [ms]", 
        "ODE statesF: [mM] "
       ]
      }, 
      {
       "output_type": "stream", 
       "stream": "stdout", 
       "text": [
        " [ 0.00049932  0.02654326]", 
        "ODE statesF: [uM]  0.499322127255", 
        "ODE states Flux [mM/ms]:  [  5.89992667e-07   2.25260371e-04]", 
        "ODE states Flux [uM/ms]:  [ 0.00058999  0.22526037]", 
        "WARNING: jSR and dCa are lumped tother into jVold", 
        "WARNING: I probably need to constrain jvolExpr s.t. the assembled value is equal to the ODE value", 
        "jboundary [mM/ms] 0.000489215766187", 
        "jboundary [uM/ms] 0.489215766187", 
        "jvol [mM/ms]  -0.00048854057207", 
        "jvol [uM/ms]  -488.54057207", 
        "##", 
        "## WARNING: we are not updating CaTnC!!!", 
        "##", 
        "T 3770.000000 [ms] Conc(0) 0.000498 [mM]"
       ]
      }, 
      {
       "output_type": "stream", 
       "stream": "stdout", 
       "text": [
        "", 
        "T 3770.000000 [ms] Conc(0) 0.497719 [uM]", 
        "T 3770.000000 [ms] Conc(1) 0.025588 [mM]", 
        "T 3770.000000 [ms] Conc(1) 25.588410 [uM]", 
        "WARNING: skipping conc updatee", 
        "###########################################################################", 
        "t0  3770.0 tf  3780.0", 
        "ODE Init [mM] [ 0.00049932  0.02654326]", 
        "t0 3770.000000 tf 3780.000000 [ms]", 
        "ODE statesF: [mM] "
       ]
      }, 
      {
       "output_type": "stream", 
       "stream": "stdout", 
       "text": [
        " [ 0.00049402  0.0281081 ]", 
        "ODE statesF: [uM]  0.494018961677", 
        "ODE states Flux [mM/ms]:  [ -5.30316558e-07   1.56483366e-04]", 
        "ODE states Flux [uM/ms]:  [-0.00053032  0.15648337]", 
        "WARNING: jSR and dCa are lumped tother into jVold", 
        "WARNING: I probably need to constrain jvolExpr s.t. the assembled value is equal to the ODE value", 
        "jboundary [mM/ms] 0.000376648535658", 
        "jboundary [uM/ms] 0.376648535658", 
        "jvol [mM/ms]  -0.000377140906428", 
        "jvol [uM/ms]  -377.140906428", 
        "##", 
        "## WARNING: we are not updating CaTnC!!!", 
        "##", 
        "T 3780.000000 [ms] Conc(0) 0.000493 [mM]"
       ]
      }, 
      {
       "output_type": "stream", 
       "stream": "stdout", 
       "text": [
        "", 
        "T 3780.000000 [ms] Conc(0) 0.492795 [uM]", 
        "T 3780.000000 [ms] Conc(1) 0.025588 [mM]", 
        "T 3780.000000 [ms] Conc(1) 25.588410 [uM]", 
        "WARNING: skipping conc updatee", 
        "###########################################################################", 
        "t0  3780.0 tf  3790.0", 
        "ODE Init [mM] [ 0.00049402  0.0281081 ]", 
        "t0 3780.000000 tf 3790.000000 [ms]", 
        "ODE statesF: [mM] "
       ]
      }, 
      {
       "output_type": "stream", 
       "stream": "stdout", 
       "text": [
        " [ 0.00048303  0.02910408]", 
        "ODE statesF: [uM]  0.483025649212", 
        "ODE states Flux [mM/ms]:  [ -1.09933125e-06   9.95981227e-05]", 
        "ODE states Flux [uM/ms]:  [-0.00109933  0.09959812]", 
        "WARNING: jSR and dCa are lumped tother into jVold", 
        "WARNING: I probably need to constrain jvolExpr s.t. the assembled value is equal to the ODE value", 
        "jboundary [mM/ms] 0.000295657057252", 
        "jboundary [uM/ms] 0.295657057252", 
        "jvol [mM/ms]  -0.000296734643897", 
        "jvol [uM/ms]  -296.734643897", 
        "##", 
        "## WARNING: we are not updating CaTnC!!!", 
        "##", 
        "T 3790.000000 [ms] Conc(0) 0.000482 [mM]"
       ]
      }, 
      {
       "output_type": "stream", 
       "stream": "stdout", 
       "text": [
        "", 
        "T 3790.000000 [ms] Conc(0) 0.482019 [uM]", 
        "T 3790.000000 [ms] Conc(1) 0.025588 [mM]", 
        "T 3790.000000 [ms] Conc(1) 25.588410 [uM]", 
        "WARNING: skipping conc updatee", 
        "###########################################################################", 
        "t0  3790.0 tf  3800.0", 
        "ODE Init [mM] [ 0.00048303  0.02910408]", 
        "t0 3790.000000 tf 3800.000000 [ms]", 
        "ODE statesF: [mM] "
       ]
      }, 
      {
       "output_type": "stream", 
       "stream": "stdout", 
       "text": [
        " [ 0.0004686   0.02965734]", 
        "ODE statesF: [uM]  0.46860372442", 
        "ODE states Flux [mM/ms]:  [ -1.44219248e-06   5.53264355e-05]", 
        "ODE states Flux [uM/ms]:  [-0.00144219  0.05532644]", 
        "WARNING: jSR and dCa are lumped tother into jVold", 
        "WARNING: I probably need to constrain jvolExpr s.t. the assembled value is equal to the ODE value", 
        "jboundary [mM/ms] 0.000236741181011", 
        "jboundary [uM/ms] 0.236741181011", 
        "jvol [mM/ms]  -0.000238169872583", 
        "jvol [uM/ms]  -238.169872583", 
        "##", 
        "## WARNING: we are not updating CaTnC!!!", 
        "##", 
        "T 3800.000000 [ms] Conc(0) 0.000468 [mM]"
       ]
      }, 
      {
       "output_type": "stream", 
       "stream": "stdout", 
       "text": [
        "", 
        "T 3800.000000 [ms] Conc(0) 0.467732 [uM]", 
        "T 3800.000000 [ms] Conc(1) 0.025588 [mM]", 
        "T 3800.000000 [ms] Conc(1) 25.588410 [uM]", 
        "WARNING: skipping conc updatee", 
        "###########################################################################", 
        "t0  3800.0 tf  3810.0", 
        "ODE Init [mM] [ 0.0004686   0.02965734]", 
        "t0 3800.000000 tf 3810.000000 [ms]", 
        "ODE statesF: [mM] "
       ]
      }, 
      {
       "output_type": "stream", 
       "stream": "stdout", 
       "text": [
        " [ 0.00045207  0.02987331]", 
        "ODE statesF: [uM]  0.452074401828", 
        "ODE states Flux [mM/ms]:  [ -1.65293226e-06   2.15967422e-05]", 
        "ODE states Flux [uM/ms]:  [-0.00165293  0.02159674]", 
        "WARNING: jSR and dCa are lumped tother into jVold", 
        "WARNING: I probably need to constrain jvolExpr s.t. the assembled value is equal to the ODE value", 
        "jboundary [mM/ms] 0.000193076646771", 
        "jboundary [uM/ms] 0.193076646771", 
        "jvol [mM/ms]  -0.000194721519007", 
        "jvol [uM/ms]  -194.721519007", 
        "##", 
        "## WARNING: we are not updating CaTnC!!!", 
        "##", 
        "T 3810.000000 [ms] Conc(0) 0.000451 [mM]"
       ]
      }, 
      {
       "output_type": "stream", 
       "stream": "stdout", 
       "text": [
        "", 
        "T 3810.000000 [ms] Conc(0) 0.451284 [uM]", 
        "T 3810.000000 [ms] Conc(1) 0.025588 [mM]", 
        "T 3810.000000 [ms] Conc(1) 25.588410 [uM]", 
        "WARNING: skipping conc updatee", 
        "###########################################################################", 
        "t0  3810.0 tf  3820.0", 
        "ODE Init [mM] [ 0.00045207  0.02987331]", 
        "t0 3810.000000 tf 3820.000000 [ms]", 
        "ODE statesF: [mM] "
       ]
      }, 
      {
       "output_type": "stream", 
       "stream": "stdout", 
       "text": [
        " [ 0.00043436  0.02983497]", 
        "ODE statesF: [uM]  0.434362961882", 
        "ODE states Flux [mM/ms]:  [ -1.77114399e-06  -3.83380443e-06]", 
        "ODE states Flux [uM/ms]:  [-0.00177114 -0.0038338 ]", 
        "WARNING: jSR and dCa are lumped tother into jVold", 
        "WARNING: I probably need to constrain jvolExpr s.t. the assembled value is equal to the ODE value", 
        "jboundary [mM/ms] 0.000160273097221", 
        "jboundary [uM/ms] 0.160273097221", 
        "jvol [mM/ms]  -0.000162040151048", 
        "jvol [uM/ms]  -162.040151048", 
        "##", 
        "## WARNING: we are not updating CaTnC!!!", 
        "##", 
        "T 3820.000000 [ms] Conc(0) 0.000434 [mM]"
       ]
      }, 
      {
       "output_type": "stream", 
       "stream": "stdout", 
       "text": [
        "", 
        "T 3820.000000 [ms] Conc(0) 0.433613 [uM]", 
        "T 3820.000000 [ms] Conc(1) 0.025588 [mM]", 
        "T 3820.000000 [ms] Conc(1) 25.588410 [uM]", 
        "WARNING: skipping conc updatee", 
        "###########################################################################", 
        "t0  3820.0 tf  3830.0", 
        "ODE Init [mM] [ 0.00043436  0.02983497]", 
        "t0 3820.000000 tf 3830.000000 [ms]", 
        "ODE statesF: [mM] "
       ]
      }, 
      {
       "output_type": "stream", 
       "stream": "stdout", 
       "text": [
        " [ 0.00041615  0.02960648]", 
        "ODE statesF: [uM]  0.416151259352", 
        "ODE states Flux [mM/ms]:  [ -1.82117025e-06  -2.28487705e-05]", 
        "ODE states Flux [uM/ms]:  [-0.00182117 -0.02284877]", 
        "WARNING: jSR and dCa are lumped tother into jVold", 
        "WARNING: I probably need to constrain jvolExpr s.t. the assembled value is equal to the ODE value", 
        "jboundary [mM/ms] 0.000135390661821", 
        "jboundary [uM/ms] 0.135390661821", 
        "jvol [mM/ms]  -0.00013721067023", 
        "jvol [uM/ms]  -137.21067023", 
        "##", 
        "## WARNING: we are not updating CaTnC!!!", 
        "##", 
        "T 3830.000000 [ms] Conc(0) 0.000415 [mM]"
       ]
      }, 
      {
       "output_type": "stream", 
       "stream": "stdout", 
       "text": [
        "", 
        "T 3830.000000 [ms] Conc(0) 0.415413 [uM]", 
        "T 3830.000000 [ms] Conc(1) 0.025588 [mM]", 
        "T 3830.000000 [ms] Conc(1) 25.588410 [uM]", 
        "WARNING: skipping conc updatee", 
        "###########################################################################", 
        "t0  3830.0 tf  3840.0", 
        "ODE Init [mM] [ 0.00041615  0.02960648]", 
        "t0 3830.000000 tf 3840.000000 [ms]", 
        "ODE statesF: [mM] "
       ]
      }, 
      {
       "output_type": "stream", 
       "stream": "stdout", 
       "text": [
        " [ 0.00039794  0.0292372 ]", 
        "ODE statesF: [uM]  0.397936332262", 
        "ODE states Flux [mM/ms]:  [ -1.82149271e-06  -3.69282553e-05]", 
        "ODE states Flux [uM/ms]:  [-0.00182149 -0.03692826]", 
        "WARNING: jSR and dCa are lumped tother into jVold", 
        "WARNING: I probably need to constrain jvolExpr s.t. the assembled value is equal to the ODE value", 
        "jboundary [mM/ms] 0.000116360886556", 
        "jboundary [uM/ms] 0.116360886556", 
        "jvol [mM/ms]  -0.00011818331657", 
        "jvol [uM/ms]  -118.18331657", 
        "##", 
        "## WARNING: we are not updating CaTnC!!!", 
        "##", 
        "T 3840.000000 [ms] Conc(0) 0.000397 [mM]"
       ]
      }, 
      {
       "output_type": "stream", 
       "stream": "stdout", 
       "text": [
        "", 
        "T 3840.000000 [ms] Conc(0) 0.397189 [uM]", 
        "T 3840.000000 [ms] Conc(1) 0.025588 [mM]", 
        "T 3840.000000 [ms] Conc(1) 25.588410 [uM]", 
        "WARNING: skipping conc updatee", 
        "###########################################################################", 
        "t0  3840.0 tf  3850.0", 
        "ODE Init [mM] [ 0.00039794  0.0292372 ]", 
        "t0 3840.000000 tf 3850.000000 [ms]", 
        "ODE statesF: [mM] "
       ]
      }, 
      {
       "output_type": "stream", 
       "stream": "stdout", 
       "text": [
        " [ 0.00038007  0.02876507]", 
        "ODE statesF: [uM]  0.380066656269", 
        "ODE states Flux [mM/ms]:  [ -1.78696760e-06  -4.72128680e-05]", 
        "ODE states Flux [uM/ms]:  [-0.00178697 -0.04721287]", 
        "WARNING: jSR and dCa are lumped tother into jVold", 
        "WARNING: I probably need to constrain jvolExpr s.t. the assembled value is equal to the ODE value", 
        "jboundary [mM/ms] 0.000101676586679", 
        "jboundary [uM/ms] 0.101676586679", 
        "jvol [mM/ms]  -0.000103465923668", 
        "jvol [uM/ms]  -103.465923668", 
        "##", 
        "## WARNING: we are not updating CaTnC!!!", 
        "##", 
        "T 3850.000000 [ms] Conc(0) 0.000379 [mM]"
       ]
      }, 
      {
       "output_type": "stream", 
       "stream": "stdout", 
       "text": [
        "", 
        "T 3850.000000 [ms] Conc(0) 0.379295 [uM]", 
        "T 3850.000000 [ms] Conc(1) 0.025588 [mM]", 
        "T 3850.000000 [ms] Conc(1) 25.588410 [uM]", 
        "WARNING: skipping conc updatee", 
        "###########################################################################", 
        "t0  3850.0 tf  3860.0", 
        "ODE Init [mM] [ 0.00038007  0.02876507]", 
        "t0 3850.000000 tf 3860.000000 [ms]", 
        "ODE statesF: [mM] "
       ]
      }, 
      {
       "output_type": "stream", 
       "stream": "stdout", 
       "text": [
        " [ 0.00036277  0.02821928]", 
        "ODE statesF: [uM]  0.362771955096", 
        "ODE states Flux [mM/ms]:  [ -1.72947012e-06  -5.45795146e-05]", 
        "ODE states Flux [uM/ms]:  [-0.00172947 -0.05457951]", 
        "WARNING: jSR and dCa are lumped tother into jVold", 
        "WARNING: I probably need to constrain jvolExpr s.t. the assembled value is equal to the ODE value", 
        "jboundary [mM/ms] 9.02154438364e-05", 
        "jboundary [uM/ms] 0.0902154438364", 
        "jvol [mM/ms]  -9.19481866348e-05", 
        "jvol [uM/ms]  -91.9481866348", 
        "##", 
        "## WARNING: we are not updating CaTnC!!!", 
        "##", 
        "T 3860.000000 [ms] Conc(0) 0.000362 [mM]"
       ]
      }, 
      {
       "output_type": "stream", 
       "stream": "stdout", 
       "text": [
        "", 
        "T 3860.000000 [ms] Conc(0) 0.361968 [uM]", 
        "T 3860.000000 [ms] Conc(1) 0.025588 [mM]", 
        "T 3860.000000 [ms] Conc(1) 25.588410 [uM]", 
        "WARNING: skipping conc updatee", 
        "###########################################################################", 
        "t0  3860.0 tf  3870.0", 
        "ODE Init [mM] [ 0.00036277  0.02821928]", 
        "t0 3860.000000 tf 3870.000000 [ms]", 
        "ODE statesF: [mM] "
       ]
      }, 
      {
       "output_type": "stream", 
       "stream": "stdout", 
       "text": [
        " [ 0.00034619  0.02762221]", 
        "ODE statesF: [uM]  0.346188350475", 
        "ODE states Flux [mM/ms]:  [ -1.65836046e-06  -5.97070651e-05]", 
        "ODE states Flux [uM/ms]:  [-0.00165836 -0.05970707]", 
        "WARNING: jSR and dCa are lumped tother into jVold", 
        "WARNING: I probably need to constrain jvolExpr s.t. the assembled value is equal to the ODE value", 
        "jboundary [mM/ms] 8.11286146724e-05", 
        "jboundary [uM/ms] 0.0811286146724", 
        "jvol [mM/ms]  -8.27907360115e-05", 
        "jvol [uM/ms]  -82.7907360115", 
        "##", 
        "## WARNING: we are not updating CaTnC!!!", 
        "##", 
        "T 3870.000000 [ms] Conc(0) 0.000345 [mM]"
       ]
      }, 
      {
       "output_type": "stream", 
       "stream": "stdout", 
       "text": [
        "", 
        "T 3870.000000 [ms] Conc(0) 0.345347 [uM]", 
        "T 3870.000000 [ms] Conc(1) 0.025588 [mM]", 
        "T 3870.000000 [ms] Conc(1) 25.588410 [uM]", 
        "WARNING: skipping conc updatee", 
        "###########################################################################", 
        "t0  3870.0 tf  3880.0", 
        "ODE Init [mM] [ 0.00034619  0.02762221]", 
        "t0 3870.000000 tf 3880.000000 [ms]", 
        "ODE statesF: [mM] "
       ]
      }, 
      {
       "output_type": "stream", 
       "stream": "stdout", 
       "text": [
        " [ 0.00033038  0.02699093]", 
        "ODE statesF: [uM]  0.330378079358", 
        "ODE states Flux [mM/ms]:  [ -1.58102711e-06  -6.31275936e-05]", 
        "ODE states Flux [uM/ms]:  [-0.00158103 -0.06312759]", 
        "WARNING: jSR and dCa are lumped tother into jVold", 
        "WARNING: I probably need to constrain jvolExpr s.t. the assembled value is equal to the ODE value", 
        "jboundary [mM/ms] 7.37620911725e-05", 
        "jboundary [uM/ms] 0.0737620911725", 
        "jvol [mM/ms]  -7.53470355472e-05", 
        "jvol [uM/ms]  -75.3470355472", 
        "##", 
        "## WARNING: we are not updating CaTnC!!!", 
        "##", 
        "T 3880.000000 [ms] Conc(0) 0.000329 [mM]"
       ]
      }, 
      {
       "output_type": "stream", 
       "stream": "stdout", 
       "text": [
        "", 
        "T 3880.000000 [ms] Conc(0) 0.329497 [uM]", 
        "T 3880.000000 [ms] Conc(1) 0.025588 [mM]", 
        "T 3880.000000 [ms] Conc(1) 25.588410 [uM]", 
        "WARNING: skipping conc updatee", 
        "###########################################################################", 
        "t0  3880.0 tf  3890.0", 
        "ODE Init [mM] [ 0.00033038  0.02699093]", 
        "t0 3880.000000 tf 3890.000000 [ms]", 
        "ODE statesF: [mM] "
       ]
      }, 
      {
       "output_type": "stream", 
       "stream": "stdout", 
       "text": [
        " [ 0.00031534  0.02633825]", 
        "ODE statesF: [uM]  0.315342621655", 
        "ODE states Flux [mM/ms]:  [ -1.50354577e-06  -6.52678319e-05]", 
        "ODE states Flux [uM/ms]:  [-0.00150355 -0.06526783]", 
        "WARNING: jSR and dCa are lumped tother into jVold", 
        "WARNING: I probably need to constrain jvolExpr s.t. the assembled value is equal to the ODE value", 
        "jboundary [mM/ms] 6.75949477997e-05", 
        "jboundary [uM/ms] 0.0675949477997", 
        "jvol [mM/ms]  -6.91022833362e-05", 
        "jvol [uM/ms]  -69.1022833362", 
        "##", 
        "## WARNING: we are not updating CaTnC!!!", 
        "##", 
        "T 3890.000000 [ms] Conc(0) 0.000314 [mM]"
       ]
      }, 
      {
       "output_type": "stream", 
       "stream": "stdout", 
       "text": [
        "", 
        "T 3890.000000 [ms] Conc(0) 0.314424 [uM]", 
        "T 3890.000000 [ms] Conc(1) 0.025588 [mM]", 
        "T 3890.000000 [ms] Conc(1) 25.588410 [uM]", 
        "WARNING: skipping conc updatee", 
        "###########################################################################", 
        "t0  3890.0 tf  3900.0", 
        "ODE Init [mM] [ 0.00031534  0.02633825]", 
        "t0 3890.000000 tf 3900.000000 [ms]", 
        "ODE statesF: [mM] "
       ]
      }, 
      {
       "output_type": "stream", 
       "stream": "stdout", 
       "text": [
        " [ 0.00030103  0.02567341]", 
        "ODE statesF: [uM]  0.301027867356", 
        "ODE states Flux [mM/ms]:  [ -1.43147543e-06  -6.64842103e-05]", 
        "ODE states Flux [uM/ms]:  [-0.00143148 -0.06648421]", 
        "WARNING: jSR and dCa are lumped tother into jVold", 
        "WARNING: I probably need to constrain jvolExpr s.t. the assembled value is equal to the ODE value", 
        "jboundary [mM/ms] 6.21842891968e-05", 
        "jboundary [uM/ms] 0.0621842891968", 
        "jvol [mM/ms]  -6.36191463044e-05", 
        "jvol [uM/ms]  -63.6191463044", 
        "##", 
        "## WARNING: we are not updating CaTnC!!!", 
        "##", 
        "T 3900.000000 [ms] Conc(0) 0.000300 [mM]"
       ]
      }, 
      {
       "output_type": "stream", 
       "stream": "stdout", 
       "text": [
        "", 
        "T 3900.000000 [ms] Conc(0) 0.300075 [uM]", 
        "T 3900.000000 [ms] Conc(1) 0.025588 [mM]", 
        "T 3900.000000 [ms] Conc(1) 25.588410 [uM]", 
        "WARNING: skipping conc updatee", 
        "###########################################################################", 
        "t0  3900.0 tf  3910.0", 
        "ODE Init [mM] [ 0.00030103  0.02567341]", 
        "t0 3900.000000 tf 3910.000000 [ms]", 
        "ODE statesF: [mM] "
       ]
      }, 
      {
       "output_type": "stream", 
       "stream": "stdout", 
       "text": [
        " [ 0.00028732  0.02500244]", 
        "ODE statesF: [uM]  0.287319076451", 
        "ODE states Flux [mM/ms]:  [ -1.37087909e-06  -6.70968173e-05]", 
        "ODE states Flux [uM/ms]:  [-0.00137088 -0.06709682]", 
        "WARNING: jSR and dCa are lumped tother into jVold", 
        "WARNING: I probably need to constrain jvolExpr s.t. the assembled value is equal to the ODE value", 
        "jboundary [mM/ms] 5.71070976745e-05", 
        "jboundary [uM/ms] 0.0571070976745", 
        "jvol [mM/ms]  -5.84806166696e-05", 
        "jvol [uM/ms]  -58.4806166696", 
        "##", 
        "## WARNING: we are not updating CaTnC!!!", 
        "##", 
        "T 3910.000000 [ms] Conc(0) 0.000286 [mM]"
       ]
      }, 
      {
       "output_type": "stream", 
       "stream": "stdout", 
       "text": [
        "", 
        "T 3910.000000 [ms] Conc(0) 0.286340 [uM]", 
        "T 3910.000000 [ms] Conc(1) 0.025588 [mM]", 
        "T 3910.000000 [ms] Conc(1) 25.588410 [uM]", 
        "WARNING: skipping conc updatee", 
        "###########################################################################", 
        "t0  3910.0 tf  3920.0", 
        "ODE Init [mM] [ 0.00028732  0.02500244]", 
        "t0 3910.000000 tf 3920.000000 [ms]", 
        "ODE statesF: [mM] "
       ]
      }, 
      {
       "output_type": "stream", 
       "stream": "stdout", 
       "text": [
        " [ 0.00027403  0.02432818]", 
        "ODE statesF: [uM]  0.274026510091", 
        "ODE states Flux [mM/ms]:  [ -1.32925664e-06  -6.74262613e-05]", 
        "ODE states Flux [uM/ms]:  [-0.00132926 -0.06742626]", 
        "WARNING: jSR and dCa are lumped tother into jVold", 
        "WARNING: I probably need to constrain jvolExpr s.t. the assembled value is equal to the ODE value", 
        "jboundary [mM/ms] 5.18915244764e-05", 
        "jboundary [uM/ms] 0.0518915244764", 
        "jvol [mM/ms]  -5.32222766661e-05", 
        "jvol [uM/ms]  -53.2222766661", 
        "##", 
        "## WARNING: we are not updating CaTnC!!!", 
        "##", 
        "T 3920.000000 [ms] Conc(0) 0.000273 [mM]"
       ]
      }, 
      {
       "output_type": "stream", 
       "stream": "stdout", 
       "text": [
        "", 
        "T 3920.000000 [ms] Conc(0) 0.273033 [uM]", 
        "T 3920.000000 [ms] Conc(1) 0.025588 [mM]", 
        "T 3920.000000 [ms] Conc(1) 25.588410 [uM]", 
        "WARNING: skipping conc updatee", 
        "###########################################################################", 
        "t0  3920.0 tf  3930.0", 
        "ODE Init [mM] [ 0.00027403  0.02432818]", 
        "t0 3920.000000 tf 3930.000000 [ms]", 
        "ODE statesF: [mM] "
       ]
      }, 
      {
       "output_type": "stream", 
       "stream": "stdout", 
       "text": [
        " [ 0.0002609   0.02365003]", 
        "ODE statesF: [uM]  0.260901548995", 
        "ODE states Flux [mM/ms]:  [ -1.31249611e-06  -6.78150844e-05]", 
        "ODE states Flux [uM/ms]:  [-0.0013125  -0.06781508]", 
        "WARNING: jSR and dCa are lumped tother into jVold", 
        "WARNING: I probably need to constrain jvolExpr s.t. the assembled value is equal to the ODE value", 
        "jboundary [mM/ms] 4.59798318087e-05", 
        "jboundary [uM/ms] 0.0459798318087", 
        "jvol [mM/ms]  -4.72926404953e-05", 
        "jvol [uM/ms]  -47.2926404953", 
        "##", 
        "## WARNING: we are not updating CaTnC!!!", 
        "##", 
        "T 3930.000000 [ms] Conc(0) 0.000260 [mM]"
       ]
      }, 
      {
       "output_type": "stream", 
       "stream": "stdout", 
       "text": [
        "", 
        "T 3930.000000 [ms] Conc(0) 0.259905 [uM]", 
        "T 3930.000000 [ms] Conc(1) 0.025588 [mM]", 
        "T 3930.000000 [ms] Conc(1) 25.588410 [uM]", 
        "WARNING: skipping conc updatee", 
        "###########################################################################", 
        "t0  3930.0 tf  3940.0", 
        "ODE Init [mM] [ 0.0002609   0.02365003]", 
        "t0 3930.000000 tf 3940.000000 [ms]", 
        "ODE statesF: [mM] "
       ]
      }, 
      {
       "output_type": "stream", 
       "stream": "stdout", 
       "text": [
        " [ 0.00024784  0.02296501]", 
        "ODE statesF: [uM]  0.247844310095", 
        "ODE states Flux [mM/ms]:  [ -1.30572389e-06  -6.85021279e-05]", 
        "ODE states Flux [uM/ms]:  [-0.00130572 -0.06850213]", 
        "WARNING: jSR and dCa are lumped tother into jVold", 
        "WARNING: I probably need to constrain jvolExpr s.t. the assembled value is equal to the ODE value", 
        "jboundary [mM/ms] 3.90167434862e-05", 
        "jboundary [uM/ms] 0.0390167434862", 
        "jvol [mM/ms]  -4.03232130998e-05", 
        "jvol [uM/ms]  -40.3232130998", 
        "##", 
        "## WARNING: we are not updating CaTnC!!!", 
        "##", 
        "T 3940.000000 [ms] Conc(0) 0.000247 [mM]"
       ]
      }, 
      {
       "output_type": "stream", 
       "stream": "stdout", 
       "text": [
        "", 
        "T 3940.000000 [ms] Conc(0) 0.246840 [uM]", 
        "T 3940.000000 [ms] Conc(1) 0.025588 [mM]", 
        "T 3940.000000 [ms] Conc(1) 25.588410 [uM]", 
        "WARNING: skipping conc updatee", 
        "###########################################################################", 
        "t0  3940.0 tf  3950.0", 
        "ODE Init [mM] [ 0.00024784  0.02296501]", 
        "t0 3940.000000 tf 3950.000000 [ms]", 
        "ODE statesF: [mM] "
       ]
      }, 
      {
       "output_type": "stream", 
       "stream": "stdout", 
       "text": [
        " [ 0.00023496  0.02227162]", 
        "ODE statesF: [uM]  0.234963626222", 
        "ODE states Flux [mM/ms]:  [ -1.28806839e-06  -6.93386460e-05]", 
        "ODE states Flux [uM/ms]:  [-0.00128807 -0.06933865]", 
        "WARNING: jSR and dCa are lumped tother into jVold", 
        "WARNING: I probably need to constrain jvolExpr s.t. the assembled value is equal to the ODE value", 
        "jboundary [mM/ms] 3.14636367772e-05", 
        "jboundary [uM/ms] 0.0314636367772", 
        "jvol [mM/ms]  -3.27518827449e-05", 
        "jvol [uM/ms]  -32.7518827449", 
        "##", 
        "## WARNING: we are not updating CaTnC!!!", 
        "##", 
        "T 3950.000000 [ms] Conc(0) 0.000234 [mM]"
       ]
      }, 
      {
       "output_type": "stream", 
       "stream": "stdout", 
       "text": [
        "", 
        "T 3950.000000 [ms] Conc(0) 0.233957 [uM]", 
        "T 3950.000000 [ms] Conc(1) 0.025588 [mM]", 
        "T 3950.000000 [ms] Conc(1) 25.588410 [uM]", 
        "WARNING: skipping conc updatee", 
        "###########################################################################", 
        "t0  3950.0 tf  3960.0", 
        "ODE Init [mM] [ 0.00023496  0.02227162]", 
        "t0 3950.000000 tf 3960.000000 [ms]", 
        "ODE statesF: [mM] "
       ]
      }, 
      {
       "output_type": "stream", 
       "stream": "stdout", 
       "text": [
        " [ 0.00022219  0.02156781]", 
        "ODE statesF: [uM]  0.222188247084", 
        "ODE states Flux [mM/ms]:  [ -1.27753791e-06  -7.03811946e-05]", 
        "ODE states Flux [uM/ms]:  [-0.00127754 -0.07038119]", 
        "WARNING: jSR and dCa are lumped tother into jVold", 
        "WARNING: I probably need to constrain jvolExpr s.t. the assembled value is equal to the ODE value", 
        "jboundary [mM/ms] 2.31667436561e-05", 
        "jboundary [uM/ms] 0.0231667436561", 
        "jvol [mM/ms]  -2.44474391842e-05", 
        "jvol [uM/ms]  -24.4474391842", 
        "##", 
        "## WARNING: we are not updating CaTnC!!!", 
        "##", 
        "T 3960.000000 [ms] Conc(0) 0.000221 [mM]"
       ]
      }, 
      {
       "output_type": "stream", 
       "stream": "stdout", 
       "text": [
        "", 
        "T 3960.000000 [ms] Conc(0) 0.221151 [uM]", 
        "T 3960.000000 [ms] Conc(1) 0.025588 [mM]", 
        "T 3960.000000 [ms] Conc(1) 25.588410 [uM]", 
        "WARNING: skipping conc updatee", 
        "###########################################################################", 
        "t0  3960.0 tf  3970.0", 
        "ODE Init [mM] [ 0.00022219  0.02156781]", 
        "t0 3960.000000 tf 3970.000000 [ms]", 
        "ODE statesF: [mM] "
       ]
      }, 
      {
       "output_type": "stream", 
       "stream": "stdout", 
       "text": [
        " [ 0.00021084  0.02086147]", 
        "ODE statesF: [uM]  0.210839332649", 
        "ODE states Flux [mM/ms]:  [ -1.13489144e-06  -7.06342123e-05]", 
        "ODE states Flux [uM/ms]:  [-0.00113489 -0.07063421]", 
        "WARNING: jSR and dCa are lumped tother into jVold", 
        "WARNING: I probably need to constrain jvolExpr s.t. the assembled value is equal to the ODE value", 
        "jboundary [mM/ms] 1.64751350937e-05", 
        "jboundary [uM/ms] 0.0164751350937", 
        "jvol [mM/ms]  -1.76184403663e-05", 
        "jvol [uM/ms]  -17.6184403663", 
        "##", 
        "## WARNING: we are not updating CaTnC!!!", 
        "##", 
        "T 3970.000000 [ms] Conc(0) 0.000210 [mM]"
       ]
      }, 
      {
       "output_type": "stream", 
       "stream": "stdout", 
       "text": [
        "", 
        "T 3970.000000 [ms] Conc(0) 0.209717 [uM]", 
        "T 3970.000000 [ms] Conc(1) 0.025588 [mM]", 
        "T 3970.000000 [ms] Conc(1) 25.588410 [uM]", 
        "WARNING: skipping conc updatee", 
        "###########################################################################", 
        "t0  3970.0 tf  3980.0", 
        "ODE Init [mM] [ 0.00021084  0.02086147]", 
        "t0 3970.000000 tf 3980.000000 [ms]", 
        "ODE statesF: [mM] "
       ]
      }, 
      {
       "output_type": "stream", 
       "stream": "stdout", 
       "text": [
        " [ 0.00020081  0.02016976]", 
        "ODE statesF: [uM]  0.200811484723", 
        "ODE states Flux [mM/ms]:  [ -1.00278479e-06  -6.91707461e-05]", 
        "ODE states Flux [uM/ms]:  [-0.00100278 -0.06917075]", 
        "WARNING: jSR and dCa are lumped tother into jVold", 
        "WARNING: I probably need to constrain jvolExpr s.t. the assembled value is equal to the ODE value", 
        "jboundary [mM/ms] 1.32443315688e-05", 
        "jboundary [uM/ms] 0.0132443315688", 
        "jvol [mM/ms]  -1.42525047232e-05", 
        "jvol [uM/ms]  -14.2525047232", 
        "##", 
        "## WARNING: we are not updating CaTnC!!!", 
        "##", 
        "T 3980.000000 [ms] Conc(0) 0.000200 [mM]"
       ]
      }, 
      {
       "output_type": "stream", 
       "stream": "stdout", 
       "text": [
        "", 
        "T 3980.000000 [ms] Conc(0) 0.199636 [uM]", 
        "T 3980.000000 [ms] Conc(1) 0.025588 [mM]", 
        "T 3980.000000 [ms] Conc(1) 25.588410 [uM]", 
        "WARNING: skipping conc updatee", 
        "###########################################################################", 
        "t0  3980.0 tf  3990.0", 
        "ODE Init [mM] [ 0.00020081  0.02016976]", 
        "t0 3980.000000 tf 3990.000000 [ms]", 
        "ODE statesF: [mM] "
       ]
      }, 
      {
       "output_type": "stream", 
       "stream": "stdout", 
       "text": [
        " [ 0.00019175  0.01950096]", 
        "ODE statesF: [uM]  0.191749803326", 
        "ODE states Flux [mM/ms]:  [ -9.06168140e-07  -6.68797489e-05]", 
        "ODE states Flux [uM/ms]:  [-0.00090617 -0.06687975]", 
        "WARNING: jSR and dCa are lumped tother into jVold", 
        "WARNING: I probably need to constrain jvolExpr s.t. the assembled value is equal to the ODE value", 
        "jboundary [mM/ms] 1.12764761655e-05", 
        "jboundary [uM/ms] 0.0112764761655", 
        "jvol [mM/ms]  -1.21870799149e-05", 
        "jvol [uM/ms]  -12.1870799149", 
        "##", 
        "## WARNING: we are not updating CaTnC!!!", 
        "##", 
        "T 3990.000000 [ms] Conc(0) 0.000191 [mM]"
       ]
      }, 
      {
       "output_type": "stream", 
       "stream": "stdout", 
       "text": [
        "", 
        "T 3990.000000 [ms] Conc(0) 0.190530 [uM]", 
        "T 3990.000000 [ms] Conc(1) 0.025588 [mM]", 
        "T 3990.000000 [ms] Conc(1) 25.588410 [uM]", 
        "WARNING: skipping conc updatee", 
        "###########################################################################", 
        "t0  3990.0 tf  4000.0", 
        "ODE Init [mM] [ 0.00019175  0.01950096]", 
        "t0 3990.000000 tf 4000.000000 [ms]", 
        "ODE statesF: [mM] "
       ]
      }, 
      {
       "output_type": "stream", 
       "stream": "stdout", 
       "text": [
        " [ 0.00018351  0.01885916]", 
        "ODE statesF: [uM]  0.183514306511", 
        "ODE states Flux [mM/ms]:  [ -8.23549681e-07  -6.41805351e-05]", 
        "ODE states Flux [uM/ms]:  [-0.00082355 -0.06418054]", 
        "WARNING: jSR and dCa are lumped tother into jVold", 
        "WARNING: I probably need to constrain jvolExpr s.t. the assembled value is equal to the ODE value", 
        "jboundary [mM/ms] 9.90429701222e-06", 
        "jboundary [uM/ms] 0.00990429701222", 
        "jvol [mM/ms]  -1.07317197315e-05", 
        "jvol [uM/ms]  -10.7317197315", 
        "##", 
        "## WARNING: we are not updating CaTnC!!!", 
        "##", 
        "T 4000.000000 [ms] Conc(0) 0.000182 [mM]"
       ]
      }, 
      {
       "output_type": "stream", 
       "stream": "stdout", 
       "text": [
        "", 
        "T 4000.000000 [ms] Conc(0) 0.182255 [uM]", 
        "T 4000.000000 [ms] Conc(1) 0.025588 [mM]", 
        "T 4000.000000 [ms] Conc(1) 25.588410 [uM]", 
        "WARNING: skipping conc updatee", 
        "### Mode separateFlux passes!"
       ]
      }, 
      {
       "output_type": "pyout", 
       "prompt_number": 1, 
       "text": [
        "(<templateGotran.MyEqn; proxy of <Swig Object of type 'dolfin::NonlinearProblem *' at 0x634c2d0> >,", 
        " <templateGotran.empty instance at 0x5be5dd0>)"
       ]
      }, 
      {
       "output_type": "display_data", 
       "png": "[encoded data removed]"
      }
     ], 
     "prompt_number": 1
    }, 
    {
     "cell_type": "code", 
     "collapsed": false, 
     "input": [
      "case = empty()", 
      "case.pickleName = \"test1.pkl\"", 
      "pkl_file = open(case.pickleName, 'rb')", 
      "data1 = pickle.load(pkl_file)", 
      "case.jSRs = data1['jSRs']", 
      "case.cs = data1['cs']", 
      "case.cbs = data1['cbs']", 
      "case.ts = data1['ts']", 
      "dir(data1)", 
      "pkl_file.close()", 
      "", 
      "", 
      "plt.plot(case.ts,case.cs[1:])"
     ], 
     "language": "python", 
     "outputs": [
      {
       "output_type": "stream", 
       "stream": "stdout", 
       "text": [
        "0.000299746983588", 
        "0.00018225547776"
       ]
      }, 
      {
       "output_type": "display_data", 
       "png": "[encoded data removed]"
      }
     ], 
     "prompt_number": 16
    }, 
    {
     "cell_type": "markdown", 
     "source": [
      "#### Kmf revised "
     ]
    }, 
    {
     "cell_type": "code", 
     "collapsed": false, 
     "input": [
      "gt.cparams.plot = False", 
      "pi = gt.cparams()                                         ", 
      "  ", 
      "M_to_mM=1e3", 
      "Kmf_guess = 5.e-7*M_to_mM", 
      "pi.odeParams[param_indices(\"Kmf\")] = Kmf_guess                                                                ", 
      "", 
      "problemKmf, resultsKmf = gt.loop(pi,case=\"test1\",mode=\"separateFlux\") "
     ], 
     "language": "python", 
     "outputs": [
      {
       "ename": "AttributeError", 
       "evalue": "cparams instance has no attribute 'odeParams'", 
       "output_type": "pyerr", 
       "traceback": [
        "\u001b[0;31m---------------------------------------------------------------------------\u001b[0m\n\u001b[0;31mAttributeError\u001b[0m                            Traceback (most recent call last)", 
        "\u001b[0;32m/home/huskeypm/localTemp/wholecell/<ipython-input-17-f2299a26e5b1>\u001b[0m in \u001b[0;36m<module>\u001b[0;34m()\u001b[0m\n\u001b[1;32m      4\u001b[0m \u001b[0mM_to_mM\u001b[0m\u001b[0;34m=\u001b[0m\u001b[0;36m1e3\u001b[0m\u001b[0;34m\u001b[0m\u001b[0m\n\u001b[1;32m      5\u001b[0m \u001b[0mKmf_guess\u001b[0m \u001b[0;34m=\u001b[0m \u001b[0;36m5.e-7\u001b[0m\u001b[0;34m*\u001b[0m\u001b[0mM_to_mM\u001b[0m\u001b[0;34m\u001b[0m\u001b[0m\n\u001b[0;32m----> 6\u001b[0;31m \u001b[0mpi\u001b[0m\u001b[0;34m.\u001b[0m\u001b[0modeParams\u001b[0m\u001b[0;34m[\u001b[0m\u001b[0mparam_indices\u001b[0m\u001b[0;34m(\u001b[0m\u001b[0;34m\"Kmf\"\u001b[0m\u001b[0;34m)\u001b[0m\u001b[0;34m]\u001b[0m \u001b[0;34m=\u001b[0m \u001b[0mKmf_guess\u001b[0m\u001b[0;34m\u001b[0m\u001b[0m\n\u001b[0m\u001b[1;32m      7\u001b[0m \u001b[0;34m\u001b[0m\u001b[0m\n\u001b[1;32m      8\u001b[0m \u001b[0mproblemKmf\u001b[0m\u001b[0;34m,\u001b[0m \u001b[0mresultsKmf\u001b[0m \u001b[0;34m=\u001b[0m \u001b[0mgt\u001b[0m\u001b[0;34m.\u001b[0m\u001b[0mloop\u001b[0m\u001b[0;34m(\u001b[0m\u001b[0mpi\u001b[0m\u001b[0;34m,\u001b[0m\u001b[0mcase\u001b[0m\u001b[0;34m=\u001b[0m\u001b[0;34m\"test1\"\u001b[0m\u001b[0;34m,\u001b[0m\u001b[0mmode\u001b[0m\u001b[0;34m=\u001b[0m\u001b[0;34m\"separateFlux\"\u001b[0m\u001b[0;34m)\u001b[0m\u001b[0;34m\u001b[0m\u001b[0m\n", 
        "\u001b[0;31mAttributeError\u001b[0m: cparams instance has no attribute 'odeParams'"
       ]
      }
     ], 
     "prompt_number": 17
    }, 
    {
     "cell_type": "markdown", 
     "source": [
      "### Production ", 
      "- R9Q", 
      "- RN9C", 
      "- WT", 
      "- add 2D Ca (and possible CaSR) plot for each "
     ]
    }, 
    {
     "cell_type": "code", 
     "collapsed": false, 
     "input": [
      "%%capture captured", 
      "gt.cparams.plot = False", 
      "duration = 50", 
      "", 
      "run=0", 
      "if(run):", 
      "  # case 1 ", 
      "  pi = gt.cparams()", 
      "  problem1, results1 = gt.loop(pi,case=\"case1\",duration=duration);", 
      "                             ", 
      "  # case 2 ", 
      "  pi = gt.cparams()", 
      "  problem2, results2 = gt.loop(pi,case=\"case2\",duration=duration);", 
      "                             ", 
      "  # case 3 ", 
      "  pi = gt.cparams()", 
      "  problem3, results3 = gt.loop(pi,case=\"case3\",duration=duration);", 
      "                             ", 
      "                             "
     ], 
     "language": "python", 
     "outputs": [
      {
       "output_type": "stream", 
       "stream": "stderr", 
       "text": [
        "ERROR: Magic function `capture` not found."
       ]
      }
     ], 
     "prompt_number": 23
    }, 
    {
     "cell_type": "markdown", 
     "source": [
      "Store names"
     ]
    }, 
    {
     "cell_type": "code", 
     "collapsed": true, 
     "input": [
      "class empty:pass", 
      "", 
      "if(run):", 
      "    print results1.pickleName", 
      "    print results2.pickleName", 
      "    print results3.pickleName", 
      "    ", 
      "cases = []", 
      "case1 = empty()", 
      "case1.pickleName = \"case1.pkl\"  ", 
      "cases.append(case1)", 
      "", 
      "case2 = empty()", 
      "case2.pickleName = \"case2.pkl\"  ", 
      "cases.append(case2)", 
      "", 
      "case3 = empty()", 
      "case3.pickleName = \"case3.pkl\"  ", 
      "cases.append(case3)"
     ], 
     "language": "python", 
     "outputs": [], 
     "prompt_number": 25
    }, 
    {
     "cell_type": "markdown", 
     "source": [
      "open pickles"
     ]
    }, 
    {
     "cell_type": "code", 
     "collapsed": true, 
     "input": [
      "import cPickle as pickle", 
      "case = cases[0]", 
      "", 
      "for i,case in enumerate(cases):", 
      "  pkl_file = open(case.pickleName, 'rb')", 
      "  data1 = pickle.load(pkl_file)", 
      "", 
      "  case.jSRs = data1['jSRs']", 
      "  case.cs = data1['cs']", 
      "  case.cbs = data1['cbs']", 
      "", 
      "  pkl_file.close()"
     ], 
     "language": "python", 
     "outputs": [], 
     "prompt_number": 26
    }, 
    {
     "cell_type": "code", 
     "collapsed": false, 
     "input": [
      "cases[0].jSRs"
     ], 
     "language": "python", 
     "outputs": [
      {
       "output_type": "pyout", 
       "prompt_number": 27, 
       "text": [
        "array([ -7.73959743e-06,  -3.15597024e-06,  -2.94522771e-06,", 
        "        -2.93495297e-06,  -2.93399408e-06])"
       ]
      }
     ], 
     "prompt_number": 27
    }, 
    {
     "cell_type": "code", 
     "collapsed": false, 
     "input": [
      "plt.figure()", 
      "# cas", 
      "plt.subplot(121)", 
      "plt.title(\"Whole-cell Ca\")", 
      "plt.ylabel(\"Ca [uM]\") ", 
      "plt.xlabel(\"t [ms]\") ", 
      "plt.plot(cases[0].cs,'b-',label=cases[0].pickleName)", 
      "plt.plot(cases[1].cs,'b.-',label=cases[1].pickleName)", 
      "plt.plot(cases[2].cs,'b--',label=cases[2].pickleName)", 
      "plt.legend()", 
      "", 
      "# jSR ", 
      "plt.subplot(122)", 
      "plt.title(\"Whole-cell jSR\")", 
      "plt.ylabel(\"jSR [uM/ms]\") ", 
      "plt.xlabel(\"t [ms]\") ", 
      "plt.plot(cases[0].jSRs,'b-',label=cases[0].pickleName)", 
      "plt.plot(cases[1].jSRs,'b.-',label=cases[1].pickleName)", 
      "plt.plot(cases[2].jSRs,'b--',label=cases[2].pickleName)", 
      "plt.legend()"
     ], 
     "language": "python", 
     "outputs": [
      {
       "output_type": "pyout", 
       "prompt_number": 33, 
       "text": [
        "<matplotlib.legend.Legend at 0x854f510>"
       ]
      }, 
      {
       "output_type": "display_data", 
       "png": "[encoded data removed]"
      }
     ], 
     "prompt_number": 33
    }, 
    {
     "cell_type": "code", 
     "collapsed": true, 
     "input": [], 
     "language": "python", 
     "outputs": []
    }
   ]
  }
 ]
}