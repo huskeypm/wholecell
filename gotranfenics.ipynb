{
 "metadata": {
  "name": "gotranfenics"
 }, 
 "nbformat": 2, 
 "worksheets": [
  {
   "cells": [
    {
     "cell_type": "markdown", 
     "source": [
      "TODO", 
      "", 
      "- any mission-critical TODOs", 
      "- organize tex document with all images"
     ]
    }, 
    {
     "cell_type": "markdown", 
     "source": [
      "Be sure to source", 
      "", 
      "1. source ~/sources/smolhomog/vm.bash ", 
      "2. python -c  \"import dolfin\"", 
      "3. sdf"
     ]
    }, 
    {
     "cell_type": "code", 
     "collapsed": false, 
     "input": [
      "import sys", 
      "sys.path.append(\"/home/huskeypm/localTemp/wholecell\")", 
      "import runner", 
      "import sympy", 
      "from dolfin import * ", 
      "import templateGotran as gt"
     ], 
     "language": "python", 
     "outputs": [
      {
       "ename": "ImportError", 
       "evalue": "No module named dolfin", 
       "output_type": "pyerr", 
       "traceback": [
        "\u001b[0;31m---------------------------------------------------------------------------\u001b[0m\n\u001b[0;31mImportError\u001b[0m                               Traceback (most recent call last)", 
        "\u001b[0;32m/home/huskeypm/localTemp/wholecell/<ipython-input-1-8e3b308ee546>\u001b[0m in \u001b[0;36m<module>\u001b[0;34m()\u001b[0m\n\u001b[1;32m      3\u001b[0m \u001b[0;32mimport\u001b[0m \u001b[0mrunner\u001b[0m\u001b[0;34m\u001b[0m\u001b[0m\n\u001b[1;32m      4\u001b[0m \u001b[0;32mimport\u001b[0m \u001b[0msympy\u001b[0m\u001b[0;34m\u001b[0m\u001b[0m\n\u001b[0;32m----> 5\u001b[0;31m \u001b[0;32mfrom\u001b[0m \u001b[0mdolfin\u001b[0m \u001b[0;32mimport\u001b[0m \u001b[0;34m*\u001b[0m\u001b[0;34m\u001b[0m\u001b[0m\n\u001b[0m\u001b[1;32m      6\u001b[0m \u001b[0;32mimport\u001b[0m \u001b[0mtemplateGotran\u001b[0m \u001b[0;32mas\u001b[0m \u001b[0mgt\u001b[0m\u001b[0;34m\u001b[0m\u001b[0m\n", 
        "\u001b[0;31mImportError\u001b[0m: No module named dolfin"
       ]
      }, 
      {
       "output_type": "stream", 
       "stream": "stdout", 
       "text": [
        "WARNING: ode idx is hardcoded"
       ]
      }
     ], 
     "prompt_number": 1
    }, 
    {
     "cell_type": "markdown", 
     "source": [
      "## 1D cases (TODO) - see 140210_markovshannon ", 
      "", 
      "- shannon vs mine [Ca and jSR]", 
      "- R9Q vs R9C [Ca and jSR]"
     ]
    }, 
    {
     "cell_type": "code", 
     "collapsed": true, 
     "input": [
      "t0 = 0", 
      "tF = 2e3", 
      "dtn = 0.01", 
      "run=1", 
      "class empty:pass", 
      "", 
      "#import shannon_2004 as model", 
      "", 
      "#from scipy.integrate import odeint", 
      "Cai_ode_idx =  runner.model.state_indices( \"Cai\" )", 
      "", 
      "def simpleRun():", 
      "  runner.init()", 
      "  (p,states,ts,js)=runner.runner()", 
      "  ", 
      "  results = empty()", 
      "  results.p = p", 
      "  results.ts = ts", 
      "  results.js = js", 
      "  results.states = states[1:,Cai_ode_idx]", 
      "  return (results)"
     ], 
     "language": "python", 
     "outputs": [], 
     "prompt_number": 11
    }, 
    {
     "cell_type": "code", 
     "collapsed": true, 
     "input": [
      "odecases = []", 
      "", 
      "run=0", 
      "if run:", 
      "  # shannon  dflt", 
      "  case1 = empty()", 
      "  case1.results = simpleRun()", 
      "  case1.name = \"Shannon\"", 
      "  odecases.append(case1)", 
      "", 
      "  # my model (WT) ", 
      "  case2 = empty()", 
      "  case2.results = simpleRun()", 
      "  case2.name = \"MineWT\"", 
      "  odecases.append(case2)", 
      "", 
      "  # R9Q ", 
      "  case3 = empty()", 
      "  case3.results = simpleRun()", 
      "  case3.name = \"R9Q\"", 
      "  odecases.append(case3)", 
      "", 
      "  # R9C", 
      "  case4 = empty()", 
      "  case4.results = simpleRun()", 
      "  case4.name = \"R9C\"", 
      "  odecases.append(case4)"
     ], 
     "language": "python", 
     "outputs": [], 
     "prompt_number": 18
    }, 
    {
     "cell_type": "markdown", 
     "source": [
      "Comparison of Shannon model with my model "
     ]
    }, 
    {
     "cell_type": "code", 
     "collapsed": false, 
     "input": [
      "# compare my model vs shannon", 
      "plt.figure()", 
      "plt.subplot(121)", 
      "plt.title(\"Ca\")", 
      "plt.ylabel(\"[Ca] [uM]\") ", 
      "plt.xlabel(\"t [ms]\") ", 
      "plt.plot(case1.results.ts,case1.results.states,'b-',label=case1.name)", 
      "plt.plot(case2.results.ts,case2.results.states,'b.',label=case2.name)", 
      "plt.legend()", 
      "", 
      "plt.subplot(122)", 
      "plt.title(\"Pump rate\")", 
      "plt.ylabel(\"jSERCA [uM/ms]\") ", 
      "plt.xlabel(\"t [ms]\") ", 
      "idx = runner.j_pump_SR_idx", 
      "plt.plot(case1.results.ts,case1.results.js[:,idx],'b-',label=case1.name)", 
      "plt.plot(case2.results.ts,case2.results.js[:,idx],'b.',label=case2.name)", 
      "plt.legend()"
     ], 
     "language": "python", 
     "outputs": [
      {
       "output_type": "pyout", 
       "prompt_number": 23, 
       "text": [
        "<matplotlib.legend.Legend at 0x44a2ed0>"
       ]
      }, 
      {
       "output_type": "display_data", 
       "png": "[encoded data removed]"
      }
     ], 
     "prompt_number": 23
    }, 
    {
     "cell_type": "markdown", 
     "source": [
      "WT vs plb mutants"
     ]
    }, 
    {
     "cell_type": "code", 
     "collapsed": false, 
     "input": [
      "# compare R9C/R9Q", 
      "plt.figure()", 
      "plt.subplot(121)", 
      "plt.title(\"Ca\")", 
      "plt.ylabel(\"[Ca] [uM]\") ", 
      "plt.xlabel(\"t [ms]\") ", 
      "plt.plot(case2.results.ts,case2.results.states,'b-',label=case2.name)", 
      "plt.plot(case3.results.ts,case3.results.states,'b.',label=case3.name)", 
      "plt.plot(case4.results.ts,case4.results.states,'b--',label=case4.name)", 
      "plt.legend()", 
      "", 
      "plt.subplot(122)", 
      "plt.title(\"Pump rate\")", 
      "plt.ylabel(\"jSERCA [uM/ms]\") ", 
      "plt.xlabel(\"t [ms]\") ", 
      "plt.plot(case2.results.ts,case2.results.js[:,idx],'b-',label=case2.name)", 
      "plt.plot(case3.results.ts,case3.results.js[:,idx],'b.',label=case3.name)", 
      "plt.plot(case4.results.ts,case4.results.js[:,idx],'b--',label=case4.name)", 
      "plt.legend()"
     ], 
     "language": "python", 
     "outputs": [
      {
       "output_type": "pyout", 
       "prompt_number": 24, 
       "text": [
        "<matplotlib.legend.Legend at 0x5586950>"
       ]
      }, 
      {
       "output_type": "display_data", 
       "png": "[encoded data removed]"
      }
     ], 
     "prompt_number": 24
    }, 
    {
     "cell_type": "markdown", 
     "source": [
      "## 3D cases (TODO)"
     ]
    }, 
    {
     "cell_type": "markdown", 
     "source": [
      "### Testing"
     ]
    }, 
    {
     "cell_type": "markdown", 
     "source": [
      "#### Baseline and Kmf revised"
     ]
    }, 
    {
     "cell_type": "code", 
     "collapsed": true, 
     "input": [
      "M_to_mM=1e3", 
      "Kmf_guess = 5.e-7*M_to_mM", 
      "  "
     ], 
     "language": "python", 
     "outputs": [], 
     "prompt_number": 2
    }, 
    {
     "cell_type": "code", 
     "collapsed": true, 
     "input": [
      "class empty:pass", 
      "import cPickle as pickle", 
      "import templateGotran as gt", 
      "", 
      "# run me", 
      "run=1", 
      "if run:", 
      "  # test 1  ", 
      "  gt.Test1()", 
      "", 
      "  # test 2", 
      "  gt.cparams.plot = False", 
      "  pi = gt.cparams()                                         ", 
      "  ", 
      "  pi.odeParams[gt.param_indices(\"Kmf\")] = Kmf_guess                                                                ", 
      "  problemKmf, resultsKmf = gt.loop(pi,case=\"test2\",mode=\"separateFlux\")   "
     ], 
     "language": "python", 
     "outputs": [
      {
       "output_type": "stream", 
       "stream": "stdout", 
       "text": [
        "WARNING: buffering by TnC in cytosol is not correct in this model!!!", 
        "WARNING: ode idx is hardcoded"
       ]
      }, 
      {
       "output_type": "stream", 
       "stream": "stdout", 
       "text": [
        "Debuglevel  0", 
        "Equilibrating for 3000.000000 [ms]", 
        "ODE Init [mM]"
       ]
      }, 
      {
       "output_type": "stream", 
       "stream": "stdout", 
       "text": [
        " [ 0.00029975  0.02558841]", 
        "t0 3000.000000 tf 4000.000000 [ms]", 
        "WARNING: localFluxWeighting is NOT a physiologically-sound approach..."
       ]
      }, 
      {
       "output_type": "stream", 
       "stream": "stdout", 
       "text": [
        "", 
        "vol_sa_ratio  [um] 2.0", 
        "WARNING: not working w eval func", 
        "T 0.000000 [ms] Conc(0) 0.000300 [mM]", 
        "T 0.000000 [ms] Conc(0) 0.299747 [uM]", 
        "T 0.000000 [ms] Conc(1) 0.025588 [mM]", 
        "T 0.000000 [ms] Conc(1) 25.588410 [uM]", 
        "###########################################################################", 
        "t0  3000.0 tf  3010.0", 
        "ODE Init [mM] [ 0.00029975  0.02558841]", 
        "t0 3000.000000 tf 3010.000000 [ms]", 
        "ODE statesF: [mM] "
       ]
      }, 
      {
       "output_type": "stream", 
       "stream": "stdout", 
       "text": [
        " [ 0.00028625  0.02492413]", 
        "ODE statesF: [uM]  0.286253795401", 
        "ODE states Flux [mM/ms]:  [ -1.34931882e-06  -6.64281541e-05]", 
        "ODE states Flux [uM/ms]:  [-0.00134932 -0.06642815]", 
        "THIS IS WRONG I THINK  -0.00014418630828", 
        "WARNING: not  great way of doing this", 
        "jboundary [mM/ms] 5.73687554781e-05", 
        "jboundary [uM/ms] 0.0573687554781", 
        "jvol [mM/ms]  -0.000469766643109", 
        "jvol [uM/ms]  -469.766643109", 
        "##", 
        "## WARNING: we are not updating CaTnC!!!", 
        "##", 
        "T 3010.000000 [ms] Conc(0) 0.000295 [mM]"
       ]
      }, 
      {
       "output_type": "stream", 
       "stream": "stdout", 
       "text": [
        "", 
        "T 3010.000000 [ms] Conc(0) 0.295178 [uM]", 
        "T 3010.000000 [ms] Conc(1) 0.025588 [mM]", 
        "T 3010.000000 [ms] Conc(1) 25.588410 [uM]", 
        "WARNING: skipping conc updatee", 
        "###########################################################################", 
        "t0  3010.0 tf  3020.0", 
        "ODE Init [mM] [ 0.00028625  0.02492413]", 
        "t0 3010.000000 tf 3020.000000 [ms]", 
        "ODE statesF: [mM] "
       ]
      }, 
      {
       "output_type": "stream", 
       "stream": "stdout", 
       "text": [
        " [ 0.00027321  0.02425733]", 
        "ODE statesF: [uM]  0.27320904497", 
        "ODE states Flux [mM/ms]:  [ -1.30447504e-06  -6.66798070e-05]", 
        "ODE states Flux [uM/ms]:  [-0.00130448 -0.06667981]", 
        "THIS IS WRONG I THINK  -0.000136980545546", 
        "WARNING: not  great way of doing this", 
        "jboundary [mM/ms] 5.23477776085e-05", 
        "jboundary [uM/ms] 0.0523477776085", 
        "jvol [mM/ms]  -0.000429231595629", 
        "jvol [uM/ms]  -429.231595629", 
        "##", 
        "## WARNING: we are not updating CaTnC!!!", 
        "##", 
        "T 3020.000000 [ms] Conc(0) 0.000291 [mM]"
       ]
      }, 
      {
       "output_type": "stream", 
       "stream": "stdout", 
       "text": [
        "", 
        "T 3020.000000 [ms] Conc(0) 0.290542 [uM]", 
        "T 3020.000000 [ms] Conc(1) 0.025588 [mM]", 
        "T 3020.000000 [ms] Conc(1) 25.588410 [uM]", 
        "WARNING: skipping conc updatee", 
        "###########################################################################", 
        "t0  3020.0 tf  3030.0", 
        "ODE Init [mM] [ 0.00027321  0.02425733]", 
        "t0 3020.000000 tf 3030.000000 [ms]", 
        "ODE statesF: [mM] "
       ]
      }, 
      {
       "output_type": "stream", 
       "stream": "stdout", 
       "text": [
        " [ 0.00026037  0.02358788]", 
        "ODE statesF: [uM]  0.260371277418", 
        "ODE states Flux [mM/ms]:  [ -1.28377676e-06  -6.69448634e-05]", 
        "ODE states Flux [uM/ms]:  [-0.00128378 -0.06694486]", 
        "THIS IS WRONG I THINK  -0.000129586580406", 
        "WARNING: not  great way of doing this", 
        "jboundary [mM/ms] 4.67325524376e-05", 
        "jboundary [uM/ms] 0.0467325524376", 
        "jvol [mM/ms]  -0.000384134238164", 
        "jvol [uM/ms]  -384.134238164", 
        "##", 
        "## WARNING: we are not updating CaTnC!!!", 
        "##", 
        "T 3030.000000 [ms] Conc(0) 0.000286 [mM]"
       ]
      }, 
      {
       "output_type": "stream", 
       "stream": "stdout", 
       "text": [
        "", 
        "T 3030.000000 [ms] Conc(0) 0.285701 [uM]", 
        "T 3030.000000 [ms] Conc(1) 0.025588 [mM]", 
        "T 3030.000000 [ms] Conc(1) 25.588410 [uM]", 
        "WARNING: skipping conc updatee", 
        "###########################################################################", 
        "t0  3030.0 tf  3040.0", 
        "ODE Init [mM] [ 0.00026037  0.02358788]", 
        "t0 3030.000000 tf 3040.000000 [ms]", 
        "ODE statesF: [mM] "
       ]
      }, 
      {
       "output_type": "stream", 
       "stream": "stdout", 
       "text": [
        " [ 0.00024759  0.02291289]", 
        "ODE statesF: [uM]  0.247585270644", 
        "ODE states Flux [mM/ms]:  [ -1.27860068e-06  -6.74989511e-05]", 
        "ODE states Flux [uM/ms]:  [-0.0012786  -0.06749895]", 
        "THIS IS WRONG I THINK  -0.000121899008326", 
        "WARNING: not  great way of doing this", 
        "jboundary [mM/ms] 4.00843797094e-05", 
        "jboundary [uM/ms] 0.0400843797094", 
        "jvol [mM/ms]  -0.000330907425108", 
        "jvol [uM/ms]  -330.907425108", 
        "##", 
        "## WARNING: we are not updating CaTnC!!!", 
        "##", 
        "T 3040.000000 [ms] Conc(0) 0.000280 [mM]"
       ]
      }, 
      {
       "output_type": "stream", 
       "stream": "stdout", 
       "text": [
        "", 
        "T 3040.000000 [ms] Conc(0) 0.280475 [uM]", 
        "T 3040.000000 [ms] Conc(1) 0.025588 [mM]", 
        "T 3040.000000 [ms] Conc(1) 25.588410 [uM]", 
        "WARNING: skipping conc updatee"
       ]
      }, 
      {
       "output_type": "stream", 
       "stream": "stdout", 
       "text": [
        "", 
        "###########################################################################", 
        "t0  3040.0 tf  3050.0", 
        "ODE Init [mM] [ 0.00024759  0.02291289]", 
        "t0 3040.000000 tf 3050.000000 [ms]", 
        "ODE statesF: [mM] "
       ]
      }, 
      {
       "output_type": "stream", 
       "stream": "stdout", 
       "text": [
        " [ 0.00023498  0.02223031]", 
        "ODE statesF: [uM]  0.234977323337", 
        "ODE states Flux [mM/ms]:  [ -1.26079473e-06  -6.82581705e-05]", 
        "ODE states Flux [uM/ms]:  [-0.00126079 -0.06825817]", 
        "THIS IS WRONG I THINK  -0.000113917017926", 
        "WARNING: not  great way of doing this", 
        "jboundary [mM/ms] 3.27312192408e-05", 
        "jboundary [uM/ms] 0.0327312192408", 
        "jvol [mM/ms]  -0.000271941084234", 
        "jvol [uM/ms]  -271.941084234", 
        "##", 
        "## WARNING: we are not updating CaTnC!!!", 
        "##", 
        "T 3050.000000 [ms] Conc(0) 0.000275 [mM]"
       ]
      }, 
      {
       "output_type": "stream", 
       "stream": "stdout", 
       "text": [
        "", 
        "T 3050.000000 [ms] Conc(0) 0.274773 [uM]", 
        "T 3050.000000 [ms] Conc(1) 0.025588 [mM]", 
        "T 3050.000000 [ms] Conc(1) 25.588410 [uM]", 
        "WARNING: skipping conc updatee", 
        "###########################################################################", 
        "t0  3050.0 tf  3060.0", 
        "ODE Init [mM] [ 0.00023498  0.02223031]", 
        "t0 3050.000000 tf 3060.000000 [ms]", 
        "ODE statesF: [mM] "
       ]
      }, 
      {
       "output_type": "stream", 
       "stream": "stdout", 
       "text": [
        " [ 0.00022239  0.02153826]", 
        "ODE statesF: [uM]  0.222386123886", 
        "ODE states Flux [mM/ms]:  [ -1.25911995e-06  -6.92046574e-05]", 
        "ODE states Flux [uM/ms]:  [-0.00125912 -0.06920466]", 
        "THIS IS WRONG I THINK  -0.000105652476628", 
        "WARNING: not  great way of doing this", 
        "jboundary [mM/ms] 2.47107537121e-05", 
        "jboundary [uM/ms] 0.0247107537121", 
        "jvol [mM/ms]  -0.000207768657771", 
        "jvol [uM/ms]  -207.768657771", 
        "##", 
        "## WARNING: we are not updating CaTnC!!!", 
        "##", 
        "T 3060.000000 [ms] Conc(0) 0.000268 [mM]"
       ]
      }, 
      {
       "output_type": "stream", 
       "stream": "stdout", 
       "text": [
        "", 
        "T 3060.000000 [ms] Conc(0) 0.268293 [uM]", 
        "T 3060.000000 [ms] Conc(1) 0.025588 [mM]", 
        "T 3060.000000 [ms] Conc(1) 25.588410 [uM]", 
        "WARNING: skipping conc updatee", 
        "###########################################################################", 
        "t0  3060.0 tf  3070.0", 
        "ODE Init [mM] [ 0.00022239  0.02153826]", 
        "t0 3060.000000 tf 3070.000000 [ms]", 
        "ODE statesF: [mM] "
       ]
      }, 
      {
       "output_type": "stream", 
       "stream": "stdout", 
       "text": [
        " [ 0.00021094  0.02084078]", 
        "ODE statesF: [uM]  0.21094026391", 
        "ODE states Flux [mM/ms]:  [ -1.14458600e-06  -6.97479549e-05]", 
        "ODE states Flux [uM/ms]:  [-0.00114459 -0.06974795]", 
        "THIS IS WRONG I THINK  -9.7317190803e-05", 
        "WARNING: not  great way of doing this", 
        "jboundary [mM/ms] 1.74137461283e-05", 
        "jboundary [uM/ms] 0.0174137461283", 
        "jvol [mM/ms]  -0.000148535111095", 
        "jvol [uM/ms]  -148.535111095", 
        "##", 
        "## WARNING: we are not updating CaTnC!!!", 
        "##", 
        "T 3070.000000 [ms] Conc(0) 0.000261 [mM]"
       ]
      }, 
      {
       "output_type": "stream", 
       "stream": "stdout", 
       "text": [
        "", 
        "T 3070.000000 [ms] Conc(0) 0.261478 [uM]", 
        "T 3070.000000 [ms] Conc(1) 0.025588 [mM]", 
        "T 3070.000000 [ms] Conc(1) 25.588410 [uM]", 
        "WARNING: skipping conc updatee", 
        "###########################################################################", 
        "t0  3070.0 tf  3080.0", 
        "ODE Init [mM] [ 0.00021094  0.02084078]", 
        "t0 3070.000000 tf 3080.000000 [ms]", 
        "ODE statesF: [mM] "
       ]
      }, 
      {
       "output_type": "stream", 
       "stream": "stdout", 
       "text": [
        " [ 0.0002009  0.0201552]", 
        "ODE statesF: [uM]  0.2009037488", 
        "ODE states Flux [mM/ms]:  [ -1.00365151e-06  -6.85589133e-05]", 
        "ODE states Flux [uM/ms]:  [-0.00100365 -0.06855891]", 
        "THIS IS WRONG I THINK  -8.96510725589e-05", 
        "WARNING: not  great way of doing this", 
        "jboundary [mM/ms] 1.37338802062e-05", 
        "jboundary [uM/ms] 0.0137338802062", 
        "jvol [mM/ms]  -0.000117944955058", 
        "jvol [uM/ms]  -117.944955058", 
        "##", 
        "## WARNING: we are not updating CaTnC!!!", 
        "##", 
        "T 3080.000000 [ms] Conc(0) 0.000255 [mM]"
       ]
      }, 
      {
       "output_type": "stream", 
       "stream": "stdout", 
       "text": [
        "", 
        "T 3080.000000 [ms] Conc(0) 0.255025 [uM]", 
        "T 3080.000000 [ms] Conc(1) 0.025588 [mM]", 
        "T 3080.000000 [ms] Conc(1) 25.588410 [uM]", 
        "WARNING: skipping conc updatee", 
        "###########################################################################", 
        "t0  3080.0 tf  3090.0", 
        "ODE Init [mM] [ 0.0002009  0.0201552]", 
        "t0 3080.000000 tf 3090.000000 [ms]", 
        "ODE statesF: [mM] "
       ]
      }, 
      {
       "output_type": "stream", 
       "stream": "stdout", 
       "text": [
        " [ 0.00019185  0.01949111]", 
        "ODE statesF: [uM]  0.191848374584", 
        "ODE states Flux [mM/ms]:  [ -9.05537422e-07  -6.64084441e-05]", 
        "ODE states Flux [uM/ms]:  [-0.00090554 -0.06640844]", 
        "THIS IS WRONG I THINK  -8.25802386842e-05", 
        "WARNING: not  great way of doing this", 
        "jboundary [mM/ms] 1.16189545902e-05", 
        "jboundary [uM/ms] 0.0116189545902", 
        "jvol [mM/ms]  -0.0001002315815", 
        "jvol [uM/ms]  -100.2315815", 
        "##", 
        "## WARNING: we are not updating CaTnC!!!", 
        "##", 
        "T 3090.000000 [ms] Conc(0) 0.000249 [mM]"
       ]
      }, 
      {
       "output_type": "stream", 
       "stream": "stdout", 
       "text": [
        "", 
        "T 3090.000000 [ms] Conc(0) 0.248923 [uM]", 
        "T 3090.000000 [ms] Conc(1) 0.025588 [mM]", 
        "T 3090.000000 [ms] Conc(1) 25.588410 [uM]", 
        "WARNING: skipping conc updatee", 
        "###########################################################################", 
        "t0  3090.0 tf  3100.0", 
        "ODE Init [mM] [ 0.00019185  0.01949111]", 
        "t0 3090.000000 tf 3100.000000 [ms]", 
        "ODE statesF: [mM] "
       ]
      }, 
      {
       "output_type": "stream", 
       "stream": "stdout", 
       "text": [
        " [ 0.00018362  0.01885304]", 
        "ODE statesF: [uM]  0.183620529244", 
        "ODE states Flux [mM/ms]:  [ -8.22784534e-07  -6.38066529e-05]", 
        "ODE states Flux [uM/ms]:  [-0.00082278 -0.06380665]", 
        "THIS IS WRONG I THINK  -7.59949552321e-05", 
        "WARNING: not  great way of doing this", 
        "jboundary [mM/ms] 1.0156280239e-05", 
        "jboundary [uM/ms] 0.010156280239", 
        "jvol [mM/ms]  -8.78635010074e-05", 
        "jvol [uM/ms]  -87.8635010074", 
        "##", 
        "## WARNING: we are not updating CaTnC!!!", 
        "##", 
        "T 3100.000000 [ms] Conc(0) 0.000243 [mM]"
       ]
      }, 
      {
       "output_type": "stream", 
       "stream": "stdout", 
       "text": [
        "", 
        "T 3100.000000 [ms] Conc(0) 0.243187 [uM]", 
        "T 3100.000000 [ms] Conc(1) 0.025588 [mM]", 
        "T 3100.000000 [ms] Conc(1) 25.588410 [uM]", 
        "WARNING: skipping conc updatee", 
        "###########################################################################", 
        "t0  3100.0 tf  3110.0", 
        "ODE Init [mM] [ 0.00018362  0.01885304]", 
        "t0 3100.000000 tf 3110.000000 [ms]", 
        "ODE statesF: [mM] "
       ]
      }, 
      {
       "output_type": "stream", 
       "stream": "stdout", 
       "text": [
        " [ 0.00018155  0.01826635]", 
        "ODE statesF: [uM]  0.181554777343", 
        "ODE states Flux [mM/ms]:  [ -2.06575190e-07  -5.86692933e-05]", 
        "ODE states Flux [uM/ms]:  [-0.00020658 -0.05866929]", 
        "THIS IS WRONG I THINK  -7.06912592621e-05", 
        "WARNING: not  great way of doing this", 
        "jboundary [mM/ms] 1.42671318075e-05", 
        "jboundary [uM/ms] 0.0142671318075", 
        "jvol [mM/ms]  -0.000116518510155", 
        "jvol [uM/ms]  -116.518510155", 
        "##", 
        "## WARNING: we are not updating CaTnC!!!", 
        "##", 
        "T 3110.000000 [ms] Conc(0) 0.000241 [mM]"
       ]
      }, 
      {
       "output_type": "stream", 
       "stream": "stdout", 
       "text": [
        "", 
        "T 3110.000000 [ms] Conc(0) 0.241325 [uM]", 
        "T 3110.000000 [ms] Conc(1) 0.025588 [mM]", 
        "T 3110.000000 [ms] Conc(1) 25.588410 [uM]", 
        "WARNING: skipping conc updatee", 
        "###########################################################################", 
        "t0  3110.0 tf  3120.0", 
        "ODE Init [mM] [ 0.00018155  0.01826635]", 
        "t0 3110.000000 tf 3120.000000 [ms]", 
        "ODE statesF: [mM] "
       ]
      }, 
      {
       "output_type": "stream", 
       "stream": "stdout", 
       "text": [
        " [ 0.00018833  0.01786189]", 
        "ODE statesF: [uM]  0.188334568271", 
        "ODE states Flux [mM/ms]:  [  6.77979093e-07  -4.04463909e-05]", 
        "ODE states Flux [uM/ms]:  [ 0.00067798 -0.04044639]", 
        "THIS IS WRONG I THINK  -7.22316475605e-05", 
        "WARNING: not  great way of doing this", 
        "jboundary [mM/ms] 4.8089834838e-05", 
        "jboundary [uM/ms] 0.048089834838", 
        "jvol [mM/ms]  -0.000379572415491", 
        "jvol [uM/ms]  -379.572415491", 
        "##", 
        "## WARNING: we are not updating CaTnC!!!", 
        "##", 
        "T 3120.000000 [ms] Conc(0) 0.000243 [mM]"
       ]
      }, 
      {
       "output_type": "stream", 
       "stream": "stdout", 
       "text": [
        "", 
        "T 3120.000000 [ms] Conc(0) 0.243494 [uM]", 
        "T 3120.000000 [ms] Conc(1) 0.025588 [mM]", 
        "T 3120.000000 [ms] Conc(1) 25.588410 [uM]", 
        "WARNING: skipping conc updatee", 
        "###########################################################################", 
        "t0  3120.0 tf  3130.0", 
        "ODE Init [mM] [ 0.00018833  0.01786189]", 
        "t0 3120.000000 tf 3130.000000 [ms]", 
        "ODE statesF: [mM] "
       ]
      }, 
      {
       "output_type": "stream", 
       "stream": "stdout", 
       "text": [
        " [ 0.00021324  0.01775529]", 
        "ODE statesF: [uM]  0.213238235793", 
        "ODE states Flux [mM/ms]:  [  2.49036675e-06  -1.06594956e-05]", 
        "ODE states Flux [uM/ms]:  [ 0.00249037 -0.0106595 ]", 
        "THIS IS WRONG I THINK  -8.15260228497e-05", 
        "WARNING: not  great way of doing this", 
        "jboundary [mM/ms] 0.000105405573415", 
        "jboundary [uM/ms] 0.105405573415", 
        "jvol [mM/ms]  -0.000824841098715", 
        "jvol [uM/ms]  -824.841098715", 
        "##", 
        "## WARNING: we are not updating CaTnC!!!", 
        "##", 
        "T 3130.000000 [ms] Conc(0) 0.000248 [mM]"
       ]
      }, 
      {
       "output_type": "stream", 
       "stream": "stdout", 
       "text": [
        "", 
        "T 3130.000000 [ms] Conc(0) 0.247889 [uM]", 
        "T 3130.000000 [ms] Conc(1) 0.025588 [mM]", 
        "T 3130.000000 [ms] Conc(1) 25.588410 [uM]", 
        "WARNING: skipping conc updatee", 
        "###########################################################################", 
        "t0  3130.0 tf  3140.0", 
        "ODE Init [mM] [ 0.00021324  0.01775529]", 
        "t0 3130.000000 tf 3140.000000 [ms]", 
        "ODE statesF: [mM] "
       ]
      }, 
      {
       "output_type": "stream", 
       "stream": "stdout", 
       "text": [
        " [ 0.00032798  0.0186246 ]", 
        "ODE statesF: [uM]  0.327975719646", 
        "ODE states Flux [mM/ms]:  [  1.14737484e-05   8.69311036e-05]", 
        "ODE states Flux [uM/ms]:  [ 0.01147375  0.0869311 ]", 
        "THIS IS WRONG I THINK  -0.000119914927626", 
        "WARNING: not  great way of doing this", 
        "jboundary [mM/ms] 0.00031075384933", 
        "jboundary [uM/ms] 0.31075384933", 
        "jvol [mM/ms]  -0.00239894475311", 
        "jvol [uM/ms]  -2398.94475311", 
        "##", 
        "## WARNING: we are not updating CaTnC!!!", 
        "##", 
        "T 3140.000000 [ms] Conc(0) 0.000256 [mM]"
       ]
      }, 
      {
       "output_type": "stream", 
       "stream": "stdout", 
       "text": [
        "", 
        "T 3140.000000 [ms] Conc(0) 0.256200 [uM]", 
        "T 3140.000000 [ms] Conc(1) 0.025588 [mM]", 
        "T 3140.000000 [ms] Conc(1) 25.588410 [uM]", 
        "WARNING: skipping conc updatee", 
        "###########################################################################", 
        "t0  3140.0 tf  3150.0", 
        "ODE Init [mM] [ 0.00032798  0.0186246 ]", 
        "t0 3140.000000 tf 3150.000000 [ms]", 
        "ODE statesF: [mM] "
       ]
      }, 
      {
       "output_type": "stream", 
       "stream": "stdout", 
       "text": [
        " [ 0.00045216  0.02126698]", 
        "ODE statesF: [uM]  0.452160834917", 
        "ODE states Flux [mM/ms]:  [  1.24185115e-05   2.64238004e-04]", 
        "ODE states Flux [uM/ms]:  [ 0.01241851  0.264238  ]", 
        "THIS IS WRONG I THINK  -0.000184222996765", 
        "WARNING: not  great way of doing this", 
        "jboundary [mM/ms] 0.000648251159276", 
        "jboundary [uM/ms] 0.648251159276", 
        "jvol [mM/ms]  -0.0050828850014", 
        "jvol [uM/ms]  -5082.8850014", 
        "##", 
        "## WARNING: we are not updating CaTnC!!!", 
        "##", 
        "T 3150.000000 [ms] Conc(0) 0.000261 [mM]"
       ]
      }, 
      {
       "output_type": "stream", 
       "stream": "stdout", 
       "text": [
        "", 
        "T 3150.000000 [ms] Conc(0) 0.261197 [uM]", 
        "T 3150.000000 [ms] Conc(1) 0.025588 [mM]", 
        "T 3150.000000 [ms] Conc(1) 25.588410 [uM]", 
        "WARNING: skipping conc updatee", 
        "###########################################################################", 
        "t0  3150.0 tf  3160.0", 
        "ODE Init [mM] [ 0.00045216  0.02126698]", 
        "t0 3150.000000 tf 3160.000000 [ms]", 
        "ODE statesF: [mM] "
       ]
      }, 
      {
       "output_type": "stream", 
       "stream": "stdout", 
       "text": [
        " [ 0.00049031  0.0241548 ]", 
        "ODE statesF: [uM]  0.490312888468", 
        "ODE states Flux [mM/ms]:  [  3.81520536e-06   2.88781472e-04]", 
        "ODE states Flux [uM/ms]:  [ 0.00381521  0.28878147]", 
        "THIS IS WRONG I THINK  -0.000208328325418", 
        "WARNING: not  great way of doing this", 
        "jboundary [mM/ms] 0.00063019168032", 
        "jboundary [uM/ms] 0.63019168032", 
        "jvol [mM/ms]  -0.00500880559502", 
        "jvol [uM/ms]  -5008.80559502", 
        "##", 
        "## WARNING: we are not updating CaTnC!!!", 
        "##", 
        "T 3160.000000 [ms] Conc(0) 0.000263 [mM]"
       ]
      }, 
      {
       "output_type": "stream", 
       "stream": "stdout", 
       "text": [
        "", 
        "T 3160.000000 [ms] Conc(0) 0.262835 [uM]", 
        "T 3160.000000 [ms] Conc(1) 0.025588 [mM]", 
        "T 3160.000000 [ms] Conc(1) 25.588410 [uM]", 
        "WARNING: skipping conc updatee", 
        "###########################################################################", 
        "t0  3160.0 tf  3170.0", 
        "ODE Init [mM] [ 0.00049031  0.0241548 ]", 
        "t0 3160.000000 tf 3170.000000 [ms]", 
        "ODE statesF: [mM] "
       ]
      }, 
      {
       "output_type": "stream", 
       "stream": "stdout", 
       "text": [
        " [ 0.00049673  0.0264141 ]", 
        "ODE statesF: [uM]  0.496725071254", 
        "ODE states Flux [mM/ms]:  [  6.41218279e-07   2.25930147e-04]", 
        "ODE states Flux [uM/ms]:  [ 0.00064122  0.22593015]", 
        "THIS IS WRONG I THINK  -0.000213439962935", 
        "WARNING: not  great way of doing this", 
        "jboundary [mM/ms] 0.000491002833469", 
        "jboundary [uM/ms] 0.491002833469", 
        "jvol [mM/ms]  -0.00392218920543", 
        "jvol [uM/ms]  -3922.18920543", 
        "##", 
        "## WARNING: we are not updating CaTnC!!!", 
        "##", 
        "T 3170.000000 [ms] Conc(0) 0.000263 [mM]"
       ]
      }, 
      {
       "output_type": "stream", 
       "stream": "stdout", 
       "text": [
        "", 
        "T 3170.000000 [ms] Conc(0) 0.263206 [uM]", 
        "T 3170.000000 [ms] Conc(1) 0.025588 [mM]", 
        "T 3170.000000 [ms] Conc(1) 25.588410 [uM]", 
        "WARNING: skipping conc updatee", 
        "###########################################################################", 
        "t0  3170.0 tf  3180.0", 
        "ODE Init [mM] [ 0.00049673  0.0264141 ]", 
        "t0 3170.000000 tf 3180.000000 [ms]", 
        "ODE statesF: [mM] "
       ]
      }, 
      {
       "output_type": "stream", 
       "stream": "stdout", 
       "text": [
        " [ 0.00049164  0.02798885]", 
        "ODE statesF: [uM]  0.491638149067", 
        "ODE states Flux [mM/ms]:  [ -5.08692219e-07   1.57475025e-04]", 
        "ODE states Flux [uM/ms]:  [-0.00050869  0.15747503]", 
        "THIS IS WRONG I THINK  -0.000213799142977", 
        "WARNING: not  great way of doing this", 
        "jboundary [mM/ms] 0.000378106054257", 
        "jboundary [uM/ms] 0.378106054257", 
        "jvol [mM/ms]  -0.00302860874093", 
        "jvol [uM/ms]  -3028.60874093", 
        "##", 
        "## WARNING: we are not updating CaTnC!!!", 
        "##", 
        "T 3180.000000 [ms] Conc(0) 0.000263 [mM]"
       ]
      }, 
      {
       "output_type": "stream", 
       "stream": "stdout", 
       "text": [
        "", 
        "T 3180.000000 [ms] Conc(0) 0.262901 [uM]", 
        "T 3180.000000 [ms] Conc(1) 0.025588 [mM]", 
        "T 3180.000000 [ms] Conc(1) 25.588410 [uM]", 
        "WARNING: skipping conc updatee", 
        "###########################################################################", 
        "t0  3180.0 tf  3190.0", 
        "ODE Init [mM] [ 0.00049164  0.02798885]", 
        "t0 3180.000000 tf 3190.000000 [ms]", 
        "ODE statesF: [mM] "
       ]
      }, 
      {
       "output_type": "stream", 
       "stream": "stdout", 
       "text": [
        " [ 0.00048079  0.02899426]", 
        "ODE statesF: [uM]  0.480785505927", 
        "ODE states Flux [mM/ms]:  [ -1.08526431e-06   1.00541177e-04]", 
        "ODE states Flux [uM/ms]:  [-0.00108526  0.10054118]", 
        "THIS IS WRONG I THINK  -0.000212237329996", 
        "WARNING: not  great way of doing this", 
        "jboundary [mM/ms] 0.000296683360305", 
        "jboundary [uM/ms] 0.296683360305", 
        "jvol [mM/ms]  -0.00238197363482", 
        "jvol [uM/ms]  -2381.97363482", 
        "##", 
        "## WARNING: we are not updating CaTnC!!!", 
        "##", 
        "T 3190.000000 [ms] Conc(0) 0.000262 [mM]"
       ]
      }, 
      {
       "output_type": "stream", 
       "stream": "stdout", 
       "text": [
        "", 
        "T 3190.000000 [ms] Conc(0) 0.262038 [uM]", 
        "T 3190.000000 [ms] Conc(1) 0.025588 [mM]", 
        "T 3190.000000 [ms] Conc(1) 25.588410 [uM]", 
        "WARNING: skipping conc updatee", 
        "###########################################################################", 
        "t0  3190.0 tf  3200.0", 
        "ODE Init [mM] [ 0.00048079  0.02899426]", 
        "t0 3190.000000 tf 3200.000000 [ms]", 
        "ODE statesF: [mM] "
       ]
      }, 
      {
       "output_type": "stream", 
       "stream": "stdout", 
       "text": [
        " [ 0.00046649  0.02955569]", 
        "ODE statesF: [uM]  0.46648744385", 
        "ODE states Flux [mM/ms]:  [ -1.42980621e-06   5.61430060e-05]", 
        "ODE states Flux [uM/ms]:  [-0.00142981  0.05614301]", 
        "THIS IS WRONG I THINK  -0.000209490548877", 
        "WARNING: not  great way of doing this", 
        "jboundary [mM/ms] 0.000237447704819", 
        "jboundary [uM/ms] 0.237447704819", 
        "jvol [mM/ms]  -0.00191091185322", 
        "jvol [uM/ms]  -1910.91185322", 
        "##", 
        "## WARNING: we are not updating CaTnC!!!", 
        "##", 
        "T 3200.000000 [ms] Conc(0) 0.000261 [mM]"
       ]
      }, 
      {
       "output_type": "stream", 
       "stream": "stdout", 
       "text": [
        "", 
        "T 3200.000000 [ms] Conc(0) 0.260638 [uM]", 
        "T 3200.000000 [ms] Conc(1) 0.025588 [mM]", 
        "T 3200.000000 [ms] Conc(1) 25.588410 [uM]", 
        "WARNING: skipping conc updatee", 
        "###########################################################################", 
        "t0  3200.0 tf  3210.0", 
        "ODE Init [mM] [ 0.00046649  0.02955569]", 
        "t0 3200.000000 tf 3210.000000 [ms]", 
        "ODE statesF: [mM] "
       ]
      }, 
      {
       "output_type": "stream", 
       "stream": "stdout", 
       "text": [
        " [ 0.00045008  0.02977857]", 
        "ODE statesF: [uM]  0.450081207669", 
        "ODE states Flux [mM/ms]:  [ -1.64062362e-06   2.22881992e-05]", 
        "ODE states Flux [uM/ms]:  [-0.00164062  0.0222882 ]", 
        "THIS IS WRONG I THINK  -0.000205845801391", 
        "WARNING: not  great way of doing this", 
        "jboundary [mM/ms] 0.000193557397612", 
        "jboundary [uM/ms] 0.193557397612", 
        "jvol [mM/ms]  -0.00156151977178", 
        "jvol [uM/ms]  -1561.51977178", 
        "##", 
        "## WARNING: we are not updating CaTnC!!!", 
        "##", 
        "T 3210.000000 [ms] Conc(0) 0.000259 [mM]"
       ]
      }, 
      {
       "output_type": "stream", 
       "stream": "stdout", 
       "text": [
        "", 
        "T 3210.000000 [ms] Conc(0) 0.258715 [uM]", 
        "T 3210.000000 [ms] Conc(1) 0.025588 [mM]", 
        "T 3210.000000 [ms] Conc(1) 25.588410 [uM]", 
        "WARNING: skipping conc updatee", 
        "###########################################################################", 
        "t0  3210.0 tf  3220.0", 
        "ODE Init [mM] [ 0.00045008  0.02977857]", 
        "t0 3210.000000 tf 3220.000000 [ms]", 
        "ODE statesF: [mM] "
       ]
      }, 
      {
       "output_type": "stream", 
       "stream": "stdout", 
       "text": [
        " [ 0.0004325   0.02974612]", 
        "ODE statesF: [uM]  0.432495571996", 
        "ODE states Flux [mM/ms]:  [ -1.75856357e-06  -3.24536085e-06]", 
        "ODE states Flux [uM/ms]:  [-0.00175856 -0.00324536]", 
        "THIS IS WRONG I THINK  -0.000201464752623", 
        "WARNING: not  great way of doing this", 
        "jboundary [mM/ms] 0.000160593458159", 
        "jboundary [uM/ms] 0.160593458159", 
        "jvol [mM/ms]  -0.00129878356661", 
        "jvol [uM/ms]  -1298.78356661", 
        "##", 
        "## WARNING: we are not updating CaTnC!!!", 
        "##", 
        "T 3220.000000 [ms] Conc(0) 0.000256 [mM]"
       ]
      }, 
      {
       "output_type": "stream", 
       "stream": "stdout", 
       "text": [
        "", 
        "T 3220.000000 [ms] Conc(0) 0.256303 [uM]", 
        "T 3220.000000 [ms] Conc(1) 0.025588 [mM]", 
        "T 3220.000000 [ms] Conc(1) 25.588410 [uM]", 
        "WARNING: skipping conc updatee", 
        "###########################################################################", 
        "t0  3220.0 tf  3230.0", 
        "ODE Init [mM] [ 0.0004325   0.02974612]", 
        "t0 3220.000000 tf 3230.000000 [ms]", 
        "ODE statesF: [mM] "
       ]
      }, 
      {
       "output_type": "stream", 
       "stream": "stdout", 
       "text": [
        " [ 0.00041441  0.02952274]", 
        "ODE statesF: [uM]  0.414412007597", 
        "ODE states Flux [mM/ms]:  [ -1.80835644e-06  -2.23384270e-05]", 
        "ODE states Flux [uM/ms]:  [-0.00180836 -0.02233843]", 
        "THIS IS WRONG I THINK  -0.000196466020868", 
        "WARNING: not  great way of doing this", 
        "jboundary [mM/ms] 0.000135596911667", 
        "jboundary [uM/ms] 0.135596911667", 
        "jvol [mM/ms]  -0.00109923291766", 
        "jvol [uM/ms]  -1099.23291766", 
        "##", 
        "## WARNING: we are not updating CaTnC!!!", 
        "##", 
        "T 3230.000000 [ms] Conc(0) 0.000253 [mM]"
       ]
      }, 
      {
       "output_type": "stream", 
       "stream": "stdout", 
       "text": [
        "", 
        "T 3230.000000 [ms] Conc(0) 0.253462 [uM]", 
        "T 3230.000000 [ms] Conc(1) 0.025588 [mM]", 
        "T 3230.000000 [ms] Conc(1) 25.588410 [uM]", 
        "WARNING: skipping conc updatee", 
        "###########################################################################", 
        "t0  3230.0 tf  3240.0", 
        "ODE Init [mM] [ 0.00041441  0.02952274]", 
        "t0 3230.000000 tf 3240.000000 [ms]", 
        "ODE statesF: [mM] "
       ]
      }, 
      {
       "output_type": "stream", 
       "stream": "stdout", 
       "text": [
        " [ 0.00039633  0.029158  ]", 
        "ODE statesF: [uM]  0.396326134453", 
        "ODE states Flux [mM/ms]:  [ -1.80858731e-06  -3.64739780e-05]", 
        "ODE states Flux [uM/ms]:  [-0.00180859 -0.03647398]", 
        "THIS IS WRONG I THINK  -0.000190950205544", 
        "WARNING: not  great way of doing this", 
        "jboundary [mM/ms] 0.000116487310602", 
        "jboundary [uM/ms] 0.116487310602", 
        "jvol [mM/ms]  -0.000946374689853", 
        "jvol [uM/ms]  -946.374689853", 
        "##", 
        "## WARNING: we are not updating CaTnC!!!", 
        "##", 
        "T 3240.000000 [ms] Conc(0) 0.000250 [mM]"
       ]
      }, 
      {
       "output_type": "stream", 
       "stream": "stdout", 
       "text": [
        "", 
        "T 3240.000000 [ms] Conc(0) 0.250269 [uM]", 
        "T 3240.000000 [ms] Conc(1) 0.025588 [mM]", 
        "T 3240.000000 [ms] Conc(1) 25.588410 [uM]", 
        "WARNING: skipping conc updatee", 
        "###########################################################################", 
        "t0  3240.0 tf  3250.0", 
        "ODE Init [mM] [ 0.00039633  0.029158  ]", 
        "t0 3240.000000 tf 3250.000000 [ms]", 
        "ODE statesF: [mM] "
       ]
      }, 
      {
       "output_type": "stream", 
       "stream": "stdout", 
       "text": [
        " [ 0.00037859  0.02869003]", 
        "ODE statesF: [uM]  0.378585033158", 
        "ODE states Flux [mM/ms]:  [ -1.77411013e-06  -4.67967428e-05]", 
        "ODE states Flux [uM/ms]:  [-0.00177411 -0.04679674]", 
        "THIS IS WRONG I THINK  -0.000185008013137", 
        "WARNING: not  great way of doing this", 
        "jboundary [mM/ms] 0.00010174968579", 
        "jboundary [uM/ms] 0.10174968579", 
        "jvol [mM/ms]  -0.000828209278638", 
        "jvol [uM/ms]  -828.209278638", 
        "##", 
        "## WARNING: we are not updating CaTnC!!!", 
        "##", 
        "T 3250.000000 [ms] Conc(0) 0.000247 [mM]"
       ]
      }, 
      {
       "output_type": "stream", 
       "stream": "stdout", 
       "text": [
        "", 
        "T 3250.000000 [ms] Conc(0) 0.246811 [uM]", 
        "T 3250.000000 [ms] Conc(1) 0.025588 [mM]", 
        "T 3250.000000 [ms] Conc(1) 25.588410 [uM]", 
        "WARNING: skipping conc updatee", 
        "###########################################################################", 
        "t0  3250.0 tf  3260.0", 
        "ODE Init [mM] [ 0.00037859  0.02869003]", 
        "t0 3250.000000 tf 3260.000000 [ms]", 
        "ODE statesF: [mM] "
       ]
      }, 
      {
       "output_type": "stream", 
       "stream": "stdout", 
       "text": [
        " [ 0.00036142  0.02814815]", 
        "ODE statesF: [uM]  0.361417492773", 
        "ODE states Flux [mM/ms]:  [ -1.71675404e-06  -5.41874098e-05]", 
        "ODE states Flux [uM/ms]:  [-0.00171675 -0.05418741]", 
        "THIS IS WRONG I THINK  -0.000178722522622", 
        "WARNING: not  great way of doing this", 
        "jboundary [mM/ms] 9.02566238147e-05", 
        "jboundary [uM/ms] 0.0902566238147", 
        "jvol [mM/ms]  -0.00073581313878", 
        "jvol [uM/ms]  -735.81313878", 
        "##", 
        "## WARNING: we are not updating CaTnC!!!", 
        "##", 
        "T 3260.000000 [ms] Conc(0) 0.000243 [mM]"
       ]
      }, 
      {
       "output_type": "stream", 
       "stream": "stdout", 
       "text": [
        "", 
        "T 3260.000000 [ms] Conc(0) 0.243172 [uM]", 
        "T 3260.000000 [ms] Conc(1) 0.025588 [mM]", 
        "T 3260.000000 [ms] Conc(1) 25.588410 [uM]", 
        "WARNING: skipping conc updatee", 
        "###########################################################################", 
        "t0  3260.0 tf  3270.0", 
        "ODE Init [mM] [ 0.00036142  0.02814815]", 
        "t0 3260.000000 tf 3270.000000 [ms]", 
        "ODE statesF: [mM] "
       ]
      }, 
      {
       "output_type": "stream", 
       "stream": "stdout", 
       "text": [
        " [ 0.00034496  0.02755488]", 
        "ODE statesF: [uM]  0.344959384949", 
        "ODE states Flux [mM/ms]:  [ -1.64581078e-06  -5.93277937e-05]", 
        "ODE states Flux [uM/ms]:  [-0.00164581 -0.05932779]", 
        "THIS IS WRONG I THINK  -0.000172169016615", 
        "WARNING: not  great way of doing this", 
        "jboundary [mM/ms] 8.11562472068e-05", 
        "jboundary [uM/ms] 0.0811562472068", 
        "jvol [mM/ms]  -0.000662446490134", 
        "jvol [uM/ms]  -662.446490134", 
        "##", 
        "## WARNING: we are not updating CaTnC!!!", 
        "##", 
        "T 3270.000000 [ms] Conc(0) 0.000239 [mM]"
       ]
      }, 
      {
       "output_type": "stream", 
       "stream": "stdout", 
       "text": [
        "", 
        "T 3270.000000 [ms] Conc(0) 0.239427 [uM]", 
        "T 3270.000000 [ms] Conc(1) 0.025588 [mM]", 
        "T 3270.000000 [ms] Conc(1) 25.588410 [uM]", 
        "WARNING: skipping conc updatee", 
        "###########################################################################", 
        "t0  3270.0 tf  3280.0", 
        "ODE Init [mM] [ 0.00034496  0.02755488]", 
        "t0 3270.000000 tf 3280.000000 [ms]", 
        "ODE statesF: [mM] "
       ]
      }, 
      {
       "output_type": "stream", 
       "stream": "stdout", 
       "text": [
        " [ 0.00032927  0.02692736]", 
        "ODE statesF: [uM]  0.329273598226", 
        "ODE states Flux [mM/ms]:  [ -1.56857867e-06  -6.27517365e-05]", 
        "ODE states Flux [uM/ms]:  [-0.00156858 -0.06275174]", 
        "THIS IS WRONG I THINK  -0.000165413454297", 
        "WARNING: not  great way of doing this", 
        "jboundary [mM/ms] 7.3793482907e-05", 
        "jboundary [uM/ms] 0.073793482907", 
        "jvol [mM/ms]  -0.000602927817111", 
        "jvol [uM/ms]  -602.927817111", 
        "##", 
        "## WARNING: we are not updating CaTnC!!!", 
        "##", 
        "T 3280.000000 [ms] Conc(0) 0.000236 [mM]"
       ]
      }, 
      {
       "output_type": "stream", 
       "stream": "stdout", 
       "text": [
        "", 
        "T 3280.000000 [ms] Conc(0) 0.235636 [uM]", 
        "T 3280.000000 [ms] Conc(1) 0.025588 [mM]", 
        "T 3280.000000 [ms] Conc(1) 25.588410 [uM]", 
        "WARNING: skipping conc updatee", 
        "###########################################################################", 
        "t0  3280.0 tf  3290.0", 
        "ODE Init [mM] [ 0.00032927  0.02692736]", 
        "t0 3280.000000 tf 3290.000000 [ms]", 
        "ODE statesF: [mM] "
       ]
      }, 
      {
       "output_type": "stream", 
       "stream": "stdout", 
       "text": [
        " [ 0.00031436  0.0262785 ]", 
        "ODE statesF: [uM]  0.314363516037", 
        "ODE states Flux [mM/ms]:  [ -1.49100822e-06  -6.48863507e-05]", 
        "ODE states Flux [uM/ms]:  [-0.00149101 -0.06488635]", 
        "THIS IS WRONG I THINK  -0.000158509698332", 
        "WARNING: not  great way of doing this", 
        "jboundary [mM/ms] 6.764869216e-05", 
        "jboundary [uM/ms] 0.06764869216", 
        "jvol [mM/ms]  -0.000553148014923", 
        "jvol [uM/ms]  -553.148014923", 
        "##", 
        "## WARNING: we are not updating CaTnC!!!", 
        "##", 
        "T 3290.000000 [ms] Conc(0) 0.000232 [mM]"
       ]
      }, 
      {
       "output_type": "stream", 
       "stream": "stdout", 
       "text": [
        "", 
        "T 3290.000000 [ms] Conc(0) 0.231836 [uM]", 
        "T 3290.000000 [ms] Conc(1) 0.025588 [mM]", 
        "T 3290.000000 [ms] Conc(1) 25.588410 [uM]", 
        "WARNING: skipping conc updatee", 
        "###########################################################################", 
        "t0  3290.0 tf  3300.0", 
        "ODE Init [mM] [ 0.00031436  0.0262785 ]", 
        "t0 3290.000000 tf 3300.000000 [ms]", 
        "ODE statesF: [mM] "
       ]
      }, 
      {
       "output_type": "stream", 
       "stream": "stdout", 
       "text": [
        " [ 0.00030018  0.02561763]", 
        "ODE statesF: [uM]  0.300178863665", 
        "ODE states Flux [mM/ms]:  [ -1.41846524e-06  -6.60865538e-05]", 
        "ODE states Flux [uM/ms]:  [-0.00141847 -0.06608655]", 
        "THIS IS WRONG I THINK  -0.000151494967629", 
        "WARNING: not  great way of doing this", 
        "jboundary [mM/ms] 6.22837096446e-05", 
        "jboundary [uM/ms] 0.0622837096446", 
        "jvol [mM/ms]  -0.000509644750439", 
        "jvol [uM/ms]  -509.644750439", 
        "##", 
        "## WARNING: we are not updating CaTnC!!!", 
        "##", 
        "T 3300.000000 [ms] Conc(0) 0.000228 [mM]"
       ]
      }, 
      {
       "output_type": "stream", 
       "stream": "stdout", 
       "text": [
        "", 
        "T 3300.000000 [ms] Conc(0) 0.228043 [uM]", 
        "T 3300.000000 [ms] Conc(1) 0.025588 [mM]", 
        "T 3300.000000 [ms] Conc(1) 25.588410 [uM]", 
        "WARNING: skipping conc updatee", 
        "###########################################################################", 
        "t0  3300.0 tf  3310.0", 
        "ODE Init [mM] [ 0.00030018  0.02561763]", 
        "t0 3300.000000 tf 3310.000000 [ms]", 
        "ODE statesF: [mM] "
       ]
      }, 
      {
       "output_type": "stream", 
       "stream": "stdout", 
       "text": [
        " [ 0.00028661  0.02495095]", 
        "ODE statesF: [uM]  0.286611850048", 
        "ODE states Flux [mM/ms]:  [ -1.35670136e-06  -6.66680559e-05]", 
        "ODE states Flux [uM/ms]:  [-0.0013567  -0.06666806]", 
        "THIS IS WRONG I THINK  -0.000144382180182", 
        "WARNING: not  great way of doing this", 
        "jboundary [mM/ms] 5.72859095206e-05", 
        "jboundary [uM/ms] 0.0572859095206", 
        "jvol [mM/ms]  -0.000469162659349", 
        "jvol [uM/ms]  -469.162659349", 
        "##", 
        "## WARNING: we are not updating CaTnC!!!", 
        "##", 
        "T 3310.000000 [ms] Conc(0) 0.000224 [mM]"
       ]
      }, 
      {
       "output_type": "stream", 
       "stream": "stdout", 
       "text": [
        "", 
        "T 3310.000000 [ms] Conc(0) 0.224237 [uM]", 
        "T 3310.000000 [ms] Conc(1) 0.025588 [mM]", 
        "T 3310.000000 [ms] Conc(1) 25.588410 [uM]", 
        "WARNING: skipping conc updatee", 
        "###########################################################################", 
        "t0  3310.0 tf  3320.0", 
        "ODE Init [mM] [ 0.00028661  0.02495095]", 
        "t0 3310.000000 tf 3320.000000 [ms]", 
        "ODE statesF: [mM] "
       ]
      }, 
      {
       "output_type": "stream", 
       "stream": "stdout", 
       "text": [
        " [ 0.00027348  0.02428152]", 
        "ODE statesF: [uM]  0.273483360691", 
        "ODE states Flux [mM/ms]:  [ -1.31284894e-06  -6.69431311e-05]", 
        "ODE states Flux [uM/ms]:  [-0.00131285 -0.06694313]", 
        "THIS IS WRONG I THINK  -0.000137147081344", 
        "WARNING: not  great way of doing this", 
        "jboundary [mM/ms] 5.22019643031e-05", 
        "jboundary [uM/ms] 0.0522019643031", 
        "jvol [mM/ms]  -0.000428131572751", 
        "jvol [uM/ms]  -428.131572751", 
        "##", 
        "## WARNING: we are not updating CaTnC!!!", 
        "##", 
        "T 3320.000000 [ms] Conc(0) 0.000220 [mM]"
       ]
      }, 
      {
       "output_type": "stream", 
       "stream": "stdout", 
       "text": [
        "", 
        "T 3320.000000 [ms] Conc(0) 0.220355 [uM]", 
        "T 3320.000000 [ms] Conc(1) 0.025588 [mM]", 
        "T 3320.000000 [ms] Conc(1) 25.588410 [uM]", 
        "WARNING: skipping conc updatee", 
        "###########################################################################", 
        "t0  3320.0 tf  3330.0", 
        "ODE Init [mM] [ 0.00027348  0.02428152]", 
        "t0 3320.000000 tf 3330.000000 [ms]", 
        "ODE statesF: [mM] "
       ]
      }, 
      {
       "output_type": "stream", 
       "stream": "stdout", 
       "text": [
        " [ 0.00026055  0.02360905]", 
        "ODE statesF: [uM]  0.260548860446", 
        "ODE states Flux [mM/ms]:  [ -1.29345002e-06  -6.72469720e-05]", 
        "ODE states Flux [uM/ms]:  [-0.00129345 -0.06724697]", 
        "THIS IS WRONG I THINK  -0.000129712960681", 
        "WARNING: not  great way of doing this", 
        "jboundary [mM/ms] 4.64898333501e-05", 
        "jboundary [uM/ms] 0.0464898333501", 
        "jvol [mM/ms]  -0.000382269472502", 
        "jvol [uM/ms]  -382.269472502", 
        "##", 
        "## WARNING: we are not updating CaTnC!!!", 
        "##", 
        "T 3330.000000 [ms] Conc(0) 0.000216 [mM]"
       ]
      }, 
      {
       "output_type": "stream", 
       "stream": "stdout", 
       "text": [
        "", 
        "T 3330.000000 [ms] Conc(0) 0.216272 [uM]", 
        "T 3330.000000 [ms] Conc(1) 0.025588 [mM]", 
        "T 3330.000000 [ms] Conc(1) 25.588410 [uM]", 
        "WARNING: skipping conc updatee", 
        "###########################################################################", 
        "t0  3330.0 tf  3340.0", 
        "ODE Init [mM] [ 0.00026055  0.02360905]", 
        "t0 3330.000000 tf 3340.000000 [ms]", 
        "ODE statesF: [mM] "
       ]
      }, 
      {
       "output_type": "stream", 
       "stream": "stdout", 
       "text": [
        " [ 0.00024767  0.0229306 ]", 
        "ODE statesF: [uM]  0.247669876729", 
        "ODE states Flux [mM/ms]:  [ -1.28789837e-06  -6.78447582e-05]", 
        "ODE states Flux [uM/ms]:  [-0.0012879  -0.06784476]", 
        "THIS IS WRONG I THINK  -0.000121975783307", 
        "WARNING: not  great way of doing this", 
        "jboundary [mM/ms] 3.97346316903e-05", 
        "jboundary [uM/ms] 0.0397346316903", 
        "jvol [mM/ms]  -0.000328184567854", 
        "jvol [uM/ms]  -328.184567854", 
        "##", 
        "## WARNING: we are not updating CaTnC!!!", 
        "##", 
        "T 3340.000000 [ms] Conc(0) 0.000212 [mM]"
       ]
      }, 
      {
       "output_type": "stream", 
       "stream": "stdout", 
       "text": [
        "", 
        "T 3340.000000 [ms] Conc(0) 0.211824 [uM]", 
        "T 3340.000000 [ms] Conc(1) 0.025588 [mM]", 
        "T 3340.000000 [ms] Conc(1) 25.588410 [uM]", 
        "WARNING: skipping conc updatee", 
        "###########################################################################", 
        "t0  3340.0 tf  3350.0", 
        "ODE Init [mM] [ 0.00024767  0.0229306 ]", 
        "t0 3340.000000 tf 3350.000000 [ms]", 
        "ODE statesF: [mM] "
       ]
      }, 
      {
       "output_type": "stream", 
       "stream": "stdout", 
       "text": [
        " [ 0.00023497  0.02224432]", 
        "ODE statesF: [uM]  0.234971999121", 
        "ODE states Flux [mM/ms]:  [ -1.26978776e-06  -6.86283027e-05]", 
        "ODE states Flux [uM/ms]:  [-0.00126979 -0.0686283 ]", 
        "THIS IS WRONG I THINK  -0.00011394519658", 
        "WARNING: not  great way of doing this", 
        "jboundary [mM/ms] 3.23155400604e-05", 
        "jboundary [uM/ms] 0.0323155400604", 
        "jvol [mM/ms]  -0.000268686404211", 
        "jvol [uM/ms]  -268.686404211", 
        "##", 
        "## WARNING: we are not updating CaTnC!!!", 
        "##", 
        "T 3350.000000 [ms] Conc(0) 0.000207 [mM]"
       ]
      }, 
      {
       "output_type": "stream", 
       "stream": "stdout", 
       "text": [
        "", 
        "T 3350.000000 [ms] Conc(0) 0.206911 [uM]", 
        "T 3350.000000 [ms] Conc(1) 0.025588 [mM]", 
        "T 3350.000000 [ms] Conc(1) 25.588410 [uM]", 
        "WARNING: skipping conc updatee", 
        "###########################################################################", 
        "t0  3350.0 tf  3360.0", 
        "ODE Init [mM] [ 0.00023497  0.02224432]", 
        "t0 3350.000000 tf 3360.000000 [ms]", 
        "ODE statesF: [mM] "
       ]
      }, 
      {
       "output_type": "stream", 
       "stream": "stdout", 
       "text": [
        " [ 0.00022231  0.02154823]", 
        "ODE statesF: [uM]  0.222309842807", 
        "ODE states Flux [mM/ms]:  [ -1.26621563e-06  -6.96086003e-05]", 
        "ODE states Flux [uM/ms]:  [-0.00126622 -0.0696086 ]", 
        "THIS IS WRONG I THINK  -0.000105622876156", 
        "WARNING: not  great way of doing this", 
        "jboundary [mM/ms] 2.41959357733e-05", 
        "jboundary [uM/ms] 0.0241959357733", 
        "jvol [mM/ms]  -0.000203711581836", 
        "jvol [uM/ms]  -203.711581836", 
        "##", 
        "## WARNING: we are not updating CaTnC!!!", 
        "##", 
        "T 3360.000000 [ms] Conc(0) 0.000201 [mM]"
       ]
      }, 
      {
       "output_type": "stream", 
       "stream": "stdout", 
       "text": [
        "", 
        "T 3360.000000 [ms] Conc(0) 0.201226 [uM]", 
        "T 3360.000000 [ms] Conc(1) 0.025588 [mM]", 
        "T 3360.000000 [ms] Conc(1) 25.588410 [uM]", 
        "WARNING: skipping conc updatee", 
        "###########################################################################", 
        "t0  3360.0 tf  3370.0", 
        "ODE Init [mM] [ 0.00022231  0.02154823]", 
        "t0 3360.000000 tf 3370.000000 [ms]", 
        "ODE statesF: [mM] "
       ]
      }, 
      {
       "output_type": "stream", 
       "stream": "stdout", 
       "text": [
        " [ 0.0002109   0.02084761]", 
        "ODE statesF: [uM]  0.210896444846", 
        "ODE states Flux [mM/ms]:  [ -1.14133980e-06  -7.00619458e-05]", 
        "ODE states Flux [uM/ms]:  [-0.00114134 -0.07006195]", 
        "THIS IS WRONG I THINK  -9.72771106243e-05", 
        "WARNING: not  great way of doing this", 
        "jboundary [mM/ms] 1.70836516372e-05", 
        "jboundary [uM/ms] 0.0170836516372", 
        "jvol [mM/ms]  -0.000145868673656", 
        "jvol [uM/ms]  -145.868673656", 
        "##", 
        "## WARNING: we are not updating CaTnC!!!", 
        "##", 
        "T 3370.000000 [ms] Conc(0) 0.000195 [mM]"
       ]
      }, 
      {
       "output_type": "stream", 
       "stream": "stdout", 
       "text": [
        "", 
        "T 3370.000000 [ms] Conc(0) 0.195194 [uM]", 
        "T 3370.000000 [ms] Conc(1) 0.025588 [mM]", 
        "T 3370.000000 [ms] Conc(1) 25.588410 [uM]", 
        "WARNING: skipping conc updatee", 
        "###########################################################################", 
        "t0  3370.0 tf  3380.0", 
        "ODE Init [mM] [ 0.0002109   0.02084761]", 
        "t0 3370.000000 tf 3380.000000 [ms]", 
        "ODE statesF: [mM] "
       ]
      }, 
      {
       "output_type": "stream", 
       "stream": "stdout", 
       "text": [
        " [ 0.00020086  0.02015986]", 
        "ODE statesF: [uM]  0.200863190809", 
        "ODE states Flux [mM/ms]:  [ -1.00332540e-06  -6.87753604e-05]", 
        "ODE states Flux [uM/ms]:  [-0.00100333 -0.06877536]", 
        "THIS IS WRONG I THINK  -8.96213203824e-05", 
        "WARNING: not  great way of doing this", 
        "jboundary [mM/ms] 1.35668116552e-05", 
        "jboundary [uM/ms] 0.0135668116552", 
        "jvol [mM/ms]  -0.000116605189085", 
        "jvol [uM/ms]  -116.605189085", 
        "##", 
        "## WARNING: we are not updating CaTnC!!!", 
        "##", 
        "T 3380.000000 [ms] Conc(0) 0.000189 [mM]"
       ]
      }, 
      {
       "output_type": "stream", 
       "stream": "stdout", 
       "text": [
        "", 
        "T 3380.000000 [ms] Conc(0) 0.189418 [uM]", 
        "T 3380.000000 [ms] Conc(1) 0.025588 [mM]", 
        "T 3380.000000 [ms] Conc(1) 25.588410 [uM]", 
        "WARNING: skipping conc updatee", 
        "###########################################################################", 
        "t0  3380.0 tf  3390.0", 
        "ODE Init [mM] [ 0.00020086  0.02015986]", 
        "t0 3380.000000 tf 3390.000000 [ms]", 
        "ODE statesF: [mM] "
       ]
      }, 
      {
       "output_type": "stream", 
       "stream": "stdout", 
       "text": [
        " [ 0.00019181  0.0194941 ]", 
        "ODE statesF: [uM]  0.191805430654", 
        "ODE states Flux [mM/ms]:  [ -9.05776016e-07  -6.65755644e-05]", 
        "ODE states Flux [uM/ms]:  [-0.00090578 -0.06657556]", 
        "THIS IS WRONG I THINK  -8.25491056149e-05", 
        "WARNING: not  great way of doing this", 
        "jboundary [mM/ms] 1.15032634086e-05", 
        "jboundary [uM/ms] 0.0115032634086", 
        "jvol [mM/ms]  -9.93079036687e-05", 
        "jvol [uM/ms]  -99.3079036687", 
        "##", 
        "## WARNING: we are not updating CaTnC!!!", 
        "##", 
        "T 3390.000000 [ms] Conc(0) 0.000184 [mM]"
       ]
      }, 
      {
       "output_type": "stream", 
       "stream": "stdout", 
       "text": [
        "", 
        "T 3390.000000 [ms] Conc(0) 0.183919 [uM]", 
        "T 3390.000000 [ms] Conc(1) 0.025588 [mM]", 
        "T 3390.000000 [ms] Conc(1) 25.588410 [uM]", 
        "WARNING: skipping conc updatee", 
        "###########################################################################", 
        "t0  3390.0 tf  3400.0", 
        "ODE Init [mM] [ 0.00019181  0.0194941 ]", 
        "t0 3390.000000 tf 3400.000000 [ms]", 
        "ODE statesF: [mM] "
       ]
      }, 
      {
       "output_type": "stream", 
       "stream": "stdout", 
       "text": [
        " [ 0.00018357  0.01885471]", 
        "ODE statesF: [uM]  0.183574766427", 
        "ODE states Flux [mM/ms]:  [ -8.23066423e-07  -6.39396913e-05]", 
        "ODE states Flux [uM/ms]:  [-0.00082307 -0.06393969]", 
        "THIS IS WRONG I THINK  -7.59611049414e-05", 
        "WARNING: not  great way of doing this", 
        "jboundary [mM/ms] 1.0071571072e-05", 
        "jboundary [uM/ms] 0.010071571072", 
        "jvol [mM/ms]  -8.71880854539e-05", 
        "jvol [uM/ms]  -87.1880854539", 
        "##", 
        "## WARNING: we are not updating CaTnC!!!", 
        "##", 
        "T 3400.000000 [ms] Conc(0) 0.000179 [mM]"
       ]
      }, 
      {
       "output_type": "stream", 
       "stream": "stdout", 
       "text": [
        "", 
        "T 3400.000000 [ms] Conc(0) 0.178727 [uM]", 
        "T 3400.000000 [ms] Conc(1) 0.025588 [mM]", 
        "T 3400.000000 [ms] Conc(1) 25.588410 [uM]", 
        "WARNING: skipping conc updatee", 
        "###########################################################################", 
        "t0  3400.0 tf  3410.0", 
        "ODE Init [mM] [ 0.00018357  0.01885471]", 
        "t0 3400.000000 tf 3410.000000 [ms]", 
        "ODE statesF: [mM] "
       ]
      }, 
      {
       "output_type": "stream", 
       "stream": "stdout", 
       "text": [
        " [ 0.00018151  0.01826694]", 
        "ODE statesF: [uM]  0.181512707108", 
        "ODE states Flux [mM/ms]:  [ -2.06205932e-07  -5.87764293e-05]", 
        "ODE states Flux [uM/ms]:  [-0.00020621 -0.05877643]", 
        "THIS IS WRONG I THINK  -7.06548707949e-05", 
        "WARNING: not  great way of doing this", 
        "jboundary [mM/ms] 1.42048379658e-05", 
        "jboundary [uM/ms] 0.0142048379658", 
        "jvol [mM/ms]  -0.000116018944472", 
        "jvol [uM/ms]  -116.018944472", 
        "##", 
        "## WARNING: we are not updating CaTnC!!!", 
        "##", 
        "T 3410.000000 [ms] Conc(0) 0.000177 [mM]"
       ]
      }, 
      {
       "output_type": "stream", 
       "stream": "stdout", 
       "text": [
        "", 
        "T 3410.000000 [ms] Conc(0) 0.177084 [uM]", 
        "T 3410.000000 [ms] Conc(1) 0.025588 [mM]", 
        "T 3410.000000 [ms] Conc(1) 25.588410 [uM]", 
        "WARNING: skipping conc updatee", 
        "###########################################################################", 
        "t0  3410.0 tf  3420.0", 
        "ODE Init [mM] [ 0.00018151  0.01826694]", 
        "t0 3410.000000 tf 3420.000000 [ms]", 
        "ODE statesF: [mM] "
       ]
      }, 
      {
       "output_type": "stream", 
       "stream": "stdout", 
       "text": [
        " [ 0.00018837  0.01786219]", 
        "ODE statesF: [uM]  0.188370899709", 
        "ODE states Flux [mM/ms]:  [  6.85819260e-07  -4.04755181e-05]", 
        "ODE states Flux [uM/ms]:  [ 0.00068582 -0.04047552]", 
        "THIS IS WRONG I THINK  -7.22189376078e-05", 
        "WARNING: not  great way of doing this", 
        "jboundary [mM/ms] 4.81795451352e-05", 
        "jboundary [uM/ms] 0.0481795451352", 
        "jvol [mM/ms]  -0.000380232145412", 
        "jvol [uM/ms]  -380.232145412", 
        "##", 
        "## WARNING: we are not updating CaTnC!!!", 
        "##", 
        "T 3420.000000 [ms] Conc(0) 0.000179 [mM]"
       ]
      }, 
      {
       "output_type": "stream", 
       "stream": "stdout", 
       "text": [
        "", 
        "T 3420.000000 [ms] Conc(0) 0.178850 [uM]", 
        "T 3420.000000 [ms] Conc(1) 0.025588 [mM]", 
        "T 3420.000000 [ms] Conc(1) 25.588410 [uM]", 
        "WARNING: skipping conc updatee", 
        "###########################################################################", 
        "t0  3420.0 tf  3430.0", 
        "ODE Init [mM] [ 0.00018837  0.01786219]", 
        "t0 3420.000000 tf 3430.000000 [ms]", 
        "ODE statesF: [mM] "
       ]
      }, 
      {
       "output_type": "stream", 
       "stream": "stdout", 
       "text": [
        " [ 0.00021381  0.01775885]", 
        "ODE statesF: [uM]  0.213806507697", 
        "ODE states Flux [mM/ms]:  [  2.54356080e-06  -1.03334345e-05]", 
        "ODE states Flux [uM/ms]:  [ 0.00254356 -0.01033343]", 
        "THIS IS WRONG I THINK  -8.16658055688e-05", 
        "WARNING: not  great way of doing this", 
        "jboundary [mM/ms] 0.000106267702509", 
        "jboundary [uM/ms] 0.106267702509", 
        "jvol [mM/ms]  -0.000831358902174", 
        "jvol [uM/ms]  -831.358902174", 
        "##", 
        "## WARNING: we are not updating CaTnC!!!", 
        "##", 
        "T 3430.000000 [ms] Conc(0) 0.000182 [mM]"
       ]
      }, 
      {
       "output_type": "stream", 
       "stream": "stdout", 
       "text": [
        "", 
        "T 3430.000000 [ms] Conc(0) 0.182298 [uM]", 
        "T 3430.000000 [ms] Conc(1) 0.025588 [mM]", 
        "T 3430.000000 [ms] Conc(1) 25.588410 [uM]", 
        "WARNING: skipping conc updatee", 
        "###########################################################################", 
        "t0  3430.0 tf  3440.0", 
        "ODE Init [mM] [ 0.00021381  0.01775885]", 
        "t0 3430.000000 tf 3440.000000 [ms]", 
        "ODE statesF: [mM] "
       ]
      }, 
      {
       "output_type": "stream", 
       "stream": "stdout", 
       "text": [
        " [ 0.00033106  0.01865448]", 
        "ODE statesF: [uM]  0.331056475402", 
        "ODE states Flux [mM/ms]:  [  1.17249968e-05   8.95624209e-05]", 
        "ODE states Flux [uM/ms]:  [ 0.011725    0.08956242]", 
        "THIS IS WRONG I THINK  -0.000120870993357", 
        "WARNING: not  great way of doing this", 
        "jboundary [mM/ms] 0.000316544200343", 
        "jboundary [uM/ms] 0.316544200343", 
        "jvol [mM/ms]  -0.0024432619511", 
        "jvol [uM/ms]  -2443.2619511", 
        "##", 
        "## WARNING: we are not updating CaTnC!!!", 
        "##", 
        "T 3440.000000 [ms] Conc(0) 0.000189 [mM]"
       ]
      }, 
      {
       "output_type": "stream", 
       "stream": "stdout", 
       "text": [
        "", 
        "T 3440.000000 [ms] Conc(0) 0.188571 [uM]", 
        "T 3440.000000 [ms] Conc(1) 0.025588 [mM]", 
        "T 3440.000000 [ms] Conc(1) 25.588410 [uM]", 
        "WARNING: skipping conc updatee", 
        "###########################################################################", 
        "t0  3440.0 tf  3450.0", 
        "ODE Init [mM] [ 0.00033106  0.01865448]", 
        "t0 3440.000000 tf 3450.000000 [ms]", 
        "ODE statesF: [mM] "
       ]
      }, 
      {
       "output_type": "stream", 
       "stream": "stdout", 
       "text": [
        " [ 0.00045448  0.02132854]", 
        "ODE statesF: [uM]  0.454479422859", 
        "ODE states Flux [mM/ms]:  [  1.23422947e-05   2.67406780e-04]", 
        "ODE states Flux [uM/ms]:  [ 0.01234229  0.26740678]", 
        "THIS IS WRONG I THINK  -0.000185223024732", 
        "WARNING: not  great way of doing this", 
        "jboundary [mM/ms] 0.000653751346914", 
        "jboundary [uM/ms] 0.653751346914", 
        "jvol [mM/ms]  -0.00512738863383", 
        "jvol [uM/ms]  -5127.38863383", 
        "##", 
        "## WARNING: we are not updating CaTnC!!!", 
        "##", 
        "T 3450.000000 [ms] Conc(0) 0.000192 [mM]"
       ]
      }, 
      {
       "output_type": "stream", 
       "stream": "stdout", 
       "text": [
        "", 
        "T 3450.000000 [ms] Conc(0) 0.192237 [uM]", 
        "T 3450.000000 [ms] Conc(1) 0.025588 [mM]", 
        "T 3450.000000 [ms] Conc(1) 25.588410 [uM]", 
        "WARNING: skipping conc updatee", 
        "###########################################################################", 
        "t0  3450.0 tf  3460.0", 
        "ODE Init [mM] [ 0.00045448  0.02132854]", 
        "t0 3450.000000 tf 3460.000000 [ms]", 
        "ODE statesF: [mM] "
       ]
      }, 
      {
       "output_type": "stream", 
       "stream": "stdout", 
       "text": [
        " [ 0.00049184  0.02422188]", 
        "ODE statesF: [uM]  0.491838121492", 
        "ODE states Flux [mM/ms]:  [  3.73586986e-06   2.89333803e-04]", 
        "ODE states Flux [uM/ms]:  [ 0.00373587  0.2893338 ]", 
        "THIS IS WRONG I THINK  -0.000208777954205", 
        "WARNING: not  great way of doing this", 
        "jboundary [mM/ms] 0.000630183566028", 
        "jboundary [uM/ms] 0.630183566028", 
        "jvol [mM/ms]  -0.00500940881288", 
        "jvol [uM/ms]  -5009.40881288", 
        "##", 
        "## WARNING: we are not updating CaTnC!!!", 
        "##", 
        "T 3460.000000 [ms] Conc(0) 0.000193 [mM]"
       ]
      }, 
      {
       "output_type": "stream", 
       "stream": "stdout", 
       "text": [
        "", 
        "T 3460.000000 [ms] Conc(0) 0.193430 [uM]", 
        "T 3460.000000 [ms] Conc(1) 0.025588 [mM]", 
        "T 3460.000000 [ms] Conc(1) 25.588410 [uM]", 
        "WARNING: skipping conc updatee", 
        "###########################################################################", 
        "t0  3460.0 tf  3470.0", 
        "ODE Init [mM] [ 0.00049184  0.02422188]", 
        "t0 3460.000000 tf 3470.000000 [ms]", 
        "ODE statesF: [mM] "
       ]
      }, 
      {
       "output_type": "stream", 
       "stream": "stdout", 
       "text": [
        " [ 0.00049799  0.02647773]", 
        "ODE statesF: [uM]  0.497990507506", 
        "ODE states Flux [mM/ms]:  [  6.15238601e-07   2.25584601e-04]", 
        "ODE states Flux [uM/ms]:  [ 0.00061524  0.2255846 ]", 
        "THIS IS WRONG I THINK  -0.000213739939006", 
        "WARNING: not  great way of doing this", 
        "jboundary [mM/ms] 0.000490100380011", 
        "jboundary [uM/ms] 0.490100380011", 
        "jvol [mM/ms]  -0.00391518859367", 
        "jvol [uM/ms]  -3915.18859367", 
        "##", 
        "## WARNING: we are not updating CaTnC!!!", 
        "##", 
        "T 3470.000000 [ms] Conc(0) 0.000194 [mM]"
       ]
      }, 
      {
       "output_type": "stream", 
       "stream": "stdout", 
       "text": [
        "", 
        "T 3470.000000 [ms] Conc(0) 0.193697 [uM]", 
        "T 3470.000000 [ms] Conc(1) 0.025588 [mM]", 
        "T 3470.000000 [ms] Conc(1) 25.588410 [uM]", 
        "WARNING: skipping conc updatee", 
        "###########################################################################", 
        "t0  3470.0 tf  3480.0", 
        "ODE Init [mM] [ 0.00049799  0.02647773]", 
        "t0 3470.000000 tf 3480.000000 [ms]", 
        "ODE statesF: [mM] "
       ]
      }, 
      {
       "ename": "KeyboardInterrupt", 
       "evalue": "", 
       "output_type": "pyerr", 
       "traceback": [
        "\u001b[0;31m---------------------------------------------------------------------------\u001b[0m\n\u001b[0;31mKeyboardInterrupt\u001b[0m                         Traceback (most recent call last)", 
        "\u001b[0;32m/home/huskeypm/localTemp/wholecell/<ipython-input-1-e798bd370485>\u001b[0m in \u001b[0;36m<module>\u001b[0;34m()\u001b[0m\n\u001b[1;32m      7\u001b[0m \u001b[0;32mif\u001b[0m \u001b[0mrun\u001b[0m\u001b[0;34m:\u001b[0m\u001b[0;34m\u001b[0m\u001b[0m\n\u001b[1;32m      8\u001b[0m   \u001b[0;31m# test 1\u001b[0m\n\u001b[0;34m\u001b[0m\u001b[0m\n\u001b[0;32m----> 9\u001b[0;31m   \u001b[0mgt\u001b[0m\u001b[0;34m.\u001b[0m\u001b[0mTest1\u001b[0m\u001b[0;34m(\u001b[0m\u001b[0;34m)\u001b[0m\u001b[0;34m\u001b[0m\u001b[0m\n\u001b[0m\u001b[1;32m     10\u001b[0m \u001b[0;34m\u001b[0m\u001b[0m\n\u001b[1;32m     11\u001b[0m   \u001b[0;31m# test 2\u001b[0m\n\u001b[0;34m\u001b[0m\u001b[0m\n", 
        "\u001b[0;32m/home/huskeypm/localTemp/wholecell/templateGotran.py\u001b[0m in \u001b[0;36mTest1\u001b[0;34m(do)\u001b[0m\n\u001b[1;32m   1142\u001b[0m     \u001b[0;31m# stim_period = 300 [ms]\u001b[0m\n\u001b[0;34m\u001b[0m\u001b[0m\n\u001b[1;32m   1143\u001b[0m     \u001b[0;31m#print pi.odeParams[param_indices(\"Kmf\")]\u001b[0m\n\u001b[0;34m\u001b[0m\u001b[0m\n\u001b[0;32m-> 1144\u001b[0;31m \u001b[0;34m\u001b[0m\u001b[0m\n\u001b[0m\u001b[1;32m   1145\u001b[0m     \u001b[0;31m#problemi, resultsi = loop(pi,case=\"test1\",mode=\"totalFlux\")\u001b[0m\n\u001b[0;34m\u001b[0m\u001b[0m\n\u001b[1;32m   1146\u001b[0m     \u001b[0mproblemi\u001b[0m\u001b[0;34m,\u001b[0m \u001b[0mresultsi\u001b[0m \u001b[0;34m=\u001b[0m \u001b[0mloop\u001b[0m\u001b[0;34m(\u001b[0m\u001b[0mpi\u001b[0m\u001b[0;34m,\u001b[0m\u001b[0mcase\u001b[0m\u001b[0;34m=\u001b[0m\u001b[0;34m\"test1\"\u001b[0m\u001b[0;34m,\u001b[0m\u001b[0mmode\u001b[0m\u001b[0;34m=\u001b[0m\u001b[0;34m\"separateFlux\"\u001b[0m\u001b[0;34m)\u001b[0m\u001b[0;34m\u001b[0m\u001b[0m\n", 
        "\u001b[0;32m/home/huskeypm/localTemp/wholecell/templateGotran.py\u001b[0m in \u001b[0;36mloop\u001b[0;34m(p, duration, asserts, case, mode, geometry)\u001b[0m\n\u001b[1;32m   1016\u001b[0m \u001b[0;34m\u001b[0m\u001b[0m\n\u001b[1;32m   1017\u001b[0m   \u001b[0mp\u001b[0m\u001b[0;34m.\u001b[0m\u001b[0mtag\u001b[0m \u001b[0;34m=\u001b[0m \u001b[0mcase\u001b[0m\u001b[0;34m\u001b[0m\u001b[0m\n\u001b[0;32m-> 1018\u001b[0;31m   problemi,resultsi= runPDE(params=p,mode=mode,anisotropic=False,\\\n\u001b[0m\u001b[1;32m   1019\u001b[0m                          \u001b[0masserts\u001b[0m\u001b[0;34m=\u001b[0m\u001b[0masserts\u001b[0m\u001b[0;34m,\u001b[0m\u001b[0mduration\u001b[0m\u001b[0;34m=\u001b[0m\u001b[0mduration\u001b[0m\u001b[0;34m,\u001b[0m\u001b[0moutputName\u001b[0m\u001b[0;34m=\u001b[0m\u001b[0mcase\u001b[0m\u001b[0;34m,\u001b[0m\u001b[0;31m\\\u001b[0m\u001b[0;34m\u001b[0m\u001b[0m\n\u001b[1;32m   1020\u001b[0m                          geometry=geometry)\n", 
        "\u001b[0;32m/home/huskeypm/localTemp/wholecell/templateGotran.py\u001b[0m in \u001b[0;36mrunPDE\u001b[0;34m(params, mode, anisotropic, duration, geometry, outputName, asserts)\u001b[0m\n\u001b[1;32m    850\u001b[0m \u001b[0;34m\u001b[0m\u001b[0m\n\u001b[1;32m    851\u001b[0m \u001b[0;34m\u001b[0m\u001b[0m\n\u001b[0;32m--> 852\u001b[0;31m     \u001b[0;31m# solve system\u001b[0m\n\u001b[0;34m\u001b[0m\u001b[0m\n\u001b[0m\u001b[1;32m    853\u001b[0m     \u001b[0mu0\u001b[0m\u001b[0;34m.\u001b[0m\u001b[0mvector\u001b[0m\u001b[0;34m(\u001b[0m\u001b[0;34m)\u001b[0m\u001b[0;34m[\u001b[0m\u001b[0;34m:\u001b[0m\u001b[0;34m]\u001b[0m \u001b[0;34m=\u001b[0m \u001b[0mu\u001b[0m\u001b[0;34m.\u001b[0m\u001b[0mvector\u001b[0m\u001b[0;34m(\u001b[0m\u001b[0;34m)\u001b[0m\u001b[0;34m\u001b[0m\u001b[0m\n\u001b[1;32m    854\u001b[0m     \u001b[0msolver\u001b[0m\u001b[0;34m.\u001b[0m\u001b[0msolve\u001b[0m\u001b[0;34m(\u001b[0m\u001b[0mproblem\u001b[0m\u001b[0;34m.\u001b[0m\u001b[0mmyeq\u001b[0m\u001b[0;34m,\u001b[0m \u001b[0mu\u001b[0m\u001b[0;34m.\u001b[0m\u001b[0mvector\u001b[0m\u001b[0;34m(\u001b[0m\u001b[0;34m)\u001b[0m\u001b[0;34m)\u001b[0m\u001b[0;34m\u001b[0m\u001b[0m\n", 
        "\u001b[0;32m/home/huskeypm/localTemp/wholecell/templateGotran.py\u001b[0m in \u001b[0;36mF\u001b[0;34m(self, b, x)\u001b[0m\n\u001b[1;32m    393\u001b[0m         \u001b[0mself\u001b[0m\u001b[0;34m.\u001b[0m\u001b[0ma\u001b[0m \u001b[0;34m=\u001b[0m \u001b[0ma\u001b[0m\u001b[0;34m\u001b[0m\u001b[0m\n\u001b[1;32m    394\u001b[0m         \u001b[0mself\u001b[0m\u001b[0;34m.\u001b[0m\u001b[0mreset_sparsity\u001b[0m \u001b[0;34m=\u001b[0m \u001b[0mTrue\u001b[0m\u001b[0;34m\u001b[0m\u001b[0m\n\u001b[0;32m--> 395\u001b[0;31m     \u001b[0;32mdef\u001b[0m \u001b[0mF\u001b[0m\u001b[0;34m(\u001b[0m\u001b[0mself\u001b[0m\u001b[0;34m,\u001b[0m \u001b[0mb\u001b[0m\u001b[0;34m,\u001b[0m \u001b[0mx\u001b[0m\u001b[0;34m)\u001b[0m\u001b[0;34m:\u001b[0m\u001b[0;34m\u001b[0m\u001b[0m\n\u001b[0m\u001b[1;32m    396\u001b[0m         \u001b[0massemble\u001b[0m\u001b[0;34m(\u001b[0m\u001b[0mself\u001b[0m\u001b[0;34m.\u001b[0m\u001b[0mL\u001b[0m\u001b[0;34m,\u001b[0m \u001b[0mtensor\u001b[0m\u001b[0;34m=\u001b[0m\u001b[0mb\u001b[0m\u001b[0;34m)\u001b[0m\u001b[0;34m\u001b[0m\u001b[0m\n\u001b[1;32m    397\u001b[0m     \u001b[0;32mdef\u001b[0m \u001b[0mJ\u001b[0m\u001b[0;34m(\u001b[0m\u001b[0mself\u001b[0m\u001b[0;34m,\u001b[0m \u001b[0mA\u001b[0m\u001b[0;34m,\u001b[0m \u001b[0mx\u001b[0m\u001b[0;34m)\u001b[0m\u001b[0;34m:\u001b[0m\u001b[0;34m\u001b[0m\u001b[0m\n", 
        "\u001b[0;31mKeyboardInterrupt\u001b[0m: "
       ]
      }, 
      {
       "output_type": "stream", 
       "stream": "stdout", 
       "text": [
        " [ 0.00049279  0.02804743]", 
        "ODE statesF: [uM]  0.492793929356", 
        "ODE states Flux [mM/ms]:  [ -5.19657815e-07   1.56970156e-04]", 
        "ODE states Flux [uM/ms]:  [-0.00051966  0.15697016]", 
        "THIS IS WRONG I THINK  -0.000214058325635", 
        "WARNING: not  great way of doing this", 
        "jboundary [mM/ms] 0.000377369821142", 
        "jboundary [uM/ms] 0.377369821142", 
        "jvol [mM/ms]  -0.00302280948994", 
        "jvol [uM/ms]  -3022.80948994", 
        "##", 
        "## WARNING: we are not updating CaTnC!!!", 
        "##"
       ]
      }, 
      {
       "output_type": "display_data", 
       "png": "[encoded data removed]"
      }
     ], 
     "prompt_number": 1
    }, 
    {
     "cell_type": "code", 
     "collapsed": false, 
     "input": [
      "", 
      "def reader(name):", 
      "  case1 = empty()", 
      "  case1.pickleName = name ", 
      "  pkl_file = open(case1.pickleName, 'rb')", 
      "  data1 = pickle.load(pkl_file)", 
      "  case1.jSRs = data1['jSRs']", 
      "  case1.cs = data1['cs']", 
      "  case1.cbs = data1['cbs']", 
      "  case1.ts = data1['ts']", 
      "  pkl_file.close()", 
      "  return case1", 
      "", 
      "case1 = reader(\"test1.pkl\")", 
      "case2 = reader(\"test2.pkl\")", 
      "", 
      "plt.plot(case1.ts,case1.cs[1:],label=case1.pickleName)", 
      "plt.plot(case2.ts,case2.cs[1:],label=case2.pickleName)", 
      "plt.legend()"
     ], 
     "language": "python", 
     "outputs": [
      {
       "output_type": "pyout", 
       "prompt_number": 11, 
       "text": [
        "<matplotlib.legend.Legend at 0x6541f50>"
       ]
      }, 
      {
       "output_type": "display_data", 
       "png": "[encoded data removed]"
      }
     ], 
     "prompt_number": 11
    }, 
    {
     "cell_type": "markdown", 
     "source": [
      "#### 3D test"
     ]
    }, 
    {
     "cell_type": "code", 
     "collapsed": false, 
     "input": [
      "pureState = np.array([0.85,1.91,2.48,1.00])", 
      "pctState = 0.3; pctRef = 1-pctState", 
      "print (pureState *pctState) + (pureState[3]*pctRef)"
     ], 
     "language": "python", 
     "outputs": [
      {
       "output_type": "stream", 
       "stream": "stdout", 
       "text": [
        "[ 0.955  1.273  1.444  1.   ]"
       ]
      }
     ], 
     "prompt_number": 8
    }, 
    {
     "cell_type": "code", 
     "collapsed": false, 
     "input": [
      "import templateGotran as gt", 
      "gt.debugLevel = 1", 
      "(problemi,resultsi) = gt.Test1()"
     ], 
     "language": "python", 
     "outputs": [
      {
       "output_type": "stream", 
       "stream": "stdout", 
       "text": [
        "WARNING: buffering by TnC in cytosol is not correct in this model!!!", 
        "WARNING: ode idx is hardcoded"
       ]
      }, 
      {
       "output_type": "stream", 
       "stream": "stdout", 
       "text": [
        "Debuglevel  1", 
        "Equilibrating for 1000.000000 [ms]", 
        "ODE Init [mM]"
       ]
      }, 
      {
       "output_type": "stream", 
       "stream": "stdout", 
       "text": [
        " [ 0.00015436  0.01609286]", 
        "t0 1000.000000 tf 1500.000000 [ms]", 
        "WARNING: localFluxWeighting is NOT a physiologically-sound approach..."
       ]
      }, 
      {
       "output_type": "stream", 
       "stream": "stdout", 
       "text": [
        "", 
        "vol_sa_ratio  [um] 2.0", 
        "WARNING: not working w eval func", 
        "T 0.000000 [ms] Conc(0) 0.000154 [mM]", 
        "T 0.000000 [ms] Conc(0) 0.154359 [uM]", 
        "T 0.000000 [ms] Conc(1) 0.016093 [mM]", 
        "T 0.000000 [ms] Conc(1) 16.092864 [uM]", 
        "###########################################################################", 
        "t0  1000.0 tf  1050.0", 
        "ODE Init [mM] [ 0.00015436  0.01609286]", 
        "t0 1000.000000 tf 1050.000000 [ms]", 
        "ODE statesF: [mM] "
       ]
      }, 
      {
       "output_type": "stream", 
       "stream": "stdout", 
       "text": [
        " [ 0.00030548  0.01754058]", 
        "ODE statesF: [uM]  0.305476258495", 
        "ODE states Flux [mM/ms]:  [  3.02233649e-06   2.89542956e-05]", 
        "ODE states Flux [uM/ms]:  [ 0.00302234  0.0289543 ]", 
        "THIS IS WRONG I THINK  -7.65858919632e-05", 
        "WARNING: not  great way of doing this", 
        "jboundary [mM/ms] 0.00013512293093", 
        "jboundary [uM/ms] 0.13512293093", 
        "jvol [mM/ms]  -0.00105956968046", 
        "jvol [uM/ms]  -1059.56968046", 
        "##", 
        "## WARNING: we are not updating CaTnC!!!", 
        "##", 
        "T 1050.000000 [ms] Conc(0) 0.000157 [mM]"
       ]
      }, 
      {
       "output_type": "stream", 
       "stream": "stdout", 
       "text": [
        "", 
        "T 1050.000000 [ms] Conc(0) 0.157408 [uM]", 
        "T 1050.000000 [ms] Conc(1) 0.016093 [mM]", 
        "T 1050.000000 [ms] Conc(1) 16.092864 [uM]", 
        "WARNING: skipping conc updatee", 
        "###########################################################################", 
        "t0  1050.0 tf  1100.0", 
        "ODE Init [mM] [ 0.00030548  0.01754058]", 
        "t0 1050.000000 tf 1100.000000 [ms]", 
        "ODE statesF: [mM] "
       ]
      }, 
      {
       "output_type": "stream", 
       "stream": "stdout", 
       "text": [
        " [ 0.00034126  0.02393109]", 
        "ODE statesF: [uM]  0.341262950337", 
        "ODE states Flux [mM/ms]:  [  7.15733837e-07   1.27810162e-04]", 
        "ODE states Flux [uM/ms]:  [ 0.00071573  0.12781016]", 
        "THIS IS WRONG I THINK  -0.000170128708415", 
        "WARNING: not  great way of doing this", 
        "jboundary [mM/ms] 0.000338952223184", 
        "jboundary [uM/ms] 0.338952223184", 
        "jvol [mM/ms]  -0.00270325494809", 
        "jvol [uM/ms]  -2703.25494809", 
        "##", 
        "## WARNING: we are not updating CaTnC!!!", 
        "##", 
        "T 1100.000000 [ms] Conc(0) 0.000158 [mM]"
       ]
      }, 
      {
       "output_type": "stream", 
       "stream": "stdout", 
       "text": [
        "", 
        "T 1100.000000 [ms] Conc(0) 0.157890 [uM]", 
        "T 1100.000000 [ms] Conc(1) 0.016093 [mM]", 
        "T 1100.000000 [ms] Conc(1) 16.092864 [uM]", 
        "WARNING: skipping conc updatee", 
        "###########################################################################", 
        "t0  1100.0 tf  1150.0", 
        "ODE Init [mM] [ 0.00034126  0.02393109]", 
        "t0 1100.000000 tf 1150.000000 [ms]", 
        "ODE statesF: [mM] "
       ]
      }, 
      {
       "output_type": "stream", 
       "stream": "stdout", 
       "text": [
        " [ 0.00029373  0.02396456]", 
        "ODE statesF: [uM]  0.293726384228", 
        "ODE states Flux [mM/ms]:  [ -9.50731322e-07   6.69377222e-07]", 
        "ODE states Flux [uM/ms]:  [-0.00095073  0.00066938]", 
        "THIS IS WRONG I THINK  -0.000160524577848", 
        "WARNING: not  great way of doing this", 
        "jboundary [mM/ms] 0.00013929121642", 
        "jboundary [uM/ms] 0.13929121642", 
        "jvol [mM/ms]  -0.00112187117835", 
        "jvol [uM/ms]  -1121.87117835", 
        "##", 
        "## WARNING: we are not updating CaTnC!!!", 
        "##", 
        "T 1150.000000 [ms] Conc(0) 0.000157 [mM]"
       ]
      }, 
      {
       "output_type": "stream", 
       "stream": "stdout", 
       "text": [
        "", 
        "T 1150.000000 [ms] Conc(0) 0.156852 [uM]", 
        "T 1150.000000 [ms] Conc(1) 0.016093 [mM]", 
        "T 1150.000000 [ms] Conc(1) 16.092864 [uM]", 
        "WARNING: skipping conc updatee", 
        "###########################################################################", 
        "t0  1150.0 tf  1200.0", 
        "ODE Init [mM] [ 0.00029373  0.02396456]", 
        "t0 1150.000000 tf 1200.000000 [ms]", 
        "ODE statesF: [mM] "
       ]
      }, 
      {
       "output_type": "stream", 
       "stream": "stdout", 
       "text": [
        " [ 0.00024826  0.02207706]", 
        "ODE statesF: [uM]  0.248257963118", 
        "ODE states Flux [mM/ms]:  [ -9.09368422e-07  -3.77498743e-05]", 
        "ODE states Flux [uM/ms]:  [-0.00090937 -0.03774987]", 
        "THIS IS WRONG I THINK  -0.000135741564545", 
        "WARNING: not  great way of doing this", 
        "jboundary [mM/ms] 7.71510459097e-05", 
        "jboundary [uM/ms] 0.0771510459097", 
        "jvol [mM/ms]  -0.000624529291211", 
        "jvol [uM/ms]  -624.529291211", 
        "##", 
        "## WARNING: we are not updating CaTnC!!!", 
        "##", 
        "T 1200.000000 [ms] Conc(0) 0.000155 [mM]"
       ]
      }, 
      {
       "output_type": "stream", 
       "stream": "stdout", 
       "text": [
        "", 
        "T 1200.000000 [ms] Conc(0) 0.155085 [uM]", 
        "T 1200.000000 [ms] Conc(1) 0.016093 [mM]", 
        "T 1200.000000 [ms] Conc(1) 16.092864 [uM]", 
        "WARNING: skipping conc updatee", 
        "###########################################################################", 
        "t0  1200.0 tf  1250.0", 
        "ODE Init [mM] [ 0.00024826  0.02207706]", 
        "t0 1200.000000 tf 1250.000000 [ms]", 
        "ODE statesF: [mM] "
       ]
      }, 
      {
       "output_type": "stream", 
       "stream": "stdout", 
       "text": [
        " [ 0.00020436  0.01973281]", 
        "ODE statesF: [uM]  0.20436185849", 
        "ODE states Flux [mM/ms]:  [ -8.77922093e-07  -4.68851332e-05]", 
        "ODE states Flux [uM/ms]:  [-0.00087792 -0.04688513]", 
        "THIS IS WRONG I THINK  -0.00010804480242", 
        "WARNING: not  great way of doing this", 
        "jboundary [mM/ms] 4.73825043777e-05", 
        "jboundary [uM/ms] 0.0473825043777", 
        "jvol [mM/ms]  -0.000386053286976", 
        "jvol [uM/ms]  -386.053286976", 
        "##", 
        "## WARNING: we are not updating CaTnC!!!", 
        "##", 
        "T 1250.000000 [ms] Conc(0) 0.000152 [mM]"
       ]
      }, 
      {
       "output_type": "stream", 
       "stream": "stdout", 
       "text": [
        "", 
        "T 1250.000000 [ms] Conc(0) 0.152445 [uM]", 
        "T 1250.000000 [ms] Conc(1) 0.016093 [mM]", 
        "T 1250.000000 [ms] Conc(1) 16.092864 [uM]", 
        "WARNING: skipping conc updatee", 
        "###########################################################################", 
        "t0  1250.0 tf  1300.0", 
        "ODE Init [mM] [ 0.00020436  0.01973281]", 
        "t0 1250.000000 tf 1300.000000 [ms]", 
        "ODE statesF: [mM] "
       ]
      }, 
      {
       "output_type": "stream", 
       "stream": "stdout", 
       "text": [
        " [ 0.00016642  0.01715358]", 
        "ODE statesF: [uM]  0.166424053194", 
        "ODE states Flux [mM/ms]:  [ -7.58756106e-07  -5.15844893e-05]", 
        "ODE states Flux [uM/ms]:  [-0.00075876 -0.05158449]", 
        "THIS IS WRONG I THINK  -7.68498091965e-05", 
        "WARNING: not  great way of doing this", 
        "jboundary [mM/ms] 1.69212276712e-05", 
        "jboundary [uM/ms] 0.0169212276712", 
        "jvol [mM/ms]  -0.000141572411381", 
        "jvol [uM/ms]  -141.572411381", 
        "##", 
        "## WARNING: we are not updating CaTnC!!!", 
        "##", 
        "T 1300.000000 [ms] Conc(0) 0.000147 [mM]"
       ]
      }, 
      {
       "output_type": "stream", 
       "stream": "stdout", 
       "text": [
        "", 
        "T 1300.000000 [ms] Conc(0) 0.146748 [uM]", 
        "T 1300.000000 [ms] Conc(1) 0.016093 [mM]", 
        "T 1300.000000 [ms] Conc(1) 16.092864 [uM]", 
        "WARNING: skipping conc updatee", 
        "###########################################################################", 
        "t0  1300.0 tf  1350.0", 
        "ODE Init [mM] [ 0.00016642  0.01715358]", 
        "t0 1300.000000 tf 1350.000000 [ms]", 
        "ODE statesF: [mM] "
       ]
      }, 
      {
       "output_type": "stream", 
       "stream": "stdout", 
       "text": [
        " [ 0.00034862  0.01867322]", 
        "ODE statesF: [uM]  0.348620887955", 
        "ODE states Flux [mM/ms]:  [  3.64393670e-06   3.03927858e-05]", 
        "ODE states Flux [uM/ms]:  [ 0.00364394  0.03039279]", 
        "THIS IS WRONG I THINK  -8.38845570287e-05", 
        "WARNING: not  great way of doing this", 
        "jboundary [mM/ms] 0.000145815869225", 
        "jboundary [uM/ms] 0.145815869225", 
        "jvol [mM/ms]  -0.00114094900277", 
        "jvol [uM/ms]  -1140.94900277", 
        "##", 
        "## WARNING: we are not updating CaTnC!!!", 
        "##", 
        "T 1350.000000 [ms] Conc(0) 0.000150 [mM]"
       ]
      }, 
      {
       "output_type": "stream", 
       "stream": "stdout", 
       "text": [
        "", 
        "T 1350.000000 [ms] Conc(0) 0.149971 [uM]", 
        "T 1350.000000 [ms] Conc(1) 0.016093 [mM]", 
        "T 1350.000000 [ms] Conc(1) 16.092864 [uM]", 
        "WARNING: skipping conc updatee", 
        "###########################################################################", 
        "t0  1350.0 tf  1400.0", 
        "ODE Init [mM] [ 0.00034862  0.01867322]", 
        "t0 1350.000000 tf 1400.000000 [ms]", 
        "ODE statesF: [mM] "
       ]
      }, 
      {
       "output_type": "stream", 
       "stream": "stdout", 
       "text": [
        " [ 0.00038866  0.0260921 ]", 
        "ODE statesF: [uM]  0.388656979062", 
        "ODE states Flux [mM/ms]:  [  8.00721822e-07   1.48377538e-04]", 
        "ODE states Flux [uM/ms]:  [ 0.00080072  0.14837754]", 
        "THIS IS WRONG I THINK  -0.000187347268441", 
        "WARNING: not  great way of doing this", 
        "jboundary [mM/ms] 0.000383284458999", 
        "jboundary [uM/ms] 0.383284458999", 
        "jvol [mM/ms]  -0.00305636779255", 
        "jvol [uM/ms]  -3056.36779255", 
        "##", 
        "## WARNING: we are not updating CaTnC!!!", 
        "##", 
        "T 1400.000000 [ms] Conc(0) 0.000150 [mM]"
       ]
      }, 
      {
       "output_type": "stream", 
       "stream": "stdout", 
       "text": [
        "", 
        "T 1400.000000 [ms] Conc(0) 0.150454 [uM]", 
        "T 1400.000000 [ms] Conc(1) 0.016093 [mM]", 
        "T 1400.000000 [ms] Conc(1) 16.092864 [uM]", 
        "WARNING: skipping conc updatee", 
        "###########################################################################", 
        "t0  1400.0 tf  1450.0", 
        "ODE Init [mM] [ 0.00038866  0.0260921 ]", 
        "t0 1400.000000 tf 1450.000000 [ms]", 
        "ODE statesF: [mM] "
       ]
      }, 
      {
       "output_type": "stream", 
       "stream": "stdout", 
       "text": [
        " [ 0.00032681  0.02588372]", 
        "ODE statesF: [uM]  0.326810422758", 
        "ODE states Flux [mM/ms]:  [ -1.23693113e-06  -4.16752140e-06]", 
        "ODE states Flux [uM/ms]:  [-0.00123693 -0.00416752]", 
        "THIS IS WRONG I THINK  -0.000176362468746", 
        "WARNING: not  great way of doing this", 
        "jboundary [mM/ms] 0.000145181420139", 
        "jboundary [uM/ms] 0.145181420139", 
        "jvol [mM/ms]  -0.00117127104607", 
        "jvol [uM/ms]  -1171.27104607", 
        "##", 
        "## WARNING: we are not updating CaTnC!!!", 
        "##", 
        "T 1450.000000 [ms] Conc(0) 0.000149 [mM]"
       ]
      }, 
      {
       "output_type": "stream", 
       "stream": "stdout", 
       "text": [
        "", 
        "T 1450.000000 [ms] Conc(0) 0.149218 [uM]", 
        "T 1450.000000 [ms] Conc(1) 0.016093 [mM]", 
        "T 1450.000000 [ms] Conc(1) 16.092864 [uM]", 
        "WARNING: skipping conc updatee", 
        "###########################################################################", 
        "t0  1450.0 tf  1500.0", 
        "ODE Init [mM] [ 0.00032681  0.02588372]", 
        "t0 1450.000000 tf 1500.000000 [ms]", 
        "ODE statesF: [mM] "
       ]
      }, 
      {
       "output_type": "stream", 
       "stream": "stdout", 
       "text": [
        " [ 0.00026951  0.0235538 ]", 
        "ODE statesF: [uM]  0.269512437758", 
        "ODE states Flux [mM/ms]:  [ -1.14595970e-06  -4.65984265e-05]", 
        "ODE states Flux [uM/ms]:  [-0.00114596 -0.04659843]", 
        "THIS IS WRONG I THINK  -0.000148941891149", 
        "WARNING: not  great way of doing this", 
        "jboundary [mM/ms] 7.76243448026e-05", 
        "jboundary [uM/ms] 0.0776243448026", 
        "jvol [mM/ms]  -0.000630244121664", 
        "jvol [uM/ms]  -630.244121664", 
        "##", 
        "## WARNING: we are not updating CaTnC!!!", 
        "##", 
        "T 1500.000000 [ms] Conc(0) 0.000147 [mM]"
       ]
      }, 
      {
       "output_type": "stream", 
       "stream": "stdout", 
       "text": [
        "", 
        "T 1500.000000 [ms] Conc(0) 0.147108 [uM]", 
        "T 1500.000000 [ms] Conc(1) 0.016093 [mM]", 
        "T 1500.000000 [ms] Conc(1) 16.092864 [uM]", 
        "WARNING: skipping conc updatee", 
        "(10,) (10,)"
       ]
      }, 
      {
       "output_type": "display_data", 
       "png": "[encoded data removed]"
      }
     ], 
     "prompt_number": 1
    }, 
    {
     "cell_type": "code", 
     "collapsed": false, 
     "input": [
      "plot(results.cs)"
     ], 
     "language": "python", 
     "outputs": [
      {
       "output_type": "pyout", 
       "prompt_number": 12, 
       "text": [
        "[<matplotlib.lines.Line2D at 0x5526bd0>]"
       ]
      }, 
      {
       "output_type": "display_data", 
       "png": "[encoded data removed]"
      }
     ], 
     "prompt_number": 12
    }, 
    {
     "cell_type": "code", 
     "collapsed": false, 
     "input": [
      "ts = resultsi.ts", 
      "results = resultsi", 
      "if 1:", 
      "    fig=plt.figure()", 
      "    ax1 = fig.add_subplot(111)", 
      "    ax1.set_title(\"[Cai]/[CaTnC] vs time\")", 
      "    #ax1.plot(tstepsExact,statesTrajExact[:,Cai_pde_idx],label=\"[Cai] Exact\")", 
      "    # [1:] since I call GlobalConc once before loop ", 
      "    ax1.plot(ts,results.cs[1:],'k.',label=\"[Cai] (PDE) \")", 
      "    ax1.plot(ts,results.cFs,label=\"[Cai]F (forward ODE solutions)\")", 
      "    ax1.set_ylabel(\"[Cai] [uM]\")", 
      "    ax1.set_xlabel(\"t [ms]\")", 
      "    ax1.legend(loc=0)", 
      "    ax2 = ax1.twinx()", 
      "    ax2.set_ylabel(\"[CaTnC] [uM]\")", 
      "    ax2.plot(ts,results.cbs[1:],'r-.',label=\"cb (PDE) \")", 
      "    ax2.legend(loc=4)"
     ], 
     "language": "python", 
     "outputs": [
      {
       "output_type": "display_data", 
       "png": "[encoded data removed]"
      }
     ], 
     "prompt_number": 13
    }, 
    {
     "cell_type": "code", 
     "collapsed": false, 
     "input": [
      "np.shape(resultsi.c)", 
      "np.shape(resultsi.ts)"
     ], 
     "language": "python", 
     "outputs": [
      {
       "output_type": "pyout", 
       "prompt_number": 4, 
       "text": [
        "(2,)"
       ]
      }
     ], 
     "prompt_number": 4
    }, 
    {
     "cell_type": "markdown", 
     "source": [
      "### Production ", 
      "- R9Q", 
      "- RN9C", 
      "- WT", 
      "- add 2D Ca (and possible CaSR) plot for each "
     ]
    }, 
    {
     "cell_type": "code", 
     "collapsed": false, 
     "input": [
      "#%%capture captured", 
      "import templateGotran as gt", 
      "gt.cparams.plot = False", 
      "duration = 1e3", 
      "", 
      "# see 140213_ceholski.tex", 
      "Kmfs = np.array([0.85,1.91,2.48,1.00]) * Kmf_guess", 
      "REDO, but SEE IF more modest reduction is better tolerated (e.g. mostly WT, but then some percentage is smaller)", 
      "", 
      "One. In my diffusion simulations I end up with regions of negative calcium concentration, which is probably due to the SERCA  uptake being too strong in regions where the cytosolic calcium is low.   The issue is that I  probably need to calculate the  flux locally.", 
      "Hi,", 
      "I have a question for you:  the reason that a couple of my plots were really wacky is  is that the half maximal  pump rate is very low for a couple of the phospholamban  mutants. Hence the  sarcoplasmic reticulum load ends up being low and things go awry from there.   I wonder if it might be more reasonable to use a pump rate that is somewhere between the wild type and mutant; in this way I  I think I would be representing the system as a mixture of wild type and mutant and  which hopefully should give a more stable solution. Does that seem reasonable? ", 
      "", 
      "", 
      "names = [\"R9C\",\"WT\",\"R9Q\",\"NoPLB\"]", 
      "", 
      "run=0", 
      "if(run):", 
      "  # case 1 ", 
      "  p1 = gt.cparams()", 
      "  p1.odeParams[gt.param_indices(\"Kmf\")] = Kmfs[0]                                                                ", 
      "  problem1, results1 = gt.loop(p1,case=names[0],duration=duration);", 
      "                             ", 
      "  # case 2 ", 
      "  p2 = gt.cparams()", 
      "  p2.odeParams[gt.param_indices(\"Kmf\")] = Kmfs[1]                                                                 ", 
      "  problem2, results2 = gt.loop(p2,case=names[1],duration=duration);", 
      "                             ", 
      "  # case 3 ", 
      "  p3 = gt.cparams()", 
      "  p3.odeParams[gt.param_indices(\"Kmf\")] = Kmfs[2]                                                                ", 
      "  problem3, results3 = gt.loop(p3,case=names[2],duration=duration);", 
      "                             ", 
      "  p4 = gt.cparams()", 
      "  p4.odeParams[gt.param_indices(\"Kmf\")] = Kmfs[3]                                                                ", 
      "  problem4, results4 = gt.loop(p3,case=names[3],duration=duration);", 
      "                             ", 
      "                             "
     ], 
     "language": "python", 
     "outputs": [], 
     "prompt_number": 3
    }, 
    {
     "cell_type": "markdown", 
     "source": [
      "Store names"
     ]
    }, 
    {
     "cell_type": "code", 
     "collapsed": false, 
     "input": [
      "class empty:pass", 
      "", 
      "if(run):", 
      "    print results1.pickleName", 
      "    print results2.pickleName", 
      "    print results3.pickleName", 
      "    ", 
      "cases = []", 
      "case1 = empty()", 
      "case1.pickleName = names[0]+\".pkl\" # \"case1.pkl\"  ", 
      "cases.append(case1)", 
      "", 
      "case2 = empty()", 
      "case2.pickleName = names[1]+\".pkl\" # \"case2.pkl\"  ", 
      "cases.append(case2)", 
      "", 
      "case3 = empty()", 
      "case3.pickleName = names[2]+\".pkl\" # \"case3.pkl\"  ", 
      "cases.append(case3)", 
      "", 
      "case4 = empty()", 
      "case4.pickleName = names[3]+\".pkl\" # \"case3.pkl\"  ", 
      "cases.append(case4)"
     ], 
     "language": "python", 
     "outputs": [], 
     "prompt_number": 5
    }, 
    {
     "cell_type": "markdown", 
     "source": [
      "open pickles"
     ]
    }, 
    {
     "cell_type": "code", 
     "collapsed": false, 
     "input": [
      "import cPickle as pickle", 
      "case = cases[0]", 
      "", 
      "for i,case in enumerate(cases):", 
      "  pkl_file = open(case.pickleName, 'rb')", 
      "  data1 = pickle.load(pkl_file)", 
      "", 
      "  case.jSRs = data1['jSRs']", 
      "  case.cs = data1['cs']", 
      "  case.cbs = data1['cbs']", 
      "  case.ts = data1['ts']", 
      "  case.interpd = data1['interpd']", 
      "    ", 
      "  pkl_file.close()"
     ], 
     "language": "python", 
     "outputs": [], 
     "prompt_number": 6
    }, 
    {
     "cell_type": "code", 
     "collapsed": false, 
     "input": [
      "plt.figure()", 
      "mM_to_uM=1e3", 
      "# cas", 
      "plt.subplot(211)", 
      "plt.title(\"Whole-cell\")", 
      "plt.ylabel(\"Ca [uM]\") ", 
      "#plt.xlabel(\"t [ms]\") ", 
      "t = cases[0].ts", 
      "", 
      "plt.plot(t,cases[0].cs[1:]*mM_to_uM,'r-',label=cases[0].pickleName)", 
      "plt.plot(t,cases[1].cs[1:]*mM_to_uM,'k.-',label=cases[1].pickleName)", 
      "plt.plot(t,cases[2].cs[1:]*mM_to_uM,'b--',label=cases[2].pickleName)", 
      "plt.plot(t,cases[3].cs[1:]*mM_to_uM,'k-',label=cases[3].pickleName)", 
      "plt.legend()", 
      "plt.tick_params(\\", 
      "    axis='x',          # changes apply to the x-axis", 
      "    which='both',      # both major and minor ticks are affected", 
      "    bottom='off',      # ticks along the bottom edge are off", 
      "    top='off',         # ticks along the top edge are off", 
      "    labelbottom='off') # labels along the bottom edge are off", 
      "    ", 
      "    ", 
      "    ", 
      "# jSR ", 
      "print \"WARNING: SERC flux contains all buffer fluxes\"", 
      "plt.subplot(212)", 
      "#plt.title(\"Whole-cell jSR\")", 
      "plt.ylabel(\"jSR [uM/ms]\") ", 
      "plt.xlabel(\"t [ms]\") ", 
      "plt.plot(t,cases[0].jSRs*mM_to_uM,'r-',label=cases[0].pickleName)", 
      "plt.plot(t,cases[1].jSRs*mM_to_uM,'k.-',label=cases[1].pickleName)", 
      "plt.plot(t,cases[2].jSRs*mM_to_uM,'b--',label=cases[2].pickleName)", 
      "plt.plot(t,cases[3].jSRs*mM_to_uM,'k-',label=cases[3].pickleName)", 
      "#plt.legend()", 
      "plt.gcf().savefig(\"wholecell_plbs.png\")"
     ], 
     "language": "python", 
     "outputs": [
      {
       "output_type": "stream", 
       "stream": "stdout", 
       "text": [
        "WARNING: SERC flux contains all buffer fluxes"
       ]
      }, 
      {
       "output_type": "display_data", 
       "png": "[encoded data removed]"
      }
     ], 
     "prompt_number": 17
    }, 
    {
     "cell_type": "markdown", 
     "source": [
      "Fig 3"
     ]
    }
   ]
  }
 ]
}