{
 "metadata": {
  "name": "",
  "signature": "sha256:e782490934638eb0c3f4cb27dd092b6c5854a7b98905686799cf54b17823e2a2"
 },
 "nbformat": 3,
 "nbformat_minor": 0,
 "worksheets": [
  {
   "cells": [
    {
     "cell_type": "markdown",
     "metadata": {},
     "source": [
      "# JIT gotran ODE solve\n",
      "\n",
      "This notebook uses just-in-time compiling to greatly speed up ODE solves"
     ]
    },
    {
     "cell_type": "markdown",
     "metadata": {},
     "source": [
      "source configgotran.bash\n",
      "\n",
      "- Note: ipython/fenics1.5 don't play nicely on holly yet, so use this on kafka for now"
     ]
    },
    {
     "cell_type": "code",
     "collapsed": false,
     "input": [
      "%load_ext autoreload\n",
      "%autoreload 2"
     ],
     "language": "python",
     "metadata": {},
     "outputs": [],
     "prompt_number": 1
    },
    {
     "cell_type": "code",
     "collapsed": false,
     "input": [
      "import gotranJIT "
     ],
     "language": "python",
     "metadata": {},
     "outputs": [],
     "prompt_number": 1
    },
    {
     "cell_type": "markdown",
     "metadata": {},
     "source": [
      "### Accessories"
     ]
    },
    {
     "cell_type": "code",
     "collapsed": false,
     "input": [
      "# Shamelessly snagged from gotranrun.py \n",
      "def GetMonitored(module, ode,tsteps,results,model_params):\n",
      "    monitored = []\n",
      "    for expr in sorted(ode.intermediates+ode.state_expressions):\n",
      "        #print expr.name\n",
      "        if expr.name not in monitored: # safety\n",
      "            monitored.append(expr.name)\n",
      "\n",
      "    monitored_plot = []        \n",
      "    for expr in sorted(ode.intermediates):\n",
      "        #print expr.name\n",
      "        if expr.name not in monitored_plot: # safety\n",
      "            monitored_plot.append(expr.name)\n",
      "\n",
      "    monitor_inds = np.array([monitored.index(monitor) \\\n",
      "                             for monitor in monitored_plot], dtype=int)\n",
      "    monitored_get_values = np.zeros(len(monitored), dtype=np.float_)\n",
      "\n",
      "    # Allocate memory\n",
      "    plot_values = np.zeros((len(monitored_plot), len(results)))  \n",
      "    \n",
      "    for ind, (time, res) in enumerate(zip(tsteps, results)):\n",
      "        module.monitor(res, time, model_params, monitored_get_values)\n",
      "        plot_values[:,ind] = monitored_get_values[ monitor_inds ]    \n",
      "    \n",
      "    return monitored_plot, plot_values\n"
     ],
     "language": "python",
     "metadata": {},
     "outputs": [],
     "prompt_number": 5
    },
    {
     "cell_type": "markdown",
     "metadata": {},
     "source": [
      "### Test run \n",
      "\n",
      "- code runs"
     ]
    },
    {
     "cell_type": "code",
     "collapsed": false,
     "input": [
      "#tstop=20000 # works \n",
      "#tstop=180000 # kicks the bucket after 130 s\n",
      "#dt = 0.1\n",
      "#stim_period = 1000.  # works (after adjusting odeint params)\n",
      "#stim_period = 500.\n",
      "# WARNING: here that parameters are SET, not rescaled, in contrast to runParams function\n",
      "def runParamsFast(odeName = \"shannon_2004.ode\",name=\"out\",varDict=None,dt=0.1,dtn=2000,stim_period=1000.,mxsteps=None):\n",
      "\n",
      "  params = gotranJIT.init()\n",
      "  params.tstop = dtn\n",
      "  params.dt = dt\n",
      "\n",
      "  # SET Params\n",
      "  params.parameters = ['stim_period',stim_period]  \n",
      "  if varDict!=None:\n",
      "    for key, value in varDict.iteritems():\n",
      "      params.parameters.extend([key,value])  \n",
      "    \n",
      "  \n",
      "  ## JIT compile module, simulate  \n",
      "  #ks=25. # default  [1/ms]\n",
      "  #KSRleak=5.348e-6 # default [1/ms]\n",
      "  #params.parameters = ['ks',ks,'KSRleak',KSRleak]  \n",
      "  #print params.parameters    \n",
      "  results,module,tsteps,model_params,ode=gotranJIT.main(odeName, params)  \n",
      "  \n",
      "  # to ensure consistency with old code \n",
      "  s = results\n",
      "  t = tsteps\n",
      "  p = model_params\n",
      "  s_idx = [state.name for state in ode.full_states]\n",
      "  p_idx = [param.name for param in ode.parameters]\n",
      "  assert(len(s_idx)==len(results[0,:])),\"Error in state vector. Ask PKH\"\n",
      "  assert(len(p_idx)==len(model_params)),\"Error in parameter vector. Ask PKH\"\n",
      "\n",
      "  # get monitored fluxes   \n",
      "  j_idx,j = GetMonitored(module, ode,tsteps,results,model_params)  \n",
      "  \n",
      "  # store to pickle\n",
      "  data1 = {'p':p,'s':s,'t':t,'j':j,\\\n",
      "           'p_idx':p_idx,'s_idx':s_idx,'j_idx':j_idx} \n",
      "  import cPickle as pickle\n",
      "  if \".pickle\" not in name:\n",
      "    name += \".pickle\"\n",
      "  output = open(name, 'wb')\n",
      "  pickle.dump(data1, output)\n",
      "  output.close()\n",
      "    \n",
      "    \n",
      "varDict = dict()\n",
      "varDict['ks']=25.\n",
      "name = \"test.pickle\"\n",
      "runParamsFast(varDict=varDict,name=name)"
     ],
     "language": "python",
     "metadata": {},
     "outputs": [
      {
       "output_type": "stream",
       "stream": "stdout",
       "text": [
        "Loaded ODE model 'shannon_2004' with:\n"
       ]
      },
      {
       "output_type": "stream",
       "stream": "stderr",
       "text": [
        "INFO:ModelParameters:Loaded ODE model 'shannon_2004' with:\n"
       ]
      },
      {
       "output_type": "stream",
       "stream": "stdout",
       "text": [
        "     Num full states: 39\n"
       ]
      },
      {
       "output_type": "stream",
       "stream": "stderr",
       "text": [
        "INFO:ModelParameters:     Num full states: 39\n"
       ]
      },
      {
       "output_type": "stream",
       "stream": "stdout",
       "text": [
        "      Num parameters: 124\n"
       ]
      },
      {
       "output_type": "stream",
       "stream": "stderr",
       "text": [
        "INFO:ModelParameters:      Num parameters: 124\n"
       ]
      },
      {
       "output_type": "stream",
       "stream": "stdout",
       "text": [
        "['stim_period', 1000.0, 'ks', 25.0]\n",
        "Using revised params from runner.py\n"
       ]
      }
     ],
     "prompt_number": 6
    },
    {
     "cell_type": "markdown",
     "metadata": {},
     "source": [
      "#### Display stuff\n",
      "Note that unlike ao.analyOut, we do NOT use runner.model.xxx_indices to get the indices, we use the XXX_idx.index()\n",
      "\n",
      "The rabbit survives!"
     ]
    },
    {
     "cell_type": "code",
     "collapsed": false,
     "input": [
      "import analyzeODE as ao"
     ],
     "language": "python",
     "metadata": {},
     "outputs": [
      {
       "output_type": "stream",
       "stream": "stdout",
       "text": [
        "WARNING: ode idx is hardcoded\n"
       ]
      }
     ],
     "prompt_number": 7
    },
    {
     "cell_type": "code",
     "collapsed": false,
     "input": [
      "data = ao.readPickle(name)"
     ],
     "language": "python",
     "metadata": {},
     "outputs": [
      {
       "output_type": "stream",
       "stream": "stdout",
       "text": [
        "Reading test.pickle\n"
       ]
      }
     ],
     "prompt_number": 19
    },
    {
     "cell_type": "code",
     "collapsed": false,
     "input": [
      "si = data['s']\n",
      "s_idx = data['s_idx']\n",
      "ji = data['j']\n",
      "j_idx = data['j_idx']\n",
      "ti = data['t']\n",
      "\n"
     ],
     "language": "python",
     "metadata": {},
     "outputs": [
      {
       "ename": "NameError",
       "evalue": "name 'data' is not defined",
       "output_type": "pyerr",
       "traceback": [
        "\u001b[0;31m---------------------------------------------------------------------------\u001b[0m\n\u001b[0;31mNameError\u001b[0m                                 Traceback (most recent call last)",
        "\u001b[0;32m<ipython-input-1-3d9f412e2474>\u001b[0m in \u001b[0;36m<module>\u001b[0;34m()\u001b[0m\n\u001b[0;32m----> 1\u001b[0;31m \u001b[0msi\u001b[0m \u001b[0;34m=\u001b[0m \u001b[0mdata\u001b[0m\u001b[0;34m[\u001b[0m\u001b[0;34m's'\u001b[0m\u001b[0;34m]\u001b[0m\u001b[0;34m\u001b[0m\u001b[0m\n\u001b[0m\u001b[1;32m      2\u001b[0m \u001b[0ms_idx\u001b[0m \u001b[0;34m=\u001b[0m \u001b[0mdata\u001b[0m\u001b[0;34m[\u001b[0m\u001b[0;34m's_idx'\u001b[0m\u001b[0;34m]\u001b[0m\u001b[0;34m\u001b[0m\u001b[0m\n\u001b[1;32m      3\u001b[0m \u001b[0mji\u001b[0m \u001b[0;34m=\u001b[0m \u001b[0mdata\u001b[0m\u001b[0;34m[\u001b[0m\u001b[0;34m'j'\u001b[0m\u001b[0;34m]\u001b[0m\u001b[0;34m\u001b[0m\u001b[0m\n\u001b[1;32m      4\u001b[0m \u001b[0mj_idx\u001b[0m \u001b[0;34m=\u001b[0m \u001b[0mdata\u001b[0m\u001b[0;34m[\u001b[0m\u001b[0;34m'j_idx'\u001b[0m\u001b[0;34m]\u001b[0m\u001b[0;34m\u001b[0m\u001b[0m\n\u001b[1;32m      5\u001b[0m \u001b[0mti\u001b[0m \u001b[0;34m=\u001b[0m \u001b[0mdata\u001b[0m\u001b[0;34m[\u001b[0m\u001b[0;34m't'\u001b[0m\u001b[0;34m]\u001b[0m\u001b[0;34m\u001b[0m\u001b[0m\n",
        "\u001b[0;31mNameError\u001b[0m: name 'data' is not defined"
       ]
      }
     ],
     "prompt_number": 1
    },
    {
     "cell_type": "markdown",
     "metadata": {},
     "source": [
      "#### Plot states"
     ]
    },
    {
     "cell_type": "code",
     "collapsed": false,
     "input": [
      "label = \"Cai\"\n",
      "#idx =  module.state_indices( label )\n",
      "#plt.plot(tsteps,results[:,idx],label = label)\n",
      "idx = s_idx.index(label)\n",
      "plt.plot(ti,si[:,idx],label = label)\n",
      "plt.legend()\n"
     ],
     "language": "python",
     "metadata": {},
     "outputs": [
      {
       "metadata": {},
       "output_type": "pyout",
       "prompt_number": 23,
       "text": [
        "<matplotlib.legend.Legend at 0x7f6ecad311d0>"
       ]
      },
      {
       "metadata": {},
       "output_type": "display_data",
       "png": "[encoded data removed]",
       "text": [
        "<matplotlib.figure.Figure at 0x7f6ecaf6b810>"
       ]
      }
     ],
     "prompt_number": 23
    },
    {
     "cell_type": "markdown",
     "metadata": {},
     "source": [
      "#### Plot monitors \n",
      "- monitors working although model results are still incorrect "
     ]
    },
    {
     "cell_type": "code",
     "collapsed": false,
     "input": [
      "label = \"i_NaCa\"\n",
      "idx = j_idx.index(label)\n",
      "plt.plot(ti,ji[idx,:],label = label)\n",
      "plt.legend()\n"
     ],
     "language": "python",
     "metadata": {},
     "outputs": [
      {
       "metadata": {},
       "output_type": "pyout",
       "prompt_number": 22,
       "text": [
        "<matplotlib.legend.Legend at 0x7f6ecad8ffd0>"
       ]
      },
      {
       "metadata": {},
       "output_type": "display_data",
       "png": "[encoded data removed]",
       "text": [
        "<matplotlib.figure.Figure at 0x7f6ec9b17310>"
       ]
      }
     ],
     "prompt_number": 22
    },
    {
     "cell_type": "markdown",
     "metadata": {},
     "source": [
      "### Test with runShannon script (just add '-jit' flag)\n",
      "\n",
      "<font color=red>WARNING: -var values are 'absolute', not scaled quantities</font>\n",
      "\n",
      "<code>\n",
      "python runShannonTest.py -jit -stim 1000 -T 5000 -var G_CaBk 5.  -var G_NaBk 5.  -name /net/share/pmke226/data/150609_despa/despa_incrleak_1000.pickle\n",
      "</code>"
     ]
    },
    {
     "cell_type": "code",
     "collapsed": false,
     "input": [],
     "language": "python",
     "metadata": {},
     "outputs": []
    }
   ],
   "metadata": {}
  }
 ]
}