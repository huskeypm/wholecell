{
 "metadata": {
  "name": "",
  "signature": "sha256:4756fa02bf6fb59be24a1438f9bef1f7a5597b2df2437469c569010c067c4af5"
 },
 "nbformat": 3,
 "nbformat_minor": 0,
 "worksheets": [
  {
   "cells": [
    {
     "cell_type": "code",
     "collapsed": false,
     "input": [
      "%load_ext autoreload\n",
      "%autoreload 2"
     ],
     "language": "python",
     "metadata": {},
     "outputs": [],
     "prompt_number": 19
    },
    {
     "cell_type": "code",
     "collapsed": false,
     "input": [
      "import gotranJIT\n",
      "from gotran.model.loadmodel import load_ode"
     ],
     "language": "python",
     "metadata": {},
     "outputs": [],
     "prompt_number": 20
    },
    {
     "cell_type": "code",
     "collapsed": false,
     "input": [
      "import analyzeODE as ao\n",
      "import numpy as np\n",
      "import matplotlib.pylab as plt"
     ],
     "language": "python",
     "metadata": {},
     "outputs": [],
     "prompt_number": 21
    },
    {
     "cell_type": "code",
     "collapsed": false,
     "input": [
      "from analyzeODE import PlotMorotti"
     ],
     "language": "python",
     "metadata": {},
     "outputs": [],
     "prompt_number": 22
    },
    {
     "cell_type": "heading",
     "level": 3,
     "metadata": {},
     "source": [
      "Downsampling\n",
      "\n",
      "Run this (by setting if statement to 1) if the pickle files have not been downsampled"
     ]
    },
    {
     "cell_type": "code",
     "collapsed": false,
     "input": [
      "import Case \n",
      "cases = dict()\n",
      "class empty:pass"
     ],
     "language": "python",
     "metadata": {},
     "outputs": [],
     "prompt_number": 23
    },
    {
     "cell_type": "heading",
     "level": 1,
     "metadata": {},
     "source": [
      "1Hz"
     ]
    },
    {
     "cell_type": "code",
     "collapsed": false,
     "input": [
      "import downSamplePickles\n",
      "case1Hz = empty()\n",
      "root = \"/home/AD/cesc235/wholecell_new3/asdf/wholecell/\"\n",
      "percents = ['0p50', '0p60', '0p70', '0p80', '0p90', '1p00','1p10','1p20','1p30','1p40','1p50']\n",
      "#percents = ['0p50', '0p60', '0p70']\n",
      "num_percents = len(percents)\n",
      "print num_percents\n",
      "#maxCai = np.zeros((num_percents, num_percents))\n",
      "#minCai = np.zeros((num_percents, num_percents))\n",
      "diffCai = np.zeros((num_percents, num_percents))\n",
      "#print np.shape(fileNames)\n",
      "\n",
      "for (i ,percent_i) in enumerate(percents):\n",
      "    for (j, percent_j) in enumerate(percents):\n",
      "    #print percent\n",
      "        #print i, j\n",
      "        file = \"mouse_leak%sx_SERCAuptake%sx_freq1p0_60.pickle\"%(percent_i,percent_j)\n",
      "\n",
      "        reducedFile = file.replace(\".pickle\",\"_red.pickle\")\n",
      "\n",
      "        if 0:\n",
      "            #for i,file in enumerate(files):\n",
      "            fileName = root+file\n",
      "            print fileName\n",
      "            downSamplePickles.downsample(fileName,10)\n",
      "        #print reducedFile\n",
      "        \n",
      "        case1Hz.fileName = root+reducedFile\n",
      "        case1Hz.data = ao.readPickle(case1Hz.fileName)\n",
      "        #print case1Hz.fileName\n",
      "            \n",
      "        s = case1Hz.data['s']\n",
      "        s_idx = case1Hz.data['s_idx']\n",
      "        idx = s_idx.index(\"Cai\")\n",
      "        \n",
      "        maxCai = np.amax(s[20e3:20.5e3,idx])\n",
      "        #print maxCai\n",
      "        minCai = np.amin(s[20e3:20.5e3,idx])\n",
      "        #print minCai\n",
      "        \n",
      "        diffCai[i,j] = maxCai - minCai\n",
      "        #print diffCai\n",
      "print diffCai"
     ],
     "language": "python",
     "metadata": {},
     "outputs": [
      {
       "output_type": "stream",
       "stream": "stdout",
       "text": [
        "11\n",
        "Reading /home/AD/cesc235/wholecell_new3/asdf/wholecell/mouse_leak0p50x_SERCAuptake0p50x_freq1p0_60_red.pickle\n",
        "Reading /home/AD/cesc235/wholecell_new3/asdf/wholecell/mouse_leak0p50x_SERCAuptake0p60x_freq1p0_60_red.pickle"
       ]
      },
      {
       "output_type": "stream",
       "stream": "stdout",
       "text": [
        "\n",
        "Reading /home/AD/cesc235/wholecell_new3/asdf/wholecell/mouse_leak0p50x_SERCAuptake0p70x_freq1p0_60_red.pickle"
       ]
      },
      {
       "output_type": "stream",
       "stream": "stdout",
       "text": [
        "\n",
        "Reading /home/AD/cesc235/wholecell_new3/asdf/wholecell/mouse_leak0p50x_SERCAuptake0p80x_freq1p0_60_red.pickle"
       ]
      },
      {
       "output_type": "stream",
       "stream": "stdout",
       "text": [
        "\n",
        "Reading /home/AD/cesc235/wholecell_new3/asdf/wholecell/mouse_leak0p50x_SERCAuptake0p90x_freq1p0_60_red.pickle"
       ]
      },
      {
       "output_type": "stream",
       "stream": "stdout",
       "text": [
        "\n",
        "Reading /home/AD/cesc235/wholecell_new3/asdf/wholecell/mouse_leak0p50x_SERCAuptake1p00x_freq1p0_60_red.pickle"
       ]
      },
      {
       "output_type": "stream",
       "stream": "stdout",
       "text": [
        "\n",
        "Reading /home/AD/cesc235/wholecell_new3/asdf/wholecell/mouse_leak0p50x_SERCAuptake1p10x_freq1p0_60_red.pickle"
       ]
      },
      {
       "output_type": "stream",
       "stream": "stdout",
       "text": [
        "\n",
        "Reading /home/AD/cesc235/wholecell_new3/asdf/wholecell/mouse_leak0p50x_SERCAuptake1p20x_freq1p0_60_red.pickle"
       ]
      },
      {
       "output_type": "stream",
       "stream": "stdout",
       "text": [
        "\n",
        "Reading /home/AD/cesc235/wholecell_new3/asdf/wholecell/mouse_leak0p50x_SERCAuptake1p30x_freq1p0_60_red.pickle"
       ]
      },
      {
       "output_type": "stream",
       "stream": "stdout",
       "text": [
        "\n",
        "Reading /home/AD/cesc235/wholecell_new3/asdf/wholecell/mouse_leak0p50x_SERCAuptake1p40x_freq1p0_60_red.pickle"
       ]
      },
      {
       "output_type": "stream",
       "stream": "stdout",
       "text": [
        "\n",
        "Reading /home/AD/cesc235/wholecell_new3/asdf/wholecell/mouse_leak0p50x_SERCAuptake1p50x_freq1p0_60_red.pickle"
       ]
      },
      {
       "output_type": "stream",
       "stream": "stdout",
       "text": [
        "\n",
        "Reading /home/AD/cesc235/wholecell_new3/asdf/wholecell/mouse_leak0p60x_SERCAuptake0p50x_freq1p0_60_red.pickle"
       ]
      },
      {
       "output_type": "stream",
       "stream": "stdout",
       "text": [
        "\n",
        "Reading /home/AD/cesc235/wholecell_new3/asdf/wholecell/mouse_leak0p60x_SERCAuptake0p60x_freq1p0_60_red.pickle"
       ]
      },
      {
       "output_type": "stream",
       "stream": "stdout",
       "text": [
        "\n",
        "Reading /home/AD/cesc235/wholecell_new3/asdf/wholecell/mouse_leak0p60x_SERCAuptake0p70x_freq1p0_60_red.pickle"
       ]
      },
      {
       "output_type": "stream",
       "stream": "stdout",
       "text": [
        "\n",
        "Reading /home/AD/cesc235/wholecell_new3/asdf/wholecell/mouse_leak0p60x_SERCAuptake0p80x_freq1p0_60_red.pickle"
       ]
      },
      {
       "output_type": "stream",
       "stream": "stdout",
       "text": [
        "\n",
        "Reading /home/AD/cesc235/wholecell_new3/asdf/wholecell/mouse_leak0p60x_SERCAuptake0p90x_freq1p0_60_red.pickle"
       ]
      },
      {
       "output_type": "stream",
       "stream": "stdout",
       "text": [
        "\n",
        "Reading /home/AD/cesc235/wholecell_new3/asdf/wholecell/mouse_leak0p60x_SERCAuptake1p00x_freq1p0_60_red.pickle"
       ]
      },
      {
       "output_type": "stream",
       "stream": "stdout",
       "text": [
        "\n",
        "Reading /home/AD/cesc235/wholecell_new3/asdf/wholecell/mouse_leak0p60x_SERCAuptake1p10x_freq1p0_60_red.pickle"
       ]
      },
      {
       "output_type": "stream",
       "stream": "stdout",
       "text": [
        "\n",
        "Reading /home/AD/cesc235/wholecell_new3/asdf/wholecell/mouse_leak0p60x_SERCAuptake1p20x_freq1p0_60_red.pickle"
       ]
      },
      {
       "output_type": "stream",
       "stream": "stdout",
       "text": [
        "\n",
        "Reading /home/AD/cesc235/wholecell_new3/asdf/wholecell/mouse_leak0p60x_SERCAuptake1p30x_freq1p0_60_red.pickle"
       ]
      },
      {
       "output_type": "stream",
       "stream": "stdout",
       "text": [
        "\n",
        "Reading /home/AD/cesc235/wholecell_new3/asdf/wholecell/mouse_leak0p60x_SERCAuptake1p40x_freq1p0_60_red.pickle"
       ]
      },
      {
       "output_type": "stream",
       "stream": "stdout",
       "text": [
        "\n",
        "Reading /home/AD/cesc235/wholecell_new3/asdf/wholecell/mouse_leak0p60x_SERCAuptake1p50x_freq1p0_60_red.pickle"
       ]
      },
      {
       "output_type": "stream",
       "stream": "stdout",
       "text": [
        "\n",
        "Reading /home/AD/cesc235/wholecell_new3/asdf/wholecell/mouse_leak0p70x_SERCAuptake0p50x_freq1p0_60_red.pickle"
       ]
      },
      {
       "output_type": "stream",
       "stream": "stdout",
       "text": [
        "\n",
        "Reading /home/AD/cesc235/wholecell_new3/asdf/wholecell/mouse_leak0p70x_SERCAuptake0p60x_freq1p0_60_red.pickle"
       ]
      },
      {
       "output_type": "stream",
       "stream": "stdout",
       "text": [
        "\n",
        "Reading /home/AD/cesc235/wholecell_new3/asdf/wholecell/mouse_leak0p70x_SERCAuptake0p70x_freq1p0_60_red.pickle"
       ]
      },
      {
       "output_type": "stream",
       "stream": "stdout",
       "text": [
        "\n",
        "Reading /home/AD/cesc235/wholecell_new3/asdf/wholecell/mouse_leak0p70x_SERCAuptake0p80x_freq1p0_60_red.pickle"
       ]
      },
      {
       "output_type": "stream",
       "stream": "stdout",
       "text": [
        "\n",
        "Reading /home/AD/cesc235/wholecell_new3/asdf/wholecell/mouse_leak0p70x_SERCAuptake0p90x_freq1p0_60_red.pickle"
       ]
      },
      {
       "output_type": "stream",
       "stream": "stdout",
       "text": [
        "\n",
        "Reading /home/AD/cesc235/wholecell_new3/asdf/wholecell/mouse_leak0p70x_SERCAuptake1p00x_freq1p0_60_red.pickle"
       ]
      },
      {
       "output_type": "stream",
       "stream": "stdout",
       "text": [
        "\n",
        "Reading /home/AD/cesc235/wholecell_new3/asdf/wholecell/mouse_leak0p70x_SERCAuptake1p10x_freq1p0_60_red.pickle"
       ]
      },
      {
       "output_type": "stream",
       "stream": "stdout",
       "text": [
        "\n",
        "Reading /home/AD/cesc235/wholecell_new3/asdf/wholecell/mouse_leak0p70x_SERCAuptake1p20x_freq1p0_60_red.pickle"
       ]
      },
      {
       "output_type": "stream",
       "stream": "stdout",
       "text": [
        "\n",
        "Reading /home/AD/cesc235/wholecell_new3/asdf/wholecell/mouse_leak0p70x_SERCAuptake1p30x_freq1p0_60_red.pickle"
       ]
      },
      {
       "output_type": "stream",
       "stream": "stdout",
       "text": [
        "\n",
        "Reading /home/AD/cesc235/wholecell_new3/asdf/wholecell/mouse_leak0p70x_SERCAuptake1p40x_freq1p0_60_red.pickle"
       ]
      },
      {
       "output_type": "stream",
       "stream": "stdout",
       "text": [
        "\n",
        "Reading /home/AD/cesc235/wholecell_new3/asdf/wholecell/mouse_leak0p70x_SERCAuptake1p50x_freq1p0_60_red.pickle"
       ]
      },
      {
       "output_type": "stream",
       "stream": "stdout",
       "text": [
        "\n",
        "Reading /home/AD/cesc235/wholecell_new3/asdf/wholecell/mouse_leak0p80x_SERCAuptake0p50x_freq1p0_60_red.pickle"
       ]
      },
      {
       "output_type": "stream",
       "stream": "stdout",
       "text": [
        "\n",
        "Reading /home/AD/cesc235/wholecell_new3/asdf/wholecell/mouse_leak0p80x_SERCAuptake0p60x_freq1p0_60_red.pickle"
       ]
      },
      {
       "output_type": "stream",
       "stream": "stdout",
       "text": [
        "\n",
        "Reading /home/AD/cesc235/wholecell_new3/asdf/wholecell/mouse_leak0p80x_SERCAuptake0p70x_freq1p0_60_red.pickle"
       ]
      },
      {
       "output_type": "stream",
       "stream": "stdout",
       "text": [
        "\n",
        "Reading /home/AD/cesc235/wholecell_new3/asdf/wholecell/mouse_leak0p80x_SERCAuptake0p80x_freq1p0_60_red.pickle"
       ]
      },
      {
       "output_type": "stream",
       "stream": "stdout",
       "text": [
        "\n",
        "Reading /home/AD/cesc235/wholecell_new3/asdf/wholecell/mouse_leak0p80x_SERCAuptake0p90x_freq1p0_60_red.pickle"
       ]
      },
      {
       "output_type": "stream",
       "stream": "stdout",
       "text": [
        "\n",
        "Reading /home/AD/cesc235/wholecell_new3/asdf/wholecell/mouse_leak0p80x_SERCAuptake1p00x_freq1p0_60_red.pickle"
       ]
      },
      {
       "output_type": "stream",
       "stream": "stdout",
       "text": [
        "\n",
        "Reading /home/AD/cesc235/wholecell_new3/asdf/wholecell/mouse_leak0p80x_SERCAuptake1p10x_freq1p0_60_red.pickle"
       ]
      },
      {
       "output_type": "stream",
       "stream": "stdout",
       "text": [
        "\n",
        "Reading /home/AD/cesc235/wholecell_new3/asdf/wholecell/mouse_leak0p80x_SERCAuptake1p20x_freq1p0_60_red.pickle"
       ]
      },
      {
       "output_type": "stream",
       "stream": "stdout",
       "text": [
        "\n",
        "Reading /home/AD/cesc235/wholecell_new3/asdf/wholecell/mouse_leak0p80x_SERCAuptake1p30x_freq1p0_60_red.pickle"
       ]
      },
      {
       "output_type": "stream",
       "stream": "stdout",
       "text": [
        "\n",
        "Reading /home/AD/cesc235/wholecell_new3/asdf/wholecell/mouse_leak0p80x_SERCAuptake1p40x_freq1p0_60_red.pickle"
       ]
      },
      {
       "output_type": "stream",
       "stream": "stdout",
       "text": [
        "\n",
        "Reading /home/AD/cesc235/wholecell_new3/asdf/wholecell/mouse_leak0p80x_SERCAuptake1p50x_freq1p0_60_red.pickle"
       ]
      },
      {
       "output_type": "stream",
       "stream": "stdout",
       "text": [
        "\n",
        "Reading /home/AD/cesc235/wholecell_new3/asdf/wholecell/mouse_leak0p90x_SERCAuptake0p50x_freq1p0_60_red.pickle"
       ]
      },
      {
       "output_type": "stream",
       "stream": "stdout",
       "text": [
        "\n",
        "Reading /home/AD/cesc235/wholecell_new3/asdf/wholecell/mouse_leak0p90x_SERCAuptake0p60x_freq1p0_60_red.pickle"
       ]
      },
      {
       "output_type": "stream",
       "stream": "stdout",
       "text": [
        "\n",
        "Reading /home/AD/cesc235/wholecell_new3/asdf/wholecell/mouse_leak0p90x_SERCAuptake0p70x_freq1p0_60_red.pickle"
       ]
      },
      {
       "output_type": "stream",
       "stream": "stdout",
       "text": [
        "\n",
        "Reading /home/AD/cesc235/wholecell_new3/asdf/wholecell/mouse_leak0p90x_SERCAuptake0p80x_freq1p0_60_red.pickle"
       ]
      },
      {
       "output_type": "stream",
       "stream": "stdout",
       "text": [
        "\n",
        "Reading /home/AD/cesc235/wholecell_new3/asdf/wholecell/mouse_leak0p90x_SERCAuptake0p90x_freq1p0_60_red.pickle"
       ]
      },
      {
       "output_type": "stream",
       "stream": "stdout",
       "text": [
        "\n",
        "Reading /home/AD/cesc235/wholecell_new3/asdf/wholecell/mouse_leak0p90x_SERCAuptake1p00x_freq1p0_60_red.pickle"
       ]
      },
      {
       "output_type": "stream",
       "stream": "stdout",
       "text": [
        "\n",
        "Reading /home/AD/cesc235/wholecell_new3/asdf/wholecell/mouse_leak0p90x_SERCAuptake1p10x_freq1p0_60_red.pickle"
       ]
      },
      {
       "output_type": "stream",
       "stream": "stdout",
       "text": [
        "\n",
        "Reading /home/AD/cesc235/wholecell_new3/asdf/wholecell/mouse_leak0p90x_SERCAuptake1p20x_freq1p0_60_red.pickle"
       ]
      },
      {
       "output_type": "stream",
       "stream": "stdout",
       "text": [
        "\n",
        "Reading /home/AD/cesc235/wholecell_new3/asdf/wholecell/mouse_leak0p90x_SERCAuptake1p30x_freq1p0_60_red.pickle"
       ]
      },
      {
       "output_type": "stream",
       "stream": "stdout",
       "text": [
        "\n",
        "Reading /home/AD/cesc235/wholecell_new3/asdf/wholecell/mouse_leak0p90x_SERCAuptake1p40x_freq1p0_60_red.pickle"
       ]
      },
      {
       "output_type": "stream",
       "stream": "stdout",
       "text": [
        "\n",
        "Reading /home/AD/cesc235/wholecell_new3/asdf/wholecell/mouse_leak0p90x_SERCAuptake1p50x_freq1p0_60_red.pickle"
       ]
      },
      {
       "output_type": "stream",
       "stream": "stdout",
       "text": [
        "\n",
        "Reading /home/AD/cesc235/wholecell_new3/asdf/wholecell/mouse_leak1p00x_SERCAuptake0p50x_freq1p0_60_red.pickle"
       ]
      },
      {
       "output_type": "stream",
       "stream": "stdout",
       "text": [
        "\n",
        "Reading /home/AD/cesc235/wholecell_new3/asdf/wholecell/mouse_leak1p00x_SERCAuptake0p60x_freq1p0_60_red.pickle"
       ]
      },
      {
       "output_type": "stream",
       "stream": "stdout",
       "text": [
        "\n",
        "Reading /home/AD/cesc235/wholecell_new3/asdf/wholecell/mouse_leak1p00x_SERCAuptake0p70x_freq1p0_60_red.pickle"
       ]
      },
      {
       "output_type": "stream",
       "stream": "stdout",
       "text": [
        "\n",
        "Reading /home/AD/cesc235/wholecell_new3/asdf/wholecell/mouse_leak1p00x_SERCAuptake0p80x_freq1p0_60_red.pickle"
       ]
      },
      {
       "output_type": "stream",
       "stream": "stdout",
       "text": [
        "\n",
        "Reading /home/AD/cesc235/wholecell_new3/asdf/wholecell/mouse_leak1p00x_SERCAuptake0p90x_freq1p0_60_red.pickle"
       ]
      },
      {
       "output_type": "stream",
       "stream": "stdout",
       "text": [
        "\n",
        "Reading /home/AD/cesc235/wholecell_new3/asdf/wholecell/mouse_leak1p00x_SERCAuptake1p00x_freq1p0_60_red.pickle"
       ]
      },
      {
       "output_type": "stream",
       "stream": "stdout",
       "text": [
        "\n",
        "Reading /home/AD/cesc235/wholecell_new3/asdf/wholecell/mouse_leak1p00x_SERCAuptake1p10x_freq1p0_60_red.pickle"
       ]
      },
      {
       "output_type": "stream",
       "stream": "stdout",
       "text": [
        "\n",
        "Reading /home/AD/cesc235/wholecell_new3/asdf/wholecell/mouse_leak1p00x_SERCAuptake1p20x_freq1p0_60_red.pickle"
       ]
      },
      {
       "output_type": "stream",
       "stream": "stdout",
       "text": [
        "\n",
        "Reading /home/AD/cesc235/wholecell_new3/asdf/wholecell/mouse_leak1p00x_SERCAuptake1p30x_freq1p0_60_red.pickle"
       ]
      },
      {
       "output_type": "stream",
       "stream": "stdout",
       "text": [
        "\n",
        "Reading /home/AD/cesc235/wholecell_new3/asdf/wholecell/mouse_leak1p00x_SERCAuptake1p40x_freq1p0_60_red.pickle"
       ]
      },
      {
       "output_type": "stream",
       "stream": "stdout",
       "text": [
        "\n",
        "Reading /home/AD/cesc235/wholecell_new3/asdf/wholecell/mouse_leak1p00x_SERCAuptake1p50x_freq1p0_60_red.pickle"
       ]
      },
      {
       "output_type": "stream",
       "stream": "stdout",
       "text": [
        "\n",
        "Reading /home/AD/cesc235/wholecell_new3/asdf/wholecell/mouse_leak1p10x_SERCAuptake0p50x_freq1p0_60_red.pickle"
       ]
      },
      {
       "output_type": "stream",
       "stream": "stdout",
       "text": [
        "\n",
        "Reading /home/AD/cesc235/wholecell_new3/asdf/wholecell/mouse_leak1p10x_SERCAuptake0p60x_freq1p0_60_red.pickle"
       ]
      },
      {
       "output_type": "stream",
       "stream": "stdout",
       "text": [
        "\n",
        "Reading /home/AD/cesc235/wholecell_new3/asdf/wholecell/mouse_leak1p10x_SERCAuptake0p70x_freq1p0_60_red.pickle"
       ]
      },
      {
       "output_type": "stream",
       "stream": "stdout",
       "text": [
        "\n",
        "Reading /home/AD/cesc235/wholecell_new3/asdf/wholecell/mouse_leak1p10x_SERCAuptake0p80x_freq1p0_60_red.pickle"
       ]
      },
      {
       "output_type": "stream",
       "stream": "stdout",
       "text": [
        "\n",
        "Reading /home/AD/cesc235/wholecell_new3/asdf/wholecell/mouse_leak1p10x_SERCAuptake0p90x_freq1p0_60_red.pickle"
       ]
      },
      {
       "output_type": "stream",
       "stream": "stdout",
       "text": [
        "\n",
        "Reading /home/AD/cesc235/wholecell_new3/asdf/wholecell/mouse_leak1p10x_SERCAuptake1p00x_freq1p0_60_red.pickle"
       ]
      },
      {
       "output_type": "stream",
       "stream": "stdout",
       "text": [
        "\n",
        "Reading /home/AD/cesc235/wholecell_new3/asdf/wholecell/mouse_leak1p10x_SERCAuptake1p10x_freq1p0_60_red.pickle"
       ]
      },
      {
       "output_type": "stream",
       "stream": "stdout",
       "text": [
        "\n",
        "Reading /home/AD/cesc235/wholecell_new3/asdf/wholecell/mouse_leak1p10x_SERCAuptake1p20x_freq1p0_60_red.pickle"
       ]
      },
      {
       "output_type": "stream",
       "stream": "stdout",
       "text": [
        "\n",
        "Reading /home/AD/cesc235/wholecell_new3/asdf/wholecell/mouse_leak1p10x_SERCAuptake1p30x_freq1p0_60_red.pickle"
       ]
      },
      {
       "output_type": "stream",
       "stream": "stdout",
       "text": [
        "\n",
        "Reading /home/AD/cesc235/wholecell_new3/asdf/wholecell/mouse_leak1p10x_SERCAuptake1p40x_freq1p0_60_red.pickle"
       ]
      },
      {
       "output_type": "stream",
       "stream": "stdout",
       "text": [
        "\n",
        "Reading /home/AD/cesc235/wholecell_new3/asdf/wholecell/mouse_leak1p10x_SERCAuptake1p50x_freq1p0_60_red.pickle"
       ]
      },
      {
       "output_type": "stream",
       "stream": "stdout",
       "text": [
        "\n",
        "Reading /home/AD/cesc235/wholecell_new3/asdf/wholecell/mouse_leak1p20x_SERCAuptake0p50x_freq1p0_60_red.pickle"
       ]
      },
      {
       "output_type": "stream",
       "stream": "stdout",
       "text": [
        "\n",
        "Reading /home/AD/cesc235/wholecell_new3/asdf/wholecell/mouse_leak1p20x_SERCAuptake0p60x_freq1p0_60_red.pickle"
       ]
      },
      {
       "output_type": "stream",
       "stream": "stdout",
       "text": [
        "\n",
        "Reading /home/AD/cesc235/wholecell_new3/asdf/wholecell/mouse_leak1p20x_SERCAuptake0p70x_freq1p0_60_red.pickle"
       ]
      },
      {
       "output_type": "stream",
       "stream": "stdout",
       "text": [
        "\n",
        "Reading /home/AD/cesc235/wholecell_new3/asdf/wholecell/mouse_leak1p20x_SERCAuptake0p80x_freq1p0_60_red.pickle"
       ]
      },
      {
       "output_type": "stream",
       "stream": "stdout",
       "text": [
        "\n",
        "Reading /home/AD/cesc235/wholecell_new3/asdf/wholecell/mouse_leak1p20x_SERCAuptake0p90x_freq1p0_60_red.pickle"
       ]
      },
      {
       "output_type": "stream",
       "stream": "stdout",
       "text": [
        "\n",
        "Reading /home/AD/cesc235/wholecell_new3/asdf/wholecell/mouse_leak1p20x_SERCAuptake1p00x_freq1p0_60_red.pickle"
       ]
      },
      {
       "output_type": "stream",
       "stream": "stdout",
       "text": [
        "\n",
        "Reading /home/AD/cesc235/wholecell_new3/asdf/wholecell/mouse_leak1p20x_SERCAuptake1p10x_freq1p0_60_red.pickle"
       ]
      },
      {
       "output_type": "stream",
       "stream": "stdout",
       "text": [
        "\n",
        "Reading /home/AD/cesc235/wholecell_new3/asdf/wholecell/mouse_leak1p20x_SERCAuptake1p20x_freq1p0_60_red.pickle"
       ]
      },
      {
       "output_type": "stream",
       "stream": "stdout",
       "text": [
        "\n",
        "Reading /home/AD/cesc235/wholecell_new3/asdf/wholecell/mouse_leak1p20x_SERCAuptake1p30x_freq1p0_60_red.pickle"
       ]
      },
      {
       "output_type": "stream",
       "stream": "stdout",
       "text": [
        "\n",
        "Reading /home/AD/cesc235/wholecell_new3/asdf/wholecell/mouse_leak1p20x_SERCAuptake1p40x_freq1p0_60_red.pickle"
       ]
      },
      {
       "output_type": "stream",
       "stream": "stdout",
       "text": [
        "\n",
        "Reading /home/AD/cesc235/wholecell_new3/asdf/wholecell/mouse_leak1p20x_SERCAuptake1p50x_freq1p0_60_red.pickle"
       ]
      },
      {
       "output_type": "stream",
       "stream": "stdout",
       "text": [
        "\n",
        "Reading /home/AD/cesc235/wholecell_new3/asdf/wholecell/mouse_leak1p30x_SERCAuptake0p50x_freq1p0_60_red.pickle"
       ]
      },
      {
       "output_type": "stream",
       "stream": "stdout",
       "text": [
        "\n",
        "Reading /home/AD/cesc235/wholecell_new3/asdf/wholecell/mouse_leak1p30x_SERCAuptake0p60x_freq1p0_60_red.pickle"
       ]
      },
      {
       "output_type": "stream",
       "stream": "stdout",
       "text": [
        "\n",
        "Reading /home/AD/cesc235/wholecell_new3/asdf/wholecell/mouse_leak1p30x_SERCAuptake0p70x_freq1p0_60_red.pickle"
       ]
      },
      {
       "output_type": "stream",
       "stream": "stdout",
       "text": [
        "\n",
        "Reading /home/AD/cesc235/wholecell_new3/asdf/wholecell/mouse_leak1p30x_SERCAuptake0p80x_freq1p0_60_red.pickle"
       ]
      },
      {
       "output_type": "stream",
       "stream": "stdout",
       "text": [
        "\n",
        "Reading /home/AD/cesc235/wholecell_new3/asdf/wholecell/mouse_leak1p30x_SERCAuptake0p90x_freq1p0_60_red.pickle"
       ]
      },
      {
       "output_type": "stream",
       "stream": "stdout",
       "text": [
        "\n",
        "Reading /home/AD/cesc235/wholecell_new3/asdf/wholecell/mouse_leak1p30x_SERCAuptake1p00x_freq1p0_60_red.pickle"
       ]
      },
      {
       "output_type": "stream",
       "stream": "stdout",
       "text": [
        "\n",
        "Reading /home/AD/cesc235/wholecell_new3/asdf/wholecell/mouse_leak1p30x_SERCAuptake1p10x_freq1p0_60_red.pickle"
       ]
      },
      {
       "output_type": "stream",
       "stream": "stdout",
       "text": [
        "\n",
        "Reading /home/AD/cesc235/wholecell_new3/asdf/wholecell/mouse_leak1p30x_SERCAuptake1p20x_freq1p0_60_red.pickle"
       ]
      },
      {
       "output_type": "stream",
       "stream": "stdout",
       "text": [
        "\n",
        "Reading /home/AD/cesc235/wholecell_new3/asdf/wholecell/mouse_leak1p30x_SERCAuptake1p30x_freq1p0_60_red.pickle"
       ]
      },
      {
       "output_type": "stream",
       "stream": "stdout",
       "text": [
        "\n",
        "Reading /home/AD/cesc235/wholecell_new3/asdf/wholecell/mouse_leak1p30x_SERCAuptake1p40x_freq1p0_60_red.pickle"
       ]
      },
      {
       "output_type": "stream",
       "stream": "stdout",
       "text": [
        "\n",
        "Reading /home/AD/cesc235/wholecell_new3/asdf/wholecell/mouse_leak1p30x_SERCAuptake1p50x_freq1p0_60_red.pickle"
       ]
      },
      {
       "output_type": "stream",
       "stream": "stdout",
       "text": [
        "\n",
        "Reading /home/AD/cesc235/wholecell_new3/asdf/wholecell/mouse_leak1p40x_SERCAuptake0p50x_freq1p0_60_red.pickle"
       ]
      },
      {
       "output_type": "stream",
       "stream": "stdout",
       "text": [
        "\n",
        "Reading /home/AD/cesc235/wholecell_new3/asdf/wholecell/mouse_leak1p40x_SERCAuptake0p60x_freq1p0_60_red.pickle"
       ]
      },
      {
       "output_type": "stream",
       "stream": "stdout",
       "text": [
        "\n",
        "Reading /home/AD/cesc235/wholecell_new3/asdf/wholecell/mouse_leak1p40x_SERCAuptake0p70x_freq1p0_60_red.pickle"
       ]
      },
      {
       "output_type": "stream",
       "stream": "stdout",
       "text": [
        "\n",
        "Reading /home/AD/cesc235/wholecell_new3/asdf/wholecell/mouse_leak1p40x_SERCAuptake0p80x_freq1p0_60_red.pickle"
       ]
      },
      {
       "output_type": "stream",
       "stream": "stdout",
       "text": [
        "\n",
        "Reading /home/AD/cesc235/wholecell_new3/asdf/wholecell/mouse_leak1p40x_SERCAuptake0p90x_freq1p0_60_red.pickle"
       ]
      },
      {
       "output_type": "stream",
       "stream": "stdout",
       "text": [
        "\n",
        "Reading /home/AD/cesc235/wholecell_new3/asdf/wholecell/mouse_leak1p40x_SERCAuptake1p00x_freq1p0_60_red.pickle"
       ]
      },
      {
       "output_type": "stream",
       "stream": "stdout",
       "text": [
        "\n",
        "Reading /home/AD/cesc235/wholecell_new3/asdf/wholecell/mouse_leak1p40x_SERCAuptake1p10x_freq1p0_60_red.pickle"
       ]
      },
      {
       "output_type": "stream",
       "stream": "stdout",
       "text": [
        "\n",
        "Reading /home/AD/cesc235/wholecell_new3/asdf/wholecell/mouse_leak1p40x_SERCAuptake1p20x_freq1p0_60_red.pickle"
       ]
      },
      {
       "output_type": "stream",
       "stream": "stdout",
       "text": [
        "\n",
        "Reading /home/AD/cesc235/wholecell_new3/asdf/wholecell/mouse_leak1p40x_SERCAuptake1p30x_freq1p0_60_red.pickle"
       ]
      },
      {
       "output_type": "stream",
       "stream": "stdout",
       "text": [
        "\n",
        "Reading /home/AD/cesc235/wholecell_new3/asdf/wholecell/mouse_leak1p40x_SERCAuptake1p40x_freq1p0_60_red.pickle"
       ]
      },
      {
       "output_type": "stream",
       "stream": "stdout",
       "text": [
        "\n",
        "Reading /home/AD/cesc235/wholecell_new3/asdf/wholecell/mouse_leak1p40x_SERCAuptake1p50x_freq1p0_60_red.pickle"
       ]
      },
      {
       "output_type": "stream",
       "stream": "stdout",
       "text": [
        "\n",
        "Reading /home/AD/cesc235/wholecell_new3/asdf/wholecell/mouse_leak1p50x_SERCAuptake0p50x_freq1p0_60_red.pickle"
       ]
      },
      {
       "output_type": "stream",
       "stream": "stdout",
       "text": [
        "\n",
        "Reading /home/AD/cesc235/wholecell_new3/asdf/wholecell/mouse_leak1p50x_SERCAuptake0p60x_freq1p0_60_red.pickle"
       ]
      },
      {
       "output_type": "stream",
       "stream": "stdout",
       "text": [
        "\n",
        "Reading /home/AD/cesc235/wholecell_new3/asdf/wholecell/mouse_leak1p50x_SERCAuptake0p70x_freq1p0_60_red.pickle"
       ]
      },
      {
       "output_type": "stream",
       "stream": "stdout",
       "text": [
        "\n",
        "Reading /home/AD/cesc235/wholecell_new3/asdf/wholecell/mouse_leak1p50x_SERCAuptake0p80x_freq1p0_60_red.pickle"
       ]
      },
      {
       "output_type": "stream",
       "stream": "stdout",
       "text": [
        "\n",
        "Reading /home/AD/cesc235/wholecell_new3/asdf/wholecell/mouse_leak1p50x_SERCAuptake0p90x_freq1p0_60_red.pickle"
       ]
      },
      {
       "output_type": "stream",
       "stream": "stdout",
       "text": [
        "\n",
        "Reading /home/AD/cesc235/wholecell_new3/asdf/wholecell/mouse_leak1p50x_SERCAuptake1p00x_freq1p0_60_red.pickle"
       ]
      },
      {
       "output_type": "stream",
       "stream": "stdout",
       "text": [
        "\n",
        "Reading /home/AD/cesc235/wholecell_new3/asdf/wholecell/mouse_leak1p50x_SERCAuptake1p10x_freq1p0_60_red.pickle"
       ]
      },
      {
       "output_type": "stream",
       "stream": "stdout",
       "text": [
        "\n",
        "Reading /home/AD/cesc235/wholecell_new3/asdf/wholecell/mouse_leak1p50x_SERCAuptake1p20x_freq1p0_60_red.pickle"
       ]
      },
      {
       "output_type": "stream",
       "stream": "stdout",
       "text": [
        "\n",
        "Reading /home/AD/cesc235/wholecell_new3/asdf/wholecell/mouse_leak1p50x_SERCAuptake1p30x_freq1p0_60_red.pickle"
       ]
      },
      {
       "output_type": "stream",
       "stream": "stdout",
       "text": [
        "\n",
        "Reading /home/AD/cesc235/wholecell_new3/asdf/wholecell/mouse_leak1p50x_SERCAuptake1p40x_freq1p0_60_red.pickle"
       ]
      },
      {
       "output_type": "stream",
       "stream": "stdout",
       "text": [
        "\n",
        "Reading /home/AD/cesc235/wholecell_new3/asdf/wholecell/mouse_leak1p50x_SERCAuptake1p50x_freq1p0_60_red.pickle"
       ]
      },
      {
       "output_type": "stream",
       "stream": "stdout",
       "text": [
        "\n",
        "[[ 0.00027929  0.00028387  0.00028547  0.00028497  0.00028307  0.00028015\n",
        "   0.00027651  0.00027237  0.00026796  0.00026333  0.00025857]\n",
        " [ 0.00030796  0.00031374  0.00031607  0.00031599  0.00031422  0.00031122\n",
        "   0.00030739  0.00030299  0.00029818  0.00029305  0.00028787]\n",
        " [ 0.00033899  0.00034616  0.00034939  0.00034982  0.00034824  0.00034526\n",
        "   0.00034127  0.00033656  0.00033132  0.00032583  0.00032009]\n",
        " [ 0.00037255  0.00038137  0.00038566  0.00038671  0.00038542  0.00038251\n",
        "   0.00037837  0.00037339  0.00036781  0.00036181  0.00035553]\n",
        " [ 0.0004089   0.00041963  0.00042518  0.00042697  0.00042606  0.0004232\n",
        "   0.00041893  0.00041365  0.00040768  0.00040126  0.00039453]\n",
        " [ 0.0004483   0.00046128  0.00046829  0.00047093  0.0004704   0.00046761\n",
        "   0.00046321  0.00045761  0.00045127  0.00044437  0.00043704]\n",
        " [ 0.00049103  0.00050664  0.00051534  0.00051899  0.00051887  0.00051608\n",
        "   0.00051139  0.00050543  0.00049861  0.00049121  0.00048337]\n",
        " [ 0.0005374   0.00055605  0.00056676  0.00057149  0.00057185  0.00056897\n",
        "   0.00056384  0.00055723  0.00054972  0.00054166  0.00053317]\n",
        " [ 0.0005877   0.00060986  0.00062285  0.00062885  0.00062964  0.00062656\n",
        "   0.00062082  0.0006133   0.00060469  0.00059553  0.00058622]\n",
        " [ 0.00064218  0.00066835  0.00068391  0.00069128  0.00069248  0.00068906\n",
        "   0.00068246  0.00067367  0.00066353  0.00065277  0.00064201]\n",
        " [ 0.0007011   0.00073174  0.00075011  0.00075888  0.00076032  0.00075628\n",
        "   0.00074851  0.0007381   0.00072601  0.00071309  0.00070004]]"
       ]
      },
      {
       "output_type": "stream",
       "stream": "stdout",
       "text": [
        "\n"
       ]
      }
     ],
     "prompt_number": 73
    },
    {
     "cell_type": "code",
     "collapsed": false,
     "input": [
      "font = {'weight' : 'bold',\n",
      "        'size'   : 16}\n",
      "matplotlib.rc('font', **font)"
     ],
     "language": "python",
     "metadata": {},
     "outputs": [],
     "prompt_number": 83
    },
    {
     "cell_type": "code",
     "collapsed": false,
     "input": [
      "print diffCai\n",
      "#print diffCai\n",
      "#plt.plot(xy_coords,diffCai)\n",
      "\n",
      "X,Y = meshgrid(np.arange(50,170,10), np.arange(50,170,10))\n",
      "print X\n",
      "print Y\n",
      "Z=diffCai.T\n",
      "plt.pcolormesh(X,Y,Z)\n",
      "plt.xlabel(\"Amylin Leak %\",weight=\"bold\",size='22')\n",
      "plt.ylabel(\"SERCA Function %\",weight=\"bold\",size='22')\n",
      "plt.colorbar()\n",
      "plt.gcf().savefig(root+\"3d_chart_1Hz.png\")"
     ],
     "language": "python",
     "metadata": {},
     "outputs": [
      {
       "output_type": "stream",
       "stream": "stdout",
       "text": [
        "[[ 0.00027929  0.00028387  0.00028547  0.00028497  0.00028307  0.00028015\n",
        "   0.00027651  0.00027237  0.00026796  0.00026333  0.00025857]\n",
        " [ 0.00030796  0.00031374  0.00031607  0.00031599  0.00031422  0.00031122\n",
        "   0.00030739  0.00030299  0.00029818  0.00029305  0.00028787]\n",
        " [ 0.00033899  0.00034616  0.00034939  0.00034982  0.00034824  0.00034526\n",
        "   0.00034127  0.00033656  0.00033132  0.00032583  0.00032009]\n",
        " [ 0.00037255  0.00038137  0.00038566  0.00038671  0.00038542  0.00038251\n",
        "   0.00037837  0.00037339  0.00036781  0.00036181  0.00035553]\n",
        " [ 0.0004089   0.00041963  0.00042518  0.00042697  0.00042606  0.0004232\n",
        "   0.00041893  0.00041365  0.00040768  0.00040126  0.00039453]\n",
        " [ 0.0004483   0.00046128  0.00046829  0.00047093  0.0004704   0.00046761\n",
        "   0.00046321  0.00045761  0.00045127  0.00044437  0.00043704]\n",
        " [ 0.00049103  0.00050664  0.00051534  0.00051899  0.00051887  0.00051608\n",
        "   0.00051139  0.00050543  0.00049861  0.00049121  0.00048337]\n",
        " [ 0.0005374   0.00055605  0.00056676  0.00057149  0.00057185  0.00056897\n",
        "   0.00056384  0.00055723  0.00054972  0.00054166  0.00053317]\n",
        " [ 0.0005877   0.00060986  0.00062285  0.00062885  0.00062964  0.00062656\n",
        "   0.00062082  0.0006133   0.00060469  0.00059553  0.00058622]\n",
        " [ 0.00064218  0.00066835  0.00068391  0.00069128  0.00069248  0.00068906\n",
        "   0.00068246  0.00067367  0.00066353  0.00065277  0.00064201]\n",
        " [ 0.0007011   0.00073174  0.00075011  0.00075888  0.00076032  0.00075628\n",
        "   0.00074851  0.0007381   0.00072601  0.00071309  0.00070004]]\n",
        "[[ 50  60  70  80  90 100 110 120 130 140 150 160]\n",
        " [ 50  60  70  80  90 100 110 120 130 140 150 160]\n",
        " [ 50  60  70  80  90 100 110 120 130 140 150 160]\n",
        " [ 50  60  70  80  90 100 110 120 130 140 150 160]\n",
        " [ 50  60  70  80  90 100 110 120 130 140 150 160]\n",
        " [ 50  60  70  80  90 100 110 120 130 140 150 160]\n",
        " [ 50  60  70  80  90 100 110 120 130 140 150 160]\n",
        " [ 50  60  70  80  90 100 110 120 130 140 150 160]\n",
        " [ 50  60  70  80  90 100 110 120 130 140 150 160]\n",
        " [ 50  60  70  80  90 100 110 120 130 140 150 160]\n",
        " [ 50  60  70  80  90 100 110 120 130 140 150 160]\n",
        " [ 50  60  70  80  90 100 110 120 130 140 150 160]]\n",
        "[[ 50  50  50  50  50  50  50  50  50  50  50  50]\n",
        " [ 60  60  60  60  60  60  60  60  60  60  60  60]\n",
        " [ 70  70  70  70  70  70  70  70  70  70  70  70]\n",
        " [ 80  80  80  80  80  80  80  80  80  80  80  80]\n",
        " [ 90  90  90  90  90  90  90  90  90  90  90  90]\n",
        " [100 100 100 100 100 100 100 100 100 100 100 100]\n",
        " [110 110 110 110 110 110 110 110 110 110 110 110]\n",
        " [120 120 120 120 120 120 120 120 120 120 120 120]\n",
        " [130 130 130 130 130 130 130 130 130 130 130 130]\n",
        " [140 140 140 140 140 140 140 140 140 140 140 140]\n",
        " [150 150 150 150 150 150 150 150 150 150 150 150]\n",
        " [160 160 160 160 160 160 160 160 160 160 160 160]]\n"
       ]
      },
      {
       "metadata": {},
       "output_type": "display_data",
       "png": "[encoded data removed]",
       "text": [
        "<matplotlib.figure.Figure at 0x7fbbe062fa90>"
       ]
      }
     ],
     "prompt_number": 85
    },
    {
     "cell_type": "heading",
     "level": 3,
     "metadata": {},
     "source": [
      "End of test section"
     ]
    },
    {
     "cell_type": "code",
     "collapsed": false,
     "input": [
      "case2Hz = empty()\n",
      "root = \"/home/AD/cesc235/wholecell_new3/asdf/wholecell/\"\n",
      "#percents = ['0p50', '0p60', '0p70', '0p80', '0p90', '1p00','1p10','1p20','1p30','1p40','1p50']\n",
      "percents1 = ['0p90', '1p00','1p10','1p20','1p30','1p40','1p50']\n",
      "percents2 = ['0p50', '0p60', '0p70', '0p80', '0p90', '1p00','1p10','1p20','1p30','1p40','1p50']\n",
      "#percents1 = ['0p60']#, '0p70']#, '0p70']\n",
      "#percents2 = ['0p90']\n",
      "#num_percents = len(percents)\n",
      "#print num_percents\n",
      "#maxCai = np.zeros((num_percents, num_percents))\n",
      "#minCai = np.zeros((num_percents, num_percents))\n",
      "diffCai = np.zeros((num_percents, num_percents))\n",
      "#print np.shape(fileNames)\n",
      "\n",
      "for (i ,percent_i) in enumerate(percents1):\n",
      "    for (j, percent_j) in enumerate(percents2):\n",
      "    #print percent\n",
      "        #print i, j\n",
      "        file = \"mouse_leak%sx_SERCAuptake%sx_freq2p0_60.pickle\"%(percent_i,percent_j)\n",
      "\n",
      "        reducedFile = file.replace(\".pickle\",\"_red.pickle\")\n",
      "\n",
      "        if 1:\n",
      "            #for i,file in enumerate(files):\n",
      "            fileName = root+file\n",
      "            print fileName\n",
      "            downSamplePickles.downsample(fileName,10)\n",
      "        #print reducedFile\n",
      "        \n",
      "    #    case2Hz.fileName = root+reducedFile\n",
      "    #    case2Hz.data = ao.readPickle(case2Hz.fileName)\n",
      "        #print case1Hz.fileName\n",
      "            \n",
      "    #    s = case2Hz.data['s']\n",
      "    #    s_idx = case2Hz.data['s_idx']\n",
      "    #    idx = s_idx.index(\"Cai\")\n",
      "        \n",
      "    #    maxCai = np.amax(s[20e3:20.5e3,idx])\n",
      "        #print maxCai\n",
      "    #    minCai = np.amin(s[20e3:20.5e3,idx])\n",
      "        #print minCai\n",
      "        \n",
      "     #   diffCai[i,j] = maxCai - minCai\n",
      "        #print diffCai\n",
      "#print diffCai"
     ],
     "language": "python",
     "metadata": {},
     "outputs": []
    },
    {
     "cell_type": "code",
     "collapsed": false,
     "input": [
      "import downSamplePickles\n",
      "case1Hz = empty()\n",
      "root = \"/home/AD/cesc235/wholecell_new3/asdf/wholecell/\"\n",
      "percents1 = ['0p50', '0p60', '0p70', '0p80']\n",
      "percents2 = ['0p50', '0p60', '0p70', '0p80', '0p90', '1p00','1p10','1p20','1p30','1p40','1p50']\n",
      "#percents = ['0p50', '0p60', '0p70']\n",
      "num_percents1 = len(percents1)\n",
      "print num_percents1\n",
      "num_percents2 = len(percents2)\n",
      "print num_percents2\n",
      "diffCai = np.zeros((num_percents1, num_percents2))\n",
      "#print np.shape(fileNames)\n",
      "\n",
      "for (i ,percent_i) in enumerate(percents1):\n",
      "    for (j, percent_j) in enumerate(percents2):\n",
      "    #print percent\n",
      "        #print i, j\n",
      "        file = \"mouse_leak%sx_SERCAuptake%sx_freq1p0_60.pickle\"%(percent_i,percent_j)\n",
      "\n",
      "        reducedFile = file.replace(\".pickle\",\"_red.pickle\")\n",
      "\n",
      "        if 0:\n",
      "            #for i,file in enumerate(files):\n",
      "            fileName = root+file\n",
      "            print fileName\n",
      "            downSamplePickles.downsample(fileName,10)\n",
      "        #print reducedFile\n",
      "        \n",
      "        case1Hz.fileName = root+reducedFile\n",
      "        case1Hz.data = ao.readPickle(case1Hz.fileName)\n",
      "        #print case1Hz.fileName\n",
      "            \n",
      "        s = case1Hz.data['s']\n",
      "        s_idx = case1Hz.data['s_idx']\n",
      "        idx = s_idx.index(\"Cai\")\n",
      "        \n",
      "        maxCai = np.amax(s[20e3:20.5e3,idx])\n",
      "        #print maxCai\n",
      "        minCai = np.amin(s[20e3:20.5e3,idx])\n",
      "        #print minCai\n",
      "        \n",
      "        diffCai[i,j] = maxCai - minCai\n",
      "        #print diffCai\n",
      "print diffCai"
     ],
     "language": "python",
     "metadata": {},
     "outputs": [
      {
       "output_type": "stream",
       "stream": "stdout",
       "text": [
        "4\n",
        "11\n",
        "Reading /home/AD/cesc235/wholecell_new3/asdf/wholecell/mouse_leak0p50x_SERCAuptake0p50x_freq1p0_60_red.pickle\n",
        "Reading /home/AD/cesc235/wholecell_new3/asdf/wholecell/mouse_leak0p50x_SERCAuptake0p60x_freq1p0_60_red.pickle"
       ]
      },
      {
       "output_type": "stream",
       "stream": "stdout",
       "text": [
        "\n",
        "Reading /home/AD/cesc235/wholecell_new3/asdf/wholecell/mouse_leak0p50x_SERCAuptake0p70x_freq1p0_60_red.pickle"
       ]
      },
      {
       "output_type": "stream",
       "stream": "stdout",
       "text": [
        "\n",
        "Reading /home/AD/cesc235/wholecell_new3/asdf/wholecell/mouse_leak0p50x_SERCAuptake0p80x_freq1p0_60_red.pickle"
       ]
      },
      {
       "output_type": "stream",
       "stream": "stdout",
       "text": [
        "\n",
        "Reading /home/AD/cesc235/wholecell_new3/asdf/wholecell/mouse_leak0p50x_SERCAuptake0p90x_freq1p0_60_red.pickle"
       ]
      },
      {
       "output_type": "stream",
       "stream": "stdout",
       "text": [
        "\n",
        "Reading /home/AD/cesc235/wholecell_new3/asdf/wholecell/mouse_leak0p50x_SERCAuptake1p00x_freq1p0_60_red.pickle"
       ]
      },
      {
       "output_type": "stream",
       "stream": "stdout",
       "text": [
        "\n",
        "Reading /home/AD/cesc235/wholecell_new3/asdf/wholecell/mouse_leak0p50x_SERCAuptake1p10x_freq1p0_60_red.pickle"
       ]
      },
      {
       "output_type": "stream",
       "stream": "stdout",
       "text": [
        "\n",
        "Reading /home/AD/cesc235/wholecell_new3/asdf/wholecell/mouse_leak0p50x_SERCAuptake1p20x_freq1p0_60_red.pickle"
       ]
      },
      {
       "output_type": "stream",
       "stream": "stdout",
       "text": [
        "\n",
        "Reading /home/AD/cesc235/wholecell_new3/asdf/wholecell/mouse_leak0p50x_SERCAuptake1p30x_freq1p0_60_red.pickle"
       ]
      },
      {
       "output_type": "stream",
       "stream": "stdout",
       "text": [
        "\n",
        "Reading /home/AD/cesc235/wholecell_new3/asdf/wholecell/mouse_leak0p50x_SERCAuptake1p40x_freq1p0_60_red.pickle"
       ]
      },
      {
       "output_type": "stream",
       "stream": "stdout",
       "text": [
        "\n",
        "Reading /home/AD/cesc235/wholecell_new3/asdf/wholecell/mouse_leak0p50x_SERCAuptake1p50x_freq1p0_60_red.pickle"
       ]
      },
      {
       "output_type": "stream",
       "stream": "stdout",
       "text": [
        "\n",
        "Reading /home/AD/cesc235/wholecell_new3/asdf/wholecell/mouse_leak0p60x_SERCAuptake0p50x_freq1p0_60_red.pickle"
       ]
      },
      {
       "output_type": "stream",
       "stream": "stdout",
       "text": [
        "\n",
        "Reading /home/AD/cesc235/wholecell_new3/asdf/wholecell/mouse_leak0p60x_SERCAuptake0p60x_freq1p0_60_red.pickle"
       ]
      },
      {
       "output_type": "stream",
       "stream": "stdout",
       "text": [
        "\n",
        "Reading /home/AD/cesc235/wholecell_new3/asdf/wholecell/mouse_leak0p60x_SERCAuptake0p70x_freq1p0_60_red.pickle"
       ]
      },
      {
       "output_type": "stream",
       "stream": "stdout",
       "text": [
        "\n",
        "Reading /home/AD/cesc235/wholecell_new3/asdf/wholecell/mouse_leak0p60x_SERCAuptake0p80x_freq1p0_60_red.pickle"
       ]
      },
      {
       "output_type": "stream",
       "stream": "stdout",
       "text": [
        "\n",
        "Reading /home/AD/cesc235/wholecell_new3/asdf/wholecell/mouse_leak0p60x_SERCAuptake0p90x_freq1p0_60_red.pickle"
       ]
      },
      {
       "output_type": "stream",
       "stream": "stdout",
       "text": [
        "\n",
        "Reading /home/AD/cesc235/wholecell_new3/asdf/wholecell/mouse_leak0p60x_SERCAuptake1p00x_freq1p0_60_red.pickle"
       ]
      },
      {
       "output_type": "stream",
       "stream": "stdout",
       "text": [
        "\n",
        "Reading /home/AD/cesc235/wholecell_new3/asdf/wholecell/mouse_leak0p60x_SERCAuptake1p10x_freq1p0_60_red.pickle"
       ]
      },
      {
       "output_type": "stream",
       "stream": "stdout",
       "text": [
        "\n",
        "Reading /home/AD/cesc235/wholecell_new3/asdf/wholecell/mouse_leak0p60x_SERCAuptake1p20x_freq1p0_60_red.pickle"
       ]
      },
      {
       "output_type": "stream",
       "stream": "stdout",
       "text": [
        "\n",
        "Reading /home/AD/cesc235/wholecell_new3/asdf/wholecell/mouse_leak0p60x_SERCAuptake1p30x_freq1p0_60_red.pickle"
       ]
      },
      {
       "output_type": "stream",
       "stream": "stdout",
       "text": [
        "\n",
        "Reading /home/AD/cesc235/wholecell_new3/asdf/wholecell/mouse_leak0p60x_SERCAuptake1p40x_freq1p0_60_red.pickle"
       ]
      },
      {
       "output_type": "stream",
       "stream": "stdout",
       "text": [
        "\n",
        "Reading /home/AD/cesc235/wholecell_new3/asdf/wholecell/mouse_leak0p60x_SERCAuptake1p50x_freq1p0_60_red.pickle"
       ]
      },
      {
       "output_type": "stream",
       "stream": "stdout",
       "text": [
        "\n",
        "Reading /home/AD/cesc235/wholecell_new3/asdf/wholecell/mouse_leak0p70x_SERCAuptake0p50x_freq1p0_60_red.pickle"
       ]
      },
      {
       "output_type": "stream",
       "stream": "stdout",
       "text": [
        "\n",
        "Reading /home/AD/cesc235/wholecell_new3/asdf/wholecell/mouse_leak0p70x_SERCAuptake0p60x_freq1p0_60_red.pickle"
       ]
      },
      {
       "output_type": "stream",
       "stream": "stdout",
       "text": [
        "\n",
        "Reading /home/AD/cesc235/wholecell_new3/asdf/wholecell/mouse_leak0p70x_SERCAuptake0p70x_freq1p0_60_red.pickle"
       ]
      },
      {
       "output_type": "stream",
       "stream": "stdout",
       "text": [
        "\n",
        "Reading /home/AD/cesc235/wholecell_new3/asdf/wholecell/mouse_leak0p70x_SERCAuptake0p80x_freq1p0_60_red.pickle"
       ]
      },
      {
       "output_type": "stream",
       "stream": "stdout",
       "text": [
        "\n",
        "Reading /home/AD/cesc235/wholecell_new3/asdf/wholecell/mouse_leak0p70x_SERCAuptake0p90x_freq1p0_60_red.pickle"
       ]
      },
      {
       "output_type": "stream",
       "stream": "stdout",
       "text": [
        "\n",
        "Reading /home/AD/cesc235/wholecell_new3/asdf/wholecell/mouse_leak0p70x_SERCAuptake1p00x_freq1p0_60_red.pickle"
       ]
      },
      {
       "output_type": "stream",
       "stream": "stdout",
       "text": [
        "\n",
        "Reading /home/AD/cesc235/wholecell_new3/asdf/wholecell/mouse_leak0p70x_SERCAuptake1p10x_freq1p0_60_red.pickle"
       ]
      },
      {
       "output_type": "stream",
       "stream": "stdout",
       "text": [
        "\n",
        "Reading /home/AD/cesc235/wholecell_new3/asdf/wholecell/mouse_leak0p70x_SERCAuptake1p20x_freq1p0_60_red.pickle"
       ]
      },
      {
       "output_type": "stream",
       "stream": "stdout",
       "text": [
        "\n",
        "Reading /home/AD/cesc235/wholecell_new3/asdf/wholecell/mouse_leak0p70x_SERCAuptake1p30x_freq1p0_60_red.pickle"
       ]
      },
      {
       "output_type": "stream",
       "stream": "stdout",
       "text": [
        "\n",
        "Reading /home/AD/cesc235/wholecell_new3/asdf/wholecell/mouse_leak0p70x_SERCAuptake1p40x_freq1p0_60_red.pickle"
       ]
      },
      {
       "output_type": "stream",
       "stream": "stdout",
       "text": [
        "\n",
        "Reading /home/AD/cesc235/wholecell_new3/asdf/wholecell/mouse_leak0p70x_SERCAuptake1p50x_freq1p0_60_red.pickle"
       ]
      },
      {
       "output_type": "stream",
       "stream": "stdout",
       "text": [
        "\n",
        "Reading /home/AD/cesc235/wholecell_new3/asdf/wholecell/mouse_leak0p80x_SERCAuptake0p50x_freq1p0_60_red.pickle"
       ]
      },
      {
       "output_type": "stream",
       "stream": "stdout",
       "text": [
        "\n",
        "Reading /home/AD/cesc235/wholecell_new3/asdf/wholecell/mouse_leak0p80x_SERCAuptake0p60x_freq1p0_60_red.pickle"
       ]
      },
      {
       "output_type": "stream",
       "stream": "stdout",
       "text": [
        "\n",
        "Reading /home/AD/cesc235/wholecell_new3/asdf/wholecell/mouse_leak0p80x_SERCAuptake0p70x_freq1p0_60_red.pickle"
       ]
      },
      {
       "output_type": "stream",
       "stream": "stdout",
       "text": [
        "\n",
        "Reading /home/AD/cesc235/wholecell_new3/asdf/wholecell/mouse_leak0p80x_SERCAuptake0p80x_freq1p0_60_red.pickle"
       ]
      },
      {
       "output_type": "stream",
       "stream": "stdout",
       "text": [
        "\n",
        "Reading /home/AD/cesc235/wholecell_new3/asdf/wholecell/mouse_leak0p80x_SERCAuptake0p90x_freq1p0_60_red.pickle"
       ]
      },
      {
       "output_type": "stream",
       "stream": "stdout",
       "text": [
        "\n",
        "Reading /home/AD/cesc235/wholecell_new3/asdf/wholecell/mouse_leak0p80x_SERCAuptake1p00x_freq1p0_60_red.pickle"
       ]
      },
      {
       "output_type": "stream",
       "stream": "stdout",
       "text": [
        "\n",
        "Reading /home/AD/cesc235/wholecell_new3/asdf/wholecell/mouse_leak0p80x_SERCAuptake1p10x_freq1p0_60_red.pickle"
       ]
      },
      {
       "output_type": "stream",
       "stream": "stdout",
       "text": [
        "\n",
        "Reading /home/AD/cesc235/wholecell_new3/asdf/wholecell/mouse_leak0p80x_SERCAuptake1p20x_freq1p0_60_red.pickle"
       ]
      },
      {
       "output_type": "stream",
       "stream": "stdout",
       "text": [
        "\n",
        "Reading /home/AD/cesc235/wholecell_new3/asdf/wholecell/mouse_leak0p80x_SERCAuptake1p30x_freq1p0_60_red.pickle"
       ]
      },
      {
       "output_type": "stream",
       "stream": "stdout",
       "text": [
        "\n",
        "Reading /home/AD/cesc235/wholecell_new3/asdf/wholecell/mouse_leak0p80x_SERCAuptake1p40x_freq1p0_60_red.pickle"
       ]
      },
      {
       "output_type": "stream",
       "stream": "stdout",
       "text": [
        "\n",
        "Reading /home/AD/cesc235/wholecell_new3/asdf/wholecell/mouse_leak0p80x_SERCAuptake1p50x_freq1p0_60_red.pickle"
       ]
      },
      {
       "output_type": "stream",
       "stream": "stdout",
       "text": [
        "\n",
        "[[ 0.00027929  0.00028387  0.00028547  0.00028497  0.00028307  0.00028015\n",
        "   0.00027651  0.00027237  0.00026796  0.00026333  0.00025857]\n",
        " [ 0.00030796  0.00031374  0.00031607  0.00031599  0.00031422  0.00031122\n",
        "   0.00030739  0.00030299  0.00029818  0.00029305  0.00028787]\n",
        " [ 0.00033899  0.00034616  0.00034939  0.00034982  0.00034824  0.00034526\n",
        "   0.00034127  0.00033656  0.00033132  0.00032583  0.00032009]\n",
        " [ 0.00037255  0.00038137  0.00038566  0.00038671  0.00038542  0.00038251\n",
        "   0.00037837  0.00037339  0.00036781  0.00036181  0.00035553]]"
       ]
      },
      {
       "output_type": "stream",
       "stream": "stdout",
       "text": [
        "\n"
       ]
      }
     ],
     "prompt_number": 95
    },
    {
     "cell_type": "code",
     "collapsed": false,
     "input": [
      "print diffCai\n",
      "#print diffCai\n",
      "#plt.plot(xy_coords,diffCai)\n",
      "\n",
      "X,Y = meshgrid(np.arange(50,90,10), np.arange(50,170,10))\n",
      "print X\n",
      "print Y\n",
      "Z=diffCai.T\n",
      "plt.pcolormesh(X,Y,Z)\n",
      "plt.xlabel(\"Amylin Leak %\",weight=\"bold\",size='22')\n",
      "plt.ylabel(\"SERCA Function %\",weight=\"bold\",size='22')\n",
      "plt.colorbar()\n",
      "plt.gcf().savefig(root+\"3d_chart_2Hz.png\")"
     ],
     "language": "python",
     "metadata": {},
     "outputs": [
      {
       "output_type": "stream",
       "stream": "stdout",
       "text": [
        "[[ 0.00027929  0.00028387  0.00028547  0.00028497  0.00028307  0.00028015\n",
        "   0.00027651  0.00027237  0.00026796  0.00026333  0.00025857]\n",
        " [ 0.00030796  0.00031374  0.00031607  0.00031599  0.00031422  0.00031122\n",
        "   0.00030739  0.00030299  0.00029818  0.00029305  0.00028787]\n",
        " [ 0.00033899  0.00034616  0.00034939  0.00034982  0.00034824  0.00034526\n",
        "   0.00034127  0.00033656  0.00033132  0.00032583  0.00032009]\n",
        " [ 0.00037255  0.00038137  0.00038566  0.00038671  0.00038542  0.00038251\n",
        "   0.00037837  0.00037339  0.00036781  0.00036181  0.00035553]]\n",
        "[[50 60 70 80]\n",
        " [50 60 70 80]\n",
        " [50 60 70 80]\n",
        " [50 60 70 80]\n",
        " [50 60 70 80]\n",
        " [50 60 70 80]\n",
        " [50 60 70 80]\n",
        " [50 60 70 80]\n",
        " [50 60 70 80]\n",
        " [50 60 70 80]\n",
        " [50 60 70 80]\n",
        " [50 60 70 80]]\n",
        "[[ 50  50  50  50]\n",
        " [ 60  60  60  60]\n",
        " [ 70  70  70  70]\n",
        " [ 80  80  80  80]\n",
        " [ 90  90  90  90]\n",
        " [100 100 100 100]\n",
        " [110 110 110 110]\n",
        " [120 120 120 120]\n",
        " [130 130 130 130]\n",
        " [140 140 140 140]\n",
        " [150 150 150 150]\n",
        " [160 160 160 160]]\n"
       ]
      },
      {
       "metadata": {},
       "output_type": "display_data",
       "png": "[encoded data removed]",
       "text": [
        "<matplotlib.figure.Figure at 0x7fbbe0323450>"
       ]
      }
     ],
     "prompt_number": 100
    },
    {
     "cell_type": "code",
     "collapsed": false,
     "input": [],
     "language": "python",
     "metadata": {},
     "outputs": []
    }
   ],
   "metadata": {}
  }
 ]
}