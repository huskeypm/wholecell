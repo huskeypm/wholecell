{
 "metadata": {
  "name": "",
  "signature": "sha256:75d297da52475c0a34397526ed15ccf7171a0f1db95dfac4618a51dca9bda4ce"
 },
 "nbformat": 3,
 "nbformat_minor": 0,
 "worksheets": [
  {
   "cells": [
    {
     "cell_type": "markdown",
     "metadata": {},
     "source": [
      "## Best practices for running gotran \n",
      "\n",
      "<font color=red>Please do not revise this script unless consulting PKH.</font>\n"
     ]
    },
    {
     "cell_type": "markdown",
     "metadata": {},
     "source": [
      "### Before Running\n",
      "Before loading this notebook, run\n",
      "<code>source configgotran.bash</code>\n",
      "before launching this notebook. "
     ]
    },
    {
     "cell_type": "code",
     "collapsed": false,
     "input": [
      "%load_ext autoreload\n",
      "%autoreload 2"
     ],
     "language": "python",
     "metadata": {},
     "outputs": [],
     "prompt_number": 1
    },
    {
     "cell_type": "markdown",
     "metadata": {},
     "source": [
      "### Define global variables "
     ]
    },
    {
     "cell_type": "code",
     "collapsed": false,
     "input": [
      "import Case \n",
      "root = \"./\"\n",
      "\n",
      "pacing = 1.0 # Hz\n",
      "stim_period = 1000/pacing # [ms]\n",
      "T_sec = 3\n",
      "T = T_sec * 1e3 # [ms] \n"
     ],
     "language": "python",
     "metadata": {},
     "outputs": [],
     "prompt_number": 2
    },
    {
     "cell_type": "markdown",
     "metadata": {},
     "source": [
      "### Define cases \n",
      "\n",
      "- First case is a 'baseline' case representing control conditions. \n",
      "- Second case corresponds to a 'perturbed' set of conditions"
     ]
    },
    {
     "cell_type": "code",
     "collapsed": false,
     "input": [
      "caseDict = dict()\n",
      "\n",
      "# baseline \n",
      "tag=\"baseline\"\n",
      "caseDict[tag] = Case.Case(\n",
      "  tag=tag,# tag for filename \n",
      "  label=tag + \" case \", # label for simulation when plotted\n",
      "  name = tag+\".pickle\", # where data will be stored \n",
      "  args = [ # pass in cellml/gotran arguments (eg. in shannon_2004.ode)\n",
      "        \"-stim %d\" % stim_period,\n",
      "        \"-T %d\" % T\n",
      "    ]\n",
      "  )\n",
      "\n",
      "# perturbed\n",
      "tag=\"perturbed\"\n",
      "caseDict[tag] = Case.Case(\n",
      "  tag=tag,# tag for filename \n",
      "  label=\"Increased LCC/SR Ca\", # label for simulation when plotted\n",
      "  name = tag+\".pickle\", # where data will be stored \n",
      "  args = [ # pass in cellml/gotran arguments (eg. in shannon_2004.ode)\n",
      "        \"-stim %d\" % stim_period,\n",
      "        \"-T %d\" % T,\n",
      "        \"-var PCa %f\" % (5.4e-4*1.5),\n",
      "        \"-state Ca_SR %f\" % (5.545201e-1*1.1)\n",
      "    ]\n",
      "  )\n"
     ],
     "language": "python",
     "metadata": {},
     "outputs": [],
     "prompt_number": 3
    },
    {
     "cell_type": "markdown",
     "metadata": {},
     "source": [
      "### Execute cases\n",
      "\n",
      "(actually, prints command line to screen so you can cut/paste and execute in a terminal window)"
     ]
    },
    {
     "cell_type": "code",
     "collapsed": false,
     "input": [
      "for key,case in caseDict.iteritems():\n",
      "    print \"# \", key\n",
      "    print case.cmdLine"
     ],
     "language": "python",
     "metadata": {},
     "outputs": [
      {
       "output_type": "stream",
       "stream": "stdout",
       "text": [
        "#  perturbed\n",
        "python daisychain.py  -stim 1000 -T 3000 -var PCa 0.000810 -state Ca_SR 0.609972 -iters 1 -odeName shannon_2004.ode -T 1000.000000 -name perturbed.pickle  &\n",
        "#  baseline\n",
        "python daisychain.py  -stim 1000 -T 3000 -iters 1 -odeName shannon_2004.ode -T 1000.000000 -name baseline.pickle  &\n"
       ]
      }
     ],
     "prompt_number": 4
    },
    {
     "cell_type": "markdown",
     "metadata": {},
     "source": [
      "### Load in output files \n",
      "THere are downsampling routines available if this takes too long"
     ]
    },
    {
     "cell_type": "code",
     "collapsed": false,
     "input": [
      "import analyzeODE as ao\n",
      "ao.LoadPickles(caseDict,noOverwrite=True)"
     ],
     "language": "python",
     "metadata": {},
     "outputs": [
      {
       "output_type": "stream",
       "stream": "stdout",
       "text": [
        "WARNING: ode idx is hardcoded\n"
       ]
      },
      {
       "output_type": "stream",
       "stream": "stdout",
       "text": [
        "#  perturbed\n",
        "Loading  perturbed_1.pickle\n",
        "Reading perturbed_1.pickle\n",
        "# "
       ]
      },
      {
       "output_type": "stream",
       "stream": "stdout",
       "text": [
        " baseline\n",
        "Loading  baseline_1.pickle\n",
        "Reading baseline_1.pickle\n"
       ]
      }
     ],
     "prompt_number": 5
    },
    {
     "cell_type": "markdown",
     "metadata": {},
     "source": [
      "### Plot as you see fit "
     ]
    },
    {
     "cell_type": "code",
     "collapsed": false,
     "input": [
      "def myplot(case,label1,xlim=[0,-1]):\n",
      "    plt.figure()\n",
      "    ti = case.data['t']  # time\n",
      "    si = case.data['s'] # state \n",
      "    s_idx = case.data['s_idx'] # state indices \n",
      "    #print np.shape(s_idx)\n",
      "    idx1 = s_idx.index(label1)  # state you want to plot \n",
      "    ti_vals = ti[xlim[0]:xlim[1]] # interval you want to plot \n",
      "    si_vals = si[xlim[0]:xlim[1],idx1]\n",
      "    plt.plot(ti_vals/1e3,si_vals,label = case.label)\n",
      "    plt.ylabel(label1)\n",
      "    plt.title(case.label)\n",
      "    plt.xlabel(\"t [s]\")\n",
      "\n",
      "\n",
      "for key,case in caseDict.iteritems():\n",
      "    print \"# \", key\n",
      "    stateName = \"Cai\"\n",
      "    myplot(case,stateName)#,xlim=[55e3,60e3])    \n",
      "    \n",
      "\n"
     ],
     "language": "python",
     "metadata": {},
     "outputs": [
      {
       "output_type": "stream",
       "stream": "stdout",
       "text": [
        "#  perturbed\n",
        "# "
       ]
      },
      {
       "output_type": "stream",
       "stream": "stdout",
       "text": [
        " baseline\n"
       ]
      },
      {
       "metadata": {},
       "output_type": "display_data",
       "png": "[encoded data removed]",
       "text": [
        "<matplotlib.figure.Figure at 0x7f65e30637d0>"
       ]
      },
      {
       "metadata": {},
       "output_type": "display_data",
       "png": "[encoded data removed]",
       "text": [
        "<matplotlib.figure.Figure at 0x7f65e2e3a6d0>"
       ]
      }
     ],
     "prompt_number": 9
    },
    {
     "cell_type": "code",
     "collapsed": false,
     "input": [],
     "language": "python",
     "metadata": {},
     "outputs": []
    }
   ],
   "metadata": {}
  }
 ]
}