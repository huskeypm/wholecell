{
 "metadata": {
  "name": "",
  "signature": "sha256:0ffd22157dbaab83b6a9602bbc4a8dd63e92cd50747f8fb7c828a0c58af12910"
 },
 "nbformat": 3,
 "nbformat_minor": 0,
 "worksheets": [
  {
   "cells": [
    {
     "cell_type": "markdown",
     "metadata": {},
     "source": [
      "## Notebook for analyzing myocyte results \n",
      "\n",
      "Below are examples for running single (mpi-based) jobs or performing a loop over some parameter (like the diffusion constant). I will be interested in knowing, for instance, how the cleft and cytosol calcium concentrations vary (e.g. peak amplitude or time-to-peak amplitude) as a function of various parameters. \n"
     ]
    },
    {
     "cell_type": "code",
     "collapsed": false,
     "input": [
      "%load_ext autoreload\n",
      "%autoreload 2"
     ],
     "language": "python",
     "metadata": {},
     "outputs": []
    },
    {
     "cell_type": "code",
     "collapsed": false,
     "input": [
      "import analyze\n",
      "class empty:pass"
     ],
     "language": "python",
     "metadata": {},
     "outputs": []
    },
    {
     "cell_type": "markdown",
     "metadata": {},
     "source": [
      "### for jobs with SSL\n",
      "Ex. 2D wSSL\n",
      "<code>\n",
      "mpirun -np 8 python sachse.py -test2D\n",
      "</code>"
     ]
    },
    {
     "cell_type": "code",
     "collapsed": false,
     "input": [
      "job1 = empty() # create container\n",
      "job1.hdfName = \"2D_SSL.h5\"\n",
      "job1.ts,job1.concsCaCleft,job1.concsCaSSL,job1.concsCa = analyze.ReadHdf(job1.hdfName,ssl=True)"
     ],
     "language": "python",
     "metadata": {},
     "outputs": []
    },
    {
     "cell_type": "code",
     "collapsed": false,
     "input": [
      "plt.plot(job1.ts,job1.concsCaCleft,label=\"CaCleft\")\n",
      "plt.plot(job1.ts,job1.concsCaSSL,label=\"CaSSL\")\n",
      "plt.plot(job1.ts,job1.concsCa,label=\"Ca\") \n",
      "plt.legend()"
     ],
     "language": "python",
     "metadata": {},
     "outputs": []
    },
    {
     "cell_type": "markdown",
     "metadata": {},
     "source": [
      "### for jobs w/o SSL\n",
      "For ex.\n",
      "<code>\n",
      "mpirun -np 8 python sachse.py -test2Dno\n",
      "</code>"
     ]
    },
    {
     "cell_type": "code",
     "collapsed": false,
     "input": [
      "job2 = empty()\n",
      "job2.hdfName = \"2D_noSSL.h5\"\n",
      "job2.ts,job2.concsCaCleft,job2.concsCaSSL,job2.concsCa = analyze.ReadHdf(job2.hdfName,ssl=False)"
     ],
     "language": "python",
     "metadata": {},
     "outputs": []
    },
    {
     "cell_type": "code",
     "collapsed": false,
     "input": [
      "plt.plot(job2.ts,job2.concsCaCleft,label=\"CaCleft\")\n",
      "plt.plot(job2.ts,job2.concsCa,label=\"Ca\") \n",
      "plt.legend()"
     ],
     "language": "python",
     "metadata": {},
     "outputs": []
    },
    {
     "cell_type": "markdown",
     "metadata": {},
     "source": [
      "### Looping over runs (single proc)\n",
      "Below is an example where we change the diffusion constant (although we'lll want to vary other params later) \n",
      "Technically you can do a loop within the notebook. However, you're probably better off putting the loop in an external python script, saving the results (e.g via savetxt) and loading the results into the notebook."
     ]
    },
    {
     "cell_type": "code",
     "collapsed": false,
     "input": [
      "import sachse\n",
      "hdfName = \"i.h5\" # where data will be stored\n",
      "params = sachse.Params() # where parameters can be modified\n",
      "params.T = 10.\n",
      "mode=\"2D_SSL\"; ssl = True;\n",
      "#mode =\"2D_noSSL\"; ssl = False;\n",
      "\n",
      "concsCaClefts=[]\n",
      "concsCas=[]\n",
      "\n",
      "import copy\n",
      "  \n",
      "\n",
      "\n",
      "# range of diffusion constants we want to consider\n",
      "iters = 4\n",
      "vs = np.linspace(-2,1,4)\n",
      "#print vs\n",
      "Ds = 10.**vs\n",
      "#print Ds    \n",
      "\n",
      "\n"
     ],
     "language": "python",
     "metadata": {},
     "outputs": []
    },
    {
     "cell_type": "code",
     "collapsed": false,
     "input": [
      "\n",
      "\n",
      "#will become myscript\n",
      "\n",
      "for i,Di in enumerate(Ds):\n",
      "  parms = copy.deepcopy(params)  \n",
      "\n",
      "  # apply diff const   \n",
      "  parms.D_CleftCyto = Di\n",
      "  parms.D_CleftSSL = Di \n",
      "  parms.D_SSLCyto = Di \n",
      "\n",
      "  if 1: # set to 0 to not run, but still read hdf\n",
      "    sachse.tsolve(mode=mode,hdfName=hdfName,params=parms) \n",
      "  \n",
      "    #take this out\n",
      "  # load data from hdf\n",
      "  tsi,concsCaClefti,concsCaSSLi,concsCai = analyze.ReadHdf(hdfFile=hdfName,ssl=ssl)\n",
      "  # store \n",
      "  concsCaClefts.append(concsCaClefti)\n",
      "  concsCas.append(concsCai)\n",
      "  \n",
      "# put into numpy array\n",
      "concsCaClefts = np.array(concsCaClefts)\n",
      "concsCas = np.array(concsCas)\n"
     ],
     "language": "python",
     "metadata": {},
     "outputs": []
    },
    {
     "cell_type": "code",
     "collapsed": false,
     "input": [
      "\n",
      "plt.figure()\n",
      "plt.title(\"[Ca_cyto]\")\n",
      "for i in range(np.shape(concsCas)[0]):\n",
      "    plt.plot(tsi,concsCas[i,:],label=\"Di=%4.2f\"%Ds[i])\n",
      "plt.legend()\n",
      "\n",
      "plt.figure()    \n",
      "plt.title(\"[Ca_cleft]\")\n",
      "for i in range(np.shape(concsCas)[0]):\n",
      "    plt.plot(tsi,concsCaClefts[i,:])\n",
      "    \n",
      "    "
     ],
     "language": "python",
     "metadata": {},
     "outputs": []
    },
    {
     "cell_type": "markdown",
     "metadata": {},
     "source": [
      "## <font color=red>Stop here for now</font>"
     ]
    },
    {
     "cell_type": "markdown",
     "metadata": {},
     "source": [
      "### Example for 3D sim\n",
      "<code>\n",
      "mpirun -np 16 python sachse.py -test4  \n",
      "</code>\n",
      "\n",
      "<font color=red>volume trags aren't working...</font>"
     ]
    },
    {
     "cell_type": "code",
     "collapsed": false,
     "input": [],
     "language": "python",
     "metadata": {},
     "outputs": []
    },
    {
     "cell_type": "code",
     "collapsed": false,
     "input": [
      "job3 = empty()\n",
      "job3.hdfName = \"sachse4TT.h5\"\n",
      "job3.ts,job3.concsCaCleft,job3.concsCaSSL,job3.concsCa = analyze.ReadHdf(job3.hdfName,ssl=False)"
     ],
     "language": "python",
     "metadata": {},
     "outputs": []
    },
    {
     "cell_type": "code",
     "collapsed": false,
     "input": [
      "plt.plot(job3.ts,job3.concsCaCleft,label=\"CaCleft\")\n",
      "plt.plot(job3.ts,job3.concsCa,label=\"Ca\") \n",
      "plt.legend()"
     ],
     "language": "python",
     "metadata": {},
     "outputs": []
    },
    {
     "cell_type": "markdown",
     "metadata": {},
     "source": [
      "### Goof around "
     ]
    },
    {
     "cell_type": "code",
     "collapsed": false,
     "input": [
      "mesh, u = analyze.ReadHdfSlice(job2.hdfName,i=0)"
     ],
     "language": "python",
     "metadata": {},
     "outputs": []
    },
    {
     "cell_type": "markdown",
     "metadata": {},
     "source": [
      "<font color=red> Not really working. Looks fine in paraview </font>"
     ]
    },
    {
     "cell_type": "code",
     "collapsed": false,
     "input": [
      "img0 = analyze.InterpolateData(mesh,u,mode=\"slice\",dims=2,res=50)\n",
      "pcolormesh(img0)"
     ],
     "language": "python",
     "metadata": {},
     "outputs": []
    },
    {
     "cell_type": "code",
     "collapsed": false,
     "input": [
      "line0 = analyze.InterpolateData(mesh,u,mode=\"line\",dims=2)\n",
      "plt.plot(line0)"
     ],
     "language": "python",
     "metadata": {},
     "outputs": []
    },
    {
     "cell_type": "code",
     "collapsed": false,
     "input": [],
     "language": "python",
     "metadata": {},
     "outputs": []
    }
   ],
   "metadata": {}
  }
 ]
}