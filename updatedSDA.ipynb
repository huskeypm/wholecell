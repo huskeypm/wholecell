{
 "metadata": {
  "name": "",
  "signature": "sha256:5b1d56d461bcf246924119f215cfd7d7da622a6fe9dffb1dd26d90b12d3bc3dc"
 },
 "nbformat": 3,
 "nbformat_minor": 0,
 "worksheets": [
  {
   "cells": [
    {
     "cell_type": "code",
     "collapsed": false,
     "input": [
      "%matplotlib inline\n",
      "\n",
      "import matplotlib\n",
      "import numpy as np\n",
      "import matplotlib.pyplot as plt\n",
      "\n",
      "%load_ext autoreload\n",
      "%autoreload 2\n"
     ],
     "language": "python",
     "metadata": {},
     "outputs": [
      {
       "output_type": "stream",
       "stream": "stdout",
       "text": [
        "The autoreload extension is already loaded. To reload it, use:\n",
        "  %reload_ext autoreload\n"
       ]
      }
     ],
     "prompt_number": 29
    },
    {
     "cell_type": "code",
     "collapsed": false,
     "input": [
      "import analyzeODE as ao"
     ],
     "language": "python",
     "metadata": {},
     "outputs": [],
     "prompt_number": 30
    },
    {
     "cell_type": "code",
     "collapsed": false,
     "input": [
      "import Case \n",
      "cases = dict()"
     ],
     "language": "python",
     "metadata": {},
     "outputs": [],
     "prompt_number": 31
    },
    {
     "cell_type": "code",
     "collapsed": false,
     "input": [
      "cases['baseline'] = Case.Case(tag=\"Baseline\",label=\"Baseline\")\n",
      "cases['baseline'].name = \"test_daisychain_1.pickle\"\n",
      "\n",
      "cases['other'] = Case.Case(tag=\"Other\",label=\"other\")\n",
      "cases['other'].name = \"test_daisychain_2.pickle\"\n",
      "\n",
      "cases['other2'] = Case.Case(tag=\"Other2\",label=\"other2\")\n",
      "cases['other2'].name = \"test_daisychain_1.pickle\"\n",
      "\n",
      "ao.LoadPickles(cases,noOverwrite=True)"
     ],
     "language": "python",
     "metadata": {},
     "outputs": [
      {
       "output_type": "stream",
       "stream": "stdout",
       "text": [
        "#  other\n",
        "Loading  test_daisychain_2.pickle\n",
        "Reading test_daisychain_2.pickle\n",
        "# "
       ]
      },
      {
       "output_type": "stream",
       "stream": "stdout",
       "text": [
        " baseline\n",
        "Loading  test_daisychain_1.pickle\n",
        "Reading test_daisychain_1.pickle\n",
        "# "
       ]
      },
      {
       "output_type": "stream",
       "stream": "stdout",
       "text": [
        " other2\n",
        "Loading  test_daisychain_1.pickle\n",
        "Reading test_daisychain_1.pickle\n"
       ]
      }
     ],
     "prompt_number": 90
    },
    {
     "cell_type": "code",
     "collapsed": false,
     "input": [],
     "language": "python",
     "metadata": {},
     "outputs": []
    },
    {
     "cell_type": "markdown",
     "metadata": {},
     "source": [
      "### Plot top twenty states based on their mean value "
     ]
    },
    {
     "cell_type": "code",
     "collapsed": false,
     "input": [
      "indSS = [5e3,15e3]\n",
      "xlim = indSS\n",
      "dummy = ao.StateDecompositionAnalysis(cases,wanted1=\"baseline\",wanted2=\"other\",indSS=indSS,xlim=xlim,ranked=20,sortby=\"mean\")"
     ],
     "language": "python",
     "metadata": {},
     "outputs": [
      {
       "output_type": "stream",
       "stream": "stdout",
       "text": [
        "Selecting  baseline\n",
        "Selecting  other\n",
        "#  Other\n",
        "Loading  test_daisychain_2.pickle\n",
        "Skipping read, since already populated\n",
        "#  Baseline\n",
        "Loading  test_daisychain_1.pickle\n",
        "Skipping read, since already populated\n",
        "test_daisychain_2.pickle\n",
        "test_daisychain_1.pickle"
       ]
      },
      {
       "output_type": "stream",
       "stream": "stdout",
       "text": [
        "\n",
        "Ca_Myosin pct 0.20  0 1.9e-03 1.7e-03/1.0e+00 1 2.1e-03 2.0e-03/1.2e+00"
       ]
      },
      {
       "output_type": "stream",
       "stream": "stdout",
       "text": [
        "\n",
        "Mg_TroponinC_Ca_Mg pct -0.12  0 1.4e-02 1.4e-02/1.0e+00 1 1.3e-02 1.2e-02/8.8e-01\n",
        "Y_Kur_slow2 pct 0.05  0 9.8e-01 9.4e-01/1.0e+00 1 9.9e-01 9.9e-01/1.0e+00\n",
        "Y_Kur_slow1 pct 0.05  0 9.6e-01 9.3e-01/1.0e+00 1 9.9e-01 9.7e-01/1.0e+00\n",
        "I pct 0.04  0 6.6e-02 1.6e-03/1.0e+00 1 6.9e-02 1.7e-03/1.0e+00\n",
        "Y_tof pct -0.03  0 8.4e-01 7.1e-01/1.0e+00 1 8.1e-01 6.9e-01/9.7e-01\n",
        "Ca_TroponinC_Ca_Mg pct 0.03  0 1.1e-01 1.1e-01/1.0e+00 1 1.2e-01 1.1e-01/1.0e+00\n",
        "O pct 0.02  0 1.1e-02 1.2e-04/1.0e+00 1 1.1e-02 1.2e-04/1.0e+00\n",
        "Ca_jct1 pct 0.01  0 1.5e-01 2.1e-03/1.0e+00 1 1.5e-01 2.1e-03/1.0e+00\n",
        "Cai pct 0.01  0 4.8e-04 1.6e-04/1.0e+00 1 4.9e-04 1.6e-04/1.0e+00\n",
        "Ca_SL pct 0.01  0 7.6e-03 5.0e-04/1.0e+00 1 7.7e-03 5.1e-04/1.0e+00\n",
        "m pct -0.01  0 1.0e+00 1.4e-02/1.0e+00 1 1.0e+00 1.3e-02/9.9e-01\n",
        "Ca_Calmodulin pct 0.01  0 1.5e-03 5.2e-04/1.0e+00 1 1.6e-03 5.3e-04/1.0e+00\n",
        "Ca_SLB_SL pct 0.01  0 4.5e-01 4.0e-02/1.0e+00 1 4.5e-01 4.0e-02/1.0e+00\n",
        "d pct -0.01  0 8.2e-01 5.0e-03/1.0e+00 1 8.2e-01 5.0e-03/9.9e-01\n",
        "fCaB_SL pct 0.01  0 2.4e-01 6.2e-02/1.0e+00 1 2.4e-01 6.3e-02/1.0e+00\n",
        "Ca_SRB pct 0.01  0 7.4e-03 3.4e-03/1.0e+00 1 7.5e-03 3.4e-03/1.0e+00\n",
        "Ca_TroponinC pct 0.01  0 2.7e-02 1.4e-02/1.0e+00 1 2.8e-02 1.4e-02/1.0e+00\n",
        "Ca_SLB_jct1 pct 0.01  0 5.1e-01 3.9e-02/1.0e+00 1 5.1e-01 3.9e-02/1.0e+00\n",
        "fCaB_jct1 pct 0.01  0 7.5e-01 1.5e-01/1.0e+00 1 7.6e-01 1.5e-01/1.0e+00\n"
       ]
      },
      {
       "metadata": {},
       "output_type": "display_data",
       "text": [
        "<matplotlib.figure.Figure at 0x7f28a7fc3190>"
       ]
      },
      {
       "metadata": {},
       "output_type": "display_data",
       "png": "[encoded data removed]",
       "text": [
        "<matplotlib.figure.Figure at 0x7f28a84c4890>"
       ]
      }
     ],
     "prompt_number": 92
    },
    {
     "cell_type": "markdown",
     "metadata": {},
     "source": [
      "### Plot all fluxes by max value \n",
      "Skip fluxes that are not i or j or fluxes that contain SL, jct1"
     ]
    },
    {
     "cell_type": "code",
     "collapsed": false,
     "input": [
      "allList = cases['baseline'].data['j_idx']\n",
      "ignoreList = [s for s in allList if \n",
      "              \"i_\" not in s and \n",
      "              \"j_\" not in s ]\n",
      "\n",
      "poop = [s for s in allList if \n",
      "             \"_SL\"  in s or \n",
      "              \"_jct1\"  in s]\n",
      "ignoreList = ignoreList + poop\n",
      "#print poop\n",
      "print ignoreList\n"
     ],
     "language": "python",
     "metadata": {},
     "outputs": [
      {
       "output_type": "stream",
       "stream": "stdout",
       "text": [
        "['Vol_Cell', 'Vol_SR', 'Vol_SL', 'Vol_jct1', 'Vol_myo', 'E_Na_jct1', 'E_Na_SL', 'E_Ca_jct1', 'E_Ca_SL', 'E_K', 'E_Cl', 'openProb', 'alpha_h', 'beta_h', 'alpha_j', 'beta_j', 'alpha_m', 'beta_m', 'sigma', 'f_NaK', 'Xr_infinity', 'tau_Xr', 'Rr', 'pCa_jct1', 'pCa_SL', 'G_Ks_jct1', 'G_Ks_SL', 'E_Ks', 'Xs_infinity', 'tau_Xs', 'X_Kur_slowss', 'tau_Xkur', 'Y_Kur_slowss', 'tau_Ykur1', 'tau_Ykur2', 'a_Kur', 'fIKuravail', 'xssss', 'tauxss', 'X_tos_infinity', 'tau_X_tos', 'Y_tos_infinity', 'tau_Y_tos', 'R_tos_infinity', 'tau_R_tos', 'X_tof_infinity', 'tau_X_tof', 'Y_tof_infinity', 'tau_Y_tof', 'alpha_K1', 'beta_K1', 'K1_infinity', 'd_infinity', 'tau_d', 'f_infinity', 'tau_f', 'fCa_SL', 'fCa_jct1', 'temp_jct1', 'temp_SL', 'Q_NCX', 'Ka_SL', 'Ka_jct1', 'Q_SLCaP', 'kCaSR', 'koSRCa', 'kiSRCa', 'RI', 'Q_SRCaP', 'J_Na_jct1_SL', 'J_Na_SL_myo', 'J_Ca_jct1_SL', 'J_Ca_SL_myo', 'dCa_TroponinC', 'dCa_TroponinC_Ca_Mg', 'dMg_TroponinC_Ca_Mg', 'dCa_Calmodulin', 'dCa_Myosin', 'dMg_Myosin', 'dCa_SRB', 'dCa_cytosol_tot_bound', 'G_IKr', 'G_K1', 'Q_CaL', 'temp', 'dNa_jct1_buf', 'dNa_SL_buf', 'dCalsequestrin', 'dCa_SLB_SL', 'dCa_SLB_jct1', 'dCa_SLHigh_SL', 'dCa_SLHigh_jct1', 'dCa_jct1_tot_bound', 'dCa_SL_tot_bound', 'Vol_SL', 'Vol_jct1', 'E_Na_jct1', 'E_Na_SL', 'E_Ca_jct1', 'E_Ca_SL', 'i_Na_jct1', 'i_Na_SL', 'i_Nab_jct1', 'i_Nab_SL', 'i_NaK_jct1', 'i_NaK_SL', 'pCa_jct1', 'pCa_SL', 'G_Ks_jct1', 'G_Ks_SL', 'i_Ks_jct1', 'i_Ks_SL', 'fCa_SL', 'fCa_jct1', 'temp_jct1', 'temp_SL', 'Ka_SL', 'Ka_jct1', 'i_NaCa_jct1', 'i_NaCa_SL', 'Q_SLCaP', 'i_Cap_jct1', 'i_Cap_SL', 'i_Cab_jct1', 'i_Cab_SL', 'J_Na_jct1_SL', 'J_Na_SL_myo', 'J_Ca_jct1_SL', 'J_Ca_SL_myo', 'i_CaL_Ca_jct1', 'i_CaL_Na_jct1', 'i_CaL_Ca_SL', 'i_CaL_Na_SL', 'dNa_jct1_buf', 'dNa_SL_buf', 'dCa_SLB_SL', 'dCa_SLB_jct1', 'dCa_SLHigh_SL', 'dCa_SLHigh_jct1', 'dCa_jct1_tot_bound', 'dCa_SL_tot_bound', 'i_Ca_jct1_tot', 'i_Ca_SL_tot']\n"
       ]
      }
     ],
     "prompt_number": 99
    },
    {
     "cell_type": "code",
     "collapsed": false,
     "input": [
      "indSS = [5e3,15e3]\n",
      "xlim = indSS\n",
      "\n",
      "# compare baseline with other\n",
      "caseComp1 = ao.StateDecompositionAnalysis(cases,wanted1=\"baseline\",wanted2=\"other\",mode=\"fluxes\",\n",
      "                              indSS=indSS,xlim=xlim,ranked=-1,sortby=\"max\",ignoreList=ignoreList)\n",
      "\n"
     ],
     "language": "python",
     "metadata": {},
     "outputs": [
      {
       "output_type": "stream",
       "stream": "stdout",
       "text": [
        "Selecting  baseline\n",
        "Selecting  other\n",
        "#  Other\n",
        "Loading  test_daisychain_2.pickle\n",
        "Skipping read, since already populated\n",
        "#  Baseline\n",
        "Loading  test_daisychain_1.pickle\n",
        "Skipping read, since already populated\n",
        "test_daisychain_2.pickle\n",
        "test_daisychain_1.pickle"
       ]
      },
      {
       "output_type": "stream",
       "stream": "stdout",
       "text": [
        "\n",
        "Skipping "
       ]
      },
      {
       "output_type": "stream",
       "stream": "stdout",
       "text": [
        " dMg_TroponinC_Ca_Mg\n",
        "Skipping  dMg_Myosin\n",
        "Skipping  i_Na_jct1\n",
        "i_Na                 0 -5.5e-08 1 [-1.8e-08] \n",
        "Skipping  i_Na_SL\n",
        "Skipping  dCa_TroponinC_Ca_Mg\n",
        "i_kur2               0 8.4e+00 1 [3.0e-01] \n",
        "Skipping  dCa_SLB_SL\n",
        "i_kur                0 1.9e+01 1 [6.5e-01] \n",
        "j_rel_SR             0 9.3e-02 1 [3.1e-03] \n",
        "Skipping  dCa_Calmodulin\n",
        "i_kur1               0 1.0e+01 1 [3.5e-01] \n",
        "Skipping  dCa_SL_tot_bound\n",
        "i_tof                0 3.8e+01 1 [-1.0e+00] \n",
        "Skipping  dCa_SRB\n",
        "Skipping  dCa_TroponinC\n",
        "Skipping  dCa_cytosol_tot_bound\n",
        "Skipping  dCalsequestrin\n",
        "i_Kp                 0 1.4e-02 1 [2.8e-04] \n",
        "Skipping  dCa_SLHigh_SL\n",
        "j_pump_SR            0 4.8e-03 1 [6.3e-05] \n",
        "Skipping  dCa_Myosin\n",
        "Skipping  i_Ca_SL_tot\n",
        "i_Cl_Ca              0 7.0e-01 1 [7.3e-03] \n",
        "Skipping  beta_K1\n",
        "Skipping  temp\n",
        "Skipping  temp_jct1\n",
        "i_Kr                 0 1.5e-01 1 [-1.2e-03] \n",
        "Skipping  i_NaK_SL\n",
        "i_NaK                0 5.1e-01 1 [-3.8e-03] \n",
        "Skipping  koSRCa\n",
        "Skipping  i_Cab_jct1\n",
        "Skipping  i_NaCa_jct1\n",
        "i_CaL_K              0 1.8e+00 1 [1.1e-02] \n",
        "Skipping  i_NaK_jct1\n",
        "j_leak_SR            0 6.1e-06 1 [3.5e-08] \n",
        "Skipping  temp_SL\n",
        "Skipping  dNa_SL_buf\n",
        "Skipping  dNa_jct1_buf\n",
        "Skipping  i_CaL_Ca_jct1\n",
        "Skipping  i_CaL_Na_jct1\n",
        "Skipping  dCa_SLHigh_jct1\n",
        "i_Cab                0 -5.8e-02 1 [1.4e-04] \n",
        "Skipping  kiSRCa\n",
        "Skipping  kCaSR\n",
        "Skipping  i_Cab_SL\n",
        "Skipping  i_CaL_Na_SL\n",
        "Skipping  i_Nab_jct1\n",
        "Skipping  i_CaL_Ca_SL\n",
        "Skipping  alpha_h\n",
        "i_Nab                0 -4.6e-02 1 [9.1e-05] \n",
        "Skipping  i_Nab_SL\n",
        "i_ss                 0 1.3e+00 1 [-2.6e-03] \n",
        "Skipping  tau_Y_tof\n",
        "Skipping  i_NaCa_SL\n",
        "Skipping  alpha_m\n",
        "i_CaL                0 -8.8e-04 1 [1.3e-06] \n",
        "i_Clb                0 8.5e-01 1 [1.2e-03] \n",
        "Skipping  alpha_j\n",
        "Skipping  beta_m\n",
        "Skipping  i_Ca_jct1_tot\n",
        "Skipping  tau_Xkur\n",
        "Skipping  Xs_infinity\n",
        "Skipping  E_Na_SL\n",
        "Skipping  E_Na_jct1\n",
        "Skipping  dCa_jct1_tot_bound\n",
        "Skipping  E_Ca_jct1\n",
        "Skipping  K1_infinity\n",
        "Skipping  X_tos_infinity\n",
        "Skipping  X_tof_infinity\n",
        "Skipping  E_Ca_SL\n",
        "Skipping  pCa_jct1\n",
        "Skipping  openProb\n",
        "Skipping  i_Cap_SL\n",
        "i_Cap                0 6.7e-02 1 [2.6e-05] \n",
        "Skipping  pCa_SL\n",
        "Skipping  X_Kur_slowss\n",
        "Skipping  xssss\n",
        "Skipping  fCa_jct1\n",
        "Skipping  beta_h\n",
        "i_NaCa               0 5.4e-02 1 [7.1e-06] \n",
        "Skipping  tau_Y_tos\n",
        "Skipping  tau_R_tos\n",
        "Skipping  f_NaK\n",
        "Skipping  fCa_SL\n",
        "Skipping  Rr\n",
        "Skipping  dCa_SLB_jct1\n",
        "Skipping  tau_Xr\n",
        "Skipping  tau_d\n",
        "Skipping  RI\n",
        "Skipping  beta_j\n",
        "Skipping  tau_f\n",
        "Skipping  Y_tos_infinity\n",
        "Skipping  R_tos_infinity\n",
        "Skipping  d_infinity\n",
        "Skipping  Y_Kur_slowss\n",
        "Skipping  tau_Ykur2\n",
        "Skipping  tauxss\n",
        "Skipping  i_Cap_jct1\n",
        "Skipping  tau_Ykur1\n",
        "Skipping  tau_X_tos\n",
        "Skipping  tau_X_tof\n",
        "Skipping  tau_Xs\n",
        "Skipping  Y_tof_infinity\n",
        "Skipping  E_Ks\n",
        "i_K1                 0 1.3e+00 1 [-4.3e-07] \n",
        "Skipping  Ka_SL\n",
        "Skipping  Xr_infinity\n",
        "Skipping  f_infinity\n",
        "Skipping  alpha_K1\n",
        "Skipping  Ka_jct1\n",
        "Skipping  Vol_SL\n",
        "Skipping  Vol_jct1\n",
        "Skipping  Vol_myo\n",
        "Skipping  Vol_SR\n",
        "Skipping  E_K\n",
        "Skipping  E_Cl\n",
        "i_Stim               0 0.0e+00 1 [0.0e+00] \n",
        "Skipping  sigma\n",
        "Skipping  Q_SLCaP\n",
        "Skipping  Q_CaL\n",
        "Skipping  G_K1\n",
        "Skipping  G_IKr\n",
        "Skipping  J_Ca_SL_myo\n",
        "Skipping  J_Ca_jct1_SL\n",
        "Skipping  J_Na_SL_myo\n",
        "Skipping  J_Na_jct1_SL\n",
        "Skipping  Q_SRCaP\n",
        "Skipping  Q_NCX\n",
        "Skipping  G_Ks_jct1\n",
        "i_tos                0 0.0e+00 1 [0.0e+00] \n",
        "Skipping  fIKuravail\n",
        "Skipping  a_Kur\n",
        "i_Kur_PKAp           0 4.0e+01 1 [0.0e+00] \n",
        "i_Ks                 0 -0.0e+00 1 [0.0e+00] \n",
        "Skipping  i_Ks_SL\n",
        "Skipping  i_Ks_jct1\n",
        "Skipping  G_Ks_SL\n",
        "Skipping  Vol_Cell\n"
       ]
      },
      {
       "metadata": {},
       "output_type": "display_data",
       "text": [
        "<matplotlib.figure.Figure at 0x7f28a865a550>"
       ]
      },
      {
       "metadata": {},
       "output_type": "display_data",
       "png": "[encoded data removed]",
       "text": [
        "<matplotlib.figure.Figure at 0x7f28a7c8db90>"
       ]
      }
     ],
     "prompt_number": 115
    },
    {
     "cell_type": "code",
     "collapsed": false,
     "input": [
      "# second comparison\n",
      "caseComp2 = ao.StateDecompositionAnalysis(cases,wanted1=\"baseline\",wanted2=\"other2\",mode=\"fluxes\",\n",
      "                              indSS=indSS,xlim=xlim,ranked=-1,sortby=\"max\",ignoreList=ignoreList)\n",
      "\n"
     ],
     "language": "python",
     "metadata": {},
     "outputs": [
      {
       "output_type": "stream",
       "stream": "stdout",
       "text": [
        "Selecting  baseline\n",
        "Selecting  other2\n",
        "#  Baseline\n",
        "Loading  test_daisychain_1.pickle\n",
        "Skipping read, since already populated\n",
        "#  Other2\n",
        "Loading  test_daisychain_1.pickle\n",
        "Skipping read, since already populated\n",
        "test_daisychain_1.pickle\n",
        "test_daisychain_1.pickle"
       ]
      },
      {
       "output_type": "stream",
       "stream": "stdout",
       "text": [
        "\n",
        "i_Stim               0 0.0e+00 1 [0.0e+00] "
       ]
      },
      {
       "output_type": "stream",
       "stream": "stdout",
       "text": [
        "\n",
        "Skipping  tau_Xkur\n",
        "Skipping  fIKuravail\n",
        "Skipping  a_Kur\n",
        "i_Kur_PKAp           0 4.0e+01 1 [0.0e+00] \n",
        "Skipping  tau_Ykur2\n",
        "Skipping  tau_Ykur1\n",
        "Skipping  Y_Kur_slowss\n",
        "Skipping  X_Kur_slowss\n",
        "Skipping  G_Ks_jct1\n",
        "Skipping  tau_Xs\n",
        "Skipping  Xs_infinity\n",
        "i_Ks                 0 -0.0e+00 1 [0.0e+00] \n",
        "Skipping  i_Ks_SL\n",
        "Skipping  i_Ks_jct1\n",
        "Skipping  E_Ks\n",
        "i_kur1               0 1.0e+01 1 [0.0e+00] \n",
        "i_kur2               0 8.4e+00 1 [0.0e+00] \n",
        "i_kur                0 1.9e+01 1 [0.0e+00] \n",
        "Skipping  xssss\n",
        "Skipping  tauxss\n",
        "i_ss                 0 1.3e+00 1 [0.0e+00] \n",
        "i_Kp                 0 1.4e-02 1 [0.0e+00] \n",
        "i_tos                0 0.0e+00 1 [0.0e+00] \n",
        "Skipping  X_tos_infinity\n",
        "Skipping  tau_X_tos\n",
        "Skipping  Y_tos_infinity\n",
        "Skipping  tau_Y_tos\n",
        "Skipping  R_tos_infinity\n",
        "Skipping  tau_R_tos\n",
        "i_tof                0 3.8e+01 1 [0.0e+00] \n",
        "Skipping  X_tof_infinity\n",
        "Skipping  tau_X_tof\n",
        "Skipping  G_Ks_SL\n",
        "Skipping  pCa_SL\n",
        "Skipping  tau_Y_tof\n",
        "Skipping  E_Ca_SL\n",
        "i_Na                 0 -5.5e-08 1 [0.0e+00] \n",
        "Skipping  i_Na_SL\n",
        "Skipping  i_Na_jct1\n",
        "Skipping  openProb\n",
        "Skipping  E_Cl\n",
        "Skipping  E_K\n",
        "Skipping  E_Ca_jct1\n",
        "Skipping  pCa_jct1\n",
        "Skipping  E_Na_SL\n",
        "Skipping  E_Na_jct1\n",
        "Skipping  Vol_myo\n",
        "Skipping  Vol_jct1\n",
        "Skipping  Vol_SL\n",
        "Skipping  Vol_SR\n",
        "Skipping  alpha_h\n",
        "Skipping  beta_h\n",
        "Skipping  alpha_j\n",
        "Skipping  beta_j\n",
        "Skipping  alpha_m\n",
        "Skipping  beta_m\n",
        "Skipping  i_Nab_jct1\n",
        "Skipping  i_Nab_SL\n",
        "i_Nab                0 -4.6e-02 1 [0.0e+00] \n",
        "Skipping  sigma\n",
        "Skipping  f_NaK\n",
        "Skipping  i_NaK_jct1\n",
        "Skipping  i_NaK_SL\n",
        "i_NaK                0 5.1e-01 1 [0.0e+00] \n",
        "Skipping  Xr_infinity\n",
        "Skipping  tau_Xr\n",
        "Skipping  Rr\n",
        "Skipping  Y_tof_infinity\n",
        "Skipping  alpha_K1\n",
        "Skipping  i_Ca_SL_tot\n",
        "Skipping  dCa_SRB\n",
        "Skipping  Q_CaL\n",
        "i_K1                 0 1.3e+00 1 [0.0e+00] \n",
        "Skipping  G_K1\n",
        "i_Kr                 0 1.5e-01 1 [0.0e+00] \n",
        "Skipping  G_IKr\n",
        "Skipping  dCa_cytosol_tot_bound\n",
        "Skipping  dMg_Myosin\n",
        "Skipping  J_Na_SL_myo\n",
        "Skipping  dCa_Myosin\n",
        "Skipping  dCa_Calmodulin\n",
        "Skipping  dMg_TroponinC_Ca_Mg\n",
        "Skipping  dCa_TroponinC_Ca_Mg\n",
        "Skipping  dCa_TroponinC\n",
        "Skipping  J_Ca_SL_myo\n",
        "Skipping  temp\n",
        "Skipping  i_CaL_Ca_jct1\n",
        "Skipping  i_CaL_Na_jct1\n",
        "Skipping  i_CaL_Ca_SL\n",
        "Skipping  i_CaL_Na_SL\n",
        "i_CaL_K              0 1.8e+00 1 [0.0e+00] \n",
        "i_CaL                0 -8.8e-04 1 [0.0e+00] \n",
        "Skipping  dNa_jct1_buf\n",
        "Skipping  dNa_SL_buf\n",
        "Skipping  dCalsequestrin\n",
        "Skipping  dCa_SLB_SL\n",
        "Skipping  dCa_SLB_jct1\n",
        "Skipping  dCa_SLHigh_SL\n",
        "Skipping  dCa_SLHigh_jct1\n",
        "Skipping  dCa_jct1_tot_bound\n",
        "Skipping  dCa_SL_tot_bound\n",
        "Skipping  i_Ca_jct1_tot\n",
        "Skipping  J_Ca_jct1_SL\n",
        "Skipping  J_Na_jct1_SL\n",
        "Skipping  beta_K1\n",
        "Skipping  fCa_SL\n",
        "Skipping  Ka_jct1\n",
        "Skipping  Ka_SL\n",
        "Skipping  Q_NCX\n",
        "Skipping  temp_SL\n",
        "Skipping  temp_jct1\n",
        "Skipping  fCa_jct1\n",
        "Skipping  tau_f\n",
        "j_pump_SR            0 4.8e-03 1 [0.0e+00] \n",
        "Skipping  f_infinity\n",
        "Skipping  tau_d\n",
        "Skipping  d_infinity\n",
        "i_Clb                0 8.5e-01 1 [0.0e+00] \n",
        "i_Cl_Ca              0 7.0e-01 1 [0.0e+00] \n",
        "Skipping  K1_infinity\n",
        "Skipping  i_NaCa_jct1\n",
        "Skipping  i_NaCa_SL\n",
        "i_NaCa               0 5.4e-02 1 [0.0e+00] \n",
        "Skipping  Q_SLCaP\n",
        "Skipping  i_Cap_jct1\n",
        "Skipping  i_Cap_SL\n",
        "i_Cap                0 6.7e-02 1 [0.0e+00] \n",
        "Skipping  i_Cab_jct1\n",
        "Skipping  i_Cab_SL\n",
        "i_Cab                0 -5.8e-02 1 [0.0e+00] \n",
        "Skipping  kCaSR\n",
        "Skipping  koSRCa\n",
        "Skipping  kiSRCa\n",
        "Skipping  RI\n",
        "j_rel_SR             0 9.3e-02 1 [0.0e+00] \n",
        "j_leak_SR            0 6.1e-06 1 [0.0e+00] \n",
        "Skipping  Q_SRCaP\n",
        "Skipping  Vol_Cell\n"
       ]
      },
      {
       "metadata": {},
       "output_type": "display_data",
       "text": [
        "<matplotlib.figure.Figure at 0x7f28a865abd0>"
       ]
      },
      {
       "metadata": {},
       "output_type": "display_data",
       "png": "[encoded data removed]",
       "text": [
        "<matplotlib.figure.Figure at 0x7f28a88acd10>"
       ]
      }
     ],
     "prompt_number": 116
    },
    {
     "cell_type": "markdown",
     "metadata": {},
     "source": [
      "### Compare three cases\n"
     ]
    },
    {
     "cell_type": "code",
     "collapsed": false,
     "input": [
      "# display according to 'other' ranking\n",
      "bestidx = cases['other'].bestidx\n",
      "bestvalues = cases['other'].bestvalues\n",
      "cases['baseline'].color = 'r'\n",
      "cases['other'].color='b'\n",
      "cases['other2'].color='g'\n",
      "sortby=\"max\"\n",
      "daCases = [ \n",
      "  cases['baseline'],cases['other'],cases['other2'],\n",
      "  cases['other']] # copy of the second entry to show we can plot an arbitrary number of cases\n",
      "\n",
      "width= 1/np.float(len(daCases)+1)\n",
      "\n",
      "stored = len(bestidx)\n",
      "\n",
      "\n",
      "if 1: \n",
      "  ## Plot comparative data \n",
      "  \n",
      "  plt.figure()\n",
      "  fig, ax = plt.subplots()\n",
      "  ind = np.arange(stored)\n",
      "\n",
      "   \n",
      "\n",
      "  # bar plot \n",
      "  darects=[]  \n",
      "  dalabels=[]  \n",
      "  for i,daCase in enumerate(daCases):  \n",
      "      rects = ax.bar(ind+i*width, daCase.maxn[bestidx], width,color=daCase.color)\n",
      "      darects.append(rects[0])\n",
      "      dalabels.append(daCase.label)  \n",
      "\n",
      "\n",
      "  ax.set_xticks(ind+width)\n",
      "  ax.set_xticklabels( bestvalues,rotation=90 )\n",
      "\n",
      "\n",
      "  lb1 =caseComp1[0].label\n",
      "  lb2= caseComp1[1].label\n",
      "  lb3= caseComp2[1].label  \n",
      "  plt.title(dalabels)#+sortby)\n",
      "  ax.legend( darects,dalabels,loc=4)      \n",
      "  ax.set_ylabel(\"fold chg wrt WT\")\n",
      "  plt.tight_layout()\n"
     ],
     "language": "python",
     "metadata": {},
     "outputs": [
      {
       "metadata": {},
       "output_type": "display_data",
       "text": [
        "<matplotlib.figure.Figure at 0x7f28a79d2310>"
       ]
      },
      {
       "metadata": {},
       "output_type": "display_data",
       "png": "[encoded data removed]",
       "text": [
        "<matplotlib.figure.Figure at 0x7f28a7a48b50>"
       ]
      }
     ],
     "prompt_number": 125
    },
    {
     "cell_type": "code",
     "collapsed": false,
     "input": [],
     "language": "python",
     "metadata": {},
     "outputs": []
    }
   ],
   "metadata": {}
  }
 ]
}