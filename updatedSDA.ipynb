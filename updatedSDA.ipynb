{
 "metadata": {
  "name": "",
  "signature": "sha256:c115450ccfc4ae2a4b72616da70a2e20ffb0deb44f93425abb6480aba0464f0b"
 },
 "nbformat": 3,
 "nbformat_minor": 0,
 "worksheets": [
  {
   "cells": [
    {
     "cell_type": "code",
     "collapsed": false,
     "input": [
      "%matplotlib inline\n",
      "\n",
      "import matplotlib\n",
      "import numpy as np\n",
      "import matplotlib.pyplot as plt\n",
      "\n",
      "%load_ext autoreload\n",
      "%autoreload 2\n",
      "\n"
     ],
     "language": "python",
     "metadata": {},
     "outputs": [],
     "prompt_number": 1
    },
    {
     "cell_type": "code",
     "collapsed": false,
     "input": [
      "import analyzeODE as ao"
     ],
     "language": "python",
     "metadata": {},
     "outputs": [
      {
       "output_type": "stream",
       "stream": "stdout",
       "text": [
        "WARNING: ode idx is hardcoded\n"
       ]
      }
     ],
     "prompt_number": 2
    },
    {
     "cell_type": "code",
     "collapsed": false,
     "input": [
      "import Case \n",
      "cases = dict()"
     ],
     "language": "python",
     "metadata": {},
     "outputs": [],
     "prompt_number": 3
    },
    {
     "cell_type": "code",
     "collapsed": false,
     "input": [
      "root = \"/home/AD/cesc235/wholecell_new3/asdf/wholecell/\"\n",
      "\n",
      "cases['baseline'] = Case.Case(tag=\"Baseline\",label=\"Baseline\")\n",
      "cases['baseline'].name = root+\"mouse_leak1p00x_SERCAuptake1p00x_freq1p0_60.pickle\"\n",
      "\n",
      "cases['amy'] = Case.Case(tag=\"amy\",label=\"Amy\")\n",
      "cases['amy'].name = root+\"mouse_leak1p20x_SERCAuptake1p00x_freq1p0_60.pickle\"\n",
      "\n",
      "cases['hip'] = Case.Case(tag=\"HIP\",label=\"HIP\")\n",
      "cases['hip'].name = root+\"mouse_leak1p20x_SERCAuptake0p50x_freq1p0_60.pickle\"\n",
      "\n",
      "ao.LoadPickles(cases,noOverwrite=True)"
     ],
     "language": "python",
     "metadata": {},
     "outputs": [
      {
       "output_type": "stream",
       "stream": "stdout",
       "text": [
        "#  amy\n",
        "Loading  /home/AD/cesc235/wholecell_new3/asdf/wholecell/mouse_leak1p20x_SERCAuptake1p00x_freq1p0_60.pickle\n",
        "Reading /home/AD/cesc235/wholecell_new3/asdf/wholecell/mouse_leak1p20x_SERCAuptake1p00x_freq1p0_60.pickle\n",
        "# "
       ]
      },
      {
       "output_type": "stream",
       "stream": "stdout",
       "text": [
        " hip\n",
        "Loading  /home/AD/cesc235/wholecell_new3/asdf/wholecell/mouse_leak1p20x_SERCAuptake0p50x_freq1p0_60.pickle\n",
        "Reading /home/AD/cesc235/wholecell_new3/asdf/wholecell/mouse_leak1p20x_SERCAuptake0p50x_freq1p0_60.pickle\n",
        "# "
       ]
      },
      {
       "output_type": "stream",
       "stream": "stdout",
       "text": [
        " baseline\n",
        "Loading  /home/AD/cesc235/wholecell_new3/asdf/wholecell/mouse_leak1p00x_SERCAuptake1p00x_freq1p0_60.pickle\n",
        "Reading /home/AD/cesc235/wholecell_new3/asdf/wholecell/mouse_leak1p00x_SERCAuptake1p00x_freq1p0_60.pickle\n"
       ]
      }
     ],
     "prompt_number": 4
    },
    {
     "cell_type": "code",
     "collapsed": false,
     "input": [],
     "language": "python",
     "metadata": {},
     "outputs": []
    },
    {
     "cell_type": "markdown",
     "metadata": {},
     "source": [
      "### Plot top twenty states based on their mean value "
     ]
    },
    {
     "cell_type": "code",
     "collapsed": false,
     "input": [
      "indSS = [5e3,15e3]\n",
      "xlim = indSS\n",
      "dummy = ao.StateDecompositionAnalysis(cases,wanted1=\"baseline\",wanted2=\"amy\",\n",
      "                                      indSS=indSS,xlim=xlim,ranked=15,sortby=\"max\",doPlot=False)"
     ],
     "language": "python",
     "metadata": {},
     "outputs": [
      {
       "output_type": "stream",
       "stream": "stdout",
       "text": [
        "Selecting  baseline\n",
        "Selecting  amy\n",
        "#  amy\n",
        "Loading  /home/AD/cesc235/wholecell_new3/asdf/wholecell/mouse_leak1p20x_SERCAuptake1p00x_freq1p0_60.pickle\n",
        "Skipping read, since already populated\n",
        "#  Baseline\n",
        "Loading  /home/AD/cesc235/wholecell_new3/asdf/wholecell/mouse_leak1p00x_SERCAuptake1p00x_freq1p0_60.pickle\n",
        "Skipping read, since already populated\n",
        "/home/AD/cesc235/wholecell_new3/asdf/wholecell/mouse_leak1p20x_SERCAuptake1p00x_freq1p0_60.pickle\n",
        "/home/AD/cesc235/wholecell_new3/asdf/wholecell/mouse_leak1p00x_SERCAuptake1p00x_freq1p0_60.pickle"
       ]
      },
      {
       "output_type": "stream",
       "stream": "stdout",
       "text": [
        "\n",
        "MAX I                    0 6.6e-02 1 7.1e-02 [6.9] "
       ]
      },
      {
       "output_type": "stream",
       "stream": "stdout",
       "text": [
        "\n",
        "MAX O                    0 1.1e-02 1 1.1e-02 [5.4] \n",
        "MAX Ca_SL                0 7.6e-03 1 7.9e-03 [4.8] \n",
        "MAX Cai                  0 4.8e-04 1 5.1e-04 [4.5] \n",
        "MAX Ca_jct1              0 1.5e-01 1 1.6e-01 [4.2] \n",
        "MAX Ca_Calmodulin        0 1.5e-03 1 1.6e-03 [4.2] \n",
        "MAX Ca_SLB_SL            0 4.5e-01 1 4.6e-01 [3.0] \n",
        "MAX Ca_TroponinC         0 2.7e-02 1 2.8e-02 [2.9] \n",
        "MAX fCaB_SL              0 2.4e-01 1 2.5e-01 [2.9] \n",
        "MAX Ca_SRB               0 7.4e-03 1 7.6e-03 [2.6] \n",
        "MAX Ca_Myosin            0 1.9e-03 1 1.9e-03 [1.2] \n",
        "MAX Ca_SR                0 5.7e-01 1 5.7e-01 [1.1] \n",
        "MAX Y_tof                0 8.4e-01 1 8.5e-01 [1.0] \n",
        "MAX fCaB_jct1            0 7.5e-01 1 7.6e-01 [0.9] \n",
        "MAX R                    0 8.0e-01 1 8.0e-01 [-0.8] \n"
       ]
      },
      {
       "metadata": {},
       "output_type": "display_data",
       "text": [
        "<matplotlib.figure.Figure at 0x7f6c5891cfd0>"
       ]
      },
      {
       "metadata": {},
       "output_type": "display_data",
       "png": "[encoded data removed]",
       "text": [
        "<matplotlib.figure.Figure at 0x7f6c57fbd350>"
       ]
      }
     ],
     "prompt_number": 59
    },
    {
     "cell_type": "markdown",
     "metadata": {},
     "source": [
      "### Plot all fluxes by amplitude\n",
      "Skip fluxes that are not i or j or fluxes that contain SL, jct1"
     ]
    },
    {
     "cell_type": "code",
     "collapsed": false,
     "input": [
      "allList = cases['baseline'].data['j_idx']\n",
      "ignoreList = [s for s in allList if \n",
      "              \"i_\" not in s and \n",
      "              \"j_\" not in s ]\n",
      "\n",
      "birds = [s for s in allList if \n",
      "             \"_SL\"  in s or \n",
      "              \"_jct1\"  in s]\n",
      "ignoreList = ignoreList + birds\n",
      "#print poop\n",
      "print ignoreList\n"
     ],
     "language": "python",
     "metadata": {},
     "outputs": [
      {
       "output_type": "stream",
       "stream": "stdout",
       "text": [
        "['Vol_Cell', 'Vol_SR', 'Vol_SL', 'Vol_jct1', 'Vol_myo', 'E_Na_jct1', 'E_Na_SL', 'E_Ca_jct1', 'E_Ca_SL', 'E_K', 'E_Cl', 'openProb', 'alpha_h', 'beta_h', 'alpha_j', 'beta_j', 'alpha_m', 'beta_m', 'sigma', 'f_NaK', 'Xr_infinity', 'tau_Xr', 'Rr', 'pCa_jct1', 'pCa_SL', 'G_Ks_jct1', 'G_Ks_SL', 'E_Ks', 'Xs_infinity', 'tau_Xs', 'X_Kur_slowss', 'tau_Xkur', 'Y_Kur_slowss', 'tau_Ykur1', 'tau_Ykur2', 'a_Kur', 'fIKuravail', 'xssss', 'tauxss', 'X_tos_infinity', 'tau_X_tos', 'Y_tos_infinity', 'tau_Y_tos', 'R_tos_infinity', 'tau_R_tos', 'X_tof_infinity', 'tau_X_tof', 'Y_tof_infinity', 'tau_Y_tof', 'alpha_K1', 'beta_K1', 'K1_infinity', 'd_infinity', 'tau_d', 'f_infinity', 'tau_f', 'fCa_SL', 'fCa_jct1', 'temp_jct1', 'temp_SL', 'Q_NCX', 'Ka_SL', 'Ka_jct1', 'Q_SLCaP', 'kCaSR', 'koSRCa', 'kiSRCa', 'RI', 'Q_SRCaP', 'J_Na_jct1_SL', 'J_Na_SL_myo', 'J_Ca_jct1_SL', 'J_Ca_SL_myo', 'dCa_TroponinC', 'dCa_TroponinC_Ca_Mg', 'dMg_TroponinC_Ca_Mg', 'dCa_Calmodulin', 'dCa_Myosin', 'dMg_Myosin', 'dCa_SRB', 'dCa_cytosol_tot_bound', 'G_IKr', 'G_K1', 'Q_CaL', 'temp', 'dNa_jct1_buf', 'dNa_SL_buf', 'dCalsequestrin', 'dCa_SLB_SL', 'dCa_SLB_jct1', 'dCa_SLHigh_SL', 'dCa_SLHigh_jct1', 'dCa_jct1_tot_bound', 'dCa_SL_tot_bound', 'Vol_SL', 'Vol_jct1', 'E_Na_jct1', 'E_Na_SL', 'E_Ca_jct1', 'E_Ca_SL', 'i_Na_jct1', 'i_Na_SL', 'i_Nab_jct1', 'i_Nab_SL', 'i_NaK_jct1', 'i_NaK_SL', 'pCa_jct1', 'pCa_SL', 'G_Ks_jct1', 'G_Ks_SL', 'i_Ks_jct1', 'i_Ks_SL', 'fCa_SL', 'fCa_jct1', 'temp_jct1', 'temp_SL', 'Ka_SL', 'Ka_jct1', 'i_NaCa_jct1', 'i_NaCa_SL', 'Q_SLCaP', 'i_Cap_jct1', 'i_Cap_SL', 'i_Cab_jct1', 'i_Cab_SL', 'J_Na_jct1_SL', 'J_Na_SL_myo', 'J_Ca_jct1_SL', 'J_Ca_SL_myo', 'i_CaL_Ca_jct1', 'i_CaL_Na_jct1', 'i_CaL_Ca_SL', 'i_CaL_Na_SL', 'dNa_jct1_buf', 'dNa_SL_buf', 'dCa_SLB_SL', 'dCa_SLB_jct1', 'dCa_SLHigh_SL', 'dCa_SLHigh_jct1', 'dCa_jct1_tot_bound', 'dCa_SL_tot_bound', 'i_Ca_jct1_tot', 'i_Ca_SL_tot']\n"
       ]
      }
     ],
     "prompt_number": 60
    },
    {
     "cell_type": "code",
     "collapsed": false,
     "input": [
      "indSS = [5e3,15e3]\n",
      "sortby=\"amp\"\n",
      "xlim = [5e3,7e3]\n",
      "\n",
      "# compare baseline with other\n",
      "caseComp1 = ao.StateDecompositionAnalysis(cases,wanted1=\"baseline\",wanted2=\"amy\",mode=\"fluxes\",\n",
      "                              indSS=indSS,xlim=xlim,ranked=15,sortby=sortby,ignoreList=ignoreList)#,doPlot=True)\n",
      "\n",
      "\n",
      "bestidx = cases['amy'].bestidx\n",
      "#print bestidx\n",
      "#print cases['amy'].bestvalues\n",
      "#l = cases['amy'].data['j_idx']\n",
      "#print \"check\", [l[s] for s in bestidx]\n",
      "#print cases['baseline'].amp[bestidx]"
     ],
     "language": "python",
     "metadata": {},
     "outputs": [
      {
       "output_type": "stream",
       "stream": "stdout",
       "text": [
        "Selecting  baseline\n",
        "Selecting  amy\n",
        "#  amy\n",
        "Loading  /home/AD/cesc235/wholecell_new3/asdf/wholecell/mouse_leak1p20x_SERCAuptake1p00x_freq1p0_60.pickle\n",
        "Skipping read, since already populated\n",
        "#  Baseline\n",
        "Loading  /home/AD/cesc235/wholecell_new3/asdf/wholecell/mouse_leak1p00x_SERCAuptake1p00x_freq1p0_60.pickle\n",
        "Skipping read, since already populated\n",
        "/home/AD/cesc235/wholecell_new3/asdf/wholecell/mouse_leak1p20x_SERCAuptake1p00x_freq1p0_60.pickle\n",
        "/home/AD/cesc235/wholecell_new3/asdf/wholecell/mouse_leak1p00x_SERCAuptake1p00x_freq1p0_60.pickle"
       ]
      },
      {
       "output_type": "stream",
       "stream": "stdout",
       "text": [
        "\n",
        "AMP  i_Nab                0 1.6e-01 = (-4.6e-02 - -2.0e-01) 1 1.9e-01 [19.6] "
       ]
      },
      {
       "output_type": "stream",
       "stream": "stdout",
       "text": [
        "\n",
        "AMP  i_Cab                0 9.1e-02 = (-5.8e-02 - -1.5e-01) 1 1.1e-01 [19.3] \n",
        "AMP  i_Na                 0 2.6e+02 = (-5.1e-08 - -2.6e+02) 1 2.4e+02 [-7.3] \n",
        "AMP  j_rel_SR             0 9.3e-02 = (9.3e-02 - 2.1e-05) 1 9.8e-02 [4.8] \n",
        "AMP  j_leak_SR            0 2.8e-06 = (6.1e-06 - 3.3e-06) 1 2.9e-06 [2.9] \n",
        "AMP  j_pump_SR            0 4.6e-03 = (4.8e-03 - 2.1e-04) 1 4.7e-03 [2.2] \n",
        "AMP  i_Cl_Ca              0 7.9e-01 = (7.0e-01 - -9.2e-02) 1 8.0e-01 [1.7] \n",
        "AMP  i_Cap                0 5.5e-02 = (6.7e-02 - 1.2e-02) 1 5.4e-02 [-1.5] \n",
        "AMP  i_tof                0 3.8e+01 = (3.8e+01 - 1.4e-03) 1 3.8e+01 [1.0] \n",
        "AMP  i_Kp                 0 1.3e-02 = (1.3e-02 - 1.1e-12) 1 1.3e-02 [1.0] \n",
        "AMP  i_CaL_K              0 1.8e+00 = (1.8e+00 - 2.2e-07) 1 1.7e+00 [-0.7] \n",
        "AMP  i_NaK                0 2.1e-01 = (4.2e-01 - 2.1e-01) 1 2.1e-01 [-0.5] \n",
        "AMP  i_NaCa               0 7.8e-01 = (5.5e-02 - -7.3e-01) 1 7.8e-01 [0.4] \n",
        "AMP  i_Clb                0 1.0e+00 = (8.5e-01 - -2.0e-01) 1 1.0e+00 [-0.3] \n",
        "AMP  i_kur2               0 8.4e+00 = (8.4e+00 - 2.2e-03) 1 8.4e+00 [0.3] \n"
       ]
      },
      {
       "metadata": {},
       "output_type": "display_data",
       "text": [
        "<matplotlib.figure.Figure at 0x7f6c58b21610>"
       ]
      },
      {
       "metadata": {},
       "output_type": "display_data",
       "png": "[encoded data removed]",
       "text": [
        "<matplotlib.figure.Figure at 0x7f6c5891ced0>"
       ]
      }
     ],
     "prompt_number": 61
    },
    {
     "cell_type": "code",
     "collapsed": false,
     "input": [
      "# second comparison\n",
      "caseComp2 = ao.StateDecompositionAnalysis(cases,wanted1=\"baseline\",wanted2=\"hip\",mode=\"fluxes\",\n",
      "                              indSS=indSS,xlim=xlim,ranked=15,sortby=sortby,ignoreList=ignoreList)#,doPlot=True)\n",
      "\n",
      "l = cases['hip'].data['j_idx']\n",
      "print \"check\", [l[s] for s in bestidx]\n",
      "print cases['hip'].amp[bestidx]"
     ],
     "language": "python",
     "metadata": {},
     "outputs": [
      {
       "output_type": "stream",
       "stream": "stdout",
       "text": [
        "Selecting  baseline\n",
        "Selecting  hip\n",
        "#  HIP\n",
        "Loading  /home/AD/cesc235/wholecell_new3/asdf/wholecell/mouse_leak1p20x_SERCAuptake0p50x_freq1p0_60.pickle\n",
        "Skipping read, since already populated\n",
        "#  Baseline\n",
        "Loading  /home/AD/cesc235/wholecell_new3/asdf/wholecell/mouse_leak1p00x_SERCAuptake1p00x_freq1p0_60.pickle\n",
        "Skipping read, since already populated\n",
        "/home/AD/cesc235/wholecell_new3/asdf/wholecell/mouse_leak1p20x_SERCAuptake0p50x_freq1p0_60.pickle\n",
        "/home/AD/cesc235/wholecell_new3/asdf/wholecell/mouse_leak1p00x_SERCAuptake1p00x_freq1p0_60.pickle"
       ]
      },
      {
       "output_type": "stream",
       "stream": "stdout",
       "text": [
        "\n",
        "AMP  j_pump_SR            0 4.6e-03 = (4.8e-03 - 2.1e-04) 1 2.2e-03 [-52.8] "
       ]
      },
      {
       "output_type": "stream",
       "stream": "stdout",
       "text": [
        "\n",
        "AMP  j_rel_SR             0 9.3e-02 = (9.3e-02 - 2.1e-05) 1 6.4e-02 [-30.9] \n",
        "AMP  i_Nab                0 1.6e-01 = (-4.6e-02 - -2.0e-01) 1 1.9e-01 [19.5] \n",
        "AMP  i_Cab                0 9.1e-02 = (-5.8e-02 - -1.5e-01) 1 1.1e-01 [19.2] \n",
        "AMP  i_Cl_Ca              0 7.9e-01 = (7.0e-01 - -9.2e-02) 1 6.8e-01 [-14.4] \n",
        "AMP  j_leak_SR            0 2.8e-06 = (6.1e-06 - 3.3e-06) 1 2.5e-06 [-10.8] \n",
        "AMP  i_Na                 0 2.6e+02 = (-5.1e-08 - -2.6e+02) 1 2.4e+02 [-6.5] \n",
        "AMP  i_NaCa               0 7.8e-01 = (5.5e-02 - -7.3e-01) 1 7.5e-01 [-4.1] \n",
        "AMP  i_Kr                 0 1.5e-01 = (1.5e-01 - 7.0e-04) 1 1.6e-01 [4.0] \n",
        "AMP  i_Cap                0 5.5e-02 = (6.7e-02 - 1.2e-02) 1 5.3e-02 [-3.7] \n",
        "AMP  i_ss                 0 1.3e+00 = (1.3e+00 - 2.5e-03) 1 1.4e+00 [2.4] \n",
        "AMP  i_tof                0 3.8e+01 = (3.8e+01 - 1.4e-03) 1 3.8e+01 [1.0] \n",
        "AMP  i_CaL_K              0 1.8e+00 = (1.8e+00 - 2.2e-07) 1 1.7e+00 [-0.7] \n",
        "AMP  i_Kp                 0 1.3e-02 = (1.3e-02 - 1.1e-12) 1 1.3e-02 [0.6] \n",
        "AMP  i_NaK                0 2.1e-01 = (4.2e-01 - 2.1e-01) 1 2.1e-01 [-0.4] \n",
        "check"
       ]
      },
      {
       "output_type": "stream",
       "stream": "stdout",
       "text": [
        " ['i_Nab', 'i_Cab', 'i_Na', 'j_rel_SR', 'j_leak_SR', 'j_pump_SR', 'i_Cl_Ca', 'i_Cap', 'i_tof', 'i_Kp', 'i_CaL_K', 'i_NaK', 'i_NaCa', 'i_Clb', 'i_kur2']\n",
        "[  1.86796022e-01   1.08983397e-01   2.44237922e+02   6.44598505e-02\n",
        "   2.51552178e-06   2.16376047e-03   6.76399212e-01   5.25149428e-02\n",
        "   3.81368902e+01   1.33505088e-02   1.74130102e+00   2.10441090e-01\n",
        "   7.48537773e-01   1.04085152e+00   8.41003582e+00]\n"
       ]
      },
      {
       "metadata": {},
       "output_type": "display_data",
       "text": [
        "<matplotlib.figure.Figure at 0x7f6c58953c10>"
       ]
      },
      {
       "metadata": {},
       "output_type": "display_data",
       "png": "[encoded data removed]",
       "text": [
        "<matplotlib.figure.Figure at 0x7f6c582a8b50>"
       ]
      }
     ],
     "prompt_number": 54
    },
    {
     "cell_type": "markdown",
     "metadata": {},
     "source": [
      "### Compare three cases\n"
     ]
    },
    {
     "cell_type": "code",
     "collapsed": false,
     "input": [
      "# display according to 'amy' ranking\n",
      "bestidx = cases['amy'].bestidx\n",
      "bestvalues = cases['amy'].bestvalues\n",
      "cases['baseline'].color = 'r'\n",
      "cases['amy'].color='b'\n",
      "cases['hip'].color='g'\n",
      "\n",
      "daCases = [ \n",
      "  cases['baseline'],cases['amy'],cases['hip']]#,\n",
      "  #cases['other']] # copy of the second entry to show we can plot an arbitrary number of cases\n",
      "\n",
      "width= 1/np.float(len(daCases)+1)\n",
      "\n",
      "stored = len(bestidx)\n",
      "\n",
      "\n",
      "if 1: \n",
      "  ## Plot comparative data \n",
      "  \n",
      "  plt.figure()\n",
      "  fig, ax = plt.subplots()\n",
      "  ind = np.arange(stored)\n",
      "\n",
      "   \n",
      "\n",
      "  # bar plot \n",
      "  darects=[]  \n",
      "  dalabels=[]  \n",
      "  for i,daCase in enumerate(daCases):  \n",
      "      if sortby==\"max\":  \n",
      "        rects = ax.bar(ind+i*width, daCase.maxn[bestidx], width,color=daCase.color)\n",
      "      elif sortby==\"amp\":  \n",
      "        rects = ax.bar(ind+i*width, daCase.ampn[bestidx], width,color=daCase.color)\n",
      "            \n",
      "      darects.append(rects[0])\n",
      "      dalabels.append(daCase.label)  \n",
      "\n",
      "\n",
      "  ax.set_xticks(ind+width)\n",
      "  ax.set_xticklabels( bestvalues,rotation=90 )\n",
      "\n",
      "\n",
      "  lb1 =caseComp1[0].label\n",
      "  lb2= caseComp1[1].label\n",
      "  lb3= caseComp2[1].label  \n",
      "  plt.title(dalabels)#+sortby)\n",
      "  ax.legend( darects,dalabels,loc=4)      \n",
      "  ax.set_ylabel(\"fold chg wrt WT\")\n",
      "  plt.tight_layout()\n",
      "  plt.gcf().savefig(\"/net//share/shared/papers/despa/ampcomp.png\",dpi=300)\n"
     ],
     "language": "python",
     "metadata": {},
     "outputs": [
      {
       "metadata": {},
       "output_type": "display_data",
       "text": [
        "<matplotlib.figure.Figure at 0x7f6c582e7990>"
       ]
      },
      {
       "metadata": {},
       "output_type": "display_data",
       "png": "[encoded data removed]",
       "text": [
        "<matplotlib.figure.Figure at 0x7f6c582e7f50>"
       ]
      }
     ],
     "prompt_number": 62
    },
    {
     "cell_type": "code",
     "collapsed": false,
     "input": [],
     "language": "python",
     "metadata": {},
     "outputs": []
    }
   ],
   "metadata": {}
  }
 ]
}